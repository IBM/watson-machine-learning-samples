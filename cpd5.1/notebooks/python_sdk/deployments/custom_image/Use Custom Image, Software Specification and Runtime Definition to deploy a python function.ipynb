{
  "cells": [
    {
      "cell_type": "markdown",
      "id": "cc540768-254b-4e2d-8d14-0b0b49e70636",
      "metadata": {
        "id": "744a342f-dbc0-459a-a546-e52915fbc86e"
      },
      "source": [
        "# Use Custom Image, Software Specification and Runtime Definition to deploy a python function with `ibm-watsonx-ai`"
      ]
    },
    {
      "cell_type": "markdown",
      "id": "4dab2669-410f-4ddd-8054-aa6e10ca5b34",
      "metadata": {
        "id": "2bb1db95-b22c-4ad3-9d2e-df2ef555202a"
      },
      "source": [
        "This notebook demonstrates how to deploy in Watson Machine Learning service a python function which requires to create custom software specification and runtime definition.  \n",
        "Familiarity with oc and python is helpful. This notebook uses Python 3.11.\n",
        "\n",
        "\n",
        "## Learning goals\n",
        "\n",
        "The learning goals of this notebook are:\n",
        "-  Creating a Custom Image\n",
        "-  Creating custom software specification and runtime definition\n",
        "-  Online deployment of python function\n",
        "-  Scoring data using deployed function\n",
        "\n",
        "## Contents\n",
        "\n",
        "This notebook contains the following parts:\n",
        "\n",
        "1. [Setup](#setup)\n",
        "2. [Create custom image](#image)\n",
        "3. [Create software specification](#soft)\n",
        "4. [Create runtime definition](#runtime) \n",
        "5. [Web service creation and scoring](#deploy)\n",
        "6. [Clean up](#cleanup)\n",
        "7. [Summary and next steps](#summary)"
      ]
    },
    {
      "cell_type": "markdown",
      "id": "99f733fa-ca89-445a-9925-58042136194f",
      "metadata": {
        "id": "b3f627ea-25ad-4f23-b2be-be6ad7b97015"
      },
      "source": [
        "<a id=\"setup\"></a>\n",
        "## 1. Set up the environment\n",
        "\n",
        "Required Role: You must be a Cloud Pak for Data **Cluster Administrator**"
      ]
    },
    {
      "cell_type": "markdown",
      "id": "150a3a65-891c-438a-9dc3-b94e104aeb30",
      "metadata": {
        "id": "fc5135d4-9a38-4964-a358-31451791817b"
      },
      "source": [
        "#### Credentials\n",
        "\n",
        "Authenticate the Watson Machine Learning service on IBM Cloud Pack for Data. You need to provide platform `url`, the **admin** `username` and `api_key` or `password`"
      ]
    },
    {
      "cell_type": "code",
      "execution_count": null,
      "id": "e1924592",
      "metadata": {
        "id": "44266905-ea78-4dc0-88c1-7e19043a756a"
      },
      "outputs": [],
      "source": [
        "username = 'PASTE YOUR USERNAME HERE' \n",
        "api_key = 'PASTE YOUR API_KEY HERE'\n",
        "password = 'PASTE YOUR PASSWORD HERE'\n",
        "url = 'PASTE THE PLATFORM URL HERE'"
      ]
    },
    {
      "cell_type": "code",
      "execution_count": null,
      "id": "b1090f61-f1f7-4939-8e35-c5e4f5478f51",
      "metadata": {
        "id": "88848ee8-b91f-442c-bd0e-ee5696cb25fa"
      },
      "outputs": [],
      "source": [
        "wml_credentials = {\n",
        "    \"username\": username,\n",
        "    \"password\": password,\n",
        "    \"url\": url,\n",
        "    \"instance_id\": 'openshift',\n",
        "    \"version\": '5.1'\n",
        "}"
      ]
    },
    {
      "cell_type": "code",
      "execution_count": 3,
      "id": "df881967",
      "metadata": {
        "id": "aebecec2-378a-43df-bd47-c3c89482ce2c"
      },
      "outputs": [],
      "source": [
        "CPDHOST = url"
      ]
    },
    {
      "cell_type": "markdown",
      "id": "f7cf306f-77e9-4dbc-b405-4e0d6df49ec8",
      "metadata": {
        "id": "61c3afb9-bfc4-4ea2-b18c-501c46a7e8d8"
      },
      "source": [
        "### Install and import the `ibm-watsonx-ai` and dependecies\n",
        "**Note:** `ibm-watsonx-ai` documentation can be found <a href=\"https://ibm.github.io/watsonx-ai-python-sdk/index.html\" target=\"_blank\" rel=\"noopener no referrer\">here</a>."
      ]
    },
    {
      "cell_type": "code",
      "execution_count": null,
      "id": "fd3c05d6",
      "metadata": {
        "id": "a791b1fd-8e0a-4214-84b9-ef7d0b4132b0"
      },
      "outputs": [],
      "source": [
        "!pip install -U ibm-watsonx-ai | tail -n 1"
      ]
    },
    {
      "cell_type": "code",
      "execution_count": 5,
      "id": "1f5910ca-1350-4b44-8454-8479270dae1b",
      "metadata": {
        "id": "e4ef7139-ae6b-45dc-9d04-4b5a6e934670"
      },
      "outputs": [],
      "source": [
        "from ibm_watsonx_ai import APIClient\n",
        "\n",
        "client = APIClient(wml_credentials)"
      ]
    },
    {
      "cell_type": "markdown",
      "id": "3b7281c5-58f4-48c1-ab14-8110a7424a56",
      "metadata": {
        "id": "c44abd79-0156-410c-85ba-903b4e040b4d"
      },
      "source": [
        "<a id=\"image\"></a>\n",
        "## 2. Create a Custom Image"
      ]
    },
    {
      "cell_type": "markdown",
      "id": "d8532a94",
      "metadata": {
        "id": "d1ebc55d-517c-4623-8997-1d3501f2b97f"
      },
      "source": [
        "The Creation of the custom image involves the following steps, not all of which can be done from a notebook.\n",
        "It involves:-\n",
        "- **Downloading the runtime definition and getting the runtime image** , This can be done from the notebook as shown later\n",
        "- **Pulling, building, pushing docker images** which cannot be done from the notebook. It must be done in a machine which have access to docker or podman\n",
        "\n",
        "See https://www.ibm.com/docs/en/cloud-paks/cp-data/5.1.x?topic=runtimes-building-deployment-runtime-images for details.\n"
      ]
    },
    {
      "cell_type": "markdown",
      "id": "8f2aa98a",
      "metadata": {
        "id": "028c169b-2de0-4cc0-89fc-97ecef5d5cee"
      },
      "source": [
        "### generating auth tokens"
      ]
    },
    {
      "cell_type": "code",
      "execution_count": 7,
      "id": "fdb75724",
      "metadata": {
        "id": "df7fc9f7-35eb-4328-b23a-d6cd3e44bf74"
      },
      "outputs": [],
      "source": [
        "import requests, json\n",
        "import urllib3\n",
        "urllib3.disable_warnings(urllib3.exceptions.InsecureRequestWarning)"
      ]
    },
    {
      "cell_type": "code",
      "execution_count": 8,
      "id": "082634bd",
      "metadata": {
        "id": "eca510c5-cc20-4e12-b65a-0f84a58ca443"
      },
      "outputs": [],
      "source": [
        "headers={'Authorization': f'Bearer {client._get_icptoken()}',\n",
        "         'Content-Type': 'application/json'}\n",
        "VERSION = '2022-02-01'"
      ]
    },
    {
      "cell_type": "markdown",
      "id": "d070c891",
      "metadata": {
        "id": "a8253ac0cd1e473d88345e33cc875201"
      },
      "source": [
        "### Download the runtime definition and getting the runtime image"
      ]
    },
    {
      "cell_type": "markdown",
      "id": "8b2a151d",
      "metadata": {
        "id": "91518a2143a44f48877c3a0f2229600f"
      },
      "source": [
        "In this notebook we choose `runtime-24.1-py3.11` See https://www.ibm.com/docs/en/cloud-paks/cp-data/5.1.x?topic=images-downloading-runtime-definition for details"
      ]
    },
    {
      "cell_type": "code",
      "execution_count": 10,
      "id": "036ad1c7",
      "metadata": {
        "id": "6aae6e1e-8793-4533-9225-376e4b9ca1b2"
      },
      "outputs": [],
      "source": [
        "runtime_definition_name = \"runtime-24.1-py3.11\""
      ]
    },
    {
      "cell_type": "code",
      "execution_count": 11,
      "id": "b9fec096",
      "metadata": {
        "id": "4f2f5546-489a-4356-be6a-afcb6e11d8e6"
      },
      "outputs": [
        {
          "name": "stdout",
          "output_type": "stream",
          "text": [
            "Successfully fetched the Runtime Definition: runtime-24.1-py3.11\n"
          ]
        }
      ],
      "source": [
        "import json\n",
        "\n",
        "response = requests.get(\n",
        "    f\"{url}/v2/runtime_definitions?include=launch_configuration\",\n",
        "    headers=headers,\n",
        "    verify=False\n",
        ")\n",
        "\n",
        "for r in response.json()[\"resources\"]:\n",
        "    if r[\"entity\"][\"name\"] != runtime_definition_name:\n",
        "        continue\n",
        "    template_runtime_definition = r[\"entity\"]\n",
        "    print(f\"Successfully fetched the Runtime Definition: {runtime_definition_name}\")\n",
        "    "
      ]
    },
    {
      "cell_type": "markdown",
      "id": "c1580385",
      "metadata": {
        "id": "2f6a5424-bca7-4523-91ba-e9c6d2d03c8e"
      },
      "source": [
        "The required base image will be in the key `.launch_configuration.image` from the runtime definition we just downloaded"
      ]
    },
    {
      "cell_type": "code",
      "execution_count": 12,
      "id": "59988de9",
      "metadata": {
        "id": "2fe4c125-8076-4bfa-a82d-749fac2125f3"
      },
      "outputs": [
        {
          "name": "stdout",
          "output_type": "stream",
          "text": [
            "required base image:\n",
            "\tcp.icr.io/cp/cpd/wml-dep-rt-241-py@sha256:5685dd4b3b9c5e8cca91b6dac7b01128e0e08eacf65b9f7c882ae01e1c36a190\n"
          ]
        }
      ],
      "source": [
        "print(f\"required base image:\\n\\t{template_runtime_definition['launch_configuration']['image']}\")"
      ]
    },
    {
      "cell_type": "markdown",
      "id": "060c7e1c",
      "metadata": {
        "id": "bd040046-0872-4054-b7a4-b583f3558bf0"
      },
      "source": [
        "### Pulling, building, pushing docker images\n",
        "These steps cannot be run from a notebook, and need to be done in a machine which have access to docker or podman. See https://www.ibm.com/docs/en/cloud-paks/cp-data/5.1.x?topic=runtimes-building-deployment-runtime-images for more details.\n",
        "\n",
        "#### Download the runtime image for customization\n",
        "\n",
        "If you have access to the IBM Entitled registry URL, you can download the base image directly from the above, else you need to download from private container registry used at the time of installation.\n",
        "The base image:\n",
        "```bash\n",
        "BASE_IMAGE=\"cp.stg.icr.io/cp/cpd/wml-dep-rt-241-py@sha256:5685dd4b3b9c5e8cca91b6dac7b01128e0e08eacf65b9f7c882ae01e1c36a190\"\n",
        "```\n",
        "registry login and pulling the image:\n",
        "```bash\n",
        "podman login -u <user> -p <password> cp.stg.icr.io/cp/cpd/\n",
        "podman pull $BASE_IMAGE\n",
        "```\n",
        "\n",
        "\n",
        "####  Creating and uploading a custom image\n",
        "##### Building the custom image\n",
        "Dockerfile sample for this example is as below. We are going to install the program `jq` as well as the python package `pendulum` here. This needs to use the conda environment pointed by the variable `WML_CONDA_ENV_NAME` already available in the base image. `microdnf` can be used to install system packages\n",
        "\n",
        "```Dockerfile\n",
        "ARG  base_image_tag\n",
        "FROM ${base_image_tag}\n",
        "\n",
        "# For installing system packages, use root:root\n",
        "# e.g.\n",
        "USER root:root\n",
        "RUN microdnf install -y jq\n",
        "\n",
        "# For installing to conda site-packages,\n",
        "# use wsbuild:wsbuild\n",
        "# e.g.\n",
        "USER wsbuild:wsbuild\n",
        "RUN source activate $WML_CONDA_ENV_NAME && \\\n",
        "   pip install pendulum\n",
        "USER wsuser:wscommon\n",
        "\n",
        "```\n",
        "\n",
        "Build the custom image `wml-demo-image:test-1`:\n",
        "```bash\n",
        "podman build -t wml-demo-image:test-1 \\\n",
        "    --build-arg base_image_tag=$BASE_IMAGE \\\n",
        "    -f Dockerfile\n",
        "```\n",
        "\n",
        "Some sanity checks on image for this example. You can run the following, which should print the package version\n",
        "```bash\n",
        "podman run wml-demo-image:test-1 jq --version\n",
        "    \n",
        "podman run wml-demo-image:test-1 bash -c 'source activate $WML_CONDA_ENV_NAME;pip show pendulum'\n",
        "```\n",
        "\n",
        "##### Uploading the custom image\n",
        "\n",
        "Push the custom image to the private container registry\n",
        "```bash\n",
        "# e.g\n",
        "podman login -u <user> -p <password> cp.stg.icr.io/cp/cpd/\n",
        "podman tag wml-demo-image:test-1 cp.stg.icr.io/cp/cpd/wml-demo-image:test-1\n",
        "podman push cp.stg.icr.io/cp/cpd/wml-demo-image:test-1\n",
        "\n",
        "```\n",
        "    \n",
        "Required custom image: `cp.stg.icr.io/cp/cpd/wml-demo-image:test-1`\n"
      ]
    },
    {
      "cell_type": "markdown",
      "id": "eabf99a6",
      "metadata": {
        "id": "8efa95d9-8961-4997-b745-d33486e045c1"
      },
      "source": [
        "<a id='soft'></a>\n",
        "# 3. Create a software specification for the custom image\n",
        "\n",
        "Creation of software specification require uploading of the file to certain path in the PVC `cc-home-pvc`. We will use Volume Service APIs to do this."
      ]
    },
    {
      "cell_type": "markdown",
      "id": "79e9e8a9",
      "metadata": {
        "id": "6b8ebe78-2672-4310-af78-01007358c36e"
      },
      "source": [
        "### Create a Volume service instance"
      ]
    },
    {
      "cell_type": "markdown",
      "id": "f9a7623a",
      "metadata": {
        "id": "231a0bac-02a1-4163-ad70-6d8529a67158"
      },
      "source": [
        "`namespace` here is where cc-home-pvc lives\n",
        "`oc get pvc -A | grep cc-home-pvc`"
      ]
    },
    {
      "cell_type": "code",
      "execution_count": 13,
      "id": "6ba803c2",
      "metadata": {
        "id": "fb8fa7e6-f278-4ac3-b0a2-75ea8bda7ae1"
      },
      "outputs": [],
      "source": [
        "# name for this Vol Service instance, you can give any name of choice\n",
        "display_name='CCHome'\n",
        "\n",
        "# namespace here is where cc-home-pvc lives `oc get pvc -A | grep cc-home-pvc`\n",
        "namespace=\"PASTE THE REQUIRED NAMESPACE HERE\""
      ]
    },
    {
      "cell_type": "code",
      "execution_count": 14,
      "id": "28b535b9",
      "metadata": {
        "id": "e6da1e99-1311-43c6-af37-744a26d71c43"
      },
      "outputs": [
        {
          "data": {
            "text/plain": [
              "(200, {'id': '1721129241128898'})"
            ]
          },
          "execution_count": 14,
          "metadata": {},
          "output_type": "execute_result"
        }
      ],
      "source": [
        "response = requests.post(\n",
        "    CPDHOST + '/zen-data/v3/service_instances',\n",
        "    headers=headers,\n",
        "    json={\n",
        "        \"addon_type\": \"volumes\",\n",
        "        \"addon_version\": \"-\",\n",
        "        \"create_arguments\": {\n",
        "            \"metadata\": {\n",
        "                \"existing_pvc_name\": \"cc-home-pvc\"\n",
        "            }\n",
        "        },\n",
        "        \"namespace\": namespace,\n",
        "        \"display_name\": display_name\n",
        "    },\n",
        "    verify=False)\n",
        "response.status_code, response.json()"
      ]
    },
    {
      "cell_type": "markdown",
      "id": "27596772",
      "metadata": {
        "id": "3186c418-1626-4eed-b414-0670c322da4e"
      },
      "source": [
        "### Check Volume Instances - if it is already created"
      ]
    },
    {
      "cell_type": "code",
      "execution_count": 15,
      "id": "0b11dc0b",
      "metadata": {
        "id": "66f3078e-ff83-4398-80f2-9e5a51ece247"
      },
      "outputs": [
        {
          "name": "stdout",
          "output_type": "stream",
          "text": [
            "zen::CCHome 1721129241128898 cc-home-pvc\n",
            "zen::dep-fvt 1720437437463324 None\n",
            "\n",
            "vol_svc_id: 1721129241128898\n"
          ]
        }
      ],
      "source": [
        "response = requests.get(CPDHOST + '/zen-data/v3/service_instances',\n",
        "                        headers=headers,\n",
        "                        verify=False)\n",
        "response.status_code\n",
        "vol_svc_id = None\n",
        "for svc_inst in response.json()['service_instances']:\n",
        "    print(svc_inst['display_name'], svc_inst['id'], svc_inst['metadata'].get('existing_pvc_name'))\n",
        "    if svc_inst['display_name'] == f\"{namespace}::{display_name}\":\n",
        "        vol_svc_id = svc_inst['id']\n",
        "\n",
        "assert vol_svc_id is not None\n",
        "print('\\nvol_svc_id:', vol_svc_id)"
      ]
    },
    {
      "cell_type": "markdown",
      "id": "8a900c40",
      "metadata": {
        "id": "528d0ddb-3b09-4203-a0b7-5426f6fa59c1"
      },
      "source": [
        "### Start file server on volume"
      ]
    },
    {
      "cell_type": "code",
      "execution_count": 18,
      "id": "6ffa1c8a",
      "metadata": {
        "id": "cd7310eb-6e00-406e-b9c5-11edc0b90c54"
      },
      "outputs": [
        {
          "name": "stdout",
          "output_type": "stream",
          "text": [
            "{\n",
            "  \"_messageCode_\": \"200\",\n",
            "  \"message\": \"Successfully started volume service\"\n",
            "}\n"
          ]
        }
      ],
      "source": [
        "response = requests.post(\n",
        "    CPDHOST + f'/zen-data/v1/volumes/volume_services/{namespace}::{display_name}',\n",
        "    headers=headers,\n",
        "    json={},\n",
        "    verify=False)\n",
        "print(json.dumps(response.json(), indent=2))"
      ]
    },
    {
      "cell_type": "markdown",
      "id": "64b752d1",
      "metadata": {
        "id": "cdaee7ab-4270-40ce-9859-96121c0aad62"
      },
      "source": [
        "### Create the software specification\n",
        "\n",
        "Custom Image software specification requires the following:\n",
        "- `entity.software_specification.type` have to be set to \"base\" to indicate custom image.\n",
        "- `entity.software_specification.built_in` have to be set boolean `False` to indicate custom image.\n",
        "- `entity.software_configuration.included_packages` array is informational, it can be empty list `[]` . \n",
        "- `entity.software_configuration.platform.name` should be set to `python` ."
      ]
    },
    {
      "cell_type": "code",
      "execution_count": 60,
      "id": "1242fd4d",
      "metadata": {
        "id": "8785af73-cb99-44e5-9dd8-46f0b3ec3bb8"
      },
      "outputs": [
        {
          "name": "stdout",
          "output_type": "stream",
          "text": [
            "software spec name     : cspec-demo\n",
            "software spec filename : cspec-demo.json\n"
          ]
        }
      ],
      "source": [
        "## The name of the Software Specification. You can give any name of your choice. e.g. here \"cspec-demo\". \n",
        "sw_spec_name='cspec-demo'\n",
        "\n",
        "## The python version in the image\n",
        "python_version = \"3.10\"\n",
        "\n",
        "\n",
        "sw_spec_filename=f'{sw_spec_name}.json'\n",
        "print('software spec name     :', sw_spec_name)\n",
        "print('software spec filename :', sw_spec_filename)\n",
        "\n",
        "\n",
        "sw_spec = {\n",
        "  \"metadata\": {\n",
        "    \"name\": sw_spec_name,\n",
        "    \"description\": \"Test custom image software specification\"\n",
        "  },\n",
        "  \"entity\": {\n",
        "    \"software_specification\": {\n",
        "      \"type\": \"base\",\n",
        "      \"built_in\": False,\n",
        "      \"package_extensions\": [],\n",
        "      \"display_name\": f\"Test {sw_spec_name}\",\n",
        "      \"software_configuration\": {\n",
        "        \"included_packages\": [\n",
        "          {\n",
        "            \"name\": \"pendulum\",\n",
        "            \"version\": \"3.0.0\"\n",
        "          }       \n",
        "        ],\n",
        "        \"platform\": {\n",
        "          \"name\": \"python\",\n",
        "          \"version\": python_version\n",
        "        }\n",
        "      }\n",
        "    }\n",
        "  }\n",
        "}"
      ]
    },
    {
      "cell_type": "markdown",
      "id": "ee4962f9",
      "metadata": {
        "id": "ac7f0ebe-abcf-41d5-8357-b972fc53328b"
      },
      "source": [
        "### Upload file to the specified path on the volume"
      ]
    },
    {
      "cell_type": "code",
      "execution_count": 21,
      "id": "81e9547b",
      "metadata": {
        "id": "4fc53068-2482-47cc-b556-568ca7ce25e7"
      },
      "outputs": [
        {
          "data": {
            "text/plain": [
              "'%2F_global_%2Fconfig%2Fenvironments%2Fsoftware-specifications%2Fcspec-demo.json'"
            ]
          },
          "execution_count": 21,
          "metadata": {},
          "output_type": "execute_result"
        }
      ],
      "source": [
        "target_file=f'%2F_global_%2Fconfig%2Fenvironments%2Fsoftware-specifications%2F{sw_spec_filename}'\n",
        "target_file"
      ]
    },
    {
      "cell_type": "code",
      "execution_count": 22,
      "id": "88a40efa",
      "metadata": {
        "id": "af036b39-822c-41c8-960c-7e0e178ed689"
      },
      "outputs": [
        {
          "data": {
            "text/plain": [
              "(200,\n",
              " {'_messageCode_': 'Success',\n",
              "  'message': 'Successfully uploaded file and created the directory structure'})"
            ]
          },
          "execution_count": 22,
          "metadata": {},
          "output_type": "execute_result"
        }
      ],
      "source": [
        "# multipart/form-data\n",
        "# Do not set the Content-type header yourself, leave that to pyrequests to generate\n",
        "\n",
        "response = requests.put(\n",
        "    CPDHOST + f'/zen-volumes/{display_name}/v1/volumes/files/{target_file}',\n",
        "    headers={\n",
        "        \"Authorization\": f\"Bearer {client._get_icptoken()}\",\n",
        "    },\n",
        "    files={\n",
        "        'upFile': (sw_spec_filename, json.dumps(sw_spec), 'application/json')\n",
        "    },\n",
        "    verify=False)\n",
        "response.status_code, response.json()"
      ]
    },
    {
      "cell_type": "markdown",
      "id": "00c27d48",
      "metadata": {
        "id": "17fd47e5-f084-4a47-b3ea-90e193b216a5"
      },
      "source": [
        "### We can check if the file was successfully upload"
      ]
    },
    {
      "cell_type": "code",
      "execution_count": 24,
      "id": "10311796",
      "metadata": {
        "id": "21bae66e-e2da-45e8-8be1-51141f28e3f6"
      },
      "outputs": [
        {
          "name": "stdout",
          "output_type": "stream",
          "text": [
            "Upload completed\n"
          ]
        }
      ],
      "source": [
        "response = requests.get(CPDHOST + f'/zen-volumes/{display_name}/v1/volumes/files/{target_file}',\n",
        "                        headers=headers,\n",
        "                        verify=False)\n",
        "if response.status_code == 200:\n",
        "    print(\"Upload completed\")\n",
        "else:\n",
        "    print(\"Upload error!!\", response.status_code, '\\n', json.dumps(response.json(), indent=2))"
      ]
    },
    {
      "cell_type": "markdown",
      "id": "d642ad7e",
      "metadata": {
        "id": "13a04e34-0817-4c4b-a26a-f3f1f844752a"
      },
      "source": [
        "### Wait for about 5 mins\n",
        "Refresh intervel is handled by `env-spec-sync-job` cronjob\n",
        "```\n",
        "e.g.\n",
        "oc get cronjobs env-spec-sync-job\n",
        "\n",
        "NAME                SCHEDULE      SUSPEND   ACTIVE   LAST SCHEDULE   AGE\n",
        "env-spec-sync-job   */5 * * * *   False     0        82s             23d\n",
        "```"
      ]
    },
    {
      "cell_type": "markdown",
      "id": "5348f62c",
      "metadata": {
        "id": "d25a8e3e-236e-4a5b-9b9e-46238d1bf682"
      },
      "source": [
        "### Check if the new Software Specification is activated"
      ]
    },
    {
      "cell_type": "code",
      "execution_count": 31,
      "id": "376a7948",
      "metadata": {
        "id": "cae4a61f-65e2-4c33-9d5e-21149179b5a3"
      },
      "outputs": [
        {
          "name": "stdout",
          "output_type": "stream",
          "text": [
            "Custom software specification cspec-demo is not activated yet!\n"
          ]
        }
      ],
      "source": [
        "response = requests.get(\n",
        "    CPDHOST + f'/v2/software_specifications?name={sw_spec_name}',\n",
        "    headers=headers,\n",
        "    verify=False)\n",
        "\n",
        "if response.json()[\"total_results\"] != 1:\n",
        "    print(f\"Custom software specification {sw_spec_name} is not activated yet!\")\n",
        "else:\n",
        "    print(f\"Custom software specification {sw_spec_name} is activated\")"
      ]
    },
    {
      "cell_type": "markdown",
      "id": "d4a7696f",
      "metadata": {
        "id": "7ee96c3d-037a-4a00-8962-380dec7d68de"
      },
      "source": [
        "### **Warning**: Do not proceed unless the new software specification is activated!\n",
        "\n",
        "The software specification files are processed by the cronjob, and the uploaded will be available at the endpoint \"/v2/software_specifications?name={sw_spec_name}\" when it gets processed. If it does not show up after 5 mins, recheck that software specification file if it is a valid json and re-upload"
      ]
    },
    {
      "cell_type": "code",
      "execution_count": 32,
      "id": "b5b809ed",
      "metadata": {
        "id": "201d4f1d-d23d-42bb-8b83-284dd938fb17"
      },
      "outputs": [
        {
          "name": "stdout",
          "output_type": "stream",
          "text": [
            "Custom software specification cspec-demo is activated\n"
          ]
        }
      ],
      "source": [
        "response = requests.get(\n",
        "    CPDHOST + f'/v2/software_specifications?name={sw_spec_name}',\n",
        "    headers=headers,\n",
        "    verify=False)\n",
        "\n",
        "if response.json()[\"total_results\"] != 1:\n",
        "    print(f\"Custom software specification {sw_spec_name} is not activated yet!\")\n",
        "else:\n",
        "    print(f\"Custom software specification {sw_spec_name} is activated\")"
      ]
    },
    {
      "cell_type": "markdown",
      "id": "e4b009d5",
      "metadata": {
        "id": "41fdcb0c-61f1-4170-95cb-cd036d0fbf7d"
      },
      "source": [
        "<a id=\"runtime\"></a>\n",
        "# 4. Create the new runtime definition file for the custom image"
      ]
    },
    {
      "cell_type": "markdown",
      "id": "c3e8ed18",
      "metadata": {
        "id": "9cb49a12-dbf4-484a-9796-e4f783b00919"
      },
      "source": [
        "We will create the Runtime definition file, which connects the software specification to the custom image name"
      ]
    },
    {
      "cell_type": "code",
      "execution_count": 33,
      "id": "acb47d53",
      "metadata": {
        "id": "73ad4822-cf38-49b2-8663-e12cb534b024"
      },
      "outputs": [
        {
          "data": {
            "text/plain": [
              "'cp.stg.icr.io/cp/cpd/wml-demo-image:test-1'"
            ]
          },
          "execution_count": 33,
          "metadata": {},
          "output_type": "execute_result"
        }
      ],
      "source": [
        "# fully qualified name for the Internal Registry image of custom image\n",
        "custom_image_fqn='cp.stg.icr.io/cp/cpd/wml-demo-image:test-1'\n",
        "custom_image_fqn"
      ]
    },
    {
      "cell_type": "markdown",
      "id": "9072ebb6",
      "metadata": {
        "id": "e7cc4055-28a0-4193-9a3c-8229fe22864d"
      },
      "source": [
        "## Create a new runtime definition for the custom image"
      ]
    },
    {
      "cell_type": "markdown",
      "id": "89d19f9e",
      "metadata": {
        "id": "95f48fad-5aff-49a6-9030-753771e453af"
      },
      "source": [
        "#### Runtime Definition file for Custom image:\n",
        "- Create runtime definitions via API `/v2/runtime_definitions`\n",
        "- This runtime definition is the link between the software specification and the image name for custom image\n",
        "- If the custom image had been uploaded to the private container registry, then the value for `custom_image_fqn` would be `cp.stg.icr.io/cp/cpd/wml-demo-image:test-1`"
      ]
    },
    {
      "cell_type": "markdown",
      "id": "9b9ce7f3",
      "metadata": {
        "id": "d3b915e4-5640-4ccc-b9fd-0a171a518317"
      },
      "source": [
        "We already fetched the Runtime Definition template earlier under the step **\"Download the runtime definition and getting the runtime image\"**. Update the follow fields in the template"
      ]
    },
    {
      "cell_type": "code",
      "execution_count": 34,
      "id": "94da19f8",
      "metadata": {
        "id": "d96de85e-dc4f-40aa-9e20-c21694909287"
      },
      "outputs": [],
      "source": [
        "# here we keep the custom image runtime definition name same as the custom software spec name ; as best practise\n",
        "template_runtime_definition[\"name\"] = sw_spec_name\n",
        "template_runtime_definition[\"display_name\"] = sw_spec_name\n",
        "template_runtime_definition[\"description\"] = f\"Runtime definition for custom image {sw_spec_name}\"\n",
        "template_runtime_definition[\"runtime_type\"] = \"wml\"\n",
        "template_runtime_definition[\"launch_configuration\"][\"software_specification_name\"] = sw_spec_name\n",
        "template_runtime_definition[\"launch_configuration\"][\"image\"] = custom_image_fqn\n",
        "\n",
        "custom_image_runtime_definition = template_runtime_definition"
      ]
    },
    {
      "cell_type": "code",
      "execution_count": 35,
      "id": "8ad3e96b",
      "metadata": {
        "id": "9ec3e0aa-2631-4a82-8e9b-2d607b026f22"
      },
      "outputs": [
        {
          "name": "stdout",
          "output_type": "stream",
          "text": [
            "Successfully created the Runtime Definition for custom image with software specification cspec-demo\n"
          ]
        }
      ],
      "source": [
        "response = requests.post(\n",
        "    CPDHOST + f'/v2/runtime_definitions', \n",
        "    headers=headers,\n",
        "    json=custom_image_runtime_definition,\n",
        "    verify=False)\n",
        "if response.status_code == 201:\n",
        "    print(f\"Successfully created the Runtime Definition for custom image with software specification {sw_spec_name}\")\n",
        "else:\n",
        "    print(response.status_code, response.json())"
      ]
    },
    {
      "cell_type": "code",
      "execution_count": 36,
      "id": "0f41d164",
      "metadata": {
        "id": "634f349d-ab70-4966-9745-941d0a5e1d51"
      },
      "outputs": [
        {
          "name": "stdout",
          "output_type": "stream",
          "text": [
            "The required software specification name: cspec-demo\n",
            "\t cp.stg.icr.io/cp/cpd/wml-demo-image:test-1\n"
          ]
        }
      ],
      "source": [
        "print('The required software specification name:', sw_spec_name)\n",
        "print('\\t', custom_image_fqn)"
      ]
    },
    {
      "cell_type": "markdown",
      "id": "311850c7",
      "metadata": {
        "id": "12450bb4dc8b43a0b4dca7f3b6cef068"
      },
      "source": [
        "## We are ready to use this software specification with a deployable asset"
      ]
    },
    {
      "cell_type": "markdown",
      "id": "429a1ce7",
      "metadata": {
        "id": "02a50d7ef088438986c1cfc1f11d8a35"
      },
      "source": [
        "You can use any user with Editor role on the space to be able to use the custom software specification created by the cluster admin in the ealier steps"
      ]
    },
    {
      "cell_type": "markdown",
      "id": "ec9a7ce0",
      "metadata": {
        "id": "cef6e1c5-42ca-4098-88b2-47832f37e665"
      },
      "source": [
        "### Working with spaces\n",
        "\n",
        "First of all, you need to create a space that will be used for your work. If you do not have space already created, you can use `{PLATFORM_URL}/ml-runtime/spaces?context=icp4data` to create one.\n",
        "\n",
        "- Click New Deployment Space\n",
        "- Create an empty space\n",
        "- Go to space `Settings` tab\n",
        "- Copy `space_id` and paste it below\n",
        "\n",
        "**Tip**: You can also use SDK to prepare the space for your work. More information can be found [here](https://github.com/IBM/watson-machine-learning-samples/blob/master/cpd4.0/notebooks/python_sdk/instance-management/Space%20management.ipynb).\n",
        "\n",
        "**Action**: Assign space ID below"
      ]
    },
    {
      "cell_type": "code",
      "execution_count": null,
      "id": "24e44c45",
      "metadata": {
        "id": "8d331930-cac1-4fe0-9d8d-c1266ceea155"
      },
      "outputs": [],
      "source": [
        "space_id = 'PASTE YOUR SPACE ID HERE'"
      ]
    },
    {
      "cell_type": "markdown",
      "id": "6bd6e52c",
      "metadata": {
        "id": "24c2c3b1978c4e3a8278bc12887c9fa7"
      },
      "source": [
        "You can use list method to print all existing spaces."
      ]
    },
    {
      "cell_type": "code",
      "execution_count": null,
      "id": "08a33c4d",
      "metadata": {
        "id": "d459ad59db3848c6baf456d235af7c80"
      },
      "outputs": [],
      "source": [
        "client.spaces.list(limit=10)"
      ]
    },
    {
      "cell_type": "markdown",
      "id": "30a5be15",
      "metadata": {
        "id": "e8101ca02eb14072895d72d52d28156f"
      },
      "source": [
        "To be able to interact with all resources available in Watson Machine Learning, you need to set **space** which you will be using."
      ]
    },
    {
      "cell_type": "code",
      "execution_count": 41,
      "id": "b6562124",
      "metadata": {
        "id": "923e31f700124333bba7859efea0a880"
      },
      "outputs": [
        {
          "data": {
            "text/plain": [
              "'SUCCESS'"
            ]
          },
          "execution_count": 41,
          "metadata": {},
          "output_type": "execute_result"
        }
      ],
      "source": [
        "client.set.default_space(space_id)"
      ]
    },
    {
      "cell_type": "markdown",
      "id": "357f075f",
      "metadata": {
        "id": "ad495484-1c8c-4534-bb65-aa96f0b174a8"
      },
      "source": [
        "<a id=\"deploy\"></a>\n",
        "\n",
        "## 5. Create and Deploy a WML `python function` model with the custom image"
      ]
    },
    {
      "cell_type": "markdown",
      "id": "54933faf",
      "metadata": {
        "id": "f4be5e5a-e95f-4ca4-9735-e6bb4493e43b"
      },
      "source": [
        "The demo `python function` below showcase the package `pendulum` which was installed for this custom image is now usable by returning the `version`, and does nothing else useful beyond that."
      ]
    },
    {
      "cell_type": "code",
      "execution_count": 55,
      "id": "c6de6366",
      "metadata": {
        "id": "209e2ac3-69dc-4be4-aa4e-1a86b1a273a4"
      },
      "outputs": [],
      "source": [
        "def score_generator():\n",
        "        \n",
        "    # Define scoring function\n",
        "    def callModel(payload_scoring):\n",
        "        import pendulum\n",
        "\n",
        "        v4_scoring_response = {\n",
        "            'predictions': [{'values': [pendulum.__version__]}]\n",
        "        }\n",
        "    \n",
        "        return v4_scoring_response\n",
        "\n",
        "    def score(input):\n",
        "\n",
        "        # Score using the pre-defined model\n",
        "        prediction = callModel(input);\n",
        "        return prediction\n",
        "    \n",
        "    return score\n"
      ]
    },
    {
      "cell_type": "markdown",
      "id": "a483602c",
      "metadata": {
        "id": "09dfb206-bacd-4e3e-b713-5a431ea672b7"
      },
      "source": [
        "We need use the software specification that was created earlier for the custom image **sw_spec_name** which is present in this variable"
      ]
    },
    {
      "cell_type": "code",
      "execution_count": 45,
      "id": "6d525322",
      "metadata": {
        "id": "d689a0a5-a4d7-4983-8d41-2dd0743f4504"
      },
      "outputs": [
        {
          "name": "stdout",
          "output_type": "stream",
          "text": [
            "The required python function asset id: a5eb8150-c7b2-4b26-bea6-c70607b398cb\n"
          ]
        }
      ],
      "source": [
        "stored_function_details = client.repository.store_function(\n",
        "    function=score_generator,\n",
        "    meta_props={\n",
        "    client.repository.FunctionMetaNames.NAME: \"py-function for custom image test\",\n",
        "    client.repository.FunctionMetaNames.DESCRIPTION: \"Test Custom Image\",\n",
        "    client.repository.FunctionMetaNames.SOFTWARE_SPEC_UID:\n",
        "        client.software_specifications.get_id_by_name(sw_spec_name)\n",
        "    }\n",
        ")\n",
        "function_id=client.repository.get_function_id(stored_function_details)\n",
        "print(f\"The required python function asset id: {function_id}\")"
      ]
    },
    {
      "cell_type": "markdown",
      "id": "37c0ae9d",
      "metadata": {
        "id": "b98d6e9b-603e-4628-943d-69f95230062c"
      },
      "source": [
        "### Create an online deployment"
      ]
    },
    {
      "cell_type": "code",
      "execution_count": 46,
      "id": "7d4c931f",
      "metadata": {
        "id": "e75e0bf1-c9c8-4433-b831-459709bb94ed"
      },
      "outputs": [
        {
          "name": "stdout",
          "output_type": "stream",
          "text": [
            "\n",
            "\n",
            "#######################################################################################\n",
            "\n",
            "Synchronous deployment creation for uid: 'a5eb8150-c7b2-4b26-bea6-c70607b398cb' started\n",
            "\n",
            "#######################################################################################\n",
            "\n",
            "\n",
            "initializing\n",
            "Note: online_url is deprecated and will be removed in a future release. Use serving_urls instead.\n",
            ".....................................................\n",
            "ready\n",
            "\n",
            "\n",
            "------------------------------------------------------------------------------------------------\n",
            "Successfully finished deployment creation, deployment_uid='5cd09c84-a8bc-433e-bcc7-765443d62068'\n",
            "------------------------------------------------------------------------------------------------\n",
            "\n",
            "\n"
          ]
        }
      ],
      "source": [
        "meta_props = {\n",
        "    client.deployments.ConfigurationMetaNames.NAME: \"function dep Online custom image test\",\n",
        "    client.deployments.ConfigurationMetaNames.ONLINE: {},\n",
        "    client.deployments.ConfigurationMetaNames.HARDWARE_SPEC : {\n",
        "        \"id\":  client.hardware_specifications.get_id_by_name('S')}\n",
        "}\n",
        "deployment_details = client.deployments.create(function_id, meta_props)"
      ]
    },
    {
      "cell_type": "markdown",
      "id": "fda287de-1ada-4b8e-9160-f27e3fd95688",
      "metadata": {
        "id": "c6acce3f-aea5-4d16-8a98-8d9ea41300f9"
      },
      "source": [
        "<hr/>\n",
        "You can monitor the cluster for pods with `oc get pods -l WML_DEPLOYMENT_ID=<deployment_id>`\n",
        "\n",
        "\n",
        "example:\n",
        "```\n",
        "$ oc get pods -l WML_DEPLOYMENT_ID=2e4afc5b-e321-45a4-95e8-1a0086a61dfc\n",
        "NAME                                                       READY   STATUS    RESTARTS   AGE\n",
        "wml-2c074a33-8960-47a0-9489-1bd050bbe901-b9867df6f-9fr9g   2/2     Running   0          64s\n",
        "\n",
        "$ oc describe pod wml-2c074a33-8960-47a0-9489-1bd050bbe901-b9867df6f-9fr9g | grep Image: | grep wml-demo-image\n",
        "    Image:          cp.stg.icr.io/cp/cpd/wml-demo-image:test-1\n",
        "```"
      ]
    },
    {
      "cell_type": "code",
      "execution_count": 47,
      "id": "f6bf8f37",
      "metadata": {
        "id": "04bd76ca-520d-4047-a4f6-4866e5810d8c"
      },
      "outputs": [
        {
          "data": {
            "text/plain": [
              "'5cd09c84-a8bc-433e-bcc7-765443d62068'"
            ]
          },
          "execution_count": 47,
          "metadata": {},
          "output_type": "execute_result"
        }
      ],
      "source": [
        "deployment_id=client.deployments.get_uid(deployment_details)\n",
        "deployment_id"
      ]
    },
    {
      "cell_type": "markdown",
      "id": "b42d1e76-8d4c-47c5-a0c8-17dc7b3171c4",
      "metadata": {
        "id": "12dd5ef9-b529-439b-b1b9-79fc2c1104c0"
      },
      "source": [
        "### Predict using created deployment"
      ]
    },
    {
      "cell_type": "code",
      "execution_count": 49,
      "id": "97718315",
      "metadata": {
        "id": "576a2505-2712-46f8-be9b-634c398c6390"
      },
      "outputs": [
        {
          "data": {
            "text/plain": [
              "{'predictions': [{'values': ['3.0.0']}]}"
            ]
          },
          "execution_count": 49,
          "metadata": {},
          "output_type": "execute_result"
        }
      ],
      "source": [
        "scoring_payload = {\n",
        "    'input_data': [\n",
        "        {'fields': ['dummy', 'dummy_c2'], 'values': [[1, 1]]}\n",
        "    ]\n",
        "}\n",
        "predictions = client.deployments.score(deployment_id, scoring_payload)\n",
        "predictions"
      ]
    },
    {
      "cell_type": "markdown",
      "id": "29df3426",
      "metadata": {
        "id": "4457da2d58474ca78472d9ea83df7907"
      },
      "source": [
        "It successfully printed out the `pendulum` version that is present inside the custom image"
      ]
    },
    {
      "cell_type": "markdown",
      "id": "18dc51d2-244e-4188-ac96-d477f81f1358",
      "metadata": {
        "id": "d1230c62-8b74-4f67-b0dc-bb343e437f50"
      },
      "source": [
        "<a id=\"cleanup\"></a>\n",
        "## 6. Clean up   "
      ]
    },
    {
      "cell_type": "code",
      "execution_count": 50,
      "id": "497f13dd",
      "metadata": {
        "id": "f3e269e8-2869-4c19-a4a9-d0543d576376"
      },
      "outputs": [
        {
          "data": {
            "text/plain": [
              "'SUCCESS'"
            ]
          },
          "execution_count": 50,
          "metadata": {},
          "output_type": "execute_result"
        }
      ],
      "source": [
        "client.deployments.delete(deployment_id)"
      ]
    },
    {
      "cell_type": "markdown",
      "id": "39d81636",
      "metadata": {
        "id": "6317432b5a6d49728067b46bec9a798a"
      },
      "source": [
        "Stop File server on the Volume"
      ]
    },
    {
      "cell_type": "code",
      "execution_count": 51,
      "id": "118d7ff6",
      "metadata": {
        "id": "290998b3cb1348ae8f160d1208ffaed6"
      },
      "outputs": [
        {
          "name": "stdout",
          "output_type": "stream",
          "text": [
            "{\n",
            "  \"_messageCode_\": \"200\",\n",
            "  \"message\": \"Successfully stopped volume service\"\n",
            "}\n"
          ]
        }
      ],
      "source": [
        "response = requests.delete(\n",
        "    CPDHOST + f'/zen-data/v1/volumes/volume_services/{namespace}::{display_name}',\n",
        "    headers=headers,\n",
        "    json={},\n",
        "    verify=False)\n",
        "print(json.dumps(response.json(), indent=2))"
      ]
    },
    {
      "cell_type": "markdown",
      "id": "ac4da90e",
      "metadata": {
        "id": "c62edfcc0f3f43728804f83b6903ed51"
      },
      "source": [
        "Delete the Volume instance"
      ]
    },
    {
      "cell_type": "code",
      "execution_count": 52,
      "id": "3968fa3b",
      "metadata": {
        "id": "d74a57109a7b433c8ae428d6ac5c15ee"
      },
      "outputs": [
        {
          "name": "stdout",
          "output_type": "stream",
          "text": [
            "{\n",
            "  \"id\": \"1721129241128898\"\n",
            "}\n"
          ]
        }
      ],
      "source": [
        "response = requests.delete(CPDHOST + f'/zen-data/v3/service_instances/{vol_svc_id}',\n",
        "                           headers=headers,\n",
        "                           verify=False)\n",
        "print(json.dumps(response.json(), indent=2))"
      ]
    },
    {
      "cell_type": "markdown",
      "id": "15bdb6d9-c433-4b9b-bc22-710d976abf40",
      "metadata": {
        "id": "2e65836c-54c7-41df-a9b4-fe7e2df94c33"
      },
      "source": [
        "If you want to clean up all created assets:\n",
        "- experiments\n",
        "- trainings\n",
        "- pipelines\n",
        "- model definitions\n",
        "- models\n",
        "- functions\n",
        "- deployments\n",
        "\n",
        "please follow up this sample [notebook](https://github.com/IBM/watson-machine-learning-samples/blob/master/cpd5.1/notebooks/python_sdk/instance-management/Machine%20Learning%20artifacts%20management.ipynb)."
      ]
    },
    {
      "cell_type": "markdown",
      "id": "d319ae7e-3dd0-448a-8eb6-2c1dcdec4b3d",
      "metadata": {
        "id": "f195ae57-2c11-492f-b500-47d735a5ec7f"
      },
      "source": [
        "<a id=\"summary\"></a>\n",
        "## 7. Summary and next steps     "
      ]
    },
    {
      "cell_type": "markdown",
      "id": "a3ad8bdf-f08b-400c-bcca-a4f92b81faab",
      "metadata": {
        "id": "e7a207ca-d790-4237-bacf-d87693b692b8"
      },
      "source": [
        " You successfully completed this notebook! You learned how to use Watson Machine Learning for function deployment and scoring with custom custom_image, software_spec and runtime definition.  \n",
        " Check out our [Online Documentation](https://dataplatform.cloud.ibm.com/docs/content/wsj/getting-started/welcome-main.html?context=analytics) for more samples, tutorials, documentation, how-tos, and blog posts. "
      ]
    },
    {
      "cell_type": "markdown",
      "id": "4217d447-5b17-42fe-9c78-3c1e546eb02f",
      "metadata": {
        "id": "fc7856d0-aba4-4bff-be6a-568070bdf80b"
      },
      "source": [
        "#### References:\n",
        "- https://www.ibm.com/docs/en/cloud-paks/cp-data/5.1.x?topic=runtimes-building-deployment-runtime-images\n",
        "- https://cloud.ibm.com/apidocs/cloud-pak-data/cloud-pak-data-5.1.0#provisionvolumeinstance\n",
        "- https://cloud.ibm.com/apidocs/watson-data-api-cpd#runtime-definitions-create"
      ]
    },
    {
      "cell_type": "markdown",
      "id": "e8abb1ab-eba8-45e2-b1ed-f0818682ace0",
      "metadata": {
        "id": "a58df230-43d4-405c-8070-4c4c5b89fa76"
      },
      "source": [
        "### Author\n",
        "\n",
        "**Ginbiaksang Naulak** Software Engineer at IBM."
      ]
    },
    {
      "cell_type": "markdown",
      "id": "37a682f2-5f6f-4c7e-9b20-2c6807f6ff54",
      "metadata": {
        "id": "03eb49ab-cb71-437d-865d-d600c7ffa475"
      },
      "source": [
        "Copyright © 2020-2025 IBM. This notebook and its source code are released under the terms of the MIT License."
      ]
    }
  ],
  "metadata": {
    "kernelspec": {
      "display_name": "Python 3.10",
      "language": "python",
      "name": "python3"
    },
    "language_info": {
      "codemirror_mode": {
        "name": "ipython",
        "version": 3
      },
      "file_extension": ".py",
      "mimetype": "text/x-python",
      "name": "python",
      "nbconvert_exporter": "python",
      "pygments_lexer": "ipython3",
      "version": "3.10.14"
    }
  },
  "nbformat": 4,
  "nbformat_minor": 5
}
