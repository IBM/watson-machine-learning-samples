{
    "cells": [
        {
            "cell_type": "markdown",
            "metadata": {
                "pycharm": {
                    "name": "#%% md\n"
                }
            },
            "source": [
                "![image](https://raw.githubusercontent.com/IBM/watson-machine-learning-samples/master/cloud/notebooks/headers/watsonx-Prompt_Lab-Notebook.png)\n",
                "# Use watsonx and BigCode `starcoder-15.5b` to generate code based on instruction"
            ]
        },
        {
            "cell_type": "markdown",
            "metadata": {
                "pycharm": {
                    "name": "#%% md\n"
                }
            },
            "source": [
                "#### Disclaimers\n",
                "\n",
                "- Use only Projects and Spaces that are available in watsonx context.\n",
                "\n",
                "\n",
                "## Notebook content\n",
                "\n",
                "This notebook contains the steps and code to demonstrate support for code generating in Watsonx. It introduces commands for defining prompt and model testing.\n",
                "\n",
                "Some familiarity with Python is helpful. This notebook uses Python 3.11.\n",
                "\n",
                "\n",
                "## Learning goal\n",
                "\n",
                "The goal of this notebook is to demonstrate how to generate code using BigCode `starcoder-15.5b` Watsonx model based on instruction provided by the user.\n",
                "\n",
                "\n",
                "## Contents\n",
                "\n",
                "This notebook contains the following parts:\n",
                "\n",
                "- [Setup](#setup)\n",
                "- [Foundation Models on Watsonx](#models)\n",
                "- [Generate code based on instruction](#generate)\n",
                "- [Generated code testing](#testing)\n",
                "- [Summary](#summary)"
            ]
        },
        {
            "cell_type": "markdown",
            "metadata": {
                "pycharm": {
                    "name": "#%% md\n"
                }
            },
            "source": [
                "<a id=\"setup\"></a>\n",
                "## Set up the environment\n",
                "\n",
                "Before you use the sample code in this notebook, you must perform the following setup tasks:\n",
                "\n",
                "-  Contact with your Cloud Pak for Data administrator and ask them for your account credentials"
            ]
        },
        {
            "cell_type": "markdown",
            "metadata": {
                "pycharm": {
                    "name": "#%% md\n"
                }
            },
            "source": [
                "### Install and import the `ibm-watsonx-ai` and dependecies\n",
                "**Note:** `ibm-watsonx-ai` documentation can be found <a href=\"https://ibm.github.io/watsonx-ai-python-sdk/index.html\" target=\"_blank\" rel=\"noopener no referrer\">here</a>."
            ]
        },
        {
            "cell_type": "code",
            "execution_count": null,
            "metadata": {
                "pycharm": {
                    "name": "#%%\n"
                }
            },
            "outputs": [],
            "source": [
                "!pip install -U ibm-watsonx-ai | tail -n 1"
            ]
        },
        {
            "cell_type": "markdown",
            "metadata": {},
            "source": [
                "### Connection to WML\n",
                "\n",
                "Authenticate the Watson Machine Learning service on IBM Cloud Pak for Data. You need to provide platform `url`, your `username` and `api_key`."
            ]
        },
        {
            "cell_type": "code",
            "execution_count": null,
            "metadata": {},
            "outputs": [],
            "source": [
                "username = 'PASTE YOUR USERNAME HERE'\n",
                "api_key = 'PASTE YOUR API_KEY HERE'\n",
                "url = 'PASTE THE PLATFORM URL HERE'"
            ]
        },
        {
            "cell_type": "code",
            "execution_count": null,
            "metadata": {},
            "outputs": [],
            "source": [
                "from ibm_watsonx_ai import Credentials\n",
                "\n",
                "credentials = Credentials(\n",
                "    username=username,\n",
                "    api_key=api_key,\n",
                "    url=url,\n",
                "    instance_id=\"openshift\",\n",
                "    version=\"5.1\"\n",
                ")"
            ]
        },
        {
            "cell_type": "markdown",
            "metadata": {},
            "source": [
                "Alternatively you can use `username` and `password` to authenticate WML services.\n",
                "\n",
                "```python\n",
                "credentials = Credentials(\n",
                "    username=***,\n",
                "    password=***,\n",
                "    url=***,\n",
                "    instance_id=\"openshift\",\n",
                "    version=\"5.1\"\n",
                ")\n",
                "\n",
                "```"
            ]
        },
        {
            "cell_type": "markdown",
            "metadata": {},
            "source": [
                "### Defining the project id\n",
                "The Foundation Model requires project id that provides the context for the call. We will obtain the id from the project in which this notebook runs. Otherwise, please provide the project id."
            ]
        },
        {
            "cell_type": "code",
            "execution_count": 2,
            "metadata": {},
            "outputs": [],
            "source": [
                "import os\n",
                "\n",
                "try:\n",
                "    project_id = os.environ[\"PROJECT_ID\"]\n",
                "except KeyError:\n",
                "    project_id = input(\"Please enter your project_id (hit enter): \")"
            ]
        },
        {
            "cell_type": "markdown",
            "metadata": {},
            "source": [
                "<a id=\"models\"></a>\n",
                "## Foundation Models on `watsonx.ai`"
            ]
        },
        {
            "cell_type": "markdown",
            "metadata": {},
            "source": [
                "#### List available models\n",
                "\n",
                "All avaliable models are presented under ModelTypes class.\n",
                "For more information refer to <a href=\"https://ibm.github.io/watsonx-ai-python-sdk/fm_model.html#ibm_watsonx_ai.foundation_models.utils.enums.ModelTypes\" target=\"_blank\" rel=\"noopener no referrer\">documentation</a>."
            ]
        },
        {
            "cell_type": "code",
            "execution_count": 3,
            "metadata": {},
            "outputs": [
                {
                    "name": "stdout",
                    "output_type": "stream",
                    "text": [
                        "['FLAN_T5_XXL', 'FLAN_UL2', 'MT0_XXL', 'GPT_NEOX', 'MPT_7B_INSTRUCT2', 'STARCODER', 'LLAMA_2_70B_CHAT', 'LLAMA_2_13B_CHAT', 'GRANITE_13B_INSTRUCT', 'GRANITE_13B_CHAT', 'FLAN_T5_XL', 'GRANITE_13B_CHAT_V2', 'GRANITE_13B_INSTRUCT_V2', 'ELYZA_JAPANESE_LLAMA_2_7B_INSTRUCT', 'MIXTRAL_8X7B_INSTRUCT_V01_Q', 'CODELLAMA_34B_INSTRUCT_HF', 'GRANITE_20B_MULTILINGUAL', 'MERLINITE_7B', 'GRANITE_20B_CODE_INSTRUCT', 'GRANITE_34B_CODE_INSTRUCT', 'GRANITE_3B_CODE_INSTRUCT', 'GRANITE_7B_LAB', 'GRANITE_8B_CODE_INSTRUCT', 'LLAMA_3_70B_INSTRUCT', 'LLAMA_3_8B_INSTRUCT', 'MIXTRAL_8X7B_INSTRUCT_V01']\n"
                    ]
                }
            ],
            "source": [
                "from ibm_watsonx_ai.foundation_models.utils.enums import ModelTypes\n",
                "\n",
                "print([model.name for model in ModelTypes])"
            ]
        },
        {
            "cell_type": "markdown",
            "metadata": {},
            "source": [
                "You need to specify `model_id` that will be used for inferencing:"
            ]
        },
        {
            "cell_type": "code",
            "execution_count": 4,
            "metadata": {},
            "outputs": [],
            "source": [
                "model_id = ModelTypes.STARCODER"
            ]
        },
        {
            "cell_type": "markdown",
            "metadata": {},
            "source": [
                "### Defining the model parameters\n",
                "\n",
                "You might need to adjust model `parameters` for different models or tasks, to do so please refer to <a href=\"https://ibm.github.io/watsonx-ai-python-sdk/fm_model.html#metanames.GenTextParamsMetaNames\" target=\"_blank\" rel=\"noopener no referrer\">documentation</a>."
            ]
        },
        {
            "cell_type": "code",
            "execution_count": 5,
            "metadata": {},
            "outputs": [],
            "source": [
                "from ibm_watsonx_ai.metanames import GenTextParamsMetaNames as GenParams\n",
                "\n",
                "parameters = {\n",
                "    GenParams.DECODING_METHOD: \"greedy\",\n",
                "    GenParams.MAX_NEW_TOKENS: 100,\n",
                "    GenParams.STOP_SEQUENCES: [\"<end·of·code>\"]\n",
                "}"
            ]
        },
        {
            "cell_type": "markdown",
            "metadata": {},
            "source": [
                "### Initialize the model\n",
                "Initialize the `Model` class with previous set params."
            ]
        },
        {
            "cell_type": "code",
            "execution_count": 7,
            "metadata": {},
            "outputs": [],
            "source": [
                "from ibm_watsonx_ai.foundation_models import ModelInference\n",
                "\n",
                "model = ModelInference(\n",
                "    model_id=model_id, \n",
                "    params=parameters, \n",
                "    credentials=credentials,\n",
                "    project_id=project_id)"
            ]
        },
        {
            "cell_type": "markdown",
            "metadata": {},
            "source": [
                "### Model's details"
            ]
        },
        {
            "cell_type": "code",
            "execution_count": 8,
            "metadata": {},
            "outputs": [],
            "source": [
                "model.get_details()"
            ]
        },
        {
            "cell_type": "markdown",
            "metadata": {},
            "source": [
                "<a id=\"generate\"></a>\n",
                "## Generate code based on instruction"
            ]
        },
        {
            "cell_type": "markdown",
            "metadata": {},
            "source": [
                "Define instructions for the model with at-least one example."
            ]
        },
        {
            "cell_type": "code",
            "execution_count": 16,
            "metadata": {},
            "outputs": [],
            "source": [
                "instruction = \"\"\"Using the directions below, generate Python code for the given task.\n",
                "\n",
                "Input:\n",
                "# Write a Python function that prints 'Hello World!' string 'n' times.\n",
                "\n",
                "Output:\n",
                "def print_n_times(n):\n",
                "    for i in range(n):\n",
                "        print(\"Hello World!\")\n",
                "\n",
                "<end of code>\n",
                "\"\"\""
            ]
        },
        {
            "cell_type": "markdown",
            "metadata": {},
            "source": [
                "Prepare question for the model."
            ]
        },
        {
            "cell_type": "code",
            "execution_count": 17,
            "metadata": {
                "scrolled": true
            },
            "outputs": [],
            "source": [
                "question = \"\"\"Input:\n",
                "# Write a Python function, which generates sequence of prime numbers.\n",
                "# The function 'primes' will take the argument 'n', an int. It will return a list which contains all primes less than 'n'.\"\"\""
            ]
        },
        {
            "cell_type": "markdown",
            "metadata": {},
            "source": [
                "### Generat the code using BigCode `starcoder-15.5b` model.\n"
            ]
        },
        {
            "cell_type": "markdown",
            "metadata": {},
            "source": [
                "Inter the model to generate the code, according to provided instruction."
            ]
        },
        {
            "cell_type": "code",
            "execution_count": 18,
            "metadata": {},
            "outputs": [],
            "source": [
                "result = model.generate_text(\" \".join([instruction, question]))"
            ]
        },
        {
            "cell_type": "markdown",
            "metadata": {},
            "source": [
                "Formatting the text to get the function itself"
            ]
        },
        {
            "cell_type": "code",
            "execution_count": 19,
            "metadata": {},
            "outputs": [],
            "source": [
                "code_as_text = result.split('Output:')[1].split('<end of code>')[0]"
            ]
        },
        {
            "cell_type": "markdown",
            "metadata": {},
            "source": [
                "<a id=\"testing\"></a>\n",
                "## Generated code testing"
            ]
        },
        {
            "cell_type": "markdown",
            "metadata": {},
            "source": [
                "The resulting code looks as below."
            ]
        },
        {
            "cell_type": "code",
            "execution_count": 20,
            "metadata": {},
            "outputs": [
                {
                    "name": "stdout",
                    "output_type": "stream",
                    "text": [
                        "\n",
                        "def primes(n):\n",
                        "    primes = []\n",
                        "    for i in range(2, n):\n",
                        "        for j in range(2, i):\n",
                        "            if i % j == 0:\n",
                        "                break\n",
                        "        else:\n",
                        "            primes.append(i)\n",
                        "    return primes\n",
                        "\n",
                        "\n"
                    ]
                }
            ],
            "source": [
                "print(code_as_text)"
            ]
        },
        {
            "cell_type": "markdown",
            "metadata": {},
            "source": [
                "Use generated code to make it as function."
            ]
        },
        {
            "cell_type": "code",
            "execution_count": 21,
            "metadata": {},
            "outputs": [],
            "source": [
                "exec(code_as_text)"
            ]
        },
        {
            "cell_type": "markdown",
            "metadata": {},
            "source": [
                "Define the number 'n' for which the primes() function should process prime numbers."
            ]
        },
        {
            "cell_type": "code",
            "execution_count": 22,
            "metadata": {},
            "outputs": [],
            "source": [
                "n = 25"
            ]
        },
        {
            "cell_type": "markdown",
            "metadata": {},
            "source": [
                "Test and run the generated function."
            ]
        },
        {
            "cell_type": "code",
            "execution_count": 23,
            "metadata": {},
            "outputs": [
                {
                    "data": {
                        "text/plain": [
                            "[2, 3, 5, 7, 11, 13, 17, 19, 23]"
                        ]
                    },
                    "execution_count": 23,
                    "metadata": {},
                    "output_type": "execute_result"
                }
            ],
            "source": [
                "primes(n)"
            ]
        },
        {
            "cell_type": "markdown",
            "metadata": {
                "pycharm": {
                    "name": "#%% md\n"
                }
            },
            "source": [
                "<a id=\"summary\"></a>\n",
                "## Summary and next steps\n",
                "\n",
                "You successfully completed this notebook!\n",
                " \n",
                "You learned how to generate code based on instuction with BigCode `starcoder-15.5b` on watsonx.ai. \n",
                " \n",
                "Check out our _<a href=\"https://ibm.github.io/watsonx-ai-python-sdk/samples.html\" target=\"_blank\" rel=\"noopener no referrer\">Online Documentation</a>_ for more samples, tutorials, documentation, how-tos, and blog posts. "
            ]
        },
        {
            "cell_type": "markdown",
            "metadata": {
                "pycharm": {
                    "name": "#%% md\n"
                }
            },
            "source": [
                "### Authors: \n",
                "\n",
                " **Mateusz Szewczyk**, Software Engineer at Watson Machine Learning."
            ]
        },
        {
            "cell_type": "markdown",
            "metadata": {
                "pycharm": {
                    "name": "#%% md\n"
                }
            },
            "source": [
                "Copyright © 2023-2025 IBM. This notebook and its source code are released under the terms of the MIT License."
            ]
        }
    ],
    "metadata": {
        "kernelspec": {
            "display_name": "Python 3 (ipykernel)",
            "language": "python",
            "name": "python3"
        },
        "language_info": {
            "codemirror_mode": {
                "name": "ipython",
                "version": 3
            },
            "file_extension": ".py",
            "mimetype": "text/x-python",
            "name": "python",
            "nbconvert_exporter": "python",
            "pygments_lexer": "ipython3",
            "version": "3.11.8"
        }
    },
    "nbformat": 4,
    "nbformat_minor": 4
}