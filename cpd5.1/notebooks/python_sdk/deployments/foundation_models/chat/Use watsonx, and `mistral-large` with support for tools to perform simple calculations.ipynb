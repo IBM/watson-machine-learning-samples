{
  "cells": [
    {
      "cell_type": "markdown",
      "metadata": {
        "pycharm": {
          "name": "#%% md\n"
        }
      },
      "source": [
        "![image](https://raw.githubusercontent.com/IBM/watson-machine-learning-samples/master/cloud/notebooks/headers/watsonx-Prompt_Lab-Notebook.png)\n",
        "# Use watsonx, and `mistralai/mistral-large` with support for tools to perform simple calculations"
      ]
    },
    {
      "cell_type": "markdown",
      "metadata": {
        "pycharm": {
          "name": "#%% md\n"
        }
      },
      "source": [
        "#### Disclaimers\n",
        "\n",
        "- Use only Projects and Spaces that are available in watsonx context.\n",
        "\n",
        "\n",
        "## Notebook content\n",
        "\n",
        "This notebook provides a detailed demonstration of the steps and code required to showcase support for Chat models, including the integration of tools using [LangGraph](https://langchain-ai.github.io/langgraph/) and watsonx.ai models.\n",
        "\n",
        "Some familiarity with Python is helpful. This notebook uses Python 3.11.\n",
        "\n",
        "\n",
        "## Learning goal\n",
        "\n",
        "The purpose of this notebook is to demonstrate how to use Chat models, e.g. `mistralai/mistral-large` using the tools available in LangGraph. LangGraph is an Agent Orchestrator with which you can build graph applications that automatically execute sequences of actions and in which the LLM is the key decision maker that determines the next step.\n",
        "\n",
        "\n",
        "## Table of Contents\n",
        "\n",
        "This notebook contains the following parts:\n",
        "\n",
        "- [Setup](#setup)\n",
        "- [Foundation Models on watsonx](#models)\n",
        "- [LangChain integration](#chatwatsonx)\n",
        "- [Example](#example)\n",
        "- [Summary](#summary)"
      ]
    },
    {
      "cell_type": "markdown",
      "metadata": {},
      "source": [
        "<a id=\"setup\"></a>\n",
        "## Set up the environment\n",
        "\n",
        "Before you use the sample code in this notebook, you must perform the following setup tasks:\n",
        "\n",
        "-  Contact with your Cloud Pak for Data administrator and ask them for your account credentials"
      ]
    },
    {
      "cell_type": "markdown",
      "metadata": {
        "pycharm": {
          "name": "#%% md\n"
        }
      },
      "source": [
        "### Install and import the `datasets` and dependencies"
      ]
    },
    {
      "cell_type": "code",
      "execution_count": null,
      "metadata": {
        "pycharm": {
          "is_executing": true,
          "name": "#%%\n"
        }
      },
      "outputs": [],
      "source": [
        "!pip install -U \"langgraph>0.2,<0.3\" | tail -n 1\n",
        "!pip install -U \"langchain_ibm>=0.3,<0.4\" | tail -n 1"
      ]
    },
    {
      "cell_type": "markdown",
      "metadata": {},
      "source": [
        "### Connection to WML\n",
        "\n",
        "Authenticate the Watson Machine Learning service on IBM Cloud Pak for Data. You need to provide platform `url`, your `username` and `api_key`."
      ]
    },
    {
      "cell_type": "code",
      "execution_count": null,
      "metadata": {},
      "outputs": [],
      "source": [
        "username = 'PASTE YOUR USERNAME HERE'\n",
        "api_key = 'PASTE YOUR API_KEY HERE'\n",
        "url = 'PASTE THE PLATFORM URL HERE'\n"
      ]
    },
    {
      "cell_type": "code",
      "execution_count": null,
      "metadata": {},
      "outputs": [],
      "source": [
        "from ibm_watsonx_ai import Credentials\n",
        "\n",
        "credentials = Credentials(\n",
        "    username=username,\n",
        "    api_key=api_key,\n",
        "    url=url,\n",
        "    instance_id=\"openshift\",\n",
        "    version=\"5.1\"\n",
        ")\n"
      ]
    },
    {
      "cell_type": "markdown",
      "metadata": {},
      "source": [
        "Alternatively you can use `username` and `password` to authenticate WML services.\n",
        "\n",
        "```python\n",
        "credentials = Credentials(\n",
        "    username=***,\n",
        "    password=***,\n",
        "    url=***,\n",
        "    instance_id=\"openshift\",\n",
        "    version=\"5.1\"\n",
        ")\n",
        "\n",
        "```"
      ]
    },
    {
      "cell_type": "markdown",
      "metadata": {},
      "source": [
        "### Working with projects\n",
        "\n",
        "First of all, you need to create a project that will be used for your work. If you do not have project already created follow bellow steps.\n",
        "\n",
        "- Open IBM Cloud Pak main page\n",
        "- Click all projects\n",
        "- Create an empty project\n",
        "- Copy `project_id` from url and paste it below\n",
        "\n",
        "**Action**: Assign project ID below"
      ]
    },
    {
      "cell_type": "code",
      "execution_count": null,
      "metadata": {},
      "outputs": [],
      "source": [
        "project_id = 'PASTE YOUR PROJECT ID HERE'"
      ]
    },
    {
      "cell_type": "markdown",
      "metadata": {},
      "source": [
        "<a id=\"models\"></a>\n",
        "## Set up a Foundation Model on `watsonx.ai`\n"
      ]
    },
    {
      "cell_type": "markdown",
      "metadata": {},
      "source": [
        "Specify the `model_id` of the model you will use for the chat with tools."
      ]
    },
    {
      "cell_type": "code",
      "execution_count": 4,
      "metadata": {},
      "outputs": [],
      "source": [
        "model_id = \"mistralai/mistral-large\""
      ]
    },
    {
      "cell_type": "markdown",
      "metadata": {
        "pycharm": {
          "name": "#%% md\n"
        }
      },
      "source": [
        "<a id=\"chatwatsonx\"></a>\n",
        "## LangChain integration\n",
        "\n",
        "`ChatWatsonx` is a wrapper around watsonx.ai models that provides chat integration around the models.\n",
        "\n",
        "### Initialize the `ChatWatsonx` class"
      ]
    },
    {
      "cell_type": "code",
      "execution_count": null,
      "metadata": {},
      "outputs": [],
      "source": [
        "from langchain_ibm import ChatWatsonx\n",
        "\n",
        "chat = ChatWatsonx(\n",
        "    url=credentials[\"url\"],\n",
        "    apikey=credentials[\"apikey\"],\n",
        "    instance_id=\"openshift\",\n",
        "    model_id=model_id,\n",
        "    project_id=project_id,\n",
        ")"
      ]
    },
    {
      "cell_type": "markdown",
      "metadata": {},
      "source": [
        "Next, define the assistant's tools to make a calculation."
      ]
    },
    {
      "cell_type": "code",
      "execution_count": 6,
      "metadata": {},
      "outputs": [],
      "source": [
        "from langchain_core.tools import tool\n",
        "\n",
        "@tool\n",
        "def add(a: float, b: float) -> float:\n",
        "    \"\"\"Add a and b.\"\"\"\n",
        "    return a + b\n",
        "\n",
        "@tool\n",
        "def subtract(a: float, b: float) -> float:\n",
        "    \"\"\"Subtract a and b.\"\"\"\n",
        "    return a - b\n",
        "\n",
        "@tool\n",
        "def multiply(a: float, b: float) -> float:\n",
        "    \"\"\"Multiply a and b.\"\"\"\n",
        "    return a * b\n",
        "\n",
        "@tool\n",
        "def divide(a: float, b: float) -> float:\n",
        "    \"\"\"Divide a and b.\"\"\"\n",
        "    return a / b\n",
        "\n",
        "\n",
        "tools = [add, subtract, multiply, divide]"
      ]
    },
    {
      "cell_type": "markdown",
      "metadata": {},
      "source": [
        "Define the graph."
      ]
    },
    {
      "cell_type": "code",
      "execution_count": 7,
      "metadata": {},
      "outputs": [],
      "source": [
        "from langgraph.prebuilt import create_react_agent\n",
        "\n",
        "graph = create_react_agent(chat, tools=tools)"
      ]
    },
    {
      "cell_type": "markdown",
      "metadata": {},
      "source": [
        "Visualize the graph you just created."
      ]
    },
    {
      "cell_type": "code",
      "execution_count": 8,
      "metadata": {},
      "outputs": [
        {
          "data": {
            "image/png": "[encoded data removed]",
            "text/plain": [
              "<IPython.core.display.Image object>"
            ]
          },
          "metadata": {},
          "output_type": "display_data"
        }
      ],
      "source": [
        "from IPython.display import Image, display\n",
        "\n",
        "display(Image(graph.get_graph().draw_mermaid_png()))"
      ]
    },
    {
      "cell_type": "markdown",
      "metadata": {},
      "source": [
        "Add a helpful function to print messages from the model."
      ]
    },
    {
      "cell_type": "code",
      "execution_count": 9,
      "metadata": {},
      "outputs": [],
      "source": [
        "def print_stream(stream):\n",
        "    for s in stream:\n",
        "        message = s[\"messages\"][-1]\n",
        "        if isinstance(message, tuple):\n",
        "            print(message)\n",
        "        else:\n",
        "            message.pretty_print()"
      ]
    },
    {
      "cell_type": "markdown",
      "metadata": {},
      "source": [
        "<a id=\"example\"></a>\n",
        "## Example\n",
        "\n",
        "Run the app with an input that needs a tool call."
      ]
    },
    {
      "cell_type": "code",
      "execution_count": 10,
      "metadata": {},
      "outputs": [
        {
          "name": "stdout",
          "output_type": "stream",
          "text": [
            "================================\u001b[1m Human Message \u001b[0m=================================\n",
            "\n",
            "What is the total sum of the numbers 11, 13, and 20?\n",
            "==================================\u001b[1m Ai Message \u001b[0m==================================\n",
            "Tool Calls:\n",
            "  add (2EeYe1TJJ)\n",
            " Call ID: 2EeYe1TJJ\n",
            "  Args:\n",
            "    a: 11\n",
            "    b: 13\n",
            "  add (GcCBg3xxj)\n",
            " Call ID: GcCBg3xxj\n",
            "  Args:\n",
            "    a: 24\n",
            "    b: 20\n",
            "=================================\u001b[1m Tool Message \u001b[0m=================================\n",
            "Name: add\n",
            "\n",
            "44.0\n",
            "==================================\u001b[1m Ai Message \u001b[0m==================================\n",
            "\n",
            " The total sum of the numbers 11, 13, and 20 is 44.\n"
          ]
        }
      ],
      "source": [
        "inputs = {\"messages\": [(\"user\", \"What is the total sum of the numbers 11, 13, and 20?\")]}\n",
        "print_stream(graph.stream(inputs, stream_mode=\"values\"))"
      ]
    },
    {
      "cell_type": "code",
      "execution_count": 11,
      "metadata": {},
      "outputs": [
        {
          "name": "stdout",
          "output_type": "stream",
          "text": [
            "================================\u001b[1m Human Message \u001b[0m=================================\n",
            "\n",
            "What is the result when 81 is subtracted from 100?\n",
            "==================================\u001b[1m Ai Message \u001b[0m==================================\n",
            "Tool Calls:\n",
            "  subtract (b3oyZIHSD)\n",
            " Call ID: b3oyZIHSD\n",
            "  Args:\n",
            "    a: 100\n",
            "    b: 81\n",
            "=================================\u001b[1m Tool Message \u001b[0m=================================\n",
            "Name: subtract\n",
            "\n",
            "19.0\n",
            "==================================\u001b[1m Ai Message \u001b[0m==================================\n",
            "\n",
            " The result of subtracting 81 from 100 is 19.\n"
          ]
        }
      ],
      "source": [
        "inputs = {\"messages\": [(\"user\", \"What is the result when 81 is subtracted from 100?\")]}\n",
        "print_stream(graph.stream(inputs, stream_mode=\"values\"))"
      ]
    },
    {
      "cell_type": "code",
      "execution_count": 12,
      "metadata": {},
      "outputs": [
        {
          "name": "stdout",
          "output_type": "stream",
          "text": [
            "================================\u001b[1m Human Message \u001b[0m=================================\n",
            "\n",
            "Calculate the result of multiplying 10 by 12.\n",
            "==================================\u001b[1m Ai Message \u001b[0m==================================\n",
            "Tool Calls:\n",
            "  multiply (Ao3HO9Dyg)\n",
            " Call ID: Ao3HO9Dyg\n",
            "  Args:\n",
            "    a: 10\n",
            "    b: 12\n",
            "=================================\u001b[1m Tool Message \u001b[0m=================================\n",
            "Name: multiply\n",
            "\n",
            "120.0\n",
            "==================================\u001b[1m Ai Message \u001b[0m==================================\n",
            "\n",
            " The result of multiplying 10 by 12 is 120.\n"
          ]
        }
      ],
      "source": [
        "inputs = {\"messages\": [(\"user\", \"Calculate the result of multiplying 10 by 12.\")]}\n",
        "print_stream(graph.stream(inputs, stream_mode=\"values\"))"
      ]
    },
    {
      "cell_type": "code",
      "execution_count": 13,
      "metadata": {},
      "outputs": [
        {
          "name": "stdout",
          "output_type": "stream",
          "text": [
            "================================\u001b[1m Human Message \u001b[0m=================================\n",
            "\n",
            "Determine the result of dividing 2 by 3.\n",
            "==================================\u001b[1m Ai Message \u001b[0m==================================\n",
            "Tool Calls:\n",
            "  divide (eBjuQpyaj)\n",
            " Call ID: eBjuQpyaj\n",
            "  Args:\n",
            "    a: 2\n",
            "    b: 3\n",
            "=================================\u001b[1m Tool Message \u001b[0m=================================\n",
            "Name: divide\n",
            "\n",
            "0.6666666666666666\n",
            "==================================\u001b[1m Ai Message \u001b[0m==================================\n",
            "\n",
            " The result of dividing 2 by 3 is approximately 0.67.\n"
          ]
        }
      ],
      "source": [
        "inputs = {\"messages\": [(\"user\", \"Determine the result of dividing 2 by 3.\")]}\n",
        "print_stream(graph.stream(inputs, stream_mode=\"values\"))"
      ]
    },
    {
      "cell_type": "code",
      "execution_count": 14,
      "metadata": {},
      "outputs": [
        {
          "name": "stdout",
          "output_type": "stream",
          "text": [
            "================================\u001b[1m Human Message \u001b[0m=================================\n",
            "\n",
            "What is the result when the sum of 2 and 3 is multiplied by 6 and then divided by 10?\n",
            "==================================\u001b[1m Ai Message \u001b[0m==================================\n",
            "Tool Calls:\n",
            "  add (evbbp28UX)\n",
            " Call ID: evbbp28UX\n",
            "  Args:\n",
            "    a: 2\n",
            "    b: 3\n",
            "  multiply (4yOEVOdoS)\n",
            " Call ID: 4yOEVOdoS\n",
            "  Args:\n",
            "    a: 5\n",
            "    b: 6\n",
            "  divide (vZfKFgH7f)\n",
            " Call ID: vZfKFgH7f\n",
            "  Args:\n",
            "    a: 30\n",
            "    b: 10\n",
            "=================================\u001b[1m Tool Message \u001b[0m=================================\n",
            "Name: divide\n",
            "\n",
            "3.0\n",
            "==================================\u001b[1m Ai Message \u001b[0m==================================\n",
            "\n",
            " The result is 3.\n"
          ]
        }
      ],
      "source": [
        "inputs = {\"messages\": [(\"user\", \"What is the result when the sum of 2 and 3 is multiplied by 6 and then divided by 10?\")]}\n",
        "print_stream(graph.stream(inputs, stream_mode=\"values\"))"
      ]
    },
    {
      "cell_type": "markdown",
      "metadata": {
        "pycharm": {
          "name": "#%% md\n"
        }
      },
      "source": [
        "<a id=\"summary\"></a>\n",
        "## Summary and next steps\n",
        "\n",
        "You successfully completed this notebook!\n",
        "\n",
        "You learned how to build a simple graph using LangGraph and `ChatWatsonx`.\n",
        "\n",
        "Check out our _<a href=\"https://ibm.github.io/watsonx-ai-python-sdk/samples.html\" target=\"_blank\" rel=\"noopener no referrer\">Online Documentation</a>_ for more samples, tutorials, documentation, how-tos, and blog posts. "
      ]
    },
    {
      "cell_type": "markdown",
      "metadata": {
        "pycharm": {
          "name": "#%% md\n"
        }
      },
      "source": [
        "### Author\n",
        "\n",
        "**Mateusz Szewczyk**, Software Engineer at Watson Machine Learning."
      ]
    },
    {
      "cell_type": "markdown",
      "metadata": {},
      "source": [
        "Copyright © 2024-2025 IBM. This notebook and its source code are released under the terms of the MIT License."
      ]
    }
  ],
  "metadata": {
    "kernelspec": {
      "display_name": "note_env",
      "language": "python",
      "name": "python3"
    },
    "language_info": {
      "codemirror_mode": {
        "name": "ipython",
        "version": 3
      },
      "file_extension": ".py",
      "mimetype": "text/x-python",
      "name": "python",
      "nbconvert_exporter": "python",
      "pygments_lexer": "ipython3",
      "version": "3.11.8"
    }
  },
  "nbformat": 4,
  "nbformat_minor": 4
}