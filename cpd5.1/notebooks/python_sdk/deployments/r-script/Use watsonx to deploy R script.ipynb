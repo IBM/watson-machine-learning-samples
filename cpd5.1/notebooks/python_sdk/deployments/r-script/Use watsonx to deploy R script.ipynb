{
  "cells": [
    {
      "cell_type": "markdown",
      "metadata": {},
      "source": [
        "# Use `ibm-watsonx-ai` to deploy R script\n",
        "This notebook contains steps and code to demonstrate how to deploy a R script with the [ibm-watsonx-ai](https://pypi.python.org/pypi/ibm-watsonx-ai) library available in the PyPI repository. This notebook consists of steps to create a R script, create a deployment, create and run a job. \n",
        "\n",
        "Some familiarity with Python is helpful. This notebook uses Python 3.11."
      ]
    },
    {
      "cell_type": "markdown",
      "metadata": {},
      "source": [
        "## Learning goals\n",
        "The learning goals of this notebook are:\n",
        "\n",
        "- Create and save a R script.\n",
        "- Deploy the script using the client library.\n",
        "- Create and Run a job which utilises the created deployment.\n",
        "\n",
        "## Contents\n",
        "This notebook contains the following parts:\n",
        "\n",
        "1. [Setup](#section1)\n",
        "2. [Deployment of R Script](#section2)\n",
        "3. [Create and Run Job](#section3)\n",
        "4. [Clean up](#section4)\n",
        "5. [Summary](#section5)"
      ]
    },
    {
      "cell_type": "markdown",
      "metadata": {},
      "source": [
        "<a id='section1'></a>\n",
        "## 1. Set up the environment\n",
        "\n",
        "Before you use the sample code in this notebook, you must perform the following setup tasks:\n",
        "\n",
        "-  Contact your Cloud Pak for Data administrator and ask them for your account credentials"
      ]
    },
    {
      "cell_type": "markdown",
      "metadata": {},
      "source": [
        "### Install and import the `ibm-watsonx-ai` and dependecies\n",
        "**Note:** `ibm-watsonx-ai` documentation can be found <a href=\"https://ibm.github.io/watsonx-ai-python-sdk/index.html\" target=\"_blank\" rel=\"noopener no referrer\">here</a>."
      ]
    },
    {
      "cell_type": "code",
      "execution_count": null,
      "metadata": {},
      "outputs": [],
      "source": [
        "!pip install -U ibm-watsonx-ai | tail -n 1"
      ]
    },
    {
      "cell_type": "markdown",
      "metadata": {},
      "source": [
        "### Connection to WML\n",
        "\n",
        "Authenticate the Watson Machine Learning service on IBM Cloud Pak for Data. You need to provide platform `url`, your `username` and `api_key`."
      ]
    },
    {
      "cell_type": "code",
      "execution_count": 2,
      "metadata": {},
      "outputs": [],
      "source": [
        "username = 'PASTE YOUR USERNAME HERE'\n",
        "api_key = 'PASTE YOUR API_KEY HERE'\n",
        "url = 'PASTE THE PLATFORM URL HERE'"
      ]
    },
    {
      "cell_type": "code",
      "execution_count": 3,
      "metadata": {},
      "outputs": [],
      "source": [
        "from ibm_watsonx_ai import Credentials\n",
        "\n",
        "credentials = Credentials(\n",
        "    username=username,\n",
        "    api_key=api_key,\n",
        "    url=url,\n",
        "    instance_id=\"openshift\",\n",
        "    version=\"5.1\"\n",
        ")"
      ]
    },
    {
      "cell_type": "markdown",
      "metadata": {},
      "source": [
        "Alternatively you can use `username` and `password` to authenticate WML services.\n",
        "\n",
        "```python\n",
        "credentials = Credentials(\n",
        "    username=***,\n",
        "    password=***,\n",
        "    url=***,\n",
        "    instance_id=\"openshift\",\n",
        "    version=\"5.1\"\n",
        ")\n",
        "\n",
        "```"
      ]
    },
    {
      "cell_type": "code",
      "execution_count": 4,
      "metadata": {},
      "outputs": [],
      "source": [
        "from ibm_watsonx_ai import APIClient\n",
        "\n",
        "client = APIClient(credentials)"
      ]
    },
    {
      "cell_type": "markdown",
      "metadata": {},
      "source": [
        "### Working with spaces\n",
        "\n",
        "First of all, you need to create a space that will be used for your work. If you do not have space already created, you can use `{PLATFORM_URL}/ml-runtime/spaces?context=icp4data` to create one.\n",
        "\n",
        "- Click New Deployment Space\n",
        "- Create an empty space\n",
        "- Go to space `Settings` tab\n",
        "- Copy `space_id` and paste it below\n",
        "\n",
        "**Tip**: You can also use SDK to prepare the space for your work. More information can be found [here](https://github.com/IBM/watson-machine-learning-samples/blob/master/cpd5.1/notebooks/python_sdk/instance-management/Space%20management.ipynb).\n",
        "\n",
        "**Action**: Assign space ID below"
      ]
    },
    {
      "cell_type": "code",
      "execution_count": 6,
      "metadata": {},
      "outputs": [],
      "source": [
        "space_id = 'PASTE YOUR SPACE ID HERE'"
      ]
    },
    {
      "cell_type": "markdown",
      "metadata": {},
      "source": [
        "You can use `list` method to print all existing spaces."
      ]
    },
    {
      "cell_type": "code",
      "execution_count": null,
      "metadata": {},
      "outputs": [],
      "source": [
        "client.spaces.list(limit=10)"
      ]
    },
    {
      "cell_type": "markdown",
      "metadata": {},
      "source": [
        "To be able to interact with all resources available in Watson Machine Learning, you need to set **space** which you will be using."
      ]
    },
    {
      "cell_type": "code",
      "execution_count": 7,
      "metadata": {},
      "outputs": [
        {
          "data": {
            "text/plain": [
              "'SUCCESS'"
            ]
          },
          "execution_count": 7,
          "metadata": {},
          "output_type": "execute_result"
        }
      ],
      "source": [
        "client.set.default_space(space_id)"
      ]
    },
    {
      "cell_type": "markdown",
      "metadata": {},
      "source": [
        "### Software specification\n",
        "\n",
        "You can use popular tools, libraries, and frameworks to train and deploy machine learning models and functions.\n",
        "\n",
        "The following list shows the predefined (base) model types and software specifications."
      ]
    },
    {
      "cell_type": "code",
      "execution_count": null,
      "metadata": {},
      "outputs": [],
      "source": [
        "client.software_specifications.list()"
      ]
    },
    {
      "cell_type": "markdown",
      "metadata": {},
      "source": [
        "You can select the software specification using the function below."
      ]
    },
    {
      "cell_type": "code",
      "execution_count": 9,
      "metadata": {},
      "outputs": [
        {
          "name": "stdout",
          "output_type": "stream",
          "text": [
            "c9679e95-1b5e-590d-a6ce-0c15dc870a0a\n"
          ]
        }
      ],
      "source": [
        "base_sw_spec_id = client.software_specifications.get_uid_by_name(\"runtime-24.1-r4.3\")\n",
        "print(base_sw_spec_id)"
      ]
    },
    {
      "cell_type": "markdown",
      "metadata": {},
      "source": [
        "<a id='section2'></a>\n",
        "## 2. R Script Deployment"
      ]
    },
    {
      "cell_type": "markdown",
      "metadata": {},
      "source": [
        "### Save R Script\n",
        "\n",
        "This file will be saved locally so you can deploy and run it later."
      ]
    },
    {
      "cell_type": "code",
      "execution_count": 34,
      "metadata": {},
      "outputs": [
        {
          "name": "stdout",
          "output_type": "stream",
          "text": [
            "Overwriting /tmp/CreateSwSpec_script.R\n"
          ]
        }
      ],
      "source": [
        "%%writefile /tmp/CreateSwSpec_script.R\n",
        "\n",
        "outfname <- file.path(Sys.getenv(\"BATCH_OUTPUT_DIR\"), \"swspec.log\")\n",
        "\n",
        "tryCatch({\n",
        "  writeLines(\"ok\", outfname)\n",
        "}, error = function(e) {\n",
        "  writeLines(paste(\"fail:\", e), outfname)\n",
        "})"
      ]
    },
    {
      "cell_type": "markdown",
      "metadata": {},
      "source": [
        "The file should be successfully created. \n",
        "To check its content, you can use the command below."
      ]
    },
    {
      "cell_type": "code",
      "execution_count": 35,
      "metadata": {},
      "outputs": [
        {
          "name": "stdout",
          "output_type": "stream",
          "text": [
            "\n",
            "outfname <- file.path(Sys.getenv(\"BATCH_OUTPUT_DIR\"), \"swspec.log\")\n",
            "\n",
            "tryCatch({\n",
            "  writeLines(\"ok\", outfname)\n",
            "}, error = function(e) {\n",
            "  writeLines(paste(\"fail:\", e), outfname)\n",
            "})\n"
          ]
        }
      ],
      "source": [
        "!cat /tmp/CreateSwSpec_script.R"
      ]
    },
    {
      "cell_type": "markdown",
      "metadata": {},
      "source": [
        "### Deployment of R Script\n",
        "\n",
        "You can store and deploy a R script and get its details by running the code in following cells. "
      ]
    },
    {
      "cell_type": "code",
      "execution_count": 36,
      "metadata": {},
      "outputs": [],
      "source": [
        "meta_props = {\n",
        "    client.script.ConfigurationMetaNames.NAME: \"RScript\",\n",
        "    client.script.ConfigurationMetaNames.SOFTWARE_SPEC_UID: base_sw_spec_id  # required\n",
        "}"
      ]
    },
    {
      "cell_type": "code",
      "execution_count": 37,
      "metadata": {},
      "outputs": [
        {
          "name": "stdout",
          "output_type": "stream",
          "text": [
            "Creating Script asset...\n",
            "SUCCESS\n",
            "Created script  04edd97b-5cd9-4c41-972d-f49369582acf\n"
          ]
        }
      ],
      "source": [
        "script_path = \"/tmp/CreateSwSpec_script.R\"\n",
        "script_details = client.script.store(meta_props, file_path=script_path)\n",
        "script_id = client.script.get_id(script_details)\n",
        "print(\"Created script \", script_id)"
      ]
    },
    {
      "cell_type": "code",
      "execution_count": null,
      "metadata": {},
      "outputs": [],
      "source": [
        "script_details"
      ]
    },
    {
      "cell_type": "code",
      "execution_count": 39,
      "metadata": {},
      "outputs": [
        {
          "name": "stdout",
          "output_type": "stream",
          "text": [
            "\n",
            "\n",
            "######################################################################################\n",
            "\n",
            "Synchronous deployment creation for id: '04edd97b-5cd9-4c41-972d-f49369582acf' started\n",
            "\n",
            "######################################################################################\n",
            "\n",
            "\n",
            "ready.\n",
            "\n",
            "\n",
            "-----------------------------------------------------------------------------------------------\n",
            "Successfully finished deployment creation, deployment_id='dca7efe0-3fbf-4d89-8425-807fa4bb438f'\n",
            "-----------------------------------------------------------------------------------------------\n",
            "\n",
            "\n"
          ]
        }
      ],
      "source": [
        "deployment_meta_props = {\n",
        "    client.deployments.ConfigurationMetaNames.NAME: \"rscript_deployment\",\n",
        "    client.deployments.ConfigurationMetaNames.BATCH: {},\n",
        "    client.deployments.ConfigurationMetaNames.HARDWARE_SPEC: { 'name': 'S' }\n",
        "}\n",
        "\n",
        "deployment_details = client.deployments.create(script_id, deployment_meta_props)\n",
        "deployment_id = client.deployments.get_id(deployment_details)"
      ]
    },
    {
      "cell_type": "code",
      "execution_count": null,
      "metadata": {},
      "outputs": [],
      "source": [
        "deployment_details"
      ]
    },
    {
      "cell_type": "markdown",
      "metadata": {},
      "source": [
        "<a id='section3'></a>\n",
        "## 3. Create and Run job\n",
        "\n",
        "Run the following cells to create and run a job with the deployed script."
      ]
    },
    {
      "cell_type": "code",
      "execution_count": 41,
      "metadata": {},
      "outputs": [],
      "source": [
        "def poll_async_job(wml_client, job_uid):\n",
        "    import time\n",
        "    while True:\n",
        "        job_status = wml_client.deployments.get_job_status(job_uid)\n",
        "        print(job_status)\n",
        "        state = job_status['state']\n",
        "        if state == 'completed' or 'fail' in state:\n",
        "            return wml_client.deployments.get_job_details(job_uid)\n",
        "        time.sleep(5)"
      ]
    },
    {
      "cell_type": "code",
      "execution_count": 42,
      "metadata": {},
      "outputs": [],
      "source": [
        "job_payload_ref = {\n",
        "    client.deployments.ScoringMetaNames.OUTPUT_DATA_REFERENCE: {\n",
        "        'type': 'data_asset',\n",
        "        'location': { 'name': 'deploy_test_r_script-out' }\n",
        "    }\n",
        "}\n",
        "\n",
        "job = client.deployments.create_job(deployment_id, meta_props=job_payload_ref)\n",
        "job_id = client.deployments.get_job_uid(job)"
      ]
    },
    {
      "cell_type": "code",
      "execution_count": 43,
      "metadata": {},
      "outputs": [
        {
          "name": "stdout",
          "output_type": "stream",
          "text": [
            "{'completed_at': '', 'running_at': '', 'state': 'queued'}\n",
            "{'completed_at': '', 'running_at': '', 'state': 'queued'}\n",
            "{'completed_at': '', 'running_at': '', 'state': 'queued'}\n",
            "{'completed_at': '', 'running_at': '', 'state': 'queued'}\n",
            "{'completed_at': '', 'running_at': '', 'state': 'queued'}\n",
            "{'completed_at': '', 'running_at': '', 'state': 'queued'}\n",
            "{'completed_at': '2024-12-24T11:36:58.504900Z', 'running_at': '2024-12-24T11:36:55.109341Z', 'state': 'completed'}\n"
          ]
        }
      ],
      "source": [
        "job_details = poll_async_job(client, job_id)"
      ]
    },
    {
      "cell_type": "markdown",
      "metadata": {},
      "source": [
        "<a id='section4'></a>\n",
        "## 4. Cleanup "
      ]
    },
    {
      "cell_type": "markdown",
      "metadata": {},
      "source": [
        "If you want to clean up all created assets:\n",
        "- experiments\n",
        "- trainings\n",
        "- pipelines\n",
        "- model definitions\n",
        "- models\n",
        "- functions\n",
        "- deployments\n",
        "\n",
        "please follow up this sample [notebook](https://github.com/IBM/watson-machine-learning-samples/blob/master/cpd5.1/notebooks/python_sdk/instance-management/Machine%20Learning%20artifacts%20management.ipynb)."
      ]
    },
    {
      "cell_type": "markdown",
      "metadata": {},
      "source": [
        "<a id='section5'></a>\n",
        "## 5. Summary"
      ]
    },
    {
      "cell_type": "markdown",
      "metadata": {},
      "source": [
        "You successfully completed this notebook! You learned how to create and deploy a R script, and create and run a job using Watson Machine Learning.\n",
        "\n",
        "Check out our _<a href=\"https://ibm.github.io/watsonx-ai-python-sdk/samples.html\" target=\"_blank\" rel=\"noopener no referrer\">Online Documentation</a>_ for more samples, tutorials, documentation, how-tos, and blog posts. \n"
      ]
    },
    {
      "cell_type": "markdown",
      "metadata": {},
      "source": [
        "### Author\n",
        "\n",
        "**Jakub Żywiecki**, Software Engineer"
      ]
    },
    {
      "cell_type": "markdown",
      "metadata": {},
      "source": [
        "Copyright © 2024-2025 IBM. This notebook and its source code are released under the terms of the MIT License."
      ]
    }
  ],
  "metadata": {
    "kernelspec": {
      "display_name": "watsonx-ai-sdk",
      "language": "python",
      "name": "python3"
    },
    "language_info": {
      "codemirror_mode": {
        "name": "ipython",
        "version": 3
      },
      "file_extension": ".py",
      "mimetype": "text/x-python",
      "name": "python",
      "nbconvert_exporter": "python",
      "pygments_lexer": "ipython3",
      "version": "3.11.11"
    }
  },
  "nbformat": 4,
  "nbformat_minor": 2
}