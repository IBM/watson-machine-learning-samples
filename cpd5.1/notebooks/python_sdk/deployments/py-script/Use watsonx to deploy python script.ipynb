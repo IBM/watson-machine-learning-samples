{
 "cells": [
  {
   "cell_type": "markdown",
   "metadata": {},
   "source": [
    "# Use `ibm-watsonx-ai` to deploy Python script\n",
    "This notebook contains steps and code to demonstrate how to deploy a Python script with the [ibm-watsonx-ai](https://pypi.python.org/pypi/ibm-watsonx-ai) library available in the PyPI repository. This notebook consists of steps to create a pPthon script, create a deployment, create and run a job. \n",
    "\n",
    "Some familiarity with Python is helpful. This notebook uses Python 3.11."
   ]
  },
  {
   "cell_type": "markdown",
   "metadata": {},
   "source": [
    "## Learning goals\n",
    "The learning goals of this notebook are:\n",
    "\n",
    "- Create and save a python script.\n",
    "- Deploy the script using the client library.\n",
    "- Create and Run a job which utilises the created deployment.\n",
    "\n",
    "## Contents\n",
    "This notebook contains the following parts:\n",
    "\n",
    "1. [Setup](#section1)\n",
    "2. [Deployment of Python Script](#section2)\n",
    "3. [Create and Run Job](#section3)\n",
    "4. [Clean up](#section4)\n",
    "5. [Summary](#section5)"
   ]
  },
  {
   "cell_type": "markdown",
   "metadata": {},
   "source": [
    "<a id='section1'></a>\n",
    "## 1. Set up the environment\n",
    "\n",
    "Before you use the sample code in this notebook, you must perform the following setup tasks:\n",
    "\n",
    "-  Contact your Cloud Pack for Data administrator and ask them for your account credentials"
   ]
  },
  {
   "cell_type": "markdown",
   "metadata": {},
   "source": [
    "### Install and import the `ibm-watsonx-ai` and dependecies\n",
    "**Note:** `ibm-watsonx-ai` documentation can be found <a href=\"https://ibm.github.io/watsonx-ai-python-sdk/index.html\" target=\"_blank\" rel=\"noopener no referrer\">here</a>."
   ]
  },
  {
   "cell_type": "code",
   "execution_count": null,
   "metadata": {},
   "outputs": [],
   "source": [
    "!pip install -U ibm-watsonx-ai | tail -n 1"
   ]
  },
  {
   "cell_type": "markdown",
   "metadata": {},
   "source": [
    "### Connection to WML\n",
    "\n",
    "Authenticate the Watson Machine Learning service on IBM Cloud Pack for Data. You need to provide platform `url`, your `username` and `api_key`."
   ]
  },
  {
   "cell_type": "code",
   "execution_count": 156,
   "metadata": {},
   "outputs": [],
   "source": [
    "username = 'PASTE YOUR USERNAME HERE'\n",
    "api_key = 'PASTE YOUR API_KEY HERE'\n",
    "url = 'PASTE THE PLATFORM URL HERE'"
   ]
  },
  {
   "cell_type": "code",
   "execution_count": 157,
   "metadata": {},
   "outputs": [],
   "source": [
    "from ibm_watsonx_ai import Credentials\n",
    "\n",
    "credentials = Credentials(\n",
    "    username=username,\n",
    "    api_key=api_key,\n",
    "    url=url,\n",
    "    instance_id=\"openshift\",\n",
    "    version=\"5.1\"\n",
    ")"
   ]
  },
  {
   "cell_type": "markdown",
   "metadata": {},
   "source": [
    "Alternatively you can use `username` and `password` to authenticate WML services.\n",
    "\n",
    "```python\n",
    "credentials = Credentials(\n",
    "    username=***,\n",
    "    password=***,\n",
    "    url=***,\n",
    "    instance_id=\"openshift\",\n",
    "    version=\"5.1\"\n",
    ")\n",
    "\n",
    "```"
   ]
  },
  {
   "cell_type": "code",
   "execution_count": 158,
   "metadata": {},
   "outputs": [],
   "source": [
    "from ibm_watsonx_ai import APIClient\n",
    "\n",
    "client = APIClient(credentials)"
   ]
  },
  {
   "cell_type": "markdown",
   "metadata": {},
   "source": [
    "### Working with spaces\n",
    "\n",
    "First of all, you need to create a space that will be used for your work. If you do not have space already created, you can use `{PLATFORM_URL}/ml-runtime/spaces?context=icp4data` to create one.\n",
    "\n",
    "- Click New Deployment Space\n",
    "- Create an empty space\n",
    "- Go to space `Settings` tab\n",
    "- Copy `space_id` and paste it below\n",
    "\n",
    "**Tip**: You can also use SDK to prepare the space for your work. More information can be found [here](https://github.com/IBM/watson-machine-learning-samples/blob/master/cpd5.1/notebooks/python_sdk/instance-management/Space%20management.ipynb).\n",
    "\n",
    "**Action**: Assign space ID below"
   ]
  },
  {
   "cell_type": "code",
   "execution_count": 159,
   "metadata": {},
   "outputs": [],
   "source": [
    "space_id = 'PASTE YOUR SPACE ID HERE'"
   ]
  },
  {
   "cell_type": "markdown",
   "metadata": {},
   "source": [
    "You can use `list` method to print all existing spaces."
   ]
  },
  {
   "cell_type": "code",
   "execution_count": null,
   "metadata": {},
   "outputs": [],
   "source": [
    "client.spaces.list(limit=10)"
   ]
  },
  {
   "cell_type": "markdown",
   "metadata": {},
   "source": [
    "To be able to interact with all resources available in Watson Machine Learning, you need to set **space** which you will be using."
   ]
  },
  {
   "cell_type": "code",
   "execution_count": 160,
   "metadata": {},
   "outputs": [
    {
     "data": {
      "text/plain": [
       "'SUCCESS'"
      ]
     },
     "execution_count": 160,
     "metadata": {},
     "output_type": "execute_result"
    }
   ],
   "source": [
    "client.set.default_space(space_id)"
   ]
  },
  {
   "cell_type": "markdown",
   "metadata": {},
   "source": [
    "### Software specification\n",
    "\n",
    "You can use popular tools, libraries, and frameworks to train and deploy machine learning models and functions.\n",
    "\n",
    "The following list shows the predefined (base) model types and software specifications."
   ]
  },
  {
   "cell_type": "code",
   "execution_count": null,
   "metadata": {},
   "outputs": [],
   "source": [
    "client.software_specifications.list()"
   ]
  },
  {
   "cell_type": "markdown",
   "metadata": {},
   "source": [
    "You can select the software specification using the function below."
   ]
  },
  {
   "cell_type": "code",
   "execution_count": 161,
   "metadata": {},
   "outputs": [
    {
     "name": "stdout",
     "output_type": "stream",
     "text": [
      "45f12dfe-aa78-5b8d-9f38-0ee223c47309\n"
     ]
    }
   ],
   "source": [
    "base_sw_spec_id = client.software_specifications.get_uid_by_name(\"runtime-24.1-py3.11\")\n",
    "print(base_sw_spec_id)"
   ]
  },
  {
   "cell_type": "markdown",
   "metadata": {},
   "source": [
    "<a id='section2'></a>\n",
    "## 2. Python Script Deployment"
   ]
  },
  {
   "cell_type": "markdown",
   "metadata": {},
   "source": [
    "### Save Python Script\n",
    "\n",
    "This file will be saved locally so you can deploy and run it later."
   ]
  },
  {
   "cell_type": "code",
   "execution_count": 162,
   "metadata": {},
   "outputs": [
    {
     "name": "stdout",
     "output_type": "stream",
     "text": [
      "Overwriting /tmp/CreateSwSpec_script.py\n"
     ]
    }
   ],
   "source": [
    "%%writefile /tmp/CreateSwSpec_script.py\n",
    "\n",
    "import sys\n",
    "import time\n",
    "import os\n",
    "\n",
    "outfname = os.path.join(os.environ.get('BATCH_OUTPUT_DIR'), \"swspec.log\")\n",
    "with open(outfname, \"w\") as f:\n",
    "    try:\n",
    "        f.write(\"The deployed python script was run successfully!\")\n",
    "    except Exception as ex:\n",
    "        f.write(\"The deployed python script failed: \" + repr(sys.exc_info()[0]))\n",
    "        f.write(\"sys path:\")\n",
    "        f.write(sys.path)"
   ]
  },
  {
   "cell_type": "markdown",
   "metadata": {},
   "source": [
    "The file should be successfully created. \n",
    "To check its content, you can use the command below."
   ]
  },
  {
   "cell_type": "code",
   "execution_count": 163,
   "metadata": {},
   "outputs": [
    {
     "name": "stdout",
     "output_type": "stream",
     "text": [
      "\n",
      "import sys\n",
      "import time\n",
      "import os\n",
      "\n",
      "outfname = os.path.join(os.environ.get('BATCH_OUTPUT_DIR'), \"swspec.log\")\n",
      "with open(outfname, \"w\") as f:\n",
      "    try:\n",
      "        f.write(\"The deployed python script was run successfully!\")\n",
      "    except Exception as ex:\n",
      "        f.write(\"The deployed python script failed: \" + repr(sys.exc_info()[0]))\n",
      "        f.write(\"sys path:\")\n",
      "        f.write(sys.path)\n"
     ]
    }
   ],
   "source": [
    "!cat /tmp/CreateSwSpec_script.py"
   ]
  },
  {
   "cell_type": "markdown",
   "metadata": {},
   "source": [
    "### Deployment of Python Script\n",
    "\n",
    "You can store and deploy a Python script and get its details by running the code in following cells. "
   ]
  },
  {
   "cell_type": "code",
   "execution_count": 164,
   "metadata": {},
   "outputs": [],
   "source": [
    "meta_props = {\n",
    "    client.script.ConfigurationMetaNames.NAME: \"PyScript\",\n",
    "    client.script.ConfigurationMetaNames.SOFTWARE_SPEC_UID: base_sw_spec_id  # required\n",
    "}"
   ]
  },
  {
   "cell_type": "code",
   "execution_count": 137,
   "metadata": {},
   "outputs": [
    {
     "name": "stdout",
     "output_type": "stream",
     "text": [
      "Creating Script asset...\n",
      "SUCCESS\n",
      "Created script  55b4015a-b8af-424c-bbe7-9010b682d93d\n"
     ]
    }
   ],
   "source": [
    "script_path = \"/tmp/CreateSwSpec_script.py\"\n",
    "script_details = client.script.store(meta_props, file_path=script_path)\n",
    "script_id = client.script.get_id(script_details)\n",
    "print(\"Created script \", script_id)"
   ]
  },
  {
   "cell_type": "code",
   "execution_count": null,
   "metadata": {},
   "outputs": [],
   "source": [
    "script_details"
   ]
  },
  {
   "cell_type": "code",
   "execution_count": 165,
   "metadata": {},
   "outputs": [
    {
     "name": "stdout",
     "output_type": "stream",
     "text": [
      "\n",
      "\n",
      "######################################################################################\n",
      "\n",
      "Synchronous deployment creation for id: '55b4015a-b8af-424c-bbe7-9010b682d93d' started\n",
      "\n",
      "######################################################################################\n",
      "\n",
      "\n",
      "ready.\n",
      "\n",
      "\n",
      "-----------------------------------------------------------------------------------------------\n",
      "Successfully finished deployment creation, deployment_id='8a771b18-f88c-4fa6-acaf-2425b5a2c046'\n",
      "-----------------------------------------------------------------------------------------------\n",
      "\n",
      "\n"
     ]
    }
   ],
   "source": [
    "deployment_meta_props = {\n",
    "    client.deployments.ConfigurationMetaNames.NAME: \"pyscript_deployment\",\n",
    "    client.deployments.ConfigurationMetaNames.BATCH: {},\n",
    "    client.deployments.ConfigurationMetaNames.HARDWARE_SPEC: { 'name': 'S' }\n",
    "}\n",
    "\n",
    "deployment_details = client.deployments.create(script_id, deployment_meta_props)\n",
    "deployment_id = client.deployments.get_id(deployment_details)"
   ]
  },
  {
   "cell_type": "code",
   "execution_count": null,
   "metadata": {},
   "outputs": [],
   "source": [
    "deployment_details"
   ]
  },
  {
   "cell_type": "markdown",
   "metadata": {},
   "source": [
    "<a id='section3'></a>\n",
    "## 3. Create and Run job\n",
    "\n",
    "Run the following cells to create and run a job with the deployed script."
   ]
  },
  {
   "cell_type": "code",
   "execution_count": 166,
   "metadata": {},
   "outputs": [],
   "source": [
    "def poll_async_job(wml_client, job_uid):\n",
    "    import time\n",
    "    while True:\n",
    "        job_status = wml_client.deployments.get_job_status(job_uid)\n",
    "        print(job_status)\n",
    "        state = job_status['state']\n",
    "        if state == 'completed' or 'fail' in state:\n",
    "            return wml_client.deployments.get_job_details(job_uid)\n",
    "        time.sleep(5)"
   ]
  },
  {
   "cell_type": "code",
   "execution_count": 168,
   "metadata": {},
   "outputs": [],
   "source": [
    "job_payload_ref = {\n",
    "    client.deployments.ScoringMetaNames.OUTPUT_DATA_REFERENCE: {\n",
    "        'type': 'data_asset',\n",
    "        'location': { 'name': 'deploy_test_script-out' }\n",
    "    }\n",
    "}\n",
    "\n",
    "job = client.deployments.create_job(deployment_id, meta_props=job_payload_ref)\n",
    "job_id = client.deployments.get_job_id(job)"
   ]
  },
  {
   "cell_type": "code",
   "execution_count": 169,
   "metadata": {},
   "outputs": [
    {
     "name": "stdout",
     "output_type": "stream",
     "text": [
      "{'completed_at': '', 'running_at': '', 'state': 'queued'}\n",
      "{'completed_at': '', 'running_at': '', 'state': 'queued'}\n",
      "{'completed_at': '', 'running_at': '2025-01-07T11:25:42.988Z', 'state': 'running'}\n",
      "{'completed_at': '2025-01-07T11:25:47.868622Z', 'running_at': '2025-01-07T11:25:42.956402Z', 'state': 'completed'}\n"
     ]
    }
   ],
   "source": [
    "job_details = poll_async_job(client, job_id)"
   ]
  },
  {
   "cell_type": "code",
   "execution_count": null,
   "metadata": {},
   "outputs": [],
   "source": [
    "client.data_assets.list()"
   ]
  },
  {
   "cell_type": "markdown",
   "metadata": {},
   "source": [
    "To download the asset run the code below. It will be downloaded as a zip archive."
   ]
  },
  {
   "cell_type": "code",
   "execution_count": null,
   "metadata": {},
   "outputs": [],
   "source": [
    "scoring_params = client.deployments.get_job_details(job_id)\n",
    "\n",
    "from ibm_watsonx_ai.helpers import DataConnection\n",
    "output_data_connection = DataConnection.from_dict(scoring_params[\"entity\"][\"scoring\"][\"output_data_reference\"])\n",
    "output_data_connection.set_client(client)\n",
    "\n",
    "output_data_connection.download(\"/tmp/CreateSwSpec_script_result.zip\")"
   ]
  },
  {
   "cell_type": "code",
   "execution_count": 173,
   "metadata": {},
   "outputs": [
    {
     "data": {
      "text/plain": [
       "['swspec.log']"
      ]
     },
     "execution_count": 173,
     "metadata": {},
     "output_type": "execute_result"
    }
   ],
   "source": [
    "import zipfile\n",
    "\n",
    "with zipfile.ZipFile(\"/tmp/CreateSwSpec_script_result.zip\", \"r\") as zip_ref:\n",
    "    zip_ref.extractall(\"/tmp/script_result_extracted_files\")\n",
    "\n",
    "zip_ref.namelist()"
   ]
  },
  {
   "cell_type": "code",
   "execution_count": 178,
   "metadata": {},
   "outputs": [
    {
     "data": {
      "text/plain": [
       "['The deployed python script was run successfully!']"
      ]
     },
     "execution_count": 178,
     "metadata": {},
     "output_type": "execute_result"
    }
   ],
   "source": [
    "with open(\"/tmp/script_result_extracted_files/swspec.log\", \"r\") as file:\n",
    "    file_content = file.readlines()\n",
    "\n",
    "file_content"
   ]
  },
  {
   "cell_type": "markdown",
   "metadata": {},
   "source": [
    "<a id='section4'></a>\n",
    "## 4. Cleanup "
   ]
  },
  {
   "cell_type": "markdown",
   "metadata": {},
   "source": [
    "If you want to clean up all created assets:\n",
    "- experiments\n",
    "- trainings\n",
    "- pipelines\n",
    "- model definitions\n",
    "- models\n",
    "- functions\n",
    "- deployments\n",
    "\n",
    "please follow up this sample [notebook](https://github.com/IBM/watson-machine-learning-samples/blob/master/cpd5.1/notebooks/python_sdk/instance-management/Machine%20Learning%20artifacts%20management.ipynb)."
   ]
  },
  {
   "cell_type": "markdown",
   "metadata": {},
   "source": [
    "<a id='section5'></a>\n",
    "## 5. Summary"
   ]
  },
  {
   "cell_type": "markdown",
   "metadata": {},
   "source": [
    "You successfully completed this notebook! You learned how to create and deploy a python script, and create and run a job using Watson Machine Learning.\n",
    "\n",
    "Check out our _<a href=\"https://ibm.github.io/watsonx-ai-python-sdk/samples.html\" target=\"_blank\" rel=\"noopener no referrer\">Online Documentation</a>_ for more samples, tutorials, documentation, how-tos, and blog posts. \n"
   ]
  },
  {
   "cell_type": "markdown",
   "metadata": {},
   "source": [
    "### Author\n",
    "\n",
    "**Jakub Żywiecki**, Software Engineer"
   ]
  },
  {
   "cell_type": "markdown",
   "metadata": {},
   "source": [
    "Copyright © 2024-2025 IBM. This notebook and its source code are released under the terms of the MIT License."
   ]
  }
 ],
 "metadata": {
  "kernelspec": {
   "display_name": "watsonx-ai-sdk",
   "language": "python",
   "name": "python3"
  },
  "language_info": {
   "codemirror_mode": {
    "name": "ipython",
    "version": 3
   },
   "file_extension": ".py",
   "mimetype": "text/x-python",
   "name": "python",
   "nbconvert_exporter": "python",
   "pygments_lexer": "ipython3",
   "version": "3.11.11"
  }
 },
 "nbformat": 4,
 "nbformat_minor": 2
}
