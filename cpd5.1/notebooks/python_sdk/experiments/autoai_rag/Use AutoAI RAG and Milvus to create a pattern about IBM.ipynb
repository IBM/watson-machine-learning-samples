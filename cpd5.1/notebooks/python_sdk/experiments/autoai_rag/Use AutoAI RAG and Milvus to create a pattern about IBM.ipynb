{
  "cells": [
    {
      "cell_type": "markdown",
      "metadata": {},
      "source": [
        "![image](https://raw.githubusercontent.com/IBM/watson-machine-learning-samples/master/cloud/notebooks/headers/watsonx-Prompt_Lab-Notebook.png)\n",
        "# Use AutoAI RAG and Milvus database to work with `ibm-watsonx-ai` SDK documentation."
      ]
    },
    {
      "cell_type": "markdown",
      "metadata": {},
      "source": [
        "#### Disclaimers\n",
        "\n",
        "- Use only Spaces that are available in the watsonx context.\n",
        "\n",
        "\n",
        "## Notebook content\n",
        "\n",
        "This notebook contains the steps and code to demonstrate the usage of IBM AutoAI RAG. The AutoAI RAG experiment conducted in this notebook uses data scraped from the `ibm-watsonx-ai` SDK documentation.\n",
        "\n",
        "Some familiarity with Python is helpful. This notebook uses Python 3.11.\n",
        "\n",
        "\n",
        "## Learning goal\n",
        "\n",
        "The learning goals of this notebook are:\n",
        "\n",
        "- Create an AutoAI RAG job that will find the best RAG pattern based on provided data\n",
        "\n",
        "\n",
        "## Contents\n",
        "\n",
        "This notebook contains the following parts:\n",
        "\n",
        "- [Setup](#setup)\n",
        "- [Define the RAG Optimizer](#definition)\n",
        "- [Run the RAG Experiment](#run)\n",
        "- [Compare and test RAG Patterns](#comparison)\n",
        "- [Historical runs](#runs)\n",
        "- [Clean up](#cleanup)\n",
        "- [Summary and next steps](#summary)"
      ]
    },
    {
      "cell_type": "markdown",
      "metadata": {},
      "source": [
        "<a id=\"setup\"></a>\n",
        "## Set up the environment\n",
        "\n",
        "Before you use the sample code in this notebook, you must perform the following setup task:\n",
        "\n",
        "-  Contact your Cloud Pak for Data administrator and ask them for your account credentials"
      ]
    },
    {
      "cell_type": "markdown",
      "metadata": {},
      "source": [
        "### Install and import the required modules and dependencies"
      ]
    },
    {
      "cell_type": "code",
      "execution_count": null,
      "metadata": {},
      "outputs": [],
      "source": [
        "!pip install -U wget | tail -n 1\n",
        "!pip install -U 'ibm-watsonx-ai[rag]>=1.2.4' | tail -n 1"
      ]
    },
    {
      "cell_type": "markdown",
      "metadata": {},
      "source": [
        "### Connect to WML\n",
        "\n",
        "Authenticate the Watson Machine Learning service on IBM Cloud Pak for Data. You need to provide the platform `url`, your `username`, and your `api_key`."
      ]
    },
    {
      "cell_type": "code",
      "execution_count": null,
      "metadata": {},
      "outputs": [],
      "source": [
        "username = 'PASTE YOUR USERNAME HERE'\n",
        "api_key = 'PASTE YOUR API_KEY HERE'\n",
        "url = 'PASTE THE PLATFORM URL HERE'"
      ]
    },
    {
      "cell_type": "code",
      "execution_count": null,
      "metadata": {},
      "outputs": [],
      "source": [
        "from ibm_watsonx_ai import Credentials\n",
        "\n",
        "credentials = Credentials(\n",
        "    username=username,\n",
        "    api_key=api_key,\n",
        "    url=url,\n",
        "    instance_id=\"openshift\",\n",
        "    version=\"5.1\"\n",
        ")"
      ]
    },
    {
      "cell_type": "markdown",
      "metadata": {},
      "source": [
        "Alternatively, you can use your `username` and `password` to authenticate WML services.\n",
        "\n",
        "```python\n",
        "credentials = Credentials(\n",
        "    username=***,\n",
        "    password=***,\n",
        "    url=***,\n",
        "    instance_id=\"openshift\",\n",
        "    version=\"5.1\"\n",
        ")\n",
        "\n",
        "```"
      ]
    },
    {
      "cell_type": "code",
      "execution_count": 2,
      "metadata": {},
      "outputs": [],
      "source": [
        "from ibm_watsonx_ai import APIClient\n",
        "\n",
        "client = APIClient(credentials)"
      ]
    },
    {
      "cell_type": "markdown",
      "metadata": {},
      "source": [
        "### Working with spaces\n",
        "\n",
        "First, you need to create a space for your work. If you do not have a space already created, you can use `{PLATFORM_URL}/ml-runtime/spaces?context=icp4data` to create one.\n",
        "\n",
        "- Click **New Deployment Space**\n",
        "- Create an empty space\n",
        "- Go to the space `Settings` tab\n",
        "- Copy the `space_id` and paste it below\n",
        "\n",
        "**Tip**: You can also use SDK to prepare the space for your work. Find more information in the [Space Management sample notebook](https://github.com/IBM/watson-machine-learning-samples/blob/master/cpd5.0/notebooks/python_sdk/instance-management/Space%20management.ipynb).\n",
        "\n",
        "**Action**: Assign the space ID below"
      ]
    },
    {
      "cell_type": "code",
      "execution_count": null,
      "metadata": {},
      "outputs": [],
      "source": [
        "space_id = 'PASTE YOUR SPACE GUID HERE'"
      ]
    },
    {
      "cell_type": "markdown",
      "metadata": {},
      "source": [
        "To print all existing spaces, use the `list` method."
      ]
    },
    {
      "cell_type": "code",
      "execution_count": null,
      "metadata": {},
      "outputs": [],
      "source": [
        "client.spaces.list(limit=10)"
      ]
    },
    {
      "cell_type": "markdown",
      "metadata": {},
      "source": [
        "To be able to interact with all resources available in Watson Machine Learning, set the space that you are using."
      ]
    },
    {
      "cell_type": "code",
      "execution_count": 4,
      "metadata": {},
      "outputs": [
        {
          "data": {
            "text/plain": [
              "'SUCCESS'"
            ]
          },
          "execution_count": 4,
          "metadata": {},
          "output_type": "execute_result"
        }
      ],
      "source": [
        "client.set.default_space(space_id)"
      ]
    },
    {
      "cell_type": "markdown",
      "metadata": {},
      "source": [
        "<a id=\"definition\"></a>\n",
        "\n",
        "## RAG Optimizer definition\n",
        "\n",
        "### Define a connection to the training data\n",
        "\n",
        "Define connection information to access the COS bucket and the file that contains the training data. This example uses [`ibm_watsonx_ai`](https://ibm.github.io/watsonx-ai-python-sdk/index.html) SDK documentation content."
      ]
    },
    {
      "cell_type": "markdown",
      "metadata": {},
      "source": [
        "The following code cell downloads the `ibm_watsonx_ai` Python SDK compressed file from GitHub (if not already downloaded), and extracts its contents to a specified folder."
      ]
    },
    {
      "cell_type": "code",
      "execution_count": null,
      "metadata": {},
      "outputs": [],
      "source": [
        "import wget, zipfile, os\n",
        "\n",
        "archive_name = \"watsonx-ai-python-sdk\"\n",
        "archive_zip = \"watsonx-ai-python-sdk.zip\"\n",
        "\n",
        "if not os.path.isfile(archive_zip):\n",
        "    wget.download(\"https://github.com/IBM/watsonx-ai-python-sdk/archive/refs/heads/gh-pages.zip\", out=archive_zip)\n",
        "\n",
        "with zipfile.ZipFile(archive_zip, \"r\") as zip_ref:\n",
        "    zip_ref.extractall(archive_name)"
      ]
    },
    {
      "cell_type": "markdown",
      "metadata": {},
      "source": [
        "Create a connection to COS."
      ]
    },
    {
      "cell_type": "code",
      "execution_count": null,
      "metadata": {},
      "outputs": [],
      "source": [
        "datasource_name = 'bluemixcloudobjectstorage'\n",
        "\n",
        "# Provide COS credentials\n",
        "bucketname = 'PASTE YOUR BUCKET NAME HERE'\n",
        "access_key = 'PASTE YOUR ACCESS KEY HERE'\n",
        "secret_key = 'PASTE YOUR SECRET KEY HERE'\n",
        "url = 'PASTE YOUR URL HERE'"
      ]
    },
    {
      "cell_type": "code",
      "execution_count": 7,
      "metadata": {},
      "outputs": [
        {
          "name": "stdout",
          "output_type": "stream",
          "text": [
            "Creating connections...\n",
            "SUCCESS\n"
          ]
        }
      ],
      "source": [
        "conn_meta_props= {\n",
        "    client.connections.ConfigurationMetaNames.NAME: f\"Connection to Database - {datasource_name} \",\n",
        "    client.connections.ConfigurationMetaNames.DATASOURCE_TYPE: client.connections.get_datasource_type_id_by_name(datasource_name),\n",
        "    client.connections.ConfigurationMetaNames.DESCRIPTION: \"Connection to external Database\",\n",
        "    client.connections.ConfigurationMetaNames.PROPERTIES: {\n",
        "        'bucket': bucketname,\n",
        "        'access_key': access_key,\n",
        "        'secret_key': secret_key,\n",
        "        'iam_url': 'https://iam.cloud.ibm.com/identity/token',\n",
        "        'url': url\n",
        "    }\n",
        "}\n",
        "\n",
        "conn_details = client.connections.create(meta_props=conn_meta_props)\n",
        "connection_id = client.connections.get_id(conn_details)"
      ]
    },
    {
      "cell_type": "markdown",
      "metadata": {},
      "source": [
        "Create a Data Connection that represents input data references."
      ]
    },
    {
      "cell_type": "code",
      "execution_count": 8,
      "metadata": {},
      "outputs": [],
      "source": [
        "from ibm_watsonx_ai.helpers import DataConnection, S3Location\n",
        "\n",
        "data_connection = DataConnection(\n",
        "    connection_asset_id=connection_id,\n",
        "    location=S3Location(bucket=bucketname,\n",
        "                        path=archive_name)\n",
        ")\n",
        "input_data_references = [data_connection]\n",
        "input_data_references[0].set_client(client)"
      ]
    },
    {
      "cell_type": "markdown",
      "metadata": {},
      "source": [
        "Filter documents with the `.html` extension and save them to the COS bucket."
      ]
    },
    {
      "cell_type": "code",
      "execution_count": 9,
      "metadata": {},
      "outputs": [],
      "source": [
        "html_docs_files = []\n",
        "for root, dirs, files in os.walk(archive_name):\n",
        "    if root == f\"{archive_name}/watsonx-ai-python-sdk-gh-pages\":\n",
        "        for file in files:\n",
        "            if file.endswith('.html'):\n",
        "                file_path = os.path.join(root, file)\n",
        "                html_docs_files.append(file_path)"
      ]
    },
    {
      "cell_type": "markdown",
      "metadata": {},
      "source": [
        "Writing all SDK documents might take around 3 minutes."
      ]
    },
    {
      "cell_type": "code",
      "execution_count": null,
      "metadata": {},
      "outputs": [],
      "source": [
        "import sys\n",
        "\n",
        "for ind, html_docs_file in enumerate(html_docs_files):\n",
        "    data_connection.write(html_docs_file, remote_name = html_docs_file.split(\"/\")[-1])\n",
        "\n",
        "    sys.stdout.write(f\"\\rProgress: {'✓' * (ind+1)}{'.' * (len(html_docs_files)-ind-1)}\\r\")\n",
        "    sys.stdout.flush()"
      ]
    },
    {
      "cell_type": "markdown",
      "metadata": {},
      "source": [
        "### Define a connection to the test data\n",
        "\n",
        "Upload a `json` file that you want to use as a benchmark to COS and then define a connection to the file. This example uses content from the [`ibm_watsonx_ai`](https://ibm.github.io/watsonx-ai-python-sdk/index.html) SDK documentation."
      ]
    },
    {
      "cell_type": "code",
      "execution_count": 11,
      "metadata": {},
      "outputs": [],
      "source": [
        "benchmarking_data_IBM_page_content = [\n",
        "    {\n",
        "        \"question\": \"How to install ibm-watsonx-ai library?\",\n",
        "        \"correct_answer\": \"pip install ibm-watsonx-ai\",\n",
        "        \"correct_answer_document_ids\": [\n",
        "            \"install.html\"\n",
        "        ]\n",
        "    },\n",
        "    {\n",
        "        \"question\": \"What is Credentails class parameters?\",\n",
        "        \"correct_answer\": \"url, api_key, name, iam_serviceid_crn, token, projects_token, username, password, instance_id, version, bedrock_url, proxies, verify\",\n",
        "        \"correct_answer_document_ids\": [\n",
        "            \"base.html\"\n",
        "        ]\n",
        "    },\n",
        "    {\n",
        "        \"question\": \"How to get AutoAI pipeline with number 3?\",\n",
        "        \"correct_answer\": \"get_pipeline(pipeline_name='Pipeline_3')\",\n",
        "        \"correct_answer_document_ids\": [\n",
        "            \"autoai_working_with_class_and_optimizer.html\"\n",
        "        ]\n",
        "    },\n",
        "    {\n",
        "        \"question\": \"How to get list of Embedding Models?\",\n",
        "        \"correct_answer\": \"client.foundation_models.EmbeddingModels\",\n",
        "        \"correct_answer_document_ids\": [\n",
        "            \"fm_embeddings.html\"\n",
        "        ]\n",
        "    },\n",
        "    {\n",
        "        \"question\": \"How to retrieve the list of model lifecycle data?\",\n",
        "        \"correct_answer\": \"get_model_lifecycle(url='https://us-south.ml.cloud.ibm.com', model_id='ibm/granite-13b-instruct-v2')\",\n",
        "        \"correct_answer_document_ids\": [\n",
        "            \"fm_helpers.html\"\n",
        "        ]\n",
        "    },\n",
        "    {\n",
        "        \"question\": \"What is path to ModelInference class?\",\n",
        "        \"correct_answer\": \"ibm_watsonx_ai.foundation_models.inference.ModelInference\",\n",
        "        \"correct_answer_document_ids\": [\n",
        "            \"fm_model_inference.html\"\n",
        "        ]\n",
        "    },\n",
        "    {\n",
        "        \"question\": \"What is method for get model inferance details?\",\n",
        "        \"correct_answer\": \"get_details()\",\n",
        "        \"correct_answer_document_ids\": [\n",
        "            \"fm_model_inference.html\"\n",
        "        ]\n",
        "    }\n",
        "]"
      ]
    },
    {
      "cell_type": "markdown",
      "metadata": {},
      "source": [
        "Upload the benchmark testing data to the bucket as a `json` file."
      ]
    },
    {
      "cell_type": "code",
      "execution_count": 12,
      "metadata": {},
      "outputs": [
        {
          "name": "stdout",
          "output_type": "stream",
          "text": [
            "Creating data asset...\n",
            "SUCCESS\n"
          ]
        },
        {
          "data": {
            "text/plain": [
              "'43bcc9c3-04d6-4fc6-870e-fa997a179741'"
            ]
          },
          "execution_count": 12,
          "metadata": {},
          "output_type": "execute_result"
        }
      ],
      "source": [
        "import json\n",
        "\n",
        "test_filename = \"benchmarking_data_ibm_watson_ai.json\"\n",
        "\n",
        "if not os.path.isfile(test_filename):\n",
        "    with open(test_filename, \"w\") as json_file:\n",
        "        json.dump(benchmarking_data_IBM_page_content, json_file, indent=4)\n",
        "\n",
        "test_asset_details = client.data_assets.create(name=test_filename, file_path=test_filename)\n",
        "\n",
        "test_asset_id = client.data_assets.get_id(test_asset_details)\n",
        "test_asset_id"
      ]
    },
    {
      "cell_type": "markdown",
      "metadata": {},
      "source": [
        "Define connection information to the testing data."
      ]
    },
    {
      "cell_type": "code",
      "execution_count": 13,
      "metadata": {},
      "outputs": [],
      "source": [
        "from ibm_watsonx_ai.helpers import DataConnection\n",
        "\n",
        "test_data_references = [DataConnection(data_asset_id=test_asset_id)]"
      ]
    },
    {
      "cell_type": "markdown",
      "metadata": {},
      "source": [
        "### Set up connectivity information to Milvus\n",
        "\n",
        "<b>This notebook focuses on a self-managed Milvus cluster using <a href=\"https://cloud.ibm.com/docs/watsonxdata?topic=watsonxdata-adding-milvus-service\" target=\"_blank\" rel=\"noopener no referrer\">IBM watsonx.data.</a></b>\n",
        "\n",
        "The following cell retrieves the Milvus username, password, host, and port from the environment (if available) and prompts you to provide them manually in case of failure.\n",
        "\n",
        "You can provide a connection asset ID to read all required connection data from it. Before doing so, make sure that a connection asset was created in your space."
      ]
    },
    {
      "cell_type": "code",
      "execution_count": 15,
      "metadata": {},
      "outputs": [],
      "source": [
        "import os\n",
        "import getpass\n",
        "\n",
        "milvus_connection_id = input(\"Provide connection asset ID in your space. Skip this, if you wish to type credentials by hand and hit enter: \") or None\n",
        "\n",
        "if milvus_connection_id is None:\n",
        "    try:\n",
        "        username = os.environ[\"USERNAME\"]\n",
        "    except KeyError:\n",
        "        username = input(\"Please enter your Milvus user name and hit enter: \")\n",
        "    try:\n",
        "        password = os.environ[\"PASSWORD\"]\n",
        "    except KeyError:\n",
        "        password = getpass.getpass(\"Please enter your Milvus password and hit enter: \")\n",
        "    try:\n",
        "        host = os.environ[\"HOST\"]\n",
        "    except KeyError:\n",
        "        host = input(\"Please enter your Milvus hostname and hit enter: \")\n",
        "    try:\n",
        "        port = os.environ[\"PORT\"]\n",
        "    except KeyError:\n",
        "        port = input(\"Please enter your Milvus port number and hit enter: \")\n",
        "    try:\n",
        "        ssl = os.environ[\"SSL\"]\n",
        "    except:\n",
        "        ssl = bool(input(\"Please enter ('y'/anything) if your Milvus instance has SSL enabled. Skip if it is not: \"))\n",
        "\n",
        "    # Create connection\n",
        "    milvus_data_source_type_id = client.connections.get_datasource_type_uid_by_name(\n",
        "        \"milvus\"\n",
        "    )\n",
        "    details = client.connections.create(\n",
        "        {\n",
        "            client.connections.ConfigurationMetaNames.NAME: \"Milvus Connection\",\n",
        "            client.connections.ConfigurationMetaNames.DESCRIPTION: \"Connection created by the sample notebook\",\n",
        "            client.connections.ConfigurationMetaNames.DATASOURCE_TYPE: milvus_data_source_type_id,\n",
        "            client.connections.ConfigurationMetaNames.PROPERTIES: {\n",
        "                \"host\": host,\n",
        "                \"port\": port,\n",
        "                \"username\": username,\n",
        "                \"password\": password,\n",
        "                \"ssl\": ssl,\n",
        "            },\n",
        "        }\n",
        "    )\n",
        "\n",
        "    milvus_connection_id = client.connections.get_id(details)"
      ]
    },
    {
      "cell_type": "markdown",
      "metadata": {},
      "source": [
        "Define connection information to vector store references."
      ]
    },
    {
      "cell_type": "code",
      "execution_count": 16,
      "metadata": {},
      "outputs": [],
      "source": [
        "vector_store_references = [DataConnection(connection_asset_id=milvus_connection_id)]"
      ]
    },
    {
      "cell_type": "markdown",
      "metadata": {},
      "source": [
        "### RAG Optimizer configuration\n",
        "\n",
        "Provide the input information for the AutoAI RAG optimizer:\n",
        "- `name` - experiment name\n",
        "- `description` - experiment description\n",
        "- `max_number_of_rag_patterns` - maximum number of RAG patterns to create\n",
        "- `optimization_metrics` - target optimization metrics"
      ]
    },
    {
      "cell_type": "code",
      "execution_count": 17,
      "metadata": {},
      "outputs": [],
      "source": [
        "from ibm_watsonx_ai.experiment import AutoAI\n",
        "\n",
        "experiment = AutoAI(credentials, space_id=space_id)\n",
        "\n",
        "rag_optimizer = experiment.rag_optimizer(\n",
        "    name='AutoAI RAG ibm-watsonx-ai SDK documentation',\n",
        "    description=\"AutoAI RAG experiemnt trainded on ibm-watsonx-ai SDK documentataion\",\n",
        "    max_number_of_rag_patterns=6,\n",
        "    optimization_metrics=[AutoAI.RAGMetrics.ANSWER_CORRECTNESS]\n",
        ")"
      ]
    },
    {
      "cell_type": "markdown",
      "metadata": {},
      "source": [
        "To retrieve the configuration parameters, use `get_params()`."
      ]
    },
    {
      "cell_type": "code",
      "execution_count": 18,
      "metadata": {},
      "outputs": [
        {
          "data": {
            "text/plain": [
              "{'name': 'AutoAI RAG ibm-watsonx-ai SDK documentation',\n",
              " 'description': 'AutoAI RAG experiemnt trainded on ibm-watsonx-ai SDK documentataion',\n",
              " 'max_number_of_rag_patterns': 6,\n",
              " 'optimization_metrics': ['answer_correctness']}"
            ]
          },
          "execution_count": 18,
          "metadata": {},
          "output_type": "execute_result"
        }
      ],
      "source": [
        "rag_optimizer.get_params()"
      ]
    },
    {
      "cell_type": "markdown",
      "metadata": {},
      "source": [
        "<a id=\"run\"></a>\n",
        "## Run the RAG Experiment \n",
        "\n",
        "Call the `run()` method to trigger the AutoAI RAG experiment. Choose one of two modes: \n",
        "\n",
        "- To use the **interactive mode** (synchronous job), specify `background_mode=False` \n",
        "- To use the **background mode** (asynchronous job), specify `background_mode=True`"
      ]
    },
    {
      "cell_type": "code",
      "execution_count": 20,
      "metadata": {},
      "outputs": [
        {
          "name": "stdout",
          "output_type": "stream",
          "text": [
            "\n",
            "\n",
            "##############################################\n",
            "\n",
            "Running '38d8ffb0-9d93-4956-9a50-aaef8068e299'\n",
            "\n",
            "##############################################\n",
            "\n",
            "\n",
            "pending..............\n",
            "running.............................................................................................................................................................................................................\n",
            "completed\n",
            "Training of '38d8ffb0-9d93-4956-9a50-aaef8068e299' finished successfully.\n"
          ]
        }
      ],
      "source": [
        "run_details = rag_optimizer.run(\n",
        "    input_data_references=input_data_references,\n",
        "    test_data_references=test_data_references,\n",
        "    vector_store_references=vector_store_references,\n",
        "    background_mode=False\n",
        ")"
      ]
    },
    {
      "cell_type": "markdown",
      "metadata": {},
      "source": [
        "To monitor the AutoAI RAG jobs in background mode, use the `get_run_status()` method."
      ]
    },
    {
      "cell_type": "code",
      "execution_count": 21,
      "metadata": {},
      "outputs": [
        {
          "data": {
            "text/plain": [
              "'completed'"
            ]
          },
          "execution_count": 21,
          "metadata": {},
          "output_type": "execute_result"
        }
      ],
      "source": [
        "rag_optimizer.get_run_status()"
      ]
    },
    {
      "cell_type": "markdown",
      "metadata": {},
      "source": [
        "<a id=\"comparison\"></a>\n",
        "## Compare and test of RAG Patterns\n",
        "\n",
        "You can list the trained patterns and information on evaluation metrics in the form of a Pandas DataFrame by calling the `summary()` method. Use the DataFrame to compare all discovered patterns and select the one you want for further testing."
      ]
    },
    {
      "cell_type": "code",
      "execution_count": 22,
      "metadata": {},
      "outputs": [
        {
          "data": {
            "text/html": [
              "<div>\n",
              "<style scoped>\n",
              "    .dataframe tbody tr th:only-of-type {\n",
              "        vertical-align: middle;\n",
              "    }\n",
              "\n",
              "    .dataframe tbody tr th {\n",
              "        vertical-align: top;\n",
              "    }\n",
              "\n",
              "    .dataframe thead th {\n",
              "        text-align: right;\n",
              "    }\n",
              "</style>\n",
              "<table border=\"1\" class=\"dataframe\">\n",
              "  <thead>\n",
              "    <tr style=\"text-align: right;\">\n",
              "      <th></th>\n",
              "      <th>mean_answer_correctness</th>\n",
              "      <th>mean_faithfulness</th>\n",
              "      <th>mean_context_correctness</th>\n",
              "      <th>chunking.chunk_size</th>\n",
              "      <th>embeddings.model_id</th>\n",
              "      <th>vector_store.distance_metric</th>\n",
              "      <th>retrieval.method</th>\n",
              "      <th>retrieval.number_of_chunks</th>\n",
              "      <th>generation.model_id</th>\n",
              "    </tr>\n",
              "    <tr>\n",
              "      <th>Pattern_Name</th>\n",
              "      <th></th>\n",
              "      <th></th>\n",
              "      <th></th>\n",
              "      <th></th>\n",
              "      <th></th>\n",
              "      <th></th>\n",
              "      <th></th>\n",
              "      <th></th>\n",
              "      <th></th>\n",
              "    </tr>\n",
              "  </thead>\n",
              "  <tbody>\n",
              "    <tr>\n",
              "      <th>Pattern4</th>\n",
              "      <td>0.8571</td>\n",
              "      <td>0.6335</td>\n",
              "      <td>0.7500</td>\n",
              "      <td>1024</td>\n",
              "      <td>ibm/slate-125m-english-rtrvr</td>\n",
              "      <td>cosine</td>\n",
              "      <td>window</td>\n",
              "      <td>5</td>\n",
              "      <td>meta-llama/llama-3-1-8b-instruct</td>\n",
              "    </tr>\n",
              "    <tr>\n",
              "      <th>Pattern1</th>\n",
              "      <td>0.7857</td>\n",
              "      <td>0.6834</td>\n",
              "      <td>0.8095</td>\n",
              "      <td>512</td>\n",
              "      <td>ibm/slate-125m-english-rtrvr</td>\n",
              "      <td>cosine</td>\n",
              "      <td>window</td>\n",
              "      <td>5</td>\n",
              "      <td>meta-llama/llama-3-1-8b-instruct</td>\n",
              "    </tr>\n",
              "    <tr>\n",
              "      <th>Pattern6</th>\n",
              "      <td>0.7363</td>\n",
              "      <td>0.7207</td>\n",
              "      <td>0.7857</td>\n",
              "      <td>1024</td>\n",
              "      <td>ibm/slate-125m-english-rtrvr</td>\n",
              "      <td>cosine</td>\n",
              "      <td>window</td>\n",
              "      <td>3</td>\n",
              "      <td>meta-llama/llama-3-1-8b-instruct</td>\n",
              "    </tr>\n",
              "    <tr>\n",
              "      <th>Pattern2</th>\n",
              "      <td>0.7143</td>\n",
              "      <td>0.8173</td>\n",
              "      <td>0.8143</td>\n",
              "      <td>1024</td>\n",
              "      <td>ibm/slate-125m-english-rtrvr</td>\n",
              "      <td>euclidean</td>\n",
              "      <td>window</td>\n",
              "      <td>5</td>\n",
              "      <td>meta-llama/llama-3-1-8b-instruct</td>\n",
              "    </tr>\n",
              "    <tr>\n",
              "      <th>Pattern5</th>\n",
              "      <td>0.6648</td>\n",
              "      <td>0.5420</td>\n",
              "      <td>0.7143</td>\n",
              "      <td>1024</td>\n",
              "      <td>ibm/slate-125m-english-rtrvr</td>\n",
              "      <td>euclidean</td>\n",
              "      <td>window</td>\n",
              "      <td>3</td>\n",
              "      <td>meta-llama/llama-3-1-8b-instruct</td>\n",
              "    </tr>\n",
              "    <tr>\n",
              "      <th>Pattern3</th>\n",
              "      <td>0.5000</td>\n",
              "      <td>0.3729</td>\n",
              "      <td>0.8143</td>\n",
              "      <td>1024</td>\n",
              "      <td>ibm/slate-125m-english-rtrvr</td>\n",
              "      <td>euclidean</td>\n",
              "      <td>simple</td>\n",
              "      <td>5</td>\n",
              "      <td>meta-llama/llama-3-1-8b-instruct</td>\n",
              "    </tr>\n",
              "  </tbody>\n",
              "</table>\n",
              "</div>"
            ],
            "text/plain": [
              "              mean_answer_correctness  mean_faithfulness  \\\n",
              "Pattern_Name                                               \n",
              "Pattern4                       0.8571             0.6335   \n",
              "Pattern1                       0.7857             0.6834   \n",
              "Pattern6                       0.7363             0.7207   \n",
              "Pattern2                       0.7143             0.8173   \n",
              "Pattern5                       0.6648             0.5420   \n",
              "Pattern3                       0.5000             0.3729   \n",
              "\n",
              "              mean_context_correctness  chunking.chunk_size  \\\n",
              "Pattern_Name                                                  \n",
              "Pattern4                        0.7500                 1024   \n",
              "Pattern1                        0.8095                  512   \n",
              "Pattern6                        0.7857                 1024   \n",
              "Pattern2                        0.8143                 1024   \n",
              "Pattern5                        0.7143                 1024   \n",
              "Pattern3                        0.8143                 1024   \n",
              "\n",
              "                       embeddings.model_id vector_store.distance_metric  \\\n",
              "Pattern_Name                                                              \n",
              "Pattern4      ibm/slate-125m-english-rtrvr                       cosine   \n",
              "Pattern1      ibm/slate-125m-english-rtrvr                       cosine   \n",
              "Pattern6      ibm/slate-125m-english-rtrvr                       cosine   \n",
              "Pattern2      ibm/slate-125m-english-rtrvr                    euclidean   \n",
              "Pattern5      ibm/slate-125m-english-rtrvr                    euclidean   \n",
              "Pattern3      ibm/slate-125m-english-rtrvr                    euclidean   \n",
              "\n",
              "             retrieval.method  retrieval.number_of_chunks  \\\n",
              "Pattern_Name                                                \n",
              "Pattern4               window                           5   \n",
              "Pattern1               window                           5   \n",
              "Pattern6               window                           3   \n",
              "Pattern2               window                           5   \n",
              "Pattern5               window                           3   \n",
              "Pattern3               simple                           5   \n",
              "\n",
              "                           generation.model_id  \n",
              "Pattern_Name                                    \n",
              "Pattern4      meta-llama/llama-3-1-8b-instruct  \n",
              "Pattern1      meta-llama/llama-3-1-8b-instruct  \n",
              "Pattern6      meta-llama/llama-3-1-8b-instruct  \n",
              "Pattern2      meta-llama/llama-3-1-8b-instruct  \n",
              "Pattern5      meta-llama/llama-3-1-8b-instruct  \n",
              "Pattern3      meta-llama/llama-3-1-8b-instruct  "
            ]
          },
          "execution_count": 22,
          "metadata": {},
          "output_type": "execute_result"
        }
      ],
      "source": [
        "summary = rag_optimizer.summary()\n",
        "summary"
      ]
    },
    {
      "cell_type": "markdown",
      "metadata": {},
      "source": [
        "Additionally, you can pass the `scoring` parameter to the summary method to filter RAG patterns, starting with the best."
      ]
    },
    {
      "cell_type": "code",
      "execution_count": null,
      "metadata": {},
      "outputs": [],
      "source": [
        "summary = rag_optimizer.summary(scoring=\"faithfulness\")"
      ]
    },
    {
      "cell_type": "markdown",
      "metadata": {},
      "source": [
        "### Get the selected pattern\n",
        "\n",
        "Get the RAGPattern object from the RAG Optimizer experiment. By default, the RAGPattern of the best pattern is returned."
      ]
    },
    {
      "cell_type": "code",
      "execution_count": 23,
      "metadata": {},
      "outputs": [
        {
          "name": "stdout",
          "output_type": "stream",
          "text": [
            "Best pattern is: Pattern4\n"
          ]
        }
      ],
      "source": [
        "best_pattern_name = summary.index.values[0]\n",
        "print('Best pattern is:', best_pattern_name)\n",
        "\n",
        "best_pattern = rag_optimizer.get_pattern()"
      ]
    },
    {
      "cell_type": "markdown",
      "metadata": {},
      "source": [
        "To retrieve the pattern details, use the `get_pattern_details` method."
      ]
    },
    {
      "cell_type": "code",
      "execution_count": null,
      "metadata": {},
      "outputs": [],
      "source": [
        "rag_optimizer.get_pattern_details(pattern_name='Pattern2')"
      ]
    },
    {
      "cell_type": "markdown",
      "metadata": {},
      "source": [
        "Query the RAGPattern locally to test it."
      ]
    },
    {
      "cell_type": "code",
      "execution_count": 24,
      "metadata": {},
      "outputs": [],
      "source": [
        "questions = [\"How to use new approach of providing credentials to APIClient?\"]\n",
        "\n",
        "payload = {\n",
        "    client.deployments.ScoringMetaNames.INPUT_DATA: [\n",
        "        {\n",
        "            \"values\": questions,\n",
        "            \"access_token\": client.token\n",
        "        }\n",
        "    ]\n",
        "}\n",
        "\n",
        "resp = best_pattern.inference_function()(payload)"
      ]
    },
    {
      "cell_type": "code",
      "execution_count": 25,
      "metadata": {},
      "outputs": [
        {
          "name": "stdout",
          "output_type": "stream",
          "text": [
            "\n",
            "\n",
            "According to the provided document, the new approach of providing credentials to APIClient is through the Credentials class. You can create a Credentials object using various methods, such as:\n",
            "\n",
            "* Using an API key: `credentials = Credentials(url=\"https://us-south.ml.cloud.ibm.com\", api_key=\"***********\")`\n",
            "* Using a token: `credentials = Credentials(url=\"https://us-south.ml.cloud.ibm.com\", token=\"***********\")`\n",
            "* Using username and password: `credentials = Credentials(url=\"<URL>\", username=\"<USERNAME>\", password=\"<PASSWORD>\")`\n",
            "* Using username and API key: `credentials = Credentials(url=\"<URL>\", username=\"<USERNAME>\", api_key=\"<API_KEY>\")`\n",
            "\n",
            "Once you have created a Credentials object, you can pass it to the APIClient constructor: `client = APIClient(credentials=credentials)`.\n"
          ]
        }
      ],
      "source": [
        "print(resp[\"predictions\"][0][\"values\"][0][0])"
      ]
    },
    {
      "cell_type": "markdown",
      "metadata": {},
      "source": [
        "### Deploy the RAGPattern\n",
        "\n",
        "To deploy the RAGPattern, store the defined RAG function and then create a deployed asset."
      ]
    },
    {
      "cell_type": "code",
      "execution_count": 26,
      "metadata": {},
      "outputs": [
        {
          "name": "stdout",
          "output_type": "stream",
          "text": [
            "\n",
            "\n",
            "######################################################################################\n",
            "\n",
            "Synchronous deployment creation for id: 'a2e3e943-efc8-4f24-b574-6ca25c168941' started\n",
            "\n",
            "######################################################################################\n",
            "\n",
            "\n",
            "initializing\n",
            "Note: online_url is deprecated and will be removed in a future release. Use serving_urls instead.\n",
            ".............\n",
            "ready\n",
            "\n",
            "\n",
            "-----------------------------------------------------------------------------------------------\n",
            "Successfully finished deployment creation, deployment_id='6d1e9447-85fa-4a9c-8703-180565c3e83b'\n",
            "-----------------------------------------------------------------------------------------------\n",
            "\n",
            "\n"
          ]
        }
      ],
      "source": [
        "deployment_details = best_pattern.deploy(\n",
        "    name=\"AutoAI RAG deployment - ibm_watsonx_ai documentataion\",\n",
        "    space_id=space_id\n",
        ")"
      ]
    },
    {
      "cell_type": "markdown",
      "metadata": {},
      "source": [
        "### Test the deployed function\n",
        "\n",
        "The RAG service is now deployed in our space. To test the solution, run the cell below. Questions have to be provided in the payload. Their format is provided below."
      ]
    },
    {
      "cell_type": "code",
      "execution_count": 27,
      "metadata": {},
      "outputs": [
        {
          "data": {
            "text/plain": [
              "{'predictions': [{'fields': ['answer', 'reference_documents'],\n",
              "   'values': [['\\n\\nAccording to the provided document, the new approach of providing credentials to APIClient is through the Credentials class. You can create a Credentials object using various methods, such as:\\n\\n* Using an API key: `credentials = Credentials(url=\"https://us-south.ml.cloud.ibm.com\", api_key=\"***********\")`\\n* Using a token: `credentials = Credentials(url=\"https://us-south.ml.cloud.ibm.com\", token=\"***********\")`\\n* Using username and password: `credentials = Credentials(url=\"<URL>\", username=\"<USERNAME>\", password=\"<PASSWORD>\")`\\n* Using username and API key: `credentials = Credentials(url=\"<URL>\", username=\"<USERNAME>\", api_key=\"<API_KEY>\")`\\n\\nOnce you have created a Credentials object, you can pass it to the APIClient constructor: `client = APIClient(credentials=credentials)`.',\n",
              "     [{'page_content': 'Example of create Credentials object\\n\\nIBM watsonx.ai for IBM Cloud\\n\\nfrom ibm_watsonx_ai import Credentials\\n\\n# Example of creating the credentials using an API key:\\ncredentials = Credentials(\\n    url = \"https://us-south.ml.cloud.ibm.com\",\\n    api_key = \"***********\"\\n)\\n\\n# Example of creating the credentials using a token:\\ncredentials = Credentials(\\n    url = \"https://us-south.ml.cloud.ibm.com\",\\n    token = \"***********\"\\n)\\n\\n\\n\\nIBM watsonx.ai software\\n\\nimport os\\nfrom ibm_watsonx_ai import Credentials\\n\\n# Example of creating the credentials using username and password:\\ncredentials = Credentials(\\n    url = \"<URL>\",\\n    username = \"<USERNAME>\",\\n    password = \"<PASSWORD>\",\\n    instance_id = \"openshift\",\\n    version = \"5.0\"\\n)\\n\\n# Example of creating the credentials using username and apikey:\\ncredentials = Credentials(\\n    url = \"<URL>\",\\n    username = \"<USERNAME>\",\\n    api_key = \"<API_KEY>\",\\n    instance_id = \"openshift\",\\n    version = \"5.0\"\\n)\\n\\n# Example of creating the credentials using a token:\\naccess_token = os.environ[\\'USER_ACCESS_TOKEN\\']\\ncredentials = Credentials(\\n    url = \"<URL>\",\\n    token = access_token,\\n    instance_id = \"openshift\"\\n    version = \"5.0\"\\n)\\n\\n\\n\\n\\nstatic from_dict(credentials, _verify=None)[source]¶\\nCreate a Credentials object from dictionary.\\n\\nParameters:\\ncredentials (dict) – credentials in the dictionary\\n\\nReturns:\\ninitialised credentials object\\n\\nReturn type:\\nCredentials\\n\\n\\nExample:\\nfrom ibm_watsonx_ai import Credentials\\n\\ncredentials = Credentials.from_dict({\\n    \\'url\\': \"<url>\",\\n    \\'apikey\\': \"<api_key>\"\\n})\\n\\n\\n\\n\\n\\nto_dict()[source]¶\\nGet dictionary from the Credentials object.\\n\\nReturns:\\ndictionary with credentials\\n\\nReturn type:\\ndict\\n\\n\\nExample:\\nfrom ibm_watsonx_ai import Credentials\\n\\ncredentials = Credentials.from_dict({\\n    \\'url\\': \"<url>\",\\n    \\'apikey\\': \"<api_key>\"\\n})\\n\\ncredentials_dict = credentials.to_dict()\\n\\n\\n\\n\\n\\n\\n\\n\\n\\n\\n\\n\\n\\nNext\\n\\nCore\\n\\n\\n\\n\\n\\n\\n\\nPrevious\\n\\nAPI\\n\\n\\n\\n\\n\\n\\n                Copyright © 2023-2024, IBM\\n            \\n            Made with Sphinx and @pradyunsg\\'s\\n            \\n            Furo\\n\\n\\n\\n\\n\\n\\n\\n\\n\\n\\n            On this page\\n          \\n\\n\\n\\n\\nBase\\nAPIClient\\nAPIClient\\nAPIClient.set_headers()\\nAPIClient.set_token()\\n\\n\\n\\n\\nCredentials\\nCredentials\\nCredentials.from_dict()\\nCredentials.to_dict()',\n",
              "       'metadata': {'sequence_number': [10, 11, 12, 13],\n",
              "        'document_id': 'base.html'}},\n",
              "      {'page_content': 'import os\\nfrom ibm_watsonx_ai import Credentials\\n\\n# Example of creating the credentials using username and password:\\ncredentials = Credentials(\\n    url = \"<URL>\",\\n    username = \"<USERNAME>\",\\n    password = \"<PASSWORD>\",\\n    instance_id = \"openshift\",\\n    version = \"5.0\"\\n)\\n\\n# Example of creating the credentials using username and apikey:\\ncredentials = Credentials(\\n    url = \"<URL>\",\\n    username = \"<USERNAME>\",\\n    api_key = \"<API_KEY>\",\\n    instance_id = \"openshift\",\\n    version = \"5.0\"\\n)\\n\\n# Example of creating the credentials using a token:\\naccess_token = os.environ[\\'USER_ACCESS_TOKEN\\']\\ncredentials = Credentials(\\n    url = \"<URL>\",\\n    token = access_token,\\n    instance_id = \"openshift\"\\n    version = \"5.0\"\\n)\\n\\n\\n\\n\\nstatic from_dict(credentials, _verify=None)[source]¶\\nCreate a Credentials object from dictionary.\\n\\nParameters:\\ncredentials (dict) – credentials in the dictionary\\n\\nReturns:\\ninitialised credentials object\\n\\nReturn type:\\nCredentials\\n\\n\\nExample:\\nfrom ibm_watsonx_ai import Credentials\\n\\ncredentials = Credentials.from_dict({\\n    \\'url\\': \"<url>\",\\n    \\'apikey\\': \"<api_key>\"\\n})\\n\\n\\n\\n\\n\\nto_dict()[source]¶\\nGet dictionary from the Credentials object.\\n\\nReturns:\\ndictionary with credentials\\n\\nReturn type:\\ndict\\n\\n\\nExample:\\nfrom ibm_watsonx_ai import Credentials\\n\\ncredentials = Credentials.from_dict({\\n    \\'url\\': \"<url>\",\\n    \\'apikey\\': \"<api_key>\"\\n})\\n\\ncredentials_dict = credentials.to_dict()\\n\\n\\n\\n\\n\\n\\n\\n\\n\\n\\n\\n\\n\\nNext\\n\\nCore\\n\\n\\n\\n\\n\\n\\n\\nPrevious\\n\\nAPI\\n\\n\\n\\n\\n\\n\\n                Copyright © 2023-2024, IBM\\n            \\n            Made with Sphinx and @pradyunsg\\'s\\n            \\n            Furo\\n\\n\\n\\n\\n\\n\\n\\n\\n\\n\\n            On this page\\n          \\n\\n\\n\\n\\nBase\\nAPIClient\\nAPIClient\\nAPIClient.set_headers()\\nAPIClient.set_token()\\n\\n\\n\\n\\nCredentials\\nCredentials\\nCredentials.from_dict()\\nCredentials.to_dict()',\n",
              "       'metadata': {'sequence_number': [11, 12, 13],\n",
              "        'document_id': 'base.html'}},\n",
              "      {'page_content': 'Toggle table of contents sidebar\\n\\n\\n\\n\\n\\nBase¶\\n\\nAPIClient¶\\n\\n\\nclass client.APIClient(credentials=None, project_id=None, space_id=None, verify=None, **kwargs)[source]¶\\nThe main class of ibm_watsonx_ai. The very heart of the module. APIClient contains objects that manage the service reasources.\\n\\nTo explore how to use APIClient, refer to:\\nSetup - to check correct initialization of APIClient for a specific environment.\\nCore - to explore core properties of an APIClient object.\\n\\n\\n\\n\\nParameters:\\n\\nurl (str) – URL of the service\\ncredentials (Credentials) – credentials used to connect with the service\\nproject_id (str, optional) – ID of the project that is used\\nspace_id (str, optional) – ID of deployment space that is used\\nverify (bool, optional) – certificate verification flag, deprecated, use Credentials(verify=…) to set verify\\n\\n\\n\\nExample:\\nfrom ibm_watsonx_ai import APIClient, Credentials\\n\\ncredentials = Credentials(\\n    url = \"<url>\",\\n    api_key = \"<api_key>\"\\n)\\n\\nclient = APIClient(credentials, space_id=\"<space_id>\")\\n\\nclient.models.list()\\nclient.deployments.get_details()\\n\\nclient.set.default_project(\"<project_id>\")\\n\\n...\\n\\n\\n\\n\\nset_headers(headers)[source]¶\\nMethod which allows refresh/set new User Request Headers.\\n\\nParameters:\\nheaders (dict) – User Request Headers\\n\\n\\nExamples\\nheaders = {\\n    \\'Authorization\\': \\'Bearer <USER AUTHORIZATION TOKEN>\\',\\n    \\'User-Agent\\': \\'ibm-watsonx-ai/1.0.1 (lang=python; arch=x86_64; os=darwin; python.version=3.10.13)\\',\\n    \\'X-Watson-Project-ID\\': \\'<PROJECT ID>\\',\\n    \\'Content-Type\\': \\'application/json\\'\\n}\\n\\nclient.set_headers(headers)\\n\\n\\n\\n\\n\\nset_token(token)[source]¶\\nMethod which allows refresh/set new User Authorization Token.\\n\\nParameters:\\ntoken (str) – User Authorization Token\\n\\n\\nExamples\\nclient.set_token(\"<USER AUTHORIZATION TOKEN>\")\\n\\n\\n\\n\\n\\n\\nCredentials¶\\n\\n\\nclass credentials.Credentials(*, url=None, api_key=None, name=None, iam_serviceid_crn=None, token=None, projects_token=None, username=None, password=None, instance_id=None, version=None, bedrock_url=None, platform_url=None, proxies=None, verify=None)[source]¶\\nThis class encapsulate passed credentials and additional params.\\n\\nParameters: url (str) – URL of the service\\napi_key (str, optional) – service API key used in API key authentication\\nname (str, optional) – service name used during space creation for a Cloud environment\\niam_serviceid_crn (str, optional) – service CRN used during space creation for a Cloud environment\\ntoken (str, optional) – service token, used in token authentication\\nprojects_token (str, optional) – service projects token used in token authentication\\nusername (str, optional) – username, used in username/password or username/api_key authentication, applicable for ICP only\\npassword (str, optional) – password, used in username/password authentication, applicable for ICP only\\ninstance_id (str, optional) – instance ID, mandatory for ICP\\nversion (str, optional) – ICP version, mandatory for ICP\\nbedrock_url (str, optional) – Bedrock URL, applicable for ICP only\\nproxies (dict, optional) – dictionary of proxies, containing protocol and URL mapping (example: { “https”: “https://example.url.com” })',\n",
              "       'metadata': {'sequence_number': [4, 5, 6, 7, 8],\n",
              "        'document_id': 'base.html'}},\n",
              "      {'page_content': 'url (str) – URL of the service\\napi_key (str, optional) – service API key used in API key authentication\\nname (str, optional) – service name used during space creation for a Cloud environment\\niam_serviceid_crn (str, optional) – service CRN used during space creation for a Cloud environment\\ntoken (str, optional) – service token, used in token authentication\\nprojects_token (str, optional) – service projects token used in token authentication\\nusername (str, optional) – username, used in username/password or username/api_key authentication, applicable for ICP only\\npassword (str, optional) – password, used in username/password authentication, applicable for ICP only\\ninstance_id (str, optional) – instance ID, mandatory for ICP\\nversion (str, optional) – ICP version, mandatory for ICP\\nbedrock_url (str, optional) – Bedrock URL, applicable for ICP only\\nproxies (dict, optional) – dictionary of proxies, containing protocol and URL mapping (example: { “https”: “https://example.url.com” })\\nverify (bool, optional) – certificate verification flag Example of create Credentials object\\n\\nIBM watsonx.ai for IBM Cloud\\n\\nfrom ibm_watsonx_ai import Credentials\\n\\n# Example of creating the credentials using an API key:\\ncredentials = Credentials(\\n    url = \"https://us-south.ml.cloud.ibm.com\",\\n    api_key = \"***********\"\\n)\\n\\n# Example of creating the credentials using a token:\\ncredentials = Credentials(\\n    url = \"https://us-south.ml.cloud.ibm.com\",\\n    token = \"***********\"\\n)\\n\\n\\n\\nIBM watsonx.ai software\\n\\nimport os\\nfrom ibm_watsonx_ai import Credentials\\n\\n# Example of creating the credentials using username and password:\\ncredentials = Credentials(\\n    url = \"<URL>\",\\n    username = \"<USERNAME>\",\\n    password = \"<PASSWORD>\",\\n    instance_id = \"openshift\",\\n    version = \"5.0\"\\n)\\n\\n# Example of creating the credentials using username and apikey:\\ncredentials = Credentials(\\n    url = \"<URL>\",\\n    username = \"<USERNAME>\",\\n    api_key = \"<API_KEY>\",\\n    instance_id = \"openshift\",\\n    version = \"5.0\"\\n)\\n\\n# Example of creating the credentials using a token:\\naccess_token = os.environ[\\'USER_ACCESS_TOKEN\\']\\ncredentials = Credentials(\\n    url = \"<URL>\",\\n    token = access_token,\\n    instance_id = \"openshift\"\\n    version = \"5.0\"\\n)\\n\\n\\n\\n\\nstatic from_dict(credentials, _verify=None)[source]¶\\nCreate a Credentials object from dictionary.\\n\\nParameters:\\ncredentials (dict) – credentials in the dictionary\\n\\nReturns:\\ninitialised credentials object\\n\\nReturn type:\\nCredentials\\n\\n\\nExample:\\nfrom ibm_watsonx_ai import Credentials\\n\\ncredentials = Credentials.from_dict({\\n    \\'url\\': \"<url>\",\\n    \\'apikey\\': \"<api_key>\"\\n})\\n\\n\\n\\n\\n\\nto_dict()[source]¶\\nGet dictionary from the Credentials object.\\n\\nReturns:\\ndictionary with credentials\\n\\nReturn type:\\ndict\\n\\n\\nExample:\\nfrom ibm_watsonx_ai import Credentials\\n\\ncredentials = Credentials.from_dict({\\n    \\'url\\': \"<url>\",\\n    \\'apikey\\': \"<api_key>\"\\n})\\n\\ncredentials_dict = credentials.to_dict()\\n\\n\\n\\n\\n\\n\\n\\n\\n\\n\\n\\n\\n\\nNext\\n\\nCore\\n\\n\\n\\n\\n\\n\\n\\nPrevious\\n\\nAPI',\n",
              "       'metadata': {'sequence_number': [8, 9, 10, 11, 12],\n",
              "        'document_id': 'base.html'}},\n",
              "      {'page_content': 'password (str, optional) – password, used in username/password authentication, applicable for ICP only\\ninstance_id (str, optional) – instance ID, mandatory for ICP\\nversion (str, optional) – ICP version, mandatory for ICP\\nbedrock_url (str, optional) – Bedrock URL, applicable for ICP only\\nproxies (dict, optional) – dictionary of proxies, containing protocol and URL mapping (example: { “https”: “https://example.url.com” })\\nverify (bool, optional) – certificate verification flag Example of create Credentials object\\n\\nIBM watsonx.ai for IBM Cloud\\n\\nfrom ibm_watsonx_ai import Credentials\\n\\n# Example of creating the credentials using an API key:\\ncredentials = Credentials(\\n    url = \"https://us-south.ml.cloud.ibm.com\",\\n    api_key = \"***********\"\\n)\\n\\n# Example of creating the credentials using a token:\\ncredentials = Credentials(\\n    url = \"https://us-south.ml.cloud.ibm.com\",\\n    token = \"***********\"\\n)\\n\\n\\n\\nIBM watsonx.ai software\\n\\nimport os\\nfrom ibm_watsonx_ai import Credentials\\n\\n# Example of creating the credentials using username and password:\\ncredentials = Credentials(\\n    url = \"<URL>\",\\n    username = \"<USERNAME>\",\\n    password = \"<PASSWORD>\",\\n    instance_id = \"openshift\",\\n    version = \"5.0\"\\n)\\n\\n# Example of creating the credentials using username and apikey:\\ncredentials = Credentials(\\n    url = \"<URL>\",\\n    username = \"<USERNAME>\",\\n    api_key = \"<API_KEY>\",\\n    instance_id = \"openshift\",\\n    version = \"5.0\"\\n)\\n\\n# Example of creating the credentials using a token:\\naccess_token = os.environ[\\'USER_ACCESS_TOKEN\\']\\ncredentials = Credentials(\\n    url = \"<URL>\",\\n    token = access_token,\\n    instance_id = \"openshift\"\\n    version = \"5.0\"\\n)\\n\\n\\n\\n\\nstatic from_dict(credentials, _verify=None)[source]¶\\nCreate a Credentials object from dictionary.\\n\\nParameters:\\ncredentials (dict) – credentials in the dictionary\\n\\nReturns:\\ninitialised credentials object\\n\\nReturn type:\\nCredentials\\n\\n\\nExample:\\nfrom ibm_watsonx_ai import Credentials\\n\\ncredentials = Credentials.from_dict({\\n    \\'url\\': \"<url>\",\\n    \\'apikey\\': \"<api_key>\"\\n})\\n\\n\\n\\n\\n\\nto_dict()[source]¶\\nGet dictionary from the Credentials object.\\n\\nReturns:\\ndictionary with credentials\\n\\nReturn type:\\ndict\\n\\n\\nExample:\\nfrom ibm_watsonx_ai import Credentials\\n\\ncredentials = Credentials.from_dict({\\n    \\'url\\': \"<url>\",\\n    \\'apikey\\': \"<api_key>\"\\n})\\n\\ncredentials_dict = credentials.to_dict()\\n\\n\\n\\n\\n\\n\\n\\n\\n\\n\\n\\n\\n\\nNext\\n\\nCore\\n\\n\\n\\n\\n\\n\\n\\nPrevious\\n\\nAPI\\n\\n\\n\\n\\n\\n\\n                Copyright © 2023-2024, IBM\\n            \\n            Made with Sphinx and @pradyunsg\\'s\\n            \\n            Furo\\n\\n\\n\\n\\n\\n\\n\\n\\n\\n\\n            On this page\\n          \\n\\n\\n\\n\\nBase\\nAPIClient\\nAPIClient\\nAPIClient.set_headers()\\nAPIClient.set_token()\\n\\n\\n\\n\\nCredentials\\nCredentials\\nCredentials.from_dict()\\nCredentials.to_dict()',\n",
              "       'metadata': {'sequence_number': [9, 10, 11, 12, 13],\n",
              "        'document_id': 'base.html'}}]]]}]}"
            ]
          },
          "execution_count": 27,
          "metadata": {},
          "output_type": "execute_result"
        }
      ],
      "source": [
        "deployment_id = client.deployments.get_id(deployment_details)\n",
        "\n",
        "score_response = client.deployments.score(deployment_id, payload)\n",
        "score_response"
      ]
    },
    {
      "cell_type": "code",
      "execution_count": 28,
      "metadata": {},
      "outputs": [
        {
          "name": "stdout",
          "output_type": "stream",
          "text": [
            "\n",
            "\n",
            "According to the provided document, the new approach of providing credentials to APIClient is through the Credentials class. You can create a Credentials object using various methods, such as:\n",
            "\n",
            "* Using an API key: `credentials = Credentials(url=\"https://us-south.ml.cloud.ibm.com\", api_key=\"***********\")`\n",
            "* Using a token: `credentials = Credentials(url=\"https://us-south.ml.cloud.ibm.com\", token=\"***********\")`\n",
            "* Using username and password: `credentials = Credentials(url=\"<URL>\", username=\"<USERNAME>\", password=\"<PASSWORD>\")`\n",
            "* Using username and API key: `credentials = Credentials(url=\"<URL>\", username=\"<USERNAME>\", api_key=\"<API_KEY>\")`\n",
            "\n",
            "Once you have created a Credentials object, you can pass it to the APIClient constructor: `client = APIClient(credentials=credentials)`.\n"
          ]
        }
      ],
      "source": [
        "print(score_response[\"predictions\"][0][\"values\"][0][0])"
      ]
    },
    {
      "cell_type": "markdown",
      "metadata": {},
      "source": [
        "<a id=\"runs\"></a>\n",
        "## Historical runs\n",
        "\n",
        "In this section, you will learn how to work with historical RAG Optimizer jobs (runs).\n",
        "\n",
        "To list historical runs, use the `list()` method and provide the `'rag_optimizer'` filter."
      ]
    },
    {
      "cell_type": "code",
      "execution_count": null,
      "metadata": {},
      "outputs": [],
      "source": [
        "experiment.runs(filter='rag_optimizer').list()"
      ]
    },
    {
      "cell_type": "code",
      "execution_count": 30,
      "metadata": {},
      "outputs": [
        {
          "data": {
            "text/plain": [
              "'38d8ffb0-9d93-4956-9a50-aaef8068e299'"
            ]
          },
          "execution_count": 30,
          "metadata": {},
          "output_type": "execute_result"
        }
      ],
      "source": [
        "run_id = run_details['metadata']['id']\n",
        "run_id"
      ]
    },
    {
      "cell_type": "markdown",
      "metadata": {},
      "source": [
        "### Get the executed optimizer's configuration parameters"
      ]
    },
    {
      "cell_type": "code",
      "execution_count": 31,
      "metadata": {},
      "outputs": [
        {
          "data": {
            "text/plain": [
              "{'name': 'AutoAI RAG ibm-watsonx-ai SDK documentation',\n",
              " 'description': 'AutoAI RAG experiemnt trainded on ibm-watsonx-ai SDK documentataion',\n",
              " 'max_number_of_rag_patterns': 6,\n",
              " 'optimization_metrics': ['answer_correctness']}"
            ]
          },
          "execution_count": 31,
          "metadata": {},
          "output_type": "execute_result"
        }
      ],
      "source": [
        "experiment.runs.get_rag_params(run_id=run_id)"
      ]
    },
    {
      "cell_type": "markdown",
      "metadata": {},
      "source": [
        "### Get the historical rag_optimizer instance and training details"
      ]
    },
    {
      "cell_type": "code",
      "execution_count": 32,
      "metadata": {},
      "outputs": [],
      "source": [
        "historical_opt = experiment.runs.get_rag_optimizer(run_id)"
      ]
    },
    {
      "cell_type": "markdown",
      "metadata": {},
      "source": [
        "### List trained patterns for the selected optimizer"
      ]
    },
    {
      "cell_type": "code",
      "execution_count": 33,
      "metadata": {},
      "outputs": [
        {
          "data": {
            "text/html": [
              "<div>\n",
              "<style scoped>\n",
              "    .dataframe tbody tr th:only-of-type {\n",
              "        vertical-align: middle;\n",
              "    }\n",
              "\n",
              "    .dataframe tbody tr th {\n",
              "        vertical-align: top;\n",
              "    }\n",
              "\n",
              "    .dataframe thead th {\n",
              "        text-align: right;\n",
              "    }\n",
              "</style>\n",
              "<table border=\"1\" class=\"dataframe\">\n",
              "  <thead>\n",
              "    <tr style=\"text-align: right;\">\n",
              "      <th></th>\n",
              "      <th>mean_answer_correctness</th>\n",
              "      <th>mean_faithfulness</th>\n",
              "      <th>mean_context_correctness</th>\n",
              "      <th>chunking.chunk_size</th>\n",
              "      <th>embeddings.model_id</th>\n",
              "      <th>vector_store.distance_metric</th>\n",
              "      <th>retrieval.method</th>\n",
              "      <th>retrieval.number_of_chunks</th>\n",
              "      <th>generation.model_id</th>\n",
              "    </tr>\n",
              "    <tr>\n",
              "      <th>Pattern_Name</th>\n",
              "      <th></th>\n",
              "      <th></th>\n",
              "      <th></th>\n",
              "      <th></th>\n",
              "      <th></th>\n",
              "      <th></th>\n",
              "      <th></th>\n",
              "      <th></th>\n",
              "      <th></th>\n",
              "    </tr>\n",
              "  </thead>\n",
              "  <tbody>\n",
              "    <tr>\n",
              "      <th>Pattern4</th>\n",
              "      <td>0.8571</td>\n",
              "      <td>0.6335</td>\n",
              "      <td>0.7500</td>\n",
              "      <td>1024</td>\n",
              "      <td>ibm/slate-125m-english-rtrvr</td>\n",
              "      <td>cosine</td>\n",
              "      <td>window</td>\n",
              "      <td>5</td>\n",
              "      <td>meta-llama/llama-3-1-8b-instruct</td>\n",
              "    </tr>\n",
              "    <tr>\n",
              "      <th>Pattern1</th>\n",
              "      <td>0.7857</td>\n",
              "      <td>0.6834</td>\n",
              "      <td>0.8095</td>\n",
              "      <td>512</td>\n",
              "      <td>ibm/slate-125m-english-rtrvr</td>\n",
              "      <td>cosine</td>\n",
              "      <td>window</td>\n",
              "      <td>5</td>\n",
              "      <td>meta-llama/llama-3-1-8b-instruct</td>\n",
              "    </tr>\n",
              "    <tr>\n",
              "      <th>Pattern6</th>\n",
              "      <td>0.7363</td>\n",
              "      <td>0.7207</td>\n",
              "      <td>0.7857</td>\n",
              "      <td>1024</td>\n",
              "      <td>ibm/slate-125m-english-rtrvr</td>\n",
              "      <td>cosine</td>\n",
              "      <td>window</td>\n",
              "      <td>3</td>\n",
              "      <td>meta-llama/llama-3-1-8b-instruct</td>\n",
              "    </tr>\n",
              "    <tr>\n",
              "      <th>Pattern2</th>\n",
              "      <td>0.7143</td>\n",
              "      <td>0.8173</td>\n",
              "      <td>0.8143</td>\n",
              "      <td>1024</td>\n",
              "      <td>ibm/slate-125m-english-rtrvr</td>\n",
              "      <td>euclidean</td>\n",
              "      <td>window</td>\n",
              "      <td>5</td>\n",
              "      <td>meta-llama/llama-3-1-8b-instruct</td>\n",
              "    </tr>\n",
              "    <tr>\n",
              "      <th>Pattern5</th>\n",
              "      <td>0.6648</td>\n",
              "      <td>0.5420</td>\n",
              "      <td>0.7143</td>\n",
              "      <td>1024</td>\n",
              "      <td>ibm/slate-125m-english-rtrvr</td>\n",
              "      <td>euclidean</td>\n",
              "      <td>window</td>\n",
              "      <td>3</td>\n",
              "      <td>meta-llama/llama-3-1-8b-instruct</td>\n",
              "    </tr>\n",
              "    <tr>\n",
              "      <th>Pattern3</th>\n",
              "      <td>0.5000</td>\n",
              "      <td>0.3729</td>\n",
              "      <td>0.8143</td>\n",
              "      <td>1024</td>\n",
              "      <td>ibm/slate-125m-english-rtrvr</td>\n",
              "      <td>euclidean</td>\n",
              "      <td>simple</td>\n",
              "      <td>5</td>\n",
              "      <td>meta-llama/llama-3-1-8b-instruct</td>\n",
              "    </tr>\n",
              "  </tbody>\n",
              "</table>\n",
              "</div>"
            ],
            "text/plain": [
              "              mean_answer_correctness  mean_faithfulness  \\\n",
              "Pattern_Name                                               \n",
              "Pattern4                       0.8571             0.6335   \n",
              "Pattern1                       0.7857             0.6834   \n",
              "Pattern6                       0.7363             0.7207   \n",
              "Pattern2                       0.7143             0.8173   \n",
              "Pattern5                       0.6648             0.5420   \n",
              "Pattern3                       0.5000             0.3729   \n",
              "\n",
              "              mean_context_correctness  chunking.chunk_size  \\\n",
              "Pattern_Name                                                  \n",
              "Pattern4                        0.7500                 1024   \n",
              "Pattern1                        0.8095                  512   \n",
              "Pattern6                        0.7857                 1024   \n",
              "Pattern2                        0.8143                 1024   \n",
              "Pattern5                        0.7143                 1024   \n",
              "Pattern3                        0.8143                 1024   \n",
              "\n",
              "                       embeddings.model_id vector_store.distance_metric  \\\n",
              "Pattern_Name                                                              \n",
              "Pattern4      ibm/slate-125m-english-rtrvr                       cosine   \n",
              "Pattern1      ibm/slate-125m-english-rtrvr                       cosine   \n",
              "Pattern6      ibm/slate-125m-english-rtrvr                       cosine   \n",
              "Pattern2      ibm/slate-125m-english-rtrvr                    euclidean   \n",
              "Pattern5      ibm/slate-125m-english-rtrvr                    euclidean   \n",
              "Pattern3      ibm/slate-125m-english-rtrvr                    euclidean   \n",
              "\n",
              "             retrieval.method  retrieval.number_of_chunks  \\\n",
              "Pattern_Name                                                \n",
              "Pattern4               window                           5   \n",
              "Pattern1               window                           5   \n",
              "Pattern6               window                           3   \n",
              "Pattern2               window                           5   \n",
              "Pattern5               window                           3   \n",
              "Pattern3               simple                           5   \n",
              "\n",
              "                           generation.model_id  \n",
              "Pattern_Name                                    \n",
              "Pattern4      meta-llama/llama-3-1-8b-instruct  \n",
              "Pattern1      meta-llama/llama-3-1-8b-instruct  \n",
              "Pattern6      meta-llama/llama-3-1-8b-instruct  \n",
              "Pattern2      meta-llama/llama-3-1-8b-instruct  \n",
              "Pattern5      meta-llama/llama-3-1-8b-instruct  \n",
              "Pattern3      meta-llama/llama-3-1-8b-instruct  "
            ]
          },
          "execution_count": 33,
          "metadata": {},
          "output_type": "execute_result"
        }
      ],
      "source": [
        "historical_opt.summary()"
      ]
    },
    {
      "cell_type": "markdown",
      "metadata": {},
      "source": [
        "<a id=\"cleanup\"></a>\n",
        "## Clean up\n",
        "\n",
        "To delete the current experiment, use the `cancel_run(hard_delete=True)` method.\n",
        "\n",
        "**Warning:** Be careful: once you delete an experiment, you will no longer be able to refer to it."
      ]
    },
    {
      "cell_type": "code",
      "execution_count": 34,
      "metadata": {},
      "outputs": [
        {
          "data": {
            "text/plain": [
              "'SUCCESS'"
            ]
          },
          "execution_count": 34,
          "metadata": {},
          "output_type": "execute_result"
        }
      ],
      "source": [
        "rag_optimizer.cancel_run(hard_delete=True)"
      ]
    },
    {
      "cell_type": "markdown",
      "metadata": {},
      "source": [
        "To delete the deployment, use the `delete` method. \n",
        "\n",
        "**Warning:** If you keep the deployment active, it might lead to unnecessary consumption of Compute Unit Hours (CUHs)."
      ]
    },
    {
      "cell_type": "code",
      "execution_count": 35,
      "metadata": {},
      "outputs": [
        {
          "data": {
            "text/plain": [
              "'SUCCESS'"
            ]
          },
          "execution_count": 35,
          "metadata": {},
          "output_type": "execute_result"
        }
      ],
      "source": [
        "client.deployments.delete(deployment_id)"
      ]
    },
    {
      "cell_type": "markdown",
      "metadata": {},
      "source": [
        "To clean up all of the created assets:\n",
        "- experiments\n",
        "- trainings\n",
        "- pipelines\n",
        "- model definitions\n",
        "- models\n",
        "- functions\n",
        "- deployments\n",
        "\n",
        "follow the steps in this sample [notebook](https://github.com/IBM/watson-machine-learning-samples/blob/master/cpd5.1/notebooks/python_sdk/instance-management/Machine%20Learning%20artifacts%20management.ipynb)."
      ]
    },
    {
      "cell_type": "markdown",
      "metadata": {},
      "source": [
        "<a id=\"summary\"></a>\n",
        "## Summary and next steps\n",
        "\n",
        "You successfully completed this notebook!.\n",
        "\n",
        "You learned how to use `ibm-watsonx-ai` to run AutoAI RAG experiments. \n",
        "\n",
        " Check out our _<a href=\"https://ibm.github.io/watsonx-ai-python-sdk/samples.html\" target=\"_blank\" rel=\"noopener no referrer\">Online Documentation</a>_ for more samples, tutorials, documentation, how-tos, and blog posts. "
      ]
    },
    {
      "cell_type": "markdown",
      "metadata": {},
      "source": [
        "### Authors\n",
        "\n",
        "**Mateusz Szewczyk**, Software Engineer at Watson Machine Learning\n",
        "\n",
        "Copyright © 2024-2025 IBM. This notebook and its source code are released under the terms of the MIT License."
      ]
    }
  ],
  "metadata": {
    "kernelspec": {
      "display_name": "note_env",
      "language": "python",
      "name": "python3"
    },
    "language_info": {
      "codemirror_mode": {
        "name": "ipython",
        "version": 3
      },
      "file_extension": ".py",
      "mimetype": "text/x-python",
      "name": "python",
      "nbconvert_exporter": "python",
      "pygments_lexer": "ipython3",
      "version": "3.11.8"
    }
  },
  "nbformat": 4,
  "nbformat_minor": 2
}
