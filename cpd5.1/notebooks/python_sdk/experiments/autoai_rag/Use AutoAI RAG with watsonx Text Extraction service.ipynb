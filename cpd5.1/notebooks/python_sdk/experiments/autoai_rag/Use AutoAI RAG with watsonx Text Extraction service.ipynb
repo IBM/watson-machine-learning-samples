{
 "metadata": {
  "kernelspec": {
   "name": "python3",
   "display_name": "Python 3.11",
   "language": "python"
  },
  "language_info": {
   "name": "python",
   "version": "3.11.9",
   "mimetype": "text/x-python",
   "codemirror_mode": {
    "name": "ipython",
    "version": 3
   },
   "pygments_lexer": "ipython3",
   "nbconvert_exporter": "python",
   "file_extension": ".py"
  }
 },
 "nbformat_minor": 5,
 "nbformat": 4,
 "cells": [
  {
   "id": "2373ada319e4fda5",
   "cell_type": "markdown",
   "source": [
    "![image](https://raw.githubusercontent.com/IBM/watson-machine-learning-samples/master/cloud/notebooks/headers/watsonx-Prompt_Lab-Notebook.png)\n",
    "# Use AutoAI RAG with watsonx Text Extraction service"
   ],
   "metadata": {}
  },
  {
   "id": "24aa5fa58bb5d946",
   "cell_type": "markdown",
   "source": [
    "#### Disclaimers\n",
    "\n",
    "- Use only Projects and Spaces that are available in the watsonx context.\n",
    "\n",
    "\n",
    "## Notebook content\n",
    "\n",
    "This notebook demonstrates how to process data using the IBM watsonx.ai Text Extraction service and use the result in an AutoAI RAG experiment.\n",
    "The data used in this notebook is from the [Granite Code Models paper](https://arxiv.org/pdf/2405.04324)\n",
    "\n",
    "Some familiarity with Python is helpful. This notebook uses Python 3.11.\n",
    "\n",
    "\n",
    "## Learning goal\n",
    "\n",
    "The learning goals of this notebook are:\n",
    "\n",
    "- Process data using the IBM watsonx.ai Text Extraction service\n",
    "- Create an AutoAI RAG job that will find the best RAG pattern based on processed data\n",
    "\n",
    "\n",
    "## Contents\n",
    "\n",
    "This notebook contains the following parts:\n",
    "- [Set up the environment](#setup)\n",
    "- [Prepare data and connections for the Text Extraction service](#prepare-te)\n",
    "- [Process data using the Text Extraction service](#run-te)\n",
    "- [Prepare data and connections for the AutoAI RAG experiment](#prepare-autorag)\n",
    "- [Run the AutoAI RAG experiment](#run-autorag)\n",
    "- [Compare and test RAG Patterns](#comparision)\n",
    "- [Summary](#summary)"
   ],
   "metadata": {}
  },
  {
   "id": "797be889df452a0c",
   "cell_type": "markdown",
   "source": [
    "<a id=\"setup\"></a>\n",
    "# Set up the environment\n",
    "\n",
    "Before you use the sample code in this notebook, you must perform the following setup tasks:\n",
    "\n",
    "-  Contact your Cloud Pak for Data administrator and ask them for your account credentials"
   ],
   "metadata": {}
  },
  {
   "id": "77e9a79e53ca99e9",
   "cell_type": "markdown",
   "source": "### Install and import the required modules and dependencies",
   "metadata": {}
  },
  {
   "metadata": {},
   "cell_type": "code",
   "source": [
    "!pip install -U wget | tail -n 1\n",
    "!pip install -U 'ibm-watsonx-ai[rag]>=1.2.4' | tail -n 1"
   ],
   "id": "dd46247ca5490688",
   "outputs": [],
   "execution_count": null
  },
  {
   "id": "e5a79fd5b0a8d2e6",
   "cell_type": "markdown",
   "source": [
    "### Connect to WML\n",
    "Authenticate the Watson Machine Learning service on IBM Cloud Pak for Data. You need to provide the platform `url`, your `username`, and your `api_key`.\n"
   ],
   "metadata": {}
  },
  {
   "metadata": {
    "ExecuteTime": {
     "end_time": "2025-02-21T07:48:43.864303Z",
     "start_time": "2025-02-21T07:48:43.862673Z"
    }
   },
   "cell_type": "code",
   "source": [
    "username = \"PASTE YOUR USERNAME HERE\"\n",
    "api_key = \"PASTE YOUR API_KEY HERE\"\n",
    "url = \"PASTE THE PLATFORM URL HERE\""
   ],
   "id": "27c3105673be0713",
   "outputs": [],
   "execution_count": 24
  },
  {
   "metadata": {
    "ExecuteTime": {
     "end_time": "2025-02-21T07:48:44.801003Z",
     "start_time": "2025-02-21T07:48:44.798433Z"
    }
   },
   "cell_type": "code",
   "source": [
    "from ibm_watsonx_ai import Credentials\n",
    "\n",
    "credentials = Credentials(\n",
    "    username=username,\n",
    "    api_key=api_key,\n",
    "    url=url,\n",
    "    instance_id=\"openshift\",\n",
    "    version=\"5.1\"\n",
    ")"
   ],
   "id": "f3bd4ccb3e2e8922",
   "outputs": [],
   "execution_count": 25
  },
  {
   "metadata": {},
   "cell_type": "markdown",
   "source": [
    "Alternatively, you can use your username and password to authenticate WML services.\n",
    "```\n",
    "credentials = Credentials(\n",
    "    username=***,\n",
    "    password=***,\n",
    "    url=***,\n",
    "    instance_id=\"openshift\",\n",
    "    version=\"5.1\"\n",
    ")\n",
    "```"
   ],
   "id": "2898f34833a0a38c"
  },
  {
   "metadata": {},
   "cell_type": "markdown",
   "source": "Create an instance of APIClient with authentication details",
   "id": "1b66c1149d1b5758"
  },
  {
   "metadata": {
    "ExecuteTime": {
     "end_time": "2025-02-21T07:48:53.224257Z",
     "start_time": "2025-02-21T07:48:48.482456Z"
    }
   },
   "cell_type": "code",
   "source": [
    "from ibm_watsonx_ai import APIClient\n",
    "\n",
    "client = APIClient(credentials)"
   ],
   "id": "3fb7cc9fe90e3438",
   "outputs": [],
   "execution_count": 26
  },
  {
   "metadata": {},
   "cell_type": "markdown",
   "source": [
    "### Working with spaces\n",
    "\n",
    "First, you need to create a space for your work. If you do not have a space already created, you can use `{PLATFORM_URL}/ml-runtime/spaces?context=icp4data` to create one.\n",
    "\n",
    "- Click **New Deployment Space**\n",
    "- Create an empty space\n",
    "- Go to the space `Settings` tab\n",
    "- Copy the `space_id` and paste it below\n",
    "\n",
    "**Tip**: You can also use SDK to prepare the space for your work. Find more information in the Space Management sample notebook.\n",
    "\n",
    "**Action**: Assign the space ID below"
   ],
   "id": "9e1e18a78c80dd55"
  },
  {
   "metadata": {
    "ExecuteTime": {
     "end_time": "2025-02-21T07:43:56.192105Z",
     "start_time": "2025-02-21T07:43:56.190002Z"
    }
   },
   "cell_type": "code",
   "source": "space_id = 'PASTE YOUR SPACE GUID HERE'",
   "id": "721f19fc44caff97",
   "outputs": [],
   "execution_count": 9
  },
  {
   "metadata": {},
   "cell_type": "markdown",
   "source": "To be able to interact with all resources available in Watson Machine Learning, set the space that you are using.",
   "id": "641b9e3099496584"
  },
  {
   "metadata": {
    "ExecuteTime": {
     "end_time": "2025-02-21T07:44:01.785886Z",
     "start_time": "2025-02-21T07:44:00.818638Z"
    }
   },
   "cell_type": "code",
   "source": "client.set.default_space(space_id)",
   "id": "ffb829ea938bb926",
   "outputs": [
    {
     "data": {
      "text/plain": [
       "'SUCCESS'"
      ]
     },
     "execution_count": 10,
     "metadata": {},
     "output_type": "execute_result"
    }
   ],
   "execution_count": 10
  },
  {
   "id": "1a538feb8038c56b",
   "cell_type": "markdown",
   "source": "### Create an instance of COS client",
   "metadata": {}
  },
  {
   "id": "b292e1bcfbd5849a",
   "cell_type": "markdown",
   "source": [
    "Connect to the Cloud Object Storage instance for the by using the `ibm_boto3` package.\n",
    "\n",
    "**Action**: Assign COS credentials below"
   ],
   "metadata": {}
  },
  {
   "metadata": {
    "ExecuteTime": {
     "end_time": "2025-02-21T07:44:03.121414Z",
     "start_time": "2025-02-21T07:44:03.118728Z"
    }
   },
   "cell_type": "code",
   "source": [
    "cos_bucket_name = \"PUT YOUR COS BUCKET NAME HERE\"\n",
    "endpoint_url = \"PUT YOUR ENDPOINT URL HERE\"\n",
    "access_key = \"PUT YOUR COS ACCESS KEY HERE\"\n",
    "secret_access_key = \"PUT YOUR COS SECRET ACCESS KEY HERE\""
   ],
   "id": "da4556de3b00564",
   "outputs": [],
   "execution_count": 11
  },
  {
   "metadata": {},
   "cell_type": "markdown",
   "source": "Create client",
   "id": "a2921241e547b791"
  },
  {
   "id": "1df2d93b579cdd34",
   "cell_type": "code",
   "source": [
    "import ibm_boto3\n",
    "\n",
    "cos_client = ibm_boto3.client(\n",
    "    service_name=\"s3\",\n",
    "    endpoint_url=endpoint_url,\n",
    "    aws_access_key_id=access_key,\n",
    "    aws_secret_access_key=secret_access_key,\n",
    ")"
   ],
   "metadata": {
    "id": "3f8b9e40-985e-44cf-a1d6-509493ea85bc",
    "ExecuteTime": {
     "end_time": "2025-02-21T07:44:05.137050Z",
     "start_time": "2025-02-21T07:44:05.102932Z"
    }
   },
   "outputs": [],
   "execution_count": 12
  },
  {
   "id": "afa211d65c3f216",
   "cell_type": "markdown",
   "source": "Initialize the client connection to the created bucket and get the connection ID.",
   "metadata": {}
  },
  {
   "id": "17b0d8d77c8a04f8",
   "cell_type": "code",
   "source": [
    "connection_details = client.connections.create(\n",
    "    {\n",
    "        \"datasource_type\": client.connections.get_datasource_type_uid_by_name(\n",
    "            \"bluemixcloudobjectstorage\"\n",
    "        ),\n",
    "        \"name\": \"Connection to COS for tests\",\n",
    "        \"properties\": {\n",
    "            \"bucket\": cos_bucket_name,\n",
    "            \"access_key\": access_key,\n",
    "            \"secret_key\": secret_access_key,\n",
    "            \"iam_url\": client.service_instance._href_definitions.get_iam_token_url(),\n",
    "            \"url\": endpoint_url,\n",
    "        },\n",
    "    }\n",
    ")\n",
    "\n",
    "cos_connection_id = client.connections.get_id(\n",
    "    connection_details\n",
    ")"
   ],
   "metadata": {
    "id": "2d2233f0-4717-4aef-b2b0-ed63afdc19c1",
    "ExecuteTime": {
     "end_time": "2025-02-21T07:44:18.185905Z",
     "start_time": "2025-02-21T07:44:06.809316Z"
    }
   },
   "outputs": [
    {
     "name": "stdout",
     "output_type": "stream",
     "text": [
      "Creating connections...\n",
      "SUCCESS\n"
     ]
    }
   ],
   "execution_count": 13
  },
  {
   "id": "ff0a7b3c2e49edb0",
   "cell_type": "markdown",
   "source": [
    "<a id=\"prepare-te\"></a>\n",
    "## Prepare data and connections for the Text Extraction service\n",
    "\n",
    "The document, from which we are going to extract text, is located in the IBM Cloud Object Storage (COS). In this notebook, we will use the [Granite Code Models paper](https://arxiv.org/pdf/2405.04324) as a source text document. The final results file, which will contain extracted text and necessary metadata, will be placed in the COS. So we will use the `ibm_watsonx_ai.helpers.DataConnection` and the `ibm_watsonx_ai.helpers.S3Location` class to create Python objects that will represent the references to the processed files. Reference to the final results will be used as an input for the AutoAI RAG experiment. "
   ],
   "metadata": {}
  },
  {
   "id": "6986db8afa2092a0",
   "cell_type": "code",
   "source": [
    "from ibm_watsonx_ai.helpers import DataConnection, S3Location\n",
    "\n",
    "data_url = \"https://arxiv.org/pdf/2405.04324\"\n",
    "\n",
    "te_input_filename = \"granite_code_models.pdf\"\n",
    "te_result_filename = \"granite_code_models.md\""
   ],
   "metadata": {
    "id": "dbfed6f2-ff47-4ddf-a95b-2a997bb878a0",
    "ExecuteTime": {
     "end_time": "2025-02-21T07:44:21.223722Z",
     "start_time": "2025-02-21T07:44:21.221118Z"
    }
   },
   "outputs": [],
   "execution_count": 14
  },
  {
   "id": "f69a91d41da6d94d",
   "cell_type": "markdown",
   "source": "Download and upload training data to the COS bucket. Then define a connection to the uploaded file.",
   "metadata": {}
  },
  {
   "metadata": {
    "ExecuteTime": {
     "end_time": "2025-02-21T07:44:30.570936Z",
     "start_time": "2025-02-21T07:44:23.129569Z"
    }
   },
   "cell_type": "code",
   "source": [
    "import wget\n",
    "\n",
    "wget.download(data_url, te_input_filename)\n",
    "cos_client.upload_file(te_input_filename, cos_bucket_name, te_input_filename)"
   ],
   "id": "4d2e0021b4ccfae3",
   "outputs": [],
   "execution_count": 15
  },
  {
   "metadata": {},
   "cell_type": "markdown",
   "source": "Input file connection.",
   "id": "61322fcdd5148ca5"
  },
  {
   "metadata": {
    "ExecuteTime": {
     "end_time": "2025-02-21T07:44:33.183554Z",
     "start_time": "2025-02-21T07:44:33.181816Z"
    }
   },
   "cell_type": "code",
   "source": [
    "input_data_reference = DataConnection(\n",
    "    connection_asset_id=cos_connection_id,\n",
    "    location=S3Location(bucket=cos_bucket_name, path=te_input_filename),\n",
    ")\n",
    "input_data_reference.set_client(client)"
   ],
   "id": "457123d62baee219",
   "outputs": [],
   "execution_count": 16
  },
  {
   "id": "ef0a2d3adef6dbe6",
   "cell_type": "markdown",
   "source": "Output file connection.",
   "metadata": {}
  },
  {
   "id": "93d11d2581f5d8e6",
   "cell_type": "code",
   "source": "result_data_reference = DataConnection(\n    connection_asset_id=cos_connection_id, \n    location=S3Location(\n        bucket=cos_bucket_name,\n        path=te_result_filename\n    )\n)\nresult_data_reference.set_client(client)",
   "metadata": {
    "id": "81c72273-05aa-4f62-92ae-2ed011072e65",
    "ExecuteTime": {
     "end_time": "2025-02-21T07:44:35.664335Z",
     "start_time": "2025-02-21T07:44:35.661763Z"
    }
   },
   "outputs": [],
   "execution_count": 17
  },
  {
   "id": "9770cd3738d64e83",
   "cell_type": "markdown",
   "source": [
    "<a id=\"run-te\"></a>\n",
    "## Process data using the Text Extraction service"
   ],
   "metadata": {}
  },
  {
   "id": "629b6e92699ab5f7",
   "cell_type": "markdown",
   "source": "Initialize the Text Extraction service endpoint.",
   "metadata": {}
  },
  {
   "id": "ec363d7dd83678fe",
   "cell_type": "code",
   "source": [
    "from ibm_watsonx_ai.foundation_models.extractions import TextExtractions\n",
    "\n",
    "extraction = TextExtractions(\n",
    "    credentials=credentials,\n",
    "    space_id=space_id,\n",
    ")"
   ],
   "metadata": {
    "id": "fbacb600-3fac-4360-a73b-acd3a22e4dc9",
    "ExecuteTime": {
     "end_time": "2025-02-21T07:44:43.028046Z",
     "start_time": "2025-02-21T07:44:37.642132Z"
    }
   },
   "outputs": [],
   "execution_count": 18
  },
  {
   "id": "3ee3d5c200c3b3dd",
   "cell_type": "markdown",
   "source": "Run a text extraction job for connections created in the previous step.",
   "metadata": {}
  },
  {
   "id": "dcc836b68a2db40a",
   "cell_type": "code",
   "source": [
    "from ibm_watsonx_ai.metanames import TextExtractionsMetaNames\n",
    "\n",
    "response = extraction.run_job(\n",
    "    document_reference=input_data_reference,\n",
    "    results_reference=result_data_reference,\n",
    "    steps={\n",
    "        TextExtractionsMetaNames.OCR: {\n",
    "            \"process_image\": True,\n",
    "            \"languages_list\": [\"en\"],\n",
    "        },\n",
    "        TextExtractionsMetaNames.TABLE_PROCESSING: {\"enabled\": True},\n",
    "    },\n",
    "    results_format=\"markdown\",\n",
    ")\n",
    "\n",
    "job_id = response['metadata']['id']"
   ],
   "metadata": {
    "id": "10c0ebab-37b0-4eea-b0e8-8be7f09f774a",
    "ExecuteTime": {
     "end_time": "2025-02-21T07:49:10.290649Z",
     "start_time": "2025-02-21T07:49:10.288540Z"
    }
   },
   "outputs": [],
   "execution_count": 27
  },
  {
   "id": "ca63ff5343081559",
   "cell_type": "markdown",
   "source": "Wait for the job to be complete.",
   "metadata": {}
  },
  {
   "id": "9a933380bd5cfc36",
   "cell_type": "code",
   "source": [
    "import json\n",
    "import time\n",
    "\n",
    "while True:\n",
    "    job_details = extraction.get_job_details(job_id)\n",
    "    status = job_details['entity']['results']['status']\n",
    "    \n",
    "    if status == \"completed\":\n",
    "        print(\"Job completed successfully, details: {}\".format(json.dumps(job_details, indent=2)))\n",
    "        break\n",
    "    \n",
    "    if status == \"failed\":\n",
    "        print(\"Job failed, details: {}. \\n Try to run job again.\".format(json.dumps(job_details, indent=2)))\n",
    "        break\n",
    "\n",
    "    time.sleep(10)"
   ],
   "metadata": {
    "id": "1ec0a420-d284-4577-8d55-8b11831f997d",
    "ExecuteTime": {
     "end_time": "2025-02-21T07:44:44.855391Z",
     "start_time": "2025-02-20T10:33:10.836621Z"
    }
   },
   "outputs": [
    {
     "name": "stdout",
     "output_type": "stream",
     "text": [
      "Job completed successfully, details: {\n",
      "  \"entity\": {\n",
      "    \"document_reference\": {\n",
      "      \"connection\": {\n",
      "        \"id\": \"ff205130-2c63-4b5e-b0fa-8d6d6d417cfd\"\n",
      "      },\n",
      "      \"location\": {\n",
      "        \"bucket\": \"wnowogorski-test-bucket\",\n",
      "        \"file_name\": \"granite_code_models.pdf\"\n",
      "      },\n",
      "      \"type\": \"connection_asset\"\n",
      "    },\n",
      "    \"results\": {\n",
      "      \"completed_at\": \"2025-02-20T10:36:13.409Z\",\n",
      "      \"number_pages_processed\": 28,\n",
      "      \"running_at\": \"2025-02-20T10:33:13.009Z\",\n",
      "      \"status\": \"completed\"\n",
      "    },\n",
      "    \"results_reference\": {\n",
      "      \"connection\": {\n",
      "        \"id\": \"ff205130-2c63-4b5e-b0fa-8d6d6d417cfd\"\n",
      "      },\n",
      "      \"location\": {\n",
      "        \"bucket\": \"wnowogorski-test-bucket\",\n",
      "        \"file_name\": \"granite_code_models.md\"\n",
      "      },\n",
      "      \"type\": \"connection_asset\"\n",
      "    },\n",
      "    \"steps\": {\n",
      "      \"ocr\": {\n",
      "        \"languages_list\": [\n",
      "          \"en\"\n",
      "        ]\n",
      "      },\n",
      "      \"tables_processing\": {\n",
      "        \"enabled\": true\n",
      "      }\n",
      "    }\n",
      "  },\n",
      "  \"metadata\": {\n",
      "    \"created_at\": \"2025-02-20T10:33:10.714Z\",\n",
      "    \"id\": \"1b7489ea-4abb-418c-9aae-0800244f3d10\",\n",
      "    \"modified_at\": \"2025-02-20T10:36:13.448Z\",\n",
      "    \"space_id\": \"94c99253-1750-4091-befa-0ae8d6ffe454\"\n",
      "  }\n",
      "}\n"
     ]
    }
   ],
   "execution_count": 16
  },
  {
   "metadata": {},
   "cell_type": "markdown",
   "source": "Get the text extraction result.",
   "id": "7635ca019a2ace22"
  },
  {
   "metadata": {
    "ExecuteTime": {
     "end_time": "2025-02-21T07:42:26.010948Z",
     "start_time": "2025-02-20T10:36:14.921665Z"
    }
   },
   "cell_type": "code",
   "source": [
    "from IPython.display import display, Markdown\n",
    "\n",
    "cos_client.download_file(\n",
    "    Bucket=cos_bucket_name,\n",
    "    Key=te_result_filename,\n",
    "    Filename=te_result_filename\n",
    ")\n",
    "\n",
    "with open(te_result_filename, 'r', encoding='utf-8') as file:\n",
    "    # Display beginning of the result file\n",
    "    display(Markdown((file.read()[:3000])))"
   ],
   "id": "15359c4bd8c91558",
   "outputs": [
    {
     "data": {
      "text/plain": [
       "<IPython.core.display.Markdown object>"
      ],
      "text/markdown": "†Corresponding Authors \n\nLarge Language Models (LLMs) trained on code are revolutionizing the software development process. Increasingly, code LLMs are being inte- grated into software development environments to improve the produc- tivity of human programmers, and LLM-based agents are beginning to show promise for handling complex tasks autonomously. Realizing the full potential of code LLMs requires a wide range of capabilities, including code generation, fixing bugs, explaining and documenting code, maintaining repositories, and more. In this work, we introduce the Granite series of decoder-only code models for code generative tasks, trained with code written in 116 programming languages. The Granite Code models family consists of models ranging in size from 3 to 34 billion parameters, suitable for applications ranging from complex application modernization tasks to on-device memory-constrained use cases. Evaluation on a comprehensive set of tasks demonstrates that Granite Code models consistently reaches state-of-the-art performance among available open-source code LLMs. The Granite Code model family was optimized for enterprise software devel- opment workflows and performs well across a range of coding tasks (e.g. code generation, fixing and explanation), making it a versatile “all around” code model. We release all our Granite Code models under an Apache 2.0 license for both research and commercial use. https://github.com/ibm-granite/granite-code-models \n\n# 1 Introduction \n\nOver the last several decades, software has been woven into the fabric of every aspect of our society. As demand for software development surges, it is more critical than ever to increase software development productivity, and LLMs provide promising path for augmenting human programmers. Prominent enterprise use cases for LLMs in software development productivity include code generation, code explanation, code fixing, unit test and documentation generation, application modernization, vulnerability detection, code translation, and more. \n\nRecent years have seen rapid progress in LLM’s ability to generate and manipulate code, and a range of models with impressive coding abilities are available today. Models range in 43.5 \n\n* 41.5\n\n\t+ 37.4\n\t+ 34.4\n\t+ 31.2\n\t+ 29.2\n\t\n\t\t- 29.0\n\t\t\n\t\t\t* 33.2\n\t\t\t* 18.9\n\t\t\t\n\t\t\t\t+ 19.\n\t\t\t\t\n\t\t\t\t\t- 21.3\n\t\t\t\t\t- 15.1 \n\t\t\t\t\t\t* 15.0\n\t\t\t\t\t- 29.6\n\t\t\t\t\t- 26.\n\t\t\t\t\t- 14.2\n\t\t\t\t\tO.\n\t\t\t\t\t- 7.\n\t\t\t\t\t\n\t\t\t\t\t\t* 8.9\n\t\t\t\t\t\t* 2.9\n\t\t\t\t+ 20.\n\t+ 15.0\n\t+ 13.4\n\t+ 13.5\n\t+ 13.9\n\t+ 12.4Generating Code \n\nExplaining Code \n\nFixing Code \n\nAverage \n\nO MistralAI/Mistral-7B W @ Meta/Llama-3-8B \n\n@) Google/Gemma-7B \n\nMeta/CodeLlama-7B @) Google/CodeGemma-7B @ IBM/Granite-8B-Code-Base W \n\n@ BigCode/StarCoder2-7B \n\nApache 2.0 License \n\n\n\t+ 49.6\n* 41.6\n* 36.9\n* 37.9\n* 19.8\n* 40.9\n* 38.4\n\n29.1 | \n\n* 25.1\n\n21 \n\n* 41.9\n* 43.6\n* 5.8\n* 31.8\n* 25.3\n* 18.3\n* 13.7\n* 112.8\n\nGenerating Code \n\nExplaining Code \n\nFixing Code \n\nAverage \n\nO MistralAI/Mistral-7B-Instruct-v0.2 \n\n@ Meta/CodeLlama-7B-Instru"
     },
     "metadata": {},
     "output_type": "display_data"
    }
   ],
   "execution_count": 17
  },
  {
   "id": "ce5b2ba9ba5f967",
   "cell_type": "markdown",
   "source": [
    "<a id=\"prepare-autorag\"></a>\n",
    "## Prepare data and connections for the AutoAI RAG experiment"
   ],
   "metadata": {}
  },
  {
   "id": "63872845c85d401d",
   "cell_type": "markdown",
   "source": [
    "Upload a `json` file to use for benchmarking to COS and define a connection to this file. \n",
    "\n",
    "Note: `correct_answer_document_ids` must refer to the document processed by text extraction service, not the initial document."
   ],
   "metadata": {}
  },
  {
   "id": "7491bef8c96b7040",
   "cell_type": "code",
   "source": [
    "benchmarking_data = [\n",
    "     {\n",
    "        \"question\": \"What are the two main variants of Granite Code models?\",\n",
    "        \"correct_answer\": \"The two main variants are Granite Code Base and Granite Code Instruct.\",\n",
    "        \"correct_answer_document_ids\": [te_result_filename]\n",
    "     },\n",
    "     {\n",
    "        \"question\": \"What is the purpose of Granite Code Instruct models?\",\n",
    "        \"correct_answer\": \"Granite Code Instruct models are finetuned for instruction-following tasks using datasets like CommitPack, OASST, HelpSteer, and synthetic code instruction datasets, aiming to improve reasoning and instruction-following capabilities.\",\n",
    "        \"correct_answer_document_ids\": [te_result_filename]\n",
    "     },\n",
    "     {\n",
    "        \"question\": \"What is the licensing model for Granite Code models?\",\n",
    "        \"correct_answer\": \"Granite Code models are released under the Apache 2.0 license, ensuring permissive and enterprise-friendly usage.\",\n",
    "        \"correct_answer_document_ids\": [te_result_filename]\n",
    "     },\n",
    "]"
   ],
   "metadata": {
    "id": "e399f617-9515-48d7-a38c-e66c8116dc34",
    "ExecuteTime": {
     "end_time": "2025-02-21T07:42:26.012383Z",
     "start_time": "2025-02-20T10:36:15.733819Z"
    }
   },
   "outputs": [],
   "execution_count": 18
  },
  {
   "id": "c0e92e1d32467d6f",
   "cell_type": "code",
   "source": [
    "import os\n",
    "\n",
    "test_filename = \"benchmark.json\"\n",
    "\n",
    "if not os.path.isfile(test_filename):\n",
    "    with open(test_filename, \"w\") as json_file:\n",
    "        json.dump(benchmarking_data, json_file, indent=4)\n",
    "\n",
    "cos_client.upload_file(test_filename, cos_bucket_name, test_filename)"
   ],
   "metadata": {
    "id": "008a8db8-b1d2-42f8-9f25-1861d1ea4771",
    "ExecuteTime": {
     "end_time": "2025-02-21T07:42:26.013114Z",
     "start_time": "2025-02-20T10:36:15.752192Z"
    }
   },
   "outputs": [],
   "execution_count": 19
  },
  {
   "id": "1a15c37edb8aa736",
   "cell_type": "markdown",
   "source": "Test the data connection.",
   "metadata": {}
  },
  {
   "id": "a5fd521450aa575d",
   "cell_type": "code",
   "source": "test_data_reference = DataConnection(\n    connection_asset_id=cos_connection_id,\n    location=S3Location(bucket=cos_bucket_name, path=test_filename),\n)\ntest_data_reference.set_client(client)\n\ntest_data_references = [test_data_reference]",
   "metadata": {
    "id": "49237e6c-aa57-459a-a9b8-99bc00c29573",
    "ExecuteTime": {
     "end_time": "2025-02-21T07:42:26.014034Z",
     "start_time": "2025-02-20T10:36:16.164654Z"
    }
   },
   "outputs": [],
   "execution_count": 20
  },
  {
   "id": "bcc6c6b167fe11fd",
   "cell_type": "markdown",
   "source": "Use the reference to the Text Extraction job result as input for the AutoAI RAG experiment.",
   "metadata": {}
  },
  {
   "id": "4451ab741f192d94",
   "cell_type": "code",
   "source": "input_data_references = [result_data_reference]",
   "metadata": {
    "id": "eb86615c-5d19-46e1-8179-9af89eaf0d58",
    "ExecuteTime": {
     "end_time": "2025-02-21T07:42:26.015312Z",
     "start_time": "2025-02-20T10:36:16.176058Z"
    }
   },
   "outputs": [],
   "execution_count": 21
  },
  {
   "id": "5af97452ce3a4da6",
   "cell_type": "markdown",
   "source": [
    "<a id=\"run-autorag\"></a>\n",
    "# Run the AutoAI RAG experiment\n",
    "\n",
    "Provide the input information for AutoAI RAG optimizer:\n",
    "- `name` - experiment name\n",
    "- `description` - experiment description\n",
    "- `max_number_of_rag_patterns` - maximum number of RAG patterns to create\n",
    "- `optimization_metrics` - target optimization metrics"
   ],
   "metadata": {}
  },
  {
   "id": "619457e9a66bcc24",
   "cell_type": "code",
   "source": [
    "from ibm_watsonx_ai.experiment import AutoAI\n",
    "\n",
    "experiment = AutoAI(credentials, space_id=space_id)\n",
    "\n",
    "rag_optimizer = experiment.rag_optimizer(\n",
    "    name='AutoAI RAG - Text Extraction service experiment',\n",
    "    description = \"AutoAI RAG experiment on documents generated by text extraction service\",\n",
    "    max_number_of_rag_patterns=4,\n",
    "    optimization_metrics=['answer_correctness']\n",
    ") "
   ],
   "metadata": {
    "id": "089a0f87-c462-4873-9e86-e2f44e5f5ffd",
    "ExecuteTime": {
     "end_time": "2025-02-21T07:42:26.015596Z",
     "start_time": "2025-02-20T10:36:16.184303Z"
    }
   },
   "outputs": [],
   "execution_count": 22
  },
  {
   "metadata": {},
   "cell_type": "markdown",
   "source": [
    "Call the `run()` method to trigger the AutoAI RAG experiment. Choose one of two modes: \n",
    "\n",
    "- To use the **interactive mode** (synchronous job), specify `background_mode=False` \n",
    "- To use the **background mode** (asynchronous job), specify `background_mode=True`"
   ],
   "id": "eebec0a74b713ef7"
  },
  {
   "metadata": {
    "ExecuteTime": {
     "end_time": "2025-02-21T07:42:26.016255Z",
     "start_time": "2025-02-20T10:36:19.523639Z"
    }
   },
   "cell_type": "code",
   "source": [
    "rag_optimizer.run(\n",
    "    input_data_references=input_data_references,\n",
    "    test_data_references=test_data_references,\n",
    "    background_mode=False\n",
    ");"
   ],
   "id": "aa3fc7d25f0cf32f",
   "outputs": [
    {
     "name": "stdout",
     "output_type": "stream",
     "text": [
      "\n",
      "\n",
      "##############################################\n",
      "\n",
      "Running '508d378a-3514-47a4-971c-c2735ad8314b'\n",
      "\n",
      "##############################################\n",
      "\n",
      "\n",
      "pending....\n",
      "running....................................................................................................................................................................................................................\n",
      "completed\n",
      "Training of '508d378a-3514-47a4-971c-c2735ad8314b' finished successfully.\n"
     ]
    }
   ],
   "execution_count": 23
  },
  {
   "metadata": {},
   "cell_type": "markdown",
   "source": [
    "<a id=\"comparison\"></a>\n",
    "## Compare and test of RAG Patterns\n",
    "\n",
    "You can list the trained patterns and information on evaluation metrics in the form of a Pandas DataFrame by calling the `summary()` method. You can use the DataFrame to compare all discovered patterns and select the one you like for further testing."
   ],
   "id": "4563ecfaed85b633"
  },
  {
   "metadata": {
    "ExecuteTime": {
     "end_time": "2025-02-21T07:42:26.016904Z",
     "start_time": "2025-02-20T10:58:11.870039Z"
    }
   },
   "cell_type": "code",
   "source": [
    "summary = rag_optimizer.summary()\n",
    "summary"
   ],
   "id": "dc2a28877f1459e6",
   "outputs": [
    {
     "data": {
      "text/plain": [
       "              mean_answer_correctness  mean_faithfulness  \\\n",
       "Pattern_Name                                               \n",
       "Pattern4                       0.3700                1.0   \n",
       "Pattern1                       0.3462                1.0   \n",
       "Pattern2                       0.3462                1.0   \n",
       "Pattern3                       0.3462                1.0   \n",
       "\n",
       "              mean_context_correctness chunking.method  chunking.chunk_size  \\\n",
       "Pattern_Name                                                                  \n",
       "Pattern4                           1.0       recursive                 1024   \n",
       "Pattern1                           1.0       recursive                  512   \n",
       "Pattern2                           1.0       recursive                 1024   \n",
       "Pattern3                           1.0       recursive                 1024   \n",
       "\n",
       "              chunking.chunk_overlap             embeddings.model_id  \\\n",
       "Pattern_Name                                                           \n",
       "Pattern4                         512  intfloat/multilingual-e5-large   \n",
       "Pattern1                         128  intfloat/multilingual-e5-large   \n",
       "Pattern2                         256    ibm/slate-125m-english-rtrvr   \n",
       "Pattern3                         256    ibm/slate-125m-english-rtrvr   \n",
       "\n",
       "             vector_store.distance_metric retrieval.method  \\\n",
       "Pattern_Name                                                 \n",
       "Pattern4                           cosine           window   \n",
       "Pattern1                           cosine           window   \n",
       "Pattern2                           cosine           window   \n",
       "Pattern3                           cosine           simple   \n",
       "\n",
       "              retrieval.number_of_chunks generation.model_id  \n",
       "Pattern_Name                                                  \n",
       "Pattern4                               5     google/flan-ul2  \n",
       "Pattern1                               5     google/flan-ul2  \n",
       "Pattern2                               5     google/flan-ul2  \n",
       "Pattern3                               5     google/flan-ul2  "
      ],
      "text/html": [
       "<div>\n",
       "<style scoped>\n",
       "    .dataframe tbody tr th:only-of-type {\n",
       "        vertical-align: middle;\n",
       "    }\n",
       "\n",
       "    .dataframe tbody tr th {\n",
       "        vertical-align: top;\n",
       "    }\n",
       "\n",
       "    .dataframe thead th {\n",
       "        text-align: right;\n",
       "    }\n",
       "</style>\n",
       "<table border=\"1\" class=\"dataframe\">\n",
       "  <thead>\n",
       "    <tr style=\"text-align: right;\">\n",
       "      <th></th>\n",
       "      <th>mean_answer_correctness</th>\n",
       "      <th>mean_faithfulness</th>\n",
       "      <th>mean_context_correctness</th>\n",
       "      <th>chunking.method</th>\n",
       "      <th>chunking.chunk_size</th>\n",
       "      <th>chunking.chunk_overlap</th>\n",
       "      <th>embeddings.model_id</th>\n",
       "      <th>vector_store.distance_metric</th>\n",
       "      <th>retrieval.method</th>\n",
       "      <th>retrieval.number_of_chunks</th>\n",
       "      <th>generation.model_id</th>\n",
       "    </tr>\n",
       "    <tr>\n",
       "      <th>Pattern_Name</th>\n",
       "      <th></th>\n",
       "      <th></th>\n",
       "      <th></th>\n",
       "      <th></th>\n",
       "      <th></th>\n",
       "      <th></th>\n",
       "      <th></th>\n",
       "      <th></th>\n",
       "      <th></th>\n",
       "      <th></th>\n",
       "      <th></th>\n",
       "    </tr>\n",
       "  </thead>\n",
       "  <tbody>\n",
       "    <tr>\n",
       "      <th>Pattern4</th>\n",
       "      <td>0.3700</td>\n",
       "      <td>1.0</td>\n",
       "      <td>1.0</td>\n",
       "      <td>recursive</td>\n",
       "      <td>1024</td>\n",
       "      <td>512</td>\n",
       "      <td>intfloat/multilingual-e5-large</td>\n",
       "      <td>cosine</td>\n",
       "      <td>window</td>\n",
       "      <td>5</td>\n",
       "      <td>google/flan-ul2</td>\n",
       "    </tr>\n",
       "    <tr>\n",
       "      <th>Pattern1</th>\n",
       "      <td>0.3462</td>\n",
       "      <td>1.0</td>\n",
       "      <td>1.0</td>\n",
       "      <td>recursive</td>\n",
       "      <td>512</td>\n",
       "      <td>128</td>\n",
       "      <td>intfloat/multilingual-e5-large</td>\n",
       "      <td>cosine</td>\n",
       "      <td>window</td>\n",
       "      <td>5</td>\n",
       "      <td>google/flan-ul2</td>\n",
       "    </tr>\n",
       "    <tr>\n",
       "      <th>Pattern2</th>\n",
       "      <td>0.3462</td>\n",
       "      <td>1.0</td>\n",
       "      <td>1.0</td>\n",
       "      <td>recursive</td>\n",
       "      <td>1024</td>\n",
       "      <td>256</td>\n",
       "      <td>ibm/slate-125m-english-rtrvr</td>\n",
       "      <td>cosine</td>\n",
       "      <td>window</td>\n",
       "      <td>5</td>\n",
       "      <td>google/flan-ul2</td>\n",
       "    </tr>\n",
       "    <tr>\n",
       "      <th>Pattern3</th>\n",
       "      <td>0.3462</td>\n",
       "      <td>1.0</td>\n",
       "      <td>1.0</td>\n",
       "      <td>recursive</td>\n",
       "      <td>1024</td>\n",
       "      <td>256</td>\n",
       "      <td>ibm/slate-125m-english-rtrvr</td>\n",
       "      <td>cosine</td>\n",
       "      <td>simple</td>\n",
       "      <td>5</td>\n",
       "      <td>google/flan-ul2</td>\n",
       "    </tr>\n",
       "  </tbody>\n",
       "</table>\n",
       "</div>"
      ]
     },
     "execution_count": 24,
     "metadata": {},
     "output_type": "execute_result"
    }
   ],
   "execution_count": 24
  },
  {
   "id": "dd2f1b669bfa61df",
   "cell_type": "markdown",
   "source": [
    "### Get the selected pattern\n",
    "\n",
    "Get the RAGPattern object from the RAG Optimizer experiment. By default, the RAGPattern of the best pattern is returned."
   ],
   "metadata": {}
  },
  {
   "metadata": {
    "ExecuteTime": {
     "end_time": "2025-02-21T07:42:26.018562Z",
     "start_time": "2025-02-20T10:58:11.958650Z"
    }
   },
   "cell_type": "code",
   "source": [
    "best_pattern_name = summary.index.values[0]\n",
    "print('Best pattern is:', best_pattern_name)\n",
    "\n",
    "best_pattern = rag_optimizer.get_pattern()"
   ],
   "id": "e423064a26b8f02e",
   "outputs": [
    {
     "name": "stdout",
     "output_type": "stream",
     "text": [
      "Best pattern is: Pattern4\n"
     ]
    }
   ],
   "execution_count": 25
  },
  {
   "metadata": {
    "ExecuteTime": {
     "end_time": "2025-02-21T07:42:26.019245Z",
     "start_time": "2025-02-20T10:58:17.862374Z"
    }
   },
   "cell_type": "code",
   "source": "rag_optimizer.get_pattern_details(pattern_name=best_pattern_name)",
   "id": "4cb7325de0524ebc",
   "outputs": [
    {
     "data": {
      "text/plain": [
       "{'composition_steps': ['chunking',\n",
       "  'embeddings',\n",
       "  'vector_store',\n",
       "  'retrieval',\n",
       "  'generation'],\n",
       " 'duration_seconds': 398,\n",
       " 'location': {'evaluation_results': '/spaces/94c99253-1750-4091-befa-0ae8d6ffe454/assets/auto_ml/auto_ml.6b3ec81e-4bf0-4cf7-9f98-ba17a8f7d3e7/wml_data/508d378a-3514-47a4-971c-c2735ad8314b/Pattern4/evaluation_results.json',\n",
       "  'indexing_notebook': '/spaces/94c99253-1750-4091-befa-0ae8d6ffe454/assets/auto_ml/auto_ml.6b3ec81e-4bf0-4cf7-9f98-ba17a8f7d3e7/wml_data/508d378a-3514-47a4-971c-c2735ad8314b/Pattern4/indexing_inference_notebook.ipynb',\n",
       "  'inference_notebook': '/spaces/94c99253-1750-4091-befa-0ae8d6ffe454/assets/auto_ml/auto_ml.6b3ec81e-4bf0-4cf7-9f98-ba17a8f7d3e7/wml_data/508d378a-3514-47a4-971c-c2735ad8314b/Pattern4/indexing_inference_notebook.ipynb'},\n",
       " 'name': 'Pattern4',\n",
       " 'settings': {'chunking': {'chunk_overlap': 512,\n",
       "   'chunk_size': 1024,\n",
       "   'method': 'recursive'},\n",
       "  'embeddings': {'model_id': 'intfloat/multilingual-e5-large',\n",
       "   'truncate_input_tokens': 512,\n",
       "   'truncate_strategy': 'left'},\n",
       "  'generation': {'context_template_text': '{document}',\n",
       "   'model_id': 'google/flan-ul2',\n",
       "   'parameters': {'decoding_method': 'greedy',\n",
       "    'max_new_tokens': 1000,\n",
       "    'min_new_tokens': 1},\n",
       "   'prompt_template_text': 'Please answer the question I provide in the Question section below, based solely on the information I provide in the Context section. If the question is unanswerable, please say you cannot answer.\\n\\nContext:\\n{reference_documents}:\\n\\nQuestion: {question}. \\nAgain, please answer the question based on the context provided only. If the context is not related to the question, just say you cannot answer.'},\n",
       "  'retrieval': {'method': 'window', 'number_of_chunks': 5, 'window_size': 1},\n",
       "  'vector_store': {'datasource_type': 'chroma',\n",
       "   'distance_metric': 'cosine',\n",
       "   'index_name': 'autoai_rag_508d378a_20250220105126',\n",
       "   'operation': 'upsert',\n",
       "   'schema': {'fields': [{'description': 'text field',\n",
       "      'name': 'text',\n",
       "      'role': 'text',\n",
       "      'type': 'string'},\n",
       "     {'description': 'document name field',\n",
       "      'name': 'document_id',\n",
       "      'role': 'document_name',\n",
       "      'type': 'string'},\n",
       "     {'description': 'chunk starting token position in the source document',\n",
       "      'name': 'start_index',\n",
       "      'role': 'start_index',\n",
       "      'type': 'number'},\n",
       "     {'description': 'chunk number per document',\n",
       "      'name': 'sequence_number',\n",
       "      'role': 'sequence_number',\n",
       "      'type': 'number'},\n",
       "     {'description': 'vector embeddings',\n",
       "      'name': 'vector',\n",
       "      'role': 'vector_embeddings',\n",
       "      'type': 'array'}],\n",
       "    'id': 'autoai_rag_1.0',\n",
       "    'name': 'Document schema using open-source loaders',\n",
       "    'type': 'struct'}}}}"
      ]
     },
     "execution_count": 26,
     "metadata": {},
     "output_type": "execute_result"
    }
   ],
   "execution_count": 26
  },
  {
   "id": "3717292bbd09cd99",
   "cell_type": "markdown",
   "source": "Test the RAGPattern by querying it locally.",
   "metadata": {}
  },
  {
   "id": "592456e149f2e372",
   "cell_type": "code",
   "source": [
    "questions = [\"What training objectives are used for the models?\"]\n",
    "\n",
    "payload = {\n",
    "    client.deployments.ScoringMetaNames.INPUT_DATA: [\n",
    "        {\n",
    "            \"values\": questions,\n",
    "            \"access_token\": client.service_instance._get_token()\n",
    "        }\n",
    "    ]\n",
    "}\n",
    "\n",
    "resp = best_pattern.inference_function()(payload)"
   ],
   "metadata": {
    "id": "55347731-5421-4c10-ae4c-fe64d0ebd0ed",
    "ExecuteTime": {
     "end_time": "2025-02-21T07:42:26.020214Z",
     "start_time": "2025-02-20T10:58:17.877092Z"
    }
   },
   "outputs": [],
   "execution_count": 27
  },
  {
   "id": "6a9c4abbcb4d316b",
   "cell_type": "code",
   "source": "print(resp[\"predictions\"][0][\"values\"][0][0])",
   "metadata": {
    "id": "34477967-8812-41bd-93ee-b967261bcef3",
    "ExecuteTime": {
     "end_time": "2025-02-25T13:16:25.082278Z",
     "start_time": "2025-02-25T13:16:25.074083Z"
    }
   },
   "outputs": [
    {
     "name": "stdout",
     "output_type": "stream",
     "text": [
      "The models are trained using the causal language modeling objective and the Fill-In-the-Middle (FIM) objective. The FIM objective predicts inserted tokens based on the given context and subsequent text.\n"
     ]
    }
   ],
   "execution_count": 1
  },
  {
   "metadata": {},
   "cell_type": "markdown",
   "source": [
    "<a id=\"summary\"></a>\n",
    "## Summary\n",
    "\n",
    " You successfully completed this notebook!\n",
    " \n",
    " You learned how to use AutoAI RAG with documents processed by the TextExtraction service.\n",
    " \n",
    "Check out our _<a href=\"https://ibm.github.io/watsonx-ai-python-sdk/samples.html\" target=\"_blank\" rel=\"noopener no referrer\">Online Documentation</a>_ for more samples, tutorials, documentation, how-tos, and blog posts."
   ],
   "id": "f7bfe92044e177db"
  },
  {
   "metadata": {},
   "cell_type": "markdown",
   "source": [
    "### Author:\n",
    " **Witold Nowogórski**, Software Engineer at watsonx.ai."
   ],
   "id": "3fc6379584dc38f4"
  },
  {
   "metadata": {},
   "cell_type": "markdown",
   "source": "Copyright © 2025 IBM. This notebook and its source code are released under the terms of the MIT License.",
   "id": "8cc73dddba1afbbd"
  }
 ]
}
