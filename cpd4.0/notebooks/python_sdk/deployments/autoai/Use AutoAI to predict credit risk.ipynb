{
  "cells": [
    {
      "cell_type": "markdown",
      "metadata": {},
      "source": [
        "# Use AutoAI to predict credit risk with `ibm-watson-machine-learning`"
      ]
    },
    {
      "cell_type": "markdown",
      "metadata": {},
      "source": [
        "This notebook demonstrates how to deploy in Watson Machine Learning service an AutoAI model created in `Generated Scikit-learn Notebook`  \n",
        "which is composed\n",
        "during autoai experiments (in order to learn more about AutoAI experiments go to [experiments/autoai](https://github.com/IBM/watson-machine-learning-samples/tree/master/cpd4.0/notebooks/python_sdk/experiments/autoai)).\n",
        "\n",
        "Some familiarity with bash is helpful. This notebook uses Python 3.9.\n",
        "\n",
        "\n",
        "## Learning goals\n",
        "\n",
        "The learning goals of this notebook are:\n",
        "\n",
        "-  Working with the Watson Machine Learning instance\n",
        "-  Online deployment of AutoAI model\n",
        "-  Scoring data using deployed model\n",
        "\n",
        "\n",
        "## Contents\n",
        "\n",
        "This notebook contains the following parts:\n",
        "\n",
        "1.\t[Setup](#setup)\n",
        "2.\t[Model upload](#upload) \n",
        "3.\t[Web service creation](#deploy)\n",
        "4.\t[Scoring](#score)\n",
        "5.  [Clean up](#cleanup)\n",
        "6.\t[Summary and next steps](#summary)"
      ]
    },
    {
      "cell_type": "markdown",
      "metadata": {},
      "source": [
        "<a id=\"setup\"></a>\n",
        "## 1. Set up the environment\n",
        "\n",
        "Before you use the sample code in this notebook, you must perform the following setup tasks:\n",
        "\n",
        "-  Contact with your Cloud Pack for Data administrator and ask him for your account credentials"
      ]
    },
    {
      "cell_type": "markdown",
      "metadata": {},
      "source": [
        "### Connection to WML\n",
        "\n",
        "Authenticate the Watson Machine Learning service on IBM Cloud Pack for Data. You need to provide platform `url`, your `username` and `api_key`."
      ]
    },
    {
      "cell_type": "code",
      "execution_count": null,
      "metadata": {},
      "outputs": [],
      "source": [
        "username = 'PASTE YOUR USERNAME HERE'\n",
        "api_key = 'PASTE YOUR API_KEY HERE'\n",
        "url = 'PASTE THE PLATFORM URL HERE'"
      ]
    },
    {
      "cell_type": "code",
      "execution_count": 2,
      "metadata": {},
      "outputs": [],
      "source": [
        "wml_credentials = {\n",
        "    \"username\": username,\n",
        "    \"apikey\": api_key,\n",
        "    \"url\": url,\n",
        "    \"instance_id\": 'openshift',\n",
        "    \"version\": '4.0'\n",
        "}"
      ]
    },
    {
      "cell_type": "markdown",
      "metadata": {},
      "source": [
        "Alternatively you can use `username` and `password` to authenticate WML services.\n",
        "\n",
        "```\n",
        "wml_credentials = {\n",
        "    \"username\": ***,\n",
        "    \"password\": ***,\n",
        "    \"url\": ***,\n",
        "    \"instance_id\": 'openshift',\n",
        "    \"version\": '4.0'\n",
        "}\n",
        "\n",
        "```"
      ]
    },
    {
      "cell_type": "markdown",
      "metadata": {},
      "source": [
        "### Install and import the `ibm-watson-machine-learning` package\n",
        "**Note:** `ibm-watson-machine-learning` documentation can be found <a href=\"http://ibm-wml-api-pyclient.mybluemix.net/\" target=\"_blank\" rel=\"noopener no referrer\">here</a>."
      ]
    },
    {
      "cell_type": "code",
      "execution_count": null,
      "metadata": {},
      "outputs": [],
      "source": [
        "!pip install -U ibm-watson-machine-learning"
      ]
    },
    {
      "cell_type": "code",
      "execution_count": 2,
      "metadata": {},
      "outputs": [],
      "source": [
        "from ibm_watson_machine_learning import APIClient\n",
        "\n",
        "client = APIClient(wml_credentials)"
      ]
    },
    {
      "cell_type": "markdown",
      "metadata": {},
      "source": [
        "### Working with spaces\n",
        "\n",
        "First of all, you need to create a space that will be used for your work. If you do not have space already created, you can use `{PLATFORM_URL}/ml-runtime/spaces?context=icp4data` to create one.\n",
        "\n",
        "- Click New Deployment Space\n",
        "- Create an empty space\n",
        "- Go to space `Settings` tab\n",
        "- Copy `space_id` and paste it below\n",
        "\n",
        "**Tip**: You can also use SDK to prepare the space for your work. More information can be found [here](https://github.com/IBM/watson-machine-learning-samples/blob/master/cpd4.0/notebooks/python_sdk/instance-management/Space%20management.ipynb).\n",
        "\n",
        "**Action**: Assign space ID below"
      ]
    },
    {
      "cell_type": "code",
      "execution_count": null,
      "metadata": {},
      "outputs": [],
      "source": [
        "space_id = 'PASTE YOUR SPACE ID HERE'"
      ]
    },
    {
      "cell_type": "markdown",
      "metadata": {},
      "source": [
        "You can use `list` method to print all existing spaces."
      ]
    },
    {
      "cell_type": "code",
      "execution_count": null,
      "metadata": {},
      "outputs": [],
      "source": [
        "client.spaces.list(limit=10)"
      ]
    },
    {
      "cell_type": "markdown",
      "metadata": {},
      "source": [
        "To be able to interact with all resources available in Watson Machine Learning, you need to set **space** which you will be using."
      ]
    },
    {
      "cell_type": "code",
      "execution_count": 3,
      "metadata": {},
      "outputs": [
        {
          "data": {
            "text/plain": [
              "'SUCCESS'"
            ]
          },
          "execution_count": 3,
          "metadata": {},
          "output_type": "execute_result"
        }
      ],
      "source": [
        "client.set.default_space(space_id)"
      ]
    },
    {
      "cell_type": "markdown",
      "metadata": {},
      "source": [
        "<a id=\"upload\"></a>\n",
        "## 2. Upload model\n",
        "\n",
        "In this section you will learn how to upload the model.\n",
        "\n",
        "\n",
        "#### Download the data as an pandas DataFrame and AutoAI saved as scikit pipeline model using `wget`.\n",
        "**Hint**: To install required packages exacute command `!pip install pandas wget numpy`.\n",
        "\n",
        "We can exract model from executed AutoAI experiment using `ibm-watson-machine-learning` with following command: `experiment.optimizer(...).get_pipeline(astype='sklearn')`."
      ]
    },
    {
      "cell_type": "code",
      "execution_count": 4,
      "metadata": {},
      "outputs": [
        {
          "data": {
            "text/html": [
              "<div>\n",
              "<style scoped>\n",
              "    .dataframe tbody tr th:only-of-type {\n",
              "        vertical-align: middle;\n",
              "    }\n",
              "\n",
              "    .dataframe tbody tr th {\n",
              "        vertical-align: top;\n",
              "    }\n",
              "\n",
              "    .dataframe thead th {\n",
              "        text-align: right;\n",
              "    }\n",
              "</style>\n",
              "<table border=\"1\" class=\"dataframe\">\n",
              "  <thead>\n",
              "    <tr style=\"text-align: right;\">\n",
              "      <th></th>\n",
              "      <th>CheckingStatus</th>\n",
              "      <th>LoanDuration</th>\n",
              "      <th>CreditHistory</th>\n",
              "      <th>LoanPurpose</th>\n",
              "      <th>LoanAmount</th>\n",
              "      <th>ExistingSavings</th>\n",
              "      <th>EmploymentDuration</th>\n",
              "      <th>InstallmentPercent</th>\n",
              "      <th>Sex</th>\n",
              "      <th>OthersOnLoan</th>\n",
              "      <th>...</th>\n",
              "      <th>OwnsProperty</th>\n",
              "      <th>Age</th>\n",
              "      <th>InstallmentPlans</th>\n",
              "      <th>Housing</th>\n",
              "      <th>ExistingCreditsCount</th>\n",
              "      <th>Job</th>\n",
              "      <th>Dependents</th>\n",
              "      <th>Telephone</th>\n",
              "      <th>ForeignWorker</th>\n",
              "      <th>Risk</th>\n",
              "    </tr>\n",
              "  </thead>\n",
              "  <tbody>\n",
              "    <tr>\n",
              "      <th>0</th>\n",
              "      <td>0_to_200</td>\n",
              "      <td>31</td>\n",
              "      <td>credits_paid_to_date</td>\n",
              "      <td>other</td>\n",
              "      <td>1889</td>\n",
              "      <td>100_to_500</td>\n",
              "      <td>less_1</td>\n",
              "      <td>3</td>\n",
              "      <td>female</td>\n",
              "      <td>none</td>\n",
              "      <td>...</td>\n",
              "      <td>savings_insurance</td>\n",
              "      <td>32</td>\n",
              "      <td>none</td>\n",
              "      <td>own</td>\n",
              "      <td>1</td>\n",
              "      <td>skilled</td>\n",
              "      <td>1</td>\n",
              "      <td>none</td>\n",
              "      <td>yes</td>\n",
              "      <td>No Risk</td>\n",
              "    </tr>\n",
              "    <tr>\n",
              "      <th>1</th>\n",
              "      <td>less_0</td>\n",
              "      <td>18</td>\n",
              "      <td>credits_paid_to_date</td>\n",
              "      <td>car_new</td>\n",
              "      <td>462</td>\n",
              "      <td>less_100</td>\n",
              "      <td>1_to_4</td>\n",
              "      <td>2</td>\n",
              "      <td>female</td>\n",
              "      <td>none</td>\n",
              "      <td>...</td>\n",
              "      <td>savings_insurance</td>\n",
              "      <td>37</td>\n",
              "      <td>stores</td>\n",
              "      <td>own</td>\n",
              "      <td>2</td>\n",
              "      <td>skilled</td>\n",
              "      <td>1</td>\n",
              "      <td>none</td>\n",
              "      <td>yes</td>\n",
              "      <td>No Risk</td>\n",
              "    </tr>\n",
              "    <tr>\n",
              "      <th>2</th>\n",
              "      <td>less_0</td>\n",
              "      <td>15</td>\n",
              "      <td>prior_payments_delayed</td>\n",
              "      <td>furniture</td>\n",
              "      <td>250</td>\n",
              "      <td>less_100</td>\n",
              "      <td>1_to_4</td>\n",
              "      <td>2</td>\n",
              "      <td>male</td>\n",
              "      <td>none</td>\n",
              "      <td>...</td>\n",
              "      <td>real_estate</td>\n",
              "      <td>28</td>\n",
              "      <td>none</td>\n",
              "      <td>own</td>\n",
              "      <td>2</td>\n",
              "      <td>skilled</td>\n",
              "      <td>1</td>\n",
              "      <td>yes</td>\n",
              "      <td>no</td>\n",
              "      <td>No Risk</td>\n",
              "    </tr>\n",
              "    <tr>\n",
              "      <th>3</th>\n",
              "      <td>0_to_200</td>\n",
              "      <td>28</td>\n",
              "      <td>credits_paid_to_date</td>\n",
              "      <td>retraining</td>\n",
              "      <td>3693</td>\n",
              "      <td>less_100</td>\n",
              "      <td>greater_7</td>\n",
              "      <td>3</td>\n",
              "      <td>male</td>\n",
              "      <td>none</td>\n",
              "      <td>...</td>\n",
              "      <td>savings_insurance</td>\n",
              "      <td>32</td>\n",
              "      <td>none</td>\n",
              "      <td>own</td>\n",
              "      <td>1</td>\n",
              "      <td>skilled</td>\n",
              "      <td>1</td>\n",
              "      <td>none</td>\n",
              "      <td>yes</td>\n",
              "      <td>No Risk</td>\n",
              "    </tr>\n",
              "    <tr>\n",
              "      <th>4</th>\n",
              "      <td>no_checking</td>\n",
              "      <td>28</td>\n",
              "      <td>prior_payments_delayed</td>\n",
              "      <td>education</td>\n",
              "      <td>6235</td>\n",
              "      <td>500_to_1000</td>\n",
              "      <td>greater_7</td>\n",
              "      <td>3</td>\n",
              "      <td>male</td>\n",
              "      <td>none</td>\n",
              "      <td>...</td>\n",
              "      <td>unknown</td>\n",
              "      <td>57</td>\n",
              "      <td>none</td>\n",
              "      <td>own</td>\n",
              "      <td>2</td>\n",
              "      <td>skilled</td>\n",
              "      <td>1</td>\n",
              "      <td>none</td>\n",
              "      <td>yes</td>\n",
              "      <td>Risk</td>\n",
              "    </tr>\n",
              "  </tbody>\n",
              "</table>\n",
              "<p>5 rows × 21 columns</p>\n",
              "</div>"
            ],
            "text/plain": [
              "  CheckingStatus  LoanDuration           CreditHistory LoanPurpose  \\\n",
              "0       0_to_200            31    credits_paid_to_date       other   \n",
              "1         less_0            18    credits_paid_to_date     car_new   \n",
              "2         less_0            15  prior_payments_delayed   furniture   \n",
              "3       0_to_200            28    credits_paid_to_date  retraining   \n",
              "4    no_checking            28  prior_payments_delayed   education   \n",
              "\n",
              "   LoanAmount ExistingSavings EmploymentDuration  InstallmentPercent     Sex  \\\n",
              "0        1889      100_to_500             less_1                   3  female   \n",
              "1         462        less_100             1_to_4                   2  female   \n",
              "2         250        less_100             1_to_4                   2    male   \n",
              "3        3693        less_100          greater_7                   3    male   \n",
              "4        6235     500_to_1000          greater_7                   3    male   \n",
              "\n",
              "  OthersOnLoan  ...       OwnsProperty Age  InstallmentPlans Housing  \\\n",
              "0         none  ...  savings_insurance  32              none     own   \n",
              "1         none  ...  savings_insurance  37            stores     own   \n",
              "2         none  ...        real_estate  28              none     own   \n",
              "3         none  ...  savings_insurance  32              none     own   \n",
              "4         none  ...            unknown  57              none     own   \n",
              "\n",
              "  ExistingCreditsCount      Job Dependents  Telephone ForeignWorker     Risk  \n",
              "0                    1  skilled          1       none           yes  No Risk  \n",
              "1                    2  skilled          1       none           yes  No Risk  \n",
              "2                    2  skilled          1        yes            no  No Risk  \n",
              "3                    1  skilled          1       none           yes  No Risk  \n",
              "4                    2  skilled          1       none           yes     Risk  \n",
              "\n",
              "[5 rows x 21 columns]"
            ]
          },
          "execution_count": 4,
          "metadata": {},
          "output_type": "execute_result"
        }
      ],
      "source": [
        "import os, wget\n",
        "import pandas as pd\n",
        "import numpy as np\n",
        "\n",
        "filename = 'german_credit_data_biased_training.csv'\n",
        "url = 'https://raw.githubusercontent.com/IBM/watson-machine-learning-samples/master/cpd4.0/data/credit_risk/german_credit_data_biased_training.csv'\n",
        "if not os.path.isfile(filename):\n",
        "    wget.download(url)\n",
        "\n",
        "model_name = \"model.pickle\"\n",
        "url = 'https://raw.githubusercontent.com/IBM/watson-machine-learning-samples/master/cpd4.0/models/autoai/credit-risk/model.pickle'\n",
        "if not os.path.isfile(model_name):\n",
        "    wget.download(url)\n",
        "\n",
        "credit_risk_df = pd.read_csv(filename)\n",
        "X = credit_risk_df.drop(['Risk'], axis=1)\n",
        "y = credit_risk_df['Risk']\n",
        "\n",
        "credit_risk_df.head()"
      ]
    },
    {
      "cell_type": "markdown",
      "metadata": {},
      "source": [
        "#### Custom software_specification\n",
        "Create new software specification based on default Python 3.9 environment extended by autoai-libs package."
      ]
    },
    {
      "cell_type": "code",
      "execution_count": 5,
      "metadata": {},
      "outputs": [],
      "source": [
        "base_sw_spec_uid = client.software_specifications.get_uid_by_name(\"runtime-22.1-py3.9\")"
      ]
    },
    {
      "cell_type": "code",
      "execution_count": 6,
      "metadata": {},
      "outputs": [],
      "source": [
        "url = 'https://raw.githubusercontent.com/IBM/watson-machine-learning-samples/master/cpd4.0/configs/config.yaml'\n",
        "if not os.path.isfile('config.yaml'):\n",
        "    wget.download(url)"
      ]
    },
    {
      "cell_type": "code",
      "execution_count": null,
      "metadata": {},
      "outputs": [],
      "source": [
        "!cat config.yaml"
      ]
    },
    {
      "cell_type": "markdown",
      "metadata": {},
      "source": [
        "`config.yaml` file describes details of package extention. Now you need to store new package extention with APIClient."
      ]
    },
    {
      "cell_type": "code",
      "execution_count": 14,
      "metadata": {},
      "outputs": [
        {
          "name": "stdout",
          "output_type": "stream",
          "text": [
            "Creating package extensions\n",
            "SUCCESS\n"
          ]
        }
      ],
      "source": [
        "meta_prop_pkg_extn = {\n",
        "    client.package_extensions.ConfigurationMetaNames.NAME: \"scikt with autoai-libs\",\n",
        "    client.package_extensions.ConfigurationMetaNames.DESCRIPTION: \"Extension for autoai-libs\",\n",
        "    client.package_extensions.ConfigurationMetaNames.TYPE: \"conda_yml\"\n",
        "}\n",
        "\n",
        "pkg_extn_details = client.package_extensions.store(meta_props=meta_prop_pkg_extn, file_path=\"config.yaml\")\n",
        "pkg_extn_uid = client.package_extensions.get_uid(pkg_extn_details)\n",
        "pkg_extn_url = client.package_extensions.get_href(pkg_extn_details)"
      ]
    },
    {
      "cell_type": "markdown",
      "metadata": {},
      "source": [
        "#### Create new software specification and add created package extention to it."
      ]
    },
    {
      "cell_type": "code",
      "execution_count": 15,
      "metadata": {},
      "outputs": [
        {
          "name": "stdout",
          "output_type": "stream",
          "text": [
            "SUCCESS\n"
          ]
        },
        {
          "data": {
            "text/plain": [
              "'SUCCESS'"
            ]
          },
          "execution_count": 15,
          "metadata": {},
          "output_type": "execute_result"
        }
      ],
      "source": [
        "meta_prop_sw_spec = {\n",
        "    client.software_specifications.ConfigurationMetaNames.NAME: \"Mitigated AutoAI bases on scikit spec\",\n",
        "    client.software_specifications.ConfigurationMetaNames.DESCRIPTION: \"Software specification for scikt with autoai-libs\",\n",
        "    client.software_specifications.ConfigurationMetaNames.BASE_SOFTWARE_SPECIFICATION: {\"guid\": base_sw_spec_uid}\n",
        "}\n",
        "\n",
        "sw_spec_details = client.software_specifications.store(meta_props=meta_prop_sw_spec)\n",
        "sw_spec_uid = client.software_specifications.get_uid(sw_spec_details)\n",
        "\n",
        "client.software_specifications.add_package_extension(sw_spec_uid, pkg_extn_uid)"
      ]
    },
    {
      "cell_type": "markdown",
      "metadata": {},
      "source": [
        "#### Get the details of created software specification"
      ]
    },
    {
      "cell_type": "code",
      "execution_count": null,
      "metadata": {
        "scrolled": true
      },
      "outputs": [],
      "source": [
        "client.software_specifications.get_details(sw_spec_uid)"
      ]
    },
    {
      "cell_type": "markdown",
      "metadata": {},
      "source": [
        "#### Load the AutoAI model saved as `scikit-learn` pipeline.\n",
        "\n",
        "Depending on estimator type in autoai model pipeline may consist models from following frameworks:\n",
        " - `xgboost`\n",
        " - `lightgbm`\n",
        " - `scikit-learn`"
      ]
    },
    {
      "cell_type": "code",
      "execution_count": 33,
      "metadata": {},
      "outputs": [],
      "source": [
        "from joblib import load\n",
        "\n",
        "pipeline = load(model_name)"
      ]
    },
    {
      "cell_type": "markdown",
      "metadata": {},
      "source": [
        "#### Store the model"
      ]
    },
    {
      "cell_type": "code",
      "execution_count": 34,
      "metadata": {},
      "outputs": [],
      "source": [
        "model_props = {\n",
        "    client.repository.ModelMetaNames.NAME: \"AutoAI model\",\n",
        "    client.repository.ModelMetaNames.TYPE: 'scikit-learn_1.0',\n",
        "    client.repository.ModelMetaNames.SOFTWARE_SPEC_UID: sw_spec_uid\n",
        "    \n",
        "}\n",
        "feature_vector = X.columns"
      ]
    },
    {
      "cell_type": "code",
      "execution_count": 35,
      "metadata": {},
      "outputs": [],
      "source": [
        "published_model = client.repository.store_model(\n",
        "    model=pipeline, \n",
        "    meta_props=model_props,\n",
        "    training_data=X.values,\n",
        "    training_target=y.values,\n",
        "    feature_names=feature_vector,\n",
        "    label_column_names=['Risk']\n",
        ")"
      ]
    },
    {
      "cell_type": "code",
      "execution_count": 36,
      "metadata": {},
      "outputs": [],
      "source": [
        "published_model_uid = client.repository.get_model_id(published_model)"
      ]
    },
    {
      "cell_type": "markdown",
      "metadata": {},
      "source": [
        "#### Get model details"
      ]
    },
    {
      "cell_type": "code",
      "execution_count": 37,
      "metadata": {},
      "outputs": [
        {
          "data": {
            "text/plain": [
              "{'entity': {'label_column': 'Risk',\n",
              "  'software_spec': {'id': '0267d74c-3239-4f94-bf72-e4f103b5ae8f',\n",
              "   'name': 'Mitigated AutoAI bases on scikit spec'},\n",
              "  'training_data_references': [{'connection': {'access_key_id': 'not_applicable',\n",
              "     'endpoint_url': 'not_applicable',\n",
              "     'secret_access_key': 'not_applicable'},\n",
              "    'id': '1',\n",
              "    'location': {},\n",
              "    'schema': {'fields': [{'name': 'CheckingStatus', 'type': 'str'},\n",
              "      {'name': 'LoanDuration', 'type': 'int'},\n",
              "      {'name': 'CreditHistory', 'type': 'str'},\n",
              "      {'name': 'LoanPurpose', 'type': 'str'},\n",
              "      {'name': 'LoanAmount', 'type': 'int'},\n",
              "      {'name': 'ExistingSavings', 'type': 'str'},\n",
              "      {'name': 'EmploymentDuration', 'type': 'str'},\n",
              "      {'name': 'InstallmentPercent', 'type': 'int'},\n",
              "      {'name': 'Sex', 'type': 'str'},\n",
              "      {'name': 'OthersOnLoan', 'type': 'str'},\n",
              "      {'name': 'CurrentResidenceDuration', 'type': 'int'},\n",
              "      {'name': 'OwnsProperty', 'type': 'str'},\n",
              "      {'name': 'Age', 'type': 'int'},\n",
              "      {'name': 'InstallmentPlans', 'type': 'str'},\n",
              "      {'name': 'Housing', 'type': 'str'},\n",
              "      {'name': 'ExistingCreditsCount', 'type': 'int'},\n",
              "      {'name': 'Job', 'type': 'str'},\n",
              "      {'name': 'Dependents', 'type': 'int'},\n",
              "      {'name': 'Telephone', 'type': 'str'},\n",
              "      {'name': 'ForeignWorker', 'type': 'str'}],\n",
              "     'id': '1',\n",
              "     'type': 'ndarray'},\n",
              "    'type': 'fs'}],\n",
              "  'type': 'scikit-learn_0.23'},\n",
              " 'metadata': {'created_at': '2021-07-19T11:06:11.675Z',\n",
              "  'id': '0a57c7c1-5e3b-4262-893a-e555b07c2f7e',\n",
              "  'modified_at': '2021-07-19T11:06:13.198Z',\n",
              "  'name': 'AutoAI model',\n",
              "  'owner': '1000330999',\n",
              "  'space_id': '97cebfee-a9da-4c04-822d-f36540c1070d'},\n",
              " 'system': {'warnings': []}}"
            ]
          },
          "execution_count": 37,
          "metadata": {},
          "output_type": "execute_result"
        }
      ],
      "source": [
        "client.repository.get_details(published_model_uid)"
      ]
    },
    {
      "cell_type": "markdown",
      "metadata": {},
      "source": [
        "**Note:** You can see that model is successfully stored in Watson Machine Learning Service."
      ]
    },
    {
      "cell_type": "code",
      "execution_count": null,
      "metadata": {},
      "outputs": [],
      "source": [
        "client.repository.list_models()"
      ]
    },
    {
      "cell_type": "markdown",
      "metadata": {},
      "source": [
        "<a id=\"deploy\"></a>\n",
        "## 3. Create online deployment\n",
        "You can use commands bellow to create online deployment for stored model (web service)."
      ]
    },
    {
      "cell_type": "code",
      "execution_count": 38,
      "metadata": {},
      "outputs": [
        {
          "name": "stdout",
          "output_type": "stream",
          "text": [
            "\n",
            "\n",
            "#######################################################################################\n",
            "\n",
            "Synchronous deployment creation for uid: '0a57c7c1-5e3b-4262-893a-e555b07c2f7e' started\n",
            "\n",
            "#######################################################################################\n",
            "\n",
            "\n",
            "initializing\n",
            "Note: online_url is deprecated and will be removed in a future release. Use serving_urls instead.\n",
            ".........\n",
            "ready\n",
            "\n",
            "\n",
            "------------------------------------------------------------------------------------------------\n",
            "Successfully finished deployment creation, deployment_uid='b89ad484-b557-40f3-bb1c-11e12cd68efa'\n",
            "------------------------------------------------------------------------------------------------\n",
            "\n",
            "\n"
          ]
        }
      ],
      "source": [
        "metadata = {\n",
        "    client.deployments.ConfigurationMetaNames.NAME: \"Deployment of AutoAI model.\",\n",
        "    client.deployments.ConfigurationMetaNames.ONLINE: {}\n",
        "}\n",
        "\n",
        "created_deployment = client.deployments.create(published_model_uid, meta_props=metadata)"
      ]
    },
    {
      "cell_type": "markdown",
      "metadata": {},
      "source": [
        "Get deployment id."
      ]
    },
    {
      "cell_type": "code",
      "execution_count": 39,
      "metadata": {},
      "outputs": [
        {
          "name": "stdout",
          "output_type": "stream",
          "text": [
            "b89ad484-b557-40f3-bb1c-11e12cd68efa\n"
          ]
        }
      ],
      "source": [
        "deployment_id = client.deployments.get_uid(created_deployment)\n",
        "print(deployment_id)"
      ]
    },
    {
      "cell_type": "markdown",
      "metadata": {},
      "source": [
        "<a id=\"score\"></a>\n",
        "## 4. Scoring\n",
        "\n",
        "You can send new scoring records to web-service deployment using `score` method."
      ]
    },
    {
      "cell_type": "code",
      "execution_count": 40,
      "metadata": {},
      "outputs": [],
      "source": [
        "values = X.values\n",
        "\n",
        "scoring_payload = {\n",
        "    \"input_data\": [{\n",
        "        'values': values[:5]\n",
        "    }]\n",
        "}"
      ]
    },
    {
      "cell_type": "code",
      "execution_count": 41,
      "metadata": {},
      "outputs": [
        {
          "data": {
            "text/plain": [
              "{'predictions': [{'fields': ['prediction', 'probability'],\n",
              "   'values': [['No Risk', [0.7177145481109619, 0.2822854220867157]],\n",
              "    ['No Risk', [0.7641035318374634, 0.23589648306369781]],\n",
              "    ['No Risk', [0.720166802406311, 0.27983322739601135]],\n",
              "    ['No Risk', [0.7394402623176575, 0.26055973768234253]],\n",
              "    ['No Risk', [0.5265587568283081, 0.4734412431716919]]]}]}"
            ]
          },
          "execution_count": 41,
          "metadata": {},
          "output_type": "execute_result"
        }
      ],
      "source": [
        "predictions = client.deployments.score(deployment_id, scoring_payload)\n",
        "predictions"
      ]
    },
    {
      "cell_type": "markdown",
      "metadata": {},
      "source": [
        "<a id=\"cleanup\"></a>\n",
        "## 5. Clean up   "
      ]
    },
    {
      "cell_type": "markdown",
      "metadata": {},
      "source": [
        "If you want to clean up all created assets:\n",
        "- experiments\n",
        "- trainings\n",
        "- pipelines\n",
        "- model definitions\n",
        "- models\n",
        "- functions\n",
        "- deployments\n",
        "\n",
        "see the steps in this sample [notebook](https://github.com/IBM/watson-machine-learning-samples/blob/master/cpd4.0/notebooks/python_sdk/instance-management/Machine%20Learning%20artifacts%20management.ipynb)."
      ]
    },
    {
      "cell_type": "markdown",
      "metadata": {},
      "source": [
        "<a id=\"summary\"></a>\n",
        "## 6. Summary and next steps     "
      ]
    },
    {
      "cell_type": "markdown",
      "metadata": {},
      "source": [
        " You successfully completed this notebook! You learned how to use Watson Machine Learning for AutoA model deployment and scoring.  \n",
        " Check out our [Online Documentation](https://dataplatform.cloud.ibm.com/docs/content/analyze-data/wml-setup.html) for more samples, tutorials, documentation, how-tos, and blog posts. "
      ]
    },
    {
      "cell_type": "markdown",
      "metadata": {},
      "source": [
        "### Author\n",
        "\n",
        "**Jan Sołtysik** Intern in Watson Machine Learning."
      ]
    },
    {
      "cell_type": "markdown",
      "metadata": {},
      "source": [
        "Copyright © 2020-2025 IBM. This notebook and its source code are released under the terms of the MIT License."
      ]
    }
  ],
  "metadata": {
    "kernelspec": {
      "display_name": "Python 3 (ipykernel)",
      "language": "python",
      "name": "python3"
    },
    "language_info": {
      "codemirror_mode": {
        "name": "ipython",
        "version": 3
      },
      "file_extension": ".py",
      "mimetype": "text/x-python",
      "name": "python",
      "nbconvert_exporter": "python",
      "pygments_lexer": "ipython3",
      "version": "3.9.11"
    }
  },
  "nbformat": 4,
  "nbformat_minor": 4
}
