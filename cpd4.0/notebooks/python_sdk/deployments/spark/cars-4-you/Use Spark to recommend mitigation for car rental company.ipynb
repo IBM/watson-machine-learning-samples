{
  "cells": [
    {
      "cell_type": "markdown",
      "metadata": {},
      "source": [
        "# Use Spark to recommend mitigation for car rental company with `ibm-watson-machine-learning`"
      ]
    },
    {
      "cell_type": "markdown",
      "metadata": {},
      "source": [
        "This notebook contains steps and code to create a predictive model, and deploy it on WML. This notebook introduces commands for pipeline creation, model training, model persistance to Watson Machine Learning repository, model deployment, and scoring.\n",
        "\n",
        "Some familiarity with Python is helpful. This notebook uses Python 3.9 and Apache® Spark 3.0.\n",
        "\n",
        "You will use **car_rental_training** dataset.\n",
        "\n",
        "\n",
        "## Learning goals\n",
        "\n",
        "The learning goals of this notebook are:\n",
        "\n",
        "-  Load a CSV file into an Apache® Spark DataFrame.\n",
        "-  Explore data.\n",
        "-  Prepare data for training and evaluation.\n",
        "-  Create an Apache® Spark machine learning pipeline.\n",
        "-  Train and evaluate a model.\n",
        "-  Persist a pipeline and model in Watson Machine Learning repository.\n",
        "-  Deploy a model for online scoring using Wastson Machine Learning API.\n",
        "-  Score sample scoring data using the Watson Machine Learning API.\n",
        "\n",
        "\n",
        "## Contents\n",
        "\n",
        "This notebook contains the following parts:\n",
        "1. [Setup](#setup)\n",
        "2. [Load and explore data](#load)\n",
        "3. [Create an Apache Spark machine learning model](#model)\n",
        "4. [Store the model in the Watson Machine Learning repository](#upload)\n",
        "5. [Deploy the model](#deploy)\n",
        "6. [Score](#score)\n",
        "7. [Clean up](#cleanup)\n",
        "8. [Summary and next steps](#summary)"
      ]
    },
    {
      "cell_type": "markdown",
      "metadata": {},
      "source": [
        "**Note:** This notebook works correctly with kernel `Python 3.9 with Spark 3.0`, please **do not change kernel**."
      ]
    },
    {
      "cell_type": "markdown",
      "metadata": {},
      "source": [
        "<a id=\"setup\"></a>\n",
        "## 1. Set up the environment\n",
        "\n",
        "Before you use the sample code in this notebook, you must perform the following setup tasks:\n",
        "\n",
        "-  Contact with your Cloud Pack for Data administrator and ask him for your account credentials"
      ]
    },
    {
      "cell_type": "markdown",
      "metadata": {},
      "source": [
        "### Connection to WML\n",
        "\n",
        "Authenticate the Watson Machine Learning service on IBM Cloud Pack for Data. You need to provide platform `url`, your `username` and `api_key`."
      ]
    },
    {
      "cell_type": "code",
      "execution_count": 1,
      "metadata": {},
      "outputs": [],
      "source": [
        "username = 'PASTE YOUR USERNAME HERE'\n",
        "api_key = 'PASTE YOUR API_KEY HERE'\n",
        "url = 'PASTE THE PLATFORM URL HERE'"
      ]
    },
    {
      "cell_type": "code",
      "execution_count": 2,
      "metadata": {},
      "outputs": [],
      "source": [
        "wml_credentials = {\n",
        "    \"username\": username,\n",
        "    \"apikey\": api_key,\n",
        "    \"url\": url,\n",
        "    \"instance_id\": 'openshift',\n",
        "    \"version\": '4.0'\n",
        "}"
      ]
    },
    {
      "cell_type": "markdown",
      "metadata": {},
      "source": [
        "Alternatively you can use `username` and `password` to authenticate WML services.\n",
        "\n",
        "```\n",
        "wml_credentials = {\n",
        "    \"username\": ***,\n",
        "    \"password\": ***,\n",
        "    \"url\": ***,\n",
        "    \"instance_id\": 'openshift',\n",
        "    \"version\": '4.0'\n",
        "}\n",
        "\n",
        "```"
      ]
    },
    {
      "cell_type": "markdown",
      "metadata": {},
      "source": [
        "### Install and import the `ibm-watson-machine-learning` package\n",
        "**Note:** `ibm-watson-machine-learning` documentation can be found <a href=\"http://ibm-wml-api-pyclient.mybluemix.net/\" target=\"_blank\" rel=\"noopener no referrer\">here</a>."
      ]
    },
    {
      "cell_type": "code",
      "execution_count": null,
      "metadata": {},
      "outputs": [],
      "source": [
        "!pip install -U ibm-watson-machine-learning"
      ]
    },
    {
      "cell_type": "code",
      "execution_count": 4,
      "metadata": {},
      "outputs": [],
      "source": [
        "from ibm_watson_machine_learning import APIClient\n",
        "\n",
        "client = APIClient(wml_credentials)"
      ]
    },
    {
      "cell_type": "markdown",
      "metadata": {},
      "source": [
        "### Working with spaces\n",
        "\n",
        "First of all, you need to create a space that will be used for your work. If you do not have space already created, you can use `{PLATFORM_URL}/ml-runtime/spaces?context=icp4data` to create one.\n",
        "\n",
        "- Click New Deployment Space\n",
        "- Create an empty space\n",
        "- Go to space `Settings` tab\n",
        "- Copy `space_id` and paste it below\n",
        "\n",
        "**Tip**: You can also use SDK to prepare the space for your work. More information can be found [here](https://github.com/IBM/watson-machine-learning-samples/blob/master/cpd4.0/notebooks/python_sdk/instance-management/Space%20management.ipynb).\n",
        "\n",
        "**Action**: Assign space ID below"
      ]
    },
    {
      "cell_type": "code",
      "execution_count": 5,
      "metadata": {},
      "outputs": [],
      "source": [
        "space_id = 'PASTE YOUR SPACE ID HERE'"
      ]
    },
    {
      "cell_type": "markdown",
      "metadata": {},
      "source": [
        "You can use `list` method to print all existing spaces."
      ]
    },
    {
      "cell_type": "code",
      "execution_count": null,
      "metadata": {},
      "outputs": [],
      "source": [
        "client.spaces.list(limit=10)"
      ]
    },
    {
      "cell_type": "markdown",
      "metadata": {},
      "source": [
        "To be able to interact with all resources available in Watson Machine Learning, you need to set **space** which you will be using."
      ]
    },
    {
      "cell_type": "code",
      "execution_count": 7,
      "metadata": {},
      "outputs": [
        {
          "data": {
            "text/plain": [
              "'SUCCESS'"
            ]
          },
          "execution_count": 7,
          "metadata": {},
          "output_type": "execute_result"
        }
      ],
      "source": [
        "client.set.default_space(space_id)"
      ]
    },
    {
      "cell_type": "markdown",
      "metadata": {},
      "source": [
        "**Note**: Please restart the kernel (Kernel -> Restart)"
      ]
    },
    {
      "cell_type": "markdown",
      "metadata": {},
      "source": [
        "### Test Spark"
      ]
    },
    {
      "cell_type": "code",
      "execution_count": 8,
      "metadata": {},
      "outputs": [],
      "source": [
        "try:\n",
        "    from pyspark.sql import SparkSession\n",
        "except:\n",
        "    print('Error: Spark runtime is missing. If you are using Watson Studio change the notebook runtime to Spark.')\n",
        "    raise"
      ]
    },
    {
      "cell_type": "markdown",
      "metadata": {},
      "source": [
        "<a id=\"load\"></a>\n",
        "## 2. Load and explore data"
      ]
    },
    {
      "cell_type": "markdown",
      "metadata": {},
      "source": [
        "In this section you will load the data as an Apache Spark DataFrame and perform a basic exploration."
      ]
    },
    {
      "cell_type": "markdown",
      "metadata": {},
      "source": [
        "Read data into Spark DataFrame from DB2 database and show sample record."
      ]
    },
    {
      "cell_type": "markdown",
      "metadata": {},
      "source": [
        "### Load data"
      ]
    },
    {
      "cell_type": "code",
      "execution_count": 9,
      "metadata": {},
      "outputs": [],
      "source": [
        "import os\n",
        "from wget import download\n",
        "\n",
        "sample_dir = 'spark_sample_model'\n",
        "if not os.path.isdir(sample_dir):\n",
        "    os.mkdir(sample_dir)\n",
        "    \n",
        "filename = os.path.join(sample_dir, 'car_rental_training_data.csv')\n",
        "if not os.path.isfile(filename):\n",
        "    filename = download('https://github.com/IBM/watson-machine-learning-samples/raw/master/cpd4.0/data/cars-4-you/car_rental_training_data.csv', out=sample_dir)"
      ]
    },
    {
      "cell_type": "code",
      "execution_count": 10,
      "metadata": {},
      "outputs": [
        {
          "data": {
            "text/plain": [
              "[Row(ID=83, Gender='Female', Status='M', Children=2, Age=48.85, Customer_Status='Inactive', Car_Owner='Yes', Customer_Service='I thought the representative handled the initial situation badly.  The company was out of cars, with none coming in that day.  Then the representative tried to find us a car at another franchise.  There they were successful.', Satisfaction=0, Business_Area='Product: Availability/Variety/Size', Action='Free Upgrade'),\n",
              " Row(ID=1307, Gender='Female', Status='M', Children=0, Age=55.0, Customer_Status='Inactive', Car_Owner='No', Customer_Service='I have had a few recent rentals that have taken a very very long time, with no offer of apology.  In the most recent case, the agent subsequently offered me a car type on an upgrade coupon and then told me it was no longer available because it had just be', Satisfaction=0, Business_Area='Product: Availability/Variety/Size', Action='Voucher'),\n",
              " Row(ID=1737, Gender='Male', Status='M', Children=0, Age=42.35, Customer_Status='Inactive', Car_Owner='Yes', Customer_Service=\"car cost more because I didn't pay when I reserved it\", Satisfaction=0, Business_Area='Product: Availability/Variety/Size', Action='Free Upgrade')]"
            ]
          },
          "execution_count": 10,
          "metadata": {},
          "output_type": "execute_result"
        }
      ],
      "source": [
        "spark = SparkSession.builder.getOrCreate()\n",
        "\n",
        "df_data = spark.read\\\n",
        "  .format('org.apache.spark.sql.execution.datasources.csv.CSVFileFormat')\\\n",
        "  .option('header', 'true')\\\n",
        "  .option('inferSchema', 'true')\\\n",
        "  .option(\"delimiter\", \";\")\\\n",
        "  .load(filename)\n",
        "df_data.take(3)"
      ]
    },
    {
      "cell_type": "markdown",
      "metadata": {},
      "source": [
        "### Explore data"
      ]
    },
    {
      "cell_type": "code",
      "execution_count": 11,
      "metadata": {},
      "outputs": [
        {
          "name": "stdout",
          "output_type": "stream",
          "text": [
            "root\n",
            " |-- ID: integer (nullable = true)\n",
            " |-- Gender: string (nullable = true)\n",
            " |-- Status: string (nullable = true)\n",
            " |-- Children: integer (nullable = true)\n",
            " |-- Age: double (nullable = true)\n",
            " |-- Customer_Status: string (nullable = true)\n",
            " |-- Car_Owner: string (nullable = true)\n",
            " |-- Customer_Service: string (nullable = true)\n",
            " |-- Satisfaction: integer (nullable = true)\n",
            " |-- Business_Area: string (nullable = true)\n",
            " |-- Action: string (nullable = true)\n",
            "\n"
          ]
        }
      ],
      "source": [
        "df_data.printSchema()"
      ]
    },
    {
      "cell_type": "markdown",
      "metadata": {},
      "source": [
        "As you can see, the data contains eleven fields. `Action` field is the one you would like to predict using feedback data in `Customer_Service` field."
      ]
    },
    {
      "cell_type": "code",
      "execution_count": 12,
      "metadata": {},
      "outputs": [
        {
          "name": "stdout",
          "output_type": "stream",
          "text": [
            "Number of records: 486\n"
          ]
        }
      ],
      "source": [
        "print(\"Number of records: \" + str(df_data.count()))"
      ]
    },
    {
      "cell_type": "markdown",
      "metadata": {},
      "source": [
        "As you can see, the data set contains 486 records."
      ]
    },
    {
      "cell_type": "code",
      "execution_count": 13,
      "metadata": {
        "scrolled": true
      },
      "outputs": [
        {
          "name": "stdout",
          "output_type": "stream",
          "text": [
            "+--------------------+-----+\n",
            "|       Business_area|count|\n",
            "+--------------------+-----+\n",
            "|Service: Accessib...|   26|\n",
            "|Product: Functioning|  150|\n",
            "|   Service: Attitude|   24|\n",
            "|Service: Orders/C...|   32|\n",
            "|Product: Availabi...|   42|\n",
            "|Product: Pricing ...|   24|\n",
            "|Product: Information|    8|\n",
            "|  Service: Knowledge|  180|\n",
            "+--------------------+-----+\n",
            "\n"
          ]
        }
      ],
      "source": [
        "df_data.select('Business_area').groupBy('Business_area').count().show()"
      ]
    },
    {
      "cell_type": "code",
      "execution_count": 14,
      "metadata": {},
      "outputs": [
        {
          "name": "stdout",
          "output_type": "stream",
          "text": [
            "+-------------------------+-----+\n",
            "|Action                   |count|\n",
            "+-------------------------+-----+\n",
            "|NA                       |274  |\n",
            "|Voucher                  |42   |\n",
            "|Premium features         |30   |\n",
            "|On-demand pickup location|56   |\n",
            "|Free Upgrade             |84   |\n",
            "+-------------------------+-----+\n",
            "\n"
          ]
        }
      ],
      "source": [
        "df_data.select('Action').groupBy('Action').count().show(truncate=False)"
      ]
    },
    {
      "cell_type": "markdown",
      "metadata": {},
      "source": [
        "<a id=\"model\"></a>\n",
        "## 3. Create an Apache Spark machine learning model\n",
        "\n",
        "In this section you will learn how to:\n",
        "\n",
        "- [3.1 Prepare data for training a model](#prep)\n",
        "- [3.2 Create an Apache Spark machine learning pipeline](#pipe)\n",
        "- [3.3 Train a model](#train)"
      ]
    },
    {
      "cell_type": "markdown",
      "metadata": {},
      "source": [
        "<a id=\"prep\"></a>\n",
        "### 3.1 Prepare data for training a model\n",
        "\n",
        "In this subsection you will split your data into: train and test data set."
      ]
    },
    {
      "cell_type": "code",
      "execution_count": 15,
      "metadata": {},
      "outputs": [
        {
          "name": "stdout",
          "output_type": "stream",
          "text": [
            "Number of training records: 401\n",
            "Number of testing records : 85\n"
          ]
        }
      ],
      "source": [
        "train_data, test_data = df_data.randomSplit([0.8, 0.2], 24)\n",
        "\n",
        "print(\"Number of training records: \" + str(train_data.count()))\n",
        "print(\"Number of testing records : \" + str(test_data.count()))"
      ]
    },
    {
      "cell_type": "markdown",
      "metadata": {},
      "source": [
        "### 3.2 Create the pipeline<a id=\"pipe\"></a>"
      ]
    },
    {
      "cell_type": "markdown",
      "metadata": {},
      "source": [
        "In this section you will create an Apache Spark machine learning pipeline and then train the model."
      ]
    },
    {
      "cell_type": "code",
      "execution_count": 16,
      "metadata": {},
      "outputs": [],
      "source": [
        "from pyspark.ml.feature import OneHotEncoder, StringIndexer, IndexToString, VectorAssembler, HashingTF, IDF, Tokenizer\n",
        "from pyspark.ml.classification import DecisionTreeClassifier\n",
        "from pyspark.ml.evaluation import MulticlassClassificationEvaluator\n",
        "from pyspark.ml import Pipeline, Model"
      ]
    },
    {
      "cell_type": "markdown",
      "metadata": {},
      "source": [
        "In the following step, use the StringIndexer transformer to convert all the string fields to numeric ones."
      ]
    },
    {
      "cell_type": "code",
      "execution_count": 17,
      "metadata": {},
      "outputs": [],
      "source": [
        "string_indexer_gender = StringIndexer(inputCol=\"Gender\", outputCol=\"gender_ix\")\n",
        "string_indexer_customer_status = StringIndexer(inputCol=\"Customer_Status\", outputCol=\"customer_status_ix\")\n",
        "string_indexer_status = StringIndexer(inputCol=\"Status\", outputCol=\"status_ix\")\n",
        "string_indexer_owner = StringIndexer(inputCol=\"Car_Owner\", outputCol=\"owner_ix\")\n",
        "string_business_area = StringIndexer(inputCol=\"Business_Area\", outputCol=\"area_ix\")"
      ]
    },
    {
      "cell_type": "code",
      "execution_count": 18,
      "metadata": {},
      "outputs": [],
      "source": [
        "assembler = VectorAssembler(inputCols=[\"gender_ix\", \"customer_status_ix\", \"status_ix\", \"owner_ix\", \"area_ix\", \"Children\", \"Age\", \"Satisfaction\"], outputCol=\"features\")"
      ]
    },
    {
      "cell_type": "code",
      "execution_count": 19,
      "metadata": {},
      "outputs": [],
      "source": [
        "string_indexer_action = StringIndexer(inputCol=\"Action\", outputCol=\"label\").fit(df_data)"
      ]
    },
    {
      "cell_type": "code",
      "execution_count": 20,
      "metadata": {},
      "outputs": [],
      "source": [
        "label_action_converter = IndexToString(inputCol=\"prediction\", outputCol=\"predictedLabel\", labels=string_indexer_action.labels)"
      ]
    },
    {
      "cell_type": "code",
      "execution_count": 21,
      "metadata": {},
      "outputs": [],
      "source": [
        "dt_action = DecisionTreeClassifier()"
      ]
    },
    {
      "cell_type": "code",
      "execution_count": 22,
      "metadata": {},
      "outputs": [],
      "source": [
        "pipeline_action = Pipeline(stages=[string_indexer_gender, string_indexer_customer_status, string_indexer_status, string_indexer_action, string_indexer_owner, string_business_area, assembler, dt_action, label_action_converter])"
      ]
    },
    {
      "cell_type": "code",
      "execution_count": 23,
      "metadata": {},
      "outputs": [],
      "source": [
        "model_action = pipeline_action.fit(train_data)"
      ]
    },
    {
      "cell_type": "code",
      "execution_count": 24,
      "metadata": {},
      "outputs": [
        {
          "name": "stdout",
          "output_type": "stream",
          "text": [
            "+--------------------+--------------------+--------------------+--------------------+\n",
            "|       Business_Area|              Action|         probability|      predictedLabel|\n",
            "+--------------------+--------------------+--------------------+--------------------+\n",
            "|Service: Accessib...|        Free Upgrade|[0.0,1.0,0.0,0.0,...|        Free Upgrade|\n",
            "|   Service: Attitude|On-demand pickup ...|[0.0,0.15625,0.59...|On-demand pickup ...|\n",
            "+--------------------+--------------------+--------------------+--------------------+\n",
            "only showing top 2 rows\n",
            "\n"
          ]
        }
      ],
      "source": [
        "predictions_action = model_action.transform(test_data)\n",
        "predictions_action.select('Business_Area','Action','probability','predictedLabel').show(2)"
      ]
    },
    {
      "cell_type": "code",
      "execution_count": 25,
      "metadata": {},
      "outputs": [
        {
          "name": "stdout",
          "output_type": "stream",
          "text": [
            "Accuracy = 0.870588\n"
          ]
        }
      ],
      "source": [
        "evaluator = MulticlassClassificationEvaluator(labelCol=\"label\", predictionCol=\"prediction\", metricName=\"accuracy\")\n",
        "accuracy = evaluator.evaluate(predictions_action)\n",
        "\n",
        "print(\"Accuracy = %g\" % accuracy)"
      ]
    },
    {
      "cell_type": "markdown",
      "metadata": {},
      "source": [
        "<a id=\"upload\"></a>\n",
        "## 4. Persist model"
      ]
    },
    {
      "cell_type": "markdown",
      "metadata": {},
      "source": [
        "In this section you will learn how to store your pipeline and model in Watson Machine Learning repository by using python client libraries."
      ]
    },
    {
      "cell_type": "markdown",
      "metadata": {},
      "source": [
        "**Note**: Apache® Spark 3.0 is required."
      ]
    },
    {
      "cell_type": "markdown",
      "metadata": {},
      "source": [
        "### 4.2 Save the pipeline and model<a id=\"save\"></a>"
      ]
    },
    {
      "cell_type": "code",
      "execution_count": 26,
      "metadata": {},
      "outputs": [],
      "source": [
        "saved_model = client.repository.store_model(\n",
        "    model=model_action, \n",
        "    meta_props={\n",
        "        client.repository.ModelMetaNames.NAME:\"CARS4U - Action Recommendation Model\",\n",
        "        client.repository.ModelMetaNames.TYPE: \"mllib_3.0\",\n",
        "        client.repository.ModelMetaNames.SOFTWARE_SPEC_UID: client.software_specifications.get_id_by_name('spark-mllib_3.0'),\n",
        "        client.repository.ModelMetaNames.LABEL_FIELD: \"Action\",\n",
        "    },  \n",
        "    training_data=train_data, \n",
        "    pipeline=pipeline_action)"
      ]
    },
    {
      "cell_type": "markdown",
      "metadata": {},
      "source": [
        "Get saved model metadata from Watson Machine Learning."
      ]
    },
    {
      "cell_type": "code",
      "execution_count": 27,
      "metadata": {},
      "outputs": [
        {
          "name": "stdout",
          "output_type": "stream",
          "text": [
            "Model Id: 6b1e3d04-045f-4202-8743-1bf026f6c502\n"
          ]
        }
      ],
      "source": [
        "published_model_id = client.repository.get_model_id(saved_model)\n",
        "\n",
        "print(\"Model Id: \" + str(published_model_id))"
      ]
    },
    {
      "cell_type": "markdown",
      "metadata": {},
      "source": [
        "**Model Id** can be used to retrive latest model version from Watson Machine Learning instance."
      ]
    },
    {
      "cell_type": "markdown",
      "metadata": {},
      "source": [
        "Below you can see stored model details."
      ]
    },
    {
      "cell_type": "code",
      "execution_count": 28,
      "metadata": {
        "scrolled": true
      },
      "outputs": [
        {
          "data": {
            "text/plain": [
              "{'entity': {'hybrid_pipeline_software_specs': [],\n",
              "  'label_column': 'Action',\n",
              "  'pipeline': {'id': '96df067f-33f1-42d0-9c60-ed7390e0ad79'},\n",
              "  'software_spec': {'id': '5c1b0ca2-4977-5c2e-9439-ffd44ea8ffe9',\n",
              "   'name': 'spark-mllib_3.0'},\n",
              "  'training_data_references': [{'connection': {'access_key_id': 'not_applicable',\n",
              "     'endpoint_url': 'not_applicable',\n",
              "     'secret_access_key': 'not_applicable'},\n",
              "    'id': '1',\n",
              "    'location': {},\n",
              "    'schema': {'fields': [{'metadata': {},\n",
              "       'name': 'ID',\n",
              "       'nullable': True,\n",
              "       'type': 'integer'},\n",
              "      {'metadata': {}, 'name': 'Gender', 'nullable': True, 'type': 'string'},\n",
              "      {'metadata': {}, 'name': 'Status', 'nullable': True, 'type': 'string'},\n",
              "      {'metadata': {},\n",
              "       'name': 'Children',\n",
              "       'nullable': True,\n",
              "       'type': 'integer'},\n",
              "      {'metadata': {}, 'name': 'Age', 'nullable': True, 'type': 'double'},\n",
              "      {'metadata': {},\n",
              "       'name': 'Customer_Status',\n",
              "       'nullable': True,\n",
              "       'type': 'string'},\n",
              "      {'metadata': {},\n",
              "       'name': 'Car_Owner',\n",
              "       'nullable': True,\n",
              "       'type': 'string'},\n",
              "      {'metadata': {},\n",
              "       'name': 'Customer_Service',\n",
              "       'nullable': True,\n",
              "       'type': 'string'},\n",
              "      {'metadata': {},\n",
              "       'name': 'Satisfaction',\n",
              "       'nullable': True,\n",
              "       'type': 'integer'},\n",
              "      {'metadata': {},\n",
              "       'name': 'Business_Area',\n",
              "       'nullable': True,\n",
              "       'type': 'string'},\n",
              "      {'metadata': {'modeling_role': 'target'},\n",
              "       'name': 'Action',\n",
              "       'nullable': True,\n",
              "       'type': 'string'}],\n",
              "     'id': '1',\n",
              "     'type': 'struct'},\n",
              "    'type': 'fs'}],\n",
              "  'type': 'mllib_3.0'},\n",
              " 'metadata': {'created_at': '2022-02-03T12:49:33.572Z',\n",
              "  'id': '6b1e3d04-045f-4202-8743-1bf026f6c502',\n",
              "  'modified_at': '2022-02-03T12:49:40.224Z',\n",
              "  'name': 'CARS4U - Action Recommendation Model',\n",
              "  'owner': '1000330999',\n",
              "  'resource_key': '2efe70b6-2d55-4fca-84ae-98fb948cacd3',\n",
              "  'space_id': '779349f5-b119-496d-9a2b-3fcd6df73f91'},\n",
              " 'system': {'warnings': []}}"
            ]
          },
          "execution_count": 28,
          "metadata": {},
          "output_type": "execute_result"
        }
      ],
      "source": [
        "client.repository.get_model_details(published_model_id)"
      ]
    },
    {
      "cell_type": "markdown",
      "metadata": {},
      "source": [
        "<a id=\"deploy\"></a>\n",
        "## 5. Deploy model in the IBM Cloud"
      ]
    },
    {
      "cell_type": "markdown",
      "metadata": {},
      "source": [
        "You can use following command to create online deployment in cloud."
      ]
    },
    {
      "cell_type": "code",
      "execution_count": 29,
      "metadata": {},
      "outputs": [
        {
          "name": "stdout",
          "output_type": "stream",
          "text": [
            "\n",
            "\n",
            "#######################################################################################\n",
            "\n",
            "Synchronous deployment creation for uid: '6b1e3d04-045f-4202-8743-1bf026f6c502' started\n",
            "\n",
            "#######################################################################################\n",
            "\n",
            "\n",
            "initializing\n",
            "Note: online_url is deprecated and will be removed in a future release. Use serving_urls instead.\n",
            "\n",
            "ready\n",
            "\n",
            "\n",
            "------------------------------------------------------------------------------------------------\n",
            "Successfully finished deployment creation, deployment_uid='e870ee28-042a-47c2-9d59-57fa1874a658'\n",
            "------------------------------------------------------------------------------------------------\n",
            "\n",
            "\n"
          ]
        }
      ],
      "source": [
        "deployment_details = client.deployments.create(\n",
        "    published_model_id, \n",
        "    meta_props={\n",
        "        client.deployments.ConfigurationMetaNames.NAME: \"CARS4U - Action Recommendation model deployment\",\n",
        "        client.deployments.ConfigurationMetaNames.ONLINE: {}\n",
        "    }\n",
        ")"
      ]
    },
    {
      "cell_type": "code",
      "execution_count": 30,
      "metadata": {},
      "outputs": [
        {
          "data": {
            "text/plain": [
              "{'entity': {'asset': {'id': '6b1e3d04-045f-4202-8743-1bf026f6c502'},\n",
              "  'custom': {},\n",
              "  'deployed_asset_type': 'model',\n",
              "  'hardware_spec': {'id': 'e7ed1d6c-2e89-42d7-aed5-863b972c1d2b',\n",
              "   'name': 'S',\n",
              "   'num_nodes': 1},\n",
              "  'name': 'CARS4U - Action Recommendation model deployment',\n",
              "  'online': {},\n",
              "  'space_id': '779349f5-b119-496d-9a2b-3fcd6df73f91',\n",
              "  'status': {'online_url': {'url': 'https://cpd-zen.apps.ocp46wmlautoaix2.cp.fyre.ibm.com/ml/v4/deployments/e870ee28-042a-47c2-9d59-57fa1874a658/predictions'},\n",
              "   'serving_urls': ['https://cpd-zen.apps.ocp46wmlautoaix2.cp.fyre.ibm.com/ml/v4/deployments/e870ee28-042a-47c2-9d59-57fa1874a658/predictions'],\n",
              "   'state': 'ready'}},\n",
              " 'metadata': {'created_at': '2022-02-03T12:55:43.166Z',\n",
              "  'id': 'e870ee28-042a-47c2-9d59-57fa1874a658',\n",
              "  'modified_at': '2022-02-03T12:55:43.166Z',\n",
              "  'name': 'CARS4U - Action Recommendation model deployment',\n",
              "  'owner': '1000330999',\n",
              "  'space_id': '779349f5-b119-496d-9a2b-3fcd6df73f91'},\n",
              " 'system': {'warnings': [{'id': 'Deprecated',\n",
              "    'message': 'online_url is deprecated and will be removed in a future release. Use serving_urls instead.'}]}}"
            ]
          },
          "execution_count": 30,
          "metadata": {},
          "output_type": "execute_result"
        }
      ],
      "source": [
        "deployment_details"
      ]
    },
    {
      "cell_type": "markdown",
      "metadata": {},
      "source": [
        "<a id=\"score\"></a>\n",
        "## 6. Score"
      ]
    },
    {
      "cell_type": "code",
      "execution_count": 31,
      "metadata": {},
      "outputs": [],
      "source": [
        "fields = ['ID', 'Gender', 'Status', 'Children', 'Age', 'Customer_Status','Car_Owner', 'Customer_Service', 'Business_Area', 'Satisfaction']\n",
        "values = [3785, 'Male', 'S', 1, 17, 'Inactive', 'Yes', 'The car should have been brought to us instead of us trying to find it in the lot.', 'Product: Information', 0]"
      ]
    },
    {
      "cell_type": "code",
      "execution_count": 29,
      "metadata": {
        "scrolled": true
      },
      "outputs": [
        {
          "name": "stdout",
          "output_type": "stream",
          "text": [
            "{\n",
            "   \"predictions\": [\n",
            "      {\n",
            "         \"fields\": [\n",
            "            \"ID\",\n",
            "            \"Gender\",\n",
            "            \"Status\",\n",
            "            \"Children\",\n",
            "            \"Age\",\n",
            "            \"Customer_Status\",\n",
            "            \"Car_Owner\",\n",
            "            \"Customer_Service\",\n",
            "            \"Business_Area\",\n",
            "            \"Satisfaction\",\n",
            "            \"gender_ix\",\n",
            "            \"customer_status_ix\",\n",
            "            \"status_ix\",\n",
            "            \"label\",\n",
            "            \"owner_ix\",\n",
            "            \"area_ix\",\n",
            "            \"features\",\n",
            "            \"rawPrediction\",\n",
            "            \"probability\",\n",
            "            \"prediction\",\n",
            "            \"predictedLabel\"\n",
            "         ],\n",
            "         \"values\": [\n",
            "            [\n",
            "               3785,\n",
            "               \"Male\",\n",
            "               \"S\",\n",
            "               1,\n",
            "               17.0,\n",
            "               \"Inactive\",\n",
            "               \"Yes\",\n",
            "               \"The car should have been brought to us instead of us trying to find it in the lot.\",\n",
            "               \"Product: Information\",\n",
            "               0,\n",
            "               0.0,\n",
            "               1.0,\n",
            "               1.0,\n",
            "               0.0,\n",
            "               1.0,\n",
            "               7.0,\n",
            "               [\n",
            "                  0.0,\n",
            "                  1.0,\n",
            "                  1.0,\n",
            "                  1.0,\n",
            "                  7.0,\n",
            "                  1.0,\n",
            "                  17.0,\n",
            "                  0.0\n",
            "               ],\n",
            "               [\n",
            "                  0.0,\n",
            "                  0.0,\n",
            "                  6.0,\n",
            "                  0.0,\n",
            "                  0.0\n",
            "               ],\n",
            "               [\n",
            "                  0.0,\n",
            "                  0.0,\n",
            "                  1.0,\n",
            "                  0.0,\n",
            "                  0.0\n",
            "               ],\n",
            "               2.0,\n",
            "               \"On-demand pickup location\"\n",
            "            ]\n",
            "         ]\n",
            "      }\n",
            "   ]\n",
            "}\n"
          ]
        }
      ],
      "source": [
        "import json\n",
        "\n",
        "payload_scoring = {\"input_data\": [{\"fields\": fields,\"values\": [values]}]}\n",
        "scoring_response = client.deployments.score(client.deployments.get_id(deployment_details), payload_scoring)\n",
        "\n",
        "print(json.dumps(scoring_response, indent=3))"
      ]
    },
    {
      "cell_type": "markdown",
      "metadata": {},
      "source": [
        "<a id=\"cleanup\"></a>\n",
        "## 7. Clean up "
      ]
    },
    {
      "cell_type": "markdown",
      "metadata": {},
      "source": [
        "If you want to clean up all created assets:\n",
        "- experiments\n",
        "- trainings\n",
        "- pipelines\n",
        "- model definitions\n",
        "- models\n",
        "- functions\n",
        "- deployments\n",
        "\n",
        "please follow up this sample [notebook](https://github.com/IBM/watson-machine-learning-samples/blob/master/cpd4.0/notebooks/python_sdk/instance-management/Machine%20Learning%20artifacts%20management.ipynb)."
      ]
    },
    {
      "cell_type": "markdown",
      "metadata": {},
      "source": [
        "<a id=\"summary\"></a>\n",
        "## 8. Summary and next steps     "
      ]
    },
    {
      "cell_type": "markdown",
      "metadata": {},
      "source": [
        " You successfully completed this notebook! You learned how to use Apache Spark machine learning as well as Watson Machine Learning for model creation and deployment. \n",
        " \n",
        " Check out our [Online Documentation](https://dataplatform.cloud.ibm.com/docs/content/analyze-data/wml-setup.html) for more samples, tutorials, documentation, how-tos, and blog posts. "
      ]
    },
    {
      "cell_type": "markdown",
      "metadata": {},
      "source": [
        "### Authors\n",
        "\n",
        "**Amadeusz Masny**, Python Software Developer in Watson Machine Learning at IBM"
      ]
    },
    {
      "cell_type": "markdown",
      "metadata": {},
      "source": [
        "Copyright © 2020-2025 IBM. This notebook and its source code are released under the terms of the MIT License."
      ]
    }
  ],
  "metadata": {
    "kernelspec": {
      "display_name": "Python 3 (ipykernel)",
      "language": "python",
      "name": "python3"
    },
    "language_info": {
      "codemirror_mode": {
        "name": "ipython",
        "version": 3
      },
      "file_extension": ".py",
      "mimetype": "text/x-python",
      "name": "python",
      "nbconvert_exporter": "python",
      "pygments_lexer": "ipython3",
      "version": "3.8.11"
    }
  },
  "nbformat": 4,
  "nbformat_minor": 4
}
