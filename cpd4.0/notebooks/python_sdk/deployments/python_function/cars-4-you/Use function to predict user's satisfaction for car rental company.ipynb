{
  "cells": [
    {
      "cell_type": "markdown",
      "metadata": {},
      "source": [
        "# Use Python function to predict user's satisfaction for car rental company with `ibm-watson-machine-learning`"
      ]
    },
    {
      "cell_type": "markdown",
      "metadata": {},
      "source": [
        "This notebook trains a **Keras** (TensorFlow) model to predict customer satisfaction based on the feedback that has been provided. The notebook also demonstrates how you can use the **python function** for the deep learning model data preprocessing required before you start model scoring.\n",
        "\n",
        "Some familiarity with Python is helpful. This notebook uses Python 3.9 and the watson-machine-learning-client package.\n"
      ]
    },
    {
      "cell_type": "markdown",
      "metadata": {},
      "source": [
        "Contents:\n",
        "1. [Setup](#setup)\n",
        "2. [Load and explore data](#load)\n",
        "3. [Create Keras model using TensorFlow backend](#model)\n",
        "4. [Store the model in the repository](#upload)\n",
        "5. [Deploy the model](#deployment)\n",
        "6. [Score the model](#score)\n",
        "7. [Define, store and deploy Python function](#ai_function)\n",
        "8. [Clean up](#cleanup)\n",
        "9. [Summary and next steps](#summary)"
      ]
    },
    {
      "cell_type": "markdown",
      "metadata": {},
      "source": [
        "<a id=\"setup\"></a>\n",
        "## 1. Set up the environment\n",
        "\n",
        "Before you use the sample code in this notebook, you must perform the following setup tasks:\n",
        "\n",
        "-  Contact with your Cloud Pack for Data administrator and ask him for your account credentials"
      ]
    },
    {
      "cell_type": "markdown",
      "metadata": {},
      "source": [
        "### Connection to WML\n",
        "\n",
        "Authenticate the Watson Machine Learning service on IBM Cloud Pack for Data. You need to provide platform `url`, your `username` and `api_key`."
      ]
    },
    {
      "cell_type": "code",
      "execution_count": null,
      "metadata": {},
      "outputs": [],
      "source": [
        "username = 'PASTE YOUR USERNAME HERE'\n",
        "api_key = 'PASTE YOUR API_KEY HERE'\n",
        "url = 'PASTE THE PLATFORM URL HERE'"
      ]
    },
    {
      "cell_type": "code",
      "execution_count": 2,
      "metadata": {
        "tags": []
      },
      "outputs": [],
      "source": [
        "wml_credentials = {\n",
        "    \"username\": username,\n",
        "    \"apikey\": api_key,\n",
        "    \"url\": url,\n",
        "    \"instance_id\": 'openshift',\n",
        "    \"version\": '4.0'\n",
        "}"
      ]
    },
    {
      "cell_type": "markdown",
      "metadata": {},
      "source": [
        "Alternatively you can use `username` and `password` to authenticate WML services.\n",
        "\n",
        "```\n",
        "wml_credentials = {\n",
        "    \"username\": ***,\n",
        "    \"password\": ***,\n",
        "    \"url\": ***,\n",
        "    \"instance_id\": 'openshift',\n",
        "    \"version\": '4.0'\n",
        "}\n",
        "\n",
        "```"
      ]
    },
    {
      "cell_type": "markdown",
      "metadata": {},
      "source": [
        "### Install and import the `ibm-watson-machine-learning` package\n",
        "**Note:** `ibm-watson-machine-learning` documentation can be found <a href=\"http://ibm-wml-api-pyclient.mybluemix.net/\" target=\"_blank\" rel=\"noopener no referrer\">here</a>."
      ]
    },
    {
      "cell_type": "code",
      "execution_count": null,
      "metadata": {},
      "outputs": [],
      "source": [
        "!pip install -U ibm-watson-machine-learning"
      ]
    },
    {
      "cell_type": "code",
      "execution_count": 2,
      "metadata": {},
      "outputs": [],
      "source": [
        "from ibm_watson_machine_learning import APIClient\n",
        "\n",
        "client = APIClient(wml_credentials)"
      ]
    },
    {
      "cell_type": "markdown",
      "metadata": {},
      "source": [
        "### Working with spaces\n",
        "\n",
        "First of all, you need to create a space that will be used for your work. If you do not have space already created, you can use `{PLATFORM_URL}/ml-runtime/spaces?context=icp4data` to create one.\n",
        "\n",
        "- Click New Deployment Space\n",
        "- Create an empty space\n",
        "- Go to space `Settings` tab\n",
        "- Copy `space_id` and paste it below\n",
        "\n",
        "**Tip**: You can also use SDK to prepare the space for your work. More information can be found [here](https://github.com/IBM/watson-machine-learning-samples/blob/master/cpd4.0/notebooks/python_sdk/instance-management/Space%20management.ipynb).\n",
        "\n",
        "**Action**: Assign space ID below"
      ]
    },
    {
      "cell_type": "code",
      "execution_count": null,
      "metadata": {},
      "outputs": [],
      "source": [
        "space_id = 'PASTE YOUR SPACE ID HERE'"
      ]
    },
    {
      "cell_type": "markdown",
      "metadata": {},
      "source": [
        "You can use `list` method to print all existing spaces."
      ]
    },
    {
      "cell_type": "code",
      "execution_count": null,
      "metadata": {},
      "outputs": [],
      "source": [
        "client.spaces.list(limit=10)"
      ]
    },
    {
      "cell_type": "markdown",
      "metadata": {},
      "source": [
        "To be able to interact with all resources available in Watson Machine Learning, you need to set **space** which you will be using."
      ]
    },
    {
      "cell_type": "code",
      "execution_count": 4,
      "metadata": {},
      "outputs": [
        {
          "data": {
            "text/plain": [
              "'SUCCESS'"
            ]
          },
          "execution_count": 4,
          "metadata": {},
          "output_type": "execute_result"
        }
      ],
      "source": [
        "client.set.default_space(space_id)"
      ]
    },
    {
      "cell_type": "markdown",
      "metadata": {},
      "source": [
        "### Install TensorFlow\n"
      ]
    },
    {
      "cell_type": "code",
      "execution_count": null,
      "metadata": {},
      "outputs": [],
      "source": [
        "!pip install --upgrade tensorflow==2.7 | tail -n 1"
      ]
    },
    {
      "cell_type": "markdown",
      "metadata": {},
      "source": [
        "**Tip:** Restart the kernel (**Kernel** -> **Restart**)"
      ]
    },
    {
      "cell_type": "markdown",
      "metadata": {
        "pycharm": {
          "name": "#%% md\n"
        }
      },
      "source": [
        "<a id=\"load\"></a>\n",
        "## 2. Load and explore data\n",
        "\n",
        "In this section you read in the `car_rental_training_data.csv` file, load it as a pandas dataFrame and then perform a basic exploration. \n"
      ]
    },
    {
      "cell_type": "code",
      "execution_count": null,
      "metadata": {
        "pycharm": {
          "name": "#%%\n"
        }
      },
      "outputs": [],
      "source": [
        "!pip install wget  | tail -n 1"
      ]
    },
    {
      "cell_type": "code",
      "execution_count": 5,
      "metadata": {},
      "outputs": [
        {
          "data": {
            "text/plain": [
              "'car_rental_training_data.csv'"
            ]
          },
          "execution_count": 5,
          "metadata": {},
          "output_type": "execute_result"
        }
      ],
      "source": [
        "import wget\n",
        "\n",
        "link_to_data = 'https://github.com/IBM/watson-machine-learning-samples/raw/master/cpd4.0/data/cars-4-you/car_rental_training_data.csv'\n",
        "filename = wget.download(link_to_data)\n",
        "\n",
        "filename"
      ]
    },
    {
      "cell_type": "markdown",
      "metadata": {},
      "source": [
        "Load the data as a pandas dataFrame.\n"
      ]
    },
    {
      "cell_type": "code",
      "execution_count": 6,
      "metadata": {
        "pycharm": {
          "name": "#%%\n"
        }
      },
      "outputs": [
        {
          "data": {
            "text/html": [
              "<div>\n",
              "<style scoped>\n",
              "    .dataframe tbody tr th:only-of-type {\n",
              "        vertical-align: middle;\n",
              "    }\n",
              "\n",
              "    .dataframe tbody tr th {\n",
              "        vertical-align: top;\n",
              "    }\n",
              "\n",
              "    .dataframe thead th {\n",
              "        text-align: right;\n",
              "    }\n",
              "</style>\n",
              "<table border=\"1\" class=\"dataframe\">\n",
              "  <thead>\n",
              "    <tr style=\"text-align: right;\">\n",
              "      <th></th>\n",
              "      <th>ID</th>\n",
              "      <th>Gender</th>\n",
              "      <th>Status</th>\n",
              "      <th>Children</th>\n",
              "      <th>Age</th>\n",
              "      <th>Customer_Status</th>\n",
              "      <th>Car_Owner</th>\n",
              "      <th>Customer_Service</th>\n",
              "      <th>Satisfaction</th>\n",
              "      <th>Business_Area</th>\n",
              "      <th>Action</th>\n",
              "    </tr>\n",
              "  </thead>\n",
              "  <tbody>\n",
              "    <tr>\n",
              "      <th>0</th>\n",
              "      <td>83</td>\n",
              "      <td>Female</td>\n",
              "      <td>M</td>\n",
              "      <td>2</td>\n",
              "      <td>48.85</td>\n",
              "      <td>Inactive</td>\n",
              "      <td>Yes</td>\n",
              "      <td>I thought the representative handled the initi...</td>\n",
              "      <td>0</td>\n",
              "      <td>Product: Availability/Variety/Size</td>\n",
              "      <td>Free Upgrade</td>\n",
              "    </tr>\n",
              "    <tr>\n",
              "      <th>1</th>\n",
              "      <td>1307</td>\n",
              "      <td>Female</td>\n",
              "      <td>M</td>\n",
              "      <td>0</td>\n",
              "      <td>55.00</td>\n",
              "      <td>Inactive</td>\n",
              "      <td>No</td>\n",
              "      <td>I have had a few recent rentals that have take...</td>\n",
              "      <td>0</td>\n",
              "      <td>Product: Availability/Variety/Size</td>\n",
              "      <td>Voucher</td>\n",
              "    </tr>\n",
              "    <tr>\n",
              "      <th>2</th>\n",
              "      <td>1737</td>\n",
              "      <td>Male</td>\n",
              "      <td>M</td>\n",
              "      <td>0</td>\n",
              "      <td>42.35</td>\n",
              "      <td>Inactive</td>\n",
              "      <td>Yes</td>\n",
              "      <td>car cost more because I didn't pay when I rese...</td>\n",
              "      <td>0</td>\n",
              "      <td>Product: Availability/Variety/Size</td>\n",
              "      <td>Free Upgrade</td>\n",
              "    </tr>\n",
              "    <tr>\n",
              "      <th>3</th>\n",
              "      <td>3721</td>\n",
              "      <td>Male</td>\n",
              "      <td>M</td>\n",
              "      <td>2</td>\n",
              "      <td>61.71</td>\n",
              "      <td>Inactive</td>\n",
              "      <td>Yes</td>\n",
              "      <td>I didn't get the car I was told would be avail...</td>\n",
              "      <td>0</td>\n",
              "      <td>Product: Availability/Variety/Size</td>\n",
              "      <td>Free Upgrade</td>\n",
              "    </tr>\n",
              "    <tr>\n",
              "      <th>4</th>\n",
              "      <td>11</td>\n",
              "      <td>Male</td>\n",
              "      <td>S</td>\n",
              "      <td>2</td>\n",
              "      <td>56.47</td>\n",
              "      <td>Active</td>\n",
              "      <td>No</td>\n",
              "      <td>If there was not a desired vehicle available t...</td>\n",
              "      <td>1</td>\n",
              "      <td>Product: Availability/Variety/Size</td>\n",
              "      <td>NaN</td>\n",
              "    </tr>\n",
              "  </tbody>\n",
              "</table>\n",
              "</div>"
            ],
            "text/plain": [
              "     ID  Gender Status  Children    Age Customer_Status Car_Owner  \\\n",
              "0    83  Female      M         2  48.85        Inactive       Yes   \n",
              "1  1307  Female      M         0  55.00        Inactive        No   \n",
              "2  1737    Male      M         0  42.35        Inactive       Yes   \n",
              "3  3721    Male      M         2  61.71        Inactive       Yes   \n",
              "4    11    Male      S         2  56.47          Active        No   \n",
              "\n",
              "                                    Customer_Service  Satisfaction  \\\n",
              "0  I thought the representative handled the initi...             0   \n",
              "1  I have had a few recent rentals that have take...             0   \n",
              "2  car cost more because I didn't pay when I rese...             0   \n",
              "3  I didn't get the car I was told would be avail...             0   \n",
              "4  If there was not a desired vehicle available t...             1   \n",
              "\n",
              "                        Business_Area        Action  \n",
              "0  Product: Availability/Variety/Size  Free Upgrade  \n",
              "1  Product: Availability/Variety/Size       Voucher  \n",
              "2  Product: Availability/Variety/Size  Free Upgrade  \n",
              "3  Product: Availability/Variety/Size  Free Upgrade  \n",
              "4  Product: Availability/Variety/Size           NaN  "
            ]
          },
          "execution_count": 6,
          "metadata": {},
          "output_type": "execute_result"
        }
      ],
      "source": [
        "import pandas as pd\n",
        "\n",
        "data = pd.read_csv(filename, sep=';') \n",
        "data.head()"
      ]
    },
    {
      "cell_type": "markdown",
      "metadata": {
        "pycharm": {
          "name": "#%% md\n"
        }
      },
      "source": [
        "\n",
        "\n",
        "**Note:** 0 - not satisfied, 1 - satisfied\n"
      ]
    },
    {
      "cell_type": "markdown",
      "metadata": {
        "pycharm": {
          "name": "#%% md\n"
        }
      },
      "source": [
        "Extract the required columns and count the number of records.\n"
      ]
    },
    {
      "cell_type": "code",
      "execution_count": 7,
      "metadata": {
        "pycharm": {
          "name": "#%%\n"
        }
      },
      "outputs": [],
      "source": [
        "complain_data = data[['Customer_Service', 'Satisfaction']]"
      ]
    },
    {
      "cell_type": "code",
      "execution_count": 8,
      "metadata": {},
      "outputs": [
        {
          "data": {
            "text/plain": [
              "Customer_Service    486\n",
              "Satisfaction        486\n",
              "dtype: int64"
            ]
          },
          "execution_count": 8,
          "metadata": {},
          "output_type": "execute_result"
        }
      ],
      "source": [
        "complain_data.count()"
      ]
    },
    {
      "cell_type": "markdown",
      "metadata": {},
      "source": [
        "<a id=\"model\"></a>\n",
        "## 3. Create a Keras model using the TensorFlow backend"
      ]
    },
    {
      "cell_type": "code",
      "execution_count": 9,
      "metadata": {},
      "outputs": [],
      "source": [
        "import os\n",
        "import numpy\n",
        "from tensorflow.keras.preprocessing.text import Tokenizer\n",
        "from tensorflow.keras.preprocessing.sequence import pad_sequences\n",
        "from tensorflow.keras.models import Sequential\n",
        "from tensorflow.keras.layers import Dense, Embedding, LSTM, SpatialDropout1D\n",
        "from sklearn.model_selection import train_test_split\n",
        "from tensorflow.keras.models import Sequential\n",
        "from tensorflow.keras.layers import Conv1D, MaxPooling1D\n",
        "from tensorflow.keras.layers import Embedding\n",
        "from tensorflow.keras.preprocessing import sequence"
      ]
    },
    {
      "cell_type": "markdown",
      "metadata": {},
      "source": [
        "### 3.1 Prepare the data\n"
      ]
    },
    {
      "cell_type": "code",
      "execution_count": 10,
      "metadata": {},
      "outputs": [
        {
          "data": {
            "text/plain": [
              "(486, 50)"
            ]
          },
          "execution_count": 10,
          "metadata": {},
          "output_type": "execute_result"
        }
      ],
      "source": [
        "max_fatures = 500\n",
        "\n",
        "for idx,row in complain_data.iterrows():\n",
        "    row[0] = row[0].replace('rt',' ')\n",
        "\n",
        "tokenizer = Tokenizer(num_words=max_fatures, split=' ')\n",
        "tokenizer.fit_on_texts(complain_data['Customer_Service'].values)\n",
        "X = tokenizer.texts_to_sequences(complain_data['Customer_Service'].values)\n",
        "\n",
        "maxlen = 50\n",
        "\n",
        "X = pad_sequences(X, maxlen=maxlen)\n",
        "X.shape"
      ]
    },
    {
      "cell_type": "markdown",
      "metadata": {},
      "source": [
        "### Split the data into train and test data sets.\n"
      ]
    },
    {
      "cell_type": "code",
      "execution_count": 11,
      "metadata": {},
      "outputs": [
        {
          "data": {
            "text/plain": [
              "((161, 50), (161,))"
            ]
          },
          "execution_count": 11,
          "metadata": {},
          "output_type": "execute_result"
        }
      ],
      "source": [
        "Y = complain_data['Satisfaction'].values\n",
        "X_train, X_test, Y_train, Y_test = train_test_split(X,Y, test_size = 0.33, random_state = 42)\n",
        "\n",
        "X_train.shape,Y_train.shape\n",
        "X_test.shape,Y_test.shape"
      ]
    },
    {
      "cell_type": "markdown",
      "metadata": {
        "pycharm": {
          "name": "#%% md\n"
        }
      },
      "source": [
        "### 3.2 Design and train the model\n",
        "Create the network definition based on the Gated Recurrent Unit (Cho et al. 2014).\n"
      ]
    },
    {
      "cell_type": "code",
      "execution_count": 12,
      "metadata": {
        "pycharm": {
          "name": "#%%\n"
        }
      },
      "outputs": [],
      "source": [
        "embedding_vector_length = 32\n",
        "\n",
        "model = Sequential()\n",
        "model.add(Embedding(max_fatures, embedding_vector_length, input_length=maxlen))\n",
        "model.add(Conv1D(filters=32, kernel_size=3, padding='same', activation='relu'))\n",
        "model.add(MaxPooling1D(pool_size=2))\n",
        "model.add(LSTM(100))\n",
        "model.add(Dense(1, activation='sigmoid'))\n",
        "model.compile(loss='binary_crossentropy', optimizer='adam', metrics=['accuracy'])"
      ]
    },
    {
      "cell_type": "code",
      "execution_count": 13,
      "metadata": {},
      "outputs": [
        {
          "name": "stdout",
          "output_type": "stream",
          "text": [
            "Model: \"sequential\"\n",
            "_________________________________________________________________\n",
            "Layer (type)                 Output Shape              Param #   \n",
            "=================================================================\n",
            "embedding (Embedding)        (None, 50, 32)            16000     \n",
            "_________________________________________________________________\n",
            "conv1d (Conv1D)              (None, 50, 32)            3104      \n",
            "_________________________________________________________________\n",
            "max_pooling1d (MaxPooling1D) (None, 25, 32)            0         \n",
            "_________________________________________________________________\n",
            "lstm (LSTM)                  (None, 100)               53200     \n",
            "_________________________________________________________________\n",
            "dense (Dense)                (None, 1)                 101       \n",
            "=================================================================\n",
            "Total params: 72,405\n",
            "Trainable params: 72,405\n",
            "Non-trainable params: 0\n",
            "_________________________________________________________________\n"
          ]
        }
      ],
      "source": [
        "model.summary()"
      ]
    },
    {
      "cell_type": "markdown",
      "metadata": {
        "pycharm": {
          "name": "#%% md\n"
        }
      },
      "source": [
        "### Train the model.\n"
      ]
    },
    {
      "cell_type": "code",
      "execution_count": 15,
      "metadata": {
        "pycharm": {
          "name": "#%%\n"
        },
        "scrolled": true
      },
      "outputs": [
        {
          "name": "stdout",
          "output_type": "stream",
          "text": [
            "Epoch 1/20\n",
            "6/6 [==============================] - 3s 146ms/step - loss: 0.6904 - accuracy: 0.5217 - val_loss: 0.6863 - val_accuracy: 0.5342\n",
            "Epoch 2/20\n",
            "6/6 [==============================] - 0s 29ms/step - loss: 0.6765 - accuracy: 0.5673 - val_loss: 0.6850 - val_accuracy: 0.5342\n",
            "Epoch 3/20\n",
            "6/6 [==============================] - 0s 29ms/step - loss: 0.6519 - accuracy: 0.6028 - val_loss: 0.6744 - val_accuracy: 0.5342\n",
            "Epoch 4/20\n",
            "6/6 [==============================] - 0s 26ms/step - loss: 0.6412 - accuracy: 0.5904 - val_loss: 0.6549 - val_accuracy: 0.5963\n",
            "Epoch 5/20\n",
            "6/6 [==============================] - 0s 26ms/step - loss: 0.6290 - accuracy: 0.6888 - val_loss: 0.6257 - val_accuracy: 0.7267\n",
            "Epoch 6/20\n",
            "6/6 [==============================] - 0s 26ms/step - loss: 0.5855 - accuracy: 0.7572 - val_loss: 0.5842 - val_accuracy: 0.6894\n",
            "Epoch 7/20\n",
            "6/6 [==============================] - 0s 27ms/step - loss: 0.5223 - accuracy: 0.7937 - val_loss: 0.5701 - val_accuracy: 0.7081\n",
            "Epoch 8/20\n",
            "6/6 [==============================] - 0s 25ms/step - loss: 0.5191 - accuracy: 0.7807 - val_loss: 0.5084 - val_accuracy: 0.8075\n",
            "Epoch 9/20\n",
            "6/6 [==============================] - 0s 27ms/step - loss: 0.4350 - accuracy: 0.8587 - val_loss: 0.4194 - val_accuracy: 0.8137\n",
            "Epoch 10/20\n",
            "6/6 [==============================] - 0s 25ms/step - loss: 0.3359 - accuracy: 0.8596 - val_loss: 0.3644 - val_accuracy: 0.8323\n",
            "Epoch 11/20\n",
            "6/6 [==============================] - 0s 26ms/step - loss: 0.2159 - accuracy: 0.9129 - val_loss: 0.2976 - val_accuracy: 0.9006\n",
            "Epoch 12/20\n",
            "6/6 [==============================] - 0s 26ms/step - loss: 0.1807 - accuracy: 0.9427 - val_loss: 0.2674 - val_accuracy: 0.9130\n",
            "Epoch 13/20\n",
            "6/6 [==============================] - 0s 25ms/step - loss: 0.1248 - accuracy: 0.9466 - val_loss: 0.3135 - val_accuracy: 0.9130\n",
            "Epoch 14/20\n",
            "6/6 [==============================] - 0s 26ms/step - loss: 0.0906 - accuracy: 0.9725 - val_loss: 0.2421 - val_accuracy: 0.9317\n",
            "Epoch 15/20\n",
            "6/6 [==============================] - 0s 29ms/step - loss: 0.0652 - accuracy: 0.9784 - val_loss: 0.2813 - val_accuracy: 0.9255\n",
            "Epoch 16/20\n",
            "6/6 [==============================] - 0s 38ms/step - loss: 0.0640 - accuracy: 0.9800 - val_loss: 0.2862 - val_accuracy: 0.9255\n",
            "Epoch 17/20\n",
            "6/6 [==============================] - 0s 31ms/step - loss: 0.0590 - accuracy: 0.9822 - val_loss: 0.3116 - val_accuracy: 0.9379\n",
            "Epoch 18/20\n",
            "6/6 [==============================] - 0s 33ms/step - loss: 0.0440 - accuracy: 0.9827 - val_loss: 0.2738 - val_accuracy: 0.9441\n",
            "Epoch 19/20\n",
            "6/6 [==============================] - 0s 40ms/step - loss: 0.0389 - accuracy: 0.9934 - val_loss: 0.2275 - val_accuracy: 0.9565\n",
            "Epoch 20/20\n",
            "6/6 [==============================] - 0s 41ms/step - loss: 0.0403 - accuracy: 0.9865 - val_loss: 0.2797 - val_accuracy: 0.9441\n"
          ]
        }
      ],
      "source": [
        "history = model.fit(X_train, Y_train, validation_data=(X_test, Y_test), epochs=20, batch_size=64)"
      ]
    },
    {
      "cell_type": "code",
      "execution_count": 16,
      "metadata": {
        "pycharm": {
          "name": "#%%\n"
        }
      },
      "outputs": [
        {
          "data": {
            "text/plain": [
              "'Best accuracy on test: 0.957'"
            ]
          },
          "execution_count": 16,
          "metadata": {},
          "output_type": "execute_result"
        }
      ],
      "source": [
        "(\"Best accuracy on test: %3.3f\" % numpy.array(history.history['val_accuracy']).max())"
      ]
    },
    {
      "cell_type": "markdown",
      "metadata": {
        "pycharm": {
          "name": "#%% md\n"
        }
      },
      "source": [
        "**Note:** For purpose of this demo, model tuning has been skipped.\n",
        "\n",
        "Store and archive the model in the notebook filesystem.\n",
        "\n"
      ]
    },
    {
      "cell_type": "markdown",
      "metadata": {
        "pycharm": {
          "name": "#%% md\n"
        }
      },
      "source": [
        "### Evaluate the model"
      ]
    },
    {
      "cell_type": "code",
      "execution_count": 17,
      "metadata": {
        "pycharm": {
          "name": "#%%\n"
        }
      },
      "outputs": [
        {
          "data": {
            "text/plain": [
              "'Evaluation Accuracy: 94.41%'"
            ]
          },
          "execution_count": 17,
          "metadata": {},
          "output_type": "execute_result"
        }
      ],
      "source": [
        "scores = model.evaluate(X_test, Y_test, verbose=0)\n",
        "(\"Evaluation Accuracy: %.2f%%\" % (scores[1]*100))"
      ]
    },
    {
      "cell_type": "code",
      "execution_count": 18,
      "metadata": {
        "pycharm": {
          "name": "#%%\n"
        }
      },
      "outputs": [],
      "source": [
        "filename = 'complain_model.h5'\n",
        "model.save(filename)\n",
        "\n",
        "# Compress Keras model\n",
        "tar_filename = filename + \".tgz\"\n",
        "cmdstring = \"tar -zcvf \" + tar_filename + \" \" + filename\n",
        "score = tar_filename\n",
        "os.system(cmdstring);"
      ]
    },
    {
      "cell_type": "markdown",
      "metadata": {},
      "source": [
        "<a id=\"upload\"></a>\n",
        "## 4. Store the model in the repository\n",
        "\n",
        "In this section, you will learn how to store your model in Watson Machine Learning repository by using the Watson Machine Learning Client."
      ]
    },
    {
      "cell_type": "markdown",
      "metadata": {
        "pycharm": {
          "name": "#%% md\n"
        }
      },
      "source": [
        "### 4.1: Publish model\n",
        "#### Publish model in Watson Machine Learning repository on Cloud.\n"
      ]
    },
    {
      "cell_type": "markdown",
      "metadata": {
        "pycharm": {
          "name": "#%% md\n"
        }
      },
      "source": [
        "Get software specification for tensorflow model."
      ]
    },
    {
      "cell_type": "code",
      "execution_count": 19,
      "metadata": {},
      "outputs": [
        {
          "name": "stdout",
          "output_type": "stream",
          "text": [
            "ab9e1b80-f2ce-592c-a7d2-4f2344f77194\n"
          ]
        }
      ],
      "source": [
        "software_spec_id = client.software_specifications.get_id_by_name('runtime-22.1-py3.9')\n",
        "print(software_spec_id)"
      ]
    },
    {
      "cell_type": "markdown",
      "metadata": {},
      "source": [
        "Store model"
      ]
    },
    {
      "cell_type": "code",
      "execution_count": 20,
      "metadata": {},
      "outputs": [
        {
          "name": "stdout",
          "output_type": "stream",
          "text": [
            "{'name': 'CARS4U - Satisfaction Prediction Model', 'type': 'tensorflow_2.4', 'software_spec': 'ab9e1b80-f2ce-592c-a7d2-4f2344f77194'}\n"
          ]
        }
      ],
      "source": [
        "metadata = {\n",
        "    client.repository.ModelMetaNames.NAME: \"CARS4U - Satisfaction Prediction Model\",\n",
        "    client.repository.ModelMetaNames.TYPE: 'tensorflow_2.7',\n",
        "    client.repository.ModelMetaNames.SOFTWARE_SPEC_UID : software_spec_id\n",
        "}\n",
        "print(metadata)    \n",
        "stored_model_details = client.repository.store_model(tar_filename, meta_props=metadata)"
      ]
    },
    {
      "cell_type": "markdown",
      "metadata": {
        "pycharm": {
          "name": "#%% md\n"
        }
      },
      "source": [
        "### 4.2: Get model details"
      ]
    },
    {
      "cell_type": "code",
      "execution_count": null,
      "metadata": {},
      "outputs": [],
      "source": [
        "import json\n",
        "\n",
        "model_uid = client.repository.get_model_id(stored_model_details)\n",
        "\n",
        "model_details = client.repository.get_details(model_uid)\n",
        "print(json.dumps(model_details, indent=2))"
      ]
    },
    {
      "cell_type": "markdown",
      "metadata": {},
      "source": [
        "<a id=\"deploy\"></a>\n",
        "## 5. Deploy the model\n",
        "In this section you will learn how to create batch deployment to create job using the Watson Machine Learning Client.\n",
        "\n",
        "You can use commands below to create batch deployment for stored model (web service).\n",
        "\n",
        "### 5.1: Create model deployment\n"
      ]
    },
    {
      "cell_type": "code",
      "execution_count": 22,
      "metadata": {},
      "outputs": [],
      "source": [
        "meta_props = {\n",
        "    client.deployments.ConfigurationMetaNames.NAME: \"CARS4U - Satisfaction Prediction Model Deployment\",\n",
        "    client.deployments.ConfigurationMetaNames.ONLINE: {}\n",
        "}"
      ]
    },
    {
      "cell_type": "code",
      "execution_count": 23,
      "metadata": {},
      "outputs": [
        {
          "name": "stdout",
          "output_type": "stream",
          "text": [
            "\n",
            "\n",
            "#######################################################################################\n",
            "\n",
            "Synchronous deployment creation for uid: '47111f2c-d826-4771-8796-1fa0a0c100eb' started\n",
            "\n",
            "#######################################################################################\n",
            "\n",
            "\n",
            "initializing\n",
            "Note: online_url is deprecated and will be removed in a future release. Use serving_urls instead.\n",
            ".\n",
            "ready\n",
            "\n",
            "\n",
            "------------------------------------------------------------------------------------------------\n",
            "Successfully finished deployment creation, deployment_uid='0dac350e-7d32-4ff8-a81a-da242d811a6d'\n",
            "------------------------------------------------------------------------------------------------\n",
            "\n",
            "\n"
          ]
        }
      ],
      "source": [
        "deployment_details = client.deployments.create(model_uid, meta_props, background_mode=False)"
      ]
    },
    {
      "cell_type": "markdown",
      "metadata": {
        "pycharm": {
          "name": "#%% md\n"
        }
      },
      "source": [
        "**Note**: Here we use deployment url saved in published_model object. In next section, we show how to retrieve deployment url from Watson Machine Learning instance.\n",
        "\n"
      ]
    },
    {
      "cell_type": "code",
      "execution_count": 24,
      "metadata": {},
      "outputs": [],
      "source": [
        "deployment_uid = client.deployments.get_id(deployment_details)"
      ]
    },
    {
      "cell_type": "markdown",
      "metadata": {
        "pycharm": {
          "name": "#%% md\n"
        }
      },
      "source": [
        "Now, You can list all deployments."
      ]
    },
    {
      "cell_type": "code",
      "execution_count": null,
      "metadata": {},
      "outputs": [],
      "source": [
        "client.deployments.list()"
      ]
    },
    {
      "cell_type": "markdown",
      "metadata": {
        "pycharm": {
          "name": "#%% md\n"
        }
      },
      "source": [
        "### 5.2 Get deployment details"
      ]
    },
    {
      "cell_type": "code",
      "execution_count": null,
      "metadata": {
        "pycharm": {
          "name": "#%%\n"
        }
      },
      "outputs": [],
      "source": [
        "client.deployments.get_details(deployment_uid)"
      ]
    },
    {
      "cell_type": "markdown",
      "metadata": {
        "pycharm": {
          "name": "#%% md\n"
        }
      },
      "source": [
        "<a id=\"score\"></a>\n",
        "## 6. Score the model\n",
        "Let's see if our deployment works.\n"
      ]
    },
    {
      "cell_type": "markdown",
      "metadata": {},
      "source": [
        "You can use below method to do test scoring request against deployed model.\n",
        "\n"
      ]
    },
    {
      "cell_type": "code",
      "execution_count": 26,
      "metadata": {
        "pycharm": {
          "name": "#%%\n"
        }
      },
      "outputs": [],
      "source": [
        "deployment_id = client.deployments.get_id(deployment_details)"
      ]
    },
    {
      "cell_type": "code",
      "execution_count": 27,
      "metadata": {
        "pycharm": {
          "name": "#%%\n"
        }
      },
      "outputs": [
        {
          "data": {
            "text/plain": [
              "'0dac350e-7d32-4ff8-a81a-da242d811a6d'"
            ]
          },
          "execution_count": 27,
          "metadata": {},
          "output_type": "execute_result"
        }
      ],
      "source": [
        "deployment_id"
      ]
    },
    {
      "cell_type": "markdown",
      "metadata": {
        "pycharm": {
          "name": "#%% md\n"
        }
      },
      "source": [
        "**Action**: Prepare scoring payload with records to score."
      ]
    },
    {
      "cell_type": "code",
      "execution_count": 28,
      "metadata": {},
      "outputs": [
        {
          "name": "stdout",
          "output_type": "stream",
          "text": [
            "[  0   0   0   0   0   0   0   0   0   0   0   0   0   0   0   0   0   0\n",
            "   0   0   0   0   0   0   0   0   0   0   0   0   4  43  19   3 242  25\n",
            " 235   6  22 353   1 237  12  10   8 107  14  34   5  56]\n",
            "1\n"
          ]
        }
      ],
      "source": [
        "index = 5\n",
        "\n",
        "scoring_data = X[index].tolist()\n",
        "print(X_test[index])\n",
        "print(Y_test[index])"
      ]
    },
    {
      "cell_type": "code",
      "execution_count": 29,
      "metadata": {},
      "outputs": [],
      "source": [
        "scoring_payload = {client.deployments.ScoringMetaNames.INPUT_DATA:\n",
        "    [\n",
        "        {\n",
        "        'values': [scoring_data]\n",
        "        }\n",
        "   ]\n",
        "}"
      ]
    },
    {
      "cell_type": "code",
      "execution_count": 30,
      "metadata": {},
      "outputs": [],
      "source": [
        "scores = client.deployments.score(deployment_id, scoring_payload)"
      ]
    },
    {
      "cell_type": "markdown",
      "metadata": {
        "pycharm": {
          "name": "#%% md\n"
        }
      },
      "source": [
        "Let's print the scoring results."
      ]
    },
    {
      "cell_type": "code",
      "execution_count": 31,
      "metadata": {
        "pycharm": {
          "name": "#%%\n"
        }
      },
      "outputs": [
        {
          "name": "stdout",
          "output_type": "stream",
          "text": [
            "{'predictions': [{'id': 'dense', 'fields': ['prediction', 'prediction_classes', 'probability'], 'values': [[[0.0003279447555541992], [0], [0.0003279447555541992]]]}]}\n"
          ]
        }
      ],
      "source": [
        "print(str(scores))"
      ]
    },
    {
      "cell_type": "markdown",
      "metadata": {},
      "source": [
        "<a id=\"ai_function\"></a>\n",
        "## 7. Define, store and deploy Python function\n",
        "Let's define a function that does data preprocessing and model scoring. As we saw in the previous cells, the model expects numerical input, so the text comment needs to be preprocessed."
      ]
    },
    {
      "cell_type": "markdown",
      "metadata": {
        "pycharm": {
          "name": "#%% md\n"
        }
      },
      "source": [
        "### 7.1 Define generic parameters"
      ]
    },
    {
      "cell_type": "code",
      "execution_count": 32,
      "metadata": {},
      "outputs": [],
      "source": [
        "ai_params = {\n",
        "    'deployment_id': deployment_id,\n",
        "    'wml_credentials': wml_credentials,\n",
        "    'word_index': tokenizer.word_index,\n",
        "    'space_id': space_id\n",
        "}"
      ]
    },
    {
      "cell_type": "code",
      "execution_count": 33,
      "metadata": {},
      "outputs": [],
      "source": [
        "def score_generator(params=ai_params):\n",
        "    import re\n",
        "    from ibm_watson_machine_learning import APIClient\n",
        "    client = APIClient(params['wml_credentials'])\n",
        "    client.set.default_space(params['space_id'])\n",
        "    def score(payload):\n",
        "        max_fatures = 500\n",
        "        maxlen = 50\n",
        "        preprocessed_records = []\n",
        "        complain_data = payload['input_data'][0]['values']\n",
        "        word_index = params['word_index']\n",
        "        for data in complain_data:\n",
        "            comment = data[0]\n",
        "            cleanString = re.sub(r\"[!\\\"#$%&()*+,-./:;<=>?@[\\]^_`{|}~]\", \"\", comment)\n",
        "            splitted_comment = cleanString.split()[:maxlen]\n",
        "            hashed_tokens = []\n",
        "            for token in splitted_comment:\n",
        "                index = word_index.get(token, 0)\n",
        "                if index < 501 and index > 0:\n",
        "                    hashed_tokens.append(index)\n",
        "            hashed_tokens_size = len(hashed_tokens)\n",
        "            padded_tokens = [0]*(maxlen-hashed_tokens_size) + hashed_tokens\n",
        "            preprocessed_records.append(padded_tokens)\n",
        "        scoring_payload = {'values': preprocessed_records}\n",
        "        scoring_payload = {client.deployments.ScoringMetaNames.INPUT_DATA: [scoring_payload]}\n",
        "        return client.deployments.score(params['deployment_id'], scoring_payload)\n",
        "    return score"
      ]
    },
    {
      "cell_type": "markdown",
      "metadata": {
        "pycharm": {
          "name": "#%% md\n"
        }
      },
      "source": [
        "#### Test the function locally\n"
      ]
    },
    {
      "cell_type": "code",
      "execution_count": 34,
      "metadata": {
        "pycharm": {
          "name": "#%%\n"
        }
      },
      "outputs": [],
      "source": [
        "sample_payload = {\n",
        "    \"input_data\": [\n",
        "        {\n",
        "            \"fields\": [\"feedback\"],\n",
        "            \"values\": [['delayed shuttle, almost missed flight, bad customer service'],['The car was great and they were able to provide all features I wanted with limited time they had.']]\n",
        "        }       \n",
        "    ]\n",
        "}"
      ]
    },
    {
      "cell_type": "code",
      "execution_count": 35,
      "metadata": {},
      "outputs": [
        {
          "name": "stdout",
          "output_type": "stream",
          "text": [
            "{'input_data': [{'fields': ['feedback'], 'values': [['delayed shuttle, almost missed flight, bad customer service'], ['The car was great and they were able to provide all features I wanted with limited time they had.']]}]}\n"
          ]
        }
      ],
      "source": [
        "print(sample_payload)"
      ]
    },
    {
      "cell_type": "code",
      "execution_count": 36,
      "metadata": {},
      "outputs": [
        {
          "name": "stdout",
          "output_type": "stream",
          "text": [
            "{'predictions': [{'id': 'dense', 'fields': ['prediction', 'prediction_classes', 'probability'], 'values': [[[0.0011971890926361084], [0], [0.0011971890926361084]], [[0.9994399547576904], [1], [0.9994399547576904]]]}]}\n"
          ]
        }
      ],
      "source": [
        "score = score_generator()\n",
        "score_ai = score(sample_payload)\n",
        "print(score_ai)"
      ]
    },
    {
      "cell_type": "markdown",
      "metadata": {
        "pycharm": {
          "name": "#%% md\n"
        }
      },
      "source": [
        "**Note:** 0 - not satisfied. 1 - satisfied"
      ]
    },
    {
      "cell_type": "markdown",
      "metadata": {},
      "source": [
        "### 7.2 Store the function"
      ]
    },
    {
      "cell_type": "code",
      "execution_count": 37,
      "metadata": {},
      "outputs": [
        {
          "data": {
            "text/plain": [
              "'ab9e1b80-f2ce-592c-a7d2-4f2344f77194'"
            ]
          },
          "execution_count": 37,
          "metadata": {},
          "output_type": "execute_result"
        }
      ],
      "source": [
        "software_spec_id = client.software_specifications.get_id_by_name(\"runtime-22.1-py3.9\")\n",
        "software_spec_id "
      ]
    },
    {
      "cell_type": "code",
      "execution_count": 38,
      "metadata": {
        "pycharm": {
          "name": "#%%\n"
        }
      },
      "outputs": [],
      "source": [
        "meta_data = {\n",
        "    client.repository.FunctionMetaNames.NAME: 'CARS4U - Satisfaction Prediction - AI Function',\n",
        "    client.repository.FunctionMetaNames.SOFTWARE_SPEC_UID: software_spec_id,\n",
        "}\n",
        "\n",
        "function_details = client.repository.store_function(score_generator, meta_data)"
      ]
    },
    {
      "cell_type": "code",
      "execution_count": null,
      "metadata": {
        "pycharm": {
          "name": "#%%\n"
        }
      },
      "outputs": [],
      "source": [
        "client.repository.list_functions()"
      ]
    },
    {
      "cell_type": "markdown",
      "metadata": {},
      "source": [
        "### 7.3 Deploy the function"
      ]
    },
    {
      "cell_type": "code",
      "execution_count": null,
      "metadata": {},
      "outputs": [],
      "source": [
        "function_uid = client.repository.get_function_id(function_details)\n",
        "published_function_id = client.repository.get_function_id(function_details)\n",
        "client.repository.get_function_details(function_uid)"
      ]
    },
    {
      "cell_type": "code",
      "execution_count": 40,
      "metadata": {
        "pycharm": {
          "name": "#%%\n"
        }
      },
      "outputs": [],
      "source": [
        "meta_data = {\n",
        "    client.deployments.ConfigurationMetaNames.NAME: 'CARS4U - Satisfaction Prediction - AI Function Deployment',\n",
        "    client.deployments.ConfigurationMetaNames.ONLINE: {}\n",
        "}"
      ]
    },
    {
      "cell_type": "code",
      "execution_count": 41,
      "metadata": {
        "pycharm": {
          "name": "#%%\n"
        }
      },
      "outputs": [
        {
          "name": "stdout",
          "output_type": "stream",
          "text": [
            "\n",
            "\n",
            "#######################################################################################\n",
            "\n",
            "Synchronous deployment creation for uid: 'b86a09b6-95f2-4527-b1e1-7a46413a9709' started\n",
            "\n",
            "#######################################################################################\n",
            "\n",
            "\n",
            "initializing\n",
            "Note: online_url is deprecated and will be removed in a future release. Use serving_urls instead.\n",
            "..\n",
            "ready\n",
            "\n",
            "\n",
            "------------------------------------------------------------------------------------------------\n",
            "Successfully finished deployment creation, deployment_uid='db55dd81-5dde-418b-ad3e-57032c00d369'\n",
            "------------------------------------------------------------------------------------------------\n",
            "\n",
            "\n"
          ]
        }
      ],
      "source": [
        "function_deployment_details = client.deployments.create(published_function_id,meta_data)"
      ]
    },
    {
      "cell_type": "markdown",
      "metadata": {},
      "source": [
        "### 7.4 Score function"
      ]
    },
    {
      "cell_type": "code",
      "execution_count": 42,
      "metadata": {
        "pycharm": {
          "name": "#%%\n"
        }
      },
      "outputs": [
        {
          "name": "stdout",
          "output_type": "stream",
          "text": [
            "db55dd81-5dde-418b-ad3e-57032c00d369\n",
            "{\n",
            "   \"predictions\": [\n",
            "      {\n",
            "         \"id\": \"dense\",\n",
            "         \"fields\": [\n",
            "            \"prediction\",\n",
            "            \"prediction_classes\",\n",
            "            \"probability\"\n",
            "         ],\n",
            "         \"values\": [\n",
            "            [\n",
            "               [\n",
            "                  0.0011971890926361084\n",
            "               ],\n",
            "               [\n",
            "                  0\n",
            "               ],\n",
            "               [\n",
            "                  0.0011971890926361084\n",
            "               ]\n",
            "            ],\n",
            "            [\n",
            "               [\n",
            "                  0.9994399547576904\n",
            "               ],\n",
            "               [\n",
            "                  1\n",
            "               ],\n",
            "               [\n",
            "                  0.9994399547576904\n",
            "               ]\n",
            "            ]\n",
            "         ]\n",
            "      }\n",
            "   ]\n",
            "}\n"
          ]
        }
      ],
      "source": [
        "import json\n",
        "print(function_deployment_details['metadata']['id'])\n",
        "scoring_response = client.deployments.score(function_deployment_details['metadata']['id'], sample_payload)\n",
        "\n",
        "print(json.dumps(scoring_response, indent=3))"
      ]
    },
    {
      "cell_type": "markdown",
      "metadata": {},
      "source": [
        "<a id=\"cleanup\"></a>\n",
        "## 8. Clean up "
      ]
    },
    {
      "cell_type": "markdown",
      "metadata": {},
      "source": [
        "If you want to clean up all created assets:\n",
        "- experiments\n",
        "- trainings\n",
        "- pipelines\n",
        "- model definitions\n",
        "- models\n",
        "- functions\n",
        "- deployments\n",
        "\n",
        "please follow up this sample [notebook](https://github.com/IBM/watson-machine-learning-samples/blob/master/cpd4.0/notebooks/python_sdk/instance-management/Machine%20Learning%20artifacts%20management.ipynb)."
      ]
    },
    {
      "cell_type": "markdown",
      "metadata": {
        "pycharm": {
          "name": "#%% md\n"
        }
      },
      "source": [
        "<a id=\"summary\"></a>\n",
        "## 9. Summary and next steps\n",
        "\n",
        "You successfully completed this notebook! You learned how to use Keras machine learning library as well as Watson Machine Learning for model creation and deployment.\n",
        "\n",
        "Check out our [Online Documentation](https://dataplatform.cloud.ibm.com/docs/content/analyze-data/wml-setup.html) for more samples, tutorials, documentation, how-tos, and blog posts. \n",
        "\n",
        "### Authors\n",
        "\n",
        "**Wojciech Jargielo**, Software Engineer\n",
        "\n",
        "Copyright © 2020-2025 IBM. This notebook and its source code are released under the terms of the MIT License.\n",
        "\n"
      ]
    }
  ],
  "metadata": {
    "kernelspec": {
      "display_name": "Python 3 (ipykernel)",
      "language": "python",
      "name": "python3"
    },
    "language_info": {
      "codemirror_mode": {
        "name": "ipython",
        "version": 3
      },
      "file_extension": ".py",
      "mimetype": "text/x-python",
      "name": "python",
      "nbconvert_exporter": "python",
      "pygments_lexer": "ipython3",
      "version": "3.9.11"
    }
  },
  "nbformat": 4,
  "nbformat_minor": 4
}
