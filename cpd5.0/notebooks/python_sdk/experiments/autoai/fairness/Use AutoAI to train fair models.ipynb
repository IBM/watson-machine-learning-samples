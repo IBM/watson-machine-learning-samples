{
 "cells": [
  {
   "cell_type": "markdown",
   "metadata": {
    "pycharm": {
     "name": "#%% md\n"
    }
   },
   "source": [
    "# Bias detection and mitigation in AutoAI"
   ]
  },
  {
   "cell_type": "markdown",
   "metadata": {
    "pycharm": {
     "name": "#%% md\n"
    }
   },
   "source": [
    "This notebook contains the steps and code to demonstrate support of AutoAI experiments with bias detection/mitigation in Watson Machine Learning service. It introduces commands for data retrieval, training experiments, persisting pipelines, testing pipelines and scoring.\n",
    "\n",
    "Some familiarity with Python is helpful. This notebook uses Python 3.11.\n",
    "\n",
    "\n",
    "## Learning goals\n",
    "\n",
    "The learning goals of this notebook are:\n",
    "\n",
    "-  Work with Watson Machine Learning experiment to train AutoAI models with bias detection and mitigation.\n",
    "-  Compare trained models quality and fairness.\n",
    "\n",
    "\n",
    "## Contents\n",
    "\n",
    "This notebook contains the following parts:\n",
    "\n",
    "1. [Setup](#setup)\n",
    "2. [Optimizer definition](#definition)\n",
    "3. [Bias detection and mitigation](#run)\n",
    "4. [Inspection of pipelines](#scoring)\n",
    "5. [Cleanup](#cleanup)\n",
    "6. [Summary and next steps](#summary)"
   ]
  },
  {
   "cell_type": "markdown",
   "metadata": {
    "pycharm": {
     "name": "#%% md\n"
    }
   },
   "source": [
    "<a id=\"setup\"></a>\n",
    "## 1. Set up the environment\n",
    "\n",
    "Before you use the sample code in this notebook, you must perform the following setup tasks:\n",
    "\n",
    "-  Contact with your Cloud Pack for Data administrator and ask him for your account credentials"
   ]
  },
  {
   "cell_type": "markdown",
   "metadata": {},
   "source": [
    "### Install and import the `ibm-watsonx-ai` and dependecies\n",
    "**Note:** `ibm-watsonx-ai` documentation can be found <a href=\"https://ibm.github.io/watsonx-ai-python-sdk/index.html\" target=\"_blank\" rel=\"noopener no referrer\">here</a>."
   ]
  },
  {
   "cell_type": "code",
   "execution_count": null,
   "metadata": {},
   "outputs": [],
   "source": [
    "!pip install wget | tail -n 1\n",
    "!pip install -U autoai-libs | tail -n 1\n",
    "!pip install -U ibm-watsonx-ai | tail -n 1\n",
    "!pip install scikit-learn==1.3.0 | tail -n 1\n",
    "!pip install -U 'lale[fairness]>=0.8.2' | tail -n 1"
   ]
  },
  {
   "cell_type": "markdown",
   "metadata": {
    "pycharm": {
     "name": "#%% md\n"
    }
   },
   "source": [
    "### Connection to WML\n",
    "\n",
    "Authenticate the Watson Machine Learning service on IBM Cloud Pack for Data. You need to provide platform `url`, your `username` and `api_key`."
   ]
  },
  {
   "cell_type": "code",
   "execution_count": 1,
   "metadata": {
    "pycharm": {
     "name": "#%%\n"
    }
   },
   "outputs": [],
   "source": [
    "username = 'PASTE YOUR USERNAME HERE'\n",
    "api_key = 'PASTE YOUR API_KEY HERE'\n",
    "url = 'PASTE THE PLATFORM URL HERE'"
   ]
  },
  {
   "cell_type": "code",
   "execution_count": 2,
   "metadata": {
    "pycharm": {
     "name": "#%%\n"
    }
   },
   "outputs": [],
   "source": [
    "from ibm_watsonx_ai import Credentials\n",
    "\n",
    "credentials = Credentials(\n",
    "    username=username,\n",
    "    api_key=api_key,\n",
    "    url=url,\n",
    "    instance_id=\"openshift\",\n",
    "    version=\"5.0\"\n",
    ")"
   ]
  },
  {
   "cell_type": "markdown",
   "metadata": {
    "pycharm": {
     "name": "#%% md\n"
    }
   },
   "source": [
    "Alternatively you can use `username` and `password` to authenticate WML services.\n",
    "\n",
    "```python\n",
    "credentials = Credentials(\n",
    "    username=***,\n",
    "    password=***,\n",
    "    url=***,\n",
    "    instance_id=\"openshift\",\n",
    "    version=\"5.0\"\n",
    ")\n",
    "\n",
    "```"
   ]
  },
  {
   "cell_type": "markdown",
   "metadata": {
    "pycharm": {
     "name": "#%% md\n"
    }
   },
   "source": [
    "### Working with spaces\n",
    "\n",
    "First of all, you need to create a space that will be used for your work. If you do not have space already created, you can use `{PLATFORM_URL}/ml-runtime/spaces?context=icp4data` to create one.\n",
    "\n",
    "- Click New Deployment Space\n",
    "- Create an empty space\n",
    "- Go to space `Settings` tab\n",
    "- Copy `space_id` and paste it below\n",
    "\n",
    "**Tip**: You can also use SDK to prepare the space for your work. More information can be found [here](https://github.com/IBM/watson-machine-learning-samples/blob/master/cpd5.0/notebooks/python_sdk/instance-management/Space%20management.ipynb).\n",
    "\n",
    "**Action**: Assign space ID below\n"
   ]
  },
  {
   "cell_type": "code",
   "execution_count": 3,
   "metadata": {
    "pycharm": {
     "name": "#%%\n"
    }
   },
   "outputs": [],
   "source": [
    "from ibm_watsonx_ai import APIClient\n",
    "\n",
    "client = APIClient(credentials)"
   ]
  },
  {
   "cell_type": "code",
   "execution_count": 4,
   "metadata": {
    "pycharm": {
     "name": "#%% raw\n"
    }
   },
   "outputs": [],
   "source": [
    "space_id = 'PASTE YOUR SPACE ID HERE'"
   ]
  },
  {
   "cell_type": "markdown",
   "metadata": {
    "pycharm": {
     "name": "#%% md\n"
    }
   },
   "source": [
    "You can use `list` method to print all existing spaces.\n",
    "```\n",
    "client.spaces.list(limit=10)\n",
    "```"
   ]
  },
  {
   "cell_type": "code",
   "execution_count": 5,
   "metadata": {
    "pycharm": {
     "name": "#%%\n"
    }
   },
   "outputs": [
    {
     "data": {
      "text/plain": [
       "'SUCCESS'"
      ]
     },
     "execution_count": 5,
     "metadata": {},
     "output_type": "execute_result"
    }
   ],
   "source": [
    "client.set.default_space(space_id)"
   ]
  },
  {
   "cell_type": "markdown",
   "metadata": {
    "pycharm": {
     "name": "#%% md\n"
    }
   },
   "source": [
    "<a id=\"definition\"></a>\n",
    "## Optimizer definition"
   ]
  },
  {
   "cell_type": "markdown",
   "metadata": {
    "pycharm": {
     "name": "#%% md\n"
    }
   },
   "source": [
    "### Training data sets\n",
    "\n",
    "Define connection information to training data CSV file."
   ]
  },
  {
   "cell_type": "markdown",
   "metadata": {
    "pycharm": {
     "name": "#%% md\n"
    }
   },
   "source": [
    "Download training data from git repository."
   ]
  },
  {
   "cell_type": "code",
   "execution_count": 6,
   "metadata": {
    "pycharm": {
     "name": "#%%\n"
    }
   },
   "outputs": [],
   "source": [
    "import wget\n",
    "import os\n",
    "\n",
    "filename = 'german_credit_data_biased_training.csv'\n",
    "\n",
    "url = \"https://github.com/IBM/watson-machine-learning-samples/raw/master/cpd5.0/data/bias/german_credit_data_biased_training.csv\"\n",
    "if not os.path.isfile(filename): \n",
    "    wget.download(url)"
   ]
  },
  {
   "cell_type": "markdown",
   "metadata": {
    "pycharm": {
     "name": "#%% md\n"
    }
   },
   "source": [
    "#### Create data asset"
   ]
  },
  {
   "cell_type": "code",
   "execution_count": 7,
   "metadata": {
    "pycharm": {
     "name": "#%%\n"
    }
   },
   "outputs": [
    {
     "name": "stdout",
     "output_type": "stream",
     "text": [
      "Creating data asset...\n",
      "SUCCESS\n"
     ]
    },
    {
     "data": {
      "text/plain": [
       "{'metadata': {'space_id': 'e8402072-aee5-4fee-8e4f-836a1453ba6d',\n",
       "  'usage': {'last_updated_at': '2024-05-21T11:25:11Z',\n",
       "   'last_updater_id': '1000331001',\n",
       "   'last_update_time': 1716290711056,\n",
       "   'last_accessed_at': '2024-05-21T11:25:11Z',\n",
       "   'last_access_time': 1716290711056,\n",
       "   'last_accessor_id': '1000331001',\n",
       "   'access_count': 0},\n",
       "  'rov': {'mode': 0,\n",
       "   'collaborator_ids': {},\n",
       "   'member_roles': {'1000331001': {'user_iam_id': '1000331001',\n",
       "     'roles': ['OWNER']}}},\n",
       "  'name': 'german_credit_data_biased_training.csv',\n",
       "  'description': '',\n",
       "  'asset_type': 'data_asset',\n",
       "  'origin_country': 'us',\n",
       "  'resource_key': 'german_credit_data_biased_training.csv',\n",
       "  'rating': 0.0,\n",
       "  'total_ratings': 0,\n",
       "  'catalog_id': '82c126ea-17a0-4742-a6cd-08c712cd5473',\n",
       "  'created': 1716290711056,\n",
       "  'created_at': '2024-05-21T11:25:11Z',\n",
       "  'owner_id': '1000331001',\n",
       "  'size': 0,\n",
       "  'version': 2.0,\n",
       "  'asset_state': 'available',\n",
       "  'asset_attributes': ['data_asset'],\n",
       "  'asset_id': 'e1c15f7e-c7c5-44b5-b5ef-89019f94e3f2',\n",
       "  'asset_category': 'USER',\n",
       "  'creator_id': '1000331001',\n",
       "  'guid': 'e1c15f7e-c7c5-44b5-b5ef-89019f94e3f2',\n",
       "  'href': '/v2/assets/e1c15f7e-c7c5-44b5-b5ef-89019f94e3f2?space_id=e8402072-aee5-4fee-8e4f-836a1453ba6d',\n",
       "  'last_updated_at': '2024-05-21T11:25:11Z'},\n",
       " 'entity': {'data_asset': {'mime_type': 'text/csv'}}}"
      ]
     },
     "execution_count": 7,
     "metadata": {},
     "output_type": "execute_result"
    }
   ],
   "source": [
    "asset_details = client.data_assets.create('german_credit_data_biased_training.csv', filename)\n",
    "asset_details"
   ]
  },
  {
   "cell_type": "code",
   "execution_count": 8,
   "metadata": {
    "pycharm": {
     "name": "#%%\n"
    }
   },
   "outputs": [
    {
     "data": {
      "text/plain": [
       "'e1c15f7e-c7c5-44b5-b5ef-89019f94e3f2'"
      ]
     },
     "execution_count": 8,
     "metadata": {},
     "output_type": "execute_result"
    }
   ],
   "source": [
    "client.data_assets.get_id(asset_details)"
   ]
  },
  {
   "cell_type": "code",
   "execution_count": 9,
   "metadata": {
    "pycharm": {
     "name": "#%%\n"
    }
   },
   "outputs": [],
   "source": [
    "from ibm_watsonx_ai.helpers import DataConnection\n",
    "\n",
    "german_credit_risk = DataConnection(data_asset_id=client.data_assets.get_id(asset_details))\n",
    "\n",
    "training_data_reference=[german_credit_risk]"
   ]
  },
  {
   "cell_type": "markdown",
   "metadata": {
    "pycharm": {
     "name": "#%% md\n"
    }
   },
   "source": [
    "### Bias detection and mitigation \n",
    "\n",
    "#### Terms and definitions:\n",
    "\n",
    "`Fairness Attribute` - Bias or fairness is typically measured using some fairness attribute such as Gender, Ethnicity, Age, etc. \n",
    "\n",
    "`Monitored/Reference Group` - Monitored group are those values of fairness attribute for which we want to measure bias. The rest of the values of the fairness attributes are called as reference group. In case of Fairness Attribute=Gender, if we are trying to measure bias against females, then Monitored group is “Female” and Reference group is “Male”.\n",
    "\n",
    "`Favourable/Unfavourable outcome` - An important concept in bias detection is that of favourable and unfavourable outcome of the model. E.g., Claim approved can be considered as a favourable outcome and Claim denied can be considered as an unfavourable outcome.\n",
    "\n",
    "`Disparate Impact` - metric used to measure bias (computed as the ratio of percentage of favourable outcome for the monitored group to the percentage of favourable outcome for the reference group). Bias is said to exist if the disparate impact value is below some threshold.\n",
    "\n",
    "#### Optimizer configuration\n",
    "\n",
    "Provide input information for AutoAI optimizer:\n",
    "- `name` - experiment name\n",
    "- `prediction_type` - type of the problem\n",
    "- `prediction_column` - target column name\n",
    "- `fairness_info` - bias detection configuration\n",
    "- `scoring` - `accuracy_and_disparate_impact` combined optimization metric for both accuracy and fairness. For  regression learning problem the `r2_and_disparate_impact` metric is supported (combines r2 and fairness)."
   ]
  },
  {
   "cell_type": "markdown",
   "metadata": {
    "pycharm": {
     "name": "#%% md\n"
    }
   },
   "source": [
    "#### `fairness_info` definition:\n",
    "\n",
    " - `protected_attributes` (list of dicts) – subset of features for which fairness calculation is desired.\n",
    "     - `feature` - name of feature for which `reference_group` and `monitored_group` are specified.\n",
    "     - `reference_group` and `monitored_group` - monitored group are those values of fairness attribute for which we want to measure bias. The rest of the values of the fairness attribute are reference group.\n",
    "     \n",
    " - `favorable_labels` and `unfavorable_labels` – label values which are considered favorable (i.e. “positive”). `unfavorable_labels` are required when prediction type is regression.  \n",
    "     \n",
    "Examples of supported configuration:\n",
    "```\n",
    "fairness_info = {\n",
    "            \"protected_attributes\": [\n",
    "                {\"feature\": \"Age\", \"reference_group\": [[26, 26], [30, 75]], \n",
    "                                    \"monitored_group\": [[18, 25], [27, 29]]}\n",
    "            ],\n",
    "            \"favorable_labels\": [\"No Risk\"]\n",
    "            }\n",
    "\n",
    "```\n",
    "\n",
    "```\n",
    "fairness_info = {\n",
    "            \"protected_attributes\": [\n",
    "                {\"feature\": \"sex\", \"reference_group\": ['male', 'not specified'], \n",
    "                                   \"monitored_group\": ['female']},\n",
    "                {\"feature\": \"age\", \"reference_group\": [[26, 100]], \"monitored_group\": [[18, 25], [27, 29]]}\n",
    "            ],\n",
    "            \"favorable_labels\": [[5000.01, 9000]],\n",
    "            \"unfavorable_labels\": [[0, 5000], [9000, 1000000]]\n",
    "            }\n",
    "\n",
    "```"
   ]
  },
  {
   "cell_type": "code",
   "execution_count": 10,
   "metadata": {
    "pycharm": {
     "name": "#%%\n"
    }
   },
   "outputs": [],
   "source": [
    "fairness_info = {\n",
    "            \"protected_attributes\": [\n",
    "                {\"feature\": \"Sex\", \"reference_group\": ['male'], \"monitored_group\": ['female']},\n",
    "                {\"feature\": \"Age\", \"reference_group\": [[26, 75]], \"monitored_group\": [[18, 25]]}\n",
    "            ],\n",
    "            \"favorable_labels\": [\"No Risk\"],\n",
    "            \"unfavorable_labels\": [\"Risk\"],\n",
    "}"
   ]
  },
  {
   "cell_type": "code",
   "execution_count": 15,
   "metadata": {
    "pycharm": {
     "is_executing": false,
     "name": "#%%\n"
    }
   },
   "outputs": [],
   "source": [
    "from ibm_watsonx_ai.experiment import AutoAI\n",
    "\n",
    "experiment = AutoAI(credentials, space_id=space_id)\n",
    "\n",
    "pipeline_optimizer = experiment.optimizer(\n",
    "    name='Credit Risk Prediction and bias detection - AutoAI',\n",
    "    prediction_type=AutoAI.PredictionType.BINARY,\n",
    "    prediction_column='Risk',\n",
    "    scoring='accuracy_and_disparate_impact',\n",
    "    fairness_info=fairness_info,\n",
    "    max_number_of_estimators = 1,\n",
    "    retrain_on_holdout=False,\n",
    "    include_only_estimators=[\"XGBClassifier\"]\n",
    "   )"
   ]
  },
  {
   "cell_type": "markdown",
   "metadata": {
    "pycharm": {
     "name": "#%% md\n"
    }
   },
   "source": [
    "<a id=\"run\"></a>\n",
    "## Experiment run\n",
    "\n",
    "Call the `fit()` method to trigger the AutoAI experiment. You can either use interactive mode (synchronous job) or background mode (asychronous job) by specifying `background_model=True`."
   ]
  },
  {
   "cell_type": "code",
   "execution_count": 16,
   "metadata": {
    "pycharm": {
     "is_executing": false,
     "name": "#%%\n"
    }
   },
   "outputs": [
    {
     "name": "stdout",
     "output_type": "stream",
     "text": [
      "Training job aa651e79-447e-4199-bbed-588951d2f2a4 completed: 100%|████████| [02:04<00:00,  1.25s/it]\n"
     ]
    }
   ],
   "source": [
    "run_details = pipeline_optimizer.fit(\n",
    "            training_data_reference=training_data_reference,\n",
    "            background_mode=False)"
   ]
  },
  {
   "cell_type": "markdown",
   "metadata": {
    "pycharm": {
     "name": "#%% md\n"
    }
   },
   "source": [
    "You can use the `get_run_status()` method to monitor AutoAI jobs in background mode."
   ]
  },
  {
   "cell_type": "markdown",
   "metadata": {
    "pycharm": {
     "name": "#%% md\n"
    }
   },
   "source": [
    "### Get selected pipeline model\n",
    "\n",
    "Download and reconstruct a scikit-learn pipeline model object from the\n",
    "AutoAI training job."
   ]
  },
  {
   "cell_type": "code",
   "execution_count": 17,
   "metadata": {
    "pycharm": {
     "name": "#%%\n"
    }
   },
   "outputs": [
    {
     "data": {
      "text/html": [
       "<div>\n",
       "<style scoped>\n",
       "    .dataframe tbody tr th:only-of-type {\n",
       "        vertical-align: middle;\n",
       "    }\n",
       "\n",
       "    .dataframe tbody tr th {\n",
       "        vertical-align: top;\n",
       "    }\n",
       "\n",
       "    .dataframe thead th {\n",
       "        text-align: right;\n",
       "    }\n",
       "</style>\n",
       "<table border=\"1\" class=\"dataframe\">\n",
       "  <thead>\n",
       "    <tr style=\"text-align: right;\">\n",
       "      <th></th>\n",
       "      <th>Enhancements</th>\n",
       "      <th>Estimator</th>\n",
       "      <th>training_accuracy_and_disparate_impact_(optimized)</th>\n",
       "      <th>training_disparate_impact_Sex</th>\n",
       "      <th>training_roc_auc</th>\n",
       "      <th>holdout_disparate_impact_Sex</th>\n",
       "      <th>holdout_average_precision</th>\n",
       "      <th>holdout_log_loss</th>\n",
       "      <th>holdout_roc_auc</th>\n",
       "      <th>training_disparate_impact</th>\n",
       "      <th>...</th>\n",
       "      <th>holdout_accuracy</th>\n",
       "      <th>holdout_balanced_accuracy</th>\n",
       "      <th>training_recall</th>\n",
       "      <th>holdout_f1</th>\n",
       "      <th>training_accuracy</th>\n",
       "      <th>holdout_disparate_impact</th>\n",
       "      <th>training_balanced_accuracy</th>\n",
       "      <th>holdout_disparate_impact_Age</th>\n",
       "      <th>training_f1</th>\n",
       "      <th>training_disparate_impact_Age</th>\n",
       "    </tr>\n",
       "    <tr>\n",
       "      <th>Pipeline Name</th>\n",
       "      <th></th>\n",
       "      <th></th>\n",
       "      <th></th>\n",
       "      <th></th>\n",
       "      <th></th>\n",
       "      <th></th>\n",
       "      <th></th>\n",
       "      <th></th>\n",
       "      <th></th>\n",
       "      <th></th>\n",
       "      <th></th>\n",
       "      <th></th>\n",
       "      <th></th>\n",
       "      <th></th>\n",
       "      <th></th>\n",
       "      <th></th>\n",
       "      <th></th>\n",
       "      <th></th>\n",
       "      <th></th>\n",
       "      <th></th>\n",
       "      <th></th>\n",
       "    </tr>\n",
       "  </thead>\n",
       "  <tbody>\n",
       "    <tr>\n",
       "      <th>Pipeline_1</th>\n",
       "      <td></td>\n",
       "      <td>XGBClassifier</td>\n",
       "      <td>0.676887</td>\n",
       "      <td>1.009581</td>\n",
       "      <td>0.846120</td>\n",
       "      <td>1.046499</td>\n",
       "      <td>0.480936</td>\n",
       "      <td>0.419151</td>\n",
       "      <td>0.855620</td>\n",
       "      <td>1.825512</td>\n",
       "      <td>...</td>\n",
       "      <td>0.811623</td>\n",
       "      <td>0.754275</td>\n",
       "      <td>0.894970</td>\n",
       "      <td>0.867606</td>\n",
       "      <td>0.796567</td>\n",
       "      <td>1.431694</td>\n",
       "      <td>0.748223</td>\n",
       "      <td>1.426056</td>\n",
       "      <td>0.853965</td>\n",
       "      <td>2.329145</td>\n",
       "    </tr>\n",
       "    <tr>\n",
       "      <th>Pipeline_2</th>\n",
       "      <td>HPO</td>\n",
       "      <td>XGBClassifier</td>\n",
       "      <td>0.676887</td>\n",
       "      <td>1.009581</td>\n",
       "      <td>0.846120</td>\n",
       "      <td>1.046499</td>\n",
       "      <td>0.480936</td>\n",
       "      <td>0.419151</td>\n",
       "      <td>0.855620</td>\n",
       "      <td>1.825512</td>\n",
       "      <td>...</td>\n",
       "      <td>0.811623</td>\n",
       "      <td>0.754275</td>\n",
       "      <td>0.894970</td>\n",
       "      <td>0.867606</td>\n",
       "      <td>0.796567</td>\n",
       "      <td>1.431694</td>\n",
       "      <td>0.748223</td>\n",
       "      <td>1.426056</td>\n",
       "      <td>0.853965</td>\n",
       "      <td>2.329145</td>\n",
       "    </tr>\n",
       "    <tr>\n",
       "      <th>Pipeline_3</th>\n",
       "      <td>HPO, FE</td>\n",
       "      <td>XGBClassifier</td>\n",
       "      <td>0.681126</td>\n",
       "      <td>1.009843</td>\n",
       "      <td>0.846576</td>\n",
       "      <td>1.057825</td>\n",
       "      <td>0.481095</td>\n",
       "      <td>0.416944</td>\n",
       "      <td>0.855187</td>\n",
       "      <td>1.787199</td>\n",
       "      <td>...</td>\n",
       "      <td>0.809619</td>\n",
       "      <td>0.755745</td>\n",
       "      <td>0.892283</td>\n",
       "      <td>0.865248</td>\n",
       "      <td>0.795004</td>\n",
       "      <td>1.463687</td>\n",
       "      <td>0.747200</td>\n",
       "      <td>1.451613</td>\n",
       "      <td>0.852646</td>\n",
       "      <td>2.286728</td>\n",
       "    </tr>\n",
       "    <tr>\n",
       "      <th>Pipeline_4</th>\n",
       "      <td>HPO, FE, HPO</td>\n",
       "      <td>XGBClassifier</td>\n",
       "      <td>0.681126</td>\n",
       "      <td>1.009843</td>\n",
       "      <td>0.846576</td>\n",
       "      <td>1.057825</td>\n",
       "      <td>0.481095</td>\n",
       "      <td>0.416944</td>\n",
       "      <td>0.855187</td>\n",
       "      <td>1.787199</td>\n",
       "      <td>...</td>\n",
       "      <td>0.809619</td>\n",
       "      <td>0.755745</td>\n",
       "      <td>0.892283</td>\n",
       "      <td>0.865248</td>\n",
       "      <td>0.795004</td>\n",
       "      <td>1.463687</td>\n",
       "      <td>0.747200</td>\n",
       "      <td>1.451613</td>\n",
       "      <td>0.852646</td>\n",
       "      <td>2.286728</td>\n",
       "    </tr>\n",
       "    <tr>\n",
       "      <th>Pipeline_5</th>\n",
       "      <td>HPO, FE, HPO, Ensemble</td>\n",
       "      <td>BatchedTreeEnsembleClassifier(XGBClassifier)</td>\n",
       "      <td>0.681126</td>\n",
       "      <td>1.009843</td>\n",
       "      <td>0.846576</td>\n",
       "      <td>1.057825</td>\n",
       "      <td>0.481095</td>\n",
       "      <td>0.416944</td>\n",
       "      <td>0.855187</td>\n",
       "      <td>1.787199</td>\n",
       "      <td>...</td>\n",
       "      <td>0.809619</td>\n",
       "      <td>0.755745</td>\n",
       "      <td>0.892283</td>\n",
       "      <td>0.865248</td>\n",
       "      <td>0.795004</td>\n",
       "      <td>1.463687</td>\n",
       "      <td>0.747200</td>\n",
       "      <td>1.451613</td>\n",
       "      <td>0.852646</td>\n",
       "      <td>2.286728</td>\n",
       "    </tr>\n",
       "  </tbody>\n",
       "</table>\n",
       "<p>5 rows × 26 columns</p>\n",
       "</div>"
      ],
      "text/plain": [
       "                         Enhancements  \\\n",
       "Pipeline Name                           \n",
       "Pipeline_1                              \n",
       "Pipeline_2                        HPO   \n",
       "Pipeline_3                    HPO, FE   \n",
       "Pipeline_4               HPO, FE, HPO   \n",
       "Pipeline_5     HPO, FE, HPO, Ensemble   \n",
       "\n",
       "                                                  Estimator  \\\n",
       "Pipeline Name                                                 \n",
       "Pipeline_1                                    XGBClassifier   \n",
       "Pipeline_2                                    XGBClassifier   \n",
       "Pipeline_3                                    XGBClassifier   \n",
       "Pipeline_4                                    XGBClassifier   \n",
       "Pipeline_5     BatchedTreeEnsembleClassifier(XGBClassifier)   \n",
       "\n",
       "               training_accuracy_and_disparate_impact_(optimized)  \\\n",
       "Pipeline Name                                                       \n",
       "Pipeline_1                                              0.676887    \n",
       "Pipeline_2                                              0.676887    \n",
       "Pipeline_3                                              0.681126    \n",
       "Pipeline_4                                              0.681126    \n",
       "Pipeline_5                                              0.681126    \n",
       "\n",
       "               training_disparate_impact_Sex  training_roc_auc  \\\n",
       "Pipeline Name                                                    \n",
       "Pipeline_1                          1.009581          0.846120   \n",
       "Pipeline_2                          1.009581          0.846120   \n",
       "Pipeline_3                          1.009843          0.846576   \n",
       "Pipeline_4                          1.009843          0.846576   \n",
       "Pipeline_5                          1.009843          0.846576   \n",
       "\n",
       "               holdout_disparate_impact_Sex  holdout_average_precision  \\\n",
       "Pipeline Name                                                            \n",
       "Pipeline_1                         1.046499                   0.480936   \n",
       "Pipeline_2                         1.046499                   0.480936   \n",
       "Pipeline_3                         1.057825                   0.481095   \n",
       "Pipeline_4                         1.057825                   0.481095   \n",
       "Pipeline_5                         1.057825                   0.481095   \n",
       "\n",
       "               holdout_log_loss  holdout_roc_auc  training_disparate_impact  \\\n",
       "Pipeline Name                                                                 \n",
       "Pipeline_1             0.419151         0.855620                   1.825512   \n",
       "Pipeline_2             0.419151         0.855620                   1.825512   \n",
       "Pipeline_3             0.416944         0.855187                   1.787199   \n",
       "Pipeline_4             0.416944         0.855187                   1.787199   \n",
       "Pipeline_5             0.416944         0.855187                   1.787199   \n",
       "\n",
       "               ...  holdout_accuracy  holdout_balanced_accuracy  \\\n",
       "Pipeline Name  ...                                                \n",
       "Pipeline_1     ...          0.811623                   0.754275   \n",
       "Pipeline_2     ...          0.811623                   0.754275   \n",
       "Pipeline_3     ...          0.809619                   0.755745   \n",
       "Pipeline_4     ...          0.809619                   0.755745   \n",
       "Pipeline_5     ...          0.809619                   0.755745   \n",
       "\n",
       "               training_recall  holdout_f1  training_accuracy  \\\n",
       "Pipeline Name                                                   \n",
       "Pipeline_1            0.894970    0.867606           0.796567   \n",
       "Pipeline_2            0.894970    0.867606           0.796567   \n",
       "Pipeline_3            0.892283    0.865248           0.795004   \n",
       "Pipeline_4            0.892283    0.865248           0.795004   \n",
       "Pipeline_5            0.892283    0.865248           0.795004   \n",
       "\n",
       "               holdout_disparate_impact  training_balanced_accuracy  \\\n",
       "Pipeline Name                                                         \n",
       "Pipeline_1                     1.431694                    0.748223   \n",
       "Pipeline_2                     1.431694                    0.748223   \n",
       "Pipeline_3                     1.463687                    0.747200   \n",
       "Pipeline_4                     1.463687                    0.747200   \n",
       "Pipeline_5                     1.463687                    0.747200   \n",
       "\n",
       "               holdout_disparate_impact_Age  training_f1  \\\n",
       "Pipeline Name                                              \n",
       "Pipeline_1                         1.426056     0.853965   \n",
       "Pipeline_2                         1.426056     0.853965   \n",
       "Pipeline_3                         1.451613     0.852646   \n",
       "Pipeline_4                         1.451613     0.852646   \n",
       "Pipeline_5                         1.451613     0.852646   \n",
       "\n",
       "               training_disparate_impact_Age  \n",
       "Pipeline Name                                 \n",
       "Pipeline_1                          2.329145  \n",
       "Pipeline_2                          2.329145  \n",
       "Pipeline_3                          2.286728  \n",
       "Pipeline_4                          2.286728  \n",
       "Pipeline_5                          2.286728  \n",
       "\n",
       "[5 rows x 26 columns]"
      ]
     },
     "execution_count": 17,
     "metadata": {},
     "output_type": "execute_result"
    }
   ],
   "source": [
    "experiment_summary = pipeline_optimizer.summary()\n",
    "experiment_summary.head()"
   ]
  },
  {
   "cell_type": "markdown",
   "metadata": {
    "pycharm": {
     "name": "#%% md\n"
    }
   },
   "source": [
    "### Visualize pipeline"
   ]
  },
  {
   "cell_type": "code",
   "execution_count": 18,
   "metadata": {
    "pycharm": {
     "is_executing": false,
     "name": "#%%\n"
    }
   },
   "outputs": [
    {
     "data": {
      "image/svg+xml": [
       "<?xml version=\"1.0\" encoding=\"UTF-8\" standalone=\"no\"?>\n",
       "<!DOCTYPE svg PUBLIC \"-//W3C//DTD SVG 1.1//EN\"\n",
       " \"http://www.w3.org/Graphics/SVG/1.1/DTD/svg11.dtd\">\n",
       "<!-- Generated by graphviz version 10.0.1 (20240210.2158)\n",
       " -->\n",
       "<!-- Title: cluster:(root) Pages: 1 -->\n",
       "<svg width=\"1517pt\" height=\"163pt\"\n",
       " viewBox=\"0.00 0.00 1516.79 163.48\" xmlns=\"http://www.w3.org/2000/svg\" xmlns:xlink=\"http://www.w3.org/1999/xlink\">\n",
       "<g id=\"graph0\" class=\"graph\" transform=\"scale(1 1) rotate(0) translate(4 159.48)\">\n",
       "<title>cluster:(root)</title>\n",
       "<g id=\"a_graph0\"><a xlink:title=\"(root) = ...\">\n",
       "<polygon fill=\"white\" stroke=\"none\" points=\"-4,4 -4,-159.48 1512.79,-159.48 1512.79,4 -4,4\"/>\n",
       "</a>\n",
       "</g>\n",
       "<!-- numpy_column_selector_0 -->\n",
       "<g id=\"node1\" class=\"node\">\n",
       "<title>numpy_column_selector_0</title>\n",
       "<g id=\"a_node1\"><a xlink:href=\"https://lale.readthedocs.io/en/latest/modules/lale.lib.autoai_libs.numpy_column_selector.html\" xlink:title=\"numpy_column_selector_0 = NumpyColumnSelector(columns=[0, 1, 2, 3, 5, 6, 7, 8, 9, 10, 11, 12, 13, 14, 15, 16, 17, 18, 19])\" target=\"_blank\">\n",
       "<ellipse fill=\"white\" stroke=\"black\" cx=\"33.16\" cy=\"-114.24\" rx=\"33.16\" ry=\"31.69\"/>\n",
       "<text text-anchor=\"middle\" x=\"33.16\" y=\"-124.04\" font-family=\"Times,serif\" font-size=\"11.00\">Numpy&#45;</text>\n",
       "<text text-anchor=\"middle\" x=\"33.16\" y=\"-110.54\" font-family=\"Times,serif\" font-size=\"11.00\">Column&#45;</text>\n",
       "<text text-anchor=\"middle\" x=\"33.16\" y=\"-97.04\" font-family=\"Times,serif\" font-size=\"11.00\">Selector</text>\n",
       "</a>\n",
       "</g>\n",
       "</g>\n",
       "<!-- compress_strings -->\n",
       "<g id=\"node2\" class=\"node\">\n",
       "<title>compress_strings</title>\n",
       "<g id=\"a_node2\"><a xlink:href=\"https://lale.readthedocs.io/en/latest/modules/lale.lib.autoai_libs.compress_strings.html\" xlink:title=\"compress_strings = CompressStrings(compress_type=&#39;hash&#39;, dtypes_list=[&#39;char_str&#39;, &#39;float_int_num&#39;, &#39;char_str&#39;, &#39;char_str&#39;, &#39;char_str&#39;, &#39;char_str&#39;, &#39;float_int_num&#39;, &#39;char_str&#39;, &#39;char_str&#39;, &#39;float_int_num&#39;, &#39;char_str&#39;, &#39;float_int_num&#39;, &#39;char_str&#39;, &#39;char_str&#39;, &#39;float_int_num&#39;, &#39;char_str&#39;, ...)\" target=\"_blank\">\n",
       "<ellipse fill=\"white\" stroke=\"black\" cx=\"142.36\" cy=\"-114.24\" rx=\"40.05\" ry=\"22.15\"/>\n",
       "<text text-anchor=\"middle\" x=\"142.36\" y=\"-117.29\" font-family=\"Times,serif\" font-size=\"11.00\">Compress&#45;</text>\n",
       "<text text-anchor=\"middle\" x=\"142.36\" y=\"-103.79\" font-family=\"Times,serif\" font-size=\"11.00\">Strings</text>\n",
       "</a>\n",
       "</g>\n",
       "</g>\n",
       "<!-- numpy_column_selector_0&#45;&gt;compress_strings -->\n",
       "<g id=\"edge1\" class=\"edge\">\n",
       "<title>numpy_column_selector_0&#45;&gt;compress_strings</title>\n",
       "<path fill=\"none\" stroke=\"black\" d=\"M66.61,-114.24C74.15,-114.24 82.36,-114.24 90.48,-114.24\"/>\n",
       "<polygon fill=\"black\" stroke=\"black\" points=\"90.31,-117.74 100.31,-114.24 90.31,-110.74 90.31,-117.74\"/>\n",
       "</g>\n",
       "<!-- numpy_replace_missing_values_0 -->\n",
       "<g id=\"node3\" class=\"node\">\n",
       "<title>numpy_replace_missing_values_0</title>\n",
       "<g id=\"a_node3\"><a xlink:href=\"https://lale.readthedocs.io/en/latest/modules/lale.lib.autoai_libs.numpy_replace_missing_values.html\" xlink:title=\"numpy_replace_missing_values_0 = NumpyReplaceMissingValues(filling_values=float(&#39;nan&#39;), missing_values=[])\" target=\"_blank\">\n",
       "<ellipse fill=\"white\" stroke=\"black\" cx=\"253.16\" cy=\"-114.24\" rx=\"34.75\" ry=\"41.24\"/>\n",
       "<text text-anchor=\"middle\" x=\"253.16\" y=\"-130.79\" font-family=\"Times,serif\" font-size=\"11.00\">Numpy&#45;</text>\n",
       "<text text-anchor=\"middle\" x=\"253.16\" y=\"-117.29\" font-family=\"Times,serif\" font-size=\"11.00\">Replace&#45;</text>\n",
       "<text text-anchor=\"middle\" x=\"253.16\" y=\"-103.79\" font-family=\"Times,serif\" font-size=\"11.00\">Missing&#45;</text>\n",
       "<text text-anchor=\"middle\" x=\"253.16\" y=\"-90.29\" font-family=\"Times,serif\" font-size=\"11.00\">Values</text>\n",
       "</a>\n",
       "</g>\n",
       "</g>\n",
       "<!-- compress_strings&#45;&gt;numpy_replace_missing_values_0 -->\n",
       "<g id=\"edge2\" class=\"edge\">\n",
       "<title>compress_strings&#45;&gt;numpy_replace_missing_values_0</title>\n",
       "<path fill=\"none\" stroke=\"black\" d=\"M182.64,-114.24C190.41,-114.24 198.63,-114.24 206.59,-114.24\"/>\n",
       "<polygon fill=\"black\" stroke=\"black\" points=\"206.47,-117.74 216.47,-114.24 206.47,-110.74 206.47,-117.74\"/>\n",
       "</g>\n",
       "<!-- numpy_replace_unknown_values -->\n",
       "<g id=\"node4\" class=\"node\">\n",
       "<title>numpy_replace_unknown_values</title>\n",
       "<g id=\"a_node4\"><a xlink:href=\"https://lale.readthedocs.io/en/latest/modules/lale.lib.autoai_libs.numpy_replace_unknown_values.html\" xlink:title=\"numpy_replace_unknown_values = NumpyReplaceUnknownValues(filling_values=float(&#39;nan&#39;), filling_values_list=[float(&#39;nan&#39;), 100001, float(&#39;nan&#39;), float(&#39;nan&#39;), float(&#39;nan&#39;), float(&#39;nan&#39;), 100001, float(&#39;nan&#39;), float(&#39;nan&#39;), 100001, float(&#39;nan&#39;), 100001, float(&#39;nan&#39;), float(&#39;nan&#39;), 100001, float(&#39;nan&#39;), 100001, ...)\" target=\"_blank\">\n",
       "<ellipse fill=\"white\" stroke=\"black\" cx=\"362.9\" cy=\"-114.24\" rx=\"38.99\" ry=\"41.24\"/>\n",
       "<text text-anchor=\"middle\" x=\"362.9\" y=\"-130.79\" font-family=\"Times,serif\" font-size=\"11.00\">Numpy&#45;</text>\n",
       "<text text-anchor=\"middle\" x=\"362.9\" y=\"-117.29\" font-family=\"Times,serif\" font-size=\"11.00\">Replace&#45;</text>\n",
       "<text text-anchor=\"middle\" x=\"362.9\" y=\"-103.79\" font-family=\"Times,serif\" font-size=\"11.00\">Unknown&#45;</text>\n",
       "<text text-anchor=\"middle\" x=\"362.9\" y=\"-90.29\" font-family=\"Times,serif\" font-size=\"11.00\">Values</text>\n",
       "</a>\n",
       "</g>\n",
       "</g>\n",
       "<!-- numpy_replace_missing_values_0&#45;&gt;numpy_replace_unknown_values -->\n",
       "<g id=\"edge3\" class=\"edge\">\n",
       "<title>numpy_replace_missing_values_0&#45;&gt;numpy_replace_unknown_values</title>\n",
       "<path fill=\"none\" stroke=\"black\" d=\"M288.25,-114.24C295.88,-114.24 304.12,-114.24 312.23,-114.24\"/>\n",
       "<polygon fill=\"black\" stroke=\"black\" points=\"312.02,-117.74 322.02,-114.24 312.02,-110.74 312.02,-117.74\"/>\n",
       "</g>\n",
       "<!-- boolean2float -->\n",
       "<g id=\"node5\" class=\"node\">\n",
       "<title>boolean2float</title>\n",
       "<g id=\"a_node5\"><a xlink:href=\"https://lale.readthedocs.io/en/latest/modules/lale.lib.autoai_libs.boolean2float.html\" xlink:title=\"boolean2float = boolean2float()\" target=\"_blank\">\n",
       "<ellipse fill=\"white\" stroke=\"black\" cx=\"477.39\" cy=\"-110.24\" rx=\"39.5\" ry=\"18\"/>\n",
       "<text text-anchor=\"middle\" x=\"477.39\" y=\"-106.54\" font-family=\"Times,serif\" font-size=\"11.00\">boolean2float</text>\n",
       "</a>\n",
       "</g>\n",
       "</g>\n",
       "<!-- numpy_replace_unknown_values&#45;&gt;boolean2float -->\n",
       "<g id=\"edge4\" class=\"edge\">\n",
       "<title>numpy_replace_unknown_values&#45;&gt;boolean2float</title>\n",
       "<path fill=\"none\" stroke=\"black\" d=\"M402.3,-112.87C410.08,-112.6 418.38,-112.3 426.5,-112.01\"/>\n",
       "<polygon fill=\"black\" stroke=\"black\" points=\"426.4,-115.52 436.27,-111.67 426.15,-108.52 426.4,-115.52\"/>\n",
       "</g>\n",
       "<!-- cat_imputer -->\n",
       "<g id=\"node6\" class=\"node\">\n",
       "<title>cat_imputer</title>\n",
       "<g id=\"a_node6\"><a xlink:href=\"https://lale.readthedocs.io/en/latest/modules/lale.lib.autoai_libs.cat_imputer.html\" xlink:title=\"cat_imputer = CatImputer(missing_values=float(&#39;nan&#39;), sklearn_version_family=&#39;1&#39;, strategy=&#39;most_frequent&#39;)\" target=\"_blank\">\n",
       "<ellipse fill=\"white\" stroke=\"black\" cx=\"583.39\" cy=\"-108.24\" rx=\"30.5\" ry=\"22.15\"/>\n",
       "<text text-anchor=\"middle\" x=\"583.39\" y=\"-111.29\" font-family=\"Times,serif\" font-size=\"11.00\">Cat&#45;</text>\n",
       "<text text-anchor=\"middle\" x=\"583.39\" y=\"-97.79\" font-family=\"Times,serif\" font-size=\"11.00\">Imputer</text>\n",
       "</a>\n",
       "</g>\n",
       "</g>\n",
       "<!-- boolean2float&#45;&gt;cat_imputer -->\n",
       "<g id=\"edge5\" class=\"edge\">\n",
       "<title>boolean2float&#45;&gt;cat_imputer</title>\n",
       "<path fill=\"none\" stroke=\"black\" d=\"M517.11,-109.49C524.95,-109.34 533.22,-109.18 541.14,-109.03\"/>\n",
       "<polygon fill=\"black\" stroke=\"black\" points=\"540.96,-112.54 550.89,-108.84 540.83,-105.54 540.96,-112.54\"/>\n",
       "</g>\n",
       "<!-- cat_encoder -->\n",
       "<g id=\"node7\" class=\"node\">\n",
       "<title>cat_encoder</title>\n",
       "<g id=\"a_node7\"><a xlink:href=\"https://lale.readthedocs.io/en/latest/modules/lale.lib.autoai_libs.cat_encoder.html\" xlink:title=\"cat_encoder = CatEncoder(dtype=np.float64, handle_unknown=&#39;error&#39;, sklearn_version_family=&#39;1&#39;, encoding=&#39;ordinal&#39;, categories=&#39;auto&#39;)\" target=\"_blank\">\n",
       "<ellipse fill=\"white\" stroke=\"black\" cx=\"686.23\" cy=\"-106.24\" rx=\"32.1\" ry=\"22.15\"/>\n",
       "<text text-anchor=\"middle\" x=\"686.23\" y=\"-109.29\" font-family=\"Times,serif\" font-size=\"11.00\">Cat&#45;</text>\n",
       "<text text-anchor=\"middle\" x=\"686.23\" y=\"-95.79\" font-family=\"Times,serif\" font-size=\"11.00\">Encoder</text>\n",
       "</a>\n",
       "</g>\n",
       "</g>\n",
       "<!-- cat_imputer&#45;&gt;cat_encoder -->\n",
       "<g id=\"edge6\" class=\"edge\">\n",
       "<title>cat_imputer&#45;&gt;cat_encoder</title>\n",
       "<path fill=\"none\" stroke=\"black\" d=\"M614.37,-107.64C623.21,-107.47 633.05,-107.27 642.51,-107.09\"/>\n",
       "<polygon fill=\"black\" stroke=\"black\" points=\"642.35,-110.59 652.27,-106.89 642.21,-103.59 642.35,-110.59\"/>\n",
       "</g>\n",
       "<!-- float32_transform_0 -->\n",
       "<g id=\"node8\" class=\"node\">\n",
       "<title>float32_transform_0</title>\n",
       "<g id=\"a_node8\"><a xlink:href=\"https://lale.readthedocs.io/en/latest/modules/lale.lib.autoai_libs.float32_transform.html\" xlink:title=\"float32_transform_0 = float32_transform()\" target=\"_blank\">\n",
       "<ellipse fill=\"white\" stroke=\"black\" cx=\"794.91\" cy=\"-102.24\" rx=\"36.34\" ry=\"22.15\"/>\n",
       "<text text-anchor=\"middle\" x=\"794.91\" y=\"-105.29\" font-family=\"Times,serif\" font-size=\"11.00\">float32_&#45;</text>\n",
       "<text text-anchor=\"middle\" x=\"794.91\" y=\"-91.79\" font-family=\"Times,serif\" font-size=\"11.00\">transform</text>\n",
       "</a>\n",
       "</g>\n",
       "</g>\n",
       "<!-- cat_encoder&#45;&gt;float32_transform_0 -->\n",
       "<g id=\"edge7\" class=\"edge\">\n",
       "<title>cat_encoder&#45;&gt;float32_transform_0</title>\n",
       "<path fill=\"none\" stroke=\"black\" d=\"M718.66,-105.06C727.49,-104.73 737.28,-104.36 746.81,-104\"/>\n",
       "<polygon fill=\"black\" stroke=\"black\" points=\"746.84,-107.51 756.7,-103.63 746.57,-100.51 746.84,-107.51\"/>\n",
       "</g>\n",
       "<!-- concat_features -->\n",
       "<g id=\"node15\" class=\"node\">\n",
       "<title>concat_features</title>\n",
       "<g id=\"a_node15\"><a xlink:href=\"https://lale.readthedocs.io/en/latest/modules/lale.lib.rasl.concat_features.html\" xlink:title=\"concat_features = ConcatFeatures()\" target=\"_blank\">\n",
       "<ellipse fill=\"white\" stroke=\"black\" cx=\"900.4\" cy=\"-74.24\" rx=\"33.16\" ry=\"22.15\"/>\n",
       "<text text-anchor=\"middle\" x=\"900.4\" y=\"-77.29\" font-family=\"Times,serif\" font-size=\"11.00\">Concat&#45;</text>\n",
       "<text text-anchor=\"middle\" x=\"900.4\" y=\"-63.79\" font-family=\"Times,serif\" font-size=\"11.00\">Features</text>\n",
       "</a>\n",
       "</g>\n",
       "</g>\n",
       "<!-- float32_transform_0&#45;&gt;concat_features -->\n",
       "<g id=\"edge13\" class=\"edge\">\n",
       "<title>float32_transform_0&#45;&gt;concat_features</title>\n",
       "<path fill=\"none\" stroke=\"black\" d=\"M828.65,-93.38C838.12,-90.82 848.57,-87.99 858.47,-85.31\"/>\n",
       "<polygon fill=\"black\" stroke=\"black\" points=\"859.13,-88.76 867.87,-82.77 857.3,-82 859.13,-88.76\"/>\n",
       "</g>\n",
       "<!-- numpy_column_selector_1 -->\n",
       "<g id=\"node9\" class=\"node\">\n",
       "<title>numpy_column_selector_1</title>\n",
       "<g id=\"a_node9\"><a xlink:href=\"https://lale.readthedocs.io/en/latest/modules/lale.lib.autoai_libs.numpy_column_selector.html\" xlink:title=\"numpy_column_selector_1 = NumpyColumnSelector(columns=[4])\" target=\"_blank\">\n",
       "<ellipse fill=\"white\" stroke=\"black\" cx=\"253.16\" cy=\"-34.24\" rx=\"33.16\" ry=\"31.69\"/>\n",
       "<text text-anchor=\"middle\" x=\"253.16\" y=\"-44.04\" font-family=\"Times,serif\" font-size=\"11.00\">Numpy&#45;</text>\n",
       "<text text-anchor=\"middle\" x=\"253.16\" y=\"-30.54\" font-family=\"Times,serif\" font-size=\"11.00\">Column&#45;</text>\n",
       "<text text-anchor=\"middle\" x=\"253.16\" y=\"-17.04\" font-family=\"Times,serif\" font-size=\"11.00\">Selector</text>\n",
       "</a>\n",
       "</g>\n",
       "</g>\n",
       "<!-- float_str2_float -->\n",
       "<g id=\"node10\" class=\"node\">\n",
       "<title>float_str2_float</title>\n",
       "<g id=\"a_node10\"><a xlink:href=\"https://lale.readthedocs.io/en/latest/modules/lale.lib.autoai_libs.float_str2_float.html\" xlink:title=\"float_str2_float = FloatStr2Float(dtypes_list=[&#39;float_int_num&#39;], missing_values_reference_list=[])\" target=\"_blank\">\n",
       "<ellipse fill=\"white\" stroke=\"black\" cx=\"362.9\" cy=\"-34.24\" rx=\"27\" ry=\"31.69\"/>\n",
       "<text text-anchor=\"middle\" x=\"362.9\" y=\"-44.04\" font-family=\"Times,serif\" font-size=\"11.00\">Float&#45;</text>\n",
       "<text text-anchor=\"middle\" x=\"362.9\" y=\"-30.54\" font-family=\"Times,serif\" font-size=\"11.00\">Str2&#45;</text>\n",
       "<text text-anchor=\"middle\" x=\"362.9\" y=\"-17.04\" font-family=\"Times,serif\" font-size=\"11.00\">Float</text>\n",
       "</a>\n",
       "</g>\n",
       "</g>\n",
       "<!-- numpy_column_selector_1&#45;&gt;float_str2_float -->\n",
       "<g id=\"edge8\" class=\"edge\">\n",
       "<title>numpy_column_selector_1&#45;&gt;float_str2_float</title>\n",
       "<path fill=\"none\" stroke=\"black\" d=\"M286.78,-34.24C298.61,-34.24 312.06,-34.24 324.28,-34.24\"/>\n",
       "<polygon fill=\"black\" stroke=\"black\" points=\"324.02,-37.74 334.02,-34.24 324.02,-30.74 324.02,-37.74\"/>\n",
       "</g>\n",
       "<!-- numpy_replace_missing_values_1 -->\n",
       "<g id=\"node11\" class=\"node\">\n",
       "<title>numpy_replace_missing_values_1</title>\n",
       "<g id=\"a_node11\"><a xlink:href=\"https://lale.readthedocs.io/en/latest/modules/lale.lib.autoai_libs.numpy_replace_missing_values.html\" xlink:title=\"numpy_replace_missing_values_1 = NumpyReplaceMissingValues(filling_values=float(&#39;nan&#39;), missing_values=[])\" target=\"_blank\">\n",
       "<ellipse fill=\"white\" stroke=\"black\" cx=\"477.39\" cy=\"-41.24\" rx=\"34.75\" ry=\"41.24\"/>\n",
       "<text text-anchor=\"middle\" x=\"477.39\" y=\"-57.79\" font-family=\"Times,serif\" font-size=\"11.00\">Numpy&#45;</text>\n",
       "<text text-anchor=\"middle\" x=\"477.39\" y=\"-44.29\" font-family=\"Times,serif\" font-size=\"11.00\">Replace&#45;</text>\n",
       "<text text-anchor=\"middle\" x=\"477.39\" y=\"-30.79\" font-family=\"Times,serif\" font-size=\"11.00\">Missing&#45;</text>\n",
       "<text text-anchor=\"middle\" x=\"477.39\" y=\"-17.29\" font-family=\"Times,serif\" font-size=\"11.00\">Values</text>\n",
       "</a>\n",
       "</g>\n",
       "</g>\n",
       "<!-- float_str2_float&#45;&gt;numpy_replace_missing_values_1 -->\n",
       "<g id=\"edge9\" class=\"edge\">\n",
       "<title>float_str2_float&#45;&gt;numpy_replace_missing_values_1</title>\n",
       "<path fill=\"none\" stroke=\"black\" d=\"M390.27,-35.88C402.45,-36.64 417.25,-37.56 431.13,-38.42\"/>\n",
       "<polygon fill=\"black\" stroke=\"black\" points=\"430.78,-41.91 440.98,-39.04 431.22,-34.92 430.78,-41.91\"/>\n",
       "</g>\n",
       "<!-- num_imputer -->\n",
       "<g id=\"node12\" class=\"node\">\n",
       "<title>num_imputer</title>\n",
       "<g id=\"a_node12\"><a xlink:href=\"https://lale.readthedocs.io/en/latest/modules/lale.lib.autoai_libs.num_imputer.html\" xlink:title=\"num_imputer = NumImputer(missing_values=float(&#39;nan&#39;), strategy=&#39;median&#39;)\" target=\"_blank\">\n",
       "<ellipse fill=\"white\" stroke=\"black\" cx=\"583.39\" cy=\"-43.24\" rx=\"30.5\" ry=\"22.15\"/>\n",
       "<text text-anchor=\"middle\" x=\"583.39\" y=\"-46.29\" font-family=\"Times,serif\" font-size=\"11.00\">Num&#45;</text>\n",
       "<text text-anchor=\"middle\" x=\"583.39\" y=\"-32.79\" font-family=\"Times,serif\" font-size=\"11.00\">Imputer</text>\n",
       "</a>\n",
       "</g>\n",
       "</g>\n",
       "<!-- numpy_replace_missing_values_1&#45;&gt;num_imputer -->\n",
       "<g id=\"edge10\" class=\"edge\">\n",
       "<title>numpy_replace_missing_values_1&#45;&gt;num_imputer</title>\n",
       "<path fill=\"none\" stroke=\"black\" d=\"M512.44,-41.89C521.62,-42.07 531.65,-42.26 541.18,-42.45\"/>\n",
       "<polygon fill=\"black\" stroke=\"black\" points=\"540.88,-45.94 550.95,-42.63 541.02,-38.94 540.88,-45.94\"/>\n",
       "</g>\n",
       "<!-- opt_standard_scaler -->\n",
       "<g id=\"node13\" class=\"node\">\n",
       "<title>opt_standard_scaler</title>\n",
       "<g id=\"a_node13\"><a xlink:href=\"https://lale.readthedocs.io/en/latest/modules/lale.lib.autoai_libs.opt_standard_scaler.html\" xlink:title=\"opt_standard_scaler = OptStandardScaler(use_scaler_flag=False)\" target=\"_blank\">\n",
       "<ellipse fill=\"white\" stroke=\"black\" cx=\"686.23\" cy=\"-44.24\" rx=\"36.34\" ry=\"31.69\"/>\n",
       "<text text-anchor=\"middle\" x=\"686.23\" y=\"-54.04\" font-family=\"Times,serif\" font-size=\"11.00\">Opt&#45;</text>\n",
       "<text text-anchor=\"middle\" x=\"686.23\" y=\"-40.54\" font-family=\"Times,serif\" font-size=\"11.00\">Standard&#45;</text>\n",
       "<text text-anchor=\"middle\" x=\"686.23\" y=\"-27.04\" font-family=\"Times,serif\" font-size=\"11.00\">Scaler</text>\n",
       "</a>\n",
       "</g>\n",
       "</g>\n",
       "<!-- num_imputer&#45;&gt;opt_standard_scaler -->\n",
       "<g id=\"edge11\" class=\"edge\">\n",
       "<title>num_imputer&#45;&gt;opt_standard_scaler</title>\n",
       "<path fill=\"none\" stroke=\"black\" d=\"M614.37,-43.54C621.87,-43.61 630.09,-43.69 638.2,-43.77\"/>\n",
       "<polygon fill=\"black\" stroke=\"black\" points=\"637.95,-47.27 647.98,-43.87 638.02,-40.27 637.95,-47.27\"/>\n",
       "</g>\n",
       "<!-- float32_transform_1 -->\n",
       "<g id=\"node14\" class=\"node\">\n",
       "<title>float32_transform_1</title>\n",
       "<g id=\"a_node14\"><a xlink:href=\"https://lale.readthedocs.io/en/latest/modules/lale.lib.autoai_libs.float32_transform.html\" xlink:title=\"float32_transform_1 = float32_transform()\" target=\"_blank\">\n",
       "<ellipse fill=\"white\" stroke=\"black\" cx=\"794.91\" cy=\"-49.24\" rx=\"36.34\" ry=\"22.15\"/>\n",
       "<text text-anchor=\"middle\" x=\"794.91\" y=\"-52.29\" font-family=\"Times,serif\" font-size=\"11.00\">float32_&#45;</text>\n",
       "<text text-anchor=\"middle\" x=\"794.91\" y=\"-38.79\" font-family=\"Times,serif\" font-size=\"11.00\">transform</text>\n",
       "</a>\n",
       "</g>\n",
       "</g>\n",
       "<!-- opt_standard_scaler&#45;&gt;float32_transform_1 -->\n",
       "<g id=\"edge12\" class=\"edge\">\n",
       "<title>opt_standard_scaler&#45;&gt;float32_transform_1</title>\n",
       "<path fill=\"none\" stroke=\"black\" d=\"M722.75,-45.9C730.5,-46.27 738.81,-46.66 746.92,-47.04\"/>\n",
       "<polygon fill=\"black\" stroke=\"black\" points=\"746.51,-50.52 756.67,-47.49 746.84,-43.53 746.51,-50.52\"/>\n",
       "</g>\n",
       "<!-- float32_transform_1&#45;&gt;concat_features -->\n",
       "<g id=\"edge14\" class=\"edge\">\n",
       "<title>float32_transform_1&#45;&gt;concat_features</title>\n",
       "<path fill=\"none\" stroke=\"black\" d=\"M829.22,-57.29C838.4,-59.5 848.46,-61.93 858.03,-64.24\"/>\n",
       "<polygon fill=\"black\" stroke=\"black\" points=\"856.94,-67.58 867.48,-66.53 858.58,-60.78 856.94,-67.58\"/>\n",
       "</g>\n",
       "<!-- numpy_permute_array -->\n",
       "<g id=\"node16\" class=\"node\">\n",
       "<title>numpy_permute_array</title>\n",
       "<g id=\"a_node16\"><a xlink:href=\"https://lale.readthedocs.io/en/latest/modules/lale.lib.autoai_libs.numpy_permute_array.html\" xlink:title=\"numpy_permute_array = NumpyPermuteArray(axis=0, permutation_indices=[0, 1, 2, 3, 5, 6, 7, 8, 9, 10, 11, 12, 13, 14, 15, 16, 17, 18, 19, 4])\" target=\"_blank\">\n",
       "<ellipse fill=\"white\" stroke=\"black\" cx=\"1004.31\" cy=\"-74.24\" rx=\"34.75\" ry=\"31.69\"/>\n",
       "<text text-anchor=\"middle\" x=\"1004.31\" y=\"-84.04\" font-family=\"Times,serif\" font-size=\"11.00\">Numpy&#45;</text>\n",
       "<text text-anchor=\"middle\" x=\"1004.31\" y=\"-70.54\" font-family=\"Times,serif\" font-size=\"11.00\">Permute&#45;</text>\n",
       "<text text-anchor=\"middle\" x=\"1004.31\" y=\"-57.04\" font-family=\"Times,serif\" font-size=\"11.00\">Array</text>\n",
       "</a>\n",
       "</g>\n",
       "</g>\n",
       "<!-- concat_features&#45;&gt;numpy_permute_array -->\n",
       "<g id=\"edge15\" class=\"edge\">\n",
       "<title>concat_features&#45;&gt;numpy_permute_array</title>\n",
       "<path fill=\"none\" stroke=\"black\" d=\"M933.93,-74.24C941.61,-74.24 949.93,-74.24 958.06,-74.24\"/>\n",
       "<polygon fill=\"black\" stroke=\"black\" points=\"957.82,-77.74 967.82,-74.24 957.82,-70.74 957.82,-77.74\"/>\n",
       "</g>\n",
       "<!-- ta1_0 -->\n",
       "<g id=\"node17\" class=\"node\">\n",
       "<title>ta1_0</title>\n",
       "<g id=\"a_node17\"><a xlink:href=\"https://lale.readthedocs.io/en/latest/modules/lale.lib.autoai_libs.ta1.html\" xlink:title=\"ta1_0 = TA1(fun=np.sqrt, name=&#39;sqrt&#39;, datatypes=[&#39;numeric&#39;], feat_constraints=[autoai_libs.utils.fc_methods.is_non_negative, autoai_libs.utils.fc_methods.is_not_categorical], col_names=[&#39;CheckingStatus&#39;, &#39;LoanDuration&#39;, &#39;CreditHistory&#39;, &#39;LoanPurpose&#39;, &#39;LoanAmount&#39;...)\" target=\"_blank\">\n",
       "<ellipse fill=\"white\" stroke=\"black\" cx=\"1102.05\" cy=\"-74.24\" rx=\"27\" ry=\"18\"/>\n",
       "<text text-anchor=\"middle\" x=\"1102.05\" y=\"-70.54\" font-family=\"Times,serif\" font-size=\"11.00\">TA1</text>\n",
       "</a>\n",
       "</g>\n",
       "</g>\n",
       "<!-- numpy_permute_array&#45;&gt;ta1_0 -->\n",
       "<g id=\"edge16\" class=\"edge\">\n",
       "<title>numpy_permute_array&#45;&gt;ta1_0</title>\n",
       "<path fill=\"none\" stroke=\"black\" d=\"M1039.33,-74.24C1047.13,-74.24 1055.47,-74.24 1063.41,-74.24\"/>\n",
       "<polygon fill=\"black\" stroke=\"black\" points=\"1063.15,-77.74 1073.15,-74.24 1063.15,-70.74 1063.15,-77.74\"/>\n",
       "</g>\n",
       "<!-- fs1_0 -->\n",
       "<g id=\"node18\" class=\"node\">\n",
       "<title>fs1_0</title>\n",
       "<g id=\"a_node18\"><a xlink:href=\"https://lale.readthedocs.io/en/latest/modules/lale.lib.autoai_libs.fs1.html\" xlink:title=\"fs1_0 = FS1(cols_ids_must_keep=range(0, 20), additional_col_count_to_keep=20, ptype=&#39;classification&#39;)\" target=\"_blank\">\n",
       "<ellipse fill=\"white\" stroke=\"black\" cx=\"1192.05\" cy=\"-74.24\" rx=\"27\" ry=\"18\"/>\n",
       "<text text-anchor=\"middle\" x=\"1192.05\" y=\"-70.54\" font-family=\"Times,serif\" font-size=\"11.00\">FS1</text>\n",
       "</a>\n",
       "</g>\n",
       "</g>\n",
       "<!-- ta1_0&#45;&gt;fs1_0 -->\n",
       "<g id=\"edge17\" class=\"edge\">\n",
       "<title>ta1_0&#45;&gt;fs1_0</title>\n",
       "<path fill=\"none\" stroke=\"black\" d=\"M1129.46,-74.24C1136.94,-74.24 1145.24,-74.24 1153.25,-74.24\"/>\n",
       "<polygon fill=\"black\" stroke=\"black\" points=\"1153.16,-77.74 1163.16,-74.24 1153.16,-70.74 1153.16,-77.74\"/>\n",
       "</g>\n",
       "<!-- ta1_1 -->\n",
       "<g id=\"node19\" class=\"node\">\n",
       "<title>ta1_1</title>\n",
       "<g id=\"a_node19\"><a xlink:href=\"https://lale.readthedocs.io/en/latest/modules/lale.lib.autoai_libs.ta1.html\" xlink:title=\"ta1_1 = TA1(fun=np.rint, name=&#39;round&#39;, datatypes=[&#39;numeric&#39;], feat_constraints=[autoai_libs.utils.fc_methods.is_not_categorical], col_names=[&#39;CheckingStatus&#39;, &#39;LoanDuration&#39;, &#39;CreditHistory&#39;, &#39;LoanPurpose&#39;, &#39;LoanAmount&#39;, &#39;ExistingSavings&#39;, &#39;EmploymentDuration&#39;, &#39;I...)\" target=\"_blank\">\n",
       "<ellipse fill=\"white\" stroke=\"black\" cx=\"1282.05\" cy=\"-74.24\" rx=\"27\" ry=\"18\"/>\n",
       "<text text-anchor=\"middle\" x=\"1282.05\" y=\"-70.54\" font-family=\"Times,serif\" font-size=\"11.00\">TA1</text>\n",
       "</a>\n",
       "</g>\n",
       "</g>\n",
       "<!-- fs1_0&#45;&gt;ta1_1 -->\n",
       "<g id=\"edge18\" class=\"edge\">\n",
       "<title>fs1_0&#45;&gt;ta1_1</title>\n",
       "<path fill=\"none\" stroke=\"black\" d=\"M1219.46,-74.24C1226.94,-74.24 1235.24,-74.24 1243.25,-74.24\"/>\n",
       "<polygon fill=\"black\" stroke=\"black\" points=\"1243.16,-77.74 1253.16,-74.24 1243.16,-70.74 1243.16,-77.74\"/>\n",
       "</g>\n",
       "<!-- fs1_1 -->\n",
       "<g id=\"node20\" class=\"node\">\n",
       "<title>fs1_1</title>\n",
       "<g id=\"a_node20\"><a xlink:href=\"https://lale.readthedocs.io/en/latest/modules/lale.lib.autoai_libs.fs1.html\" xlink:title=\"fs1_1 = FS1(cols_ids_must_keep=range(0, 20), additional_col_count_to_keep=20, ptype=&#39;classification&#39;)\" target=\"_blank\">\n",
       "<ellipse fill=\"white\" stroke=\"black\" cx=\"1372.05\" cy=\"-74.24\" rx=\"27\" ry=\"18\"/>\n",
       "<text text-anchor=\"middle\" x=\"1372.05\" y=\"-70.54\" font-family=\"Times,serif\" font-size=\"11.00\">FS1</text>\n",
       "</a>\n",
       "</g>\n",
       "</g>\n",
       "<!-- ta1_1&#45;&gt;fs1_1 -->\n",
       "<g id=\"edge19\" class=\"edge\">\n",
       "<title>ta1_1&#45;&gt;fs1_1</title>\n",
       "<path fill=\"none\" stroke=\"black\" d=\"M1309.46,-74.24C1316.94,-74.24 1325.24,-74.24 1333.25,-74.24\"/>\n",
       "<polygon fill=\"black\" stroke=\"black\" points=\"1333.16,-77.74 1343.16,-74.24 1333.16,-70.74 1333.16,-77.74\"/>\n",
       "</g>\n",
       "<!-- xgb_classifier -->\n",
       "<g id=\"node21\" class=\"node\">\n",
       "<title>xgb_classifier</title>\n",
       "<g id=\"a_node21\"><a xlink:href=\"https://lale.readthedocs.io/en/latest/modules/lale.lib.xgboost.xgb_classifier.html\" xlink:title=\"xgb_classifier = XGBClassifier(max_depth=3, min_child_weight=1, missing=float(&#39;nan&#39;), n_estimators=100, n_jobs=4, random_state=33, tree_method=&#39;hist&#39;, verbosity=0, silent=True)\" target=\"_blank\">\n",
       "<ellipse fill=\"white\" stroke=\"black\" cx=\"1471.92\" cy=\"-74.24\" rx=\"36.87\" ry=\"22.15\"/>\n",
       "<text text-anchor=\"middle\" x=\"1471.92\" y=\"-77.29\" font-family=\"Times,serif\" font-size=\"11.00\">XGB&#45;</text>\n",
       "<text text-anchor=\"middle\" x=\"1471.92\" y=\"-63.79\" font-family=\"Times,serif\" font-size=\"11.00\">Classifier</text>\n",
       "</a>\n",
       "</g>\n",
       "</g>\n",
       "<!-- fs1_1&#45;&gt;xgb_classifier -->\n",
       "<g id=\"edge20\" class=\"edge\">\n",
       "<title>fs1_1&#45;&gt;xgb_classifier</title>\n",
       "<path fill=\"none\" stroke=\"black\" d=\"M1399.54,-74.24C1406.93,-74.24 1415.19,-74.24 1423.39,-74.24\"/>\n",
       "<polygon fill=\"black\" stroke=\"black\" points=\"1423.35,-77.74 1433.35,-74.24 1423.35,-70.74 1423.35,-77.74\"/>\n",
       "</g>\n",
       "</g>\n",
       "</svg>\n"
      ],
      "text/plain": [
       "<graphviz.graphs.Digraph at 0x1688e4590>"
      ]
     },
     "metadata": {},
     "output_type": "display_data"
    }
   ],
   "source": [
    "pipeline_name = experiment_summary.index[experiment_summary.holdout_disparate_impact.argmax()]\n",
    "best_pipeline = pipeline_optimizer.get_pipeline(pipeline_name=pipeline_name)\n",
    "best_pipeline.visualize()"
   ]
  },
  {
   "cell_type": "markdown",
   "metadata": {
    "pycharm": {
     "name": "#%% md\n"
    }
   },
   "source": [
    "Each node in the visualization is a machine-learning operator\n",
    "(transformer or estimator). Each edge indicates data flow (transformed\n",
    "output from one operator becomes input to the next).  The input to the\n",
    "root nodes is the initial dataset and the output from the sink node\n",
    "is the final prediction.  When you hover the mouse pointer over a\n",
    "node, a tooltip shows you the configuration arguments of the\n",
    "corresponding operator (tuned hyperparameters). When you click on the\n",
    "hyperlink of a node, it brings you to a documentation page for the\n",
    "operator."
   ]
  },
  {
   "cell_type": "markdown",
   "metadata": {
    "pycharm": {
     "name": "#%% md\n"
    }
   },
   "source": [
    "\n",
    "<a id=\"scoring\"></a>\n",
    "### Test pipeline model locally"
   ]
  },
  {
   "cell_type": "markdown",
   "metadata": {
    "pycharm": {
     "name": "#%% md\n"
    }
   },
   "source": [
    "#### Read the data"
   ]
  },
  {
   "cell_type": "code",
   "execution_count": null,
   "metadata": {
    "pycharm": {
     "name": "#%%\n"
    }
   },
   "outputs": [],
   "source": [
    "X_train, X_holdout, y_train, y_holdout = pipeline_optimizer.get_data_connections()[0].read(with_holdout_split=True)"
   ]
  },
  {
   "cell_type": "markdown",
   "metadata": {
    "pycharm": {
     "name": "#%% md\n"
    }
   },
   "source": [
    "#### Calculate metrics\n",
    "\n",
    "For detail description of used metrics you can check the documentation:\n",
    "- [accuracy](https://scikit-learn.org/stable/modules/generated/sklearn.metrics.accuracy_score.html) \n",
    "- [disparate_impact](https://lale.readthedocs.io/en/latest/modules/lale.lib.aif360.util.html#lale.lib.aif360.util.disparate_impact)\n",
    "\n",
    "- [accuracy and disparate impact](https://lale.readthedocs.io/en/latest/modules/lale.lib.aif360.util.html#lale.lib.aif360.util.accuracy_and_disparate_impact)"
   ]
  },
  {
   "cell_type": "code",
   "execution_count": 20,
   "metadata": {
    "pycharm": {
     "name": "#%%\n"
    }
   },
   "outputs": [
    {
     "name": "stdout",
     "output_type": "stream",
     "text": [
      "Accuracy: 0.81\n",
      "Disparate impact: 1.46\n",
      "Accuracy and disparate impact: 0.75\n"
     ]
    }
   ],
   "source": [
    "from lale.lib.aif360 import disparate_impact, accuracy_and_disparate_impact\n",
    "from sklearn.metrics import accuracy_score\n",
    "\n",
    "predicted_y = best_pipeline.predict(X_holdout.values)\n",
    "disparate_impact_scorer = disparate_impact(**fairness_info)\n",
    "accuracy_disparate_impact_scorer = accuracy_and_disparate_impact(**fairness_info)\n",
    "\n",
    "print(\"Accuracy: {:.2f}\".format(accuracy_score(y_true= y_holdout, y_pred=predicted_y)))\n",
    "print(\"Disparate impact: {:.2f}\".format(disparate_impact_scorer(best_pipeline, X_holdout, y_holdout)))\n",
    "print(\"Accuracy and disparate impact: {:.2f}\".format(accuracy_disparate_impact_scorer(best_pipeline, X_holdout, y_holdout)))"
   ]
  },
  {
   "cell_type": "markdown",
   "metadata": {
    "pycharm": {
     "name": "#%% md\n"
    }
   },
   "source": [
    "---"
   ]
  },
  {
   "cell_type": "markdown",
   "metadata": {
    "pycharm": {
     "name": "#%% md\n"
    }
   },
   "source": [
    "## Fairness insights"
   ]
  },
  {
   "cell_type": "markdown",
   "metadata": {
    "pycharm": {
     "name": "#%% md\n"
    }
   },
   "source": [
    "You can analize favorable outcome distributions using `visualize` method from `utils` module."
   ]
  },
  {
   "cell_type": "code",
   "execution_count": 21,
   "metadata": {
    "pycharm": {
     "name": "#%%\n"
    }
   },
   "outputs": [
    {
     "data": {
      "application/vnd.plotly.v1+json": {
       "config": {
        "plotlyServerURL": "https://plot.ly"
       },
       "data": [
        {
         "alignmentgroup": "True",
         "hovertemplate": "Outcome=favorable<br>%=%{x}<br>Group=%{y}<extra></extra>",
         "legendgroup": "favorable",
         "marker": {
          "color": "#2A66DE",
          "pattern": {
           "shape": ""
          }
         },
         "name": "favorable",
         "offsetgroup": "favorable",
         "orientation": "h",
         "showlegend": true,
         "textposition": "auto",
         "type": "bar",
         "x": [
          100,
          68.32
         ],
         "xaxis": "x",
         "y": [
          "monitored",
          "reference"
         ],
         "yaxis": "y"
        },
        {
         "alignmentgroup": "True",
         "hovertemplate": "Outcome=unfavorable<br>%=%{x}<br>Group=%{y}<extra></extra>",
         "legendgroup": "unfavorable",
         "marker": {
          "color": "gray",
          "pattern": {
           "shape": ""
          }
         },
         "name": "unfavorable",
         "offsetgroup": "unfavorable",
         "orientation": "h",
         "showlegend": true,
         "textposition": "auto",
         "type": "bar",
         "x": [
          0,
          31.680000000000007
         ],
         "xaxis": "x",
         "y": [
          "monitored",
          "reference"
         ],
         "yaxis": "y"
        }
       ],
       "layout": {
        "annotations": [
         {
          "showarrow": false,
          "text": "Perfect equality",
          "x": 84.16,
          "xanchor": "right",
          "xref": "x",
          "y": 1,
          "yanchor": "top",
          "yref": "y domain"
         }
        ],
        "barmode": "relative",
        "legend": {
         "title": {
          "text": "Outcome"
         },
         "tracegroupgap": 0
        },
        "shapes": [
         {
          "line": {
           "color": "black",
           "width": 1
          },
          "type": "line",
          "x0": 84.16,
          "x1": 84.16,
          "xref": "x",
          "y0": 0,
          "y1": 1,
          "yref": "y domain"
         }
        ],
        "template": {
         "data": {
          "bar": [
           {
            "error_x": {
             "color": "#2a3f5f"
            },
            "error_y": {
             "color": "#2a3f5f"
            },
            "marker": {
             "line": {
              "color": "#E5ECF6",
              "width": 0.5
             },
             "pattern": {
              "fillmode": "overlay",
              "size": 10,
              "solidity": 0.2
             }
            },
            "type": "bar"
           }
          ],
          "barpolar": [
           {
            "marker": {
             "line": {
              "color": "#E5ECF6",
              "width": 0.5
             },
             "pattern": {
              "fillmode": "overlay",
              "size": 10,
              "solidity": 0.2
             }
            },
            "type": "barpolar"
           }
          ],
          "carpet": [
           {
            "aaxis": {
             "endlinecolor": "#2a3f5f",
             "gridcolor": "white",
             "linecolor": "white",
             "minorgridcolor": "white",
             "startlinecolor": "#2a3f5f"
            },
            "baxis": {
             "endlinecolor": "#2a3f5f",
             "gridcolor": "white",
             "linecolor": "white",
             "minorgridcolor": "white",
             "startlinecolor": "#2a3f5f"
            },
            "type": "carpet"
           }
          ],
          "choropleth": [
           {
            "colorbar": {
             "outlinewidth": 0,
             "ticks": ""
            },
            "type": "choropleth"
           }
          ],
          "contour": [
           {
            "colorbar": {
             "outlinewidth": 0,
             "ticks": ""
            },
            "colorscale": [
             [
              0,
              "#0d0887"
             ],
             [
              0.1111111111111111,
              "#46039f"
             ],
             [
              0.2222222222222222,
              "#7201a8"
             ],
             [
              0.3333333333333333,
              "#9c179e"
             ],
             [
              0.4444444444444444,
              "#bd3786"
             ],
             [
              0.5555555555555556,
              "#d8576b"
             ],
             [
              0.6666666666666666,
              "#ed7953"
             ],
             [
              0.7777777777777778,
              "#fb9f3a"
             ],
             [
              0.8888888888888888,
              "#fdca26"
             ],
             [
              1,
              "#f0f921"
             ]
            ],
            "type": "contour"
           }
          ],
          "contourcarpet": [
           {
            "colorbar": {
             "outlinewidth": 0,
             "ticks": ""
            },
            "type": "contourcarpet"
           }
          ],
          "heatmap": [
           {
            "colorbar": {
             "outlinewidth": 0,
             "ticks": ""
            },
            "colorscale": [
             [
              0,
              "#0d0887"
             ],
             [
              0.1111111111111111,
              "#46039f"
             ],
             [
              0.2222222222222222,
              "#7201a8"
             ],
             [
              0.3333333333333333,
              "#9c179e"
             ],
             [
              0.4444444444444444,
              "#bd3786"
             ],
             [
              0.5555555555555556,
              "#d8576b"
             ],
             [
              0.6666666666666666,
              "#ed7953"
             ],
             [
              0.7777777777777778,
              "#fb9f3a"
             ],
             [
              0.8888888888888888,
              "#fdca26"
             ],
             [
              1,
              "#f0f921"
             ]
            ],
            "type": "heatmap"
           }
          ],
          "heatmapgl": [
           {
            "colorbar": {
             "outlinewidth": 0,
             "ticks": ""
            },
            "colorscale": [
             [
              0,
              "#0d0887"
             ],
             [
              0.1111111111111111,
              "#46039f"
             ],
             [
              0.2222222222222222,
              "#7201a8"
             ],
             [
              0.3333333333333333,
              "#9c179e"
             ],
             [
              0.4444444444444444,
              "#bd3786"
             ],
             [
              0.5555555555555556,
              "#d8576b"
             ],
             [
              0.6666666666666666,
              "#ed7953"
             ],
             [
              0.7777777777777778,
              "#fb9f3a"
             ],
             [
              0.8888888888888888,
              "#fdca26"
             ],
             [
              1,
              "#f0f921"
             ]
            ],
            "type": "heatmapgl"
           }
          ],
          "histogram": [
           {
            "marker": {
             "pattern": {
              "fillmode": "overlay",
              "size": 10,
              "solidity": 0.2
             }
            },
            "type": "histogram"
           }
          ],
          "histogram2d": [
           {
            "colorbar": {
             "outlinewidth": 0,
             "ticks": ""
            },
            "colorscale": [
             [
              0,
              "#0d0887"
             ],
             [
              0.1111111111111111,
              "#46039f"
             ],
             [
              0.2222222222222222,
              "#7201a8"
             ],
             [
              0.3333333333333333,
              "#9c179e"
             ],
             [
              0.4444444444444444,
              "#bd3786"
             ],
             [
              0.5555555555555556,
              "#d8576b"
             ],
             [
              0.6666666666666666,
              "#ed7953"
             ],
             [
              0.7777777777777778,
              "#fb9f3a"
             ],
             [
              0.8888888888888888,
              "#fdca26"
             ],
             [
              1,
              "#f0f921"
             ]
            ],
            "type": "histogram2d"
           }
          ],
          "histogram2dcontour": [
           {
            "colorbar": {
             "outlinewidth": 0,
             "ticks": ""
            },
            "colorscale": [
             [
              0,
              "#0d0887"
             ],
             [
              0.1111111111111111,
              "#46039f"
             ],
             [
              0.2222222222222222,
              "#7201a8"
             ],
             [
              0.3333333333333333,
              "#9c179e"
             ],
             [
              0.4444444444444444,
              "#bd3786"
             ],
             [
              0.5555555555555556,
              "#d8576b"
             ],
             [
              0.6666666666666666,
              "#ed7953"
             ],
             [
              0.7777777777777778,
              "#fb9f3a"
             ],
             [
              0.8888888888888888,
              "#fdca26"
             ],
             [
              1,
              "#f0f921"
             ]
            ],
            "type": "histogram2dcontour"
           }
          ],
          "mesh3d": [
           {
            "colorbar": {
             "outlinewidth": 0,
             "ticks": ""
            },
            "type": "mesh3d"
           }
          ],
          "parcoords": [
           {
            "line": {
             "colorbar": {
              "outlinewidth": 0,
              "ticks": ""
             }
            },
            "type": "parcoords"
           }
          ],
          "pie": [
           {
            "automargin": true,
            "type": "pie"
           }
          ],
          "scatter": [
           {
            "fillpattern": {
             "fillmode": "overlay",
             "size": 10,
             "solidity": 0.2
            },
            "type": "scatter"
           }
          ],
          "scatter3d": [
           {
            "line": {
             "colorbar": {
              "outlinewidth": 0,
              "ticks": ""
             }
            },
            "marker": {
             "colorbar": {
              "outlinewidth": 0,
              "ticks": ""
             }
            },
            "type": "scatter3d"
           }
          ],
          "scattercarpet": [
           {
            "marker": {
             "colorbar": {
              "outlinewidth": 0,
              "ticks": ""
             }
            },
            "type": "scattercarpet"
           }
          ],
          "scattergeo": [
           {
            "marker": {
             "colorbar": {
              "outlinewidth": 0,
              "ticks": ""
             }
            },
            "type": "scattergeo"
           }
          ],
          "scattergl": [
           {
            "marker": {
             "colorbar": {
              "outlinewidth": 0,
              "ticks": ""
             }
            },
            "type": "scattergl"
           }
          ],
          "scattermapbox": [
           {
            "marker": {
             "colorbar": {
              "outlinewidth": 0,
              "ticks": ""
             }
            },
            "type": "scattermapbox"
           }
          ],
          "scatterpolar": [
           {
            "marker": {
             "colorbar": {
              "outlinewidth": 0,
              "ticks": ""
             }
            },
            "type": "scatterpolar"
           }
          ],
          "scatterpolargl": [
           {
            "marker": {
             "colorbar": {
              "outlinewidth": 0,
              "ticks": ""
             }
            },
            "type": "scatterpolargl"
           }
          ],
          "scatterternary": [
           {
            "marker": {
             "colorbar": {
              "outlinewidth": 0,
              "ticks": ""
             }
            },
            "type": "scatterternary"
           }
          ],
          "surface": [
           {
            "colorbar": {
             "outlinewidth": 0,
             "ticks": ""
            },
            "colorscale": [
             [
              0,
              "#0d0887"
             ],
             [
              0.1111111111111111,
              "#46039f"
             ],
             [
              0.2222222222222222,
              "#7201a8"
             ],
             [
              0.3333333333333333,
              "#9c179e"
             ],
             [
              0.4444444444444444,
              "#bd3786"
             ],
             [
              0.5555555555555556,
              "#d8576b"
             ],
             [
              0.6666666666666666,
              "#ed7953"
             ],
             [
              0.7777777777777778,
              "#fb9f3a"
             ],
             [
              0.8888888888888888,
              "#fdca26"
             ],
             [
              1,
              "#f0f921"
             ]
            ],
            "type": "surface"
           }
          ],
          "table": [
           {
            "cells": {
             "fill": {
              "color": "#EBF0F8"
             },
             "line": {
              "color": "white"
             }
            },
            "header": {
             "fill": {
              "color": "#C8D4E3"
             },
             "line": {
              "color": "white"
             }
            },
            "type": "table"
           }
          ]
         },
         "layout": {
          "annotationdefaults": {
           "arrowcolor": "#2a3f5f",
           "arrowhead": 0,
           "arrowwidth": 1
          },
          "autotypenumbers": "strict",
          "coloraxis": {
           "colorbar": {
            "outlinewidth": 0,
            "ticks": ""
           }
          },
          "colorscale": {
           "diverging": [
            [
             0,
             "#8e0152"
            ],
            [
             0.1,
             "#c51b7d"
            ],
            [
             0.2,
             "#de77ae"
            ],
            [
             0.3,
             "#f1b6da"
            ],
            [
             0.4,
             "#fde0ef"
            ],
            [
             0.5,
             "#f7f7f7"
            ],
            [
             0.6,
             "#e6f5d0"
            ],
            [
             0.7,
             "#b8e186"
            ],
            [
             0.8,
             "#7fbc41"
            ],
            [
             0.9,
             "#4d9221"
            ],
            [
             1,
             "#276419"
            ]
           ],
           "sequential": [
            [
             0,
             "#0d0887"
            ],
            [
             0.1111111111111111,
             "#46039f"
            ],
            [
             0.2222222222222222,
             "#7201a8"
            ],
            [
             0.3333333333333333,
             "#9c179e"
            ],
            [
             0.4444444444444444,
             "#bd3786"
            ],
            [
             0.5555555555555556,
             "#d8576b"
            ],
            [
             0.6666666666666666,
             "#ed7953"
            ],
            [
             0.7777777777777778,
             "#fb9f3a"
            ],
            [
             0.8888888888888888,
             "#fdca26"
            ],
            [
             1,
             "#f0f921"
            ]
           ],
           "sequentialminus": [
            [
             0,
             "#0d0887"
            ],
            [
             0.1111111111111111,
             "#46039f"
            ],
            [
             0.2222222222222222,
             "#7201a8"
            ],
            [
             0.3333333333333333,
             "#9c179e"
            ],
            [
             0.4444444444444444,
             "#bd3786"
            ],
            [
             0.5555555555555556,
             "#d8576b"
            ],
            [
             0.6666666666666666,
             "#ed7953"
            ],
            [
             0.7777777777777778,
             "#fb9f3a"
            ],
            [
             0.8888888888888888,
             "#fdca26"
            ],
            [
             1,
             "#f0f921"
            ]
           ]
          },
          "colorway": [
           "#636efa",
           "#EF553B",
           "#00cc96",
           "#ab63fa",
           "#FFA15A",
           "#19d3f3",
           "#FF6692",
           "#B6E880",
           "#FF97FF",
           "#FECB52"
          ],
          "font": {
           "color": "#2a3f5f"
          },
          "geo": {
           "bgcolor": "white",
           "lakecolor": "white",
           "landcolor": "#E5ECF6",
           "showlakes": true,
           "showland": true,
           "subunitcolor": "white"
          },
          "hoverlabel": {
           "align": "left"
          },
          "hovermode": "closest",
          "mapbox": {
           "style": "light"
          },
          "paper_bgcolor": "white",
          "plot_bgcolor": "#E5ECF6",
          "polar": {
           "angularaxis": {
            "gridcolor": "white",
            "linecolor": "white",
            "ticks": ""
           },
           "bgcolor": "#E5ECF6",
           "radialaxis": {
            "gridcolor": "white",
            "linecolor": "white",
            "ticks": ""
           }
          },
          "scene": {
           "xaxis": {
            "backgroundcolor": "#E5ECF6",
            "gridcolor": "white",
            "gridwidth": 2,
            "linecolor": "white",
            "showbackground": true,
            "ticks": "",
            "zerolinecolor": "white"
           },
           "yaxis": {
            "backgroundcolor": "#E5ECF6",
            "gridcolor": "white",
            "gridwidth": 2,
            "linecolor": "white",
            "showbackground": true,
            "ticks": "",
            "zerolinecolor": "white"
           },
           "zaxis": {
            "backgroundcolor": "#E5ECF6",
            "gridcolor": "white",
            "gridwidth": 2,
            "linecolor": "white",
            "showbackground": true,
            "ticks": "",
            "zerolinecolor": "white"
           }
          },
          "shapedefaults": {
           "line": {
            "color": "#2a3f5f"
           }
          },
          "ternary": {
           "aaxis": {
            "gridcolor": "white",
            "linecolor": "white",
            "ticks": ""
           },
           "baxis": {
            "gridcolor": "white",
            "linecolor": "white",
            "ticks": ""
           },
           "bgcolor": "#E5ECF6",
           "caxis": {
            "gridcolor": "white",
            "linecolor": "white",
            "ticks": ""
           }
          },
          "title": {
           "x": 0.05
          },
          "xaxis": {
           "automargin": true,
           "gridcolor": "white",
           "linecolor": "white",
           "ticks": "",
           "title": {
            "standoff": 15
           },
           "zerolinecolor": "white",
           "zerolinewidth": 2
          },
          "yaxis": {
           "automargin": true,
           "gridcolor": "white",
           "linecolor": "white",
           "ticks": "",
           "title": {
            "standoff": 15
           },
           "zerolinecolor": "white",
           "zerolinewidth": 2
          }
         }
        },
        "title": {
         "text": "Pipeline"
        },
        "xaxis": {
         "anchor": "y",
         "domain": [
          0,
          1
         ],
         "title": {
          "text": "%"
         }
        },
        "yaxis": {
         "anchor": "x",
         "domain": [
          0,
          1
         ],
         "title": {
          "text": "Group"
         }
        }
       }
      }
     },
     "metadata": {},
     "output_type": "display_data"
    },
    {
     "data": {
      "application/vnd.plotly.v1+json": {
       "config": {
        "plotlyServerURL": "https://plot.ly"
       },
       "data": [
        {
         "marker": {
          "color": "#2A66DE"
         },
         "name": "favorable",
         "orientation": "h",
         "type": "bar",
         "x": [
          77.37,
          100,
          73.14,
          68.89
         ],
         "y": [
          [
           "Sex",
           "Age",
           "Sex",
           "Age"
          ],
          [
           "monitored_group",
           "monitored_group",
           "reference_group",
           "reference_group"
          ]
         ]
        },
        {
         "marker": {
          "color": "gray"
         },
         "name": "unfavorable",
         "orientation": "h",
         "type": "bar",
         "x": [
          22.629999999999995,
          0,
          26.86,
          31.11
         ],
         "y": [
          [
           "Sex",
           "Age",
           "Sex",
           "Age"
          ],
          [
           "monitored_group",
           "monitored_group",
           "reference_group",
           "reference_group"
          ]
         ]
        }
       ],
       "layout": {
        "barmode": "stack",
        "template": {
         "data": {
          "bar": [
           {
            "error_x": {
             "color": "rgb(36,36,36)"
            },
            "error_y": {
             "color": "rgb(36,36,36)"
            },
            "marker": {
             "line": {
              "color": "white",
              "width": 0.5
             },
             "pattern": {
              "fillmode": "overlay",
              "size": 10,
              "solidity": 0.2
             }
            },
            "type": "bar"
           }
          ],
          "barpolar": [
           {
            "marker": {
             "line": {
              "color": "white",
              "width": 0.5
             },
             "pattern": {
              "fillmode": "overlay",
              "size": 10,
              "solidity": 0.2
             }
            },
            "type": "barpolar"
           }
          ],
          "carpet": [
           {
            "aaxis": {
             "endlinecolor": "rgb(36,36,36)",
             "gridcolor": "white",
             "linecolor": "white",
             "minorgridcolor": "white",
             "startlinecolor": "rgb(36,36,36)"
            },
            "baxis": {
             "endlinecolor": "rgb(36,36,36)",
             "gridcolor": "white",
             "linecolor": "white",
             "minorgridcolor": "white",
             "startlinecolor": "rgb(36,36,36)"
            },
            "type": "carpet"
           }
          ],
          "choropleth": [
           {
            "colorbar": {
             "outlinewidth": 1,
             "tickcolor": "rgb(36,36,36)",
             "ticks": "outside"
            },
            "type": "choropleth"
           }
          ],
          "contour": [
           {
            "colorbar": {
             "outlinewidth": 1,
             "tickcolor": "rgb(36,36,36)",
             "ticks": "outside"
            },
            "colorscale": [
             [
              0,
              "#440154"
             ],
             [
              0.1111111111111111,
              "#482878"
             ],
             [
              0.2222222222222222,
              "#3e4989"
             ],
             [
              0.3333333333333333,
              "#31688e"
             ],
             [
              0.4444444444444444,
              "#26828e"
             ],
             [
              0.5555555555555556,
              "#1f9e89"
             ],
             [
              0.6666666666666666,
              "#35b779"
             ],
             [
              0.7777777777777778,
              "#6ece58"
             ],
             [
              0.8888888888888888,
              "#b5de2b"
             ],
             [
              1,
              "#fde725"
             ]
            ],
            "type": "contour"
           }
          ],
          "contourcarpet": [
           {
            "colorbar": {
             "outlinewidth": 1,
             "tickcolor": "rgb(36,36,36)",
             "ticks": "outside"
            },
            "type": "contourcarpet"
           }
          ],
          "heatmap": [
           {
            "colorbar": {
             "outlinewidth": 1,
             "tickcolor": "rgb(36,36,36)",
             "ticks": "outside"
            },
            "colorscale": [
             [
              0,
              "#440154"
             ],
             [
              0.1111111111111111,
              "#482878"
             ],
             [
              0.2222222222222222,
              "#3e4989"
             ],
             [
              0.3333333333333333,
              "#31688e"
             ],
             [
              0.4444444444444444,
              "#26828e"
             ],
             [
              0.5555555555555556,
              "#1f9e89"
             ],
             [
              0.6666666666666666,
              "#35b779"
             ],
             [
              0.7777777777777778,
              "#6ece58"
             ],
             [
              0.8888888888888888,
              "#b5de2b"
             ],
             [
              1,
              "#fde725"
             ]
            ],
            "type": "heatmap"
           }
          ],
          "heatmapgl": [
           {
            "colorbar": {
             "outlinewidth": 1,
             "tickcolor": "rgb(36,36,36)",
             "ticks": "outside"
            },
            "colorscale": [
             [
              0,
              "#440154"
             ],
             [
              0.1111111111111111,
              "#482878"
             ],
             [
              0.2222222222222222,
              "#3e4989"
             ],
             [
              0.3333333333333333,
              "#31688e"
             ],
             [
              0.4444444444444444,
              "#26828e"
             ],
             [
              0.5555555555555556,
              "#1f9e89"
             ],
             [
              0.6666666666666666,
              "#35b779"
             ],
             [
              0.7777777777777778,
              "#6ece58"
             ],
             [
              0.8888888888888888,
              "#b5de2b"
             ],
             [
              1,
              "#fde725"
             ]
            ],
            "type": "heatmapgl"
           }
          ],
          "histogram": [
           {
            "marker": {
             "line": {
              "color": "white",
              "width": 0.6
             }
            },
            "type": "histogram"
           }
          ],
          "histogram2d": [
           {
            "colorbar": {
             "outlinewidth": 1,
             "tickcolor": "rgb(36,36,36)",
             "ticks": "outside"
            },
            "colorscale": [
             [
              0,
              "#440154"
             ],
             [
              0.1111111111111111,
              "#482878"
             ],
             [
              0.2222222222222222,
              "#3e4989"
             ],
             [
              0.3333333333333333,
              "#31688e"
             ],
             [
              0.4444444444444444,
              "#26828e"
             ],
             [
              0.5555555555555556,
              "#1f9e89"
             ],
             [
              0.6666666666666666,
              "#35b779"
             ],
             [
              0.7777777777777778,
              "#6ece58"
             ],
             [
              0.8888888888888888,
              "#b5de2b"
             ],
             [
              1,
              "#fde725"
             ]
            ],
            "type": "histogram2d"
           }
          ],
          "histogram2dcontour": [
           {
            "colorbar": {
             "outlinewidth": 1,
             "tickcolor": "rgb(36,36,36)",
             "ticks": "outside"
            },
            "colorscale": [
             [
              0,
              "#440154"
             ],
             [
              0.1111111111111111,
              "#482878"
             ],
             [
              0.2222222222222222,
              "#3e4989"
             ],
             [
              0.3333333333333333,
              "#31688e"
             ],
             [
              0.4444444444444444,
              "#26828e"
             ],
             [
              0.5555555555555556,
              "#1f9e89"
             ],
             [
              0.6666666666666666,
              "#35b779"
             ],
             [
              0.7777777777777778,
              "#6ece58"
             ],
             [
              0.8888888888888888,
              "#b5de2b"
             ],
             [
              1,
              "#fde725"
             ]
            ],
            "type": "histogram2dcontour"
           }
          ],
          "mesh3d": [
           {
            "colorbar": {
             "outlinewidth": 1,
             "tickcolor": "rgb(36,36,36)",
             "ticks": "outside"
            },
            "type": "mesh3d"
           }
          ],
          "parcoords": [
           {
            "line": {
             "colorbar": {
              "outlinewidth": 1,
              "tickcolor": "rgb(36,36,36)",
              "ticks": "outside"
             }
            },
            "type": "parcoords"
           }
          ],
          "pie": [
           {
            "automargin": true,
            "type": "pie"
           }
          ],
          "scatter": [
           {
            "fillpattern": {
             "fillmode": "overlay",
             "size": 10,
             "solidity": 0.2
            },
            "type": "scatter"
           }
          ],
          "scatter3d": [
           {
            "line": {
             "colorbar": {
              "outlinewidth": 1,
              "tickcolor": "rgb(36,36,36)",
              "ticks": "outside"
             }
            },
            "marker": {
             "colorbar": {
              "outlinewidth": 1,
              "tickcolor": "rgb(36,36,36)",
              "ticks": "outside"
             }
            },
            "type": "scatter3d"
           }
          ],
          "scattercarpet": [
           {
            "marker": {
             "colorbar": {
              "outlinewidth": 1,
              "tickcolor": "rgb(36,36,36)",
              "ticks": "outside"
             }
            },
            "type": "scattercarpet"
           }
          ],
          "scattergeo": [
           {
            "marker": {
             "colorbar": {
              "outlinewidth": 1,
              "tickcolor": "rgb(36,36,36)",
              "ticks": "outside"
             }
            },
            "type": "scattergeo"
           }
          ],
          "scattergl": [
           {
            "marker": {
             "colorbar": {
              "outlinewidth": 1,
              "tickcolor": "rgb(36,36,36)",
              "ticks": "outside"
             }
            },
            "type": "scattergl"
           }
          ],
          "scattermapbox": [
           {
            "marker": {
             "colorbar": {
              "outlinewidth": 1,
              "tickcolor": "rgb(36,36,36)",
              "ticks": "outside"
             }
            },
            "type": "scattermapbox"
           }
          ],
          "scatterpolar": [
           {
            "marker": {
             "colorbar": {
              "outlinewidth": 1,
              "tickcolor": "rgb(36,36,36)",
              "ticks": "outside"
             }
            },
            "type": "scatterpolar"
           }
          ],
          "scatterpolargl": [
           {
            "marker": {
             "colorbar": {
              "outlinewidth": 1,
              "tickcolor": "rgb(36,36,36)",
              "ticks": "outside"
             }
            },
            "type": "scatterpolargl"
           }
          ],
          "scatterternary": [
           {
            "marker": {
             "colorbar": {
              "outlinewidth": 1,
              "tickcolor": "rgb(36,36,36)",
              "ticks": "outside"
             }
            },
            "type": "scatterternary"
           }
          ],
          "surface": [
           {
            "colorbar": {
             "outlinewidth": 1,
             "tickcolor": "rgb(36,36,36)",
             "ticks": "outside"
            },
            "colorscale": [
             [
              0,
              "#440154"
             ],
             [
              0.1111111111111111,
              "#482878"
             ],
             [
              0.2222222222222222,
              "#3e4989"
             ],
             [
              0.3333333333333333,
              "#31688e"
             ],
             [
              0.4444444444444444,
              "#26828e"
             ],
             [
              0.5555555555555556,
              "#1f9e89"
             ],
             [
              0.6666666666666666,
              "#35b779"
             ],
             [
              0.7777777777777778,
              "#6ece58"
             ],
             [
              0.8888888888888888,
              "#b5de2b"
             ],
             [
              1,
              "#fde725"
             ]
            ],
            "type": "surface"
           }
          ],
          "table": [
           {
            "cells": {
             "fill": {
              "color": "rgb(237,237,237)"
             },
             "line": {
              "color": "white"
             }
            },
            "header": {
             "fill": {
              "color": "rgb(217,217,217)"
             },
             "line": {
              "color": "white"
             }
            },
            "type": "table"
           }
          ]
         },
         "layout": {
          "annotationdefaults": {
           "arrowhead": 0,
           "arrowwidth": 1
          },
          "autotypenumbers": "strict",
          "coloraxis": {
           "colorbar": {
            "outlinewidth": 1,
            "tickcolor": "rgb(36,36,36)",
            "ticks": "outside"
           }
          },
          "colorscale": {
           "diverging": [
            [
             0,
             "rgb(103,0,31)"
            ],
            [
             0.1,
             "rgb(178,24,43)"
            ],
            [
             0.2,
             "rgb(214,96,77)"
            ],
            [
             0.3,
             "rgb(244,165,130)"
            ],
            [
             0.4,
             "rgb(253,219,199)"
            ],
            [
             0.5,
             "rgb(247,247,247)"
            ],
            [
             0.6,
             "rgb(209,229,240)"
            ],
            [
             0.7,
             "rgb(146,197,222)"
            ],
            [
             0.8,
             "rgb(67,147,195)"
            ],
            [
             0.9,
             "rgb(33,102,172)"
            ],
            [
             1,
             "rgb(5,48,97)"
            ]
           ],
           "sequential": [
            [
             0,
             "#440154"
            ],
            [
             0.1111111111111111,
             "#482878"
            ],
            [
             0.2222222222222222,
             "#3e4989"
            ],
            [
             0.3333333333333333,
             "#31688e"
            ],
            [
             0.4444444444444444,
             "#26828e"
            ],
            [
             0.5555555555555556,
             "#1f9e89"
            ],
            [
             0.6666666666666666,
             "#35b779"
            ],
            [
             0.7777777777777778,
             "#6ece58"
            ],
            [
             0.8888888888888888,
             "#b5de2b"
            ],
            [
             1,
             "#fde725"
            ]
           ],
           "sequentialminus": [
            [
             0,
             "#440154"
            ],
            [
             0.1111111111111111,
             "#482878"
            ],
            [
             0.2222222222222222,
             "#3e4989"
            ],
            [
             0.3333333333333333,
             "#31688e"
            ],
            [
             0.4444444444444444,
             "#26828e"
            ],
            [
             0.5555555555555556,
             "#1f9e89"
            ],
            [
             0.6666666666666666,
             "#35b779"
            ],
            [
             0.7777777777777778,
             "#6ece58"
            ],
            [
             0.8888888888888888,
             "#b5de2b"
            ],
            [
             1,
             "#fde725"
            ]
           ]
          },
          "colorway": [
           "#1F77B4",
           "#FF7F0E",
           "#2CA02C",
           "#D62728",
           "#9467BD",
           "#8C564B",
           "#E377C2",
           "#7F7F7F",
           "#BCBD22",
           "#17BECF"
          ],
          "font": {
           "color": "rgb(36,36,36)"
          },
          "geo": {
           "bgcolor": "white",
           "lakecolor": "white",
           "landcolor": "white",
           "showlakes": true,
           "showland": true,
           "subunitcolor": "white"
          },
          "hoverlabel": {
           "align": "left"
          },
          "hovermode": "closest",
          "mapbox": {
           "style": "light"
          },
          "paper_bgcolor": "white",
          "plot_bgcolor": "white",
          "polar": {
           "angularaxis": {
            "gridcolor": "rgb(232,232,232)",
            "linecolor": "rgb(36,36,36)",
            "showgrid": false,
            "showline": true,
            "ticks": "outside"
           },
           "bgcolor": "white",
           "radialaxis": {
            "gridcolor": "rgb(232,232,232)",
            "linecolor": "rgb(36,36,36)",
            "showgrid": false,
            "showline": true,
            "ticks": "outside"
           }
          },
          "scene": {
           "xaxis": {
            "backgroundcolor": "white",
            "gridcolor": "rgb(232,232,232)",
            "gridwidth": 2,
            "linecolor": "rgb(36,36,36)",
            "showbackground": true,
            "showgrid": false,
            "showline": true,
            "ticks": "outside",
            "zeroline": false,
            "zerolinecolor": "rgb(36,36,36)"
           },
           "yaxis": {
            "backgroundcolor": "white",
            "gridcolor": "rgb(232,232,232)",
            "gridwidth": 2,
            "linecolor": "rgb(36,36,36)",
            "showbackground": true,
            "showgrid": false,
            "showline": true,
            "ticks": "outside",
            "zeroline": false,
            "zerolinecolor": "rgb(36,36,36)"
           },
           "zaxis": {
            "backgroundcolor": "white",
            "gridcolor": "rgb(232,232,232)",
            "gridwidth": 2,
            "linecolor": "rgb(36,36,36)",
            "showbackground": true,
            "showgrid": false,
            "showline": true,
            "ticks": "outside",
            "zeroline": false,
            "zerolinecolor": "rgb(36,36,36)"
           }
          },
          "shapedefaults": {
           "fillcolor": "black",
           "line": {
            "width": 0
           },
           "opacity": 0.3
          },
          "ternary": {
           "aaxis": {
            "gridcolor": "rgb(232,232,232)",
            "linecolor": "rgb(36,36,36)",
            "showgrid": false,
            "showline": true,
            "ticks": "outside"
           },
           "baxis": {
            "gridcolor": "rgb(232,232,232)",
            "linecolor": "rgb(36,36,36)",
            "showgrid": false,
            "showline": true,
            "ticks": "outside"
           },
           "bgcolor": "white",
           "caxis": {
            "gridcolor": "rgb(232,232,232)",
            "linecolor": "rgb(36,36,36)",
            "showgrid": false,
            "showline": true,
            "ticks": "outside"
           }
          },
          "title": {
           "x": 0.05
          },
          "xaxis": {
           "automargin": true,
           "gridcolor": "rgb(232,232,232)",
           "linecolor": "rgb(36,36,36)",
           "showgrid": false,
           "showline": true,
           "ticks": "outside",
           "title": {
            "standoff": 15
           },
           "zeroline": false,
           "zerolinecolor": "rgb(36,36,36)"
          },
          "yaxis": {
           "automargin": true,
           "gridcolor": "rgb(232,232,232)",
           "linecolor": "rgb(36,36,36)",
           "showgrid": false,
           "showline": true,
           "ticks": "outside",
           "title": {
            "standoff": 15
           },
           "zeroline": false,
           "zerolinecolor": "rgb(36,36,36)"
          }
         }
        },
        "title": {
         "text": "Protected attributes"
        },
        "xaxis": {
         "title": {
          "text": "Outcome [%]"
         }
        },
        "yaxis": {
         "title": {
          "text": "Protected attribute"
         }
        }
       }
      }
     },
     "metadata": {},
     "output_type": "display_data"
    }
   ],
   "source": [
    "from ibm_watsonx_ai.utils.autoai.fairness import visualize\n",
    "\n",
    "visualize(run_details, pipeline_name)"
   ]
  },
  {
   "cell_type": "markdown",
   "metadata": {
    "pycharm": {
     "name": "#%% md\n"
    }
   },
   "source": [
    "---"
   ]
  },
  {
   "cell_type": "markdown",
   "metadata": {
    "pycharm": {
     "name": "#%% md\n"
    }
   },
   "source": [
    "<a id=\"cleanup\"></a>\n",
    "## Clean up"
   ]
  },
  {
   "cell_type": "markdown",
   "metadata": {
    "pycharm": {
     "name": "#%% md\n"
    }
   },
   "source": [
    "If you want to clean up all created assets:\n",
    "- experiments\n",
    "- trainings\n",
    "- pipelines\n",
    "- model definitions\n",
    "- models\n",
    "- functions\n",
    "- deployments\n",
    "\n",
    "please follow up this sample [notebook](https://github.com/IBM/watson-machine-learning-samples/blob/master/cpd5.0/notebooks/python_sdk/instance-management/Machine%20Learning%20artifacts%20management.ipynb)."
   ]
  },
  {
   "cell_type": "markdown",
   "metadata": {
    "pycharm": {
     "name": "#%% md\n"
    }
   },
   "source": [
    "<a id=\"summary\"></a>\n",
    "## Summary and next steps\n",
    "\n",
    "You successfully completed this notebook!\n",
    " \n",
    "As a next step you can deploy and score the model: [Sample notebook](https://github.com/IBM/watson-machine-learning-samples/blob/master/cpd5.0/notebooks/python_sdk/experiments/autoai/Use%20AutoAI%20and%20Lale%20to%20predict%20credit%20risk.ipynb).\n",
    "\n",
    "Check out our _<a href=\"https://ibm.github.io/watsonx-ai-python-sdk/samples.html\" target=\"_blank\" rel=\"noopener no referrer\">Online Documentation</a>_ for more samples, tutorials, documentation, how-tos, and blog posts. \n",
    " \n",
    " "
   ]
  },
  {
   "cell_type": "markdown",
   "metadata": {
    "pycharm": {
     "name": "#%% md\n"
    }
   },
   "source": [
    "## Authors\n",
    "**Lukasz Cmielowski, PhD**, is an Automation Architect and Data Scientist at IBM with a track record of developing enterprise-level applications that substantially increases clients' ability to turn data into actionable knowledge.\n",
    "\n",
    "**Dorota Lączak**, software engineer in Watson Machine Learning at IBM\n",
    "\n",
    "**Szymon Kucharczyk**, software engineer  in Watson Machine Learning at IBM\n",
    "\n",
    "Copyright © 2021-2024 IBM. This notebook and its source code are released under the terms of the MIT License."
   ]
  }
 ],
 "metadata": {
  "kernelspec": {
   "display_name": "Python 3 (ipykernel)",
   "language": "python",
   "name": "python3"
  },
  "language_info": {
   "codemirror_mode": {
    "name": "ipython",
    "version": 3
   },
   "file_extension": ".py",
   "mimetype": "text/x-python",
   "name": "python",
   "nbconvert_exporter": "python",
   "pygments_lexer": "ipython3",
   "version": "3.11.9"
  }
 },
 "nbformat": 4,
 "nbformat_minor": 4
}
