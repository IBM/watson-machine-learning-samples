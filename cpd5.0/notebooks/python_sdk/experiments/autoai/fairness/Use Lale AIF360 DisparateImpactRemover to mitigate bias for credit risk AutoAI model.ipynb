{
 "cells": [
  {
   "cell_type": "markdown",
   "metadata": {},
   "source": [
    "# Use `Lale` `AIF360`   `DisparateImpactRemover` to  mitigate bias for credit risk AutoAI model"
   ]
  },
  {
   "cell_type": "markdown",
   "metadata": {},
   "source": [
    "This notebook contains the steps and code to demonstrate support of AutoAI experiments in Watson Machine Learning service. It introduces commands for bias detecting and mitigation performed with `lale.lib.aif360` module. \n",
    "\n",
    "Some familiarity with Python is helpful. This notebook uses Python 3.11.\n",
    "\n",
    "**NOTE:** The notebook is a continuation for sample notebook: <a href=\"https://github.com/IBM/watson-machine-learning-samples/blob/master/cpd5.0/notebooks/python_sdk/experiments/autoai/fairness/Use%20AutoAI%20to%20train%20fair%20models.ipynb\" target=\"_blank\" rel=\"noopener no referrer\">\"Use AutoAI to train fair models\"</a>. "
   ]
  },
  {
   "cell_type": "markdown",
   "metadata": {},
   "source": [
    "## Contents\n",
    "\n",
    "This notebook contains the following parts:\n",
    "\n",
    "1. [Setup](#setup)\n",
    "2. [Load historical experiment](#definition)\n",
    "3. [Pipeline bias detection and mitigation](#bias)\n",
    "5. [Deployment and score](#scoring)\n",
    "6. [Clean up](#cleanup)\n",
    "7. [Summary and next steps](#summary)"
   ]
  },
  {
   "cell_type": "markdown",
   "metadata": {},
   "source": [
    "<a id=\"setup\"></a>\n",
    "## 1. Set up the environment\n",
    "\n",
    "Before you use the sample code in this notebook, you must perform the following setup tasks:\n",
    "\n",
    "-  Contact with your Cloud Pack for Data administrator and ask him for your account credentials"
   ]
  },
  {
   "cell_type": "markdown",
   "metadata": {},
   "source": [
    "### Install and import the `ibm-watsonx-ai`, `lale` ,`aif360` and dependencies.\n",
    "**Note:** `ibm-watsonx-ai` documentation can be found <a href=\"https://ibm.github.io/watsonx-ai-python-sdk/index.html\" target=\"_blank\" rel=\"noopener no referrer\">here</a>."
   ]
  },
  {
   "cell_type": "code",
   "execution_count": null,
   "metadata": {},
   "outputs": [],
   "source": [
    "!pip install wget | tail -n 1\n",
    "!pip install -U ibm-watsonx-ai | tail -n 1\n",
    "!pip install -U scikit-learn==1.3.0 | tail -n 1\n",
    "!pip install -U autoai-libs | tail -n 1\n",
    "!pip install -U 'lale[fairness]>=0.8.2' | tail -n 1"
   ]
  },
  {
   "cell_type": "markdown",
   "metadata": {},
   "source": [
    "### Connection to WML\n",
    "\n",
    "Authenticate the Watson Machine Learning service on IBM Cloud Pack for Data. You need to provide platform `url`, your `username` and `api_key`."
   ]
  },
  {
   "cell_type": "code",
   "execution_count": null,
   "metadata": {},
   "outputs": [],
   "source": [
    "username = 'PASTE YOUR USERNAME HERE'\n",
    "api_key = 'PASTE YOUR API_KEY HERE'\n",
    "url = 'PASTE THE PLATFORM URL HERE'"
   ]
  },
  {
   "cell_type": "code",
   "execution_count": 2,
   "metadata": {},
   "outputs": [],
   "source": [
    "from ibm_watsonx_ai import Credentials\n",
    "\n",
    "credentials = Credentials(\n",
    "    username=username,\n",
    "    api_key=api_key,\n",
    "    url=url,\n",
    "    instance_id=\"openshift\",\n",
    "    version=\"5.0\"\n",
    ")"
   ]
  },
  {
   "cell_type": "markdown",
   "metadata": {},
   "source": [
    "Alternatively you can use `username` and `password` to authenticate WML services.\n",
    "\n",
    "```python\n",
    "credentials = Credentials(\n",
    "    username=***,\n",
    "    password=***,\n",
    "    url=***,\n",
    "    instance_id=\"openshift\",\n",
    "    version=\"5.0\"\n",
    ")\n",
    "\n",
    "```"
   ]
  },
  {
   "cell_type": "code",
   "execution_count": 3,
   "metadata": {},
   "outputs": [],
   "source": [
    "from ibm_watsonx_ai import APIClient\n",
    "\n",
    "client = APIClient(credentials)"
   ]
  },
  {
   "cell_type": "markdown",
   "metadata": {},
   "source": [
    "### Working with spaces\n",
    "\n",
    "First of all, you need to create a space that will be used for your work. If you do not have space already created, you can use `{PLATFORM_URL}/ml-runtime/spaces?context=icp4data` to create one.\n",
    "\n",
    "- Click New Deployment Space\n",
    "- Create an empty space\n",
    "- Go to space `Settings` tab\n",
    "- Copy `space_id` and paste it below\n",
    "\n",
    "**Tip**: You can also use SDK to prepare the space for your work. More information can be found [here](https://github.com/IBM/watson-machine-learning-samples/blob/master/cpd5.0/notebooks/python_sdk/instance-management/Space%20management.ipynb).\n",
    "\n",
    "**Action**: Assign space ID below\n"
   ]
  },
  {
   "cell_type": "code",
   "execution_count": 4,
   "metadata": {},
   "outputs": [],
   "source": [
    "space_id = 'PASTE YOUR SPACE ID HERE'"
   ]
  },
  {
   "cell_type": "markdown",
   "metadata": {},
   "source": [
    "You can use the `list` method to print all existing spaces.\n"
   ]
  },
  {
   "cell_type": "code",
   "execution_count": null,
   "metadata": {},
   "outputs": [],
   "source": [
    "client.spaces.list(limit=10)"
   ]
  },
  {
   "cell_type": "markdown",
   "metadata": {},
   "source": [
    "To be able to interact with all resources available in Watson Machine Learning, you need to set the **space** which you will be using."
   ]
  },
  {
   "cell_type": "code",
   "execution_count": 5,
   "metadata": {},
   "outputs": [
    {
     "data": {
      "text/plain": [
       "'SUCCESS'"
      ]
     },
     "execution_count": 5,
     "metadata": {},
     "output_type": "execute_result"
    }
   ],
   "source": [
    "client.set.default_space(space_id)"
   ]
  },
  {
   "cell_type": "markdown",
   "metadata": {},
   "source": [
    "<a id=\"definition\"></a>\n",
    "## 2. Load historical experiment"
   ]
  },
  {
   "cell_type": "markdown",
   "metadata": {},
   "source": [
    "Initialiaze AutoAI experiment with Watson Machine Learning credentials and space.  "
   ]
  },
  {
   "cell_type": "code",
   "execution_count": 6,
   "metadata": {},
   "outputs": [],
   "source": [
    "from ibm_watsonx_ai.experiment import AutoAI\n",
    "\n",
    "experiment = AutoAI(credentials, space_id=space_id)"
   ]
  },
  {
   "cell_type": "markdown",
   "metadata": {},
   "source": [
    "List all previous AutoAI experiment runs named `'Credit Risk Prediction and bias detection - AutoAI'` which was run in sample notebook <a href=\"https://github.com/IBM/watson-machine-learning-samples/blob/master/cpd5.0/notebooks/python_sdk/experiments/autoai/fairness/Use%20AutoAI%20to%20train%20fair%20models.ipynb\" target=\"_blank\" rel=\"noopener no referrer\">\"Use AutoAI to train fair models\"</a>. \n",
    "\n",
    "**NOTE:** If you don't have any experiment listed below please run the <a href=\"https://github.com/IBM/watson-machine-learning-samples/blob/master/cpd5.0/notebooks/python_sdk/experiments/autoai/fairness/Use%20AutoAI%20to%20train%20fair%20models.ipynb\" target=\"_blank\" rel=\"noopener no referrer\">\"Use AutoAI to train fair models\"</a> notebook first and then continue running the current notebook. "
   ]
  },
  {
   "cell_type": "code",
   "execution_count": null,
   "metadata": {},
   "outputs": [],
   "source": [
    "autoai_experiment_name = 'Credit Risk Prediction and bias detection - AutoAI'\n",
    "\n",
    "historical_experiments = experiment.runs(filter=autoai_experiment_name).list()\n",
    "historical_experiments"
   ]
  },
  {
   "cell_type": "markdown",
   "metadata": {},
   "source": [
    "Load last experiment run to variable `pipeline_optimizer`."
   ]
  },
  {
   "cell_type": "code",
   "execution_count": 8,
   "metadata": {},
   "outputs": [],
   "source": [
    "run_id = historical_experiments.run_id[0]\n",
    "\n",
    "pipeline_optimizer= experiment.runs.get_optimizer(run_id)"
   ]
  },
  {
   "cell_type": "code",
   "execution_count": 9,
   "metadata": {},
   "outputs": [
    {
     "data": {
      "text/html": [
       "<div>\n",
       "<style scoped>\n",
       "    .dataframe tbody tr th:only-of-type {\n",
       "        vertical-align: middle;\n",
       "    }\n",
       "\n",
       "    .dataframe tbody tr th {\n",
       "        vertical-align: top;\n",
       "    }\n",
       "\n",
       "    .dataframe thead th {\n",
       "        text-align: right;\n",
       "    }\n",
       "</style>\n",
       "<table border=\"1\" class=\"dataframe\">\n",
       "  <thead>\n",
       "    <tr style=\"text-align: right;\">\n",
       "      <th></th>\n",
       "      <th>Enhancements</th>\n",
       "      <th>Estimator</th>\n",
       "      <th>training_accuracy_and_disparate_impact_(optimized)</th>\n",
       "      <th>training_disparate_impact_Sex</th>\n",
       "      <th>training_roc_auc</th>\n",
       "      <th>holdout_disparate_impact_Sex</th>\n",
       "      <th>holdout_average_precision</th>\n",
       "      <th>holdout_log_loss</th>\n",
       "      <th>holdout_roc_auc</th>\n",
       "      <th>training_disparate_impact</th>\n",
       "      <th>...</th>\n",
       "      <th>holdout_accuracy</th>\n",
       "      <th>holdout_balanced_accuracy</th>\n",
       "      <th>training_recall</th>\n",
       "      <th>holdout_f1</th>\n",
       "      <th>training_accuracy</th>\n",
       "      <th>holdout_disparate_impact</th>\n",
       "      <th>training_balanced_accuracy</th>\n",
       "      <th>holdout_disparate_impact_Age</th>\n",
       "      <th>training_f1</th>\n",
       "      <th>training_disparate_impact_Age</th>\n",
       "    </tr>\n",
       "    <tr>\n",
       "      <th>Pipeline Name</th>\n",
       "      <th></th>\n",
       "      <th></th>\n",
       "      <th></th>\n",
       "      <th></th>\n",
       "      <th></th>\n",
       "      <th></th>\n",
       "      <th></th>\n",
       "      <th></th>\n",
       "      <th></th>\n",
       "      <th></th>\n",
       "      <th></th>\n",
       "      <th></th>\n",
       "      <th></th>\n",
       "      <th></th>\n",
       "      <th></th>\n",
       "      <th></th>\n",
       "      <th></th>\n",
       "      <th></th>\n",
       "      <th></th>\n",
       "      <th></th>\n",
       "      <th></th>\n",
       "    </tr>\n",
       "  </thead>\n",
       "  <tbody>\n",
       "    <tr>\n",
       "      <th>Pipeline_1</th>\n",
       "      <td></td>\n",
       "      <td>XGBClassifier</td>\n",
       "      <td>0.676887</td>\n",
       "      <td>1.009581</td>\n",
       "      <td>0.846120</td>\n",
       "      <td>1.046499</td>\n",
       "      <td>0.480936</td>\n",
       "      <td>0.419151</td>\n",
       "      <td>0.855620</td>\n",
       "      <td>1.825512</td>\n",
       "      <td>...</td>\n",
       "      <td>0.811623</td>\n",
       "      <td>0.754275</td>\n",
       "      <td>0.894970</td>\n",
       "      <td>0.867606</td>\n",
       "      <td>0.796567</td>\n",
       "      <td>1.431694</td>\n",
       "      <td>0.748223</td>\n",
       "      <td>1.426056</td>\n",
       "      <td>0.853965</td>\n",
       "      <td>2.329145</td>\n",
       "    </tr>\n",
       "    <tr>\n",
       "      <th>Pipeline_2</th>\n",
       "      <td>HPO</td>\n",
       "      <td>XGBClassifier</td>\n",
       "      <td>0.676887</td>\n",
       "      <td>1.009581</td>\n",
       "      <td>0.846120</td>\n",
       "      <td>1.046499</td>\n",
       "      <td>0.480936</td>\n",
       "      <td>0.419151</td>\n",
       "      <td>0.855620</td>\n",
       "      <td>1.825512</td>\n",
       "      <td>...</td>\n",
       "      <td>0.811623</td>\n",
       "      <td>0.754275</td>\n",
       "      <td>0.894970</td>\n",
       "      <td>0.867606</td>\n",
       "      <td>0.796567</td>\n",
       "      <td>1.431694</td>\n",
       "      <td>0.748223</td>\n",
       "      <td>1.426056</td>\n",
       "      <td>0.853965</td>\n",
       "      <td>2.329145</td>\n",
       "    </tr>\n",
       "    <tr>\n",
       "      <th>Pipeline_3</th>\n",
       "      <td>HPO, FE</td>\n",
       "      <td>XGBClassifier</td>\n",
       "      <td>0.681126</td>\n",
       "      <td>1.009843</td>\n",
       "      <td>0.846576</td>\n",
       "      <td>1.057825</td>\n",
       "      <td>0.481095</td>\n",
       "      <td>0.416944</td>\n",
       "      <td>0.855187</td>\n",
       "      <td>1.787199</td>\n",
       "      <td>...</td>\n",
       "      <td>0.809619</td>\n",
       "      <td>0.755745</td>\n",
       "      <td>0.892283</td>\n",
       "      <td>0.865248</td>\n",
       "      <td>0.795004</td>\n",
       "      <td>1.463687</td>\n",
       "      <td>0.747200</td>\n",
       "      <td>1.451613</td>\n",
       "      <td>0.852646</td>\n",
       "      <td>2.286728</td>\n",
       "    </tr>\n",
       "    <tr>\n",
       "      <th>Pipeline_4</th>\n",
       "      <td>HPO, FE, HPO</td>\n",
       "      <td>XGBClassifier</td>\n",
       "      <td>0.681126</td>\n",
       "      <td>1.009843</td>\n",
       "      <td>0.846576</td>\n",
       "      <td>1.057825</td>\n",
       "      <td>0.481095</td>\n",
       "      <td>0.416944</td>\n",
       "      <td>0.855187</td>\n",
       "      <td>1.787199</td>\n",
       "      <td>...</td>\n",
       "      <td>0.809619</td>\n",
       "      <td>0.755745</td>\n",
       "      <td>0.892283</td>\n",
       "      <td>0.865248</td>\n",
       "      <td>0.795004</td>\n",
       "      <td>1.463687</td>\n",
       "      <td>0.747200</td>\n",
       "      <td>1.451613</td>\n",
       "      <td>0.852646</td>\n",
       "      <td>2.286728</td>\n",
       "    </tr>\n",
       "    <tr>\n",
       "      <th>Pipeline_5</th>\n",
       "      <td>HPO, FE, HPO, Ensemble</td>\n",
       "      <td>BatchedTreeEnsembleClassifier(XGBClassifier)</td>\n",
       "      <td>0.681126</td>\n",
       "      <td>1.009843</td>\n",
       "      <td>0.846576</td>\n",
       "      <td>1.057825</td>\n",
       "      <td>0.481095</td>\n",
       "      <td>0.416944</td>\n",
       "      <td>0.855187</td>\n",
       "      <td>1.787199</td>\n",
       "      <td>...</td>\n",
       "      <td>0.809619</td>\n",
       "      <td>0.755745</td>\n",
       "      <td>0.892283</td>\n",
       "      <td>0.865248</td>\n",
       "      <td>0.795004</td>\n",
       "      <td>1.463687</td>\n",
       "      <td>0.747200</td>\n",
       "      <td>1.451613</td>\n",
       "      <td>0.852646</td>\n",
       "      <td>2.286728</td>\n",
       "    </tr>\n",
       "  </tbody>\n",
       "</table>\n",
       "<p>5 rows × 26 columns</p>\n",
       "</div>"
      ],
      "text/plain": [
       "                         Enhancements  \\\n",
       "Pipeline Name                           \n",
       "Pipeline_1                              \n",
       "Pipeline_2                        HPO   \n",
       "Pipeline_3                    HPO, FE   \n",
       "Pipeline_4               HPO, FE, HPO   \n",
       "Pipeline_5     HPO, FE, HPO, Ensemble   \n",
       "\n",
       "                                                  Estimator  \\\n",
       "Pipeline Name                                                 \n",
       "Pipeline_1                                    XGBClassifier   \n",
       "Pipeline_2                                    XGBClassifier   \n",
       "Pipeline_3                                    XGBClassifier   \n",
       "Pipeline_4                                    XGBClassifier   \n",
       "Pipeline_5     BatchedTreeEnsembleClassifier(XGBClassifier)   \n",
       "\n",
       "               training_accuracy_and_disparate_impact_(optimized)  \\\n",
       "Pipeline Name                                                       \n",
       "Pipeline_1                                              0.676887    \n",
       "Pipeline_2                                              0.676887    \n",
       "Pipeline_3                                              0.681126    \n",
       "Pipeline_4                                              0.681126    \n",
       "Pipeline_5                                              0.681126    \n",
       "\n",
       "               training_disparate_impact_Sex  training_roc_auc  \\\n",
       "Pipeline Name                                                    \n",
       "Pipeline_1                          1.009581          0.846120   \n",
       "Pipeline_2                          1.009581          0.846120   \n",
       "Pipeline_3                          1.009843          0.846576   \n",
       "Pipeline_4                          1.009843          0.846576   \n",
       "Pipeline_5                          1.009843          0.846576   \n",
       "\n",
       "               holdout_disparate_impact_Sex  holdout_average_precision  \\\n",
       "Pipeline Name                                                            \n",
       "Pipeline_1                         1.046499                   0.480936   \n",
       "Pipeline_2                         1.046499                   0.480936   \n",
       "Pipeline_3                         1.057825                   0.481095   \n",
       "Pipeline_4                         1.057825                   0.481095   \n",
       "Pipeline_5                         1.057825                   0.481095   \n",
       "\n",
       "               holdout_log_loss  holdout_roc_auc  training_disparate_impact  \\\n",
       "Pipeline Name                                                                 \n",
       "Pipeline_1             0.419151         0.855620                   1.825512   \n",
       "Pipeline_2             0.419151         0.855620                   1.825512   \n",
       "Pipeline_3             0.416944         0.855187                   1.787199   \n",
       "Pipeline_4             0.416944         0.855187                   1.787199   \n",
       "Pipeline_5             0.416944         0.855187                   1.787199   \n",
       "\n",
       "               ...  holdout_accuracy  holdout_balanced_accuracy  \\\n",
       "Pipeline Name  ...                                                \n",
       "Pipeline_1     ...          0.811623                   0.754275   \n",
       "Pipeline_2     ...          0.811623                   0.754275   \n",
       "Pipeline_3     ...          0.809619                   0.755745   \n",
       "Pipeline_4     ...          0.809619                   0.755745   \n",
       "Pipeline_5     ...          0.809619                   0.755745   \n",
       "\n",
       "               training_recall  holdout_f1  training_accuracy  \\\n",
       "Pipeline Name                                                   \n",
       "Pipeline_1            0.894970    0.867606           0.796567   \n",
       "Pipeline_2            0.894970    0.867606           0.796567   \n",
       "Pipeline_3            0.892283    0.865248           0.795004   \n",
       "Pipeline_4            0.892283    0.865248           0.795004   \n",
       "Pipeline_5            0.892283    0.865248           0.795004   \n",
       "\n",
       "               holdout_disparate_impact  training_balanced_accuracy  \\\n",
       "Pipeline Name                                                         \n",
       "Pipeline_1                     1.431694                    0.748223   \n",
       "Pipeline_2                     1.431694                    0.748223   \n",
       "Pipeline_3                     1.463687                    0.747200   \n",
       "Pipeline_4                     1.463687                    0.747200   \n",
       "Pipeline_5                     1.463687                    0.747200   \n",
       "\n",
       "               holdout_disparate_impact_Age  training_f1  \\\n",
       "Pipeline Name                                              \n",
       "Pipeline_1                         1.426056     0.853965   \n",
       "Pipeline_2                         1.426056     0.853965   \n",
       "Pipeline_3                         1.451613     0.852646   \n",
       "Pipeline_4                         1.451613     0.852646   \n",
       "Pipeline_5                         1.451613     0.852646   \n",
       "\n",
       "               training_disparate_impact_Age  \n",
       "Pipeline Name                                 \n",
       "Pipeline_1                          2.329145  \n",
       "Pipeline_2                          2.329145  \n",
       "Pipeline_3                          2.286728  \n",
       "Pipeline_4                          2.286728  \n",
       "Pipeline_5                          2.286728  \n",
       "\n",
       "[5 rows x 26 columns]"
      ]
     },
     "execution_count": 9,
     "metadata": {},
     "output_type": "execute_result"
    }
   ],
   "source": [
    "summary = pipeline_optimizer.summary()\n",
    "summary"
   ]
  },
  {
   "cell_type": "markdown",
   "metadata": {},
   "source": [
    "### Get selected pipeline model\n",
    "\n",
    "Download pipeline model object from the AutoAI training job."
   ]
  },
  {
   "cell_type": "code",
   "execution_count": 10,
   "metadata": {},
   "outputs": [],
   "source": [
    "best_pipeline = pipeline_optimizer.get_pipeline()"
   ]
  },
  {
   "cell_type": "markdown",
   "metadata": {},
   "source": [
    "### Get Credit Risk dataset from experiment configuration. "
   ]
  },
  {
   "cell_type": "code",
   "execution_count": null,
   "metadata": {},
   "outputs": [],
   "source": [
    "X_train, X_holdout, y_train, y_holdout = pipeline_optimizer.get_data_connections()[0].read(with_holdout_split=True)\n",
    "X_holdout.head()"
   ]
  },
  {
   "cell_type": "markdown",
   "metadata": {},
   "source": [
    "<a id=\"bias\"></a>\n",
    "## 3. Bias detection and mitigation\n",
    "\n",
    "The `fairness_info` dictionary contains some fairness-related metadata. The favorable and unfavorable label are values of the target class column that indicate whether the loan was granted or denied. A protected attribute is a feature that partitions the population into groups whose outcome should have parity. The credit-risk dataset has two protected attribute columns, sex and age. Each prottected attributes has monitored and reference group.\n"
   ]
  },
  {
   "cell_type": "code",
   "execution_count": 13,
   "metadata": {},
   "outputs": [
    {
     "data": {
      "text/plain": [
       "{'favorable_labels': ['No Risk'],\n",
       " 'protected_attributes': [{'feature': 'Sex',\n",
       "   'monitored_group': ['female'],\n",
       "   'reference_group': ['male']},\n",
       "  {'feature': 'Age',\n",
       "   'monitored_group': [[18, 25]],\n",
       "   'reference_group': [[26, 75]]}],\n",
       " 'unfavorable_labels': ['Risk']}"
      ]
     },
     "execution_count": 13,
     "metadata": {},
     "output_type": "execute_result"
    }
   ],
   "source": [
    "fairness_info = pipeline_optimizer.get_params()['fairness_info']\n",
    "fairness_info"
   ]
  },
  {
   "cell_type": "markdown",
   "metadata": {},
   "source": [
    "### Calculate fairness metrics"
   ]
  },
  {
   "cell_type": "markdown",
   "metadata": {},
   "source": [
    "We will calculate some model metrics. Accuracy describes how accurate is the model according to dataset. \n",
    "Disparate impact is defined by comparing outcomes between a privileged group and an unprivileged group, \n",
    "so it needs to check the protected attribute to determine group membership for the sample record at hand. The closer to 1 is the value of disparate impact the less biased is the model. \n",
    "The third calculated metric takes the disparate impact into account along with accuracy. The best value of the score is 1.0."
   ]
  },
  {
   "cell_type": "code",
   "execution_count": 14,
   "metadata": {},
   "outputs": [
    {
     "name": "stdout",
     "output_type": "stream",
     "text": [
      "accuracy 81.2%\n",
      "disparate impact 1.43\n",
      "accuracy and disparate impact metric 0.76\n"
     ]
    }
   ],
   "source": [
    "import sklearn.metrics\n",
    "from lale.lib.aif360 import disparate_impact, accuracy_and_disparate_impact\n",
    "\n",
    "accuracy_scorer = sklearn.metrics.make_scorer(sklearn.metrics.accuracy_score)\n",
    "print(f'accuracy {accuracy_scorer(best_pipeline, X_holdout, y_holdout):.1%}')\n",
    "\n",
    "disparate_impact_scorer = disparate_impact(**fairness_info)\n",
    "print(f'disparate impact {disparate_impact_scorer(best_pipeline, X_holdout, y_holdout):.2f}')\n",
    "\n",
    "combined_scorer = accuracy_and_disparate_impact(**fairness_info)\n",
    "print(f'accuracy and disparate impact metric {combined_scorer(best_pipeline, X_holdout, y_holdout):.2f}')"
   ]
  },
  {
   "cell_type": "markdown",
   "metadata": {},
   "source": [
    "## Refinery with lale"
   ]
  },
  {
   "cell_type": "markdown",
   "metadata": {},
   "source": [
    "In this section we will use `DisparateImpactRemover` algorithm for mitigating fairness problems from `lale.lib.aif360` module. It modifies the features that are not the protected attribute in such a way that it is hard to predict the protected attribute from them. This algorithm has a hyperparameter `repair_level` that we will tune with hyperparameter optimization."
   ]
  },
  {
   "cell_type": "code",
   "execution_count": 15,
   "metadata": {},
   "outputs": [
    {
     "data": {
      "text/markdown": [
       "```python\n",
       "{\n",
       "    \"description\": \"Repair amount from 0 = none to 1 = full.\",\n",
       "    \"type\": \"number\",\n",
       "    \"minimum\": 0,\n",
       "    \"maximum\": 1,\n",
       "    \"default\": 1,\n",
       "}\n",
       "```"
      ],
      "text/plain": [
       "<IPython.core.display.Markdown object>"
      ]
     },
     "metadata": {},
     "output_type": "display_data"
    }
   ],
   "source": [
    "from lale.lib.aif360 import DisparateImpactRemover\n",
    "from lale.pretty_print import ipython_display\n",
    "\n",
    "ipython_display(DisparateImpactRemover.hyperparam_schema('repair_level'))"
   ]
  },
  {
   "cell_type": "markdown",
   "metadata": {},
   "source": [
    "### Pipeline decomposition and new definition\n",
    "\n",
    "Start by removing the last step of the pipeline, i.e., the final estimator."
   ]
  },
  {
   "cell_type": "code",
   "execution_count": 16,
   "metadata": {},
   "outputs": [
    {
     "data": {
      "image/svg+xml": [
       "<?xml version=\"1.0\" encoding=\"UTF-8\" standalone=\"no\"?>\n",
       "<!DOCTYPE svg PUBLIC \"-//W3C//DTD SVG 1.1//EN\"\n",
       " \"http://www.w3.org/Graphics/SVG/1.1/DTD/svg11.dtd\">\n",
       "<!-- Generated by graphviz version 10.0.1 (20240210.2158)\n",
       " -->\n",
       "<!-- Title: cluster:(root) Pages: 1 -->\n",
       "<svg width=\"1047pt\" height=\"163pt\"\n",
       " viewBox=\"0.00 0.00 1047.05 163.48\" xmlns=\"http://www.w3.org/2000/svg\" xmlns:xlink=\"http://www.w3.org/1999/xlink\">\n",
       "<g id=\"graph0\" class=\"graph\" transform=\"scale(1 1) rotate(0) translate(4 159.48)\">\n",
       "<title>cluster:(root)</title>\n",
       "<g id=\"a_graph0\"><a xlink:title=\"(root) = ...\">\n",
       "<polygon fill=\"white\" stroke=\"none\" points=\"-4,4 -4,-159.48 1043.05,-159.48 1043.05,4 -4,4\"/>\n",
       "</a>\n",
       "</g>\n",
       "<!-- numpy_column_selector_0 -->\n",
       "<g id=\"node1\" class=\"node\">\n",
       "<title>numpy_column_selector_0</title>\n",
       "<g id=\"a_node1\"><a xlink:href=\"https://lale.readthedocs.io/en/latest/modules/lale.lib.autoai_libs.numpy_column_selector.html\" xlink:title=\"numpy_column_selector_0 = NumpyColumnSelector(columns=[0, 1, 2, 3, 5, 6, 7, 8, 9, 10, 11, 12, 13, 14, 15, 16, 17, 18, 19])\" target=\"_blank\">\n",
       "<ellipse fill=\"white\" stroke=\"black\" cx=\"33.16\" cy=\"-114.24\" rx=\"33.16\" ry=\"31.69\"/>\n",
       "<text text-anchor=\"middle\" x=\"33.16\" y=\"-124.04\" font-family=\"Times,serif\" font-size=\"11.00\">Numpy&#45;</text>\n",
       "<text text-anchor=\"middle\" x=\"33.16\" y=\"-110.54\" font-family=\"Times,serif\" font-size=\"11.00\">Column&#45;</text>\n",
       "<text text-anchor=\"middle\" x=\"33.16\" y=\"-97.04\" font-family=\"Times,serif\" font-size=\"11.00\">Selector</text>\n",
       "</a>\n",
       "</g>\n",
       "</g>\n",
       "<!-- compress_strings -->\n",
       "<g id=\"node2\" class=\"node\">\n",
       "<title>compress_strings</title>\n",
       "<g id=\"a_node2\"><a xlink:href=\"https://lale.readthedocs.io/en/latest/modules/lale.lib.autoai_libs.compress_strings.html\" xlink:title=\"compress_strings = CompressStrings(compress_type=&#39;hash&#39;, dtypes_list=[&#39;char_str&#39;, &#39;float_int_num&#39;, &#39;char_str&#39;, &#39;char_str&#39;, &#39;char_str&#39;, &#39;char_str&#39;, &#39;float_int_num&#39;, &#39;char_str&#39;, &#39;char_str&#39;, &#39;float_int_num&#39;, &#39;char_str&#39;, &#39;float_int_num&#39;, &#39;char_str&#39;, &#39;char_str&#39;, &#39;float_int_num&#39;, &#39;char_str&#39;, ...)\" target=\"_blank\">\n",
       "<ellipse fill=\"white\" stroke=\"black\" cx=\"142.36\" cy=\"-114.24\" rx=\"40.05\" ry=\"22.15\"/>\n",
       "<text text-anchor=\"middle\" x=\"142.36\" y=\"-117.29\" font-family=\"Times,serif\" font-size=\"11.00\">Compress&#45;</text>\n",
       "<text text-anchor=\"middle\" x=\"142.36\" y=\"-103.79\" font-family=\"Times,serif\" font-size=\"11.00\">Strings</text>\n",
       "</a>\n",
       "</g>\n",
       "</g>\n",
       "<!-- numpy_column_selector_0&#45;&gt;compress_strings -->\n",
       "<g id=\"edge1\" class=\"edge\">\n",
       "<title>numpy_column_selector_0&#45;&gt;compress_strings</title>\n",
       "<path fill=\"none\" stroke=\"black\" d=\"M66.61,-114.24C74.15,-114.24 82.36,-114.24 90.48,-114.24\"/>\n",
       "<polygon fill=\"black\" stroke=\"black\" points=\"90.31,-117.74 100.31,-114.24 90.31,-110.74 90.31,-117.74\"/>\n",
       "</g>\n",
       "<!-- numpy_replace_missing_values_0 -->\n",
       "<g id=\"node3\" class=\"node\">\n",
       "<title>numpy_replace_missing_values_0</title>\n",
       "<g id=\"a_node3\"><a xlink:href=\"https://lale.readthedocs.io/en/latest/modules/lale.lib.autoai_libs.numpy_replace_missing_values.html\" xlink:title=\"numpy_replace_missing_values_0 = NumpyReplaceMissingValues(filling_values=float(&#39;nan&#39;), missing_values=[])\" target=\"_blank\">\n",
       "<ellipse fill=\"white\" stroke=\"black\" cx=\"253.16\" cy=\"-114.24\" rx=\"34.75\" ry=\"41.24\"/>\n",
       "<text text-anchor=\"middle\" x=\"253.16\" y=\"-130.79\" font-family=\"Times,serif\" font-size=\"11.00\">Numpy&#45;</text>\n",
       "<text text-anchor=\"middle\" x=\"253.16\" y=\"-117.29\" font-family=\"Times,serif\" font-size=\"11.00\">Replace&#45;</text>\n",
       "<text text-anchor=\"middle\" x=\"253.16\" y=\"-103.79\" font-family=\"Times,serif\" font-size=\"11.00\">Missing&#45;</text>\n",
       "<text text-anchor=\"middle\" x=\"253.16\" y=\"-90.29\" font-family=\"Times,serif\" font-size=\"11.00\">Values</text>\n",
       "</a>\n",
       "</g>\n",
       "</g>\n",
       "<!-- compress_strings&#45;&gt;numpy_replace_missing_values_0 -->\n",
       "<g id=\"edge2\" class=\"edge\">\n",
       "<title>compress_strings&#45;&gt;numpy_replace_missing_values_0</title>\n",
       "<path fill=\"none\" stroke=\"black\" d=\"M182.64,-114.24C190.41,-114.24 198.63,-114.24 206.59,-114.24\"/>\n",
       "<polygon fill=\"black\" stroke=\"black\" points=\"206.47,-117.74 216.47,-114.24 206.47,-110.74 206.47,-117.74\"/>\n",
       "</g>\n",
       "<!-- numpy_replace_unknown_values -->\n",
       "<g id=\"node4\" class=\"node\">\n",
       "<title>numpy_replace_unknown_values</title>\n",
       "<g id=\"a_node4\"><a xlink:href=\"https://lale.readthedocs.io/en/latest/modules/lale.lib.autoai_libs.numpy_replace_unknown_values.html\" xlink:title=\"numpy_replace_unknown_values = NumpyReplaceUnknownValues(filling_values=float(&#39;nan&#39;), filling_values_list=[float(&#39;nan&#39;), 100001, float(&#39;nan&#39;), float(&#39;nan&#39;), float(&#39;nan&#39;), float(&#39;nan&#39;), 100001, float(&#39;nan&#39;), float(&#39;nan&#39;), 100001, float(&#39;nan&#39;), 100001, float(&#39;nan&#39;), float(&#39;nan&#39;), 100001, float(&#39;nan&#39;), 100001, ...)\" target=\"_blank\">\n",
       "<ellipse fill=\"white\" stroke=\"black\" cx=\"362.9\" cy=\"-114.24\" rx=\"38.99\" ry=\"41.24\"/>\n",
       "<text text-anchor=\"middle\" x=\"362.9\" y=\"-130.79\" font-family=\"Times,serif\" font-size=\"11.00\">Numpy&#45;</text>\n",
       "<text text-anchor=\"middle\" x=\"362.9\" y=\"-117.29\" font-family=\"Times,serif\" font-size=\"11.00\">Replace&#45;</text>\n",
       "<text text-anchor=\"middle\" x=\"362.9\" y=\"-103.79\" font-family=\"Times,serif\" font-size=\"11.00\">Unknown&#45;</text>\n",
       "<text text-anchor=\"middle\" x=\"362.9\" y=\"-90.29\" font-family=\"Times,serif\" font-size=\"11.00\">Values</text>\n",
       "</a>\n",
       "</g>\n",
       "</g>\n",
       "<!-- numpy_replace_missing_values_0&#45;&gt;numpy_replace_unknown_values -->\n",
       "<g id=\"edge3\" class=\"edge\">\n",
       "<title>numpy_replace_missing_values_0&#45;&gt;numpy_replace_unknown_values</title>\n",
       "<path fill=\"none\" stroke=\"black\" d=\"M288.25,-114.24C295.88,-114.24 304.12,-114.24 312.23,-114.24\"/>\n",
       "<polygon fill=\"black\" stroke=\"black\" points=\"312.02,-117.74 322.02,-114.24 312.02,-110.74 312.02,-117.74\"/>\n",
       "</g>\n",
       "<!-- boolean2float -->\n",
       "<g id=\"node5\" class=\"node\">\n",
       "<title>boolean2float</title>\n",
       "<g id=\"a_node5\"><a xlink:href=\"https://lale.readthedocs.io/en/latest/modules/lale.lib.autoai_libs.boolean2float.html\" xlink:title=\"boolean2float = boolean2float()\" target=\"_blank\">\n",
       "<ellipse fill=\"white\" stroke=\"black\" cx=\"477.39\" cy=\"-110.24\" rx=\"39.5\" ry=\"18\"/>\n",
       "<text text-anchor=\"middle\" x=\"477.39\" y=\"-106.54\" font-family=\"Times,serif\" font-size=\"11.00\">boolean2float</text>\n",
       "</a>\n",
       "</g>\n",
       "</g>\n",
       "<!-- numpy_replace_unknown_values&#45;&gt;boolean2float -->\n",
       "<g id=\"edge4\" class=\"edge\">\n",
       "<title>numpy_replace_unknown_values&#45;&gt;boolean2float</title>\n",
       "<path fill=\"none\" stroke=\"black\" d=\"M402.3,-112.87C410.08,-112.6 418.38,-112.3 426.5,-112.01\"/>\n",
       "<polygon fill=\"black\" stroke=\"black\" points=\"426.4,-115.52 436.27,-111.67 426.15,-108.52 426.4,-115.52\"/>\n",
       "</g>\n",
       "<!-- cat_imputer -->\n",
       "<g id=\"node6\" class=\"node\">\n",
       "<title>cat_imputer</title>\n",
       "<g id=\"a_node6\"><a xlink:href=\"https://lale.readthedocs.io/en/latest/modules/lale.lib.autoai_libs.cat_imputer.html\" xlink:title=\"cat_imputer = CatImputer(missing_values=float(&#39;nan&#39;), sklearn_version_family=&#39;1&#39;, strategy=&#39;most_frequent&#39;)\" target=\"_blank\">\n",
       "<ellipse fill=\"white\" stroke=\"black\" cx=\"583.39\" cy=\"-108.24\" rx=\"30.5\" ry=\"22.15\"/>\n",
       "<text text-anchor=\"middle\" x=\"583.39\" y=\"-111.29\" font-family=\"Times,serif\" font-size=\"11.00\">Cat&#45;</text>\n",
       "<text text-anchor=\"middle\" x=\"583.39\" y=\"-97.79\" font-family=\"Times,serif\" font-size=\"11.00\">Imputer</text>\n",
       "</a>\n",
       "</g>\n",
       "</g>\n",
       "<!-- boolean2float&#45;&gt;cat_imputer -->\n",
       "<g id=\"edge5\" class=\"edge\">\n",
       "<title>boolean2float&#45;&gt;cat_imputer</title>\n",
       "<path fill=\"none\" stroke=\"black\" d=\"M517.11,-109.49C524.95,-109.34 533.22,-109.18 541.14,-109.03\"/>\n",
       "<polygon fill=\"black\" stroke=\"black\" points=\"540.96,-112.54 550.89,-108.84 540.83,-105.54 540.96,-112.54\"/>\n",
       "</g>\n",
       "<!-- cat_encoder -->\n",
       "<g id=\"node7\" class=\"node\">\n",
       "<title>cat_encoder</title>\n",
       "<g id=\"a_node7\"><a xlink:href=\"https://lale.readthedocs.io/en/latest/modules/lale.lib.autoai_libs.cat_encoder.html\" xlink:title=\"cat_encoder = CatEncoder(dtype=np.float64, handle_unknown=&#39;error&#39;, sklearn_version_family=&#39;1&#39;, encoding=&#39;ordinal&#39;, categories=&#39;auto&#39;)\" target=\"_blank\">\n",
       "<ellipse fill=\"white\" stroke=\"black\" cx=\"686.23\" cy=\"-106.24\" rx=\"32.1\" ry=\"22.15\"/>\n",
       "<text text-anchor=\"middle\" x=\"686.23\" y=\"-109.29\" font-family=\"Times,serif\" font-size=\"11.00\">Cat&#45;</text>\n",
       "<text text-anchor=\"middle\" x=\"686.23\" y=\"-95.79\" font-family=\"Times,serif\" font-size=\"11.00\">Encoder</text>\n",
       "</a>\n",
       "</g>\n",
       "</g>\n",
       "<!-- cat_imputer&#45;&gt;cat_encoder -->\n",
       "<g id=\"edge6\" class=\"edge\">\n",
       "<title>cat_imputer&#45;&gt;cat_encoder</title>\n",
       "<path fill=\"none\" stroke=\"black\" d=\"M614.37,-107.64C623.21,-107.47 633.05,-107.27 642.51,-107.09\"/>\n",
       "<polygon fill=\"black\" stroke=\"black\" points=\"642.35,-110.59 652.27,-106.89 642.21,-103.59 642.35,-110.59\"/>\n",
       "</g>\n",
       "<!-- float32_transform_0 -->\n",
       "<g id=\"node8\" class=\"node\">\n",
       "<title>float32_transform_0</title>\n",
       "<g id=\"a_node8\"><a xlink:href=\"https://lale.readthedocs.io/en/latest/modules/lale.lib.autoai_libs.float32_transform.html\" xlink:title=\"float32_transform_0 = float32_transform()\" target=\"_blank\">\n",
       "<ellipse fill=\"white\" stroke=\"black\" cx=\"794.91\" cy=\"-102.24\" rx=\"36.34\" ry=\"22.15\"/>\n",
       "<text text-anchor=\"middle\" x=\"794.91\" y=\"-105.29\" font-family=\"Times,serif\" font-size=\"11.00\">float32_&#45;</text>\n",
       "<text text-anchor=\"middle\" x=\"794.91\" y=\"-91.79\" font-family=\"Times,serif\" font-size=\"11.00\">transform</text>\n",
       "</a>\n",
       "</g>\n",
       "</g>\n",
       "<!-- cat_encoder&#45;&gt;float32_transform_0 -->\n",
       "<g id=\"edge7\" class=\"edge\">\n",
       "<title>cat_encoder&#45;&gt;float32_transform_0</title>\n",
       "<path fill=\"none\" stroke=\"black\" d=\"M718.66,-105.06C727.49,-104.73 737.28,-104.36 746.81,-104\"/>\n",
       "<polygon fill=\"black\" stroke=\"black\" points=\"746.84,-107.51 756.7,-103.63 746.57,-100.51 746.84,-107.51\"/>\n",
       "</g>\n",
       "<!-- concat_features -->\n",
       "<g id=\"node15\" class=\"node\">\n",
       "<title>concat_features</title>\n",
       "<g id=\"a_node15\"><a xlink:href=\"https://lale.readthedocs.io/en/latest/modules/lale.lib.rasl.concat_features.html\" xlink:title=\"concat_features = ConcatFeatures()\" target=\"_blank\">\n",
       "<ellipse fill=\"white\" stroke=\"black\" cx=\"900.4\" cy=\"-74.24\" rx=\"33.16\" ry=\"22.15\"/>\n",
       "<text text-anchor=\"middle\" x=\"900.4\" y=\"-77.29\" font-family=\"Times,serif\" font-size=\"11.00\">Concat&#45;</text>\n",
       "<text text-anchor=\"middle\" x=\"900.4\" y=\"-63.79\" font-family=\"Times,serif\" font-size=\"11.00\">Features</text>\n",
       "</a>\n",
       "</g>\n",
       "</g>\n",
       "<!-- float32_transform_0&#45;&gt;concat_features -->\n",
       "<g id=\"edge13\" class=\"edge\">\n",
       "<title>float32_transform_0&#45;&gt;concat_features</title>\n",
       "<path fill=\"none\" stroke=\"black\" d=\"M828.65,-93.38C838.12,-90.82 848.57,-87.99 858.47,-85.31\"/>\n",
       "<polygon fill=\"black\" stroke=\"black\" points=\"859.13,-88.76 867.87,-82.77 857.3,-82 859.13,-88.76\"/>\n",
       "</g>\n",
       "<!-- numpy_column_selector_1 -->\n",
       "<g id=\"node9\" class=\"node\">\n",
       "<title>numpy_column_selector_1</title>\n",
       "<g id=\"a_node9\"><a xlink:href=\"https://lale.readthedocs.io/en/latest/modules/lale.lib.autoai_libs.numpy_column_selector.html\" xlink:title=\"numpy_column_selector_1 = NumpyColumnSelector(columns=[4])\" target=\"_blank\">\n",
       "<ellipse fill=\"white\" stroke=\"black\" cx=\"253.16\" cy=\"-34.24\" rx=\"33.16\" ry=\"31.69\"/>\n",
       "<text text-anchor=\"middle\" x=\"253.16\" y=\"-44.04\" font-family=\"Times,serif\" font-size=\"11.00\">Numpy&#45;</text>\n",
       "<text text-anchor=\"middle\" x=\"253.16\" y=\"-30.54\" font-family=\"Times,serif\" font-size=\"11.00\">Column&#45;</text>\n",
       "<text text-anchor=\"middle\" x=\"253.16\" y=\"-17.04\" font-family=\"Times,serif\" font-size=\"11.00\">Selector</text>\n",
       "</a>\n",
       "</g>\n",
       "</g>\n",
       "<!-- float_str2_float -->\n",
       "<g id=\"node10\" class=\"node\">\n",
       "<title>float_str2_float</title>\n",
       "<g id=\"a_node10\"><a xlink:href=\"https://lale.readthedocs.io/en/latest/modules/lale.lib.autoai_libs.float_str2_float.html\" xlink:title=\"float_str2_float = FloatStr2Float(dtypes_list=[&#39;float_int_num&#39;], missing_values_reference_list=[])\" target=\"_blank\">\n",
       "<ellipse fill=\"white\" stroke=\"black\" cx=\"362.9\" cy=\"-34.24\" rx=\"27\" ry=\"31.69\"/>\n",
       "<text text-anchor=\"middle\" x=\"362.9\" y=\"-44.04\" font-family=\"Times,serif\" font-size=\"11.00\">Float&#45;</text>\n",
       "<text text-anchor=\"middle\" x=\"362.9\" y=\"-30.54\" font-family=\"Times,serif\" font-size=\"11.00\">Str2&#45;</text>\n",
       "<text text-anchor=\"middle\" x=\"362.9\" y=\"-17.04\" font-family=\"Times,serif\" font-size=\"11.00\">Float</text>\n",
       "</a>\n",
       "</g>\n",
       "</g>\n",
       "<!-- numpy_column_selector_1&#45;&gt;float_str2_float -->\n",
       "<g id=\"edge8\" class=\"edge\">\n",
       "<title>numpy_column_selector_1&#45;&gt;float_str2_float</title>\n",
       "<path fill=\"none\" stroke=\"black\" d=\"M286.78,-34.24C298.61,-34.24 312.06,-34.24 324.28,-34.24\"/>\n",
       "<polygon fill=\"black\" stroke=\"black\" points=\"324.02,-37.74 334.02,-34.24 324.02,-30.74 324.02,-37.74\"/>\n",
       "</g>\n",
       "<!-- numpy_replace_missing_values_1 -->\n",
       "<g id=\"node11\" class=\"node\">\n",
       "<title>numpy_replace_missing_values_1</title>\n",
       "<g id=\"a_node11\"><a xlink:href=\"https://lale.readthedocs.io/en/latest/modules/lale.lib.autoai_libs.numpy_replace_missing_values.html\" xlink:title=\"numpy_replace_missing_values_1 = NumpyReplaceMissingValues(filling_values=float(&#39;nan&#39;), missing_values=[])\" target=\"_blank\">\n",
       "<ellipse fill=\"white\" stroke=\"black\" cx=\"477.39\" cy=\"-41.24\" rx=\"34.75\" ry=\"41.24\"/>\n",
       "<text text-anchor=\"middle\" x=\"477.39\" y=\"-57.79\" font-family=\"Times,serif\" font-size=\"11.00\">Numpy&#45;</text>\n",
       "<text text-anchor=\"middle\" x=\"477.39\" y=\"-44.29\" font-family=\"Times,serif\" font-size=\"11.00\">Replace&#45;</text>\n",
       "<text text-anchor=\"middle\" x=\"477.39\" y=\"-30.79\" font-family=\"Times,serif\" font-size=\"11.00\">Missing&#45;</text>\n",
       "<text text-anchor=\"middle\" x=\"477.39\" y=\"-17.29\" font-family=\"Times,serif\" font-size=\"11.00\">Values</text>\n",
       "</a>\n",
       "</g>\n",
       "</g>\n",
       "<!-- float_str2_float&#45;&gt;numpy_replace_missing_values_1 -->\n",
       "<g id=\"edge9\" class=\"edge\">\n",
       "<title>float_str2_float&#45;&gt;numpy_replace_missing_values_1</title>\n",
       "<path fill=\"none\" stroke=\"black\" d=\"M390.27,-35.88C402.45,-36.64 417.25,-37.56 431.13,-38.42\"/>\n",
       "<polygon fill=\"black\" stroke=\"black\" points=\"430.78,-41.91 440.98,-39.04 431.22,-34.92 430.78,-41.91\"/>\n",
       "</g>\n",
       "<!-- num_imputer -->\n",
       "<g id=\"node12\" class=\"node\">\n",
       "<title>num_imputer</title>\n",
       "<g id=\"a_node12\"><a xlink:href=\"https://lale.readthedocs.io/en/latest/modules/lale.lib.autoai_libs.num_imputer.html\" xlink:title=\"num_imputer = NumImputer(missing_values=float(&#39;nan&#39;), strategy=&#39;median&#39;)\" target=\"_blank\">\n",
       "<ellipse fill=\"white\" stroke=\"black\" cx=\"583.39\" cy=\"-43.24\" rx=\"30.5\" ry=\"22.15\"/>\n",
       "<text text-anchor=\"middle\" x=\"583.39\" y=\"-46.29\" font-family=\"Times,serif\" font-size=\"11.00\">Num&#45;</text>\n",
       "<text text-anchor=\"middle\" x=\"583.39\" y=\"-32.79\" font-family=\"Times,serif\" font-size=\"11.00\">Imputer</text>\n",
       "</a>\n",
       "</g>\n",
       "</g>\n",
       "<!-- numpy_replace_missing_values_1&#45;&gt;num_imputer -->\n",
       "<g id=\"edge10\" class=\"edge\">\n",
       "<title>numpy_replace_missing_values_1&#45;&gt;num_imputer</title>\n",
       "<path fill=\"none\" stroke=\"black\" d=\"M512.44,-41.89C521.62,-42.07 531.65,-42.26 541.18,-42.45\"/>\n",
       "<polygon fill=\"black\" stroke=\"black\" points=\"540.88,-45.94 550.95,-42.63 541.02,-38.94 540.88,-45.94\"/>\n",
       "</g>\n",
       "<!-- opt_standard_scaler -->\n",
       "<g id=\"node13\" class=\"node\">\n",
       "<title>opt_standard_scaler</title>\n",
       "<g id=\"a_node13\"><a xlink:href=\"https://lale.readthedocs.io/en/latest/modules/lale.lib.autoai_libs.opt_standard_scaler.html\" xlink:title=\"opt_standard_scaler = OptStandardScaler(use_scaler_flag=False)\" target=\"_blank\">\n",
       "<ellipse fill=\"white\" stroke=\"black\" cx=\"686.23\" cy=\"-44.24\" rx=\"36.34\" ry=\"31.69\"/>\n",
       "<text text-anchor=\"middle\" x=\"686.23\" y=\"-54.04\" font-family=\"Times,serif\" font-size=\"11.00\">Opt&#45;</text>\n",
       "<text text-anchor=\"middle\" x=\"686.23\" y=\"-40.54\" font-family=\"Times,serif\" font-size=\"11.00\">Standard&#45;</text>\n",
       "<text text-anchor=\"middle\" x=\"686.23\" y=\"-27.04\" font-family=\"Times,serif\" font-size=\"11.00\">Scaler</text>\n",
       "</a>\n",
       "</g>\n",
       "</g>\n",
       "<!-- num_imputer&#45;&gt;opt_standard_scaler -->\n",
       "<g id=\"edge11\" class=\"edge\">\n",
       "<title>num_imputer&#45;&gt;opt_standard_scaler</title>\n",
       "<path fill=\"none\" stroke=\"black\" d=\"M614.37,-43.54C621.87,-43.61 630.09,-43.69 638.2,-43.77\"/>\n",
       "<polygon fill=\"black\" stroke=\"black\" points=\"637.95,-47.27 647.98,-43.87 638.02,-40.27 637.95,-47.27\"/>\n",
       "</g>\n",
       "<!-- float32_transform_1 -->\n",
       "<g id=\"node14\" class=\"node\">\n",
       "<title>float32_transform_1</title>\n",
       "<g id=\"a_node14\"><a xlink:href=\"https://lale.readthedocs.io/en/latest/modules/lale.lib.autoai_libs.float32_transform.html\" xlink:title=\"float32_transform_1 = float32_transform()\" target=\"_blank\">\n",
       "<ellipse fill=\"white\" stroke=\"black\" cx=\"794.91\" cy=\"-49.24\" rx=\"36.34\" ry=\"22.15\"/>\n",
       "<text text-anchor=\"middle\" x=\"794.91\" y=\"-52.29\" font-family=\"Times,serif\" font-size=\"11.00\">float32_&#45;</text>\n",
       "<text text-anchor=\"middle\" x=\"794.91\" y=\"-38.79\" font-family=\"Times,serif\" font-size=\"11.00\">transform</text>\n",
       "</a>\n",
       "</g>\n",
       "</g>\n",
       "<!-- opt_standard_scaler&#45;&gt;float32_transform_1 -->\n",
       "<g id=\"edge12\" class=\"edge\">\n",
       "<title>opt_standard_scaler&#45;&gt;float32_transform_1</title>\n",
       "<path fill=\"none\" stroke=\"black\" d=\"M722.75,-45.9C730.5,-46.27 738.81,-46.66 746.92,-47.04\"/>\n",
       "<polygon fill=\"black\" stroke=\"black\" points=\"746.51,-50.52 756.67,-47.49 746.84,-43.53 746.51,-50.52\"/>\n",
       "</g>\n",
       "<!-- float32_transform_1&#45;&gt;concat_features -->\n",
       "<g id=\"edge14\" class=\"edge\">\n",
       "<title>float32_transform_1&#45;&gt;concat_features</title>\n",
       "<path fill=\"none\" stroke=\"black\" d=\"M829.22,-57.29C838.4,-59.5 848.46,-61.93 858.03,-64.24\"/>\n",
       "<polygon fill=\"black\" stroke=\"black\" points=\"856.94,-67.58 867.48,-66.53 858.58,-60.78 856.94,-67.58\"/>\n",
       "</g>\n",
       "<!-- numpy_permute_array -->\n",
       "<g id=\"node16\" class=\"node\">\n",
       "<title>numpy_permute_array</title>\n",
       "<g id=\"a_node16\"><a xlink:href=\"https://lale.readthedocs.io/en/latest/modules/lale.lib.autoai_libs.numpy_permute_array.html\" xlink:title=\"numpy_permute_array = NumpyPermuteArray(axis=0, permutation_indices=[0, 1, 2, 3, 5, 6, 7, 8, 9, 10, 11, 12, 13, 14, 15, 16, 17, 18, 19, 4])\" target=\"_blank\">\n",
       "<ellipse fill=\"white\" stroke=\"black\" cx=\"1004.31\" cy=\"-74.24\" rx=\"34.75\" ry=\"31.69\"/>\n",
       "<text text-anchor=\"middle\" x=\"1004.31\" y=\"-84.04\" font-family=\"Times,serif\" font-size=\"11.00\">Numpy&#45;</text>\n",
       "<text text-anchor=\"middle\" x=\"1004.31\" y=\"-70.54\" font-family=\"Times,serif\" font-size=\"11.00\">Permute&#45;</text>\n",
       "<text text-anchor=\"middle\" x=\"1004.31\" y=\"-57.04\" font-family=\"Times,serif\" font-size=\"11.00\">Array</text>\n",
       "</a>\n",
       "</g>\n",
       "</g>\n",
       "<!-- concat_features&#45;&gt;numpy_permute_array -->\n",
       "<g id=\"edge15\" class=\"edge\">\n",
       "<title>concat_features&#45;&gt;numpy_permute_array</title>\n",
       "<path fill=\"none\" stroke=\"black\" d=\"M933.93,-74.24C941.61,-74.24 949.93,-74.24 958.06,-74.24\"/>\n",
       "<polygon fill=\"black\" stroke=\"black\" points=\"957.82,-77.74 967.82,-74.24 957.82,-70.74 957.82,-77.74\"/>\n",
       "</g>\n",
       "</g>\n",
       "</svg>\n"
      ],
      "text/plain": [
       "<graphviz.graphs.Digraph at 0x167b45e50>"
      ]
     },
     "metadata": {},
     "output_type": "display_data"
    }
   ],
   "source": [
    "prefix = best_pipeline.remove_last().freeze_trainable()\n",
    "prefix.visualize()"
   ]
  },
  {
   "cell_type": "markdown",
   "metadata": {},
   "source": [
    "Initialize the `DisparateImpactRemover` with fairness configuration and pipeline without final estimator and add a new final step, which consists of a choice of two estimators. In this code, `|` is the or combinator (algorithmic choice). It defines a search space for another optimizer run."
   ]
  },
  {
   "cell_type": "code",
   "execution_count": 17,
   "metadata": {
    "scrolled": true
   },
   "outputs": [
    {
     "data": {
      "image/svg+xml": [
       "<?xml version=\"1.0\" encoding=\"UTF-8\" standalone=\"no\"?>\n",
       "<!DOCTYPE svg PUBLIC \"-//W3C//DTD SVG 1.1//EN\"\n",
       " \"http://www.w3.org/Graphics/SVG/1.1/DTD/svg11.dtd\">\n",
       "<!-- Generated by graphviz version 10.0.1 (20240210.2158)\n",
       " -->\n",
       "<!-- Title: cluster:(root) Pages: 1 -->\n",
       "<svg width=\"1177pt\" height=\"234pt\"\n",
       " viewBox=\"0.00 0.00 1177.05 234.00\" xmlns=\"http://www.w3.org/2000/svg\" xmlns:xlink=\"http://www.w3.org/1999/xlink\">\n",
       "<g id=\"graph0\" class=\"graph\" transform=\"scale(1 1) rotate(0) translate(4 230)\">\n",
       "<title>cluster:(root)</title>\n",
       "<g id=\"a_graph0\"><a xlink:title=\"(root) = ...\">\n",
       "<polygon fill=\"white\" stroke=\"none\" points=\"-4,4 -4,-230 1173.05,-230 1173.05,4 -4,4\"/>\n",
       "</a>\n",
       "</g>\n",
       "<g id=\"clust1\" class=\"cluster\">\n",
       "<title>cluster:disparate_impact_remover</title>\n",
       "<g id=\"a_clust1\"><a xlink:href=\"https://lale.readthedocs.io/en/latest/modules/lale.lib.aif360.disparate_impact_remover.html#lale.lib.aif360.disparate_impact_remover.DisparateImpactRemover\" xlink:title=\"disparate_impact_remover = DisparateImpactRemover(favorable_labels=[&#39;No Risk&#39;], protected_attributes=[{&#39;reference_group&#39;: [&#39;male&#39;], &#39;feature&#39;: &#39;Sex&#39;, &#39;monitored_group&#39;: [&#39;female&#39;]}, {&#39;reference_group&#39;: [[26, 75]], &#39;monitored_group&#39;: [[18, 25]], &#39;feature&#39;: &#39;Age&#39;}], unfavorable_labels=[&#39;Risk&#39;], preparat...)\" target=\"_blank\">\n",
       "<polygon fill=\"#b0e2ff\" stroke=\"black\" points=\"8,-8 8,-218 1079.05,-218 1079.05,-8 8,-8\"/>\n",
       "<text text-anchor=\"middle\" x=\"543.53\" y=\"-200.7\" font-family=\"Times,serif\" font-size=\"14.00\">DisparateImpactRemover</text>\n",
       "</a>\n",
       "</g>\n",
       "</g>\n",
       "<g id=\"clust2\" class=\"cluster\">\n",
       "<title>cluster:pipeline_0</title>\n",
       "<g id=\"a_clust2\"><a xlink:href=\"https://lale.readthedocs.io/en/latest/modules/lale.lib.aif360.disparate_impact_remover.html#lale.lib.aif360.disparate_impact_remover.DisparateImpactRemover\" xlink:title=\"pipeline_0 = ...\" target=\"_blank\">\n",
       "<path fill=\"white\" stroke=\"black\" d=\"M28,-16C28,-16 1059.05,-16 1059.05,-16 1065.05,-16 1071.05,-22 1071.05,-28 1071.05,-28 1071.05,-173 1071.05,-173 1071.05,-179 1065.05,-185 1059.05,-185 1059.05,-185 28,-185 28,-185 22,-185 16,-179 16,-173 16,-173 16,-28 16,-28 16,-22 22,-16 28,-16\"/>\n",
       "</a>\n",
       "</g>\n",
       "</g>\n",
       "<g id=\"clust3\" class=\"cluster\">\n",
       "<title>cluster:choice</title>\n",
       "<g id=\"a_clust3\"><a xlink:title=\"choice = lr | rf\">\n",
       "<polygon fill=\"#7ec0ee\" stroke=\"black\" points=\"1091.05,-74 1091.05,-194 1161.05,-194 1161.05,-74 1091.05,-74\"/>\n",
       "<text text-anchor=\"middle\" x=\"1126.05\" y=\"-176.7\" font-family=\"Times,serif\" font-size=\"14.00\">Choice</text>\n",
       "</a>\n",
       "</g>\n",
       "</g>\n",
       "<!-- numpy_column_selector -->\n",
       "<g id=\"node1\" class=\"node\">\n",
       "<title>numpy_column_selector</title>\n",
       "<g id=\"a_node1\"><a xlink:href=\"https://lale.readthedocs.io/en/latest/modules/lale.lib.autoai_libs.numpy_column_selector.html\" xlink:title=\"numpy_column_selector = NumpyColumnSelector(columns=[0, 1, 2, 3, 5, 6, 7, 8, 9, 10, 11, 12, 13, 14, 15, 16, 17, 18, 19])\" target=\"_blank\">\n",
       "<ellipse fill=\"white\" stroke=\"black\" cx=\"57.16\" cy=\"-65\" rx=\"33.16\" ry=\"31.69\"/>\n",
       "<text text-anchor=\"middle\" x=\"57.16\" y=\"-74.8\" font-family=\"Times,serif\" font-size=\"11.00\">Numpy&#45;</text>\n",
       "<text text-anchor=\"middle\" x=\"57.16\" y=\"-61.3\" font-family=\"Times,serif\" font-size=\"11.00\">Column&#45;</text>\n",
       "<text text-anchor=\"middle\" x=\"57.16\" y=\"-47.8\" font-family=\"Times,serif\" font-size=\"11.00\">Selector</text>\n",
       "</a>\n",
       "</g>\n",
       "</g>\n",
       "<!-- compress_strings -->\n",
       "<g id=\"node2\" class=\"node\">\n",
       "<title>compress_strings</title>\n",
       "<g id=\"a_node2\"><a xlink:href=\"https://lale.readthedocs.io/en/latest/modules/lale.lib.autoai_libs.compress_strings.html\" xlink:title=\"compress_strings = CompressStrings(compress_type=&#39;hash&#39;, dtypes_list=[&#39;char_str&#39;, &#39;float_int_num&#39;, &#39;char_str&#39;, &#39;char_str&#39;, &#39;char_str&#39;, &#39;char_str&#39;, &#39;float_int_num&#39;, &#39;char_str&#39;, &#39;char_str&#39;, &#39;float_int_num&#39;, &#39;char_str&#39;, &#39;float_int_num&#39;, &#39;char_str&#39;, &#39;char_str&#39;, &#39;float_int_num&#39;, &#39;char_str&#39;, ...)\" target=\"_blank\">\n",
       "<ellipse fill=\"white\" stroke=\"black\" cx=\"166.36\" cy=\"-65\" rx=\"40.05\" ry=\"22.15\"/>\n",
       "<text text-anchor=\"middle\" x=\"166.36\" y=\"-68.05\" font-family=\"Times,serif\" font-size=\"11.00\">Compress&#45;</text>\n",
       "<text text-anchor=\"middle\" x=\"166.36\" y=\"-54.55\" font-family=\"Times,serif\" font-size=\"11.00\">Strings</text>\n",
       "</a>\n",
       "</g>\n",
       "</g>\n",
       "<!-- numpy_column_selector&#45;&gt;compress_strings -->\n",
       "<g id=\"edge1\" class=\"edge\">\n",
       "<title>numpy_column_selector&#45;&gt;compress_strings</title>\n",
       "<path fill=\"none\" stroke=\"black\" d=\"M90.61,-65C98.15,-65 106.36,-65 114.48,-65\"/>\n",
       "<polygon fill=\"black\" stroke=\"black\" points=\"114.31,-68.5 124.31,-65 114.31,-61.5 114.31,-68.5\"/>\n",
       "</g>\n",
       "<!-- numpy_replace_missing_values -->\n",
       "<g id=\"node3\" class=\"node\">\n",
       "<title>numpy_replace_missing_values</title>\n",
       "<g id=\"a_node3\"><a xlink:href=\"https://lale.readthedocs.io/en/latest/modules/lale.lib.autoai_libs.numpy_replace_missing_values.html\" xlink:title=\"numpy_replace_missing_values = NumpyReplaceMissingValues(filling_values=float(&#39;nan&#39;), missing_values=[])\" target=\"_blank\">\n",
       "<ellipse fill=\"white\" stroke=\"black\" cx=\"277.16\" cy=\"-65\" rx=\"34.75\" ry=\"41.24\"/>\n",
       "<text text-anchor=\"middle\" x=\"277.16\" y=\"-81.55\" font-family=\"Times,serif\" font-size=\"11.00\">Numpy&#45;</text>\n",
       "<text text-anchor=\"middle\" x=\"277.16\" y=\"-68.05\" font-family=\"Times,serif\" font-size=\"11.00\">Replace&#45;</text>\n",
       "<text text-anchor=\"middle\" x=\"277.16\" y=\"-54.55\" font-family=\"Times,serif\" font-size=\"11.00\">Missing&#45;</text>\n",
       "<text text-anchor=\"middle\" x=\"277.16\" y=\"-41.05\" font-family=\"Times,serif\" font-size=\"11.00\">Values</text>\n",
       "</a>\n",
       "</g>\n",
       "</g>\n",
       "<!-- compress_strings&#45;&gt;numpy_replace_missing_values -->\n",
       "<g id=\"edge2\" class=\"edge\">\n",
       "<title>compress_strings&#45;&gt;numpy_replace_missing_values</title>\n",
       "<path fill=\"none\" stroke=\"black\" d=\"M206.64,-65C214.41,-65 222.63,-65 230.59,-65\"/>\n",
       "<polygon fill=\"black\" stroke=\"black\" points=\"230.47,-68.5 240.47,-65 230.47,-61.5 230.47,-68.5\"/>\n",
       "</g>\n",
       "<!-- numpy_replace_unknown_values -->\n",
       "<g id=\"node4\" class=\"node\">\n",
       "<title>numpy_replace_unknown_values</title>\n",
       "<g id=\"a_node4\"><a xlink:href=\"https://lale.readthedocs.io/en/latest/modules/lale.lib.autoai_libs.numpy_replace_unknown_values.html\" xlink:title=\"numpy_replace_unknown_values = NumpyReplaceUnknownValues(filling_values=float(&#39;nan&#39;), filling_values_list=[float(&#39;nan&#39;), 100001, float(&#39;nan&#39;), float(&#39;nan&#39;), float(&#39;nan&#39;), float(&#39;nan&#39;), 100001, float(&#39;nan&#39;), float(&#39;nan&#39;), 100001, float(&#39;nan&#39;), 100001, float(&#39;nan&#39;), float(&#39;nan&#39;), 100001, float(&#39;nan&#39;), 100001, ...)\" target=\"_blank\">\n",
       "<ellipse fill=\"white\" stroke=\"black\" cx=\"386.9\" cy=\"-65\" rx=\"38.99\" ry=\"41.24\"/>\n",
       "<text text-anchor=\"middle\" x=\"386.9\" y=\"-81.55\" font-family=\"Times,serif\" font-size=\"11.00\">Numpy&#45;</text>\n",
       "<text text-anchor=\"middle\" x=\"386.9\" y=\"-68.05\" font-family=\"Times,serif\" font-size=\"11.00\">Replace&#45;</text>\n",
       "<text text-anchor=\"middle\" x=\"386.9\" y=\"-54.55\" font-family=\"Times,serif\" font-size=\"11.00\">Unknown&#45;</text>\n",
       "<text text-anchor=\"middle\" x=\"386.9\" y=\"-41.05\" font-family=\"Times,serif\" font-size=\"11.00\">Values</text>\n",
       "</a>\n",
       "</g>\n",
       "</g>\n",
       "<!-- numpy_replace_missing_values&#45;&gt;numpy_replace_unknown_values -->\n",
       "<g id=\"edge3\" class=\"edge\">\n",
       "<title>numpy_replace_missing_values&#45;&gt;numpy_replace_unknown_values</title>\n",
       "<path fill=\"none\" stroke=\"black\" d=\"M312.25,-65C319.88,-65 328.12,-65 336.23,-65\"/>\n",
       "<polygon fill=\"black\" stroke=\"black\" points=\"336.02,-68.5 346.02,-65 336.02,-61.5 336.02,-68.5\"/>\n",
       "</g>\n",
       "<!-- boolean2float -->\n",
       "<g id=\"node5\" class=\"node\">\n",
       "<title>boolean2float</title>\n",
       "<g id=\"a_node5\"><a xlink:href=\"https://lale.readthedocs.io/en/latest/modules/lale.lib.autoai_libs.boolean2float.html\" xlink:title=\"boolean2float = boolean2float()\" target=\"_blank\">\n",
       "<ellipse fill=\"white\" stroke=\"black\" cx=\"501.39\" cy=\"-66\" rx=\"39.5\" ry=\"18\"/>\n",
       "<text text-anchor=\"middle\" x=\"501.39\" y=\"-62.3\" font-family=\"Times,serif\" font-size=\"11.00\">boolean2float</text>\n",
       "</a>\n",
       "</g>\n",
       "</g>\n",
       "<!-- numpy_replace_unknown_values&#45;&gt;boolean2float -->\n",
       "<g id=\"edge4\" class=\"edge\">\n",
       "<title>numpy_replace_unknown_values&#45;&gt;boolean2float</title>\n",
       "<path fill=\"none\" stroke=\"black\" d=\"M426.3,-65.34C433.91,-65.41 442.01,-65.48 449.95,-65.55\"/>\n",
       "<polygon fill=\"black\" stroke=\"black\" points=\"449.85,-69.05 459.88,-65.64 449.92,-62.05 449.85,-69.05\"/>\n",
       "</g>\n",
       "<!-- cat_imputer -->\n",
       "<g id=\"node6\" class=\"node\">\n",
       "<title>cat_imputer</title>\n",
       "<g id=\"a_node6\"><a xlink:href=\"https://lale.readthedocs.io/en/latest/modules/lale.lib.autoai_libs.cat_imputer.html\" xlink:title=\"cat_imputer = CatImputer(missing_values=float(&#39;nan&#39;), sklearn_version_family=&#39;1&#39;, strategy=&#39;most_frequent&#39;)\" target=\"_blank\">\n",
       "<ellipse fill=\"white\" stroke=\"black\" cx=\"607.39\" cy=\"-68\" rx=\"30.5\" ry=\"22.15\"/>\n",
       "<text text-anchor=\"middle\" x=\"607.39\" y=\"-71.05\" font-family=\"Times,serif\" font-size=\"11.00\">Cat&#45;</text>\n",
       "<text text-anchor=\"middle\" x=\"607.39\" y=\"-57.55\" font-family=\"Times,serif\" font-size=\"11.00\">Imputer</text>\n",
       "</a>\n",
       "</g>\n",
       "</g>\n",
       "<!-- boolean2float&#45;&gt;cat_imputer -->\n",
       "<g id=\"edge5\" class=\"edge\">\n",
       "<title>boolean2float&#45;&gt;cat_imputer</title>\n",
       "<path fill=\"none\" stroke=\"black\" d=\"M541.11,-66.74C548.95,-66.9 557.22,-67.05 565.14,-67.21\"/>\n",
       "<polygon fill=\"black\" stroke=\"black\" points=\"564.83,-70.7 574.89,-67.39 564.96,-63.7 564.83,-70.7\"/>\n",
       "</g>\n",
       "<!-- cat_encoder -->\n",
       "<g id=\"node7\" class=\"node\">\n",
       "<title>cat_encoder</title>\n",
       "<g id=\"a_node7\"><a xlink:href=\"https://lale.readthedocs.io/en/latest/modules/lale.lib.autoai_libs.cat_encoder.html\" xlink:title=\"cat_encoder = CatEncoder(dtype=np.float64, handle_unknown=&#39;error&#39;, sklearn_version_family=&#39;1&#39;, encoding=&#39;ordinal&#39;, categories=&#39;auto&#39;)\" target=\"_blank\">\n",
       "<ellipse fill=\"white\" stroke=\"black\" cx=\"710.23\" cy=\"-70\" rx=\"32.1\" ry=\"22.15\"/>\n",
       "<text text-anchor=\"middle\" x=\"710.23\" y=\"-73.05\" font-family=\"Times,serif\" font-size=\"11.00\">Cat&#45;</text>\n",
       "<text text-anchor=\"middle\" x=\"710.23\" y=\"-59.55\" font-family=\"Times,serif\" font-size=\"11.00\">Encoder</text>\n",
       "</a>\n",
       "</g>\n",
       "</g>\n",
       "<!-- cat_imputer&#45;&gt;cat_encoder -->\n",
       "<g id=\"edge6\" class=\"edge\">\n",
       "<title>cat_imputer&#45;&gt;cat_encoder</title>\n",
       "<path fill=\"none\" stroke=\"black\" d=\"M638.37,-68.59C647.21,-68.77 657.05,-68.96 666.51,-69.15\"/>\n",
       "<polygon fill=\"black\" stroke=\"black\" points=\"666.21,-72.65 676.27,-69.35 666.35,-65.65 666.21,-72.65\"/>\n",
       "</g>\n",
       "<!-- float32_transform -->\n",
       "<g id=\"node8\" class=\"node\">\n",
       "<title>float32_transform</title>\n",
       "<g id=\"a_node8\"><a xlink:href=\"https://lale.readthedocs.io/en/latest/modules/lale.lib.autoai_libs.float32_transform.html\" xlink:title=\"float32_transform = float32_transform()\" target=\"_blank\">\n",
       "<ellipse fill=\"white\" stroke=\"black\" cx=\"818.91\" cy=\"-75\" rx=\"36.34\" ry=\"22.15\"/>\n",
       "<text text-anchor=\"middle\" x=\"818.91\" y=\"-78.05\" font-family=\"Times,serif\" font-size=\"11.00\">float32_&#45;</text>\n",
       "<text text-anchor=\"middle\" x=\"818.91\" y=\"-64.55\" font-family=\"Times,serif\" font-size=\"11.00\">transform</text>\n",
       "</a>\n",
       "</g>\n",
       "</g>\n",
       "<!-- cat_encoder&#45;&gt;float32_transform -->\n",
       "<g id=\"edge7\" class=\"edge\">\n",
       "<title>cat_encoder&#45;&gt;float32_transform</title>\n",
       "<path fill=\"none\" stroke=\"black\" d=\"M742.66,-71.47C751.49,-71.89 761.28,-72.35 770.81,-72.79\"/>\n",
       "<polygon fill=\"black\" stroke=\"black\" points=\"770.55,-76.28 780.7,-73.26 770.87,-69.29 770.55,-76.28\"/>\n",
       "</g>\n",
       "<!-- concat_features -->\n",
       "<g id=\"node15\" class=\"node\">\n",
       "<title>concat_features</title>\n",
       "<g id=\"a_node15\"><a xlink:href=\"https://lale.readthedocs.io/en/latest/modules/lale.lib.rasl.concat_features.html\" xlink:title=\"concat_features = ConcatFeatures()\" target=\"_blank\">\n",
       "<ellipse fill=\"white\" stroke=\"black\" cx=\"924.4\" cy=\"-100\" rx=\"33.16\" ry=\"22.15\"/>\n",
       "<text text-anchor=\"middle\" x=\"924.4\" y=\"-103.05\" font-family=\"Times,serif\" font-size=\"11.00\">Concat&#45;</text>\n",
       "<text text-anchor=\"middle\" x=\"924.4\" y=\"-89.55\" font-family=\"Times,serif\" font-size=\"11.00\">Features</text>\n",
       "</a>\n",
       "</g>\n",
       "</g>\n",
       "<!-- float32_transform&#45;&gt;concat_features -->\n",
       "<g id=\"edge13\" class=\"edge\">\n",
       "<title>float32_transform&#45;&gt;concat_features</title>\n",
       "<path fill=\"none\" stroke=\"black\" d=\"M853.22,-83.05C862.4,-85.26 872.46,-87.69 882.03,-90.01\"/>\n",
       "<polygon fill=\"black\" stroke=\"black\" points=\"880.94,-93.34 891.48,-92.29 882.58,-86.54 880.94,-93.34\"/>\n",
       "</g>\n",
       "<!-- numpy_column_selector_0 -->\n",
       "<g id=\"node9\" class=\"node\">\n",
       "<title>numpy_column_selector_0</title>\n",
       "<g id=\"a_node9\"><a xlink:href=\"https://lale.readthedocs.io/en/latest/modules/lale.lib.autoai_libs.numpy_column_selector.html\" xlink:title=\"numpy_column_selector_0 = NumpyColumnSelector(columns=[4])\" target=\"_blank\">\n",
       "<ellipse fill=\"white\" stroke=\"black\" cx=\"277.16\" cy=\"-145\" rx=\"33.16\" ry=\"31.69\"/>\n",
       "<text text-anchor=\"middle\" x=\"277.16\" y=\"-154.8\" font-family=\"Times,serif\" font-size=\"11.00\">Numpy&#45;</text>\n",
       "<text text-anchor=\"middle\" x=\"277.16\" y=\"-141.3\" font-family=\"Times,serif\" font-size=\"11.00\">Column&#45;</text>\n",
       "<text text-anchor=\"middle\" x=\"277.16\" y=\"-127.8\" font-family=\"Times,serif\" font-size=\"11.00\">Selector</text>\n",
       "</a>\n",
       "</g>\n",
       "</g>\n",
       "<!-- float_str2_float -->\n",
       "<g id=\"node10\" class=\"node\">\n",
       "<title>float_str2_float</title>\n",
       "<g id=\"a_node10\"><a xlink:href=\"https://lale.readthedocs.io/en/latest/modules/lale.lib.autoai_libs.float_str2_float.html\" xlink:title=\"float_str2_float = FloatStr2Float(dtypes_list=[&#39;float_int_num&#39;], missing_values_reference_list=[])\" target=\"_blank\">\n",
       "<ellipse fill=\"white\" stroke=\"black\" cx=\"386.9\" cy=\"-145\" rx=\"27\" ry=\"31.69\"/>\n",
       "<text text-anchor=\"middle\" x=\"386.9\" y=\"-154.8\" font-family=\"Times,serif\" font-size=\"11.00\">Float&#45;</text>\n",
       "<text text-anchor=\"middle\" x=\"386.9\" y=\"-141.3\" font-family=\"Times,serif\" font-size=\"11.00\">Str2&#45;</text>\n",
       "<text text-anchor=\"middle\" x=\"386.9\" y=\"-127.8\" font-family=\"Times,serif\" font-size=\"11.00\">Float</text>\n",
       "</a>\n",
       "</g>\n",
       "</g>\n",
       "<!-- numpy_column_selector_0&#45;&gt;float_str2_float -->\n",
       "<g id=\"edge8\" class=\"edge\">\n",
       "<title>numpy_column_selector_0&#45;&gt;float_str2_float</title>\n",
       "<path fill=\"none\" stroke=\"black\" d=\"M310.78,-145C322.61,-145 336.06,-145 348.28,-145\"/>\n",
       "<polygon fill=\"black\" stroke=\"black\" points=\"348.02,-148.5 358.02,-145 348.02,-141.5 348.02,-148.5\"/>\n",
       "</g>\n",
       "<!-- numpy_replace_missing_values_0 -->\n",
       "<g id=\"node11\" class=\"node\">\n",
       "<title>numpy_replace_missing_values_0</title>\n",
       "<g id=\"a_node11\"><a xlink:href=\"https://lale.readthedocs.io/en/latest/modules/lale.lib.autoai_libs.numpy_replace_missing_values.html\" xlink:title=\"numpy_replace_missing_values_0 = NumpyReplaceMissingValues(filling_values=float(&#39;nan&#39;), missing_values=[])\" target=\"_blank\">\n",
       "<ellipse fill=\"white\" stroke=\"black\" cx=\"501.39\" cy=\"-134\" rx=\"34.75\" ry=\"41.24\"/>\n",
       "<text text-anchor=\"middle\" x=\"501.39\" y=\"-150.55\" font-family=\"Times,serif\" font-size=\"11.00\">Numpy&#45;</text>\n",
       "<text text-anchor=\"middle\" x=\"501.39\" y=\"-137.05\" font-family=\"Times,serif\" font-size=\"11.00\">Replace&#45;</text>\n",
       "<text text-anchor=\"middle\" x=\"501.39\" y=\"-123.55\" font-family=\"Times,serif\" font-size=\"11.00\">Missing&#45;</text>\n",
       "<text text-anchor=\"middle\" x=\"501.39\" y=\"-110.05\" font-family=\"Times,serif\" font-size=\"11.00\">Values</text>\n",
       "</a>\n",
       "</g>\n",
       "</g>\n",
       "<!-- float_str2_float&#45;&gt;numpy_replace_missing_values_0 -->\n",
       "<g id=\"edge9\" class=\"edge\">\n",
       "<title>float_str2_float&#45;&gt;numpy_replace_missing_values_0</title>\n",
       "<path fill=\"none\" stroke=\"black\" d=\"M414.27,-142.42C426.45,-141.23 441.25,-139.78 455.13,-138.43\"/>\n",
       "<polygon fill=\"black\" stroke=\"black\" points=\"455.37,-141.92 464.99,-137.46 454.69,-134.95 455.37,-141.92\"/>\n",
       "</g>\n",
       "<!-- num_imputer -->\n",
       "<g id=\"node12\" class=\"node\">\n",
       "<title>num_imputer</title>\n",
       "<g id=\"a_node12\"><a xlink:href=\"https://lale.readthedocs.io/en/latest/modules/lale.lib.autoai_libs.num_imputer.html\" xlink:title=\"num_imputer = NumImputer(missing_values=float(&#39;nan&#39;), strategy=&#39;median&#39;)\" target=\"_blank\">\n",
       "<ellipse fill=\"white\" stroke=\"black\" cx=\"607.39\" cy=\"-133\" rx=\"30.5\" ry=\"22.15\"/>\n",
       "<text text-anchor=\"middle\" x=\"607.39\" y=\"-136.05\" font-family=\"Times,serif\" font-size=\"11.00\">Num&#45;</text>\n",
       "<text text-anchor=\"middle\" x=\"607.39\" y=\"-122.55\" font-family=\"Times,serif\" font-size=\"11.00\">Imputer</text>\n",
       "</a>\n",
       "</g>\n",
       "</g>\n",
       "<!-- numpy_replace_missing_values_0&#45;&gt;num_imputer -->\n",
       "<g id=\"edge10\" class=\"edge\">\n",
       "<title>numpy_replace_missing_values_0&#45;&gt;num_imputer</title>\n",
       "<path fill=\"none\" stroke=\"black\" d=\"M536.44,-133.67C545.62,-133.58 555.65,-133.49 565.18,-133.4\"/>\n",
       "<polygon fill=\"black\" stroke=\"black\" points=\"564.98,-136.9 574.95,-133.3 564.91,-129.9 564.98,-136.9\"/>\n",
       "</g>\n",
       "<!-- opt_standard_scaler -->\n",
       "<g id=\"node13\" class=\"node\">\n",
       "<title>opt_standard_scaler</title>\n",
       "<g id=\"a_node13\"><a xlink:href=\"https://lale.readthedocs.io/en/latest/modules/lale.lib.autoai_libs.opt_standard_scaler.html\" xlink:title=\"opt_standard_scaler = OptStandardScaler(use_scaler_flag=False)\" target=\"_blank\">\n",
       "<ellipse fill=\"white\" stroke=\"black\" cx=\"710.23\" cy=\"-132\" rx=\"36.34\" ry=\"31.69\"/>\n",
       "<text text-anchor=\"middle\" x=\"710.23\" y=\"-141.8\" font-family=\"Times,serif\" font-size=\"11.00\">Opt&#45;</text>\n",
       "<text text-anchor=\"middle\" x=\"710.23\" y=\"-128.3\" font-family=\"Times,serif\" font-size=\"11.00\">Standard&#45;</text>\n",
       "<text text-anchor=\"middle\" x=\"710.23\" y=\"-114.8\" font-family=\"Times,serif\" font-size=\"11.00\">Scaler</text>\n",
       "</a>\n",
       "</g>\n",
       "</g>\n",
       "<!-- num_imputer&#45;&gt;opt_standard_scaler -->\n",
       "<g id=\"edge11\" class=\"edge\">\n",
       "<title>num_imputer&#45;&gt;opt_standard_scaler</title>\n",
       "<path fill=\"none\" stroke=\"black\" d=\"M638.37,-132.7C645.87,-132.63 654.09,-132.55 662.2,-132.47\"/>\n",
       "<polygon fill=\"black\" stroke=\"black\" points=\"662.02,-135.97 671.98,-132.37 661.95,-128.97 662.02,-135.97\"/>\n",
       "</g>\n",
       "<!-- float32_transform_0 -->\n",
       "<g id=\"node14\" class=\"node\">\n",
       "<title>float32_transform_0</title>\n",
       "<g id=\"a_node14\"><a xlink:href=\"https://lale.readthedocs.io/en/latest/modules/lale.lib.autoai_libs.float32_transform.html\" xlink:title=\"float32_transform_0 = float32_transform()\" target=\"_blank\">\n",
       "<ellipse fill=\"white\" stroke=\"black\" cx=\"818.91\" cy=\"-129\" rx=\"36.34\" ry=\"22.15\"/>\n",
       "<text text-anchor=\"middle\" x=\"818.91\" y=\"-132.05\" font-family=\"Times,serif\" font-size=\"11.00\">float32_&#45;</text>\n",
       "<text text-anchor=\"middle\" x=\"818.91\" y=\"-118.55\" font-family=\"Times,serif\" font-size=\"11.00\">transform</text>\n",
       "</a>\n",
       "</g>\n",
       "</g>\n",
       "<!-- opt_standard_scaler&#45;&gt;float32_transform_0 -->\n",
       "<g id=\"edge12\" class=\"edge\">\n",
       "<title>opt_standard_scaler&#45;&gt;float32_transform_0</title>\n",
       "<path fill=\"none\" stroke=\"black\" d=\"M747.05,-130.99C754.7,-130.78 762.88,-130.55 770.88,-130.32\"/>\n",
       "<polygon fill=\"black\" stroke=\"black\" points=\"770.96,-133.82 780.85,-130.04 770.76,-126.82 770.96,-133.82\"/>\n",
       "</g>\n",
       "<!-- float32_transform_0&#45;&gt;concat_features -->\n",
       "<g id=\"edge14\" class=\"edge\">\n",
       "<title>float32_transform_0&#45;&gt;concat_features</title>\n",
       "<path fill=\"none\" stroke=\"black\" d=\"M852.37,-119.9C861.93,-117.22 872.52,-114.26 882.54,-111.45\"/>\n",
       "<polygon fill=\"black\" stroke=\"black\" points=\"883.38,-114.85 892.06,-108.78 881.49,-108.11 883.38,-114.85\"/>\n",
       "</g>\n",
       "<!-- numpy_permute_array -->\n",
       "<g id=\"node16\" class=\"node\">\n",
       "<title>numpy_permute_array</title>\n",
       "<g id=\"a_node16\"><a xlink:href=\"https://lale.readthedocs.io/en/latest/modules/lale.lib.autoai_libs.numpy_permute_array.html\" xlink:title=\"numpy_permute_array = NumpyPermuteArray(axis=0, permutation_indices=[0, 1, 2, 3, 5, 6, 7, 8, 9, 10, 11, 12, 13, 14, 15, 16, 17, 18, 19, 4])\" target=\"_blank\">\n",
       "<ellipse fill=\"white\" stroke=\"black\" cx=\"1028.31\" cy=\"-100\" rx=\"34.75\" ry=\"31.69\"/>\n",
       "<text text-anchor=\"middle\" x=\"1028.31\" y=\"-109.8\" font-family=\"Times,serif\" font-size=\"11.00\">Numpy&#45;</text>\n",
       "<text text-anchor=\"middle\" x=\"1028.31\" y=\"-96.3\" font-family=\"Times,serif\" font-size=\"11.00\">Permute&#45;</text>\n",
       "<text text-anchor=\"middle\" x=\"1028.31\" y=\"-82.8\" font-family=\"Times,serif\" font-size=\"11.00\">Array</text>\n",
       "</a>\n",
       "</g>\n",
       "</g>\n",
       "<!-- concat_features&#45;&gt;numpy_permute_array -->\n",
       "<g id=\"edge15\" class=\"edge\">\n",
       "<title>concat_features&#45;&gt;numpy_permute_array</title>\n",
       "<path fill=\"none\" stroke=\"black\" d=\"M957.93,-100C965.61,-100 973.93,-100 982.06,-100\"/>\n",
       "<polygon fill=\"black\" stroke=\"black\" points=\"981.82,-103.5 991.82,-100 981.82,-96.5 981.82,-103.5\"/>\n",
       "</g>\n",
       "<!-- lr -->\n",
       "<g id=\"node17\" class=\"node\">\n",
       "<title>lr</title>\n",
       "<g id=\"a_node17\"><a xlink:href=\"https://lale.readthedocs.io/en/latest/modules/lale.lib.sklearn.logistic_regression.html\" xlink:title=\"lr = LR\" target=\"_blank\">\n",
       "<ellipse fill=\"#7ec0ee\" stroke=\"black\" cx=\"1126.05\" cy=\"-100\" rx=\"27\" ry=\"18\"/>\n",
       "<text text-anchor=\"middle\" x=\"1126.05\" y=\"-96.3\" font-family=\"Times,serif\" font-size=\"11.00\">LR</text>\n",
       "</a>\n",
       "</g>\n",
       "</g>\n",
       "<!-- numpy_permute_array&#45;&gt;lr -->\n",
       "<g id=\"edge16\" class=\"edge\">\n",
       "<title>numpy_permute_array&#45;&gt;lr</title>\n",
       "<path fill=\"none\" stroke=\"black\" d=\"M1079.05,-100C1081.86,-100 1084.66,-100 1087.41,-100\"/>\n",
       "<polygon fill=\"black\" stroke=\"black\" points=\"1079.54,-103.5 1089.54,-100 1079.54,-96.5 1079.54,-103.5\"/>\n",
       "</g>\n",
       "<!-- rf -->\n",
       "<g id=\"node18\" class=\"node\">\n",
       "<title>rf</title>\n",
       "<g id=\"a_node18\"><a xlink:href=\"https://lale.readthedocs.io/en/latest/modules/lale.lib.sklearn.random_forest_classifier.html\" xlink:title=\"rf = RF\" target=\"_blank\">\n",
       "<ellipse fill=\"#7ec0ee\" stroke=\"black\" cx=\"1126.05\" cy=\"-143\" rx=\"27\" ry=\"18\"/>\n",
       "<text text-anchor=\"middle\" x=\"1126.05\" y=\"-139.3\" font-family=\"Times,serif\" font-size=\"11.00\">RF</text>\n",
       "</a>\n",
       "</g>\n",
       "</g>\n",
       "</g>\n",
       "</svg>\n"
      ],
      "text/plain": [
       "<graphviz.graphs.Digraph at 0x16deb2090>"
      ]
     },
     "metadata": {},
     "output_type": "display_data"
    }
   ],
   "source": [
    "from sklearn.linear_model import LogisticRegression as LR\n",
    "from sklearn.ensemble import RandomForestClassifier as RF\n",
    "from lale.operator_wrapper import wrap_imported_operators\n",
    "wrap_imported_operators()\n",
    "\n",
    "di_remover = DisparateImpactRemover(**fairness_info, preparation=prefix)\n",
    "planned_fairer = di_remover >> (LR | RF)\n",
    "planned_fairer.visualize()"
   ]
  },
  {
   "cell_type": "markdown",
   "metadata": {},
   "source": [
    "Fairness metrics can be more unstable than accuracy, because they depend not just on the distribution of labels, but also on the distribution of privileged and unprivileged groups as defined by the protected attributes. In AI Automation, k-fold cross validation helps reduce overfitting. To get more stable results, we will stratify these k folds by both labels and groups with `FairStratifiedKFold` class."
   ]
  },
  {
   "cell_type": "code",
   "execution_count": 18,
   "metadata": {},
   "outputs": [],
   "source": [
    "from lale.lib.aif360 import FairStratifiedKFold\n",
    "\n",
    "fair_cv = FairStratifiedKFold(**fairness_info, n_splits=3)"
   ]
  },
  {
   "cell_type": "markdown",
   "metadata": {},
   "source": [
    "### Pipeline training\n",
    "\n",
    "To automatically select the algorithm and tune its hyperparameters we use `auto_configure` method of lale pipeline. The combined metric `accuracy_and_disparate_impact` is used as scoring metric in evaluation process.   "
   ]
  },
  {
   "cell_type": "code",
   "execution_count": 19,
   "metadata": {},
   "outputs": [
    {
     "name": "stdout",
     "output_type": "stream",
     "text": [
      "100%|██████████| 10/10 [00:29<00:00,  2.93s/trial, best loss: 0.1676332233430191]\n"
     ]
    }
   ],
   "source": [
    "from lale.lib.lale import Hyperopt\n",
    "\n",
    "trained_fairer = planned_fairer.auto_configure(\n",
    "    X_train, y_train, optimizer=Hyperopt, cv=fair_cv,\n",
    "    max_evals=10, scoring=combined_scorer, best_score=1.0)"
   ]
  },
  {
   "cell_type": "markdown",
   "metadata": {},
   "source": [
    "#### Results \n",
    "\n",
    "Visualize the final pipeline and calculate its metrics.  "
   ]
  },
  {
   "cell_type": "code",
   "execution_count": 20,
   "metadata": {},
   "outputs": [
    {
     "data": {
      "image/svg+xml": [
       "<?xml version=\"1.0\" encoding=\"UTF-8\" standalone=\"no\"?>\n",
       "<!DOCTYPE svg PUBLIC \"-//W3C//DTD SVG 1.1//EN\"\n",
       " \"http://www.w3.org/Graphics/SVG/1.1/DTD/svg11.dtd\">\n",
       "<!-- Generated by graphviz version 10.0.1 (20240210.2158)\n",
       " -->\n",
       "<!-- Title: cluster:(root) Pages: 1 -->\n",
       "<svg width=\"1161pt\" height=\"234pt\"\n",
       " viewBox=\"0.00 0.00 1161.05 234.00\" xmlns=\"http://www.w3.org/2000/svg\" xmlns:xlink=\"http://www.w3.org/1999/xlink\">\n",
       "<g id=\"graph0\" class=\"graph\" transform=\"scale(1 1) rotate(0) translate(4 230)\">\n",
       "<title>cluster:(root)</title>\n",
       "<g id=\"a_graph0\"><a xlink:title=\"(root) = ...\">\n",
       "<polygon fill=\"white\" stroke=\"none\" points=\"-4,4 -4,-230 1157.05,-230 1157.05,4 -4,4\"/>\n",
       "</a>\n",
       "</g>\n",
       "<g id=\"clust1\" class=\"cluster\">\n",
       "<title>cluster:disparate_impact_remover</title>\n",
       "<g id=\"a_clust1\"><a xlink:href=\"https://lale.readthedocs.io/en/latest/modules/lale.lib.aif360.disparate_impact_remover.html#lale.lib.aif360.disparate_impact_remover.DisparateImpactRemover\" xlink:title=\"disparate_impact_remover = DisparateImpactRemover(favorable_labels=[&#39;No Risk&#39;], protected_attributes=[{&#39;reference_group&#39;: [&#39;male&#39;], &#39;feature&#39;: &#39;Sex&#39;, &#39;monitored_group&#39;: [&#39;female&#39;]}, {&#39;reference_group&#39;: [[26, 75]], &#39;monitored_group&#39;: [[18, 25]], &#39;feature&#39;: &#39;Age&#39;}], unfavorable_labels=[&#39;Risk&#39;], preparat...)\" target=\"_blank\">\n",
       "<polygon fill=\"white\" stroke=\"black\" points=\"8,-8 8,-218 1079.05,-218 1079.05,-8 8,-8\"/>\n",
       "<text text-anchor=\"middle\" x=\"543.53\" y=\"-200.7\" font-family=\"Times,serif\" font-size=\"14.00\">DisparateImpactRemover</text>\n",
       "</a>\n",
       "</g>\n",
       "</g>\n",
       "<g id=\"clust2\" class=\"cluster\">\n",
       "<title>cluster:pipeline_0</title>\n",
       "<g id=\"a_clust2\"><a xlink:href=\"https://lale.readthedocs.io/en/latest/modules/lale.lib.aif360.disparate_impact_remover.html#lale.lib.aif360.disparate_impact_remover.DisparateImpactRemover\" xlink:title=\"pipeline_0 = ...\" target=\"_blank\">\n",
       "<path fill=\"#b0e2ff\" stroke=\"black\" d=\"M28,-16C28,-16 1059.05,-16 1059.05,-16 1065.05,-16 1071.05,-22 1071.05,-28 1071.05,-28 1071.05,-173 1071.05,-173 1071.05,-179 1065.05,-185 1059.05,-185 1059.05,-185 28,-185 28,-185 22,-185 16,-179 16,-173 16,-173 16,-28 16,-28 16,-22 22,-16 28,-16\"/>\n",
       "</a>\n",
       "</g>\n",
       "</g>\n",
       "<!-- numpy_column_selector -->\n",
       "<g id=\"node1\" class=\"node\">\n",
       "<title>numpy_column_selector</title>\n",
       "<g id=\"a_node1\"><a xlink:href=\"https://lale.readthedocs.io/en/latest/modules/lale.lib.autoai_libs.numpy_column_selector.html\" xlink:title=\"numpy_column_selector = NumpyColumnSelector(columns=[0, 1, 2, 3, 5, 6, 7, 8, 9, 10, 11, 12, 13, 14, 15, 16, 17, 18, 19])\" target=\"_blank\">\n",
       "<ellipse fill=\"white\" stroke=\"black\" cx=\"57.16\" cy=\"-65\" rx=\"33.16\" ry=\"31.69\"/>\n",
       "<text text-anchor=\"middle\" x=\"57.16\" y=\"-74.8\" font-family=\"Times,serif\" font-size=\"11.00\">Numpy&#45;</text>\n",
       "<text text-anchor=\"middle\" x=\"57.16\" y=\"-61.3\" font-family=\"Times,serif\" font-size=\"11.00\">Column&#45;</text>\n",
       "<text text-anchor=\"middle\" x=\"57.16\" y=\"-47.8\" font-family=\"Times,serif\" font-size=\"11.00\">Selector</text>\n",
       "</a>\n",
       "</g>\n",
       "</g>\n",
       "<!-- compress_strings -->\n",
       "<g id=\"node2\" class=\"node\">\n",
       "<title>compress_strings</title>\n",
       "<g id=\"a_node2\"><a xlink:href=\"https://lale.readthedocs.io/en/latest/modules/lale.lib.autoai_libs.compress_strings.html\" xlink:title=\"compress_strings = CompressStrings(compress_type=&#39;hash&#39;, dtypes_list=[&#39;char_str&#39;, &#39;float_int_num&#39;, &#39;char_str&#39;, &#39;char_str&#39;, &#39;char_str&#39;, &#39;char_str&#39;, &#39;float_int_num&#39;, &#39;char_str&#39;, &#39;char_str&#39;, &#39;float_int_num&#39;, &#39;char_str&#39;, &#39;float_int_num&#39;, &#39;char_str&#39;, &#39;char_str&#39;, &#39;float_int_num&#39;, &#39;char_str&#39;, ...)\" target=\"_blank\">\n",
       "<ellipse fill=\"white\" stroke=\"black\" cx=\"166.36\" cy=\"-65\" rx=\"40.05\" ry=\"22.15\"/>\n",
       "<text text-anchor=\"middle\" x=\"166.36\" y=\"-68.05\" font-family=\"Times,serif\" font-size=\"11.00\">Compress&#45;</text>\n",
       "<text text-anchor=\"middle\" x=\"166.36\" y=\"-54.55\" font-family=\"Times,serif\" font-size=\"11.00\">Strings</text>\n",
       "</a>\n",
       "</g>\n",
       "</g>\n",
       "<!-- numpy_column_selector&#45;&gt;compress_strings -->\n",
       "<g id=\"edge1\" class=\"edge\">\n",
       "<title>numpy_column_selector&#45;&gt;compress_strings</title>\n",
       "<path fill=\"none\" stroke=\"black\" d=\"M90.61,-65C98.15,-65 106.36,-65 114.48,-65\"/>\n",
       "<polygon fill=\"black\" stroke=\"black\" points=\"114.31,-68.5 124.31,-65 114.31,-61.5 114.31,-68.5\"/>\n",
       "</g>\n",
       "<!-- numpy_replace_missing_values -->\n",
       "<g id=\"node3\" class=\"node\">\n",
       "<title>numpy_replace_missing_values</title>\n",
       "<g id=\"a_node3\"><a xlink:href=\"https://lale.readthedocs.io/en/latest/modules/lale.lib.autoai_libs.numpy_replace_missing_values.html\" xlink:title=\"numpy_replace_missing_values = NumpyReplaceMissingValues(filling_values=float(&#39;nan&#39;), missing_values=[])\" target=\"_blank\">\n",
       "<ellipse fill=\"white\" stroke=\"black\" cx=\"277.16\" cy=\"-65\" rx=\"34.75\" ry=\"41.24\"/>\n",
       "<text text-anchor=\"middle\" x=\"277.16\" y=\"-81.55\" font-family=\"Times,serif\" font-size=\"11.00\">Numpy&#45;</text>\n",
       "<text text-anchor=\"middle\" x=\"277.16\" y=\"-68.05\" font-family=\"Times,serif\" font-size=\"11.00\">Replace&#45;</text>\n",
       "<text text-anchor=\"middle\" x=\"277.16\" y=\"-54.55\" font-family=\"Times,serif\" font-size=\"11.00\">Missing&#45;</text>\n",
       "<text text-anchor=\"middle\" x=\"277.16\" y=\"-41.05\" font-family=\"Times,serif\" font-size=\"11.00\">Values</text>\n",
       "</a>\n",
       "</g>\n",
       "</g>\n",
       "<!-- compress_strings&#45;&gt;numpy_replace_missing_values -->\n",
       "<g id=\"edge2\" class=\"edge\">\n",
       "<title>compress_strings&#45;&gt;numpy_replace_missing_values</title>\n",
       "<path fill=\"none\" stroke=\"black\" d=\"M206.64,-65C214.41,-65 222.63,-65 230.59,-65\"/>\n",
       "<polygon fill=\"black\" stroke=\"black\" points=\"230.47,-68.5 240.47,-65 230.47,-61.5 230.47,-68.5\"/>\n",
       "</g>\n",
       "<!-- numpy_replace_unknown_values -->\n",
       "<g id=\"node4\" class=\"node\">\n",
       "<title>numpy_replace_unknown_values</title>\n",
       "<g id=\"a_node4\"><a xlink:href=\"https://lale.readthedocs.io/en/latest/modules/lale.lib.autoai_libs.numpy_replace_unknown_values.html\" xlink:title=\"numpy_replace_unknown_values = NumpyReplaceUnknownValues(filling_values=float(&#39;nan&#39;), filling_values_list=[float(&#39;nan&#39;), 100001, float(&#39;nan&#39;), float(&#39;nan&#39;), float(&#39;nan&#39;), float(&#39;nan&#39;), 100001, float(&#39;nan&#39;), float(&#39;nan&#39;), 100001, float(&#39;nan&#39;), 100001, float(&#39;nan&#39;), float(&#39;nan&#39;), 100001, float(&#39;nan&#39;), 100001, ...)\" target=\"_blank\">\n",
       "<ellipse fill=\"white\" stroke=\"black\" cx=\"386.9\" cy=\"-65\" rx=\"38.99\" ry=\"41.24\"/>\n",
       "<text text-anchor=\"middle\" x=\"386.9\" y=\"-81.55\" font-family=\"Times,serif\" font-size=\"11.00\">Numpy&#45;</text>\n",
       "<text text-anchor=\"middle\" x=\"386.9\" y=\"-68.05\" font-family=\"Times,serif\" font-size=\"11.00\">Replace&#45;</text>\n",
       "<text text-anchor=\"middle\" x=\"386.9\" y=\"-54.55\" font-family=\"Times,serif\" font-size=\"11.00\">Unknown&#45;</text>\n",
       "<text text-anchor=\"middle\" x=\"386.9\" y=\"-41.05\" font-family=\"Times,serif\" font-size=\"11.00\">Values</text>\n",
       "</a>\n",
       "</g>\n",
       "</g>\n",
       "<!-- numpy_replace_missing_values&#45;&gt;numpy_replace_unknown_values -->\n",
       "<g id=\"edge3\" class=\"edge\">\n",
       "<title>numpy_replace_missing_values&#45;&gt;numpy_replace_unknown_values</title>\n",
       "<path fill=\"none\" stroke=\"black\" d=\"M312.25,-65C319.88,-65 328.12,-65 336.23,-65\"/>\n",
       "<polygon fill=\"black\" stroke=\"black\" points=\"336.02,-68.5 346.02,-65 336.02,-61.5 336.02,-68.5\"/>\n",
       "</g>\n",
       "<!-- boolean2float -->\n",
       "<g id=\"node5\" class=\"node\">\n",
       "<title>boolean2float</title>\n",
       "<g id=\"a_node5\"><a xlink:href=\"https://lale.readthedocs.io/en/latest/modules/lale.lib.autoai_libs.boolean2float.html\" xlink:title=\"boolean2float = boolean2float()\" target=\"_blank\">\n",
       "<ellipse fill=\"white\" stroke=\"black\" cx=\"501.39\" cy=\"-66\" rx=\"39.5\" ry=\"18\"/>\n",
       "<text text-anchor=\"middle\" x=\"501.39\" y=\"-62.3\" font-family=\"Times,serif\" font-size=\"11.00\">boolean2float</text>\n",
       "</a>\n",
       "</g>\n",
       "</g>\n",
       "<!-- numpy_replace_unknown_values&#45;&gt;boolean2float -->\n",
       "<g id=\"edge4\" class=\"edge\">\n",
       "<title>numpy_replace_unknown_values&#45;&gt;boolean2float</title>\n",
       "<path fill=\"none\" stroke=\"black\" d=\"M426.3,-65.34C433.91,-65.41 442.01,-65.48 449.95,-65.55\"/>\n",
       "<polygon fill=\"black\" stroke=\"black\" points=\"449.85,-69.05 459.88,-65.64 449.92,-62.05 449.85,-69.05\"/>\n",
       "</g>\n",
       "<!-- cat_imputer -->\n",
       "<g id=\"node6\" class=\"node\">\n",
       "<title>cat_imputer</title>\n",
       "<g id=\"a_node6\"><a xlink:href=\"https://lale.readthedocs.io/en/latest/modules/lale.lib.autoai_libs.cat_imputer.html\" xlink:title=\"cat_imputer = CatImputer(missing_values=float(&#39;nan&#39;), sklearn_version_family=&#39;1&#39;, strategy=&#39;most_frequent&#39;)\" target=\"_blank\">\n",
       "<ellipse fill=\"white\" stroke=\"black\" cx=\"607.39\" cy=\"-68\" rx=\"30.5\" ry=\"22.15\"/>\n",
       "<text text-anchor=\"middle\" x=\"607.39\" y=\"-71.05\" font-family=\"Times,serif\" font-size=\"11.00\">Cat&#45;</text>\n",
       "<text text-anchor=\"middle\" x=\"607.39\" y=\"-57.55\" font-family=\"Times,serif\" font-size=\"11.00\">Imputer</text>\n",
       "</a>\n",
       "</g>\n",
       "</g>\n",
       "<!-- boolean2float&#45;&gt;cat_imputer -->\n",
       "<g id=\"edge5\" class=\"edge\">\n",
       "<title>boolean2float&#45;&gt;cat_imputer</title>\n",
       "<path fill=\"none\" stroke=\"black\" d=\"M541.11,-66.74C548.95,-66.9 557.22,-67.05 565.14,-67.21\"/>\n",
       "<polygon fill=\"black\" stroke=\"black\" points=\"564.83,-70.7 574.89,-67.39 564.96,-63.7 564.83,-70.7\"/>\n",
       "</g>\n",
       "<!-- cat_encoder -->\n",
       "<g id=\"node7\" class=\"node\">\n",
       "<title>cat_encoder</title>\n",
       "<g id=\"a_node7\"><a xlink:href=\"https://lale.readthedocs.io/en/latest/modules/lale.lib.autoai_libs.cat_encoder.html\" xlink:title=\"cat_encoder = CatEncoder(dtype=np.float64, handle_unknown=&#39;error&#39;, sklearn_version_family=&#39;1&#39;, encoding=&#39;ordinal&#39;, categories=&#39;auto&#39;)\" target=\"_blank\">\n",
       "<ellipse fill=\"white\" stroke=\"black\" cx=\"710.23\" cy=\"-70\" rx=\"32.1\" ry=\"22.15\"/>\n",
       "<text text-anchor=\"middle\" x=\"710.23\" y=\"-73.05\" font-family=\"Times,serif\" font-size=\"11.00\">Cat&#45;</text>\n",
       "<text text-anchor=\"middle\" x=\"710.23\" y=\"-59.55\" font-family=\"Times,serif\" font-size=\"11.00\">Encoder</text>\n",
       "</a>\n",
       "</g>\n",
       "</g>\n",
       "<!-- cat_imputer&#45;&gt;cat_encoder -->\n",
       "<g id=\"edge6\" class=\"edge\">\n",
       "<title>cat_imputer&#45;&gt;cat_encoder</title>\n",
       "<path fill=\"none\" stroke=\"black\" d=\"M638.37,-68.59C647.21,-68.77 657.05,-68.96 666.51,-69.15\"/>\n",
       "<polygon fill=\"black\" stroke=\"black\" points=\"666.21,-72.65 676.27,-69.35 666.35,-65.65 666.21,-72.65\"/>\n",
       "</g>\n",
       "<!-- float32_transform -->\n",
       "<g id=\"node8\" class=\"node\">\n",
       "<title>float32_transform</title>\n",
       "<g id=\"a_node8\"><a xlink:href=\"https://lale.readthedocs.io/en/latest/modules/lale.lib.autoai_libs.float32_transform.html\" xlink:title=\"float32_transform = float32_transform()\" target=\"_blank\">\n",
       "<ellipse fill=\"white\" stroke=\"black\" cx=\"818.91\" cy=\"-75\" rx=\"36.34\" ry=\"22.15\"/>\n",
       "<text text-anchor=\"middle\" x=\"818.91\" y=\"-78.05\" font-family=\"Times,serif\" font-size=\"11.00\">float32_&#45;</text>\n",
       "<text text-anchor=\"middle\" x=\"818.91\" y=\"-64.55\" font-family=\"Times,serif\" font-size=\"11.00\">transform</text>\n",
       "</a>\n",
       "</g>\n",
       "</g>\n",
       "<!-- cat_encoder&#45;&gt;float32_transform -->\n",
       "<g id=\"edge7\" class=\"edge\">\n",
       "<title>cat_encoder&#45;&gt;float32_transform</title>\n",
       "<path fill=\"none\" stroke=\"black\" d=\"M742.66,-71.47C751.49,-71.89 761.28,-72.35 770.81,-72.79\"/>\n",
       "<polygon fill=\"black\" stroke=\"black\" points=\"770.55,-76.28 780.7,-73.26 770.87,-69.29 770.55,-76.28\"/>\n",
       "</g>\n",
       "<!-- concat_features -->\n",
       "<g id=\"node15\" class=\"node\">\n",
       "<title>concat_features</title>\n",
       "<g id=\"a_node15\"><a xlink:href=\"https://lale.readthedocs.io/en/latest/modules/lale.lib.rasl.concat_features.html\" xlink:title=\"concat_features = ConcatFeatures()\" target=\"_blank\">\n",
       "<ellipse fill=\"white\" stroke=\"black\" cx=\"924.4\" cy=\"-100\" rx=\"33.16\" ry=\"22.15\"/>\n",
       "<text text-anchor=\"middle\" x=\"924.4\" y=\"-103.05\" font-family=\"Times,serif\" font-size=\"11.00\">Concat&#45;</text>\n",
       "<text text-anchor=\"middle\" x=\"924.4\" y=\"-89.55\" font-family=\"Times,serif\" font-size=\"11.00\">Features</text>\n",
       "</a>\n",
       "</g>\n",
       "</g>\n",
       "<!-- float32_transform&#45;&gt;concat_features -->\n",
       "<g id=\"edge13\" class=\"edge\">\n",
       "<title>float32_transform&#45;&gt;concat_features</title>\n",
       "<path fill=\"none\" stroke=\"black\" d=\"M853.22,-83.05C862.4,-85.26 872.46,-87.69 882.03,-90.01\"/>\n",
       "<polygon fill=\"black\" stroke=\"black\" points=\"880.94,-93.34 891.48,-92.29 882.58,-86.54 880.94,-93.34\"/>\n",
       "</g>\n",
       "<!-- numpy_column_selector_0 -->\n",
       "<g id=\"node9\" class=\"node\">\n",
       "<title>numpy_column_selector_0</title>\n",
       "<g id=\"a_node9\"><a xlink:href=\"https://lale.readthedocs.io/en/latest/modules/lale.lib.autoai_libs.numpy_column_selector.html\" xlink:title=\"numpy_column_selector_0 = NumpyColumnSelector(columns=[4])\" target=\"_blank\">\n",
       "<ellipse fill=\"white\" stroke=\"black\" cx=\"277.16\" cy=\"-145\" rx=\"33.16\" ry=\"31.69\"/>\n",
       "<text text-anchor=\"middle\" x=\"277.16\" y=\"-154.8\" font-family=\"Times,serif\" font-size=\"11.00\">Numpy&#45;</text>\n",
       "<text text-anchor=\"middle\" x=\"277.16\" y=\"-141.3\" font-family=\"Times,serif\" font-size=\"11.00\">Column&#45;</text>\n",
       "<text text-anchor=\"middle\" x=\"277.16\" y=\"-127.8\" font-family=\"Times,serif\" font-size=\"11.00\">Selector</text>\n",
       "</a>\n",
       "</g>\n",
       "</g>\n",
       "<!-- float_str2_float -->\n",
       "<g id=\"node10\" class=\"node\">\n",
       "<title>float_str2_float</title>\n",
       "<g id=\"a_node10\"><a xlink:href=\"https://lale.readthedocs.io/en/latest/modules/lale.lib.autoai_libs.float_str2_float.html\" xlink:title=\"float_str2_float = FloatStr2Float(dtypes_list=[&#39;float_int_num&#39;], missing_values_reference_list=[])\" target=\"_blank\">\n",
       "<ellipse fill=\"white\" stroke=\"black\" cx=\"386.9\" cy=\"-145\" rx=\"27\" ry=\"31.69\"/>\n",
       "<text text-anchor=\"middle\" x=\"386.9\" y=\"-154.8\" font-family=\"Times,serif\" font-size=\"11.00\">Float&#45;</text>\n",
       "<text text-anchor=\"middle\" x=\"386.9\" y=\"-141.3\" font-family=\"Times,serif\" font-size=\"11.00\">Str2&#45;</text>\n",
       "<text text-anchor=\"middle\" x=\"386.9\" y=\"-127.8\" font-family=\"Times,serif\" font-size=\"11.00\">Float</text>\n",
       "</a>\n",
       "</g>\n",
       "</g>\n",
       "<!-- numpy_column_selector_0&#45;&gt;float_str2_float -->\n",
       "<g id=\"edge8\" class=\"edge\">\n",
       "<title>numpy_column_selector_0&#45;&gt;float_str2_float</title>\n",
       "<path fill=\"none\" stroke=\"black\" d=\"M310.78,-145C322.61,-145 336.06,-145 348.28,-145\"/>\n",
       "<polygon fill=\"black\" stroke=\"black\" points=\"348.02,-148.5 358.02,-145 348.02,-141.5 348.02,-148.5\"/>\n",
       "</g>\n",
       "<!-- numpy_replace_missing_values_0 -->\n",
       "<g id=\"node11\" class=\"node\">\n",
       "<title>numpy_replace_missing_values_0</title>\n",
       "<g id=\"a_node11\"><a xlink:href=\"https://lale.readthedocs.io/en/latest/modules/lale.lib.autoai_libs.numpy_replace_missing_values.html\" xlink:title=\"numpy_replace_missing_values_0 = NumpyReplaceMissingValues(filling_values=float(&#39;nan&#39;), missing_values=[])\" target=\"_blank\">\n",
       "<ellipse fill=\"white\" stroke=\"black\" cx=\"501.39\" cy=\"-134\" rx=\"34.75\" ry=\"41.24\"/>\n",
       "<text text-anchor=\"middle\" x=\"501.39\" y=\"-150.55\" font-family=\"Times,serif\" font-size=\"11.00\">Numpy&#45;</text>\n",
       "<text text-anchor=\"middle\" x=\"501.39\" y=\"-137.05\" font-family=\"Times,serif\" font-size=\"11.00\">Replace&#45;</text>\n",
       "<text text-anchor=\"middle\" x=\"501.39\" y=\"-123.55\" font-family=\"Times,serif\" font-size=\"11.00\">Missing&#45;</text>\n",
       "<text text-anchor=\"middle\" x=\"501.39\" y=\"-110.05\" font-family=\"Times,serif\" font-size=\"11.00\">Values</text>\n",
       "</a>\n",
       "</g>\n",
       "</g>\n",
       "<!-- float_str2_float&#45;&gt;numpy_replace_missing_values_0 -->\n",
       "<g id=\"edge9\" class=\"edge\">\n",
       "<title>float_str2_float&#45;&gt;numpy_replace_missing_values_0</title>\n",
       "<path fill=\"none\" stroke=\"black\" d=\"M414.27,-142.42C426.45,-141.23 441.25,-139.78 455.13,-138.43\"/>\n",
       "<polygon fill=\"black\" stroke=\"black\" points=\"455.37,-141.92 464.99,-137.46 454.69,-134.95 455.37,-141.92\"/>\n",
       "</g>\n",
       "<!-- num_imputer -->\n",
       "<g id=\"node12\" class=\"node\">\n",
       "<title>num_imputer</title>\n",
       "<g id=\"a_node12\"><a xlink:href=\"https://lale.readthedocs.io/en/latest/modules/lale.lib.autoai_libs.num_imputer.html\" xlink:title=\"num_imputer = NumImputer(missing_values=float(&#39;nan&#39;), strategy=&#39;median&#39;)\" target=\"_blank\">\n",
       "<ellipse fill=\"white\" stroke=\"black\" cx=\"607.39\" cy=\"-133\" rx=\"30.5\" ry=\"22.15\"/>\n",
       "<text text-anchor=\"middle\" x=\"607.39\" y=\"-136.05\" font-family=\"Times,serif\" font-size=\"11.00\">Num&#45;</text>\n",
       "<text text-anchor=\"middle\" x=\"607.39\" y=\"-122.55\" font-family=\"Times,serif\" font-size=\"11.00\">Imputer</text>\n",
       "</a>\n",
       "</g>\n",
       "</g>\n",
       "<!-- numpy_replace_missing_values_0&#45;&gt;num_imputer -->\n",
       "<g id=\"edge10\" class=\"edge\">\n",
       "<title>numpy_replace_missing_values_0&#45;&gt;num_imputer</title>\n",
       "<path fill=\"none\" stroke=\"black\" d=\"M536.44,-133.67C545.62,-133.58 555.65,-133.49 565.18,-133.4\"/>\n",
       "<polygon fill=\"black\" stroke=\"black\" points=\"564.98,-136.9 574.95,-133.3 564.91,-129.9 564.98,-136.9\"/>\n",
       "</g>\n",
       "<!-- opt_standard_scaler -->\n",
       "<g id=\"node13\" class=\"node\">\n",
       "<title>opt_standard_scaler</title>\n",
       "<g id=\"a_node13\"><a xlink:href=\"https://lale.readthedocs.io/en/latest/modules/lale.lib.autoai_libs.opt_standard_scaler.html\" xlink:title=\"opt_standard_scaler = OptStandardScaler(use_scaler_flag=False)\" target=\"_blank\">\n",
       "<ellipse fill=\"white\" stroke=\"black\" cx=\"710.23\" cy=\"-132\" rx=\"36.34\" ry=\"31.69\"/>\n",
       "<text text-anchor=\"middle\" x=\"710.23\" y=\"-141.8\" font-family=\"Times,serif\" font-size=\"11.00\">Opt&#45;</text>\n",
       "<text text-anchor=\"middle\" x=\"710.23\" y=\"-128.3\" font-family=\"Times,serif\" font-size=\"11.00\">Standard&#45;</text>\n",
       "<text text-anchor=\"middle\" x=\"710.23\" y=\"-114.8\" font-family=\"Times,serif\" font-size=\"11.00\">Scaler</text>\n",
       "</a>\n",
       "</g>\n",
       "</g>\n",
       "<!-- num_imputer&#45;&gt;opt_standard_scaler -->\n",
       "<g id=\"edge11\" class=\"edge\">\n",
       "<title>num_imputer&#45;&gt;opt_standard_scaler</title>\n",
       "<path fill=\"none\" stroke=\"black\" d=\"M638.37,-132.7C645.87,-132.63 654.09,-132.55 662.2,-132.47\"/>\n",
       "<polygon fill=\"black\" stroke=\"black\" points=\"662.02,-135.97 671.98,-132.37 661.95,-128.97 662.02,-135.97\"/>\n",
       "</g>\n",
       "<!-- float32_transform_0 -->\n",
       "<g id=\"node14\" class=\"node\">\n",
       "<title>float32_transform_0</title>\n",
       "<g id=\"a_node14\"><a xlink:href=\"https://lale.readthedocs.io/en/latest/modules/lale.lib.autoai_libs.float32_transform.html\" xlink:title=\"float32_transform_0 = float32_transform()\" target=\"_blank\">\n",
       "<ellipse fill=\"white\" stroke=\"black\" cx=\"818.91\" cy=\"-129\" rx=\"36.34\" ry=\"22.15\"/>\n",
       "<text text-anchor=\"middle\" x=\"818.91\" y=\"-132.05\" font-family=\"Times,serif\" font-size=\"11.00\">float32_&#45;</text>\n",
       "<text text-anchor=\"middle\" x=\"818.91\" y=\"-118.55\" font-family=\"Times,serif\" font-size=\"11.00\">transform</text>\n",
       "</a>\n",
       "</g>\n",
       "</g>\n",
       "<!-- opt_standard_scaler&#45;&gt;float32_transform_0 -->\n",
       "<g id=\"edge12\" class=\"edge\">\n",
       "<title>opt_standard_scaler&#45;&gt;float32_transform_0</title>\n",
       "<path fill=\"none\" stroke=\"black\" d=\"M747.05,-130.99C754.7,-130.78 762.88,-130.55 770.88,-130.32\"/>\n",
       "<polygon fill=\"black\" stroke=\"black\" points=\"770.96,-133.82 780.85,-130.04 770.76,-126.82 770.96,-133.82\"/>\n",
       "</g>\n",
       "<!-- float32_transform_0&#45;&gt;concat_features -->\n",
       "<g id=\"edge14\" class=\"edge\">\n",
       "<title>float32_transform_0&#45;&gt;concat_features</title>\n",
       "<path fill=\"none\" stroke=\"black\" d=\"M852.37,-119.9C861.93,-117.22 872.52,-114.26 882.54,-111.45\"/>\n",
       "<polygon fill=\"black\" stroke=\"black\" points=\"883.38,-114.85 892.06,-108.78 881.49,-108.11 883.38,-114.85\"/>\n",
       "</g>\n",
       "<!-- numpy_permute_array -->\n",
       "<g id=\"node16\" class=\"node\">\n",
       "<title>numpy_permute_array</title>\n",
       "<g id=\"a_node16\"><a xlink:href=\"https://lale.readthedocs.io/en/latest/modules/lale.lib.autoai_libs.numpy_permute_array.html\" xlink:title=\"numpy_permute_array = NumpyPermuteArray(axis=0, permutation_indices=[0, 1, 2, 3, 5, 6, 7, 8, 9, 10, 11, 12, 13, 14, 15, 16, 17, 18, 19, 4])\" target=\"_blank\">\n",
       "<ellipse fill=\"white\" stroke=\"black\" cx=\"1028.31\" cy=\"-100\" rx=\"34.75\" ry=\"31.69\"/>\n",
       "<text text-anchor=\"middle\" x=\"1028.31\" y=\"-109.8\" font-family=\"Times,serif\" font-size=\"11.00\">Numpy&#45;</text>\n",
       "<text text-anchor=\"middle\" x=\"1028.31\" y=\"-96.3\" font-family=\"Times,serif\" font-size=\"11.00\">Permute&#45;</text>\n",
       "<text text-anchor=\"middle\" x=\"1028.31\" y=\"-82.8\" font-family=\"Times,serif\" font-size=\"11.00\">Array</text>\n",
       "</a>\n",
       "</g>\n",
       "</g>\n",
       "<!-- concat_features&#45;&gt;numpy_permute_array -->\n",
       "<g id=\"edge15\" class=\"edge\">\n",
       "<title>concat_features&#45;&gt;numpy_permute_array</title>\n",
       "<path fill=\"none\" stroke=\"black\" d=\"M957.93,-100C965.61,-100 973.93,-100 982.06,-100\"/>\n",
       "<polygon fill=\"black\" stroke=\"black\" points=\"981.82,-103.5 991.82,-100 981.82,-96.5 981.82,-103.5\"/>\n",
       "</g>\n",
       "<!-- lr -->\n",
       "<g id=\"node17\" class=\"node\">\n",
       "<title>lr</title>\n",
       "<g id=\"a_node17\"><a xlink:href=\"https://lale.readthedocs.io/en/latest/modules/lale.lib.sklearn.logistic_regression.html\" xlink:title=\"lr = LR(dual=True, fit_intercept=False, intercept_scaling=0.45366534380629886, max_iter=196, multi_class=&#39;ovr&#39;, solver=&#39;liblinear&#39;, tol=0.0002093662203197455)\" target=\"_blank\">\n",
       "<ellipse fill=\"white\" stroke=\"black\" cx=\"1126.05\" cy=\"-100\" rx=\"27\" ry=\"18\"/>\n",
       "<text text-anchor=\"middle\" x=\"1126.05\" y=\"-96.3\" font-family=\"Times,serif\" font-size=\"11.00\">LR</text>\n",
       "</a>\n",
       "</g>\n",
       "</g>\n",
       "<!-- numpy_permute_array&#45;&gt;lr -->\n",
       "<g id=\"edge16\" class=\"edge\">\n",
       "<title>numpy_permute_array&#45;&gt;lr</title>\n",
       "<path fill=\"none\" stroke=\"black\" d=\"M1079.05,-100C1081.86,-100 1084.66,-100 1087.41,-100\"/>\n",
       "<polygon fill=\"black\" stroke=\"black\" points=\"1087.15,-103.5 1097.15,-100 1087.15,-96.5 1087.15,-103.5\"/>\n",
       "</g>\n",
       "</g>\n",
       "</svg>\n"
      ],
      "text/plain": [
       "<graphviz.graphs.Digraph at 0x16dfb9890>"
      ]
     },
     "metadata": {},
     "output_type": "display_data"
    }
   ],
   "source": [
    "trained_fairer.visualize()"
   ]
  },
  {
   "cell_type": "code",
   "execution_count": 21,
   "metadata": {},
   "outputs": [
    {
     "name": "stdout",
     "output_type": "stream",
     "text": [
      "accuracy 66.5%\n",
      "disparate impact 1.00\n",
      "accuracy and disparate impact metric 0.83\n"
     ]
    }
   ],
   "source": [
    "print(f'accuracy {accuracy_scorer(trained_fairer, X_holdout, y_holdout):.1%}')\n",
    "print(f'disparate impact {disparate_impact_scorer(trained_fairer, X_holdout, y_holdout):.2f}')\n",
    "print(f'accuracy and disparate impact metric {combined_scorer(trained_fairer, X_holdout, y_holdout):.2f}')\n"
   ]
  },
  {
   "cell_type": "markdown",
   "metadata": {},
   "source": [
    "**Summary:** As result of the described steps we received unbiased pipeline model based on disparate impact value, however the accuracy of the model decreased from 70% to 66%."
   ]
  },
  {
   "cell_type": "markdown",
   "metadata": {},
   "source": [
    "<a id=\"scoring\"></a>\n",
    "## 5. Deploy and Score\n",
    "In this section you will learn how to deploy and score Lale pipeline model using WML instance."
   ]
  },
  {
   "cell_type": "markdown",
   "metadata": {},
   "source": [
    "#### Custom software_specification"
   ]
  },
  {
   "cell_type": "markdown",
   "metadata": {},
   "source": [
    "Created model is AutoAI model refined with Lale. We will create new software specification based on default Python 3.11 environment extended by  `autoai-libs` package."
   ]
  },
  {
   "cell_type": "code",
   "execution_count": 22,
   "metadata": {
    "scrolled": true
   },
   "outputs": [
    {
     "name": "stdout",
     "output_type": "stream",
     "text": [
      "Id of default Python 3.11 software specification is:  45f12dfe-aa78-5b8d-9f38-0ee223c47309\n"
     ]
    }
   ],
   "source": [
    "base_sw_spec_id = client.software_specifications.get_id_by_name(\"runtime-24.1-py3.11\")\n",
    "print(\"Id of default Python 3.11 software specification is: \", base_sw_spec_id)"
   ]
  },
  {
   "cell_type": "code",
   "execution_count": 23,
   "metadata": {},
   "outputs": [],
   "source": [
    "import os\n",
    "import wget\n",
    "\n",
    "url = 'https://raw.githubusercontent.com/IBM/watson-machine-learning-samples/master/cpd5.0/configs/config.yaml'\n",
    "if not os.path.isfile('config.yaml'): wget.download(url)"
   ]
  },
  {
   "cell_type": "code",
   "execution_count": null,
   "metadata": {},
   "outputs": [],
   "source": [
    "!cat config.yaml"
   ]
  },
  {
   "cell_type": "markdown",
   "metadata": {},
   "source": [
    "`config.yaml` file describes details of package extention. Now you need to store new package extention with  `APIClient`."
   ]
  },
  {
   "cell_type": "code",
   "execution_count": 25,
   "metadata": {},
   "outputs": [
    {
     "name": "stdout",
     "output_type": "stream",
     "text": [
      "Creating package extensions\n",
      "SUCCESS\n"
     ]
    }
   ],
   "source": [
    "meta_prop_pkg_extn = {\n",
    "    client.package_extensions.ConfigurationMetaNames.NAME: \"Scikt with autoai-libs\",\n",
    "    client.package_extensions.ConfigurationMetaNames.DESCRIPTION: \"Pkg extension for autoai-libs\",\n",
    "    client.package_extensions.ConfigurationMetaNames.TYPE: \"conda_yml\"\n",
    "}\n",
    "\n",
    "pkg_extn_details = client.package_extensions.store(meta_props=meta_prop_pkg_extn, file_path=\"config.yaml\")\n",
    "pkg_extn_id = client.package_extensions.get_id(pkg_extn_details)\n",
    "pkg_extn_url = client.package_extensions.get_href(pkg_extn_details)"
   ]
  },
  {
   "cell_type": "markdown",
   "metadata": {},
   "source": [
    "Create new software specification and add created package extention to it. "
   ]
  },
  {
   "cell_type": "code",
   "execution_count": 26,
   "metadata": {},
   "outputs": [
    {
     "name": "stdout",
     "output_type": "stream",
     "text": [
      "SUCCESS\n"
     ]
    }
   ],
   "source": [
    "meta_prop_sw_spec = {\n",
    "    client.software_specifications.ConfigurationMetaNames.NAME: \"Mitigated AutoAI bases on scikit spec\",\n",
    "    client.software_specifications.ConfigurationMetaNames.DESCRIPTION: \"Software specification for scikt with autoai-libs\",\n",
    "    client.software_specifications.ConfigurationMetaNames.BASE_SOFTWARE_SPECIFICATION: {\"guid\": base_sw_spec_id}\n",
    "}\n",
    "\n",
    "sw_spec_details = client.software_specifications.store(meta_props=meta_prop_sw_spec)\n",
    "sw_spec_id = client.software_specifications.get_id(sw_spec_details)\n",
    "\n",
    "\n",
    "status = client.software_specifications.add_package_extension(sw_spec_id, pkg_extn_id)"
   ]
  },
  {
   "cell_type": "markdown",
   "metadata": {},
   "source": [
    "You can get details of created software specification using `client.software_specifications.get_details(sw_spec_id)`"
   ]
  },
  {
   "cell_type": "markdown",
   "metadata": {},
   "source": [
    "### Store the model"
   ]
  },
  {
   "cell_type": "code",
   "execution_count": 27,
   "metadata": {},
   "outputs": [],
   "source": [
    "model_props = {\n",
    "    client.repository.ModelMetaNames.NAME: \"Fairer AutoAI model\",\n",
    "    client.repository.ModelMetaNames.TYPE: 'scikit-learn_1.3',\n",
    "    client.repository.ModelMetaNames.SOFTWARE_SPEC_ID: sw_spec_id\n",
    "    \n",
    "}\n",
    "feature_vector = list(X_train.columns)"
   ]
  },
  {
   "cell_type": "code",
   "execution_count": 28,
   "metadata": {},
   "outputs": [],
   "source": [
    "published_model = client.repository.store_model(\n",
    "    model=best_pipeline.export_to_sklearn_pipeline(), \n",
    "    meta_props=model_props,\n",
    "    training_data=X_train.values,\n",
    "    training_target=y_train.values,\n",
    "    feature_names=feature_vector,\n",
    "    label_column_names=['Risk']\n",
    ")"
   ]
  },
  {
   "cell_type": "code",
   "execution_count": 29,
   "metadata": {},
   "outputs": [],
   "source": [
    "published_model_id = client.repository.get_model_id(published_model)"
   ]
  },
  {
   "cell_type": "markdown",
   "metadata": {},
   "source": [
    "### Deployment creation"
   ]
  },
  {
   "cell_type": "code",
   "execution_count": 30,
   "metadata": {},
   "outputs": [
    {
     "name": "stdout",
     "output_type": "stream",
     "text": [
      "\n",
      "\n",
      "######################################################################################\n",
      "\n",
      "Synchronous deployment creation for id: '574c1354-017c-4f2a-b307-9263504e0297' started\n",
      "\n",
      "######################################################################################\n",
      "\n",
      "\n",
      "initializing\n",
      "Note: online_url is deprecated and will be removed in a future release. Use serving_urls instead.\n",
      ".........\n",
      "ready\n",
      "\n",
      "\n",
      "-----------------------------------------------------------------------------------------------\n",
      "Successfully finished deployment creation, deployment_id='825a4e20-25e2-4d56-9c30-8868e702431c'\n",
      "-----------------------------------------------------------------------------------------------\n",
      "\n",
      "\n"
     ]
    }
   ],
   "source": [
    "metadata = {\n",
    "    client.deployments.ConfigurationMetaNames.NAME: \"Deployment of fairer model\",\n",
    "    client.deployments.ConfigurationMetaNames.ONLINE: {}\n",
    "}\n",
    "\n",
    "created_deployment = client.deployments.create(published_model_id, meta_props=metadata)"
   ]
  },
  {
   "cell_type": "code",
   "execution_count": 31,
   "metadata": {},
   "outputs": [],
   "source": [
    "deployment_id = client.deployments.get_id(created_deployment)"
   ]
  },
  {
   "cell_type": "markdown",
   "metadata": {},
   "source": [
    "#### Deployment scoring "
   ]
  },
  {
   "cell_type": "markdown",
   "metadata": {},
   "source": [
    "You need to pass scoring values as input data if the deployed model. Use `client.deployments.score()` method to get predictions from deployed model. "
   ]
  },
  {
   "cell_type": "code",
   "execution_count": 32,
   "metadata": {},
   "outputs": [],
   "source": [
    "values = X_holdout.values\n",
    "\n",
    "scoring_payload = {\n",
    "    \"input_data\": [{\n",
    "        'values': values[:5]\n",
    "    }]\n",
    "}"
   ]
  },
  {
   "cell_type": "code",
   "execution_count": 33,
   "metadata": {},
   "outputs": [
    {
     "data": {
      "text/plain": [
       "{'predictions': [{'fields': ['prediction', 'probability'],\n",
       "   'values': [['No Risk', [0.7776124477386475, 0.22238758206367493]],\n",
       "    ['No Risk', [0.7723912596702576, 0.22760875523090363]],\n",
       "    ['No Risk', [0.7723912596702576, 0.22760875523090363]],\n",
       "    ['No Risk', [0.7541248202323914, 0.24587517976760864]],\n",
       "    ['No Risk', [0.7541248202323914, 0.24587517976760864]]]}]}"
      ]
     },
     "execution_count": 33,
     "metadata": {},
     "output_type": "execute_result"
    }
   ],
   "source": [
    "predictions = client.deployments.score(deployment_id, scoring_payload)\n",
    "predictions"
   ]
  },
  {
   "cell_type": "markdown",
   "metadata": {},
   "source": [
    "<a id=\"cleanup\"></a>\n",
    "## 5. Clean up"
   ]
  },
  {
   "cell_type": "markdown",
   "metadata": {},
   "source": [
    "If you want to clean up all created assets:\n",
    "- experiments\n",
    "- trainings\n",
    "- pipelines\n",
    "- model definitions\n",
    "- models\n",
    "- functions\n",
    "- deployments\n",
    "\n",
    "please follow up this sample [notebook](https://github.com/IBM/watson-machine-learning-samples/blob/master/cpd5.0/notebooks/python_sdk/instance-management/Machine%20Learning%20artifacts%20management.ipynb)."
   ]
  },
  {
   "cell_type": "markdown",
   "metadata": {},
   "source": [
    "<a id=\"summary\"></a>\n",
    "## 6. Summary and next steps"
   ]
  },
  {
   "cell_type": "markdown",
   "metadata": {},
   "source": [
    " You successfully completed this notebook!.\n",
    "\n",
    "Check out used packeges domuntations:\n",
    "- `ibm-watsonx-ai` [Online Documentation](https://ibm.github.io/watsonx-ai-python-sdk/index.html)\n",
    "- `lale`: https://github.com/IBM/lale\n",
    "- `aif360`: https://aif360.mybluemix.net/"
   ]
  },
  {
   "cell_type": "markdown",
   "metadata": {},
   "source": [
    "### Authors \n",
    "\n",
    "**Dorota Lączak**, software engineer in Watson Machine Learning at IBM"
   ]
  },
  {
   "cell_type": "markdown",
   "metadata": {},
   "source": [
    "Copyright © 2022-2024 IBM. This notebook and its source code are released under the terms of the MIT License."
   ]
  }
 ],
 "metadata": {
  "kernelspec": {
   "display_name": "Python 3 (ipykernel)",
   "language": "python",
   "name": "python3"
  },
  "language_info": {
   "codemirror_mode": {
    "name": "ipython",
    "version": 3
   },
   "file_extension": ".py",
   "mimetype": "text/x-python",
   "name": "python",
   "nbconvert_exporter": "python",
   "pygments_lexer": "ipython3",
   "version": "3.11.9"
  }
 },
 "nbformat": 4,
 "nbformat_minor": 4
}
