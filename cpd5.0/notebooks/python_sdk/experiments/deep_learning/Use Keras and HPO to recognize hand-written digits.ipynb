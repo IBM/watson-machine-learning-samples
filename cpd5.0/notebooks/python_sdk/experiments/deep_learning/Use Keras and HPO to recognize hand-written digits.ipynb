{
 "cells": [
  {
   "cell_type": "markdown",
   "metadata": {},
   "source": [
    "# Use Keras and hyperparameter optimization (HPO) to recognize hand-written digits with `ibm-watsonx-ai`"
   ]
  },
  {
   "cell_type": "markdown",
   "metadata": {},
   "source": [
    "This notebook contains steps and code to demonstrate support of Deep Learning experiments in the Watson Machine Learning service. It introduces commands for data retrieval, training definition persistance, experiment training, model persistance, model deployment and scoring.\n",
    "\n",
    "Some familiarity with Python is helpful. This notebook uses Python 3.11.\n",
    "\n",
    "\n",
    "## Learning goals\n",
    "\n",
    "The learning goals of this notebook are:\n",
    "\n",
    "-  Working with the Watson Machine Learning service.\n",
    "-  Training Deep Learning models (TensorFlow).\n",
    "-  Saving trained models in Watson Machine Learning repository.\n",
    "-  Online deployment and scoring of the trained model.\n",
    "\n",
    "## Contents\n",
    "\n",
    "This notebook contains the following parts:\n",
    "\n",
    "1. [Setup](#setup)\n",
    "2. [Create model definition](#model_def)\n",
    "3. [Train model](#training)\n",
    "4. [Persist trained model](#persist)\n",
    "5. [Deploy and Score](#deploy)\n",
    "6. [Clean up](#clean)\n",
    "7. [Summary and next steps](#summary)"
   ]
  },
  {
   "cell_type": "markdown",
   "metadata": {},
   "source": [
    "<a id=\"setup\"></a>\n",
    "## 1. Set up the environment\n",
    "\n",
    "Before you use the sample code in this notebook, you must perform the following setup tasks:\n",
    "\n",
    "-  Contact with your Cloud Pack for Data administrator and ask him for your account credentials"
   ]
  },
  {
   "cell_type": "markdown",
   "metadata": {},
   "source": [
    "### Install and import the `ibm-watsonx-ai` and dependecies\n",
    "**Note:** `ibm-watsonx-ai` documentation can be found <a href=\"https://ibm.github.io/watsonx-ai-python-sdk/index.html\" target=\"_blank\" rel=\"noopener no referrer\">here</a>."
   ]
  },
  {
   "cell_type": "code",
   "execution_count": null,
   "metadata": {},
   "outputs": [],
   "source": [
    "!pip install wget | tail -n 1\n",
    "!pip install -U ibm-watsonx-ai | tail -n 1"
   ]
  },
  {
   "cell_type": "markdown",
   "metadata": {},
   "source": [
    "### Connection to WML\n",
    "\n",
    "Authenticate the Watson Machine Learning service on IBM Cloud Pack for Data. You need to provide platform `url`, your `username` and `api_key`."
   ]
  },
  {
   "cell_type": "code",
   "execution_count": null,
   "metadata": {},
   "outputs": [],
   "source": [
    "username = 'PASTE YOUR USERNAME HERE'\n",
    "api_key = 'PASTE YOUR API_KEY HERE'\n",
    "url = 'PASTE THE PLATFORM URL HERE'"
   ]
  },
  {
   "cell_type": "code",
   "execution_count": 1,
   "metadata": {},
   "outputs": [],
   "source": [
    "from ibm_watsonx_ai import Credentials\n",
    "\n",
    "credentials = Credentials(\n",
    "    username=username,\n",
    "    api_key=api_key,\n",
    "    url=url,\n",
    "    instance_id=\"openshift\",\n",
    "    version=\"5.0\"\n",
    ")"
   ]
  },
  {
   "cell_type": "markdown",
   "metadata": {},
   "source": [
    "Alternatively you can use `username` and `password` to authenticate WML services.\n",
    "\n",
    "```python\n",
    "credentials = Credentials(\n",
    "    username=***,\n",
    "    password=***,\n",
    "    url=***,\n",
    "    instance_id=\"openshift\",\n",
    "    version=\"5.0\"\n",
    ")\n",
    "\n",
    "```"
   ]
  },
  {
   "cell_type": "code",
   "execution_count": 3,
   "metadata": {},
   "outputs": [],
   "source": [
    "from ibm_watsonx_ai import APIClient\n",
    "\n",
    "client = APIClient(credentials)"
   ]
  },
  {
   "cell_type": "markdown",
   "metadata": {},
   "source": [
    "### Working with spaces\n",
    "\n",
    "First of all, you need to create a space that will be used for your work. If you do not have space already created, you can use `{PLATFORM_URL}/ml-runtime/spaces?context=icp4data` to create one.\n",
    "\n",
    "- Click New Deployment Space\n",
    "- Create an empty space\n",
    "- Go to space `Settings` tab\n",
    "- Copy `space_id` and paste it below\n",
    "\n",
    "**Tip**: You can also use SDK to prepare the space for your work. More information can be found [here](https://github.com/IBM/watson-machine-learning-samples/blob/master/cpd5.0/notebooks/python_sdk/instance-management/Space%20management.ipynb).\n",
    "\n",
    "**Action**: Assign space ID below"
   ]
  },
  {
   "cell_type": "code",
   "execution_count": 2,
   "metadata": {},
   "outputs": [],
   "source": [
    "space_id = 'PASTE YOUR SPACE ID HERE'"
   ]
  },
  {
   "cell_type": "markdown",
   "metadata": {},
   "source": [
    "You can use `list` method to print all existing spaces."
   ]
  },
  {
   "cell_type": "code",
   "execution_count": null,
   "metadata": {},
   "outputs": [],
   "source": [
    "client.spaces.list(limit=10)"
   ]
  },
  {
   "cell_type": "markdown",
   "metadata": {},
   "source": [
    "To be able to interact with all resources available in Watson Machine Learning, you need to set **space** which you will be using."
   ]
  },
  {
   "cell_type": "code",
   "execution_count": 4,
   "metadata": {},
   "outputs": [
    {
     "data": {
      "text/plain": [
       "'SUCCESS'"
      ]
     },
     "execution_count": 4,
     "metadata": {},
     "output_type": "execute_result"
    }
   ],
   "source": [
    "client.set.default_space(space_id)"
   ]
  },
  {
   "cell_type": "markdown",
   "metadata": {},
   "source": [
    "<a id=\"model_def\"></a>\n",
    "# 2. Create model definition"
   ]
  },
  {
   "cell_type": "markdown",
   "metadata": {},
   "source": [
    "For the purpose of this example two Keras model definitions have been prepared:\n",
    "\n",
    " - Multilayer Perceptron (MLP)\n",
    " - Convolution Neural Network (CNN)"
   ]
  },
  {
   "cell_type": "markdown",
   "metadata": {},
   "source": [
    "### 2.1 Prepare model definition metadata"
   ]
  },
  {
   "cell_type": "code",
   "execution_count": 5,
   "metadata": {},
   "outputs": [],
   "source": [
    "metaprops = {\n",
    "    client.model_definitions.ConfigurationMetaNames.NAME: \"MNIST mlp model definition\",\n",
    "    client.model_definitions.ConfigurationMetaNames.DESCRIPTION: \"MNIST mlp model definition\",\n",
    "    client.model_definitions.ConfigurationMetaNames.COMMAND: \"mnist_mlp.py\",\n",
    "    client.model_definitions.ConfigurationMetaNames.PLATFORM: {\"name\": \"python\", \"versions\": [\"3.11\"]},\n",
    "    client.model_definitions.ConfigurationMetaNames.VERSION: \"2.0\",\n",
    "}"
   ]
  },
  {
   "cell_type": "markdown",
   "metadata": {},
   "source": [
    "### 2.2 Get sample model definition content files from git (Python scripts with CNN and MLP)"
   ]
  },
  {
   "cell_type": "code",
   "execution_count": 6,
   "metadata": {},
   "outputs": [],
   "source": [
    "import os, wget\n",
    "\n",
    "filename_mnist = 'MNIST.zip'\n",
    "\n",
    "if not os.path.isfile(filename_mnist):\n",
    "    filename_mnist = wget.download('https://github.com/IBM/watson-machine-learning-samples/raw/master/cpd5.0/definitions/keras/mnist/MNIST.zip')"
   ]
  },
  {
   "cell_type": "markdown",
   "metadata": {},
   "source": [
    "**Tip**: Convert below cell to code and run it to see model deinition's code."
   ]
  },
  {
   "cell_type": "raw",
   "metadata": {},
   "source": [
    "!unzip -oqd . MNIST.zip && cat mnist_mlp.py"
   ]
  },
  {
   "cell_type": "markdown",
   "metadata": {},
   "source": [
    "### 2.3 Publish model definition"
   ]
  },
  {
   "cell_type": "code",
   "execution_count": 8,
   "metadata": {},
   "outputs": [],
   "source": [
    "model_definition_details = client.model_definitions.store(filename_mnist, meta_props=metaprops)"
   ]
  },
  {
   "cell_type": "code",
   "execution_count": 9,
   "metadata": {
    "scrolled": true
   },
   "outputs": [
    {
     "name": "stdout",
     "output_type": "stream",
     "text": [
      "7516a11a-8f7c-4ab4-8933-79a8a8415266\n"
     ]
    }
   ],
   "source": [
    "model_definition_id = client.model_definitions.get_id(model_definition_details)\n",
    "print(model_definition_id)"
   ]
  },
  {
   "cell_type": "markdown",
   "metadata": {},
   "source": [
    "#### List model definitions"
   ]
  },
  {
   "cell_type": "code",
   "execution_count": null,
   "metadata": {},
   "outputs": [],
   "source": [
    "client.model_definitions.list(limit=5)"
   ]
  },
  {
   "cell_type": "markdown",
   "metadata": {},
   "source": [
    "<a id=\"training\"></a>\n",
    "# 3. Train model"
   ]
  },
  {
   "cell_type": "markdown",
   "metadata": {},
   "source": [
    "#### **Warning**: Before executing deep learning experiment make sure that [training data](https://github.com/IBM/watson-machine-learning-samples/blob/master/cpd5.0/data/mnist/mnist.npz) is saved in a folder where Watson Machine Learning Accelerator is installed."
   ]
  },
  {
   "cell_type": "markdown",
   "metadata": {},
   "source": [
    "### 3.1 Prepare training metadata"
   ]
  },
  {
   "cell_type": "code",
   "execution_count": 12,
   "metadata": {},
   "outputs": [],
   "source": [
    "training_metadata = {\n",
    "    client.training.ConfigurationMetaNames.NAME: \"Keras-MNIST\",\n",
    "    client.training.ConfigurationMetaNames.DESCRIPTION: \"Keras-MNIST predict written digits\",\n",
    "    client.training.ConfigurationMetaNames.TRAINING_RESULTS_REFERENCE:  {\n",
    "      \"name\":\"MNIST results\",\n",
    "      \"connection\":{\n",
    "         \n",
    "      },\n",
    "      \"location\":{\n",
    "         \"path\":f\"spaces/{space_id}/assets/experiment\"\n",
    "      },\n",
    "      \"type\":\"fs\"\n",
    "   },\n",
    "  client.training.ConfigurationMetaNames.MODEL_DEFINITION:{\n",
    "        \"id\": model_definition_id,\n",
    "        \"hardware_spec\": {\n",
    "          \"name\": \"K80\",\n",
    "          \"nodes\": 1\n",
    "        },\n",
    "        \"software_spec\": {\n",
    "          \"name\": \"tensorflow_rt24.1-py3.11\"\n",
    "        }\n",
    "      },\n",
    "  client.training.ConfigurationMetaNames.TRAINING_DATA_REFERENCES: [\n",
    "      {\n",
    "         \"name\":\"training_input_data\",\n",
    "         \"type\":\"fs\",\n",
    "         \"connection\":{\n",
    "            \n",
    "         },\n",
    "         \"location\":{\n",
    "            \"path\": \"tf-mnist\"\n",
    "         },\n",
    "         \"schema\":{\n",
    "            \"id\":\"idmlp_schema\",\n",
    "            \"fields\":[\n",
    "               {\n",
    "                  \"name\":\"text\",\n",
    "                  \"type\":\"string\"\n",
    "               }\n",
    "            ]\n",
    "         }\n",
    "      }\n",
    "   ]\n",
    "}"
   ]
  },
  {
   "cell_type": "markdown",
   "metadata": {},
   "source": [
    "### 3.2 Train model in background"
   ]
  },
  {
   "cell_type": "code",
   "execution_count": 13,
   "metadata": {},
   "outputs": [],
   "source": [
    "training = client.training.run(training_metadata)"
   ]
  },
  {
   "cell_type": "markdown",
   "metadata": {},
   "source": [
    "### 3.3 Get training id and status"
   ]
  },
  {
   "cell_type": "code",
   "execution_count": 14,
   "metadata": {},
   "outputs": [],
   "source": [
    "training_id = client.training.get_id(training)"
   ]
  },
  {
   "cell_type": "code",
   "execution_count": null,
   "metadata": {},
   "outputs": [],
   "source": [
    "client.training.get_status(training_id)[\"state\"]"
   ]
  },
  {
   "cell_type": "markdown",
   "metadata": {},
   "source": [
    "### 3.4 Get training details"
   ]
  },
  {
   "cell_type": "code",
   "execution_count": null,
   "metadata": {},
   "outputs": [],
   "source": [
    "import json\n",
    "\n",
    "training_details = client.training.get_details(training_id)\n",
    "print(json.dumps(training_details, indent=2))"
   ]
  },
  {
   "cell_type": "markdown",
   "metadata": {},
   "source": [
    "#### List trainings"
   ]
  },
  {
   "cell_type": "code",
   "execution_count": null,
   "metadata": {},
   "outputs": [],
   "source": [
    "client.training.list(limit=5)"
   ]
  },
  {
   "cell_type": "markdown",
   "metadata": {},
   "source": [
    "#### Cancel training"
   ]
  },
  {
   "cell_type": "markdown",
   "metadata": {},
   "source": [
    "You can cancel the training run by calling the method below.  \n",
    "**Tip**: If you want to delete train runs and results add `hard_delete=True` as a parameter."
   ]
  },
  {
   "cell_type": "raw",
   "metadata": {},
   "source": [
    "client.training.cancel(training_id)"
   ]
  },
  {
   "cell_type": "markdown",
   "metadata": {},
   "source": [
    "<a id=\"persist\"></a>\n",
    "# 4. Persist trained model"
   ]
  },
  {
   "cell_type": "markdown",
   "metadata": {},
   "source": [
    "### 4.1 Publish model"
   ]
  },
  {
   "cell_type": "code",
   "execution_count": 31,
   "metadata": {},
   "outputs": [],
   "source": [
    "software_spec_id = client.software_specifications.get_id_by_name('tensorflow_rt24.1-py3.11')"
   ]
  },
  {
   "cell_type": "code",
   "execution_count": null,
   "metadata": {},
   "outputs": [],
   "source": [
    "model_meta_props = {\n",
    "    client.repository.ModelMetaNames.NAME: \"Keras MNIST\",\n",
    "    client.repository.ModelMetaNames.TYPE: \"tensorflow_2.14\",\n",
    "    client.repository.ModelMetaNames.SOFTWARE_SPEC_ID: software_spec_id,\n",
    "}\n",
    "\n",
    "published_model = client.repository.store_model(training_id, meta_props=model_meta_props)\n",
    "model_id = client.repository.get_model_id(published_model)"
   ]
  },
  {
   "cell_type": "markdown",
   "metadata": {},
   "source": [
    "### 4.2 Get model details"
   ]
  },
  {
   "cell_type": "code",
   "execution_count": null,
   "metadata": {},
   "outputs": [],
   "source": [
    "model_details = client.repository.get_details(model_id)\n",
    "print(json.dumps(model_details, indent=2))"
   ]
  },
  {
   "cell_type": "markdown",
   "metadata": {},
   "source": [
    "#### List stored models"
   ]
  },
  {
   "cell_type": "code",
   "execution_count": null,
   "metadata": {},
   "outputs": [],
   "source": [
    "client.repository.list_models(limit=5)"
   ]
  },
  {
   "cell_type": "markdown",
   "metadata": {},
   "source": [
    "<a id=\"deploy\"></a>\n",
    "# 5. Deploy and score"
   ]
  },
  {
   "cell_type": "markdown",
   "metadata": {},
   "source": [
    "### 5.1 Create online deployment for published model"
   ]
  },
  {
   "cell_type": "code",
   "execution_count": 45,
   "metadata": {},
   "outputs": [
    {
     "name": "stdout",
     "output_type": "stream",
     "text": [
      "\n",
      "\n",
      "#######################################################################################\n",
      "\n",
      "Synchronous deployment creation for uid: '45a2b1bb-59a6-4d40-ab43-39d348ca471f' started\n",
      "\n",
      "#######################################################################################\n",
      "\n",
      "\n",
      "initializingNote: online_url is deprecated and will be removed in a future release. Use serving_urls instead.\n",
      "\n",
      "Note: online_url is deprecated and will be removed in a future release. Use serving_urls instead.\n",
      ".Note: online_url is deprecated and will be removed in a future release. Use serving_urls instead.\n",
      ".Note: online_url is deprecated and will be removed in a future release. Use serving_urls instead.\n",
      ".Note: online_url is deprecated and will be removed in a future release. Use serving_urls instead.\n",
      "\n",
      "ready\n",
      "\n",
      "\n",
      "------------------------------------------------------------------------------------------------\n",
      "Successfully finished deployment creation, deployment_uid='498157f7-8576-4bd4-8f05-0ae8d695f2c7'\n",
      "------------------------------------------------------------------------------------------------\n",
      "\n",
      "\n"
     ]
    }
   ],
   "source": [
    "deployment = client.deployments.create(\n",
    "    model_id, meta_props={\n",
    "        client.deployments.ConfigurationMetaNames.NAME: \"Keras MNIST\",\n",
    "        client.deployments.ConfigurationMetaNames.ONLINE: {}\n",
    "        }\n",
    "    )\n",
    "\n",
    "deployment_id = client.deployments.get_id(deployment)"
   ]
  },
  {
   "cell_type": "markdown",
   "metadata": {},
   "source": [
    "### 5.2 Get deployments details"
   ]
  },
  {
   "cell_type": "code",
   "execution_count": null,
   "metadata": {},
   "outputs": [],
   "source": [
    "deployments_details = client.deployments.get_details(deployment_id)\n",
    "print(json.dumps(deployments_details, indent=2))"
   ]
  },
  {
   "cell_type": "markdown",
   "metadata": {},
   "source": [
    "#### List deployments"
   ]
  },
  {
   "cell_type": "code",
   "execution_count": null,
   "metadata": {},
   "outputs": [],
   "source": [
    "client.deployments.list(limit=5)"
   ]
  },
  {
   "cell_type": "markdown",
   "metadata": {},
   "source": [
    "### 5.3 Score deployed model"
   ]
  },
  {
   "cell_type": "markdown",
   "metadata": {},
   "source": [
    "Let's plot two digits. **Action:** Please install `matplotlib`, `numpy`"
   ]
  },
  {
   "cell_type": "code",
   "execution_count": 47,
   "metadata": {},
   "outputs": [],
   "source": [
    "import wget\n",
    "\n",
    "dataset_filename='mnist.npz'\n",
    "\n",
    "if not os.path.isfile(dataset_filename):\n",
    "    dataset_filename = wget.download('https://github.com/IBM/watson-machine-learning-samples/raw/master/cpd5.0/data/mnist/mnist.npz')"
   ]
  },
  {
   "cell_type": "code",
   "execution_count": 48,
   "metadata": {
    "pycharm": {
     "name": "#%%\n"
    }
   },
   "outputs": [],
   "source": [
    "import numpy as np\n",
    "\n",
    "mnist_dataset = np.load(dataset_filename)\n",
    "x_test = mnist_dataset['x_test']"
   ]
  },
  {
   "cell_type": "code",
   "execution_count": 49,
   "metadata": {},
   "outputs": [],
   "source": [
    "%matplotlib inline\n",
    "import matplotlib.pyplot as plt"
   ]
  },
  {
   "cell_type": "code",
   "execution_count": 50,
   "metadata": {},
   "outputs": [
    {
     "data": {
      "image/png": "[encoded data removed]",
      "text/plain": [
       "<Figure size 432x288 with 2 Axes>"
      ]
     },
     "metadata": {
      "needs_background": "light"
     },
     "output_type": "display_data"
    }
   ],
   "source": [
    "for i, image in enumerate([x_test[0], x_test[1]]):\n",
    "    plt.subplot(2, 2, i + 1)\n",
    "    plt.axis('off')\n",
    "    plt.imshow(image, cmap=plt.cm.gray_r, interpolation='nearest')"
   ]
  },
  {
   "cell_type": "markdown",
   "metadata": {},
   "source": [
    "Our input node expects to get data with shape (784,) so we need to reshape our two digits."
   ]
  },
  {
   "cell_type": "code",
   "execution_count": 51,
   "metadata": {},
   "outputs": [],
   "source": [
    "image_1 = x_test[0].ravel() / 255\n",
    "image_2 = x_test[1].ravel() / 255"
   ]
  },
  {
   "cell_type": "markdown",
   "metadata": {},
   "source": [
    "#### Prepare scoring payload and score."
   ]
  },
  {
   "cell_type": "code",
   "execution_count": 52,
   "metadata": {
    "scrolled": true
   },
   "outputs": [
    {
     "name": "stdout",
     "output_type": "stream",
     "text": [
      "Scoring result:\n",
      "{\n",
      "  \"predictions\": [\n",
      "    {\n",
      "      \"id\": \"dense_2\",\n",
      "      \"fields\": [\n",
      "        \"prediction\",\n",
      "        \"prediction_classes\",\n",
      "        \"probability\"\n",
      "      ],\n",
      "      \"values\": [\n",
      "        [\n",
      "          [\n",
      "            3.728355935095351e-08,\n",
      "            2.211097012150276e-07,\n",
      "            1.2561032235680614e-05,\n",
      "            2.3223246898851357e-05,\n",
      "            7.352957132056304e-10,\n",
      "            5.163227001503401e-07,\n",
      "            4.822294993878096e-11,\n",
      "            0.9999523162841797,\n",
      "            8.347302582478733e-08,\n",
      "            1.1019522389688063e-05\n",
      "          ],\n",
      "          7,\n",
      "          [\n",
      "            3.728355935095351e-08,\n",
      "            2.211097012150276e-07,\n",
      "            1.2561032235680614e-05,\n",
      "            2.3223246898851357e-05,\n",
      "            7.352957132056304e-10,\n",
      "            5.163227001503401e-07,\n",
      "            4.822294993878096e-11,\n",
      "            0.9999523162841797,\n",
      "            8.347302582478733e-08,\n",
      "            1.1019522389688063e-05\n",
      "          ]\n",
      "        ],\n",
      "        [\n",
      "          [\n",
      "            8.220833042082987e-11,\n",
      "            8.570060003876279e-07,\n",
      "            0.9999991655349731,\n",
      "            7.721396855231433e-09,\n",
      "            7.992036936757541e-13,\n",
      "            3.23251495015775e-12,\n",
      "            3.037745749390197e-11,\n",
      "            3.7391287982524446e-11,\n",
      "            9.958642799290374e-10,\n",
      "            2.8225443849712187e-15\n",
      "          ],\n",
      "          2,\n",
      "          [\n",
      "            8.220833042082987e-11,\n",
      "            8.570060003876279e-07,\n",
      "            0.9999991655349731,\n",
      "            7.721396855231433e-09,\n",
      "            7.992036936757541e-13,\n",
      "            3.23251495015775e-12,\n",
      "            3.037745749390197e-11,\n",
      "            3.7391287982524446e-11,\n",
      "            9.958642799290374e-10,\n",
      "            2.8225443849712187e-15\n",
      "          ]\n",
      "        ]\n",
      "      ]\n",
      "    }\n",
      "  ]\n",
      "}\n"
     ]
    }
   ],
   "source": [
    "scoring_payload = {\n",
    "    client.deployments.ScoringMetaNames.INPUT_DATA : [\n",
    "        {'values': [image_1.tolist(), image_2.tolist()]}\n",
    "    ]\n",
    "}\n",
    "scores = client.deployments.score(deployment_id, meta_props=scoring_payload)\n",
    "print(\"Scoring result:\\n\" + json.dumps(scores, indent=2))"
   ]
  },
  {
   "cell_type": "markdown",
   "metadata": {},
   "source": [
    "<a id=\"clean\"></a>\n",
    "# 6. Clean up"
   ]
  },
  {
   "cell_type": "markdown",
   "metadata": {},
   "source": [
    "If you want to clean up all created assets:\n",
    "- experiments\n",
    "- trainings\n",
    "- pipelines\n",
    "- model definitions\n",
    "- models\n",
    "- functions\n",
    "- deployments\n",
    "\n",
    "please follow up this sample [notebook](https://github.com/IBM/watson-machine-learning-samples/blob/master/cpd5.0/notebooks/python_sdk/instance-management/Machine%20Learning%20artifacts%20management.ipynb)."
   ]
  },
  {
   "cell_type": "markdown",
   "metadata": {},
   "source": [
    "<a id=\"summary\"></a>\n",
    "# 7. Summary and next steps     "
   ]
  },
  {
   "cell_type": "markdown",
   "metadata": {},
   "source": [
    "You successfully completed this notebook! You learned how to use `ibm-watsonx-ai` to run experiments.  \n",
    "\n",
    "Check out our _<a href=\"https://ibm.github.io/watsonx-ai-python-sdk/samples.html\" target=\"_blank\" rel=\"noopener no referrer\">Online Documentation</a>_ for more samples, tutorials, documentation, how-tos, and blog posts. "
   ]
  },
  {
   "cell_type": "markdown",
   "metadata": {},
   "source": [
    "### Author\n",
    "\n",
    "**Jan Sołtysik**, Intern in Watson Machine Learning."
   ]
  },
  {
   "cell_type": "markdown",
   "metadata": {},
   "source": [
    "Copyright © 2020-2024 IBM. This notebook and its source code are released under the terms of the MIT License."
   ]
  }
 ],
 "metadata": {
  "kernelspec": {
   "display_name": "Python 3 (ipykernel)",
   "language": "python",
   "name": "python3"
  },
  "language_info": {
   "codemirror_mode": {
    "name": "ipython",
    "version": 3
   },
   "file_extension": ".py",
   "mimetype": "text/x-python",
   "name": "python",
   "nbconvert_exporter": "python",
   "pygments_lexer": "ipython3",
   "version": "3.11.9"
  }
 },
 "nbformat": 4,
 "nbformat_minor": 4
}
