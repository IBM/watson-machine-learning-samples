{
 "cells": [
  {
   "cell_type": "markdown",
   "metadata": {},
   "source": [
    "# Export/Import assets with `ibm-watsonx-ai`\n",
    "\n",
    "This notebook demonstrates an example for exporting/importing assets using Watson Machine Learning service. It contains steps and code to work with [ibm-watsonx-ai](https://pypi.python.org/pypi/ibm-watsonx-ai) library available in PyPI repository."
   ]
  },
  {
   "cell_type": "markdown",
   "metadata": {},
   "source": [
    "## Learning goals\n",
    "\n",
    "The learning goals of this notebook are:\n",
    "\n",
    "-  Download an externally trained Keras model.\n",
    "-  Persist an external model in Watson Machine Learning repository.\n",
    "-  Export the model from the space\n",
    "-  Import the model to another space( For Cloud Pak for Data 5.0, the space/project where assets are imported has to be empty ) and deploy\n",
    "\n",
    "\n",
    "\n",
    "## Contents\n",
    "\n",
    "This notebook contains the following parts:\n",
    "\n",
    "1. [Setup](#setup)\n",
    "2. [Download externally created Keras model](#download)\n",
    "3. [Persist externally created Keras model](#persistence)\n",
    "4. [Export the model](#export)\n",
    "5. [Import the model](#import)\n",
    "6. [Deploy and score the imported model](#scoring)\n",
    "7. [Clean up](#cleanup)\n",
    "8. [Summary and next steps](#summary)"
   ]
  },
  {
   "cell_type": "markdown",
   "metadata": {},
   "source": [
    "<a id=\"setup\"></a>\n",
    "## 1. Set up the environment\n",
    "\n",
    "Before you use the sample code in this notebook, you must perform the following setup tasks:\n",
    "\n",
    "-  Contact with your Cloud Pack for Data administrator and ask him for your account credentials"
   ]
  },
  {
   "cell_type": "markdown",
   "metadata": {},
   "source": [
    "### Install and import the `ibm-watsonx-ai` and dependecies\n",
    "**Note:** `ibm-watsonx-ai` documentation can be found <a href=\"https://ibm.github.io/watsonx-ai-python-sdk/index.html\" target=\"_blank\" rel=\"noopener no referrer\">here</a>."
   ]
  },
  {
   "cell_type": "code",
   "execution_count": null,
   "metadata": {},
   "outputs": [],
   "source": [
    "!pip install wget | tail -n 1\n",
    "!pip install matplotlib | tail -n 1\n",
    "!pip install -U ibm-watsonx-ai | tail -n 1"
   ]
  },
  {
   "cell_type": "markdown",
   "metadata": {},
   "source": [
    "### Connection to WML\n",
    "\n",
    "Authenticate the Watson Machine Learning service on IBM Cloud Pack for Data. You need to provide platform `url`, your `username` and `api_key`."
   ]
  },
  {
   "cell_type": "code",
   "execution_count": null,
   "metadata": {},
   "outputs": [],
   "source": [
    "username = 'PASTE YOUR USERNAME HERE'\n",
    "api_key = 'PASTE YOUR API_KEY HERE'\n",
    "url = 'PASTE THE PLATFORM URL HERE'"
   ]
  },
  {
   "cell_type": "code",
   "execution_count": 1,
   "metadata": {},
   "outputs": [],
   "source": [
    "from ibm_watsonx_ai import Credentials\n",
    "\n",
    "credentials = Credentials(\n",
    "    username=username,\n",
    "    api_key=api_key,\n",
    "    url=url,\n",
    "    instance_id=\"openshift\",\n",
    "    version=\"5.0\"\n",
    ")"
   ]
  },
  {
   "cell_type": "markdown",
   "metadata": {},
   "source": [
    "Alternatively you can use `username` and `password` to authenticate WML services.\n",
    "\n",
    "```python\n",
    "credentials = Credentials(\n",
    "    username=***,\n",
    "    password=***,\n",
    "    url=***,\n",
    "    instance_id=\"openshift\",\n",
    "    version=\"5.0\"\n",
    ")\n",
    "\n",
    "```"
   ]
  },
  {
   "cell_type": "code",
   "execution_count": 2,
   "metadata": {},
   "outputs": [],
   "source": [
    "from ibm_watsonx_ai import APIClient\n",
    "\n",
    "client = APIClient(credentials)"
   ]
  },
  {
   "cell_type": "markdown",
   "metadata": {},
   "source": [
    "### Create two spaces. One for export and one for import\n",
    "\n",
    "**Tip**: You can refer to example for space management apis [here](https://github.com/IBM/watson-machine-learning-samples/blob/master/cpd5.0/notebooks/python_sdk/instance-management/Space%20management.ipynb).\n"
   ]
  },
  {
   "cell_type": "code",
   "execution_count": 3,
   "metadata": {},
   "outputs": [
    {
     "name": "stdout",
     "output_type": "stream",
     "text": [
      "Space has been created. However some background setup activities might still be on-going. Check for 'status' field in the response. It has to show 'active' before space can be used. If it's not 'active', you can monitor the state with a call to spaces.get_details(space_id). Alternatively, use background_mode=False when calling client.spaces.store().\n",
      "\n",
      "export space_id: 069cbdc0-7d79-4e13-9792-03f568c57041\n",
      "\n",
      "Space has been created. However some background setup activities might still be on-going. Check for 'status' field in the response. It has to show 'active' before space can be used. If it's not 'active', you can monitor the state with a call to spaces.get_details(space_id). Alternatively, use background_mode=False when calling client.spaces.store().\n",
      "\n",
      "import space_id: 4bf6e043-eefa-42b5-a02e-4459ab11f0e4\n"
     ]
    }
   ],
   "source": [
    "import uuid\n",
    "\n",
    "space_name = str(uuid.uuid4())\n",
    "\n",
    "export_space_metadata = {\n",
    "              client.spaces.ConfigurationMetaNames.NAME: 'client_space_export_' + space_name,\n",
    "              client.spaces.ConfigurationMetaNames.DESCRIPTION: space_name + ' description'\n",
    "}\n",
    "\n",
    "space = client.spaces.store(meta_props=export_space_metadata)\n",
    "\n",
    "export_space_id = client.spaces.get_id(space)\n",
    "print(\"{}export space_id: {}{}\".format('\\n', export_space_id, '\\n'))\n",
    "\n",
    "\n",
    "import_space_metadata = {\n",
    "              client.spaces.ConfigurationMetaNames.NAME: 'client_space_import_' + space_name,\n",
    "              client.spaces.ConfigurationMetaNames.DESCRIPTION: space_name + ' description'\n",
    "}\n",
    "\n",
    "space = client.spaces.store(meta_props=import_space_metadata)\n",
    "\n",
    "import_space_id = client.spaces.get_id(space)\n",
    "print(\"{}import space_id: {}\".format('\\n', import_space_id))"
   ]
  },
  {
   "cell_type": "markdown",
   "metadata": {
    "pycharm": {
     "name": "#%% md\n"
    }
   },
   "source": [
    "<a id=\"download\"></a>\n",
    "## 2. Download externally created Keras model and data\n",
    "In this section, you will download externally created Keras models and data used for training it."
   ]
  },
  {
   "cell_type": "code",
   "execution_count": 4,
   "metadata": {
    "pycharm": {
     "is_executing": false,
     "name": "#%%\n"
    }
   },
   "outputs": [],
   "source": [
    "import os\n",
    "import wget\n",
    "\n",
    "data_dir = 'MNIST_DATA'\n",
    "if not os.path.isdir(data_dir):\n",
    "    os.mkdir(data_dir)\n",
    "    \n",
    "model_path = os.path.join(data_dir, 'mnist_keras.h5.tgz')\n",
    "if not os.path.isfile(model_path):\n",
    "    wget.download(\"https://github.com/IBM/watson-machine-learning-samples/raw/master/cpd5.0/models/keras/mnist_keras.h5.tgz\", out=data_dir)"
   ]
  },
  {
   "cell_type": "code",
   "execution_count": 5,
   "metadata": {},
   "outputs": [],
   "source": [
    "data_dir = 'MNIST_DATA'\n",
    "if not os.path.isdir(data_dir):\n",
    "    os.mkdir(data_dir)\n",
    "    \n",
    "filename = os.path.join(data_dir, 'mnist.npz')\n",
    "if not os.path.isfile(filename):\n",
    "    wget.download('https://s3.amazonaws.com/img-datasets/mnist.npz', out=data_dir)  "
   ]
  },
  {
   "cell_type": "code",
   "execution_count": 6,
   "metadata": {
    "pycharm": {
     "is_executing": false,
     "name": "#%%\n"
    }
   },
   "outputs": [],
   "source": [
    "import numpy as np\n",
    "\n",
    "dataset = np.load(filename)\n",
    "x_test = dataset['x_test']"
   ]
  },
  {
   "cell_type": "markdown",
   "metadata": {},
   "source": [
    "<a id=\"persistence\"></a>\n",
    "## 3. Persist externally created Keras model"
   ]
  },
  {
   "cell_type": "markdown",
   "metadata": {},
   "source": [
    "In this section, you will learn how to store your model in Watson Machine Learning repository by using the `ibm-watsonx-ai` Client."
   ]
  },
  {
   "cell_type": "markdown",
   "metadata": {},
   "source": [
    "### 3.1: Publish model"
   ]
  },
  {
   "cell_type": "markdown",
   "metadata": {},
   "source": [
    "Define model name, type and software specification needed to deploy model later."
   ]
  },
  {
   "cell_type": "code",
   "execution_count": 7,
   "metadata": {
    "pycharm": {
     "is_executing": false,
     "name": "#%%\n"
    }
   },
   "outputs": [],
   "source": [
    "sofware_spec_id = client.software_specifications.get_id_by_name(\"runtime-24.1-py3.11\")"
   ]
  },
  {
   "cell_type": "code",
   "execution_count": 8,
   "metadata": {
    "pycharm": {
     "is_executing": false,
     "name": "#%%\n"
    }
   },
   "outputs": [],
   "source": [
    "client.set.default_space(export_space_id)\n",
    "\n",
    "metadata = {\n",
    "            client.repository.ModelMetaNames.NAME: 'External Keras model',\n",
    "            client.repository.ModelMetaNames.TYPE: 'tensorflow_2.14',\n",
    "            client.repository.ModelMetaNames.SOFTWARE_SPEC_ID: sofware_spec_id\n",
    "}\n",
    "\n",
    "published_model = client.repository.store_model(\n",
    "    model=model_path,\n",
    "    meta_props=metadata)"
   ]
  },
  {
   "cell_type": "markdown",
   "metadata": {},
   "source": [
    "### 3.2: Get model details"
   ]
  },
  {
   "cell_type": "code",
   "execution_count": 9,
   "metadata": {
    "pycharm": {
     "is_executing": false,
     "name": "#%%\n"
    }
   },
   "outputs": [
    {
     "name": "stdout",
     "output_type": "stream",
     "text": [
      "{\n",
      "  \"entity\": {\n",
      "    \"hybrid_pipeline_software_specs\": [],\n",
      "    \"software_spec\": {\n",
      "      \"id\": \"45f12dfe-aa78-5b8d-9f38-0ee223c47309\",\n",
      "      \"name\": \"runtime-24.1-py3.11\"\n",
      "    },\n",
      "    \"type\": \"tensorflow_2.14\"\n",
      "  },\n",
      "  \"metadata\": {\n",
      "    \"created_at\": \"2024-04-26T12:20:31.240Z\",\n",
      "    \"id\": \"0f741c27-b5e4-4810-a38a-3e845a5028ac\",\n",
      "    \"modified_at\": \"2024-04-26T12:20:35.731Z\",\n",
      "    \"name\": \"External Keras model\",\n",
      "    \"owner\": \"1000330999\",\n",
      "    \"resource_key\": \"849598fb-905b-4705-9070-5756098b8002\",\n",
      "    \"space_id\": \"069cbdc0-7d79-4e13-9792-03f568c57041\"\n",
      "  },\n",
      "  \"system\": {\n",
      "    \"warnings\": []\n",
      "  }\n",
      "}\n"
     ]
    }
   ],
   "source": [
    "import json\n",
    "\n",
    "published_model_id = client.repository.get_model_id(published_model)\n",
    "model_details = client.repository.get_details(published_model_id)\n",
    "print(json.dumps(model_details, indent=2))"
   ]
  },
  {
   "cell_type": "markdown",
   "metadata": {},
   "source": [
    "### 3.3 Get all models in the space"
   ]
  },
  {
   "cell_type": "markdown",
   "metadata": {},
   "source": [
    "space_id is automatically picked up from client.set.default_space() api call before"
   ]
  },
  {
   "cell_type": "code",
   "execution_count": null,
   "metadata": {
    "pycharm": {
     "is_executing": false
    }
   },
   "outputs": [],
   "source": [
    "models_details = client.repository.list_models()"
   ]
  },
  {
   "cell_type": "markdown",
   "metadata": {},
   "source": [
    "<a id=\"export\"></a>\n",
    "## 4. Export"
   ]
  },
  {
   "cell_type": "code",
   "execution_count": 10,
   "metadata": {},
   "outputs": [
    {
     "name": "stdout",
     "output_type": "stream",
     "text": [
      "Help on method start in module ibm_watsonx_ai.export_assets:\n",
      "\n",
      "start(meta_props: 'dict[str, str | bool | list]', space_id: 'str | None' = None, project_id: 'str | None' = None) -> 'dict' method of ibm_watsonx_ai.export_assets.Export instance\n",
      "    Start the export. Either space_id or project_id has to be provided and is mandatory.\n",
      "    ALL_ASSETS is by default False. No need to provide explicitly unless it has to be set to True.\n",
      "    Either ALL_ASSETS or ASSET_TYPES or ASSET_IDS has to be given in the meta_props. Only one of these can be\n",
      "    provided.\n",
      "    \n",
      "    In the `meta_props`:\n",
      "    \n",
      "    ALL_ASSETS is a boolean. When set to True, it exports all assets in the given space.\n",
      "    ASSET_IDS is an array containing the list of assets ids to be exported.\n",
      "    ASSET_TYPES is for providing the asset types to be exported. All assets of that asset type will be exported.\n",
      "    \n",
      "            Eg: wml_model, wml_model_definition, wml_pipeline, wml_function, wml_experiment,\n",
      "            software_specification, hardware_specification, package_extension, script\n",
      "    \n",
      "    :param meta_props: meta data,\n",
      "        to see available meta names use ``client.export_assets.ConfigurationMetaNames.get()``\n",
      "    :type meta_props: dict\n",
      "    :param space_id: space identifier\n",
      "    :type space_id: str, optional\n",
      "    :param project_id: project identifier\n",
      "    :type project: str, optional\n",
      "    \n",
      "    :return: Response json\n",
      "    :rtype: dict\n",
      "    \n",
      "    **Example**\n",
      "    \n",
      "    .. code-block:: python\n",
      "    \n",
      "        metadata = {\n",
      "            client.export_assets.ConfigurationMetaNames.NAME: \"export_model\",\n",
      "            client.export_assets.ConfigurationMetaNames.ASSET_IDS: [\"13a53931-a8c0-4c2f-8319-c793155e7517\",\n",
      "                                                                    \"13a53931-a8c0-4c2f-8319-c793155e7518\"]}\n",
      "    \n",
      "        details = client.export_assets.start(meta_props=metadata, space_id=\"98a53931-a8c0-4c2f-8319-c793155e4598\")\n",
      "    \n",
      "    .. code-block:: python\n",
      "    \n",
      "        metadata = {\n",
      "            client.export_assets.ConfigurationMetaNames.NAME: \"export_model\",\n",
      "            client.export_assets.ConfigurationMetaNames.ASSET_TYPES: [\"wml_model\"]}\n",
      "    \n",
      "        details = client.export_assets.start(meta_props=metadata, space_id=\"98a53931-a8c0-4c2f-8319-c793155e4598\")\n",
      "    \n",
      "    .. code-block:: python\n",
      "    \n",
      "        metadata = {\n",
      "            client.export_assets.ConfigurationMetaNames.NAME: \"export_model\",\n",
      "            client.export_assets.ConfigurationMetaNames.ALL_ASSETS: True}\n",
      "    \n",
      "        details = client.export_assets.start(meta_props=metadata, space_id=\"98a53931-a8c0-4c2f-8319-c793155e4598\")\n",
      "\n"
     ]
    }
   ],
   "source": [
    "help(client.export_assets.start)"
   ]
  },
  {
   "cell_type": "markdown",
   "metadata": {},
   "source": [
    "client.export_assets has these apis. For any help on these apis, type 'help(api_name)' in your notebook \n",
    "Example: help(client.export_assets.start), help(client.export_assets.get_details)\n",
    "\n",
    "1. client.export_assets.start: This starts the export job. export job is asynchronously executed\n",
    "2. client.export_assets.get_details: Given export_id and corresponding space_id/project_id, this gives the export job details. Usually used for monitoring the export job submitted with start api\n",
    "3. client.export_assets.list: Prints summary of all the export jobs\n",
    "4. client.export_assets.get_exported_content: Downloads the exported content. This information will be used by the import process\n",
    "5. client.export_assets.delete: Deletes the given export job\n",
    "6. client.export_assets.cancel: Cancels the given export job if running"
   ]
  },
  {
   "cell_type": "markdown",
   "metadata": {},
   "source": [
    "### 4.1: Start the export process"
   ]
  },
  {
   "cell_type": "markdown",
   "metadata": {},
   "source": [
    "Start the export process for the model created. Either ASSET_IDS or ASSET_TYPES or ALL_ASSETS can be provided.\n",
    "If you have more than one model ids, you need to provide them as array like client.export_assets.ConfigurationMetaNames.ASSET_IDS: [model_id1, model_id2]\n",
    "Refer to the help api above to see different usages and details"
   ]
  },
  {
   "cell_type": "code",
   "execution_count": 25,
   "metadata": {},
   "outputs": [
    {
     "name": "stdout",
     "output_type": "stream",
     "text": [
      "export job with id 1b6038ce-71c1-4b64-82e7-d9ed7b3ff2f0 has started. Monitor status using client.export_assets.get_details api. Check 'help(client.export_assets.get_details)' for details on the api usage\n",
      "{\n",
      "  \"entity\": {\n",
      "    \"assets\": {\n",
      "      \"all_assets\": false,\n",
      "      \"asset_ids\": [\n",
      "        \"0f741c27-b5e4-4810-a38a-3e845a5028ac\"\n",
      "      ]\n",
      "    },\n",
      "    \"format\": \"json\",\n",
      "    \"status\": {\n",
      "      \"state\": \"pending\"\n",
      "    }\n",
      "  },\n",
      "  \"metadata\": {\n",
      "    \"created_at\": \"2024-04-26T12:27:40.680Z\",\n",
      "    \"creator_id\": \"1000330999\",\n",
      "    \"id\": \"1b6038ce-71c1-4b64-82e7-d9ed7b3ff2f0\",\n",
      "    \"name\": \"export_model\",\n",
      "    \"space_id\": \"069cbdc0-7d79-4e13-9792-03f568c57041\",\n",
      "    \"url\": \"/v2/asset_exports/1b6038ce-71c1-4b64-82e7-d9ed7b3ff2f0\"\n",
      "  }\n",
      "}\n"
     ]
    }
   ],
   "source": [
    "metadata = { client.export_assets.ConfigurationMetaNames.NAME: \"export_model\",\n",
    "             client.export_assets.ConfigurationMetaNames.ASSET_IDS: [published_model_id]                                                                         \n",
    "           }\n",
    "\n",
    "details = client.export_assets.start(meta_props=metadata, space_id=export_space_id)\n",
    "print(json.dumps(details, indent=2))\n",
    "\n",
    "export_job_id = details[u'metadata'][u'id']"
   ]
  },
  {
   "cell_type": "markdown",
   "metadata": {},
   "source": [
    "### 4.2: Monitor the export process"
   ]
  },
  {
   "cell_type": "code",
   "execution_count": 26,
   "metadata": {},
   "outputs": [
    {
     "name": "stdout",
     "output_type": "stream",
     "text": [
      "completed\n",
      "{\n",
      "  \"entity\": {\n",
      "    \"assets\": {\n",
      "      \"all_assets\": false,\n",
      "      \"asset_ids\": [\n",
      "        \"0f741c27-b5e4-4810-a38a-3e845a5028ac\"\n",
      "      ]\n",
      "    },\n",
      "    \"format\": \"json\",\n",
      "    \"status\": {\n",
      "      \"state\": \"completed\"\n",
      "    }\n",
      "  },\n",
      "  \"metadata\": {\n",
      "    \"created_at\": \"2024-04-26T12:27:40.680Z\",\n",
      "    \"creator_id\": \"1000330999\",\n",
      "    \"id\": \"1b6038ce-71c1-4b64-82e7-d9ed7b3ff2f0\",\n",
      "    \"name\": \"export_model\",\n",
      "    \"space_id\": \"069cbdc0-7d79-4e13-9792-03f568c57041\",\n",
      "    \"updated_at\": \"2024-04-26T12:27:43.887Z\",\n",
      "    \"url\": \"/v2/asset_exports/1b6038ce-71c1-4b64-82e7-d9ed7b3ff2f0\"\n",
      "  }\n",
      "}\n"
     ]
    }
   ],
   "source": [
    "import time\n",
    "\n",
    "start_time = time.time()\n",
    "diff_time = start_time - start_time\n",
    "while True and diff_time < 10 * 60:\n",
    "    time.sleep(3)\n",
    "    response = client.export_assets.get_details(export_job_id, space_id=export_space_id)\n",
    "    state = response[u'entity'][u'status'][u'state']\n",
    "    print(state)\n",
    "    if state == 'completed' or state == 'error' or state == 'failed':\n",
    "        break\n",
    "    diff_time = time.time() - start_time\n",
    "\n",
    "print(json.dumps(response, indent=2))"
   ]
  },
  {
   "cell_type": "markdown",
   "metadata": {},
   "source": [
    "### 4.3: Get the exported content"
   ]
  },
  {
   "cell_type": "code",
   "execution_count": null,
   "metadata": {},
   "outputs": [],
   "source": [
    "export_dir = 'EXPORT_DATA'\n",
    "\n",
    "if not os.path.isdir(export_dir):\n",
    "    os.mkdir(export_dir)\n",
    "    \n",
    "export_file_name = 'exported_content_' + str(uuid.uuid4()) + '.zip'\n",
    "    \n",
    "export_file_path = os.path.join(export_dir, export_file_name)\n",
    "\n",
    "details = client.export_assets.get_exported_content(export_job_id, \n",
    "                                                    space_id = export_space_id, \n",
    "                                                    file_path = export_file_path)\n",
    "\n",
    "print(details)"
   ]
  },
  {
   "cell_type": "markdown",
   "metadata": {},
   "source": [
    "<a id=\"import\"></a>\n",
    "## 5. Import"
   ]
  },
  {
   "cell_type": "markdown",
   "metadata": {},
   "source": [
    "client.import_assets has these apis. For any help on these apis, type 'help(api_name)' in your notebook \n",
    "Example: help(client.import_assets.start), help(client.import_assets.get_details)\n",
    "\n",
    "1. client.import_assets.start: This starts the import job. import job is asynchronously executed\n",
    "2. client.import_assets.get_details: Given import_id and corresponding space_id/project_id, this gives the import job details. Usually used for monitoring the import job submitted with start api\n",
    "3. client.import_assets.list: Prints summary of all the import jobs\n",
    "4. client.import_assets.delete: Deletes the given import job\n",
    "5. client.import_assets.cancel: Cancels the given import job if running"
   ]
  },
  {
   "cell_type": "markdown",
   "metadata": {},
   "source": [
    "### 5.1: Start the import process"
   ]
  },
  {
   "cell_type": "code",
   "execution_count": 14,
   "metadata": {},
   "outputs": [
    {
     "name": "stdout",
     "output_type": "stream",
     "text": [
      "import job with id d80ac277-8114-4c02-a3ce-30f0c8df3516 has started. Monitor status using client.import_assets.get_details api. Check 'help(client.import_assets.get_details)' for details on the api usage\n",
      "{\n",
      "  \"entity\": {\n",
      "    \"format\": \"json\",\n",
      "    \"status\": {\n",
      "      \"state\": \"pending\"\n",
      "    }\n",
      "  },\n",
      "  \"metadata\": {\n",
      "    \"created_at\": \"2024-04-26T12:21:46.969Z\",\n",
      "    \"creator_id\": \"1000330999\",\n",
      "    \"id\": \"d80ac277-8114-4c02-a3ce-30f0c8df3516\",\n",
      "    \"space_id\": \"4bf6e043-eefa-42b5-a02e-4459ab11f0e4\",\n",
      "    \"url\": \"/v2/asset_imports/d80ac277-8114-4c02-a3ce-30f0c8df3516\"\n",
      "  }\n",
      "}\n"
     ]
    }
   ],
   "source": [
    "details = client.import_assets.start(file_path=export_file_path,\n",
    "                                     space_id=import_space_id)\n",
    "print(json.dumps(details, indent=2))\n",
    "\n",
    "import_job_id = details[u'metadata'][u'id']"
   ]
  },
  {
   "cell_type": "markdown",
   "metadata": {},
   "source": [
    "### 5.2: Monitor the import process"
   ]
  },
  {
   "cell_type": "code",
   "execution_count": 15,
   "metadata": {},
   "outputs": [
    {
     "name": "stdout",
     "output_type": "stream",
     "text": [
      "completed\n",
      "{\n",
      "  \"entity\": {\n",
      "    \"format\": \"json\",\n",
      "    \"status\": {\n",
      "      \"state\": \"completed\"\n",
      "    }\n",
      "  },\n",
      "  \"metadata\": {\n",
      "    \"created_at\": \"2024-04-26T12:21:46.969Z\",\n",
      "    \"creator_id\": \"1000330999\",\n",
      "    \"id\": \"d80ac277-8114-4c02-a3ce-30f0c8df3516\",\n",
      "    \"space_id\": \"4bf6e043-eefa-42b5-a02e-4459ab11f0e4\",\n",
      "    \"updated_at\": \"2024-04-26T12:21:53.383Z\",\n",
      "    \"url\": \"/v2/asset_imports/d80ac277-8114-4c02-a3ce-30f0c8df3516\"\n",
      "  }\n",
      "}\n",
      "\n",
      "List of models: \n",
      "\n",
      "\n",
      "model id for deployment: 2a79d196-10ee-45e4-9cdf-38f9fd477a24\n"
     ]
    }
   ],
   "source": [
    "import time\n",
    "\n",
    "start_time = time.time()\n",
    "diff_time = start_time - start_time\n",
    "while True and diff_time < 10 * 60:\n",
    "    time.sleep(3)\n",
    "    response = client.import_assets.get_details(import_job_id,\n",
    "                                                space_id=import_space_id)\n",
    "    state = response[u'entity'][u'status'][u'state']\n",
    "    print(state)\n",
    "    if state == 'completed' or state == 'error' or state == 'failed':\n",
    "         break\n",
    "    diff_time = time.time() - start_time\n",
    "\n",
    "print(json.dumps(response, indent=2))\n",
    "\n",
    "client.set.default_space(import_space_id)\n",
    "\n",
    "print(\"{}List of models: {}\".format('\\n', '\\n'))\n",
    "client.repository.list_models()\n",
    "details = client.repository.get_model_details()\n",
    "\n",
    "for obj in details[u'resources']:\n",
    "    if obj[u'metadata'][u'name'] == \"External Keras model\":\n",
    "        model_id_for_deployment = obj[u'metadata'][u'id']\n",
    "\n",
    "print(\"{}model id for deployment: {}\".format('\\n', model_id_for_deployment))"
   ]
  },
  {
   "cell_type": "markdown",
   "metadata": {},
   "source": [
    "List the import and export jobs"
   ]
  },
  {
   "cell_type": "code",
   "execution_count": 30,
   "metadata": {},
   "outputs": [
    {
     "name": "stdout",
     "output_type": "stream",
     "text": [
      "\n",
      "Import jobs:\n"
     ]
    },
    {
     "data": {
      "text/html": [
       "<div>\n",
       "<style scoped>\n",
       "    .dataframe tbody tr th:only-of-type {\n",
       "        vertical-align: middle;\n",
       "    }\n",
       "\n",
       "    .dataframe tbody tr th {\n",
       "        vertical-align: top;\n",
       "    }\n",
       "\n",
       "    .dataframe thead th {\n",
       "        text-align: right;\n",
       "    }\n",
       "</style>\n",
       "<table border=\"1\" class=\"dataframe\">\n",
       "  <thead>\n",
       "    <tr style=\"text-align: right;\">\n",
       "      <th></th>\n",
       "      <th>ID</th>\n",
       "      <th>CREATED</th>\n",
       "      <th>STATUS</th>\n",
       "    </tr>\n",
       "  </thead>\n",
       "  <tbody>\n",
       "    <tr>\n",
       "      <th>0</th>\n",
       "      <td>d80ac277-8114-4c02-a3ce-30f0c8df3516</td>\n",
       "      <td>2024-04-26T12:21:46.969Z</td>\n",
       "      <td>completed</td>\n",
       "    </tr>\n",
       "  </tbody>\n",
       "</table>\n",
       "</div>"
      ],
      "text/plain": [
       "                                     ID                   CREATED     STATUS\n",
       "0  d80ac277-8114-4c02-a3ce-30f0c8df3516  2024-04-26T12:21:46.969Z  completed"
      ]
     },
     "execution_count": 30,
     "metadata": {},
     "output_type": "execute_result"
    }
   ],
   "source": [
    "print(\"\\nImport jobs:\")\n",
    "client.import_assets.list(space_id=import_space_id)"
   ]
  },
  {
   "cell_type": "code",
   "execution_count": 34,
   "metadata": {},
   "outputs": [
    {
     "name": "stdout",
     "output_type": "stream",
     "text": [
      "Export jobs: \n",
      "\n"
     ]
    },
    {
     "data": {
      "text/html": [
       "<div>\n",
       "<style scoped>\n",
       "    .dataframe tbody tr th:only-of-type {\n",
       "        vertical-align: middle;\n",
       "    }\n",
       "\n",
       "    .dataframe tbody tr th {\n",
       "        vertical-align: top;\n",
       "    }\n",
       "\n",
       "    .dataframe thead th {\n",
       "        text-align: right;\n",
       "    }\n",
       "</style>\n",
       "<table border=\"1\" class=\"dataframe\">\n",
       "  <thead>\n",
       "    <tr style=\"text-align: right;\">\n",
       "      <th></th>\n",
       "      <th>ID</th>\n",
       "      <th>NAME</th>\n",
       "      <th>CREATED</th>\n",
       "      <th>STATUS</th>\n",
       "    </tr>\n",
       "  </thead>\n",
       "  <tbody>\n",
       "    <tr>\n",
       "      <th>0</th>\n",
       "      <td>1b6038ce-71c1-4b64-82e7-d9ed7b3ff2f0</td>\n",
       "      <td>export_model</td>\n",
       "      <td>2024-04-26T12:27:40.680Z</td>\n",
       "      <td>completed</td>\n",
       "    </tr>\n",
       "  </tbody>\n",
       "</table>\n",
       "</div>"
      ],
      "text/plain": [
       "                                     ID          NAME  \\\n",
       "0  1b6038ce-71c1-4b64-82e7-d9ed7b3ff2f0  export_model   \n",
       "\n",
       "                    CREATED     STATUS  \n",
       "0  2024-04-26T12:27:40.680Z  completed  "
      ]
     },
     "execution_count": 34,
     "metadata": {},
     "output_type": "execute_result"
    }
   ],
   "source": [
    "print(\"Export jobs: \\n\")\n",
    "client.export_assets.list(space_id=export_space_id)"
   ]
  },
  {
   "cell_type": "markdown",
   "metadata": {},
   "source": [
    "<a id=\"scoring\"></a>\n",
    "## 6. Deploy and score the imported model"
   ]
  },
  {
   "cell_type": "markdown",
   "metadata": {},
   "source": [
    "### 6.1: Create model deployment"
   ]
  },
  {
   "cell_type": "markdown",
   "metadata": {},
   "source": [
    "#### Create online deployment for published model"
   ]
  },
  {
   "cell_type": "code",
   "execution_count": 35,
   "metadata": {
    "pycharm": {
     "is_executing": false,
     "name": "#%%\n"
    }
   },
   "outputs": [
    {
     "name": "stdout",
     "output_type": "stream",
     "text": [
      "\n",
      "\n",
      "######################################################################################\n",
      "\n",
      "Synchronous deployment creation for id: '2a79d196-10ee-45e4-9cdf-38f9fd477a24' started\n",
      "\n",
      "######################################################################################\n",
      "\n",
      "\n",
      "initializing\n",
      "Note: online_url is deprecated and will be removed in a future release. Use serving_urls instead.\n",
      "....\n",
      "ready\n",
      "\n",
      "\n",
      "-----------------------------------------------------------------------------------------------\n",
      "Successfully finished deployment creation, deployment_id='69c0f383-d4fc-4a15-bfbf-789ede04a0ac'\n",
      "-----------------------------------------------------------------------------------------------\n",
      "\n",
      "\n"
     ]
    }
   ],
   "source": [
    "metadata = {\n",
    "    client.deployments.ConfigurationMetaNames.NAME: \"Deployment of external Keras model\",\n",
    "    client.deployments.ConfigurationMetaNames.ONLINE: {}\n",
    "}\n",
    "\n",
    "created_deployment = client.deployments.create(model_id_for_deployment, meta_props=metadata)"
   ]
  },
  {
   "cell_type": "code",
   "execution_count": 36,
   "metadata": {},
   "outputs": [],
   "source": [
    "deployment_id = client.deployments.get_id(created_deployment)"
   ]
  },
  {
   "cell_type": "markdown",
   "metadata": {},
   "source": [
    "Now you can print an online scoring endpoint. "
   ]
  },
  {
   "cell_type": "code",
   "execution_count": null,
   "metadata": {
    "pycharm": {
     "is_executing": false,
     "name": "#%%\n"
    }
   },
   "outputs": [],
   "source": [
    "scoring_endpoint = client.deployments.get_scoring_href(created_deployment)\n",
    "print(scoring_endpoint)"
   ]
  },
  {
   "cell_type": "markdown",
   "metadata": {},
   "source": [
    "You can also list existing deployments."
   ]
  },
  {
   "cell_type": "code",
   "execution_count": null,
   "metadata": {},
   "outputs": [],
   "source": [
    "client.deployments.list()"
   ]
  },
  {
   "cell_type": "markdown",
   "metadata": {},
   "source": [
    "### 6.2: Get deployment details"
   ]
  },
  {
   "cell_type": "code",
   "execution_count": null,
   "metadata": {
    "pycharm": {
     "is_executing": false,
     "name": "#%%\n"
    }
   },
   "outputs": [],
   "source": [
    "details = client.deployments.get_details(deployment_id)\n",
    "print(json.dumps(details, indent=2))"
   ]
  },
  {
   "cell_type": "markdown",
   "metadata": {},
   "source": [
    "### 6.3: Score"
   ]
  },
  {
   "cell_type": "markdown",
   "metadata": {},
   "source": [
    "You can use below method to do test scoring request against deployed model."
   ]
  },
  {
   "cell_type": "markdown",
   "metadata": {},
   "source": [
    "Let's first visualize two samples from dataset, we'll use for scoring. You must have matplotlib package installed"
   ]
  },
  {
   "cell_type": "code",
   "execution_count": 39,
   "metadata": {},
   "outputs": [],
   "source": [
    "%matplotlib inline\n",
    "import matplotlib.pyplot as plt"
   ]
  },
  {
   "cell_type": "code",
   "execution_count": 40,
   "metadata": {},
   "outputs": [
    {
     "data": {
      "image/png": "[encoded data removed]",
      "text/plain": [
       "<Figure size 640x480 with 2 Axes>"
      ]
     },
     "metadata": {},
     "output_type": "display_data"
    }
   ],
   "source": [
    "for i, image in enumerate([x_test[0], x_test[1]]):\n",
    "    plt.subplot(2, 2, i + 1)\n",
    "    plt.axis('off')\n",
    "    plt.imshow(image, cmap=plt.cm.gray_r, interpolation='nearest')"
   ]
  },
  {
   "cell_type": "markdown",
   "metadata": {},
   "source": [
    "Prepare scoring payload with records to score."
   ]
  },
  {
   "cell_type": "code",
   "execution_count": 41,
   "metadata": {},
   "outputs": [],
   "source": [
    "score_0 = x_test[0].flatten().tolist()\n",
    "score_1 = x_test[1].flatten().tolist()"
   ]
  },
  {
   "cell_type": "code",
   "execution_count": 42,
   "metadata": {
    "pycharm": {
     "is_executing": false,
     "name": "#%%\n"
    }
   },
   "outputs": [],
   "source": [
    "scoring_payload = {\"input_data\": [{\"values\": [score_0, score_1]}]}"
   ]
  },
  {
   "cell_type": "markdown",
   "metadata": {},
   "source": [
    "Use ``client.deployments.score()`` method to run scoring."
   ]
  },
  {
   "cell_type": "code",
   "execution_count": 43,
   "metadata": {
    "pycharm": {
     "is_executing": false,
     "name": "#%%\n"
    }
   },
   "outputs": [],
   "source": [
    "predictions = client.deployments.score(deployment_id, scoring_payload)"
   ]
  },
  {
   "cell_type": "code",
   "execution_count": 44,
   "metadata": {
    "pycharm": {
     "is_executing": false,
     "name": "#%%\n"
    }
   },
   "outputs": [
    {
     "name": "stdout",
     "output_type": "stream",
     "text": [
      "{\n",
      "  \"predictions\": [\n",
      "    {\n",
      "      \"id\": \"dense_2\",\n",
      "      \"fields\": [\n",
      "        \"prediction\",\n",
      "        \"prediction_classes\",\n",
      "        \"probability\"\n",
      "      ],\n",
      "      \"values\": [\n",
      "        [\n",
      "          [\n",
      "            0.0,\n",
      "            0.0,\n",
      "            0.0,\n",
      "            0.0,\n",
      "            0.0,\n",
      "            0.0,\n",
      "            0.0,\n",
      "            1.0,\n",
      "            0.0,\n",
      "            0.0\n",
      "          ],\n",
      "          7,\n",
      "          [\n",
      "            0.0,\n",
      "            0.0,\n",
      "            0.0,\n",
      "            0.0,\n",
      "            0.0,\n",
      "            0.0,\n",
      "            0.0,\n",
      "            1.0,\n",
      "            0.0,\n",
      "            0.0\n",
      "          ]\n",
      "        ],\n",
      "        [\n",
      "          [\n",
      "            0.0,\n",
      "            0.0,\n",
      "            1.0,\n",
      "            0.0,\n",
      "            0.0,\n",
      "            0.0,\n",
      "            0.0,\n",
      "            0.0,\n",
      "            0.0,\n",
      "            0.0\n",
      "          ],\n",
      "          2,\n",
      "          [\n",
      "            0.0,\n",
      "            0.0,\n",
      "            1.0,\n",
      "            0.0,\n",
      "            0.0,\n",
      "            0.0,\n",
      "            0.0,\n",
      "            0.0,\n",
      "            0.0,\n",
      "            0.0\n",
      "          ]\n",
      "        ]\n",
      "      ]\n",
      "    }\n",
      "  ]\n",
      "}\n"
     ]
    }
   ],
   "source": [
    "print(json.dumps(predictions, indent=2))"
   ]
  },
  {
   "cell_type": "markdown",
   "metadata": {},
   "source": [
    "<a id=\"cleanup\"></a>\n",
    "## 7. Clean up "
   ]
  },
  {
   "cell_type": "code",
   "execution_count": 45,
   "metadata": {},
   "outputs": [
    {
     "name": "stdout",
     "output_type": "stream",
     "text": [
      "Export job deleted\n",
      "Import job deleted\n",
      "DELETED\n",
      "DELETED\n"
     ]
    },
    {
     "data": {
      "text/plain": [
       "'SUCCESS'"
      ]
     },
     "execution_count": 45,
     "metadata": {},
     "output_type": "execute_result"
    }
   ],
   "source": [
    "client.export_assets.delete(export_job_id, space_id=export_space_id)\n",
    "client.import_assets.delete(import_job_id, space_id=import_space_id)\n",
    "\n",
    "client.spaces.delete(export_space_id)\n",
    "client.spaces.delete(import_space_id)"
   ]
  },
  {
   "cell_type": "markdown",
   "metadata": {},
   "source": [
    "If you want to clean up all created assets:\n",
    "- experiments\n",
    "- trainings\n",
    "- pipelines\n",
    "- model definitions\n",
    "- models\n",
    "- functions\n",
    "- deployments\n",
    "\n",
    "please follow up this sample [notebook](https://github.com/IBM/watson-machine-learning-samples/blob/master/cpd5.0/notebooks/python_sdk/instance-management/Machine%20Learning%20artifacts%20management.ipynb)."
   ]
  },
  {
   "cell_type": "markdown",
   "metadata": {},
   "source": [
    "<a id=\"summary\"></a>\n",
    "## 8. Summary and next steps"
   ]
  },
  {
   "cell_type": "markdown",
   "metadata": {},
   "source": [
    "You successfully completed this notebook! You learned how to use export/import assets client apis.\n",
    "\n",
    "Check out our _<a href=\"https://ibm.github.io/watsonx-ai-python-sdk/samples.html\" target=\"_blank\" rel=\"noopener no referrer\">Online Documentation</a>_ for more samples, tutorials, documentation, how-tos, and blog posts. "
   ]
  },
  {
   "cell_type": "markdown",
   "metadata": {},
   "source": [
    "### Authors\n",
    "\n",
    "*Mithun - *vbmithun@in.ibm.com**, Software Engineer"
   ]
  },
  {
   "cell_type": "markdown",
   "metadata": {},
   "source": [
    "Copyright © 2020-2024 IBM. This notebook and its source code are released under the terms of the MIT License."
   ]
  }
 ],
 "metadata": {
  "kernelspec": {
   "display_name": "Python 3 (ipykernel)",
   "language": "python",
   "name": "python3"
  },
  "language_info": {
   "codemirror_mode": {
    "name": "ipython",
    "version": 3
   },
   "file_extension": ".py",
   "mimetype": "text/x-python",
   "name": "python",
   "nbconvert_exporter": "python",
   "pygments_lexer": "ipython3",
   "version": "3.11.9"
  },
  "pycharm": {
   "stem_cell": {
    "cell_type": "raw",
    "metadata": {
     "collapsed": false
    },
    "source": []
   }
  }
 },
 "nbformat": 4,
 "nbformat_minor": 4
}
