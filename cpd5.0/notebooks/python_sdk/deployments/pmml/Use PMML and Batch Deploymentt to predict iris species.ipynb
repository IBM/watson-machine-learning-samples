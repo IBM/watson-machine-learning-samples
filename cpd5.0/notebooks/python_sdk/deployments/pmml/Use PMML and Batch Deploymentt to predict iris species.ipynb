{
 "cells": [
  {
   "cell_type": "markdown",
   "metadata": {},
   "source": [
    "# Use PMML to predict iris species with `ibm-watsonx-ai`"
   ]
  },
  {
   "cell_type": "markdown",
   "metadata": {},
   "source": [
    "This notebook contains steps from storing sample PMML model to starting scoring new data using batch deployment. \n",
    "\n",
    "Some familiarity with python is helpful. This notebook uses Python 3.11.\n",
    "\n",
    "You will use a **Iris** data set, which details measurements of iris perianth. Use the details of this data set to predict iris species.\n",
    "\n",
    "## Learning goals\n",
    "\n",
    "The learning goals of this notebook are:\n",
    "\n",
    "-  Working with the WML instance\n",
    "-  Batch deployment of PMML model\n",
    "-  Scoring of deployed model\n",
    "\n",
    "\n",
    "## Contents\n",
    "\n",
    "This notebook contains the following parts:\n",
    "\n",
    "1. [Setup](#setup)\n",
    "2. [Model upload](#upload) \n",
    "3. [Batch deployment creation](#deploy)\n",
    "4. [Scoring](#score)\n",
    "5. [Clean up](#cleanup)\n",
    "6. [Summary and next steps](#summary)"
   ]
  },
  {
   "cell_type": "markdown",
   "metadata": {},
   "source": [
    "<a id=\"setup\"></a>\n",
    "## 1. Set up the environment\n",
    "\n",
    "Before you use the sample code in this notebook, you must perform the following setup tasks:\n",
    "\n",
    "-  Contact with your Cloud Pack for Data administrator and ask him for your account credentials"
   ]
  },
  {
   "cell_type": "markdown",
   "metadata": {},
   "source": [
    "### Install and import the `ibm-watsonx-ai` and dependecies\n",
    "**Note:** `ibm-watsonx-ai` documentation can be found <a href=\"https://ibm.github.io/watsonx-ai-python-sdk/index.html\" target=\"_blank\" rel=\"noopener no referrer\">here</a>."
   ]
  },
  {
   "cell_type": "code",
   "execution_count": null,
   "metadata": {},
   "outputs": [],
   "source": [
    "!pip install wget| tail -n 1\n",
    "!pip install -U ibm-watsonx-ai | tail -n 1"
   ]
  },
  {
   "cell_type": "markdown",
   "metadata": {},
   "source": [
    "### Connection to WML\n",
    "\n",
    "Authenticate the Watson Machine Learning service on IBM Cloud Pack for Data. You need to provide platform `url`, your `username` and `api_key`."
   ]
  },
  {
   "cell_type": "code",
   "execution_count": null,
   "metadata": {},
   "outputs": [],
   "source": [
    "username = 'PASTE YOUR USERNAME HERE'\n",
    "api_key = 'PASTE YOUR API_KEY HERE'\n",
    "url = 'PASTE THE PLATFORM URL HERE'"
   ]
  },
  {
   "cell_type": "code",
   "execution_count": 1,
   "metadata": {},
   "outputs": [],
   "source": [
    "from ibm_watsonx_ai import Credentials\n",
    "\n",
    "credentials = Credentials(\n",
    "    username=username,\n",
    "    api_key=api_key,\n",
    "    url=url,\n",
    "    instance_id=\"openshift\",\n",
    "    version=\"5.0\"\n",
    ")"
   ]
  },
  {
   "cell_type": "markdown",
   "metadata": {},
   "source": [
    "Alternatively you can use `username` and `password` to authenticate WML services.\n",
    "\n",
    "```python\n",
    "credentials = Credentials(\n",
    "    username=***,\n",
    "    password=***,\n",
    "    url=***,\n",
    "    instance_id=\"openshift\",\n",
    "    version=\"5.0\"\n",
    ")\n",
    "\n",
    "```"
   ]
  },
  {
   "cell_type": "code",
   "execution_count": 2,
   "metadata": {},
   "outputs": [],
   "source": [
    "from ibm_watsonx_ai import APIClient\n",
    "\n",
    "client = APIClient(credentials)"
   ]
  },
  {
   "cell_type": "markdown",
   "metadata": {},
   "source": [
    "### Working with spaces\n",
    "\n",
    "First of all, you need to create a space that will be used for your work. If you do not have space already created, you can use `{PLATFORM_URL}/ml-runtime/spaces?context=icp4data` to create one.\n",
    "\n",
    "- Click New Deployment Space\n",
    "- Create an empty space\n",
    "- Go to space `Settings` tab\n",
    "- Copy `space_id` and paste it below\n",
    "\n",
    "**Tip**: You can also use SDK to prepare the space for your work. More information can be found [here](https://github.com/IBM/watson-machine-learning-samples/blob/master/cpd5.0/notebooks/python_sdk/instance-management/Space%20management.ipynb).\n",
    "\n",
    "**Action**: Assign space ID below"
   ]
  },
  {
   "cell_type": "code",
   "execution_count": 3,
   "metadata": {},
   "outputs": [],
   "source": [
    "space_id = 'PASTE YOUR SPACE ID HERE'"
   ]
  },
  {
   "cell_type": "markdown",
   "metadata": {},
   "source": [
    "You can use `list` method to print all existing spaces."
   ]
  },
  {
   "cell_type": "code",
   "execution_count": null,
   "metadata": {},
   "outputs": [],
   "source": [
    "client.spaces.list(limit=10)"
   ]
  },
  {
   "cell_type": "markdown",
   "metadata": {},
   "source": [
    "To be able to interact with all resources available in `watsonx.ai`, you need to set **space** which you will be using."
   ]
  },
  {
   "cell_type": "code",
   "execution_count": 4,
   "metadata": {},
   "outputs": [
    {
     "data": {
      "text/plain": [
       "'SUCCESS'"
      ]
     },
     "execution_count": 4,
     "metadata": {},
     "output_type": "execute_result"
    }
   ],
   "source": [
    "client.set.default_space(space_id)"
   ]
  },
  {
   "cell_type": "markdown",
   "metadata": {},
   "source": [
    "<a id=\"upload\"></a>\n",
    "## 2. Upload model"
   ]
  },
  {
   "cell_type": "markdown",
   "metadata": {},
   "source": [
    "In this section you will learn how to upload the model to the Cloud."
   ]
  },
  {
   "cell_type": "markdown",
   "metadata": {},
   "source": [
    "**Action**: Download sample PMML model from git project using wget."
   ]
  },
  {
   "cell_type": "code",
   "execution_count": 7,
   "metadata": {},
   "outputs": [],
   "source": [
    "import os\n",
    "from wget import download\n",
    "\n",
    "sample_dir = 'pmml_sample_model'\n",
    "if not os.path.isdir(sample_dir):\n",
    "    os.mkdir(sample_dir)\n",
    "    \n",
    "filename=os.path.join(sample_dir, 'iris_chaid.xml')\n",
    "if not os.path.isfile(filename):\n",
    "    filename = download('https://raw.githubusercontent.com/IBM/watson-machine-learning-samples/master/cpd5.0/models/pmml/iris-species/model/iris_chaid.xml', out=sample_dir)"
   ]
  },
  {
   "cell_type": "markdown",
   "metadata": {},
   "source": [
    "Store downloaded file in `watsonx.ai` repository."
   ]
  },
  {
   "cell_type": "code",
   "execution_count": 8,
   "metadata": {},
   "outputs": [],
   "source": [
    "sw_spec_uid = client.software_specifications.get_uid_by_name(\"pmml-3.0_4.3\")\n",
    "\n",
    "meta_props = {\n",
    "    client.repository.ModelMetaNames.NAME: \"pmmlmodel\",\n",
    "    client.repository.ModelMetaNames.SOFTWARE_SPEC_UID: sw_spec_uid,\n",
    "    client.repository.ModelMetaNames.TYPE: 'pmml_4.2.1'}"
   ]
  },
  {
   "cell_type": "code",
   "execution_count": 9,
   "metadata": {},
   "outputs": [],
   "source": [
    "published_model = client.repository.store_model(model=filename, meta_props=meta_props)"
   ]
  },
  {
   "cell_type": "markdown",
   "metadata": {},
   "source": [
    "**Note:** You can see that model is successfully stored in Watson Machine Learning Service."
   ]
  },
  {
   "cell_type": "code",
   "execution_count": null,
   "metadata": {},
   "outputs": [],
   "source": [
    "client.repository.list_models()"
   ]
  },
  {
   "cell_type": "markdown",
   "metadata": {},
   "source": [
    "<a id=\"deploy\"></a>\n",
    "## 3. Create battch deployment"
   ]
  },
  {
   "cell_type": "markdown",
   "metadata": {},
   "source": [
    "You can use command bellow to create batch deployment for stored model."
   ]
  },
  {
   "cell_type": "code",
   "execution_count": 10,
   "metadata": {},
   "outputs": [
    {
     "name": "stdout",
     "output_type": "stream",
     "text": [
      "\n",
      "\n",
      "######################################################################################\n",
      "\n",
      "Synchronous deployment creation for id: '03debeb3-befa-41cc-9b3f-baf3fedd51e3' started\n",
      "\n",
      "######################################################################################\n",
      "\n",
      "\n",
      "ready.\n",
      "\n",
      "\n",
      "-----------------------------------------------------------------------------------------------\n",
      "Successfully finished deployment creation, deployment_id='46bddf6a-f4c9-4e1f-a436-bee4cf2c6a03'\n",
      "-----------------------------------------------------------------------------------------------\n",
      "\n",
      "\n"
     ]
    }
   ],
   "source": [
    "model_id = client.repository.get_model_id(published_model)\n",
    "deployment = client.deployments.create(\n",
    "    artifact_uid=model_id,\n",
    "    meta_props={\n",
    "        client.deployments.ConfigurationMetaNames.NAME: \"Sample PMML Batch deployment\",\n",
    "        client.deployments.ConfigurationMetaNames.BATCH:{},\n",
    "        client.deployments.ConfigurationMetaNames.HARDWARE_SPEC: {\n",
    "            \"name\": \"S\",\n",
    "            \"num_nodes\": 1\n",
    "        }\n",
    "    }\n",
    ")"
   ]
  },
  {
   "cell_type": "markdown",
   "metadata": {},
   "source": [
    "Batch deployment has been created.\n",
    "\n",
    "You can retrieve now your deployment ID."
   ]
  },
  {
   "cell_type": "code",
   "execution_count": 11,
   "metadata": {},
   "outputs": [],
   "source": [
    "deployment_id = client.deployments.get_id(deployment)"
   ]
  },
  {
   "cell_type": "markdown",
   "metadata": {},
   "source": [
    "You can also list all deployments in your space."
   ]
  },
  {
   "cell_type": "code",
   "execution_count": null,
   "metadata": {},
   "outputs": [],
   "source": [
    "client.deployments.list()"
   ]
  },
  {
   "cell_type": "markdown",
   "metadata": {},
   "source": [
    "If you want to get additional information on your deployment, you can do it as below."
   ]
  },
  {
   "cell_type": "code",
   "execution_count": 13,
   "metadata": {},
   "outputs": [
    {
     "data": {
      "text/plain": [
       "{'entity': {'asset': {'id': '03debeb3-befa-41cc-9b3f-baf3fedd51e3'},\n",
       "  'batch': {},\n",
       "  'custom': {},\n",
       "  'deployed_asset_type': 'model',\n",
       "  'hardware_spec': {'id': 'e7ed1d6c-2e89-42d7-aed5-863b972c1d2b',\n",
       "   'name': 'S',\n",
       "   'num_nodes': 1},\n",
       "  'name': 'Sample PMML Batch deployment',\n",
       "  'space_id': 'cbd87244-b000-4279-b991-3cefbf8b1555',\n",
       "  'status': {'state': 'ready'}},\n",
       " 'metadata': {'created_at': '2024-04-24T13:41:59.345Z',\n",
       "  'id': '46bddf6a-f4c9-4e1f-a436-bee4cf2c6a03',\n",
       "  'modified_at': '2024-04-24T13:41:59.345Z',\n",
       "  'name': 'Sample PMML Batch deployment',\n",
       "  'owner': '1000330999',\n",
       "  'space_id': 'cbd87244-b000-4279-b991-3cefbf8b1555'}}"
      ]
     },
     "execution_count": 13,
     "metadata": {},
     "output_type": "execute_result"
    }
   ],
   "source": [
    "client.deployments.get_details(deployment_id)"
   ]
  },
  {
   "cell_type": "markdown",
   "metadata": {},
   "source": [
    "<a id=\"score\"></a>\n",
    "## 4. Scoring"
   ]
  },
  {
   "cell_type": "markdown",
   "metadata": {},
   "source": [
    "You can send new scoring records to batch deployment using by creating job."
   ]
  },
  {
   "cell_type": "code",
   "execution_count": 14,
   "metadata": {},
   "outputs": [],
   "source": [
    "job_payload_ref = {\n",
    "    client.deployments.ScoringMetaNames.INPUT_DATA: [\n",
    "        {\n",
    "            'fields': ['Sepal.Length', 'Sepal.Width', 'Petal.Length', 'Petal.Width'],\n",
    "            'values': [[5.1, 3.5, 1.4, 0.2]]\n",
    "        }\n",
    "    ]\n",
    "}\n",
    "\n",
    "job = client.deployments.create_job(deployment_id, meta_props=job_payload_ref)"
   ]
  },
  {
   "cell_type": "markdown",
   "metadata": {},
   "source": [
    "Now, your job has been submitted to runtime.\n",
    "\n",
    "You can retrieve now your job ID."
   ]
  },
  {
   "cell_type": "code",
   "execution_count": 20,
   "metadata": {},
   "outputs": [],
   "source": [
    "job_id = client.deployments.get_job_id(job)"
   ]
  },
  {
   "cell_type": "markdown",
   "metadata": {},
   "source": [
    "You can also list all jobs in your space."
   ]
  },
  {
   "cell_type": "code",
   "execution_count": null,
   "metadata": {},
   "outputs": [],
   "source": [
    "client.deployments.list_jobs()"
   ]
  },
  {
   "cell_type": "markdown",
   "metadata": {},
   "source": [
    "If you want to get additional information on your job, you can do it as below."
   ]
  },
  {
   "cell_type": "code",
   "execution_count": null,
   "metadata": {},
   "outputs": [],
   "source": [
    "client.deployments.get_job_details(job_id)"
   ]
  },
  {
   "cell_type": "markdown",
   "metadata": {},
   "source": [
    "**Monitor job execution**  \n",
    "Here you can check status of your batch scoring."
   ]
  },
  {
   "cell_type": "code",
   "execution_count": 21,
   "metadata": {},
   "outputs": [
    {
     "name": "stdout",
     "output_type": "stream",
     "text": [
      " Current state: completed\n",
      "{'entity': {'deployment': {'id': '46bddf6a-f4c9-4e1f-a436-bee4cf2c6a03'}, 'platform_job': {'job_id': '67ff6035-d444-4f29-8cc3-4a2e15109267', 'run_id': '57ef959f-1164-459f-8000-0e78e3a12cc1'}, 'scoring': {'input_data': [{'fields': ['Sepal.Length', 'Sepal.Width', 'Petal.Length', 'Petal.Width'], 'values': [[5.1, 3.5, 1.4, 0.2]]}], 'predictions': [{'fields': ['$R-Species', '$RC-Species', '$RP-Species', '$RP-setosa', '$RP-versicolor', '$RP-virginica', '$RI-Species'], 'values': [['setosa', 1.0, 1.0, 1.0, 0.0, 0.0, '1']]}], 'status': {'completed_at': '2024-04-24T13:57:08.000Z', 'running_at': '2024-04-24T13:57:08.000Z', 'state': 'completed'}}}, 'metadata': {'created_at': '2024-04-24T13:56:31.606Z', 'id': '67098cc3-b781-4557-9c9c-2194553885fa', 'modified_at': '2024-04-24T13:57:08.258Z', 'name': 'name_415333db-d56a-4745-b8bf-a47f2b0a2f45', 'space_id': 'cbd87244-b000-4279-b991-3cefbf8b1555'}}\n"
     ]
    }
   ],
   "source": [
    "import time\n",
    "\n",
    "elapsed_time = 0\n",
    "while client.deployments.get_job_status(job_id).get('state') != 'completed' and elapsed_time < 300:\n",
    "    print(f\" Current state: {client.deployments.get_job_status(job_id).get('state')}\")\n",
    "    elapsed_time += 10\n",
    "    time.sleep(10)\n",
    "if client.deployments.get_job_status(job_id).get('state') == 'completed':\n",
    "    print(f\" Current state: {client.deployments.get_job_status(job_id).get('state')}\")\n",
    "    job_details_do = client.deployments.get_job_details(job_id)\n",
    "    print(job_details_do)\n",
    "else:\n",
    "    print(\"Job hasn't completed successfully in 5 minutes.\")"
   ]
  },
  {
   "cell_type": "markdown",
   "metadata": {},
   "source": [
    "**Get scored data**"
   ]
  },
  {
   "cell_type": "code",
   "execution_count": 22,
   "metadata": {},
   "outputs": [
    {
     "name": "stdout",
     "output_type": "stream",
     "text": [
      "{\n",
      "  \"entity\": {\n",
      "    \"deployment\": {\n",
      "      \"id\": \"46bddf6a-f4c9-4e1f-a436-bee4cf2c6a03\"\n",
      "    },\n",
      "    \"platform_job\": {\n",
      "      \"job_id\": \"67ff6035-d444-4f29-8cc3-4a2e15109267\",\n",
      "      \"run_id\": \"57ef959f-1164-459f-8000-0e78e3a12cc1\"\n",
      "    },\n",
      "    \"scoring\": {\n",
      "      \"input_data\": [\n",
      "        {\n",
      "          \"fields\": [\n",
      "            \"Sepal.Length\",\n",
      "            \"Sepal.Width\",\n",
      "            \"Petal.Length\",\n",
      "            \"Petal.Width\"\n",
      "          ],\n",
      "          \"values\": [\n",
      "            [\n",
      "              5.1,\n",
      "              3.5,\n",
      "              1.4,\n",
      "              0.2\n",
      "            ]\n",
      "          ]\n",
      "        }\n",
      "      ],\n",
      "      \"predictions\": [\n",
      "        {\n",
      "          \"fields\": [\n",
      "            \"$R-Species\",\n",
      "            \"$RC-Species\",\n",
      "            \"$RP-Species\",\n",
      "            \"$RP-setosa\",\n",
      "            \"$RP-versicolor\",\n",
      "            \"$RP-virginica\",\n",
      "            \"$RI-Species\"\n",
      "          ],\n",
      "          \"values\": [\n",
      "            [\n",
      "              \"setosa\",\n",
      "              1.0,\n",
      "              1.0,\n",
      "              1.0,\n",
      "              0.0,\n",
      "              0.0,\n",
      "              \"1\"\n",
      "            ]\n",
      "          ]\n",
      "        }\n",
      "      ],\n",
      "      \"status\": {\n",
      "        \"completed_at\": \"2024-04-24T13:57:08.000Z\",\n",
      "        \"running_at\": \"2024-04-24T13:57:08.000Z\",\n",
      "        \"state\": \"completed\"\n",
      "      }\n",
      "    }\n",
      "  },\n",
      "  \"metadata\": {\n",
      "    \"created_at\": \"2024-04-24T13:56:31.606Z\",\n",
      "    \"id\": \"67098cc3-b781-4557-9c9c-2194553885fa\",\n",
      "    \"modified_at\": \"2024-04-24T13:57:08.258Z\",\n",
      "    \"name\": \"name_415333db-d56a-4745-b8bf-a47f2b0a2f45\",\n",
      "    \"space_id\": \"cbd87244-b000-4279-b991-3cefbf8b1555\"\n",
      "  }\n",
      "}\n"
     ]
    }
   ],
   "source": [
    "import json\n",
    "\n",
    "print(json.dumps(client.deployments.get_job_details(job_id), indent=2))"
   ]
  },
  {
   "cell_type": "markdown",
   "metadata": {},
   "source": [
    "As we can see this is Iris Setosa flower."
   ]
  },
  {
   "cell_type": "markdown",
   "metadata": {},
   "source": [
    "<a id=\"cleanup\"></a>\n",
    "## 5. Clean up "
   ]
  },
  {
   "cell_type": "markdown",
   "metadata": {},
   "source": [
    "If you want to clean up all created assets:\n",
    "- experiments\n",
    "- trainings\n",
    "- pipelines\n",
    "- model definitions\n",
    "- models\n",
    "- functions\n",
    "- deployments\n",
    "\n",
    "please follow up this sample [notebook](https://github.com/IBM/watson-machine-learning-samples/blob/master/cpd5.0/notebooks/python_sdk/instance-management/Machine%20Learning%20artifacts%20management.ipynb)."
   ]
  },
  {
   "cell_type": "markdown",
   "metadata": {},
   "source": [
    "<a id=\"summary\"></a>\n",
    "## 6. Summary and next steps     "
   ]
  },
  {
   "cell_type": "markdown",
   "metadata": {},
   "source": [
    "You successfully completed this notebook! You learned how to use `watsonx.ai` for PMML model deployment and scoring. \n",
    " \n",
    "Check out our _<a href=\"https://ibm.github.io/watsonx-ai-python-sdk/samples.html\" target=\"_blank\" rel=\"noopener no referrer\">Online Documentation</a>_ for more samples, tutorials, documentation, how-tos, and blog posts. "
   ]
  },
  {
   "cell_type": "markdown",
   "metadata": {},
   "source": [
    "### Authors\n",
    "\n",
    "**Jan Sołtysik**, Software Engineer at IBM."
   ]
  },
  {
   "cell_type": "markdown",
   "metadata": {},
   "source": [
    "Copyright © 2020-2024 IBM. This notebook and its source code are released under the terms of the MIT License."
   ]
  }
 ],
 "metadata": {
  "kernelspec": {
   "display_name": "Python 3 (ipykernel)",
   "language": "python",
   "name": "python3"
  },
  "language_info": {
   "codemirror_mode": {
    "name": "ipython",
    "version": 3
   },
   "file_extension": ".py",
   "mimetype": "text/x-python",
   "name": "python",
   "nbconvert_exporter": "python",
   "pygments_lexer": "ipython3",
   "version": "3.11.9"
  }
 },
 "nbformat": 4,
 "nbformat_minor": 4
}
