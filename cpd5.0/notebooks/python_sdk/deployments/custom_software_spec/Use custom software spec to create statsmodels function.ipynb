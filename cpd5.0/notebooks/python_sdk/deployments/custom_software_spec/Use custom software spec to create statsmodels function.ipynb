{
 "cells": [
  {
   "cell_type": "markdown",
   "metadata": {},
   "source": [
    "# Use custom software_spec to create statsmodels function describing data with `ibm-watsonx-ai`\n",
    "\n",
    "This notebook demonstrates how to deploy in Watson Machine Learning service a python function with `statsmodel` which requires to create custom software specification using conda yaml file with all required libraries.  \n",
    "Some familiarity with bash is helpful. This notebook uses Python 3.11 with statsmodel."
   ]
  },
  {
   "cell_type": "markdown",
   "metadata": {},
   "source": [
    "## Learning goals\n",
    "\n",
    "The learning goals of this notebook are:\n",
    "\n",
    "-  Working with the Watson Machine Learning instance\n",
    "-  Creating custom software specification\n",
    "-  Online deployment of python function\n",
    "-  Scoring data using deployed function\n",
    "\n",
    "## Contents\n",
    "\n",
    "This notebook contains the following parts:\n",
    "\n",
    "1. [Setup](#setup)\n",
    "2. [Function creation](#create)\n",
    "3. [Function upload](#upload) \n",
    "4. [Web service creation](#deploy)\n",
    "5. [Scoring](#score)\n",
    "6. [Clean up](#cleanup)\n",
    "7. [Summary and next steps](#summary)"
   ]
  },
  {
   "cell_type": "markdown",
   "metadata": {},
   "source": [
    "<a id=\"setup\"></a>\n",
    "## 1. Set up the environment\n",
    "\n",
    "Before you use the sample code in this notebook, you must perform the following setup tasks:\n",
    "\n",
    "-  Contact with your Cloud Pack for Data administrator and ask him for your account credentials"
   ]
  },
  {
   "cell_type": "markdown",
   "metadata": {},
   "source": [
    "### Install and import the `ibm-watsonx-ai` and dependecies\n",
    "**Note:** `ibm-watsonx-ai` documentation can be found <a href=\"https://ibm.github.io/watsonx-ai-python-sdk/index.html\" target=\"_blank\" rel=\"noopener no referrer\">here</a>."
   ]
  },
  {
   "cell_type": "code",
   "execution_count": null,
   "metadata": {},
   "outputs": [],
   "source": [
    "!pip install wget | tail -n 1\n",
    "!pip install -U ibm-watsonx-ai | tail -n 1"
   ]
  },
  {
   "cell_type": "markdown",
   "metadata": {},
   "source": [
    "### Connection to WML\n",
    "\n",
    "Authenticate the Watson Machine Learning service on IBM Cloud Pack for Data. You need to provide platform `url`, your `username` and `api_key`."
   ]
  },
  {
   "cell_type": "code",
   "execution_count": null,
   "metadata": {},
   "outputs": [],
   "source": [
    "username = 'PASTE YOUR USERNAME HERE'\n",
    "api_key = 'PASTE YOUR API_KEY HERE'\n",
    "url = 'PASTE THE PLATFORM URL HERE'"
   ]
  },
  {
   "cell_type": "code",
   "execution_count": 1,
   "metadata": {},
   "outputs": [],
   "source": [
    "from ibm_watsonx_ai import Credentials\n",
    "\n",
    "credentials = Credentials(\n",
    "    username=username,\n",
    "    api_key=api_key,\n",
    "    url=url,\n",
    "    instance_id=\"openshift\",\n",
    "    version=\"5.0\"\n",
    ")"
   ]
  },
  {
   "cell_type": "markdown",
   "metadata": {},
   "source": [
    "Alternatively you can use `username` and `password` to authenticate WML services.\n",
    "\n",
    "```python\n",
    "credentials = Credentials(\n",
    "    username=***,\n",
    "    password=***,\n",
    "    url=***,\n",
    "    instance_id=\"openshift\",\n",
    "    version=\"5.0\"\n",
    ")\n",
    "\n",
    "```"
   ]
  },
  {
   "cell_type": "code",
   "execution_count": 2,
   "metadata": {},
   "outputs": [],
   "source": [
    "from ibm_watsonx_ai import APIClient\n",
    "\n",
    "client = APIClient(credentials)"
   ]
  },
  {
   "cell_type": "markdown",
   "metadata": {},
   "source": [
    "### Working with spaces\n",
    "\n",
    "First of all, you need to create a space that will be used for your work. If you do not have space already created, you can use `{PLATFORM_URL}/ml-runtime/spaces?context=icp4data` to create one.\n",
    "\n",
    "- Click New Deployment Space\n",
    "- Create an empty space\n",
    "- Go to space `Settings` tab\n",
    "- Copy `space_id` and paste it below\n",
    "\n",
    "**Tip**: You can also use SDK to prepare the space for your work. More information can be found [here](https://github.com/IBM/watson-machine-learning-samples/blob/master/cpd5.0/notebooks/python_sdk/instance-management/Space%20management.ipynb).\n",
    "\n",
    "**Action**: Assign space ID below"
   ]
  },
  {
   "cell_type": "code",
   "execution_count": 3,
   "metadata": {},
   "outputs": [],
   "source": [
    "space_id = 'PASTE YOUR SPACE ID HERE'"
   ]
  },
  {
   "cell_type": "markdown",
   "metadata": {},
   "source": [
    "You can use `list` method to print all existing spaces."
   ]
  },
  {
   "cell_type": "code",
   "execution_count": null,
   "metadata": {},
   "outputs": [],
   "source": [
    "client.spaces.list(limit=10)"
   ]
  },
  {
   "cell_type": "markdown",
   "metadata": {},
   "source": [
    "To be able to interact with all resources available in Watson Machine Learning, you need to set **space** which you will be using."
   ]
  },
  {
   "cell_type": "code",
   "execution_count": 4,
   "metadata": {},
   "outputs": [
    {
     "data": {
      "text/plain": [
       "'SUCCESS'"
      ]
     },
     "execution_count": 4,
     "metadata": {},
     "output_type": "execute_result"
    }
   ],
   "source": [
    "client.set.default_space(space_id)"
   ]
  },
  {
   "cell_type": "markdown",
   "metadata": {},
   "source": [
    "<a id=\"create\"></a>\n",
    "## 2. Create function\n",
    "\n",
    "In this section you will learn how to create deployable function\n",
    "with statsmodels module calculating describition of a given data.  \n",
    "**Hint**: To install statsmodels execute `!pip install statsmodels`."
   ]
  },
  {
   "cell_type": "markdown",
   "metadata": {},
   "source": [
    "#### Create deploayable callable which uses stsmodels library"
   ]
  },
  {
   "cell_type": "code",
   "execution_count": 9,
   "metadata": {},
   "outputs": [],
   "source": [
    "def deployable_callable():\n",
    "    \"\"\"\n",
    "    Deployable python function with score\n",
    "    function implemented.\n",
    "    \"\"\"\n",
    "    try:\n",
    "        from statsmodels.stats.descriptivestats import describe\n",
    "    except ModuleNotFoundError as e:\n",
    "        print(f\"statsmodels not installed: {str(e)}\")\n",
    "        \n",
    "    def score(payload):\n",
    "        \"\"\"\n",
    "        Score method.\n",
    "        \"\"\"\n",
    "        try:\n",
    "            data = payload['input_data'][0]['values']\n",
    "            return {\n",
    "                'predictions': [\n",
    "                    {'values': str(describe(data))}\n",
    "                ]\n",
    "            }\n",
    "        except Exception as e:\n",
    "            return {'predictions': [{'values': [repr(e)]}]}\n",
    "        \n",
    "    return score"
   ]
  },
  {
   "cell_type": "markdown",
   "metadata": {},
   "source": [
    "####  Test callable locally\n",
    "\n",
    "**Hint**: To install numpy execute `!pip install numpy`."
   ]
  },
  {
   "cell_type": "code",
   "execution_count": 10,
   "metadata": {},
   "outputs": [
    {
     "name": "stdout",
     "output_type": "stream",
     "text": [
      "                          0          1          2          3          4  \\\n",
      "nobs              10.000000  10.000000  10.000000  10.000000  10.000000   \n",
      "missing            0.000000   0.000000   0.000000   0.000000   0.000000   \n",
      "mean               0.905005  -0.182868   0.212348  -0.196478  -0.066239   \n",
      "std_err            0.298759   0.434762   0.329075   0.411152   0.338328   \n",
      "upper_ci           1.490562   0.669249   0.857322   0.609365   0.596871   \n",
      "lower_ci           0.319448  -1.034986  -0.432627  -1.002320  -0.729350   \n",
      "std                0.944759   1.374838   1.040625   1.300175   1.069887   \n",
      "iqr                1.096161   1.229678   1.127913   1.153995   1.466211   \n",
      "iqr_normal         0.812586   0.911562   0.836123   0.855458   1.086904   \n",
      "mad                0.708938   1.064078   0.810868   0.959040   0.869382   \n",
      "mad_normal         0.888522   1.333624   1.016272   1.201979   1.089609   \n",
      "coef_var           1.043927  -7.518190   4.900571  -6.617419 -16.151875   \n",
      "range              3.008860   4.038466   3.723421   4.562791   3.387978   \n",
      "max                2.393400   2.451232   1.952777   1.776727   1.562780   \n",
      "min               -0.615461  -1.587233  -1.770645  -2.786064  -1.825198   \n",
      "skew               0.166580   1.063480  -0.231102  -0.418840   0.000360   \n",
      "kurtosis           2.224792   2.683268   2.750487   2.883175   2.023159   \n",
      "jarque_bera        0.296643   1.926782   0.114954   0.298065   0.397591   \n",
      "jarque_bera_pval   0.862154   0.381597   0.944144   0.861541   0.819718   \n",
      "mode              -0.615461  -1.587233  -1.770645  -2.786064  -1.825198   \n",
      "mode_freq          0.100000   0.100000   0.100000   0.100000   0.100000   \n",
      "median             0.799308  -0.655696   0.302684   0.021386  -0.086088   \n",
      "1%                -0.555286  -1.551177  -1.661206  -2.652608  -1.755113   \n",
      "5%                -0.314589  -1.406952  -1.223453  -2.118784  -1.474771   \n",
      "10%               -0.013718  -1.226671  -0.676261  -1.451504  -1.124343   \n",
      "25%                0.274223  -1.100459  -0.388312  -0.783669  -0.828157   \n",
      "50%                0.799308  -0.655696   0.302684   0.021386  -0.086088   \n",
      "75%                1.370384   0.129219   0.739601   0.370326   0.638054   \n",
      "90%                2.248126   2.055993   1.228070   1.325070   1.270827   \n",
      "95%                2.320763   2.253613   1.590423   1.550898   1.416803   \n",
      "99%                2.378872   2.411708   1.880306   1.731561   1.533584   \n",
      "\n",
      "                          5          6          7          8          9  \n",
      "nobs              10.000000  10.000000  10.000000  10.000000  10.000000  \n",
      "missing            0.000000   0.000000   0.000000   0.000000   0.000000  \n",
      "mean               0.138192   0.304227  -0.085176  -0.619984   0.093436  \n",
      "std_err            0.456912   0.355763   0.385024   0.408175   0.308862  \n",
      "upper_ci           1.033724   1.001509   0.669457   0.180025   0.698794  \n",
      "lower_ci          -0.757339  -0.393055  -0.839809  -1.419993  -0.511922  \n",
      "std                1.444884   1.125020   1.217553   1.290764   0.976706  \n",
      "iqr                1.790504   1.818180   1.144880   1.193322   1.018550  \n",
      "iqr_normal         1.327303   1.347819   0.848701   0.884611   0.755052  \n",
      "mad                1.149885   0.896867   0.884064   0.898634   0.719349  \n",
      "mad_normal         1.441167   1.124056   1.108009   1.126271   0.901571  \n",
      "coef_var          10.455595   3.697966 -14.294534  -2.081930  10.453222  \n",
      "range              4.833053   2.950856   4.019097   4.568185   3.121643  \n",
      "max                2.137646   1.643836   1.785339   2.251724   1.184207  \n",
      "min               -2.695407  -1.307020  -2.233759  -2.316461  -1.937436  \n",
      "skew              -0.615778  -0.225584  -0.160082   0.847988  -0.757840  \n",
      "kurtosis           2.539002   1.719803   2.396965   3.638611   2.878239  \n",
      "jarque_bera        0.720521   0.767691   0.194232   1.368399   0.963379  \n",
      "jarque_bera_pval   0.697494   0.681237   0.907451   0.504494   0.617739  \n",
      "mode              -2.695407  -1.307020  -2.233759  -2.316461  -1.937436  \n",
      "mode_freq          0.100000   0.100000   0.100000   0.100000   0.100000  \n",
      "median             0.523338   0.306400   0.021761  -0.621855   0.069720  \n",
      "1%                -2.576302  -1.304159  -2.157896  -2.296658  -1.841602  \n",
      "5%                -2.099879  -1.292714  -1.854446  -2.217446  -1.458267  \n",
      "10%               -1.504351  -1.278407  -1.475133  -2.118431  -0.979099  \n",
      "25%               -0.676454  -0.503206  -0.762092  -1.312521  -0.203885  \n",
      "50%                0.523338   0.306400   0.021761  -0.621855   0.069720  \n",
      "75%                1.114050   1.314974   0.382788  -0.119200   0.814665  \n",
      "90%                1.316257   1.627767   1.482916   0.285203   1.182370  \n",
      "95%                1.726952   1.635801   1.634127   1.268464   1.183288  \n",
      "99%                2.055507   1.642229   1.755096   2.055072   1.184023  \n"
     ]
    }
   ],
   "source": [
    "import numpy as np\n",
    "\n",
    "data = np.random.randn(10, 10)\n",
    "data_description = deployable_callable()({\n",
    "    \"input_data\": [{\n",
    "        \"values\" : data\n",
    "    }]\n",
    "})\n",
    "\n",
    "print(data_description[\"predictions\"][0][\"values\"])"
   ]
  },
  {
   "cell_type": "markdown",
   "metadata": {},
   "source": [
    "<a id=\"upload\"></a>\n",
    "## 3. Upload python function\n",
    "\n",
    "In this section you will learn how to upload the python function to the Cloud."
   ]
  },
  {
   "cell_type": "markdown",
   "metadata": {},
   "source": [
    "#### Custom software_specification\n",
    "Create new software specification based on default Python 3.11 environment extended by autoai-libs package."
   ]
  },
  {
   "cell_type": "code",
   "execution_count": 14,
   "metadata": {},
   "outputs": [],
   "source": [
    "config_yml =\\\n",
    "\"\"\"name: python311\n",
    "channels:\n",
    "  - empty\n",
    "  - nodefaults\n",
    "dependencies:\n",
    "- pip:\n",
    "  - statsmodels\n",
    "\n",
    "prefix: /opt/anaconda3/envs/python311\n",
    "\"\"\"\n",
    "\n",
    "with open(\"config.yaml\", \"w\", encoding=\"utf-8\") as f:\n",
    "    f.write(config_yml)"
   ]
  },
  {
   "cell_type": "code",
   "execution_count": 15,
   "metadata": {},
   "outputs": [],
   "source": [
    "base_sw_spec_id = client.software_specifications.get_id_by_name(\"runtime-24.1-py3.11\")"
   ]
  },
  {
   "cell_type": "code",
   "execution_count": 16,
   "metadata": {},
   "outputs": [
    {
     "name": "stdout",
     "output_type": "stream",
     "text": [
      "name: python311\n",
      "channels:\n",
      "  - empty\n",
      "  - nodefaults\n",
      "dependencies:\n",
      "- pip:\n",
      "  - statsmodels\n",
      "\n",
      "prefix: /opt/anaconda3/envs/python311\n"
     ]
    }
   ],
   "source": [
    "!cat config.yaml"
   ]
  },
  {
   "cell_type": "markdown",
   "metadata": {},
   "source": [
    "`config.yaml` file describes details of package extention. Now you need to store new package extention with APIClient."
   ]
  },
  {
   "cell_type": "code",
   "execution_count": 17,
   "metadata": {},
   "outputs": [
    {
     "name": "stdout",
     "output_type": "stream",
     "text": [
      "Creating package extensions\n",
      "SUCCESS\n"
     ]
    }
   ],
   "source": [
    "meta_prop_pkg_extn = {\n",
    "    client.package_extensions.ConfigurationMetaNames.NAME: \"statsmodels env\",\n",
    "    client.package_extensions.ConfigurationMetaNames.DESCRIPTION: \"Environment with statsmodels\",\n",
    "    client.package_extensions.ConfigurationMetaNames.TYPE: \"conda_yml\"\n",
    "}\n",
    "\n",
    "pkg_extn_details = client.package_extensions.store(meta_props=meta_prop_pkg_extn, file_path=\"config.yaml\")\n",
    "pkg_extn_id = client.package_extensions.get_id(pkg_extn_details)\n",
    "pkg_extn_url = client.package_extensions.get_href(pkg_extn_details)"
   ]
  },
  {
   "cell_type": "markdown",
   "metadata": {},
   "source": [
    "#### Create new software specification and add created package extention to it."
   ]
  },
  {
   "cell_type": "code",
   "execution_count": 18,
   "metadata": {},
   "outputs": [
    {
     "name": "stdout",
     "output_type": "stream",
     "text": [
      "SUCCESS\n"
     ]
    },
    {
     "data": {
      "text/plain": [
       "'SUCCESS'"
      ]
     },
     "execution_count": 18,
     "metadata": {},
     "output_type": "execute_result"
    }
   ],
   "source": [
    "meta_prop_sw_spec = {\n",
    "    client.software_specifications.ConfigurationMetaNames.NAME: \"statsmodels software_spec\",\n",
    "    client.software_specifications.ConfigurationMetaNames.DESCRIPTION: \"Software specification for statsmodels\",\n",
    "    client.software_specifications.ConfigurationMetaNames.BASE_SOFTWARE_SPECIFICATION: {\"guid\": base_sw_spec_id}\n",
    "}\n",
    "\n",
    "sw_spec_details = client.software_specifications.store(meta_props=meta_prop_sw_spec)\n",
    "sw_spec_id = client.software_specifications.get_id(sw_spec_details)\n",
    "\n",
    "client.software_specifications.add_package_extension(sw_spec_id, pkg_extn_id)"
   ]
  },
  {
   "cell_type": "markdown",
   "metadata": {},
   "source": [
    "#### Get the details of created software specification"
   ]
  },
  {
   "cell_type": "code",
   "execution_count": null,
   "metadata": {
    "scrolled": true
   },
   "outputs": [],
   "source": [
    "client.software_specifications.get_details(sw_spec_id)"
   ]
  },
  {
   "cell_type": "markdown",
   "metadata": {},
   "source": [
    "#### Store the function"
   ]
  },
  {
   "cell_type": "code",
   "execution_count": 21,
   "metadata": {},
   "outputs": [],
   "source": [
    "meta_props = {\n",
    "    client.repository.FunctionMetaNames.NAME: \"statsmodels function\",\n",
    "    client.repository.FunctionMetaNames.SOFTWARE_SPEC_ID: sw_spec_id\n",
    "}\n",
    "\n",
    "function_details = client.repository.store_function(meta_props=meta_props, function=deployable_callable)\n",
    "function_id = client.repository.get_function_id(function_details)"
   ]
  },
  {
   "cell_type": "markdown",
   "metadata": {},
   "source": [
    "#### Get function details"
   ]
  },
  {
   "cell_type": "code",
   "execution_count": null,
   "metadata": {},
   "outputs": [],
   "source": [
    "client.repository.get_details(function_id)"
   ]
  },
  {
   "cell_type": "markdown",
   "metadata": {},
   "source": [
    "**Note:** You can see that function is successfully stored in Watson Machine Learning Service."
   ]
  },
  {
   "cell_type": "code",
   "execution_count": null,
   "metadata": {},
   "outputs": [],
   "source": [
    "client.repository.list_functions()"
   ]
  },
  {
   "cell_type": "markdown",
   "metadata": {},
   "source": [
    "<a id=\"deploy\"></a>\n",
    "## 4. Create online deployment\n",
    "You can use commands bellow to create online deployment for stored function (web service)."
   ]
  },
  {
   "cell_type": "markdown",
   "metadata": {},
   "source": [
    "#### Create online deployment of a python function"
   ]
  },
  {
   "cell_type": "code",
   "execution_count": 23,
   "metadata": {},
   "outputs": [
    {
     "name": "stdout",
     "output_type": "stream",
     "text": [
      "\n",
      "\n",
      "######################################################################################\n",
      "\n",
      "Synchronous deployment creation for id: 'fe302e1b-17d9-470d-9884-5d5d515e14ea' started\n",
      "\n",
      "######################################################################################\n",
      "\n",
      "\n",
      "initializing\n",
      "Note: online_url is deprecated and will be removed in a future release. Use serving_urls instead.\n",
      ".....................\n",
      "ready\n",
      "\n",
      "\n",
      "-----------------------------------------------------------------------------------------------\n",
      "Successfully finished deployment creation, deployment_id='6828cd36-5548-4e67-b1b3-d67547af8630'\n",
      "-----------------------------------------------------------------------------------------------\n",
      "\n",
      "\n"
     ]
    }
   ],
   "source": [
    "metadata = {\n",
    "    client.deployments.ConfigurationMetaNames.NAME: \"Deployment of statsmodels function\",\n",
    "    client.deployments.ConfigurationMetaNames.ONLINE: {}\n",
    "}\n",
    "\n",
    "function_deployment = client.deployments.create(function_id, meta_props=metadata)"
   ]
  },
  {
   "cell_type": "code",
   "execution_count": null,
   "metadata": {},
   "outputs": [],
   "source": [
    "client.deployments.list()"
   ]
  },
  {
   "cell_type": "markdown",
   "metadata": {},
   "source": [
    "Get deployment id."
   ]
  },
  {
   "cell_type": "code",
   "execution_count": 24,
   "metadata": {},
   "outputs": [
    {
     "name": "stdout",
     "output_type": "stream",
     "text": [
      "6828cd36-5548-4e67-b1b3-d67547af8630\n"
     ]
    }
   ],
   "source": [
    "deployment_id = client.deployments.get_id(function_deployment)\n",
    "print(deployment_id)"
   ]
  },
  {
   "cell_type": "markdown",
   "metadata": {},
   "source": [
    "<a id=\"score\"></a>\n",
    "## 5. Scoring\n",
    "\n",
    "You can send new scoring records to web-service deployment using `score` method."
   ]
  },
  {
   "cell_type": "code",
   "execution_count": 25,
   "metadata": {},
   "outputs": [],
   "source": [
    "scoring_payload = {\n",
    "    \"input_data\": [{\n",
    "        'values': data\n",
    "    }]\n",
    "}"
   ]
  },
  {
   "cell_type": "code",
   "execution_count": 26,
   "metadata": {},
   "outputs": [
    {
     "name": "stdout",
     "output_type": "stream",
     "text": [
      "                          0          1          2          3          4  \\\n",
      "nobs              10.000000  10.000000  10.000000  10.000000  10.000000   \n",
      "missing            0.000000   0.000000   0.000000   0.000000   0.000000   \n",
      "mean               0.905005  -0.182868   0.212348  -0.196478  -0.066239   \n",
      "std_err            0.298759   0.434762   0.329075   0.411152   0.338328   \n",
      "upper_ci           1.490562   0.669249   0.857322   0.609365   0.596871   \n",
      "lower_ci           0.319448  -1.034986  -0.432627  -1.002320  -0.729350   \n",
      "std                0.944759   1.374838   1.040625   1.300175   1.069887   \n",
      "iqr                1.096161   1.229678   1.127913   1.153995   1.466211   \n",
      "iqr_normal         0.812586   0.911562   0.836123   0.855458   1.086904   \n",
      "mad                0.708938   1.064078   0.810868   0.959040   0.869382   \n",
      "mad_normal         0.888522   1.333624   1.016272   1.201979   1.089609   \n",
      "coef_var           1.043927  -7.518190   4.900571  -6.617419 -16.151875   \n",
      "range              3.008860   4.038466   3.723421   4.562791   3.387978   \n",
      "max                2.393400   2.451232   1.952777   1.776727   1.562780   \n",
      "min               -0.615461  -1.587233  -1.770645  -2.786064  -1.825198   \n",
      "skew               0.166580   1.063480  -0.231102  -0.418840   0.000360   \n",
      "kurtosis           2.224792   2.683268   2.750487   2.883175   2.023159   \n",
      "jarque_bera        0.296643   1.926782   0.114954   0.298065   0.397591   \n",
      "jarque_bera_pval   0.862154   0.381597   0.944144   0.861541   0.819718   \n",
      "mode              -0.615461  -1.587233  -1.770645  -2.786064  -1.825198   \n",
      "mode_freq          0.100000   0.100000   0.100000   0.100000   0.100000   \n",
      "median             0.799308  -0.655696   0.302684   0.021386  -0.086088   \n",
      "1%                -0.555286  -1.551177  -1.661206  -2.652608  -1.755113   \n",
      "5%                -0.314589  -1.406952  -1.223453  -2.118784  -1.474771   \n",
      "10%               -0.013718  -1.226671  -0.676261  -1.451504  -1.124343   \n",
      "25%                0.274223  -1.100459  -0.388312  -0.783669  -0.828157   \n",
      "50%                0.799308  -0.655696   0.302684   0.021386  -0.086088   \n",
      "75%                1.370384   0.129219   0.739601   0.370326   0.638054   \n",
      "90%                2.248126   2.055993   1.228070   1.325070   1.270827   \n",
      "95%                2.320763   2.253613   1.590423   1.550898   1.416803   \n",
      "99%                2.378872   2.411708   1.880306   1.731561   1.533584   \n",
      "\n",
      "                          5          6          7          8          9  \n",
      "nobs              10.000000  10.000000  10.000000  10.000000  10.000000  \n",
      "missing            0.000000   0.000000   0.000000   0.000000   0.000000  \n",
      "mean               0.138192   0.304227  -0.085176  -0.619984   0.093436  \n",
      "std_err            0.456912   0.355763   0.385024   0.408175   0.308862  \n",
      "upper_ci           1.033724   1.001509   0.669457   0.180025   0.698794  \n",
      "lower_ci          -0.757339  -0.393055  -0.839809  -1.419993  -0.511922  \n",
      "std                1.444884   1.125020   1.217553   1.290764   0.976706  \n",
      "iqr                1.790504   1.818180   1.144880   1.193322   1.018550  \n",
      "iqr_normal         1.327303   1.347819   0.848701   0.884611   0.755052  \n",
      "mad                1.149885   0.896867   0.884064   0.898634   0.719349  \n",
      "mad_normal         1.441167   1.124056   1.108009   1.126271   0.901571  \n",
      "coef_var          10.455595   3.697966 -14.294534  -2.081930  10.453222  \n",
      "range              4.833053   2.950856   4.019097   4.568185   3.121643  \n",
      "max                2.137646   1.643836   1.785339   2.251724   1.184207  \n",
      "min               -2.695407  -1.307020  -2.233759  -2.316461  -1.937436  \n",
      "skew              -0.615778  -0.225584  -0.160082   0.847988  -0.757840  \n",
      "kurtosis           2.539002   1.719803   2.396965   3.638611   2.878239  \n",
      "jarque_bera        0.720521   0.767691   0.194232   1.368399   0.963379  \n",
      "jarque_bera_pval   0.697494   0.681237   0.907451   0.504494   0.617739  \n",
      "mode              -2.695407  -1.307020  -2.233759  -2.316461  -1.937436  \n",
      "mode_freq          0.100000   0.100000   0.100000   0.100000   0.100000  \n",
      "median             0.523338   0.306400   0.021761  -0.621855   0.069720  \n",
      "1%                -2.576302  -1.304159  -2.157896  -2.296658  -1.841602  \n",
      "5%                -2.099879  -1.292714  -1.854446  -2.217446  -1.458267  \n",
      "10%               -1.504351  -1.278407  -1.475133  -2.118431  -0.979099  \n",
      "25%               -0.676454  -0.503206  -0.762092  -1.312521  -0.203885  \n",
      "50%                0.523338   0.306400   0.021761  -0.621855   0.069720  \n",
      "75%                1.114050   1.314974   0.382788  -0.119200   0.814665  \n",
      "90%                1.316257   1.627767   1.482916   0.285203   1.182370  \n",
      "95%                1.726952   1.635801   1.634127   1.268464   1.183288  \n",
      "99%                2.055507   1.642229   1.755096   2.055072   1.184023  \n"
     ]
    }
   ],
   "source": [
    "predictions = client.deployments.score(deployment_id, scoring_payload)\n",
    "print(data_description[\"predictions\"][0][\"values\"])"
   ]
  },
  {
   "cell_type": "markdown",
   "metadata": {},
   "source": [
    "<a id=\"cleanup\"></a>\n",
    "## 6. Clean up   "
   ]
  },
  {
   "cell_type": "markdown",
   "metadata": {},
   "source": [
    "If you want to clean up all created assets:\n",
    "- experiments\n",
    "- trainings\n",
    "- pipelines\n",
    "- model definitions\n",
    "- models\n",
    "- functions\n",
    "- deployments\n",
    "\n",
    "please follow up this sample [notebook](https://github.com/IBM/watson-machine-learning-samples/blob/master/cpd5.0/notebooks/python_sdk/instance-management/Machine%20Learning%20artifacts%20management.ipynb)."
   ]
  },
  {
   "cell_type": "markdown",
   "metadata": {},
   "source": [
    "<a id=\"summary\"></a>\n",
    "## 7. Summary and next steps     "
   ]
  },
  {
   "cell_type": "markdown",
   "metadata": {},
   "source": [
    "You successfully completed this notebook! You learned how to use Watson Machine Learning for function deployment and scoring with custom software_spec.  \n",
    "\n",
    "Check out our _<a href=\"https://ibm.github.io/watsonx-ai-python-sdk/samples.html\" target=\"_blank\" rel=\"noopener no referrer\">Online Documentation</a>_ for more samples, tutorials, documentation, how-tos, and blog posts. "
   ]
  },
  {
   "cell_type": "markdown",
   "metadata": {},
   "source": [
    "### Author\n",
    "\n",
    "**Jan Sołtysik** Intern in Watson Machine Learning."
   ]
  },
  {
   "cell_type": "markdown",
   "metadata": {},
   "source": [
    "Copyright © 2020-2024 IBM. This notebook and its source code are released under the terms of the MIT License."
   ]
  }
 ],
 "metadata": {
  "kernelspec": {
   "display_name": "Python 3 (ipykernel)",
   "language": "python",
   "name": "python3"
  },
  "language_info": {
   "codemirror_mode": {
    "name": "ipython",
    "version": 3
   },
   "file_extension": ".py",
   "mimetype": "text/x-python",
   "name": "python",
   "nbconvert_exporter": "python",
   "pygments_lexer": "ipython3",
   "version": "3.11.9"
  }
 },
 "nbformat": 4,
 "nbformat_minor": 4
}
