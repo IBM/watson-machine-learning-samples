{
 "cells": [
  {
   "attachments": {},
   "cell_type": "markdown",
   "metadata": {},
   "source": [
    "![image](https://raw.githubusercontent.com/IBM/watson-machine-learning-samples/master/cloud/notebooks/headers/watsonx-Prompt_Lab-Notebook.png)\n",
    "# Use watsonx, Elasticsearch, and LangChain to answer questions (RAG)"
   ]
  },
  {
   "attachments": {},
   "cell_type": "markdown",
   "metadata": {},
   "source": [
    "#### Disclaimers\n",
    "\n",
    "- Use only Projects and Spaces that are available in watsonx context.\n",
    "\n",
    "## Notebook content\n",
    "\n",
    "This notebook contains the steps and code to demonstrate support of Retrieval Augumented Generation in watsonx.ai. It introduces commands for data retrieval, knowledge base building & querying, and model testing.\n",
    "\n",
    "Some familiarity with Python is helpful. This notebook uses Python 3.11.\n",
    "\n",
    "#### About Retrieval Augmented Generation\n",
    "Retrieval Augmented Generation (RAG) is a versatile pattern that can unlock a number of use cases requiring factual recall of information, such as querying a knowledge base in natural language.\n",
    "\n",
    "In its simplest form, RAG requires 3 steps:\n",
    "\n",
    "- Index knowledge base passages (once)\n",
    "- Retrieve relevant passage(s) from knowledge base (for every user query)\n",
    "- Generate a response by feeding retrieved passage into a large language model (for every user query)\n",
    "\n",
    "## Contents\n",
    "\n",
    "This notebook contains the following parts:\n",
    "\n",
    "- [Setup](#setup)\n",
    "- [Data (test) loading](#data)\n",
    "- [Foundation Models on watsonx](#models)\n",
    "- [Basic information how to connect to Elasticsearch](#elastic_conn)\n",
    "- **[Set up ElasticsearchStore (Langchain)](#elasticsearchstore)**\n",
    "    - [Embed and index documents with Elasticsearch](#elasticsearchstore_index)\n",
    "    - [Generate a retrieval-augmented response to a question](#predict)\n",
    "\n"
   ]
  },
  {
   "attachments": {},
   "cell_type": "markdown",
   "metadata": {},
   "source": [
    "<a id=\"setup\"></a>\n",
    "## Set up the environment\n",
    "\n",
    "Before you use the sample code in this notebook, you must perform the following setup tasks:\n",
    "\n",
    "-  Contact with your Cloud Pack for Data administrator and ask him for your account credentials\n"
   ]
  },
  {
   "attachments": {},
   "cell_type": "markdown",
   "metadata": {},
   "source": [
    "### Install and import the `ibm-watsonx-ai` and dependecies\n",
    "**Note:** `ibm-watsonx-ai` documentation can be found <a href=\"https://ibm.github.io/watsonx-ai-python-sdk/index.html\" target=\"_blank\" rel=\"noopener no referrer\">here</a>."
   ]
  },
  {
   "cell_type": "code",
   "execution_count": null,
   "metadata": {},
   "outputs": [],
   "source": [
    "!pip install -U langchain | tail -n 1\n",
    "!pip install -U langchain_ibm | tail -n 1\n",
    "!pip install elasticsearch | tail -n 1\n",
    "!pip install humanize | tail -n 1\n",
    "!pip install pandas | tail -n 1\n",
    "!pip install wget | tail -n 1\n",
    "!pip install \"pydantic==1.10.0\" | tail -n 1\n",
    "!pip install -U ibm-watsonx-ai | tail -n 1\n"
   ]
  },
  {
   "cell_type": "code",
   "execution_count": 1,
   "metadata": {},
   "outputs": [],
   "source": [
    "import os, getpass\n",
    "import pandas as pd\n",
    "import humanize\n",
    "import random"
   ]
  },
  {
   "attachments": {},
   "cell_type": "markdown",
   "metadata": {},
   "source": [
    "### Connection to WML\n",
    "\n",
    "Authenticate the Watson Machine Learning service on IBM Cloud Pack for Data. You need to provide platform `url`, your `username` and `api_key`."
   ]
  },
  {
   "cell_type": "code",
   "execution_count": 3,
   "metadata": {
    "scrolled": true
   },
   "outputs": [],
   "source": [
    "username = 'PASTE YOUR USERNAME HERE'\n",
    "api_key = 'PASTE YOUR API_KEY HERE'\n",
    "url = 'PASTE THE PLATFORM URL HERE'"
   ]
  },
  {
   "cell_type": "code",
   "execution_count": 2,
   "metadata": {},
   "outputs": [],
   "source": [
    "from ibm_watsonx_ai import Credentials\n",
    "\n",
    "credentials = Credentials(\n",
    "    username=username,\n",
    "    api_key=api_key,\n",
    "    url=url,\n",
    "    instance_id=\"openshift\",\n",
    "    version=\"5.0\"\n",
    ")"
   ]
  },
  {
   "cell_type": "markdown",
   "metadata": {},
   "source": [
    "Alternatively you can use `username` and `password` to authenticate WML services.\n",
    "\n",
    "```python\n",
    "credentials = Credentials(\n",
    "    username=***,\n",
    "    password=***,\n",
    "    url=***,\n",
    "    instance_id=\"openshift\",\n",
    "    version=\"5.0\"\n",
    ")\n",
    "\n",
    "```"
   ]
  },
  {
   "attachments": {},
   "cell_type": "markdown",
   "metadata": {},
   "source": [
    "### Defining the project id\n",
    "The Foundation Model requires project id that provides the context for the call. We will obtain the id from the project in which this notebook runs. Otherwise, please provide the project id.\n"
   ]
  },
  {
   "cell_type": "code",
   "execution_count": 17,
   "metadata": {},
   "outputs": [],
   "source": [
    "try:\n",
    "    project_id = os.environ[\"PROJECT_ID\"]\n",
    "except KeyError:\n",
    "    project_id = input(\"Please enter your project_id (hit enter): \")"
   ]
  },
  {
   "attachments": {},
   "cell_type": "markdown",
   "metadata": {},
   "source": [
    "<a id=\"data\"></a>\n",
    "## Data (test) loading"
   ]
  },
  {
   "attachments": {},
   "cell_type": "markdown",
   "metadata": {},
   "source": [
    "Download the test dataset. This dataset is used to calculate the metrics score for selected model, defined prompts and parameters."
   ]
  },
  {
   "cell_type": "code",
   "execution_count": 4,
   "metadata": {},
   "outputs": [],
   "source": [
    "import wget\n",
    "\n",
    "questions_test_filename = 'questions_test.csv'\n",
    "questions_train_filename = 'questions_train.csv'\n",
    "questions_test_url = 'https://raw.github.com/IBM/watson-machine-learning-samples/master/cloud/data/RAG/questions_test.csv'\n",
    "questions_train_url = 'https://raw.github.com/IBM/watson-machine-learning-samples/master/cloud/data/RAG/questions_train.csv'\n",
    "\n",
    "\n",
    "if not os.path.isfile(questions_test_filename): \n",
    "    wget.download(questions_test_url, out=questions_test_filename)\n",
    "\n",
    "\n",
    "if not os.path.isfile(questions_train_filename): \n",
    "    wget.download(questions_train_url, out=questions_train_filename)"
   ]
  },
  {
   "cell_type": "code",
   "execution_count": 5,
   "metadata": {},
   "outputs": [],
   "source": [
    "filename_test = './questions_test.csv'\n",
    "filename_train =  './questions_train.csv'\n",
    "\n",
    "test_data = pd.read_csv(filename_test)\n",
    "train_data = pd.read_csv(filename_train)"
   ]
  },
  {
   "attachments": {},
   "cell_type": "markdown",
   "metadata": {},
   "source": [
    "Inspect data sample"
   ]
  },
  {
   "cell_type": "code",
   "execution_count": 6,
   "metadata": {},
   "outputs": [
    {
     "data": {
      "text/html": [
       "<div>\n",
       "<style scoped>\n",
       "    .dataframe tbody tr th:only-of-type {\n",
       "        vertical-align: middle;\n",
       "    }\n",
       "\n",
       "    .dataframe tbody tr th {\n",
       "        vertical-align: top;\n",
       "    }\n",
       "\n",
       "    .dataframe thead th {\n",
       "        text-align: right;\n",
       "    }\n",
       "</style>\n",
       "<table border=\"1\" class=\"dataframe\">\n",
       "  <thead>\n",
       "    <tr style=\"text-align: right;\">\n",
       "      <th></th>\n",
       "      <th>qid</th>\n",
       "      <th>question</th>\n",
       "      <th>answers</th>\n",
       "    </tr>\n",
       "  </thead>\n",
       "  <tbody>\n",
       "    <tr>\n",
       "      <th>0</th>\n",
       "      <td>1961</td>\n",
       "      <td>where does diffusion occur in the excretory sy...</td>\n",
       "      <td>diffusion</td>\n",
       "    </tr>\n",
       "    <tr>\n",
       "      <th>1</th>\n",
       "      <td>7528</td>\n",
       "      <td>when did the us join world war one</td>\n",
       "      <td>April 6 , 1917</td>\n",
       "    </tr>\n",
       "    <tr>\n",
       "      <th>2</th>\n",
       "      <td>8685</td>\n",
       "      <td>who played wilma in the movie the flintstones</td>\n",
       "      <td>Elizabeth Perkins</td>\n",
       "    </tr>\n",
       "    <tr>\n",
       "      <th>3</th>\n",
       "      <td>6716</td>\n",
       "      <td>when was the office of the vice president created</td>\n",
       "      <td>1787</td>\n",
       "    </tr>\n",
       "    <tr>\n",
       "      <th>4</th>\n",
       "      <td>2916</td>\n",
       "      <td>where does carbon fixation occur in c4 plants</td>\n",
       "      <td>in the mesophyll cells</td>\n",
       "    </tr>\n",
       "  </tbody>\n",
       "</table>\n",
       "</div>"
      ],
      "text/plain": [
       "    qid                                           question  \\\n",
       "0  1961  where does diffusion occur in the excretory sy...   \n",
       "1  7528                 when did the us join world war one   \n",
       "2  8685      who played wilma in the movie the flintstones   \n",
       "3  6716  when was the office of the vice president created   \n",
       "4  2916      where does carbon fixation occur in c4 plants   \n",
       "\n",
       "                  answers  \n",
       "0               diffusion  \n",
       "1          April 6 , 1917  \n",
       "2       Elizabeth Perkins  \n",
       "3                    1787  \n",
       "4  in the mesophyll cells  "
      ]
     },
     "execution_count": 6,
     "metadata": {},
     "output_type": "execute_result"
    }
   ],
   "source": [
    "train_data.head()"
   ]
  },
  {
   "attachments": {},
   "cell_type": "markdown",
   "metadata": {},
   "source": [
    "### Build up knowledge base\n",
    "\n",
    "The current state-of-the-art in RAG is to create dense vector representations of the knowledge base in order to calculate the semantic similarity to a given user query.\n",
    "\n",
    "We can generate dense vector representations using embedding models. In this notebook, we use <a href=\"https://www.sbert.net/\" target=\"_blank\" rel=\"noopener no referrer\">Sentence Transformers</a> <a href=\"https://huggingface.co/sentence-transformers/all-MiniLM-L6-v2\" target=\"_blank\" rel=\"noopener no referrer\">all-MiniLM-L6-v2</a> to embed both the knowledge base passages and user queries. `all-MiniLM-L6-v2` is a performant open-source model that is small enough to run locally.\n",
    "\n",
    "A vector database is optimized for dense vector indexing and retrieval. This notebook uses <a href=\"https://python.langchain.com/docs/integrations/vectorstores/elasticsearch#basic-example\" target=\"_blank\" rel=\"noopener no referrer\">Elasticsearch</a>, a distributed, RESTful search and analytics engine, capable of performing both vector and lexical search. It is built on top of the Apache Lucene library, which offers good speed and performance with all-MiniLM-L6-v2 embedding model."
   ]
  },
  {
   "attachments": {},
   "cell_type": "markdown",
   "metadata": {},
   "source": [
    "The dataset we are using is already split into self-contained passages that can be ingested by Elasticsearch. \n",
    "\n",
    "The size of each passage is limited by the embedding model's context window (which is 256 tokens for `all-MiniLM-L6-v2`)."
   ]
  },
  {
   "attachments": {},
   "cell_type": "markdown",
   "metadata": {},
   "source": [
    "### Load knowledge base documents\n",
    "\n",
    "Load set of documents used further to build knowledge base. "
   ]
  },
  {
   "cell_type": "code",
   "execution_count": 7,
   "metadata": {},
   "outputs": [],
   "source": [
    "knowledge_base_dir = \"./knowledge_base\""
   ]
  },
  {
   "cell_type": "code",
   "execution_count": 8,
   "metadata": {},
   "outputs": [],
   "source": [
    "my_path = f\"{os.getcwd()}/knowledge_base\"\n",
    "if not os.path.isdir(my_path):\n",
    "   os.makedirs(my_path)"
   ]
  },
  {
   "cell_type": "code",
   "execution_count": 9,
   "metadata": {},
   "outputs": [],
   "source": [
    "documents_filename = 'knowledge_base/psgs.tsv'\n",
    "documents_url = 'https://raw.github.com/IBM/watson-machine-learning-samples/master/cloud/data/RAG/psgs.tsv'\n",
    "\n",
    "\n",
    "if not os.path.isfile(documents_filename): \n",
    "    wget.download(documents_url, out=documents_filename)"
   ]
  },
  {
   "cell_type": "code",
   "execution_count": 10,
   "metadata": {},
   "outputs": [],
   "source": [
    "documents = pd.read_csv(f\"{knowledge_base_dir}/psgs.tsv\", sep='\\t', header=0)\n",
    "documents['indextext'] = documents['title'].astype(str) + \"\\n\" + documents['text']\n",
    "documents = documents[:1000]"
   ]
  },
  {
   "attachments": {},
   "cell_type": "markdown",
   "metadata": {},
   "source": [
    "### Create an embedding function\n",
    "\n",
    "Note that you can feed a custom embedding function to be used by Elasticsearch. The performance of Elasticsearch may differ depending on the embedding model used."
   ]
  },
  {
   "cell_type": "code",
   "execution_count": 12,
   "metadata": {},
   "outputs": [],
   "source": [
    "from langchain.embeddings import SentenceTransformerEmbeddings\n",
    "\n",
    "emb_func = SentenceTransformerEmbeddings(model_name=\"all-MiniLM-L6-v2\")"
   ]
  },
  {
   "attachments": {},
   "cell_type": "markdown",
   "metadata": {},
   "source": [
    "<a id=\"models\"></a>\n",
    "## Foundation Models on watsonx"
   ]
  },
  {
   "attachments": {},
   "cell_type": "markdown",
   "metadata": {},
   "source": [
    "### Defining model\n",
    "You need to specify `model_id` that will be used for inferencing:"
   ]
  },
  {
   "cell_type": "code",
   "execution_count": 13,
   "metadata": {},
   "outputs": [],
   "source": [
    "from ibm_watsonx_ai.foundation_models.utils.enums import ModelTypes\n",
    "\n",
    "model_id = ModelTypes.FLAN_UL2"
   ]
  },
  {
   "cell_type": "markdown",
   "metadata": {},
   "source": [
    "### Defining the model parameters\n",
    "We need to provide a set of model parameters that will influence the result:"
   ]
  },
  {
   "cell_type": "code",
   "execution_count": 14,
   "metadata": {},
   "outputs": [],
   "source": [
    "from ibm_watsonx_ai.metanames import GenTextParamsMetaNames as GenParams\n",
    "from ibm_watsonx_ai.foundation_models.utils.enums import DecodingMethods\n",
    "\n",
    "parameters = {\n",
    "    GenParams.DECODING_METHOD: DecodingMethods.GREEDY,\n",
    "    GenParams.MIN_NEW_TOKENS: 1,\n",
    "    GenParams.MAX_NEW_TOKENS: 50\n",
    "}"
   ]
  },
  {
   "cell_type": "markdown",
   "metadata": {},
   "source": [
    "### Initialize the `WatsonxLLM` class."
   ]
  },
  {
   "cell_type": "code",
   "execution_count": 18,
   "metadata": {},
   "outputs": [],
   "source": [
    "from langchain_ibm import WatsonxLLM\n",
    "\n",
    "watsonx_granite = WatsonxLLM(\n",
    "    model_id=model_id.value,\n",
    "    url=credentials.get(\"url\"),\n",
    "    username=credentials.get(\"username\"),\n",
    "    apikey=credentials.get(\"apikey\"),\n",
    "    instance_id=credentials.get(\"instance_id\"),\n",
    "    project_id=project_id,\n",
    "    params=parameters\n",
    ")"
   ]
  },
  {
   "attachments": {},
   "cell_type": "markdown",
   "metadata": {},
   "source": [
    "<a id=\"elastic_conn\"></a>\n",
    "## Set up connectivity information to Elasticsearch\n",
    "\n",
    "**This notebook focuses on self-managed cluster using <a href=\"https://cloud.ibm.com/docs/databases-for-elasticsearch?topic=databases-for-elasticsearch-getting-started\" target=\"_blank\" rel=\"noopener no referrer\">IBM Cloud® Databases for Elasticsearch.</a>**\n",
    "\n",
    "The following cell retrieves the Elasticsearch users, password, host and port from the environment if available and prompts you otherwise."
   ]
  },
  {
   "cell_type": "code",
   "execution_count": 19,
   "metadata": {},
   "outputs": [],
   "source": [
    "try:\n",
    "    esuser = os.environ[\"ESUSER\"]\n",
    "except KeyError:\n",
    "    esuser = input(\"Please enter your Elasticsearch user name (hit enter): \")\n",
    "try:\n",
    "    espassword = os.environ[\"ESPASSWORD\"]\n",
    "except KeyError:\n",
    "    espassword = getpass.getpass(\"Please enter your Elasticsearch password (hit enter): \")\n",
    "try:\n",
    "    eshost = os.environ[\"ESHOST\"]\n",
    "except KeyError:\n",
    "    eshost = input(\"Please enter your Elasticsearch hostname (hit enter): \")\n",
    "try:\n",
    "    esport = os.environ[\"ESPORT\"]\n",
    "except KeyError:\n",
    "    esport = input(\"Please enter your Elasticsearch port number (hit enter): \")"
   ]
  },
  {
   "cell_type": "markdown",
   "metadata": {},
   "source": [
    "By default Elasticsearch will start with security features like authentication and TLS enabled. To connect to the Elasticsearch cluster you’ll need to configure the Python Elasticsearch client to use HTTPS with the generated CA certificate in order to make requests successfully. Details can be found <a href=\"https://www.elastic.co/guide/en/elasticsearch/client/python-api/current/connecting.html#connect-self-managed-new\" target=\"_blank\" rel=\"noopener no referrer\">here</a>. In this notebook certificate fingerprints will be used for authentication. \n",
    "\n",
    "**Verifying HTTPS with certificate fingerprints (Python 3.10 or later)** If you don’t have access to the generated CA file from Elasticsearch you can use the following script to output the root CA fingerprint of the Elasticsearch instance with openssl s_client <a href=\"https://www.elastic.co/guide/en/elasticsearch/client/python-api/current/connecting.html#_verifying_https_with_certificate_fingerprints_python_3_10_or_later\" target=\"_blank\" rel=\"noopener no referrer\"> (docs)</a>:\n",
    "\n",
    "\n",
    "The following cell retrieves the fingerprint information using a shell command and stores it in variable `ssl_assert_fingerprint`."
   ]
  },
  {
   "cell_type": "code",
   "execution_count": null,
   "metadata": {},
   "outputs": [],
   "source": [
    "es_ssl_fingerprint = !openssl s_client -connect $eshost:$esport  -showcerts </dev/null 2>/dev/null | openssl x509 -fingerprint -sha256 -noout -in /dev/stdin\n",
    "es_ssl_fingerprint = es_ssl_fingerprint[0].split(\"=\")[1]\n",
    "es_ssl_fingerprint"
   ]
  },
  {
   "attachments": {},
   "cell_type": "markdown",
   "metadata": {},
   "source": [
    "<a id=\"elasticsearchstore\"></a>\n",
    "## Set up ElasticsearchStore connector from Langchain\n",
    "\n",
    "\n",
    "We first create a regular Elasticsearch Python client connection. Then we pass it into LangChain's ElasticsearchStore wrapper together with the WatsonX model based embedding function.\n",
    "\n",
    "Consult the LangChain documentation For more information about <a href=\"https://api.python.langchain.com/en/latest/vectorstores/langchain.vectorstores.elasticsearch.ElasticsearchStore.html\" target=\"_blank\" rel=\"noopener no referrer\">ElasticsearchStore</a> connector."
   ]
  },
  {
   "cell_type": "code",
   "execution_count": null,
   "metadata": {},
   "outputs": [],
   "source": [
    "from langchain.vectorstores.elasticsearch import ElasticsearchStore\n",
    "from elasticsearch import Elasticsearch\n",
    "\n",
    "es_connection = Elasticsearch([f\"https://{esuser}:{espassword}@{eshost}:{esport}\"],\n",
    "                              basic_auth=(esuser, espassword),\n",
    "                              request_timeout=None,\n",
    "                              ssl_assert_fingerprint=es_ssl_fingerprint)\n",
    "\n",
    "knowledge_base = ElasticsearchStore(es_connection=es_connection,\n",
    "                                    index_name=\"test_index\",\n",
    "                                    embedding=emb_func,\n",
    "                                    strategy=ElasticsearchStore.ApproxRetrievalStrategy(),\n",
    "                                    distance_strategy=\"DOT_PRODUCT\")\n"
   ]
  },
  {
   "cell_type": "markdown",
   "metadata": {},
   "source": [
    "<a id=\"elasticsearchstore_index\"></a>\n",
    "### Embed and index documents with Elasticsearch\n",
    "\n",
    "**Note: Could take several minutes if you don't have pre-built indices**"
   ]
  },
  {
   "cell_type": "code",
   "execution_count": 22,
   "metadata": {},
   "outputs": [],
   "source": [
    "if es_connection.indices.exists(index=\"test_index\"):\n",
    "    es_connection.indices.delete(index=\"test_index\")\n",
    "_ = knowledge_base.add_texts(texts=documents.indextext.tolist(),\n",
    "                             metadatas=[{'title': title, 'id': doc_id}\n",
    "                                for (title, doc_id) in\n",
    "                                zip(documents.title, documents.id)],  # filter on these!\n",
    "                             index_name=\"test_index\",\n",
    "                             ids=[str(i) for i in documents.id]  # unique for each doc\n",
    "                            )"
   ]
  },
  {
   "cell_type": "markdown",
   "metadata": {},
   "source": [
    "Let's take a look in Elasticsearch what the LangChain wrapper has created. First we display the newly created index (\"tables\" in Elasticsearch are always called \"index\"). Note the field `vector` of type `dense_vector` with `dot_product` similarity."
   ]
  },
  {
   "cell_type": "code",
   "execution_count": 23,
   "metadata": {},
   "outputs": [
    {
     "data": {
      "text/plain": [
       "{'test_index': {'aliases': {},\n",
       "  'mappings': {'properties': {'metadata': {'properties': {'id': {'type': 'long'},\n",
       "      'title': {'type': 'text',\n",
       "       'fields': {'keyword': {'type': 'keyword', 'ignore_above': 256}}}}},\n",
       "    'text': {'type': 'text',\n",
       "     'fields': {'keyword': {'type': 'keyword', 'ignore_above': 256}}},\n",
       "    'vector': {'type': 'dense_vector',\n",
       "     'dims': 384,\n",
       "     'index': True,\n",
       "     'similarity': 'dot_product'}}},\n",
       "  'settings': {'index': {'routing': {'allocation': {'include': {'_tier_preference': 'data_content'}}},\n",
       "    'allocation': {'max_retries': '15'},\n",
       "    'number_of_shards': '1',\n",
       "    'provided_name': 'test_index',\n",
       "    'creation_date': '1713948647403',\n",
       "    'unassigned': {'node_left': {'delayed_timeout': '60m'}},\n",
       "    'number_of_replicas': '1',\n",
       "    'uuid': 'MduuUJHgQOOh99y99Sg6Ug',\n",
       "    'version': {'created': '8070099'}}}}}"
      ]
     },
     "execution_count": 23,
     "metadata": {},
     "output_type": "execute_result"
    }
   ],
   "source": [
    "dict(es_connection.indices.get(index=\"test_index\"))"
   ]
  },
  {
   "cell_type": "markdown",
   "metadata": {},
   "source": [
    "Verify the number of documents loaded into the Elasticsearch index."
   ]
  },
  {
   "cell_type": "code",
   "execution_count": 24,
   "metadata": {},
   "outputs": [
    {
     "data": {
      "text/plain": [
       "1000"
      ]
     },
     "execution_count": 24,
     "metadata": {},
     "output_type": "execute_result"
    }
   ],
   "source": [
    "doc_count = es_connection.count(index='test_index')[\"count\"]\n",
    "doc_count"
   ]
  },
  {
   "cell_type": "markdown",
   "metadata": {},
   "source": [
    "Let's retrieve a random document as a sample. Note the embedding in the vector field, that was generated with the WatsonX embedding model."
   ]
  },
  {
   "cell_type": "code",
   "execution_count": 25,
   "metadata": {},
   "outputs": [
    {
     "data": {
      "text/plain": [
       "{'_index': 'test_index',\n",
       " '_id': '668',\n",
       " '_version': 1,\n",
       " '_seq_no': 667,\n",
       " '_primary_term': 1,\n",
       " 'found': True,\n",
       " '_source': {'text': 'Safari version history\\nthat could cause web content to be displayed in greyscale instead of color . 4.0. 4 531.21. 10 November 11 , 2009 Improves JavaScript and Full History Search performance . Improves stability of third - party plug - ins , search field , and Yahoo ! Mail . Adds latest security fixes . 4.0. 5 531.22. 7 March 11 , 2010 Improves Top Sites performance . Improves stability for third - party plug - ins and websites with online forms and Scalable Vector Graphics . Fixes issues that prevented Safari from changing settings on some Linksys routers and prevented some iWork.com users from commenting on documents . Safari 5 5.0 533.16 June 7 , 2010 Added new features including Safari Reader , Bing Search , and Safari Development Tools . Improves JavaScript performance , page caching , and DNS prefetching . Improves support for HTML5 . Other improvements and features include smarter address field , tabs settings , search history with date , Top Sites / history button , private browsing icon , XSS auditor , and hardware acceleration . 5.0. 1 533.17. 8 July 28 , 2010 Added a new feature : Safari Extensions . Provides more accurate Top Hit results in the Address Field and timing for CSS animations . Adds better stability when using the Safari Reader keyboard shortcut and scrolling through MobileMe Mail . Fixes display of multipage articles from Rolling Stone in Safari Reader . Fixes an issue that prevented Google Wave and other websites',\n",
       "  'metadata': {'title': 'Safari version history', 'id': 668},\n",
       "  'vector': [-0.08291620016098022,\n",
       "   -0.01786770112812519,\n",
       "   0.10045085102319717,\n",
       "   0.03763895109295845,\n",
       "   0.12696988880634308,\n",
       "   -0.05248400196433067,\n",
       "   -0.0750720202922821,\n",
       "   -0.040265798568725586,\n",
       "   -0.09356684237718582,\n",
       "   -0.018839087337255478,\n",
       "   -0.017557771876454353,\n",
       "   0.1329735815525055,\n",
       "   -0.09798143804073334,\n",
       "   0.08043908327817917,\n",
       "   0.019145101308822632,\n",
       "   0.004127983003854752,\n",
       "   0.015620741993188858,\n",
       "   0.01637589931488037,\n",
       "   -0.03426731005311012,\n",
       "   -0.07195780426263809,\n",
       "   -0.029226846992969513,\n",
       "   -0.08548345416784286,\n",
       "   0.0706658661365509,\n",
       "   0.004909094888716936,\n",
       "   -0.04244650527834892,\n",
       "   0.05797893926501274,\n",
       "   -0.09677992761135101,\n",
       "   -0.0341256745159626,\n",
       "   -0.01787932589650154,\n",
       "   -0.04699317365884781,\n",
       "   -0.07442455738782883,\n",
       "   -0.052734922617673874,\n",
       "   0.00465938076376915,\n",
       "   -0.00018811109475791454,\n",
       "   -0.16866175830364227,\n",
       "   -0.07517603784799576,\n",
       "   0.012338146567344666,\n",
       "   0.055656518787145615,\n",
       "   -0.05320253223180771,\n",
       "   -0.02479173056781292,\n",
       "   -0.06108703836798668,\n",
       "   0.007001238875091076,\n",
       "   0.03329575061798096,\n",
       "   0.08520570397377014,\n",
       "   -0.05816924571990967,\n",
       "   -0.017359158024191856,\n",
       "   -0.004342409782111645,\n",
       "   -0.013615181669592857,\n",
       "   -0.01536630466580391,\n",
       "   0.03143562749028206,\n",
       "   -0.038079164922237396,\n",
       "   -0.030656127259135246,\n",
       "   -0.002820907859131694,\n",
       "   -0.07213421911001205,\n",
       "   0.02024199068546295,\n",
       "   -0.04229610040783882,\n",
       "   0.013770921155810356,\n",
       "   -0.051742810755968094,\n",
       "   0.027636755257844925,\n",
       "   0.032779160887002945,\n",
       "   0.010143928229808807,\n",
       "   0.00914990808814764,\n",
       "   0.004760310519486666,\n",
       "   -0.0024149129167199135,\n",
       "   0.010672030039131641,\n",
       "   0.017684869468212128,\n",
       "   0.05407378822565079,\n",
       "   -0.06215674802660942,\n",
       "   -0.01716640777885914,\n",
       "   0.012926122173666954,\n",
       "   -0.018249180167913437,\n",
       "   0.008059104904532433,\n",
       "   0.04372764378786087,\n",
       "   0.0045006112195551395,\n",
       "   -0.055236171931028366,\n",
       "   0.0006121570477262139,\n",
       "   -0.007967143319547176,\n",
       "   -0.03967757895588875,\n",
       "   -0.03878137469291687,\n",
       "   -0.03757181763648987,\n",
       "   0.025883641093969345,\n",
       "   -0.01175534725189209,\n",
       "   -0.00043693833868019283,\n",
       "   0.10462481528520584,\n",
       "   0.054025325924158096,\n",
       "   -0.030657129362225533,\n",
       "   -0.04295298457145691,\n",
       "   -0.060218919068574905,\n",
       "   -0.06550179421901703,\n",
       "   -0.03401518985629082,\n",
       "   0.07126807421445847,\n",
       "   0.004399292636662722,\n",
       "   0.02678064815700054,\n",
       "   0.02816227450966835,\n",
       "   -0.049059778451919556,\n",
       "   0.0037766066379845142,\n",
       "   -0.022625278681516647,\n",
       "   0.012512480840086937,\n",
       "   -0.027064165100455284,\n",
       "   0.028767742216587067,\n",
       "   0.05718476325273514,\n",
       "   0.006066564470529556,\n",
       "   0.06833367049694061,\n",
       "   0.00018290661682840437,\n",
       "   0.057877764105796814,\n",
       "   0.047894373536109924,\n",
       "   0.08046066761016846,\n",
       "   0.0820828229188919,\n",
       "   0.07034207135438919,\n",
       "   0.040124520659446716,\n",
       "   -0.039706818759441376,\n",
       "   0.010280631482601166,\n",
       "   -0.07891149818897247,\n",
       "   -0.05803532525897026,\n",
       "   -0.013252275064587593,\n",
       "   -0.07272748649120331,\n",
       "   -0.012447078712284565,\n",
       "   0.04628920555114746,\n",
       "   0.07936953008174896,\n",
       "   0.05396943911910057,\n",
       "   0.08832702040672302,\n",
       "   0.08851578086614609,\n",
       "   -0.014935502782464027,\n",
       "   -0.06349392980337143,\n",
       "   0.03633060306310654,\n",
       "   0.011576875112950802,\n",
       "   0.007135039195418358,\n",
       "   7.102713025860524e-33,\n",
       "   0.010871751233935356,\n",
       "   -0.040968526154756546,\n",
       "   -0.07077183574438095,\n",
       "   0.01616670750081539,\n",
       "   0.0376579724252224,\n",
       "   -0.00858895294368267,\n",
       "   -0.021484700962901115,\n",
       "   0.021691173315048218,\n",
       "   -0.10018420964479446,\n",
       "   -0.024123547598719597,\n",
       "   0.07728750258684158,\n",
       "   0.049257297068834305,\n",
       "   -0.07919059693813324,\n",
       "   -0.008954033255577087,\n",
       "   0.11265035718679428,\n",
       "   -0.018156379461288452,\n",
       "   -0.022658344358205795,\n",
       "   0.020895512774586678,\n",
       "   0.05890011042356491,\n",
       "   0.022635117173194885,\n",
       "   0.019756700843572617,\n",
       "   -0.01905232109129429,\n",
       "   0.03870090842247009,\n",
       "   -0.006222819443792105,\n",
       "   0.03828459978103638,\n",
       "   0.048245079815387726,\n",
       "   -0.011504052206873894,\n",
       "   0.03377078101038933,\n",
       "   -0.05165863782167435,\n",
       "   0.0011579730780795217,\n",
       "   -0.005934468004852533,\n",
       "   -0.053814634680747986,\n",
       "   -0.04202314093708992,\n",
       "   -0.0699693113565445,\n",
       "   0.0252483319491148,\n",
       "   -8.495354268234223e-05,\n",
       "   0.016608363017439842,\n",
       "   -0.08319685608148575,\n",
       "   0.031014952808618546,\n",
       "   0.02185864746570587,\n",
       "   -0.12693525850772858,\n",
       "   0.010996496304869652,\n",
       "   -0.03146456554532051,\n",
       "   -0.03487449511885643,\n",
       "   0.011671915650367737,\n",
       "   -0.0033883980941027403,\n",
       "   -0.054578445851802826,\n",
       "   0.04797787591814995,\n",
       "   0.01846272312104702,\n",
       "   0.03394760563969612,\n",
       "   -0.017572488635778427,\n",
       "   0.008374752476811409,\n",
       "   -0.001344081712886691,\n",
       "   0.0038330331444740295,\n",
       "   -0.03778857737779617,\n",
       "   0.056344978511333466,\n",
       "   0.06428419053554535,\n",
       "   0.03561696410179138,\n",
       "   0.03903923183679581,\n",
       "   0.015254269354045391,\n",
       "   0.042961131781339645,\n",
       "   -0.07058969885110855,\n",
       "   -0.02025189809501171,\n",
       "   -0.07678386569023132,\n",
       "   0.00876619666814804,\n",
       "   0.0330413281917572,\n",
       "   0.13462495803833008,\n",
       "   0.07651262730360031,\n",
       "   -0.009739521890878677,\n",
       "   0.0041885883547365665,\n",
       "   -0.020169652998447418,\n",
       "   0.013872985728085041,\n",
       "   0.03508320450782776,\n",
       "   0.03954002633690834,\n",
       "   -0.054630327969789505,\n",
       "   -0.05284355580806732,\n",
       "   0.027132581919431686,\n",
       "   -0.02543451078236103,\n",
       "   0.040382567793130875,\n",
       "   -0.05289347469806671,\n",
       "   0.014002406969666481,\n",
       "   -0.0014421023661270738,\n",
       "   0.06799551844596863,\n",
       "   -0.025379544124007225,\n",
       "   0.0012386757880449295,\n",
       "   0.013735662214457989,\n",
       "   0.08778470009565353,\n",
       "   0.02934051863849163,\n",
       "   -0.00023206941841635853,\n",
       "   0.017626723274588585,\n",
       "   0.049275461584329605,\n",
       "   0.051147911697626114,\n",
       "   -0.004780247807502747,\n",
       "   0.020712966099381447,\n",
       "   -0.07495586574077606,\n",
       "   -5.6635174559243806e-33,\n",
       "   -0.08425632864236832,\n",
       "   -0.06605551391839981,\n",
       "   -0.06307600438594818,\n",
       "   0.03873525187373161,\n",
       "   -0.12463007122278214,\n",
       "   0.009413734078407288,\n",
       "   0.05406602844595909,\n",
       "   0.06344334036111832,\n",
       "   -0.005542304366827011,\n",
       "   -0.08232712745666504,\n",
       "   0.05665936693549156,\n",
       "   0.017567556351423264,\n",
       "   0.008712510578334332,\n",
       "   0.030941417440772057,\n",
       "   -0.04699639230966568,\n",
       "   0.11673038452863693,\n",
       "   -0.09560531377792358,\n",
       "   -0.10561059415340424,\n",
       "   -0.04166664555668831,\n",
       "   -0.028873702511191368,\n",
       "   0.060229651629924774,\n",
       "   0.04429473727941513,\n",
       "   -0.04250304028391838,\n",
       "   0.06569287180900574,\n",
       "   0.03805454447865486,\n",
       "   -0.015351853333413601,\n",
       "   -0.021546699106693268,\n",
       "   0.010519505478441715,\n",
       "   0.01179606094956398,\n",
       "   -0.07268386334180832,\n",
       "   0.07192429900169373,\n",
       "   0.033122122287750244,\n",
       "   -0.002042436273768544,\n",
       "   -0.09570588171482086,\n",
       "   0.05203155055642128,\n",
       "   -0.010130788199603558,\n",
       "   -0.0011722422204911709,\n",
       "   -0.020723382011055946,\n",
       "   -0.030852224677801132,\n",
       "   0.07083438336849213,\n",
       "   0.06235304847359657,\n",
       "   0.11278948187828064,\n",
       "   0.06941147893667221,\n",
       "   -0.0076085045002400875,\n",
       "   -0.0036457255482673645,\n",
       "   0.10894507169723511,\n",
       "   -0.10358759760856628,\n",
       "   0.12044019997119904,\n",
       "   0.012607422657310963,\n",
       "   -0.005631234496831894,\n",
       "   0.05289020389318466,\n",
       "   -0.034229177981615067,\n",
       "   -0.039450518786907196,\n",
       "   -0.0107753099873662,\n",
       "   -0.01457312423735857,\n",
       "   -0.03988119214773178,\n",
       "   -0.034929968416690826,\n",
       "   -0.02509205974638462,\n",
       "   -0.012174244970083237,\n",
       "   0.00916509609669447,\n",
       "   -0.08528124541044235,\n",
       "   0.029525764286518097,\n",
       "   -0.025781139731407166,\n",
       "   -0.01981121115386486,\n",
       "   0.05497204512357712,\n",
       "   0.04687577858567238,\n",
       "   -0.029869327321648598,\n",
       "   -0.014066776260733604,\n",
       "   0.008295837789773941,\n",
       "   0.020626625046133995,\n",
       "   -0.007333056535571814,\n",
       "   -0.07585021108388901,\n",
       "   -0.04603082314133644,\n",
       "   -0.06701863557100296,\n",
       "   -0.01634671539068222,\n",
       "   0.024330003187060356,\n",
       "   0.12021658569574356,\n",
       "   0.02866610698401928,\n",
       "   -0.04055480286478996,\n",
       "   0.028049804270267487,\n",
       "   -0.008223802782595158,\n",
       "   0.14352256059646606,\n",
       "   0.03542821854352951,\n",
       "   -0.09664633125066757,\n",
       "   -0.012673580087721348,\n",
       "   0.02661043405532837,\n",
       "   0.0021667606197297573,\n",
       "   0.05219017341732979,\n",
       "   0.004791584797203541,\n",
       "   -0.03383985534310341,\n",
       "   0.010472030378878117,\n",
       "   0.028452930971980095,\n",
       "   -0.13346947729587555,\n",
       "   0.06681706011295319,\n",
       "   -0.03004821576178074,\n",
       "   -5.14143110308396e-08,\n",
       "   -0.051789674907922745,\n",
       "   0.030639532953500748,\n",
       "   -0.02153574675321579,\n",
       "   0.006207797676324844,\n",
       "   0.06249123439192772,\n",
       "   0.009400679729878902,\n",
       "   -0.027399811893701553,\n",
       "   0.06829944252967834,\n",
       "   0.05511677265167236,\n",
       "   -0.004652945324778557,\n",
       "   0.07338657230138779,\n",
       "   0.0025553395971655846,\n",
       "   -0.03244249150156975,\n",
       "   0.01760914921760559,\n",
       "   0.038855571299791336,\n",
       "   0.016910869628190994,\n",
       "   -0.006559780798852444,\n",
       "   -0.013564982451498508,\n",
       "   0.016231440007686615,\n",
       "   -0.0470556765794754,\n",
       "   -0.010779163800179958,\n",
       "   0.025273893028497696,\n",
       "   0.0002826018026098609,\n",
       "   0.00012769913882948458,\n",
       "   -0.01963016949594021,\n",
       "   0.05490671470761299,\n",
       "   -0.0614984855055809,\n",
       "   0.06606483459472656,\n",
       "   0.018592841923236847,\n",
       "   0.013919167220592499,\n",
       "   -0.0748027041554451,\n",
       "   0.05233152583241463,\n",
       "   -0.013082255609333515,\n",
       "   -0.054533351212739944,\n",
       "   0.04591497778892517,\n",
       "   0.06280330568552017,\n",
       "   -0.0927625447511673,\n",
       "   -0.03298789635300636,\n",
       "   -0.010345627553761005,\n",
       "   0.015510383062064648,\n",
       "   0.050217270851135254,\n",
       "   -0.046691883355379105,\n",
       "   -0.004430657718330622,\n",
       "   0.013197704218327999,\n",
       "   0.010391492396593094,\n",
       "   -0.02195139043033123,\n",
       "   -0.0802331268787384,\n",
       "   -0.017066283151507378,\n",
       "   0.05992257595062256,\n",
       "   -0.08354844897985458,\n",
       "   -0.03923708572983742,\n",
       "   -0.029004579409956932,\n",
       "   0.045917809009552,\n",
       "   0.06191253662109375,\n",
       "   0.04851319640874863,\n",
       "   -0.013065057806670666,\n",
       "   0.05811937898397446,\n",
       "   -0.00383538450114429,\n",
       "   0.04949565604329109,\n",
       "   0.027683667838573456,\n",
       "   0.1288551688194275,\n",
       "   -0.11340785026550293,\n",
       "   -0.031727585941553116,\n",
       "   0.0867539495229721]}}"
      ]
     },
     "execution_count": 25,
     "metadata": {},
     "output_type": "execute_result"
    }
   ],
   "source": [
    "dict(es_connection.get(index=\"test_index\", id=random.randint(0, len(documents)-1)))"
   ]
  },
  {
   "cell_type": "markdown",
   "metadata": {},
   "source": [
    "Display the total size and indexing time of the new index in Elasticsearch."
   ]
  },
  {
   "cell_type": "code",
   "execution_count": 26,
   "metadata": {},
   "outputs": [
    {
     "name": "stdout",
     "output_type": "stream",
     "text": [
      "Index size:    9.4 MB\n",
      "Indexing time: 0 minutes\n"
     ]
    }
   ],
   "source": [
    "index_stats = es_connection.indices.stats(index=\"test_index\").get('_all').get('primaries')\n",
    "print(\"Index size:    \" + humanize.naturalsize(index_stats.get('store').get('size_in_bytes')))\n",
    "print(\"Indexing time: \" + humanize.precisedelta(index_stats.get('indexing').get('index_time_in_millis')/1000, minimum_unit='minutes'))\n"
   ]
  },
  {
   "attachments": {},
   "cell_type": "markdown",
   "metadata": {},
   "source": [
    "<a id=\"predict\"></a>\n",
    "## Generate a retrieval-augmented response to a question"
   ]
  },
  {
   "cell_type": "markdown",
   "metadata": {},
   "source": [
    "`RetrievalQA` is a chain to do question answering.\n",
    "\n",
    "**Hint:** To use Chain interface from LangChain with watsonx.ai models you must call `model.to_langchain()` method. \n",
    "\n",
    "It returns `WatsonxLLM` wrapper compatible with LangChain CustomLLM specification."
   ]
  },
  {
   "attachments": {},
   "cell_type": "markdown",
   "metadata": {},
   "source": [
    "### Select questions\n",
    "\n",
    "The prompts we will use to test the RAG flow"
   ]
  },
  {
   "cell_type": "code",
   "execution_count": 27,
   "metadata": {},
   "outputs": [],
   "source": [
    "questions_and_answers = {\n",
    "            'names of founding fathers of the united states?': \"Thomas Jefferson::James Madison::John Jay::George Washington::John Adams::Benjamin Franklin::Alexander Hamilton\",\n",
    "            'who played in the super bowl in 2013?': 'Baltimore Ravens::San Francisco 49ers',\n",
    "            'when did bucharest become the capital of romania?': '1862'\n",
    "}"
   ]
  },
  {
   "attachments": {},
   "cell_type": "markdown",
   "metadata": {},
   "source": [
    "### Retrieve relevant context\n",
    "\n",
    "Fetch paragraphs similar to the question"
   ]
  },
  {
   "cell_type": "code",
   "execution_count": 28,
   "metadata": {},
   "outputs": [],
   "source": [
    "from langchain.chains import RetrievalQA\n",
    "\n",
    "qa = RetrievalQA.from_chain_type(llm=watsonx_granite, chain_type=\"stuff\", retriever=knowledge_base.as_retriever(), return_source_documents=True)"
   ]
  },
  {
   "cell_type": "code",
   "execution_count": 30,
   "metadata": {},
   "outputs": [],
   "source": [
    "results = []\n",
    "\n",
    "for question in questions_and_answers.keys():\n",
    "    result = qa.invoke({\"query\": question})\n",
    "    results.append(result)"
   ]
  },
  {
   "attachments": {},
   "cell_type": "markdown",
   "metadata": {},
   "source": [
    "Get the set of chunks for one of the questions."
   ]
  },
  {
   "cell_type": "code",
   "execution_count": 31,
   "metadata": {},
   "outputs": [
    {
     "name": "stdout",
     "output_type": "stream",
     "text": [
      "=========\n",
      "Question =  names of founding fathers of the united states?\n",
      "Answer =  John Adams , Benjamin Franklin , Alexander Hamilton , John Jay , Thomas Jefferson , James Madison , and George Washington\n",
      "Expected Answer(s) (may not be appear with exact wording in the dataset) =  Thomas Jefferson::James Madison::John Jay::George Washington::John Adams::Benjamin Franklin::Alexander Hamilton\n",
      "\n",
      "\n",
      "Source documents:\n",
      "Founding Fathers of the United States\n",
      "^ Burstein , Andrew . `` Politics and Personalities : Garry Wills takes a new look at a forgotten founder , slavery and the shaping of America '' , Chicago Tribune ( November 09 , 2003 ) : `` Forgotten founders such as Pickering and Morris made as many waves as those whose faces stare out from our currency . '' ^ Jump up to : Rafael , Ray . The Complete Idiot 's Guide to the Founding Fathers : And the Birth of Our Nation ( Penguin , 2011 ) . Jump up ^ `` Founding Fathers : Virginia '' . FindLaw Constitutional Law Center . 2008 . Retrieved 2008 - 11 - 14 . Jump up ^ Schwartz , Laurens R. Jews and the American Revolution : Haym Solomon and Others , Jefferson , North Carolina : McFarland & Co. , 1987 . Jump up ^ Kendall , Joshua . The Forgotten Founding Father : Noah Webster 's Obsession and the Creation of an American Culture ( Penguin 2011 ) . Jump up ^ Wright , R.E. ( 1996 ) . `` Thomas Willing ( 1731 - 1821 ) : Philadelphia Financier and Forgotten Founding Father '' . Pennsylvania History . 63 ( 4 ) : 525 -- 560 . doi : 10.2307 / 27773931 ( inactive 2017 - 01 - 15 ) . JSTOR 27773931 . Jump up ^ `` A Patriot of Early New England '' , New York Times ( December 20 , 1931 )\n",
      "Founding Fathers of the United States\n",
      "President of Congress Peyton Randolph New Hampshire John Sullivan Nathaniel Folsom Massachusetts Bay Thomas Cushing Samuel Adams John Adams Robert Treat Paine Rhode Island Stephen Hopkins Samuel Ward Connecticut Eliphalet Dyer Roger Sherman Silas Deane New York Isaac Low John Alsop John Jay James Duane Philip Livingston William Floyd Henry Wisner Simon Boerum New Jersey James Kinsey William Livingston Stephen Crane Richard Smith John De Hart Pennsylvania Joseph Galloway John Dickinson Charles Humphreys Thomas Mifflin Edward Biddle John Morton George Ross The Lower Counties Caesar Rodney Thomas McKean George Read Maryland Matthew Tilghman Thomas Johnson , Junr William Paca Samuel Chase Virginia Richard Henry Lee George Washington Patrick Henry , Junr Richard Bland Benjamin Harrison Edmund Pendleton North Carolina William Hooper Joseph Hewes Richard Caswell South Carolina Henry Middleton Thomas Lynch Christopher Gadsden John Rutledge Edward Rutledge See also Virginia Association First Continental Congress Carpenters ' Hall Declaration and Resolves of the First Continental Congress Retrieved from `` https://en.wikipedia.org/w/index.php?title=Founding_Fathers_of_the_United_States&oldid=815247535 '' Categories : Age of Enlightenment American Revolution Articles about multiple people Patriots in the American Revolution Political leaders of the American Revolution National founders Hidden categories : Webarchive template wayback links Pages with DOIs inactive since 2017 Use mdy dates from April 2011 Talk Read Contents About Wikipedia Wikiquote Bân - lâm - gú Башҡортса Bikol Central Български Brezhoneg Català Čeština Cymraeg Deutsch Ελληνικά Español Esperanto فارسی Français 한국어 Հայերեն हिन्दी Ido Bahasa Indonesia Interlingua Íslenska Italiano עברית Latina Lietuvių Magyar Bahasa Melayu Nederlands 日本 語 Norsk Polski Português Română\n",
      "Founding Fathers of the United States\n",
      "Founding Fathers of the United States - wikipedia Founding Fathers of the United States Jump to : navigation , search Declaration of Independence , a painting by John Trumbull depicting the Committee of Five presenting their draft to the Congress on June 28 , 1776 Signature page of Treaty of Paris ( 1783 ) ; the treaty was negotiated by John Adams , Benjamin Franklin and John Jay . The Founding Fathers of the United States were those individuals of the Thirteen Colonies in North America who led the American Revolution against the authority of the British Crown in word and deed and contributed to the establishment of the United States of America . Historian Richard B. Morris in 1973 identified the following seven figures as the key Founding Fathers : John Adams , Benjamin Franklin , Alexander Hamilton , John Jay , Thomas Jefferson , James Madison , and George Washington . Adams , Jefferson , and Franklin were members of the Committee of Five that drafted the Declaration of Independence . Hamilton , Madison , and Jay were authors of The Federalist Papers , advocating ratification of the Constitution . The constitutions drafted by Jay and Adams for their respective states of New York ( 1777 ) and Massachusetts ( 1780 ) were heavily relied upon when creating language for the US Constitution Jay , Adams and Franklin negotiated the Treaty of Paris ( 1783 ) that would end the American Revolutionary War . Washington was Commander -\n",
      "Founding Fathers of the United States\n",
      "Prior to , and during the 19th century , they were referred to as simply the `` Fathers '' . The term has been used to describe the founders and first settlers of the original royal colonies . Contents ( hide ) 1 Background 2 Interesting facts and commonalities 2.1 Education 2.1. 1 Colleges attended 2.1. 2 Advanced degrees and apprenticeships 2.1. 2.1 Doctors of medicine 2.1. 2.2 Theology 2.1. 2.3 Legal apprenticeships 2.1. 3 Self - taught or little formal education 2.2 Demographics 2.3 Political experience 2.4 Occupations and finances 2.5 Religion 2.6 Ownership of slaves and position on slavery 2.7 Attendance at conventions 2.8 Spouses and children 2.9 Charters of freedom and historical documents of the United States 2.10 Post-constitution life 2.11 Youth and longevity 2.12 Founders who were not signatories or delegates 3 Legacy 3.1 Institutions formed by Founders 3.2 Scholarship on the Founders 3.2. 1 Living historians whose focus is the Founding Fathers 3.2. 2 Noted collections of the Founding Fathers 3.3 In stage and film 3.4 Children 's books 4 See also 5 Notes 6 References 7 External links Background ( edit ) The Albany Congress of 1754 was a conference attended by seven colonies , which presaged later efforts at cooperation . The Stamp Act Congress of 1765 included representatives from nine colonies . The First Continental Congress met briefly in Philadelphia , Pennsylvania in 1774 , consisting of fifty - six delegates from twelve of the thirteen colonies ( excluding Georgia ) that\n",
      "\n",
      "\n",
      "=========\n",
      "Question =  who played in the super bowl in 2013?\n",
      "Answer =  Baltimore Ravens\n",
      "Expected Answer(s) (may not be appear with exact wording in the dataset) =  Baltimore Ravens::San Francisco 49ers\n",
      "\n",
      "\n",
      "Source documents:\n",
      "Super Bowl XLVII\n",
      "responded to the claim on Twitter in jest , tweeting `` There is no conspiracy . I pulled the plug . '' Box score ( edit ) Super Bowl XLVII : Baltimore Ravens 34 , San Francisco 49ers 31 Total Ravens ( AFC ) 7 14 7 6 34 49ers ( NFC ) 17 8 31 at Mercedes - Benz Superdome in New Orleans , Louisiana Date : February 3 , 2013 Game time : 5 : 31 p.m. CST Game weather : Played indoors ( dome stadium ) Game attendance : 71,024 Referee : Jerome Boger TV announcers ( CBS ) : Jim Nantz , Phil Simms , Steve Tasker , Solomon Wilcots Gamebook ( hide ) Scoring summary Quarter Time Drive Team Scoring information Score Plays Yards TOP BAL SF 10 : 36 6 51 2 : 29 BAL Anquan Boldin 13 - yard touchdown reception from Joe Flacco , Justin Tucker kick good 7 0 3 : 58 12 62 6 : 38 SF 36 - yard field goal by David Akers 7 7 : 10 10 75 4 : 43 BAL Dennis Pitta 1 - yard touchdown reception from Flacco , Tucker kick good 14 1 : 45 56 0 : 22 BAL Jacoby Jones 56 - yard touchdown reception from Flacco , Tucker kick good 21 0 : 00 8 71 1 : 45 SF 27 - yard field goal by Akers 21 6 14 : 49 -- -- -- BAL J. Jones 108 -\n",
      "Super Bowl XLVII\n",
      "for the 2012 season . The Ravens defeated the 49ers by the score of 34 -- 31 , handing the 49ers their first Super Bowl loss in franchise history . The game was played on February 3 , 2013 , at Mercedes - Benz Superdome in New Orleans , Louisiana . This was the tenth Super Bowl to be played in New Orleans , equaling Miami 's record of ten in an individual city . For the first time in Super Bowl history , the game featured two brothers coaching against each other -- Jim and John Harbaugh , head coaches of the San Francisco 49ers and Baltimore Ravens , respectively -- earning it the nickname Harbaugh Bowl . In addition , Super Bowl XLVII was the first to feature two teams that had undefeated records in previous Super Bowl games ( Baltimore , 1 -- 0 ; San Francisco , 5 -- 0 ) . The 49ers , who posted a regular - season record of 11 -- 4 -- 1 , entered the game seeking their sixth Super Bowl win in team history ( and first since Super Bowl XXIX at the end of the 1994 season ) , which would have tied the Pittsburgh Steelers for the most by a franchise . The Ravens , who posted a 10 -- 6 regular - season record , made their second Super Bowl appearance in 12 years , having previously won Super Bowl XXXV . Ray Lewis , the\n",
      "Super Bowl XLVII\n",
      "preview : A minute - by - minute breakdown '' . USA Today . Retrieved February 2 , 2013 . Jump up ^ `` Beyonce half time performance '' . NFL.Com . February 4 , 2013 . Retrieved February 5 , 2013 . Jump up ^ `` Beyonce wows at half - time show '' . BBC News . February 4 , 2013 . Retrieved February 5 , 2013 . Jump up ^ `` Beyonce Draws Estimated 104 Million to Super Bowl Halftime '' . ^ Jump up to : `` Play - by - Play '' . ESPN . February 3 , 2013 . Retrieved February 4 , 2013 . Jump up ^ Inman , Cam ( February 3 , 2013 ) . `` Super Bowl 2013 : San Francisco 49ers ' furious comeback falls short in 34 -- 31 loss to Baltimore Ravens -- San Jose Mercury News '' . San Jose Mercury News . Retrieved February 4 , 2013 . ^ Jump up to : `` Jacoby Jones returns kick 108 yards '' . ESPN.com . February 4 , 2013 . Retrieved April 24 , 2016 . Jump up ^ `` Watch Baltimore Ravens vs. Denver Broncos ( 01 / 12 / 2013 ) '' . NFL . Retrieved February 4 , 2013 . ^ Jump up to : Rosenthal , Gregg ( February 3 , 2013 ) . `` Jacoby Jones ' 108 - yard return TD a Super Bowl record '' . NFL . Retrieved\n",
      "Super Bowl XLVII\n",
      "MVP Award '' . Forbes.com . February 4 , 2013 . Retrieved February 6 , 2013 . Jump up ^ Heitner , Darren ( April 18 , 2013 ) . `` Is It Worth Spending $4 Million On A Super Bowl Commercial ? '' . Forbes . Retrieved February 4 , 2013 . Jump up ^ Collins , Scott ( February 5 , 2013 ) . `` Super Bowl ratings dip slightly from last year '' . Los Angeles Times . Retrieved February 5 , 2013 . ^ Jump up to : `` New Orleans to host 10th Super Bowl in 2013 '' . ESPN.com . Associated Press . May 19 , 2009 . Retrieved January 14 , 2011 . Jump up ^ Ally Burguieres Designs Official NFL Beads with Courtyard by Marriott for SuperBowl -- WGNO -- YouTube on YouTube Jump up ^ Wilner , Barry ( January 21 , 2013 ) . `` Ravens dominate Pats , set up ' Harbaugh Bowl ' '' . NBC Sports . Associated Press . Retrieved January 21 , 2013 . Jump up ^ Brinson , Will . `` Sorting the Sunday Pile , Divisional Round : Harbaugh Bowl still lives '' . CBSSports.com . CBS Interactive . Retrieved January 21 , 2013 . Jump up ^ Schwab , Frank . `` HarBowl ! Harbaugh brothers Jim and John to square off in Super Bowl '' . Yahoo ! Sports . Retrieved January 21 , 2003 . Jump up ^ `` The\n",
      "\n",
      "\n",
      "=========\n",
      "Question =  when did bucharest become the capital of romania?\n",
      "Answer =  1862\n",
      "Expected Answer(s) (may not be appear with exact wording in the dataset) =  1862\n",
      "\n",
      "\n",
      "Source documents:\n",
      "Bucharest\n",
      "EU ) Density 9,237 / km ( 23,920 / sq mi ) Metro 2,412,530 Demonym ( s ) Bucharester ( en ) bucureștean , bucureșteancă ( ro ) Time zone UTC + 2 ( EET ) Summer ( DST ) UTC + 3 ( EEST ) Postal code 0xxxxx Area code ( s ) + 40 x1 Car plate prefix GDP ( Nominal ) € 47 billion - Per capita PPP € 40,400 -- Per capita € 20,000 Website pmb.ro Romanian law stipulates that Bucharest has a special administrative status which is equal to that of a County ; Bucharest metropolitan area is a proposed project . Bucharest ( / ˈb ( j ) uː kərɛst / ; Romanian : București ( bukuˈreʃtj ) ( listen ) ) is the capital and largest city of Romania , as well as its cultural , industrial , and financial centre . It is located in the southeast of the country , at 44 ° 25 ′ 57 '' N 26 ° 06 ′ 14 '' E ﻿ / ﻿ 44.43250 ° N 26.10389 ° E ﻿ / 44.43250 ; 26.10389 Coordinates : 44 ° 25 ′ 57 '' N 26 ° 06 ′ 14 '' E ﻿ / ﻿ 44.43250 ° N 26.10389 ° E ﻿ / 44.43250 ; 26.10389 , on the banks of the Dâmbovița River , less than 60 km ( 37.3 mi ) north of the Danube River and the Bulgarian border . Bucharest was first mentioned in\n",
      "Bucharest\n",
      "Bucharest - wikipedia Bucharest This article contains too many pictures , charts or diagrams for its overall length . Please help to improve this article by removing or adjusting the sandwiching of text between two images and indiscriminate galleries in accordance with the Manual of Style on use of images . ( Learn how and when to remove this template message ) Capital city in None , Romania Bucharest București Capital city From top , left to right : Central University Library Palace of the Parliament Arcul de Triumf Romanian Athenaeum Modernist skyscrapers CEC Palace Royal Palace of Bucharest Flag Coat of arms Nickname ( s ) : Micul Paris ( The Little Paris ) , Paris of the East Motto ( s ) : Patria și dreptul meu ( The Homeland and my right ) Bucharest Location of Bucharest in Romania Show map of Romania Bucharest Bucharest ( Europe ) Show map of Europe Coordinates : 44 ° 25 ′ 57 '' N 26 ° 6 ′ 14 '' E ﻿ / ﻿ 44.43250 ° N 26.10389 ° E ﻿ / 44.43250 ; 26.10389 Country Romania County None First attested 1459 Government Mayor Gabriela Firea ( PSD ) Prefect Speranţa Cliseru Area Capital city 228 km ( 88 sq mi ) Urban 285 km ( 110 sq mi ) Elevation 55.8 -- 91.5 m ( 183.1 -- 300.2 ft ) Population ( 2011 ) Capital city 1,883,425 Estimate ( 2016 ) 2,106,144 Rank 1st in Romania ( 6th in\n",
      "Bucharest\n",
      "destroying a third of the city . Ottoman massacre of Greek irregulars in Bucharest ( August , 1821 ) In 1862 , after Wallachia and Moldavia were united to form the Principality of Romania , Bucharest became the new nation 's capital city . In 1881 , it became the political centre of the newly proclaimed Kingdom of Romania under King Carol I. During the second half of the 19th century , the city 's population increased dramatically , and a new period of urban development began . During this period , gas lighting , horse - drawn trams , and limited electrification were introduced . The Dâmbovița River was also massively channelled in 1883 , thus putting a stop to previously endemic floods like the 1865 flooding of Bucharest . The Fortifications of Bucharest were built . The extravagant architecture and cosmopolitan high culture of this period won Bucharest the nickname of `` Little Paris '' ( Micul Paris ) of the east , with Calea Victoriei as its Champs - Élysées . I.C. Brătianu Boulevard in the 1930s Between 6 December 1916 and November 1918 , the city was occupied by German forces as a result of the Battle of Bucharest , with the official capital temporarily moved to Iași , in the Moldavia region . After World War I , Bucharest became the capital of Greater Romania . In the interwar years , Bucharest 's urban development continued , with the city gaining an average of 30,000\n",
      "Bucharest\n",
      "documents in 1459 . It became the capital of Romania in 1862 and is the centre of Romanian media , culture , and art . Its architecture is a mix of historical ( neo-classical ) , interbellum ( Bauhaus and art deco ) , communist - era and modern . In the period between the two World Wars , the city 's elegant architecture and the sophistication of its elite earned Bucharest the nickname of `` Little Paris '' ( Micul Paris ) . Although buildings and districts in the historic city centre were heavily damaged or destroyed by war , earthquakes , and above all Nicolae Ceaușescu 's program of systematization , many survived . In recent years , the city has been experiencing an economic and cultural boom . In 2016 , the historical city centre was listed as `` endangered '' by the World Monuments Watch . According to the 2011 census , 1,883,425 inhabitants live within the city limits , a decrease from the 2002 census . Adding the satellite towns around the urban area , the proposed metropolitan area of Bucharest would have a population of 2.27 million people . According to Eurostat , Bucharest has a functional urban area of 2,412,530 residents ( as of 2015 ) . Bucharest is the sixth - largest city in the European Union by population within city limits , after London , Berlin , Madrid , Rome , and Paris . Economically , Bucharest is the most prosperous\n",
      "\n",
      "\n"
     ]
    }
   ],
   "source": [
    "for idx, result in enumerate(results):\n",
    "    print(\"=========\")\n",
    "    print(\"Question = \", result['query'])\n",
    "    print(\"Answer = \", result['result'])\n",
    "    print(\"Expected Answer(s) (may not be appear with exact wording in the dataset) = \", questions_and_answers[result['query']])\n",
    "    print(\"\\n\")\n",
    "    print(\"Source documents:\")\n",
    "    print(*(x.page_content for x in result['source_documents']), sep='\\n')\n",
    "    print(\"\\n\")\n",
    "    "
   ]
  },
  {
   "attachments": {},
   "cell_type": "markdown",
   "metadata": {},
   "source": [
    "---"
   ]
  },
  {
   "cell_type": "markdown",
   "metadata": {},
   "source": [
    "<a id=\"summary\"></a>\n",
    "## Summary and next steps\n",
    "\n",
    "You successfully completed this notebook!.\n",
    " \n",
    "Check out our _<a href=\"https://ibm.github.io/watsonx-ai-python-sdk/samples.html\" target=\"_blank\" rel=\"noopener no referrer\">Online Documentation</a>_ for more samples, tutorials, documentation, how-tos, and blog posts. "
   ]
  },
  {
   "attachments": {},
   "cell_type": "markdown",
   "metadata": {},
   "source": [
    "Copyright © 2023, 2024 IBM. This notebook and its source code are released under the terms of the MIT License."
   ]
  }
 ],
 "metadata": {
  "kernelspec": {
   "display_name": "BIG-bench",
   "language": "python",
   "name": "python3"
  },
  "language_info": {
   "codemirror_mode": {
    "name": "ipython",
    "version": 3
   },
   "file_extension": ".py",
   "mimetype": "text/x-python",
   "name": "python",
   "nbconvert_exporter": "python",
   "pygments_lexer": "ipython3",
   "version": "3.11.8"
  }
 },
 "nbformat": 4,
 "nbformat_minor": 4
}
