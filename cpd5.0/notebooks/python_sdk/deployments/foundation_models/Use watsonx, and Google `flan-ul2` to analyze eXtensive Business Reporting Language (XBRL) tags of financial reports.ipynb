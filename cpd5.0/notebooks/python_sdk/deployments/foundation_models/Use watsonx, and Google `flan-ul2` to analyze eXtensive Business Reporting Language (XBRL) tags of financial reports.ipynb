{
 "cells": [
  {
   "cell_type": "markdown",
   "metadata": {
    "pycharm": {
     "name": "#%% md\n"
    }
   },
   "source": [
    "![image](https://raw.githubusercontent.com/IBM/watson-machine-learning-samples/master/cloud/notebooks/headers/watsonx-Prompt_Lab-Notebook.png)\n",
    "# Use watsonx, and Google `flan-ul2` to analyze eXtensive Business Reporting Language (XBRL) tags of financial reports"
   ]
  },
  {
   "cell_type": "markdown",
   "metadata": {
    "pycharm": {
     "name": "#%% md\n"
    }
   },
   "source": [
    "#### Disclaimers\n",
    "\n",
    "- Use only Projects and Spaces that are available in watsonx context.\n",
    "\n",
    "\n",
    "## Notebook content\n",
    "\n",
    "This notebook contains the steps and code to demonstrate support of tag entity extraction in watsonx. It introduces commands for data retrieval, model testing and scoring.\n",
    "\n",
    "Some familiarity with Python is helpful. This notebook uses Python 3.11.\n",
    "\n",
    "\n",
    "## Learning goal\n",
    "\n",
    "The goal of this notebook is to demonstrate how to use `flan-ul2` model to analyze XBRL tags of financial phrases.\n",
    "\n",
    "\n",
    "## Contents\n",
    "\n",
    "This notebook contains the following parts:\n",
    "\n",
    "- [Setup](#setup)\n",
    "- [Data loading](#data)\n",
    "- [Foundation Models on watsonx](#models)\n",
    "- [Model testing](#predict)\n",
    "- [Score](#score)\n",
    "- [Summary](#summary)"
   ]
  },
  {
   "cell_type": "markdown",
   "metadata": {
    "pycharm": {
     "name": "#%% md\n"
    }
   },
   "source": [
    "<a id=\"setup\"></a>\n",
    "## Set up the environment\n",
    "\n",
    "Before you use the sample code in this notebook, you must perform the following setup tasks:\n",
    "\n",
    "-  Contact with your Cloud Pack for Data administrator and ask him for your account credentials"
   ]
  },
  {
   "cell_type": "markdown",
   "metadata": {
    "pycharm": {
     "name": "#%% md\n"
    }
   },
   "source": [
    "### Install and import the `ibm-watsonx-ai` and dependecies\n",
    "**Note:** `ibm-watsonx-ai` documentation can be found <a href=\"https://ibm.github.io/watsonx-ai-python-sdk/index.html\" target=\"_blank\" rel=\"noopener no referrer\">here</a>."
   ]
  },
  {
   "cell_type": "code",
   "execution_count": null,
   "metadata": {
    "pycharm": {
     "name": "#%%\n"
    }
   },
   "outputs": [],
   "source": [
    "!pip install datasets | tail -n 1\n",
    "!pip install \"scikit-learn==1.3.2\" | tail -n 1\n",
    "!pip install -U ibm-watsonx-ai | tail -n 1"
   ]
  },
  {
   "cell_type": "markdown",
   "metadata": {},
   "source": [
    "### Connection to WML\n",
    "\n",
    "Authenticate the Watson Machine Learning service on IBM Cloud Pack for Data. You need to provide platform `url`, your `username` and `api_key`."
   ]
  },
  {
   "cell_type": "code",
   "execution_count": null,
   "metadata": {},
   "outputs": [],
   "source": [
    "username = 'PASTE YOUR USERNAME HERE'\n",
    "api_key = 'PASTE YOUR API_KEY HERE'\n",
    "url = 'PASTE THE PLATFORM URL HERE'"
   ]
  },
  {
   "cell_type": "code",
   "execution_count": 2,
   "metadata": {},
   "outputs": [],
   "source": [
    "from ibm_watsonx_ai import Credentials\n",
    "\n",
    "credentials = Credentials(\n",
    "    username=username,\n",
    "    api_key=api_key,\n",
    "    url=url,\n",
    "    instance_id=\"openshift\",\n",
    "    version=\"5.0\"\n",
    ")"
   ]
  },
  {
   "cell_type": "markdown",
   "metadata": {},
   "source": [
    "Alternatively you can use `username` and `password` to authenticate WML services.\n",
    "\n",
    "```python\n",
    "credentials = Credentials(\n",
    "    username=***,\n",
    "    password=***,\n",
    "    url=***,\n",
    "    instance_id=\"openshift\",\n",
    "    version=\"5.0\"\n",
    ")\n",
    "\n",
    "```"
   ]
  },
  {
   "cell_type": "markdown",
   "metadata": {},
   "source": [
    "### Defining the project id\n",
    "The Foundation Model requires project id that provides the context for the call. We will obtain the id from the project in which this notebook runs. Otherwise, please provide the project id."
   ]
  },
  {
   "cell_type": "code",
   "execution_count": 3,
   "metadata": {},
   "outputs": [],
   "source": [
    "import os\n",
    "\n",
    "try:\n",
    "    project_id = os.environ[\"PROJECT_ID\"]\n",
    "except KeyError:\n",
    "    project_id = input(\"Please enter your project_id (hit enter): \")"
   ]
  },
  {
   "cell_type": "markdown",
   "metadata": {},
   "source": [
    "<a id=\"data\"></a>\n",
    "## Data loading"
   ]
  },
  {
   "cell_type": "markdown",
   "metadata": {},
   "source": [
    "Download the `nlpaueb/finer-139` dataset."
   ]
  },
  {
   "cell_type": "code",
   "execution_count": null,
   "metadata": {
    "scrolled": true
   },
   "outputs": [],
   "source": [
    "from datasets import load_dataset\n",
    "\n",
    "finer_train = load_dataset(\"nlpaueb/finer-139\", split=\"train\")"
   ]
  },
  {
   "cell_type": "markdown",
   "metadata": {},
   "source": [
    "Retrieve the entity tags."
   ]
  },
  {
   "cell_type": "code",
   "execution_count": 5,
   "metadata": {},
   "outputs": [
    {
     "data": {
      "text/plain": [
       "['B-AmortizationOfFinancingCosts',\n",
       " 'B-AmortizationOfIntangibleAssets',\n",
       " 'I-AmortizationOfIntangibleAssets',\n",
       " 'B-AntidilutiveSecuritiesExcludedFromComputationOfEarningsPerShareAmount',\n",
       " 'I-AntidilutiveSecuritiesExcludedFromComputationOfEarningsPerShareAmount',\n",
       " 'B-AreaOfRealEstateProperty',\n",
       " 'I-AreaOfRealEstateProperty',\n",
       " 'B-AssetImpairmentCharges',\n",
       " 'B-BusinessAcquisitionEquityInterestsIssuedOrIssuableNumberOfSharesIssued',\n",
       " 'B-BusinessAcquisitionPercentageOfVotingInterestsAcquired',\n",
       " 'I-BusinessAcquisitionPercentageOfVotingInterestsAcquired',\n",
       " 'B-BusinessCombinationAcquisitionRelatedCosts']"
      ]
     },
     "execution_count": 5,
     "metadata": {},
     "output_type": "execute_result"
    }
   ],
   "source": [
    "ner_tags = finer_train.features[\"ner_tags\"].feature.names[5:17]\n",
    "ner_tags"
   ]
  },
  {
   "cell_type": "markdown",
   "metadata": {},
   "source": [
    "Transfer the tokens into sequences for the model."
   ]
  },
  {
   "cell_type": "code",
   "execution_count": 6,
   "metadata": {},
   "outputs": [],
   "source": [
    "tokens = finer_train[\"tokens\"][5:17]"
   ]
  },
  {
   "cell_type": "code",
   "execution_count": 7,
   "metadata": {},
   "outputs": [],
   "source": [
    "sequences = [\" \".join(token) for token in tokens]"
   ]
  },
  {
   "cell_type": "markdown",
   "metadata": {},
   "source": [
    "Inspect exemplary sequence."
   ]
  },
  {
   "cell_type": "code",
   "execution_count": 8,
   "metadata": {},
   "outputs": [
    {
     "name": "stdout",
     "output_type": "stream",
     "text": [
      "\"The Company \\u2019 s reportable homebuilding segments and all other homebuilding operations not required to be reported separately have homebuilding divisions located in : East : Florida , Georgia , Maryland , New Jersey , North Carolina , South Carolina and Virginia Central : Arizona , Colorado and Texas ( 1 ) West : California and Nevada Houston : Houston , Texas Other : Illinois , Minnesota , Oregon , Tennessee and Washington ( 1 ) Texas in the Central reportable segment excludes Houston , Texas , which is its own reportable segment . Operations of the Lennar Financial Services segment include primarily mortgage financing , title insurance and closing services for both buyers of the Company \\u2019 s homes and others .\"\n"
     ]
    }
   ],
   "source": [
    "import json\n",
    "\n",
    "print(json.dumps(sequences[3], indent=2))"
   ]
  },
  {
   "cell_type": "markdown",
   "metadata": {},
   "source": [
    "<a id=\"models\"></a>\n",
    "## Foundation Models on `watsonx.ai`"
   ]
  },
  {
   "cell_type": "markdown",
   "metadata": {},
   "source": [
    "#### List available models\n",
    "\n",
    "All avaliable models are presented under ModelTypes class.\n",
    "For more information refer to <a href=\"https://ibm.github.io/watsonx-ai-python-sdk/fm_model.html#ibm_watsonx_ai.foundation_models.utils.enums.ModelTypes\" target=\"_blank\" rel=\"noopener no referrer\">documentation</a>.\n"
   ]
  },
  {
   "cell_type": "code",
   "execution_count": 9,
   "metadata": {},
   "outputs": [
    {
     "name": "stdout",
     "output_type": "stream",
     "text": [
      "['FLAN_T5_XXL', 'FLAN_UL2', 'MT0_XXL', 'GPT_NEOX', 'MPT_7B_INSTRUCT2', 'STARCODER', 'LLAMA_2_70B_CHAT', 'LLAMA_2_13B_CHAT', 'GRANITE_13B_INSTRUCT', 'GRANITE_13B_CHAT', 'FLAN_T5_XL', 'GRANITE_13B_CHAT_V2', 'GRANITE_13B_INSTRUCT_V2', 'ELYZA_JAPANESE_LLAMA_2_7B_INSTRUCT', 'MIXTRAL_8X7B_INSTRUCT_V01_Q', 'CODELLAMA_34B_INSTRUCT_HF', 'GRANITE_20B_MULTILINGUAL']\n"
     ]
    }
   ],
   "source": [
    "from ibm_watsonx_ai.foundation_models.utils.enums import ModelTypes\n",
    "\n",
    "print([model.name for model in ModelTypes])"
   ]
  },
  {
   "cell_type": "markdown",
   "metadata": {},
   "source": [
    "You need to specify `model_id` that will be used for inferencing:"
   ]
  },
  {
   "cell_type": "code",
   "execution_count": 10,
   "metadata": {},
   "outputs": [],
   "source": [
    "model_id = ModelTypes.FLAN_UL2"
   ]
  },
  {
   "cell_type": "markdown",
   "metadata": {},
   "source": [
    "### Defining the model parameters\n",
    "\n",
    "You might need to adjust model `parameters` for different models or tasks, to do so please refer to <a href=\"https://ibm.github.io/watsonx-ai-python-sdk/fm_model.html#metanames.GenTextParamsMetaNames\" target=\"_blank\" rel=\"noopener no referrer\">documentation</a>."
   ]
  },
  {
   "cell_type": "code",
   "execution_count": 11,
   "metadata": {},
   "outputs": [],
   "source": [
    "from ibm_watsonx_ai.metanames import GenTextParamsMetaNames as GenParams\n",
    "\n",
    "parameters = {\n",
    "    GenParams.DECODING_METHOD: \"greedy\"\n",
    "}"
   ]
  },
  {
   "cell_type": "markdown",
   "metadata": {},
   "source": [
    "### Initialize the model\n",
    "Initialize the `ModelInference` class with previous set params."
   ]
  },
  {
   "cell_type": "code",
   "execution_count": 12,
   "metadata": {},
   "outputs": [],
   "source": [
    "from ibm_watsonx_ai.foundation_models import ModelInference\n",
    "\n",
    "model = ModelInference(\n",
    "    model_id=model_id, \n",
    "    params=parameters, \n",
    "    credentials=credentials,\n",
    "    project_id=project_id)"
   ]
  },
  {
   "cell_type": "markdown",
   "metadata": {},
   "source": [
    "### Model's details"
   ]
  },
  {
   "cell_type": "code",
   "execution_count": 13,
   "metadata": {},
   "outputs": [
    {
     "data": {
      "text/plain": [
       "{'model_id': 'google/flan-ul2',\n",
       " 'label': 'flan-ul2-20b',\n",
       " 'provider': 'Google',\n",
       " 'source': 'Hugging Face',\n",
       " 'functions': [{'id': 'text_generation'}],\n",
       " 'short_description': 'flan-ul2 is an encoder decoder model based on the T5 architecture and instruction-tuned using the Fine-tuned Language Net.',\n",
       " 'long_description': 'flan-ul2 (20B) is an encoder decoder model based on the T5 architecture and instruction-tuned using the Fine-tuned Language Net (FLAN). Compared to the original UL2 model, flan-ul2 (20B) is more usable for few-shot in-context learning because it was trained with a three times larger receptive field. flan-ul2 (20B) outperforms flan-t5 (11B) by an overall relative improvement of +3.2%.',\n",
       " 'tier': 'class_3',\n",
       " 'number_params': '20b',\n",
       " 'min_shot_size': 0,\n",
       " 'task_ids': ['question_answering',\n",
       "  'summarization',\n",
       "  'retrieval_augmented_generation',\n",
       "  'classification',\n",
       "  'generation',\n",
       "  'extraction'],\n",
       " 'tasks': [{'id': 'question_answering', 'ratings': {'quality': 4}},\n",
       "  {'id': 'summarization', 'ratings': {'quality': 4}},\n",
       "  {'id': 'retrieval_augmented_generation', 'ratings': {'quality': 4}},\n",
       "  {'id': 'classification', 'ratings': {'quality': 4}},\n",
       "  {'id': 'generation'},\n",
       "  {'id': 'extraction', 'ratings': {'quality': 4}}],\n",
       " 'lifecycle': [{'id': 'available',\n",
       "   'since_version': '8.0.0',\n",
       "   'current_state': True}]}"
      ]
     },
     "execution_count": 13,
     "metadata": {},
     "output_type": "execute_result"
    }
   ],
   "source": [
    "model.get_details()"
   ]
  },
  {
   "cell_type": "markdown",
   "metadata": {},
   "source": [
    "<a id=\"predict\"></a>\n",
    "## Analyze the sentiment"
   ]
  },
  {
   "cell_type": "markdown",
   "metadata": {},
   "source": [
    "Define instructions for the model. \n",
    "\n",
    "**HINT:** All possible tags must be attached in the instruction"
   ]
  },
  {
   "cell_type": "code",
   "execution_count": 14,
   "metadata": {},
   "outputs": [
    {
     "name": "stdout",
     "output_type": "stream",
     "text": [
      "\"Determine the eXtensive Business Reporting Language tag in the financial report from following tags: B-AmortizationOfFinancingCosts, B-AmortizationOfIntangibleAssets, I-AmortizationOfIntangibleAssets, B-AntidilutiveSecuritiesExcludedFromComputationOfEarningsPerShareAmount, I-AntidilutiveSecuritiesExcludedFromComputationOfEarningsPerShareAmount, B-AreaOfRealEstateProperty, I-AreaOfRealEstateProperty, B-AssetImpairmentCharges, B-BusinessAcquisitionEquityInterestsIssuedOrIssuableNumberOfSharesIssued, B-BusinessAcquisitionPercentageOfVotingInterestsAcquired, B-BusinessCombinationAcquisitionRelatedCosts.\\n\"\n"
     ]
    }
   ],
   "source": [
    "instruction = \"Determine the eXtensive Business Reporting Language tag in the financial report from following tags: B-AmortizationOfFinancingCosts, B-AmortizationOfIntangibleAssets, I-AmortizationOfIntangibleAssets, B-AntidilutiveSecuritiesExcludedFromComputationOfEarningsPerShareAmount, I-AntidilutiveSecuritiesExcludedFromComputationOfEarningsPerShareAmount, B-AreaOfRealEstateProperty, I-AreaOfRealEstateProperty, B-AssetImpairmentCharges, B-BusinessAcquisitionEquityInterestsIssuedOrIssuableNumberOfSharesIssued, B-BusinessAcquisitionPercentageOfVotingInterestsAcquired, B-BusinessCombinationAcquisitionRelatedCosts.\\n\"\n",
    "print(json.dumps(instruction, indent=2))"
   ]
  },
  {
   "cell_type": "markdown",
   "metadata": {},
   "source": [
    "Prepare few-shot examples."
   ]
  },
  {
   "cell_type": "code",
   "execution_count": 15,
   "metadata": {},
   "outputs": [],
   "source": [
    "few_shot_input = []\n",
    "few_shot_target = []\n",
    "singleoutput= []\n",
    "\n",
    "for i,tl in enumerate(zip(sequences, ner_tags)):\n",
    "    if (i+1)%5==0:\n",
    "        singleoutput.append(f\"\\treport:\\t{tl[0]}\\n\\ttag:\")\n",
    "        few_shot_input.append(\"\".join(singleoutput))\n",
    "        few_shot_target.append(tl[1])\n",
    "        singleoutput = []\n",
    "    else:\n",
    "        singleoutput.append(f\"\\treport:\\t{tl[0]}\\n\\ttag: {tl[1]}\\n\")\n",
    "\n",
    "        "
   ]
  },
  {
   "cell_type": "code",
   "execution_count": 16,
   "metadata": {},
   "outputs": [
    {
     "name": "stdout",
     "output_type": "stream",
     "text": [
      "\treport:\tThe Company ’ s reportable segments consist of : ( 1 ) Homebuilding East ( 2 ) Homebuilding Central ( 3 ) Homebuilding West ( 4 ) Homebuilding Houston ( 5 ) Lennar Financial Services ( 6 ) Rialto ( 7 ) Lennar Multifamily In the first quarter of 2016 , the Company made the decision to divide the Southeast Florida operating division into two operating segments to maximize operational efficiencies given the continued growth of the division .\n",
      "\ttag: B-AmortizationOfFinancingCosts\n",
      "\treport:\tAs a result of this change in management structure , the Company re - evaluated its reportable segments and determined that neither operating segment met the reportable criteria set forth in Accounting Standards Codification ( \" ASC \" ) 280 , Segment Reporting .\n",
      "\ttag: B-AmortizationOfIntangibleAssets\n",
      "\treport:\tAll prior year segment information has been restated to conform with the 2016 presentation .\n",
      "\ttag: I-AmortizationOfIntangibleAssets\n",
      "\treport:\tThe Company ’ s reportable homebuilding segments and all other homebuilding operations not required to be reported separately have homebuilding divisions located in : East : Florida , Georgia , Maryland , New Jersey , North Carolina , South Carolina and Virginia Central : Arizona , Colorado and Texas ( 1 ) West : California and Nevada Houston : Houston , Texas Other : Illinois , Minnesota , Oregon , Tennessee and Washington ( 1 ) Texas in the Central reportable segment excludes Houston , Texas , which is its own reportable segment . Operations of the Lennar Financial Services segment include primarily mortgage financing , title insurance and closing services for both buyers of the Company ’ s homes and others .\n",
      "\ttag: B-AntidilutiveSecuritiesExcludedFromComputationOfEarningsPerShareAmount\n",
      "\treport:\tRialto ’ s operating earnings consist of revenues generated primarily from gains from securitization transactions and interest income from the Rialto Mortgage Finance ( “ RMF ” ) business , interest income associated with portfolios of real estate loans acquired and other portfolios of real estate loans and assets acquired , asset management , due diligence and underwriting fees derived from the real estate investment funds managed by the Rialto segment , fees for sub - advisory services , other income ( expense ) , net and equity in earnings ( loss ) from unconsolidated entities , less the costs incurred by the segment for managing portfolios , costs related to RMF and other general and administrative expenses . Operations of the Lennar Multifamily segment include revenues generated from the sales of land , revenue from construction activities and management fees generated from joint ventures and equity in earnings ( loss ) from unconsolidated entities , less the cost of sales of land , expenses related to construction activities and general and administrative expenses . Each reportable segment follows the same accounting policies described in Note 1 - “ Summary of Significant Accounting Policies ” to the consolidated financial statements in the Company ’ s Form 10-K for the year ended November 30 , 2015 .\n",
      "\ttag:\n",
      "null\n"
     ]
    }
   ],
   "source": [
    "print(json.dumps(print(few_shot_input[0]), indent=2))"
   ]
  },
  {
   "cell_type": "markdown",
   "metadata": {},
   "source": [
    "### Analyze financial phrase eXtensive Business Reporting Language using Google `flan-ul2` model.\n",
    "\n",
    "\n"
   ]
  },
  {
   "cell_type": "markdown",
   "metadata": {},
   "source": [
    "Analyze the sentiment."
   ]
  },
  {
   "cell_type": "code",
   "execution_count": 17,
   "metadata": {},
   "outputs": [],
   "source": [
    "results = []\n",
    "for inp in few_shot_input:\n",
    "    results.append(model.generate(\" \".join([instruction, inp]))[\"results\"][0])"
   ]
  },
  {
   "cell_type": "markdown",
   "metadata": {},
   "source": [
    "Explore model output."
   ]
  },
  {
   "cell_type": "code",
   "execution_count": 18,
   "metadata": {},
   "outputs": [
    {
     "name": "stdout",
     "output_type": "stream",
     "text": [
      "[\n",
      "  {\n",
      "    \"generated_text\": \"B-AreaOfRealEstateProperty\",\n",
      "    \"generated_token_count\": 15,\n",
      "    \"input_token_count\": 959,\n",
      "    \"stop_reason\": \"eos_token\"\n",
      "  },\n",
      "  {\n",
      "    \"generated_text\": \"B-BusinessCombinationAcquisitionRelatedCosts\",\n",
      "    \"generated_token_count\": 18,\n",
      "    \"input_token_count\": 1126,\n",
      "    \"stop_reason\": \"eos_token\"\n",
      "  }\n",
      "]\n"
     ]
    }
   ],
   "source": [
    "print(json.dumps(results, indent=2))"
   ]
  },
  {
   "cell_type": "markdown",
   "metadata": {},
   "source": [
    "<a id=\"score\"></a>\n",
    "## Score the model\n",
    "\n",
    "**Note:** To run the Score section for model scoring please transform following `markdown` cells to `code` cells.\n",
    "Have in mind that the score is calculated only on dataset sample, for relevant performance metric please score the model on the whole `nlpaueb/finer-139` dataset."
   ]
  },
  {
   "cell_type": "markdown",
   "metadata": {},
   "source": [
    "Get the true labels."
   ]
  },
  {
   "cell_type": "markdown",
   "metadata": {},
   "source": [
    "```\n",
    "y_true = few_shot_target\n",
    "```"
   ]
  },
  {
   "cell_type": "markdown",
   "metadata": {},
   "source": [
    "Get the sentiment labels returned byt the `flan-ul2` model."
   ]
  },
  {
   "cell_type": "markdown",
   "metadata": {},
   "source": [
    "```\n",
    "y_pred = [res[\"generated_text\"] for res in results]\n",
    "```"
   ]
  },
  {
   "cell_type": "markdown",
   "metadata": {},
   "source": [
    "Calculate accuracy score."
   ]
  },
  {
   "cell_type": "markdown",
   "metadata": {},
   "source": [
    "```\n",
    "from sklearn.metrics import accuracy_score\n",
    "\n",
    "print(accuracy_score(y_pred, y_true))\n",
    "```"
   ]
  },
  {
   "cell_type": "markdown",
   "metadata": {
    "pycharm": {
     "name": "#%% md\n"
    }
   },
   "source": [
    "<a id=\"summary\"></a>\n",
    "## Summary and next steps\n",
    "\n",
    " You successfully completed this notebook!.\n",
    " \n",
    " You learned how to predict the financial phrases XBRL tag with Google's `google/flan-ul2` on watsonx. \n",
    " \n",
    " Check out our _<a href=\"https://ibm.github.io/watsonx-ai-python-sdk/samples.html\" target=\"_blank\" rel=\"noopener no referrer\">Online Documentation</a>_ for more samples, tutorials, documentation, how-tos, and blog posts. "
   ]
  },
  {
   "cell_type": "markdown",
   "metadata": {
    "pycharm": {
     "name": "#%% md\n"
    }
   },
   "source": [
    "### Authors\n",
    "\n",
    "**Mateusz Szewczyk**, Software Engineer at Watson Machine Learning."
   ]
  },
  {
   "cell_type": "markdown",
   "metadata": {
    "pycharm": {
     "name": "#%% md\n"
    }
   },
   "source": [
    "Copyright © 2023, 2024 IBM. This notebook and its source code are released under the terms of the MIT License."
   ]
  }
 ],
 "metadata": {
  "kernelspec": {
   "display_name": "Python 3 (ipykernel)",
   "language": "python",
   "name": "python3"
  },
  "language_info": {
   "codemirror_mode": {
    "name": "ipython",
    "version": 3
   },
   "file_extension": ".py",
   "mimetype": "text/x-python",
   "name": "python",
   "nbconvert_exporter": "python",
   "pygments_lexer": "ipython3",
   "version": "3.11.8"
  }
 },
 "nbformat": 4,
 "nbformat_minor": 4
}
