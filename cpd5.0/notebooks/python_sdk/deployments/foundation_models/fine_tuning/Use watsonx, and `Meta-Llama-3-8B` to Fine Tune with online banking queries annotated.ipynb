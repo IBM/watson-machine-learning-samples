{
 "cells": [
  {
   "cell_type": "markdown",
   "metadata": {},
   "source": [
    "![image](https://raw.githubusercontent.com/IBM/watson-machine-learning-samples/master/cloud/notebooks/headers/watsonx-Prompt_Lab-Notebook.png)\n",
    "# Use watsonx, and `meta-llama/Meta-Llama-3-8B` to Fine Tune with online banking queries annotated"
   ]
  },
  {
   "cell_type": "markdown",
   "metadata": {},
   "source": [
    "#### Disclaimers\n",
    "\n",
    "- Use only Projects and Spaces that are available in watsonx context.\n",
    "- Full Fine Tuning are supported since CPD 5.0.3 release.\n",
    "\n",
    "\n",
    "## Notebook content\n",
    "\n",
    "This notebook contains the steps and code to demonstrate support of fine tuning in watsonx.\n",
    "\n",
    "Some familiarity with Python is helpful. This notebook uses Python 3.11.\n",
    "\n",
    "\n",
    "## Learning goal\n",
    "\n",
    "The goal of this notebook is to demonstrate how to:\n",
    "- upload of dataset with prompts\n",
    "- trigger fine tuning process\n",
    "- review of fine tuning process details\n",
    "- deploy fine-tuned model\n",
    "- inference of fine-tuned model\n",
    "- compare with base model\n",
    "\n",
    "\n",
    "## Contents\n",
    "\n",
    "This notebook contains the following parts:\n",
    "\n",
    "- [Setup](#setup)\n",
    "- [Data loading](#data_loading)\n",
    "- [Initialize experiment](#initialize)\n",
    "- [Run Fine Tuning](#run_tuning)\n",
    "- [Fine Tuning details](#run_details)\n",
    "- [List historical Fine Tuning experiments](#historical_runs)\n",
    "- [Deploy Tuned Model](#deploy)\n",
    "- [Preparing data for testing process](#test_data)\n",
    "- [Foundation Models Inference on `watsonx.ai`](#models_inference)\n",
    "- [Deploy Base Model](#deploy_base)\n",
    "- [Comparison of prediction results](#comparison)\n",
    "- [Clean up](#cleanup)\n",
    "- [Summary and next steps](#summary)\n"
   ]
  },
  {
   "cell_type": "markdown",
   "metadata": {},
   "source": [
    "<a id=\"setup\"></a>\n",
    "## Set up the environment\n",
    "\n",
    "Before you use the sample code in this notebook, you must perform the following setup tasks:\n",
    "\n",
    "-  Contact with your Cloud Pack for Data administrator and ask him for your account credentials"
   ]
  },
  {
   "cell_type": "markdown",
   "metadata": {},
   "source": [
    "### Install and import the `datasets` and dependecies"
   ]
  },
  {
   "cell_type": "code",
   "execution_count": null,
   "metadata": {},
   "outputs": [],
   "source": [
    "!pip install wget | tail -n 1\n",
    "!pip install -U ibm-watsonx-ai | tail -n 1\n",
    "!pip install \"scikit-learn==1.3\" | tail -n 1"
   ]
  },
  {
   "cell_type": "markdown",
   "metadata": {},
   "source": [
    "### Connection to WML\n",
    "\n",
    "Authenticate the Watson Machine Learning service on IBM Cloud Pack for Data. You need to provide platform `url`, your `username` and `api_key`."
   ]
  },
  {
   "cell_type": "code",
   "execution_count": null,
   "metadata": {},
   "outputs": [],
   "source": [
    "username = 'PASTE YOUR USERNAME HERE'\n",
    "api_key = 'PASTE YOUR API_KEY HERE'\n",
    "url = 'PASTE THE PLATFORM URL HERE'"
   ]
  },
  {
   "cell_type": "code",
   "execution_count": null,
   "metadata": {},
   "outputs": [],
   "source": [
    "from ibm_watsonx_ai import Credentials\n",
    "\n",
    "credentials = Credentials(\n",
    "    username=username,\n",
    "    api_key=api_key,\n",
    "    url=url,\n",
    "    instance_id=\"openshift\",\n",
    "    version=\"5.0\"\n",
    ")"
   ]
  },
  {
   "cell_type": "markdown",
   "metadata": {},
   "source": [
    "Alternatively you can use `username` and `password` to authenticate WML services.\n",
    "\n",
    "```python\n",
    "credentials = Credentials(\n",
    "    username=***,\n",
    "    password=***,\n",
    "    url=***,\n",
    "    instance_id=\"openshift\",\n",
    "    version=\"5.0\"\n",
    ")\n",
    "\n",
    "```"
   ]
  },
  {
   "cell_type": "markdown",
   "metadata": {},
   "source": [
    "### Defining the project id\n",
    "The Foundation Model requires project id that provides the context for the call. We will obtain the id from the project in which this notebook runs. Otherwise, please provide the project id."
   ]
  },
  {
   "cell_type": "code",
   "execution_count": null,
   "metadata": {},
   "outputs": [],
   "source": [
    "import os\n",
    "\n",
    "try:\n",
    "    project_id = os.environ[\"PROJECT_ID\"]\n",
    "except KeyError:\n",
    "    project_id = input(\"Please enter your project_id (hit enter): \")"
   ]
  },
  {
   "cell_type": "markdown",
   "metadata": {},
   "source": [
    "Create an instance of APIClient with authentication details.\n",
    "\n",
    "To be able to interact with all resources available in Watson Machine Learning, you need to set **project_id** which you will be using."
   ]
  },
  {
   "cell_type": "code",
   "execution_count": 2,
   "metadata": {},
   "outputs": [],
   "source": [
    "from ibm_watsonx_ai import APIClient\n",
    "\n",
    "client = APIClient(credentials, project_id)"
   ]
  },
  {
   "cell_type": "markdown",
   "metadata": {},
   "source": [
    "<a id=\"data_loading\"></a>\n",
    "## Preparing data for Fine Tuning training process\n",
    "\n",
    "This example uses the <a href=\"https://huggingface.co/datasets/PolyAI/banking77\" target=\"_blank\" rel=\"noopener no referrer\">Banking77</a> training dataset with 200 samples. "
   ]
  },
  {
   "cell_type": "code",
   "execution_count": 3,
   "metadata": {},
   "outputs": [],
   "source": [
    "import os\n",
    "import wget\n",
    "import json\n",
    "import pandas as pd\n",
    "from pathlib import Path\n",
    "\n",
    "filename=\"train.csv\"\n",
    "base_url = \"https://raw.githubusercontent.com/PolyAI-LDN/task-specific-datasets/master/banking_data/\"\n",
    "\n",
    "path = Path(os.getcwd()) / filename\n",
    "if path.exists():\n",
    "    path.unlink()\n",
    "wget.download(f\"{base_url}{filename}\")\n",
    "\n",
    "banking_df = pd.read_csv(\"train.csv\").sample(n=200, random_state=42)\n",
    "\n",
    "data = [\n",
    "    {\"input\": row[\"text\"], \"output\": row[\"category\"]}\n",
    "    for _, row in banking_df.iterrows()\n",
    "]\n",
    "\n",
    "ft_training_data = \"ft_training_data.json\"\n",
    "with open(ft_training_data, \"w\", encoding=\"utf-8\") as json_file:\n",
    "    json.dump(data, json_file, indent=4, ensure_ascii=False)"
   ]
  },
  {
   "cell_type": "markdown",
   "metadata": {},
   "source": [
    "To create a data asset for your project, execute the cell below. The asset will be utilized in the Fine-Tuning training process."
   ]
  },
  {
   "cell_type": "code",
   "execution_count": 4,
   "metadata": {},
   "outputs": [
    {
     "name": "stdout",
     "output_type": "stream",
     "text": [
      "Creating data asset...\n",
      "SUCCESS\n"
     ]
    }
   ],
   "source": [
    "asset_details = client.data_assets.create(name=ft_training_data, file_path=ft_training_data)\n",
    "asset_id = client.data_assets.get_id(asset_details)"
   ]
  },
  {
   "cell_type": "markdown",
   "metadata": {},
   "source": [
    "Define connection information to training data."
   ]
  },
  {
   "cell_type": "code",
   "execution_count": 5,
   "metadata": {},
   "outputs": [],
   "source": [
    "from ibm_watsonx_ai.helpers import DataConnection\n",
    "from ibm_watsonx_ai.helpers.connections.base_connection import BaseConnection\n",
    "\n",
    "data_conn = DataConnection(data_asset_id=asset_id, connection=BaseConnection())"
   ]
  },
  {
   "cell_type": "markdown",
   "metadata": {},
   "source": [
    "<a id=\"initialize\"></a>\n",
    "## Initialize Fine Tuning experiment "
   ]
  },
  {
   "cell_type": "code",
   "execution_count": 6,
   "metadata": {},
   "outputs": [],
   "source": [
    "from ibm_watsonx_ai.experiment import TuneExperiment\n",
    "\n",
    "experiment = TuneExperiment(credentials, project_id=project_id)"
   ]
  },
  {
   "cell_type": "markdown",
   "metadata": {},
   "source": [
    "To display all available custom models that can be utilized in the Fine-Tuning process, execute the cell below."
   ]
  },
  {
   "cell_type": "code",
   "execution_count": 47,
   "metadata": {},
   "outputs": [
    {
     "data": {
      "text/plain": [
       "['ibm-granite/granite-3.0-8b-base',\n",
       " 'meta-llama/Meta-Llama-3-8B',\n",
       " 'mistralai/Mistral-7B-v0.3']"
      ]
     },
     "execution_count": 47,
     "metadata": {},
     "output_type": "execute_result"
    }
   ],
   "source": [
    "[model[\"model_id\"] for model in client.foundation_models.get_custom_model_specs().get(\"resources\")]"
   ]
  },
  {
   "cell_type": "markdown",
   "metadata": {},
   "source": [
    "Define `fine_tuner` parameters."
   ]
  },
  {
   "cell_type": "code",
   "execution_count": 7,
   "metadata": {},
   "outputs": [],
   "source": [
    "fine_tuner = experiment.fine_tuner(\n",
    "     name='IBM watsonx.ai SDK - Fine Tune with online banking queries annotated',\n",
    "     description='IBM watsonx.ai SDK - Fine Tune with online banking queries annotated',\n",
    "     base_model='meta-llama/Meta-Llama-3-8B',\n",
    "     task_id=\"classification\",\n",
    "     num_epochs=5,\n",
    "     learning_rate=1e-05,\n",
    "     batch_size=4,\n",
    "     accumulate_steps=2,\n",
    "     verbalizer=\"### Instruction:\\nClassify the text into one of the following categories: activate my card, age limit, apple pay or google pay, atm support, automatic top up, balance not updated after bank transfer, balance not updated after cheque or cash deposit, beneficiary not allowed, cancel transfer, card about to expire, card acceptance, card arrival, card delivery estimate, card linking, card not working, card payment fee charged, card payment not recognised, card payment wrong exchange rate, card swallowed, cash withdrawal charge, cash withdrawal not recognised, change pin, compromised card, contactless not working, country support, declined card payment, declined cash withdrawal, declined transfer, direct debit payment not recognised, disposable card limits, edit personal details, exchange charge, exchange rate, exchange via app, extra charge on statement, failed transfer, fiat currency support, get disposable virtual card, get physical card, getting spare card, getting virtual card, lost or stolen card, lost or stolen phone, order physical card, passcode forgotten, pending card payment, pending cash withdrawal, pending top up, pending transfer, pin blocked, receiving money, Refund not showing up, request refund, reverted card payment?, supported cards and currencies, terminate account, top up by bank transfer charge, top up by card charge, top up by cash or cheque, top up failed, top up limits, top up reverted, topping up by card, transaction charged twice, transfer fee charged, transfer into account, transfer not received by recipient, transfer timing, unable to verify identity, verify my identity, verify source of funds, verify top up, virtual card not working, visa or mastercard, why verify identity, wrong amount of cash received, wrong exchange rate for cash withdrawal\\n\\n### Input:\\n{{input}}\\n\\n### Response:\\n{{output}}\",\n",
    "     response_template=\"\\n### Response:\\n\",\n",
    "     auto_update_model=True,\n",
    "     gpu={\"num\": 1},\n",
    ")"
   ]
  },
  {
   "cell_type": "markdown",
   "metadata": {},
   "source": [
    "You can review previous set parameters with `get_params()` method."
   ]
  },
  {
   "cell_type": "code",
   "execution_count": 8,
   "metadata": {},
   "outputs": [
    {
     "data": {
      "text/plain": [
       "{'base_model': {'model_id': 'meta-llama/Meta-Llama-3-8B'},\n",
       " 'task_id': 'classification',\n",
       " 'num_epochs': 5,\n",
       " 'learning_rate': 1e-05,\n",
       " 'batch_size': 4,\n",
       " 'accumulate_steps': 2,\n",
       " 'verbalizer': '### Instruction:\\nClassify the text into one of the following categories: activate my card, age limit, apple pay or google pay, atm support, automatic top up, balance not updated after bank transfer, balance not updated after cheque or cash deposit, beneficiary not allowed, cancel transfer, card about to expire, card acceptance, card arrival, card delivery estimate, card linking, card not working, card payment fee charged, card payment not recognised, card payment wrong exchange rate, card swallowed, cash withdrawal charge, cash withdrawal not recognised, change pin, compromised card, contactless not working, country support, declined card payment, declined cash withdrawal, declined transfer, direct debit payment not recognised, disposable card limits, edit personal details, exchange charge, exchange rate, exchange via app, extra charge on statement, failed transfer, fiat currency support, get disposable virtual card, get physical card, getting spare card, getting virtual card, lost or stolen card, lost or stolen phone, order physical card, passcode forgotten, pending card payment, pending cash withdrawal, pending top up, pending transfer, pin blocked, receiving money, Refund not showing up, request refund, reverted card payment?, supported cards and currencies, terminate account, top up by bank transfer charge, top up by card charge, top up by cash or cheque, top up failed, top up limits, top up reverted, topping up by card, transaction charged twice, transfer fee charged, transfer into account, transfer not received by recipient, transfer timing, unable to verify identity, verify my identity, verify source of funds, verify top up, virtual card not working, visa or mastercard, why verify identity, wrong amount of cash received, wrong exchange rate for cash withdrawal\\n\\n### Input:\\n{{input}}\\n\\n### Response:\\n{{output}}',\n",
       " 'response_template': '\\n### Response:\\n',\n",
       " 'gpu': {'num': 1},\n",
       " 'name': 'IBM watsonx.ai SDK - Fine Tune with online banking queries annotated',\n",
       " 'description': 'IBM watsonx.ai SDK - Fine Tune with online banking queries annotated',\n",
       " 'auto_update_model': True,\n",
       " 'group_by_name': False}"
      ]
     },
     "execution_count": 8,
     "metadata": {},
     "output_type": "execute_result"
    }
   ],
   "source": [
    "fine_tuner.get_params()"
   ]
  },
  {
   "cell_type": "markdown",
   "metadata": {},
   "source": [
    "<a id=\"run_tuning\"></a>\n",
    "## Run Fine Tuning\n",
    "\n",
    "\n",
    "Run a fine tuning process of foundation model on top of the training data referenced by DataConnection (tuning may take some time).\n",
    "\n",
    "\n",
    "By changing the `background_mode` parameter to `True`, the fine tuning process will run in the background."
   ]
  },
  {
   "cell_type": "code",
   "execution_count": 14,
   "metadata": {},
   "outputs": [
    {
     "name": "stdout",
     "output_type": "stream",
     "text": [
      "\n",
      "\n",
      "##############################################\n",
      "\n",
      "Running '87ad2a2a-92e6-47fa-9b13-0f5dae76e4f1'\n",
      "\n",
      "##############################################\n",
      "\n",
      "\n",
      "pending........\n",
      "running...........................\n",
      "completed\n",
      "Training of '87ad2a2a-92e6-47fa-9b13-0f5dae76e4f1' finished successfully.\n"
     ]
    }
   ],
   "source": [
    "tuning_details = fine_tuner.run(training_data_references=[data_conn], background_mode=False)"
   ]
  },
  {
   "cell_type": "markdown",
   "metadata": {},
   "source": [
    "<a id=\"run_details\"></a>\n",
    "## Fine Tuning details\n",
    "\n",
    "\n",
    "Check status/state of initialized Fine Tuning run if ran in background mode or when process finish if background mode is off."
   ]
  },
  {
   "cell_type": "code",
   "execution_count": 15,
   "metadata": {},
   "outputs": [
    {
     "data": {
      "text/plain": [
       "'completed'"
      ]
     },
     "execution_count": 15,
     "metadata": {},
     "output_type": "execute_result"
    }
   ],
   "source": [
    "fine_tuner.get_run_status()"
   ]
  },
  {
   "cell_type": "markdown",
   "metadata": {},
   "source": [
    "Get fine tuning run details."
   ]
  },
  {
   "cell_type": "code",
   "execution_count": 16,
   "metadata": {},
   "outputs": [
    {
     "data": {
      "text/plain": [
       "{'entity': {'auto_update_model': True,\n",
       "  'parameters': {'accumulate_steps': 2,\n",
       "   'base_model': {'model_id': 'meta-llama/Meta-Llama-3-8B'},\n",
       "   'batch_size': 4,\n",
       "   'gpu': {'num': 1},\n",
       "   'learning_rate': 1e-05,\n",
       "   'max_seq_length': 1024,\n",
       "   'num_epochs': 5,\n",
       "   'response_template': '\\n### Response:\\n',\n",
       "   'task_id': 'classification',\n",
       "   'verbalizer': '### Instruction:\\nClassify the text into one of the following categories: activate my card, age limit, apple pay or google pay, atm support, automatic top up, balance not updated after bank transfer, balance not updated after cheque or cash deposit, beneficiary not allowed, cancel transfer, card about to expire, card acceptance, card arrival, card delivery estimate, card linking, card not working, card payment fee charged, card payment not recognised, card payment wrong exchange rate, card swallowed, cash withdrawal charge, cash withdrawal not recognised, change pin, compromised card, contactless not working, country support, declined card payment, declined cash withdrawal, declined transfer, direct debit payment not recognised, disposable card limits, edit personal details, exchange charge, exchange rate, exchange via app, extra charge on statement, failed transfer, fiat currency support, get disposable virtual card, get physical card, getting spare card, getting virtual card, lost or stolen card, lost or stolen phone, order physical card, passcode forgotten, pending card payment, pending cash withdrawal, pending top up, pending transfer, pin blocked, receiving money, Refund not showing up, request refund, reverted card payment?, supported cards and currencies, terminate account, top up by bank transfer charge, top up by card charge, top up by cash or cheque, top up failed, top up limits, top up reverted, topping up by card, transaction charged twice, transfer fee charged, transfer into account, transfer not received by recipient, transfer timing, unable to verify identity, verify my identity, verify source of funds, verify top up, virtual card not working, visa or mastercard, why verify identity, wrong amount of cash received, wrong exchange rate for cash withdrawal\\n\\n### Input:\\n{{input}}\\n\\n### Response:\\n{{output}}'},\n",
       "  'results_reference': {'location': {'path': '/projects/b6900444-d307-4083-adee-f121e78cee4f/assets/wx_fine_tune',\n",
       "    'notebooks_path': '/projects/b6900444-d307-4083-adee-f121e78cee4f/assets/wx_fine_tune/87ad2a2a-92e6-47fa-9b13-0f5dae76e4f1/notebooks',\n",
       "    'training': '/projects/b6900444-d307-4083-adee-f121e78cee4f/assets/wx_fine_tune/87ad2a2a-92e6-47fa-9b13-0f5dae76e4f1',\n",
       "    'training_status': '/projects/b6900444-d307-4083-adee-f121e78cee4f/assets/wx_fine_tune/87ad2a2a-92e6-47fa-9b13-0f5dae76e4f1/training-status.json',\n",
       "    'model_request_path': 'wx_fine_tune/87ad2a2a-92e6-47fa-9b13-0f5dae76e4f1/assets/87ad2a2a-92e6-47fa-9b13-0f5dae76e4f1/resources/wml_model/request.json',\n",
       "    'assets_path': '/projects/b6900444-d307-4083-adee-f121e78cee4f/assets/wx_fine_tune/87ad2a2a-92e6-47fa-9b13-0f5dae76e4f1/assets'},\n",
       "   'type': 'fs'},\n",
       "  'status': {'completed_at': '2025-01-24T08:59:38.608Z',\n",
       "   'running_at': '2025-01-24T08:57:00.911Z',\n",
       "   'state': 'completed'},\n",
       "  'training_data_references': [{'connection': {},\n",
       "    'location': {'href': '/v2/assets/ca8498e6-4123-4018-8005-96971473e529',\n",
       "     'id': 'ca8498e6-4123-4018-8005-96971473e529'},\n",
       "    'type': 'data_asset'}],\n",
       "  'tuned_model': {'id': 'cae6b499-6d08-4a34-89be-b935f7ab335e',\n",
       "   'name': 'model-87ad2a2a-92e6-47fa-9b13-0f5dae76e4f1'}},\n",
       " 'metadata': {'created_at': '2025-01-24T08:56:10.261Z',\n",
       "  'description': 'IBM watsonx.ai SDK - Fine Tune with online banking queries annotated',\n",
       "  'id': '87ad2a2a-92e6-47fa-9b13-0f5dae76e4f1',\n",
       "  'modified_at': '2025-01-24T08:59:38.627Z',\n",
       "  'name': 'IBM watsonx.ai SDK - Fine Tune with online banking queries annotated',\n",
       "  'project_id': 'b6900444-d307-4083-adee-f121e78cee4f'}}"
      ]
     },
     "execution_count": 16,
     "metadata": {},
     "output_type": "execute_result"
    }
   ],
   "source": [
    "fine_tuner.get_run_details()"
   ]
  },
  {
   "cell_type": "markdown",
   "metadata": {},
   "source": [
    "Alternatively you can use `get_run_details()` method with metrics.\n",
    "\n",
    "```python\n",
    "fine_tuner.get_run_details(include_metrics=True)\n",
    "```"
   ]
  },
  {
   "cell_type": "markdown",
   "metadata": {},
   "source": [
    "Let's summarize the run."
   ]
  },
  {
   "cell_type": "code",
   "execution_count": 17,
   "metadata": {},
   "outputs": [
    {
     "data": {
      "text/html": [
       "<div>\n",
       "<style scoped>\n",
       "    .dataframe tbody tr th:only-of-type {\n",
       "        vertical-align: middle;\n",
       "    }\n",
       "\n",
       "    .dataframe tbody tr th {\n",
       "        vertical-align: top;\n",
       "    }\n",
       "\n",
       "    .dataframe thead th {\n",
       "        text-align: right;\n",
       "    }\n",
       "</style>\n",
       "<table border=\"1\" class=\"dataframe\">\n",
       "  <thead>\n",
       "    <tr style=\"text-align: right;\">\n",
       "      <th></th>\n",
       "      <th>Enhancements</th>\n",
       "      <th>Base model</th>\n",
       "      <th>Auto store</th>\n",
       "      <th>Epochs</th>\n",
       "      <th>loss</th>\n",
       "    </tr>\n",
       "    <tr>\n",
       "      <th>Model Name</th>\n",
       "      <th></th>\n",
       "      <th></th>\n",
       "      <th></th>\n",
       "      <th></th>\n",
       "      <th></th>\n",
       "    </tr>\n",
       "  </thead>\n",
       "  <tbody>\n",
       "    <tr>\n",
       "      <th>model_87ad2a2a-92e6-47fa-9b13-0f5dae76e4f1</th>\n",
       "      <td>[fine tuning]</td>\n",
       "      <td>meta-llama/Meta-Llama-3-8B</td>\n",
       "      <td>True</td>\n",
       "      <td>5</td>\n",
       "      <td>0.0067</td>\n",
       "    </tr>\n",
       "  </tbody>\n",
       "</table>\n",
       "</div>"
      ],
      "text/plain": [
       "                                             Enhancements  \\\n",
       "Model Name                                                  \n",
       "model_87ad2a2a-92e6-47fa-9b13-0f5dae76e4f1  [fine tuning]   \n",
       "\n",
       "                                                            Base model  \\\n",
       "Model Name                                                               \n",
       "model_87ad2a2a-92e6-47fa-9b13-0f5dae76e4f1  meta-llama/Meta-Llama-3-8B   \n",
       "\n",
       "                                            Auto store  Epochs    loss  \n",
       "Model Name                                                              \n",
       "model_87ad2a2a-92e6-47fa-9b13-0f5dae76e4f1        True       5  0.0067  "
      ]
     },
     "execution_count": 17,
     "metadata": {},
     "output_type": "execute_result"
    }
   ],
   "source": [
    "fine_tuner.summary()"
   ]
  },
  {
   "cell_type": "markdown",
   "metadata": {},
   "source": [
    "Plot the learning curves to visualize the loss function."
   ]
  },
  {
   "cell_type": "code",
   "execution_count": 18,
   "metadata": {},
   "outputs": [
    {
     "data": {
      "image/png": "[encoded data removed]",
      "text/plain": [
       "<Figure size 1800x400 with 3 Axes>"
      ]
     },
     "metadata": {},
     "output_type": "display_data"
    }
   ],
   "source": [
    "fine_tuner.plot_learning_curve()"
   ]
  },
  {
   "cell_type": "markdown",
   "metadata": {},
   "source": [
    "<a id=\"historical_runs\"></a>\n",
    "\n",
    "## List historical Fine Tuning experiments\n",
    "\n",
    "Return stored experiments in a table format."
   ]
  },
  {
   "cell_type": "code",
   "execution_count": 83,
   "metadata": {},
   "outputs": [
    {
     "data": {
      "text/html": [
       "<div>\n",
       "<style scoped>\n",
       "    .dataframe tbody tr th:only-of-type {\n",
       "        vertical-align: middle;\n",
       "    }\n",
       "\n",
       "    .dataframe tbody tr th {\n",
       "        vertical-align: top;\n",
       "    }\n",
       "\n",
       "    .dataframe thead th {\n",
       "        text-align: right;\n",
       "    }\n",
       "</style>\n",
       "<table border=\"1\" class=\"dataframe\">\n",
       "  <thead>\n",
       "    <tr style=\"text-align: right;\">\n",
       "      <th></th>\n",
       "      <th>timestamp</th>\n",
       "      <th>run_id</th>\n",
       "      <th>state</th>\n",
       "      <th>tuning name</th>\n",
       "    </tr>\n",
       "  </thead>\n",
       "  <tbody>\n",
       "    <tr>\n",
       "      <th>0</th>\n",
       "      <td>2024-09-27T10:48:38.000Z</td>\n",
       "      <td>d7ba6fc1-2245-4bb7-99a5-b474d710f41d</td>\n",
       "      <td>completed</td>\n",
       "      <td>Sample SDK fine tuner run auto_update True</td>\n",
       "    </tr>\n",
       "    <tr>\n",
       "      <th>1</th>\n",
       "      <td>2024-09-27T10:41:07.746Z</td>\n",
       "      <td>1a24032e-70fb-4318-85f8-6d157bd64d9c</td>\n",
       "      <td>completed</td>\n",
       "      <td>Sample SDK fine tuner run auto_update True</td>\n",
       "    </tr>\n",
       "    <tr>\n",
       "      <th>2</th>\n",
       "      <td>2024-09-27T10:28:01.718Z</td>\n",
       "      <td>37fda7da-f5e5-4002-9a07-ea9b316f90f7</td>\n",
       "      <td>completed</td>\n",
       "      <td>Sample SDK fine tuner run auto_update True</td>\n",
       "    </tr>\n",
       "    <tr>\n",
       "      <th>3</th>\n",
       "      <td>2024-09-27T10:12:02.767Z</td>\n",
       "      <td>e452fb6d-491d-4f46-8479-6b14de52a75c</td>\n",
       "      <td>completed</td>\n",
       "      <td>Sample SDK fine tuner run auto_update True</td>\n",
       "    </tr>\n",
       "  </tbody>\n",
       "</table>\n",
       "</div>"
      ],
      "text/plain": [
       "                  timestamp                                run_id      state  \\\n",
       "0  2024-09-27T10:48:38.000Z  d7ba6fc1-2245-4bb7-99a5-b474d710f41d  completed   \n",
       "1  2024-09-27T10:41:07.746Z  1a24032e-70fb-4318-85f8-6d157bd64d9c  completed   \n",
       "2  2024-09-27T10:28:01.718Z  37fda7da-f5e5-4002-9a07-ea9b316f90f7  completed   \n",
       "3  2024-09-27T10:12:02.767Z  e452fb6d-491d-4f46-8479-6b14de52a75c  completed   \n",
       "\n",
       "                                  tuning name  \n",
       "0  Sample SDK fine tuner run auto_update True  \n",
       "1  Sample SDK fine tuner run auto_update True  \n",
       "2  Sample SDK fine tuner run auto_update True  \n",
       "3  Sample SDK fine tuner run auto_update True  "
      ]
     },
     "execution_count": 83,
     "metadata": {},
     "output_type": "execute_result"
    }
   ],
   "source": [
    "experiment.runs.list()"
   ]
  },
  {
   "cell_type": "markdown",
   "metadata": {},
   "source": [
    "You can specify `historical_tuner` using `run_id`"
   ]
  },
  {
   "cell_type": "code",
   "execution_count": null,
   "metadata": {},
   "outputs": [],
   "source": [
    "historical_tuner = experiment.runs.get_tuner(\"<Fine_Tuner_ID>\")"
   ]
  },
  {
   "cell_type": "markdown",
   "metadata": {},
   "source": [
    "Check status/state of historical_tuner and get historical_tuner details."
   ]
  },
  {
   "cell_type": "code",
   "execution_count": null,
   "metadata": {},
   "outputs": [],
   "source": [
    "historical_tuner.get_run_details()"
   ]
  },
  {
   "cell_type": "markdown",
   "metadata": {},
   "source": [
    "<a id=\"deploy\"></a>\n",
    "## Deploy Tuned Model"
   ]
  },
  {
   "cell_type": "markdown",
   "metadata": {},
   "source": [
    "You can specify `tuned_model_id` from tuning details."
   ]
  },
  {
   "cell_type": "code",
   "execution_count": 19,
   "metadata": {},
   "outputs": [
    {
     "data": {
      "text/plain": [
       "'cae6b499-6d08-4a34-89be-b935f7ab335e'"
      ]
     },
     "execution_count": 19,
     "metadata": {},
     "output_type": "execute_result"
    }
   ],
   "source": [
    "tuned_model_id = None\n",
    "\n",
    "if 'id' in tuning_details.get('entity', {}).get(\"tuned_model\", {}):\n",
    "    tuned_model_id = tuning_details['entity']['tuned_model'][\"id\"]\n",
    "tuned_model_id"
   ]
  },
  {
   "cell_type": "code",
   "execution_count": 20,
   "metadata": {},
   "outputs": [],
   "source": [
    "hw_spec_id = client.hardware_specifications.get_id_by_name(\"WX-S\")"
   ]
  },
  {
   "cell_type": "markdown",
   "metadata": {},
   "source": [
    "Create online deployment for published model."
   ]
  },
  {
   "cell_type": "code",
   "execution_count": 17,
   "metadata": {},
   "outputs": [
    {
     "data": {
      "text/html": [
       "<div>\n",
       "<style scoped>\n",
       "    .dataframe tbody tr th:only-of-type {\n",
       "        vertical-align: middle;\n",
       "    }\n",
       "\n",
       "    .dataframe tbody tr th {\n",
       "        vertical-align: top;\n",
       "    }\n",
       "\n",
       "    .dataframe thead th {\n",
       "        text-align: right;\n",
       "    }\n",
       "</style>\n",
       "<table border=\"1\" class=\"dataframe\">\n",
       "  <thead>\n",
       "    <tr style=\"text-align: right;\">\n",
       "      <th></th>\n",
       "      <th>ID</th>\n",
       "      <th>NAME</th>\n",
       "      <th>STATE</th>\n",
       "      <th>CREATED</th>\n",
       "      <th>ARTIFACT_TYPE</th>\n",
       "      <th>SPEC_STATE</th>\n",
       "      <th>SPEC_REPLACEMENT</th>\n",
       "    </tr>\n",
       "  </thead>\n",
       "  <tbody>\n",
       "    <tr>\n",
       "      <th>0</th>\n",
       "      <td>13989785-2adf-43e5-99ed-0fbbf2c2419c</td>\n",
       "      <td>BASE Model</td>\n",
       "      <td>ready</td>\n",
       "      <td>2025-01-22T13:49:42.471Z</td>\n",
       "      <td>custom_foundation_model</td>\n",
       "      <td>supported</td>\n",
       "      <td></td>\n",
       "    </tr>\n",
       "    <tr>\n",
       "      <th>1</th>\n",
       "      <td>e101fc0f-b241-4cca-ac89-49f0b80051ed</td>\n",
       "      <td>FT DEPLOYMENT SDK - project</td>\n",
       "      <td>ready</td>\n",
       "      <td>2025-01-22T13:40:30.562Z</td>\n",
       "      <td>fine_tune</td>\n",
       "      <td>supported</td>\n",
       "      <td></td>\n",
       "    </tr>\n",
       "  </tbody>\n",
       "</table>\n",
       "</div>"
      ],
      "text/plain": [
       "                                     ID                         NAME  STATE  \\\n",
       "0  13989785-2adf-43e5-99ed-0fbbf2c2419c                   BASE Model  ready   \n",
       "1  e101fc0f-b241-4cca-ac89-49f0b80051ed  FT DEPLOYMENT SDK - project  ready   \n",
       "\n",
       "                    CREATED            ARTIFACT_TYPE SPEC_STATE  \\\n",
       "0  2025-01-22T13:49:42.471Z  custom_foundation_model  supported   \n",
       "1  2025-01-22T13:40:30.562Z                fine_tune  supported   \n",
       "\n",
       "  SPEC_REPLACEMENT  \n",
       "0                   \n",
       "1                   "
      ]
     },
     "execution_count": 17,
     "metadata": {},
     "output_type": "execute_result"
    }
   ],
   "source": [
    "client.deployments.list()"
   ]
  },
  {
   "cell_type": "code",
   "execution_count": 21,
   "metadata": {},
   "outputs": [
    {
     "name": "stdout",
     "output_type": "stream",
     "text": [
      "\n",
      "\n",
      "######################################################################################\n",
      "\n",
      "Synchronous deployment creation for id: 'cae6b499-6d08-4a34-89be-b935f7ab335e' started\n",
      "\n",
      "######################################################################################\n",
      "\n",
      "\n",
      "initializing........................................\n",
      "ready\n",
      "\n",
      "\n",
      "-----------------------------------------------------------------------------------------------\n",
      "Successfully finished deployment creation, deployment_id='84ad2335-9a26-4cb2-b588-b896a0204b2d'\n",
      "-----------------------------------------------------------------------------------------------\n",
      "\n",
      "\n"
     ]
    }
   ],
   "source": [
    "from datetime import datetime\n",
    "meta_props = {\n",
    "    client.deployments.ConfigurationMetaNames.NAME: \"FT DEPLOYMENT SDK - project\",\n",
    "    client.deployments.ConfigurationMetaNames.ONLINE: {},\n",
    "    client.deployments.ConfigurationMetaNames.SERVING_NAME : f\"ft_sdk_deployment_{datetime.now().strftime('%Y_%m_%d_%H%M%S')}\",\n",
    "    client.deployments.ConfigurationMetaNames.HARDWARE_SPEC: {\n",
    "        \"id\": hw_spec_id,\n",
    "        \"num_nodes\": 1\n",
    "    }\n",
    "}\n",
    "\n",
    "tuned_model_deployment_details = client.deployments.create(tuned_model_id, meta_props)"
   ]
  },
  {
   "cell_type": "markdown",
   "metadata": {},
   "source": [
    "Additionally you can get deployment details by printing `tuned_model_deployment_details`"
   ]
  },
  {
   "cell_type": "code",
   "execution_count": null,
   "metadata": {},
   "outputs": [],
   "source": [
    "tuned_model_deployment_details"
   ]
  },
  {
   "cell_type": "markdown",
   "metadata": {},
   "source": [
    "You can specify `deployment_id` from deployment details."
   ]
  },
  {
   "cell_type": "code",
   "execution_count": 22,
   "metadata": {},
   "outputs": [
    {
     "data": {
      "text/plain": [
       "'84ad2335-9a26-4cb2-b588-b896a0204b2d'"
      ]
     },
     "execution_count": 22,
     "metadata": {},
     "output_type": "execute_result"
    }
   ],
   "source": [
    "tuned_model_deployment_id = tuned_model_deployment_details['metadata']['id']\n",
    "tuned_model_deployment_id"
   ]
  },
  {
   "cell_type": "markdown",
   "metadata": {},
   "source": [
    "<a id=\"test_data\"></a>\n",
    "## Preparing data for testing process\n",
    "\n",
    "This example uses the <a href=\"https://huggingface.co/datasets/PolyAI/banking77\" target=\"_blank\" rel=\"noopener no referrer\">Banking77</a> testing dataset with 200 samples. "
   ]
  },
  {
   "cell_type": "code",
   "execution_count": 23,
   "metadata": {},
   "outputs": [],
   "source": [
    "filename=\"test.csv\"\n",
    "\n",
    "path = Path(os.getcwd()) / filename\n",
    "if path.exists():\n",
    "    path.unlink()\n",
    "wget.download(f\"{base_url}{filename}\")\n",
    "\n",
    "banking_test_df = pd.read_csv(\"train.csv\").sample(n=200, random_state=42)"
   ]
  },
  {
   "cell_type": "markdown",
   "metadata": {},
   "source": [
    "The instruction will be utilized in the prompt provided to the Base Model to guide it toward generating the correct response."
   ]
  },
  {
   "cell_type": "code",
   "execution_count": 24,
   "metadata": {},
   "outputs": [],
   "source": [
    "instruction = \"Instruction:\\nClassify the text into one of the following categories: activate my card, age limit, apple pay or google pay, atm support, automatic top up, balance not updated after bank transfer, balance not updated after cheque or cash deposit, beneficiary not allowed, cancel transfer, card about to expire, card acceptance, card arrival, card delivery estimate, card linking, card not working, card payment fee charged, card payment not recognised, card payment wrong exchange rate, card swallowed, cash withdrawal charge, cash withdrawal not recognised, change pin, compromised card, contactless not working, country support, declined card payment, declined cash withdrawal, declined transfer, direct debit payment not recognised, disposable card limits, edit personal details, exchange charge, exchange rate, exchange via app, extra charge on statement, failed transfer, fiat currency support, get disposable virtual card, get physical card, getting spare card, getting virtual card, lost or stolen card, lost or stolen phone, order physical card, passcode forgotten, pending card payment, pending cash withdrawal, pending top up, pending transfer, pin blocked, receiving money, Refund not showing up, request refund, reverted card payment?, supported cards and currencies, terminate account, top up by bank transfer charge, top up by card charge, top up by cash or cheque, top up failed, top up limits, top up reverted, topping up by card, transaction charged twice, transfer fee charged, transfer into account, transfer not received by recipient, transfer timing, unable to verify identity, verify my identity, verify source of funds, verify top up, virtual card not working, visa or mastercard, why verify identity, wrong amount of cash received, wrong exchange rate for cash withdrawal\\n\\n\""
   ]
  },
  {
   "cell_type": "code",
   "execution_count": 42,
   "metadata": {},
   "outputs": [],
   "source": [
    "prompts_batch = list(banking_test_df.text)\n",
    "prompts_batch_with_instruction = [instruction + prompt for prompt in prompts_batch]\n",
    "predictions = list(banking_test_df.category)"
   ]
  },
  {
   "cell_type": "markdown",
   "metadata": {},
   "source": [
    "<a id=\"models_inference\"></a>\n",
    "## Foundation Models Inference on `watsonx.ai`\n",
    "\n",
    "Provide a set of model parameters."
   ]
  },
  {
   "cell_type": "code",
   "execution_count": 26,
   "metadata": {},
   "outputs": [],
   "source": [
    "from ibm_watsonx_ai.metanames import GenTextParamsMetaNames as GenParams\n",
    "\n",
    "generate_params = {\n",
    "    GenParams.MAX_NEW_TOKENS: 256,\n",
    "}"
   ]
  },
  {
   "cell_type": "markdown",
   "metadata": {},
   "source": [
    "Initialize the `ModelInference` class with `tuned_model_deployment_id`."
   ]
  },
  {
   "cell_type": "code",
   "execution_count": 27,
   "metadata": {},
   "outputs": [],
   "source": [
    "from ibm_watsonx_ai.foundation_models import ModelInference\n",
    "\n",
    "tuned_model = ModelInference(\n",
    "    deployment_id=tuned_model_deployment_id,\n",
    "    api_client=client,\n",
    "    params=generate_params\n",
    ")"
   ]
  },
  {
   "cell_type": "markdown",
   "metadata": {},
   "source": [
    "Get deployment model inference details."
   ]
  },
  {
   "cell_type": "code",
   "execution_count": null,
   "metadata": {},
   "outputs": [],
   "source": [
    "tuned_model.get_details()"
   ]
  },
  {
   "cell_type": "markdown",
   "metadata": {},
   "source": [
    "### Calculate the accuracy of tuned model"
   ]
  },
  {
   "cell_type": "code",
   "execution_count": 29,
   "metadata": {},
   "outputs": [],
   "source": [
    "tuned_model_results = tuned_model.generate_text(prompt=prompts_batch)"
   ]
  },
  {
   "cell_type": "code",
   "execution_count": 30,
   "metadata": {},
   "outputs": [
    {
     "name": "stdout",
     "output_type": "stream",
     "text": [
      "accuracy_score: 0.99\n"
     ]
    }
   ],
   "source": [
    "from sklearn.metrics import accuracy_score\n",
    "\n",
    "tuned_model_accuracy_score = accuracy_score(predictions, tuned_model_results)\n",
    "\n",
    "print(f'accuracy_score: {tuned_model_accuracy_score}')"
   ]
  },
  {
   "cell_type": "markdown",
   "metadata": {},
   "source": [
    "<a id=\"deploy_base\"></a>\n",
    "## Deploy Base Model\n",
    "\n",
    "Create online deployment for base model."
   ]
  },
  {
   "cell_type": "code",
   "execution_count": 31,
   "metadata": {},
   "outputs": [],
   "source": [
    "sw_spec_id = client.software_specifications.get_id_by_name('watsonx-cfm-caikit-1.1')\n",
    "\n",
    "metadata = {\n",
    "    client.repository.ModelMetaNames.NAME: 'Base FT model',\n",
    "    client.repository.ModelMetaNames.SOFTWARE_SPEC_ID: sw_spec_id,\n",
    "    client.repository.ModelMetaNames.TYPE: \"custom_foundation_model_1.0\"\n",
    "}"
   ]
  },
  {
   "cell_type": "code",
   "execution_count": 32,
   "metadata": {},
   "outputs": [],
   "source": [
    "stored_base_model_details = client.repository.store_model(model=\"meta-llama/Meta-Llama-3-8B\", meta_props=metadata)"
   ]
  },
  {
   "cell_type": "code",
   "execution_count": 33,
   "metadata": {},
   "outputs": [],
   "source": [
    "stored_base_model_asset_id = client.repository.get_model_id(stored_base_model_details)"
   ]
  },
  {
   "cell_type": "code",
   "execution_count": 34,
   "metadata": {},
   "outputs": [
    {
     "name": "stdout",
     "output_type": "stream",
     "text": [
      "\n",
      "\n",
      "######################################################################################\n",
      "\n",
      "Synchronous deployment creation for id: 'e267f513-0aff-4ef1-b627-3e0111a5aa70' started\n",
      "\n",
      "######################################################################################\n",
      "\n",
      "\n",
      "initializing................................\n",
      "ready\n",
      "\n",
      "\n",
      "-----------------------------------------------------------------------------------------------\n",
      "Successfully finished deployment creation, deployment_id='eab867d9-5eec-446f-80ce-dee87d2dc2cc'\n",
      "-----------------------------------------------------------------------------------------------\n",
      "\n",
      "\n"
     ]
    }
   ],
   "source": [
    "from datetime import datetime\n",
    "meta_props = {\n",
    "    client.deployments.ConfigurationMetaNames.NAME: \"Base FT Model\",\n",
    "    client.deployments.ConfigurationMetaNames.ONLINE: {},\n",
    "    client.deployments.ConfigurationMetaNames.SERVING_NAME : f\"ft_sdk_deployment_{datetime.now().strftime('%Y_%m_%d_%H%M%S')}\",\n",
    "    client.deployments.ConfigurationMetaNames.HARDWARE_SPEC: {\n",
    "        \"id\": hw_spec_id,\n",
    "        \"num_nodes\": 1\n",
    "    }\n",
    "}\n",
    "\n",
    "base_model_deployment_details = client.deployments.create(stored_base_model_asset_id, meta_props)"
   ]
  },
  {
   "cell_type": "code",
   "execution_count": 35,
   "metadata": {},
   "outputs": [
    {
     "data": {
      "text/plain": [
       "'eab867d9-5eec-446f-80ce-dee87d2dc2cc'"
      ]
     },
     "execution_count": 35,
     "metadata": {},
     "output_type": "execute_result"
    }
   ],
   "source": [
    "base_model_deployment_id = base_model_deployment_details['metadata']['id']\n",
    "base_model_deployment_id"
   ]
  },
  {
   "cell_type": "markdown",
   "metadata": {},
   "source": [
    "Initialize the `ModelInference` class with `base_model_deployment_id`."
   ]
  },
  {
   "cell_type": "code",
   "execution_count": 36,
   "metadata": {},
   "outputs": [],
   "source": [
    "base_model = ModelInference(\n",
    "    deployment_id=base_model_deployment_id,\n",
    "    params=generate_params,\n",
    "    api_client=client\n",
    ")"
   ]
  },
  {
   "cell_type": "markdown",
   "metadata": {},
   "source": [
    "### Calculate the accuracy of base model"
   ]
  },
  {
   "cell_type": "code",
   "execution_count": 44,
   "metadata": {},
   "outputs": [],
   "source": [
    "base_model_results = base_model.generate_text(prompt=prompts_batch_with_instruction)"
   ]
  },
  {
   "cell_type": "code",
   "execution_count": 47,
   "metadata": {},
   "outputs": [
    {
     "name": "stdout",
     "output_type": "stream",
     "text": [
      "accuracy_score: 0.0\n"
     ]
    }
   ],
   "source": [
    "from sklearn.metrics import accuracy_score\n",
    "\n",
    "base_model_accuracy_score = accuracy_score(predictions, base_model_results)\n",
    "\n",
    "print(f'accuracy_score: {base_model_accuracy_score}')"
   ]
  },
  {
   "cell_type": "markdown",
   "metadata": {},
   "source": [
    "<a id=\"comparison\"></a>\n",
    "## Comparison of prediction results"
   ]
  },
  {
   "cell_type": "code",
   "execution_count": 48,
   "metadata": {},
   "outputs": [
    {
     "name": "stdout",
     "output_type": "stream",
     "text": [
      "+----------------+--------------+---------------+\n",
      "| Metric         |   Base Model |   Tuned Model |\n",
      "+================+==============+===============+\n",
      "| Accuracy Score |            0 |          0.99 |\n",
      "+----------------+--------------+---------------+\n"
     ]
    }
   ],
   "source": [
    "from tabulate import tabulate\n",
    "\n",
    "data = [\n",
    "    [\"Accuracy Score\", base_model_accuracy_score, tuned_model_accuracy_score],\n",
    "]\n",
    "\n",
    "headers = [\"Metric\", \"Base Model\", \"Tuned Model\"]\n",
    "\n",
    "print(tabulate(data, headers=headers, tablefmt=\"grid\"))"
   ]
  },
  {
   "cell_type": "markdown",
   "metadata": {},
   "source": [
    "<a id=\"cleanup\"></a>\n",
    "## Clean up\n",
    "\n",
    "To delete the current fine tuning experiment, use the `cancel_run` method.\n",
    "\n",
    "**Warning:** Be careful: once you delete an experiment, you will no longer be able to refer to it."
   ]
  },
  {
   "cell_type": "code",
   "execution_count": null,
   "metadata": {},
   "outputs": [],
   "source": [
    "fine_tuner.cancel_run(hard_delete=True)"
   ]
  },
  {
   "cell_type": "markdown",
   "metadata": {},
   "source": [
    "To delete the deployment, use the `delete` method. \n",
    "\n",
    "**Warning:** Keeping the deployment active may lead to unnecessary consumption of Compute Unit Hours (CUHs)."
   ]
  },
  {
   "cell_type": "code",
   "execution_count": null,
   "metadata": {},
   "outputs": [],
   "source": [
    "client.deployments.delete(base_model_deployment_id)"
   ]
  },
  {
   "cell_type": "code",
   "execution_count": null,
   "metadata": {},
   "outputs": [],
   "source": [
    "client.deployments.delete(tuned_model_deployment_id)"
   ]
  },
  {
   "cell_type": "markdown",
   "metadata": {},
   "source": [
    "<a id=\"summary\"></a>\n",
    "## Summary and next steps\n",
    "\n",
    "You successfully completed this notebook!.\n",
    "\n",
    "You learned how to use fine tuning in watsonx with online banking queries annotated.\n",
    " \n",
    "Check out our _<a href=\"https://ibm.github.io/watsonx-ai-python-sdk/samples.html\" target=\"_blank\" rel=\"noopener no referrer\">Online Documentation</a>_ for more samples, tutorials, documentation, how-tos, and blog posts. "
   ]
  },
  {
   "cell_type": "markdown",
   "metadata": {},
   "source": [
    "### Authors: \n",
    " **Mateusz Szewczyk**, Software Engineer at IBM watsonx.ai."
   ]
  },
  {
   "cell_type": "markdown",
   "metadata": {},
   "source": [
    "Copyright © 2025 IBM. This notebook and its source code are released under the terms of the MIT License."
   ]
  }
 ],
 "metadata": {
  "kernelspec": {
   "display_name": "watsonx-ai-rt23.1-py310-osx64",
   "language": "python",
   "name": "python3"
  },
  "language_info": {
   "codemirror_mode": {
    "name": "ipython",
    "version": 3
   },
   "file_extension": ".py",
   "mimetype": "text/x-python",
   "name": "python",
   "nbconvert_exporter": "python",
   "pygments_lexer": "ipython3",
   "version": "3.10.13"
  }
 },
 "nbformat": 4,
 "nbformat_minor": 2
}
