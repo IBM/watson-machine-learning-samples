{
 "cells": [
  {
   "cell_type": "markdown",
   "id": "spare-booking",
   "metadata": {},
   "source": [
    "# Use R Shiny app to create SIR model with `ibm-watsonx-ai`\n",
    "\n",
    "This notebook contains steps and code to demonstrate support of external R Shiny application code with [ibm-watsonx-ai](https://pypi.python.org/pypi/ibm-watsonx-ai) library available in PyPI repository. \n",
    "\n",
    "Some familiarity with Python is helpful. This notebook uses Python 3.11."
   ]
  },
  {
   "cell_type": "markdown",
   "id": "instrumental-utility",
   "metadata": {},
   "source": [
    "## Learning goals\n",
    "\n",
    "The learning goals of this notebook are:\n",
    "\n",
    "-  Persist a R Shiny app in in Watson Machine Learning asset repository.\n",
    "-  Deploy application for online scoring using client library.\n",
    "-  Score sample records using client library.\n",
    "\n",
    "\n",
    "## Contents\n",
    "\n",
    "This notebook contains the following parts:\n",
    "\n",
    "1. [Setup](#setup)\n",
    "2. [Application upload](#upload)\n",
    "3. [Web service creation](#deploy)\n",
    "4. [Clean up](#cleanup)\n",
    "5. [Summary and next steps](#summary)"
   ]
  },
  {
   "cell_type": "markdown",
   "id": "fifty-investment",
   "metadata": {},
   "source": [
    "<a id=\"setup\"></a>\n",
    "## 1. Set up the environment\n",
    "\n",
    "Before you use the sample code in this notebook, you must perform the following setup tasks:\n",
    "\n",
    "-  Contact with your Cloud Pack for Data administrator and ask him for your account credentials"
   ]
  },
  {
   "cell_type": "markdown",
   "id": "1d479e20",
   "metadata": {},
   "source": [
    "### Install and import the `ibm-watsonx-ai` and dependecies\n",
    "**Note:** `ibm-watsonx-ai` documentation can be found <a href=\"https://ibm.github.io/watsonx-ai-python-sdk/index.html\" target=\"_blank\" rel=\"noopener no referrer\">here</a>."
   ]
  },
  {
   "cell_type": "code",
   "execution_count": null,
   "id": "da898c08",
   "metadata": {},
   "outputs": [],
   "source": [
    "!pip install wget | tail -n 1\n",
    "!pip install -U ibm-watsonx-ai | tail -n 1"
   ]
  },
  {
   "cell_type": "markdown",
   "id": "southwest-institution",
   "metadata": {},
   "source": [
    "### Connection to WML\n",
    "\n",
    "Authenticate the Watson Machine Learning service on IBM Cloud Pack for Data. You need to provide platform `url`, your `username` and `api_key`."
   ]
  },
  {
   "cell_type": "code",
   "execution_count": null,
   "id": "absent-nickel",
   "metadata": {},
   "outputs": [],
   "source": [
    "username = 'PASTE YOUR USERNAME HERE'\n",
    "api_key = 'PASTE YOUR API_KEY HERE'\n",
    "url = 'PASTE THE PLATFORM URL HERE'"
   ]
  },
  {
   "cell_type": "code",
   "execution_count": 1,
   "id": "accepted-literature",
   "metadata": {},
   "outputs": [],
   "source": [
    "from ibm_watsonx_ai import Credentials\n",
    "\n",
    "credentials = Credentials(\n",
    "    username=username,\n",
    "    api_key=api_key,\n",
    "    url=url,\n",
    "    instance_id=\"openshift\",\n",
    "    version=\"5.0\"\n",
    ")"
   ]
  },
  {
   "cell_type": "markdown",
   "id": "b4445d3a-691c-4872-85bf-72a11f926d7d",
   "metadata": {},
   "source": [
    "Alternatively you can use `username` and `password` to authenticate WML services.\n",
    "\n",
    "```python\n",
    "credentials = Credentials(\n",
    "    username=***,\n",
    "    password=***,\n",
    "    url=***,\n",
    "    instance_id=\"openshift\",\n",
    "    version=\"5.0\"\n",
    ")\n",
    "\n",
    "```"
   ]
  },
  {
   "cell_type": "code",
   "execution_count": 4,
   "id": "inappropriate-cleanup",
   "metadata": {},
   "outputs": [],
   "source": [
    "from ibm_watsonx_ai import APIClient\n",
    "\n",
    "client = APIClient(credentials)"
   ]
  },
  {
   "cell_type": "markdown",
   "id": "cardiovascular-manor",
   "metadata": {},
   "source": [
    "### Working with spaces\n",
    "\n",
    "First of all, you need to create a space that will be used for your work. If you do not have space already created, you can use `{PLATFORM_URL}/ml-runtime/spaces?context=icp4data` to create one.\n",
    "\n",
    "- Click New Deployment Space\n",
    "- Create an empty space\n",
    "- Go to space `Settings` tab\n",
    "- Copy `space_id` and paste it below\n",
    "\n",
    "**Tip**: You can also use SDK to prepare the space for your work. More information can be found [here](https://github.com/IBM/watson-machine-learning-samples/blob/master/cpd5.0/notebooks/python_sdk/instance-management/Space%20management.ipynb).\n",
    "\n",
    "**Action**: Assign space ID below"
   ]
  },
  {
   "cell_type": "code",
   "execution_count": 2,
   "id": "frequent-pavilion",
   "metadata": {},
   "outputs": [],
   "source": [
    "space_id = 'PASTE YOUR SPACE ID HERE'"
   ]
  },
  {
   "cell_type": "markdown",
   "id": "warming-wedding",
   "metadata": {},
   "source": [
    "You can use `list` method to print all existing spaces."
   ]
  },
  {
   "cell_type": "code",
   "execution_count": null,
   "id": "greek-ivory",
   "metadata": {},
   "outputs": [],
   "source": [
    "client.spaces.list(limit=10)"
   ]
  },
  {
   "cell_type": "markdown",
   "id": "protective-sudan",
   "metadata": {},
   "source": [
    "To be able to interact with all resources available in Watson Machine Learning, you need to set **space** which you will be using."
   ]
  },
  {
   "cell_type": "code",
   "execution_count": 5,
   "id": "favorite-bronze",
   "metadata": {},
   "outputs": [
    {
     "data": {
      "text/plain": [
       "'SUCCESS'"
      ]
     },
     "execution_count": 5,
     "metadata": {},
     "output_type": "execute_result"
    }
   ],
   "source": [
    "client.set.default_space(space_id)"
   ]
  },
  {
   "cell_type": "markdown",
   "id": "attempted-speaking",
   "metadata": {},
   "source": [
    "<a id=\"upload\"></a>\n",
    "## 2. Application upload\n",
    "\n",
    "In this section you will learn how to store downloaded application\n",
    "as a WML asset."
   ]
  },
  {
   "cell_type": "markdown",
   "id": "filled-david",
   "metadata": {},
   "source": [
    "#### Download R Shiny app from git project using wget\n",
    "**Hint**: To install `wget` execute `!pip install wget`."
   ]
  },
  {
   "cell_type": "code",
   "execution_count": 6,
   "id": "tight-lawyer",
   "metadata": {},
   "outputs": [],
   "source": [
    "import os\n",
    "import wget\n",
    "\n",
    "filename = \"app.R.zip\"\n",
    "url = \"https://github.com/IBM/watson-machine-learning-samples/raw/master/cpd5.0/models/r_shiny/app.R.zip\"\n",
    "if not os.path.isfile(filename):\n",
    "    filename = wget.download(url)"
   ]
  },
  {
   "cell_type": "markdown",
   "id": "naked-algebra",
   "metadata": {},
   "source": [
    "#### Upload application as data asset"
   ]
  },
  {
   "cell_type": "code",
   "execution_count": 7,
   "id": "still-computer",
   "metadata": {},
   "outputs": [
    {
     "name": "stdout",
     "output_type": "stream",
     "text": [
      "Creating Shiny asset...\n",
      "SUCCESS\n"
     ]
    }
   ],
   "source": [
    "shiny_details = client.shiny.store(\n",
    "    meta_props={\n",
    "        client.shiny.ConfigurationMetaNames.NAME: \"R Shiny app - SIR\",\n",
    "    },\n",
    "    file_path=filename\n",
    ")\n",
    "shiny_asset_id = client.shiny.get_id(shiny_details)"
   ]
  },
  {
   "cell_type": "markdown",
   "id": "wrapped-fashion",
   "metadata": {},
   "source": [
    "**Note:** You can see that application is saved in Watson Machine Learning Service."
   ]
  },
  {
   "cell_type": "code",
   "execution_count": null,
   "id": "ordinary-bloom",
   "metadata": {},
   "outputs": [],
   "source": [
    "client.shiny.list(limit=5)"
   ]
  },
  {
   "cell_type": "markdown",
   "id": "found-responsibility",
   "metadata": {},
   "source": [
    "<a id=\"deploy\"></a>\n",
    "## 3. Create online deployment\n",
    "You can use commands bellow to create online deployment for stored application (web service)."
   ]
  },
  {
   "cell_type": "code",
   "execution_count": 10,
   "id": "disabled-virginia",
   "metadata": {},
   "outputs": [
    {
     "name": "stdout",
     "output_type": "stream",
     "text": [
      "\n",
      "\n",
      "######################################################################################\n",
      "\n",
      "Synchronous deployment creation for id: '5b747bc6-d1cb-41fe-900b-aa6650427344' started\n",
      "\n",
      "######################################################################################\n",
      "\n",
      "\n",
      "initializing\n",
      "Note: rshiny_url is deprecated and will be removed in a future release. Use serving_urls instead.\n",
      ".........\n",
      "ready\n",
      "\n",
      "\n",
      "-----------------------------------------------------------------------------------------------\n",
      "Successfully finished deployment creation, deployment_id='53d4f5c0-502a-441c-8341-676d394206f0'\n",
      "-----------------------------------------------------------------------------------------------\n",
      "\n",
      "\n"
     ]
    }
   ],
   "source": [
    "deployment = client.deployments.create(\n",
    "    artifact_id=shiny_asset_id,\n",
    "    meta_props={\n",
    "                client.deployments.ConfigurationMetaNames.NAME: \"Deployment R Shiny's SIR\",\n",
    "                client.deployments.ConfigurationMetaNames.R_SHINY: {\"authentication\" : \"anyone_with_url\" },\n",
    "                client.deployments.ConfigurationMetaNames.HARDWARE_SPEC: {\"name\":\"S\", \"num_nodes\":1},\n",
    "    }\n",
    ")\n",
    "deployment_id = client.deployments.get_id(deployment)"
   ]
  },
  {
   "cell_type": "markdown",
   "id": "applied-wealth",
   "metadata": {},
   "source": [
    "#### Get deployments details"
   ]
  },
  {
   "cell_type": "code",
   "execution_count": null,
   "id": "engaging-validity",
   "metadata": {},
   "outputs": [],
   "source": [
    "deployment_id = client.deployments.get_id(deployment)\n",
    "client.deployments.get_details(deployment_id)"
   ]
  },
  {
   "cell_type": "markdown",
   "id": "affected-beginning",
   "metadata": {},
   "source": [
    "<a id=\"cleanup\"></a>\n",
    "## 4. Clean up "
   ]
  },
  {
   "cell_type": "markdown",
   "id": "abroad-holder",
   "metadata": {},
   "source": [
    "If you want to clean up all created assets:\n",
    "- experiments\n",
    "- trainings\n",
    "- pipelines\n",
    "- model definitions\n",
    "- models\n",
    "- functions\n",
    "- deployments\n",
    "\n",
    "please follow up this sample [notebook](https://github.com/IBM/watson-machine-learning-samples/blob/master/cpd5.0/notebooks/python_sdk/instance-management/Machine%20Learning%20artifacts%20management.ipynb)."
   ]
  },
  {
   "cell_type": "markdown",
   "id": "marked-dispute",
   "metadata": {},
   "source": [
    "<a id=\"summary\"></a>\n",
    "## 5. Summary and next steps     "
   ]
  },
  {
   "cell_type": "markdown",
   "id": "starting-agriculture",
   "metadata": {},
   "source": [
    "You successfully completed this notebook! You learned how to use Watson Machine Learning for SPSS model deployment and scoring. \n",
    " \n",
    "Check out our _<a href=\"https://ibm.github.io/watsonx-ai-python-sdk/samples.html\" target=\"_blank\" rel=\"noopener no referrer\">Online Documentation</a>_ for more samples, tutorials, documentation, how-tos, and blog posts. "
   ]
  },
  {
   "cell_type": "markdown",
   "id": "thrown-trademark",
   "metadata": {},
   "source": [
    "### Author\n",
    "\n",
    "**Mateusz Szewczyk**, Software Engineer at Watson Machine Learning."
   ]
  },
  {
   "cell_type": "markdown",
   "id": "knowing-drive",
   "metadata": {},
   "source": [
    "Copyright © 2020-2024 IBM. This notebook and its source code are released under the terms of the MIT License."
   ]
  }
 ],
 "metadata": {
  "kernelspec": {
   "display_name": "Python 3 (ipykernel)",
   "language": "python",
   "name": "python3"
  },
  "language_info": {
   "codemirror_mode": {
    "name": "ipython",
    "version": 3
   },
   "file_extension": ".py",
   "mimetype": "text/x-python",
   "name": "python",
   "nbconvert_exporter": "python",
   "pygments_lexer": "ipython3",
   "version": "3.11.9"
  }
 },
 "nbformat": 4,
 "nbformat_minor": 5
}
