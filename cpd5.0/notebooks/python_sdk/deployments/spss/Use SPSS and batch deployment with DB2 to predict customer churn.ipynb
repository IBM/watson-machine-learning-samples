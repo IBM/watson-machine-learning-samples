{
 "cells": [
  {
   "cell_type": "markdown",
   "metadata": {},
   "source": [
    "# Use SPSS and batch deployment with DB2 to predict customer churn with `ibm-watsonx-ai`\n",
    "\n",
    "This notebook contains steps to deploy a sample SPSS stream and start batch scoring new data. \n",
    "\n",
    "Some familiarity with bash is helpful. This notebook uses Python 3.11.\n",
    "\n",
    "You will use a data set, **Telco Customer Churn**, which details anonymous customer data from a telecommunication company. Use the details of this data set to predict customer churn. This is critical to business, as it's easier to retain existing customers than acquire new ones."
   ]
  },
  {
   "cell_type": "markdown",
   "metadata": {
    "tags": []
   },
   "source": [
    "## Learning goals\n",
    "\n",
    "The learning goals of this notebook are:\n",
    "\n",
    "-  Loading a CSV file into Db2 \n",
    "-  Working with the Watson Machine Learning instance\n",
    "-  Batch deployment of an SPSS model\n",
    "-  Scoring data using deployed model and a Db2 connection\n",
    "\n",
    "\n",
    "## Contents\n",
    "\n",
    "This notebook contains the following parts:\n",
    "\n",
    "1. [Setup](#setup)\n",
    "2. [Model upload](#upload) \n",
    "3. [Create db2 connection](#connection)\n",
    "4. [Web service creation](#deploy)\n",
    "5. [Scoring](#score)\n",
    "6. [Clean up](#cleanup)\n",
    "7. [Summary and next steps](#summary)"
   ]
  },
  {
   "cell_type": "markdown",
   "metadata": {},
   "source": [
    "<a id=\"setup\"></a>\n",
    "## 1. Set up the environment\n",
    "\n",
    "Before you use the sample code in this notebook, contact with your Cloud Pack for Data administrator and ask for your account credentials"
   ]
  },
  {
   "cell_type": "markdown",
   "metadata": {},
   "source": [
    "### Install and import the `ibm-watsonx-ai` and dependecies\n",
    "**Note:** `ibm-watsonx-ai` documentation can be found <a href=\"https://ibm.github.io/watsonx-ai-python-sdk/index.html\" target=\"_blank\" rel=\"noopener no referrer\">here</a>."
   ]
  },
  {
   "cell_type": "code",
   "execution_count": null,
   "metadata": {},
   "outputs": [],
   "source": [
    "!pip install wget | tail -n 1\n",
    "!pip install -U ibm-watsonx-ai | tail -n 1"
   ]
  },
  {
   "cell_type": "markdown",
   "metadata": {},
   "source": [
    "### Connection to WML\n",
    "\n",
    "Authenticate the Watson Machine Learning service on IBM Cloud Pack for Data. You need to provide platform `url`, your `username` and `api_key`."
   ]
  },
  {
   "cell_type": "code",
   "execution_count": null,
   "metadata": {},
   "outputs": [],
   "source": [
    "username = 'PASTE YOUR USERNAME HERE'\n",
    "api_key = 'PASTE YOUR API_KEY HERE'\n",
    "url = 'PASTE THE PLATFORM URL HERE'"
   ]
  },
  {
   "cell_type": "code",
   "execution_count": 1,
   "metadata": {},
   "outputs": [],
   "source": [
    "from ibm_watsonx_ai import Credentials\n",
    "\n",
    "credentials = Credentials(\n",
    "    username=username,\n",
    "    api_key=api_key,\n",
    "    url=url,\n",
    "    instance_id=\"openshift\",\n",
    "    version=\"5.0\"\n",
    ")"
   ]
  },
  {
   "cell_type": "markdown",
   "metadata": {},
   "source": [
    "Alternatively you can use `username` and `password` to authenticate WML services.\n",
    "\n",
    "```python\n",
    "credentials = Credentials(\n",
    "    username=***,\n",
    "    password=***,\n",
    "    url=***,\n",
    "    instance_id=\"openshift\",\n",
    "    version=\"5.0\"\n",
    ")\n",
    "\n",
    "```"
   ]
  },
  {
   "cell_type": "code",
   "execution_count": 2,
   "metadata": {},
   "outputs": [],
   "source": [
    "from ibm_watsonx_ai import APIClient\n",
    "\n",
    "client = APIClient(credentials)"
   ]
  },
  {
   "cell_type": "markdown",
   "metadata": {},
   "source": [
    "### Working with spaces\n",
    "\n",
    "First of all, you need to create a space that will be used for your work. If you do not have space already created, you can use `{PLATFORM_URL}/ml-runtime/spaces?context=icp4data` to create one.\n",
    "\n",
    "- Click New Deployment Space\n",
    "- Create an empty space\n",
    "- Go to space `Settings` tab\n",
    "- Copy `space_id` and paste it below\n",
    "\n",
    "**Tip**: You can also use SDK to prepare the space for your work. More information can be found [here](https://github.com/IBM/watson-machine-learning-samples/blob/master/cpd5.0/notebooks/python_sdk/instance-management/Space%20management.ipynb).\n",
    "\n",
    "**Action**: Assign space ID below"
   ]
  },
  {
   "cell_type": "code",
   "execution_count": 3,
   "metadata": {},
   "outputs": [],
   "source": [
    "space_id = 'PASTE YOUR SPACE ID HERE'"
   ]
  },
  {
   "cell_type": "markdown",
   "metadata": {},
   "source": [
    "You can use `list` method to print all existing spaces."
   ]
  },
  {
   "cell_type": "code",
   "execution_count": null,
   "metadata": {},
   "outputs": [],
   "source": [
    "client.spaces.list(limit=10)"
   ]
  },
  {
   "cell_type": "markdown",
   "metadata": {},
   "source": [
    "To be able to interact with all resources available in Watson Machine Learning, you need to set **space** which you will be using."
   ]
  },
  {
   "cell_type": "code",
   "execution_count": 4,
   "metadata": {},
   "outputs": [
    {
     "data": {
      "text/plain": [
       "'SUCCESS'"
      ]
     },
     "execution_count": 4,
     "metadata": {},
     "output_type": "execute_result"
    }
   ],
   "source": [
    "client.set.default_space(space_id)"
   ]
  },
  {
   "cell_type": "markdown",
   "metadata": {},
   "source": [
    "<a id=\"upload\"></a>\n",
    "## 2. Upload model\n",
    "\n",
    "In this section you will learn how to upload the model.\n",
    "\n",
    "\n",
    "**Action**: Download sample SPSS model from git project using wget."
   ]
  },
  {
   "cell_type": "code",
   "execution_count": 7,
   "metadata": {},
   "outputs": [
    {
     "name": "stdout",
     "output_type": "stream",
     "text": [
      "spss_sample_model/db2-customer-satisfaction-prediction.str\n"
     ]
    }
   ],
   "source": [
    "import os\n",
    "from wget import download\n",
    "\n",
    "sample_dir = 'spss_sample_model'\n",
    "if not os.path.isdir(sample_dir):\n",
    "    os.mkdir(sample_dir)\n",
    "\n",
    "filename=os.path.join(sample_dir, 'db2-customer-satisfaction-prediction.str')\n",
    "if not os.path.isfile(filename):\n",
    "    filename = download('https://github.com/IBM/watson-machine-learning-samples/raw/master/cloud/models/spss/db2_customer_satisfaction/model/db2-customer-satisfaction-prediction.str', \n",
    "                        out=sample_dir)\n",
    "print(filename)"
   ]
  },
  {
   "cell_type": "markdown",
   "metadata": {},
   "source": [
    "Store SPSS sample model in your Watson Machine Learning instance."
   ]
  },
  {
   "cell_type": "code",
   "execution_count": null,
   "metadata": {},
   "outputs": [],
   "source": [
    "client.software_specifications.list()"
   ]
  },
  {
   "cell_type": "code",
   "execution_count": 8,
   "metadata": {},
   "outputs": [],
   "source": [
    "sw_spec_id = client.software_specifications.get_id_by_name(\"spss-modeler_18.2\")\n",
    "\n",
    "model_meta_props = {\n",
    "    client.repository.ModelMetaNames.NAME: \"SPSS customer satisfaction model\",\n",
    "    client.repository.ModelMetaNames.TYPE: \"spss-modeler_18.2\",\n",
    "    client.repository.ModelMetaNames.SOFTWARE_SPEC_ID: sw_spec_id\n",
    "}\n",
    "\n",
    "model_details = client.repository.store_model(filename, model_meta_props)"
   ]
  },
  {
   "cell_type": "markdown",
   "metadata": {},
   "source": [
    "**Note:** You can see that model is successfully stored in Watson Machine Learning Service."
   ]
  },
  {
   "cell_type": "code",
   "execution_count": null,
   "metadata": {},
   "outputs": [],
   "source": [
    "client.repository.list_models()"
   ]
  },
  {
   "cell_type": "markdown",
   "metadata": {},
   "source": [
    "<a id=\"connection\"></a>\n",
    "## 3. Create a Db2 connection\n",
    "You can use commands below to create a db2 connection and required data assets to perform batch scoring."
   ]
  },
  {
   "cell_type": "markdown",
   "metadata": {},
   "source": [
    "### Create tables in Db2\n",
    "\n",
    " - Download the [inputScore.csv](https://github.com/IBM/watson-machine-learning-samples/raw/master/cloud/data/customer_churn/scoreInput.csv) and [inputScore2.csv](https://github.com/IBM/watson-machine-learning-samples/raw/master/cloud/data/customer_churn/scoreInput2.csv) file from the GitHub repository\n",
    " - Click the **Open the console to get started with Db2 on Cloud** icon.\n",
    " - Select the **Load Data** and **Desktop** load type.\n",
    " - Drag and drop the previously downloaded file and click Next.\n",
    " - Set table name to **CUSTOMER** and proceed with creating."
   ]
  },
  {
   "cell_type": "markdown",
   "metadata": {},
   "source": [
    "#### Create a connection"
   ]
  },
  {
   "cell_type": "code",
   "execution_count": null,
   "metadata": {},
   "outputs": [],
   "source": [
    "schema_name = 'PUT YOUR SCHEMA NAME HERE'"
   ]
  },
  {
   "cell_type": "code",
   "execution_count": null,
   "metadata": {},
   "outputs": [],
   "source": [
    "db_name = 'db2'\n",
    "input_table_1 = 'CUSTOMER'\n",
    "input_table_2 = 'CUSTOMER_2'\n",
    "output_table = 'OUTPUT'"
   ]
  },
  {
   "cell_type": "code",
   "execution_count": null,
   "metadata": {},
   "outputs": [],
   "source": [
    "db_credentials = {\n",
    "      \"db\": \"***\",\n",
    "      \"host\": \"***\",\n",
    "      \"https_url\": \"***\",\n",
    "      \"password\": \"***\",\n",
    "      \"port\": \"***\",\n",
    "      \"username\": \"***\"\n",
    "}"
   ]
  },
  {
   "cell_type": "code",
   "execution_count": 8,
   "metadata": {},
   "outputs": [
    {
     "name": "stdout",
     "output_type": "stream",
     "text": [
      "Creating connections...\n",
      "SUCCESS\n"
     ]
    }
   ],
   "source": [
    "db2_data_source_type_id = client.connections.get_datasource_type_uid_by_name(db_name)\n",
    "\n",
    "db2_conn_meta_props= {\n",
    "    client.connections.ConfigurationMetaNames.NAME: \"conn_db2\",\n",
    "    client.connections.ConfigurationMetaNames.DATASOURCE_TYPE: db2_data_source_type_id,\n",
    "    client.connections.ConfigurationMetaNames.DESCRIPTION: \"Connection using DB2\",\n",
    "    client.connections.ConfigurationMetaNames.PROPERTIES: {\n",
    "        \"database\": db_credentials[\"db\"],\n",
    "        \"port\": db_credentials[\"port\"],          \n",
    "        \"host\": db_credentials[\"host\"],\n",
    "        \"password\": db_credentials[\"password\"],\n",
    "        \"username\": db_credentials[\"username\"]\n",
    "    }\n",
    "}\n",
    "\n",
    "db2_conn_details = client.connections.create(meta_props=db2_conn_meta_props)"
   ]
  },
  {
   "cell_type": "code",
   "execution_count": 9,
   "metadata": {},
   "outputs": [],
   "source": [
    "db2_conn_id = client.connections.get_id(db2_conn_details)"
   ]
  },
  {
   "cell_type": "markdown",
   "metadata": {},
   "source": [
    "#### Create input connection data asset"
   ]
  },
  {
   "cell_type": "code",
   "execution_count": 10,
   "metadata": {},
   "outputs": [
    {
     "name": "stdout",
     "output_type": "stream",
     "text": [
      "Creating data asset...\n",
      "SUCCESS\n"
     ]
    }
   ],
   "source": [
    "db2_asset_meta_props={\n",
    "            client.data_assets.ConfigurationMetaNames.NAME: \"INPUT_TABLE_1\",\n",
    "            client.data_assets.ConfigurationMetaNames.CONNECTION_ID: db2_conn_id,\n",
    "            client.data_assets.ConfigurationMetaNames.DESCRIPTION: \"db2 table\",\n",
    "            client.data_assets.ConfigurationMetaNames.DATA_CONTENT_NAME: input_table_1 }\n",
    "\n",
    "db2_conn_input_asset_details = client.data_assets.store(db2_asset_meta_props)  \n",
    "input_data_1_href = client.data_assets.get_href(db2_conn_input_asset_details)"
   ]
  },
  {
   "cell_type": "code",
   "execution_count": 11,
   "metadata": {},
   "outputs": [
    {
     "name": "stdout",
     "output_type": "stream",
     "text": [
      "Creating data asset...\n",
      "SUCCESS\n"
     ]
    }
   ],
   "source": [
    "db2_asset_meta_props={\n",
    "            client.data_assets.ConfigurationMetaNames.NAME: \"INPUT_TABLE_2\",\n",
    "            client.data_assets.ConfigurationMetaNames.CONNECTION_ID: db2_conn_id,\n",
    "            client.data_assets.ConfigurationMetaNames.DESCRIPTION: \"db2 table\",\n",
    "            client.data_assets.ConfigurationMetaNames.DATA_CONTENT_NAME: input_table_2 }\n",
    "\n",
    "db2_conn_input_asset_details = client.data_assets.store(db2_asset_meta_props)  \n",
    "input_data_2_href = client.data_assets.get_href(db2_conn_input_asset_details)"
   ]
  },
  {
   "cell_type": "markdown",
   "metadata": {},
   "source": [
    "#### Create output connection data assets"
   ]
  },
  {
   "cell_type": "code",
   "execution_count": 12,
   "metadata": {},
   "outputs": [
    {
     "name": "stdout",
     "output_type": "stream",
     "text": [
      "Creating data asset...\n",
      "SUCCESS\n"
     ]
    }
   ],
   "source": [
    "db2_asset_meta_props={\n",
    "            client.data_assets.ConfigurationMetaNames.NAME: \"OUTPUT_TABLE\",\n",
    "            client.data_assets.ConfigurationMetaNames.CONNECTION_ID: db2_conn_id,\n",
    "            client.data_assets.ConfigurationMetaNames.DESCRIPTION: \"db2 table\",\n",
    "            client.data_assets.ConfigurationMetaNames.DATA_CONTENT_NAME: output_table }\n",
    "\n",
    "db2_conn_output_asset_details = client.data_assets.store(db2_asset_meta_props)  \n",
    "output_data_href = client.data_assets.get_href(db2_conn_output_asset_details)"
   ]
  },
  {
   "cell_type": "markdown",
   "metadata": {},
   "source": [
    "<a id=\"deploy\"></a>\n",
    "## 4. Create batch deployment\n",
    "Use bellow  to create batch deployment for stored model."
   ]
  },
  {
   "cell_type": "code",
   "execution_count": 13,
   "metadata": {},
   "outputs": [
    {
     "name": "stdout",
     "output_type": "stream",
     "text": [
      "\n",
      "\n",
      "#######################################################################################\n",
      "\n",
      "Synchronous deployment creation for uid: 'b5f984cb-9b46-4884-aa9b-1541efab1faf' started\n",
      "\n",
      "#######################################################################################\n",
      "\n",
      "\n",
      "ready.\n",
      "\n",
      "\n",
      "------------------------------------------------------------------------------------------------\n",
      "Successfully finished deployment creation, deployment_uid='7ca37c54-19ab-4632-a191-625b3da3c898'\n",
      "------------------------------------------------------------------------------------------------\n",
      "\n",
      "\n"
     ]
    }
   ],
   "source": [
    "model_id = client.repository.get_model_id(model_details)\n",
    "\n",
    "deployment = client.deployments.create(\n",
    "    artifact_id=model_id,\n",
    "    meta_props={\n",
    "        client.deployments.ConfigurationMetaNames.NAME: \"SPSS BATCH customer satisfaction\",\n",
    "        client.deployments.ConfigurationMetaNames.BATCH: {},\n",
    "        client.deployments.ConfigurationMetaNames.HARDWARE_SPEC: {\n",
    "            \"name\": \"S\",\n",
    "            \"num_nodes\": 1\n",
    "        }\n",
    "    }\n",
    ")"
   ]
  },
  {
   "cell_type": "markdown",
   "metadata": {},
   "source": [
    "<a id=\"score\"></a>\n",
    "## 5. Scoring\n",
    "\n",
    "You can create batch job using below methods."
   ]
  },
  {
   "cell_type": "markdown",
   "metadata": {},
   "source": [
    "### 5.1 Scoring using `data_asset` pointing to the DB2."
   ]
  },
  {
   "cell_type": "code",
   "execution_count": 14,
   "metadata": {},
   "outputs": [],
   "source": [
    "job_payload_ref = {\n",
    "    client.deployments.ScoringMetaNames.INPUT_DATA_REFERENCES: [\n",
    "        {\n",
    "            \"id\": \"conn_db2\",\n",
    "            \"name\": \"input_data_1_href\",\n",
    "            \"type\": \"data_asset\",\n",
    "            \"connection\": {},\n",
    "            \"location\": {\n",
    "                \"href\": input_data_1_href\n",
    "            }\n",
    "        },\n",
    "        {\n",
    "            \"id\": \"conn_db2\",\n",
    "            \"name\": \"input_data_2_href\",\n",
    "            \"type\": \"data_asset\",\n",
    "            \"connection\": {},\n",
    "            \"location\": {\n",
    "                \"href\": input_data_2_href\n",
    "            }\n",
    "        }\n",
    "    ],\n",
    "    client.deployments.ScoringMetaNames.OUTPUT_DATA_REFERENCE: {\n",
    "            \"type\": \"data_asset\",\n",
    "            \"connection\": {},\n",
    "            \"location\": {\n",
    "                \"href\": output_data_href\n",
    "            }\n",
    "    }\n",
    "}\n",
    "\n",
    "deployment_id = client.deployments.get_id(deployment)\n",
    "job = client.deployments.create_job(deployment_id, meta_props=job_payload_ref)"
   ]
  },
  {
   "cell_type": "markdown",
   "metadata": {},
   "source": [
    "You can retrive job ID."
   ]
  },
  {
   "cell_type": "code",
   "execution_count": 15,
   "metadata": {},
   "outputs": [],
   "source": [
    "job_id = client.deployments.get_job_id(job)"
   ]
  },
  {
   "cell_type": "markdown",
   "metadata": {},
   "source": [
    "##### Monitor job execution\n",
    "\n",
    "Here you can check the status of your batch scoring. When batch job is completed the results will be written to a Db2 table."
   ]
  },
  {
   "cell_type": "code",
   "execution_count": 21,
   "metadata": {
    "execution": {
     "iopub.execute_input": "2021-05-13T08:25:47.637114Z",
     "iopub.status.busy": "2021-05-13T08:25:47.636298Z",
     "iopub.status.idle": "2021-05-13T08:26:19.041818Z",
     "shell.execute_reply": "2021-05-13T08:26:19.042556Z"
    }
   },
   "outputs": [
    {
     "name": "stdout",
     "output_type": "stream",
     "text": [
      " Current state: queued\n",
      " Current state: running\n",
      " Current state: completed\n",
      "{'entity': {'deployment': {'id': 'ac0dfe9a-6c98-4eeb-967b-120f9234b0e5'}, 'platform_job': {'job_id': 'bfcf37c5-d190-49bd-abca-fb22116323f5', 'run_id': '361b151b-c5f6-48dc-ae1d-776642c9a692'}, 'scoring': {'input_data_references': [{'connection': {}, 'id': 'conn_db2', 'location': {'href': '/v2/assets/04f74392-0b89-4ca6-baa1-157e4295bd8b?space_id=680a7515-620c-461f-9c6f-1f4c535bfc47'}, 'type': 'data_asset'}, {'connection': {}, 'id': 'conn_db2', 'location': {'href': '/v2/assets/d1e1c2eb-d0eb-430f-8707-f948c0b37ba2?space_id=680a7515-620c-461f-9c6f-1f4c535bfc47'}, 'type': 'data_asset'}], 'output_data_reference': {'connection': {}, 'location': {'href': '/v2/assets/8009a976-1218-42b7-81fc-39b77ec225cd?space_id=680a7515-620c-461f-9c6f-1f4c535bfc47'}, 'type': 'data_asset'}, 'status': {'completed_at': '2021-05-13T08:26:06.058Z', 'running_at': '2021-05-13T08:25:58.434Z', 'state': 'completed'}}}, 'metadata': {'created_at': '2021-05-13T08:25:47.071Z', 'id': 'a5d0e0b3-62c5-41f4-879b-41702e16b185', 'modified_at': '2021-05-13T08:26:06.191Z', 'name': 'name_d68b05fd-7866-4a48-af56-235eb3f03809', 'space_id': '680a7515-620c-461f-9c6f-1f4c535bfc47'}}\n"
     ]
    }
   ],
   "source": [
    "import time\n",
    "\n",
    "elapsed_time = 0\n",
    "while client.deployments.get_job_status(job_id).get('state') != 'completed' and elapsed_time < 300:\n",
    "    print(f\" Current state: {client.deployments.get_job_status(job_id).get('state')}\")\n",
    "    elapsed_time += 10\n",
    "    time.sleep(10)\n",
    "if client.deployments.get_job_status(job_id).get('state') == 'completed':\n",
    "    print(f\" Current state: {client.deployments.get_job_status(job_id).get('state')}\")\n",
    "    job_details_do = client.deployments.get_job_details(job_id)\n",
    "    print(job_details_do)\n",
    "else:\n",
    "    print(\"Job hasn't completed successfully in 5 minutes.\")"
   ]
  },
  {
   "cell_type": "markdown",
   "metadata": {},
   "source": [
    "### 5.2 Scoring using `connection_asset` poiniting to the DB2"
   ]
  },
  {
   "cell_type": "code",
   "execution_count": 14,
   "metadata": {},
   "outputs": [],
   "source": [
    "job_payload_ref = {\n",
    "    client.deployments.ScoringMetaNames.INPUT_DATA_REFERENCES: [\n",
    "        {\n",
    "            \"id\": \"conn_db2\",\n",
    "            \"name\": \"input_table_1\",\n",
    "            \"type\": \"connection_asset\",\n",
    "            \"connection\": {\n",
    "                \"id\": db2_conn_id\n",
    "            },\n",
    "            \"location\": {\n",
    "                \"schema_name\": schema_name,\n",
    "                \"file_name\": input_table_1\n",
    "            }\n",
    "        },\n",
    "        {\n",
    "            \"id\": \"conn_db2\",\n",
    "            \"name\": \"input_table_2\",\n",
    "            \"type\": \"connection_asset\",\n",
    "            \"connection\": {\n",
    "                \"id\": db2_conn_id\n",
    "            },\n",
    "            \"location\": {\n",
    "                \"schema_name\": schema_name,\n",
    "                \"file_name\": input_table_2\n",
    "            }\n",
    "        }\n",
    "    ],\n",
    "    client.deployments.ScoringMetaNames.OUTPUT_DATA_REFERENCE: {\n",
    "            \"id\": \"conn_db2\",\n",
    "            \"name\": \"output_table\",\n",
    "            \"type\": \"connection_asset\",\n",
    "            \"connection\": {\n",
    "                \"id\": db2_conn_id\n",
    "            },\n",
    "            \"location\": {\n",
    "                \"schema_name\": schema_name,\n",
    "                \"file_name\": output_table\n",
    "            }\n",
    "    }\n",
    "}\n",
    "\n",
    "deployment_id = client.deployments.get_id(deployment)\n",
    "job = client.deployments.create_job(deployment_id, meta_props=job_payload_ref)"
   ]
  },
  {
   "cell_type": "markdown",
   "metadata": {},
   "source": [
    "Retrive job ID."
   ]
  },
  {
   "cell_type": "code",
   "execution_count": 15,
   "metadata": {},
   "outputs": [],
   "source": [
    "job_id = client.deployments.get_job_id(job)"
   ]
  },
  {
   "cell_type": "markdown",
   "metadata": {},
   "source": [
    "##### Monitor job execution"
   ]
  },
  {
   "cell_type": "code",
   "execution_count": 24,
   "metadata": {
    "execution": {
     "iopub.execute_input": "2021-05-13T08:26:24.268310Z",
     "iopub.status.busy": "2021-05-13T08:26:24.267448Z",
     "iopub.status.idle": "2021-05-13T08:26:55.683936Z",
     "shell.execute_reply": "2021-05-13T08:26:55.684562Z"
    }
   },
   "outputs": [
    {
     "name": "stdout",
     "output_type": "stream",
     "text": [
      " Current state: queued\n",
      " Current state: running\n",
      " Current state: completed\n",
      "{'entity': {'deployment': {'id': 'ac0dfe9a-6c98-4eeb-967b-120f9234b0e5'}, 'platform_job': {'job_id': 'bfcf37c5-d190-49bd-abca-fb22116323f5', 'run_id': '4d83ddcb-88ca-45ca-8209-446698936b8d'}, 'scoring': {'input_data_references': [{'connection': {'id': 'ae2a374b-85fd-4823-b6f5-95f11662324f'}, 'id': 'conn_db2', 'location': {'file_name': 'CUSTOMER', 'schema_name': 'PUT YOUR SCHEMA NAME HERE'}, 'type': 'connection_asset'}, {'connection': {'id': 'ae2a374b-85fd-4823-b6f5-95f11662324f'}, 'id': 'conn_db2', 'location': {'file_name': 'CUSTOMER_2', 'schema_name': 'PUT YOUR SCHEMA NAME HERE'}, 'type': 'connection_asset'}], 'output_data_reference': {'connection': {'id': 'ae2a374b-85fd-4823-b6f5-95f11662324f'}, 'id': 'conn_db2', 'location': {'file_name': 'OUTPUT', 'schema_name': 'PUT YOUR SCHEMA NAME HERE'}, 'type': 'connection_asset'}, 'status': {'completed_at': '2021-05-13T08:26:43.422Z', 'running_at': '2021-05-13T08:26:35.279Z', 'state': 'completed'}}}, 'metadata': {'created_at': '2021-05-13T08:26:23.663Z', 'id': '77973aa5-fbd0-41b8-9012-a4e2016a57dc', 'modified_at': '2021-05-13T08:26:43.622Z', 'name': 'name_3dc38b68-0227-4422-b7eb-b9bdd3f72d95', 'space_id': '680a7515-620c-461f-9c6f-1f4c535bfc47'}}\n"
     ]
    }
   ],
   "source": [
    "import time\n",
    "\n",
    "elapsed_time = 0\n",
    "while client.deployments.get_job_status(job_id).get('state') != 'completed' and elapsed_time < 300:\n",
    "    print(f\" Current state: {client.deployments.get_job_status(job_id).get('state')}\")\n",
    "    elapsed_time += 10\n",
    "    time.sleep(10)\n",
    "if client.deployments.get_job_status(job_id).get('state') == 'completed':\n",
    "    print(f\" Current state: {client.deployments.get_job_status(job_id).get('state')}\")\n",
    "    job_details_do = client.deployments.get_job_details(job_id)\n",
    "    print(job_details_do)\n",
    "else:\n",
    "    print(\"Job hasn't completed successfully in 5 minutes.\")"
   ]
  },
  {
   "cell_type": "markdown",
   "metadata": {},
   "source": [
    "#### Preview scored data\n",
    "\n",
    "In this subsection you will load scored data."
   ]
  },
  {
   "cell_type": "markdown",
   "metadata": {},
   "source": [
    "**Tip**: To install `requests` execute the following command: `!pip install requests`"
   ]
  },
  {
   "cell_type": "code",
   "execution_count": 19,
   "metadata": {},
   "outputs": [],
   "source": [
    "import requests"
   ]
  },
  {
   "cell_type": "code",
   "execution_count": 20,
   "metadata": {},
   "outputs": [],
   "source": [
    "host = db_credentials[\"https_url\"] + \"/dbapi/v3\"\n",
    "\n",
    "url = host + \"/auth/tokens\"\n",
    "token = requests.post(url, json={\n",
    "                             \"userid\": db_credentials[\"username\"],\n",
    "                             \"password\": db_credentials[\"password\"]}).json()['token']"
   ]
  },
  {
   "cell_type": "markdown",
   "metadata": {},
   "source": [
    "##### Get stored output using Db2 REST API"
   ]
  },
  {
   "cell_type": "code",
   "execution_count": 21,
   "metadata": {},
   "outputs": [],
   "source": [
    "auth_header = {\n",
    "    \"Authorization\": f\"Bearer {token}\"\n",
    "}\n",
    "\n",
    "sql_command = {\n",
    "    \"commands\": \"SELECT * FROM OUTPUT\",\n",
    "    \"limit\": 100,\n",
    "    \"separator\": \",\",\n",
    "    \"stop_on_error\": \"yes\"\n",
    "}"
   ]
  },
  {
   "cell_type": "code",
   "execution_count": 22,
   "metadata": {},
   "outputs": [],
   "source": [
    "url = host + \"/sql_jobs\"\n",
    "jobid = requests.post(url, headers=auth_header, json=sql_command).json()['id']"
   ]
  },
  {
   "cell_type": "code",
   "execution_count": 23,
   "metadata": {},
   "outputs": [],
   "source": [
    "resp = requests.get(f\"{url}/{jobid}\", headers=auth_header)\n",
    "\n",
    "results = resp.json()[\"results\"][0]\n",
    "columns = results[\"columns\"]\n",
    "rows = results[\"rows\"]"
   ]
  },
  {
   "cell_type": "markdown",
   "metadata": {},
   "source": [
    "##### Preview output using pandas DateFrame\n",
    "\n",
    "**Tip**: To install `pandas` execute following command: `!pip install pandas`"
   ]
  },
  {
   "cell_type": "code",
   "execution_count": 24,
   "metadata": {},
   "outputs": [
    {
     "data": {
      "text/html": [
       "<div>\n",
       "<style scoped>\n",
       "    .dataframe tbody tr th:only-of-type {\n",
       "        vertical-align: middle;\n",
       "    }\n",
       "\n",
       "    .dataframe tbody tr th {\n",
       "        vertical-align: top;\n",
       "    }\n",
       "\n",
       "    .dataframe thead th {\n",
       "        text-align: right;\n",
       "    }\n",
       "</style>\n",
       "<table border=\"1\" class=\"dataframe\">\n",
       "  <thead>\n",
       "    <tr style=\"text-align: right;\">\n",
       "      <th></th>\n",
       "      <th>customerID</th>\n",
       "      <th>Churn</th>\n",
       "      <th>Predicted Churn</th>\n",
       "      <th>Probability of Churn</th>\n",
       "    </tr>\n",
       "  </thead>\n",
       "  <tbody>\n",
       "    <tr>\n",
       "      <th>0</th>\n",
       "      <td>9237-HQITU</td>\n",
       "      <td>Yes</td>\n",
       "      <td>Yes</td>\n",
       "      <td>0.8829830706957551</td>\n",
       "    </tr>\n",
       "    <tr>\n",
       "      <th>1</th>\n",
       "      <td>3638-WEABW</td>\n",
       "      <td>No</td>\n",
       "      <td>No</td>\n",
       "      <td>0.0526309571556145</td>\n",
       "    </tr>\n",
       "    <tr>\n",
       "      <th>2</th>\n",
       "      <td>8665-UTDHZ</td>\n",
       "      <td>Yes</td>\n",
       "      <td>No</td>\n",
       "      <td>0.17411004057470159</td>\n",
       "    </tr>\n",
       "    <tr>\n",
       "      <th>3</th>\n",
       "      <td>8773-HHUOZ</td>\n",
       "      <td>Yes</td>\n",
       "      <td>No</td>\n",
       "      <td>0.48432324905415836</td>\n",
       "    </tr>\n",
       "    <tr>\n",
       "      <th>4</th>\n",
       "      <td>4080-IIARD</td>\n",
       "      <td>No</td>\n",
       "      <td>No</td>\n",
       "      <td>0.0920141258229612</td>\n",
       "    </tr>\n",
       "    <tr>\n",
       "      <th>5</th>\n",
       "      <td>6575-SUVOI</td>\n",
       "      <td>No</td>\n",
       "      <td>No</td>\n",
       "      <td>0.0920919392791626</td>\n",
       "    </tr>\n",
       "    <tr>\n",
       "      <th>6</th>\n",
       "      <td>7495-OOKFY</td>\n",
       "      <td>Yes</td>\n",
       "      <td>Yes</td>\n",
       "      <td>0.9721495250458333</td>\n",
       "    </tr>\n",
       "    <tr>\n",
       "      <th>7</th>\n",
       "      <td>0731-EBJQB</td>\n",
       "      <td>No</td>\n",
       "      <td>No</td>\n",
       "      <td>0.09059837844121355</td>\n",
       "    </tr>\n",
       "    <tr>\n",
       "      <th>8</th>\n",
       "      <td>1891-QRQSA</td>\n",
       "      <td>No</td>\n",
       "      <td>No</td>\n",
       "      <td>0.09210273951918213</td>\n",
       "    </tr>\n",
       "    <tr>\n",
       "      <th>9</th>\n",
       "      <td>5919-TMRGD</td>\n",
       "      <td>Yes</td>\n",
       "      <td>Yes</td>\n",
       "      <td>0.8942276923073484</td>\n",
       "    </tr>\n",
       "    <tr>\n",
       "      <th>10</th>\n",
       "      <td>9364-YKUVW</td>\n",
       "      <td>No</td>\n",
       "      <td>No</td>\n",
       "      <td>0.08573913673013789</td>\n",
       "    </tr>\n",
       "    <tr>\n",
       "      <th>11</th>\n",
       "      <td>7563-BIUPC</td>\n",
       "      <td>Yes</td>\n",
       "      <td>Yes</td>\n",
       "      <td>0.878469673954569</td>\n",
       "    </tr>\n",
       "    <tr>\n",
       "      <th>12</th>\n",
       "      <td>4183-MYFRB</td>\n",
       "      <td>No</td>\n",
       "      <td>No</td>\n",
       "      <td>0.41029784048995666</td>\n",
       "    </tr>\n",
       "    <tr>\n",
       "      <th>13</th>\n",
       "      <td>5729-KLZAR</td>\n",
       "      <td>Yes</td>\n",
       "      <td>Yes</td>\n",
       "      <td>0.9589057770843653</td>\n",
       "    </tr>\n",
       "    <tr>\n",
       "      <th>14</th>\n",
       "      <td>9102-OXKFY</td>\n",
       "      <td>No</td>\n",
       "      <td>No</td>\n",
       "      <td>0.0920128511710483</td>\n",
       "    </tr>\n",
       "    <tr>\n",
       "      <th>15</th>\n",
       "      <td>6078-VESFR</td>\n",
       "      <td>No</td>\n",
       "      <td>No</td>\n",
       "      <td>0.25027748128974314</td>\n",
       "    </tr>\n",
       "    <tr>\n",
       "      <th>16</th>\n",
       "      <td>9979-RGMZT</td>\n",
       "      <td>No</td>\n",
       "      <td>No</td>\n",
       "      <td>0.08438119760083618</td>\n",
       "    </tr>\n",
       "    <tr>\n",
       "      <th>17</th>\n",
       "      <td>1965-DDBWU</td>\n",
       "      <td>Yes</td>\n",
       "      <td>No</td>\n",
       "      <td>0.24591107604601636</td>\n",
       "    </tr>\n",
       "    <tr>\n",
       "      <th>18</th>\n",
       "      <td>7159-NOKYQ</td>\n",
       "      <td>No</td>\n",
       "      <td>No</td>\n",
       "      <td>0.008693015730152798</td>\n",
       "    </tr>\n",
       "    <tr>\n",
       "      <th>19</th>\n",
       "      <td>6778-YSNIH</td>\n",
       "      <td>No</td>\n",
       "      <td>No</td>\n",
       "      <td>0.04730024365943297</td>\n",
       "    </tr>\n",
       "  </tbody>\n",
       "</table>\n",
       "</div>"
      ],
      "text/plain": [
       "    customerID Churn Predicted Churn  Probability of Churn\n",
       "0   9237-HQITU   Yes             Yes    0.8829830706957551\n",
       "1   3638-WEABW    No              No    0.0526309571556145\n",
       "2   8665-UTDHZ   Yes              No   0.17411004057470159\n",
       "3   8773-HHUOZ   Yes              No   0.48432324905415836\n",
       "4   4080-IIARD    No              No    0.0920141258229612\n",
       "5   6575-SUVOI    No              No    0.0920919392791626\n",
       "6   7495-OOKFY   Yes             Yes    0.9721495250458333\n",
       "7   0731-EBJQB    No              No   0.09059837844121355\n",
       "8   1891-QRQSA    No              No   0.09210273951918213\n",
       "9   5919-TMRGD   Yes             Yes    0.8942276923073484\n",
       "10  9364-YKUVW    No              No   0.08573913673013789\n",
       "11  7563-BIUPC   Yes             Yes     0.878469673954569\n",
       "12  4183-MYFRB    No              No   0.41029784048995666\n",
       "13  5729-KLZAR   Yes             Yes    0.9589057770843653\n",
       "14  9102-OXKFY    No              No    0.0920128511710483\n",
       "15  6078-VESFR    No              No   0.25027748128974314\n",
       "16  9979-RGMZT    No              No   0.08438119760083618\n",
       "17  1965-DDBWU   Yes              No   0.24591107604601636\n",
       "18  7159-NOKYQ    No              No  0.008693015730152798\n",
       "19  6778-YSNIH    No              No   0.04730024365943297"
      ]
     },
     "execution_count": 24,
     "metadata": {},
     "output_type": "execute_result"
    }
   ],
   "source": [
    "import pandas as pd\n",
    "\n",
    "pd.DataFrame(data=rows, columns=columns)"
   ]
  },
  {
   "cell_type": "markdown",
   "metadata": {},
   "source": [
    "<a id=\"cleanup\"></a>\n",
    "## 6. Clean up "
   ]
  },
  {
   "cell_type": "markdown",
   "metadata": {},
   "source": [
    "If you want to clean up all created assets:\n",
    "- experiments\n",
    "- trainings\n",
    "- pipelines\n",
    "- model definitions\n",
    "- models\n",
    "- functions\n",
    "- deployments\n",
    "\n",
    "please follow up this sample [notebook](https://github.com/IBM/watson-machine-learning-samples/blob/master/cpd5.0/notebooks/python_sdk/instance-management/Machine%20Learning%20artifacts%20management.ipynb)."
   ]
  },
  {
   "cell_type": "markdown",
   "metadata": {},
   "source": [
    "<a id=\"summary\"></a>\n",
    "## 7. Summary and next steps     "
   ]
  },
  {
   "cell_type": "markdown",
   "metadata": {},
   "source": [
    "You successfully completed this notebook! You learned how to use Watson Machine Learning for SPSS model deployment and scoring. \n",
    " \n",
    "Check out our _<a href=\"https://ibm.github.io/watsonx-ai-python-sdk/samples.html\" target=\"_blank\" rel=\"noopener no referrer\">Online Documentation</a>_ for more samples, tutorials, documentation, how-tos, and blog posts. "
   ]
  },
  {
   "cell_type": "markdown",
   "metadata": {},
   "source": [
    "### Author\n",
    "\n",
    "**Jan Sołtysik**, Intern in Watson Machine Learning."
   ]
  },
  {
   "cell_type": "markdown",
   "metadata": {},
   "source": [
    "Copyright © 2020-2024 IBM. This notebook and its source code are released under the terms of the MIT License."
   ]
  }
 ],
 "metadata": {
  "kernelspec": {
   "display_name": "Python 3 (ipykernel)",
   "language": "python",
   "name": "python3"
  },
  "language_info": {
   "codemirror_mode": {
    "name": "ipython",
    "version": 3
   },
   "file_extension": ".py",
   "mimetype": "text/x-python",
   "name": "python",
   "nbconvert_exporter": "python",
   "pygments_lexer": "ipython3",
   "version": "3.11.9"
  }
 },
 "nbformat": 4,
 "nbformat_minor": 4
}
