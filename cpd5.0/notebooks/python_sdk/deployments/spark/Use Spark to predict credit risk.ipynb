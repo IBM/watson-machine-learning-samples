{
 "cells": [
  {
   "cell_type": "markdown",
   "metadata": {
    "pycharm": {
     "name": "#%% md\n"
    }
   },
   "source": [
    "# Use Spark to predict credit risk with `ibm-watsonx-ai`\n",
    "\n",
    "This notebook introduces commands for model persistance to Watson Machine Learning repository, model deployment, and scoring.\n",
    "\n",
    "Some familiarity with Python is helpful. This notebook uses Python 3.11 and Apache® Spark 3.4.\n",
    "\n",
    "You will use **German Credit Risk** dataset."
   ]
  },
  {
   "cell_type": "markdown",
   "metadata": {
    "pycharm": {
     "name": "#%% md\n"
    }
   },
   "source": [
    "## Learning goals\n",
    "\n",
    "The learning goals of this notebook are:\n",
    "\n",
    "-  Load a CSV file into an Apache® Spark DataFrame.\n",
    "-  Explore data.\n",
    "-  Prepare data for training and evaluation.\n",
    "-  Persist a pipeline and model in Watson Machine Learning repository from tar.gz files.\n",
    "-  Deploy a model for online scoring using Wastson Machine Learning API.\n",
    "-  Score sample scoring data using the Watson Machine Learning API.\n",
    "-  Explore and visualize prediction result using the plotly package.\n",
    "\n",
    "\n",
    "## Contents\n",
    "\n",
    "This notebook contains the following parts:\n",
    "\n",
    "1. [Set up](#setup)\n",
    "2. [Load and explore data](#load)\n",
    "3. [Persist model](#upload)\n",
    "4. [Predict locally](#visualization)\n",
    "5. [Deploy and score](#deploy)\n",
    "6. [Clean up](#cleanup)\n",
    "7. [Summary and next steps](#summary)"
   ]
  },
  {
   "cell_type": "markdown",
   "metadata": {
    "pycharm": {
     "name": "#%% md\n"
    }
   },
   "source": [
    "<a id=\"setup\"></a>\n",
    "## 1. Set up the environment\n",
    "\n",
    "Before you use the sample code in this notebook, you must perform the following setup tasks:\n",
    "\n",
    "-  Contact with your Cloud Pack for Data administrator and ask him for your account credentials"
   ]
  },
  {
   "cell_type": "markdown",
   "metadata": {},
   "source": [
    "### Install and import the `ibm-watsonx-ai` and dependecies\n",
    "**Note:** `ibm-watsonx-ai` documentation can be found <a href=\"https://ibm.github.io/watsonx-ai-python-sdk/index.html\" target=\"_blank\" rel=\"noopener no referrer\">here</a>."
   ]
  },
  {
   "cell_type": "code",
   "execution_count": null,
   "metadata": {},
   "outputs": [],
   "source": [
    "!pip install wget | tail -n 1\n",
    "!pip install pyspark==3.4.3 | tail -n 1\n",
    "!pip install -U ibm-watsonx-ai | tail -n 1"
   ]
  },
  {
   "cell_type": "markdown",
   "metadata": {
    "pycharm": {
     "name": "#%% md\n"
    }
   },
   "source": [
    "### Connection to WML\n",
    "\n",
    "Authenticate the Watson Machine Learning service on IBM Cloud Pack for Data. You need to provide platform `url`, your `username` and `api_key`."
   ]
  },
  {
   "cell_type": "code",
   "execution_count": 1,
   "metadata": {
    "pycharm": {
     "name": "#%%\n"
    }
   },
   "outputs": [],
   "source": [
    "username = 'PASTE YOUR USERNAME HERE'\n",
    "api_key = 'PASTE YOUR API_KEY HERE'\n",
    "url = 'PASTE THE PLATFORM URL HERE'"
   ]
  },
  {
   "cell_type": "code",
   "execution_count": 2,
   "metadata": {
    "pycharm": {
     "name": "#%%\n"
    }
   },
   "outputs": [],
   "source": [
    "from ibm_watsonx_ai import Credentials\n",
    "\n",
    "credentials = Credentials(\n",
    "    username=username,\n",
    "    api_key=api_key,\n",
    "    url=url,\n",
    "    instance_id=\"openshift\",\n",
    "    version=\"5.0\"\n",
    ")"
   ]
  },
  {
   "cell_type": "markdown",
   "metadata": {
    "pycharm": {
     "name": "#%% md\n"
    }
   },
   "source": [
    "Alternatively you can use `username` and `password` to authenticate WML services.\n",
    "\n",
    "```python\n",
    "credentials = Credentials(\n",
    "    username=***,\n",
    "    password=***,\n",
    "    url=***,\n",
    "    instance_id=\"openshift\",\n",
    "    version=\"5.0\"\n",
    ")\n",
    "\n",
    "```"
   ]
  },
  {
   "cell_type": "markdown",
   "metadata": {},
   "source": [
    "**Note:** After installation/update of `ibm-watsonx-ai` package, please restart notebook kernel to make sure the installed version of the package is used."
   ]
  },
  {
   "cell_type": "code",
   "execution_count": 3,
   "metadata": {
    "pycharm": {
     "name": "#%%\n"
    }
   },
   "outputs": [],
   "source": [
    "from ibm_watsonx_ai import APIClient\n",
    "\n",
    "client = APIClient(credentials)"
   ]
  },
  {
   "cell_type": "markdown",
   "metadata": {
    "pycharm": {
     "name": "#%% md\n"
    }
   },
   "source": [
    "### Working with spaces\n",
    "\n",
    "First of all, you need to create a space that will be used for your work. If you do not have space already created, you can use `{PLATFORM_URL}/ml-runtime/spaces?context=icp4data` to create one.\n",
    "\n",
    "- Click New Deployment Space\n",
    "- Create an empty space\n",
    "- Go to space `Settings` tab\n",
    "- Copy `space_id` and paste it below\n",
    "\n",
    "**Tip**: You can also use SDK to prepare the space for your work. More information can be found [here](https://github.com/IBM/watson-machine-learning-samples/blob/master/cpd5.0/notebooks/python_sdk/instance-management/Space%20management.ipynb).\n",
    "\n",
    "**Action**: Assign space ID below"
   ]
  },
  {
   "cell_type": "code",
   "execution_count": 4,
   "metadata": {
    "pycharm": {
     "name": "#%%\n"
    }
   },
   "outputs": [],
   "source": [
    "space_id = 'PASTE YOUR SPACE ID HERE'"
   ]
  },
  {
   "cell_type": "markdown",
   "metadata": {
    "pycharm": {
     "name": "#%% md\n"
    }
   },
   "source": [
    "You can use `list` method to print all existing spaces."
   ]
  },
  {
   "cell_type": "code",
   "execution_count": null,
   "metadata": {
    "pycharm": {
     "name": "#%%\n"
    }
   },
   "outputs": [],
   "source": [
    "client.spaces.list(limit=10)"
   ]
  },
  {
   "cell_type": "markdown",
   "metadata": {
    "pycharm": {
     "name": "#%% md\n"
    }
   },
   "source": [
    "To be able to interact with all resources available in Watson Machine Learning, you need to set **space** which you will be using."
   ]
  },
  {
   "cell_type": "code",
   "execution_count": 5,
   "metadata": {
    "pycharm": {
     "name": "#%%\n"
    }
   },
   "outputs": [
    {
     "data": {
      "text/plain": [
       "'SUCCESS'"
      ]
     },
     "execution_count": 5,
     "metadata": {},
     "output_type": "execute_result"
    }
   ],
   "source": [
    "client.set.default_space(space_id)"
   ]
  },
  {
   "cell_type": "markdown",
   "metadata": {
    "pycharm": {
     "name": "#%% md\n"
    }
   },
   "source": [
    "### Test Spark"
   ]
  },
  {
   "cell_type": "code",
   "execution_count": 6,
   "metadata": {
    "pycharm": {
     "name": "#%%\n"
    }
   },
   "outputs": [],
   "source": [
    "try:\n",
    "    from pyspark.sql import SparkSession\n",
    "except:\n",
    "    print('Error: Spark runtime is missing. If you are using Watson Studio change the notebook runtime to Spark.')\n",
    "    raise"
   ]
  },
  {
   "cell_type": "markdown",
   "metadata": {
    "pycharm": {
     "name": "#%% md\n"
    }
   },
   "source": [
    "<a id=\"load\"></a>\n",
    "## 2. Load and explore data"
   ]
  },
  {
   "cell_type": "markdown",
   "metadata": {
    "pycharm": {
     "name": "#%% md\n"
    }
   },
   "source": [
    "In this section you will load the data as an Apache® Spark DataFrame and perform a basic exploration.\n",
    " "
   ]
  },
  {
   "cell_type": "markdown",
   "metadata": {
    "pycharm": {
     "name": "#%% md\n"
    }
   },
   "source": [
    "The csv file for German Credit Risk is available on the same repository as this notebook. Load the file to Apache® Spark DataFrame using code below."
   ]
  },
  {
   "cell_type": "code",
   "execution_count": 7,
   "metadata": {
    "pycharm": {
     "name": "#%%\n"
    }
   },
   "outputs": [],
   "source": [
    "import os\n",
    "from wget import download\n",
    "\n",
    "sample_dir = 'spark_sample_model'\n",
    "if not os.path.isdir(sample_dir):\n",
    "    os.mkdir(sample_dir)\n",
    "    \n",
    "filename = os.path.join(sample_dir, 'credit_risk_training.csv')\n",
    "if not os.path.isfile(filename):\n",
    "    filename = download('https://github.com/IBM/watson-machine-learning-samples/raw/master/cpd5.0/data/credit_risk/credit_risk_training.csv', out=sample_dir)"
   ]
  },
  {
   "cell_type": "code",
   "execution_count": null,
   "metadata": {
    "pycharm": {
     "name": "#%%\n"
    }
   },
   "outputs": [],
   "source": [
    "spark = SparkSession.builder.getOrCreate()\n",
    "\n",
    "df_data = spark.read\\\n",
    "  .format('org.apache.spark.sql.execution.datasources.csv.CSVFileFormat')\\\n",
    "  .option('header', 'true')\\\n",
    "  .option('inferSchema', 'true')\\\n",
    "  .load(filename)"
   ]
  },
  {
   "cell_type": "markdown",
   "metadata": {
    "pycharm": {
     "name": "#%% md\n"
    }
   },
   "source": [
    "Explore the loaded data by using the following Apache® Spark DataFrame methods:\n",
    "-  print schema\n",
    "-  print top ten records\n",
    "-  count all records"
   ]
  },
  {
   "cell_type": "code",
   "execution_count": 9,
   "metadata": {
    "pycharm": {
     "name": "#%%\n"
    }
   },
   "outputs": [
    {
     "name": "stdout",
     "output_type": "stream",
     "text": [
      "root\n",
      " |-- CheckingStatus: string (nullable = true)\n",
      " |-- LoanDuration: integer (nullable = true)\n",
      " |-- CreditHistory: string (nullable = true)\n",
      " |-- LoanPurpose: string (nullable = true)\n",
      " |-- LoanAmount: integer (nullable = true)\n",
      " |-- ExistingSavings: string (nullable = true)\n",
      " |-- EmploymentDuration: string (nullable = true)\n",
      " |-- InstallmentPercent: integer (nullable = true)\n",
      " |-- Sex: string (nullable = true)\n",
      " |-- OthersOnLoan: string (nullable = true)\n",
      " |-- CurrentResidenceDuration: integer (nullable = true)\n",
      " |-- OwnsProperty: string (nullable = true)\n",
      " |-- Age: integer (nullable = true)\n",
      " |-- InstallmentPlans: string (nullable = true)\n",
      " |-- Housing: string (nullable = true)\n",
      " |-- ExistingCreditsCount: integer (nullable = true)\n",
      " |-- Job: string (nullable = true)\n",
      " |-- Dependents: integer (nullable = true)\n",
      " |-- Telephone: string (nullable = true)\n",
      " |-- ForeignWorker: string (nullable = true)\n",
      " |-- Risk: string (nullable = true)\n",
      "\n"
     ]
    }
   ],
   "source": [
    "df_data.printSchema()"
   ]
  },
  {
   "cell_type": "markdown",
   "metadata": {
    "pycharm": {
     "name": "#%% md\n"
    }
   },
   "source": [
    "As you can see, the data contains 21 fields. Risk field is the one we would like to predict (label)."
   ]
  },
  {
   "cell_type": "code",
   "execution_count": 10,
   "metadata": {
    "pycharm": {
     "name": "#%%\n"
    }
   },
   "outputs": [
    {
     "name": "stdout",
     "output_type": "stream",
     "text": [
      "-RECORD 0------------------------------------------\n",
      " CheckingStatus           | 0_to_200               \n",
      " LoanDuration             | 31                     \n",
      " CreditHistory            | credits_paid_to_date   \n",
      " LoanPurpose              | other                  \n",
      " LoanAmount               | 1889                   \n",
      " ExistingSavings          | 100_to_500             \n",
      " EmploymentDuration       | less_1                 \n",
      " InstallmentPercent       | 3                      \n",
      " Sex                      | female                 \n",
      " OthersOnLoan             | none                   \n",
      " CurrentResidenceDuration | 3                      \n",
      " OwnsProperty             | savings_insurance      \n",
      " Age                      | 32                     \n",
      " InstallmentPlans         | none                   \n",
      " Housing                  | own                    \n",
      " ExistingCreditsCount     | 1                      \n",
      " Job                      | skilled                \n",
      " Dependents               | 1                      \n",
      " Telephone                | none                   \n",
      " ForeignWorker            | yes                    \n",
      " Risk                     | No Risk                \n",
      "-RECORD 1------------------------------------------\n",
      " CheckingStatus           | less_0                 \n",
      " LoanDuration             | 18                     \n",
      " CreditHistory            | credits_paid_to_date   \n",
      " LoanPurpose              | car_new                \n",
      " LoanAmount               | 462                    \n",
      " ExistingSavings          | less_100               \n",
      " EmploymentDuration       | 1_to_4                 \n",
      " InstallmentPercent       | 2                      \n",
      " Sex                      | female                 \n",
      " OthersOnLoan             | none                   \n",
      " CurrentResidenceDuration | 2                      \n",
      " OwnsProperty             | savings_insurance      \n",
      " Age                      | 37                     \n",
      " InstallmentPlans         | stores                 \n",
      " Housing                  | own                    \n",
      " ExistingCreditsCount     | 2                      \n",
      " Job                      | skilled                \n",
      " Dependents               | 1                      \n",
      " Telephone                | none                   \n",
      " ForeignWorker            | yes                    \n",
      " Risk                     | No Risk                \n",
      "-RECORD 2------------------------------------------\n",
      " CheckingStatus           | less_0                 \n",
      " LoanDuration             | 15                     \n",
      " CreditHistory            | prior_payments_delayed \n",
      " LoanPurpose              | furniture              \n",
      " LoanAmount               | 250                    \n",
      " ExistingSavings          | less_100               \n",
      " EmploymentDuration       | 1_to_4                 \n",
      " InstallmentPercent       | 2                      \n",
      " Sex                      | male                   \n",
      " OthersOnLoan             | none                   \n",
      " CurrentResidenceDuration | 3                      \n",
      " OwnsProperty             | real_estate            \n",
      " Age                      | 28                     \n",
      " InstallmentPlans         | none                   \n",
      " Housing                  | own                    \n",
      " ExistingCreditsCount     | 2                      \n",
      " Job                      | skilled                \n",
      " Dependents               | 1                      \n",
      " Telephone                | yes                    \n",
      " ForeignWorker            | no                     \n",
      " Risk                     | No Risk                \n",
      "-RECORD 3------------------------------------------\n",
      " CheckingStatus           | 0_to_200               \n",
      " LoanDuration             | 28                     \n",
      " CreditHistory            | credits_paid_to_date   \n",
      " LoanPurpose              | retraining             \n",
      " LoanAmount               | 3693                   \n",
      " ExistingSavings          | less_100               \n",
      " EmploymentDuration       | greater_7              \n",
      " InstallmentPercent       | 3                      \n",
      " Sex                      | male                   \n",
      " OthersOnLoan             | none                   \n",
      " CurrentResidenceDuration | 2                      \n",
      " OwnsProperty             | savings_insurance      \n",
      " Age                      | 32                     \n",
      " InstallmentPlans         | none                   \n",
      " Housing                  | own                    \n",
      " ExistingCreditsCount     | 1                      \n",
      " Job                      | skilled                \n",
      " Dependents               | 1                      \n",
      " Telephone                | none                   \n",
      " ForeignWorker            | yes                    \n",
      " Risk                     | No Risk                \n",
      "-RECORD 4------------------------------------------\n",
      " CheckingStatus           | no_checking            \n",
      " LoanDuration             | 28                     \n",
      " CreditHistory            | prior_payments_delayed \n",
      " LoanPurpose              | education              \n",
      " LoanAmount               | 6235                   \n",
      " ExistingSavings          | 500_to_1000            \n",
      " EmploymentDuration       | greater_7              \n",
      " InstallmentPercent       | 3                      \n",
      " Sex                      | male                   \n",
      " OthersOnLoan             | none                   \n",
      " CurrentResidenceDuration | 3                      \n",
      " OwnsProperty             | unknown                \n",
      " Age                      | 57                     \n",
      " InstallmentPlans         | none                   \n",
      " Housing                  | own                    \n",
      " ExistingCreditsCount     | 2                      \n",
      " Job                      | skilled                \n",
      " Dependents               | 1                      \n",
      " Telephone                | none                   \n",
      " ForeignWorker            | yes                    \n",
      " Risk                     | Risk                   \n",
      "only showing top 5 rows\n",
      "\n"
     ]
    }
   ],
   "source": [
    "df_data.show(n=5, truncate=False, vertical=True)"
   ]
  },
  {
   "cell_type": "code",
   "execution_count": 11,
   "metadata": {
    "pycharm": {
     "name": "#%%\n"
    }
   },
   "outputs": [
    {
     "name": "stdout",
     "output_type": "stream",
     "text": [
      "Number of records: 5000\n"
     ]
    }
   ],
   "source": [
    "print(\"Number of records: \" + str(df_data.count()))"
   ]
  },
  {
   "cell_type": "markdown",
   "metadata": {
    "pycharm": {
     "name": "#%% md\n"
    }
   },
   "source": [
    "As you can see, the data set contains 5000 records."
   ]
  },
  {
   "cell_type": "markdown",
   "metadata": {
    "pycharm": {
     "name": "#%% md\n"
    }
   },
   "source": [
    "### 2.1 Prepare data\n",
    "\n",
    "In this subsection you will split your data into: train, test and predict datasets."
   ]
  },
  {
   "cell_type": "code",
   "execution_count": 12,
   "metadata": {
    "pycharm": {
     "name": "#%%\n"
    }
   },
   "outputs": [
    {
     "name": "stderr",
     "output_type": "stream",
     "text": [
      "                                                                                \r"
     ]
    },
    {
     "name": "stdout",
     "output_type": "stream",
     "text": [
      "Number of training records: 4005\n",
      "Number of testing records : 901\n",
      "Number of prediction records : 94\n"
     ]
    }
   ],
   "source": [
    "splitted_data = df_data.randomSplit([0.8, 0.18, 0.02], 24)\n",
    "train_data = splitted_data[0]\n",
    "test_data = splitted_data[1]\n",
    "predict_data = splitted_data[2]\n",
    "\n",
    "print(\"Number of training records: \" + str(train_data.count()))\n",
    "print(\"Number of testing records : \" + str(test_data.count()))\n",
    "print(\"Number of prediction records : \" + str(predict_data.count()))"
   ]
  },
  {
   "cell_type": "markdown",
   "metadata": {
    "pycharm": {
     "name": "#%% md\n"
    }
   },
   "source": [
    "As you can see our data has been successfully split into three datasets: \n",
    "\n",
    "-  The train data set, which is the largest group, is used for training.\n",
    "-  The test data set will be used for model evaluation and is used to test the assumptions of the model.\n",
    "-  The predict data set will be used for prediction."
   ]
  },
  {
   "cell_type": "markdown",
   "metadata": {
    "pycharm": {
     "name": "#%% md\n"
    }
   },
   "source": [
    "<a id=\"upload\"></a>\n",
    "## 3. Persist model"
   ]
  },
  {
   "cell_type": "markdown",
   "metadata": {
    "pycharm": {
     "name": "#%% md\n"
    }
   },
   "source": [
    "In this section you will learn how to store your pipeline and model in Watson Machine Learning repository by using python client libraries."
   ]
  },
  {
   "cell_type": "markdown",
   "metadata": {
    "pycharm": {
     "name": "#%% md\n"
    }
   },
   "source": [
    "**Note**: Apache® Spark 3.4 is required."
   ]
  },
  {
   "cell_type": "markdown",
   "metadata": {
    "pycharm": {
     "name": "#%% md\n"
    }
   },
   "source": [
    "### 3.1: Save pipeline and model"
   ]
  },
  {
   "cell_type": "markdown",
   "metadata": {
    "pycharm": {
     "name": "#%% md\n"
    }
   },
   "source": [
    "In this subsection you will learn how to save pipeline and model artifacts to your Watson Machine Learning instance."
   ]
  },
  {
   "cell_type": "markdown",
   "metadata": {
    "pycharm": {
     "name": "#%% md\n"
    }
   },
   "source": [
    "**Download pipeline and model archives**"
   ]
  },
  {
   "cell_type": "code",
   "execution_count": 13,
   "metadata": {
    "pycharm": {
     "name": "#%%\n"
    }
   },
   "outputs": [],
   "source": [
    "import os\n",
    "from wget import download\n",
    "\n",
    "sample_dir = 'spark_sample_model'\n",
    "if not os.path.isdir(sample_dir):\n",
    "    os.mkdir(sample_dir)\n",
    "    \n",
    "pipeline_filename = os.path.join(sample_dir, 'credit_risk_spark_pipeline.tar.gz')\n",
    "if not os.path.isfile(pipeline_filename):\n",
    "    pipeline_filename = download('https://github.com/IBM/watson-machine-learning-samples/raw/master/cpd5.0/models/spark/credit-risk/model/credit_risk_spark_pipeline.tar.gz', out=sample_dir)\n",
    "model_filename = os.path.join(sample_dir, 'credit_risk_spark_model.gz')\n",
    "if not os.path.isfile(model_filename):\n",
    "    model_filename = download('https://github.com/IBM/watson-machine-learning-samples/raw/master/cpd5.0/models/spark/credit-risk/model/credit_risk_spark_model.gz', out=sample_dir)"
   ]
  },
  {
   "cell_type": "markdown",
   "metadata": {
    "pycharm": {
     "name": "#%% md\n"
    }
   },
   "source": [
    "**Store piepline and model**"
   ]
  },
  {
   "cell_type": "markdown",
   "metadata": {
    "pycharm": {
     "name": "#%% md\n"
    }
   },
   "source": [
    "To be able to store your Spark model, you need to provide a training data reference, this will allow to read the model schema automatically."
   ]
  },
  {
   "cell_type": "code",
   "execution_count": 14,
   "metadata": {
    "pycharm": {
     "name": "#%%\n"
    }
   },
   "outputs": [],
   "source": [
    "training_data_references = [\n",
    "                {\n",
    "                    \"type\": \"fs\",\n",
    "                    \"connection\": {},\n",
    "                    \"location\": {},\n",
    "                    \"schema\": {\n",
    "                    \"id\": \"training_schema\",\n",
    "                    \"fields\": [\n",
    "                      {\n",
    "                        \"metadata\": {},\n",
    "                        \"name\": \"CheckingStatus\",\n",
    "                        \"nullable\": True,\n",
    "                        \"type\": \"string\"\n",
    "                      },\n",
    "                      {\n",
    "                        \"metadata\": {},\n",
    "                        \"name\": \"LoanDuration\",\n",
    "                        \"nullable\": True,\n",
    "                        \"type\": \"integer\"\n",
    "                      },\n",
    "                      {\n",
    "                        \"metadata\": {},\n",
    "                        \"name\": \"CreditHistory\",\n",
    "                        \"nullable\": True,\n",
    "                        \"type\": \"string\"\n",
    "                      },\n",
    "                      {\n",
    "                        \"metadata\": {},\n",
    "                        \"name\": \"LoanPurpose\",\n",
    "                        \"nullable\": True,\n",
    "                        \"type\": \"string\"\n",
    "                      },\n",
    "                      {\n",
    "                        \"metadata\": {},\n",
    "                        \"name\": \"LoanAmount\",\n",
    "                        \"nullable\": True,\n",
    "                        \"type\": \"integer\"\n",
    "                      },\n",
    "                      {\n",
    "                        \"metadata\": {},\n",
    "                        \"name\": \"ExistingSavings\",\n",
    "                        \"nullable\": True,\n",
    "                        \"type\": \"string\"\n",
    "                      },\n",
    "                      {\n",
    "                        \"metadata\": {},\n",
    "                        \"name\": \"EmploymentDuration\",\n",
    "                        \"nullable\": True,\n",
    "                        \"type\": \"string\"\n",
    "                      },\n",
    "                      {\n",
    "                        \"metadata\": {},\n",
    "                        \"name\": \"InstallmentPercent\",\n",
    "                        \"nullable\": True,\n",
    "                        \"type\": \"integer\"\n",
    "                      },\n",
    "                      {\n",
    "                        \"metadata\": {},\n",
    "                        \"name\": \"Sex\",\n",
    "                        \"nullable\": True,\n",
    "                        \"type\": \"string\"\n",
    "                      },\n",
    "                      {\n",
    "                        \"metadata\": {},\n",
    "                        \"name\": \"OthersOnLoan\",\n",
    "                        \"nullable\": True,\n",
    "                        \"type\": \"string\"\n",
    "                      },\n",
    "                      {\n",
    "                        \"metadata\": {},\n",
    "                        \"name\": \"CurrentResidenceDuration\",\n",
    "                        \"nullable\": True,\n",
    "                        \"type\": \"integer\"\n",
    "                      },\n",
    "                      {\n",
    "                        \"metadata\": {},\n",
    "                        \"name\": \"OwnsProperty\",\n",
    "                        \"nullable\": True,\n",
    "                        \"type\": \"string\"\n",
    "                      },\n",
    "                      {\n",
    "                        \"metadata\": {},\n",
    "                        \"name\": \"Age\",\n",
    "                        \"nullable\": True,\n",
    "                        \"type\": \"integer\"\n",
    "                      },\n",
    "                      {\n",
    "                        \"metadata\": {},\n",
    "                        \"name\": \"InstallmentPlans\",\n",
    "                        \"nullable\": True,\n",
    "                        \"type\": \"string\"\n",
    "                      },\n",
    "                      {\n",
    "                        \"metadata\": {},\n",
    "                        \"name\": \"Housing\",\n",
    "                        \"nullable\": True,\n",
    "                        \"type\": \"string\"\n",
    "                      },\n",
    "                      {\n",
    "                        \"metadata\": {},\n",
    "                        \"name\": \"ExistingCreditsCount\",\n",
    "                        \"nullable\": True,\n",
    "                        \"type\": \"integer\"\n",
    "                      },\n",
    "                      {\n",
    "                        \"metadata\": {},\n",
    "                        \"name\": \"Job\",\n",
    "                        \"nullable\": True,\n",
    "                        \"type\": \"string\"\n",
    "                      },\n",
    "                      {\n",
    "                        \"metadata\": {},\n",
    "                        \"name\": \"Dependents\",\n",
    "                        \"nullable\": True,\n",
    "                        \"type\": \"integer\"\n",
    "                      },\n",
    "                      {\n",
    "                        \"metadata\": {},\n",
    "                        \"name\": \"Telephone\",\n",
    "                        \"nullable\": True,\n",
    "                        \"type\": \"string\"\n",
    "                      },\n",
    "                      {\n",
    "                        \"metadata\": {},\n",
    "                        \"name\": \"ForeignWorker\",\n",
    "                        \"nullable\": True,\n",
    "                        \"type\": \"string\"\n",
    "                      },\n",
    "                      {\n",
    "                        \"metadata\": {\n",
    "                          \"modeling_role\": \"target\"\n",
    "                        },\n",
    "                        \"name\": \"Risk\",\n",
    "                        \"nullable\": True,\n",
    "                        \"type\": \"string\"\n",
    "                      }\n",
    "                    ]\n",
    "                  }\n",
    "                }\n",
    "]"
   ]
  },
  {
   "cell_type": "code",
   "execution_count": 15,
   "metadata": {
    "pycharm": {
     "name": "#%%\n"
    }
   },
   "outputs": [],
   "source": [
    "published_model_details = client.repository.store_model(\n",
    "    model=model_filename, \n",
    "    meta_props={\n",
    "        client.repository.ModelMetaNames.NAME:'Credit Risk model',\n",
    "        client.repository.ModelMetaNames.TYPE: \"mllib_3.4\",\n",
    "        client.repository.ModelMetaNames.SOFTWARE_SPEC_ID: client.software_specifications.get_id_by_name('spark-mllib_3.4'),\n",
    "        client.repository.ModelMetaNames.TRAINING_DATA_REFERENCES: training_data_references,\n",
    "        client.repository.ModelMetaNames.LABEL_FIELD: \"Risk\",\n",
    "    }, \n",
    "    training_data=train_data, \n",
    "    pipeline=pipeline_filename)"
   ]
  },
  {
   "cell_type": "code",
   "execution_count": 16,
   "metadata": {
    "pycharm": {
     "name": "#%%\n"
    }
   },
   "outputs": [
    {
     "name": "stdout",
     "output_type": "stream",
     "text": [
      "2b2b1e1b-d8b2-4e11-9918-78450a46dca0\n"
     ]
    }
   ],
   "source": [
    "model_id = client.repository.get_model_id(published_model_details)\n",
    "print(model_id)"
   ]
  },
  {
   "cell_type": "code",
   "execution_count": null,
   "metadata": {
    "pycharm": {
     "name": "#%%\n"
    }
   },
   "outputs": [],
   "source": [
    "client.repository.get_model_details(model_id)"
   ]
  },
  {
   "cell_type": "markdown",
   "metadata": {
    "pycharm": {
     "name": "#%% md\n"
    }
   },
   "source": [
    "Get saved model metadata from Watson Machine Learning."
   ]
  },
  {
   "cell_type": "markdown",
   "metadata": {
    "pycharm": {
     "name": "#%% md\n"
    }
   },
   "source": [
    "**Tip**: Use `client.repository.ModelMetaNames.show()` to get the list of available props."
   ]
  },
  {
   "cell_type": "code",
   "execution_count": 19,
   "metadata": {
    "pycharm": {
     "name": "#%%\n"
    }
   },
   "outputs": [
    {
     "name": "stdout",
     "output_type": "stream",
     "text": [
      "------------------------  ----  --------  ------------------------------------------------------------------------------------------------------------------------------------------------------------------------------------------------------------------------------------------------------------------------------------------------------------------------------------------------------------------------------------------------------------------------------------\n",
      "META_PROP NAME            TYPE  REQUIRED  SCHEMA\n",
      "NAME                      str   Y\n",
      "DESCRIPTION               str   N\n",
      "INPUT_DATA_SCHEMA         list  N         {'id(required)': 'string', 'fields(required)': [{'name(required)': 'string', 'type(required)': 'string', 'nullable(optional)': 'string'}]}\n",
      "TRAINING_DATA_REFERENCES  list  N         [{'name(optional)': 'string', 'type(required)': 'string', 'connection(required)': {'endpoint_url(required)': 'string', 'access_key_id(required)': 'string', 'secret_access_key(required)': 'string'}, 'location(required)': {'bucket': 'string', 'path': 'string'}, 'schema(optional)': {'id(required)': 'string', 'fields(required)': [{'name(required)': 'string', 'type(required)': 'string', 'nullable(optional)': 'string'}]}}]\n",
      "TEST_DATA_REFERENCES      list  N         [{'name(optional)': 'string', 'type(required)': 'string', 'connection(required)': {'endpoint_url(required)': 'string', 'access_key_id(required)': 'string', 'secret_access_key(required)': 'string'}, 'location(required)': {'bucket': 'string', 'path': 'string'}, 'schema(optional)': {'id(required)': 'string', 'fields(required)': [{'name(required)': 'string', 'type(required)': 'string', 'nullable(optional)': 'string'}]}}]\n",
      "OUTPUT_DATA_SCHEMA        dict  N         {'id(required)': 'string', 'fields(required)': [{'name(required)': 'string', 'type(required)': 'string', 'nullable(optional)': 'string'}]}\n",
      "LABEL_FIELD               str   N\n",
      "TRANSFORMED_LABEL_FIELD   str   N\n",
      "TAGS                      list  N         ['string', 'string']\n",
      "SIZE                      dict  N         {'in_memory(optional)': 'string', 'content(optional)': 'string'}\n",
      "PIPELINE_ID               str   N\n",
      "RUNTIME_ID                str   N\n",
      "TYPE                      str   Y\n",
      "CUSTOM                    dict  N\n",
      "DOMAIN                    str   N\n",
      "HYPER_PARAMETERS          dict  N\n",
      "METRICS                   list  N\n",
      "IMPORT                    dict  N         {'name(optional)': 'string', 'type(required)': 'string', 'connection(required)': {'endpoint_url(required)': 'string', 'access_key_id(required)': 'string', 'secret_access_key(required)': 'string'}, 'location(required)': {'bucket': 'string', 'path': 'string'}}\n",
      "TRAINING_LIB_ID           str   N\n",
      "MODEL_DEFINITION_ID       str   N\n",
      "SOFTWARE_SPEC_ID          str   N\n",
      "TF_MODEL_PARAMS           dict  N\n",
      "FAIRNESS_INFO             dict  N\n",
      "------------------------  ----  --------  ------------------------------------------------------------------------------------------------------------------------------------------------------------------------------------------------------------------------------------------------------------------------------------------------------------------------------------------------------------------------------------------------------------------------------------\n"
     ]
    }
   ],
   "source": [
    "client.repository.ModelMetaNames.show()"
   ]
  },
  {
   "cell_type": "markdown",
   "metadata": {
    "pycharm": {
     "name": "#%% md\n"
    }
   },
   "source": [
    "### 3.2: Load model"
   ]
  },
  {
   "cell_type": "markdown",
   "metadata": {
    "pycharm": {
     "name": "#%% md\n"
    }
   },
   "source": [
    "In this subsection you will learn how to load back saved model from specified instance of Watson Machine Learning."
   ]
  },
  {
   "cell_type": "code",
   "execution_count": 17,
   "metadata": {
    "pycharm": {
     "name": "#%%\n"
    }
   },
   "outputs": [
    {
     "name": "stderr",
     "output_type": "stream",
     "text": [
      "                                                                                \r"
     ]
    }
   ],
   "source": [
    "loaded_model = client.repository.load(model_id)"
   ]
  },
  {
   "cell_type": "markdown",
   "metadata": {
    "pycharm": {
     "name": "#%% md\n"
    }
   },
   "source": [
    "You can print for example model name to make sure that model has been loaded correctly."
   ]
  },
  {
   "cell_type": "code",
   "execution_count": 18,
   "metadata": {
    "pycharm": {
     "name": "#%%\n"
    }
   },
   "outputs": [
    {
     "name": "stdout",
     "output_type": "stream",
     "text": [
      "<class 'pyspark.ml.pipeline.PipelineModel'>\n"
     ]
    }
   ],
   "source": [
    "print(type(loaded_model))"
   ]
  },
  {
   "cell_type": "markdown",
   "metadata": {
    "pycharm": {
     "name": "#%% md\n"
    }
   },
   "source": [
    "<a id=\"visualization\"></a>\n",
    "## 4. Predict locally"
   ]
  },
  {
   "cell_type": "markdown",
   "metadata": {
    "pycharm": {
     "name": "#%% md\n"
    }
   },
   "source": [
    "In this section you will learn how to score test data using loaded model."
   ]
  },
  {
   "cell_type": "markdown",
   "metadata": {
    "pycharm": {
     "name": "#%% md\n"
    }
   },
   "source": [
    "### 4.1: Make local prediction using previously loaded model and test data"
   ]
  },
  {
   "cell_type": "markdown",
   "metadata": {
    "pycharm": {
     "name": "#%% md\n"
    }
   },
   "source": [
    "In this subsection you will score *predict_data* data set."
   ]
  },
  {
   "cell_type": "code",
   "execution_count": null,
   "metadata": {
    "pycharm": {
     "name": "#%%\n"
    }
   },
   "outputs": [],
   "source": [
    "predictions = loaded_model.transform(predict_data)"
   ]
  },
  {
   "cell_type": "markdown",
   "metadata": {
    "pycharm": {
     "name": "#%% md\n"
    }
   },
   "source": [
    "Preview the results by calling the *show()* method on the predictions DataFrame."
   ]
  },
  {
   "cell_type": "code",
   "execution_count": 20,
   "metadata": {
    "pycharm": {
     "name": "#%%\n"
    }
   },
   "outputs": [
    {
     "name": "stdout",
     "output_type": "stream",
     "text": [
      "-RECORD 0----------------------------------------\n",
      " CheckingStatus           | 0_to_200             \n",
      " LoanDuration             | 4                    \n",
      " CreditHistory            | all_credits_paid_... \n",
      " LoanPurpose              | education            \n",
      " LoanAmount               | 936                  \n",
      " ExistingSavings          | less_100             \n",
      " EmploymentDuration       | less_1               \n",
      " InstallmentPercent       | 2                    \n",
      " Sex                      | male                 \n",
      " OthersOnLoan             | none                 \n",
      " CurrentResidenceDuration | 2                    \n",
      " OwnsProperty             | savings_insurance    \n",
      " Age                      | 41                   \n",
      " InstallmentPlans         | bank                 \n",
      " Housing                  | rent                 \n",
      " ExistingCreditsCount     | 1                    \n",
      " Job                      | unskilled            \n",
      " Dependents               | 1                    \n",
      " Telephone                | none                 \n",
      " ForeignWorker            | yes                  \n",
      " Risk                     | No Risk              \n",
      " CheckingStatus_IX        | 2.0                  \n",
      " CreditHistory_IX         | 3.0                  \n",
      " LoanPurpose_IX           | 7.0                  \n",
      " ExistingSavings_IX       | 0.0                  \n",
      " EmploymentDuration_IX    | 3.0                  \n",
      " Sex_IX                   | 0.0                  \n",
      " OthersOnLoan_IX          | 0.0                  \n",
      " OwnsProperty_IX          | 0.0                  \n",
      " InstallmentPlans_IX      | 2.0                  \n",
      " Housing_IX               | 1.0                  \n",
      " Job_IX                   | 1.0                  \n",
      " Telephone_IX             | 0.0                  \n",
      " ForeignWorker_IX         | 0.0                  \n",
      " label                    | 0.0                  \n",
      " features                 | [2.0,3.0,7.0,0.0,... \n",
      " rawPrediction            | [17.8582417779453... \n",
      " probability              | [0.89291208889726... \n",
      " prediction               | 0.0                  \n",
      " predictedLabel           | No Risk              \n",
      "-RECORD 1----------------------------------------\n",
      " CheckingStatus           | 0_to_200             \n",
      " LoanDuration             | 4                    \n",
      " CreditHistory            | all_credits_paid_... \n",
      " LoanPurpose              | furniture            \n",
      " LoanAmount               | 250                  \n",
      " ExistingSavings          | less_100             \n",
      " EmploymentDuration       | 1_to_4               \n",
      " InstallmentPercent       | 2                    \n",
      " Sex                      | female               \n",
      " OthersOnLoan             | none                 \n",
      " CurrentResidenceDuration | 1                    \n",
      " OwnsProperty             | real_estate          \n",
      " Age                      | 19                   \n",
      " InstallmentPlans         | bank                 \n",
      " Housing                  | rent                 \n",
      " ExistingCreditsCount     | 1                    \n",
      " Job                      | unskilled            \n",
      " Dependents               | 1                    \n",
      " Telephone                | none                 \n",
      " ForeignWorker            | yes                  \n",
      " Risk                     | No Risk              \n",
      " CheckingStatus_IX        | 2.0                  \n",
      " CreditHistory_IX         | 3.0                  \n",
      " LoanPurpose_IX           | 1.0                  \n",
      " ExistingSavings_IX       | 0.0                  \n",
      " EmploymentDuration_IX    | 0.0                  \n",
      " Sex_IX                   | 1.0                  \n",
      " OthersOnLoan_IX          | 0.0                  \n",
      " OwnsProperty_IX          | 2.0                  \n",
      " InstallmentPlans_IX      | 2.0                  \n",
      " Housing_IX               | 1.0                  \n",
      " Job_IX                   | 1.0                  \n",
      " Telephone_IX             | 0.0                  \n",
      " ForeignWorker_IX         | 0.0                  \n",
      " label                    | 0.0                  \n",
      " features                 | [2.0,3.0,1.0,0.0,... \n",
      " rawPrediction            | [18.6217190953704... \n",
      " probability              | [0.93108595476852... \n",
      " prediction               | 0.0                  \n",
      " predictedLabel           | No Risk              \n",
      "-RECORD 2----------------------------------------\n",
      " CheckingStatus           | 0_to_200             \n",
      " LoanDuration             | 7                    \n",
      " CreditHistory            | all_credits_paid_... \n",
      " LoanPurpose              | car_new              \n",
      " LoanAmount               | 3091                 \n",
      " ExistingSavings          | less_100             \n",
      " EmploymentDuration       | less_1               \n",
      " InstallmentPercent       | 3                    \n",
      " Sex                      | female               \n",
      " OthersOnLoan             | none                 \n",
      " CurrentResidenceDuration | 2                    \n",
      " OwnsProperty             | savings_insurance    \n",
      " Age                      | 28                   \n",
      " InstallmentPlans         | none                 \n",
      " Housing                  | own                  \n",
      " ExistingCreditsCount     | 2                    \n",
      " Job                      | skilled              \n",
      " Dependents               | 1                    \n",
      " Telephone                | none                 \n",
      " ForeignWorker            | yes                  \n",
      " Risk                     | No Risk              \n",
      " CheckingStatus_IX        | 2.0                  \n",
      " CreditHistory_IX         | 3.0                  \n",
      " LoanPurpose_IX           | 0.0                  \n",
      " ExistingSavings_IX       | 0.0                  \n",
      " EmploymentDuration_IX    | 3.0                  \n",
      " Sex_IX                   | 1.0                  \n",
      " OthersOnLoan_IX          | 0.0                  \n",
      " OwnsProperty_IX          | 0.0                  \n",
      " InstallmentPlans_IX      | 0.0                  \n",
      " Housing_IX               | 0.0                  \n",
      " Job_IX                   | 0.0                  \n",
      " Telephone_IX             | 0.0                  \n",
      " ForeignWorker_IX         | 0.0                  \n",
      " label                    | 0.0                  \n",
      " features                 | (20,[0,1,4,5,13,1... \n",
      " rawPrediction            | [17.0900288758532... \n",
      " probability              | [0.85450144379266... \n",
      " prediction               | 0.0                  \n",
      " predictedLabel           | No Risk              \n",
      "-RECORD 3----------------------------------------\n",
      " CheckingStatus           | 0_to_200             \n",
      " LoanDuration             | 9                    \n",
      " CreditHistory            | prior_payments_de... \n",
      " LoanPurpose              | furniture            \n",
      " LoanAmount               | 250                  \n",
      " ExistingSavings          | less_100             \n",
      " EmploymentDuration       | less_1               \n",
      " InstallmentPercent       | 1                    \n",
      " Sex                      | male                 \n",
      " OthersOnLoan             | none                 \n",
      " CurrentResidenceDuration | 3                    \n",
      " OwnsProperty             | savings_insurance    \n",
      " Age                      | 31                   \n",
      " InstallmentPlans         | none                 \n",
      " Housing                  | own                  \n",
      " ExistingCreditsCount     | 1                    \n",
      " Job                      | skilled              \n",
      " Dependents               | 1                    \n",
      " Telephone                | yes                  \n",
      " ForeignWorker            | yes                  \n",
      " Risk                     | No Risk              \n",
      " CheckingStatus_IX        | 2.0                  \n",
      " CreditHistory_IX         | 0.0                  \n",
      " LoanPurpose_IX           | 1.0                  \n",
      " ExistingSavings_IX       | 0.0                  \n",
      " EmploymentDuration_IX    | 3.0                  \n",
      " Sex_IX                   | 0.0                  \n",
      " OthersOnLoan_IX          | 0.0                  \n",
      " OwnsProperty_IX          | 0.0                  \n",
      " InstallmentPlans_IX      | 0.0                  \n",
      " Housing_IX               | 0.0                  \n",
      " Job_IX                   | 0.0                  \n",
      " Telephone_IX             | 1.0                  \n",
      " ForeignWorker_IX         | 0.0                  \n",
      " label                    | 0.0                  \n",
      " features                 | (20,[0,2,4,11,13,... \n",
      " rawPrediction            | [17.3233263549217... \n",
      " probability              | [0.86616631774608... \n",
      " prediction               | 0.0                  \n",
      " predictedLabel           | No Risk              \n",
      "-RECORD 4----------------------------------------\n",
      " CheckingStatus           | 0_to_200             \n",
      " LoanDuration             | 10                   \n",
      " CreditHistory            | prior_payments_de... \n",
      " LoanPurpose              | car_new              \n",
      " LoanAmount               | 1797                 \n",
      " ExistingSavings          | greater_1000         \n",
      " EmploymentDuration       | 4_to_7               \n",
      " InstallmentPercent       | 3                    \n",
      " Sex                      | male                 \n",
      " OthersOnLoan             | none                 \n",
      " CurrentResidenceDuration | 3                    \n",
      " OwnsProperty             | savings_insurance    \n",
      " Age                      | 28                   \n",
      " InstallmentPlans         | none                 \n",
      " Housing                  | own                  \n",
      " ExistingCreditsCount     | 1                    \n",
      " Job                      | skilled              \n",
      " Dependents               | 1                    \n",
      " Telephone                | none                 \n",
      " ForeignWorker            | yes                  \n",
      " Risk                     | No Risk              \n",
      " CheckingStatus_IX        | 2.0                  \n",
      " CreditHistory_IX         | 0.0                  \n",
      " LoanPurpose_IX           | 0.0                  \n",
      " ExistingSavings_IX       | 3.0                  \n",
      " EmploymentDuration_IX    | 1.0                  \n",
      " Sex_IX                   | 0.0                  \n",
      " OthersOnLoan_IX          | 0.0                  \n",
      " OwnsProperty_IX          | 0.0                  \n",
      " InstallmentPlans_IX      | 0.0                  \n",
      " Housing_IX               | 0.0                  \n",
      " Job_IX                   | 0.0                  \n",
      " Telephone_IX             | 0.0                  \n",
      " ForeignWorker_IX         | 0.0                  \n",
      " label                    | 0.0                  \n",
      " features                 | (20,[0,3,4,13,14,... \n",
      " rawPrediction            | [16.7833363666722... \n",
      " probability              | [0.83916681833361... \n",
      " prediction               | 0.0                  \n",
      " predictedLabel           | No Risk              \n",
      "only showing top 5 rows\n",
      "\n"
     ]
    }
   ],
   "source": [
    "predictions.show(5, vertical=True)"
   ]
  },
  {
   "cell_type": "markdown",
   "metadata": {
    "pycharm": {
     "name": "#%% md\n"
    }
   },
   "source": [
    "By tabulating a count, you can see which product line is the most popular."
   ]
  },
  {
   "cell_type": "code",
   "execution_count": 21,
   "metadata": {
    "pycharm": {
     "name": "#%%\n"
    }
   },
   "outputs": [
    {
     "name": "stdout",
     "output_type": "stream",
     "text": [
      "+--------------+-----+\n",
      "|predictedLabel|count|\n",
      "+--------------+-----+\n",
      "|No Risk       |71   |\n",
      "|Risk          |23   |\n",
      "+--------------+-----+\n",
      "\n"
     ]
    }
   ],
   "source": [
    "predictions.select(\"predictedLabel\").groupBy(\"predictedLabel\").count().show(truncate=False)"
   ]
  },
  {
   "cell_type": "markdown",
   "metadata": {
    "pycharm": {
     "name": "#%% md\n"
    }
   },
   "source": [
    "<a id=\"deploy\"></a>\n",
    "## 5. Deploy and score"
   ]
  },
  {
   "cell_type": "markdown",
   "metadata": {
    "pycharm": {
     "name": "#%% md\n"
    }
   },
   "source": [
    "In this section you will learn how to create online scoring and to score a new data record using `ibm-watsonx-ai`."
   ]
  },
  {
   "cell_type": "markdown",
   "metadata": {
    "pycharm": {
     "name": "#%% md\n"
    }
   },
   "source": [
    "**Note:** You can also use REST API to deploy and score.\n",
    "For more information about REST APIs, see the [Swagger Documentation](https://cloud.ibm.com/apidocs/machine-learning#deployments-create)."
   ]
  },
  {
   "cell_type": "markdown",
   "metadata": {
    "pycharm": {
     "name": "#%% md\n"
    }
   },
   "source": [
    "### 5.1: Create online scoring endpoint"
   ]
  },
  {
   "cell_type": "markdown",
   "metadata": {
    "pycharm": {
     "name": "#%% md\n"
    }
   },
   "source": [
    "Now you can create an online scoring endpoint. "
   ]
  },
  {
   "cell_type": "markdown",
   "metadata": {
    "pycharm": {
     "name": "#%% md\n"
    }
   },
   "source": [
    "#### Create online deployment for published model"
   ]
  },
  {
   "cell_type": "code",
   "execution_count": 22,
   "metadata": {
    "pycharm": {
     "name": "#%%\n"
    }
   },
   "outputs": [
    {
     "name": "stdout",
     "output_type": "stream",
     "text": [
      "\n",
      "\n",
      "######################################################################################\n",
      "\n",
      "Synchronous deployment creation for id: '2b2b1e1b-d8b2-4e11-9918-78450a46dca0' started\n",
      "\n",
      "######################################################################################\n",
      "\n",
      "\n",
      "initializing\n",
      "Note: online_url is deprecated and will be removed in a future release. Use serving_urls instead.\n",
      "\n",
      "ready\n",
      "\n",
      "\n",
      "-----------------------------------------------------------------------------------------------\n",
      "Successfully finished deployment creation, deployment_id='a4aa1578-c86c-4373-b7b2-0e2bea440cdb'\n",
      "-----------------------------------------------------------------------------------------------\n",
      "\n",
      "\n"
     ]
    }
   ],
   "source": [
    "deployment_details = client.deployments.create(\n",
    "    model_id, \n",
    "    meta_props={\n",
    "        client.deployments.ConfigurationMetaNames.NAME: \"Credit Risk model deployment\",\n",
    "        client.deployments.ConfigurationMetaNames.ONLINE: {}\n",
    "    }\n",
    ")"
   ]
  },
  {
   "cell_type": "code",
   "execution_count": null,
   "metadata": {
    "pycharm": {
     "name": "#%%\n"
    }
   },
   "outputs": [],
   "source": [
    "deployment_details"
   ]
  },
  {
   "cell_type": "markdown",
   "metadata": {
    "pycharm": {
     "name": "#%% md\n"
    }
   },
   "source": [
    "<a id=\"score\"></a>\n",
    "Now, you can send new scoring records (new data) for which you would like to get predictions. To do that, execute the following sample code:"
   ]
  },
  {
   "cell_type": "code",
   "execution_count": 25,
   "metadata": {
    "pycharm": {
     "name": "#%%\n"
    }
   },
   "outputs": [
    {
     "data": {
      "text/plain": [
       "{'predictions': [{'fields': ['CheckingStatus',\n",
       "    'LoanDuration',\n",
       "    'CreditHistory',\n",
       "    'LoanPurpose',\n",
       "    'LoanAmount',\n",
       "    'ExistingSavings',\n",
       "    'EmploymentDuration',\n",
       "    'InstallmentPercent',\n",
       "    'Sex',\n",
       "    'OthersOnLoan',\n",
       "    'CurrentResidenceDuration',\n",
       "    'OwnsProperty',\n",
       "    'Age',\n",
       "    'InstallmentPlans',\n",
       "    'Housing',\n",
       "    'ExistingCreditsCount',\n",
       "    'Job',\n",
       "    'Dependents',\n",
       "    'Telephone',\n",
       "    'ForeignWorker',\n",
       "    'CheckingStatus_IX',\n",
       "    'CreditHistory_IX',\n",
       "    'LoanPurpose_IX',\n",
       "    'ExistingSavings_IX',\n",
       "    'EmploymentDuration_IX',\n",
       "    'Sex_IX',\n",
       "    'OthersOnLoan_IX',\n",
       "    'OwnsProperty_IX',\n",
       "    'InstallmentPlans_IX',\n",
       "    'Housing_IX',\n",
       "    'Job_IX',\n",
       "    'Telephone_IX',\n",
       "    'ForeignWorker_IX',\n",
       "    'features',\n",
       "    'rawPrediction',\n",
       "    'probability',\n",
       "    'prediction',\n",
       "    'predictedLabel'],\n",
       "   'values': [['no_checking',\n",
       "     13,\n",
       "     'credits_paid_to_date',\n",
       "     'car_new',\n",
       "     1343,\n",
       "     '100_to_500',\n",
       "     '1_to_4',\n",
       "     2,\n",
       "     'female',\n",
       "     'none',\n",
       "     3,\n",
       "     'savings_insurance',\n",
       "     46,\n",
       "     'none',\n",
       "     'own',\n",
       "     2,\n",
       "     'skilled',\n",
       "     1,\n",
       "     'none',\n",
       "     'yes',\n",
       "     0.0,\n",
       "     1.0,\n",
       "     0.0,\n",
       "     1.0,\n",
       "     0.0,\n",
       "     1.0,\n",
       "     0.0,\n",
       "     0.0,\n",
       "     0.0,\n",
       "     0.0,\n",
       "     0.0,\n",
       "     0.0,\n",
       "     0.0,\n",
       "     [20,\n",
       "      [1, 3, 5, 13, 14, 15, 16, 17, 18, 19],\n",
       "      [1.0, 1.0, 1.0, 13.0, 1343.0, 2.0, 3.0, 46.0, 2.0, 1.0]],\n",
       "     [14.298844113312466, 5.701155886687534],\n",
       "     [0.7149422056656233, 0.2850577943343767],\n",
       "     0.0,\n",
       "     'No Risk'],\n",
       "    ['no_checking',\n",
       "     24,\n",
       "     'prior_payments_delayed',\n",
       "     'furniture',\n",
       "     4567,\n",
       "     '500_to_1000',\n",
       "     '1_to_4',\n",
       "     4,\n",
       "     'male',\n",
       "     'none',\n",
       "     4,\n",
       "     'savings_insurance',\n",
       "     36,\n",
       "     'none',\n",
       "     'free',\n",
       "     2,\n",
       "     'management_self-employed',\n",
       "     1,\n",
       "     'none',\n",
       "     'yes',\n",
       "     0.0,\n",
       "     0.0,\n",
       "     1.0,\n",
       "     2.0,\n",
       "     0.0,\n",
       "     0.0,\n",
       "     0.0,\n",
       "     0.0,\n",
       "     0.0,\n",
       "     2.0,\n",
       "     2.0,\n",
       "     0.0,\n",
       "     0.0,\n",
       "     [20,\n",
       "      [2, 3, 9, 10, 13, 14, 15, 16, 17, 18, 19],\n",
       "      [1.0, 2.0, 2.0, 2.0, 24.0, 4567.0, 4.0, 4.0, 36.0, 2.0, 1.0]],\n",
       "     [13.06676919836477, 6.93323080163523],\n",
       "     [0.6533384599182386, 0.34666154008176153],\n",
       "     0.0,\n",
       "     'No Risk'],\n",
       "    ['0_to_200',\n",
       "     26,\n",
       "     'all_credits_paid_back',\n",
       "     'car_new',\n",
       "     863,\n",
       "     'less_100',\n",
       "     'less_1',\n",
       "     2,\n",
       "     'female',\n",
       "     'co-applicant',\n",
       "     2,\n",
       "     'real_estate',\n",
       "     38,\n",
       "     'none',\n",
       "     'own',\n",
       "     1,\n",
       "     'skilled',\n",
       "     1,\n",
       "     'none',\n",
       "     'yes',\n",
       "     2.0,\n",
       "     3.0,\n",
       "     0.0,\n",
       "     0.0,\n",
       "     3.0,\n",
       "     1.0,\n",
       "     1.0,\n",
       "     2.0,\n",
       "     0.0,\n",
       "     0.0,\n",
       "     0.0,\n",
       "     0.0,\n",
       "     0.0,\n",
       "     [2.0,\n",
       "      3.0,\n",
       "      0.0,\n",
       "      0.0,\n",
       "      3.0,\n",
       "      1.0,\n",
       "      1.0,\n",
       "      2.0,\n",
       "      0.0,\n",
       "      0.0,\n",
       "      0.0,\n",
       "      0.0,\n",
       "      0.0,\n",
       "      26.0,\n",
       "      863.0,\n",
       "      2.0,\n",
       "      2.0,\n",
       "      38.0,\n",
       "      1.0,\n",
       "      1.0],\n",
       "     [17.26065854270966, 2.739341457290342],\n",
       "     [0.863032927135483, 0.1369670728645171],\n",
       "     0.0,\n",
       "     'No Risk'],\n",
       "    ['0_to_200',\n",
       "     14,\n",
       "     'no_credits',\n",
       "     'car_new',\n",
       "     2368,\n",
       "     'less_100',\n",
       "     '1_to_4',\n",
       "     3,\n",
       "     'female',\n",
       "     'none',\n",
       "     3,\n",
       "     'real_estate',\n",
       "     29,\n",
       "     'none',\n",
       "     'own',\n",
       "     1,\n",
       "     'skilled',\n",
       "     1,\n",
       "     'none',\n",
       "     'yes',\n",
       "     2.0,\n",
       "     4.0,\n",
       "     0.0,\n",
       "     0.0,\n",
       "     0.0,\n",
       "     1.0,\n",
       "     0.0,\n",
       "     2.0,\n",
       "     0.0,\n",
       "     0.0,\n",
       "     0.0,\n",
       "     0.0,\n",
       "     0.0,\n",
       "     [20,\n",
       "      [0, 1, 5, 7, 13, 14, 15, 16, 17, 18, 19],\n",
       "      [2.0, 4.0, 1.0, 2.0, 14.0, 2368.0, 3.0, 3.0, 29.0, 1.0, 1.0]],\n",
       "     [17.80975737817367, 2.190242621826325],\n",
       "     [0.8904878689086837, 0.10951213109131627],\n",
       "     0.0,\n",
       "     'No Risk'],\n",
       "    ['0_to_200',\n",
       "     4,\n",
       "     'no_credits',\n",
       "     'car_new',\n",
       "     250,\n",
       "     'less_100',\n",
       "     'unemployed',\n",
       "     2,\n",
       "     'female',\n",
       "     'none',\n",
       "     3,\n",
       "     'real_estate',\n",
       "     23,\n",
       "     'none',\n",
       "     'rent',\n",
       "     1,\n",
       "     'management_self-employed',\n",
       "     1,\n",
       "     'none',\n",
       "     'yes',\n",
       "     2.0,\n",
       "     4.0,\n",
       "     0.0,\n",
       "     0.0,\n",
       "     4.0,\n",
       "     1.0,\n",
       "     0.0,\n",
       "     2.0,\n",
       "     0.0,\n",
       "     1.0,\n",
       "     2.0,\n",
       "     0.0,\n",
       "     0.0,\n",
       "     [2.0,\n",
       "      4.0,\n",
       "      0.0,\n",
       "      0.0,\n",
       "      4.0,\n",
       "      1.0,\n",
       "      0.0,\n",
       "      2.0,\n",
       "      0.0,\n",
       "      1.0,\n",
       "      2.0,\n",
       "      0.0,\n",
       "      0.0,\n",
       "      4.0,\n",
       "      250.0,\n",
       "      2.0,\n",
       "      3.0,\n",
       "      23.0,\n",
       "      1.0,\n",
       "      1.0],\n",
       "     [18.38016125542918, 1.6198387445708178],\n",
       "     [0.9190080627714591, 0.08099193722854091],\n",
       "     0.0,\n",
       "     'No Risk'],\n",
       "    ['no_checking',\n",
       "     17,\n",
       "     'credits_paid_to_date',\n",
       "     'car_new',\n",
       "     832,\n",
       "     '100_to_500',\n",
       "     '1_to_4',\n",
       "     2,\n",
       "     'male',\n",
       "     'none',\n",
       "     2,\n",
       "     'real_estate',\n",
       "     42,\n",
       "     'none',\n",
       "     'own',\n",
       "     1,\n",
       "     'skilled',\n",
       "     1,\n",
       "     'none',\n",
       "     'yes',\n",
       "     0.0,\n",
       "     1.0,\n",
       "     0.0,\n",
       "     1.0,\n",
       "     0.0,\n",
       "     0.0,\n",
       "     0.0,\n",
       "     2.0,\n",
       "     0.0,\n",
       "     0.0,\n",
       "     0.0,\n",
       "     0.0,\n",
       "     0.0,\n",
       "     [20,\n",
       "      [1, 3, 7, 13, 14, 15, 16, 17, 18, 19],\n",
       "      [1.0, 1.0, 2.0, 17.0, 832.0, 2.0, 2.0, 42.0, 1.0, 1.0]],\n",
       "     [16.887908351466088, 3.112091648533915],\n",
       "     [0.8443954175733043, 0.15560458242669573],\n",
       "     0.0,\n",
       "     'No Risk'],\n",
       "    ['no_checking',\n",
       "     33,\n",
       "     'outstanding_credit',\n",
       "     'appliances',\n",
       "     5696,\n",
       "     'unknown',\n",
       "     'greater_7',\n",
       "     4,\n",
       "     'male',\n",
       "     'co-applicant',\n",
       "     4,\n",
       "     'unknown',\n",
       "     54,\n",
       "     'none',\n",
       "     'free',\n",
       "     2,\n",
       "     'skilled',\n",
       "     1,\n",
       "     'yes',\n",
       "     'yes',\n",
       "     0.0,\n",
       "     2.0,\n",
       "     4.0,\n",
       "     4.0,\n",
       "     2.0,\n",
       "     0.0,\n",
       "     1.0,\n",
       "     3.0,\n",
       "     0.0,\n",
       "     2.0,\n",
       "     0.0,\n",
       "     1.0,\n",
       "     0.0,\n",
       "     [0.0,\n",
       "      2.0,\n",
       "      4.0,\n",
       "      4.0,\n",
       "      2.0,\n",
       "      0.0,\n",
       "      1.0,\n",
       "      3.0,\n",
       "      0.0,\n",
       "      2.0,\n",
       "      0.0,\n",
       "      1.0,\n",
       "      0.0,\n",
       "      33.0,\n",
       "      5696.0,\n",
       "      4.0,\n",
       "      4.0,\n",
       "      54.0,\n",
       "      2.0,\n",
       "      1.0],\n",
       "     [2.252422102778986, 17.747577897221014],\n",
       "     [0.1126211051389493, 0.8873788948610507],\n",
       "     1.0,\n",
       "     'Risk'],\n",
       "    ['0_to_200',\n",
       "     13,\n",
       "     'prior_payments_delayed',\n",
       "     'retraining',\n",
       "     1375,\n",
       "     '100_to_500',\n",
       "     '4_to_7',\n",
       "     3,\n",
       "     'male',\n",
       "     'none',\n",
       "     3,\n",
       "     'real_estate',\n",
       "     37,\n",
       "     'none',\n",
       "     'own',\n",
       "     2,\n",
       "     'management_self-employed',\n",
       "     1,\n",
       "     'none',\n",
       "     'yes',\n",
       "     2.0,\n",
       "     0.0,\n",
       "     8.0,\n",
       "     1.0,\n",
       "     1.0,\n",
       "     0.0,\n",
       "     0.0,\n",
       "     2.0,\n",
       "     0.0,\n",
       "     0.0,\n",
       "     2.0,\n",
       "     0.0,\n",
       "     0.0,\n",
       "     [2.0,\n",
       "      0.0,\n",
       "      8.0,\n",
       "      1.0,\n",
       "      1.0,\n",
       "      0.0,\n",
       "      0.0,\n",
       "      2.0,\n",
       "      0.0,\n",
       "      0.0,\n",
       "      2.0,\n",
       "      0.0,\n",
       "      0.0,\n",
       "      13.0,\n",
       "      1375.0,\n",
       "      3.0,\n",
       "      3.0,\n",
       "      37.0,\n",
       "      2.0,\n",
       "      1.0],\n",
       "     [15.860708756328307, 4.1392912436716935],\n",
       "     [0.7930354378164154, 0.20696456218358467],\n",
       "     0.0,\n",
       "     'No Risk']]}]}"
      ]
     },
     "execution_count": 25,
     "metadata": {},
     "output_type": "execute_result"
    }
   ],
   "source": [
    "fields = [\"CheckingStatus\", \"LoanDuration\", \"CreditHistory\", \"LoanPurpose\", \"LoanAmount\", \"ExistingSavings\",\n",
    "                  \"EmploymentDuration\", \"InstallmentPercent\", \"Sex\", \"OthersOnLoan\", \"CurrentResidenceDuration\",\n",
    "                  \"OwnsProperty\", \"Age\", \"InstallmentPlans\", \"Housing\", \"ExistingCreditsCount\", \"Job\", \"Dependents\",\n",
    "                  \"Telephone\", \"ForeignWorker\"]\n",
    "values = [\n",
    "    [\"no_checking\", 13, \"credits_paid_to_date\", \"car_new\", 1343, \"100_to_500\", \"1_to_4\", 2, \"female\", \"none\", 3,\n",
    "     \"savings_insurance\", 46, \"none\", \"own\", 2, \"skilled\", 1, \"none\", \"yes\"],\n",
    "    [\"no_checking\", 24, \"prior_payments_delayed\", \"furniture\", 4567, \"500_to_1000\", \"1_to_4\", 4, \"male\", \"none\",\n",
    "     4, \"savings_insurance\", 36, \"none\", \"free\", 2, \"management_self-employed\", 1, \"none\", \"yes\"],\n",
    "    [\"0_to_200\", 26, \"all_credits_paid_back\", \"car_new\", 863, \"less_100\", \"less_1\", 2, \"female\", \"co-applicant\",\n",
    "     2, \"real_estate\", 38, \"none\", \"own\", 1, \"skilled\", 1, \"none\", \"yes\"],\n",
    "    [\"0_to_200\", 14, \"no_credits\", \"car_new\", 2368, \"less_100\", \"1_to_4\", 3, \"female\", \"none\", 3, \"real_estate\",\n",
    "     29, \"none\", \"own\", 1, \"skilled\", 1, \"none\", \"yes\"],\n",
    "    [\"0_to_200\", 4, \"no_credits\", \"car_new\", 250, \"less_100\", \"unemployed\", 2, \"female\", \"none\", 3,\n",
    "     \"real_estate\", 23, \"none\", \"rent\", 1, \"management_self-employed\", 1, \"none\", \"yes\"],\n",
    "    [\"no_checking\", 17, \"credits_paid_to_date\", \"car_new\", 832, \"100_to_500\", \"1_to_4\", 2, \"male\", \"none\", 2,\n",
    "     \"real_estate\", 42, \"none\", \"own\", 1, \"skilled\", 1, \"none\", \"yes\"],\n",
    "    [\"no_checking\", 33, \"outstanding_credit\", \"appliances\", 5696, \"unknown\", \"greater_7\", 4, \"male\",\n",
    "     \"co-applicant\", 4, \"unknown\", 54, \"none\", \"free\", 2, \"skilled\", 1, \"yes\", \"yes\"],\n",
    "    [\"0_to_200\", 13, \"prior_payments_delayed\", \"retraining\", 1375, \"100_to_500\", \"4_to_7\", 3, \"male\", \"none\", 3,\n",
    "     \"real_estate\", 37, \"none\", \"own\", 2, \"management_self-employed\", 1, \"none\", \"yes\"]\n",
    "]\n",
    "\n",
    "payload_scoring = {\"input_data\": [{\"fields\": fields, \"values\": values}]}\n",
    "deployment_id = client.deployments.get_id(deployment_details)\n",
    "\n",
    "client.deployments.score(deployment_id, payload_scoring)"
   ]
  },
  {
   "cell_type": "markdown",
   "metadata": {
    "pycharm": {
     "name": "#%% md\n"
    }
   },
   "source": [
    "<a id=\"cleanup\"></a>\n",
    "## 6. Clean up "
   ]
  },
  {
   "cell_type": "markdown",
   "metadata": {
    "pycharm": {
     "name": "#%% md\n"
    }
   },
   "source": [
    "If you want to clean up all created assets:\n",
    "- experiments\n",
    "- trainings\n",
    "- pipelines\n",
    "- model definitions\n",
    "- models\n",
    "- functions\n",
    "- deployments\n",
    "\n",
    "please follow up this sample [notebook](https://github.com/IBM/watson-machine-learning-samples/blob/master/cpd5.0/notebooks/python_sdk/instance-management/Machine%20Learning%20artifacts%20management.ipynb)."
   ]
  },
  {
   "cell_type": "markdown",
   "metadata": {
    "pycharm": {
     "name": "#%% md\n"
    }
   },
   "source": [
    "<a id=\"summary\"></a>\n",
    "## 7. Summary and next steps     "
   ]
  },
  {
   "cell_type": "markdown",
   "metadata": {
    "pycharm": {
     "name": "#%% md\n"
    }
   },
   "source": [
    "You successfully completed this notebook! You learned how to use Apache Spark machine learning as well as Watson Machine Learning for model creation and deployment. \n",
    " \n",
    "Check out our _<a href=\"https://ibm.github.io/watsonx-ai-python-sdk/samples.html\" target=\"_blank\" rel=\"noopener no referrer\">Online Documentation</a>_ for more samples, tutorials, documentation, how-tos, and blog posts. "
   ]
  },
  {
   "cell_type": "markdown",
   "metadata": {
    "pycharm": {
     "name": "#%% md\n"
    }
   },
   "source": [
    "### Authors\n",
    "\n",
    "**Amadeusz Masny**, Python Software Developer in Watson Machine Learning at IBM"
   ]
  },
  {
   "cell_type": "markdown",
   "metadata": {
    "pycharm": {
     "name": "#%% md\n"
    }
   },
   "source": [
    "Copyright © 2020-2024 IBM. This notebook and its source code are released under the terms of the MIT License."
   ]
  }
 ],
 "metadata": {
  "kernelspec": {
   "display_name": "Python 3 (ipykernel)",
   "language": "python",
   "name": "python3"
  },
  "language_info": {
   "codemirror_mode": {
    "name": "ipython",
    "version": 3
   },
   "file_extension": ".py",
   "mimetype": "text/x-python",
   "name": "python",
   "nbconvert_exporter": "python",
   "pygments_lexer": "ipython3",
   "version": "3.11.9"
  }
 },
 "nbformat": 4,
 "nbformat_minor": 4
}
