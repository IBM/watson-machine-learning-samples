{
 "cells": [
  {
   "cell_type": "markdown",
   "metadata": {},
   "source": [
    "# Use Spark and batch deployment to predict customer churn with `ibm-watsonx-ai`\n",
    "\n",
    "This notebook contains steps and code to develop a predictive model, and start scoring new data. This notebook introduces commands for getting data and for basic data cleaning and exploration, pipeline creation, model training, model persistance to Watson Machine Learning repository, model deployment, and scoring.\n",
    "\n",
    "Some familiarity with Python is helpful. This notebook uses Python 3.11 and Apache® Spark 3.4.\n",
    "\n",
    "You will use a data set, **Telco Customer Churn**, which details anonymous customer data from a telecommunication company. Use the details of this data set to predict customer churn which is very critical to business as it's easier to retain existing customers rather than acquiring new ones."
   ]
  },
  {
   "cell_type": "markdown",
   "metadata": {},
   "source": [
    "## Learning goals\n",
    "\n",
    "The learning goals of this notebook are:\n",
    "\n",
    "-  Load a CSV file into an Apache® Spark DataFrame.\n",
    "-  Explore data.\n",
    "-  Prepare data for training and evaluation.\n",
    "-  Create an Apache® Spark machine learning pipeline.\n",
    "-  Train and evaluate a model.\n",
    "-  Persist a pipeline and model in Watson Machine Learning repository.\n",
    "-  Explore and visualize prediction results using the plotly package.\n",
    "-  Deploy a model for batch scoring using Wastson Machine Learning API.\n",
    "\n",
    "\n",
    "## Contents\n",
    "\n",
    "This notebook contains the following parts:\n",
    "\n",
    "1. [Set up the environment](#setup)\n",
    "2. [Load and explore data](#load)\n",
    "3. [Create spark ml model](#model)\n",
    "4. [Persist model](#upload)\n",
    "5. [Predict locally and visualize](#visualization)\n",
    "6. [Deploy and score](#deploy)\n",
    "7. [Clean up](#cleanup)\n",
    "8. [Summary and next steps](#summary)"
   ]
  },
  {
   "cell_type": "markdown",
   "metadata": {},
   "source": [
    "<a id=\"setup\"></a>\n",
    "## 1. Set up the environment\n",
    "\n",
    "Before you use the sample code in this notebook, you must perform the following setup tasks:\n",
    "\n",
    "-  Contact with your Cloud Pack for Data administrator and ask him for your account credentials"
   ]
  },
  {
   "cell_type": "markdown",
   "metadata": {},
   "source": [
    "### Install and import the `ibm-watsonx-ai` and dependecies\n",
    "**Note:** `ibm-watsonx-ai` documentation can be found <a href=\"https://ibm.github.io/watsonx-ai-python-sdk/index.html\" target=\"_blank\" rel=\"noopener no referrer\">here</a>."
   ]
  },
  {
   "cell_type": "code",
   "execution_count": null,
   "metadata": {},
   "outputs": [],
   "source": [
    "!pip install wget | tail -n 1\n",
    "!pip install pyspark==3.4.3 | tail -n 1\n",
    "!pip install -U ibm-watsonx-ai | tail -n 1"
   ]
  },
  {
   "cell_type": "markdown",
   "metadata": {},
   "source": [
    "### Connection to WML\n",
    "\n",
    "Authenticate the Watson Machine Learning service on IBM Cloud Pack for Data. You need to provide platform `url`, your `username` and `api_key`."
   ]
  },
  {
   "cell_type": "code",
   "execution_count": 1,
   "metadata": {},
   "outputs": [],
   "source": [
    "username = 'PASTE YOUR USERNAME HERE'\n",
    "api_key = 'PASTE YOUR API_KEY HERE'\n",
    "url = 'PASTE THE PLATFORM URL HERE'"
   ]
  },
  {
   "cell_type": "code",
   "execution_count": 1,
   "metadata": {},
   "outputs": [],
   "source": [
    "from ibm_watsonx_ai import Credentials\n",
    "\n",
    "credentials = Credentials(\n",
    "    username=username,\n",
    "    api_key=api_key,\n",
    "    url=url,\n",
    "    instance_id=\"openshift\",\n",
    "    version=\"5.0\"\n",
    ")"
   ]
  },
  {
   "cell_type": "markdown",
   "metadata": {},
   "source": [
    "Alternatively you can use `username` and `password` to authenticate WML services.\n",
    "\n",
    "```python\n",
    "credentials = Credentials(\n",
    "    username=***,\n",
    "    password=***,\n",
    "    url=***,\n",
    "    instance_id=\"openshift\",\n",
    "    version=\"5.0\"\n",
    ")\n",
    "\n",
    "```"
   ]
  },
  {
   "cell_type": "markdown",
   "metadata": {},
   "source": [
    "**Note:** After installation/update of `ibm-watsonx-ai` package, please restart notebook kernel to make sure the installed version of the package is used."
   ]
  },
  {
   "cell_type": "code",
   "execution_count": 2,
   "metadata": {},
   "outputs": [],
   "source": [
    "from ibm_watsonx_ai import APIClient\n",
    "\n",
    "client = APIClient(credentials)"
   ]
  },
  {
   "cell_type": "markdown",
   "metadata": {},
   "source": [
    "### Working with spaces\n",
    "\n",
    "First of all, you need to create a space that will be used for your work. If you do not have space already created, you can use `{PLATFORM_URL}/ml-runtime/spaces?context=icp4data` to create one.\n",
    "\n",
    "- Click New Deployment Space\n",
    "- Create an empty space\n",
    "- Go to space `Settings` tab\n",
    "- Copy `space_id` and paste it below\n",
    "\n",
    "**Tip**: You can also use SDK to prepare the space for your work. More information can be found [here](https://github.com/IBM/watson-machine-learning-samples/blob/master/cpd5.0/notebooks/python_sdk/instance-management/Space%20management.ipynb).\n",
    "\n",
    "**Action**: Assign space ID below"
   ]
  },
  {
   "cell_type": "code",
   "execution_count": 3,
   "metadata": {},
   "outputs": [],
   "source": [
    "space_id = 'PASTE YOUR SPACE ID HERE'"
   ]
  },
  {
   "cell_type": "markdown",
   "metadata": {},
   "source": [
    "You can use `list` method to print all existing spaces."
   ]
  },
  {
   "cell_type": "code",
   "execution_count": null,
   "metadata": {},
   "outputs": [],
   "source": [
    "client.spaces.list(limit=10)"
   ]
  },
  {
   "cell_type": "markdown",
   "metadata": {},
   "source": [
    "To be able to interact with all resources available in Watson Machine Learning, you need to set **space** which you will be using."
   ]
  },
  {
   "cell_type": "code",
   "execution_count": 4,
   "metadata": {},
   "outputs": [
    {
     "data": {
      "text/plain": [
       "'SUCCESS'"
      ]
     },
     "execution_count": 4,
     "metadata": {},
     "output_type": "execute_result"
    }
   ],
   "source": [
    "client.set.default_space(space_id)"
   ]
  },
  {
   "cell_type": "markdown",
   "metadata": {},
   "source": [
    "### Test Spark"
   ]
  },
  {
   "cell_type": "code",
   "execution_count": 5,
   "metadata": {},
   "outputs": [],
   "source": [
    "try:\n",
    "    from pyspark.sql import SparkSession\n",
    "except:\n",
    "    print('Error: Spark runtime is missing. If you are using Watson Studio change the notebook runtime to Spark.')\n",
    "    raise"
   ]
  },
  {
   "cell_type": "markdown",
   "metadata": {},
   "source": [
    "<a id=\"load\"></a>\n",
    "## 2. Load and explore data"
   ]
  },
  {
   "cell_type": "markdown",
   "metadata": {},
   "source": [
    "In this section you will load the data as an Apache® Spark DataFrame and perform a basic exploration. "
   ]
  },
  {
   "cell_type": "code",
   "execution_count": 6,
   "metadata": {},
   "outputs": [],
   "source": [
    "import os\n",
    "from wget import download\n",
    "\n",
    "sample_dir = 'spark_sample_model'\n",
    "if not os.path.isdir(sample_dir):\n",
    "    os.mkdir(sample_dir)\n",
    "    \n",
    "filename = os.path.join(sample_dir, 'WA_FnUseC_TelcoCustomerChurn.csv')\n",
    "if not os.path.isfile(filename):\n",
    "    filename = download(\"https://github.com/IBM/watson-machine-learning-samples/raw/master/cpd5.0/data/customer_churn/WA_FnUseC_TelcoCustomerChurn.csv\", out=sample_dir)"
   ]
  },
  {
   "cell_type": "code",
   "execution_count": null,
   "metadata": {},
   "outputs": [],
   "source": [
    "spark = SparkSession.builder.getOrCreate()\n",
    "\n",
    "df_data = spark.read\\\n",
    "  .format('org.apache.spark.sql.execution.datasources.csv.CSVFileFormat')\\\n",
    "  .option('header', 'true')\\\n",
    "  .option('inferSchema', 'true')\\\n",
    "  .option('nanValue', ' ')\\\n",
    "  .option('nullValue', ' ')\\\n",
    "  .load(filename)"
   ]
  },
  {
   "cell_type": "markdown",
   "metadata": {},
   "source": [
    "Explore the loaded data by using the following Apache® Spark DataFrame methods:\n",
    "-  print schema\n",
    "-  count all records\n",
    "-  show distribution of label classes"
   ]
  },
  {
   "cell_type": "code",
   "execution_count": 8,
   "metadata": {},
   "outputs": [
    {
     "name": "stdout",
     "output_type": "stream",
     "text": [
      "root\n",
      " |-- customerID: string (nullable = true)\n",
      " |-- gender: string (nullable = true)\n",
      " |-- SeniorCitizen: integer (nullable = true)\n",
      " |-- Partner: string (nullable = true)\n",
      " |-- Dependents: string (nullable = true)\n",
      " |-- tenure: integer (nullable = true)\n",
      " |-- PhoneService: string (nullable = true)\n",
      " |-- MultipleLines: string (nullable = true)\n",
      " |-- InternetService: string (nullable = true)\n",
      " |-- OnlineSecurity: string (nullable = true)\n",
      " |-- OnlineBackup: string (nullable = true)\n",
      " |-- DeviceProtection: string (nullable = true)\n",
      " |-- TechSupport: string (nullable = true)\n",
      " |-- StreamingTV: string (nullable = true)\n",
      " |-- StreamingMovies: string (nullable = true)\n",
      " |-- Contract: string (nullable = true)\n",
      " |-- PaperlessBilling: string (nullable = true)\n",
      " |-- PaymentMethod: string (nullable = true)\n",
      " |-- MonthlyCharges: double (nullable = true)\n",
      " |-- TotalCharges: double (nullable = true)\n",
      " |-- Churn: string (nullable = true)\n",
      "\n",
      "Number of fields:  21\n"
     ]
    }
   ],
   "source": [
    "df_data.printSchema()\n",
    "\n",
    "print(\"Number of fields: %3g\" % len(df_data.schema))"
   ]
  },
  {
   "cell_type": "markdown",
   "metadata": {},
   "source": [
    "As you can see, the data contains 21 fields. \"Churn\" field is the one we would like to predict (label)."
   ]
  },
  {
   "cell_type": "code",
   "execution_count": 9,
   "metadata": {},
   "outputs": [
    {
     "name": "stdout",
     "output_type": "stream",
     "text": [
      "Total number of records: 7043\n"
     ]
    }
   ],
   "source": [
    "print(\"Total number of records: \" + str(df_data.count()))"
   ]
  },
  {
   "cell_type": "markdown",
   "metadata": {},
   "source": [
    "Data set contains 7043 records."
   ]
  },
  {
   "cell_type": "markdown",
   "metadata": {},
   "source": [
    "Now you will check if all records have complete data."
   ]
  },
  {
   "cell_type": "code",
   "execution_count": 10,
   "metadata": {},
   "outputs": [
    {
     "name": "stdout",
     "output_type": "stream",
     "text": [
      "Number of records with complete data: 7032\n"
     ]
    }
   ],
   "source": [
    "df_complete = df_data.dropna()\n",
    "\n",
    "print(\"Number of records with complete data: %3g\" % df_complete.count())"
   ]
  },
  {
   "cell_type": "markdown",
   "metadata": {},
   "source": [
    "You can see that there are some missing values you can investigate that all missing values are present in `TotalCharges` feature. We will use dataset with missing values removed for model training and evaluation.\n"
   ]
  },
  {
   "cell_type": "markdown",
   "metadata": {},
   "source": [
    "Now you will inspect distribution of classes in label column."
   ]
  },
  {
   "cell_type": "code",
   "execution_count": 11,
   "metadata": {},
   "outputs": [
    {
     "name": "stdout",
     "output_type": "stream",
     "text": [
      "+-----+-----+\n",
      "|Churn|count|\n",
      "+-----+-----+\n",
      "|   No| 5163|\n",
      "|  Yes| 1869|\n",
      "+-----+-----+\n",
      "\n"
     ]
    }
   ],
   "source": [
    "df_complete.groupBy('Churn').count().show()"
   ]
  },
  {
   "cell_type": "markdown",
   "metadata": {},
   "source": [
    "<a id=\"model\"></a>\n",
    "## 3. Create an Apache® Spark machine learning model\n",
    "\n",
    "In this section you will learn how to prepare data, create an Apache® Spark machine learning pipeline, and train a model."
   ]
  },
  {
   "cell_type": "markdown",
   "metadata": {},
   "source": [
    "### 3.1: Prepare data\n",
    "\n",
    "In this subsection you will split your data into: train, test and predict datasets."
   ]
  },
  {
   "cell_type": "code",
   "execution_count": 12,
   "metadata": {},
   "outputs": [
    {
     "name": "stdout",
     "output_type": "stream",
     "text": [
      "Number of records for training: 5638\n",
      "Number of records for evaluation: 1261\n",
      "Number of records for prediction: 133\n"
     ]
    }
   ],
   "source": [
    "(train_data, test_data, predict_data) = df_complete.randomSplit([0.8, 0.18, 0.02], 24)\n",
    "\n",
    "print(\"Number of records for training: \" + str(train_data.count()))\n",
    "print(\"Number of records for evaluation: \" + str(test_data.count()))\n",
    "print(\"Number of records for prediction: \" + str(predict_data.count()))"
   ]
  },
  {
   "cell_type": "markdown",
   "metadata": {},
   "source": [
    "As you can see our data has been successfully split into three datasets: \n",
    "\n",
    "-  The train data set, which is the largest group, is used for training.\n",
    "-  The test data set will be used for model evaluation and is used to test the assumptions of the model.\n",
    "-  The predict data set will be used for prediction."
   ]
  },
  {
   "cell_type": "markdown",
   "metadata": {},
   "source": [
    "### 3.2: Create pipeline and train a model"
   ]
  },
  {
   "cell_type": "markdown",
   "metadata": {},
   "source": [
    "In this section you will create an Apache® Spark machine learning pipeline and then train the model."
   ]
  },
  {
   "cell_type": "markdown",
   "metadata": {},
   "source": [
    "In the first step you need to import the Apache® Spark machine learning packages that will be needed in the subsequent steps."
   ]
  },
  {
   "cell_type": "code",
   "execution_count": 14,
   "metadata": {},
   "outputs": [],
   "source": [
    "from pyspark.ml.feature import StringIndexer, RFormula\n",
    "from pyspark.ml.classification import LogisticRegression\n",
    "from pyspark.ml.evaluation import MulticlassClassificationEvaluator\n",
    "from pyspark.ml import Pipeline"
   ]
  },
  {
   "cell_type": "markdown",
   "metadata": {},
   "source": [
    "In the following step, convert all the predictors to features vector and label feature convert to numeric."
   ]
  },
  {
   "cell_type": "code",
   "execution_count": 15,
   "metadata": {},
   "outputs": [],
   "source": [
    "lab = StringIndexer(inputCol = 'Churn', outputCol = 'label')\n",
    "features = RFormula(formula = \"~ gender + SeniorCitizen +  Partner + Dependents + tenure + PhoneService + MultipleLines + InternetService + OnlineSecurity + OnlineBackup + DeviceProtection + TechSupport + StreamingTV + StreamingMovies + Contract + PaperlessBilling + PaymentMethod + MonthlyCharges + TotalCharges - 1\")"
   ]
  },
  {
   "cell_type": "markdown",
   "metadata": {},
   "source": [
    "Next, define estimators you want to use for classification. Logistic Regression is used in the following example."
   ]
  },
  {
   "cell_type": "code",
   "execution_count": 16,
   "metadata": {},
   "outputs": [],
   "source": [
    "lr = LogisticRegression(maxIter = 10)"
   ]
  },
  {
   "cell_type": "markdown",
   "metadata": {},
   "source": [
    "Let's build the pipeline now. A pipeline consists of transformers and an estimator."
   ]
  },
  {
   "cell_type": "code",
   "execution_count": 17,
   "metadata": {},
   "outputs": [],
   "source": [
    "pipeline_lr = Pipeline(stages = [features, lab , lr])"
   ]
  },
  {
   "cell_type": "markdown",
   "metadata": {},
   "source": [
    "Now, you can train your Logistic Regression model using the previously defined **pipeline** and **train data**.\""
   ]
  },
  {
   "cell_type": "code",
   "execution_count": null,
   "metadata": {},
   "outputs": [],
   "source": [
    "model_lr = pipeline_lr.fit(train_data)"
   ]
  },
  {
   "cell_type": "markdown",
   "metadata": {},
   "source": [
    "You can check your **model accuracy** now. To evaluate the model, use **test data**."
   ]
  },
  {
   "cell_type": "code",
   "execution_count": 19,
   "metadata": {},
   "outputs": [
    {
     "name": "stdout",
     "output_type": "stream",
     "text": [
      "Test dataset:\n",
      "Accuracy = 0.80\n"
     ]
    },
    {
     "name": "stderr",
     "output_type": "stream",
     "text": [
      "                                                                                \r"
     ]
    }
   ],
   "source": [
    "predictions = model_lr.transform(test_data)\n",
    "evaluator = MulticlassClassificationEvaluator(labelCol=\"label\", predictionCol=\"prediction\", metricName=\"accuracy\")\n",
    "accuracy = evaluator.evaluate(predictions)\n",
    "\n",
    "print(\"Test dataset:\")\n",
    "print(\"Accuracy = %3.2f\" % accuracy)"
   ]
  },
  {
   "cell_type": "markdown",
   "metadata": {},
   "source": [
    "You can tune your model now to achieve better accuracy. For simplicity of this example tuning section is omitted."
   ]
  },
  {
   "cell_type": "markdown",
   "metadata": {},
   "source": [
    "<a id=\"upload\"></a>\n",
    "## 4. Persist model"
   ]
  },
  {
   "cell_type": "markdown",
   "metadata": {},
   "source": [
    "\n",
    "In this section you will learn how to store your pipeline and model in Watson Machine Learning repository using Python client libraries."
   ]
  },
  {
   "cell_type": "markdown",
   "metadata": {},
   "source": [
    "**Note**: Apache® Spark 3.4 is required."
   ]
  },
  {
   "cell_type": "markdown",
   "metadata": {},
   "source": [
    "### 4.1: Save pipeline and model"
   ]
  },
  {
   "cell_type": "markdown",
   "metadata": {},
   "source": [
    "In this subsection you will learn how to save pipeline and model artifacts to your Watson Machine Learning instance."
   ]
  },
  {
   "cell_type": "code",
   "execution_count": 20,
   "metadata": {},
   "outputs": [
    {
     "name": "stderr",
     "output_type": "stream",
     "text": [
      "                                                                                \r"
     ]
    }
   ],
   "source": [
    "saved_model = client.repository.store_model(\n",
    "    model=model_lr, \n",
    "    meta_props={\n",
    "        client.repository.ModelMetaNames.NAME:'Customer Churn model',\n",
    "        client.repository.ModelMetaNames.TYPE: \"mllib_3.4\",\n",
    "        client.repository.ModelMetaNames.SOFTWARE_SPEC_ID: client.software_specifications.get_id_by_name('spark-mllib_3.4'),\n",
    "        client.repository.ModelMetaNames.LABEL_FIELD: \"Churn\",\n",
    "    },  \n",
    "    training_data=train_data, \n",
    "    pipeline=pipeline_lr)"
   ]
  },
  {
   "cell_type": "markdown",
   "metadata": {},
   "source": [
    "Get saved model metadata from Watson Machine Learning."
   ]
  },
  {
   "cell_type": "code",
   "execution_count": 21,
   "metadata": {},
   "outputs": [
    {
     "name": "stdout",
     "output_type": "stream",
     "text": [
      "Model Id: c35c567e-4704-4606-90b5-f07d1ffbee0e\n"
     ]
    }
   ],
   "source": [
    "published_model_ID = client.repository.get_model_id(saved_model)\n",
    "\n",
    "print(\"Model Id: \" + str(published_model_ID))"
   ]
  },
  {
   "cell_type": "markdown",
   "metadata": {},
   "source": [
    "**Model Id** can be used to retrive latest model version from Watson Machine Learning instance."
   ]
  },
  {
   "cell_type": "markdown",
   "metadata": {},
   "source": [
    "### 4.2: Load model"
   ]
  },
  {
   "cell_type": "markdown",
   "metadata": {},
   "source": [
    "In this subsection you will learn how to load back saved model from specified instance of Watson Machine Learning."
   ]
  },
  {
   "cell_type": "code",
   "execution_count": 22,
   "metadata": {},
   "outputs": [
    {
     "name": "stderr",
     "output_type": "stream",
     "text": [
      "                                                                                \r"
     ]
    }
   ],
   "source": [
    "loaded_model = client.repository.load(published_model_ID)"
   ]
  },
  {
   "cell_type": "code",
   "execution_count": 23,
   "metadata": {},
   "outputs": [
    {
     "name": "stdout",
     "output_type": "stream",
     "text": [
      "<class 'pyspark.ml.pipeline.PipelineModel'>\n"
     ]
    }
   ],
   "source": [
    "print(type(loaded_model))"
   ]
  },
  {
   "cell_type": "markdown",
   "metadata": {},
   "source": [
    "As you can see the name is correct. You have already learned how save and load the model from Watson Machine Learning repository."
   ]
  },
  {
   "cell_type": "markdown",
   "metadata": {},
   "source": [
    "<a id=\"visualization\"></a>\n",
    "## 5. Predict locally"
   ]
  },
  {
   "cell_type": "markdown",
   "metadata": {},
   "source": [
    "In this section you will learn how to load data from batch scoring and visualize the prediction results with plotly package."
   ]
  },
  {
   "cell_type": "markdown",
   "metadata": {},
   "source": [
    "### 5.1: Make local prediction using previously loaded model and test data"
   ]
  },
  {
   "cell_type": "markdown",
   "metadata": {},
   "source": [
    "In this subsection you will score *predict_data* data set."
   ]
  },
  {
   "cell_type": "code",
   "execution_count": 24,
   "metadata": {},
   "outputs": [],
   "source": [
    "predictions = loaded_model.transform(predict_data)"
   ]
  },
  {
   "cell_type": "markdown",
   "metadata": {},
   "source": [
    "Preview the results by calling the *show()* method on the predictions DataFrame."
   ]
  },
  {
   "cell_type": "code",
   "execution_count": 25,
   "metadata": {},
   "outputs": [
    {
     "name": "stderr",
     "output_type": "stream",
     "text": [
      "24/04/26 13:40:40 WARN package: Truncated the string representation of a plan since it was too large. This behavior can be adjusted by setting 'spark.sql.debug.maxToStringFields'.\n"
     ]
    },
    {
     "name": "stdout",
     "output_type": "stream",
     "text": [
      "-RECORD 0-----------------------------------------------------------------------------------------------------------------------------------------\n",
      " customerID       | 0117-LFRMW                                                                                                                    \n",
      " gender           | Male                                                                                                                          \n",
      " SeniorCitizen    | 0                                                                                                                             \n",
      " Partner          | Yes                                                                                                                           \n",
      " Dependents       | Yes                                                                                                                           \n",
      " tenure           | 37                                                                                                                            \n",
      " PhoneService     | No                                                                                                                            \n",
      " MultipleLines    | No phone service                                                                                                              \n",
      " InternetService  | DSL                                                                                                                           \n",
      " OnlineSecurity   | Yes                                                                                                                           \n",
      " OnlineBackup     | Yes                                                                                                                           \n",
      " DeviceProtection | Yes                                                                                                                           \n",
      " TechSupport      | No                                                                                                                            \n",
      " StreamingTV      | No                                                                                                                            \n",
      " StreamingMovies  | No                                                                                                                            \n",
      " Contract         | Month-to-month                                                                                                                \n",
      " PaperlessBilling | No                                                                                                                            \n",
      " PaymentMethod    | Bank transfer (automatic)                                                                                                     \n",
      " MonthlyCharges   | 40.2                                                                                                                          \n",
      " TotalCharges     | 1448.8                                                                                                                        \n",
      " Churn            | Yes                                                                                                                           \n",
      " features         | (31,[0,5,10,12,14,16,17,19,21,23,28,29,30],[1.0,37.0,1.0,1.0,1.0,1.0,1.0,1.0,1.0,1.0,1.0,40.2,1448.8])                        \n",
      " label            | 1.0                                                                                                                           \n",
      " rawPrediction    | [2.1157559265159356,-2.1157559265159356]                                                                                      \n",
      " probability      | [0.8924251659626177,0.10757483403738233]                                                                                      \n",
      " prediction       | 0.0                                                                                                                           \n",
      "-RECORD 1-----------------------------------------------------------------------------------------------------------------------------------------\n",
      " customerID       | 0121-SNYRK                                                                                                                    \n",
      " gender           | Male                                                                                                                          \n",
      " SeniorCitizen    | 0                                                                                                                             \n",
      " Partner          | No                                                                                                                            \n",
      " Dependents       | No                                                                                                                            \n",
      " tenure           | 50                                                                                                                            \n",
      " PhoneService     | No                                                                                                                            \n",
      " MultipleLines    | No phone service                                                                                                              \n",
      " InternetService  | DSL                                                                                                                           \n",
      " OnlineSecurity   | Yes                                                                                                                           \n",
      " OnlineBackup     | No                                                                                                                            \n",
      " DeviceProtection | No                                                                                                                            \n",
      " TechSupport      | Yes                                                                                                                           \n",
      " StreamingTV      | No                                                                                                                            \n",
      " StreamingMovies  | No                                                                                                                            \n",
      " Contract         | One year                                                                                                                      \n",
      " PaperlessBilling | Yes                                                                                                                           \n",
      " PaymentMethod    | Mailed check                                                                                                                  \n",
      " MonthlyCharges   | 35.4                                                                                                                          \n",
      " TotalCharges     | 1748.9                                                                                                                        \n",
      " Churn            | No                                                                                                                            \n",
      " features         | (31,[0,3,4,5,10,12,13,15,18,19,21,25,27,29,30],[1.0,1.0,1.0,50.0,1.0,1.0,1.0,1.0,1.0,1.0,1.0,1.0,1.0,35.4,1748.9])            \n",
      " label            | 0.0                                                                                                                           \n",
      " rawPrediction    | [2.919009391240401,-2.919009391240401]                                                                                        \n",
      " probability      | [0.9487781787299795,0.05122182127002051]                                                                                      \n",
      " prediction       | 0.0                                                                                                                           \n",
      "-RECORD 2-----------------------------------------------------------------------------------------------------------------------------------------\n",
      " customerID       | 0314-TKOSI                                                                                                                    \n",
      " gender           | Female                                                                                                                        \n",
      " SeniorCitizen    | 0                                                                                                                             \n",
      " Partner          | No                                                                                                                            \n",
      " Dependents       | No                                                                                                                            \n",
      " tenure           | 6                                                                                                                             \n",
      " PhoneService     | Yes                                                                                                                           \n",
      " MultipleLines    | No                                                                                                                            \n",
      " InternetService  | DSL                                                                                                                           \n",
      " OnlineSecurity   | Yes                                                                                                                           \n",
      " OnlineBackup     | Yes                                                                                                                           \n",
      " DeviceProtection | No                                                                                                                            \n",
      " TechSupport      | No                                                                                                                            \n",
      " StreamingTV      | No                                                                                                                            \n",
      " StreamingMovies  | No                                                                                                                            \n",
      " Contract         | Month-to-month                                                                                                                \n",
      " PaperlessBilling | No                                                                                                                            \n",
      " PaymentMethod    | Mailed check                                                                                                                  \n",
      " MonthlyCharges   | 55.15                                                                                                                         \n",
      " TotalCharges     | 322.9                                                                                                                         \n",
      " Churn            | No                                                                                                                            \n",
      " features         | (31,[1,3,4,5,6,7,10,12,14,15,17,19,21,23,27,29,30],[1.0,1.0,1.0,6.0,1.0,1.0,1.0,1.0,1.0,1.0,1.0,1.0,1.0,1.0,1.0,55.15,322.9]) \n",
      " label            | 0.0                                                                                                                           \n",
      " rawPrediction    | [1.384000162011289,-1.384000162011289]                                                                                        \n",
      " probability      | [0.7996326754890671,0.20036732451093286]                                                                                      \n",
      " prediction       | 0.0                                                                                                                           \n",
      "-RECORD 3-----------------------------------------------------------------------------------------------------------------------------------------\n",
      " customerID       | 0365-TRTPY                                                                                                                    \n",
      " gender           | Female                                                                                                                        \n",
      " SeniorCitizen    | 0                                                                                                                             \n",
      " Partner          | No                                                                                                                            \n",
      " Dependents       | No                                                                                                                            \n",
      " tenure           | 37                                                                                                                            \n",
      " PhoneService     | Yes                                                                                                                           \n",
      " MultipleLines    | Yes                                                                                                                           \n",
      " InternetService  | Fiber optic                                                                                                                   \n",
      " OnlineSecurity   | Yes                                                                                                                           \n",
      " OnlineBackup     | Yes                                                                                                                           \n",
      " DeviceProtection | Yes                                                                                                                           \n",
      " TechSupport      | No                                                                                                                            \n",
      " StreamingTV      | No                                                                                                                            \n",
      " StreamingMovies  | No                                                                                                                            \n",
      " Contract         | Month-to-month                                                                                                                \n",
      " PaperlessBilling | No                                                                                                                            \n",
      " PaymentMethod    | Bank transfer (automatic)                                                                                                     \n",
      " MonthlyCharges   | 91.2                                                                                                                          \n",
      " TotalCharges     | 3382.3                                                                                                                        \n",
      " Churn            | No                                                                                                                            \n",
      " features         | (31,[1,3,4,5,6,8,9,12,14,16,17,19,21,23,28,29,30],[1.0,1.0,1.0,37.0,1.0,1.0,1.0,1.0,1.0,1.0,1.0,1.0,1.0,1.0,1.0,91.2,3382.3]) \n",
      " label            | 0.0                                                                                                                           \n",
      " rawPrediction    | [1.2619544615514307,-1.2619544615514307]                                                                                      \n",
      " probability      | [0.7793623739634478,0.22063762603655224]                                                                                      \n",
      " prediction       | 0.0                                                                                                                           \n",
      "-RECORD 4-----------------------------------------------------------------------------------------------------------------------------------------\n",
      " customerID       | 0384-LPITE                                                                                                                    \n",
      " gender           | Male                                                                                                                          \n",
      " SeniorCitizen    | 0                                                                                                                             \n",
      " Partner          | No                                                                                                                            \n",
      " Dependents       | No                                                                                                                            \n",
      " tenure           | 40                                                                                                                            \n",
      " PhoneService     | No                                                                                                                            \n",
      " MultipleLines    | No phone service                                                                                                              \n",
      " InternetService  | DSL                                                                                                                           \n",
      " OnlineSecurity   | Yes                                                                                                                           \n",
      " OnlineBackup     | Yes                                                                                                                           \n",
      " DeviceProtection | Yes                                                                                                                           \n",
      " TechSupport      | No                                                                                                                            \n",
      " StreamingTV      | Yes                                                                                                                           \n",
      " StreamingMovies  | Yes                                                                                                                           \n",
      " Contract         | One year                                                                                                                      \n",
      " PaperlessBilling | No                                                                                                                            \n",
      " PaymentMethod    | Credit card (automatic)                                                                                                       \n",
      " MonthlyCharges   | 62.05                                                                                                                         \n",
      " TotalCharges     | 2511.55                                                                                                                       \n",
      " Churn            | No                                                                                                                            \n",
      " features         | (31,[0,3,4,5,10,12,14,16,17,20,22,29,30],[1.0,1.0,1.0,40.0,1.0,1.0,1.0,1.0,1.0,1.0,1.0,62.05,2511.55])                        \n",
      " label            | 0.0                                                                                                                           \n",
      " rawPrediction    | [2.2727488523528008,-2.2727488523528008]                                                                                      \n",
      " probability      | [0.9065948226759218,0.09340517732407816]                                                                                      \n",
      " prediction       | 0.0                                                                                                                           \n",
      "only showing top 5 rows\n",
      "\n"
     ]
    }
   ],
   "source": [
    "predictions.show(5, truncate=False, vertical=True)"
   ]
  },
  {
   "cell_type": "markdown",
   "metadata": {},
   "source": [
    "By tabulating a count, you can see the split between labels."
   ]
  },
  {
   "cell_type": "code",
   "execution_count": 26,
   "metadata": {},
   "outputs": [
    {
     "name": "stdout",
     "output_type": "stream",
     "text": [
      "+----------+-----+\n",
      "|prediction|count|\n",
      "+----------+-----+\n",
      "|0.0       |103  |\n",
      "|1.0       |30   |\n",
      "+----------+-----+\n",
      "\n"
     ]
    }
   ],
   "source": [
    "predictions.select(\"prediction\").groupBy(\"prediction\").count().show(truncate=False)"
   ]
  },
  {
   "cell_type": "markdown",
   "metadata": {},
   "source": [
    "<a id=\"deploy\"></a>\n",
    "## 6. Deploy model and score"
   ]
  },
  {
   "cell_type": "markdown",
   "metadata": {},
   "source": [
    "In this section you will learn how to create batch deployment and to score a new data record by using the Watson Machine Learning REST API. \n",
    "For more information about REST APIs, see the [Swagger Documentation](https://cloud.ibm.com/apidocs/machine-learning#deployments-create)."
   ]
  },
  {
   "cell_type": "markdown",
   "metadata": {},
   "source": [
    "### 6.1 Prepare scoring data for batch job"
   ]
  },
  {
   "cell_type": "markdown",
   "metadata": {},
   "source": [
    "#### Get data for prediction"
   ]
  },
  {
   "cell_type": "markdown",
   "metadata": {},
   "source": [
    "First, download scoring data into notebook's filesystem"
   ]
  },
  {
   "cell_type": "code",
   "execution_count": 27,
   "metadata": {},
   "outputs": [],
   "source": [
    "import os\n",
    "from wget import download\n",
    "\n",
    "sample_dir = 'spark_sample_model'\n",
    "if not os.path.isdir(sample_dir):\n",
    "    os.mkdir(sample_dir)\n",
    "    \n",
    "filename = os.path.join(sample_dir, 'scoreInput.csv')\n",
    "if not os.path.isfile(filename):\n",
    "    filename = download(\"https://github.com/IBM/watson-machine-learning-samples/raw/master/cpd5.0/data/customer_churn/scoreInput.csv\", out=sample_dir)"
   ]
  },
  {
   "cell_type": "markdown",
   "metadata": {},
   "source": [
    "### 6.2: Create batch deployment"
   ]
  },
  {
   "cell_type": "markdown",
   "metadata": {},
   "source": [
    "Now you can create a batch scoring endpoint.\n",
    "Execute the following sample code that uses the **published_model_ID** value to create the scoring endpoint for predictions."
   ]
  },
  {
   "cell_type": "markdown",
   "metadata": {},
   "source": [
    "#### Create batch deployment for published model"
   ]
  },
  {
   "cell_type": "code",
   "execution_count": 28,
   "metadata": {},
   "outputs": [
    {
     "name": "stdout",
     "output_type": "stream",
     "text": [
      "\n",
      "\n",
      "######################################################################################\n",
      "\n",
      "Synchronous deployment creation for id: 'c35c567e-4704-4606-90b5-f07d1ffbee0e' started\n",
      "\n",
      "######################################################################################\n",
      "\n",
      "\n",
      "ready.\n",
      "\n",
      "\n",
      "-----------------------------------------------------------------------------------------------\n",
      "Successfully finished deployment creation, deployment_id='d79c4305-978e-4eea-9112-d61997f70268'\n",
      "-----------------------------------------------------------------------------------------------\n",
      "\n",
      "\n"
     ]
    }
   ],
   "source": [
    "meta_data = {\n",
    "    client.deployments.ConfigurationMetaNames.NAME: \"Customer Churn batch deployment\",\n",
    "    client.deployments.ConfigurationMetaNames.BATCH: {},\n",
    "    client.deployments.ConfigurationMetaNames.HARDWARE_SPEC: {\n",
    "        \"name\": \"S\",\n",
    "        \"num_nodes\": 1\n",
    "    }\n",
    "}\n",
    "\n",
    "deployment_details = client.deployments.create(published_model_ID, meta_props=meta_data)"
   ]
  },
  {
   "cell_type": "markdown",
   "metadata": {},
   "source": [
    "Batch deployment has been created.\n",
    "\n",
    "You can retrieve now your deployment ID."
   ]
  },
  {
   "cell_type": "code",
   "execution_count": 29,
   "metadata": {},
   "outputs": [],
   "source": [
    "deployment_id = client.deployments.get_id(deployment_details)"
   ]
  },
  {
   "cell_type": "markdown",
   "metadata": {},
   "source": [
    "You can also list all deployments in your space."
   ]
  },
  {
   "cell_type": "code",
   "execution_count": null,
   "metadata": {},
   "outputs": [],
   "source": [
    "client.deployments.list()"
   ]
  },
  {
   "cell_type": "markdown",
   "metadata": {},
   "source": [
    "If you want to get additional information on your deployment, you can do it as below."
   ]
  },
  {
   "cell_type": "code",
   "execution_count": 30,
   "metadata": {},
   "outputs": [
    {
     "data": {
      "text/plain": [
       "{'entity': {'asset': {'id': 'c35c567e-4704-4606-90b5-f07d1ffbee0e'},\n",
       "  'batch': {},\n",
       "  'custom': {},\n",
       "  'deployed_asset_type': 'model',\n",
       "  'hardware_spec': {'id': 'e7ed1d6c-2e89-42d7-aed5-863b972c1d2b',\n",
       "   'name': 'S',\n",
       "   'num_nodes': 1},\n",
       "  'name': 'Customer Churn batch deployment',\n",
       "  'space_id': 'cbd87244-b000-4279-b991-3cefbf8b1555',\n",
       "  'status': {'state': 'ready'}},\n",
       " 'metadata': {'created_at': '2024-04-26T11:41:36.998Z',\n",
       "  'id': 'd79c4305-978e-4eea-9112-d61997f70268',\n",
       "  'modified_at': '2024-04-26T11:41:36.998Z',\n",
       "  'name': 'Customer Churn batch deployment',\n",
       "  'owner': '1000330999',\n",
       "  'space_id': 'cbd87244-b000-4279-b991-3cefbf8b1555'}}"
      ]
     },
     "execution_count": 30,
     "metadata": {},
     "output_type": "execute_result"
    }
   ],
   "source": [
    "client.deployments.get_details(deployment_id)"
   ]
  },
  {
   "cell_type": "markdown",
   "metadata": {},
   "source": [
    "<a id=\"score\"></a>\n",
    "#### Create and run Batch job"
   ]
  },
  {
   "cell_type": "markdown",
   "metadata": {},
   "source": [
    "**Tip**: To install pandas execute `!pip install pandas`"
   ]
  },
  {
   "cell_type": "code",
   "execution_count": 31,
   "metadata": {},
   "outputs": [],
   "source": [
    "import pandas as pd\n",
    "\n",
    "score_input = pd.read_csv(filename).astype('object')"
   ]
  },
  {
   "cell_type": "code",
   "execution_count": 32,
   "metadata": {},
   "outputs": [],
   "source": [
    "job_payload_ref = {\n",
    "    client.deployments.ScoringMetaNames.INPUT_DATA: [\n",
    "        {\n",
    "            \"fields\": score_input.columns.tolist(),\n",
    "            \"values\": [score_input.loc[0].tolist()]\n",
    "        }\n",
    "    ]\n",
    "}"
   ]
  },
  {
   "cell_type": "code",
   "execution_count": 33,
   "metadata": {},
   "outputs": [],
   "source": [
    "job = client.deployments.create_job(deployment_id, meta_props=job_payload_ref)"
   ]
  },
  {
   "cell_type": "markdown",
   "metadata": {},
   "source": [
    "Now, your job has been submitted to Spark runtime.\n",
    "\n",
    "You can retrieve now your job ID."
   ]
  },
  {
   "cell_type": "code",
   "execution_count": 34,
   "metadata": {},
   "outputs": [],
   "source": [
    "job_id = client.deployments.get_job_id(job)"
   ]
  },
  {
   "cell_type": "markdown",
   "metadata": {},
   "source": [
    "You can also list all jobs in your space."
   ]
  },
  {
   "cell_type": "code",
   "execution_count": null,
   "metadata": {},
   "outputs": [],
   "source": [
    "client.deployments.list_jobs()"
   ]
  },
  {
   "cell_type": "markdown",
   "metadata": {},
   "source": [
    "If you want to get additional information on your job, you can do it as below."
   ]
  },
  {
   "cell_type": "code",
   "execution_count": 36,
   "metadata": {},
   "outputs": [
    {
     "data": {
      "text/plain": [
       "{'entity': {'deployment': {'id': 'd79c4305-978e-4eea-9112-d61997f70268'},\n",
       "  'platform_job': {'job_id': '2a4631cd-b463-4221-b056-8bc0119afbce',\n",
       "   'run_id': 'f580fd69-1277-4e19-a5d9-2d0bf9df44a4'},\n",
       "  'scoring': {'input_data': [{'fields': ['customerID',\n",
       "      'gender',\n",
       "      'SeniorCitizen',\n",
       "      'Partner',\n",
       "      'Dependents',\n",
       "      'tenure',\n",
       "      'PhoneService',\n",
       "      'MultipleLines',\n",
       "      'InternetService',\n",
       "      'OnlineSecurity',\n",
       "      'OnlineBackup',\n",
       "      'DeviceProtection',\n",
       "      'TechSupport',\n",
       "      'StreamingTV',\n",
       "      'StreamingMovies',\n",
       "      'Contract',\n",
       "      'PaperlessBilling',\n",
       "      'PaymentMethod',\n",
       "      'MonthlyCharges',\n",
       "      'TotalCharges',\n",
       "      'Churn',\n",
       "      'SampleWeight'],\n",
       "     'values': [['9237-HQITU',\n",
       "       'Female',\n",
       "       0,\n",
       "       'No',\n",
       "       'No',\n",
       "       2,\n",
       "       'Yes',\n",
       "       'No',\n",
       "       'Fiber optic',\n",
       "       'No',\n",
       "       'No',\n",
       "       'No',\n",
       "       'No',\n",
       "       'No',\n",
       "       'No',\n",
       "       'Month-to-month',\n",
       "       'Yes',\n",
       "       'Electronic check',\n",
       "       70.7,\n",
       "       151.65,\n",
       "       'Yes',\n",
       "       1.0]]}],\n",
       "   'status': {'completed_at': '', 'running_at': '', 'state': 'queued'}}},\n",
       " 'metadata': {'created_at': '2024-04-26T11:42:05.724Z',\n",
       "  'id': 'f2ef66b6-c809-42f2-b3de-b367508fe95d',\n",
       "  'name': 'name_445a1fc2-5b1b-4019-ba83-ea0b605b190c',\n",
       "  'space_id': 'cbd87244-b000-4279-b991-3cefbf8b1555'}}"
      ]
     },
     "execution_count": 36,
     "metadata": {},
     "output_type": "execute_result"
    }
   ],
   "source": [
    "client.deployments.get_job_details(job_id)"
   ]
  },
  {
   "cell_type": "markdown",
   "metadata": {},
   "source": [
    "#### Monitor job execution"
   ]
  },
  {
   "cell_type": "markdown",
   "metadata": {},
   "source": [
    "Here you can check status of your batch scoring. When status of Spark job is `completed` the results will be written to scoring_output file in Object Storage."
   ]
  },
  {
   "cell_type": "code",
   "execution_count": 37,
   "metadata": {},
   "outputs": [
    {
     "name": "stdout",
     "output_type": "stream",
     "text": [
      " Current state: queued\n",
      " Current state: queued\n",
      " Current state: running\n",
      " Current state: completed\n",
      "{'entity': {'deployment': {'id': 'd79c4305-978e-4eea-9112-d61997f70268'}, 'platform_job': {'job_id': '2a4631cd-b463-4221-b056-8bc0119afbce', 'run_id': 'f580fd69-1277-4e19-a5d9-2d0bf9df44a4'}, 'scoring': {'input_data': [{'fields': ['customerID', 'gender', 'SeniorCitizen', 'Partner', 'Dependents', 'tenure', 'PhoneService', 'MultipleLines', 'InternetService', 'OnlineSecurity', 'OnlineBackup', 'DeviceProtection', 'TechSupport', 'StreamingTV', 'StreamingMovies', 'Contract', 'PaperlessBilling', 'PaymentMethod', 'MonthlyCharges', 'TotalCharges', 'Churn', 'SampleWeight'], 'values': [['9237-HQITU', 'Female', 0, 'No', 'No', 2, 'Yes', 'No', 'Fiber optic', 'No', 'No', 'No', 'No', 'No', 'No', 'Month-to-month', 'Yes', 'Electronic check', 70.7, 151.65, 'Yes', 1]]}], 'predictions': [{'fields': ['customerID', 'gender', 'SeniorCitizen', 'Partner', 'Dependents', 'tenure', 'PhoneService', 'MultipleLines', 'InternetService', 'OnlineSecurity', 'OnlineBackup', 'DeviceProtection', 'TechSupport', 'StreamingTV', 'StreamingMovies', 'Contract', 'PaperlessBilling', 'PaymentMethod', 'MonthlyCharges', 'TotalCharges', 'Churn', 'SampleWeight', 'features', 'label', 'rawPrediction', 'probability', 'prediction'], 'values': [['9237-HQITU', 'Female', 0, 'No', 'No', 2, 'Yes', 'No', 'Fiber optic', 'No', 'No', 'No', 'No', 'No', 'No', 'Month-to-month', 'Yes', 'Electronic check', 70.7, 151.65, 'Yes', 1, [31, [1, 3, 4, 5, 6, 7, 9, 11, 13, 15, 17, 19, 21, 23, 25, 26, 29, 30], [1.0, 1.0, 1.0, 2.0, 1.0, 1.0, 1.0, 1.0, 1.0, 1.0, 1.0, 1.0, 1.0, 1.0, 1.0, 1.0, 70.7, 151.65]], 1.0, [-0.7671302889688807, 0.7671302889688807], [0.3171002090667438, 0.6828997909332561], 1.0]]}], 'status': {'completed_at': '2024-04-26T11:42:46.000Z', 'running_at': '2024-04-26T11:42:45.000Z', 'state': 'completed'}}}, 'metadata': {'created_at': '2024-04-26T11:42:05.724Z', 'id': 'f2ef66b6-c809-42f2-b3de-b367508fe95d', 'modified_at': '2024-04-26T11:42:46.841Z', 'name': 'name_445a1fc2-5b1b-4019-ba83-ea0b605b190c', 'space_id': 'cbd87244-b000-4279-b991-3cefbf8b1555'}}\n"
     ]
    }
   ],
   "source": [
    "import time\n",
    "\n",
    "elapsed_time = 0\n",
    "while client.deployments.get_job_status(job_id).get('state') != 'completed' and elapsed_time < 300:\n",
    "    print(f\" Current state: {client.deployments.get_job_status(job_id).get('state')}\")\n",
    "    elapsed_time += 10\n",
    "    time.sleep(10)\n",
    "if client.deployments.get_job_status(job_id).get('state') == 'completed':\n",
    "    print(f\" Current state: {client.deployments.get_job_status(job_id).get('state')}\")\n",
    "    job_details_do = client.deployments.get_job_details(job_id)\n",
    "    print(job_details_do)\n",
    "else:\n",
    "    print(\"Job hasn't completed successfully in 5 minutes.\")"
   ]
  },
  {
   "cell_type": "markdown",
   "metadata": {},
   "source": [
    "#### Get scored data"
   ]
  },
  {
   "cell_type": "code",
   "execution_count": 38,
   "metadata": {},
   "outputs": [
    {
     "name": "stdout",
     "output_type": "stream",
     "text": [
      "{\n",
      "  \"entity\": {\n",
      "    \"deployment\": {\n",
      "      \"id\": \"d79c4305-978e-4eea-9112-d61997f70268\"\n",
      "    },\n",
      "    \"platform_job\": {\n",
      "      \"job_id\": \"2a4631cd-b463-4221-b056-8bc0119afbce\",\n",
      "      \"run_id\": \"f580fd69-1277-4e19-a5d9-2d0bf9df44a4\"\n",
      "    },\n",
      "    \"scoring\": {\n",
      "      \"input_data\": [\n",
      "        {\n",
      "          \"fields\": [\n",
      "            \"customerID\",\n",
      "            \"gender\",\n",
      "            \"SeniorCitizen\",\n",
      "            \"Partner\",\n",
      "            \"Dependents\",\n",
      "            \"tenure\",\n",
      "            \"PhoneService\",\n",
      "            \"MultipleLines\",\n",
      "            \"InternetService\",\n",
      "            \"OnlineSecurity\",\n",
      "            \"OnlineBackup\",\n",
      "            \"DeviceProtection\",\n",
      "            \"TechSupport\",\n",
      "            \"StreamingTV\",\n",
      "            \"StreamingMovies\",\n",
      "            \"Contract\",\n",
      "            \"PaperlessBilling\",\n",
      "            \"PaymentMethod\",\n",
      "            \"MonthlyCharges\",\n",
      "            \"TotalCharges\",\n",
      "            \"Churn\",\n",
      "            \"SampleWeight\"\n",
      "          ],\n",
      "          \"values\": [\n",
      "            [\n",
      "              \"9237-HQITU\",\n",
      "              \"Female\",\n",
      "              0,\n",
      "              \"No\",\n",
      "              \"No\",\n",
      "              2,\n",
      "              \"Yes\",\n",
      "              \"No\",\n",
      "              \"Fiber optic\",\n",
      "              \"No\",\n",
      "              \"No\",\n",
      "              \"No\",\n",
      "              \"No\",\n",
      "              \"No\",\n",
      "              \"No\",\n",
      "              \"Month-to-month\",\n",
      "              \"Yes\",\n",
      "              \"Electronic check\",\n",
      "              70.7,\n",
      "              151.65,\n",
      "              \"Yes\",\n",
      "              1\n",
      "            ]\n",
      "          ]\n",
      "        }\n",
      "      ],\n",
      "      \"predictions\": [\n",
      "        {\n",
      "          \"fields\": [\n",
      "            \"customerID\",\n",
      "            \"gender\",\n",
      "            \"SeniorCitizen\",\n",
      "            \"Partner\",\n",
      "            \"Dependents\",\n",
      "            \"tenure\",\n",
      "            \"PhoneService\",\n",
      "            \"MultipleLines\",\n",
      "            \"InternetService\",\n",
      "            \"OnlineSecurity\",\n",
      "            \"OnlineBackup\",\n",
      "            \"DeviceProtection\",\n",
      "            \"TechSupport\",\n",
      "            \"StreamingTV\",\n",
      "            \"StreamingMovies\",\n",
      "            \"Contract\",\n",
      "            \"PaperlessBilling\",\n",
      "            \"PaymentMethod\",\n",
      "            \"MonthlyCharges\",\n",
      "            \"TotalCharges\",\n",
      "            \"Churn\",\n",
      "            \"SampleWeight\",\n",
      "            \"features\",\n",
      "            \"label\",\n",
      "            \"rawPrediction\",\n",
      "            \"probability\",\n",
      "            \"prediction\"\n",
      "          ],\n",
      "          \"values\": [\n",
      "            [\n",
      "              \"9237-HQITU\",\n",
      "              \"Female\",\n",
      "              0,\n",
      "              \"No\",\n",
      "              \"No\",\n",
      "              2,\n",
      "              \"Yes\",\n",
      "              \"No\",\n",
      "              \"Fiber optic\",\n",
      "              \"No\",\n",
      "              \"No\",\n",
      "              \"No\",\n",
      "              \"No\",\n",
      "              \"No\",\n",
      "              \"No\",\n",
      "              \"Month-to-month\",\n",
      "              \"Yes\",\n",
      "              \"Electronic check\",\n",
      "              70.7,\n",
      "              151.65,\n",
      "              \"Yes\",\n",
      "              1,\n",
      "              [\n",
      "                31,\n",
      "                [\n",
      "                  1,\n",
      "                  3,\n",
      "                  4,\n",
      "                  5,\n",
      "                  6,\n",
      "                  7,\n",
      "                  9,\n",
      "                  11,\n",
      "                  13,\n",
      "                  15,\n",
      "                  17,\n",
      "                  19,\n",
      "                  21,\n",
      "                  23,\n",
      "                  25,\n",
      "                  26,\n",
      "                  29,\n",
      "                  30\n",
      "                ],\n",
      "                [\n",
      "                  1.0,\n",
      "                  1.0,\n",
      "                  1.0,\n",
      "                  2.0,\n",
      "                  1.0,\n",
      "                  1.0,\n",
      "                  1.0,\n",
      "                  1.0,\n",
      "                  1.0,\n",
      "                  1.0,\n",
      "                  1.0,\n",
      "                  1.0,\n",
      "                  1.0,\n",
      "                  1.0,\n",
      "                  1.0,\n",
      "                  1.0,\n",
      "                  70.7,\n",
      "                  151.65\n",
      "                ]\n",
      "              ],\n",
      "              1.0,\n",
      "              [\n",
      "                -0.7671302889688807,\n",
      "                0.7671302889688807\n",
      "              ],\n",
      "              [\n",
      "                0.3171002090667438,\n",
      "                0.6828997909332561\n",
      "              ],\n",
      "              1.0\n",
      "            ]\n",
      "          ]\n",
      "        }\n",
      "      ],\n",
      "      \"status\": {\n",
      "        \"completed_at\": \"2024-04-26T11:42:46.000Z\",\n",
      "        \"running_at\": \"2024-04-26T11:42:45.000Z\",\n",
      "        \"state\": \"completed\"\n",
      "      }\n",
      "    }\n",
      "  },\n",
      "  \"metadata\": {\n",
      "    \"created_at\": \"2024-04-26T11:42:05.724Z\",\n",
      "    \"id\": \"f2ef66b6-c809-42f2-b3de-b367508fe95d\",\n",
      "    \"modified_at\": \"2024-04-26T11:42:46.841Z\",\n",
      "    \"name\": \"name_445a1fc2-5b1b-4019-ba83-ea0b605b190c\",\n",
      "    \"space_id\": \"cbd87244-b000-4279-b991-3cefbf8b1555\"\n",
      "  }\n",
      "}\n"
     ]
    }
   ],
   "source": [
    "import json\n",
    "\n",
    "print(json.dumps(client.deployments.get_job_details(job_id), indent=2))"
   ]
  },
  {
   "cell_type": "markdown",
   "metadata": {},
   "source": [
    "<a id=\"cleanup\"></a>\n",
    "## 7. Clean up "
   ]
  },
  {
   "cell_type": "markdown",
   "metadata": {},
   "source": [
    "If you want to clean up all created assets:\n",
    "- experiments\n",
    "- trainings\n",
    "- pipelines\n",
    "- model definitions\n",
    "- models\n",
    "- functions\n",
    "- deployments\n",
    "\n",
    "please follow up this sample [notebook](https://github.com/IBM/watson-machine-learning-samples/blob/master/cpd5.0/notebooks/python_sdk/instance-management/Machine%20Learning%20artifacts%20management.ipynb)."
   ]
  },
  {
   "cell_type": "markdown",
   "metadata": {},
   "source": [
    "<a id=\"summary\"></a>\n",
    "## 8. Summary and next steps     "
   ]
  },
  {
   "cell_type": "markdown",
   "metadata": {},
   "source": [
    "You successfully completed this notebook! You learned how to use Apache Spark machine learning as well as Watson Machine Learning for model creation and deployment. \n",
    " \n",
    "Check out our _<a href=\"https://ibm.github.io/watsonx-ai-python-sdk/samples.html\" target=\"_blank\" rel=\"noopener no referrer\">Online Documentation</a>_ for more samples, tutorials, documentation, how-tos, and blog posts. "
   ]
  },
  {
   "cell_type": "markdown",
   "metadata": {},
   "source": [
    "### Author\n",
    "\n",
    "**Amadeusz Masny**, Python Software Developer in Watson Machine Learning at IBM"
   ]
  },
  {
   "cell_type": "markdown",
   "metadata": {},
   "source": [
    "Copyright © 2020-2024 IBM. This notebook and its source code are released under the terms of the MIT License."
   ]
  }
 ],
 "metadata": {
  "kernelspec": {
   "display_name": "Python 3 (ipykernel)",
   "language": "python",
   "name": "python3"
  },
  "language_info": {
   "codemirror_mode": {
    "name": "ipython",
    "version": 3
   },
   "file_extension": ".py",
   "mimetype": "text/x-python",
   "name": "python",
   "nbconvert_exporter": "python",
   "pygments_lexer": "ipython3",
   "version": "3.11.9"
  }
 },
 "nbformat": 4,
 "nbformat_minor": 4
}
