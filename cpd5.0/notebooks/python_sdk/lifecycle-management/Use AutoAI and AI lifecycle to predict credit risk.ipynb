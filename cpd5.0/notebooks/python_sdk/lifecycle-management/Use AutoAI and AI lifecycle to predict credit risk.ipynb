{
 "cells": [
  {
   "cell_type": "markdown",
   "metadata": {},
   "source": [
    "# Use AutoAI and AI lifecycle to predict credit risk with `ibm-watsonx-ai`"
   ]
  },
  {
   "cell_type": "markdown",
   "metadata": {},
   "source": [
    "This notebook contains the steps and code to demonstrate support of AI Lifecycle features of am AutoAI model in Watson Machine Learning Service in Watson Machine Learning service. It contains steps and code to work with [ibm-watsonx-ai](https://pypi.python.org/pypi/ibm-watsonx-ai) library available in PyPI repository. It also introduces commands for  training, persisting and deploying model, scoring it, updating the model and redeploying it.\n",
    "\n",
    "Some familiarity with Python is helpful. This notebook uses Python 3.11.\n",
    "\n",
    "\n",
    "## Learning goals\n",
    "\n",
    "The learning goals of this notebook are:\n",
    "\n",
    "-  Work with Watson Machine Learning experiments to train AutoAI models.\n",
    "-  Persist an external model in Watson Machine Learning repository.\n",
    "-  Deploy model for online scoring using client library.\n",
    "-  Score sample records using client library.\n",
    "-  Update previously persisted model.\n",
    "-  Redeploy model in-place.\n",
    "\n",
    "\n",
    "## Contents\n",
    "\n",
    "This notebook contains the following parts:\n",
    "\n",
    "1. [Setup](#setup)\n",
    "2. [Optimizer definition](#definition)\n",
    "3. [Experiment Run](#run)\n",
    "4. [Persist and Deploy trained AutoAI model](#persistence)\n",
    "5. [Refine and persist new version of the model](#refine)\n",
    "6. [Redeploy and score new version of the model](#redeploy)\n",
    "7. [Clean up](#cleanup)\n",
    "8. [Summary and next steps](#summary)"
   ]
  },
  {
   "cell_type": "markdown",
   "metadata": {},
   "source": [
    "<a id=\"setup\"></a>\n",
    "## 1. Set up the environment\n",
    "\n",
    "Before you use the sample code in this notebook, contact with your Cloud Pack for Data administrator and ask for your account credentials."
   ]
  },
  {
   "cell_type": "markdown",
   "metadata": {},
   "source": [
    "### Install and import the `ibm-watsonx-ai` and dependecies\n",
    "**Note:** `ibm-watsonx-ai` documentation can be found <a href=\"https://ibm.github.io/watsonx-ai-python-sdk/index.html\" target=\"_blank\" rel=\"noopener no referrer\">here</a>."
   ]
  },
  {
   "cell_type": "code",
   "execution_count": null,
   "metadata": {},
   "outputs": [],
   "source": [
    "!pip install wget | tail -n 1\n",
    "!pip install -U lale | tail -n 1\n",
    "!pip install -U autoai-libs | tail -n 1\n",
    "!pip install -U ibm-watsonx-ai | tail -n 1\n",
    "!pip install -U scikit-learn==1.3.0 | tail -n 1"
   ]
  },
  {
   "cell_type": "markdown",
   "metadata": {},
   "source": [
    "### Connection to WML\n",
    "\n",
    "Authenticate the Watson Machine Learning service on IBM Cloud Pack for Data. You need to provide platform `url`, your `username` and `api_key`."
   ]
  },
  {
   "cell_type": "code",
   "execution_count": null,
   "metadata": {},
   "outputs": [],
   "source": [
    "username = 'PASTE YOUR USERNAME HERE'\n",
    "api_key = 'PASTE YOUR API_KEY HERE'\n",
    "url = 'PASTE THE PLATFORM URL HERE'"
   ]
  },
  {
   "cell_type": "code",
   "execution_count": 1,
   "metadata": {},
   "outputs": [],
   "source": [
    "from ibm_watsonx_ai import Credentials\n",
    "\n",
    "credentials = Credentials(\n",
    "    username=username,\n",
    "    api_key=api_key,\n",
    "    url=url,\n",
    "    instance_id=\"openshift\",\n",
    "    version=\"5.0\"\n",
    ")"
   ]
  },
  {
   "cell_type": "markdown",
   "metadata": {},
   "source": [
    "Alternatively you can use `username` and `password` to authenticate WML services.\n",
    "\n",
    "```python\n",
    "credentials = Credentials(\n",
    "    username=***,\n",
    "    password=***,\n",
    "    url=***,\n",
    "    instance_id=\"openshift\",\n",
    "    version=\"5.0\"\n",
    ")\n",
    "\n",
    "```"
   ]
  },
  {
   "cell_type": "code",
   "execution_count": 2,
   "metadata": {},
   "outputs": [],
   "source": [
    "from ibm_watsonx_ai import APIClient\n",
    "\n",
    "client = APIClient(credentials)"
   ]
  },
  {
   "cell_type": "markdown",
   "metadata": {},
   "source": [
    "### Working with spaces\n",
    "\n",
    "First of all, you need to create a space that will be used for your work. If you do not have space already created, you can use `{PLATFORM_URL}/ml-runtime/spaces?context=icp4data` to create one.\n",
    "\n",
    "- Click New Deployment Space\n",
    "- Create an empty space\n",
    "- Go to space `Settings` tab\n",
    "- Copy `space_id` and paste it below\n",
    "\n",
    "**Tip**: You can also use SDK to prepare the space for your work. More information can be found [here](https://github.com/IBM/watson-machine-learning-samples/blob/master/cpd5.0/notebooks/python_sdk/instance-management/Space%20management.ipynb).\n",
    "\n",
    "**Action**: Assign space ID below"
   ]
  },
  {
   "cell_type": "code",
   "execution_count": 3,
   "metadata": {},
   "outputs": [],
   "source": [
    "space_id = 'PASTE YOUR SPACE ID HERE'"
   ]
  },
  {
   "cell_type": "markdown",
   "metadata": {},
   "source": [
    "You can use the `list` method to print all existing spaces."
   ]
  },
  {
   "cell_type": "code",
   "execution_count": null,
   "metadata": {},
   "outputs": [],
   "source": [
    "client.spaces.list(limit=10)"
   ]
  },
  {
   "cell_type": "markdown",
   "metadata": {},
   "source": [
    "To be able to interact with all resources available in Watson Machine Learning, you need to set the **space** which you will be using."
   ]
  },
  {
   "cell_type": "code",
   "execution_count": 4,
   "metadata": {},
   "outputs": [
    {
     "data": {
      "text/plain": [
       "'SUCCESS'"
      ]
     },
     "execution_count": 4,
     "metadata": {},
     "output_type": "execute_result"
    }
   ],
   "source": [
    "client.set.default_space(space_id)"
   ]
  },
  {
   "cell_type": "markdown",
   "metadata": {},
   "source": [
    "<a id=\"definition\"></a>\n",
    "## 2. Optimizer definition"
   ]
  },
  {
   "cell_type": "markdown",
   "metadata": {},
   "source": [
    "### Training data connection\n",
    "\n",
    "Define connection information to training data CSV file. This example uses the German Credit Risk dataset. \n",
    "\n",
    "The dataset can be downloaded from [here](https://github.com/IBM/watson-machine-learning-samples/blob/master/cpd5.0/data/credit_risk/credit_risk_training_light.csv)."
   ]
  },
  {
   "cell_type": "code",
   "execution_count": 5,
   "metadata": {},
   "outputs": [],
   "source": [
    "filename = 'credit_risk_training_light.csv'"
   ]
  },
  {
   "cell_type": "markdown",
   "metadata": {},
   "source": [
    "Download training data from git repository."
   ]
  },
  {
   "cell_type": "code",
   "execution_count": 8,
   "metadata": {},
   "outputs": [],
   "source": [
    "import os, wget\n",
    "\n",
    "url = 'https://raw.githubusercontent.com/IBM/watson-machine-learning-samples/master/cpd5.0/data/credit_risk/credit_risk_training_light.csv'\n",
    "if not os.path.isfile(filename): wget.download(url)"
   ]
  },
  {
   "cell_type": "code",
   "execution_count": 9,
   "metadata": {},
   "outputs": [
    {
     "name": "stdout",
     "output_type": "stream",
     "text": [
      "Creating data asset...\n",
      "SUCCESS\n"
     ]
    },
    {
     "data": {
      "text/plain": [
       "{'metadata': {'space_id': '8eaa4f99-9243-4226-95bf-fdafc64b91e3',\n",
       "  'usage': {'last_updated_at': '2024-05-08T14:12:26Z',\n",
       "   'last_updater_id': '1000330999',\n",
       "   'last_update_time': 1715177546138,\n",
       "   'last_accessed_at': '2024-05-08T14:12:26Z',\n",
       "   'last_access_time': 1715177546138,\n",
       "   'last_accessor_id': '1000330999',\n",
       "   'access_count': 0},\n",
       "  'rov': {'mode': 0,\n",
       "   'collaborator_ids': {},\n",
       "   'member_roles': {'1000330999': {'user_iam_id': '1000330999',\n",
       "     'roles': ['OWNER']}}},\n",
       "  'name': 'credit_risk_training',\n",
       "  'description': '',\n",
       "  'asset_type': 'data_asset',\n",
       "  'origin_country': 'us',\n",
       "  'resource_key': 'credit_risk_training',\n",
       "  'rating': 0.0,\n",
       "  'total_ratings': 0,\n",
       "  'catalog_id': 'e2327764-71a8-4813-bd78-e705563a347f',\n",
       "  'created': 1715177546138,\n",
       "  'created_at': '2024-05-08T14:12:26Z',\n",
       "  'owner_id': '1000330999',\n",
       "  'size': 0,\n",
       "  'version': 2.0,\n",
       "  'asset_state': 'available',\n",
       "  'asset_attributes': ['data_asset'],\n",
       "  'asset_id': '16fa020a-bfd5-4cf3-9033-5db05e29e744',\n",
       "  'asset_category': 'USER',\n",
       "  'creator_id': '1000330999',\n",
       "  'guid': '16fa020a-bfd5-4cf3-9033-5db05e29e744',\n",
       "  'href': '/v2/assets/16fa020a-bfd5-4cf3-9033-5db05e29e744?space_id=8eaa4f99-9243-4226-95bf-fdafc64b91e3',\n",
       "  'last_updated_at': '2024-05-08T14:12:26Z'},\n",
       " 'entity': {'data_asset': {'mime_type': 'text/csv'}}}"
      ]
     },
     "execution_count": 9,
     "metadata": {},
     "output_type": "execute_result"
    }
   ],
   "source": [
    "asset_details = client.data_assets.create('credit_risk_training', filename)\n",
    "asset_details"
   ]
  },
  {
   "cell_type": "code",
   "execution_count": 10,
   "metadata": {
    "pycharm": {
     "is_executing": false
    }
   },
   "outputs": [],
   "source": [
    "from ibm_watsonx_ai.helpers import DataConnection, AssetLocation\n",
    "\n",
    "\n",
    "credit_risk_conn = DataConnection(\n",
    "    location=AssetLocation(asset_id=client.data_assets.get_id(asset_details)))\n",
    "\n",
    "training_data_reference=[credit_risk_conn]"
   ]
  },
  {
   "cell_type": "markdown",
   "metadata": {},
   "source": [
    "### Optimizer configuration\n",
    "\n",
    "Provide the input information for AutoAI optimizer:\n",
    "- `name` - experiment name\n",
    "- `prediction_type` - type of the problem\n",
    "- `prediction_column` - target column name\n",
    "- `scoring` - optimization metric"
   ]
  },
  {
   "cell_type": "code",
   "execution_count": 11,
   "metadata": {
    "pycharm": {
     "is_executing": false
    }
   },
   "outputs": [],
   "source": [
    "from ibm_watsonx_ai.experiment import AutoAI\n",
    "\n",
    "experiment = AutoAI(credentials, space_id=space_id)\n",
    "\n",
    "pipeline_optimizer = experiment.optimizer(\n",
    "    name='Credit Risk Prediction - AutoAI',\n",
    "    prediction_type=AutoAI.PredictionType.BINARY,\n",
    "    prediction_column='Risk',\n",
    "    scoring=AutoAI.Metrics.ROC_AUC_SCORE,\n",
    ")"
   ]
  },
  {
   "cell_type": "markdown",
   "metadata": {},
   "source": [
    "Configuration parameters can be retrieved via `get_params()`."
   ]
  },
  {
   "cell_type": "code",
   "execution_count": 12,
   "metadata": {
    "pycharm": {
     "is_executing": false
    }
   },
   "outputs": [
    {
     "data": {
      "text/plain": [
       "{'name': 'Credit Risk Prediction - AutoAI',\n",
       " 'desc': '',\n",
       " 'prediction_type': 'binary',\n",
       " 'prediction_column': 'Risk',\n",
       " 'prediction_columns': None,\n",
       " 'timestamp_column_name': None,\n",
       " 'scoring': 'roc_auc',\n",
       " 'holdout_size': None,\n",
       " 'max_num_daub_ensembles': None,\n",
       " 't_shirt_size': 'm',\n",
       " 'train_sample_rows_test_size': None,\n",
       " 'include_only_estimators': None,\n",
       " 'include_batched_ensemble_estimators': None,\n",
       " 'backtest_num': None,\n",
       " 'lookback_window': None,\n",
       " 'forecast_window': None,\n",
       " 'backtest_gap_length': None,\n",
       " 'cognito_transform_names': None,\n",
       " 'csv_separator': ',',\n",
       " 'excel_sheet': None,\n",
       " 'encoding': 'utf-8',\n",
       " 'positive_label': None,\n",
       " 'drop_duplicates': True,\n",
       " 'outliers_columns': None,\n",
       " 'text_processing': None,\n",
       " 'word2vec_feature_number': None,\n",
       " 'daub_give_priority_to_runtime': None,\n",
       " 'text_columns_names': None,\n",
       " 'sampling_type': None,\n",
       " 'sample_size_limit': None,\n",
       " 'sample_rows_limit': None,\n",
       " 'sample_percentage_limit': None,\n",
       " 'number_of_batch_rows': None,\n",
       " 'n_parallel_data_connections': None,\n",
       " 'test_data_csv_separator': ',',\n",
       " 'test_data_excel_sheet': None,\n",
       " 'test_data_encoding': 'utf-8',\n",
       " 'categorical_imputation_strategy': None,\n",
       " 'numerical_imputation_strategy': None,\n",
       " 'numerical_imputation_value': None,\n",
       " 'imputation_threshold': None,\n",
       " 'retrain_on_holdout': True,\n",
       " 'feature_columns': None,\n",
       " 'pipeline_types': None,\n",
       " 'supporting_features_at_forecast': None,\n",
       " 'numerical_columns': None,\n",
       " 'categorical_columns': None,\n",
       " 'confidence_level': None,\n",
       " 'incremental_learning': None,\n",
       " 'early_stop_enabled': None,\n",
       " 'early_stop_window_size': None,\n",
       " 'time_ordered_data': None,\n",
       " 'feature_selector_mode': None,\n",
       " 'run_id': None}"
      ]
     },
     "execution_count": 12,
     "metadata": {},
     "output_type": "execute_result"
    }
   ],
   "source": [
    "pipeline_optimizer.get_params()"
   ]
  },
  {
   "cell_type": "markdown",
   "metadata": {},
   "source": [
    "<a id=\"run\"></a>\n",
    "## 3. Experiment run\n",
    "\n",
    "Call the `fit()` method to trigger the AutoAI experiment. You can either use interactive mode (synchronous job) or background mode (asychronous job) by specifying `background_model=True`."
   ]
  },
  {
   "cell_type": "code",
   "execution_count": null,
   "metadata": {
    "pycharm": {
     "is_executing": false
    }
   },
   "outputs": [],
   "source": [
    "run_details = pipeline_optimizer.fit(\n",
    "            training_data_reference=training_data_reference,\n",
    "            background_mode=False)"
   ]
  },
  {
   "cell_type": "markdown",
   "metadata": {},
   "source": [
    "You can use the `get_run_status()` method to monitor AutoAI jobs in background mode."
   ]
  },
  {
   "cell_type": "code",
   "execution_count": 14,
   "metadata": {
    "pycharm": {
     "is_executing": false
    }
   },
   "outputs": [
    {
     "data": {
      "text/plain": [
       "'completed'"
      ]
     },
     "execution_count": 14,
     "metadata": {},
     "output_type": "execute_result"
    }
   ],
   "source": [
    "pipeline_optimizer.get_run_status()"
   ]
  },
  {
   "cell_type": "markdown",
   "metadata": {},
   "source": [
    "#### Load trained model"
   ]
  },
  {
   "cell_type": "code",
   "execution_count": null,
   "metadata": {},
   "outputs": [],
   "source": [
    "pipeline = pipeline_optimizer.get_pipeline()"
   ]
  },
  {
   "cell_type": "markdown",
   "metadata": {},
   "source": [
    "#### Reading training data from COS"
   ]
  },
  {
   "cell_type": "code",
   "execution_count": null,
   "metadata": {
    "pycharm": {
     "is_executing": false
    }
   },
   "outputs": [],
   "source": [
    "train_df = pipeline_optimizer.get_data_connections()[0].read()\n",
    "\n",
    "train_X = train_df.drop(['Risk'], axis=1).values\n",
    "train_y = train_df.Risk.values"
   ]
  },
  {
   "cell_type": "markdown",
   "metadata": {},
   "source": [
    "<a id=\"persistence\"></a>\n",
    "## 4. Persist and Deploy trained AutoAI model"
   ]
  },
  {
   "cell_type": "markdown",
   "metadata": {},
   "source": [
    "In this section you will learn how to deploy and score pipeline model as webservice using WML instance."
   ]
  },
  {
   "cell_type": "markdown",
   "metadata": {},
   "source": [
    "### Online deployment creation"
   ]
  },
  {
   "cell_type": "code",
   "execution_count": 11,
   "metadata": {},
   "outputs": [
    {
     "name": "stdout",
     "output_type": "stream",
     "text": [
      "Preparing an AutoAI Deployment...\n",
      "Published model uid: 44472067-33d4-4708-9dd2-d305c0eca40f\n",
      "Deploying model 44472067-33d4-4708-9dd2-d305c0eca40f using V4 client.\n",
      "\n",
      "\n",
      "#######################################################################################\n",
      "\n",
      "Synchronous deployment creation for uid: '44472067-33d4-4708-9dd2-d305c0eca40f' started\n",
      "\n",
      "#######################################################################################\n",
      "\n",
      "\n",
      "initializing....\n",
      "ready\n",
      "\n",
      "\n",
      "------------------------------------------------------------------------------------------------\n",
      "Successfully finished deployment creation, deployment_uid='0a561646-ce6e-4dd4-96c4-488463417307'\n",
      "------------------------------------------------------------------------------------------------\n",
      "\n",
      "\n"
     ]
    }
   ],
   "source": [
    "from ibm_watsonx_ai.deployment import WebService\n",
    "\n",
    "service = WebService(credentials, source_space_id=space_id)\n",
    "\n",
    "service.create(\n",
    "    experiment_run_id=run_details[\"metadata\"][\"id\"],\n",
    "    model=\"Pipeline_1\", \n",
    "    deployment_name=\"AutoAI credit-risk deployment\")"
   ]
  },
  {
   "cell_type": "markdown",
   "metadata": {},
   "source": [
    "Deployment object could be printed to show basic information:"
   ]
  },
  {
   "cell_type": "code",
   "execution_count": null,
   "metadata": {},
   "outputs": [],
   "source": [
    "print(service)"
   ]
  },
  {
   "cell_type": "markdown",
   "metadata": {},
   "source": [
    "To show all available information about the deployment use the `.get_params()` method:"
   ]
  },
  {
   "cell_type": "code",
   "execution_count": null,
   "metadata": {},
   "outputs": [],
   "source": [
    "service.get_params()"
   ]
  },
  {
   "cell_type": "markdown",
   "metadata": {},
   "source": [
    "### Scoring of webservice\n",
    "You can make scoring request by calling `score()` on deployed pipeline."
   ]
  },
  {
   "cell_type": "code",
   "execution_count": 14,
   "metadata": {},
   "outputs": [
    {
     "data": {
      "text/plain": [
       "{'predictions': [{'fields': ['prediction', 'probability'],\n",
       "   'values': [['No Risk', [0.9937857257272232, 0.006214274272776733]],\n",
       "    ['No Risk', [0.9692945258787946, 0.030705474121205386]],\n",
       "    ['No Risk', [0.9659028536178904, 0.034097146382109624]],\n",
       "    ['No Risk', [0.9528451816827154, 0.0471548183172846]],\n",
       "    ['Risk', [0.040341752701822275, 0.9596582472981777]],\n",
       "    ['Risk', [0.05804472513532977, 0.9419552748646702]],\n",
       "    ['No Risk', [0.8992536806845922, 0.10074631931540776]],\n",
       "    ['No Risk', [0.8997752272794306, 0.1002247727205694]],\n",
       "    ['No Risk', [0.998303342620675, 0.0016966573793250517]],\n",
       "    ['Risk', [0.007805452098065269, 0.9921945479019347]]]}]}"
      ]
     },
     "execution_count": 14,
     "metadata": {},
     "output_type": "execute_result"
    }
   ],
   "source": [
    "predictions = service.score(payload=train_df.drop(['Risk'], axis=1).iloc[:10])\n",
    "predictions"
   ]
  },
  {
   "cell_type": "markdown",
   "metadata": {},
   "source": [
    "If you want to work with the web service in an external Python application you can retrieve the service object by:\n",
    " - Initialize the service by `service = WebService(wml_credentials)`\n",
    " - Get deployment_id by `service.list()` method\n",
    " - Get webservice object by `service.get('deployment_id')` method\n",
    "\n",
    "After that you can call `service.score()` method."
   ]
  },
  {
   "cell_type": "markdown",
   "metadata": {},
   "source": [
    "### Deleting deployment\n",
    "You can delete the existing deployment by calling the `service.delete()` command.\n",
    "To list the existing web services you can use `service.list()`."
   ]
  },
  {
   "cell_type": "markdown",
   "metadata": {},
   "source": [
    "<a id=\"refine\"></a>\n",
    "## 5. Refine and persist new version of the model\n",
    "\n",
    "In this section, you'll learn how to store new refinement version of your model in Watson Machine Learning repository by using the Watson Machine Learning Client."
   ]
  },
  {
   "cell_type": "markdown",
   "metadata": {},
   "source": [
    "### Pipeline refinement with [Lale](https://github.com/IBM/lale)\n",
    "\n",
    "In this section you learn how to refine and retrain the best\n",
    "pipeline returned by AutoAI. There are many ways to refine a pipeline.\n",
    "For illustration, simply replace the final estimator in the\n",
    "pipeline by an interpretable model. The call to\n",
    "`wrap_imported_operators()` augments scikit-learn operators with\n",
    "schemas for hyperparameter tuning."
   ]
  },
  {
   "cell_type": "code",
   "execution_count": 15,
   "metadata": {},
   "outputs": [],
   "source": [
    "from sklearn.linear_model import LogisticRegression as LR\n",
    "from sklearn.tree import DecisionTreeClassifier as Tree\n",
    "from sklearn.neighbors import KNeighborsClassifier as KNN\n",
    "from lale.lib.lale import Hyperopt\n",
    "from lale import wrap_imported_operators\n",
    "\n",
    "wrap_imported_operators()"
   ]
  },
  {
   "cell_type": "markdown",
   "metadata": {},
   "source": [
    "#### Pipeline decomposition and new definition\n",
    "\n",
    "Start by removing the last step of the pipeline, i.e., the final estimator."
   ]
  },
  {
   "cell_type": "code",
   "execution_count": 16,
   "metadata": {},
   "outputs": [
    {
     "data": {
      "image/svg+xml": [
       "<?xml version=\"1.0\" encoding=\"UTF-8\" standalone=\"no\"?>\n",
       "<!DOCTYPE svg PUBLIC \"-//W3C//DTD SVG 1.1//EN\"\n",
       " \"http://www.w3.org/Graphics/SVG/1.1/DTD/svg11.dtd\">\n",
       "<!-- Generated by graphviz version 2.47.0 (20210316.0004)\n",
       " -->\n",
       "<!-- Title: cluster:(root) Pages: 1 -->\n",
       "<svg width=\"1275pt\" height=\"149pt\"\n",
       " viewBox=\"0.00 0.00 1274.96 148.54\" xmlns=\"http://www.w3.org/2000/svg\" xmlns:xlink=\"http://www.w3.org/1999/xlink\">\n",
       "<g id=\"graph0\" class=\"graph\" transform=\"scale(1 1) rotate(0) translate(4 144.54)\">\n",
       "<title>cluster:(root)</title>\n",
       "<g id=\"a_graph0\"><a xlink:title=\"(root) = ...\">\n",
       "<polygon fill=\"white\" stroke=\"transparent\" points=\"-4,4 -4,-144.54 1270.96,-144.54 1270.96,4 -4,4\"/>\n",
       "</a>\n",
       "</g>\n",
       "<g id=\"clust1\" class=\"cluster\">\n",
       "<title>cluster:tam</title>\n",
       "<g id=\"a_clust1\"><a xlink:href=\"https://lale.readthedocs.io/en/latest/modules/lale.lib.autoai_libs.tam.html&quot; target=&quot;_blank&quot; rel=&quot;noopener noreferrer\" xlink:title=\"tam = TAM(tans_class=feature_agglomeration, name=&#39;featureagglomeration&#39;, col_names=[&#39;CheckingStatus&#39;, &#39;LoanDuration&#39;, &#39;CreditHistory&#39;, &#39;LoanPurpose&#39;, &#39;LoanAmount&#39;, &#39;ExistingSavings&#39;, &#39;EmploymentDuration&#39;, &#39;InstallmentPercent&#39;, &#39;Sex&#39;, &#39;OthersOnLoan&#39;, &#39;CurrentResi...)\">\n",
       "<polygon fill=\"white\" stroke=\"black\" points=\"1062.89,-40.77 1062.89,-119.77 1184.96,-119.77 1184.96,-40.77 1062.89,-40.77\"/>\n",
       "<text text-anchor=\"middle\" x=\"1123.92\" y=\"-104.57\" font-family=\"Times,serif\" font-size=\"14.50\">TAM</text>\n",
       "</a>\n",
       "</g>\n",
       "</g>\n",
       "<!-- numpy_column_selector_0 -->\n",
       "<g id=\"node1\" class=\"node\">\n",
       "<title>numpy_column_selector_0</title>\n",
       "<g id=\"a_node1\"><a xlink:href=\"https://lale.readthedocs.io/en/latest/modules/lale.lib.autoai_libs.numpy_column_selector.html&quot; target=&quot;_blank&quot; rel=&quot;noopener noreferrer\" xlink:title=\"numpy_column_selector_0 = NumpyColumnSelector(columns=[0, 2, 3, 5, 6, 7, 8, 9, 10, 11, 13, 14, 15, 16, 17, 18, 19])\">\n",
       "<ellipse fill=\"white\" stroke=\"black\" cx=\"33.23\" cy=\"-103.77\" rx=\"33.47\" ry=\"28.07\"/>\n",
       "<text text-anchor=\"middle\" x=\"33.23\" y=\"-112.97\" font-family=\"Times,serif\" font-size=\"11.00\">Numpy&#45;</text>\n",
       "<text text-anchor=\"middle\" x=\"33.23\" y=\"-100.97\" font-family=\"Times,serif\" font-size=\"11.00\">Column&#45;</text>\n",
       "<text text-anchor=\"middle\" x=\"33.23\" y=\"-88.97\" font-family=\"Times,serif\" font-size=\"11.00\">Selector</text>\n",
       "</a>\n",
       "</g>\n",
       "</g>\n",
       "<!-- compress_strings -->\n",
       "<g id=\"node2\" class=\"node\">\n",
       "<title>compress_strings</title>\n",
       "<g id=\"a_node2\"><a xlink:href=\"https://lale.readthedocs.io/en/latest/modules/lale.lib.autoai_libs.compress_strings.html&quot; target=&quot;_blank&quot; rel=&quot;noopener noreferrer\" xlink:title=\"compress_strings = CompressStrings(compress_type=&#39;hash&#39;, dtypes_list=[&#39;char_str&#39;, &#39;char_str&#39;, &#39;char_str&#39;, &#39;char_str&#39;, &#39;char_str&#39;, &#39;int_num&#39;, &#39;char_str&#39;, &#39;char_str&#39;, &#39;int_num&#39;, &#39;char_str&#39;, &#39;char_str&#39;, &#39;char_str&#39;, &#39;int_num&#39;, &#39;char_str&#39;, &#39;int_num&#39;, &#39;char_str&#39;, &#39;char_str&#39;], missing_values_r...)\">\n",
       "<ellipse fill=\"white\" stroke=\"black\" cx=\"142.77\" cy=\"-103.77\" rx=\"40.11\" ry=\"19.6\"/>\n",
       "<text text-anchor=\"middle\" x=\"142.77\" y=\"-106.97\" font-family=\"Times,serif\" font-size=\"11.00\">Compress&#45;</text>\n",
       "<text text-anchor=\"middle\" x=\"142.77\" y=\"-94.97\" font-family=\"Times,serif\" font-size=\"11.00\">Strings</text>\n",
       "</a>\n",
       "</g>\n",
       "</g>\n",
       "<!-- numpy_column_selector_0&#45;&gt;compress_strings -->\n",
       "<g id=\"edge1\" class=\"edge\">\n",
       "<title>numpy_column_selector_0&#45;&gt;compress_strings</title>\n",
       "<path fill=\"none\" stroke=\"black\" d=\"M66.5,-103.77C74.59,-103.77 83.46,-103.77 92.19,-103.77\"/>\n",
       "<polygon fill=\"black\" stroke=\"black\" points=\"92.3,-107.27 102.3,-103.77 92.3,-100.27 92.3,-107.27\"/>\n",
       "</g>\n",
       "<!-- numpy_replace_missing_values_0 -->\n",
       "<g id=\"node3\" class=\"node\">\n",
       "<title>numpy_replace_missing_values_0</title>\n",
       "<g id=\"a_node3\"><a xlink:href=\"https://lale.readthedocs.io/en/latest/modules/lale.lib.autoai_libs.numpy_replace_missing_values.html&quot; target=&quot;_blank&quot; rel=&quot;noopener noreferrer\" xlink:title=\"numpy_replace_missing_values_0 = NumpyReplaceMissingValues(missing_values=[], filling_values=float(&#39;nan&#39;))\">\n",
       "<ellipse fill=\"white\" stroke=\"black\" cx=\"253.73\" cy=\"-103.77\" rx=\"34.8\" ry=\"36.54\"/>\n",
       "<text text-anchor=\"middle\" x=\"253.73\" y=\"-118.97\" font-family=\"Times,serif\" font-size=\"11.00\">Numpy&#45;</text>\n",
       "<text text-anchor=\"middle\" x=\"253.73\" y=\"-106.97\" font-family=\"Times,serif\" font-size=\"11.00\">Replace&#45;</text>\n",
       "<text text-anchor=\"middle\" x=\"253.73\" y=\"-94.97\" font-family=\"Times,serif\" font-size=\"11.00\">Missing&#45;</text>\n",
       "<text text-anchor=\"middle\" x=\"253.73\" y=\"-82.97\" font-family=\"Times,serif\" font-size=\"11.00\">Values</text>\n",
       "</a>\n",
       "</g>\n",
       "</g>\n",
       "<!-- compress_strings&#45;&gt;numpy_replace_missing_values_0 -->\n",
       "<g id=\"edge2\" class=\"edge\">\n",
       "<title>compress_strings&#45;&gt;numpy_replace_missing_values_0</title>\n",
       "<path fill=\"none\" stroke=\"black\" d=\"M183.11,-103.77C191.43,-103.77 200.26,-103.77 208.74,-103.77\"/>\n",
       "<polygon fill=\"black\" stroke=\"black\" points=\"208.85,-107.27 218.85,-103.77 208.85,-100.27 208.85,-107.27\"/>\n",
       "</g>\n",
       "<!-- numpy_replace_unknown_values -->\n",
       "<g id=\"node4\" class=\"node\">\n",
       "<title>numpy_replace_unknown_values</title>\n",
       "<g id=\"a_node4\"><a xlink:href=\"https://lale.readthedocs.io/en/latest/modules/lale.lib.autoai_libs.numpy_replace_unknown_values.html&quot; target=&quot;_blank&quot; rel=&quot;noopener noreferrer\" xlink:title=\"numpy_replace_unknown_values = NumpyReplaceUnknownValues(filling_values=float(&#39;nan&#39;), filling_values_list=[float(&#39;nan&#39;), float(&#39;nan&#39;), float(&#39;nan&#39;), float(&#39;nan&#39;), float(&#39;nan&#39;), float(&#39;nan&#39;), float(&#39;nan&#39;), float(&#39;nan&#39;), float(&#39;nan&#39;), float(&#39;nan&#39;), float(&#39;nan&#39;), float(&#39;nan&#39;), float(&#39;nan&#39;), float(&#39;nan&#39;), float(...)\">\n",
       "<ellipse fill=\"white\" stroke=\"black\" cx=\"363.27\" cy=\"-103.77\" rx=\"38.78\" ry=\"36.54\"/>\n",
       "<text text-anchor=\"middle\" x=\"363.27\" y=\"-118.97\" font-family=\"Times,serif\" font-size=\"11.00\">Numpy&#45;</text>\n",
       "<text text-anchor=\"middle\" x=\"363.27\" y=\"-106.97\" font-family=\"Times,serif\" font-size=\"11.00\">Replace&#45;</text>\n",
       "<text text-anchor=\"middle\" x=\"363.27\" y=\"-94.97\" font-family=\"Times,serif\" font-size=\"11.00\">Unknown&#45;</text>\n",
       "<text text-anchor=\"middle\" x=\"363.27\" y=\"-82.97\" font-family=\"Times,serif\" font-size=\"11.00\">Values</text>\n",
       "</a>\n",
       "</g>\n",
       "</g>\n",
       "<!-- numpy_replace_missing_values_0&#45;&gt;numpy_replace_unknown_values -->\n",
       "<g id=\"edge3\" class=\"edge\">\n",
       "<title>numpy_replace_missing_values_0&#45;&gt;numpy_replace_unknown_values</title>\n",
       "<path fill=\"none\" stroke=\"black\" d=\"M288.46,-103.77C296.6,-103.77 305.47,-103.77 314.13,-103.77\"/>\n",
       "<polygon fill=\"black\" stroke=\"black\" points=\"314.16,-107.27 324.16,-103.77 314.16,-100.27 314.16,-107.27\"/>\n",
       "</g>\n",
       "<!-- boolean2float -->\n",
       "<g id=\"node5\" class=\"node\">\n",
       "<title>boolean2float</title>\n",
       "<g id=\"a_node5\"><a xlink:href=\"https://lale.readthedocs.io/en/latest/modules/lale.lib.autoai_libs.boolean2float.html&quot; target=&quot;_blank&quot; rel=&quot;noopener noreferrer\" xlink:title=\"boolean2float = boolean2float()\">\n",
       "<ellipse fill=\"white\" stroke=\"black\" cx=\"476.11\" cy=\"-100.77\" rx=\"37.91\" ry=\"18\"/>\n",
       "<text text-anchor=\"middle\" x=\"476.11\" y=\"-97.97\" font-family=\"Times,serif\" font-size=\"11.00\">boolean2float</text>\n",
       "</a>\n",
       "</g>\n",
       "</g>\n",
       "<!-- numpy_replace_unknown_values&#45;&gt;boolean2float -->\n",
       "<g id=\"edge4\" class=\"edge\">\n",
       "<title>numpy_replace_unknown_values&#45;&gt;boolean2float</title>\n",
       "<path fill=\"none\" stroke=\"black\" d=\"M402.41,-102.74C410.6,-102.52 419.36,-102.28 427.85,-102.05\"/>\n",
       "<polygon fill=\"black\" stroke=\"black\" points=\"428.12,-105.54 438.02,-101.77 427.93,-98.55 428.12,-105.54\"/>\n",
       "</g>\n",
       "<!-- cat_imputer -->\n",
       "<g id=\"node6\" class=\"node\">\n",
       "<title>cat_imputer</title>\n",
       "<g id=\"a_node6\"><a xlink:href=\"https://lale.readthedocs.io/en/latest/modules/lale.lib.autoai_libs.cat_imputer.html&quot; target=&quot;_blank&quot; rel=&quot;noopener noreferrer\" xlink:title=\"cat_imputer = CatImputer(strategy=&#39;most_frequent&#39;, missing_values=float(&#39;nan&#39;), sklearn_version_family=&#39;23&#39;)\">\n",
       "<ellipse fill=\"white\" stroke=\"black\" cx=\"580.47\" cy=\"-98.77\" rx=\"30.31\" ry=\"19.6\"/>\n",
       "<text text-anchor=\"middle\" x=\"580.47\" y=\"-101.97\" font-family=\"Times,serif\" font-size=\"11.00\">Cat&#45;</text>\n",
       "<text text-anchor=\"middle\" x=\"580.47\" y=\"-89.97\" font-family=\"Times,serif\" font-size=\"11.00\">Imputer</text>\n",
       "</a>\n",
       "</g>\n",
       "</g>\n",
       "<!-- boolean2float&#45;&gt;cat_imputer -->\n",
       "<g id=\"edge5\" class=\"edge\">\n",
       "<title>boolean2float&#45;&gt;cat_imputer</title>\n",
       "<path fill=\"none\" stroke=\"black\" d=\"M514.07,-100.05C522.45,-99.88 531.39,-99.71 539.88,-99.54\"/>\n",
       "<polygon fill=\"black\" stroke=\"black\" points=\"540.02,-103.04 549.95,-99.35 539.88,-96.04 540.02,-103.04\"/>\n",
       "</g>\n",
       "<!-- cat_encoder -->\n",
       "<g id=\"node7\" class=\"node\">\n",
       "<title>cat_encoder</title>\n",
       "<g id=\"a_node7\"><a xlink:href=\"https://lale.readthedocs.io/en/latest/modules/lale.lib.autoai_libs.cat_encoder.html&quot; target=&quot;_blank&quot; rel=&quot;noopener noreferrer\" xlink:title=\"cat_encoder = CatEncoder(encoding=&#39;ordinal&#39;, categories=&#39;auto&#39;, dtype=np.float64, handle_unknown=&#39;error&#39;, sklearn_version_family=&#39;23&#39;)\">\n",
       "<ellipse fill=\"white\" stroke=\"black\" cx=\"682.94\" cy=\"-97.77\" rx=\"31.64\" ry=\"19.6\"/>\n",
       "<text text-anchor=\"middle\" x=\"682.94\" y=\"-100.97\" font-family=\"Times,serif\" font-size=\"11.00\">Cat&#45;</text>\n",
       "<text text-anchor=\"middle\" x=\"682.94\" y=\"-88.97\" font-family=\"Times,serif\" font-size=\"11.00\">Encoder</text>\n",
       "</a>\n",
       "</g>\n",
       "</g>\n",
       "<!-- cat_imputer&#45;&gt;cat_encoder -->\n",
       "<g id=\"edge6\" class=\"edge\">\n",
       "<title>cat_imputer&#45;&gt;cat_encoder</title>\n",
       "<path fill=\"none\" stroke=\"black\" d=\"M611.07,-98.47C620.35,-98.38 630.77,-98.28 640.7,-98.18\"/>\n",
       "<polygon fill=\"black\" stroke=\"black\" points=\"640.84,-101.68 650.8,-98.08 640.77,-94.68 640.84,-101.68\"/>\n",
       "</g>\n",
       "<!-- float32_transform_0 -->\n",
       "<g id=\"node8\" class=\"node\">\n",
       "<title>float32_transform_0</title>\n",
       "<g id=\"a_node8\"><a xlink:href=\"https://lale.readthedocs.io/en/latest/modules/lale.lib.autoai_libs.float32_transform.html&quot; target=&quot;_blank&quot; rel=&quot;noopener noreferrer\" xlink:title=\"float32_transform_0 = float32_transform()\">\n",
       "<ellipse fill=\"white\" stroke=\"black\" cx=\"791.06\" cy=\"-94.77\" rx=\"36.12\" ry=\"19.6\"/>\n",
       "<text text-anchor=\"middle\" x=\"791.06\" y=\"-97.97\" font-family=\"Times,serif\" font-size=\"11.00\">float32_&#45;</text>\n",
       "<text text-anchor=\"middle\" x=\"791.06\" y=\"-85.97\" font-family=\"Times,serif\" font-size=\"11.00\">transform</text>\n",
       "</a>\n",
       "</g>\n",
       "</g>\n",
       "<!-- cat_encoder&#45;&gt;float32_transform_0 -->\n",
       "<g id=\"edge7\" class=\"edge\">\n",
       "<title>cat_encoder&#45;&gt;float32_transform_0</title>\n",
       "<path fill=\"none\" stroke=\"black\" d=\"M714.92,-96.89C724.18,-96.63 734.54,-96.34 744.53,-96.06\"/>\n",
       "<polygon fill=\"black\" stroke=\"black\" points=\"744.85,-99.55 754.75,-95.77 744.66,-92.55 744.85,-99.55\"/>\n",
       "</g>\n",
       "<!-- concat_features -->\n",
       "<g id=\"node15\" class=\"node\">\n",
       "<title>concat_features</title>\n",
       "<g id=\"a_node15\"><a xlink:href=\"https://lale.readthedocs.io/en/latest/modules/lale.lib.lale.concat_features.html&quot; target=&quot;_blank&quot; rel=&quot;noopener noreferrer\" xlink:title=\"concat_features = ConcatFeatures()\">\n",
       "<ellipse fill=\"white\" stroke=\"black\" cx=\"896.36\" cy=\"-68.77\" rx=\"33.47\" ry=\"19.6\"/>\n",
       "<text text-anchor=\"middle\" x=\"896.36\" y=\"-71.97\" font-family=\"Times,serif\" font-size=\"11.00\">Concat&#45;</text>\n",
       "<text text-anchor=\"middle\" x=\"896.36\" y=\"-59.97\" font-family=\"Times,serif\" font-size=\"11.00\">Features</text>\n",
       "</a>\n",
       "</g>\n",
       "</g>\n",
       "<!-- float32_transform_0&#45;&gt;concat_features -->\n",
       "<g id=\"edge13\" class=\"edge\">\n",
       "<title>float32_transform_0&#45;&gt;concat_features</title>\n",
       "<path fill=\"none\" stroke=\"black\" d=\"M824.18,-86.69C834.15,-84.18 845.25,-81.38 855.66,-78.76\"/>\n",
       "<polygon fill=\"black\" stroke=\"black\" points=\"856.53,-82.15 865.38,-76.32 854.82,-75.36 856.53,-82.15\"/>\n",
       "</g>\n",
       "<!-- numpy_column_selector_1 -->\n",
       "<g id=\"node9\" class=\"node\">\n",
       "<title>numpy_column_selector_1</title>\n",
       "<g id=\"a_node9\"><a xlink:href=\"https://lale.readthedocs.io/en/latest/modules/lale.lib.autoai_libs.numpy_column_selector.html&quot; target=&quot;_blank&quot; rel=&quot;noopener noreferrer\" xlink:title=\"numpy_column_selector_1 = NumpyColumnSelector(columns=[1, 4, 12])\">\n",
       "<ellipse fill=\"white\" stroke=\"black\" cx=\"253.73\" cy=\"-31.77\" rx=\"33.47\" ry=\"28.07\"/>\n",
       "<text text-anchor=\"middle\" x=\"253.73\" y=\"-40.97\" font-family=\"Times,serif\" font-size=\"11.00\">Numpy&#45;</text>\n",
       "<text text-anchor=\"middle\" x=\"253.73\" y=\"-28.97\" font-family=\"Times,serif\" font-size=\"11.00\">Column&#45;</text>\n",
       "<text text-anchor=\"middle\" x=\"253.73\" y=\"-16.97\" font-family=\"Times,serif\" font-size=\"11.00\">Selector</text>\n",
       "</a>\n",
       "</g>\n",
       "</g>\n",
       "<!-- float_str2_float -->\n",
       "<g id=\"node10\" class=\"node\">\n",
       "<title>float_str2_float</title>\n",
       "<g id=\"a_node10\"><a xlink:href=\"https://lale.readthedocs.io/en/latest/modules/lale.lib.autoai_libs.float_str2_float.html&quot; target=&quot;_blank&quot; rel=&quot;noopener noreferrer\" xlink:title=\"float_str2_float = FloatStr2Float(dtypes_list=[&#39;int_num&#39;, &#39;int_num&#39;, &#39;int_num&#39;], missing_values_reference_list=[])\">\n",
       "<ellipse fill=\"white\" stroke=\"black\" cx=\"363.27\" cy=\"-31.77\" rx=\"27\" ry=\"28.07\"/>\n",
       "<text text-anchor=\"middle\" x=\"363.27\" y=\"-40.97\" font-family=\"Times,serif\" font-size=\"11.00\">Float&#45;</text>\n",
       "<text text-anchor=\"middle\" x=\"363.27\" y=\"-28.97\" font-family=\"Times,serif\" font-size=\"11.00\">Str2&#45;</text>\n",
       "<text text-anchor=\"middle\" x=\"363.27\" y=\"-16.97\" font-family=\"Times,serif\" font-size=\"11.00\">Float</text>\n",
       "</a>\n",
       "</g>\n",
       "</g>\n",
       "<!-- numpy_column_selector_1&#45;&gt;float_str2_float -->\n",
       "<g id=\"edge8\" class=\"edge\">\n",
       "<title>numpy_column_selector_1&#45;&gt;float_str2_float</title>\n",
       "<path fill=\"none\" stroke=\"black\" d=\"M286.99,-31.77C299.27,-31.77 313.34,-31.77 325.96,-31.77\"/>\n",
       "<polygon fill=\"black\" stroke=\"black\" points=\"326.16,-35.27 336.16,-31.77 326.16,-28.27 326.16,-35.27\"/>\n",
       "</g>\n",
       "<!-- numpy_replace_missing_values_1 -->\n",
       "<g id=\"node11\" class=\"node\">\n",
       "<title>numpy_replace_missing_values_1</title>\n",
       "<g id=\"a_node11\"><a xlink:href=\"https://lale.readthedocs.io/en/latest/modules/lale.lib.autoai_libs.numpy_replace_missing_values.html&quot; target=&quot;_blank&quot; rel=&quot;noopener noreferrer\" xlink:title=\"numpy_replace_missing_values_1 = NumpyReplaceMissingValues(missing_values=[], filling_values=float(&#39;nan&#39;))\">\n",
       "<ellipse fill=\"white\" stroke=\"black\" cx=\"476.11\" cy=\"-36.77\" rx=\"34.8\" ry=\"36.54\"/>\n",
       "<text text-anchor=\"middle\" x=\"476.11\" y=\"-51.97\" font-family=\"Times,serif\" font-size=\"11.00\">Numpy&#45;</text>\n",
       "<text text-anchor=\"middle\" x=\"476.11\" y=\"-39.97\" font-family=\"Times,serif\" font-size=\"11.00\">Replace&#45;</text>\n",
       "<text text-anchor=\"middle\" x=\"476.11\" y=\"-27.97\" font-family=\"Times,serif\" font-size=\"11.00\">Missing&#45;</text>\n",
       "<text text-anchor=\"middle\" x=\"476.11\" y=\"-15.97\" font-family=\"Times,serif\" font-size=\"11.00\">Values</text>\n",
       "</a>\n",
       "</g>\n",
       "</g>\n",
       "<!-- float_str2_float&#45;&gt;numpy_replace_missing_values_1 -->\n",
       "<g id=\"edge9\" class=\"edge\">\n",
       "<title>float_str2_float&#45;&gt;numpy_replace_missing_values_1</title>\n",
       "<path fill=\"none\" stroke=\"black\" d=\"M390.25,-32.94C402.39,-33.49 417.18,-34.16 430.99,-34.78\"/>\n",
       "<polygon fill=\"black\" stroke=\"black\" points=\"431.15,-38.29 441.3,-35.24 431.47,-31.3 431.15,-38.29\"/>\n",
       "</g>\n",
       "<!-- num_imputer -->\n",
       "<g id=\"node12\" class=\"node\">\n",
       "<title>num_imputer</title>\n",
       "<g id=\"a_node12\"><a xlink:href=\"https://lale.readthedocs.io/en/latest/modules/lale.lib.autoai_libs.num_imputer.html&quot; target=&quot;_blank&quot; rel=&quot;noopener noreferrer\" xlink:title=\"num_imputer = NumImputer(strategy=&#39;median&#39;, missing_values=float(&#39;nan&#39;))\">\n",
       "<ellipse fill=\"white\" stroke=\"black\" cx=\"580.47\" cy=\"-39.77\" rx=\"30.31\" ry=\"19.6\"/>\n",
       "<text text-anchor=\"middle\" x=\"580.47\" y=\"-42.97\" font-family=\"Times,serif\" font-size=\"11.00\">Num&#45;</text>\n",
       "<text text-anchor=\"middle\" x=\"580.47\" y=\"-30.97\" font-family=\"Times,serif\" font-size=\"11.00\">Imputer</text>\n",
       "</a>\n",
       "</g>\n",
       "</g>\n",
       "<!-- numpy_replace_missing_values_1&#45;&gt;num_imputer -->\n",
       "<g id=\"edge10\" class=\"edge\">\n",
       "<title>numpy_replace_missing_values_1&#45;&gt;num_imputer</title>\n",
       "<path fill=\"none\" stroke=\"black\" d=\"M510.91,-37.76C520.15,-38.03 530.24,-38.33 539.78,-38.61\"/>\n",
       "<polygon fill=\"black\" stroke=\"black\" points=\"539.74,-42.11 549.83,-38.9 539.94,-35.11 539.74,-42.11\"/>\n",
       "</g>\n",
       "<!-- opt_standard_scaler -->\n",
       "<g id=\"node13\" class=\"node\">\n",
       "<title>opt_standard_scaler</title>\n",
       "<g id=\"a_node13\"><a xlink:href=\"https://lale.readthedocs.io/en/latest/modules/lale.lib.autoai_libs.opt_standard_scaler.html&quot; target=&quot;_blank&quot; rel=&quot;noopener noreferrer\" xlink:title=\"opt_standard_scaler = OptStandardScaler(num_scaler_copy=None, num_scaler_with_mean=None, num_scaler_with_std=None, use_scaler_flag=False)\">\n",
       "<ellipse fill=\"white\" stroke=\"black\" cx=\"682.94\" cy=\"-41.77\" rx=\"36.12\" ry=\"28.07\"/>\n",
       "<text text-anchor=\"middle\" x=\"682.94\" y=\"-50.97\" font-family=\"Times,serif\" font-size=\"11.00\">Opt&#45;</text>\n",
       "<text text-anchor=\"middle\" x=\"682.94\" y=\"-38.97\" font-family=\"Times,serif\" font-size=\"11.00\">Standard&#45;</text>\n",
       "<text text-anchor=\"middle\" x=\"682.94\" y=\"-26.97\" font-family=\"Times,serif\" font-size=\"11.00\">Scaler</text>\n",
       "</a>\n",
       "</g>\n",
       "</g>\n",
       "<!-- num_imputer&#45;&gt;opt_standard_scaler -->\n",
       "<g id=\"edge11\" class=\"edge\">\n",
       "<title>num_imputer&#45;&gt;opt_standard_scaler</title>\n",
       "<path fill=\"none\" stroke=\"black\" d=\"M611.07,-40.36C619.14,-40.52 628.07,-40.7 636.8,-40.87\"/>\n",
       "<polygon fill=\"black\" stroke=\"black\" points=\"636.81,-44.37 646.88,-41.07 636.95,-37.37 636.81,-44.37\"/>\n",
       "</g>\n",
       "<!-- float32_transform_1 -->\n",
       "<g id=\"node14\" class=\"node\">\n",
       "<title>float32_transform_1</title>\n",
       "<g id=\"a_node14\"><a xlink:href=\"https://lale.readthedocs.io/en/latest/modules/lale.lib.autoai_libs.float32_transform.html&quot; target=&quot;_blank&quot; rel=&quot;noopener noreferrer\" xlink:title=\"float32_transform_1 = float32_transform()\">\n",
       "<ellipse fill=\"white\" stroke=\"black\" cx=\"791.06\" cy=\"-45.77\" rx=\"36.12\" ry=\"19.6\"/>\n",
       "<text text-anchor=\"middle\" x=\"791.06\" y=\"-48.97\" font-family=\"Times,serif\" font-size=\"11.00\">float32_&#45;</text>\n",
       "<text text-anchor=\"middle\" x=\"791.06\" y=\"-36.97\" font-family=\"Times,serif\" font-size=\"11.00\">transform</text>\n",
       "</a>\n",
       "</g>\n",
       "</g>\n",
       "<!-- opt_standard_scaler&#45;&gt;float32_transform_1 -->\n",
       "<g id=\"edge12\" class=\"edge\">\n",
       "<title>opt_standard_scaler&#45;&gt;float32_transform_1</title>\n",
       "<path fill=\"none\" stroke=\"black\" d=\"M718.98,-43.09C727.31,-43.4 736.32,-43.74 745.03,-44.07\"/>\n",
       "<polygon fill=\"black\" stroke=\"black\" points=\"744.93,-47.57 755.06,-44.45 745.2,-40.58 744.93,-47.57\"/>\n",
       "</g>\n",
       "<!-- float32_transform_1&#45;&gt;concat_features -->\n",
       "<g id=\"edge14\" class=\"edge\">\n",
       "<title>float32_transform_1&#45;&gt;concat_features</title>\n",
       "<path fill=\"none\" stroke=\"black\" d=\"M824.75,-53.05C834.41,-55.2 845.1,-57.58 855.18,-59.82\"/>\n",
       "<polygon fill=\"black\" stroke=\"black\" points=\"854.47,-63.25 865,-62.01 856,-56.42 854.47,-63.25\"/>\n",
       "</g>\n",
       "<!-- numpy_permute_array -->\n",
       "<g id=\"node16\" class=\"node\">\n",
       "<title>numpy_permute_array</title>\n",
       "<g id=\"a_node16\"><a xlink:href=\"https://lale.readthedocs.io/en/latest/modules/lale.lib.autoai_libs.numpy_permute_array.html&quot; target=&quot;_blank&quot; rel=&quot;noopener noreferrer\" xlink:title=\"numpy_permute_array = NumpyPermuteArray(axis=0, permutation_indices=[0, 2, 3, 5, 6, 7, 8, 9, 10, 11, 13, 14, 15, 16, 17, 18, 19, 1, 4, 12])\">\n",
       "<ellipse fill=\"white\" stroke=\"black\" cx=\"1000.24\" cy=\"-68.77\" rx=\"34.8\" ry=\"28.07\"/>\n",
       "<text text-anchor=\"middle\" x=\"1000.24\" y=\"-77.97\" font-family=\"Times,serif\" font-size=\"11.00\">Numpy&#45;</text>\n",
       "<text text-anchor=\"middle\" x=\"1000.24\" y=\"-65.97\" font-family=\"Times,serif\" font-size=\"11.00\">Permute&#45;</text>\n",
       "<text text-anchor=\"middle\" x=\"1000.24\" y=\"-53.97\" font-family=\"Times,serif\" font-size=\"11.00\">Array</text>\n",
       "</a>\n",
       "</g>\n",
       "</g>\n",
       "<!-- concat_features&#45;&gt;numpy_permute_array -->\n",
       "<g id=\"edge15\" class=\"edge\">\n",
       "<title>concat_features&#45;&gt;numpy_permute_array</title>\n",
       "<path fill=\"none\" stroke=\"black\" d=\"M929.6,-68.77C937.81,-68.77 946.78,-68.77 955.46,-68.77\"/>\n",
       "<polygon fill=\"black\" stroke=\"black\" points=\"955.46,-72.27 965.46,-68.77 955.46,-65.27 955.46,-72.27\"/>\n",
       "</g>\n",
       "<!-- feature_agglomeration -->\n",
       "<g id=\"node17\" class=\"node\">\n",
       "<title>feature_agglomeration</title>\n",
       "<g id=\"a_node17\"><a xlink:href=\"https://lale.readthedocs.io/en/latest/modules/lale.lib.sklearn.feature_agglomeration.html&quot; target=&quot;_blank&quot; rel=&quot;noopener noreferrer\" xlink:title=\"feature_agglomeration = FeatureAgglomeration()\">\n",
       "<ellipse fill=\"white\" stroke=\"black\" cx=\"1123.92\" cy=\"-68.77\" rx=\"53.07\" ry=\"19.6\"/>\n",
       "<text text-anchor=\"middle\" x=\"1123.92\" y=\"-71.97\" font-family=\"Times,serif\" font-size=\"11.00\">Feature&#45;</text>\n",
       "<text text-anchor=\"middle\" x=\"1123.92\" y=\"-59.97\" font-family=\"Times,serif\" font-size=\"11.00\">Agglomeration</text>\n",
       "</a>\n",
       "</g>\n",
       "</g>\n",
       "<!-- numpy_permute_array&#45;&gt;feature_agglomeration -->\n",
       "<g id=\"edge16\" class=\"edge\">\n",
       "<title>numpy_permute_array&#45;&gt;feature_agglomeration</title>\n",
       "<path fill=\"none\" stroke=\"black\" d=\"M1035.14,-68.77C1043.02,-68.77 1051.66,-68.77 1060.35,-68.77\"/>\n",
       "<polygon fill=\"black\" stroke=\"black\" points=\"1052.89,-72.27 1062.89,-68.77 1052.89,-65.27 1052.89,-72.27\"/>\n",
       "</g>\n",
       "<!-- fs1 -->\n",
       "<g id=\"node18\" class=\"node\">\n",
       "<title>fs1</title>\n",
       "<g id=\"a_node18\"><a xlink:href=\"https://lale.readthedocs.io/en/latest/modules/lale.lib.autoai_libs.fs1.html&quot; target=&quot;_blank&quot; rel=&quot;noopener noreferrer\" xlink:title=\"fs1 = FS1(cols_ids_must_keep=range(0, 20), additional_col_count_to_keep=20, ptype=&#39;classification&#39;)\">\n",
       "<ellipse fill=\"white\" stroke=\"black\" cx=\"1239.96\" cy=\"-68.77\" rx=\"27\" ry=\"18\"/>\n",
       "<text text-anchor=\"middle\" x=\"1239.96\" y=\"-65.97\" font-family=\"Times,serif\" font-size=\"11.00\">FS1</text>\n",
       "</a>\n",
       "</g>\n",
       "</g>\n",
       "<!-- feature_agglomeration&#45;&gt;fs1 -->\n",
       "<g id=\"edge17\" class=\"edge\">\n",
       "<title>feature_agglomeration&#45;&gt;fs1</title>\n",
       "<path fill=\"none\" stroke=\"black\" d=\"M1184.96,-68.77C1190.96,-68.77 1196.92,-68.77 1202.56,-68.77\"/>\n",
       "<polygon fill=\"black\" stroke=\"black\" points=\"1202.72,-72.27 1212.72,-68.77 1202.72,-65.27 1202.72,-72.27\"/>\n",
       "</g>\n",
       "</g>\n",
       "</svg>\n"
      ],
      "text/plain": [
       "<graphviz.dot.Digraph at 0x7faf439aaad0>"
      ]
     },
     "metadata": {},
     "output_type": "display_data"
    }
   ],
   "source": [
    "prefix = pipeline.remove_last().freeze_trainable()\n",
    "prefix.visualize()"
   ]
  },
  {
   "cell_type": "markdown",
   "metadata": {},
   "source": [
    "Next, add a new final step, which consists of a choice of three\n",
    "estimators. In this code, `|` is the or combinator (algorithmic\n",
    "choice). It defines a search space for another optimizer run."
   ]
  },
  {
   "cell_type": "code",
   "execution_count": 17,
   "metadata": {},
   "outputs": [
    {
     "data": {
      "image/svg+xml": [
       "<?xml version=\"1.0\" encoding=\"UTF-8\" standalone=\"no\"?>\n",
       "<!DOCTYPE svg PUBLIC \"-//W3C//DTD SVG 1.1//EN\"\n",
       " \"http://www.w3.org/Graphics/SVG/1.1/DTD/svg11.dtd\">\n",
       "<!-- Generated by graphviz version 2.47.0 (20210316.0004)\n",
       " -->\n",
       "<!-- Title: cluster:(root) Pages: 1 -->\n",
       "<svg width=\"1381pt\" height=\"200pt\"\n",
       " viewBox=\"0.00 0.00 1380.96 199.77\" xmlns=\"http://www.w3.org/2000/svg\" xmlns:xlink=\"http://www.w3.org/1999/xlink\">\n",
       "<g id=\"graph0\" class=\"graph\" transform=\"scale(1 1) rotate(0) translate(4 195.77)\">\n",
       "<title>cluster:(root)</title>\n",
       "<g id=\"a_graph0\"><a xlink:title=\"(root) = ...\">\n",
       "<polygon fill=\"white\" stroke=\"transparent\" points=\"-4,4 -4,-195.77 1376.96,-195.77 1376.96,4 -4,4\"/>\n",
       "</a>\n",
       "</g>\n",
       "<g id=\"clust1\" class=\"cluster\">\n",
       "<title>cluster:tam</title>\n",
       "<g id=\"a_clust1\"><a xlink:href=\"https://lale.readthedocs.io/en/latest/modules/lale.lib.autoai_libs.tam.html&quot; target=&quot;_blank&quot; rel=&quot;noopener noreferrer\" xlink:title=\"tam = TAM(tans_class=feature_agglomeration, name=&#39;featureagglomeration&#39;, col_names=[&#39;CheckingStatus&#39;, &#39;LoanDuration&#39;, &#39;CreditHistory&#39;, &#39;LoanPurpose&#39;, &#39;LoanAmount&#39;, &#39;ExistingSavings&#39;, &#39;EmploymentDuration&#39;, &#39;InstallmentPercent&#39;, &#39;Sex&#39;, &#39;OthersOnLoan&#39;, &#39;CurrentResi...)\">\n",
       "<polygon fill=\"white\" stroke=\"black\" points=\"1062.89,-92 1062.89,-171 1184.96,-171 1184.96,-92 1062.89,-92\"/>\n",
       "<text text-anchor=\"middle\" x=\"1123.92\" y=\"-155.8\" font-family=\"Times,serif\" font-size=\"14.00\">TAM</text>\n",
       "</a>\n",
       "</g>\n",
       "</g>\n",
       "<g id=\"clust2\" class=\"cluster\">\n",
       "<title>cluster:choice</title>\n",
       "<g id=\"a_clust2\"><a xlink:title=\"choice = lr | tree | knn\">\n",
       "<polygon fill=\"#7ec0ee\" stroke=\"black\" points=\"1294.96,-8 1294.96,-169 1364.96,-169 1364.96,-8 1294.96,-8\"/>\n",
       "<text text-anchor=\"middle\" x=\"1329.96\" y=\"-153.8\" font-family=\"Times,serif\" font-size=\"14.00\">Choice</text>\n",
       "</a>\n",
       "</g>\n",
       "</g>\n",
       "<!-- numpy_column_selector_0 -->\n",
       "<g id=\"node1\" class=\"node\">\n",
       "<title>numpy_column_selector_0</title>\n",
       "<g id=\"a_node1\"><a xlink:href=\"https://lale.readthedocs.io/en/latest/modules/lale.lib.autoai_libs.numpy_column_selector.html&quot; target=&quot;_blank&quot; rel=&quot;noopener noreferrer\" xlink:title=\"numpy_column_selector_0 = NumpyColumnSelector(columns=[0, 2, 3, 5, 6, 7, 8, 9, 10, 11, 13, 14, 15, 16, 17, 18, 19])\">\n",
       "<ellipse fill=\"white\" stroke=\"black\" cx=\"33.23\" cy=\"-155\" rx=\"33.47\" ry=\"28.07\"/>\n",
       "<text text-anchor=\"middle\" x=\"33.23\" y=\"-164.2\" font-family=\"Times,serif\" font-size=\"11.00\">Numpy&#45;</text>\n",
       "<text text-anchor=\"middle\" x=\"33.23\" y=\"-152.2\" font-family=\"Times,serif\" font-size=\"11.00\">Column&#45;</text>\n",
       "<text text-anchor=\"middle\" x=\"33.23\" y=\"-140.2\" font-family=\"Times,serif\" font-size=\"11.00\">Selector</text>\n",
       "</a>\n",
       "</g>\n",
       "</g>\n",
       "<!-- compress_strings -->\n",
       "<g id=\"node2\" class=\"node\">\n",
       "<title>compress_strings</title>\n",
       "<g id=\"a_node2\"><a xlink:href=\"https://lale.readthedocs.io/en/latest/modules/lale.lib.autoai_libs.compress_strings.html&quot; target=&quot;_blank&quot; rel=&quot;noopener noreferrer\" xlink:title=\"compress_strings = CompressStrings(compress_type=&#39;hash&#39;, dtypes_list=[&#39;char_str&#39;, &#39;char_str&#39;, &#39;char_str&#39;, &#39;char_str&#39;, &#39;char_str&#39;, &#39;int_num&#39;, &#39;char_str&#39;, &#39;char_str&#39;, &#39;int_num&#39;, &#39;char_str&#39;, &#39;char_str&#39;, &#39;char_str&#39;, &#39;int_num&#39;, &#39;char_str&#39;, &#39;int_num&#39;, &#39;char_str&#39;, &#39;char_str&#39;], missing_values_r...)\">\n",
       "<ellipse fill=\"white\" stroke=\"black\" cx=\"142.77\" cy=\"-155\" rx=\"40.11\" ry=\"19.6\"/>\n",
       "<text text-anchor=\"middle\" x=\"142.77\" y=\"-158.2\" font-family=\"Times,serif\" font-size=\"11.00\">Compress&#45;</text>\n",
       "<text text-anchor=\"middle\" x=\"142.77\" y=\"-146.2\" font-family=\"Times,serif\" font-size=\"11.00\">Strings</text>\n",
       "</a>\n",
       "</g>\n",
       "</g>\n",
       "<!-- numpy_column_selector_0&#45;&gt;compress_strings -->\n",
       "<g id=\"edge1\" class=\"edge\">\n",
       "<title>numpy_column_selector_0&#45;&gt;compress_strings</title>\n",
       "<path fill=\"none\" stroke=\"black\" d=\"M66.5,-155C74.59,-155 83.46,-155 92.19,-155\"/>\n",
       "<polygon fill=\"black\" stroke=\"black\" points=\"92.3,-158.5 102.3,-155 92.3,-151.5 92.3,-158.5\"/>\n",
       "</g>\n",
       "<!-- numpy_replace_missing_values_0 -->\n",
       "<g id=\"node3\" class=\"node\">\n",
       "<title>numpy_replace_missing_values_0</title>\n",
       "<g id=\"a_node3\"><a xlink:href=\"https://lale.readthedocs.io/en/latest/modules/lale.lib.autoai_libs.numpy_replace_missing_values.html&quot; target=&quot;_blank&quot; rel=&quot;noopener noreferrer\" xlink:title=\"numpy_replace_missing_values_0 = NumpyReplaceMissingValues(missing_values=[], filling_values=float(&#39;nan&#39;))\">\n",
       "<ellipse fill=\"white\" stroke=\"black\" cx=\"253.73\" cy=\"-155\" rx=\"34.8\" ry=\"36.54\"/>\n",
       "<text text-anchor=\"middle\" x=\"253.73\" y=\"-170.2\" font-family=\"Times,serif\" font-size=\"11.00\">Numpy&#45;</text>\n",
       "<text text-anchor=\"middle\" x=\"253.73\" y=\"-158.2\" font-family=\"Times,serif\" font-size=\"11.00\">Replace&#45;</text>\n",
       "<text text-anchor=\"middle\" x=\"253.73\" y=\"-146.2\" font-family=\"Times,serif\" font-size=\"11.00\">Missing&#45;</text>\n",
       "<text text-anchor=\"middle\" x=\"253.73\" y=\"-134.2\" font-family=\"Times,serif\" font-size=\"11.00\">Values</text>\n",
       "</a>\n",
       "</g>\n",
       "</g>\n",
       "<!-- compress_strings&#45;&gt;numpy_replace_missing_values_0 -->\n",
       "<g id=\"edge2\" class=\"edge\">\n",
       "<title>compress_strings&#45;&gt;numpy_replace_missing_values_0</title>\n",
       "<path fill=\"none\" stroke=\"black\" d=\"M183.11,-155C191.43,-155 200.26,-155 208.74,-155\"/>\n",
       "<polygon fill=\"black\" stroke=\"black\" points=\"208.85,-158.5 218.85,-155 208.85,-151.5 208.85,-158.5\"/>\n",
       "</g>\n",
       "<!-- numpy_replace_unknown_values -->\n",
       "<g id=\"node4\" class=\"node\">\n",
       "<title>numpy_replace_unknown_values</title>\n",
       "<g id=\"a_node4\"><a xlink:href=\"https://lale.readthedocs.io/en/latest/modules/lale.lib.autoai_libs.numpy_replace_unknown_values.html&quot; target=&quot;_blank&quot; rel=&quot;noopener noreferrer\" xlink:title=\"numpy_replace_unknown_values = NumpyReplaceUnknownValues(filling_values=float(&#39;nan&#39;), filling_values_list=[float(&#39;nan&#39;), float(&#39;nan&#39;), float(&#39;nan&#39;), float(&#39;nan&#39;), float(&#39;nan&#39;), float(&#39;nan&#39;), float(&#39;nan&#39;), float(&#39;nan&#39;), float(&#39;nan&#39;), float(&#39;nan&#39;), float(&#39;nan&#39;), float(&#39;nan&#39;), float(&#39;nan&#39;), float(&#39;nan&#39;), float(...)\">\n",
       "<ellipse fill=\"white\" stroke=\"black\" cx=\"363.27\" cy=\"-155\" rx=\"38.78\" ry=\"36.54\"/>\n",
       "<text text-anchor=\"middle\" x=\"363.27\" y=\"-170.2\" font-family=\"Times,serif\" font-size=\"11.00\">Numpy&#45;</text>\n",
       "<text text-anchor=\"middle\" x=\"363.27\" y=\"-158.2\" font-family=\"Times,serif\" font-size=\"11.00\">Replace&#45;</text>\n",
       "<text text-anchor=\"middle\" x=\"363.27\" y=\"-146.2\" font-family=\"Times,serif\" font-size=\"11.00\">Unknown&#45;</text>\n",
       "<text text-anchor=\"middle\" x=\"363.27\" y=\"-134.2\" font-family=\"Times,serif\" font-size=\"11.00\">Values</text>\n",
       "</a>\n",
       "</g>\n",
       "</g>\n",
       "<!-- numpy_replace_missing_values_0&#45;&gt;numpy_replace_unknown_values -->\n",
       "<g id=\"edge3\" class=\"edge\">\n",
       "<title>numpy_replace_missing_values_0&#45;&gt;numpy_replace_unknown_values</title>\n",
       "<path fill=\"none\" stroke=\"black\" d=\"M288.46,-155C296.6,-155 305.47,-155 314.13,-155\"/>\n",
       "<polygon fill=\"black\" stroke=\"black\" points=\"314.16,-158.5 324.16,-155 314.16,-151.5 314.16,-158.5\"/>\n",
       "</g>\n",
       "<!-- boolean2float -->\n",
       "<g id=\"node5\" class=\"node\">\n",
       "<title>boolean2float</title>\n",
       "<g id=\"a_node5\"><a xlink:href=\"https://lale.readthedocs.io/en/latest/modules/lale.lib.autoai_libs.boolean2float.html&quot; target=&quot;_blank&quot; rel=&quot;noopener noreferrer\" xlink:title=\"boolean2float = boolean2float()\">\n",
       "<ellipse fill=\"white\" stroke=\"black\" cx=\"476.11\" cy=\"-152\" rx=\"37.91\" ry=\"18\"/>\n",
       "<text text-anchor=\"middle\" x=\"476.11\" y=\"-149.2\" font-family=\"Times,serif\" font-size=\"11.00\">boolean2float</text>\n",
       "</a>\n",
       "</g>\n",
       "</g>\n",
       "<!-- numpy_replace_unknown_values&#45;&gt;boolean2float -->\n",
       "<g id=\"edge4\" class=\"edge\">\n",
       "<title>numpy_replace_unknown_values&#45;&gt;boolean2float</title>\n",
       "<path fill=\"none\" stroke=\"black\" d=\"M402.41,-153.97C410.6,-153.75 419.36,-153.51 427.85,-153.28\"/>\n",
       "<polygon fill=\"black\" stroke=\"black\" points=\"428.12,-156.77 438.02,-153 427.93,-149.78 428.12,-156.77\"/>\n",
       "</g>\n",
       "<!-- cat_imputer -->\n",
       "<g id=\"node6\" class=\"node\">\n",
       "<title>cat_imputer</title>\n",
       "<g id=\"a_node6\"><a xlink:href=\"https://lale.readthedocs.io/en/latest/modules/lale.lib.autoai_libs.cat_imputer.html&quot; target=&quot;_blank&quot; rel=&quot;noopener noreferrer\" xlink:title=\"cat_imputer = CatImputer(strategy=&#39;most_frequent&#39;, missing_values=float(&#39;nan&#39;), sklearn_version_family=&#39;23&#39;)\">\n",
       "<ellipse fill=\"white\" stroke=\"black\" cx=\"580.47\" cy=\"-150\" rx=\"30.31\" ry=\"19.6\"/>\n",
       "<text text-anchor=\"middle\" x=\"580.47\" y=\"-153.2\" font-family=\"Times,serif\" font-size=\"11.00\">Cat&#45;</text>\n",
       "<text text-anchor=\"middle\" x=\"580.47\" y=\"-141.2\" font-family=\"Times,serif\" font-size=\"11.00\">Imputer</text>\n",
       "</a>\n",
       "</g>\n",
       "</g>\n",
       "<!-- boolean2float&#45;&gt;cat_imputer -->\n",
       "<g id=\"edge5\" class=\"edge\">\n",
       "<title>boolean2float&#45;&gt;cat_imputer</title>\n",
       "<path fill=\"none\" stroke=\"black\" d=\"M514.07,-151.28C522.45,-151.11 531.39,-150.94 539.88,-150.77\"/>\n",
       "<polygon fill=\"black\" stroke=\"black\" points=\"540.02,-154.27 549.95,-150.58 539.88,-147.27 540.02,-154.27\"/>\n",
       "</g>\n",
       "<!-- cat_encoder -->\n",
       "<g id=\"node7\" class=\"node\">\n",
       "<title>cat_encoder</title>\n",
       "<g id=\"a_node7\"><a xlink:href=\"https://lale.readthedocs.io/en/latest/modules/lale.lib.autoai_libs.cat_encoder.html&quot; target=&quot;_blank&quot; rel=&quot;noopener noreferrer\" xlink:title=\"cat_encoder = CatEncoder(encoding=&#39;ordinal&#39;, categories=&#39;auto&#39;, dtype=np.float64, handle_unknown=&#39;error&#39;, sklearn_version_family=&#39;23&#39;)\">\n",
       "<ellipse fill=\"white\" stroke=\"black\" cx=\"682.94\" cy=\"-149\" rx=\"31.64\" ry=\"19.6\"/>\n",
       "<text text-anchor=\"middle\" x=\"682.94\" y=\"-152.2\" font-family=\"Times,serif\" font-size=\"11.00\">Cat&#45;</text>\n",
       "<text text-anchor=\"middle\" x=\"682.94\" y=\"-140.2\" font-family=\"Times,serif\" font-size=\"11.00\">Encoder</text>\n",
       "</a>\n",
       "</g>\n",
       "</g>\n",
       "<!-- cat_imputer&#45;&gt;cat_encoder -->\n",
       "<g id=\"edge6\" class=\"edge\">\n",
       "<title>cat_imputer&#45;&gt;cat_encoder</title>\n",
       "<path fill=\"none\" stroke=\"black\" d=\"M611.07,-149.71C620.35,-149.61 630.77,-149.51 640.7,-149.41\"/>\n",
       "<polygon fill=\"black\" stroke=\"black\" points=\"640.84,-152.91 650.8,-149.31 640.77,-145.91 640.84,-152.91\"/>\n",
       "</g>\n",
       "<!-- float32_transform_0 -->\n",
       "<g id=\"node8\" class=\"node\">\n",
       "<title>float32_transform_0</title>\n",
       "<g id=\"a_node8\"><a xlink:href=\"https://lale.readthedocs.io/en/latest/modules/lale.lib.autoai_libs.float32_transform.html&quot; target=&quot;_blank&quot; rel=&quot;noopener noreferrer\" xlink:title=\"float32_transform_0 = float32_transform()\">\n",
       "<ellipse fill=\"white\" stroke=\"black\" cx=\"791.06\" cy=\"-146\" rx=\"36.12\" ry=\"19.6\"/>\n",
       "<text text-anchor=\"middle\" x=\"791.06\" y=\"-149.2\" font-family=\"Times,serif\" font-size=\"11.00\">float32_&#45;</text>\n",
       "<text text-anchor=\"middle\" x=\"791.06\" y=\"-137.2\" font-family=\"Times,serif\" font-size=\"11.00\">transform</text>\n",
       "</a>\n",
       "</g>\n",
       "</g>\n",
       "<!-- cat_encoder&#45;&gt;float32_transform_0 -->\n",
       "<g id=\"edge7\" class=\"edge\">\n",
       "<title>cat_encoder&#45;&gt;float32_transform_0</title>\n",
       "<path fill=\"none\" stroke=\"black\" d=\"M714.92,-148.12C724.18,-147.86 734.54,-147.57 744.53,-147.29\"/>\n",
       "<polygon fill=\"black\" stroke=\"black\" points=\"744.85,-150.78 754.75,-147 744.66,-143.78 744.85,-150.78\"/>\n",
       "</g>\n",
       "<!-- concat_features -->\n",
       "<g id=\"node15\" class=\"node\">\n",
       "<title>concat_features</title>\n",
       "<g id=\"a_node15\"><a xlink:href=\"https://lale.readthedocs.io/en/latest/modules/lale.lib.lale.concat_features.html&quot; target=&quot;_blank&quot; rel=&quot;noopener noreferrer\" xlink:title=\"concat_features = ConcatFeatures()\">\n",
       "<ellipse fill=\"white\" stroke=\"black\" cx=\"896.36\" cy=\"-120\" rx=\"33.47\" ry=\"19.6\"/>\n",
       "<text text-anchor=\"middle\" x=\"896.36\" y=\"-123.2\" font-family=\"Times,serif\" font-size=\"11.00\">Concat&#45;</text>\n",
       "<text text-anchor=\"middle\" x=\"896.36\" y=\"-111.2\" font-family=\"Times,serif\" font-size=\"11.00\">Features</text>\n",
       "</a>\n",
       "</g>\n",
       "</g>\n",
       "<!-- float32_transform_0&#45;&gt;concat_features -->\n",
       "<g id=\"edge13\" class=\"edge\">\n",
       "<title>float32_transform_0&#45;&gt;concat_features</title>\n",
       "<path fill=\"none\" stroke=\"black\" d=\"M824.18,-137.92C834.15,-135.41 845.25,-132.61 855.66,-129.99\"/>\n",
       "<polygon fill=\"black\" stroke=\"black\" points=\"856.53,-133.38 865.38,-127.55 854.82,-126.59 856.53,-133.38\"/>\n",
       "</g>\n",
       "<!-- numpy_column_selector_1 -->\n",
       "<g id=\"node9\" class=\"node\">\n",
       "<title>numpy_column_selector_1</title>\n",
       "<g id=\"a_node9\"><a xlink:href=\"https://lale.readthedocs.io/en/latest/modules/lale.lib.autoai_libs.numpy_column_selector.html&quot; target=&quot;_blank&quot; rel=&quot;noopener noreferrer\" xlink:title=\"numpy_column_selector_1 = NumpyColumnSelector(columns=[1, 4, 12])\">\n",
       "<ellipse fill=\"white\" stroke=\"black\" cx=\"253.73\" cy=\"-83\" rx=\"33.47\" ry=\"28.07\"/>\n",
       "<text text-anchor=\"middle\" x=\"253.73\" y=\"-92.2\" font-family=\"Times,serif\" font-size=\"11.00\">Numpy&#45;</text>\n",
       "<text text-anchor=\"middle\" x=\"253.73\" y=\"-80.2\" font-family=\"Times,serif\" font-size=\"11.00\">Column&#45;</text>\n",
       "<text text-anchor=\"middle\" x=\"253.73\" y=\"-68.2\" font-family=\"Times,serif\" font-size=\"11.00\">Selector</text>\n",
       "</a>\n",
       "</g>\n",
       "</g>\n",
       "<!-- float_str2_float -->\n",
       "<g id=\"node10\" class=\"node\">\n",
       "<title>float_str2_float</title>\n",
       "<g id=\"a_node10\"><a xlink:href=\"https://lale.readthedocs.io/en/latest/modules/lale.lib.autoai_libs.float_str2_float.html&quot; target=&quot;_blank&quot; rel=&quot;noopener noreferrer\" xlink:title=\"float_str2_float = FloatStr2Float(dtypes_list=[&#39;int_num&#39;, &#39;int_num&#39;, &#39;int_num&#39;], missing_values_reference_list=[])\">\n",
       "<ellipse fill=\"white\" stroke=\"black\" cx=\"363.27\" cy=\"-83\" rx=\"27\" ry=\"28.07\"/>\n",
       "<text text-anchor=\"middle\" x=\"363.27\" y=\"-92.2\" font-family=\"Times,serif\" font-size=\"11.00\">Float&#45;</text>\n",
       "<text text-anchor=\"middle\" x=\"363.27\" y=\"-80.2\" font-family=\"Times,serif\" font-size=\"11.00\">Str2&#45;</text>\n",
       "<text text-anchor=\"middle\" x=\"363.27\" y=\"-68.2\" font-family=\"Times,serif\" font-size=\"11.00\">Float</text>\n",
       "</a>\n",
       "</g>\n",
       "</g>\n",
       "<!-- numpy_column_selector_1&#45;&gt;float_str2_float -->\n",
       "<g id=\"edge8\" class=\"edge\">\n",
       "<title>numpy_column_selector_1&#45;&gt;float_str2_float</title>\n",
       "<path fill=\"none\" stroke=\"black\" d=\"M286.99,-83C299.27,-83 313.34,-83 325.96,-83\"/>\n",
       "<polygon fill=\"black\" stroke=\"black\" points=\"326.16,-86.5 336.16,-83 326.16,-79.5 326.16,-86.5\"/>\n",
       "</g>\n",
       "<!-- numpy_replace_missing_values_1 -->\n",
       "<g id=\"node11\" class=\"node\">\n",
       "<title>numpy_replace_missing_values_1</title>\n",
       "<g id=\"a_node11\"><a xlink:href=\"https://lale.readthedocs.io/en/latest/modules/lale.lib.autoai_libs.numpy_replace_missing_values.html&quot; target=&quot;_blank&quot; rel=&quot;noopener noreferrer\" xlink:title=\"numpy_replace_missing_values_1 = NumpyReplaceMissingValues(missing_values=[], filling_values=float(&#39;nan&#39;))\">\n",
       "<ellipse fill=\"white\" stroke=\"black\" cx=\"476.11\" cy=\"-88\" rx=\"34.8\" ry=\"36.54\"/>\n",
       "<text text-anchor=\"middle\" x=\"476.11\" y=\"-103.2\" font-family=\"Times,serif\" font-size=\"11.00\">Numpy&#45;</text>\n",
       "<text text-anchor=\"middle\" x=\"476.11\" y=\"-91.2\" font-family=\"Times,serif\" font-size=\"11.00\">Replace&#45;</text>\n",
       "<text text-anchor=\"middle\" x=\"476.11\" y=\"-79.2\" font-family=\"Times,serif\" font-size=\"11.00\">Missing&#45;</text>\n",
       "<text text-anchor=\"middle\" x=\"476.11\" y=\"-67.2\" font-family=\"Times,serif\" font-size=\"11.00\">Values</text>\n",
       "</a>\n",
       "</g>\n",
       "</g>\n",
       "<!-- float_str2_float&#45;&gt;numpy_replace_missing_values_1 -->\n",
       "<g id=\"edge9\" class=\"edge\">\n",
       "<title>float_str2_float&#45;&gt;numpy_replace_missing_values_1</title>\n",
       "<path fill=\"none\" stroke=\"black\" d=\"M390.25,-84.17C402.39,-84.72 417.18,-85.39 430.99,-86.01\"/>\n",
       "<polygon fill=\"black\" stroke=\"black\" points=\"431.15,-89.52 441.3,-86.47 431.47,-82.53 431.15,-89.52\"/>\n",
       "</g>\n",
       "<!-- num_imputer -->\n",
       "<g id=\"node12\" class=\"node\">\n",
       "<title>num_imputer</title>\n",
       "<g id=\"a_node12\"><a xlink:href=\"https://lale.readthedocs.io/en/latest/modules/lale.lib.autoai_libs.num_imputer.html&quot; target=&quot;_blank&quot; rel=&quot;noopener noreferrer\" xlink:title=\"num_imputer = NumImputer(strategy=&#39;median&#39;, missing_values=float(&#39;nan&#39;))\">\n",
       "<ellipse fill=\"white\" stroke=\"black\" cx=\"580.47\" cy=\"-91\" rx=\"30.31\" ry=\"19.6\"/>\n",
       "<text text-anchor=\"middle\" x=\"580.47\" y=\"-94.2\" font-family=\"Times,serif\" font-size=\"11.00\">Num&#45;</text>\n",
       "<text text-anchor=\"middle\" x=\"580.47\" y=\"-82.2\" font-family=\"Times,serif\" font-size=\"11.00\">Imputer</text>\n",
       "</a>\n",
       "</g>\n",
       "</g>\n",
       "<!-- numpy_replace_missing_values_1&#45;&gt;num_imputer -->\n",
       "<g id=\"edge10\" class=\"edge\">\n",
       "<title>numpy_replace_missing_values_1&#45;&gt;num_imputer</title>\n",
       "<path fill=\"none\" stroke=\"black\" d=\"M510.91,-88.99C520.15,-89.26 530.24,-89.56 539.78,-89.84\"/>\n",
       "<polygon fill=\"black\" stroke=\"black\" points=\"539.74,-93.34 549.83,-90.13 539.94,-86.34 539.74,-93.34\"/>\n",
       "</g>\n",
       "<!-- opt_standard_scaler -->\n",
       "<g id=\"node13\" class=\"node\">\n",
       "<title>opt_standard_scaler</title>\n",
       "<g id=\"a_node13\"><a xlink:href=\"https://lale.readthedocs.io/en/latest/modules/lale.lib.autoai_libs.opt_standard_scaler.html&quot; target=&quot;_blank&quot; rel=&quot;noopener noreferrer\" xlink:title=\"opt_standard_scaler = OptStandardScaler(num_scaler_copy=None, num_scaler_with_mean=None, num_scaler_with_std=None, use_scaler_flag=False)\">\n",
       "<ellipse fill=\"white\" stroke=\"black\" cx=\"682.94\" cy=\"-93\" rx=\"36.12\" ry=\"28.07\"/>\n",
       "<text text-anchor=\"middle\" x=\"682.94\" y=\"-102.2\" font-family=\"Times,serif\" font-size=\"11.00\">Opt&#45;</text>\n",
       "<text text-anchor=\"middle\" x=\"682.94\" y=\"-90.2\" font-family=\"Times,serif\" font-size=\"11.00\">Standard&#45;</text>\n",
       "<text text-anchor=\"middle\" x=\"682.94\" y=\"-78.2\" font-family=\"Times,serif\" font-size=\"11.00\">Scaler</text>\n",
       "</a>\n",
       "</g>\n",
       "</g>\n",
       "<!-- num_imputer&#45;&gt;opt_standard_scaler -->\n",
       "<g id=\"edge11\" class=\"edge\">\n",
       "<title>num_imputer&#45;&gt;opt_standard_scaler</title>\n",
       "<path fill=\"none\" stroke=\"black\" d=\"M611.07,-91.59C619.14,-91.75 628.07,-91.93 636.8,-92.1\"/>\n",
       "<polygon fill=\"black\" stroke=\"black\" points=\"636.81,-95.6 646.88,-92.3 636.95,-88.6 636.81,-95.6\"/>\n",
       "</g>\n",
       "<!-- float32_transform_1 -->\n",
       "<g id=\"node14\" class=\"node\">\n",
       "<title>float32_transform_1</title>\n",
       "<g id=\"a_node14\"><a xlink:href=\"https://lale.readthedocs.io/en/latest/modules/lale.lib.autoai_libs.float32_transform.html&quot; target=&quot;_blank&quot; rel=&quot;noopener noreferrer\" xlink:title=\"float32_transform_1 = float32_transform()\">\n",
       "<ellipse fill=\"white\" stroke=\"black\" cx=\"791.06\" cy=\"-97\" rx=\"36.12\" ry=\"19.6\"/>\n",
       "<text text-anchor=\"middle\" x=\"791.06\" y=\"-100.2\" font-family=\"Times,serif\" font-size=\"11.00\">float32_&#45;</text>\n",
       "<text text-anchor=\"middle\" x=\"791.06\" y=\"-88.2\" font-family=\"Times,serif\" font-size=\"11.00\">transform</text>\n",
       "</a>\n",
       "</g>\n",
       "</g>\n",
       "<!-- opt_standard_scaler&#45;&gt;float32_transform_1 -->\n",
       "<g id=\"edge12\" class=\"edge\">\n",
       "<title>opt_standard_scaler&#45;&gt;float32_transform_1</title>\n",
       "<path fill=\"none\" stroke=\"black\" d=\"M718.98,-94.32C727.31,-94.63 736.32,-94.97 745.03,-95.3\"/>\n",
       "<polygon fill=\"black\" stroke=\"black\" points=\"744.93,-98.8 755.06,-95.68 745.2,-91.81 744.93,-98.8\"/>\n",
       "</g>\n",
       "<!-- float32_transform_1&#45;&gt;concat_features -->\n",
       "<g id=\"edge14\" class=\"edge\">\n",
       "<title>float32_transform_1&#45;&gt;concat_features</title>\n",
       "<path fill=\"none\" stroke=\"black\" d=\"M824.75,-104.28C834.41,-106.43 845.1,-108.81 855.18,-111.05\"/>\n",
       "<polygon fill=\"black\" stroke=\"black\" points=\"854.47,-114.48 865,-113.24 856,-107.65 854.47,-114.48\"/>\n",
       "</g>\n",
       "<!-- numpy_permute_array -->\n",
       "<g id=\"node16\" class=\"node\">\n",
       "<title>numpy_permute_array</title>\n",
       "<g id=\"a_node16\"><a xlink:href=\"https://lale.readthedocs.io/en/latest/modules/lale.lib.autoai_libs.numpy_permute_array.html&quot; target=&quot;_blank&quot; rel=&quot;noopener noreferrer\" xlink:title=\"numpy_permute_array = NumpyPermuteArray(axis=0, permutation_indices=[0, 2, 3, 5, 6, 7, 8, 9, 10, 11, 13, 14, 15, 16, 17, 18, 19, 1, 4, 12])\">\n",
       "<ellipse fill=\"white\" stroke=\"black\" cx=\"1000.24\" cy=\"-120\" rx=\"34.8\" ry=\"28.07\"/>\n",
       "<text text-anchor=\"middle\" x=\"1000.24\" y=\"-129.2\" font-family=\"Times,serif\" font-size=\"11.00\">Numpy&#45;</text>\n",
       "<text text-anchor=\"middle\" x=\"1000.24\" y=\"-117.2\" font-family=\"Times,serif\" font-size=\"11.00\">Permute&#45;</text>\n",
       "<text text-anchor=\"middle\" x=\"1000.24\" y=\"-105.2\" font-family=\"Times,serif\" font-size=\"11.00\">Array</text>\n",
       "</a>\n",
       "</g>\n",
       "</g>\n",
       "<!-- concat_features&#45;&gt;numpy_permute_array -->\n",
       "<g id=\"edge15\" class=\"edge\">\n",
       "<title>concat_features&#45;&gt;numpy_permute_array</title>\n",
       "<path fill=\"none\" stroke=\"black\" d=\"M929.6,-120C937.81,-120 946.78,-120 955.46,-120\"/>\n",
       "<polygon fill=\"black\" stroke=\"black\" points=\"955.46,-123.5 965.46,-120 955.46,-116.5 955.46,-123.5\"/>\n",
       "</g>\n",
       "<!-- feature_agglomeration -->\n",
       "<g id=\"node17\" class=\"node\">\n",
       "<title>feature_agglomeration</title>\n",
       "<g id=\"a_node17\"><a xlink:href=\"https://lale.readthedocs.io/en/latest/modules/lale.lib.sklearn.feature_agglomeration.html&quot; target=&quot;_blank&quot; rel=&quot;noopener noreferrer\" xlink:title=\"feature_agglomeration = FeatureAgglomeration()\">\n",
       "<ellipse fill=\"white\" stroke=\"black\" cx=\"1123.92\" cy=\"-120\" rx=\"53.07\" ry=\"19.6\"/>\n",
       "<text text-anchor=\"middle\" x=\"1123.92\" y=\"-123.2\" font-family=\"Times,serif\" font-size=\"11.00\">Feature&#45;</text>\n",
       "<text text-anchor=\"middle\" x=\"1123.92\" y=\"-111.2\" font-family=\"Times,serif\" font-size=\"11.00\">Agglomeration</text>\n",
       "</a>\n",
       "</g>\n",
       "</g>\n",
       "<!-- numpy_permute_array&#45;&gt;feature_agglomeration -->\n",
       "<g id=\"edge16\" class=\"edge\">\n",
       "<title>numpy_permute_array&#45;&gt;feature_agglomeration</title>\n",
       "<path fill=\"none\" stroke=\"black\" d=\"M1035.14,-120C1043.02,-120 1051.66,-120 1060.35,-120\"/>\n",
       "<polygon fill=\"black\" stroke=\"black\" points=\"1052.89,-123.5 1062.89,-120 1052.89,-116.5 1052.89,-123.5\"/>\n",
       "</g>\n",
       "<!-- fs1 -->\n",
       "<g id=\"node18\" class=\"node\">\n",
       "<title>fs1</title>\n",
       "<g id=\"a_node18\"><a xlink:href=\"https://lale.readthedocs.io/en/latest/modules/lale.lib.autoai_libs.fs1.html&quot; target=&quot;_blank&quot; rel=&quot;noopener noreferrer\" xlink:title=\"fs1 = FS1(cols_ids_must_keep=range(0, 20), additional_col_count_to_keep=20, ptype=&#39;classification&#39;)\">\n",
       "<ellipse fill=\"white\" stroke=\"black\" cx=\"1239.96\" cy=\"-120\" rx=\"27\" ry=\"18\"/>\n",
       "<text text-anchor=\"middle\" x=\"1239.96\" y=\"-117.2\" font-family=\"Times,serif\" font-size=\"11.00\">FS1</text>\n",
       "</a>\n",
       "</g>\n",
       "</g>\n",
       "<!-- feature_agglomeration&#45;&gt;fs1 -->\n",
       "<g id=\"edge17\" class=\"edge\">\n",
       "<title>feature_agglomeration&#45;&gt;fs1</title>\n",
       "<path fill=\"none\" stroke=\"black\" d=\"M1184.96,-120C1190.96,-120 1196.92,-120 1202.56,-120\"/>\n",
       "<polygon fill=\"black\" stroke=\"black\" points=\"1202.72,-123.5 1212.72,-120 1202.72,-116.5 1202.72,-123.5\"/>\n",
       "</g>\n",
       "<!-- lr -->\n",
       "<g id=\"node19\" class=\"node\">\n",
       "<title>lr</title>\n",
       "<g id=\"a_node19\"><a xlink:href=\"https://lale.readthedocs.io/en/latest/modules/lale.lib.sklearn.logistic_regression.html&quot; target=&quot;_blank&quot; rel=&quot;noopener noreferrer\" xlink:title=\"lr = LR\">\n",
       "<ellipse fill=\"#7ec0ee\" stroke=\"black\" cx=\"1329.96\" cy=\"-120\" rx=\"27\" ry=\"18\"/>\n",
       "<text text-anchor=\"middle\" x=\"1329.96\" y=\"-117.2\" font-family=\"Times,serif\" font-size=\"11.00\">LR</text>\n",
       "</a>\n",
       "</g>\n",
       "</g>\n",
       "<!-- fs1&#45;&gt;lr -->\n",
       "<g id=\"edge18\" class=\"edge\">\n",
       "<title>fs1&#45;&gt;lr</title>\n",
       "<path fill=\"none\" stroke=\"black\" d=\"M1267.36,-120C1275.35,-120 1284.27,-120 1292.78,-120\"/>\n",
       "<polygon fill=\"black\" stroke=\"black\" points=\"1284.96,-123.5 1294.96,-120 1284.96,-116.5 1284.96,-123.5\"/>\n",
       "</g>\n",
       "<!-- tree -->\n",
       "<g id=\"node20\" class=\"node\">\n",
       "<title>tree</title>\n",
       "<g id=\"a_node20\"><a xlink:href=\"https://lale.readthedocs.io/en/latest/modules/lale.lib.sklearn.decision_tree_classifier.html&quot; target=&quot;_blank&quot; rel=&quot;noopener noreferrer\" xlink:title=\"tree = Tree\">\n",
       "<ellipse fill=\"#7ec0ee\" stroke=\"black\" cx=\"1329.96\" cy=\"-77\" rx=\"27\" ry=\"18\"/>\n",
       "<text text-anchor=\"middle\" x=\"1329.96\" y=\"-74.2\" font-family=\"Times,serif\" font-size=\"11.00\">Tree</text>\n",
       "</a>\n",
       "</g>\n",
       "</g>\n",
       "<!-- knn -->\n",
       "<g id=\"node21\" class=\"node\">\n",
       "<title>knn</title>\n",
       "<g id=\"a_node21\"><a xlink:href=\"https://lale.readthedocs.io/en/latest/modules/lale.lib.sklearn.k_neighbors_classifier.html&quot; target=&quot;_blank&quot; rel=&quot;noopener noreferrer\" xlink:title=\"knn = KNN\">\n",
       "<ellipse fill=\"#7ec0ee\" stroke=\"black\" cx=\"1329.96\" cy=\"-34\" rx=\"27\" ry=\"18\"/>\n",
       "<text text-anchor=\"middle\" x=\"1329.96\" y=\"-31.2\" font-family=\"Times,serif\" font-size=\"11.00\">KNN</text>\n",
       "</a>\n",
       "</g>\n",
       "</g>\n",
       "</g>\n",
       "</svg>\n"
      ],
      "text/plain": [
       "<graphviz.dot.Digraph at 0x7faf43adb1d0>"
      ]
     },
     "metadata": {},
     "output_type": "display_data"
    }
   ],
   "source": [
    "new_pipeline = prefix >> (LR | Tree | KNN)\n",
    "new_pipeline.visualize()"
   ]
  },
  {
   "cell_type": "markdown",
   "metadata": {},
   "source": [
    "#### New optimizer `Hyperopt` configuration and training\n",
    "\n",
    "To automatically select the algorithm and tune its hyperparameters, we\n",
    "create an instance of the `Hyperopt` optimizer and `fit` it to the\n",
    "data."
   ]
  },
  {
   "cell_type": "code",
   "execution_count": 18,
   "metadata": {},
   "outputs": [],
   "source": [
    "from sklearn.model_selection import train_test_split\n",
    "\n",
    "X_train, X_test, y_train, y_test = train_test_split(train_X, train_y, test_size=0.15, random_state=33)"
   ]
  },
  {
   "cell_type": "code",
   "execution_count": 19,
   "metadata": {},
   "outputs": [
    {
     "name": "stdout",
     "output_type": "stream",
     "text": [
      "100%|██████████| 20/20 [00:36<00:00,  1.82s/trial, best loss: -0.7943909200702679]\n"
     ]
    }
   ],
   "source": [
    "hyperopt = Hyperopt(estimator=new_pipeline, cv=3, max_evals=20, scoring='roc_auc')\n",
    "hyperopt_pipelines = hyperopt.fit(X_train, y_train)"
   ]
  },
  {
   "cell_type": "code",
   "execution_count": 20,
   "metadata": {},
   "outputs": [],
   "source": [
    "pipeline_model = hyperopt_pipelines.get_pipeline(astype='sklearn')"
   ]
  },
  {
   "cell_type": "markdown",
   "metadata": {},
   "source": [
    "#### Save newly refined pipeline"
   ]
  },
  {
   "cell_type": "code",
   "execution_count": 21,
   "metadata": {},
   "outputs": [],
   "source": [
    "import joblib\n",
    "\n",
    "model_path = \"refined_pipeline.pickle\"\n",
    "joblib.dump(pipeline_model, model_path);"
   ]
  },
  {
   "cell_type": "code",
   "execution_count": 22,
   "metadata": {},
   "outputs": [],
   "source": [
    "import tarfile\n",
    "\n",
    "with tarfile.open(model_path + \".tar.gz\", \"w:gz\") as tar:\n",
    "    tar.add(model_path)\n",
    "model_path += \".tar.gz\""
   ]
  },
  {
   "cell_type": "markdown",
   "metadata": {},
   "source": [
    "### Publish new version of the model"
   ]
  },
  {
   "cell_type": "markdown",
   "metadata": {},
   "source": [
    "#### Download current version of the model"
   ]
  },
  {
   "cell_type": "code",
   "execution_count": 23,
   "metadata": {},
   "outputs": [],
   "source": [
    "model_id = service.get_params()['entity']['asset']['id']\n",
    "deployment_id = service.get_params()['metadata']['id']"
   ]
  },
  {
   "cell_type": "code",
   "execution_count": 25,
   "metadata": {},
   "outputs": [
    {
     "name": "stdout",
     "output_type": "stream",
     "text": [
      "Successfully saved model content to file: 'current_model.zip'\n"
     ]
    }
   ],
   "source": [
    "downloaded_model_name = \"current_model.zip\"\n",
    "client.repository.download(model_id, downloaded_model_name);"
   ]
  },
  {
   "cell_type": "code",
   "execution_count": 26,
   "metadata": {},
   "outputs": [],
   "source": [
    "import zipfile\n",
    "\n",
    "with zipfile.ZipFile(downloaded_model_name, \"r\") as zip_ref:\n",
    "    zip_ref.extractall()"
   ]
  },
  {
   "cell_type": "markdown",
   "metadata": {},
   "source": [
    "#### Create archive containing updated model"
   ]
  },
  {
   "cell_type": "code",
   "execution_count": 27,
   "metadata": {},
   "outputs": [],
   "source": [
    "updated_model_path = \"updated_model.zip\"\n",
    "with zipfile.ZipFile(updated_model_path, \"w\") as zip_ref:\n",
    "    zip_ref.write(model_path)\n",
    "    zip_ref.write(\"pipeline-model.json\")"
   ]
  },
  {
   "cell_type": "markdown",
   "metadata": {},
   "source": [
    "#### Save the current model version"
   ]
  },
  {
   "cell_type": "code",
   "execution_count": null,
   "metadata": {},
   "outputs": [],
   "source": [
    "import json\n",
    "\n",
    "print(json.dumps(client.repository.create_model_revision(model_id), indent=2))"
   ]
  },
  {
   "cell_type": "markdown",
   "metadata": {},
   "source": [
    "#### Update the model"
   ]
  },
  {
   "cell_type": "code",
   "execution_count": 29,
   "metadata": {},
   "outputs": [],
   "source": [
    "metadata = {\n",
    "    client.repository.ModelMetaNames.NAME: 'AutoAI credit-risk updated model'\n",
    "}\n",
    "\n",
    "published_model = client.repository.update_model(\n",
    "    model_id=model_id,\n",
    "    update_model=updated_model_path,\n",
    "    updated_meta_props=metadata\n",
    ")"
   ]
  },
  {
   "cell_type": "markdown",
   "metadata": {},
   "source": [
    "#### Save new model revision of the updated model"
   ]
  },
  {
   "cell_type": "code",
   "execution_count": null,
   "metadata": {},
   "outputs": [],
   "source": [
    "new_model_revision = client.repository.create_model_revision(model_id)\n",
    "print(json.dumps(new_model_revision, indent=2))"
   ]
  },
  {
   "cell_type": "markdown",
   "metadata": {},
   "source": [
    "**Note:** Model revisions can be identified by model `id` and `rev` number. \n",
    "\n",
    "Get model `rev` number from creation details:"
   ]
  },
  {
   "cell_type": "code",
   "execution_count": 31,
   "metadata": {
    "tags": []
   },
   "outputs": [],
   "source": [
    "rev_id = new_model_revision['metadata'].get('rev')"
   ]
  },
  {
   "cell_type": "markdown",
   "metadata": {},
   "source": [
    "#### List list existing revisions of the model"
   ]
  },
  {
   "cell_type": "code",
   "execution_count": 32,
   "metadata": {},
   "outputs": [
    {
     "name": "stdout",
     "output_type": "stream",
     "text": [
      "--  --------------------------------  ------------------------\n",
      "ID  NAME                              CREATED\n",
      "2   AutoAI credit-risk updated model  2021-10-18T14:42:08.102Z\n",
      "1   P1                                2021-10-18T14:42:08.102Z\n",
      "--  --------------------------------  ------------------------\n"
     ]
    }
   ],
   "source": [
    "client.repository.list_models_revisions(model_id)"
   ]
  },
  {
   "cell_type": "markdown",
   "metadata": {},
   "source": [
    "#### Get details of updated model"
   ]
  },
  {
   "cell_type": "code",
   "execution_count": null,
   "metadata": {},
   "outputs": [],
   "source": [
    "print(json.dumps(client.repository.get_details(model_id), indent=2))"
   ]
  },
  {
   "cell_type": "markdown",
   "metadata": {},
   "source": [
    "<a id=\"redeploy\"></a>\n",
    "## 6. Redeploy and score new version of the model\n",
    "\n",
    "In this section, you'll learn how to redeploy new version of the model by using the watsonx.ai Client."
   ]
  },
  {
   "cell_type": "code",
   "execution_count": 34,
   "metadata": {},
   "outputs": [
    {
     "name": "stdout",
     "output_type": "stream",
     "text": [
      "Since ASSET is patched, deployment with new asset id/rev is being started. Monitor the status using deployments.get_details(deployment_uid) api\n"
     ]
    }
   ],
   "source": [
    "metadata = {\n",
    "    client.deployments.ConfigurationMetaNames.ASSET: {\n",
    "        \"id\": model_id,\n",
    "        \"rev\": rev_id\n",
    "    }\n",
    "}\n",
    "    \n",
    "updated_deployment = client.deployments.update(deployment_id, changes=metadata)"
   ]
  },
  {
   "cell_type": "markdown",
   "metadata": {},
   "source": [
    "Wait for the deployment update: "
   ]
  },
  {
   "cell_type": "code",
   "execution_count": 35,
   "metadata": {},
   "outputs": [
    {
     "name": "stdout",
     "output_type": "stream",
     "text": [
      ". . . . . . . . \n",
      "Deployment update finished with status:  ready\n"
     ]
    }
   ],
   "source": [
    "import time\n",
    "\n",
    "status = None\n",
    "while status not in ['ready', 'failed']:\n",
    "    print('.', end=' ')\n",
    "    time.sleep(2)\n",
    "    deployment_details = client.deployments.get_details(deployment_id)\n",
    "    status = deployment_details['entity']['status'].get('state')\n",
    "    \n",
    "print(\"\\nDeployment update finished with status: \", status)"
   ]
  },
  {
   "cell_type": "markdown",
   "metadata": {},
   "source": [
    "#### Get updated deployment details"
   ]
  },
  {
   "cell_type": "code",
   "execution_count": null,
   "metadata": {},
   "outputs": [],
   "source": [
    "print(json.dumps(client.deployments.get_details(deployment_id), indent=2))"
   ]
  },
  {
   "cell_type": "markdown",
   "metadata": {},
   "source": [
    "### Score updated model"
   ]
  },
  {
   "cell_type": "code",
   "execution_count": 37,
   "metadata": {},
   "outputs": [],
   "source": [
    "scoring_payload = {\"input_data\": [{\"values\": train_df.drop(['Risk'], axis=1).iloc[:5]}]}"
   ]
  },
  {
   "cell_type": "markdown",
   "metadata": {},
   "source": [
    "Use client.deployments.score() method to run scoring."
   ]
  },
  {
   "cell_type": "code",
   "execution_count": 38,
   "metadata": {},
   "outputs": [],
   "source": [
    "predictions = client.deployments.score(deployment_id, scoring_payload)"
   ]
  },
  {
   "cell_type": "code",
   "execution_count": 39,
   "metadata": {
    "tags": []
   },
   "outputs": [
    {
     "name": "stdout",
     "output_type": "stream",
     "text": [
      "{\n",
      "  \"predictions\": [\n",
      "    {\n",
      "      \"fields\": [\n",
      "        \"prediction\",\n",
      "        \"probability\"\n",
      "      ],\n",
      "      \"values\": [\n",
      "        [\n",
      "          \"No Risk\",\n",
      "          [\n",
      "            0.9807692307692307,\n",
      "            0.019230769230769232\n",
      "          ]\n",
      "        ],\n",
      "        [\n",
      "          \"No Risk\",\n",
      "          [\n",
      "            0.9807692307692307,\n",
      "            0.019230769230769232\n",
      "          ]\n",
      "        ],\n",
      "        [\n",
      "          \"No Risk\",\n",
      "          [\n",
      "            0.847457627118644,\n",
      "            0.15254237288135594\n",
      "          ]\n",
      "        ],\n",
      "        [\n",
      "          \"No Risk\",\n",
      "          [\n",
      "            0.847457627118644,\n",
      "            0.15254237288135594\n",
      "          ]\n",
      "        ],\n",
      "        [\n",
      "          \"Risk\",\n",
      "          [\n",
      "            0.29508196721311475,\n",
      "            0.7049180327868853\n",
      "          ]\n",
      "        ]\n",
      "      ]\n",
      "    }\n",
      "  ]\n",
      "}\n"
     ]
    }
   ],
   "source": [
    "print(json.dumps(predictions, indent=2))"
   ]
  },
  {
   "cell_type": "markdown",
   "metadata": {},
   "source": [
    "<a id=\"cleanup\"></a>\n",
    "## 7. Clean up"
   ]
  },
  {
   "cell_type": "markdown",
   "metadata": {},
   "source": [
    "If you want to clean up all created assets:\n",
    "- experiments\n",
    "- trainings\n",
    "- pipelines\n",
    "- model definitions\n",
    "- models\n",
    "- functions\n",
    "- deployments\n",
    "\n",
    "please follow up this sample [notebook](https://github.com/IBM/watson-machine-learning-samples/blob/master/cpd5.0/notebooks/python_sdk/instance-management/Machine%20Learning%20artifacts%20management.ipynb)."
   ]
  },
  {
   "cell_type": "markdown",
   "metadata": {},
   "source": [
    "<a id=\"summary\"></a>\n",
    "## 8. Summary and next steps"
   ]
  },
  {
   "cell_type": "markdown",
   "metadata": {},
   "source": [
    "You successfully completed this notebook!  \n",
    "\n",
    "Check out our _<a href=\"https://ibm.github.io/watsonx-ai-python-sdk/samples.html\" target=\"_blank\" rel=\"noopener no referrer\">Online Documentation</a>_ for more samples, tutorials, documentation, how-tos, and blog posts. "
   ]
  },
  {
   "cell_type": "markdown",
   "metadata": {},
   "source": [
    "### Authors\n",
    "\n",
    "**Jan Sołtysik**, Intern "
   ]
  },
  {
   "cell_type": "markdown",
   "metadata": {},
   "source": [
    "Copyright © 2020-2024 IBM. This notebook and its source code are released under the terms of the MIT License."
   ]
  }
 ],
 "metadata": {
  "kernelspec": {
   "display_name": "Python 3 (ipykernel)",
   "language": "python",
   "name": "python3"
  },
  "language_info": {
   "codemirror_mode": {
    "name": "ipython",
    "version": 3
   },
   "file_extension": ".py",
   "mimetype": "text/x-python",
   "name": "python",
   "nbconvert_exporter": "python",
   "pygments_lexer": "ipython3",
   "version": "3.11.9"
  },
  "pycharm": {
   "stem_cell": {
    "cell_type": "raw",
    "metadata": {
     "collapsed": false
    },
    "source": []
   }
  }
 },
 "nbformat": 4,
 "nbformat_minor": 4
}
