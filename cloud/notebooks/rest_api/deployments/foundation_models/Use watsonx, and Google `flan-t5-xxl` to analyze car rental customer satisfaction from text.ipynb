{
  "cells": [
    {
      "cell_type": "markdown",
      "metadata": {
        "pycharm": {
          "name": "#%% md\n"
        }
      },
      "source": [
        "![image](https://raw.githubusercontent.com/IBM/watson-machine-learning-samples/master/cloud/notebooks/headers/watsonx-Prompt_Lab-Notebook.png)\n",
        "# Use watsonx, and Google `flan-t5-xxl` to analyze car rental customer satisfaction from text"
      ]
    },
    {
      "cell_type": "markdown",
      "metadata": {
        "pycharm": {
          "name": "#%% md\n"
        }
      },
      "source": [
        "#### Disclaimers\n",
        "\n",
        "- Use only Projects and Spaces that are available in watsonx context.\n",
        "\n",
        "\n",
        "## Notebook content\n",
        "\n",
        "This notebook contains the steps and code to demonstrate support of text sentiment analysis in watsonx. It introduces commands for data retrieval, model testing and scoring.\n",
        "\n",
        "Some familiarity with Python is helpful. This notebook uses Python 3.11.\n",
        "\n",
        "\n",
        "## Learning goal\n",
        "\n",
        "The goal of this notebook is to demonstrate how to use `flan-t5-xxl` model to analyze customer satisfaction from text.\n",
        "\n",
        "\n",
        "## Contents\n",
        "\n",
        "This notebook contains the following parts:\n",
        "\n",
        "- [Setup](#setup)\n",
        "- [Data loading](#data)\n",
        "- [Foundation Models on watsonx](#models)\n",
        "- [Model testing](#predict)\n",
        "- [Score](#score)\n",
        "- [Summary](#summary)"
      ]
    },
    {
      "cell_type": "markdown",
      "metadata": {
        "pycharm": {
          "name": "#%% md\n"
        }
      },
      "source": [
        "<a id=\"setup\"></a>\n",
        "## Set up the environment\n",
        "\n",
        "Before you use the sample code in this notebook, you must perform the following setup tasks:\n",
        "\n",
        "-  Create a <a href=\"https://cloud.ibm.com/catalog/services/watsonxai-runtime\" target=\"_blank\" rel=\"noopener no referrer\">watsonx.ai Runtime Service</a> instance (a free plan is offered and information about how to create the instance can be found <a href=\"https://dataplatform.cloud.ibm.com/docs/content/wsj/getting-started/wml-plans.html?context=wx&audience=wdp\" target=\"_blank\" rel=\"noopener no referrer\">here</a>).\n"
      ]
    },
    {
      "cell_type": "markdown",
      "metadata": {
        "pycharm": {
          "name": "#%% md\n"
        }
      },
      "source": [
        "### Install and import the `datasets` and dependecies"
      ]
    },
    {
      "cell_type": "code",
      "execution_count": null,
      "metadata": {
        "pycharm": {
          "name": "#%%\n"
        }
      },
      "outputs": [],
      "source": [
        "!pip install datasets | tail -n 1\n",
        "!pip install requests | tail -n 1\n",
        "!pip install wget | tail -n 1\n",
        "!pip install ibm-cloud-sdk-core | tail -n 1\n",
        "!pip install \"scikit-learn==1.3.2\" | tail -n 1"
      ]
    },
    {
      "cell_type": "code",
      "execution_count": 2,
      "metadata": {
        "pycharm": {
          "name": "#%%\n"
        }
      },
      "outputs": [],
      "source": [
        "import os, getpass, wget, json\n",
        "import requests\n",
        "from ibm_cloud_sdk_core import IAMTokenManager\n",
        "from pandas import value_counts, read_csv, DataFrame\n",
        "from sklearn.model_selection import train_test_split"
      ]
    },
    {
      "cell_type": "markdown",
      "metadata": {},
      "source": [
        "### Inferencing class\n",
        "This cell defines a class that makes a REST API call to the watsonx Foundation Model\n",
        "inferencing API that we will use to generate output from the provided input.\n",
        "The class takes the access token created in the previous step, and uses it to\n",
        "make a REST API call with input, model id and model parameters. The response\n",
        "from the API call is returned as the cell output."
      ]
    },
    {
      "cell_type": "markdown",
      "metadata": {},
      "source": [
        "**Action:** Provide watsonx.ai Runtime url to work with watsonx.ai."
      ]
    },
    {
      "cell_type": "code",
      "execution_count": 3,
      "metadata": {},
      "outputs": [],
      "source": [
        "endpoint_url = input(\"Please enter your watsonx.ai Runtime endpoint url (hit enter): \")"
      ]
    },
    {
      "cell_type": "markdown",
      "metadata": {},
      "source": [
        "Define a `Prompt` class for prompts generation."
      ]
    },
    {
      "cell_type": "code",
      "execution_count": 4,
      "metadata": {},
      "outputs": [],
      "source": [
        "class Prompt:\n",
        "    def __init__(self, access_token, project_id):\n",
        "        self.access_token = access_token\n",
        "        self.project_id = project_id\n",
        "\n",
        "    def generate(self, input, model_id, parameters):\n",
        "        wml_url = f\"{endpoint_url}/ml/v1/text/generation?version=2024-03-19\"\n",
        "        Headers = {\n",
        "            \"Authorization\": \"Bearer \" + self.access_token,\n",
        "            \"Content-Type\": \"application/json\",\n",
        "            \"Accept\": \"application/json\"\n",
        "        }\n",
        "        data = {\n",
        "            \"model_id\": model_id,\n",
        "            \"input\": input,\n",
        "            \"parameters\": parameters,\n",
        "            \"project_id\": self.project_id\n",
        "        }\n",
        "        response = requests.post(wml_url, json=data, headers=Headers)\n",
        "        if response.status_code == 200:\n",
        "            return response.json()[\"results\"][0]\n",
        "        else:\n",
        "            return response.text\n",
        "        "
      ]
    },
    {
      "cell_type": "markdown",
      "metadata": {},
      "source": [
        "### watsonx API connection\n",
        "This cell defines the credentials required to work with watsonx API for Foundation\n",
        "Model inferencing.\n",
        "\n",
        "**Action:** Provide the IBM Cloud user API key. For details, see <a href=\"https://cloud.ibm.com/docs/account?topic=account-userapikey&interface=ui\" target=\"_blank\" rel=\"IBM Cloud user API key\">documentation</a>."
      ]
    },
    {
      "cell_type": "code",
      "execution_count": 5,
      "metadata": {},
      "outputs": [],
      "source": [
        "access_token = IAMTokenManager(\n",
        "    apikey = getpass.getpass(\"Please enter your watsonx.ai api key (hit enter): \"),\n",
        "    url = \"https://iam.cloud.ibm.com/identity/token\"\n",
        ").get_token()"
      ]
    },
    {
      "cell_type": "markdown",
      "metadata": {},
      "source": [
        "### Defining the project id\n",
        "The API requires project id that provides the context for the call. We will obtain\n",
        "the id from the project in which this notebook runs. Otherwise, please provide the project id."
      ]
    },
    {
      "cell_type": "code",
      "execution_count": 6,
      "metadata": {},
      "outputs": [],
      "source": [
        "try:\n",
        "    project_id = os.environ[\"PROJECT_ID\"]\n",
        "except KeyError:\n",
        "    project_id = input(\"Please enter your project_id (hit enter): \")"
      ]
    },
    {
      "cell_type": "markdown",
      "metadata": {},
      "source": [
        "<a id=\"data\"></a>\n",
        "## Data loading"
      ]
    },
    {
      "cell_type": "markdown",
      "metadata": {},
      "source": [
        "Download the `car_rental_training_data` dataset. The dataset provides insight about customers opinions on car rental. It has a label that consists of values: unsatisfied, satisfied."
      ]
    },
    {
      "cell_type": "code",
      "execution_count": 7,
      "metadata": {},
      "outputs": [],
      "source": [
        "filename = 'car_rental_training_data.csv'\n",
        "\n",
        "url = 'https://raw.githubusercontent.com/IBM/watson-machine-learning-samples/master/cloud/data/cars-4-you/car_rental_training_data.csv'\n",
        "if not os.path.isfile(filename): wget.download(url, out=filename)"
      ]
    },
    {
      "cell_type": "code",
      "execution_count": 8,
      "metadata": {},
      "outputs": [],
      "source": [
        "data = read_csv(\"car_rental_training_data.csv\", sep=';')"
      ]
    },
    {
      "cell_type": "markdown",
      "metadata": {},
      "source": [
        "Examine donwloaded data."
      ]
    },
    {
      "cell_type": "code",
      "execution_count": 9,
      "metadata": {},
      "outputs": [
        {
          "data": {
            "text/html": [
              "<div>\n",
              "<style scoped>\n",
              "    .dataframe tbody tr th:only-of-type {\n",
              "        vertical-align: middle;\n",
              "    }\n",
              "\n",
              "    .dataframe tbody tr th {\n",
              "        vertical-align: top;\n",
              "    }\n",
              "\n",
              "    .dataframe thead th {\n",
              "        text-align: right;\n",
              "    }\n",
              "</style>\n",
              "<table border=\"1\" class=\"dataframe\">\n",
              "  <thead>\n",
              "    <tr style=\"text-align: right;\">\n",
              "      <th></th>\n",
              "      <th>ID</th>\n",
              "      <th>Gender</th>\n",
              "      <th>Status</th>\n",
              "      <th>Children</th>\n",
              "      <th>Age</th>\n",
              "      <th>Customer_Status</th>\n",
              "      <th>Car_Owner</th>\n",
              "      <th>Customer_Service</th>\n",
              "      <th>Satisfaction</th>\n",
              "      <th>Business_Area</th>\n",
              "      <th>Action</th>\n",
              "    </tr>\n",
              "  </thead>\n",
              "  <tbody>\n",
              "    <tr>\n",
              "      <th>0</th>\n",
              "      <td>83</td>\n",
              "      <td>Female</td>\n",
              "      <td>M</td>\n",
              "      <td>2</td>\n",
              "      <td>48.85</td>\n",
              "      <td>Inactive</td>\n",
              "      <td>Yes</td>\n",
              "      <td>I thought the representative handled the initi...</td>\n",
              "      <td>0</td>\n",
              "      <td>Product: Availability/Variety/Size</td>\n",
              "      <td>Free Upgrade</td>\n",
              "    </tr>\n",
              "    <tr>\n",
              "      <th>1</th>\n",
              "      <td>1307</td>\n",
              "      <td>Female</td>\n",
              "      <td>M</td>\n",
              "      <td>0</td>\n",
              "      <td>55.00</td>\n",
              "      <td>Inactive</td>\n",
              "      <td>No</td>\n",
              "      <td>I have had a few recent rentals that have take...</td>\n",
              "      <td>0</td>\n",
              "      <td>Product: Availability/Variety/Size</td>\n",
              "      <td>Voucher</td>\n",
              "    </tr>\n",
              "    <tr>\n",
              "      <th>2</th>\n",
              "      <td>1737</td>\n",
              "      <td>Male</td>\n",
              "      <td>M</td>\n",
              "      <td>0</td>\n",
              "      <td>42.35</td>\n",
              "      <td>Inactive</td>\n",
              "      <td>Yes</td>\n",
              "      <td>car cost more because I didn't pay when I rese...</td>\n",
              "      <td>0</td>\n",
              "      <td>Product: Availability/Variety/Size</td>\n",
              "      <td>Free Upgrade</td>\n",
              "    </tr>\n",
              "    <tr>\n",
              "      <th>3</th>\n",
              "      <td>3721</td>\n",
              "      <td>Male</td>\n",
              "      <td>M</td>\n",
              "      <td>2</td>\n",
              "      <td>61.71</td>\n",
              "      <td>Inactive</td>\n",
              "      <td>Yes</td>\n",
              "      <td>I didn't get the car I was told would be avail...</td>\n",
              "      <td>0</td>\n",
              "      <td>Product: Availability/Variety/Size</td>\n",
              "      <td>Free Upgrade</td>\n",
              "    </tr>\n",
              "    <tr>\n",
              "      <th>4</th>\n",
              "      <td>11</td>\n",
              "      <td>Male</td>\n",
              "      <td>S</td>\n",
              "      <td>2</td>\n",
              "      <td>56.47</td>\n",
              "      <td>Active</td>\n",
              "      <td>No</td>\n",
              "      <td>If there was not a desired vehicle available t...</td>\n",
              "      <td>1</td>\n",
              "      <td>Product: Availability/Variety/Size</td>\n",
              "      <td>NaN</td>\n",
              "    </tr>\n",
              "  </tbody>\n",
              "</table>\n",
              "</div>"
            ],
            "text/plain": [
              "     ID  Gender Status  Children    Age Customer_Status Car_Owner  \\\n",
              "0    83  Female      M         2  48.85        Inactive       Yes   \n",
              "1  1307  Female      M         0  55.00        Inactive        No   \n",
              "2  1737    Male      M         0  42.35        Inactive       Yes   \n",
              "3  3721    Male      M         2  61.71        Inactive       Yes   \n",
              "4    11    Male      S         2  56.47          Active        No   \n",
              "\n",
              "                                    Customer_Service  Satisfaction  \\\n",
              "0  I thought the representative handled the initi...             0   \n",
              "1  I have had a few recent rentals that have take...             0   \n",
              "2  car cost more because I didn't pay when I rese...             0   \n",
              "3  I didn't get the car I was told would be avail...             0   \n",
              "4  If there was not a desired vehicle available t...             1   \n",
              "\n",
              "                        Business_Area        Action  \n",
              "0  Product: Availability/Variety/Size  Free Upgrade  \n",
              "1  Product: Availability/Variety/Size       Voucher  \n",
              "2  Product: Availability/Variety/Size  Free Upgrade  \n",
              "3  Product: Availability/Variety/Size  Free Upgrade  \n",
              "4  Product: Availability/Variety/Size           NaN  "
            ]
          },
          "execution_count": 9,
          "metadata": {},
          "output_type": "execute_result"
        }
      ],
      "source": [
        "data.head()"
      ]
    },
    {
      "cell_type": "markdown",
      "metadata": {},
      "source": [
        "Define label map."
      ]
    },
    {
      "cell_type": "code",
      "execution_count": 10,
      "metadata": {},
      "outputs": [],
      "source": [
        "label_map= {0: \"unsatisfied\",\n",
        "            1: \"satisfied\"}"
      ]
    },
    {
      "cell_type": "markdown",
      "metadata": {},
      "source": [
        "Inspect data labels distribution. "
      ]
    },
    {
      "cell_type": "code",
      "execution_count": 11,
      "metadata": {},
      "outputs": [
        {
          "data": {
            "text/plain": [
              "1    274\n",
              "0    212\n",
              "Name: Satisfaction, dtype: int64"
            ]
          },
          "execution_count": 11,
          "metadata": {},
          "output_type": "execute_result"
        }
      ],
      "source": [
        "value_counts(data['Satisfaction'])"
      ]
    },
    {
      "cell_type": "markdown",
      "metadata": {},
      "source": [
        "Prepare train and test sets."
      ]
    },
    {
      "cell_type": "code",
      "execution_count": 12,
      "metadata": {},
      "outputs": [],
      "source": [
        "data_train, data_test, y_train, y_test = train_test_split(data.Customer_Service, \n",
        "                                                    data.Satisfaction,\n",
        "                                                    test_size=0.3,\n",
        "                                                    random_state=33, \n",
        "                                                    stratify=data.Satisfaction)\n",
        "data_train = DataFrame(data_train)\n",
        "data_test = DataFrame(data_test)\n",
        "\n",
        "data_train[\"satisfaction\"] = list(map(label_map.get, y_train))\n",
        "data_test[\"satisfaction\"] = list(map(label_map.get, y_test))"
      ]
    },
    {
      "cell_type": "markdown",
      "metadata": {},
      "source": [
        "<a id=\"models\"></a>\n",
        "## Foundation Models on watsonx"
      ]
    },
    {
      "cell_type": "markdown",
      "metadata": {},
      "source": [
        "#### List available models"
      ]
    },
    {
      "cell_type": "code",
      "execution_count": 14,
      "metadata": {},
      "outputs": [
        {
          "data": {
            "text/plain": [
              "['bigcode/starcoder',\n",
              " 'bigscience/mt0-xxl',\n",
              " 'codellama/codellama-34b-instruct-hf',\n",
              " 'eleutherai/gpt-neox-20b',\n",
              " 'google/flan-t5-xl',\n",
              " 'google/flan-t5-xxl',\n",
              " 'google/flan-ul2',\n",
              " 'ibm-mistralai/mixtral-8x7b-instruct-v01-q',\n",
              " 'ibm/granite-13b-chat-v1',\n",
              " 'ibm/granite-13b-chat-v2',\n",
              " 'ibm/granite-13b-instruct-v1',\n",
              " 'ibm/granite-13b-instruct-v2',\n",
              " 'ibm/granite-20b-multilingual',\n",
              " 'ibm/mpt-7b-instruct2',\n",
              " 'meta-llama/llama-2-13b-chat',\n",
              " 'meta-llama/llama-2-70b-chat']"
            ]
          },
          "execution_count": 14,
          "metadata": {},
          "output_type": "execute_result"
        }
      ],
      "source": [
        "models_json = requests.get(endpoint_url + '/ml/v1/foundation_model_specs?version=2024-03-19&limit=50',\n",
        "                           headers={\n",
        "                                    'Authorization': f'Bearer {access_token}',\n",
        "                                    'Content-Type': 'application/json',\n",
        "                                    'Accept': 'application/json'\n",
        "                            }).json()\n",
        "models_ids = [m['model_id'] for m in models_json['resources']]\n",
        "models_ids"
      ]
    },
    {
      "cell_type": "markdown",
      "metadata": {},
      "source": [
        "You need to specify `model_id` that will be used for inferencing:"
      ]
    },
    {
      "cell_type": "code",
      "execution_count": 15,
      "metadata": {},
      "outputs": [],
      "source": [
        "model_id = \"google/flan-t5-xxl\""
      ]
    },
    {
      "cell_type": "markdown",
      "metadata": {},
      "source": [
        "<a id=\"predict\"></a>\n",
        "## Analyze the sentiment"
      ]
    },
    {
      "cell_type": "markdown",
      "metadata": {},
      "source": [
        "Define instructions for the model. "
      ]
    },
    {
      "cell_type": "code",
      "execution_count": 16,
      "metadata": {},
      "outputs": [],
      "source": [
        "instruction = \"Classify the satisfaction expressed in this sentence using: satisfied, unsatisfied.\\n\""
      ]
    },
    {
      "cell_type": "markdown",
      "metadata": {},
      "source": [
        "Prepare model inputs - build zero-shot examples from the test set."
      ]
    },
    {
      "cell_type": "code",
      "execution_count": 17,
      "metadata": {
        "scrolled": true
      },
      "outputs": [
        {
          "name": "stdout",
          "output_type": "stream",
          "text": [
            "[\n",
            "  {\n",
            "    \"input\": \"Provide more convenient car pickup from the airport parking.\"\n",
            "  },\n",
            "  {\n",
            "    \"input\": \"They could really try work harder.\"\n",
            "  },\n",
            "  {\n",
            "    \"input\": \"the rep was friendly but it was so loud in there that I could not hear what she was saying. I HATE having to walk across a big lot with all of my bags in search of my car which is always in the furthest corner.\"\n",
            "  },\n",
            "  {\n",
            "    \"input\": \"The agents were not friendly when I checked in initially, that was annoying because I had just spent 3 hours on a plane and wanted to be greeted with a better attitude.\"\n",
            "  },\n",
            "  {\n",
            "    \"input\": \"It was not as bad as it usually is.\"\n",
            "  }\n",
            "]\n"
          ]
        }
      ],
      "source": [
        "zero_shot_inputs = [{\"input\": text} for text in data_test.Customer_Service.values]\n",
        "print(json.dumps(zero_shot_inputs[:5], indent=2))"
      ]
    },
    {
      "cell_type": "markdown",
      "metadata": {},
      "source": [
        "Prepare model inputs - build few-shot examples. To build a few-shot example few instances of training data phrases are passed together with the reference sentiment and then appended with a test data phrase. \n",
        "\n",
        "In this notebook, training phrases are stratified over all possible sentiments for each test case."
      ]
    },
    {
      "cell_type": "code",
      "execution_count": 18,
      "metadata": {},
      "outputs": [],
      "source": [
        "few_shot_inputs = []\n",
        "singleoutput= []\n",
        "\n",
        "for test_phrase in data_test.Customer_Service.values:\n",
        "    for train_phrase, sentiment in data_train.groupby('satisfaction', group_keys=False).apply(lambda x: x.sample(2)).values:\n",
        "        singleoutput.append(f\"\\tsentence:\\t{train_phrase}\\n\\tsatisfaction: {sentiment}\\n\")\n",
        "    singleoutput.append(f\"\\tsentence:\\t{test_phrase}\\n\\tsatisfaction:\")\n",
        "    few_shot_inputs.append(\"\".join(singleoutput))\n",
        "    singleoutput = []  "
      ]
    },
    {
      "cell_type": "markdown",
      "metadata": {},
      "source": [
        "Inspect an exemplary few-shot prompt."
      ]
    },
    {
      "cell_type": "code",
      "execution_count": 19,
      "metadata": {},
      "outputs": [
        {
          "name": "stdout",
          "output_type": "stream",
          "text": [
            "\tsentence:\tFriendly and very well informed\n",
            "\tsatisfaction: satisfied\n",
            "\tsentence:\tEveryone was very friendly. They even drove us to the airport since we were running late for our flight.\n",
            "\tsatisfaction: satisfied\n",
            "\tsentence:\tPlease lower the prices.\n",
            "\tsatisfaction: unsatisfied\n",
            "\tsentence:\tI haven't actually spoken with anyone from a car rental organization for quite a while.  When I did (probably about three years ago), I believe they were polite enough. However, I always hate to wait in lines when we have a lot of luggage.\n",
            "\tsatisfaction: unsatisfied\n",
            "\tsentence:\tProvide more convenient car pickup from the airport parking.\n",
            "\tsatisfaction:\n",
            "null\n"
          ]
        }
      ],
      "source": [
        "print(json.dumps(print(few_shot_inputs[0]), indent=2))"
      ]
    },
    {
      "cell_type": "markdown",
      "metadata": {},
      "source": [
        "### Defining the model parameters\n",
        "We need to provide a set of model parameters that will influence the\n",
        "result:"
      ]
    },
    {
      "cell_type": "code",
      "execution_count": 20,
      "metadata": {},
      "outputs": [],
      "source": [
        "parameters = {\n",
        "    \"decoding_method\": \"greedy\"\n",
        "}"
      ]
    },
    {
      "cell_type": "markdown",
      "metadata": {},
      "source": [
        "### Analyze the satisfaction using Google `flan-t5-xxl` model.\n",
        "\n",
        "\n",
        "**Note:** You might need to adjust model `parameters` for different models or tasks, to do so please refer to <a href=\"https://ibm.github.io/watsonx-ai-python-sdk/fm_model.html#metanames.GenTextParamsMetaNames\" target=\"_blank\" rel=\"GenTextParamsMetaNames params\">documentation</a>."
      ]
    },
    {
      "cell_type": "markdown",
      "metadata": {},
      "source": [
        "Initialize the `Prompt` class.\n",
        "\n",
        "**Hint:** Your authentication token might expire, if so please regenerate the `access_token` reinitialize the `Prompt` class."
      ]
    },
    {
      "cell_type": "code",
      "execution_count": 21,
      "metadata": {},
      "outputs": [],
      "source": [
        "prompt = Prompt(access_token, project_id)"
      ]
    },
    {
      "cell_type": "markdown",
      "metadata": {},
      "source": [
        "Analyze the sentiment for a sample of zero-shot inputs from the test set."
      ]
    },
    {
      "cell_type": "code",
      "execution_count": 22,
      "metadata": {},
      "outputs": [],
      "source": [
        "results = []\n",
        "for inp in zero_shot_inputs[:5]:\n",
        "    results.append(prompt.generate(\" \".join([instruction, inp['input']]), model_id, parameters))"
      ]
    },
    {
      "cell_type": "markdown",
      "metadata": {},
      "source": [
        "Explore model output."
      ]
    },
    {
      "cell_type": "code",
      "execution_count": 23,
      "metadata": {
        "scrolled": false
      },
      "outputs": [
        {
          "name": "stdout",
          "output_type": "stream",
          "text": [
            "[\n",
            "  {\n",
            "    \"generated_text\": \"unsatisfied\",\n",
            "    \"generated_token_count\": 6,\n",
            "    \"input_token_count\": 29,\n",
            "    \"stop_reason\": \"eos_token\"\n",
            "  },\n",
            "  {\n",
            "    \"generated_text\": \"unsatisfied\",\n",
            "    \"generated_token_count\": 6,\n",
            "    \"input_token_count\": 26,\n",
            "    \"stop_reason\": \"eos_token\"\n",
            "  },\n",
            "  {\n",
            "    \"generated_text\": \"unsatisfied\",\n",
            "    \"generated_token_count\": 6,\n",
            "    \"input_token_count\": 71,\n",
            "    \"stop_reason\": \"eos_token\"\n",
            "  },\n",
            "  {\n",
            "    \"generated_text\": \"unsatisfied\",\n",
            "    \"generated_token_count\": 6,\n",
            "    \"input_token_count\": 57,\n",
            "    \"stop_reason\": \"eos_token\"\n",
            "  },\n",
            "  {\n",
            "    \"generated_text\": \"satisfied\",\n",
            "    \"generated_token_count\": 2,\n",
            "    \"input_token_count\": 29,\n",
            "    \"stop_reason\": \"eos_token\"\n",
            "  }\n",
            "]\n"
          ]
        }
      ],
      "source": [
        "print(json.dumps(results, indent=2))"
      ]
    },
    {
      "cell_type": "markdown",
      "metadata": {},
      "source": [
        "<a id=\"score\"></a>\n",
        "## Score the model\n",
        "\n",
        "**Note:** To run the Score section for model scoring on the whole car rental customer satisfaction dataset please transform following `markdown` cells to `code` cells.\n",
        "Have in mind that scoring model on the whole test set can take significant amount of time."
      ]
    },
    {
      "cell_type": "markdown",
      "metadata": {},
      "source": [
        "Get the true labels."
      ]
    },
    {
      "cell_type": "markdown",
      "metadata": {},
      "source": [
        "```\n",
        "y_true = [label for label in data_test.satisfaction[:5]]\n",
        "```"
      ]
    },
    {
      "cell_type": "markdown",
      "metadata": {},
      "source": [
        "Get the sentiment labels returned by the `flan-t5-xxl` model."
      ]
    },
    {
      "cell_type": "markdown",
      "metadata": {},
      "source": [
        "```\n",
        "y_pred = [res[\"generated_text\"] for res in results]\n",
        "```"
      ]
    },
    {
      "cell_type": "markdown",
      "metadata": {},
      "source": [
        "Calculate the accuracy score."
      ]
    },
    {
      "cell_type": "markdown",
      "metadata": {},
      "source": [
        "```\n",
        "from sklearn.metrics import accuracy_score\n",
        "\n",
        "print(accuracy_score(y_pred, y_true))\n",
        "```"
      ]
    },
    {
      "cell_type": "markdown",
      "metadata": {},
      "source": [
        "**HINT:** Sentiments generated using few-shot input prompts might provide better performance in terms of accuracy then the zero-shot ones. \n",
        "Following cells present test scores for zero-shot prompts received for the `flan-t5-xxl` model on the whole test set from this notebook."
      ]
    },
    {
      "cell_type": "markdown",
      "metadata": {},
      "source": [
        "The zero-shot test accuracy score:"
      ]
    },
    {
      "cell_type": "markdown",
      "metadata": {},
      "source": [
        "```\n",
        "0.9178082191780822\n",
        "```"
      ]
    },
    {
      "cell_type": "markdown",
      "metadata": {
        "pycharm": {
          "name": "#%% md\n"
        }
      },
      "source": [
        "<a id=\"summary\"></a>\n",
        "## Summary and next steps\n",
        "\n",
        " You successfully completed this notebook!\n",
        " \n",
        " You learned how to analyze car rental customer satisfaction with Google's `flan-t5-xxl` on watsonx. \n",
        " \n",
        " Check out our <a href=\"https://ibm.github.io/watsonx-ai-python-sdk/samples.html\" target=\"_blank\" rel=\"Online Documentation\">Online Documentation</a> for more samples, tutorials, documentation, how-tos, and blog posts. "
      ]
    },
    {
      "cell_type": "markdown",
      "metadata": {
        "pycharm": {
          "name": "#%% md\n"
        }
      },
      "source": [
        "### Authors\n",
        "\n",
        "**Mateusz Szewczyk**, Software Engineer at watsonx.ai."
      ]
    },
    {
      "cell_type": "markdown",
      "metadata": {
        "pycharm": {
          "name": "#%% md\n"
        }
      },
      "source": [
        "Copyright © 2023-2025 IBM. This notebook and its source code are released under the terms of the MIT License."
      ]
    }
  ],
  "metadata": {
    "kernelspec": {
      "display_name": "Python 3 (ipykernel)",
      "language": "python",
      "name": "python3"
    },
    "language_info": {
      "codemirror_mode": {
        "name": "ipython",
        "version": 3
      },
      "file_extension": ".py",
      "mimetype": "text/x-python",
      "name": "python",
      "nbconvert_exporter": "python",
      "pygments_lexer": "ipython3",
      "version": "3.11.9"
    }
  },
  "nbformat": 4,
  "nbformat_minor": 4
}