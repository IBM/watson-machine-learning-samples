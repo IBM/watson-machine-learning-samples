{
 "cells": [
  {
   "cell_type": "markdown",
   "metadata": {},
   "source": [
    "![image](https://raw.githubusercontent.com/IBM/watson-machine-learning-samples/master/cloud/notebooks/headers/watsonx-Prompt_Lab-Notebook.png)\n",
    "# Use AutoAI RAG and Milvus database to work with `ibm-watsonx-ai` SDK documentation."
   ]
  },
  {
   "cell_type": "markdown",
   "metadata": {},
   "source": [
    "#### Disclaimers\n",
    "\n",
    "- Use only Spaces that are available in watsonx context.\n",
    "\n",
    "\n",
    "## Notebook content\n",
    "\n",
    "This notebook contains the steps and code to demonstrate the usage of IBM AutoAI RAG. The AutoAI RAG experiment conducted in this notebook uses data scraped from the `ibm-watsonx-ai` SDK documentation.\n",
    "\n",
    "Some familiarity with Python is helpful. This notebook uses Python 3.11.\n",
    "\n",
    "\n",
    "## Learning goal\n",
    "\n",
    "The learning goals of this notebook are:\n",
    "\n",
    "- Create an AutoAI RAG job that will find the best RAG pattern based on provided data\n",
    "\n",
    "\n",
    "## Contents\n",
    "\n",
    "This notebook contains the following parts:\n",
    "\n",
    "- [Setup](#setup)\n",
    "- [RAG Optimizer definition](#definition)\n",
    "- [RAG Experiment run](#run)\n",
    "- [RAG Patterns comparison and testing](#comparison)\n",
    "- [Historical runs](#runs)\n",
    "- [Clean up](#cleanup)\n",
    "- [Summary and next steps](#summary)"
   ]
  },
  {
   "cell_type": "markdown",
   "metadata": {},
   "source": [
    "<a id=\"setup\"></a>\n",
    "## Set up the environment\n",
    "\n",
    "Before you use the sample code in this notebook, you must perform the following setup tasks:\n",
    "\n",
    "-  Create a <a href=\"https://cloud.ibm.com/catalog/services/watson-machine-learning\" target=\"_blank\" rel=\"noopener no referrer\">Watson Machine Learning (WML) Service</a> instance (a free plan is offered; information about how to create the instance can be found <a href=\"https://dataplatform.cloud.ibm.com/docs/content/wsj/getting-started/wml-plans.html?context=wx&audience=wdp\" target=\"_blank\" rel=\"noopener no referrer\">here</a>)."
   ]
  },
  {
   "cell_type": "markdown",
   "metadata": {},
   "source": [
    "### Install and import the required modules and dependencies"
   ]
  },
  {
   "cell_type": "code",
   "execution_count": null,
   "metadata": {},
   "outputs": [],
   "source": [
    "!pip install -U wget | tail -n 1\n",
    "!pip install -U 'ibm-watsonx-ai[rag]>=1.1.11' | tail -n 1"
   ]
  },
  {
   "cell_type": "markdown",
   "metadata": {},
   "source": [
    "### Defining the WML credentials\n",
    "This cell defines the credentials required to work with the Watson Machine Learning service.\n",
    "\n",
    "**Action:** Provide the IBM Cloud user API key. For details, see <a href=\"https://cloud.ibm.com/docs/account?topic=account-userapikey&interface=ui\" target=\"_blank\" rel=\"noopener no referrer\">documentation</a>."
   ]
  },
  {
   "cell_type": "code",
   "execution_count": null,
   "metadata": {},
   "outputs": [],
   "source": [
    "import getpass\n",
    "from ibm_watsonx_ai import Credentials\n",
    "\n",
    "credentials = Credentials(\n",
    "    url=\"https://us-south.ml.cloud.ibm.com\",\n",
    "    api_key=getpass.getpass(\"Please enter your WML api key (hit enter): \"),\n",
    ")"
   ]
  },
  {
   "cell_type": "markdown",
   "metadata": {},
   "source": [
    "### Working with spaces\n",
    "\n",
    "You need to create a space that will be used for your work. If you do not have a space, you can use [Deployment Spaces Dashboard](https://dataplatform.cloud.ibm.com/ml-runtime/spaces?context=wx) to create one.\n",
    "\n",
    "- Click **New Deployment Space**\n",
    "- Create an empty space\n",
    "- Select Cloud Object Storage\n",
    "- Select Watson Machine Learning instance and press **Create**\n",
    "- Go to **Manage** tab\n",
    "- Copy `Space GUID` and paste it below\n",
    "\n",
    "**Tip**: You can also use SDK to prepare the space for your work. More information can be found [here](https://github.com/IBM/watson-machine-learning-samples/blob/master/cloud/notebooks/python_sdk/instance-management/Space%20management.ipynb).\n",
    "\n",
    "**Action**: assign space ID below"
   ]
  },
  {
   "cell_type": "code",
   "execution_count": null,
   "metadata": {},
   "outputs": [],
   "source": [
    "space_id = 'PASTE YOUR SPACE GUID HERE'"
   ]
  },
  {
   "cell_type": "markdown",
   "metadata": {},
   "source": [
    "Create an instance of APIClient with authentication details."
   ]
  },
  {
   "cell_type": "code",
   "execution_count": 7,
   "metadata": {},
   "outputs": [],
   "source": [
    "from ibm_watsonx_ai import APIClient\n",
    "\n",
    "client = APIClient(credentials=credentials, space_id=space_id)"
   ]
  },
  {
   "cell_type": "markdown",
   "metadata": {},
   "source": [
    "<a id=\"definition\"></a>\n",
    "\n",
    "## RAG Optimizer definition\n",
    "\n",
    "### Training data connection\n",
    "\n",
    "Define connection information to access the COS bucket and the file that contains training data. This example uses [`ibm_watsonx_ai`](https://ibm.github.io/watsonx-ai-python-sdk/index.html) SDK documentation content."
   ]
  },
  {
   "cell_type": "markdown",
   "metadata": {},
   "source": [
    "This cell downloads the `ibm_watsonx_ai` Python SDK zip file from GitHub (if not already present), and extracts its contents to a specified folder."
   ]
  },
  {
   "cell_type": "code",
   "execution_count": 4,
   "metadata": {},
   "outputs": [],
   "source": [
    "import wget, zipfile, os\n",
    "\n",
    "filename = \"watsonx-ai-python-sdk\"\n",
    "filename_zip = \"watsonx-ai-python-sdk.zip\"\n",
    "\n",
    "if not os.path.isfile(filename_zip): \n",
    "    wget.download(\"https://github.com/IBM/watsonx-ai-python-sdk/archive/refs/heads/gh-pages.zip\", out=filename_zip)\n",
    "\n",
    "with zipfile.ZipFile(filename_zip, \"r\") as zip_ref:\n",
    "    zip_ref.extractall(filename)"
   ]
  },
  {
   "cell_type": "code",
   "execution_count": 5,
   "metadata": {},
   "outputs": [],
   "source": [
    "from ibm_watsonx_ai.helpers import DataConnection, ContainerLocation\n",
    "\n",
    "container_location_path = \"ibm_watsonx_ai_sdk_docs\"\n",
    "\n",
    "container_data_connection = DataConnection(ContainerLocation(path=f\"{container_location_path}/\"))\n",
    "container_data_connection.set_client(client)"
   ]
  },
  {
   "cell_type": "markdown",
   "metadata": {},
   "source": [
    "Documents with the `.html` extension are filtered and saved to `ContainerLocation`"
   ]
  },
  {
   "cell_type": "code",
   "execution_count": 6,
   "metadata": {},
   "outputs": [],
   "source": [
    "html_docs_files = []\n",
    "for root, dirs, files in os.walk(filename):\n",
    "    if root == f\"{filename}/watsonx-ai-python-sdk-gh-pages\":\n",
    "        for file in files:\n",
    "            if file.endswith('.html'):\n",
    "                file_path = os.path.join(root, file)\n",
    "                html_docs_files.append(file_path)"
   ]
  },
  {
   "cell_type": "markdown",
   "metadata": {},
   "source": [
    "Writing all SDK documents may take around 3 minutes."
   ]
  },
  {
   "cell_type": "code",
   "execution_count": 7,
   "metadata": {},
   "outputs": [
    {
     "name": "stdout",
     "output_type": "stream",
     "text": [
      "Progress: ✓✓✓✓✓✓✓✓✓✓✓✓✓✓✓✓✓✓✓✓✓✓✓✓✓✓✓✓✓✓✓✓✓✓✓✓✓✓✓✓✓✓\r"
     ]
    }
   ],
   "source": [
    "import sys\n",
    "\n",
    "for ind, html_docs_file in enumerate(html_docs_files):\n",
    "    container_data_connection.write(html_docs_file, remote_name = html_docs_file.split(\"/\")[-1])\n",
    "    \n",
    "    sys.stdout.write(f\"\\rProgress: {'✓' * (ind+1)}{'.' * (len(html_docs_files)-ind-1)}\\r\")\n",
    "    sys.stdout.flush()"
   ]
  },
  {
   "cell_type": "markdown",
   "metadata": {},
   "source": [
    "### Create a connection to COS\n",
    "You can skip this section if you already have a connection asset that connects to **IBM Cloud Object Storage**."
   ]
  },
  {
   "cell_type": "code",
   "execution_count": 8,
   "metadata": {},
   "outputs": [],
   "source": [
    "datasource_name = 'bluemixcloudobjectstorage'\n",
    "bucketname = container_data_connection.location.bucket"
   ]
  },
  {
   "cell_type": "code",
   "execution_count": 9,
   "metadata": {},
   "outputs": [],
   "source": [
    "cos_credentials = client.spaces.get_details(space_id=space_id)['entity']['storage']['properties']"
   ]
  },
  {
   "cell_type": "code",
   "execution_count": 10,
   "metadata": {},
   "outputs": [
    {
     "name": "stdout",
     "output_type": "stream",
     "text": [
      "Creating connections...\n",
      "SUCCESS\n"
     ]
    }
   ],
   "source": [
    "conn_meta_props= {\n",
    "    client.connections.ConfigurationMetaNames.NAME: f\"Connection to Database - {datasource_name} \",\n",
    "    client.connections.ConfigurationMetaNames.DATASOURCE_TYPE: client.connections.get_datasource_type_id_by_name(datasource_name),\n",
    "    client.connections.ConfigurationMetaNames.DESCRIPTION: \"Connection to external Database\",\n",
    "    client.connections.ConfigurationMetaNames.PROPERTIES: {\n",
    "        'bucket': bucketname,\n",
    "        'access_key': cos_credentials['credentials']['editor']['access_key_id'],\n",
    "        'secret_key': cos_credentials['credentials']['editor']['secret_access_key'],\n",
    "        'iam_url': 'https://iam.cloud.ibm.com/identity/token',\n",
    "        'url': cos_credentials['endpoint_url']\n",
    "    }\n",
    "}\n",
    "\n",
    "conn_details = client.connections.create(meta_props=conn_meta_props)\n",
    "connection_id = client.connections.get_id(conn_details)"
   ]
  },
  {
   "cell_type": "markdown",
   "metadata": {},
   "source": [
    "Finally, we can create a Data Connection that represents input data references."
   ]
  },
  {
   "cell_type": "code",
   "execution_count": 11,
   "metadata": {},
   "outputs": [],
   "source": [
    "from ibm_watsonx_ai.helpers import DataConnection, S3Location\n",
    "\n",
    "input_data_references = [DataConnection(\n",
    "    connection_asset_id=connection_id,\n",
    "    location=S3Location(bucket=bucketname,\n",
    "                        path=container_location_path))]\n",
    "input_data_references[0].set_client(client)"
   ]
  },
  {
   "cell_type": "markdown",
   "metadata": {},
   "source": [
    "### Defining a connection to test data\n",
    "\n",
    "Upload a `json` file that will be used for benchmarking to COS and then define a connection to this file. This example uses content from the [`ibm_watsonx_ai`](https://ibm.github.io/watsonx-ai-python-sdk/index.html) SDK documentation."
   ]
  },
  {
   "cell_type": "code",
   "execution_count": 12,
   "metadata": {},
   "outputs": [],
   "source": [
    "benchmarking_data_IBM_page_content = [\n",
    "    {\n",
    "        \"question\": \"How to install ibm-watsonx-ai library?\",\n",
    "        \"correct_answer\": \"pip install ibm-watsonx-ai\",\n",
    "        \"correct_answer_document_ids\": [\n",
    "            \"install.html\"\n",
    "        ]\n",
    "    },\n",
    "    {\n",
    "        \"question\": \"What is Credentails class parameters?\",\n",
    "        \"correct_answer\": \"url, api_key, name, iam_serviceid_crn, token, projects_token, username, password, instance_id, version, bedrock_url, proxies, verify\",\n",
    "        \"correct_answer_document_ids\": [\n",
    "            \"base.html\"\n",
    "        ]\n",
    "    },\n",
    "    {\n",
    "        \"question\": \"How to get AutoAI pipeline with number 3?\",\n",
    "        \"correct_answer\": \"get_pipeline(pipeline_name='Pipeline_3')\",\n",
    "        \"correct_answer_document_ids\": [\n",
    "            \"autoai_working_with_class_and_optimizer.html\"\n",
    "        ]\n",
    "    },\n",
    "    {\n",
    "        \"question\": \"How to get list of Embedding Models?\",\n",
    "        \"correct_answer\": \"client.foundation_models.EmbeddingModels\",\n",
    "        \"correct_answer_document_ids\": [\n",
    "            \"fm_embeddings.html\"\n",
    "        ]\n",
    "    },\n",
    "    {\n",
    "        \"question\": \"How to retrieve the list of model lifecycle data?\",\n",
    "        \"correct_answer\": \"get_model_lifecycle(url='https://us-south.ml.cloud.ibm.com', model_id='ibm/granite-13b-instruct-v2')\",\n",
    "        \"correct_answer_document_ids\": [\n",
    "            \"fm_helpers.html\"\n",
    "        ]\n",
    "    },\n",
    "    {\n",
    "        \"question\": \"What is path to ModelInference class?\",\n",
    "        \"correct_answer\": \"ibm_watsonx_ai.foundation_models.inference.ModelInference\",\n",
    "        \"correct_answer_document_ids\": [\n",
    "            \"fm_model_inference.html\"\n",
    "        ]\n",
    "    },\n",
    "    {\n",
    "        \"question\": \"What is method for get model inferance details?\",\n",
    "        \"correct_answer\": \"get_details()\",\n",
    "        \"correct_answer_document_ids\": [\n",
    "            \"fm_model_inference.html\"\n",
    "        ]\n",
    "    }\n",
    "]"
   ]
  },
  {
   "cell_type": "markdown",
   "metadata": {},
   "source": [
    "The code in the next cell uploads testing data to the bucket as a `json` file."
   ]
  },
  {
   "cell_type": "code",
   "execution_count": 13,
   "metadata": {},
   "outputs": [
    {
     "name": "stdout",
     "output_type": "stream",
     "text": [
      "Creating data asset...\n",
      "SUCCESS\n"
     ]
    },
    {
     "data": {
      "text/plain": [
       "'e42e9165-e6d2-49db-9aaa-109a706ae7db'"
      ]
     },
     "execution_count": 13,
     "metadata": {},
     "output_type": "execute_result"
    }
   ],
   "source": [
    "import json\n",
    "\n",
    "test_filename = \"benchmarking_data_ibm_watson_ai.json\"\n",
    "\n",
    "if not os.path.isfile(test_filename):\n",
    "    with open(test_filename, \"w\") as json_file:\n",
    "        json.dump(benchmarking_data_IBM_page_content, json_file, indent=4)\n",
    "\n",
    "test_asset_details = client.data_assets.create(name=test_filename, file_path=test_filename)\n",
    "\n",
    "test_asset_id = client.data_assets.get_id(test_asset_details)\n",
    "test_asset_id"
   ]
  },
  {
   "cell_type": "markdown",
   "metadata": {},
   "source": [
    "Define connection information to testing data."
   ]
  },
  {
   "cell_type": "code",
   "execution_count": 14,
   "metadata": {},
   "outputs": [],
   "source": [
    "from ibm_watsonx_ai.helpers import DataConnection\n",
    "\n",
    "test_data_references = [DataConnection(data_asset_id=test_asset_id)]"
   ]
  },
  {
   "cell_type": "markdown",
   "metadata": {},
   "source": [
    "### Set up connectivity information to Milvus\n",
    "\n",
    "<b>This notebook focuses on a self-managed Milvus cluster using <a href=\"https://cloud.ibm.com/docs/watsonxdata?topic=watsonxdata-adding-milvus-service\" target=\"_blank\" rel=\"noopener no referrer\">IBM watsonx.data.</a></b>\n",
    "\n",
    "The following cell retrieves the Milvus username, password, host, and port from the environment (if available) and prompts you to provide them manually in case of failure.\n",
    "\n",
    "You can provide a connection asset ID to read all required connection data from it. Before doing so, make sure that a connection asset was created in your space."
   ]
  },
  {
   "cell_type": "code",
   "execution_count": 16,
   "metadata": {},
   "outputs": [],
   "source": [
    "import os\n",
    "import getpass\n",
    "\n",
    "milvus_connection_id = input(\"Provide connection asset ID in your space. Skip this, if you wish to type credentials by hand and hit enter: \") or None\n",
    "\n",
    "if milvus_connection_id is None:\n",
    "    try:\n",
    "        username = os.environ[\"USERNAME\"]\n",
    "    except KeyError:\n",
    "        username = input(\"Please enter your Milvus user name and hit enter: \")\n",
    "    try:\n",
    "        password = os.environ[\"PASSWORD\"]\n",
    "    except KeyError:\n",
    "        password = getpass.getpass(\"Please enter your Milvus password and hit enter: \")\n",
    "    try:\n",
    "        host = os.environ[\"HOST\"]\n",
    "    except KeyError:\n",
    "        host = input(\"Please enter your Milvus hostname and hit enter: \")\n",
    "    try:\n",
    "        port = os.environ[\"PORT\"]\n",
    "    except KeyError:\n",
    "        port = input(\"Please enter your Milvus port number and hit enter: \")\n",
    "    try:\n",
    "        ssl = os.environ[\"SSL\"]\n",
    "    except:\n",
    "        ssl = bool(input(\"Please enter ('y'/anything) if your Milvus instance has SSL enabled. Skip if it is not: \"))\n",
    "\n",
    "    # Create connection\n",
    "    milvus_data_source_type_id = client.connections.get_datasource_type_uid_by_name(\n",
    "        \"milvus\"\n",
    "    )\n",
    "    details = client.connections.create(\n",
    "        {\n",
    "            client.connections.ConfigurationMetaNames.NAME: \"Milvus Connection\",\n",
    "            client.connections.ConfigurationMetaNames.DESCRIPTION: \"Connection created by the sample notebook\",\n",
    "            client.connections.ConfigurationMetaNames.DATASOURCE_TYPE: milvus_data_source_type_id,\n",
    "            client.connections.ConfigurationMetaNames.PROPERTIES: {\n",
    "                \"host\": host,\n",
    "                \"port\": port,\n",
    "                \"username\": username,\n",
    "                \"password\": password,\n",
    "                \"ssl\": ssl,\n",
    "            },\n",
    "        }\n",
    "    )\n",
    "\n",
    "    milvus_connection_id = client.connections.get_id(details)"
   ]
  },
  {
   "cell_type": "markdown",
   "metadata": {},
   "source": [
    "Define connection information to vector store references."
   ]
  },
  {
   "cell_type": "code",
   "execution_count": 17,
   "metadata": {},
   "outputs": [],
   "source": [
    "vector_store_references = [DataConnection(connection_asset_id=milvus_connection_id)]"
   ]
  },
  {
   "cell_type": "markdown",
   "metadata": {},
   "source": [
    "### RAG Optimizer configuration\n",
    "\n",
    "Provide the input information for AutoAI RAG optimizer:\n",
    "- `name` - experiment name\n",
    "- `description` - experiment description\n",
    "- `max_number_of_rag_patterns` - maximum number of RAG patterns to create\n",
    "- `optimization_metrics` - target optimization metrics"
   ]
  },
  {
   "cell_type": "code",
   "execution_count": 2,
   "metadata": {},
   "outputs": [],
   "source": [
    "from ibm_watsonx_ai.experiment import AutoAI\n",
    "\n",
    "experiment = AutoAI(credentials, space_id=space_id)\n",
    "\n",
    "rag_optimizer = experiment.rag_optimizer(\n",
    "    name='AutoAI RAG ibm-watsonx-ai SDK documentation',\n",
    "    description=\"AutoAI RAG experiemnt trainded on ibm-watsonx-ai SDK documentataion\",\n",
    "    max_number_of_rag_patterns=6,\n",
    "    optimization_metrics=[AutoAI.RAGMetrics.ANSWER_CORRECTNESS]\n",
    ")"
   ]
  },
  {
   "cell_type": "markdown",
   "metadata": {},
   "source": [
    "Configuration parameters can be retrieved via `get_params()`."
   ]
  },
  {
   "cell_type": "code",
   "execution_count": 19,
   "metadata": {},
   "outputs": [
    {
     "data": {
      "text/plain": [
       "{'name': 'AutoAI RAG ibm-watsonx-ai SDK documentation',\n",
       " 'description': 'AutoAI RAG experiemnt trainded on ibm-watsonx-ai SDK documentataion',\n",
       " 'max_number_of_rag_patterns': 6,\n",
       " 'optimization_metrics': ['answer_correctness']}"
      ]
     },
     "execution_count": 19,
     "metadata": {},
     "output_type": "execute_result"
    }
   ],
   "source": [
    "rag_optimizer.get_params()"
   ]
  },
  {
   "cell_type": "markdown",
   "metadata": {},
   "source": [
    "<a id=\"run\"></a>\n",
    "## RAG Experiment run\n",
    "\n",
    "Call the `run()` method to trigger the AutoAI RAG experiment. You can either use interactive mode (synchronous job) or background mode (asynchronous job) by specifying `background_mode=True`."
   ]
  },
  {
   "cell_type": "code",
   "execution_count": 20,
   "metadata": {},
   "outputs": [
    {
     "name": "stdout",
     "output_type": "stream",
     "text": [
      "\n",
      "\n",
      "##############################################\n",
      "\n",
      "Running '40770d34-62d4-4135-b828-ac58d763cea0'\n",
      "\n",
      "##############################################\n",
      "\n",
      "\n",
      "pending...\n",
      "running.......................................................................................................................................................................\n",
      "completed\n",
      "Training of '40770d34-62d4-4135-b828-ac58d763cea0' finished successfully.\n"
     ]
    }
   ],
   "source": [
    "run_details = rag_optimizer.run(\n",
    "    input_data_references=input_data_references,\n",
    "    test_data_references=test_data_references,\n",
    "    vector_store_references=vector_store_references,\n",
    "    background_mode=False\n",
    ")"
   ]
  },
  {
   "cell_type": "markdown",
   "metadata": {},
   "source": [
    "You can use the `get_run_status()` method to monitor AutoAI RAG jobs in background mode."
   ]
  },
  {
   "cell_type": "code",
   "execution_count": 21,
   "metadata": {},
   "outputs": [
    {
     "data": {
      "text/plain": [
       "'completed'"
      ]
     },
     "execution_count": 21,
     "metadata": {},
     "output_type": "execute_result"
    }
   ],
   "source": [
    "rag_optimizer.get_run_status()"
   ]
  },
  {
   "cell_type": "markdown",
   "metadata": {},
   "source": [
    "<a id=\"comparison\"></a>\n",
    "## Comparison and testing of RAG Patterns\n",
    "\n",
    "You can list the trained patterns and information on evaluation metrics in the form of a Pandas DataFrame by calling the `summary()` method. You can use the DataFrame to compare all discovered patterns and select the one you like for further testing."
   ]
  },
  {
   "cell_type": "code",
   "execution_count": 4,
   "metadata": {},
   "outputs": [
    {
     "data": {
      "text/html": [
       "<div>\n",
       "<style scoped>\n",
       "    .dataframe tbody tr th:only-of-type {\n",
       "        vertical-align: middle;\n",
       "    }\n",
       "\n",
       "    .dataframe tbody tr th {\n",
       "        vertical-align: top;\n",
       "    }\n",
       "\n",
       "    .dataframe thead th {\n",
       "        text-align: right;\n",
       "    }\n",
       "</style>\n",
       "<table border=\"1\" class=\"dataframe\">\n",
       "  <thead>\n",
       "    <tr style=\"text-align: right;\">\n",
       "      <th></th>\n",
       "      <th>mean_answer_correctness</th>\n",
       "      <th>mean_faithfulness</th>\n",
       "      <th>mean_context_correctness</th>\n",
       "      <th>chunking.chunk_size</th>\n",
       "      <th>embeddings.model_id</th>\n",
       "      <th>vector_store.distance_metric</th>\n",
       "      <th>retrieval.method</th>\n",
       "      <th>retrieval.number_of_chunks</th>\n",
       "      <th>generation.model_id</th>\n",
       "    </tr>\n",
       "    <tr>\n",
       "      <th>Pattern_Name</th>\n",
       "      <th></th>\n",
       "      <th></th>\n",
       "      <th></th>\n",
       "      <th></th>\n",
       "      <th></th>\n",
       "      <th></th>\n",
       "      <th></th>\n",
       "      <th></th>\n",
       "      <th></th>\n",
       "    </tr>\n",
       "  </thead>\n",
       "  <tbody>\n",
       "    <tr>\n",
       "      <th>Pattern4</th>\n",
       "      <td>0.785714</td>\n",
       "      <td>0.655429</td>\n",
       "      <td>0.785714</td>\n",
       "      <td>1024</td>\n",
       "      <td>intfloat/multilingual-e5-large</td>\n",
       "      <td>cosine</td>\n",
       "      <td>window</td>\n",
       "      <td>5</td>\n",
       "      <td>meta-llama/llama-3-70b-instruct</td>\n",
       "    </tr>\n",
       "    <tr>\n",
       "      <th>Pattern1</th>\n",
       "      <td>0.642857</td>\n",
       "      <td>0.539929</td>\n",
       "      <td>0.654757</td>\n",
       "      <td>512</td>\n",
       "      <td>ibm/slate-125m-english-rtrvr</td>\n",
       "      <td>euclidean</td>\n",
       "      <td>window</td>\n",
       "      <td>5</td>\n",
       "      <td>meta-llama/llama-3-70b-instruct</td>\n",
       "    </tr>\n",
       "    <tr>\n",
       "      <th>Pattern5</th>\n",
       "      <td>0.642857</td>\n",
       "      <td>0.616429</td>\n",
       "      <td>0.928571</td>\n",
       "      <td>1024</td>\n",
       "      <td>intfloat/multilingual-e5-large</td>\n",
       "      <td>cosine</td>\n",
       "      <td>window</td>\n",
       "      <td>3</td>\n",
       "      <td>mistralai/mixtral-8x7b-instruct-v01</td>\n",
       "    </tr>\n",
       "    <tr>\n",
       "      <th>Pattern6</th>\n",
       "      <td>0.642857</td>\n",
       "      <td>0.641614</td>\n",
       "      <td>0.785714</td>\n",
       "      <td>1024</td>\n",
       "      <td>intfloat/multilingual-e5-large</td>\n",
       "      <td>euclidean</td>\n",
       "      <td>window</td>\n",
       "      <td>3</td>\n",
       "      <td>meta-llama/llama-3-70b-instruct</td>\n",
       "    </tr>\n",
       "    <tr>\n",
       "      <th>Pattern2</th>\n",
       "      <td>0.274729</td>\n",
       "      <td>0.719814</td>\n",
       "      <td>0.785714</td>\n",
       "      <td>1024</td>\n",
       "      <td>intfloat/multilingual-e5-large</td>\n",
       "      <td>euclidean</td>\n",
       "      <td>window</td>\n",
       "      <td>5</td>\n",
       "      <td>ibm/granite-13b-chat-v2</td>\n",
       "    </tr>\n",
       "    <tr>\n",
       "      <th>Pattern3</th>\n",
       "      <td>0.142857</td>\n",
       "      <td>0.553100</td>\n",
       "      <td>0.785714</td>\n",
       "      <td>1024</td>\n",
       "      <td>intfloat/multilingual-e5-large</td>\n",
       "      <td>euclidean</td>\n",
       "      <td>simple</td>\n",
       "      <td>5</td>\n",
       "      <td>ibm/granite-13b-chat-v2</td>\n",
       "    </tr>\n",
       "  </tbody>\n",
       "</table>\n",
       "</div>"
      ],
      "text/plain": [
       "              mean_answer_correctness  mean_faithfulness  \\\n",
       "Pattern_Name                                               \n",
       "Pattern4                     0.785714           0.655429   \n",
       "Pattern1                     0.642857           0.539929   \n",
       "Pattern5                     0.642857           0.616429   \n",
       "Pattern6                     0.642857           0.641614   \n",
       "Pattern2                     0.274729           0.719814   \n",
       "Pattern3                     0.142857           0.553100   \n",
       "\n",
       "              mean_context_correctness  chunking.chunk_size  \\\n",
       "Pattern_Name                                                  \n",
       "Pattern4                      0.785714                 1024   \n",
       "Pattern1                      0.654757                  512   \n",
       "Pattern5                      0.928571                 1024   \n",
       "Pattern6                      0.785714                 1024   \n",
       "Pattern2                      0.785714                 1024   \n",
       "Pattern3                      0.785714                 1024   \n",
       "\n",
       "                         embeddings.model_id vector_store.distance_metric  \\\n",
       "Pattern_Name                                                                \n",
       "Pattern4      intfloat/multilingual-e5-large                       cosine   \n",
       "Pattern1        ibm/slate-125m-english-rtrvr                    euclidean   \n",
       "Pattern5      intfloat/multilingual-e5-large                       cosine   \n",
       "Pattern6      intfloat/multilingual-e5-large                    euclidean   \n",
       "Pattern2      intfloat/multilingual-e5-large                    euclidean   \n",
       "Pattern3      intfloat/multilingual-e5-large                    euclidean   \n",
       "\n",
       "             retrieval.method  retrieval.number_of_chunks  \\\n",
       "Pattern_Name                                                \n",
       "Pattern4               window                           5   \n",
       "Pattern1               window                           5   \n",
       "Pattern5               window                           3   \n",
       "Pattern6               window                           3   \n",
       "Pattern2               window                           5   \n",
       "Pattern3               simple                           5   \n",
       "\n",
       "                              generation.model_id  \n",
       "Pattern_Name                                       \n",
       "Pattern4          meta-llama/llama-3-70b-instruct  \n",
       "Pattern1          meta-llama/llama-3-70b-instruct  \n",
       "Pattern5      mistralai/mixtral-8x7b-instruct-v01  \n",
       "Pattern6          meta-llama/llama-3-70b-instruct  \n",
       "Pattern2                  ibm/granite-13b-chat-v2  \n",
       "Pattern3                  ibm/granite-13b-chat-v2  "
      ]
     },
     "execution_count": 4,
     "metadata": {},
     "output_type": "execute_result"
    }
   ],
   "source": [
    "summary = rag_optimizer.summary()\n",
    "summary"
   ]
  },
  {
   "cell_type": "markdown",
   "metadata": {},
   "source": [
    "Additionally, you can pass the `scoring` parameter to the summary method, to filter RAG patterns starting with the best.\n",
    "\n",
    "```python\n",
    "summary = rag_optimizer.summary(scoring=\"faithfulness\")\n",
    "```"
   ]
  },
  {
   "cell_type": "markdown",
   "metadata": {},
   "source": [
    "### Get selected pattern\n",
    "\n",
    "Get the RAGPattern object from the RAG Optimizer experiment. By default, the RAGPattern of the best pattern is returned."
   ]
  },
  {
   "cell_type": "code",
   "execution_count": 5,
   "metadata": {},
   "outputs": [
    {
     "name": "stdout",
     "output_type": "stream",
     "text": [
      "Best pattern is: Pattern4\n"
     ]
    }
   ],
   "source": [
    "best_pattern_name = summary.index.values[0]\n",
    "print('Best pattern is:', best_pattern_name)\n",
    "\n",
    "best_pattern = rag_optimizer.get_pattern()"
   ]
  },
  {
   "cell_type": "markdown",
   "metadata": {},
   "source": [
    "The pattern details can be retrieved by calling the `get_pattern_details` method:\n",
    "\n",
    "```python\n",
    "rag_optimizer.get_pattern_details(pattern_name='Pattern2')\n",
    "```"
   ]
  },
  {
   "cell_type": "markdown",
   "metadata": {},
   "source": [
    "Query the RAGPattern locally, to test it."
   ]
  },
  {
   "cell_type": "code",
   "execution_count": 9,
   "metadata": {},
   "outputs": [],
   "source": [
    "questions = [\"How to use new approach of providing credentials to APIClient?\"]\n",
    "\n",
    "payload = {\n",
    "    client.deployments.ScoringMetaNames.INPUT_DATA: [\n",
    "        {\n",
    "            \"values\": questions,\n",
    "            \"access_token\": client.service_instance._get_token()\n",
    "        }\n",
    "    ]\n",
    "}\n",
    "\n",
    "resp = best_pattern.inference_function()(payload)"
   ]
  },
  {
   "cell_type": "code",
   "execution_count": 10,
   "metadata": {},
   "outputs": [
    {
     "name": "stdout",
     "output_type": "stream",
     "text": [
      "\n",
      "\n",
      "According to the document, the new approach to provide credentials to APIClient is by using the Credentials class. Here's an example:\n",
      "\n",
      "```\n",
      "from ibm_watsonx_ai import APIClient\n",
      "from ibm_watsonx_ai import Credentials\n",
      "\n",
      "credentials = Credentials(\n",
      "                   url = \"https://us-south.ml.cloud.ibm.com\",\n",
      "                   token = \"***********\",\n",
      "                  )\n",
      "\n",
      "client = APIClient(credentials)\n",
      "```\n",
      "\n",
      "This replaces the old approach of passing a dictionary with credentials to the APIClient constructor.\n"
     ]
    }
   ],
   "source": [
    "print(resp[\"predictions\"][0][\"values\"][0][0])"
   ]
  },
  {
   "cell_type": "markdown",
   "metadata": {},
   "source": [
    "### Deploy RAGPattern\n",
    "\n",
    "Deployment is done by storing the defined RAG function and then by creating a deployed asset."
   ]
  },
  {
   "cell_type": "code",
   "execution_count": 26,
   "metadata": {},
   "outputs": [
    {
     "name": "stdout",
     "output_type": "stream",
     "text": [
      "\n",
      "\n",
      "######################################################################################\n",
      "\n",
      "Synchronous deployment creation for id: '6858bbdc-0823-45ad-9f77-360714e49558' started\n",
      "\n",
      "######################################################################################\n",
      "\n",
      "\n",
      "initializing\n",
      "Note: online_url and serving_urls are deprecated and will be removed in a future release. Use inference instead.\n",
      ".............\n",
      "ready\n",
      "\n",
      "\n",
      "-----------------------------------------------------------------------------------------------\n",
      "Successfully finished deployment creation, deployment_id='c15cef2d-56b7-4a89-83a1-61b033334bdc'\n",
      "-----------------------------------------------------------------------------------------------\n",
      "\n",
      "\n"
     ]
    }
   ],
   "source": [
    "deployment_details = best_pattern.deploy(\n",
    "    name=\"AutoAI RAG deployment - ibm_watsonx_ai documentataion\",\n",
    "    space_id=space_id\n",
    ")"
   ]
  },
  {
   "cell_type": "markdown",
   "metadata": {},
   "source": [
    "### Test the deployed function\n",
    "\n",
    "RAG service is now deployed in our space. To test our solution we can run the cell below. Questions have to be provided in the payload. Their format is provided below."
   ]
  },
  {
   "cell_type": "code",
   "execution_count": 27,
   "metadata": {},
   "outputs": [
    {
     "data": {
      "text/plain": [
       "{'predictions': [{'fields': ['answer', 'reference_documents'],\n",
       "   'values': [['\\n\\nAccording to the document, the new approach to provide credentials to APIClient is by using the Credentials class. Here\\'s an example:\\n\\n```\\nfrom ibm_watsonx_ai import APIClient\\nfrom ibm_watsonx_ai import Credentials\\n\\ncredentials = Credentials(\\n                   url = \"https://us-south.ml.cloud.ibm.com\",\\n                   token = \"***********\",\\n                  )\\n\\nclient = APIClient(credentials)\\n```\\n\\nThis replaces the old approach of passing a dictionary with credentials to the APIClient constructor.',\n",
       "     [{'page_content': 'bedrock_url (str, optional) – Bedrock URL, applicable for ICP only\\nproxies (dict, optional) – dictionary of proxies, containing protocol and URL mapping (example: { “https”: “https://example.url.com” })\\nverify (bool, optional) – certificate verification flag static from_dict(credentials, _verify=None)[source]¶\\nCreate a Credentials object from dictionary.\\n\\nParameters:\\ncredentials (dict) – credentials in the dictionary\\n\\nReturns:\\ninitialised credentials object\\n\\nReturn type:\\nCredentials\\n\\n\\nExample\\nfrom ibm_watsonx_ai import Credentials\\n\\ncredentials = Credentials.from_dict({\\n    \\'url\\': \"<url>\",\\n    \\'apikey\\': \"<api_key>\"\\n})\\n\\n\\n\\n\\n\\nto_dict()[source]¶\\nGet dictionary from the Credentials object.\\n\\nReturns:\\ndictionary with credentials\\n\\nReturn type:\\ndict\\n\\n\\nExample\\nfrom ibm_watsonx_ai import Credentials\\n\\ncredentials = Credentials.from_dict({\\n    \\'url\\': \"<url>\",\\n    \\'apikey\\': \"<api_key>\"\\n})\\n\\ncredentials_dict = credentials.to_dict()\\n\\n\\n\\n\\n\\n\\n\\n\\n\\n\\n\\n\\n\\nNext\\n\\nCore\\n\\n\\n\\n\\n\\n\\n\\nPrevious\\n\\nAPI\\n\\n\\n\\n\\n\\n\\n                Copyright © 2023-2024, IBM\\n            \\n            Made with Sphinx and @pradyunsg\\'s\\n            \\n            Furo\\n\\n\\n\\n\\n\\n\\n\\n\\n\\n\\n            On this page\\n          \\n\\n\\n\\n\\nBase\\nAPIClient\\nAPIClient\\nAPIClient.set_headers()\\nAPIClient.set_token()\\n\\n\\n\\n\\nCredentials\\nCredentials\\nCredentials.from_dict()\\nCredentials.to_dict()',\n",
       "       'metadata': {'sequence_number': [7, 8, 9], 'document_id': 'base.html'}},\n",
       "      {'page_content': '✅ New approach - Access to credentials fields as class attributes.\\nconn_list = client.connections.list()  ## table not printed\\n\\n\\n❌ Old approach - Table with listed resources printed.\\nconn_list = client.connections.list()\\n### Table returned as pandas.DataFrame `conn_list` object and printed output:\\n---------------------------  ------------------------------------  --------------------  ------------------------------------\\nNAME                         ID                                    CREATED               DATASOURCE_TYPE_ID\\nConnection to COS            71738a79-6585-4f33-bf4a-18907abcf06a  2024-04-25T10:42:23Z  193a97c1-4475-4a19-b90c-295c4fdc6517\\n---------------------------  ------------------------------------  --------------------  ------------------------------------\\n\\n\\n\\nMethods and parameters that were marked as deprecated in ibm_watsonx_ai v0 were removed. For example:\\n\\n✅ New approach - Use method that replaced deprecated one, for get_uid it’s get_id\\nasset_id = client.data_assets.get_id(asset_details)\\n\\n\\n❌ Old approach - Deprecated get_uid method  called\\nclient.data_assets.get_uid(asset_details)\\n\\n\\n\\nclient.credentials and client.wml_credentials returns Credentials object instead of dictionary.\\n\\n✅ New approach - Access to credentials fields as class attributes.\\nfrom ibm_watsonx_ai import APIClient\\nfrom ibm_watsonx_ai import Credentials\\n\\ncredentials = Credentials(\\n                   url = \"https://us-south.ml.cloud.ibm.com\",\\n                   token = \"***********\",\\n                  )\\n\\nclient = APIClient(credentials)\\n\\nurl = client.credentials.url\\n# OR\\nurl = credentials.url\\n\\n\\n❌ Old approach - Access to credentials fields as keys in dictionary.\\nfrom ibm_watsonx_ai import APIClient\\n\\ncredentials = {\\n                   \"url\": \"https://us-south.ml.cloud.ibm.com\",\\n                   \"token\":\"***********\",\\n                  }\\nclient = APIClient(credentials)\\nurl = client.wml_credentials.get(\\'url\\')\\n\\n\\n\\nParameter changes in service.score(...) for online deployment\\n\\nservice.score(...) has additional forecast_window parameter added before transaction_id parameter.\\nAdditionally, service.score(...) function will require from 1.0.0 to pass all named parameters except payload parameter.\\n✅ New approach - named parameters and new parameter.\\npredictions = service.score({\\n        \"observations\": AbstractTestTSAsync.observations,\\n        \"supporting_features\": AbstractTestTSAsync.supporting_features,\\n    },\\n    forecast_window=1,\\n    transaction_id=transaction_id,\\n) ❌ Old approach - all parameters not named, forecast_window parameter absent\\npredictions = service.score({\\n        \"observations\": AbstractTestTSAsync.observations,\\n        \"supporting_features\": AbstractTestTSAsync.supporting_features,\\n    },\\n    transaction_id,\\n)\\n\\n\\n\\n\\nDeprecations¶\\n\\nInitializing APIClient with credentials as dictionary is deprecated.\\n\\nAll parameters with wml in name are deprecated. They were renamed to:\\nwml_credentials -> credentials\\nwml_client -> api_client.\\n\\n\\n\\n\\nid naming was aligned in parameters and methods, now all uid should be replaced by id. Methods that were using uid were either removed or mark as deprecated.\\n\\n\\n\\n\\n\\n\\n\\n\\n\\n\\n\\nNext\\n\\nChangelog\\n\\n\\n\\n\\n\\n\\n\\nPrevious\\n\\nMigration from ibm_watson_machine_learning\\n\\n\\n\\n\\n\\n\\n                Copyright © 2023-2024, IBM\\n            \\n            Made with Sphinx and @pradyunsg\\'s\\n            \\n            Furo\\n\\n\\n\\n\\n\\n\\n\\n\\n\\n\\n            On this page\\n          \\n\\n\\n\\n\\nV1 Migration Guide\\nWhat’s new?\\nRefactor and Cleanup\\nNew authorization\\nEasier project and space setup\\nFoundation models functions moved under APIClient\\nBreaking changes\\nDeprecations',\n",
       "       'metadata': {'sequence_number': [8, 9, 10, 11, 12],\n",
       "        'document_id': 'migration_v1.html'}},\n",
       "      {'page_content': 'get_model_lifecycle(\\n    url=\"https://us-south.ml.cloud.ibm.com\",\\n    model_id=\"ibm/granite-13b-instruct-v2\"\\n)\\n\\nget_model_specs_with_prompt_tuning_support(\\n    url=\"https://us-south.ml.cloud.ibm.com\"\\n)\\n\\nget_embedding_model_specs(\\n    url=\"https://us-south.ml.cloud.ibm.com\"\\n)\\n\\n\\n\\n\\nBreaking changes¶\\n\\nclient.<resource>.list() methods don’t print the table with listed assets. They return the table as pandas.DataFrame. The optional parameter for the methods return_as_df was removed.\\n\\n✅ New approach - Access to credentials fields as class attributes.\\nconn_list = client.connections.list()  ## table not printed\\n\\n\\n❌ Old approach - Table with listed resources printed.\\nconn_list = client.connections.list()\\n### Table returned as pandas.DataFrame `conn_list` object and printed output:\\n---------------------------  ------------------------------------  --------------------  ------------------------------------\\nNAME                         ID                                    CREATED               DATASOURCE_TYPE_ID\\nConnection to COS            71738a79-6585-4f33-bf4a-18907abcf06a  2024-04-25T10:42:23Z  193a97c1-4475-4a19-b90c-295c4fdc6517\\n---------------------------  ------------------------------------  --------------------  ------------------------------------\\n\\n\\n\\nMethods and parameters that were marked as deprecated in ibm_watsonx_ai v0 were removed. For example:\\n\\n✅ New approach - Use method that replaced deprecated one, for get_uid it’s get_id\\nasset_id = client.data_assets.get_id(asset_details)\\n\\n\\n❌ Old approach - Deprecated get_uid method  called\\nclient.data_assets.get_uid(asset_details)\\n\\n\\n\\nclient.credentials and client.wml_credentials returns Credentials object instead of dictionary.\\n\\n✅ New approach - Access to credentials fields as class attributes.\\nfrom ibm_watsonx_ai import APIClient\\nfrom ibm_watsonx_ai import Credentials\\n\\ncredentials = Credentials(\\n                   url = \"https://us-south.ml.cloud.ibm.com\",\\n                   token = \"***********\",\\n                  )\\n\\nclient = APIClient(credentials)\\n\\nurl = client.credentials.url\\n# OR\\nurl = credentials.url\\n\\n\\n❌ Old approach - Access to credentials fields as keys in dictionary.\\nfrom ibm_watsonx_ai import APIClient\\n\\ncredentials = {\\n                   \"url\": \"https://us-south.ml.cloud.ibm.com\",\\n                   \"token\":\"***********\",\\n                  }\\nclient = APIClient(credentials)\\nurl = client.wml_credentials.get(\\'url\\')\\n\\n\\n\\nParameter changes in service.score(...) for online deployment\\n\\nservice.score(...) has additional forecast_window parameter added before transaction_id parameter.\\nAdditionally, service.score(...) function will require from 1.0.0 to pass all named parameters except payload parameter.\\n✅ New approach - named parameters and new parameter.\\npredictions = service.score({\\n        \"observations\": AbstractTestTSAsync.observations,\\n        \"supporting_features\": AbstractTestTSAsync.supporting_features,\\n    },\\n    forecast_window=1,\\n    transaction_id=transaction_id,\\n) ❌ Old approach - all parameters not named, forecast_window parameter absent\\npredictions = service.score({\\n        \"observations\": AbstractTestTSAsync.observations,\\n        \"supporting_features\": AbstractTestTSAsync.supporting_features,\\n    },\\n    transaction_id,\\n)\\n\\n\\n\\n\\nDeprecations¶\\n\\nInitializing APIClient with credentials as dictionary is deprecated.\\n\\nAll parameters with wml in name are deprecated. They were renamed to:\\nwml_credentials -> credentials\\nwml_client -> api_client.\\n\\n\\n\\n\\nid naming was aligned in parameters and methods, now all uid should be replaced by id. Methods that were using uid were either removed or mark as deprecated.\\n\\n\\n\\n\\n\\n\\n\\n\\n\\n\\n\\nNext\\n\\nChangelog\\n\\n\\n\\n\\n\\n\\n\\nPrevious\\n\\nMigration from ibm_watson_machine_learning\\n\\n\\n\\n\\n\\n\\n                Copyright © 2023-2024, IBM\\n            \\n            Made with Sphinx and @pradyunsg\\'s\\n            \\n            Furo\\n\\n\\n\\n\\n\\n\\n\\n\\n\\n\\n            On this page',\n",
       "       'metadata': {'sequence_number': [7, 8, 9, 10, 11],\n",
       "        'document_id': 'migration_v1.html'}},\n",
       "      {'page_content': 'Authentication¶\\nIf you are a user of IBM watsonx.ai software with IBM Cloud Pak® for Data 4.8, you can create a IBM watsonx.ai Python client by providing your credentials or using a token:\\n\\nNote\\nTo determine your <APIKEY>, refer to Generating API keys.\\nThe base URL for ibm_watsonx_ai comes from the cluster and add-on service instance. The URL follows this pattern:\\nhttps://{cpd_cluster}\\n{cpd_cluster} represents the name or IP address of your deployed cluster. For the Cloud Pak for Data system, use a hostname that resolves to an IP address in the cluster.\\nTo find the base URL, view the details for the service instance from the Cloud Pak for Data web client. Use that URL in your requests to watsonx.ai software.\\n\\nExample of creating the client using username and password credentials:\\nfrom ibm_watsonx_ai import APIClient\\nfrom ibm_watsonx_ai import Credentials\\n\\ncredentials = Credentials(\\n                   url = \"<URL>\",\\n                   username = \"<USERNAME>\",\\n                   password = \"<PASSWORD>\",\\n                   instance_id = \"openshift\",\\n                   version = \"4.8\"\\n                  )\\n\\nclient = APIClient(credentials)\\n\\n\\nExample of creating the client using username and apikey credentials:\\nfrom ibm_watsonx_ai import APIClient\\nfrom ibm_watsonx_ai import Credentials\\n\\ncredentials = Credentials(\\n                   url = \"<URL>\",\\n                   username = \"<USERNAME>\",\\n                   api_key = \"<API_KEY>\",\\n                   instance_id = \"openshift\",\\n                   version = \"4.8\"\\n                  )\\n\\nclient = APIClient(credentials)\\n\\n\\nExample of creating the client using a token:\\nNote: In IBM watsonx.ai software with IBM Cloud Pak® for Data 4.8, you can authenticate with a token set in the notebook environment.\\naccess_token = os.environ[\\'USER_ACCESS_TOKEN\\']\\nfrom ibm_watsonx_ai import APIClient\\nfrom ibm_watsonx_ai import Credentials\\n\\ncredentials = Credentials(\\n                   url = \"<URL>\",\\n                   token = access_token,\\n                   instance_id = \"openshift\"\\n                   version = \"4.8\"\\n                  )\\nclient = APIClient(credentials)\\n\\n\\n\\nNote:\\nThe version value should be set to the version and release format (for example: 4.8) for the IBM watsonx.ai software you are using.\\nSetting a default space ID or project ID is mandatory. For examples, refer to the client.set.default_space() and client.set.default_project() APIs in this document. Note for IBM watsonx.ai software with IBM Cloud Pak® for Data 4.8 and later:If the following error appears during authentication:\\nAttempt of generating `bedrock_url` automatically failed.\\nIf iamintegration=True, please provide `bedrock_url` in wml_credentials.\\nIf iamintegration=False, please validate your credentials.\\n\\n\\nThere are two possible causes:\\n\\nIf you chose iamintegration=False (default configuration) during installation, the credentials might be invalid or the service is temporary unavailable.\\nIf you chose iamintegration=True during installation, the autogeneration of bedrock_url wasn’t successful. Provide the IBM Cloud Pak foundational services URL as the bedrock_url param in the wml_credentials.\\nTo get the IBM Cloud Pak foundational services URL, refer to Authenticating for programmatic access.\\n\\n\\n\\n\\n\\n\\n\\n\\n\\n\\n\\n\\n\\nNext\\n\\nAPI\\n\\n\\n\\n\\n\\n\\n\\nPrevious\\n\\nIBM watsonx.ai for IBM Cloud\\n\\n\\n\\n\\n\\n\\n                Copyright © 2023-2024, IBM\\n            \\n            Made with Sphinx and @pradyunsg\\'s\\n            \\n            Furo\\n\\n\\n\\n\\n\\n\\n\\n\\n\\n\\n            On this page\\n          \\n\\n\\n\\n\\nIBM watsonx.ai software\\nRequirements\\nSupported machine learning frameworks\\nAuthentication',\n",
       "       'metadata': {'sequence_number': [4, 5, 6, 7, 8],\n",
       "        'document_id': 'setup_cpd.html'}},\n",
       "      {'page_content': 'AutoAIToggle navigation of AutoAI\\nWorking with AutoAI class and optimizer\\nAutoAI experiment\\nDeployment Modules for AutoAI models\\n\\n\\nFoundation ModelsToggle navigation of Foundation Models\\nEmbeddings\\nModelsToggle navigation of Models\\nModel\\nModelInference\\nModelInference for Deployments\\n\\n\\nPrompt TuningToggle navigation of Prompt Tuning\\nWorking with TuneExperiment and PromptTunerToggle navigation of Working with TuneExperiment and PromptTuner\\nTune Experiment run\\nTuned Model Inference\\n\\n\\nTune Experiment\\n\\n\\nPrompt Template Manager\\nExtensionsToggle navigation of Extensions\\nLangChain\\nRAG\\n\\n\\nHelpers\\nCustom models\\nText Extractions\\n\\n\\n\\n\\nSamples\\nMigration from ibm_watson_machine_learning\\nV1 Migration Guide\\nChangelog\\n\\n\\n\\n\\n\\n\\n\\n\\n\\n\\n\\n\\nBack to top\\n\\n\\n\\n\\n\\nView this page\\n\\n\\n\\n\\nToggle Light / Dark / Auto color theme\\n\\n\\n\\n\\n\\n\\n\\nToggle table of contents sidebar\\n\\n\\n\\n\\n\\nV1 Migration Guide¶\\nNew ibm_watsonx_ai Python SDK 1.0 is backward compatible in most common scenarios,\\nbut few minor adjustments in code may be needed.\\n\\nWhat’s new?¶\\n\\nRefactor and Cleanup¶\\nThis major release marks a thorough refactoring and cleanup of the codebase.\\nWe’ve diligently worked to improve code readability, and enhance overall performance.\\nAs a result, users can expect a more efficient and maintainable package.\\n\\n\\nNew authorization¶\\nIn ibm_watsonx_ai 1.0 new class Credentials was introduced which replaces the dictionary with credentials.\\nSee examples and more in docs: Authentication Cloud and Authentication\\n✅ New approach\\nfrom ibm_watsonx_ai import APIClient\\nfrom ibm_watsonx_ai import Credentials\\n\\ncredentials = Credentials(\\n                   url = \"https://us-south.ml.cloud.ibm.com\",\\n                   token = \"***********\",\\n                  )\\n\\nclient = APIClient(credentials)\\n\\n\\n❌ Old approach\\nfrom ibm_watsonx_ai import APIClient\\n\\ncredentials = {\\n                   \"url\": \"https://us-south.ml.cloud.ibm.com\",\\n                   \"token\":\"***********\",\\n                  }\\n\\nclient = APIClient(credentials)\\n\\n\\n\\n\\nEasier project and space setup¶\\nStarting from ibm_watsonx_ai 1.0 release users can set the default space\\nor project while initializing APIClient object.\\n✅ New approach\\nclient_project = APIClient(credentials, project_id = project_id)\\nclient_space = APIClient(credentials, space_id = space_id)\\n\\n\\n❌ Old approach\\nclient_project = APIClient(credentials)\\nclient_project.set.default_project(project_id)\\n\\nclient_space = APIClient(credentials)\\nclient_space.set.default_space(space_id)\\n\\n\\n\\n\\nFoundation models functions moved under APIClient¶\\nStarting from ibm_watsonx_ai 1.0 foundation models functions (get_model_specs, get_custom_model_specs,\\nget_model_lifecycle, get_model_specs_with_prompt_tuning_support, get_embedding_model_specs) are moved into client.foundation_models object.\\nOld versions of the functions are not removed, however, as they lack authentication, they will no longer work.\\n✅ New approach - Using functions from client.foundation_models.\\nclient.foundation_models.get_model_specs()\\n\\nclient.foundation_models.get_custom_model_specs()\\nclient.foundation_models.get_custom_model_specs(\\n    model_id=\\'mistralai/Mistral-7B-Instruct-v0.2\\'\\n)\\nclient.foundation_models.get_custom_model_specs(limit=20)\\nclient.foundation_models.get_custom_model_specs(limit=20, get_all=True) client.foundation_models.get_model_lifecycle(\\n    model_id=\"ibm/granite-13b-instruct-v2\"\\n)\\n\\nclient.foundation_models.get_model_specs_with_prompt_tuning_support()\\n\\nclient.foundation_models.get_embeddings_model_specs()\\n\\n\\n❌ Old approach - Using functions from ibm_watsonx_ai.foundation_models module.\\nfrom ibm_watsonx_ai.foundation_models import (\\n    get_model_specs,\\n    get_custom_models_spec,\\n    get_model_lifecycle,\\n    get_model_specs_with_prompt_tuning_support,\\n    get_embedding_model_specs\\n)\\n\\nget_model_specs(\\n    url=\"https://us-south.ml.cloud.ibm.com\"\\n)\\n\\nget_custom_models_spec(api_client=client)\\nget_custom_models_spec(credentials=credentials)\\nget_custom_models_spec(api_client=client, model_id=\\'mistralai/Mistral-7B-Instruct-v0.2\\')\\nget_custom_models_spec(api_client=client, limit=20)\\nget_custom_models_spec(api_client=client, limit=20, get_all=True)\\n\\nget_model_lifecycle(\\n    url=\"https://us-south.ml.cloud.ibm.com\",\\n    model_id=\"ibm/granite-13b-instruct-v2\"\\n)',\n",
       "       'metadata': {'sequence_number': [2, 3, 4, 5, 6],\n",
       "        'document_id': 'migration_v1.html'}}]]]}]}"
      ]
     },
     "execution_count": 27,
     "metadata": {},
     "output_type": "execute_result"
    }
   ],
   "source": [
    "deployment_id = client.deployments.get_id(deployment_details)\n",
    "\n",
    "score_response = client.deployments.score(deployment_id, payload)\n",
    "score_response"
   ]
  },
  {
   "cell_type": "code",
   "execution_count": 28,
   "metadata": {},
   "outputs": [
    {
     "name": "stdout",
     "output_type": "stream",
     "text": [
      "\n",
      "\n",
      "According to the document, the new approach to provide credentials to APIClient is by using the Credentials class. Here's an example:\n",
      "\n",
      "```\n",
      "from ibm_watsonx_ai import APIClient\n",
      "from ibm_watsonx_ai import Credentials\n",
      "\n",
      "credentials = Credentials(\n",
      "                   url = \"https://us-south.ml.cloud.ibm.com\",\n",
      "                   token = \"***********\",\n",
      "                  )\n",
      "\n",
      "client = APIClient(credentials)\n",
      "```\n",
      "\n",
      "This replaces the old approach of passing a dictionary with credentials to the APIClient constructor.\n"
     ]
    }
   ],
   "source": [
    "print(score_response[\"predictions\"][0][\"values\"][0][0])"
   ]
  },
  {
   "cell_type": "markdown",
   "metadata": {},
   "source": [
    "<a id=\"runs\"></a>\n",
    "## Historical runs\n",
    "\n",
    "In this section you learn to work with historical RAG Optimizer jobs (runs).\n",
    "\n",
    "To list historical runs use the `list()` method and provide the `'rag_optimizer'` filter."
   ]
  },
  {
   "cell_type": "code",
   "execution_count": 44,
   "metadata": {},
   "outputs": [
    {
     "data": {
      "text/html": [
       "<div>\n",
       "<style scoped>\n",
       "    .dataframe tbody tr th:only-of-type {\n",
       "        vertical-align: middle;\n",
       "    }\n",
       "\n",
       "    .dataframe tbody tr th {\n",
       "        vertical-align: top;\n",
       "    }\n",
       "\n",
       "    .dataframe thead th {\n",
       "        text-align: right;\n",
       "    }\n",
       "</style>\n",
       "<table border=\"1\" class=\"dataframe\">\n",
       "  <thead>\n",
       "    <tr style=\"text-align: right;\">\n",
       "      <th></th>\n",
       "      <th>timestamp</th>\n",
       "      <th>run_id</th>\n",
       "      <th>state</th>\n",
       "      <th>auto_pipeline_optimizer name</th>\n",
       "    </tr>\n",
       "  </thead>\n",
       "  <tbody>\n",
       "    <tr>\n",
       "      <th>0</th>\n",
       "      <td>2024-09-10T09:52:10.467Z</td>\n",
       "      <td>40770d34-62d4-4135-b828-ac58d763cea0</td>\n",
       "      <td>completed</td>\n",
       "      <td>AutoAI RAG ibm-watsonx-ai SDK documentation</td>\n",
       "    </tr>\n",
       "    <tr>\n",
       "      <th>1</th>\n",
       "      <td>2024-09-06T13:48:31.686Z</td>\n",
       "      <td>8907ee45-d838-4569-a57e-ed28b9d7533c</td>\n",
       "      <td>completed</td>\n",
       "      <td>AutoAI RAG ibm-watsonx-ai all docs</td>\n",
       "    </tr>\n",
       "    <tr>\n",
       "      <th>2</th>\n",
       "      <td>2024-09-06T11:44:41.837Z</td>\n",
       "      <td>888fa91d-01c2-4c0a-b8e2-f8956aad99bb</td>\n",
       "      <td>completed</td>\n",
       "      <td>AutoAI RAG ibm-watsonx-ai all docs</td>\n",
       "    </tr>\n",
       "  </tbody>\n",
       "</table>\n",
       "</div>"
      ],
      "text/plain": [
       "                  timestamp                                run_id      state  \\\n",
       "0  2024-09-10T09:52:10.467Z  40770d34-62d4-4135-b828-ac58d763cea0  completed   \n",
       "1  2024-09-06T13:48:31.686Z  8907ee45-d838-4569-a57e-ed28b9d7533c  completed   \n",
       "2  2024-09-06T11:44:41.837Z  888fa91d-01c2-4c0a-b8e2-f8956aad99bb  completed   \n",
       "\n",
       "                  auto_pipeline_optimizer name  \n",
       "0  AutoAI RAG ibm-watsonx-ai SDK documentation  \n",
       "1           AutoAI RAG ibm-watsonx-ai all docs  \n",
       "2           AutoAI RAG ibm-watsonx-ai all docs  "
      ]
     },
     "execution_count": 44,
     "metadata": {},
     "output_type": "execute_result"
    }
   ],
   "source": [
    "experiment.runs(filter='rag_optimizer').list()"
   ]
  },
  {
   "cell_type": "code",
   "execution_count": 45,
   "metadata": {},
   "outputs": [
    {
     "data": {
      "text/plain": [
       "'40770d34-62d4-4135-b828-ac58d763cea0'"
      ]
     },
     "execution_count": 45,
     "metadata": {},
     "output_type": "execute_result"
    }
   ],
   "source": [
    "run_id = run_details['metadata']['id']\n",
    "run_id"
   ]
  },
  {
   "cell_type": "markdown",
   "metadata": {},
   "source": [
    "### Get executed optimizer's configuration parameters"
   ]
  },
  {
   "cell_type": "code",
   "execution_count": 31,
   "metadata": {},
   "outputs": [
    {
     "data": {
      "text/plain": [
       "{'name': 'AutoAI RAG ibm-watsonx-ai SDK documentation',\n",
       " 'description': 'AutoAI RAG experiemnt trainded on ibm-watsonx-ai SDK documentataion',\n",
       " 'max_number_of_rag_patterns': 6,\n",
       " 'optimization_metrics': ['answer_correctness']}"
      ]
     },
     "execution_count": 31,
     "metadata": {},
     "output_type": "execute_result"
    }
   ],
   "source": [
    "experiment.runs.get_rag_params(run_id=run_id)"
   ]
  },
  {
   "cell_type": "markdown",
   "metadata": {},
   "source": [
    "### Get historical rag_optimizer instance and training details"
   ]
  },
  {
   "cell_type": "code",
   "execution_count": 32,
   "metadata": {},
   "outputs": [],
   "source": [
    "historical_opt = experiment.runs.get_rag_optimizer(run_id)"
   ]
  },
  {
   "cell_type": "markdown",
   "metadata": {},
   "source": [
    "### List trained patterns for selected optimizer"
   ]
  },
  {
   "cell_type": "code",
   "execution_count": 33,
   "metadata": {},
   "outputs": [
    {
     "data": {
      "text/html": [
       "<div>\n",
       "<style scoped>\n",
       "    .dataframe tbody tr th:only-of-type {\n",
       "        vertical-align: middle;\n",
       "    }\n",
       "\n",
       "    .dataframe tbody tr th {\n",
       "        vertical-align: top;\n",
       "    }\n",
       "\n",
       "    .dataframe thead th {\n",
       "        text-align: right;\n",
       "    }\n",
       "</style>\n",
       "<table border=\"1\" class=\"dataframe\">\n",
       "  <thead>\n",
       "    <tr style=\"text-align: right;\">\n",
       "      <th></th>\n",
       "      <th>mean_answer_correctness</th>\n",
       "      <th>mean_faithfulness</th>\n",
       "      <th>mean_context_correctness</th>\n",
       "      <th>chunking.chunk_size</th>\n",
       "      <th>embeddings.model_id</th>\n",
       "      <th>vector_store.distance_metric</th>\n",
       "      <th>retrieval.method</th>\n",
       "      <th>retrieval.number_of_chunks</th>\n",
       "      <th>generation.model_id</th>\n",
       "    </tr>\n",
       "    <tr>\n",
       "      <th>Pattern_Name</th>\n",
       "      <th></th>\n",
       "      <th></th>\n",
       "      <th></th>\n",
       "      <th></th>\n",
       "      <th></th>\n",
       "      <th></th>\n",
       "      <th></th>\n",
       "      <th></th>\n",
       "      <th></th>\n",
       "    </tr>\n",
       "  </thead>\n",
       "  <tbody>\n",
       "    <tr>\n",
       "      <th>Pattern4</th>\n",
       "      <td>0.785714</td>\n",
       "      <td>0.655429</td>\n",
       "      <td>0.785714</td>\n",
       "      <td>1024</td>\n",
       "      <td>intfloat/multilingual-e5-large</td>\n",
       "      <td>cosine</td>\n",
       "      <td>window</td>\n",
       "      <td>5</td>\n",
       "      <td>meta-llama/llama-3-70b-instruct</td>\n",
       "    </tr>\n",
       "    <tr>\n",
       "      <th>Pattern1</th>\n",
       "      <td>0.642857</td>\n",
       "      <td>0.539929</td>\n",
       "      <td>0.654757</td>\n",
       "      <td>512</td>\n",
       "      <td>ibm/slate-125m-english-rtrvr</td>\n",
       "      <td>euclidean</td>\n",
       "      <td>window</td>\n",
       "      <td>5</td>\n",
       "      <td>meta-llama/llama-3-70b-instruct</td>\n",
       "    </tr>\n",
       "    <tr>\n",
       "      <th>Pattern5</th>\n",
       "      <td>0.642857</td>\n",
       "      <td>0.616429</td>\n",
       "      <td>0.928571</td>\n",
       "      <td>1024</td>\n",
       "      <td>intfloat/multilingual-e5-large</td>\n",
       "      <td>cosine</td>\n",
       "      <td>window</td>\n",
       "      <td>3</td>\n",
       "      <td>mistralai/mixtral-8x7b-instruct-v01</td>\n",
       "    </tr>\n",
       "    <tr>\n",
       "      <th>Pattern6</th>\n",
       "      <td>0.642857</td>\n",
       "      <td>0.641614</td>\n",
       "      <td>0.785714</td>\n",
       "      <td>1024</td>\n",
       "      <td>intfloat/multilingual-e5-large</td>\n",
       "      <td>euclidean</td>\n",
       "      <td>window</td>\n",
       "      <td>3</td>\n",
       "      <td>meta-llama/llama-3-70b-instruct</td>\n",
       "    </tr>\n",
       "    <tr>\n",
       "      <th>Pattern2</th>\n",
       "      <td>0.274729</td>\n",
       "      <td>0.719814</td>\n",
       "      <td>0.785714</td>\n",
       "      <td>1024</td>\n",
       "      <td>intfloat/multilingual-e5-large</td>\n",
       "      <td>euclidean</td>\n",
       "      <td>window</td>\n",
       "      <td>5</td>\n",
       "      <td>ibm/granite-13b-chat-v2</td>\n",
       "    </tr>\n",
       "    <tr>\n",
       "      <th>Pattern3</th>\n",
       "      <td>0.142857</td>\n",
       "      <td>0.553100</td>\n",
       "      <td>0.785714</td>\n",
       "      <td>1024</td>\n",
       "      <td>intfloat/multilingual-e5-large</td>\n",
       "      <td>euclidean</td>\n",
       "      <td>simple</td>\n",
       "      <td>5</td>\n",
       "      <td>ibm/granite-13b-chat-v2</td>\n",
       "    </tr>\n",
       "  </tbody>\n",
       "</table>\n",
       "</div>"
      ],
      "text/plain": [
       "              mean_answer_correctness  mean_faithfulness  \\\n",
       "Pattern_Name                                               \n",
       "Pattern4                     0.785714           0.655429   \n",
       "Pattern1                     0.642857           0.539929   \n",
       "Pattern5                     0.642857           0.616429   \n",
       "Pattern6                     0.642857           0.641614   \n",
       "Pattern2                     0.274729           0.719814   \n",
       "Pattern3                     0.142857           0.553100   \n",
       "\n",
       "              mean_context_correctness  chunking.chunk_size  \\\n",
       "Pattern_Name                                                  \n",
       "Pattern4                      0.785714                 1024   \n",
       "Pattern1                      0.654757                  512   \n",
       "Pattern5                      0.928571                 1024   \n",
       "Pattern6                      0.785714                 1024   \n",
       "Pattern2                      0.785714                 1024   \n",
       "Pattern3                      0.785714                 1024   \n",
       "\n",
       "                         embeddings.model_id vector_store.distance_metric  \\\n",
       "Pattern_Name                                                                \n",
       "Pattern4      intfloat/multilingual-e5-large                       cosine   \n",
       "Pattern1        ibm/slate-125m-english-rtrvr                    euclidean   \n",
       "Pattern5      intfloat/multilingual-e5-large                       cosine   \n",
       "Pattern6      intfloat/multilingual-e5-large                    euclidean   \n",
       "Pattern2      intfloat/multilingual-e5-large                    euclidean   \n",
       "Pattern3      intfloat/multilingual-e5-large                    euclidean   \n",
       "\n",
       "             retrieval.method  retrieval.number_of_chunks  \\\n",
       "Pattern_Name                                                \n",
       "Pattern4               window                           5   \n",
       "Pattern1               window                           5   \n",
       "Pattern5               window                           3   \n",
       "Pattern6               window                           3   \n",
       "Pattern2               window                           5   \n",
       "Pattern3               simple                           5   \n",
       "\n",
       "                              generation.model_id  \n",
       "Pattern_Name                                       \n",
       "Pattern4          meta-llama/llama-3-70b-instruct  \n",
       "Pattern1          meta-llama/llama-3-70b-instruct  \n",
       "Pattern5      mistralai/mixtral-8x7b-instruct-v01  \n",
       "Pattern6          meta-llama/llama-3-70b-instruct  \n",
       "Pattern2                  ibm/granite-13b-chat-v2  \n",
       "Pattern3                  ibm/granite-13b-chat-v2  "
      ]
     },
     "execution_count": 33,
     "metadata": {},
     "output_type": "execute_result"
    }
   ],
   "source": [
    "historical_opt.summary()"
   ]
  },
  {
   "cell_type": "markdown",
   "metadata": {},
   "source": [
    "<a id=\"cleanup\"></a>\n",
    "## Clean up\n",
    "\n",
    "To delete the current experiment, use the `cancel_run` method.\n",
    "\n",
    "**Warning:** Be careful: once you delete an experiment, you will no longer be able to refer to it."
   ]
  },
  {
   "cell_type": "code",
   "execution_count": 70,
   "metadata": {},
   "outputs": [
    {
     "data": {
      "text/plain": [
       "'SUCCESS'"
      ]
     },
     "execution_count": 70,
     "metadata": {},
     "output_type": "execute_result"
    }
   ],
   "source": [
    "rag_optimizer.cancel_run()"
   ]
  },
  {
   "cell_type": "markdown",
   "metadata": {},
   "source": [
    "To delete the deployment, use the `delete` method. \n",
    "\n",
    "**Warning:** Keeping the deployment active may lead to unnecessary consumption of Compute Unit Hours (CUHs)."
   ]
  },
  {
   "cell_type": "code",
   "execution_count": null,
   "metadata": {},
   "outputs": [],
   "source": [
    "client.deployments.delete(deployment_id)"
   ]
  },
  {
   "cell_type": "markdown",
   "metadata": {},
   "source": [
    "If you want to clean up all created assets:\n",
    "- experiments\n",
    "- trainings\n",
    "- pipelines\n",
    "- model definitions\n",
    "- models\n",
    "- functions\n",
    "- deployments\n",
    "\n",
    "please follow up this sample [notebook](https://github.com/IBM/watson-machine-learning-samples/blob/master/cloud/notebooks/python_sdk/instance-management/Machine%20Learning%20artifacts%20management.ipynb)."
   ]
  },
  {
   "cell_type": "markdown",
   "metadata": {},
   "source": [
    "<a id=\"summary\"></a>\n",
    "## Summary and next steps\n",
    "\n",
    "You successfully completed this notebook!.\n",
    "\n",
    "You learned how to use `ibm-watsonx-ai` to run AutoAI RAG experiments. \n",
    "\n",
    " Check out our _<a href=\"https://ibm.github.io/watsonx-ai-python-sdk/samples.html\" target=\"_blank\" rel=\"noopener no referrer\">Online Documentation</a>_ for more samples, tutorials, documentation, how-tos, and blog posts. "
   ]
  },
  {
   "cell_type": "markdown",
   "metadata": {},
   "source": [
    "### Authors\n",
    "\n",
    "**Mateusz Szewczyk**, Software Engineer at Watson Machine Learning\n",
    "\n",
    "Copyright © 2024 IBM. This notebook and its source code are released under the terms of the MIT License."
   ]
  }
 ],
 "metadata": {
  "kernelspec": {
   "display_name": "watsonx-ai-rt23.1-py310-osx64",
   "language": "python",
   "name": "python3"
  },
  "language_info": {
   "codemirror_mode": {
    "name": "ipython",
    "version": 3
   },
   "file_extension": ".py",
   "mimetype": "text/x-python",
   "name": "python",
   "nbconvert_exporter": "python",
   "pygments_lexer": "ipython3",
   "version": "3.10.13"
  }
 },
 "nbformat": 4,
 "nbformat_minor": 2
}
