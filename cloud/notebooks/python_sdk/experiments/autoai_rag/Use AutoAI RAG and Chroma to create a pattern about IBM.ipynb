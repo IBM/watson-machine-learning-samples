{
  "cells": [
    {
      "cell_type": "markdown",
      "metadata": {},
      "source": [
        "![image](https://raw.githubusercontent.com/IBM/watson-machine-learning-samples/master/cloud/notebooks/headers/watsonx-Prompt_Lab-Notebook.png)\n",
        "# Use AutoAI RAG and Chroma to create a pattern and get information from `ibm-watsonx-ai` SDK documentation"
      ]
    },
    {
      "cell_type": "markdown",
      "metadata": {},
      "source": [
        "#### Disclaimers\n",
        "\n",
        "- Use only Projects and Spaces that are available in watsonx context.\n",
        "\n",
        "\n",
        "## Notebook content\n",
        "\n",
        "This notebook contains the steps and code to demonstrate the usage of IBM AutoAI RAG. The AutoAI RAG experiment conducted in this notebook uses data scraped from the `ibm-watsonx-ai` SDK documentation.\n",
        "\n",
        "Some familiarity with Python is helpful. This notebook uses Python 3.11.\n",
        "\n",
        "\n",
        "## Learning goal\n",
        "\n",
        "The learning goals of this notebook are:\n",
        "\n",
        "- Create an AutoAI RAG job that will find the best RAG pattern based on provided data\n",
        "\n",
        "\n",
        "## Contents\n",
        "\n",
        "This notebook contains the following parts:\n",
        "\n",
        "- [Setup](#setup)\n",
        "- [RAG Optimizer definition](#definition)\n",
        "- [RAG Experiment run](#run)\n",
        "- [RAG Patterns comparison and testing](#comparison)\n",
        "- [Historical runs](#runs)\n",
        "- [Clean up](#cleanup)\n",
        "- [Summary and next steps](#summary)"
      ]
    },
    {
      "cell_type": "markdown",
      "metadata": {},
      "source": [
        "<a id=\"setup\"></a>\n",
        "## Set up the environment\n",
        "\n",
        "Before you use the sample code in this notebook, you must perform the following setup tasks:\n",
        "\n",
        "-  Create a <a href=\"https://cloud.ibm.com/catalog/services/watsonxai-runtime\" target=\"_blank\" rel=\"noopener no referrer\">watsonx.ai Runtime Service</a> instance (a free plan is offered and information about how to create the instance can be found <a href=\"https://dataplatform.cloud.ibm.com/docs/content/wsj/getting-started/wml-plans.html?context=wx&audience=wdp\" target=\"_blank\" rel=\"noopener no referrer\">here</a>)."
      ]
    },
    {
      "cell_type": "markdown",
      "metadata": {},
      "source": [
        "### Install and import the required modules and dependencies"
      ]
    },
    {
      "cell_type": "code",
      "execution_count": null,
      "metadata": {},
      "outputs": [],
      "source": [
        "!pip install -U 'ibm-watsonx-ai[rag]>=1.1.11' | tail -n 1\n",
        "!pip install -U \"langchain_community>=0.3,<0.4\" | tail -n 1"
      ]
    },
    {
      "cell_type": "markdown",
      "metadata": {},
      "source": [
        "### Defining the watsonx.ai credentials\n",
        "This cell defines the credentials required to work with the watsonx.ai Runtime service.\n",
        "\n",
        "**Action:** Provide the IBM Cloud user API key. For details, see <a href=\"https://cloud.ibm.com/docs/account?topic=account-userapikey&interface=ui\" target=\"_blank\" rel=\"noopener no referrer\">documentation</a>."
      ]
    },
    {
      "cell_type": "code",
      "execution_count": null,
      "metadata": {},
      "outputs": [],
      "source": [
        "import getpass\n",
        "from ibm_watsonx_ai import Credentials\n",
        "\n",
        "credentials = Credentials(\n",
        "    url=\"https://us-south.ml.cloud.ibm.com\",\n",
        "    api_key=getpass.getpass(\"Please enter your watsonx.ai api key (hit enter): \"),\n",
        ")"
      ]
    },
    {
      "cell_type": "markdown",
      "metadata": {},
      "source": [
        "### Defining the project id\n",
        "The foundation model requires a project id that provides the context for the call. We will try to obtain the id directly from the project in which this notebook runs. If this fails, you'll have to provide the project id."
      ]
    },
    {
      "cell_type": "code",
      "execution_count": 2,
      "metadata": {},
      "outputs": [],
      "source": [
        "import os\n",
        "\n",
        "try:\n",
        "    project_id = os.environ[\"PROJECT_ID\"]\n",
        "except KeyError:\n",
        "    project_id = input(\"Please enter your project_id (hit enter): \")"
      ]
    },
    {
      "cell_type": "markdown",
      "metadata": {},
      "source": [
        "Create an instance of APIClient with authentication details."
      ]
    },
    {
      "cell_type": "code",
      "execution_count": 2,
      "metadata": {},
      "outputs": [],
      "source": [
        "from ibm_watsonx_ai import APIClient\n",
        "\n",
        "client = APIClient(credentials=credentials, project_id=project_id)"
      ]
    },
    {
      "cell_type": "markdown",
      "metadata": {},
      "source": [
        "<a id=\"definition\"></a>\n",
        "\n",
        "## RAG Optimizer definition\n",
        "\n",
        "### Defining a connection to training data\n",
        "\n",
        "Upload training data to a COS bucket and then define a connection to this file. This example uses the `ModelInference` description from the [`ibm_watsonx_ai`](https://ibm.github.io/watsonx-ai-python-sdk/fm_model_inference.html) documentation."
      ]
    },
    {
      "cell_type": "code",
      "execution_count": 4,
      "metadata": {},
      "outputs": [],
      "source": [
        "from langchain_community.document_loaders import WebBaseLoader\n",
        "\n",
        "url = \"https://ibm.github.io/watsonx-ai-python-sdk/fm_model_inference.html\"\n",
        "\n",
        "docs = WebBaseLoader(url).load()\n",
        "model_inference_content = docs[0].page_content"
      ]
    },
    {
      "cell_type": "markdown",
      "metadata": {},
      "source": [
        "The code in the next cell uploads training data to the bucket."
      ]
    },
    {
      "cell_type": "code",
      "execution_count": 5,
      "metadata": {},
      "outputs": [
        {
          "name": "stdout",
          "output_type": "stream",
          "text": [
            "Creating data asset...\n",
            "SUCCESS\n"
          ]
        },
        {
          "data": {
            "text/plain": [
              "'dc17d103-f772-4ea9-965a-b4d8a7093bf0'"
            ]
          },
          "execution_count": 5,
          "metadata": {},
          "output_type": "execute_result"
        }
      ],
      "source": [
        "import os\n",
        "\n",
        "document_filename = \"ModelInference.txt\"\n",
        "\n",
        "if not os.path.isfile(document_filename):\n",
        "    with open(document_filename, \"w\") as file:\n",
        "        file.write(model_inference_content)\n",
        "\n",
        "document_asset_details = client.data_assets.create(name=document_filename, file_path=document_filename)\n",
        "\n",
        "document_asset_id = client.data_assets.get_id(document_asset_details)\n",
        "document_asset_id"
      ]
    },
    {
      "cell_type": "markdown",
      "metadata": {},
      "source": [
        "Define a connection to training data."
      ]
    },
    {
      "cell_type": "code",
      "execution_count": 6,
      "metadata": {},
      "outputs": [],
      "source": [
        "from ibm_watsonx_ai.helpers import DataConnection\n",
        "\n",
        "input_data_references = [DataConnection(data_asset_id=document_asset_id)]"
      ]
    },
    {
      "cell_type": "markdown",
      "metadata": {},
      "source": [
        "### Defining a connection to test data\n",
        "\n",
        "Upload a `json` file that will be used for benchmarking to COS and then define a connection to this file. This example uses content from the [`ibm_watsonx_ai`](https://ibm.github.io/watsonx-ai-python-sdk/index.html) SDK documentation."
      ]
    },
    {
      "cell_type": "code",
      "execution_count": 7,
      "metadata": {},
      "outputs": [],
      "source": [
        "benchmarking_data_IBM_page_content = [\n",
        "    {\n",
        "        \"question\": \"What is path to ModelInference class?\",\n",
        "        \"correct_answer\": \"ibm_watsonx_ai.foundation_models.inference.ModelInference\",\n",
        "        \"correct_answer_document_ids\": [\n",
        "            \"ModelInference.txt\"\n",
        "        ]\n",
        "    },\n",
        "    {\n",
        "        \"question\": \"What is method for get model inferance details?\",\n",
        "        \"correct_answer\": \"get_details()\",\n",
        "        \"correct_answer_document_ids\": [\n",
        "            \"ModelInference.txt\"\n",
        "        ]\n",
        "    }\n",
        "]"
      ]
    },
    {
      "cell_type": "markdown",
      "metadata": {},
      "source": [
        "The code in the next cell uploads testing data to the bucket as a `json` file."
      ]
    },
    {
      "cell_type": "code",
      "execution_count": 8,
      "metadata": {},
      "outputs": [
        {
          "name": "stdout",
          "output_type": "stream",
          "text": [
            "Creating data asset...\n",
            "SUCCESS\n"
          ]
        },
        {
          "data": {
            "text/plain": [
              "'887c3f64-eff2-47eb-a279-03621405880a'"
            ]
          },
          "execution_count": 8,
          "metadata": {},
          "output_type": "execute_result"
        }
      ],
      "source": [
        "import json\n",
        "\n",
        "test_filename = \"benchmarking_data_ModelInference.json\"\n",
        "\n",
        "if not os.path.isfile(test_filename):\n",
        "    with open(test_filename, \"w\") as json_file:\n",
        "        json.dump(benchmarking_data_IBM_page_content, json_file, indent=4)\n",
        "\n",
        "test_asset_details = client.data_assets.create(name=test_filename, file_path=test_filename)\n",
        "\n",
        "test_asset_id = client.data_assets.get_id(test_asset_details)\n",
        "test_asset_id"
      ]
    },
    {
      "cell_type": "markdown",
      "metadata": {},
      "source": [
        "Define connection information to testing data."
      ]
    },
    {
      "cell_type": "code",
      "execution_count": 9,
      "metadata": {},
      "outputs": [],
      "source": [
        "test_data_references = [DataConnection(data_asset_id=test_asset_id)]"
      ]
    },
    {
      "cell_type": "markdown",
      "metadata": {},
      "source": [
        "### RAG Optimizer configuration\n",
        "\n",
        "Provide the input information for AutoAI RAG optimizer:\n",
        "- `name` - experiment name\n",
        "- `description` - experiment description\n",
        "- `max_number_of_rag_patterns` - maximum number of RAG patterns to create\n",
        "- `optimization_metrics` - target optimization metrics"
      ]
    },
    {
      "cell_type": "code",
      "execution_count": 10,
      "metadata": {},
      "outputs": [],
      "source": [
        "from ibm_watsonx_ai.experiment import AutoAI\n",
        "\n",
        "experiment = AutoAI(credentials, project_id=project_id)\n",
        "\n",
        "rag_optimizer = experiment.rag_optimizer(\n",
        "    name='AutoAI RAG run - ModelInference documentation',\n",
        "    description=\"AutoAI RAG Optimizer on ibm_watsonx_ai ModelInference documentation\",\n",
        "    max_number_of_rag_patterns=4,\n",
        "    optimization_metrics=[AutoAI.RAGMetrics.ANSWER_CORRECTNESS]\n",
        ")"
      ]
    },
    {
      "cell_type": "markdown",
      "metadata": {},
      "source": [
        "Configuration parameters can be retrieved via `get_params()`."
      ]
    },
    {
      "cell_type": "code",
      "execution_count": 11,
      "metadata": {},
      "outputs": [
        {
          "data": {
            "text/plain": [
              "{'name': 'AutoAI RAG run - ModelInference documentation',\n",
              " 'description': 'AutoAI RAG Optimizer on ibm_watsonx_ai ModelInference documentation',\n",
              " 'max_number_of_rag_patterns': 8,\n",
              " 'optimization_metrics': ['answer_correctness']}"
            ]
          },
          "execution_count": 11,
          "metadata": {},
          "output_type": "execute_result"
        }
      ],
      "source": [
        "rag_optimizer.get_params()"
      ]
    },
    {
      "cell_type": "markdown",
      "metadata": {},
      "source": [
        "<a id=\"run\"></a>\n",
        "## RAG Experiment run\n",
        "\n",
        "Call the `run()` method to trigger the AutoAI RAG experiment. You can either use interactive mode (synchronous job) or background mode (asynchronous job) by specifying `background_mode=True`."
      ]
    },
    {
      "cell_type": "code",
      "execution_count": 12,
      "metadata": {},
      "outputs": [
        {
          "name": "stdout",
          "output_type": "stream",
          "text": [
            "\n",
            "\n",
            "##############################################\n",
            "\n",
            "Running 'b6315fa9-b65a-4fcb-a4e1-bf717d32c359'\n",
            "\n",
            "##############################################\n",
            "\n",
            "\n",
            "pending...\n",
            "running........................\n",
            "completed\n",
            "Training of 'b6315fa9-b65a-4fcb-a4e1-bf717d32c359' finished successfully.\n"
          ]
        }
      ],
      "source": [
        "run_details = rag_optimizer.run(\n",
        "    input_data_references=input_data_references,\n",
        "    test_data_references=test_data_references,\n",
        "    background_mode=False\n",
        ")"
      ]
    },
    {
      "cell_type": "markdown",
      "metadata": {},
      "source": [
        "You can use the `get_run_status()` method to monitor AutoAI RAG jobs in background mode."
      ]
    },
    {
      "cell_type": "code",
      "execution_count": 13,
      "metadata": {},
      "outputs": [
        {
          "data": {
            "text/plain": [
              "'completed'"
            ]
          },
          "execution_count": 13,
          "metadata": {},
          "output_type": "execute_result"
        }
      ],
      "source": [
        "rag_optimizer.get_run_status()"
      ]
    },
    {
      "cell_type": "markdown",
      "metadata": {},
      "source": [
        "<a id=\"comparison\"></a>\n",
        "## Comparison and testing of RAG Patterns\n",
        "\n",
        "You can list the trained patterns and information on evaluation metrics in the form of a Pandas DataFrame by calling the `summary()` method. You can use the DataFrame to compare all discovered patterns and select the one you like for further testing."
      ]
    },
    {
      "cell_type": "code",
      "execution_count": 14,
      "metadata": {},
      "outputs": [
        {
          "data": {
            "text/html": [
              "<div>\n",
              "<style scoped>\n",
              "    .dataframe tbody tr th:only-of-type {\n",
              "        vertical-align: middle;\n",
              "    }\n",
              "\n",
              "    .dataframe tbody tr th {\n",
              "        vertical-align: top;\n",
              "    }\n",
              "\n",
              "    .dataframe thead th {\n",
              "        text-align: right;\n",
              "    }\n",
              "</style>\n",
              "<table border=\"1\" class=\"dataframe\">\n",
              "  <thead>\n",
              "    <tr style=\"text-align: right;\">\n",
              "      <th></th>\n",
              "      <th>mean_answer_correctness</th>\n",
              "      <th>mean_faithfulness</th>\n",
              "      <th>mean_context_correctness</th>\n",
              "      <th>chunking.chunk_size</th>\n",
              "      <th>embeddings.model_id</th>\n",
              "      <th>vector_store.distance_metric</th>\n",
              "      <th>retrieval.method</th>\n",
              "      <th>retrieval.number_of_chunks</th>\n",
              "      <th>generation.model_id</th>\n",
              "    </tr>\n",
              "    <tr>\n",
              "      <th>Pattern_Name</th>\n",
              "      <th></th>\n",
              "      <th></th>\n",
              "      <th></th>\n",
              "      <th></th>\n",
              "      <th></th>\n",
              "      <th></th>\n",
              "      <th></th>\n",
              "      <th></th>\n",
              "      <th></th>\n",
              "    </tr>\n",
              "  </thead>\n",
              "  <tbody>\n",
              "    <tr>\n",
              "      <th>Pattern1</th>\n",
              "      <td>1.0</td>\n",
              "      <td>0.65940</td>\n",
              "      <td>1.0</td>\n",
              "      <td>512</td>\n",
              "      <td>ibm/slate-125m-english-rtrvr</td>\n",
              "      <td>euclidean</td>\n",
              "      <td>window</td>\n",
              "      <td>5</td>\n",
              "      <td>meta-llama/llama-3-70b-instruct</td>\n",
              "    </tr>\n",
              "    <tr>\n",
              "      <th>Pattern4</th>\n",
              "      <td>1.0</td>\n",
              "      <td>0.85365</td>\n",
              "      <td>1.0</td>\n",
              "      <td>1024</td>\n",
              "      <td>intfloat/multilingual-e5-large</td>\n",
              "      <td>cosine</td>\n",
              "      <td>window</td>\n",
              "      <td>5</td>\n",
              "      <td>meta-llama/llama-3-70b-instruct</td>\n",
              "    </tr>\n",
              "    <tr>\n",
              "      <th>Pattern6</th>\n",
              "      <td>1.0</td>\n",
              "      <td>0.73705</td>\n",
              "      <td>1.0</td>\n",
              "      <td>1024</td>\n",
              "      <td>intfloat/multilingual-e5-large</td>\n",
              "      <td>euclidean</td>\n",
              "      <td>window</td>\n",
              "      <td>3</td>\n",
              "      <td>meta-llama/llama-3-70b-instruct</td>\n",
              "    </tr>\n",
              "    <tr>\n",
              "      <th>Pattern8</th>\n",
              "      <td>1.0</td>\n",
              "      <td>0.87500</td>\n",
              "      <td>1.0</td>\n",
              "      <td>1024</td>\n",
              "      <td>ibm/slate-125m-english-rtrvr</td>\n",
              "      <td>euclidean</td>\n",
              "      <td>window</td>\n",
              "      <td>3</td>\n",
              "      <td>meta-llama/llama-3-70b-instruct</td>\n",
              "    </tr>\n",
              "    <tr>\n",
              "      <th>Pattern2</th>\n",
              "      <td>0.5</td>\n",
              "      <td>0.29950</td>\n",
              "      <td>1.0</td>\n",
              "      <td>1024</td>\n",
              "      <td>intfloat/multilingual-e5-large</td>\n",
              "      <td>euclidean</td>\n",
              "      <td>window</td>\n",
              "      <td>5</td>\n",
              "      <td>ibm/granite-13b-chat-v2</td>\n",
              "    </tr>\n",
              "    <tr>\n",
              "      <th>Pattern5</th>\n",
              "      <td>0.5</td>\n",
              "      <td>0.61920</td>\n",
              "      <td>1.0</td>\n",
              "      <td>1024</td>\n",
              "      <td>intfloat/multilingual-e5-large</td>\n",
              "      <td>cosine</td>\n",
              "      <td>window</td>\n",
              "      <td>3</td>\n",
              "      <td>mistralai/mixtral-8x7b-instruct-v01</td>\n",
              "    </tr>\n",
              "    <tr>\n",
              "      <th>Pattern7</th>\n",
              "      <td>0.5</td>\n",
              "      <td>0.29030</td>\n",
              "      <td>1.0</td>\n",
              "      <td>1024</td>\n",
              "      <td>ibm/slate-125m-english-rtrvr</td>\n",
              "      <td>cosine</td>\n",
              "      <td>window</td>\n",
              "      <td>5</td>\n",
              "      <td>ibm/granite-13b-chat-v2</td>\n",
              "    </tr>\n",
              "    <tr>\n",
              "      <th>Pattern3</th>\n",
              "      <td>0.0</td>\n",
              "      <td>0.71430</td>\n",
              "      <td>1.0</td>\n",
              "      <td>1024</td>\n",
              "      <td>intfloat/multilingual-e5-large</td>\n",
              "      <td>euclidean</td>\n",
              "      <td>simple</td>\n",
              "      <td>5</td>\n",
              "      <td>ibm/granite-13b-chat-v2</td>\n",
              "    </tr>\n",
              "  </tbody>\n",
              "</table>\n",
              "</div>"
            ],
            "text/plain": [
              "              mean_answer_correctness  mean_faithfulness  \\\n",
              "Pattern_Name                                               \n",
              "Pattern1                          1.0            0.65940   \n",
              "Pattern4                          1.0            0.85365   \n",
              "Pattern6                          1.0            0.73705   \n",
              "Pattern8                          1.0            0.87500   \n",
              "Pattern2                          0.5            0.29950   \n",
              "Pattern5                          0.5            0.61920   \n",
              "Pattern7                          0.5            0.29030   \n",
              "Pattern3                          0.0            0.71430   \n",
              "\n",
              "              mean_context_correctness  chunking.chunk_size  \\\n",
              "Pattern_Name                                                  \n",
              "Pattern1                           1.0                  512   \n",
              "Pattern4                           1.0                 1024   \n",
              "Pattern6                           1.0                 1024   \n",
              "Pattern8                           1.0                 1024   \n",
              "Pattern2                           1.0                 1024   \n",
              "Pattern5                           1.0                 1024   \n",
              "Pattern7                           1.0                 1024   \n",
              "Pattern3                           1.0                 1024   \n",
              "\n",
              "                         embeddings.model_id vector_store.distance_metric  \\\n",
              "Pattern_Name                                                                \n",
              "Pattern1        ibm/slate-125m-english-rtrvr                    euclidean   \n",
              "Pattern4      intfloat/multilingual-e5-large                       cosine   \n",
              "Pattern6      intfloat/multilingual-e5-large                    euclidean   \n",
              "Pattern8        ibm/slate-125m-english-rtrvr                    euclidean   \n",
              "Pattern2      intfloat/multilingual-e5-large                    euclidean   \n",
              "Pattern5      intfloat/multilingual-e5-large                       cosine   \n",
              "Pattern7        ibm/slate-125m-english-rtrvr                       cosine   \n",
              "Pattern3      intfloat/multilingual-e5-large                    euclidean   \n",
              "\n",
              "             retrieval.method  retrieval.number_of_chunks  \\\n",
              "Pattern_Name                                                \n",
              "Pattern1               window                           5   \n",
              "Pattern4               window                           5   \n",
              "Pattern6               window                           3   \n",
              "Pattern8               window                           3   \n",
              "Pattern2               window                           5   \n",
              "Pattern5               window                           3   \n",
              "Pattern7               window                           5   \n",
              "Pattern3               simple                           5   \n",
              "\n",
              "                              generation.model_id  \n",
              "Pattern_Name                                       \n",
              "Pattern1          meta-llama/llama-3-70b-instruct  \n",
              "Pattern4          meta-llama/llama-3-70b-instruct  \n",
              "Pattern6          meta-llama/llama-3-70b-instruct  \n",
              "Pattern8          meta-llama/llama-3-70b-instruct  \n",
              "Pattern2                  ibm/granite-13b-chat-v2  \n",
              "Pattern5      mistralai/mixtral-8x7b-instruct-v01  \n",
              "Pattern7                  ibm/granite-13b-chat-v2  \n",
              "Pattern3                  ibm/granite-13b-chat-v2  "
            ]
          },
          "execution_count": 14,
          "metadata": {},
          "output_type": "execute_result"
        }
      ],
      "source": [
        "summary = rag_optimizer.summary()\n",
        "summary"
      ]
    },
    {
      "cell_type": "markdown",
      "metadata": {},
      "source": [
        "Additionally, you can pass the `scoring` parameter to the summary method, to filter RAG patterns starting with the best.\n",
        "\n",
        "```python\n",
        "summary = rag_optimizer.summary(scoring=\"faithfulness\")\n",
        "```"
      ]
    },
    {
      "cell_type": "markdown",
      "metadata": {},
      "source": [
        "### Get selected pattern\n",
        "\n",
        "Get the RAGPattern object from the RAG Optimizer experiment. By default, the RAGPattern of the best pattern is returned."
      ]
    },
    {
      "cell_type": "code",
      "execution_count": 15,
      "metadata": {},
      "outputs": [
        {
          "name": "stdout",
          "output_type": "stream",
          "text": [
            "Best pattern is: Pattern1\n"
          ]
        },
        {
          "data": {
            "text/plain": [
              "<ibm_watsonx_ai.foundation_models.extensions.rag.pattern.pattern.RAGPattern at 0x7fb5499e5660>"
            ]
          },
          "execution_count": 15,
          "metadata": {},
          "output_type": "execute_result"
        }
      ],
      "source": [
        "best_pattern_name = summary.index.values[0]\n",
        "print('Best pattern is:', best_pattern_name)\n",
        "\n",
        "best_pattern = rag_optimizer.get_pattern(pattern_name=\"Pattern1\")\n",
        "best_pattern"
      ]
    },
    {
      "cell_type": "markdown",
      "metadata": {},
      "source": [
        "The pattern details can be retrieved by calling the `get_pattern_details` method:\n",
        "\n",
        "```python\n",
        "rag_optimizer.get_pattern_details(pattern_name='Pattern2')\n",
        "```"
      ]
    },
    {
      "cell_type": "markdown",
      "metadata": {},
      "source": [
        "### Create the index/collection\n",
        "\n",
        "Build solution on the best pattern, with additional document indexing."
      ]
    },
    {
      "cell_type": "markdown",
      "metadata": {},
      "source": [
        "You can check which `index_name` you are working on:\n",
        "\n",
        "```python\n",
        "best_pattern.vector_store._index_name\n",
        "```"
      ]
    },
    {
      "cell_type": "code",
      "execution_count": 16,
      "metadata": {},
      "outputs": [],
      "source": [
        "urls = [\n",
        "    \"https://ibm.github.io/watsonx-ai-python-sdk/fm_embeddings.html\",\n",
        "    \"https://ibm.github.io/watsonx-ai-python-sdk/fm_custom_models.html\",\n",
        "    \"https://ibm.github.io/watsonx-ai-python-sdk/fm_text_extraction.html\"\n",
        "]\n",
        "docs_list = WebBaseLoader(urls).load()\n",
        "doc_splits = best_pattern.chunker.split_documents(docs_list)"
      ]
    },
    {
      "cell_type": "code",
      "execution_count": 17,
      "metadata": {},
      "outputs": [
        {
          "data": {
            "text/plain": [
              "['1d66cc8bdf47bf8a6feb581bad2da1b3a84efe6e315b704e257c4694503262fa',\n",
              " '41d202e18173f3de8e6fe2487f94be3ba343a0a1ec0ace31a08d15d43df2cdda',\n",
              " '2601c867f6ec009dba86bb56b0736e5fcfc0dc6b4dbfac76ca3658d7adb78841',\n",
              " 'aa0c2db7aae540ae0d65378060f96cd903a6f1dff07cbc4b69a1c19e5e022eaa',\n",
              " '345c1341dbf0413714aba8a5cfc24df26fc927fdd9221aa24db9331172b3730c',\n",
              " 'c8ee6e3a9c29e5b8095b9934634b74d7850c385fba543008de11ceff499205bc',\n",
              " '8f2d0cd3e48b38ffca8c8781fd701de6f4d15ef3733f73dfda432a9855976a1f',\n",
              " '21a8c1f5d6fe14ad136ff85923b8c128c1c21a8eaf8bebefb113f4b2b7df831f',\n",
              " '05178f9c7c9f54e1632df71ef376b09dad7ec74c24f9e820e5a81eb3a9324a55',\n",
              " '38cf82fa385db9287d2caa7e64e69935d7cd391fba1f642fc3aba96d8909cd57',\n",
              " '8f6c8405f9cf229ae0210881e31c53f88942d836a78209f856c12db676cff120',\n",
              " '3e4381579adc876a54287f2f175090558a15c1394820851341bc4803f53dc7bf',\n",
              " 'c5ba02114835949db97af1e54a1617178a02f9407126c199f3f1abe86ca13e02',\n",
              " '666a2c2447484692e4efcdf184ce58668e468b72e1008f46390c5cee39c92843',\n",
              " 'a831b5576c6019cf5268426fe970e71a0215b4aba34e01922e9d7c3d49a1b813',\n",
              " 'cb3d570a47c3a25fd768ea8276ba695d45bfde4077784b0a3a6bd1a09db2fcd8',\n",
              " '00f828fd04e09e887eca8a279077da1ec3e054cedfa36dda80611a8050c45032',\n",
              " 'd1fccfbe603d6562baab4bea1a8c9916d4b0241f353db6af0861eb4c54e5dc8a',\n",
              " '2c13e3ce32a9f77a9b26fd4f41752c65f0a1f782da40c7f0bf1206d05924481f',\n",
              " 'f1ad469e07964ed7a4ae43195e76a394ca5b43ea37e2ecde2f1ec4772a6aa653',\n",
              " '2015d3f1a7a1bafe4eab5c708b048a7bb3158ea76b9d0bb7181a164fd72df182',\n",
              " 'b963534e394d9d41b75742ef1c79389434a61b4d0364e67756b2cefdaf147c43',\n",
              " '4cc896821b1ecef9f5450516bc37be1d92c5252860accc9887503ba2f1382384',\n",
              " '3b13e21a7a4a93633816317d970048082883f8ae30f3bfaddc8b4a9efcbe8fd0',\n",
              " 'd37616a0bc48ed59707561a26be22c44510b0d4bd8dde5f99378feb3ab40058b',\n",
              " 'ce4a4bfb99b96b6ba479fc30bfe894bd3167ccaec7763b6ee9d51101952076e8',\n",
              " '2e56d98cf634a60b53bb7662b08ff2d891b413042d79f10e162b8faa02dfe8c1',\n",
              " '795f932f57b365d614aa67c610b640296b50afd7974c8a081a7e663456344a2a',\n",
              " '5c5913e7002cd4dfa2a5fd194791f97810af18586774e4ee3e31e9e5cb1ef890',\n",
              " 'f84e44d7454f246b357d5f58fd480fcd4967367c1ea700ee6a2478331b95692a',\n",
              " '8bf37ea6cf481611e054828fee712e0bdabc8a6e6d8dbf9ea99dfe469785927f',\n",
              " 'aa82d0ddb3314e5ed617760e67cd9b23ee79cffabc21371600ddf584e0994d18',\n",
              " 'd8860e509e822aab25ea4a0135440082c8adeb3950c1bd30d680ac41d5ecc618',\n",
              " '0957fddcd18e798adea67a1b8654461fc173e0137b20a52772e08ee9a964750d',\n",
              " '635bf41b0e8514b289f33079b9ad6fe1a153cec298052623b23ecd952c678dab',\n",
              " '7b8912564920c94fe6b0d33f2ff6746aec3755376cebd09330cb19203a822061',\n",
              " '71f3484c615c77b73af276fbb9910976f4c1d5e5ef00f0f48973db2d86ed35cb',\n",
              " '39f2b60c298559adbd865a37476a08d8fed93d49f2bf4bbcf881f6ed0559f065',\n",
              " '27de078137770a86a7c61c246535b36a3aa31b3284fc3637d7148218e88aecc8',\n",
              " '8be1273cd1c21ac0b16ed7d19f4a8d651a8b2b6c6bbac6a4894458e4e22dbf98',\n",
              " '32cbe35be643e2c07672096a8ce2c3e7423646bacf41ee7bd576983f45d05479',\n",
              " 'f3ced4e56459dfaad38cb3e5904493d5e4fcce9487cf0085731e311d23216dc2',\n",
              " 'ae44050a5af3a6884832b8f9a78c46a05baca6c9be39986d6b6df92674379922',\n",
              " 'cd649510577ffccc1f4716aa6e90eb260fecaaf71ce08f290255c1ced28c2714',\n",
              " '5cba47f9f8b4acabe87c880d4c06431effecefc72db3fd1b4bb154579b1027f8',\n",
              " 'bbe47810c0eab7f69c4808134abb13739fb2763992e4f034ddb543c957770484',\n",
              " '8e0178c2c427537a8fe198b16f444099367996426d086ff0c50f7ce36e07f690',\n",
              " 'c23f35c1bcf73930f583f4cba5e0bae78e54a3cb0c2439bf9972a89fe2b068a6',\n",
              " '2bb96c3bdc7ddd4543136bd5b487fff282bd8215a8b29eac763626c3a984ed85',\n",
              " '4ea23b83599b7aae5e77fc7df05de3bbf50456c400c4aa555e8100967b4e1106',\n",
              " '2151a7877b9655caaeb43149b50af78e7924a2d7d296db443d16e36213f6c235',\n",
              " 'ba7d623c6345aa76a3cef7d0aedd85eb630ba1e505ee4ddd4185bf4d36c33415',\n",
              " 'b70661cc565526c010771de74ffb1f1b85a6448bbe784db0f4bd3e92d3f4febc',\n",
              " '6992491ac6d7df967fd1e52923eb8be868d2fed8b45e50eb77c6f83e98f05d2a',\n",
              " 'a2d39804b5f7785bdc08620f6835fc35b76e4d7693421a5056cbd16aa8645605',\n",
              " '2ae38ca8eb6fc846edaf84b01e17369e5f0c46461ec73fbdd1d33c4d951669e2',\n",
              " '87e5a141c35f05ead50b18cfa9c94e72dcd84f4d4f166da4d965c7b5e50a88e7',\n",
              " '87edaaad815433fef09b94c5ce6fdd2b22bfee601008e1ee3d6a8c80eddb1ec8',\n",
              " '7fd1029ea6f7e58815cf32e01a9842f5d3fc45237f950caaad9019ea1ca3be6c',\n",
              " 'cc4bed61c98fa91a4ba7005f8027bd996933ff0fbfcb46b50fad81b054a64890',\n",
              " '1838edce742968f8373846397b63ce2977c1c17bc3e6a3b3a2e897f2c763e13d',\n",
              " 'c5f132e654d1218cbcb8e556df96d9843f8b587bfd5d2228c74672c6c51ce302',\n",
              " '10db89c1330961c136ad4e3e4aa83c3171c3c052cbc6dbb59b2cd23e574f9eb5',\n",
              " '584b71dc92c4d01a6d8022eafc7280ffac60c844c8c9bdd40a40c6d572023c9c',\n",
              " '4ab0197d70bf8abcb9148473215794aa20d08d43b9c6e3dace8d39c36e37825c',\n",
              " '83b8b698415f8e23a49a3e853a5f02481b788c8f6f84dafa06e29c58998d2a55',\n",
              " 'ea76f8a2962ac57a5ce9f75622e9857127979ac53141c50d308e880bbbd8aeb8',\n",
              " 'f579e7f77d779a97e8962a4e0aaacc098ef280d66e94fb1699dfcb9b7f1e71fe',\n",
              " '15c6317daf499b8c79e2a6def1236b9ce9da51edab1d8514cb35a887e131330e',\n",
              " '4003b8a5e9a10e5f07f81def6961539dea04cc5f4c79798da13e4d3e3c73ed6a',\n",
              " '6e1fa5abe96e0fdbf367e3f670e1f87912d2bcb0b73d839b7162a904c2c1d53a',\n",
              " '0414a021f95d89dc37cd123086dc60854f7d38fe65b4c40d6714b6904ebef84f',\n",
              " '0a123635ae9b78503927a764b58052eaff03cbbf21eea03b49da92cfa43024a8',\n",
              " '3ad150eb2b4d983aa86e41f1eef071a8ee6b6214a1dd155482ecc67b6a741274',\n",
              " 'cfe422409cc2ee63a30425a11d3c9f05cc330c1672d5f58ae4ffeeb2333f589d',\n",
              " '738c212e0558b50d8b95647a7392af0523df6de19df90c373aa5cd0629edeb60',\n",
              " '4ac2d6ee1ac781604866d37fdccfcd808ed4de528f9dee97f4cc88ddf40f8c8c',\n",
              " 'c851c2399bd05d2741a8aca0ba3a9bf1f5298179ac3d54a332bb45fa6218bd3c',\n",
              " 'd0cda8b19f30c1bdfe2614189685c5dea75aba06c5120e20a92c2e82321c9739',\n",
              " '1133a730e66b8e3c3f9088487c914aaf07823283a910fbfeb10cf78aee81d5e3',\n",
              " '826f5ab6b801275d4fb0221a4456bf9a93e759e7231916bc13aa32b2951e7d30',\n",
              " '2fc206c0510950bc1acbd5bde881171491c5beb92cac03356c9e41f1450c2d5d',\n",
              " 'df915894a2353b43ee004d3721db5f872fdafedfd2c692cf90f934493a38278b',\n",
              " 'ac7be0f523f74b459a35d18a22136d73b4ddd1d3dc2a3d3dd19f5bee0e6322b2',\n",
              " 'afec2052185db48492078c134059e45c82bc73dbc31d59b1d618eadab8ff0427',\n",
              " '9d743cf5bf8109099fdf8f173ee58e2618f9fd70cdf32647e6c0bf53d298aa33',\n",
              " 'af9ad89945d53a1e1ce037aeb658c063ae46dc2ebe9b4838f8c79e8b46bff8f7',\n",
              " '22cd9bc8595f7057f0f1417ae680fe8508e8340731bfe0461969f6bf25f7da16',\n",
              " '0af3b659eda531601c861a2253cb43232c3775a88e9c5c2072798b842c5c5774',\n",
              " '2c9ff299bb705b21159a100438d4b3211cffd9cbae3c79f5345b379850676b61',\n",
              " '05322f1f89b7c29cfc1a3fddbfa68c994beace6c29a375206130e93e3f8c19cf',\n",
              " '273c9c355c530ceade578d849f5ba0d6f1540715380889982339167eb6060e0d',\n",
              " '830b1ac394607a994e7a9ed41fab86d1efad5920b6b0299d2a53c637c3ab3739',\n",
              " '1662ae11c7486701a5fa1f9adf189e9bd2ee93fb1fdb517243c0dfce3876c1cd',\n",
              " 'c78190bdc8768840768c8ef0896bf5d60eae2235a17ff50f4e224309880b425b',\n",
              " 'e396f801375ffa1b7969846c3091b3faeba8deb9e14142242d8728a0ea42eeeb',\n",
              " '2b2d9e0c8eeeb11161f43907fff73b8729abf7e10000646558d9716c922ec969',\n",
              " 'a823f2cee90a19ab1b1ead24f7f3d45c996acc0063d63e7515b773c9275c0ce0',\n",
              " '6b349a8d6f0a58a16c2ee24849f21d593fa8901921c9fdee953fbdb50846fe39']"
            ]
          },
          "execution_count": 17,
          "metadata": {},
          "output_type": "execute_result"
        }
      ],
      "source": [
        "best_pattern.indexing_function(doc_splits)"
      ]
    },
    {
      "cell_type": "markdown",
      "metadata": {},
      "source": [
        "Query the RAGPattern locally, to test it."
      ]
    },
    {
      "cell_type": "code",
      "execution_count": 18,
      "metadata": {},
      "outputs": [
        {
          "data": {
            "text/plain": [
              "{'predictions': [{'fields': ['answer', 'reference_documents'],\n",
              "   'values': [[\"\\n\\nTo add Task Credentials, you can use the `store` method of the `task_credentials` object. First, initialize the `APIClient` object with your credentials, then set the default project or space ID. Next, use the `list` method to check if there are any existing task credentials. If the list is empty, you can create new task credentials by calling the `store` method. You can also use the `get_details` method to get the status of available task credentials.\\n\\nHere's an example:\\n```\\nfrom ibm_watsonx_ai import APIClient\\n\\nclient = APIClient(credentials)\\nclient.set.default_project(project_id=project_id)\\n\\n# Check if there are existing task credentials\\nclient.task_credentials.list()\\n\\n# If the list is empty, create new task credentials\\nclient.task_credentials.store()\\n```\\nThis will add new task credentials, which are required for deploying a custom foundation model on IBM watsonx.ai for IBM Cloud.\",\n",
              "     [{'page_content': 'Initialize APIClient object¶\\nInitialize APIClient object if needed. More details about supported APIClient initialization can be found in Setup section,\\nfrom ibm_watsonx_ai import APIClient\\n\\nclient = APIClient(credentials)\\nclient.set.default_project(project_id=project_id)\\n# or client.set.default_space(space_id=space_id)\\n\\n\\n\\n\\nAdd Task Credentials¶\\n\\nWarning\\nIf not already added, a Task Credentials are required on IBM watsonx.ai for IBM Cloud to make a deployment.\\n\\nTask credentials enable you to deploy a custom foundation model and avoid token expiration issues.\\nMore details can be found in: Adding task credentials.\\nTo list available task credentials, use list method:\\nclient.task_credentials.list()\\n\\n\\nIf the list is empty, you can create new task credentials by using store method:\\nclient.task_credentials.store()\\n\\n\\nTo get status of available task credentials, use get_details method:\\nclient.task_credentials.get_details() Storing model in service repository¶\\nTo store model as an asset in the repo, first create proper metadata.\\nIn Cloud scenario, there is a need to have an active connection to Cloud Object Storage.\\nFor more information and how to create COS connection, see Connection Asset.\\nFrom such connection, the user can obtain the parameters needed to fill MODEL_LOCATION field.\\nmetadata = {\\n    client.repository.ModelMetaNames.NAME: \"custom FM asset,\\n    client.repository.ModelMetaNames.SOFTWARE_SPEC_ID: sw_spec_id,\\n    client.repository.ModelMetaNames.TYPE: client.repository.ModelAssetTypes.CUSTOM_FOUNDATION_MODEL_1_0,\\n    client.repository.ModelMetaNames.MODEL_LOCATION: {\\n        \"file_path\": \"path/to/pvc\",\\n        \"bucket\": \"watsonx-llm-models\",',\n",
              "       'metadata': {'sequence_number': [10, 11, 12, 13, 14],\n",
              "        'document_id': '-5799520237987579193'}},\n",
              "      {'page_content': 'IBM watsonx.ai for IBM Cloud¶\\nThis section shows how to create task credentials, store & deploy model and use ModelInference module with created deployment on the IBM watsonx.ai for IBM Cloud.\\n\\nInitialize APIClient object¶\\nInitialize APIClient object if needed. More details about supported APIClient initialization can be found in Setup section,\\nfrom ibm_watsonx_ai import APIClient\\n\\nclient = APIClient(credentials)\\nclient.set.default_project(project_id=project_id)\\n# or client.set.default_space(space_id=space_id)\\n\\n\\n\\n\\nAdd Task Credentials¶\\n\\nWarning\\nIf not already added, a Task Credentials are required on IBM watsonx.ai for IBM Cloud to make a deployment.\\n\\nTask credentials enable you to deploy a custom foundation model and avoid token expiration issues.\\nMore details can be found in: Adding task credentials.\\nTo list available task credentials, use list method:\\nclient.task_credentials.list()\\n\\n\\nIf the list is empty, you can create new task credentials by using store method:\\nclient.task_credentials.store()\\n\\n\\nTo get status of available task credentials, use get_details method:\\nclient.task_credentials.get_details() Storing model in service repository¶\\nTo store model as an asset in the repo, first create proper metadata.\\nIn Cloud scenario, there is a need to have an active connection to Cloud Object Storage.\\nFor more information and how to create COS connection, see Connection Asset.\\nFrom such connection, the user can obtain the parameters needed to fill MODEL_LOCATION field.\\nmetadata = {\\n    client.repository.ModelMetaNames.NAME: \"custom FM asset,\\n    client.repository.ModelMetaNames.SOFTWARE_SPEC_ID: sw_spec_id,',\n",
              "       'metadata': {'sequence_number': [9, 10, 11, 12, 13],\n",
              "        'document_id': '-5799520237987579193'}},\n",
              "      {'page_content': 'Custom models¶\\nThe custom models of watsonx.ai client might differ depending on the product offering. Choose an option from the list below\\nto see steps.\\n\\nIBM watsonx.ai for IBM Cloud\\nIBM watsonx.ai software with IBM Cloud Pak for Data\\n\\n\\nIBM watsonx.ai for IBM Cloud¶\\nThis section shows how to create task credentials, store & deploy model and use ModelInference module with created deployment on the IBM watsonx.ai for IBM Cloud.\\n\\nInitialize APIClient object¶\\nInitialize APIClient object if needed. More details about supported APIClient initialization can be found in Setup section,\\nfrom ibm_watsonx_ai import APIClient\\n\\nclient = APIClient(credentials)\\nclient.set.default_project(project_id=project_id)\\n# or client.set.default_space(space_id=space_id)\\n\\n\\n\\n\\nAdd Task Credentials¶\\n\\nWarning\\nIf not already added, a Task Credentials are required on IBM watsonx.ai for IBM Cloud to make a deployment.\\n\\nTask credentials enable you to deploy a custom foundation model and avoid token expiration issues.\\nMore details can be found in: Adding task credentials.\\nTo list available task credentials, use list method:\\nclient.task_credentials.list()\\n\\n\\nIf the list is empty, you can create new task credentials by using store method:\\nclient.task_credentials.store()\\n\\n\\nTo get status of available task credentials, use get_details method:\\nclient.task_credentials.get_details()',\n",
              "       'metadata': {'sequence_number': [8, 9, 10, 11, 12],\n",
              "        'document_id': '-5799520237987579193'}},\n",
              "      {'page_content': 'Toggle Light / Dark / Auto color theme\\n\\n\\n\\n\\n\\n\\n\\nToggle table of contents sidebar\\n\\n\\n\\n\\n\\nCustom models¶\\nThe custom models of watsonx.ai client might differ depending on the product offering. Choose an option from the list below\\nto see steps.\\n\\nIBM watsonx.ai for IBM Cloud\\nIBM watsonx.ai software with IBM Cloud Pak for Data\\n\\n\\nIBM watsonx.ai for IBM Cloud¶\\nThis section shows how to create task credentials, store & deploy model and use ModelInference module with created deployment on the IBM watsonx.ai for IBM Cloud.\\n\\nInitialize APIClient object¶\\nInitialize APIClient object if needed. More details about supported APIClient initialization can be found in Setup section,\\nfrom ibm_watsonx_ai import APIClient\\n\\nclient = APIClient(credentials)\\nclient.set.default_project(project_id=project_id)\\n# or client.set.default_space(space_id=space_id)\\n\\n\\n\\n\\nAdd Task Credentials¶\\n\\nWarning\\nIf not already added, a Task Credentials are required on IBM watsonx.ai for IBM Cloud to make a deployment.\\n\\nTask credentials enable you to deploy a custom foundation model and avoid token expiration issues.\\nMore details can be found in: Adding task credentials.\\nTo list available task credentials, use list method:\\nclient.task_credentials.list()\\n\\n\\nIf the list is empty, you can create new task credentials by using store method:\\nclient.task_credentials.store()',\n",
              "       'metadata': {'sequence_number': [7, 8, 9, 10, 11],\n",
              "        'document_id': '-5799520237987579193'}},\n",
              "      {'page_content': 'the path to a CA_BUNDLE file\\nthe path of directory with certificates of trusted CAs\\nTrue - default path to truststore will be taken\\nFalse - no verification will be made persistent_connection (bool, optional) – Whether to keep persistent connection when evaluating generate, ‘embed_query’ and ‘embed_documents` methods with one prompt\\nor batch of prompts not longer than documentation allows (for more details see https://cloud.ibm.com/apidocs/watsonx-ai#text-embeddings).\\nTo close connection run embeddings.close_persistent_connection(), defaults to True. Added in 1.1.2.\\n\\n\\n\\n\\nNote\\nOne of these parameters is required: [project_id, space_id] when credentials parameter passed.\\n\\n\\nHint\\nYou can copy the project_id from the Project’s Manage tab (Project -> Manage -> General -> Details).\\n\\nExample\\n from ibm_watsonx_ai import Credentials\\n from ibm_watsonx_ai.foundation_models import Embeddings\\n from ibm_watsonx_ai.metanames import EmbedTextParamsMetaNames as EmbedParams\\n from ibm_watsonx_ai.foundation_models.utils.enums import EmbeddingTypes embed_params = {\\n     EmbedParams.TRUNCATE_INPUT_TOKENS: 3,\\n     EmbedParams.RETURN_OPTIONS: {\\n     \\'input_text\\': True\\n     }\\n }\\n\\n embedding = Embeddings(\\n     model_id=EmbeddingTypes.IBM_SLATE_30M_ENG,\\n     params=embed_params,\\n     credentials=Credentials(\\n         api_key = \"***\",\\n         url = \"https://us-south.ml.cloud.ibm.com\"),\\n     project_id=\"*****\"\\n     )\\n\\n\\n\\n\\nclose_persistent_connection()[source]¶\\nOnly applicable if persistent_connection was set to True in Embeddings initialization.\\n\\n\\n\\nembed_documents(texts, params=None, concurrency_limit=10)[source]¶\\nReturn list of embedding vectors for provided texts.\\n\\nParameters:',\n",
              "       'metadata': {'sequence_number': [10, 11, 12, 13, 14],\n",
              "        'document_id': '-7897467398471890708'}}]]]}]}"
            ]
          },
          "execution_count": 18,
          "metadata": {},
          "output_type": "execute_result"
        }
      ],
      "source": [
        "questions = [\"How to add Task Credentials?\"]\n",
        "\n",
        "payload = {\n",
        "    client.deployments.ScoringMetaNames.INPUT_DATA: [\n",
        "        {\n",
        "            \"values\": questions,\n",
        "            \"access_token\": client.service_instance._get_token()\n",
        "        }\n",
        "    ]\n",
        "}\n",
        "\n",
        "best_pattern.inference_function()(payload)"
      ]
    },
    {
      "cell_type": "markdown",
      "metadata": {},
      "source": [
        "<a id=\"runs\"></a>\n",
        "## Historical runs\n",
        "\n",
        "In this section you learn to work with historical RAG Optimizer jobs (runs).\n",
        "\n",
        "To list historical runs use the `list()` method and provide the `'rag_optimizer'` filter."
      ]
    },
    {
      "cell_type": "code",
      "execution_count": 39,
      "metadata": {},
      "outputs": [
        {
          "data": {
            "text/html": [
              "<div>\n",
              "<style scoped>\n",
              "    .dataframe tbody tr th:only-of-type {\n",
              "        vertical-align: middle;\n",
              "    }\n",
              "\n",
              "    .dataframe tbody tr th {\n",
              "        vertical-align: top;\n",
              "    }\n",
              "\n",
              "    .dataframe thead th {\n",
              "        text-align: right;\n",
              "    }\n",
              "</style>\n",
              "<table border=\"1\" class=\"dataframe\">\n",
              "  <thead>\n",
              "    <tr style=\"text-align: right;\">\n",
              "      <th></th>\n",
              "      <th>timestamp</th>\n",
              "      <th>run_id</th>\n",
              "      <th>state</th>\n",
              "      <th>auto_pipeline_optimizer name</th>\n",
              "    </tr>\n",
              "  </thead>\n",
              "  <tbody>\n",
              "    <tr>\n",
              "      <th>0</th>\n",
              "      <td>2024-09-05T12:55:51.571Z</td>\n",
              "      <td>4322a167-b17b-4e24-8bb7-137c0770dd4b</td>\n",
              "      <td>completed</td>\n",
              "      <td>AutoAI RAG run - ModelInference documentation</td>\n",
              "    </tr>\n",
              "    <tr>\n",
              "      <th>1</th>\n",
              "      <td>2024-09-05T11:22:22.958Z</td>\n",
              "      <td>5f06cc01-9734-48e9-bbaf-657dfa16bef3</td>\n",
              "      <td>completed</td>\n",
              "      <td>AutoAI RAG run - ModelInference documentation</td>\n",
              "    </tr>\n",
              "    <tr>\n",
              "      <th>2</th>\n",
              "      <td>2024-09-05T08:46:06.437Z</td>\n",
              "      <td>9e9e289b-6302-49ff-a032-c0a98ccd89dc</td>\n",
              "      <td>completed</td>\n",
              "      <td>AutoAI RAG run - IBM Wikipedia</td>\n",
              "    </tr>\n",
              "    <tr>\n",
              "      <th>3</th>\n",
              "      <td>2024-08-22T09:13:05.513Z</td>\n",
              "      <td>d74d1d34-e81e-4ccd-804d-f17f33d3eccf</td>\n",
              "      <td>completed</td>\n",
              "      <td>RAG AutoAi name - sample notebook</td>\n",
              "    </tr>\n",
              "    <tr>\n",
              "      <th>4</th>\n",
              "      <td>2024-08-22T08:53:36.453Z</td>\n",
              "      <td>e52ff185-5702-4ea1-abee-ad6533196931</td>\n",
              "      <td>completed</td>\n",
              "      <td>RAG AutoAi name - sample notebook</td>\n",
              "    </tr>\n",
              "    <tr>\n",
              "      <th>5</th>\n",
              "      <td>2024-08-21T08:53:51.511Z</td>\n",
              "      <td>4f08fd2e-a7b1-4ef9-b368-d24b183f0c2f</td>\n",
              "      <td>completed</td>\n",
              "      <td>RAG AutoAi name - sample notebook</td>\n",
              "    </tr>\n",
              "    <tr>\n",
              "      <th>6</th>\n",
              "      <td>2024-08-12T09:49:17.588Z</td>\n",
              "      <td>55938b70-b5e5-4a8a-8ddd-13e2f44897fe</td>\n",
              "      <td>completed</td>\n",
              "      <td>RAG AutoAi name - sample notebook</td>\n",
              "    </tr>\n",
              "    <tr>\n",
              "      <th>7</th>\n",
              "      <td>2024-08-09T14:08:33.769Z</td>\n",
              "      <td>b2561f3a-6107-4029-a985-de1f78f8cd6b</td>\n",
              "      <td>completed</td>\n",
              "      <td>RAG AutoAi name - sample notebook</td>\n",
              "    </tr>\n",
              "    <tr>\n",
              "      <th>8</th>\n",
              "      <td>2024-08-09T12:06:45.972Z</td>\n",
              "      <td>61097ab3-723e-4aa8-bd30-7c007886ec50</td>\n",
              "      <td>completed</td>\n",
              "      <td>RAG AutoAi name - sample notebook</td>\n",
              "    </tr>\n",
              "  </tbody>\n",
              "</table>\n",
              "</div>"
            ],
            "text/plain": [
              "                  timestamp                                run_id      state  \\\n",
              "0  2024-09-05T12:55:51.571Z  4322a167-b17b-4e24-8bb7-137c0770dd4b  completed   \n",
              "1  2024-09-05T11:22:22.958Z  5f06cc01-9734-48e9-bbaf-657dfa16bef3  completed   \n",
              "2  2024-09-05T08:46:06.437Z  9e9e289b-6302-49ff-a032-c0a98ccd89dc  completed   \n",
              "3  2024-08-22T09:13:05.513Z  d74d1d34-e81e-4ccd-804d-f17f33d3eccf  completed   \n",
              "4  2024-08-22T08:53:36.453Z  e52ff185-5702-4ea1-abee-ad6533196931  completed   \n",
              "5  2024-08-21T08:53:51.511Z  4f08fd2e-a7b1-4ef9-b368-d24b183f0c2f  completed   \n",
              "6  2024-08-12T09:49:17.588Z  55938b70-b5e5-4a8a-8ddd-13e2f44897fe  completed   \n",
              "7  2024-08-09T14:08:33.769Z  b2561f3a-6107-4029-a985-de1f78f8cd6b  completed   \n",
              "8  2024-08-09T12:06:45.972Z  61097ab3-723e-4aa8-bd30-7c007886ec50  completed   \n",
              "\n",
              "                    auto_pipeline_optimizer name  \n",
              "0  AutoAI RAG run - ModelInference documentation  \n",
              "1  AutoAI RAG run - ModelInference documentation  \n",
              "2                 AutoAI RAG run - IBM Wikipedia  \n",
              "3              RAG AutoAi name - sample notebook  \n",
              "4              RAG AutoAi name - sample notebook  \n",
              "5              RAG AutoAi name - sample notebook  \n",
              "6              RAG AutoAi name - sample notebook  \n",
              "7              RAG AutoAi name - sample notebook  \n",
              "8              RAG AutoAi name - sample notebook  "
            ]
          },
          "execution_count": 39,
          "metadata": {},
          "output_type": "execute_result"
        }
      ],
      "source": [
        "experiment.runs(filter='rag_optimizer').list()"
      ]
    },
    {
      "cell_type": "code",
      "execution_count": 19,
      "metadata": {},
      "outputs": [
        {
          "data": {
            "text/plain": [
              "'b6315fa9-b65a-4fcb-a4e1-bf717d32c359'"
            ]
          },
          "execution_count": 19,
          "metadata": {},
          "output_type": "execute_result"
        }
      ],
      "source": [
        "run_id = run_details['metadata']['id']\n",
        "run_id"
      ]
    },
    {
      "cell_type": "markdown",
      "metadata": {},
      "source": [
        "### Get executed optimizer's configuration parameters"
      ]
    },
    {
      "cell_type": "code",
      "execution_count": 20,
      "metadata": {},
      "outputs": [
        {
          "data": {
            "text/plain": [
              "{'name': 'AutoAI RAG run - ModelInference documentation',\n",
              " 'description': 'AutoAI RAG Optimizer on ibm_watsonx_ai ModelInference documentation',\n",
              " 'max_number_of_rag_patterns': 8,\n",
              " 'optimization_metrics': ['answer_correctness']}"
            ]
          },
          "execution_count": 20,
          "metadata": {},
          "output_type": "execute_result"
        }
      ],
      "source": [
        "experiment.runs.get_rag_params(run_id=run_id)"
      ]
    },
    {
      "cell_type": "markdown",
      "metadata": {},
      "source": [
        "### Get historical rag_optimizer instance and training details"
      ]
    },
    {
      "cell_type": "code",
      "execution_count": 21,
      "metadata": {},
      "outputs": [],
      "source": [
        "historical_opt = experiment.runs.get_rag_optimizer(run_id)"
      ]
    },
    {
      "cell_type": "markdown",
      "metadata": {},
      "source": [
        "### List trained patterns for selected optimizer"
      ]
    },
    {
      "cell_type": "code",
      "execution_count": 22,
      "metadata": {},
      "outputs": [
        {
          "data": {
            "text/html": [
              "<div>\n",
              "<style scoped>\n",
              "    .dataframe tbody tr th:only-of-type {\n",
              "        vertical-align: middle;\n",
              "    }\n",
              "\n",
              "    .dataframe tbody tr th {\n",
              "        vertical-align: top;\n",
              "    }\n",
              "\n",
              "    .dataframe thead th {\n",
              "        text-align: right;\n",
              "    }\n",
              "</style>\n",
              "<table border=\"1\" class=\"dataframe\">\n",
              "  <thead>\n",
              "    <tr style=\"text-align: right;\">\n",
              "      <th></th>\n",
              "      <th>mean_answer_correctness</th>\n",
              "      <th>mean_faithfulness</th>\n",
              "      <th>mean_context_correctness</th>\n",
              "      <th>chunking.chunk_size</th>\n",
              "      <th>embeddings.model_id</th>\n",
              "      <th>vector_store.distance_metric</th>\n",
              "      <th>retrieval.method</th>\n",
              "      <th>retrieval.number_of_chunks</th>\n",
              "      <th>generation.model_id</th>\n",
              "    </tr>\n",
              "    <tr>\n",
              "      <th>Pattern_Name</th>\n",
              "      <th></th>\n",
              "      <th></th>\n",
              "      <th></th>\n",
              "      <th></th>\n",
              "      <th></th>\n",
              "      <th></th>\n",
              "      <th></th>\n",
              "      <th></th>\n",
              "      <th></th>\n",
              "    </tr>\n",
              "  </thead>\n",
              "  <tbody>\n",
              "    <tr>\n",
              "      <th>Pattern1</th>\n",
              "      <td>1.0</td>\n",
              "      <td>0.65940</td>\n",
              "      <td>1.0</td>\n",
              "      <td>512</td>\n",
              "      <td>ibm/slate-125m-english-rtrvr</td>\n",
              "      <td>euclidean</td>\n",
              "      <td>window</td>\n",
              "      <td>5</td>\n",
              "      <td>meta-llama/llama-3-70b-instruct</td>\n",
              "    </tr>\n",
              "    <tr>\n",
              "      <th>Pattern4</th>\n",
              "      <td>1.0</td>\n",
              "      <td>0.85365</td>\n",
              "      <td>1.0</td>\n",
              "      <td>1024</td>\n",
              "      <td>intfloat/multilingual-e5-large</td>\n",
              "      <td>cosine</td>\n",
              "      <td>window</td>\n",
              "      <td>5</td>\n",
              "      <td>meta-llama/llama-3-70b-instruct</td>\n",
              "    </tr>\n",
              "    <tr>\n",
              "      <th>Pattern6</th>\n",
              "      <td>1.0</td>\n",
              "      <td>0.73705</td>\n",
              "      <td>1.0</td>\n",
              "      <td>1024</td>\n",
              "      <td>intfloat/multilingual-e5-large</td>\n",
              "      <td>euclidean</td>\n",
              "      <td>window</td>\n",
              "      <td>3</td>\n",
              "      <td>meta-llama/llama-3-70b-instruct</td>\n",
              "    </tr>\n",
              "    <tr>\n",
              "      <th>Pattern8</th>\n",
              "      <td>1.0</td>\n",
              "      <td>0.87500</td>\n",
              "      <td>1.0</td>\n",
              "      <td>1024</td>\n",
              "      <td>ibm/slate-125m-english-rtrvr</td>\n",
              "      <td>euclidean</td>\n",
              "      <td>window</td>\n",
              "      <td>3</td>\n",
              "      <td>meta-llama/llama-3-70b-instruct</td>\n",
              "    </tr>\n",
              "    <tr>\n",
              "      <th>Pattern2</th>\n",
              "      <td>0.5</td>\n",
              "      <td>0.29950</td>\n",
              "      <td>1.0</td>\n",
              "      <td>1024</td>\n",
              "      <td>intfloat/multilingual-e5-large</td>\n",
              "      <td>euclidean</td>\n",
              "      <td>window</td>\n",
              "      <td>5</td>\n",
              "      <td>ibm/granite-13b-chat-v2</td>\n",
              "    </tr>\n",
              "    <tr>\n",
              "      <th>Pattern5</th>\n",
              "      <td>0.5</td>\n",
              "      <td>0.61920</td>\n",
              "      <td>1.0</td>\n",
              "      <td>1024</td>\n",
              "      <td>intfloat/multilingual-e5-large</td>\n",
              "      <td>cosine</td>\n",
              "      <td>window</td>\n",
              "      <td>3</td>\n",
              "      <td>mistralai/mixtral-8x7b-instruct-v01</td>\n",
              "    </tr>\n",
              "    <tr>\n",
              "      <th>Pattern7</th>\n",
              "      <td>0.5</td>\n",
              "      <td>0.29030</td>\n",
              "      <td>1.0</td>\n",
              "      <td>1024</td>\n",
              "      <td>ibm/slate-125m-english-rtrvr</td>\n",
              "      <td>cosine</td>\n",
              "      <td>window</td>\n",
              "      <td>5</td>\n",
              "      <td>ibm/granite-13b-chat-v2</td>\n",
              "    </tr>\n",
              "    <tr>\n",
              "      <th>Pattern3</th>\n",
              "      <td>0.0</td>\n",
              "      <td>0.71430</td>\n",
              "      <td>1.0</td>\n",
              "      <td>1024</td>\n",
              "      <td>intfloat/multilingual-e5-large</td>\n",
              "      <td>euclidean</td>\n",
              "      <td>simple</td>\n",
              "      <td>5</td>\n",
              "      <td>ibm/granite-13b-chat-v2</td>\n",
              "    </tr>\n",
              "  </tbody>\n",
              "</table>\n",
              "</div>"
            ],
            "text/plain": [
              "              mean_answer_correctness  mean_faithfulness  \\\n",
              "Pattern_Name                                               \n",
              "Pattern1                          1.0            0.65940   \n",
              "Pattern4                          1.0            0.85365   \n",
              "Pattern6                          1.0            0.73705   \n",
              "Pattern8                          1.0            0.87500   \n",
              "Pattern2                          0.5            0.29950   \n",
              "Pattern5                          0.5            0.61920   \n",
              "Pattern7                          0.5            0.29030   \n",
              "Pattern3                          0.0            0.71430   \n",
              "\n",
              "              mean_context_correctness  chunking.chunk_size  \\\n",
              "Pattern_Name                                                  \n",
              "Pattern1                           1.0                  512   \n",
              "Pattern4                           1.0                 1024   \n",
              "Pattern6                           1.0                 1024   \n",
              "Pattern8                           1.0                 1024   \n",
              "Pattern2                           1.0                 1024   \n",
              "Pattern5                           1.0                 1024   \n",
              "Pattern7                           1.0                 1024   \n",
              "Pattern3                           1.0                 1024   \n",
              "\n",
              "                         embeddings.model_id vector_store.distance_metric  \\\n",
              "Pattern_Name                                                                \n",
              "Pattern1        ibm/slate-125m-english-rtrvr                    euclidean   \n",
              "Pattern4      intfloat/multilingual-e5-large                       cosine   \n",
              "Pattern6      intfloat/multilingual-e5-large                    euclidean   \n",
              "Pattern8        ibm/slate-125m-english-rtrvr                    euclidean   \n",
              "Pattern2      intfloat/multilingual-e5-large                    euclidean   \n",
              "Pattern5      intfloat/multilingual-e5-large                       cosine   \n",
              "Pattern7        ibm/slate-125m-english-rtrvr                       cosine   \n",
              "Pattern3      intfloat/multilingual-e5-large                    euclidean   \n",
              "\n",
              "             retrieval.method  retrieval.number_of_chunks  \\\n",
              "Pattern_Name                                                \n",
              "Pattern1               window                           5   \n",
              "Pattern4               window                           5   \n",
              "Pattern6               window                           3   \n",
              "Pattern8               window                           3   \n",
              "Pattern2               window                           5   \n",
              "Pattern5               window                           3   \n",
              "Pattern7               window                           5   \n",
              "Pattern3               simple                           5   \n",
              "\n",
              "                              generation.model_id  \n",
              "Pattern_Name                                       \n",
              "Pattern1          meta-llama/llama-3-70b-instruct  \n",
              "Pattern4          meta-llama/llama-3-70b-instruct  \n",
              "Pattern6          meta-llama/llama-3-70b-instruct  \n",
              "Pattern8          meta-llama/llama-3-70b-instruct  \n",
              "Pattern2                  ibm/granite-13b-chat-v2  \n",
              "Pattern5      mistralai/mixtral-8x7b-instruct-v01  \n",
              "Pattern7                  ibm/granite-13b-chat-v2  \n",
              "Pattern3                  ibm/granite-13b-chat-v2  "
            ]
          },
          "execution_count": 22,
          "metadata": {},
          "output_type": "execute_result"
        }
      ],
      "source": [
        "historical_opt.summary()"
      ]
    },
    {
      "cell_type": "markdown",
      "metadata": {},
      "source": [
        "<a id=\"cleanup\"></a>\n",
        "## Clean up\n",
        "\n",
        "To delete the current experiment, use the `cancel_run` method.\n",
        "\n",
        "**Warning:** Be careful: once you delete an experiment, you will no longer be able to refer to it."
      ]
    },
    {
      "cell_type": "code",
      "execution_count": 29,
      "metadata": {},
      "outputs": [
        {
          "data": {
            "text/plain": [
              "'SUCCESS'"
            ]
          },
          "execution_count": 29,
          "metadata": {},
          "output_type": "execute_result"
        }
      ],
      "source": [
        "rag_optimizer.cancel_run()"
      ]
    },
    {
      "cell_type": "markdown",
      "metadata": {},
      "source": [
        "If you want to clean up all created assets:\n",
        "- experiments\n",
        "- trainings\n",
        "- pipelines\n",
        "- model definitions\n",
        "- models\n",
        "- functions\n",
        "- deployments\n",
        "\n",
        "please follow up this sample [notebook](https://github.com/IBM/watson-machine-learning-samples/blob/master/cloud/notebooks/python_sdk/instance-management/Machine%20Learning%20artifacts%20management.ipynb)."
      ]
    },
    {
      "cell_type": "markdown",
      "metadata": {},
      "source": [
        "<a id=\"summary\"></a>\n",
        "## Summary and next steps\n",
        "\n",
        "You successfully completed this notebook!.\n",
        "\n",
        "You learned how to use `ibm-watsonx-ai` to run AutoAI RAG experiments. \n",
        "\n",
        " Check out our _<a href=\"https://ibm.github.io/watsonx-ai-python-sdk/samples.html\" target=\"_blank\" rel=\"noopener no referrer\">Online Documentation</a>_ for more samples, tutorials, documentation, how-tos, and blog posts. "
      ]
    },
    {
      "cell_type": "markdown",
      "metadata": {},
      "source": [
        "### Authors\n",
        "\n",
        "**Mateusz Szewczyk**, Software Engineer watsonx.ai\n",
        "\n",
        "Copyright © 2024-2025 IBM. This notebook and its source code are released under the terms of the MIT License."
      ]
    }
  ],
  "metadata": {
    "kernelspec": {
      "display_name": "watsonx-ai-rt23.1-py310-osx64",
      "language": "python",
      "name": "python3"
    },
    "language_info": {
      "codemirror_mode": {
        "name": "ipython",
        "version": 3
      },
      "file_extension": ".py",
      "mimetype": "text/x-python",
      "name": "python",
      "nbconvert_exporter": "python",
      "pygments_lexer": "ipython3",
      "version": "3.10.13"
    }
  },
  "nbformat": 4,
  "nbformat_minor": 2
}
