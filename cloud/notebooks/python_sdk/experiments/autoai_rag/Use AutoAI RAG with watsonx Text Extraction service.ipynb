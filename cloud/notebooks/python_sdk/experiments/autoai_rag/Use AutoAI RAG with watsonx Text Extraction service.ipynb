{
 "cells": [
  {
   "cell_type": "markdown",
   "id": "2373ada319e4fda5",
   "metadata": {},
   "source": [
    "![image](https://raw.githubusercontent.com/IBM/watson-machine-learning-samples/master/cloud/notebooks/headers/watsonx-Prompt_Lab-Notebook.png)\n",
    "# Use AutoAI RAG with watsonx Text Extraction service"
   ]
  },
  {
   "cell_type": "markdown",
   "id": "24aa5fa58bb5d946",
   "metadata": {},
   "source": [
    "#### Disclaimers\n",
    "\n",
    "- Use only Projects and Spaces that are available in the watsonx context.\n",
    "\n",
    "\n",
    "## Notebook content\n",
    "\n",
    "This notebook demonstrates how to process data using the IBM watsonx.ai Text Extraction service and use the result in an AutoAI RAG experiment.\n",
    "The data used in this notebook is from the [Granite Code Models paper](https://arxiv.org/pdf/2405.04324)\n",
    "\n",
    "Some familiarity with Python is helpful. This notebook uses Python 3.11.\n",
    "\n",
    "\n",
    "## Learning goal\n",
    "\n",
    "The learning goals of this notebook are:\n",
    "\n",
    "- Process data using the IBM watsonx.ai Text Extraction service\n",
    "- Create an AutoAI RAG job that will find the best RAG pattern based on processed data\n",
    "\n",
    "\n",
    "## Contents\n",
    "\n",
    "This notebook contains the following parts:\n",
    "- [Set up the environment](#setup)\n",
    "- [Prepare data and connections for the Text Extraction service](#prepare-te)\n",
    "- [Process data using the Text Extraction service](#run-te)\n",
    "- [Prepare data and connections for the AutoAI RAG experiment](#prepare-autorag)\n",
    "- [Run the AutoAI RAG experiment](#run-autorag)\n",
    "- [Compare and test RAG Patterns](#comparision)\n",
    "- [Summary](#summary)"
   ]
  },
  {
   "cell_type": "markdown",
   "id": "797be889df452a0c",
   "metadata": {},
   "source": [
    "<a id=\"setup\"></a>\n",
    "# Set up the environment\n",
    "\n",
    "Before you use the sample code in this notebook, you must perform the following setup tasks:\n",
    "\n",
    "-  Create a <a href=\"https://cloud.ibm.com/catalog/services/watson-machine-learning\" target=\"_blank\" rel=\"noopener no referrer\">watsonx.ai Runtime Service</a> instance (a free plan is offered and information about how to create the instance can be found <a href=\"https://dataplatform.cloud.ibm.com/docs/content/wsj/getting-started/wml-plans.html?context=wx&audience=wdp\" target=\"_blank\" rel=\"noopener no referrer\">here</a>)."
   ]
  },
  {
   "cell_type": "markdown",
   "id": "77e9a79e53ca99e9",
   "metadata": {},
   "source": [
    "### Install and import the required modules and dependencies"
   ]
  },
  {
   "cell_type": "code",
   "execution_count": null,
   "id": "dd46247ca5490688",
   "metadata": {},
   "outputs": [],
   "source": [
    "!pip install -U 'ibm-watsonx-ai[rag]>=1.2.4' | tail -n 1\n",
    "!pip install -U \"langchain_community>=0.3,<0.4\" | tail -n 1"
   ]
  },
  {
   "cell_type": "markdown",
   "id": "e5a79fd5b0a8d2e6",
   "metadata": {},
   "source": [
    "### Define the watsonx.ai credentials\n",
    "This cell defines the credentials required to work with the watsonx.ai service.\n",
    "\n",
    "**Action:** Provide your IBM Cloud API key and the platform URL. For more information, see <a href=\"https://cloud.ibm.com/docs/account?topic=account-userapikey&interface=ui\" target=\"_blank\" rel=\"noopener no referrer\">Managing user API keys</a>."
   ]
  },
  {
   "cell_type": "code",
   "execution_count": 22,
   "id": "871e4d4831dfff81",
   "metadata": {
    "ExecuteTime": {
     "end_time": "2025-01-09T15:17:03.432461Z",
     "start_time": "2025-01-09T15:17:03.430046Z"
    }
   },
   "outputs": [],
   "source": [
    "import getpass\n",
    "\n",
    "from ibm_watsonx_ai import Credentials\n",
    "\n",
    "credentials = Credentials(\n",
    "    url=\"https://us-south.ml.cloud.ibm.com\",\n",
    "    api_key=getpass.getpass(\"Please enter your watsonx.ai api key (hit enter): \")\n",
    ")"
   ]
  },
  {
   "cell_type": "markdown",
   "id": "a7d9204ae2b4503d",
   "metadata": {},
   "source": [
    "### Work with spaces\n",
    "\n",
    "You need to create a space that will be used for your work. If you do not have a space, you can use [Deployment Spaces Dashboard](https://dataplatform.cloud.ibm.com/ml-runtime/spaces?context=wx) to create one.\n",
    "\n",
    "- Click **New Deployment Space**\n",
    "- Create an empty space\n",
    "- Select Cloud Object Storage\n",
    "- Select watsonx.ai Runtime instance and press **Create**\n",
    "- Go to **Manage** tab\n",
    "- Copy `Space GUID` and paste it below\n",
    "\n",
    "**Tip**: You can also use SDK to prepare the space for your work. For more information, see [the Space management notebook](https://github.com/IBM/watson-machine-learning-samples/blob/master/cloud/notebooks/python_sdk/instance-management/Space%20management.ipynb).\n",
    "\n",
    "**Action**: Assign space ID below."
   ]
  },
  {
   "cell_type": "code",
   "execution_count": 24,
   "id": "edfc7a406063d875",
   "metadata": {
    "ExecuteTime": {
     "end_time": "2025-01-09T15:17:23.482166Z",
     "start_time": "2025-01-09T15:17:23.480080Z"
    }
   },
   "outputs": [],
   "source": [
    "SPACE_ID = 'PASTE YOUR SPACE GUID HERE'"
   ]
  },
  {
   "cell_type": "markdown",
   "id": "a0c9b2035ae5e023",
   "metadata": {},
   "source": [
    "### Create an instance of APIClient with authentication details"
   ]
  },
  {
   "cell_type": "code",
   "execution_count": 25,
   "id": "6191de9d36b0ea37",
   "metadata": {
    "ExecuteTime": {
     "end_time": "2025-01-09T15:17:34.654925Z",
     "start_time": "2025-01-09T15:17:32.854580Z"
    }
   },
   "outputs": [],
   "source": [
    "from ibm_watsonx_ai import APIClient\n",
    "\n",
    "client = APIClient(credentials=credentials, space_id=SPACE_ID)"
   ]
  },
  {
   "cell_type": "markdown",
   "id": "1a538feb8038c56b",
   "metadata": {},
   "source": [
    "### Create an instance of COS client"
   ]
  },
  {
   "cell_type": "markdown",
   "id": "b292e1bcfbd5849a",
   "metadata": {},
   "source": [
    "Connect to the default COS instance for the provided space by using the `ibm_boto3` package."
   ]
  },
  {
   "cell_type": "code",
   "execution_count": 26,
   "id": "1df2d93b579cdd34",
   "metadata": {
    "ExecuteTime": {
     "end_time": "2025-01-09T15:17:50.947335Z",
     "start_time": "2025-01-09T15:17:49.986337Z"
    },
    "id": "3f8b9e40-985e-44cf-a1d6-509493ea85bc"
   },
   "outputs": [],
   "source": [
    "import ibm_boto3\n",
    "\n",
    "cos_credentials = client.spaces.get_details(space_id=SPACE_ID)['entity']['storage']['properties']\n",
    "\n",
    "cos_client = ibm_boto3.client(\n",
    "    service_name=\"s3\",\n",
    "    endpoint_url=cos_credentials[\"endpoint_url\"],\n",
    "    aws_access_key_id=cos_credentials[\"credentials\"][\"editor\"][\"access_key_id\"],\n",
    "    aws_secret_access_key=cos_credentials[\"credentials\"][\"editor\"][\"secret_access_key\"],\n",
    ")"
   ]
  },
  {
   "cell_type": "markdown",
   "id": "fb7353b94e404e69",
   "metadata": {},
   "source": [
    "Create a new bucket."
   ]
  },
  {
   "cell_type": "code",
   "execution_count": 27,
   "id": "705245bc2f2785d6",
   "metadata": {
    "ExecuteTime": {
     "end_time": "2025-01-09T15:17:53.625465Z",
     "start_time": "2025-01-09T15:17:52.147218Z"
    },
    "id": "0b34af2a-04ab-497f-ab91-ee764a0df804"
   },
   "outputs": [],
   "source": [
    "cos_bucket_name = \"autoai-rag-with-text-extraction-experiment\"\n",
    "\n",
    "buckets_names = [bucket[\"Name\"] for bucket in cos_client.list_buckets()[\"Buckets\"]]\n",
    "if not cos_bucket_name in buckets_names:\n",
    "    cos_client.create_bucket(Bucket=cos_bucket_name)"
   ]
  },
  {
   "cell_type": "markdown",
   "id": "afa211d65c3f216",
   "metadata": {},
   "source": [
    "Initialize the client connection to the created bucket and get the connection ID."
   ]
  },
  {
   "cell_type": "code",
   "execution_count": 28,
   "id": "17b0d8d77c8a04f8",
   "metadata": {
    "ExecuteTime": {
     "end_time": "2025-01-09T15:18:01.575234Z",
     "start_time": "2025-01-09T15:17:53.631336Z"
    },
    "id": "2d2233f0-4717-4aef-b2b0-ed63afdc19c1"
   },
   "outputs": [
    {
     "name": "stdout",
     "output_type": "stream",
     "text": [
      "Creating connections...\n",
      "SUCCESS\n"
     ]
    }
   ],
   "source": [
    "connection_details = client.connections.create(\n",
    "    {\n",
    "        \"datasource_type\": client.connections.get_datasource_type_uid_by_name(\n",
    "            \"bluemixcloudobjectstorage\"\n",
    "        ),\n",
    "        \"name\": \"Connection to COS for tests\",\n",
    "        \"properties\": {\n",
    "            \"bucket\": cos_bucket_name,\n",
    "            \"access_key\": cos_credentials[\"credentials\"][\"editor\"][\"access_key_id\"],\n",
    "            \"secret_key\": cos_credentials[\"credentials\"][\"editor\"][\"secret_access_key\"],\n",
    "            \"iam_url\": client.service_instance._href_definitions.get_iam_token_url(),\n",
    "            \"url\": cos_credentials[\"endpoint_url\"],\n",
    "        },\n",
    "    }\n",
    ")\n",
    "\n",
    "cos_connection_id = client.connections.get_id(\n",
    "    connection_details\n",
    ")"
   ]
  },
  {
   "cell_type": "markdown",
   "id": "ff0a7b3c2e49edb0",
   "metadata": {},
   "source": [
    "<a id=\"prepare-te\"></a>\n",
    "## Prepare data and connections for the Text Extraction service\n",
    "\n",
    "The document, from which we are going to extract text, is located in the IBM Cloud Object Storage (COS). In this notebook, we will use the [Granite Code Models paper](https://arxiv.org/pdf/2405.04324) as a source text document. The final results file, which will contain extracted text and necessary metadata, will be placed in the COS. So we will use the `ibm_watsonx_ai.helpers.DataConnection` and the `ibm_watsonx_ai.helpers.S3Location` class to create Python objects that will represent the references to the processed files. Reference to the final results will be used as an input for the AutoAI RAG experiment. "
   ]
  },
  {
   "cell_type": "code",
   "execution_count": 29,
   "id": "6986db8afa2092a0",
   "metadata": {
    "ExecuteTime": {
     "end_time": "2025-01-09T15:18:01.583626Z",
     "start_time": "2025-01-09T15:18:01.581803Z"
    },
    "id": "dbfed6f2-ff47-4ddf-a95b-2a997bb878a0"
   },
   "outputs": [],
   "source": [
    "from ibm_watsonx_ai.helpers import DataConnection, S3Location\n",
    "\n",
    "data_url = \"https://arxiv.org/pdf/2405.04324\"\n",
    "\n",
    "te_input_filename = \"granite_code_models_paper.pdf\"\n",
    "te_result_filename = \"granite_code_models_paper.md\""
   ]
  },
  {
   "cell_type": "markdown",
   "id": "f69a91d41da6d94d",
   "metadata": {},
   "source": [
    "Download and upload training data to the COS bucket. Then define a connection to the uploaded file."
   ]
  },
  {
   "cell_type": "code",
   "execution_count": 30,
   "id": "4d2e0021b4ccfae3",
   "metadata": {
    "ExecuteTime": {
     "end_time": "2025-01-09T15:18:02.313079Z",
     "start_time": "2025-01-09T15:18:01.595337Z"
    }
   },
   "outputs": [
    {
     "data": {
      "text/plain": [
       "'granite_code_models_paper (1).pdf'"
      ]
     },
     "execution_count": 30,
     "metadata": {},
     "output_type": "execute_result"
    }
   ],
   "source": [
    "import wget\n",
    "\n",
    "wget.download(data_url, te_input_filename)\n",
    "cos_client.upload_file(te_input_filename, cos_bucket_name, te_input_filename)"
   ]
  },
  {
   "cell_type": "markdown",
   "id": "61322fcdd5148ca5",
   "metadata": {},
   "source": [
    "Input file connection."
   ]
  },
  {
   "cell_type": "code",
   "execution_count": 31,
   "id": "457123d62baee219",
   "metadata": {
    "ExecuteTime": {
     "end_time": "2025-01-09T15:18:03.939674Z",
     "start_time": "2025-01-09T15:18:02.385866Z"
    }
   },
   "outputs": [],
   "source": [
    "input_data_reference = DataConnection(\n",
    "    connection_asset_id=cos_connection_id,\n",
    "    location=S3Location(bucket=cos_bucket_name, path=te_input_filename),\n",
    ")\n",
    "input_data_reference.set_client(client)"
   ]
  },
  {
   "cell_type": "markdown",
   "id": "ef0a2d3adef6dbe6",
   "metadata": {},
   "source": [
    "Output file connection."
   ]
  },
  {
   "cell_type": "code",
   "execution_count": 32,
   "id": "93d11d2581f5d8e6",
   "metadata": {
    "ExecuteTime": {
     "end_time": "2025-01-09T15:18:10.145056Z",
     "start_time": "2025-01-09T15:18:10.142493Z"
    },
    "id": "81c72273-05aa-4f62-92ae-2ed011072e65"
   },
   "outputs": [],
   "source": [
    "result_data_reference = DataConnection(\n",
    "    connection_asset_id=cos_connection_id,\n",
    "    location=S3Location(\n",
    "        bucket=cos_bucket_name,\n",
    "        path=te_result_filename\n",
    "    )\n",
    ")\n",
    "result_data_reference.set_client(client)"
   ]
  },
  {
   "cell_type": "markdown",
   "id": "9770cd3738d64e83",
   "metadata": {},
   "source": [
    "<a id=\"run-te\"></a>\n",
    "## Process data using the Text Extraction service"
   ]
  },
  {
   "cell_type": "markdown",
   "id": "629b6e92699ab5f7",
   "metadata": {},
   "source": [
    "Initialize the Text Extraction service endpoint."
   ]
  },
  {
   "cell_type": "code",
   "execution_count": 33,
   "id": "ec363d7dd83678fe",
   "metadata": {
    "ExecuteTime": {
     "end_time": "2025-01-09T15:18:13.718252Z",
     "start_time": "2025-01-09T15:18:12.370183Z"
    },
    "id": "fbacb600-3fac-4360-a73b-acd3a22e4dc9"
   },
   "outputs": [],
   "source": [
    "from ibm_watsonx_ai.foundation_models.extractions import TextExtractions\n",
    "\n",
    "extraction = TextExtractions(\n",
    "    credentials=credentials,\n",
    "    space_id=SPACE_ID,\n",
    ")"
   ]
  },
  {
   "cell_type": "markdown",
   "id": "3ee3d5c200c3b3dd",
   "metadata": {},
   "source": [
    "Run a text extraction job for connections created in the previous step."
   ]
  },
  {
   "cell_type": "code",
   "execution_count": 34,
   "id": "dcc836b68a2db40a",
   "metadata": {
    "ExecuteTime": {
     "end_time": "2025-01-09T15:18:15.347001Z",
     "start_time": "2025-01-09T15:18:14.364135Z"
    },
    "id": "10c0ebab-37b0-4eea-b0e8-8be7f09f774a"
   },
   "outputs": [],
   "source": [
    "from ibm_watsonx_ai.metanames import TextExtractionsMetaNames\n",
    "\n",
    "response = extraction.run_job(\n",
    "    document_reference=input_data_reference,\n",
    "    results_reference=result_data_reference,\n",
    "    steps={\n",
    "        TextExtractionsMetaNames.OCR: {\n",
    "            \"process_image\": True,\n",
    "            \"languages_list\": [\"en\"],\n",
    "        },\n",
    "        TextExtractionsMetaNames.TABLE_PROCESSING: {\"enabled\": True},\n",
    "    },\n",
    "    results_format=\"markdown\",\n",
    ")\n",
    "\n",
    "job_id = response['metadata']['id']"
   ]
  },
  {
   "cell_type": "markdown",
   "id": "ca63ff5343081559",
   "metadata": {},
   "source": [
    "Wait for the job to be complete."
   ]
  },
  {
   "cell_type": "code",
   "execution_count": 35,
   "id": "9a933380bd5cfc36",
   "metadata": {
    "ExecuteTime": {
     "end_time": "2025-01-09T15:18:48.549914Z",
     "start_time": "2025-01-09T15:18:16.907951Z"
    },
    "id": "1ec0a420-d284-4577-8d55-8b11831f997d"
   },
   "outputs": [
    {
     "name": "stdout",
     "output_type": "stream",
     "text": [
      "Job completed successfully, details: {\n",
      "  \"entity\": {\n",
      "    \"document_reference\": {\n",
      "      \"connection\": {\n",
      "        \"id\": \"ba5a6803-15e9-4949-a88e-e4d5be84712d\"\n",
      "      },\n",
      "      \"location\": {\n",
      "        \"bucket\": \"autoai-rag-with-text-extraction-experiment\",\n",
      "        \"file_name\": \"granite_code_models_paper.pdf\"\n",
      "      },\n",
      "      \"type\": \"connection_asset\"\n",
      "    },\n",
      "    \"results\": {\n",
      "      \"completed_at\": \"2025-01-09T15:18:43.682Z\",\n",
      "      \"number_pages_processed\": 28,\n",
      "      \"running_at\": \"2025-01-09T15:18:16.998Z\",\n",
      "      \"status\": \"completed\"\n",
      "    },\n",
      "    \"results_reference\": {\n",
      "      \"connection\": {\n",
      "        \"id\": \"ba5a6803-15e9-4949-a88e-e4d5be84712d\"\n",
      "      },\n",
      "      \"location\": {\n",
      "        \"bucket\": \"autoai-rag-with-text-extraction-experiment\",\n",
      "        \"file_name\": \"granite_code_models_paper.md\"\n",
      "      },\n",
      "      \"type\": \"connection_asset\"\n",
      "    },\n",
      "    \"steps\": {\n",
      "      \"ocr\": {\n",
      "        \"languages_list\": [\n",
      "          \"en\"\n",
      "        ]\n",
      "      },\n",
      "      \"tables_processing\": {\n",
      "        \"enabled\": true\n",
      "      }\n",
      "    }\n",
      "  },\n",
      "  \"metadata\": {\n",
      "    \"created_at\": \"2025-01-09T15:18:15.034Z\",\n",
      "    \"id\": \"e798ce5c-c1a8-48b9-b22d-e1a0b7be5e23\",\n",
      "    \"modified_at\": \"2025-01-09T15:18:43.740Z\",\n",
      "    \"space_id\": \"017a7971-1ddb-4dc0-a556-3f84229c4a07\"\n",
      "  }\n",
      "}\n"
     ]
    }
   ],
   "source": [
    "import json\n",
    "import time\n",
    "\n",
    "while True:\n",
    "    job_details = extraction.get_job_details(job_id)\n",
    "    status = job_details['entity']['results']['status']\n",
    "\n",
    "    if status == \"completed\":\n",
    "        print(\"Job completed successfully, details: {}\".format(json.dumps(job_details, indent=2)))\n",
    "        break\n",
    "\n",
    "    if status == \"failed\":\n",
    "        print(\"Job failed, details: {}. \\n Try to run job again.\".format(json.dumps(job_details, indent=2)))\n",
    "        break\n",
    "\n",
    "    time.sleep(10)"
   ]
  },
  {
   "cell_type": "markdown",
   "id": "7635ca019a2ace22",
   "metadata": {},
   "source": [
    "Get the text extraction result."
   ]
  },
  {
   "cell_type": "code",
   "execution_count": 36,
   "id": "15359c4bd8c91558",
   "metadata": {
    "ExecuteTime": {
     "end_time": "2025-01-09T15:18:49.269284Z",
     "start_time": "2025-01-09T15:18:48.566344Z"
    }
   },
   "outputs": [
    {
     "data": {
      "text/markdown": [
       "†Corresponding Authors \n",
       "\n",
       "Large Language Models (LLMs) trained on code are revolutionizing the software development process. Increasingly, code LLMs are being inte- grated into software development environments to improve the produc- tivity of human programmers, and LLM-based agents are beginning to show promise for handling complex tasks autonomously. Realizing the full potential of code LLMs requires a wide range of capabilities, including code generation, fixing bugs, explaining and documenting code, maintaining repositories, and more. In this work, we introduce the Granite series of decoder-only code models for code generative tasks, trained with code written in 116 programming languages. The Granite Code models family consists of models ranging in size from 3 to 34 billion parameters, suitable for applications ranging from complex application modernization tasks to on-device memory-constrained use cases. Evaluation on a comprehensive set of tasks demonstrates that Granite Code models consistently reaches state-of-the-art performance among available open-source code LLMs. The Granite Code model family was optimized for enterprise software devel- opment workflows and performs well across a range of coding tasks (e.g. code generation, fixing and explanation), making it a versatile “all around” code model. We release all our Granite Code models under an Apache 2.0 license for both research and commercial use. https://github.com/ibm-granite/granite-code-models \n",
       "\n",
       "# 1 Introduction \n",
       "\n",
       "Over the last several decades, software has been woven into the fabric of every aspect of our society. As demand for software development surges, it is more critical than ever to increase software development productivity, and LLMs provide promising path for augmenting human programmers. Prominent enterprise use cases for LLMs in software development productivity include code generation, code explanation, code fixing, unit test and documentation generation, application modernization, vulnerability detection, code translation, and more. \n",
       "\n",
       "Recent years have seen rapid progress in LLM’s ability to generate and manipulate code, and a range of models with impressive coding abilities are available today. Models range in 43.5 \n",
       "\n",
       "* 41.5\n",
       "\n",
       "\t+ 37.4\n",
       "\t+ 34.4\n",
       "\t+ 31.2\n",
       "\t+ 29.2\n",
       "\t\n",
       "\t\t- 29.0\n",
       "\t\t\n",
       "\t\t\t* 33.2\n",
       "\t\t\t* 18.9\n",
       "\t\t\t\n",
       "\t\t\t\t+ 19.\n",
       "\t\t\t\t\n",
       "\t\t\t\t\t- 21.3\n",
       "\t\t\t\t\t- 15.1 \n",
       "\t\t\t\t\t\t* 15.0\n",
       "\t\t\t\t\t- 29.6\n",
       "\t\t\t\t\t- 26.\n",
       "\t\t\t\t\t- 14.2\n",
       "\t\t\t\t\tO.\n",
       "\t\t\t\t\t- 7.\n",
       "\t\t\t\t\t\n",
       "\t\t\t\t\t\t* 8.9\n",
       "\t\t\t\t\t\t* 2.9\n",
       "\t\t\t\t+ 20.\n",
       "\t+ 15.0\n",
       "\t+ 13.4\n",
       "\t+ 13.5\n",
       "\t+ 13.9\n",
       "\t+ 12.4Generating Code \n",
       "\n",
       "Explaining Code \n",
       "\n",
       "Fixing Code \n",
       "\n",
       "Average \n",
       "\n",
       "O MistralAI/Mistral-7B W @ Meta/Llama-3-8B \n",
       "\n",
       "@) Google/Gemma-7B \n",
       "\n",
       "Meta/CodeLlama-7B @) Google/CodeGemma-7B @ IBM/Granite-8B-Code-Base W \n",
       "\n",
       "@ BigCode/StarCoder2-7B \n",
       "\n",
       "Apache 2.0 License \n",
       "\n",
       "\n",
       "\t+ 49.6\n",
       "* 41.6\n",
       "* 36.9\n",
       "* 37.9\n",
       "* 19.8\n",
       "* 40.9\n",
       "* 38.4\n",
       "\n",
       "29.1 | \n",
       "\n",
       "* 25.1\n",
       "\n",
       "21 \n",
       "\n",
       "* 41.9\n",
       "* 43.6\n",
       "* 5.8\n",
       "* 31.8\n",
       "* 25.3\n",
       "* 18.3\n",
       "* 13.7\n",
       "* 112.8\n",
       "\n",
       "Generating Code \n",
       "\n",
       "Explaining Code \n",
       "\n",
       "Fixing Code \n",
       "\n",
       "Average \n",
       "\n",
       "O MistralAI/Mistral-7B-Instruct-v0.2 \n",
       "\n",
       "@ Meta/CodeLlama-7B-Instru"
      ],
      "text/plain": [
       "<IPython.core.display.Markdown object>"
      ]
     },
     "metadata": {},
     "output_type": "display_data"
    }
   ],
   "source": [
    "from IPython.display import display, Markdown\n",
    "\n",
    "cos_client.download_file(\n",
    "    Bucket=cos_bucket_name,\n",
    "    Key=te_result_filename,\n",
    "    Filename=te_result_filename\n",
    ")\n",
    "\n",
    "with open(te_result_filename, 'r', encoding='utf-8') as file:\n",
    "    # Display beginning of the result file\n",
    "    display(Markdown((file.read()[:3000])))"
   ]
  },
  {
   "cell_type": "markdown",
   "id": "ce5b2ba9ba5f967",
   "metadata": {},
   "source": [
    "<a id=\"prepare-autorag\"></a>\n",
    "## Prepare data and connections for the AutoAI RAG experiment"
   ]
  },
  {
   "cell_type": "markdown",
   "id": "63872845c85d401d",
   "metadata": {},
   "source": [
    "Upload a `json` file to use for benchmarking to COS and define a connection to this file. \n",
    "\n",
    "Note: `correct_answer_document_ids` must refer to the document processed by text extraction service, not the initial document."
   ]
  },
  {
   "cell_type": "code",
   "execution_count": 37,
   "id": "7491bef8c96b7040",
   "metadata": {
    "ExecuteTime": {
     "end_time": "2025-01-09T15:20:47.702283Z",
     "start_time": "2025-01-09T15:20:47.699273Z"
    },
    "id": "e399f617-9515-48d7-a38c-e66c8116dc34"
   },
   "outputs": [],
   "source": [
    "benchmarking_data = [\n",
    "     {\n",
    "        \"question\": \"What are the two main variants of Granite Code models?\",\n",
    "        \"correct_answer\": \"The two main variants are Granite Code Base and Granite Code Instruct.\",\n",
    "        \"correct_answer_document_ids\": [te_result_filename]\n",
    "     },\n",
    "     {\n",
    "        \"question\": \"What is the purpose of Granite Code Instruct models?\",\n",
    "        \"correct_answer\": \"Granite Code Instruct models are finetuned for instruction-following tasks using datasets like CommitPack, OASST, HelpSteer, and synthetic code instruction datasets, aiming to improve reasoning and instruction-following capabilities.\",\n",
    "        \"correct_answer_document_ids\": [te_result_filename]\n",
    "     },\n",
    "     {\n",
    "        \"question\": \"What is the licensing model for Granite Code models?\",\n",
    "        \"correct_answer\": \"Granite Code models are released under the Apache 2.0 license, ensuring permissive and enterprise-friendly usage.\",\n",
    "        \"correct_answer_document_ids\": [te_result_filename]\n",
    "     },\n",
    "]"
   ]
  },
  {
   "cell_type": "code",
   "execution_count": 38,
   "id": "c0e92e1d32467d6f",
   "metadata": {
    "ExecuteTime": {
     "end_time": "2025-01-09T15:20:48.687662Z",
     "start_time": "2025-01-09T15:20:48.178141Z"
    },
    "id": "008a8db8-b1d2-42f8-9f25-1861d1ea4771"
   },
   "outputs": [],
   "source": [
    "import os\n",
    "\n",
    "test_filename = \"benchmark.json\"\n",
    "\n",
    "if not os.path.isfile(test_filename):\n",
    "    with open(test_filename, \"w\") as json_file:\n",
    "        json.dump(benchmarking_data, json_file, indent=4)\n",
    "\n",
    "cos_client.upload_file(test_filename, cos_bucket_name, test_filename)"
   ]
  },
  {
   "cell_type": "markdown",
   "id": "1a15c37edb8aa736",
   "metadata": {},
   "source": [
    "Test the data connection."
   ]
  },
  {
   "cell_type": "code",
   "execution_count": 39,
   "id": "a5fd521450aa575d",
   "metadata": {
    "ExecuteTime": {
     "end_time": "2025-01-09T15:20:50.372300Z",
     "start_time": "2025-01-09T15:20:50.369900Z"
    },
    "id": "49237e6c-aa57-459a-a9b8-99bc00c29573"
   },
   "outputs": [],
   "source": [
    "test_data_reference = DataConnection(\n",
    "    connection_asset_id=cos_connection_id,\n",
    "    location=S3Location(bucket=cos_bucket_name, path=test_filename),\n",
    ")\n",
    "test_data_reference.set_client(client)\n",
    "\n",
    "test_data_references = [test_data_reference]"
   ]
  },
  {
   "cell_type": "markdown",
   "id": "bcc6c6b167fe11fd",
   "metadata": {},
   "source": [
    "Use the reference to the Text Extraction job result as input for the AutoAI RAG experiment."
   ]
  },
  {
   "cell_type": "code",
   "execution_count": 40,
   "id": "4451ab741f192d94",
   "metadata": {
    "ExecuteTime": {
     "end_time": "2025-01-09T15:20:51.336293Z",
     "start_time": "2025-01-09T15:20:51.334349Z"
    },
    "id": "eb86615c-5d19-46e1-8179-9af89eaf0d58"
   },
   "outputs": [],
   "source": [
    "input_data_references = [result_data_reference]"
   ]
  },
  {
   "cell_type": "markdown",
   "id": "5af97452ce3a4da6",
   "metadata": {},
   "source": [
    "<a id=\"run-autorag\"></a>\n",
    "# Run the AutoAI RAG experiment\n",
    "\n",
    "Provide the input information for AutoAI RAG optimizer:\n",
    "- `name` - experiment name\n",
    "- `description` - experiment description\n",
    "- `max_number_of_rag_patterns` - maximum number of RAG patterns to create\n",
    "- `optimization_metrics` - target optimization metrics"
   ]
  },
  {
   "cell_type": "code",
   "execution_count": 41,
   "id": "619457e9a66bcc24",
   "metadata": {
    "ExecuteTime": {
     "end_time": "2025-01-09T15:20:55.393763Z",
     "start_time": "2025-01-09T15:20:53.462724Z"
    },
    "id": "089a0f87-c462-4873-9e86-e2f44e5f5ffd"
   },
   "outputs": [],
   "source": [
    "from ibm_watsonx_ai.experiment import AutoAI\n",
    "\n",
    "experiment = AutoAI(credentials, space_id=SPACE_ID)\n",
    "\n",
    "rag_optimizer = experiment.rag_optimizer(\n",
    "    name='AutoAI RAG - Text Extraction service experiment',\n",
    "    description = \"AutoAI RAG experiment on documents generated by text extraction service\",\n",
    "    max_number_of_rag_patterns=5,\n",
    "    optimization_metrics=['answer_correctness']\n",
    ")"
   ]
  },
  {
   "cell_type": "markdown",
   "id": "eebec0a74b713ef7",
   "metadata": {},
   "source": [
    "Call the `run()` method to trigger the AutoAI RAG experiment. Choose one of two modes: \n",
    "\n",
    "- To use the **interactive mode** (synchronous job), specify `background_mode=False` \n",
    "- To use the **background mode** (asynchronous job), specify `background_mode=True`"
   ]
  },
  {
   "cell_type": "code",
   "execution_count": 51,
   "id": "aa3fc7d25f0cf32f",
   "metadata": {
    "ExecuteTime": {
     "end_time": "2025-01-09T15:42:37.566687Z",
     "start_time": "2025-01-09T15:39:11.085027Z"
    }
   },
   "outputs": [
    {
     "name": "stdout",
     "output_type": "stream",
     "text": [
      "\n",
      "\n",
      "##############################################\n",
      "\n",
      "Running 'c8aa6019-c9c5-42da-a082-e2ea741e980e'\n",
      "\n",
      "##############################################\n",
      "\n",
      "\n",
      "pending.....\n",
      "running.........................\n",
      "completed\n",
      "Training of 'c8aa6019-c9c5-42da-a082-e2ea741e980e' finished successfully.\n"
     ]
    }
   ],
   "source": [
    "rag_optimizer.run(\n",
    "    input_data_references=input_data_references,\n",
    "    test_data_references=test_data_references,\n",
    "    background_mode=False\n",
    ");"
   ]
  },
  {
   "cell_type": "markdown",
   "id": "4563ecfaed85b633",
   "metadata": {},
   "source": [
    "<a id=\"comparison\"></a>\n",
    "## Compare and test of RAG Patterns\n",
    "\n",
    "You can list the trained patterns and information on evaluation metrics in the form of a Pandas DataFrame by calling the `summary()` method. You can use the DataFrame to compare all discovered patterns and select the one you like for further testing."
   ]
  },
  {
   "cell_type": "code",
   "execution_count": 52,
   "id": "dc2a28877f1459e6",
   "metadata": {
    "ExecuteTime": {
     "end_time": "2025-01-09T15:43:10.039483Z",
     "start_time": "2025-01-09T15:43:10.032861Z"
    }
   },
   "outputs": [
    {
     "data": {
      "text/html": [
       "<div>\n",
       "<style scoped>\n",
       "    .dataframe tbody tr th:only-of-type {\n",
       "        vertical-align: middle;\n",
       "    }\n",
       "\n",
       "    .dataframe tbody tr th {\n",
       "        vertical-align: top;\n",
       "    }\n",
       "\n",
       "    .dataframe thead th {\n",
       "        text-align: right;\n",
       "    }\n",
       "</style>\n",
       "<table border=\"1\" class=\"dataframe\">\n",
       "  <thead>\n",
       "    <tr style=\"text-align: right;\">\n",
       "      <th></th>\n",
       "      <th>mean_answer_correctness</th>\n",
       "      <th>mean_faithfulness</th>\n",
       "      <th>mean_context_correctness</th>\n",
       "      <th>chunking.chunk_size</th>\n",
       "      <th>embeddings.model_id</th>\n",
       "      <th>vector_store.distance_metric</th>\n",
       "      <th>retrieval.method</th>\n",
       "      <th>retrieval.number_of_chunks</th>\n",
       "      <th>generation.model_id</th>\n",
       "    </tr>\n",
       "    <tr>\n",
       "      <th>Pattern_Name</th>\n",
       "      <th></th>\n",
       "      <th></th>\n",
       "      <th></th>\n",
       "      <th></th>\n",
       "      <th></th>\n",
       "      <th></th>\n",
       "      <th></th>\n",
       "      <th></th>\n",
       "      <th></th>\n",
       "    </tr>\n",
       "  </thead>\n",
       "  <tbody>\n",
       "    <tr>\n",
       "      <th>Pattern2</th>\n",
       "      <td>0.7813</td>\n",
       "      <td>0.7882</td>\n",
       "      <td>1.0</td>\n",
       "      <td>1024</td>\n",
       "      <td>intfloat/multilingual-e5-large</td>\n",
       "      <td>euclidean</td>\n",
       "      <td>window</td>\n",
       "      <td>5</td>\n",
       "      <td>meta-llama/llama-3-70b-instruct</td>\n",
       "    </tr>\n",
       "    <tr>\n",
       "      <th>Pattern4</th>\n",
       "      <td>0.7566</td>\n",
       "      <td>0.8904</td>\n",
       "      <td>1.0</td>\n",
       "      <td>1024</td>\n",
       "      <td>intfloat/multilingual-e5-large</td>\n",
       "      <td>cosine</td>\n",
       "      <td>window</td>\n",
       "      <td>5</td>\n",
       "      <td>mistralai/mixtral-8x7b-instruct-v01</td>\n",
       "    </tr>\n",
       "    <tr>\n",
       "      <th>Pattern1</th>\n",
       "      <td>0.7207</td>\n",
       "      <td>0.7074</td>\n",
       "      <td>1.0</td>\n",
       "      <td>512</td>\n",
       "      <td>ibm/slate-125m-english-rtrvr</td>\n",
       "      <td>euclidean</td>\n",
       "      <td>window</td>\n",
       "      <td>5</td>\n",
       "      <td>mistralai/mixtral-8x7b-instruct-v01</td>\n",
       "    </tr>\n",
       "    <tr>\n",
       "      <th>Pattern5</th>\n",
       "      <td>0.7196</td>\n",
       "      <td>0.9690</td>\n",
       "      <td>1.0</td>\n",
       "      <td>1024</td>\n",
       "      <td>intfloat/multilingual-e5-large</td>\n",
       "      <td>cosine</td>\n",
       "      <td>window</td>\n",
       "      <td>3</td>\n",
       "      <td>ibm/granite-13b-chat-v2</td>\n",
       "    </tr>\n",
       "    <tr>\n",
       "      <th>Pattern3</th>\n",
       "      <td>0.6731</td>\n",
       "      <td>0.5211</td>\n",
       "      <td>1.0</td>\n",
       "      <td>1024</td>\n",
       "      <td>intfloat/multilingual-e5-large</td>\n",
       "      <td>euclidean</td>\n",
       "      <td>simple</td>\n",
       "      <td>5</td>\n",
       "      <td>meta-llama/llama-3-70b-instruct</td>\n",
       "    </tr>\n",
       "  </tbody>\n",
       "</table>\n",
       "</div>"
      ],
      "text/plain": [
       "              mean_answer_correctness  mean_faithfulness  \\\n",
       "Pattern_Name                                               \n",
       "Pattern2                       0.7813             0.7882   \n",
       "Pattern4                       0.7566             0.8904   \n",
       "Pattern1                       0.7207             0.7074   \n",
       "Pattern5                       0.7196             0.9690   \n",
       "Pattern3                       0.6731             0.5211   \n",
       "\n",
       "              mean_context_correctness  chunking.chunk_size  \\\n",
       "Pattern_Name                                                  \n",
       "Pattern2                           1.0                 1024   \n",
       "Pattern4                           1.0                 1024   \n",
       "Pattern1                           1.0                  512   \n",
       "Pattern5                           1.0                 1024   \n",
       "Pattern3                           1.0                 1024   \n",
       "\n",
       "                         embeddings.model_id vector_store.distance_metric  \\\n",
       "Pattern_Name                                                                \n",
       "Pattern2      intfloat/multilingual-e5-large                    euclidean   \n",
       "Pattern4      intfloat/multilingual-e5-large                       cosine   \n",
       "Pattern1        ibm/slate-125m-english-rtrvr                    euclidean   \n",
       "Pattern5      intfloat/multilingual-e5-large                       cosine   \n",
       "Pattern3      intfloat/multilingual-e5-large                    euclidean   \n",
       "\n",
       "             retrieval.method  retrieval.number_of_chunks  \\\n",
       "Pattern_Name                                                \n",
       "Pattern2               window                           5   \n",
       "Pattern4               window                           5   \n",
       "Pattern1               window                           5   \n",
       "Pattern5               window                           3   \n",
       "Pattern3               simple                           5   \n",
       "\n",
       "                              generation.model_id  \n",
       "Pattern_Name                                       \n",
       "Pattern2          meta-llama/llama-3-70b-instruct  \n",
       "Pattern4      mistralai/mixtral-8x7b-instruct-v01  \n",
       "Pattern1      mistralai/mixtral-8x7b-instruct-v01  \n",
       "Pattern5                  ibm/granite-13b-chat-v2  \n",
       "Pattern3          meta-llama/llama-3-70b-instruct  "
      ]
     },
     "execution_count": 52,
     "metadata": {},
     "output_type": "execute_result"
    }
   ],
   "source": [
    "summary = rag_optimizer.summary()\n",
    "summary"
   ]
  },
  {
   "cell_type": "markdown",
   "id": "dd2f1b669bfa61df",
   "metadata": {},
   "source": [
    "### Get the selected pattern\n",
    "\n",
    "Get the RAGPattern object from the RAG Optimizer experiment. By default, the RAGPattern of the best pattern is returned."
   ]
  },
  {
   "cell_type": "code",
   "execution_count": 55,
   "id": "e423064a26b8f02e",
   "metadata": {
    "ExecuteTime": {
     "end_time": "2025-01-09T15:43:21.184717Z",
     "start_time": "2025-01-09T15:43:16.112583Z"
    }
   },
   "outputs": [
    {
     "name": "stdout",
     "output_type": "stream",
     "text": [
      "Best pattern is: Pattern2\n"
     ]
    }
   ],
   "source": [
    "best_pattern_name = summary.index.values[0]\n",
    "print('Best pattern is:', best_pattern_name)\n",
    "\n",
    "best_pattern = rag_optimizer.get_pattern()"
   ]
  },
  {
   "cell_type": "code",
   "execution_count": 56,
   "id": "4cb7325de0524ebc",
   "metadata": {
    "ExecuteTime": {
     "end_time": "2025-01-09T15:43:23.819629Z",
     "start_time": "2025-01-09T15:43:23.816088Z"
    }
   },
   "outputs": [
    {
     "data": {
      "text/plain": [
       "{'composition_steps': ['chunking',\n",
       "  'embeddings',\n",
       "  'vector_store',\n",
       "  'retrieval',\n",
       "  'generation'],\n",
       " 'duration_seconds': 13,\n",
       " 'location': {'evaluation_results': 'default_autoai_rag_out/c8aa6019-c9c5-42da-a082-e2ea741e980e/Pattern2/evaluation_results.json',\n",
       "  'indexing_notebook': 'default_autoai_rag_out/c8aa6019-c9c5-42da-a082-e2ea741e980e/Pattern2/indexing_inference_notebook.ipynb',\n",
       "  'inference_notebook': 'default_autoai_rag_out/c8aa6019-c9c5-42da-a082-e2ea741e980e/Pattern2/indexing_inference_notebook.ipynb'},\n",
       " 'name': 'Pattern2',\n",
       " 'settings': {'chunking': {'chunk_overlap': 256,\n",
       "   'chunk_size': 1024,\n",
       "   'method': 'recursive'},\n",
       "  'embeddings': {'model_id': 'intfloat/multilingual-e5-large',\n",
       "   'truncate_input_tokens': 512,\n",
       "   'truncate_strategy': 'left'},\n",
       "  'generation': {'context_template_text': '{document}',\n",
       "   'model_id': 'meta-llama/llama-3-70b-instruct',\n",
       "   'parameters': {'decoding_method': 'greedy',\n",
       "    'max_new_tokens': 1000,\n",
       "    'min_new_tokens': 1},\n",
       "   'prompt_template_text': '<|begin_of_text|><|start_header_id|>system<|end_header_id|>\\nYou are a helpful, respectful and honest assistant. Always answer as helpfully as possible, while being safe. Your answers should not include any harmful, unethical, racist, sexist, toxic, dangerous, or illegal content. Please ensure that your responses are socially unbiased and positive in nature.\\nIf a question does not make any sense, or is not factually coherent, explain why instead of answering something not correct. If you don’t know the answer to a question, please don’t share false information.\\n<|eot_id|><|start_header_id|>user<|end_header_id|>\\n{reference_documents}\\n[conversation]: {question}. Answer with no more than 150 words.  If you cannot base your answer on the given document, please state that you do not have an answer.<|eot_id|>\\n<|start_header_id|>assistant<|end_header_id|>'},\n",
       "  'retrieval': {'method': 'window', 'number_of_chunks': 5, 'window_size': 2},\n",
       "  'vector_store': {'datasource_type': 'chroma',\n",
       "   'distance_metric': 'euclidean',\n",
       "   'index_name': 'autoai_rag_c8aa6019_20250109154049',\n",
       "   'operation': 'upsert',\n",
       "   'schema': {'fields': [{'description': 'text field',\n",
       "      'name': 'text',\n",
       "      'role': 'text',\n",
       "      'type': 'string'},\n",
       "     {'description': 'document name field',\n",
       "      'name': 'document_id',\n",
       "      'role': 'document_name',\n",
       "      'type': 'string'},\n",
       "     {'description': 'chunk starting token position in the source document',\n",
       "      'name': 'start_index',\n",
       "      'role': 'start_index',\n",
       "      'type': 'number'},\n",
       "     {'description': 'chunk number per document',\n",
       "      'name': 'sequence_number',\n",
       "      'role': 'sequence_number',\n",
       "      'type': 'number'},\n",
       "     {'description': 'vector embeddings',\n",
       "      'name': 'vector',\n",
       "      'role': 'vector_embeddings',\n",
       "      'type': 'array'}],\n",
       "    'id': 'autoai_rag_1.0',\n",
       "    'name': 'Document schema using open-source loaders',\n",
       "    'type': 'struct'}}}}"
      ]
     },
     "execution_count": 56,
     "metadata": {},
     "output_type": "execute_result"
    }
   ],
   "source": [
    "rag_optimizer.get_pattern_details(pattern_name=best_pattern_name)"
   ]
  },
  {
   "cell_type": "markdown",
   "id": "3717292bbd09cd99",
   "metadata": {},
   "source": [
    "Test the RAGPattern by querying it locally."
   ]
  },
  {
   "cell_type": "code",
   "execution_count": 57,
   "id": "592456e149f2e372",
   "metadata": {
    "ExecuteTime": {
     "end_time": "2025-01-09T15:43:33.270994Z",
     "start_time": "2025-01-09T15:43:26.474640Z"
    },
    "id": "55347731-5421-4c10-ae4c-fe64d0ebd0ed"
   },
   "outputs": [],
   "source": [
    "questions = [\"Which industry players are mentioned as IBM’s strategic partners?\"]\n",
    "\n",
    "payload = {\n",
    "    client.deployments.ScoringMetaNames.INPUT_DATA: [\n",
    "        {\n",
    "            \"values\": questions,\n",
    "            \"access_token\": client.token\n",
    "        }\n",
    "    ]\n",
    "}\n",
    "\n",
    "resp = best_pattern.inference_function()(payload)"
   ]
  },
  {
   "cell_type": "code",
   "execution_count": 58,
   "id": "6a9c4abbcb4d316b",
   "metadata": {
    "ExecuteTime": {
     "end_time": "2025-01-09T15:43:33.278401Z",
     "start_time": "2025-01-09T15:43:33.276771Z"
    },
    "id": "34477967-8812-41bd-93ee-b967261bcef3"
   },
   "outputs": [
    {
     "name": "stdout",
     "output_type": "stream",
     "text": [
      "\n",
      "\n",
      "Based on the available information, IBM's strategic partners mentioned in the industry include:\n",
      "\n",
      "* Salesforce: A leading customer relationship management (CRM) platform provider, with which IBM has a global strategic partnership to deliver joint solutions for artificial intelligence, blockchain, and the Internet of Things (IoT).\n",
      "* Apple: A technology giant with which IBM has a partnership to develop enterprise mobility solutions, including iOS apps and IBM cloud services.\n",
      "* Red Hat: An open-source software provider acquired by IBM, which has enabled the company to expand its cloud capabilities and offer a hybrid cloud platform.\n",
      "* Box: A cloud content management platform provider with which IBM has a partnership to integrate its cloud storage and content management capabilities.\n",
      "\n",
      "Please note that this information may not be exhaustive, and there might be other strategic partners not mentioned here.\n"
     ]
    }
   ],
   "source": [
    "print(resp[\"predictions\"][0][\"values\"][0][0])"
   ]
  },
  {
   "cell_type": "markdown",
   "id": "6f2d80de4b2b1d60",
   "metadata": {},
   "source": [
    "### Deploy the RAGPattern\n",
    "\n",
    "Store the defined RAG function and create a deployed asset to deploy the RAGPattern."
   ]
  },
  {
   "cell_type": "code",
   "execution_count": 59,
   "id": "85769eb45d41892f",
   "metadata": {
    "ExecuteTime": {
     "end_time": "2025-01-09T15:44:02.586747Z",
     "start_time": "2025-01-09T15:43:33.300291Z"
    },
    "id": "6e9565b6-9937-4adb-b0a0-865293fa9d3a"
   },
   "outputs": [
    {
     "name": "stdout",
     "output_type": "stream",
     "text": [
      "\n",
      "\n",
      "######################################################################################\n",
      "\n",
      "Synchronous deployment creation for id: '9a0c710f-5e00-44b5-a22d-eec84e42fac9' started\n",
      "\n",
      "######################################################################################\n",
      "\n",
      "\n",
      "initializing\n",
      "Note: online_url and serving_urls are deprecated and will be removed in a future release. Use inference instead.\n",
      "...\n",
      "ready\n",
      "\n",
      "\n",
      "-----------------------------------------------------------------------------------------------\n",
      "Successfully finished deployment creation, deployment_id='7c9a9ec8-c0f9-43e2-b2e0-7cac7eccc8ca'\n",
      "-----------------------------------------------------------------------------------------------\n",
      "\n",
      "\n"
     ]
    }
   ],
   "source": [
    "deployment_details = best_pattern.deploy(\n",
    "    name=\"AutoAI RAG deployment - ibm_watsonx_ai documentataion\",\n",
    "    space_id=SPACE_ID\n",
    ")"
   ]
  },
  {
   "cell_type": "markdown",
   "id": "1ba0e83cfdbf9fa8",
   "metadata": {},
   "source": [
    "### Test the deployed function\n",
    "\n",
    "The RAG service is now deployed in the space. To test the solution, run the cell below. Questions have to be provided in the payload. Their format is provided below."
   ]
  },
  {
   "cell_type": "code",
   "execution_count": 60,
   "id": "ddf657bac40a25f0",
   "metadata": {
    "ExecuteTime": {
     "end_time": "2025-01-09T15:44:08.959582Z",
     "start_time": "2025-01-09T15:44:02.594917Z"
    },
    "id": "79f5e89f-d5a7-4454-98fd-45325b366dfd"
   },
   "outputs": [
    {
     "data": {
      "text/plain": [
       "{'predictions': [{'fields': ['answer', 'reference_documents'],\n",
       "   'values': [[\"\\n\\nBased on the available information, IBM's strategic partners mentioned in the industry include:\\n\\n* Salesforce: A leading customer relationship management (CRM) platform provider, with which IBM has a global strategic partnership to deliver joint solutions for artificial intelligence, blockchain, and the Internet of Things (IoT).\\n* Apple: A technology giant with which IBM has a partnership to develop enterprise mobility solutions, including iOS apps and IBM cloud services.\\n* Red Hat: An open-source software provider acquired by IBM, which has enabled the company to expand its cloud capabilities and offer a hybrid cloud platform.\\n* Box: A cloud content management platform provider with which IBM has a partnership to integrate its cloud storage and content management capabilities.\\n\\nPlease note that this information may not be exhaustive, and there might be other strategic partners not mentioned here.\",\n",
       "     []]]}]}"
      ]
     },
     "execution_count": 60,
     "metadata": {},
     "output_type": "execute_result"
    }
   ],
   "source": [
    "deployment_id = client.deployments.get_id(deployment_details)\n",
    "\n",
    "score_response = client.deployments.score(deployment_id, payload)\n",
    "score_response"
   ]
  },
  {
   "cell_type": "code",
   "execution_count": 61,
   "id": "db6e9ab2b9cd65d8",
   "metadata": {
    "ExecuteTime": {
     "end_time": "2025-01-09T15:44:08.972331Z",
     "start_time": "2025-01-09T15:44:08.970146Z"
    },
    "id": "0157dc60-b62d-4839-86fc-007c838ce66f"
   },
   "outputs": [
    {
     "name": "stdout",
     "output_type": "stream",
     "text": [
      "\n",
      "\n",
      "Based on the available information, IBM's strategic partners mentioned in the industry include:\n",
      "\n",
      "* Salesforce: A leading customer relationship management (CRM) platform provider, with which IBM has a global strategic partnership to deliver joint solutions for artificial intelligence, blockchain, and the Internet of Things (IoT).\n",
      "* Apple: A technology giant with which IBM has a partnership to develop enterprise mobility solutions, including iOS apps and IBM cloud services.\n",
      "* Red Hat: An open-source software provider acquired by IBM, which has enabled the company to expand its cloud capabilities and offer a hybrid cloud platform.\n",
      "* Box: A cloud content management platform provider with which IBM has a partnership to integrate its cloud storage and content management capabilities.\n",
      "\n",
      "Please note that this information may not be exhaustive, and there might be other strategic partners not mentioned here.\n"
     ]
    }
   ],
   "source": [
    "print(score_response[\"predictions\"][0][\"values\"][0][0])"
   ]
  },
  {
   "cell_type": "markdown",
   "id": "f7bfe92044e177db",
   "metadata": {},
   "source": [
    "<a id=\"summary\"></a>\n",
    "## Summary\n",
    "\n",
    " You successfully completed this notebook!\n",
    " \n",
    " You learned how to use AutoAI RAG with documents processed by the TextExtraction service.\n",
    " \n",
    "Check out our _<a href=\"https://ibm.github.io/watson-machine-learning-sdk/samples.html\" target=\"_blank\" rel=\"noopener no referrer\">Online Documentation</a>_ for more samples, tutorials, documentation, how-tos, and blog posts. "
   ]
  },
  {
   "cell_type": "markdown",
   "id": "3fc6379584dc38f4",
   "metadata": {},
   "source": [
    "### Author:\n",
    " **Witold Nowogórski**, Software Engineer at watsonx.ai."
   ]
  },
  {
   "cell_type": "markdown",
   "id": "8cc73dddba1afbbd",
   "metadata": {},
   "source": [
    "Copyright © 2025 IBM. This notebook and its source code are released under the terms of the MIT License."
   ]
  }
 ],
 "metadata": {
  "kernelspec": {
   "display_name": "Python 3.11",
   "language": "python",
   "name": "python3"
  },
  "language_info": {
   "codemirror_mode": {
    "name": "ipython",
    "version": 3
   },
   "file_extension": ".py",
   "mimetype": "text/x-python",
   "name": "python",
   "nbconvert_exporter": "python",
   "pygments_lexer": "ipython3",
   "version": "3.11.9"
  }
 },
 "nbformat": 4,
 "nbformat_minor": 5
}
