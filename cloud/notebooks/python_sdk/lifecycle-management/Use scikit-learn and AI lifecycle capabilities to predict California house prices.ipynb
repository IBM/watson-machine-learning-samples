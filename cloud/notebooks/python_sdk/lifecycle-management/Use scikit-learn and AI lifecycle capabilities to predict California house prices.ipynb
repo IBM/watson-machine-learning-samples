{
  "cells": [
    {
      "cell_type": "markdown",
      "metadata": {},
      "source": [
        "# Use scikit-learn and AI lifecycle capabilities to predict California house prices with `ibm-watsonx-ai`\n",
        "\n",
        "This notebook contains steps and code to demonstrate support of AI Lifecycle features in watsonx.ai Runtime service. It contains steps and code to work with [ibm-watsonx-ai](https://pypi.python.org/pypi/ibm-watsonx-ai) library available in PyPI repository. It also introduces commands for getting model and training data, persisting model, deploying model, scoring it, updating the model and redeploying it.\n",
        "\n",
        "Some familiarity with Python is helpful. This notebook uses Python 3.11."
      ]
    },
    {
      "cell_type": "markdown",
      "metadata": {},
      "source": [
        "## Learning goals\n",
        "\n",
        "The learning goals of this notebook are:\n",
        "\n",
        "-  Download an externally trained scikit-learn model with dataset.\n",
        "-  Persist an external model in watsonx.ai Runtime repository.\n",
        "-  Deploy model for online scoring using client library.\n",
        "-  Score sample records using client library.\n",
        "-  Update previously persisted model.\n",
        "-  Redeploy model in-place.\n",
        "-  Scale deployment.\n",
        "\n",
        "\n",
        "## Contents\n",
        "\n",
        "This notebook contains the following parts:\n",
        "\n",
        "1.  [Setup](#setup)\n",
        "2.  [Download externally created scikit model and data](#download)\n",
        "3.  [Persist externally created scikit model](#persistence)\n",
        "4.  [Deploy and score in a Cloud](#scoring)\n",
        "5.  [Persist new version of the model](#update_model)\n",
        "6.  [Redeploy new version of the model](#redeploy)\n",
        "7.  [Deployment scaling](#scale)\n",
        "8.  [Clean up](#cleanup)\n",
        "9.  [Summary and next steps](#summary)"
      ]
    },
    {
      "cell_type": "markdown",
      "metadata": {},
      "source": [
        "<a id=\"setup\"></a>\n",
        "## 1. Set up the environment\n",
        "\n",
        "Before you use the sample code in this notebook, you must perform the following setup tasks:\n",
        "\n",
        "-  Create a <a href=\"https://cloud.ibm.com/catalog/services/watsonxai-runtime\" target=\"_blank\" rel=\"noopener no referrer\">watsonx.ai Runtime Service</a> instance (a free plan is offered and information about how to create the instance can be found <a href=\"https://dataplatform.cloud.ibm.com/docs/content/wsj/getting-started/wml-plans.html?context=wx&audience=wdp\" target=\"_blank\" rel=\"noopener no referrer\">here</a>)."
      ]
    },
    {
      "cell_type": "markdown",
      "metadata": {},
      "source": [
        "### Install and import the `ibm-watsonx-ai` and dependencies\n",
        "**Note:** `ibm-watsonx-ai` documentation can be found <a href=\"https://ibm.github.io/watsonx-ai-python-sdk/index.html\" target=\"_blank\" rel=\"noopener no referrer\">here</a>."
      ]
    },
    {
      "cell_type": "code",
      "execution_count": 1,
      "metadata": {},
      "outputs": [
        {
          "name": "stdout",
          "output_type": "stream",
          "text": [
            "Successfully installed wget-3.2\n",
            "Successfully installed anyio-4.8.0 certifi-2025.1.31 charset-normalizer-3.4.1 h11-0.14.0 httpcore-1.0.7 httpx-0.28.1 ibm-cos-sdk-2.13.6 ibm-cos-sdk-core-2.13.6 ibm-cos-sdk-s3transfer-2.13.6 ibm-watsonx-ai-1.2.8 idna-3.10 jmespath-1.0.1 lomond-0.3.3 numpy-1.26.4 pandas-2.1.4 pytz-2025.1 requests-2.32.2 sniffio-1.3.1 tabulate-0.9.0 tzdata-2025.1 urllib3-2.3.0\n",
            "Successfully installed joblib-1.4.2 scikit-learn-1.3.2 scipy-1.15.2 threadpoolctl-3.5.0\n"
          ]
        }
      ],
      "source": [
        "%pip install wget | tail -n 1\n",
        "%pip install -U ibm-watsonx-ai | tail -n 1\n",
        "%pip install \"scikit-learn==1.3.2\" | tail -n 1"
      ]
    },
    {
      "cell_type": "markdown",
      "metadata": {},
      "source": [
        "### Connection to watsonx.ai Runtime\n",
        "\n",
        "Authenticate the watsonx.ai Runtime service on IBM Cloud. You need to provide platform `api_key` and instance `location`.\n",
        "\n",
        "You can use [IBM Cloud CLI](https://cloud.ibm.com/docs/cli/index.html) to retrieve platform API Key and instance location.\n",
        "\n",
        "API Key can be generated in the following way:\n",
        "```\n",
        "ibmcloud login\n",
        "ibmcloud iam api-key-create API_KEY_NAME\n",
        "```\n",
        "\n",
        "In result, get the value of `api_key` from the output.\n",
        "\n",
        "\n",
        "Location of your watsonx.ai Runtime instance can be retrieved in the following way:\n",
        "```\n",
        "ibmcloud login --apikey API_KEY -a https://cloud.ibm.com\n",
        "ibmcloud resource service-instance INSTANCE_NAME\n",
        "```\n",
        "\n",
        "In result, get the value of `location` from the output."
      ]
    },
    {
      "cell_type": "markdown",
      "metadata": {},
      "source": [
        "**Tip**: Your `Cloud API key` can be generated by going to the [**Users** section of the Cloud console](https://cloud.ibm.com/iam#/users). From that page, click your name, scroll down to the **API Keys** section, and click **Create an IBM Cloud API key**. Give your key a name and click **Create**, then copy the created key and paste it below. You can also get a service specific url by going to the [**Endpoint URLs** section of the watsonx.ai Runtime docs](https://cloud.ibm.com/apidocs/machine-learning).  You can check your instance location in your  <a href=\"https://cloud.ibm.com/catalog/services/watsonxai-runtime\" target=\"_blank\" rel=\"noopener no referrer\">watsonx.ai Runtime Service</a> instance details.\n",
        "\n",
        "You can also get service specific apikey by going to the [**Service IDs** section of the Cloud Console](https://cloud.ibm.com/iam/serviceids).  From that page, click **Create**, then copy the created key and paste it below.\n",
        "\n",
        "**Action**: Enter your `api_key` and `location` in the following cell."
      ]
    },
    {
      "cell_type": "code",
      "execution_count": 2,
      "metadata": {},
      "outputs": [],
      "source": [
        "import getpass\n",
        "\n",
        "api_key = getpass.getpass(\"Enter your watsonx.ai API key and hit enter: \")\n",
        "location = \"PASTE YOUR INSTANCE LOCATION HERE\""
      ]
    },
    {
      "cell_type": "code",
      "execution_count": 3,
      "metadata": {},
      "outputs": [],
      "source": [
        "from ibm_watsonx_ai import Credentials\n",
        "\n",
        "credentials = Credentials(\n",
        "    api_key=api_key,\n",
        "    url=\"https://\" + location + \".ml.cloud.ibm.com\"\n",
        ")"
      ]
    },
    {
      "cell_type": "code",
      "execution_count": 4,
      "metadata": {},
      "outputs": [],
      "source": [
        "from ibm_watsonx_ai import APIClient\n",
        "\n",
        "client = APIClient(credentials)"
      ]
    },
    {
      "cell_type": "markdown",
      "metadata": {},
      "source": [
        "### Working with spaces\n",
        "\n",
        "First of all, you need to create a space that will be used for your work. If you do not have space already created, you can use [Deployment Spaces Dashboard](https://dataplatform.cloud.ibm.com/ml-runtime/spaces?context=wx) to create one.\n",
        "\n",
        "- Click New Deployment Space\n",
        "- Create an empty space\n",
        "- Select Cloud Object Storage\n",
        "- Select watsonx.ai Runtime instance and press Create\n",
        "- Copy `space_id` and paste it below\n",
        "\n",
        "**Tip**: You can also use SDK to prepare the space for your work. More information can be found [here](https://github.com/IBM/watson-machine-learning-samples/blob/master/cloud/notebooks/python_sdk/instance-management/Space%20management.ipynb).\n",
        "\n",
        "**Action**: Assign space ID below"
      ]
    },
    {
      "cell_type": "code",
      "execution_count": 5,
      "metadata": {},
      "outputs": [],
      "source": [
        "space_id = \"PASTE YOUR SPACE ID HERE\""
      ]
    },
    {
      "cell_type": "markdown",
      "metadata": {},
      "source": [
        "You can use `list` method to print all existing spaces."
      ]
    },
    {
      "cell_type": "code",
      "execution_count": null,
      "metadata": {},
      "outputs": [],
      "source": [
        "client.spaces.list(limit=10)"
      ]
    },
    {
      "cell_type": "markdown",
      "metadata": {},
      "source": [
        "To be able to interact with all resources available in watsonx.ai Runtime, you need to set **space** which you will be using."
      ]
    },
    {
      "cell_type": "code",
      "execution_count": 6,
      "metadata": {},
      "outputs": [
        {
          "data": {
            "text/plain": [
              "'SUCCESS'"
            ]
          },
          "execution_count": 6,
          "metadata": {},
          "output_type": "execute_result"
        }
      ],
      "source": [
        "client.set.default_space(space_id)"
      ]
    },
    {
      "cell_type": "markdown",
      "metadata": {
        "pycharm": {
          "name": "#%% md\n"
        }
      },
      "source": [
        "<a id=\"download\"></a>\n",
        "## 2. Download externally created scikit model and data\n",
        "In this section, you will download externally created scikit models and data used for training it."
      ]
    },
    {
      "cell_type": "code",
      "execution_count": 7,
      "metadata": {
        "pycharm": {
          "is_executing": false,
          "name": "#%%\n"
        }
      },
      "outputs": [],
      "source": [
        "import os\n",
        "import wget\n",
        "\n",
        "data_dir = \"CALIFORNIA_HOUSE_PRICES_DATA\"\n",
        "if not os.path.isdir(data_dir):\n",
        "    os.mkdir(data_dir)\n",
        "\n",
        "model_path = os.path.join(data_dir, \"california_house_prices_model.tar.gz\")\n",
        "updated_model_path = os.path.join(data_dir, \"updated_california_house_prices_model.tar.gz\")\n",
        "\n",
        "if not os.path.isfile(model_path):\n",
        "    wget.download(\"https://github.com/IBM/watsonx-ai-samples/raw/master/cloud/models/scikit/california_house_prices/model/california_house_prices_model.tar.gz\", out=data_dir)\n",
        "if not os.path.isfile(updated_model_path):\n",
        "    wget.download(\"https://github.com/IBM/watsonx-ai-samples/raw/master/cloud/models/scikit/california_house_prices/model/updated_california_house_prices_model.tar.gz\", out=data_dir)"
      ]
    },
    {
      "cell_type": "code",
      "execution_count": 8,
      "metadata": {},
      "outputs": [],
      "source": [
        "import pandas as pd\n",
        "from sklearn import datasets\n",
        "\n",
        "california_data = datasets.fetch_california_housing(as_frame=True)\n",
        "train_df: pd.DataFrame = california_data.frame\n",
        "test_df: pd.DataFrame = california_data.data"
      ]
    },
    {
      "cell_type": "markdown",
      "metadata": {},
      "source": [
        "<a id=\"persistence\"></a>\n",
        "## 3. Persist externally created scikit model"
      ]
    },
    {
      "cell_type": "markdown",
      "metadata": {},
      "source": [
        "In this section, you will learn how to store your model in watsonx.ai Runtime repository by using the watsonx.ai Client."
      ]
    },
    {
      "cell_type": "markdown",
      "metadata": {},
      "source": [
        "### 3.1: Publish model"
      ]
    },
    {
      "cell_type": "markdown",
      "metadata": {},
      "source": [
        "#### Publish model in watsonx.ai Runtime repository on Cloud."
      ]
    },
    {
      "cell_type": "markdown",
      "metadata": {},
      "source": [
        "Define model name, author name and email."
      ]
    },
    {
      "cell_type": "code",
      "execution_count": 9,
      "metadata": {
        "pycharm": {
          "is_executing": false,
          "name": "#%%\n"
        }
      },
      "outputs": [],
      "source": [
        "sofware_spec_id = client.software_specifications.get_id_by_name(\"runtime-24.1-py3.11\")"
      ]
    },
    {
      "cell_type": "code",
      "execution_count": 10,
      "metadata": {
        "pycharm": {
          "is_executing": false,
          "name": "#%%\n"
        }
      },
      "outputs": [],
      "source": [
        "metadata = {\n",
        "    client.repository.ModelMetaNames.NAME: \"External scikit model\",\n",
        "    client.repository.ModelMetaNames.TYPE: \"scikit-learn_1.3\",\n",
        "    client.repository.ModelMetaNames.SOFTWARE_SPEC_ID: sofware_spec_id\n",
        "}\n",
        "\n",
        "published_model = client.repository.store_model(\n",
        "    model=model_path,\n",
        "    meta_props=metadata,\n",
        "    training_data=train_df\n",
        ")"
      ]
    },
    {
      "cell_type": "markdown",
      "metadata": {},
      "source": [
        "### 3.2: Get model details"
      ]
    },
    {
      "cell_type": "code",
      "execution_count": 11,
      "metadata": {
        "pycharm": {
          "is_executing": false,
          "name": "#%%\n"
        }
      },
      "outputs": [
        {
          "name": "stdout",
          "output_type": "stream",
          "text": [
            "{\n",
            "  \"entity\": {\n",
            "    \"hybrid_pipeline_software_specs\": [],\n",
            "    \"software_spec\": {\n",
            "      \"id\": \"45f12dfe-aa78-5b8d-9f38-0ee223c47309\",\n",
            "      \"name\": \"runtime-24.1-py3.11\"\n",
            "    },\n",
            "    \"type\": \"scikit-learn_1.3\"\n",
            "  },\n",
            "  \"metadata\": {\n",
            "    \"created_at\": \"2025-02-21T10:31:50.012Z\",\n",
            "    \"id\": \"48a0bb9b-c283-4eb0-8b73-5e0f1da0cd3a\",\n",
            "    \"modified_at\": \"2025-02-21T10:32:00.720Z\",\n",
            "    \"name\": \"External scikit model\",\n",
            "    \"owner\": \"IBMid-696000GJGB\",\n",
            "    \"resource_key\": \"ed6e17cf-e1c3-4447-8d71-74a374c3cf18\",\n",
            "    \"space_id\": \"0a20f52a-d5b2-4d22-bfeb-191afc5ab561\"\n",
            "  },\n",
            "  \"system\": {\n",
            "    \"warnings\": []\n",
            "  }\n",
            "}\n"
          ]
        }
      ],
      "source": [
        "import json\n",
        "\n",
        "published_model_id = client.repository.get_model_id(published_model)\n",
        "model_details = client.repository.get_details(published_model_id)\n",
        "print(json.dumps(model_details, indent=2))"
      ]
    },
    {
      "cell_type": "markdown",
      "metadata": {},
      "source": [
        "### 3.3 Get all models"
      ]
    },
    {
      "cell_type": "code",
      "execution_count": 12,
      "metadata": {
        "pycharm": {
          "is_executing": false,
          "name": "#%%\n"
        }
      },
      "outputs": [],
      "source": [
        "models_details = client.repository.list_models(limit=10)"
      ]
    },
    {
      "cell_type": "markdown",
      "metadata": {},
      "source": [
        "<a id=\"scoring\"></a>\n",
        "## 4. Deploy and score in a Cloud"
      ]
    },
    {
      "cell_type": "markdown",
      "metadata": {},
      "source": [
        "In this section you will learn how to create online scoring and to score a new data record by using the watsonx.ai Client."
      ]
    },
    {
      "cell_type": "markdown",
      "metadata": {},
      "source": [
        "### 4.1: Create model deployment"
      ]
    },
    {
      "cell_type": "markdown",
      "metadata": {},
      "source": [
        "#### Create online deployment for published model"
      ]
    },
    {
      "cell_type": "code",
      "execution_count": 13,
      "metadata": {
        "pycharm": {
          "is_executing": false,
          "name": "#%%\n"
        }
      },
      "outputs": [
        {
          "name": "stdout",
          "output_type": "stream",
          "text": [
            "\n",
            "\n",
            "######################################################################################\n",
            "\n",
            "Synchronous deployment creation for id: '48a0bb9b-c283-4eb0-8b73-5e0f1da0cd3a' started\n",
            "\n",
            "######################################################################################\n",
            "\n",
            "\n",
            "initializing\n",
            "\n",
            "ready\n",
            "\n",
            "\n",
            "-----------------------------------------------------------------------------------------------\n",
            "Successfully finished deployment creation, deployment_id='2ac2960c-9677-4acb-a65f-6403da574f96'\n",
            "-----------------------------------------------------------------------------------------------\n",
            "\n",
            "\n"
          ]
        }
      ],
      "source": [
        "metadata = {\n",
        "    client.deployments.ConfigurationMetaNames.NAME: \"Deployment of external scikit model\",\n",
        "    client.deployments.ConfigurationMetaNames.ONLINE: {}\n",
        "}\n",
        "\n",
        "created_deployment = client.deployments.create(published_model_id, meta_props=metadata)"
      ]
    },
    {
      "cell_type": "markdown",
      "metadata": {},
      "source": [
        "**Note**: Here we use deployment url saved in published_model object. In next section, we show how to retrieve deployment url from watsonx.ai Runtime instance."
      ]
    },
    {
      "cell_type": "code",
      "execution_count": 14,
      "metadata": {},
      "outputs": [],
      "source": [
        "deployment_id = client.deployments.get_id(created_deployment)"
      ]
    },
    {
      "cell_type": "markdown",
      "metadata": {},
      "source": [
        "Now you can print an online scoring endpoint. "
      ]
    },
    {
      "cell_type": "code",
      "execution_count": 15,
      "metadata": {
        "pycharm": {
          "is_executing": false,
          "name": "#%%\n"
        }
      },
      "outputs": [
        {
          "name": "stdout",
          "output_type": "stream",
          "text": [
            "https://us-south.ml.cloud.ibm.com/ml/v4/deployments/2ac2960c-9677-4acb-a65f-6403da574f96/predictions\n"
          ]
        }
      ],
      "source": [
        "scoring_endpoint = client.deployments.get_scoring_href(created_deployment)\n",
        "print(scoring_endpoint)"
      ]
    },
    {
      "cell_type": "markdown",
      "metadata": {},
      "source": [
        "You can also list existing deployments."
      ]
    },
    {
      "cell_type": "code",
      "execution_count": 16,
      "metadata": {},
      "outputs": [
        {
          "data": {
            "text/html": [
              "<div>\n",
              "<style scoped>\n",
              "    .dataframe tbody tr th:only-of-type {\n",
              "        vertical-align: middle;\n",
              "    }\n",
              "\n",
              "    .dataframe tbody tr th {\n",
              "        vertical-align: top;\n",
              "    }\n",
              "\n",
              "    .dataframe thead th {\n",
              "        text-align: right;\n",
              "    }\n",
              "</style>\n",
              "<table border=\"1\" class=\"dataframe\">\n",
              "  <thead>\n",
              "    <tr style=\"text-align: right;\">\n",
              "      <th></th>\n",
              "      <th>ID</th>\n",
              "      <th>NAME</th>\n",
              "      <th>STATE</th>\n",
              "      <th>CREATED</th>\n",
              "      <th>ARTIFACT_TYPE</th>\n",
              "      <th>SPEC_STATE</th>\n",
              "      <th>SPEC_REPLACEMENT</th>\n",
              "    </tr>\n",
              "  </thead>\n",
              "  <tbody>\n",
              "    <tr>\n",
              "      <th>0</th>\n",
              "      <td>2ac2960c-9677-4acb-a65f-6403da574f96</td>\n",
              "      <td>Deployment of external scikit model</td>\n",
              "      <td>ready</td>\n",
              "      <td>2025-02-21T10:32:08.241Z</td>\n",
              "      <td>model</td>\n",
              "      <td>supported</td>\n",
              "      <td></td>\n",
              "    </tr>\n",
              "  </tbody>\n",
              "</table>\n",
              "</div>"
            ],
            "text/plain": [
              "                                     ID                                 NAME  \\\n",
              "0  2ac2960c-9677-4acb-a65f-6403da574f96  Deployment of external scikit model   \n",
              "\n",
              "   STATE                   CREATED ARTIFACT_TYPE SPEC_STATE SPEC_REPLACEMENT  \n",
              "0  ready  2025-02-21T10:32:08.241Z         model  supported                   "
            ]
          },
          "execution_count": 16,
          "metadata": {},
          "output_type": "execute_result"
        }
      ],
      "source": [
        "client.deployments.list(limit=10)"
      ]
    },
    {
      "cell_type": "markdown",
      "metadata": {},
      "source": [
        "### 4.2: Get deployment details"
      ]
    },
    {
      "cell_type": "code",
      "execution_count": 17,
      "metadata": {
        "pycharm": {
          "is_executing": false,
          "name": "#%%\n"
        }
      },
      "outputs": [
        {
          "name": "stdout",
          "output_type": "stream",
          "text": [
            "{\n",
            "  \"entity\": {\n",
            "    \"asset\": {\n",
            "      \"id\": \"48a0bb9b-c283-4eb0-8b73-5e0f1da0cd3a\"\n",
            "    },\n",
            "    \"custom\": {},\n",
            "    \"deployed_asset_type\": \"model\",\n",
            "    \"hardware_spec\": {\n",
            "      \"id\": \"e7ed1d6c-2e89-42d7-aed5-863b972c1d2b\",\n",
            "      \"name\": \"S\",\n",
            "      \"num_nodes\": 1\n",
            "    },\n",
            "    \"name\": \"Deployment of external scikit model\",\n",
            "    \"online\": {},\n",
            "    \"space_id\": \"0a20f52a-d5b2-4d22-bfeb-191afc5ab561\",\n",
            "    \"status\": {\n",
            "      \"inference\": [\n",
            "        {\n",
            "          \"url\": \"https://us-south.ml.cloud.ibm.com/ml/v4/deployments/2ac2960c-9677-4acb-a65f-6403da574f96/predictions\"\n",
            "        }\n",
            "      ],\n",
            "      \"online_url\": {\n",
            "        \"url\": \"https://us-south.ml.cloud.ibm.com/ml/v4/deployments/2ac2960c-9677-4acb-a65f-6403da574f96/predictions\"\n",
            "      },\n",
            "      \"serving_urls\": [\n",
            "        \"https://us-south.ml.cloud.ibm.com/ml/v4/deployments/2ac2960c-9677-4acb-a65f-6403da574f96/predictions\"\n",
            "      ],\n",
            "      \"state\": \"ready\"\n",
            "    }\n",
            "  },\n",
            "  \"metadata\": {\n",
            "    \"created_at\": \"2025-02-21T10:32:08.241Z\",\n",
            "    \"id\": \"2ac2960c-9677-4acb-a65f-6403da574f96\",\n",
            "    \"modified_at\": \"2025-02-21T10:32:08.241Z\",\n",
            "    \"name\": \"Deployment of external scikit model\",\n",
            "    \"owner\": \"IBMid-696000GJGB\",\n",
            "    \"space_id\": \"0a20f52a-d5b2-4d22-bfeb-191afc5ab561\"\n",
            "  },\n",
            "  \"system\": {\n",
            "    \"warnings\": []\n",
            "  }\n",
            "}\n"
          ]
        }
      ],
      "source": [
        "print(json.dumps(client.deployments.get_details(deployment_id), indent=2))"
      ]
    },
    {
      "cell_type": "markdown",
      "metadata": {},
      "source": [
        "### 4.3: Score"
      ]
    },
    {
      "cell_type": "markdown",
      "metadata": {},
      "source": [
        "You can use below method to do test scoring request against deployed model."
      ]
    },
    {
      "cell_type": "markdown",
      "metadata": {},
      "source": [
        "**Action**: Prepare scoring payload with records to score."
      ]
    },
    {
      "cell_type": "code",
      "execution_count": 18,
      "metadata": {},
      "outputs": [],
      "source": [
        "input_to_score_0 = test_df.iloc[0].to_list()\n",
        "input_to_score_1 = test_df.iloc[1].to_list()"
      ]
    },
    {
      "cell_type": "code",
      "execution_count": 19,
      "metadata": {
        "pycharm": {
          "is_executing": false,
          "name": "#%%\n"
        }
      },
      "outputs": [],
      "source": [
        "scoring_payload = {\n",
        "    \"input_data\": [\n",
        "        {\n",
        "            \"values\": [\n",
        "                input_to_score_0,\n",
        "                input_to_score_1\n",
        "            ]\n",
        "        }\n",
        "    ]\n",
        "}"
      ]
    },
    {
      "cell_type": "markdown",
      "metadata": {},
      "source": [
        "Use ``client.deployments.score()`` method to run scoring."
      ]
    },
    {
      "cell_type": "code",
      "execution_count": 20,
      "metadata": {
        "pycharm": {
          "is_executing": false,
          "name": "#%%\n"
        }
      },
      "outputs": [],
      "source": [
        "predictions = client.deployments.score(deployment_id, scoring_payload)"
      ]
    },
    {
      "cell_type": "code",
      "execution_count": 21,
      "metadata": {
        "pycharm": {
          "is_executing": false,
          "name": "#%%\n"
        }
      },
      "outputs": [
        {
          "name": "stdout",
          "output_type": "stream",
          "text": [
            "{\n",
            "  \"predictions\": [\n",
            "    {\n",
            "      \"fields\": [\n",
            "        \"prediction\"\n",
            "      ],\n",
            "      \"values\": [\n",
            "        [\n",
            "          4.124575158050007\n",
            "        ],\n",
            "        [\n",
            "          3.9737237545075246\n",
            "        ]\n",
            "      ]\n",
            "    }\n",
            "  ]\n",
            "}\n"
          ]
        }
      ],
      "source": [
        "print(json.dumps(predictions, indent=2))"
      ]
    },
    {
      "cell_type": "markdown",
      "metadata": {
        "pycharm": {
          "name": "#%% md\n"
        }
      },
      "source": [
        "<a id=\"update_model\"></a>\n",
        "## 5. Persist new version of the model"
      ]
    },
    {
      "cell_type": "markdown",
      "metadata": {},
      "source": [
        "In this section, you'll learn how to store new version of your model in watsonx.ai Runtime repository by using the watsonx.ai Client."
      ]
    },
    {
      "cell_type": "markdown",
      "metadata": {},
      "source": [
        "### 5.1: Publish new version of the model"
      ]
    },
    {
      "cell_type": "markdown",
      "metadata": {},
      "source": [
        "Save the current model version. "
      ]
    },
    {
      "cell_type": "code",
      "execution_count": 22,
      "metadata": {},
      "outputs": [
        {
          "name": "stdout",
          "output_type": "stream",
          "text": [
            "{\n",
            "  \"entity\": {\n",
            "    \"hybrid_pipeline_software_specs\": [],\n",
            "    \"software_spec\": {\n",
            "      \"id\": \"45f12dfe-aa78-5b8d-9f38-0ee223c47309\",\n",
            "      \"name\": \"runtime-24.1-py3.11\"\n",
            "    },\n",
            "    \"type\": \"scikit-learn_1.3\"\n",
            "  },\n",
            "  \"metadata\": {\n",
            "    \"commit_info\": {\n",
            "      \"committed_at\": \"2025-02-21T10:32:37.002Z\"\n",
            "    },\n",
            "    \"created_at\": \"2025-02-21T10:31:50.012Z\",\n",
            "    \"id\": \"48a0bb9b-c283-4eb0-8b73-5e0f1da0cd3a\",\n",
            "    \"modified_at\": \"2025-02-21T10:32:00.720Z\",\n",
            "    \"name\": \"External scikit model\",\n",
            "    \"owner\": \"IBMid-696000GJGB\",\n",
            "    \"resource_key\": \"ed6e17cf-e1c3-4447-8d71-74a374c3cf18\",\n",
            "    \"rev\": \"1\",\n",
            "    \"space_id\": \"0a20f52a-d5b2-4d22-bfeb-191afc5ab561\"\n",
            "  },\n",
            "  \"system\": {\n",
            "    \"warnings\": []\n",
            "  }\n",
            "}\n"
          ]
        }
      ],
      "source": [
        "print(json.dumps(client.repository.create_model_revision(published_model_id), indent=2))"
      ]
    },
    {
      "cell_type": "markdown",
      "metadata": {},
      "source": [
        "Define new model name and update model content. "
      ]
    },
    {
      "cell_type": "code",
      "execution_count": 23,
      "metadata": {
        "pycharm": {
          "is_executing": false,
          "name": "#%%\n"
        }
      },
      "outputs": [],
      "source": [
        "metadata = {\n",
        "    client.repository.ModelMetaNames.NAME: \"External scikit model - updated\"\n",
        "}\n",
        "\n",
        "published_model = client.repository.update_model(\n",
        "    model_id=published_model_id,\n",
        "    update_model=updated_model_path,\n",
        "    updated_meta_props=metadata\n",
        ")"
      ]
    },
    {
      "cell_type": "markdown",
      "metadata": {},
      "source": [
        "Save new model revision of the updated model. "
      ]
    },
    {
      "cell_type": "code",
      "execution_count": 24,
      "metadata": {},
      "outputs": [
        {
          "name": "stdout",
          "output_type": "stream",
          "text": [
            "{\n",
            "  \"entity\": {\n",
            "    \"hybrid_pipeline_software_specs\": [],\n",
            "    \"software_spec\": {\n",
            "      \"id\": \"45f12dfe-aa78-5b8d-9f38-0ee223c47309\",\n",
            "      \"name\": \"runtime-24.1-py3.11\"\n",
            "    },\n",
            "    \"type\": \"scikit-learn_1.3\"\n",
            "  },\n",
            "  \"metadata\": {\n",
            "    \"commit_info\": {\n",
            "      \"committed_at\": \"2025-02-21T10:32:48.002Z\"\n",
            "    },\n",
            "    \"created_at\": \"2025-02-21T10:31:50.012Z\",\n",
            "    \"id\": \"48a0bb9b-c283-4eb0-8b73-5e0f1da0cd3a\",\n",
            "    \"modified_at\": \"2025-02-21T10:32:47.367Z\",\n",
            "    \"name\": \"External scikit model - updated\",\n",
            "    \"owner\": \"IBMid-696000GJGB\",\n",
            "    \"resource_key\": \"15beac5b-a1c6-477c-a107-362c41d6547b\",\n",
            "    \"rev\": \"2\",\n",
            "    \"space_id\": \"0a20f52a-d5b2-4d22-bfeb-191afc5ab561\"\n",
            "  },\n",
            "  \"system\": {\n",
            "    \"warnings\": []\n",
            "  }\n",
            "}\n"
          ]
        }
      ],
      "source": [
        "new_model_revision = client.repository.create_model_revision(published_model_id)\n",
        "print(json.dumps(new_model_revision, indent=2))"
      ]
    },
    {
      "cell_type": "markdown",
      "metadata": {},
      "source": [
        "**Note:** Model revisions can be identified by model `id` and `rev` number. \n",
        "\n",
        "Get model `rev` number from creation details:"
      ]
    },
    {
      "cell_type": "code",
      "execution_count": 25,
      "metadata": {},
      "outputs": [],
      "source": [
        "rev_id = new_model_revision[\"metadata\"].get(\"rev\")"
      ]
    },
    {
      "cell_type": "markdown",
      "metadata": {},
      "source": [
        "You can list existing revisions of the model. "
      ]
    },
    {
      "cell_type": "code",
      "execution_count": 26,
      "metadata": {},
      "outputs": [
        {
          "data": {
            "text/html": [
              "<div>\n",
              "<style scoped>\n",
              "    .dataframe tbody tr th:only-of-type {\n",
              "        vertical-align: middle;\n",
              "    }\n",
              "\n",
              "    .dataframe tbody tr th {\n",
              "        vertical-align: top;\n",
              "    }\n",
              "\n",
              "    .dataframe thead th {\n",
              "        text-align: right;\n",
              "    }\n",
              "</style>\n",
              "<table border=\"1\" class=\"dataframe\">\n",
              "  <thead>\n",
              "    <tr style=\"text-align: right;\">\n",
              "      <th></th>\n",
              "      <th>REV</th>\n",
              "      <th>NAME</th>\n",
              "      <th>CREATED</th>\n",
              "    </tr>\n",
              "  </thead>\n",
              "  <tbody>\n",
              "    <tr>\n",
              "      <th>0</th>\n",
              "      <td>2</td>\n",
              "      <td>External scikit model - updated</td>\n",
              "      <td>2025-02-21T10:31:50.012Z</td>\n",
              "    </tr>\n",
              "    <tr>\n",
              "      <th>1</th>\n",
              "      <td>1</td>\n",
              "      <td>External scikit model</td>\n",
              "      <td>2025-02-21T10:31:50.012Z</td>\n",
              "    </tr>\n",
              "  </tbody>\n",
              "</table>\n",
              "</div>"
            ],
            "text/plain": [
              "  REV                             NAME                   CREATED\n",
              "0   2  External scikit model - updated  2025-02-21T10:31:50.012Z\n",
              "1   1            External scikit model  2025-02-21T10:31:50.012Z"
            ]
          },
          "execution_count": 26,
          "metadata": {},
          "output_type": "execute_result"
        }
      ],
      "source": [
        "client.repository.list_models_revisions(published_model_id)"
      ]
    },
    {
      "cell_type": "markdown",
      "metadata": {},
      "source": [
        "### 5.2: Get model details"
      ]
    },
    {
      "cell_type": "code",
      "execution_count": 27,
      "metadata": {
        "pycharm": {
          "name": "#%%\n"
        }
      },
      "outputs": [
        {
          "name": "stdout",
          "output_type": "stream",
          "text": [
            "{\n",
            "  \"entity\": {\n",
            "    \"hybrid_pipeline_software_specs\": [],\n",
            "    \"software_spec\": {\n",
            "      \"id\": \"45f12dfe-aa78-5b8d-9f38-0ee223c47309\",\n",
            "      \"name\": \"runtime-24.1-py3.11\"\n",
            "    },\n",
            "    \"type\": \"scikit-learn_1.3\"\n",
            "  },\n",
            "  \"metadata\": {\n",
            "    \"commit_info\": {\n",
            "      \"committed_at\": \"2025-02-21T10:32:57.361Z\"\n",
            "    },\n",
            "    \"created_at\": \"2025-02-21T10:31:50.012Z\",\n",
            "    \"id\": \"48a0bb9b-c283-4eb0-8b73-5e0f1da0cd3a\",\n",
            "    \"modified_at\": \"2025-02-21T10:32:52.696Z\",\n",
            "    \"name\": \"External scikit model - updated\",\n",
            "    \"owner\": \"IBMid-696000GJGB\",\n",
            "    \"resource_key\": \"15beac5b-a1c6-477c-a107-362c41d6547b\",\n",
            "    \"space_id\": \"0a20f52a-d5b2-4d22-bfeb-191afc5ab561\"\n",
            "  },\n",
            "  \"system\": {\n",
            "    \"warnings\": []\n",
            "  }\n",
            "}\n"
          ]
        }
      ],
      "source": [
        "import json\n",
        "\n",
        "published_model_id = client.repository.get_model_id(published_model)\n",
        "model_details = client.repository.get_details(published_model_id)\n",
        "\n",
        "print(json.dumps(model_details, indent=2))"
      ]
    },
    {
      "cell_type": "markdown",
      "metadata": {},
      "source": [
        "<a id=\"redeploy\"></a>\n",
        "## 6. Redeploy new version of the model"
      ]
    },
    {
      "cell_type": "markdown",
      "metadata": {},
      "source": [
        "In this section, you'll learn how to redeploy new version of the model by using the watsonx.ai Client."
      ]
    },
    {
      "cell_type": "markdown",
      "metadata": {},
      "source": [
        "### 6.1 Redeploy model"
      ]
    },
    {
      "cell_type": "code",
      "execution_count": 28,
      "metadata": {},
      "outputs": [
        {
          "name": "stdout",
          "output_type": "stream",
          "text": [
            "Since ASSET is patched, deployment with new asset id/rev is being started. Monitor the status using deployments.get_details(deployment_id) api\n"
          ]
        }
      ],
      "source": [
        "metadata = {\n",
        "    client.deployments.ConfigurationMetaNames.ASSET: {\n",
        "        \"id\": published_model_id,\n",
        "        \"rev\": rev_id\n",
        "    }\n",
        "}\n",
        "\n",
        "updated_deployment = client.deployments.update(deployment_id=deployment_id, changes=metadata)"
      ]
    },
    {
      "cell_type": "markdown",
      "metadata": {},
      "source": [
        "Wait for the deployment update: "
      ]
    },
    {
      "cell_type": "code",
      "execution_count": 29,
      "metadata": {},
      "outputs": [
        {
          "name": "stdout",
          "output_type": "stream",
          "text": [
            ". \n",
            "\n",
            "Deployment update finished with status:  ready\n"
          ]
        }
      ],
      "source": [
        "import time\n",
        "\n",
        "status = None\n",
        "while status not in [\"ready\", \"failed\"]:\n",
        "    print(\".\", end=\" \")\n",
        "    time.sleep(2)\n",
        "    deployment_details = client.deployments.get_details(deployment_id)\n",
        "    status = deployment_details[\"entity\"][\"status\"].get(\"state\")\n",
        "\n",
        "print(\"\\nDeployment update finished with status: \", status)"
      ]
    },
    {
      "cell_type": "markdown",
      "metadata": {},
      "source": [
        "### 6.2 Get updated deployment details"
      ]
    },
    {
      "cell_type": "code",
      "execution_count": 30,
      "metadata": {},
      "outputs": [
        {
          "name": "stdout",
          "output_type": "stream",
          "text": [
            "{\n",
            "  \"entity\": {\n",
            "    \"asset\": {\n",
            "      \"id\": \"48a0bb9b-c283-4eb0-8b73-5e0f1da0cd3a\",\n",
            "      \"rev\": \"2\"\n",
            "    },\n",
            "    \"custom\": {},\n",
            "    \"deployed_asset_type\": \"model\",\n",
            "    \"hardware_spec\": {\n",
            "      \"id\": \"e7ed1d6c-2e89-42d7-aed5-863b972c1d2b\",\n",
            "      \"name\": \"S\",\n",
            "      \"num_nodes\": 1\n",
            "    },\n",
            "    \"name\": \"Deployment of external scikit model\",\n",
            "    \"online\": {},\n",
            "    \"space_id\": \"0a20f52a-d5b2-4d22-bfeb-191afc5ab561\",\n",
            "    \"status\": {\n",
            "      \"inference\": [\n",
            "        {\n",
            "          \"url\": \"https://us-south.ml.cloud.ibm.com/ml/v4/deployments/2ac2960c-9677-4acb-a65f-6403da574f96/predictions\"\n",
            "        }\n",
            "      ],\n",
            "      \"message\": {\n",
            "        \"level\": \"warning\",\n",
            "        \"text\": \"Successfully patched the asset.\"\n",
            "      },\n",
            "      \"online_url\": {\n",
            "        \"url\": \"https://us-south.ml.cloud.ibm.com/ml/v4/deployments/2ac2960c-9677-4acb-a65f-6403da574f96/predictions\"\n",
            "      },\n",
            "      \"serving_urls\": [\n",
            "        \"https://us-south.ml.cloud.ibm.com/ml/v4/deployments/2ac2960c-9677-4acb-a65f-6403da574f96/predictions\"\n",
            "      ],\n",
            "      \"state\": \"ready\"\n",
            "    }\n",
            "  },\n",
            "  \"metadata\": {\n",
            "    \"created_at\": \"2025-02-21T10:32:08.241Z\",\n",
            "    \"id\": \"2ac2960c-9677-4acb-a65f-6403da574f96\",\n",
            "    \"modified_at\": \"2025-02-21T10:33:02.266Z\",\n",
            "    \"name\": \"Deployment of external scikit model\",\n",
            "    \"owner\": \"IBMid-696000GJGB\",\n",
            "    \"space_id\": \"0a20f52a-d5b2-4d22-bfeb-191afc5ab561\"\n",
            "  },\n",
            "  \"system\": {\n",
            "    \"warnings\": []\n",
            "  }\n",
            "}\n"
          ]
        }
      ],
      "source": [
        "print(json.dumps(client.deployments.get_details(deployment_id), indent=2))"
      ]
    },
    {
      "cell_type": "markdown",
      "metadata": {},
      "source": [
        "<a id=\"scale\"></a>\n",
        "## 7. Deployment scaling"
      ]
    },
    {
      "cell_type": "markdown",
      "metadata": {},
      "source": [
        "In this section, you'll learn how to scale your deployment by creating more copies of stored model with watsonx.ai Client.  \n",
        "This feature is for providing High-Availability and to support higher throughput"
      ]
    },
    {
      "cell_type": "markdown",
      "metadata": {},
      "source": [
        "### 7.1 Scale deployment\n",
        "\n",
        "In this example, 2 deployment copies will be made."
      ]
    },
    {
      "cell_type": "code",
      "execution_count": 31,
      "metadata": {},
      "outputs": [],
      "source": [
        "metadata = {\n",
        "    client.deployments.ConfigurationMetaNames.NAME: \"Deployment of external scikit model - scaling\",\n",
        "    client.deployments.ConfigurationMetaNames.HARDWARE_SPEC: {\n",
        "        \"name\": \"S\",\n",
        "        \"num_nodes\": 2\n",
        "    }\n",
        "}"
      ]
    },
    {
      "cell_type": "code",
      "execution_count": 32,
      "metadata": {},
      "outputs": [],
      "source": [
        "scaled_deployment = client.deployments.update(deployment_id, metadata)"
      ]
    },
    {
      "cell_type": "markdown",
      "metadata": {},
      "source": [
        "### 7.2 Get scaled deployment details"
      ]
    },
    {
      "cell_type": "code",
      "execution_count": 33,
      "metadata": {},
      "outputs": [
        {
          "name": "stdout",
          "output_type": "stream",
          "text": [
            "{\n",
            "  \"entity\": {\n",
            "    \"asset\": {\n",
            "      \"id\": \"48a0bb9b-c283-4eb0-8b73-5e0f1da0cd3a\",\n",
            "      \"rev\": \"2\"\n",
            "    },\n",
            "    \"custom\": {},\n",
            "    \"deployed_asset_type\": \"model\",\n",
            "    \"hardware_spec\": {\n",
            "      \"id\": \"e7ed1d6c-2e89-42d7-aed5-863b972c1d2b\",\n",
            "      \"name\": \"S\",\n",
            "      \"num_nodes\": 1\n",
            "    },\n",
            "    \"name\": \"Deployment of external scikit model - scaling\",\n",
            "    \"online\": {},\n",
            "    \"space_id\": \"0a20f52a-d5b2-4d22-bfeb-191afc5ab561\",\n",
            "    \"status\": {\n",
            "      \"inference\": [\n",
            "        {\n",
            "          \"url\": \"https://us-south.ml.cloud.ibm.com/ml/v4/deployments/2ac2960c-9677-4acb-a65f-6403da574f96/predictions\"\n",
            "        }\n",
            "      ],\n",
            "      \"message\": {\n",
            "        \"level\": \"warning\",\n",
            "        \"text\": \"scaling_status: inprogress; requested_copies: 2; deployed_copies: 1; more_info: Successfully patched the asset.\"\n",
            "      },\n",
            "      \"online_url\": {\n",
            "        \"url\": \"https://us-south.ml.cloud.ibm.com/ml/v4/deployments/2ac2960c-9677-4acb-a65f-6403da574f96/predictions\"\n",
            "      },\n",
            "      \"scaling\": {\n",
            "        \"attempted_at\": \"2025-02-21T10:33:10.447Z\",\n",
            "        \"deployed_replicas\": 1,\n",
            "        \"requested_replicas\": 2,\n",
            "        \"state\": \"in_progress\"\n",
            "      },\n",
            "      \"serving_urls\": [\n",
            "        \"https://us-south.ml.cloud.ibm.com/ml/v4/deployments/2ac2960c-9677-4acb-a65f-6403da574f96/predictions\"\n",
            "      ],\n",
            "      \"state\": \"ready\"\n",
            "    }\n",
            "  },\n",
            "  \"metadata\": {\n",
            "    \"created_at\": \"2025-02-21T10:32:08.241Z\",\n",
            "    \"id\": \"2ac2960c-9677-4acb-a65f-6403da574f96\",\n",
            "    \"modified_at\": \"2025-02-21T10:33:10.638Z\",\n",
            "    \"name\": \"Deployment of external scikit model - scaling\",\n",
            "    \"owner\": \"IBMid-696000GJGB\",\n",
            "    \"space_id\": \"0a20f52a-d5b2-4d22-bfeb-191afc5ab561\"\n",
            "  },\n",
            "  \"system\": {\n",
            "    \"warnings\": []\n",
            "  }\n",
            "}\n"
          ]
        }
      ],
      "source": [
        "print(json.dumps(client.deployments.get_details(deployment_id), indent=2))"
      ]
    },
    {
      "cell_type": "markdown",
      "metadata": {},
      "source": [
        "### 7.3 Score updated deployment"
      ]
    },
    {
      "cell_type": "markdown",
      "metadata": {},
      "source": [
        "You can use below method to do test scoring request against deployed model.\n",
        "\n",
        "**Action**: Prepare scoring payload with records to score."
      ]
    },
    {
      "cell_type": "code",
      "execution_count": 34,
      "metadata": {},
      "outputs": [],
      "source": [
        "input_to_score_0 = test_df.iloc[0].to_list()\n",
        "input_to_score_1 = test_df.iloc[1].to_list()"
      ]
    },
    {
      "cell_type": "code",
      "execution_count": 35,
      "metadata": {},
      "outputs": [],
      "source": [
        "scoring_payload = {\n",
        "    \"input_data\": [\n",
        "        {\n",
        "            \"values\": [\n",
        "                input_to_score_0,\n",
        "                input_to_score_1\n",
        "            ]\n",
        "        }\n",
        "    ]\n",
        "}"
      ]
    },
    {
      "cell_type": "markdown",
      "metadata": {},
      "source": [
        "Use client.deployments.score() method to run scoring."
      ]
    },
    {
      "cell_type": "code",
      "execution_count": 36,
      "metadata": {},
      "outputs": [],
      "source": [
        "predictions = client.deployments.score(deployment_id, scoring_payload)"
      ]
    },
    {
      "cell_type": "code",
      "execution_count": 37,
      "metadata": {},
      "outputs": [
        {
          "name": "stdout",
          "output_type": "stream",
          "text": [
            "{\n",
            "  \"predictions\": [\n",
            "    {\n",
            "      \"fields\": [\n",
            "        \"prediction\"\n",
            "      ],\n",
            "      \"values\": [\n",
            "        [\n",
            "          4.12405473220543\n",
            "        ],\n",
            "        [\n",
            "          3.972679506309312\n",
            "        ]\n",
            "      ]\n",
            "    }\n",
            "  ]\n",
            "}\n"
          ]
        }
      ],
      "source": [
        "print(json.dumps(predictions, indent=2))"
      ]
    },
    {
      "cell_type": "markdown",
      "metadata": {},
      "source": [
        "<a id=\"cleanup\"></a>\n",
        "## 8. Clean up"
      ]
    },
    {
      "cell_type": "markdown",
      "metadata": {},
      "source": [
        "If you want to clean up all created assets:\n",
        "- experiments\n",
        "- trainings\n",
        "- pipelines\n",
        "- model definitions\n",
        "- models\n",
        "- functions\n",
        "- deployments\n",
        "\n",
        "please follow up this sample [notebook](https://github.com/IBM/watson-machine-learning-samples/blob/master/cloud/notebooks/python_sdk/instance-management/Machine%20Learning%20artifacts%20management.ipynb)."
      ]
    },
    {
      "cell_type": "markdown",
      "metadata": {},
      "source": [
        "<a id=\"summary\"></a>\n",
        "## 9. Summary and next steps"
      ]
    },
    {
      "cell_type": "markdown",
      "metadata": {},
      "source": [
        "You successfully completed this notebook! You learned how to use scikit-learn machine learning as well as watsonx.ai for model creation and deployment.\n",
        " \n",
        "Check out our _[Online Documentation](https://dataplatform.cloud.ibm.com/docs/content/wsj/getting-started/welcome-main.html?context=wx)_ for more samples, tutorials, documentation, how-tos, and blog posts. "
      ]
    },
    {
      "cell_type": "markdown",
      "metadata": {},
      "source": [
        "### Authors\n",
        "\n",
        "**Daniel Ryszka**, Software Engineer  \n",
        "\n",
        "**Mateusz Szewczyk**, Software Engineer watsonx.ai  \n",
        "\n",
        "**Rafał Chrzanowski**, Software Engineer Intern at watsonx.ai  "
      ]
    },
    {
      "cell_type": "markdown",
      "metadata": {},
      "source": [
        "Copyright © 2020-2025 IBM. This notebook and its source code are released under the terms of the MIT License."
      ]
    }
  ],
  "metadata": {
    "kernelspec": {
      "display_name": "watsonx-ai-samples-py-3-11",
      "language": "python",
      "name": "python3"
    },
    "language_info": {
      "codemirror_mode": {
        "name": "ipython",
        "version": 3
      },
      "file_extension": ".py",
      "mimetype": "text/x-python",
      "name": "python",
      "nbconvert_exporter": "python",
      "pygments_lexer": "ipython3",
      "version": "3.11.11"
    }
  },
  "nbformat": 4,
  "nbformat_minor": 4
}
