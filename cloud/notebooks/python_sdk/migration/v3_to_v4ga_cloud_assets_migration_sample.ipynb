{
    "cells": [
        {
            "cell_type": "code",
            "execution_count": 3,
            "metadata": {},
            "outputs": [
                {
                    "name": "stdout",
                    "output_type": "stream",
                    "text": [
                        "NOTE!! DEPRECATED!! This watsonx.ai Client version is deprecated starting Sep 1st, 2020 and will be discontinued at the end of the migration period. Refer to the documentation at 'https://dataplatform.cloud.ibm.com/docs/content/wsj/analyze-data/wml-ai.html' for the migration process to be able to access new features\n",
                        "Using cluster https://wml-fvt.ml.test.cloud.ibm.com\n"
                    ]
                }
            ],
            "source": [
                "# Create v3 client object\n",
                "from watson_machine_learning_client import WatsonMachineLearningAPIClient\n",
                "v3_wml_credentials = {\n",
                "                      \"apikey\":\"<your apikey>\",\n",
                "                      \"url\": \"https://wml-fvt.ml.test.cloud.ibm.com\",\n",
                "                      \"instance_id\": \"a5a0e69c-cb3d-4b81-b357-3d3f5d8eb600\" # v1 instance plan/id where assets are\n",
                "                     }\n",
                "v3_client = WatsonMachineLearningAPIClient(v3_wml_credentials)\n",
                "print('Using cluster', v3_wml_credentials['url'])"
            ]
        },
        {
            "cell_type": "code",
            "execution_count": 4,
            "metadata": {
                "scrolled": true
            },
            "outputs": [
                {
                    "name": "stdout",
                    "output_type": "stream",
                    "text": [
                        "Using cluster https://wml-fvt.ml.test.cloud.ibm.com\n"
                    ]
                }
            ],
            "source": [
                "# Create v4ga client object. Note: instance_id not required. instance_id will be picked up from space/project to which the instance is associated with\n",
                "from ibm_watson_machine_learning import APIClient\n",
                "v4_wml_credentials = {\n",
                "                      \"apikey\":\"<your apikey>\",\n",
                "                      \"url\": \"https://wml-fvt.ml.test.cloud.ibm.com\"\n",
                "                     }\n",
                "v4ga_client = APIClient(v4_wml_credentials)\n",
                "print('Using cluster', v4_wml_credentials['url'])"
            ]
        },
        {
            "cell_type": "code",
            "execution_count": 5,
            "metadata": {},
            "outputs": [
                {
                    "name": "stdout",
                    "output_type": "stream",
                    "text": [
                        "------------------------------------  ---------------------------------------  ------------------------  -----------------\n",
                        "GUID                                  NAME                                     CREATED                   FRAMEWORK\n",
                        "5e56a59d-334a-456e-aa2c-a1558b034ae1  LOCALLY created Digits prediction model  2020-08-05T05:44:54.834Z  scikit-learn-0.20\n",
                        "2b92fe21-d644-435c-828a-e6ea95ed9170  LOCALLY created Digits prediction model  2020-08-05T04:56:25.998Z  scikit-learn-0.20\n",
                        "f9a22b69-5790-4877-a0fc-fbfa9035923d  LOCALLY created Digits prediction model  2020-08-05T04:34:26.251Z  scikit-learn-0.20\n",
                        "------------------------------------  ---------------------------------------  ------------------------  -----------------\n"
                    ]
                }
            ],
            "source": [
                "v3_client.repository.list_models()"
            ]
        },
        {
            "cell_type": "code",
            "execution_count": 6,
            "metadata": {},
            "outputs": [
                {
                    "name": "stdout",
                    "output_type": "stream",
                    "text": [
                        "------------------------------------  ----  ------------------------\n",
                        "GUID                                  NAME  CREATED\n",
                        "f488d74f-0d68-4810-b235-4f0e98add0b9  xxx   2020-08-06T06:44:49.542Z\n",
                        "2abe9a41-b729-4bad-a33d-abbd76b754e3  xxx   2020-08-06T06:37:38.089Z\n",
                        "61e5b94c-e6ef-4c42-b725-d52f0334eaf3  xxx   2020-08-05T10:59:09.968Z\n",
                        "------------------------------------  ----  ------------------------\n",
                        "None\n"
                    ]
                }
            ],
            "source": [
                "print(v3_client.repository.list_experiments())"
            ]
        },
        {
            "cell_type": "code",
            "execution_count": 25,
            "metadata": {},
            "outputs": [],
            "source": [
                "# Space should be created before migration apis can be invoked. Assets from the old instance will be cloned \n",
                "# under this space. In v4ga, space/project is mandatory to be set to access/create assets\n",
                "space_id = '70f0952e-9947-4592-bd99-54e7890ce836'"
            ]
        },
        {
            "cell_type": "code",
            "execution_count": 26,
            "metadata": {},
            "outputs": [
                {
                    "name": "stdout",
                    "output_type": "stream",
                    "text": [
                        "NOTE: This migration API is only available during the migration period for moving assets to a project or space for use with new machine learning service plans and v4 APIs on Cloud. Refer to the documentation at 'https://dataplatform.cloud.ibm.com/docs/content/wsj/analyze-data/wml-ai.html' for details on new plans and features.\n",
                        "\n",
                        "Migration has been started. The initial state information is below. To monitor the migration job, you can use client.v4ga_cloud_migration.get_details api where you can provide the 'migration_id' and 'space_id'/'project_id' to monitor the status of migration. If you see 'skipped' section in the output from get_details() api, its because the assets listed in 'skipped' section would already be migrated. Use 'SKIP_MIGRATED_ASSETS' to False in start() api( by default, its True ) in case you want the assets to be re-migrated again\n",
                        "{'console': [], 'created_at': 1598333720826, 'migration_id': 'bafc6c77-0a4d-4517-82c5-678892cc654a', 'modified_at': 1598333720826, 'old_instance': {'instance_id': 'a5a0e69c-cb3d-4b81-b357-3d3f5d8eb600'}, 'results': {'failed': [], 'successful': []}, 'space_id': '70f0952e-9947-4592-bd99-54e7890ce836', 'status': 'pending'}\n"
                    ]
                }
            ],
            "source": [
                "# Use help to know more about the api details. Eg: help(client.v4ga_cloud_migration.start), help(client.v4ga_cloud_migration.delete) \n",
                "meta_props = {\n",
                "    v4ga_client.v4ga_cloud_migration.ConfigurationMetaNames.DESCRIPTION: \"Migration of assets from v3 to v4ga\",\n",
                "    v4ga_client.v4ga_cloud_migration.ConfigurationMetaNames.OLD_INSTANCE_ID: \"a5a0e69c-cb3d-4b81-b357-3d3f5d8eb600\",\n",
                "    v4ga_client.v4ga_cloud_migration.ConfigurationMetaNames.SPACE_ID: space_id,\n",
                "    v4ga_client.v4ga_cloud_migration.ConfigurationMetaNames.MODEL_IDS: [\"5e56a59d-334a-456e-aa2c-a1558b034ae1\"],\n",
                "    v4ga_client.v4ga_cloud_migration.ConfigurationMetaNames.EXPERIMENT_IDS: [\"all\"]\n",
                "}\n",
                "\n",
                "details = v4ga_client.v4ga_cloud_migration.start(meta_props=meta_props)\n",
                "\n",
                "migration_id = details[u'migration_id']\n",
                "print(details)"
            ]
        },
        {
            "cell_type": "code",
            "execution_count": 27,
            "metadata": {},
            "outputs": [
                {
                    "name": "stdout",
                    "output_type": "stream",
                    "text": [
                        "NOTE: This migration API is only available during the migration period for moving assets to a project or space for use with new machine learning service plans and v4 APIs on Cloud. Refer to the documentation at 'https://dataplatform.cloud.ibm.com/docs/content/wsj/analyze-data/wml-ai.html' for details on new plans and features.\n",
                        "\n",
                        "NOTE: This migration API is only available during the migration period for moving assets to a project or space for use with new machine learning service plans and v4 APIs on Cloud. Refer to the documentation at 'https://dataplatform.cloud.ibm.com/docs/content/wsj/analyze-data/wml-ai.html' for details on new plans and features.\n",
                        "\n",
                        "NOTE: This migration API is only available during the migration period for moving assets to a project or space for use with new machine learning service plans and v4 APIs on Cloud. Refer to the documentation at 'https://dataplatform.cloud.ibm.com/docs/content/wsj/analyze-data/wml-ai.html' for details on new plans and features.\n",
                        "\n",
                        "DONE\n"
                    ]
                }
            ],
            "source": [
                "# start is an async process. We need to monitor the status\n",
                "import time\n",
                "\n",
                "count = 0\n",
                "\n",
                "while True:\n",
                "    time.sleep(15)\n",
                "    details = v4ga_client.v4ga_cloud_migration.get_details(migration_id, space_id=space_id)\n",
                "    count = count + 1\n",
                "    if details[u'status'] == 'completed' or count == 10:\n",
                "        break\n",
                "        \n",
                "print(\"DONE\")"
            ]
        },
        {
            "cell_type": "code",
            "execution_count": 28,
            "metadata": {},
            "outputs": [
                {
                    "name": "stdout",
                    "output_type": "stream",
                    "text": [
                        "NOTE: This migration API is only available during the migration period for moving assets to a project or space for use with new machine learning service plans and v4 APIs on Cloud. Refer to the documentation at 'https://dataplatform.cloud.ibm.com/docs/content/wsj/analyze-data/wml-ai.html' for details on new plans and features.\n",
                        "\n",
                        "get_details:  {'console': ['Warning: Failed to find an exact match to map runtime tensorflow_1.5-py3 to a software specification. Using software spec 2b73a275-7cbf-420b-a912-eae7f436e0bc. If the asset fails to deploy, create a software spec manually.'], 'created_at': 1598333720826, 'migration_id': 'bafc6c77-0a4d-4517-82c5-678892cc654a', 'modified_at': 1598333761629, 'old_instance': {'instance_id': 'a5a0e69c-cb3d-4b81-b357-3d3f5d8eb600'}, 'results': {'failed': [], 'skipped': [{'asset_name': 'runtimeff49c112-2855-495e-aad7-1f41eeb3368a', 'new_asset_type': 'software_specifications', 'new_id': '1a694469-b87e-4df3-8585-d996da7e86dd', 'old_asset_type': 'runtimes', 'old_id': '28dab73a-86d5-4cfb-997e-4caa87663e74'}], 'successful': [{'asset_name': 'sample v4 pipeline2fe3c9e26-04b8-4553-883f-905a528c5f4d', 'new_asset_type': 'model_definitions', 'new_id': '6e82d227-ef77-4951-a37b-234363c4ec65', 'old_asset_type': 'training_libs', 'old_id': '2be6e7cc-6197-416c-ae18-ee25a54d7ceb', 'old_modified_at': '2020-08-05T12:36:41.181Z'}, {'asset_name': 'sample v4 pipeline', 'new_asset_type': 'pipelines', 'new_id': '87a6d57a-788d-487f-a2b8-553760115958', 'old_asset_type': 'pipelines', 'old_id': '06997e59-1c46-4304-aa00-a2560d1c5c2b', 'old_modified_at': '2020-08-05T12:36:43.718Z'}, {'asset_name': 'xxx', 'new_asset_type': 'experiments', 'new_id': '686a9555-0858-4989-8efa-3304037f569a', 'old_asset_type': 'experiments', 'old_id': '3114f562-7a3c-4385-87af-3a8dc2487b13', 'old_modified_at': '2020-08-05T12:36:44.722Z'}, {'asset_name': 'my_training_definition', 'new_asset_type': 'model_definitions', 'new_id': 'ccdaa64b-155a-4180-b32b-95b7204df25b', 'old_asset_type': 'training_libs', 'old_id': 'abb59428-3a2b-4dcf-9f9e-a2a508475f99', 'old_modified_at': '2020-08-06T06:37:29.854Z'}, {'asset_name': 'xxx', 'new_asset_type': 'experiments', 'new_id': '0289b49a-39e1-4583-ab27-2ff5c12a386d', 'old_asset_type': 'experiments', 'old_id': '2abe9a41-b729-4bad-a33d-abbd76b754e3'}, {'asset_name': 'my_training_definition', 'new_asset_type': 'model_definitions', 'new_id': 'b9c8bf36-aa1a-46be-b583-f1b3c3c259d5', 'old_asset_type': 'training_libs', 'old_id': '81965e7c-4b96-472b-bbd8-f02874f366b1', 'old_modified_at': '2020-08-05T10:59:02.245Z'}, {'asset_name': 'xxx', 'new_asset_type': 'experiments', 'new_id': 'd75d4df1-fe3b-43f8-9fd3-cea2fa7a119b', 'old_asset_type': 'experiments', 'old_id': '61e5b94c-e6ef-4c42-b725-d52f0334eaf3'}, {'asset_name': 'my_training_definition', 'new_asset_type': 'model_definitions', 'new_id': 'ba12e571-2b56-42d4-9ced-cbfe1b0c87db', 'old_asset_type': 'training_libs', 'old_id': '7353fc47-2198-48f7-bb32-6715d0c8dea3', 'old_modified_at': '2020-08-06T06:44:41.493Z'}, {'asset_name': 'xxx', 'new_asset_type': 'experiments', 'new_id': '1c1364d6-ccdb-4705-9c9a-304d1a898521', 'old_asset_type': 'experiments', 'old_id': 'f488d74f-0d68-4810-b235-4f0e98add0b9'}, {'asset_name': 'LOCALLY created Digits prediction model', 'new_asset_type': 'models', 'new_id': '151b9587-7775-45bb-b44e-fc781d388ecd', 'old_asset_type': 'models', 'old_id': '5e56a59d-334a-456e-aa2c-a1558b034ae1', 'old_modified_at': '2020-08-05T05:44:54.897Z'}]}, 'space_id': '70f0952e-9947-4592-bd99-54e7890ce836', 'status': 'completed'}\n"
                    ]
                }
            ],
            "source": [
                "print(\"get_details: \", v4ga_client.v4ga_cloud_migration.get_details(migration_id, space_id=space_id))"
            ]
        },
        {
            "cell_type": "code",
            "execution_count": 31,
            "metadata": {},
            "outputs": [
                {
                    "name": "stdout",
                    "output_type": "stream",
                    "text": [
                        "{'entity': {'custom': {'migrated_from': {'asset_id': '5e56a59d-334a-456e-aa2c-a1558b034ae1', 'asset_type': 'models', 'instance_id': 'a5a0e69c-cb3d-4b81-b357-3d3f5d8eb600'}}, 'hyper_parameters': {}, 'metrics': [], 'schemas': {'input': [], 'output': []}, 'software_spec': {'id': '1a694469-b87e-4df3-8585-d996da7e86dd', 'name': 'runtimeff49c112-2855-495e-aad7-1f41eeb3368a'}, 'type': 'scikit-learn_0.20'}, 'metadata': {'created_at': '2020-08-25T05:35:58.817Z', 'id': '151b9587-7775-45bb-b44e-fc781d388ecd', 'modified_at': '2020-08-25T05:36:01.553Z', 'name': 'LOCALLY created Digits prediction model', 'owner': 'iam-ServiceId-d18861be-36a9-4abd-beda-73d38a807a7d', 'space_id': '70f0952e-9947-4592-bd99-54e7890ce836'}}\n"
                    ]
                }
            ],
            "source": [
                "v4ga_client.set.default_space(space_id)\n",
                "print(v4ga_client.repository.get_details('151b9587-7775-45bb-b44e-fc781d388ecd'))"
            ]
        },
        {
            "cell_type": "code",
            "execution_count": 32,
            "metadata": {},
            "outputs": [
                {
                    "name": "stdout",
                    "output_type": "stream",
                    "text": [
                        "NOTE: This migration API is only available during the migration period for moving assets to a project or space for use with new machine learning service plans and v4 APIs on Cloud. Refer to the documentation at 'https://dataplatform.cloud.ibm.com/docs/content/wsj/analyze-data/wml-ai.html' for details on new plans and features.\n",
                        "\n",
                        "------------------------------------  ---------  ------------------------------------\n",
                        "ID                                    STATUS     SPACE_ID\n",
                        "bafc6c77-0a4d-4517-82c5-678892cc654a  completed  70f0952e-9947-4592-bd99-54e7890ce836\n",
                        "------------------------------------  ---------  ------------------------------------\n",
                        "None\n"
                    ]
                }
            ],
            "source": [
                "print(v4ga_client.v4ga_cloud_migration.list(space_id=space_id))"
            ]
        },
        {
            "cell_type": "code",
            "execution_count": 33,
            "metadata": {},
            "outputs": [
                {
                    "name": "stdout",
                    "output_type": "stream",
                    "text": [
                        "NOTE: This migration API is only available during the migration period for moving assets to a project or space for use with new machine learning service plans and v4 APIs on Cloud. Refer to the documentation at 'https://dataplatform.cloud.ibm.com/docs/content/wsj/analyze-data/wml-ai.html' for details on new plans and features.\n",
                        "\n",
                        "Migration job deleted\n"
                    ]
                }
            ],
            "source": [
                "v4ga_client.v4ga_cloud_migration.delete(migration_id='bafc6c77-0a4d-4517-82c5-678892cc654a', space_id=space_id)"
            ]
        },
        {
            "cell_type": "code",
            "execution_count": null,
            "metadata": {},
            "outputs": [],
            "source": []
        }
    ],
    "metadata": {
        "kernelspec": {
            "display_name": "Python 3",
            "language": "python",
            "name": "python3"
        },
        "language_info": {
            "codemirror_mode": {
                "name": "ipython",
                "version": 3
            },
            "file_extension": ".py",
            "mimetype": "text/x-python",
            "name": "python",
            "nbconvert_exporter": "python",
            "pygments_lexer": "ipython3",
            "version": "3.6.6"
        }
    },
    "nbformat": 4,
    "nbformat_minor": 2
}
