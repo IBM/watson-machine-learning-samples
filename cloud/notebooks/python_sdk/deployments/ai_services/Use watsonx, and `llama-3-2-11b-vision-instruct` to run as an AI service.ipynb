{
 "cells": [
  {
   "cell_type": "markdown",
   "metadata": {
    "pycharm": {
     "name": "#%% md\n"
    }
   },
   "source": [
    "![image](https://raw.githubusercontent.com/IBM/watson-machine-learning-samples/master/cloud/notebooks/headers/watsonx-Prompt_Lab-Notebook.png)\n",
    "# Use watsonx, and `meta-llama/llama-3-2-11b-vision-instruct` to run as an AI service"
   ]
  },
  {
   "cell_type": "markdown",
   "metadata": {
    "pycharm": {
     "name": "#%% md\n"
    }
   },
   "source": [
    "#### Disclaimers\n",
    "\n",
    "- Use only Projects and Spaces that are available in watsonx context.\n",
    "\n",
    "\n",
    "## Notebook content\n",
    "\n",
    "This notebook provides a detailed demonstration of the steps and code required to showcase support for watsonx.ai AI service.\n",
    "\n",
    "Some familiarity with Python is helpful. This notebook uses Python 3.11.\n",
    "\n",
    "\n",
    "## Learning goal\n",
    "\n",
    "The learning goal for your notebook is to leverage AI services to generate accurate and contextually relevant responses based on a given image and a related question.\n",
    "\n",
    "\n",
    "## Table of Contents\n",
    "\n",
    "This notebook contains the following parts:\n",
    "\n",
    "- [Setup](#setup)\n",
    "- [Create AI service](#ai_service)\n",
    "- [Testing AI service's function locally](#testing)\n",
    "- [Deploy AI service](#deploy)\n",
    "- [Example of Executing an AI service](#example)\n",
    "- [Summary](#summary)"
   ]
  },
  {
   "cell_type": "markdown",
   "metadata": {
    "pycharm": {
     "name": "#%% md\n"
    }
   },
   "source": [
    "<a id=\"setup\"></a>\n",
    "## Set up the environment\n",
    "\n",
    "Before you use the sample code in this notebook, you must perform the following setup tasks:\n",
    "\n",
    "-  Create a <a href=\"https://cloud.ibm.com/catalog/services/watson-machine-learning\" target=\"_blank\" rel=\"noopener no referrer\">Watson Machine Learning (WML) Service</a> instance (a free plan is offered and information about how to create the instance can be found <a href=\"https://dataplatform.cloud.ibm.com/docs/content/wsj/getting-started/wml-plans.html?context=wx&audience=wdp\" target=\"_blank\" rel=\"noopener no referrer\">here</a>)."
   ]
  },
  {
   "cell_type": "markdown",
   "metadata": {
    "pycharm": {
     "name": "#%% md\n"
    }
   },
   "source": [
    "### Install and import the `datasets` and dependencies"
   ]
  },
  {
   "cell_type": "code",
   "execution_count": null,
   "metadata": {
    "pycharm": {
     "is_executing": true,
     "name": "#%%\n"
    }
   },
   "outputs": [],
   "source": [
    "!pip install -U \"ibm_watsonx_ai>=1.1.22\" | tail -n 1"
   ]
  },
  {
   "cell_type": "markdown",
   "metadata": {
    "pycharm": {
     "name": "#%% md\n"
    }
   },
   "source": [
    "### Define the WML credentials\n",
    "Use the code cell below to define the WML credentials that are required to work with watsonx Foundation Model inferencing.\n",
    "\n",
    "**Action:** Provide the IBM Cloud user API key. For details, see <a href=\"https://cloud.ibm.com/docs/account?topic=account-userapikey&interface=ui\" target=\"_blank\" rel=\"noopener no referrer\">Managing user API keys</a>."
   ]
  },
  {
   "cell_type": "code",
   "execution_count": 2,
   "metadata": {
    "pycharm": {
     "name": "#%%\n"
    }
   },
   "outputs": [],
   "source": [
    "import getpass\n",
    "from ibm_watsonx_ai import Credentials\n",
    "\n",
    "credentials = Credentials(\n",
    "    url=\"https://us-south.ml.cloud.ibm.com\",\n",
    "    api_key=getpass.getpass(\"Enter your WML API key and hit enter: \"),\n",
    ")"
   ]
  },
  {
   "cell_type": "markdown",
   "metadata": {
    "pycharm": {
     "name": "#%% md\n"
    }
   },
   "source": [
    "### Working with spaces\n",
    "\n",
    "You need to create a space that will be used for your work. If you do not have a space, you can use [Deployment Spaces Dashboard](https://dataplatform.cloud.ibm.com/ml-runtime/spaces?context=wx) to create one.\n",
    "\n",
    "- Click **New Deployment Space**\n",
    "- Create an empty space\n",
    "- Select Cloud Object Storage\n",
    "- Select Watson Machine Learning instance and press **Create**\n",
    "- Go to **Manage** tab\n",
    "- Copy `Space GUID` and paste it below\n",
    "\n",
    "**Tip**: You can also use SDK to prepare the space for your work. More information can be found [here](https://github.com/IBM/watson-machine-learning-samples/blob/master/cloud/notebooks/python_sdk/instance-management/Space%20management.ipynb).\n",
    "\n",
    "**Action**: assign space ID below"
   ]
  },
  {
   "cell_type": "code",
   "execution_count": 3,
   "metadata": {
    "pycharm": {
     "name": "#%%\n"
    }
   },
   "outputs": [],
   "source": [
    "import os\n",
    "\n",
    "try:\n",
    "    space_id = os.environ[\"SPACE_ID\"]\n",
    "except KeyError:\n",
    "    space_id = input(\"Please enter your project_id (hit enter): \")"
   ]
  },
  {
   "cell_type": "markdown",
   "metadata": {},
   "source": [
    "Create an instance of APIClient with authentication details."
   ]
  },
  {
   "cell_type": "code",
   "execution_count": 2,
   "metadata": {},
   "outputs": [],
   "source": [
    "from ibm_watsonx_ai import APIClient\n",
    "\n",
    "api_client = APIClient(credentials=credentials, space_id=space_id)"
   ]
  },
  {
   "cell_type": "markdown",
   "metadata": {},
   "source": [
    "Specify the `model_id` of the model you will use for the chat with image."
   ]
  },
  {
   "cell_type": "code",
   "execution_count": 3,
   "metadata": {},
   "outputs": [],
   "source": [
    "model_id = \"meta-llama/llama-3-2-11b-vision-instruct\""
   ]
  },
  {
   "cell_type": "markdown",
   "metadata": {},
   "source": [
    "<a id=\"ai_service\"></a>\n",
    "## Create AI service\n",
    "\n",
    "Prepare function which will be deployed using AI service."
   ]
  },
  {
   "cell_type": "code",
   "execution_count": 4,
   "metadata": {},
   "outputs": [],
   "source": [
    "def deployable_ai_service(context, **custom):\n",
    "    \n",
    "    import requests\n",
    "    import base64\n",
    "    from ibm_watsonx_ai import APIClient, Credentials\n",
    "    from ibm_watsonx_ai.foundation_models import ModelInference\n",
    "\n",
    "    space_id = custom.get(\"space_id\")\n",
    "    url = custom.get(\"url\")\n",
    "    model_id = custom.get(\"model_id\")\n",
    "    params = custom.get(\"params\")\n",
    "\n",
    "    api_client = APIClient(\n",
    "        credentials=Credentials(url=url, token=context.generate_token()),\n",
    "        space_id=space_id,\n",
    "    )\n",
    "    \n",
    "    model = ModelInference(\n",
    "        model_id=model_id,\n",
    "        api_client=api_client,\n",
    "        params=params,\n",
    "    )\n",
    "\n",
    "    def generate(context) -> dict:\n",
    "        \n",
    "        api_client.set_token(context.get_token())\n",
    "   \n",
    "        payload = context.get_json()\n",
    "        question = payload[\"question\"]\n",
    "        image_url = payload[\"image_url\"]\n",
    "        \n",
    "        response = requests.get(image_url)\n",
    "        response.raise_for_status()\n",
    "        base64_image = base64.b64encode(response.content).decode('utf-8')\n",
    "        \n",
    "        messages = [\n",
    "            {\n",
    "                \"role\": \"user\",\n",
    "                \"content\": [\n",
    "                {\n",
    "                    \"type\": \"text\",\n",
    "                    \"text\": question\n",
    "                },\n",
    "                {\n",
    "                    \"type\": \"image_url\",\n",
    "                    \"image_url\": {\n",
    "                        \"url\": \"data:image/jpeg;base64,\" + base64_image,\n",
    "                        \"detail\": \"auto\"\n",
    "                    }\n",
    "                }\n",
    "                ]\n",
    "            }\n",
    "        ]\n",
    "        \n",
    "        \n",
    "        response = model.chat(messages=messages)\n",
    "\n",
    "        return {\n",
    "            \"body\": response\n",
    "            }\n",
    "    \n",
    "    def generate_stream(context):\n",
    "        \n",
    "        api_client.set_token(context.get_token())\n",
    "   \n",
    "        payload = context.get_json()\n",
    "        question = payload[\"question\"]\n",
    "        image_url = payload[\"image_url\"]\n",
    "        \n",
    "        response = requests.get(image_url)\n",
    "        response.raise_for_status()\n",
    "        base64_image = base64.b64encode(response.content).decode('utf-8')\n",
    "        \n",
    "        messages = [\n",
    "            {\n",
    "                \"role\": \"user\",\n",
    "                \"content\": [\n",
    "                {\n",
    "                    \"type\": \"text\",\n",
    "                    \"text\": question\n",
    "                },\n",
    "                {\n",
    "                    \"type\": \"image_url\",\n",
    "                    \"image_url\": {\n",
    "                        \"url\": \"data:image/jpeg;base64,\" + base64_image,\n",
    "                        \"detail\": \"auto\"\n",
    "                    }\n",
    "                }\n",
    "                ]\n",
    "            }\n",
    "        ]\n",
    "        \n",
    "        for chunk in model.chat_stream(messages):\n",
    "            yield chunk\n",
    "            \n",
    "    return generate, generate_stream"
   ]
  },
  {
   "cell_type": "markdown",
   "metadata": {},
   "source": [
    "<a id=\"testing\"></a>\n",
    "## Testing AI service's function locally\n",
    "\n",
    "You can test AI service's function locally. Initialise `RuntimeContext` firstly."
   ]
  },
  {
   "cell_type": "code",
   "execution_count": 5,
   "metadata": {},
   "outputs": [],
   "source": [
    "from ibm_watsonx_ai.deployments import RuntimeContext\n",
    "\n",
    "context = RuntimeContext(api_client=api_client)"
   ]
  },
  {
   "cell_type": "markdown",
   "metadata": {},
   "source": [
    "Please specify the keyword arguments that will be passed to the function."
   ]
  },
  {
   "cell_type": "code",
   "execution_count": 6,
   "metadata": {},
   "outputs": [],
   "source": [
    "kwargs = {\n",
    "    \"space_id\": api_client.default_space_id,\n",
    "    \"url\": api_client.credentials.url,\n",
    "    \"model_id\": model_id,\n",
    "    \"params\": {\"temperature\": 1}\n",
    "}\n",
    "\n",
    "local_function = deployable_ai_service(context=context, **kwargs)"
   ]
  },
  {
   "cell_type": "markdown",
   "metadata": {},
   "source": [
    "Please retrieve an image and display it. This example is based on the IBM logo."
   ]
  },
  {
   "cell_type": "code",
   "execution_count": 7,
   "metadata": {},
   "outputs": [
    {
     "data": {
      "text/html": [
       "<img src=\"https://raw.github.com/IBM/watson-machine-learning-samples/master/cloud/data/logo/ibm_logo.jpg\" width=\"600\"/>"
      ],
      "text/plain": [
       "<IPython.core.display.Image object>"
      ]
     },
     "execution_count": 7,
     "metadata": {},
     "output_type": "execute_result"
    }
   ],
   "source": [
    "import requests\n",
    "from IPython.display import Image\n",
    "\n",
    "image_url = \"https://raw.github.com/IBM/watson-machine-learning-samples/master/cloud/data/logo/ibm_logo.jpg\"\n",
    "\n",
    "response = requests.get(image_url)\n",
    "\n",
    "Image(url=image_url, width=600)"
   ]
  },
  {
   "cell_type": "markdown",
   "metadata": {},
   "source": [
    "Prepare request json payload for local invoke."
   ]
  },
  {
   "cell_type": "code",
   "execution_count": 8,
   "metadata": {},
   "outputs": [],
   "source": [
    "context.request_payload_json = {\"question\": \"Describe the image\", \"image_url\": image_url}"
   ]
  },
  {
   "cell_type": "markdown",
   "metadata": {},
   "source": [
    "Execute the `generate` function locally."
   ]
  },
  {
   "cell_type": "code",
   "execution_count": 9,
   "metadata": {},
   "outputs": [
    {
     "data": {
      "text/plain": [
       "{'body': {'id': 'chat-2b644bfc0f3849d1af368b7d3809e174',\n",
       "  'model_id': 'meta-llama/llama-3-2-11b-vision-instruct',\n",
       "  'model': 'meta-llama/llama-3-2-11b-vision-instruct',\n",
       "  'choices': [{'index': 0,\n",
       "    'message': {'role': 'assistant',\n",
       "     'content': 'The image presents the IBM logo, a prominent symbol in the tech industry.'},\n",
       "    'finish_reason': 'stop'}],\n",
       "  'created': 1730907393,\n",
       "  'model_version': '3.2.0',\n",
       "  'created_at': '2024-11-06T15:36:34.409Z',\n",
       "  'usage': {'completion_tokens': 16,\n",
       "   'prompt_tokens': 6523,\n",
       "   'total_tokens': 6539},\n",
       "  'system': {'warnings': [{'message': 'This model is a Non-IBM Product governed by a third-party license that may impose use restrictions and other obligations. By using this model you agree to its terms as identified in the following URL.',\n",
       "     'id': 'disclaimer_warning',\n",
       "     'more_info': 'https://dataplatform.cloud.ibm.com/docs/content/wsj/analyze-data/fm-models.html?context=wx'},\n",
       "    {'message': \"The value of 'max_tokens' for this model was set to value 1024\",\n",
       "     'id': 'unspecified_max_token',\n",
       "     'additional_properties': {'limit': 0,\n",
       "      'new_value': 1024,\n",
       "      'parameter': 'max_tokens',\n",
       "      'value': 0}}]}}}"
      ]
     },
     "execution_count": 9,
     "metadata": {},
     "output_type": "execute_result"
    }
   ],
   "source": [
    "resp = local_function[0](context)\n",
    "resp"
   ]
  },
  {
   "cell_type": "markdown",
   "metadata": {},
   "source": [
    "Execute the `generate_stream` function locally."
   ]
  },
  {
   "cell_type": "code",
   "execution_count": 10,
   "metadata": {},
   "outputs": [],
   "source": [
    "response = local_function[1](context)"
   ]
  },
  {
   "cell_type": "code",
   "execution_count": 11,
   "metadata": {},
   "outputs": [
    {
     "name": "stdout",
     "output_type": "stream",
     "text": [
      "The image is the IBM (International Business Machines) logo, a stylized representation of the letters \"IBM\" in blue on a white background. The logo features geometric shapes resembling a light bulb, symbolizing innovation and illumination. The letters are stacked horizontally and vertically, creating a visually striking design that represents IBM's commitment to advancement and transformation in the technology industry."
     ]
    }
   ],
   "source": [
    "for event in response:\n",
    "    print(event[\"choices\"][0][\"delta\"][\"content\"], end=\"\")"
   ]
  },
  {
   "cell_type": "markdown",
   "metadata": {},
   "source": [
    "<a id=\"deploy\"></a>\n",
    "## Deploy AI service"
   ]
  },
  {
   "cell_type": "markdown",
   "metadata": {},
   "source": [
    "Store AI service with previous created custom software specifications."
   ]
  },
  {
   "cell_type": "code",
   "execution_count": 12,
   "metadata": {},
   "outputs": [
    {
     "data": {
      "text/plain": [
       "'45f12dfe-aa78-5b8d-9f38-0ee223c47309'"
      ]
     },
     "execution_count": 12,
     "metadata": {},
     "output_type": "execute_result"
    }
   ],
   "source": [
    "sw_spec_id = api_client.software_specifications.get_id_by_name(\"runtime-24.1-py3.11\")\n",
    "sw_spec_id"
   ]
  },
  {
   "cell_type": "code",
   "execution_count": 13,
   "metadata": {},
   "outputs": [],
   "source": [
    "meta_props = {\n",
    "    api_client.repository.AIServiceMetaNames.NAME: \"AI service with SDK\",    \n",
    "    api_client.repository.AIServiceMetaNames.SOFTWARE_SPEC_ID: sw_spec_id\n",
    "}\n",
    "stored_ai_service_details = api_client.repository.store_ai_service(deployable_ai_service, meta_props)"
   ]
  },
  {
   "cell_type": "code",
   "execution_count": 14,
   "metadata": {},
   "outputs": [
    {
     "data": {
      "text/plain": [
       "'407f46ba-a945-4f67-b545-c901e72c90e6'"
      ]
     },
     "execution_count": 14,
     "metadata": {},
     "output_type": "execute_result"
    }
   ],
   "source": [
    "ai_service_id = api_client.repository.get_ai_service_id(stored_ai_service_details)\n",
    "ai_service_id"
   ]
  },
  {
   "cell_type": "markdown",
   "metadata": {},
   "source": [
    "Create online deployment of AI service."
   ]
  },
  {
   "cell_type": "code",
   "execution_count": 15,
   "metadata": {},
   "outputs": [
    {
     "name": "stdout",
     "output_type": "stream",
     "text": [
      "\n",
      "\n",
      "######################################################################################\n",
      "\n",
      "Synchronous deployment creation for id: '407f46ba-a945-4f67-b545-c901e72c90e6' started\n",
      "\n",
      "######################################################################################\n",
      "\n",
      "\n",
      "initializing\n",
      "Note: online_url and serving_urls are deprecated and will be removed in a future release. Use inference instead.\n",
      "...\n",
      "ready\n",
      "\n",
      "\n",
      "-----------------------------------------------------------------------------------------------\n",
      "Successfully finished deployment creation, deployment_id='99531da1-03aa-45c1-bc70-1a26299579ef'\n",
      "-----------------------------------------------------------------------------------------------\n",
      "\n",
      "\n"
     ]
    }
   ],
   "source": [
    "meta_props = {\n",
    "    api_client.deployments.ConfigurationMetaNames.NAME: \"AI service with SDK\",\n",
    "    api_client.deployments.ConfigurationMetaNames.ONLINE: {},\n",
    "    api_client.deployments.ConfigurationMetaNames.CUSTOM: {\n",
    "        \"space_id\": api_client.default_space_id,\n",
    "        \"url\": api_client.credentials.url,\n",
    "        \"model_id\": model_id,\n",
    "        \"params\": {\"temperature\": 1},\n",
    "    },\n",
    "}\n",
    "\n",
    "deployment_details = api_client.deployments.create(ai_service_id, meta_props)"
   ]
  },
  {
   "cell_type": "markdown",
   "metadata": {},
   "source": [
    "Obtain the `deployment_id` of the previously created deployment."
   ]
  },
  {
   "cell_type": "code",
   "execution_count": 16,
   "metadata": {},
   "outputs": [],
   "source": [
    "deployment_id = api_client.deployments.get_id(deployment_details)"
   ]
  },
  {
   "cell_type": "markdown",
   "metadata": {},
   "source": [
    "<a id=\"example\"></a>\n",
    "## Example of Executing an AI service.\n",
    "\n",
    "Execute `generate` method."
   ]
  },
  {
   "cell_type": "code",
   "execution_count": 19,
   "metadata": {},
   "outputs": [],
   "source": [
    "question = \"Describe the image\"\n",
    "\n",
    "deployments_results = api_client.deployments.run_ai_service(\n",
    "    deployment_id, {\"question\": question, \"image_url\": image_url}\n",
    ")"
   ]
  },
  {
   "cell_type": "code",
   "execution_count": 20,
   "metadata": {},
   "outputs": [
    {
     "name": "stdout",
     "output_type": "stream",
     "text": [
      "{\n",
      "  \"choices\": [\n",
      "    {\n",
      "      \"finish_reason\": \"stop\",\n",
      "      \"index\": 0,\n",
      "      \"message\": {\n",
      "        \"content\": \"The image depicts the IBM logo, a blue-stamped version of the company's name (IBM) in large letters, with lines extending off the letters to create a three-dimensional raised look. A small, circular symbol with an 'R' inside is set in the lower right corner.\\n\\nIBM stands for International Business Machines, a multinational technology company that has been in operation since 1911 and is one of the largest technology companies in the world. IBM is headquartered in Armonk, New York, USA and has a significant presence in over 170 countries.\",\n",
      "        \"role\": \"assistant\"\n",
      "      }\n",
      "    }\n",
      "  ],\n",
      "  \"created\": 1730907511,\n",
      "  \"created_at\": \"2024-11-06T15:38:33.379Z\",\n",
      "  \"id\": \"chat-8834d4a2173b4fd48681454b99781249\",\n",
      "  \"model\": \"meta-llama/llama-3-2-11b-vision-instruct\",\n",
      "  \"model_id\": \"meta-llama/llama-3-2-11b-vision-instruct\",\n",
      "  \"model_version\": \"3.2.0\",\n",
      "  \"system\": {\n",
      "    \"warnings\": [\n",
      "      {\n",
      "        \"id\": \"disclaimer_warning\",\n",
      "        \"message\": \"This model is a Non-IBM Product governed by a third-party license that may impose use restrictions and other obligations. By using this model you agree to its terms as identified in the following URL.\",\n",
      "        \"more_info\": \"https://dataplatform.cloud.ibm.com/docs/content/wsj/analyze-data/fm-models.html?context=wx\"\n",
      "      },\n",
      "      {\n",
      "        \"additional_properties\": {\n",
      "          \"limit\": 0,\n",
      "          \"new_value\": 1024,\n",
      "          \"parameter\": \"max_tokens\",\n",
      "          \"value\": 0\n",
      "        },\n",
      "        \"id\": \"unspecified_max_token\",\n",
      "        \"message\": \"The value of 'max_tokens' for this model was set to value 1024\"\n",
      "      }\n",
      "    ]\n",
      "  },\n",
      "  \"usage\": {\n",
      "    \"completion_tokens\": 113,\n",
      "    \"prompt_tokens\": 6523,\n",
      "    \"total_tokens\": 6636\n",
      "  }\n",
      "}\n"
     ]
    }
   ],
   "source": [
    "import json\n",
    "\n",
    "print(json.dumps(deployments_results, indent=2))"
   ]
  },
  {
   "cell_type": "markdown",
   "metadata": {},
   "source": [
    "Execute `generate_stream` method."
   ]
  },
  {
   "cell_type": "code",
   "execution_count": 27,
   "metadata": {},
   "outputs": [],
   "source": [
    "question = \"Describe the image\"\n",
    "\n",
    "deployments_results = api_client.deployments.run_ai_service_stream(\n",
    "    deployment_id, {\"question\": question, \"image_url\": image_url}\n",
    ")"
   ]
  },
  {
   "cell_type": "code",
   "execution_count": 28,
   "metadata": {},
   "outputs": [
    {
     "name": "stdout",
     "output_type": "stream",
     "text": [
      "The image shows a blue logo with the letters \"IBM\" in the middle, surrounded by horizontal lines. The logo appears to be the IBM logo, which is a well-known company that was founded in 1911 and is known for its technology products and services.\n",
      "\n",
      "The logo features the company's initials, \"IBM\", in bold, blue letters, with a series of horizontal lines above and below the letters. The lines are evenly spaced and of varying lengths, creating a sense of rhythm and harmony. The blue color of the logo is a deep, rich shade that is often associated with trust, stability, and innovation.\n",
      "\n",
      "Overall, the IBM logo is a classic example of corporate branding and design. It has been used by the company for many years and is widely recognized around the world. The logo's simplicity, elegance, and consistency have made it a symbol of IBM's commitment to quality, excellence, and innovation."
     ]
    }
   ],
   "source": [
    "import json\n",
    "\n",
    "for chunk in deployments_results:\n",
    "    print(json.loads(chunk)[\"choices\"][0][\"delta\"][\"content\"], end=\"\")"
   ]
  },
  {
   "cell_type": "markdown",
   "metadata": {
    "pycharm": {
     "name": "#%% md\n"
    }
   },
   "source": [
    "<a id=\"summary\"></a>\n",
    "## Summary and next steps\n",
    "\n",
    "You successfully completed this notebook!\n",
    "\n",
    "You learned how to create and deploy AI service using `ibm_watsonx_ai` SDK.\n",
    "\n",
    "Check out our _<a href=\"https://ibm.github.io/watsonx-ai-python-sdk/samples.html\" target=\"_blank\" rel=\"noopener no referrer\">Online Documentation</a>_ for more samples, tutorials, documentation, how-tos, and blog posts. "
   ]
  },
  {
   "cell_type": "markdown",
   "metadata": {
    "pycharm": {
     "name": "#%% md\n"
    }
   },
   "source": [
    "### Author\n",
    "\n",
    "**Mateusz Szewczyk**, Software Engineer at Watson Machine Learning."
   ]
  },
  {
   "cell_type": "markdown",
   "metadata": {},
   "source": [
    "Copyright © 2024 IBM. This notebook and its source code are released under the terms of the MIT License."
   ]
  }
 ],
 "metadata": {
  "kernelspec": {
   "display_name": "watsonx-ai-rt23.1-py310-osx64",
   "language": "python",
   "name": "python3"
  },
  "language_info": {
   "codemirror_mode": {
    "name": "ipython",
    "version": 3
   },
   "file_extension": ".py",
   "mimetype": "text/x-python",
   "name": "python",
   "nbconvert_exporter": "python",
   "pygments_lexer": "ipython3",
   "version": "3.10.13"
  }
 },
 "nbformat": 4,
 "nbformat_minor": 4
}
