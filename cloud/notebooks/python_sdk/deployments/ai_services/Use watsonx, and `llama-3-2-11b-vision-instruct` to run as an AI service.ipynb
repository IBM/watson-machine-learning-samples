{
  "cells": [
    {
      "cell_type": "markdown",
      "metadata": {
        "pycharm": {
          "name": "#%% md\n"
        }
      },
      "source": [
        "![image](https://raw.githubusercontent.com/IBM/watson-machine-learning-samples/master/cloud/notebooks/headers/watsonx-Prompt_Lab-Notebook.png)\n",
        "# Use watsonx, and `meta-llama/llama-3-2-11b-vision-instruct` to run as an AI service"
      ]
    },
    {
      "cell_type": "markdown",
      "metadata": {
        "pycharm": {
          "name": "#%% md\n"
        }
      },
      "source": [
        "#### Disclaimers\n",
        "\n",
        "- Use only Projects and Spaces that are available in watsonx context.\n",
        "\n",
        "\n",
        "## Notebook content\n",
        "\n",
        "This notebook provides a detailed demonstration of the steps and code required to showcase support for watsonx.ai AI service.\n",
        "\n",
        "Some familiarity with Python is helpful. This notebook uses Python 3.11.\n",
        "\n",
        "\n",
        "## Learning goal\n",
        "\n",
        "The learning goal for your notebook is to leverage AI services to generate accurate and contextually relevant responses based on a given image and a related question.\n",
        "\n",
        "\n",
        "## Table of Contents\n",
        "\n",
        "This notebook contains the following parts:\n",
        "\n",
        "- [Setup](#setup)\n",
        "- [Create AI service](#ai_service)\n",
        "- [Testing AI service's function locally](#testing)\n",
        "- [Deploy AI service](#deploy)\n",
        "- [Example of Executing an AI service](#example)\n",
        "- [Summary](#summary)"
      ]
    },
    {
      "cell_type": "markdown",
      "metadata": {
        "pycharm": {
          "name": "#%% md\n"
        }
      },
      "source": [
        "<a id=\"setup\"></a>\n",
        "## Set up the environment\n",
        "\n",
        "Before you use the sample code in this notebook, you must perform the following setup tasks:\n",
        "\n",
        "-  Create a <a href=\"https://cloud.ibm.com/catalog/services/watsonxai-runtime\" target=\"_blank\" rel=\"noopener no referrer\">watsonx.ai Runtime Service</a> instance (a free plan is offered and information about how to create the instance can be found <a href=\"https://dataplatform.cloud.ibm.com/docs/content/wsj/getting-started/wml-plans.html?context=wx&audience=wdp\" target=\"_blank\" rel=\"noopener no referrer\">here</a>)."
      ]
    },
    {
      "cell_type": "markdown",
      "metadata": {
        "pycharm": {
          "name": "#%% md\n"
        }
      },
      "source": [
        "### Install and import the `datasets` and dependencies"
      ]
    },
    {
      "cell_type": "code",
      "execution_count": null,
      "metadata": {
        "pycharm": {
          "is_executing": true,
          "name": "#%%\n"
        }
      },
      "outputs": [],
      "source": [
        "!pip install -U \"ibm_watsonx_ai>=1.1.22\" | tail -n 1"
      ]
    },
    {
      "cell_type": "markdown",
      "metadata": {
        "pycharm": {
          "name": "#%% md\n"
        }
      },
      "source": [
        "### Define the watsonx.ai credentials\n",
        "Use the code cell below to define the watsonx.ai credentials that are required to work with watsonx Foundation Model inferencing.\n",
        "\n",
        "**Action:** Provide the IBM Cloud user API key. For details, see <a href=\"https://cloud.ibm.com/docs/account?topic=account-userapikey&interface=ui\" target=\"_blank\" rel=\"noopener no referrer\">Managing user API keys</a>."
      ]
    },
    {
      "cell_type": "code",
      "execution_count": 2,
      "metadata": {
        "pycharm": {
          "name": "#%%\n"
        }
      },
      "outputs": [],
      "source": [
        "import getpass\n",
        "from ibm_watsonx_ai import Credentials\n",
        "\n",
        "credentials = Credentials(\n",
        "    url=\"https://us-south.ml.cloud.ibm.com\",\n",
        "    api_key=getpass.getpass(\"Enter your watsonx.ai api key and hit enter: \"),\n",
        ")"
      ]
    },
    {
      "cell_type": "markdown",
      "metadata": {
        "pycharm": {
          "name": "#%% md\n"
        }
      },
      "source": [
        "### Working with spaces\n",
        "\n",
        "You need to create a space that will be used for your work. If you do not have a space, you can use [Deployment Spaces Dashboard](https://dataplatform.cloud.ibm.com/ml-runtime/spaces?context=wx) to create one.\n",
        "\n",
        "- Click **New Deployment Space**\n",
        "- Create an empty space\n",
        "- Select Cloud Object Storage\n",
        "- Select watsonx.ai Runtime instance and press **Create**\n",
        "- Go to **Manage** tab\n",
        "- Copy `Space GUID` and paste it below\n",
        "\n",
        "**Tip**: You can also use SDK to prepare the space for your work. More information can be found [here](https://github.com/IBM/watson-machine-learning-samples/blob/master/cloud/notebooks/python_sdk/instance-management/Space%20management.ipynb).\n",
        "\n",
        "**Action**: assign space ID below"
      ]
    },
    {
      "cell_type": "code",
      "execution_count": 3,
      "metadata": {
        "pycharm": {
          "name": "#%%\n"
        }
      },
      "outputs": [],
      "source": [
        "import os\n",
        "\n",
        "try:\n",
        "    space_id = os.environ[\"SPACE_ID\"]\n",
        "except KeyError:\n",
        "    space_id = input(\"Please enter your space_id (hit enter): \")"
      ]
    },
    {
      "cell_type": "markdown",
      "metadata": {},
      "source": [
        "Create an instance of APIClient with authentication details."
      ]
    },
    {
      "cell_type": "code",
      "execution_count": 7,
      "metadata": {},
      "outputs": [],
      "source": [
        "from ibm_watsonx_ai import APIClient\n",
        "\n",
        "api_client = APIClient(credentials=credentials, space_id=space_id)"
      ]
    },
    {
      "cell_type": "markdown",
      "metadata": {},
      "source": [
        "Specify the `model_id` of the model you will use for the chat with image."
      ]
    },
    {
      "cell_type": "code",
      "execution_count": 8,
      "metadata": {},
      "outputs": [],
      "source": [
        "model_id = \"meta-llama/llama-3-2-11b-vision-instruct\""
      ]
    },
    {
      "cell_type": "markdown",
      "metadata": {},
      "source": [
        "<a id=\"ai_service\"></a>\n",
        "## Create AI service\n",
        "\n",
        "Prepare function which will be deployed using AI service.\n",
        "\n",
        "Please specify the default parameters that will be passed to the function."
      ]
    },
    {
      "cell_type": "code",
      "execution_count": 9,
      "metadata": {},
      "outputs": [],
      "source": [
        "def deployable_ai_service(context, space_id=space_id, url=credentials[\"url\"], model_id=model_id, params={\"temperature\": 1}, **kwargs):\n",
        "\n",
        "    import requests\n",
        "    import base64\n",
        "    from ibm_watsonx_ai import APIClient, Credentials\n",
        "    from ibm_watsonx_ai.foundation_models import ModelInference\n",
        "\n",
        "    api_client = APIClient(\n",
        "        credentials=Credentials(url=url, token=context.generate_token()),\n",
        "        space_id=space_id,\n",
        "    )\n",
        "\n",
        "    model = ModelInference(\n",
        "        model_id=model_id,\n",
        "        api_client=api_client,\n",
        "        params=params,\n",
        "    )\n",
        "\n",
        "    def generate(context) -> dict:\n",
        "\n",
        "        api_client.set_token(context.get_token())\n",
        "\n",
        "        payload = context.get_json()\n",
        "        question = payload[\"question\"]\n",
        "        image_url = payload[\"image_url\"]\n",
        "\n",
        "        response = requests.get(image_url)\n",
        "        response.raise_for_status()\n",
        "        base64_image = base64.b64encode(response.content).decode('utf-8')\n",
        "\n",
        "        messages = [\n",
        "            {\n",
        "                \"role\": \"user\",\n",
        "                \"content\": [\n",
        "                {\n",
        "                    \"type\": \"text\",\n",
        "                    \"text\": question\n",
        "                },\n",
        "                {\n",
        "                    \"type\": \"image_url\",\n",
        "                    \"image_url\": {\n",
        "                        \"url\": \"data:image/jpeg;base64,\" + base64_image,\n",
        "                        \"detail\": \"auto\"\n",
        "                    }\n",
        "                }\n",
        "                ]\n",
        "            }\n",
        "        ]\n",
        "\n",
        "\n",
        "        response = model.chat(messages=messages)\n",
        "\n",
        "        return {\n",
        "            \"body\": response\n",
        "            }\n",
        "\n",
        "    def generate_stream(context):\n",
        "\n",
        "        api_client.set_token(context.get_token())\n",
        "\n",
        "        payload = context.get_json()\n",
        "        question = payload[\"question\"]\n",
        "        image_url = payload[\"image_url\"]\n",
        "\n",
        "        response = requests.get(image_url)\n",
        "        response.raise_for_status()\n",
        "        base64_image = base64.b64encode(response.content).decode('utf-8')\n",
        "\n",
        "        messages = [\n",
        "            {\n",
        "                \"role\": \"user\",\n",
        "                \"content\": [\n",
        "                {\n",
        "                    \"type\": \"text\",\n",
        "                    \"text\": question\n",
        "                },\n",
        "                {\n",
        "                    \"type\": \"image_url\",\n",
        "                    \"image_url\": {\n",
        "                        \"url\": \"data:image/jpeg;base64,\" + base64_image,\n",
        "                        \"detail\": \"auto\"\n",
        "                    }\n",
        "                }\n",
        "                ]\n",
        "            }\n",
        "        ]\n",
        "\n",
        "        yield from model.chat_stream(messages)\n",
        "\n",
        "    return generate, generate_stream"
      ]
    },
    {
      "cell_type": "markdown",
      "metadata": {},
      "source": [
        "<a id=\"testing\"></a>\n",
        "## Testing AI service's function locally\n",
        "\n",
        "You can test AI service's function locally. Initialise `RuntimeContext` firstly."
      ]
    },
    {
      "cell_type": "code",
      "execution_count": 10,
      "metadata": {},
      "outputs": [],
      "source": [
        "from ibm_watsonx_ai.deployments import RuntimeContext\n",
        "\n",
        "context = RuntimeContext(api_client=api_client)"
      ]
    },
    {
      "cell_type": "code",
      "execution_count": 26,
      "metadata": {},
      "outputs": [],
      "source": [
        "local_function = deployable_ai_service(context=context)"
      ]
    },
    {
      "cell_type": "markdown",
      "metadata": {},
      "source": [
        "Please retrieve an image and display it. This example is based on the IBM logo."
      ]
    },
    {
      "cell_type": "code",
      "execution_count": 27,
      "metadata": {},
      "outputs": [
        {
          "data": {
            "text/html": [
              "<img src=\"https://raw.github.com/IBM/watson-machine-learning-samples/master/cloud/data/logo/ibm_logo.jpg\" width=\"600\"/>"
            ],
            "text/plain": [
              "<IPython.core.display.Image object>"
            ]
          },
          "execution_count": 27,
          "metadata": {},
          "output_type": "execute_result"
        }
      ],
      "source": [
        "import requests\n",
        "from IPython.display import Image\n",
        "\n",
        "image_url = \"https://raw.github.com/IBM/watson-machine-learning-samples/master/cloud/data/logo/ibm_logo.jpg\"\n",
        "\n",
        "response = requests.get(image_url)\n",
        "\n",
        "Image(url=image_url, width=600)"
      ]
    },
    {
      "cell_type": "markdown",
      "metadata": {},
      "source": [
        "Prepare request json payload for local invoke."
      ]
    },
    {
      "cell_type": "code",
      "execution_count": 28,
      "metadata": {},
      "outputs": [],
      "source": [
        "context.request_payload_json = {\"question\": \"Describe the image\", \"image_url\": image_url}"
      ]
    },
    {
      "cell_type": "markdown",
      "metadata": {},
      "source": [
        "Execute the `generate` function locally."
      ]
    },
    {
      "cell_type": "code",
      "execution_count": 29,
      "metadata": {},
      "outputs": [
        {
          "data": {
            "text/plain": [
              "{'body': {'id': 'chat-ba0d11524b474e8fa66dd48b951b2905',\n",
              "  'model_id': 'meta-llama/llama-3-2-11b-vision-instruct',\n",
              "  'model': 'meta-llama/llama-3-2-11b-vision-instruct',\n",
              "  'choices': [{'index': 0,\n",
              "    'message': {'role': 'assistant',\n",
              "     'content': 'The image displays the IBM logo, which is a blue graphic of horizontal bars arranged in a specific pattern. \\n\\n* The IBM logo is centered in the image.\\n\\t+ The logo is blue and consists of a series of horizontal bars.\\n\\t+ The bars are arranged in a staggered pattern, with some bars being longer than others.\\n\\t+ The bars are a deep blue color, which is the primary color of the IBM brand.\\n* There is a small, blue registered trademark symbol located below and to the right of the IBM logo.\\n\\t+ The symbol is a circle with the letter \"R\" inside it.\\n\\t+ It is smaller than the IBM logo but still easily visible.\\n* The background of the image is white.\\n\\t+ The white background provides a clean and simple contrast to the blue IBM logo.\\n\\t+ It helps to make the logo stand out and draws attention to it.\\n\\nOverall, the image effectively displays the IBM logo in a clear and visually appealing way, making it easy to identify the brand.'},\n",
              "    'finish_reason': 'stop'}],\n",
              "  'created': 1733128277,\n",
              "  'model_version': '3.2.0',\n",
              "  'created_at': '2024-12-02T08:31:20.908Z',\n",
              "  'usage': {'completion_tokens': 206,\n",
              "   'prompt_tokens': 6418,\n",
              "   'total_tokens': 6624},\n",
              "  'system': {'warnings': [{'message': 'This model is a Non-IBM Product governed by a third-party license that may impose use restrictions and other obligations. By using this model you agree to its terms as identified in the following URL.',\n",
              "     'id': 'disclaimer_warning',\n",
              "     'more_info': 'https://dataplatform.cloud.ibm.com/docs/content/wsj/analyze-data/fm-models.html?context=wx'},\n",
              "    {'message': \"The value of 'max_tokens' for this model was set to value 1024\",\n",
              "     'id': 'unspecified_max_token',\n",
              "     'additional_properties': {'limit': 0,\n",
              "      'new_value': 1024,\n",
              "      'parameter': 'max_tokens',\n",
              "      'value': 0}}]}}}"
            ]
          },
          "execution_count": 29,
          "metadata": {},
          "output_type": "execute_result"
        }
      ],
      "source": [
        "resp = local_function[0](context)\n",
        "resp"
      ]
    },
    {
      "cell_type": "markdown",
      "metadata": {},
      "source": [
        "Execute the `generate_stream` function locally."
      ]
    },
    {
      "cell_type": "code",
      "execution_count": 15,
      "metadata": {},
      "outputs": [],
      "source": [
        "response = local_function[1](context)"
      ]
    },
    {
      "cell_type": "code",
      "execution_count": 16,
      "metadata": {},
      "outputs": [
        {
          "name": "stdout",
          "output_type": "stream",
          "text": [
            "The image displays the IBM logo, which is a stylized representation of the company's name in blue text against a white background. The logo is made up of horizontal lines that form the letters \"IBM\" in a unique and distinctive way.\n",
            "\n",
            "* The word \"IBM\" is written in blue text, with each letter composed of several horizontal lines.\n",
            "\t+ The lines are arranged in a staggered pattern, with some lines being longer or shorter than others.\n",
            "\t+ The lines are also spaced unevenly, giving the text a slightly irregular appearance.\n",
            "* A small registered trademark symbol is located to the right of the word \"IBM\".\n",
            "\t+ The symbol is also blue and is centered below the \"M\" in the word \"IBM\".\n",
            "\t+ It is a small circle with an \"R\" inside it, indicating that the image is a registered trademark.\n",
            "* The background of the image is white, which provides good contrast to the blue text and makes the image stand out.\n",
            "\t+ The white background also helps to make the logo appear more modern and sleek.\n",
            "\n",
            "Overall, the image effectively communicates the IBM brand identity through its distinctive logo and color scheme. The use of horizontal lines to form the text gives the logo a unique and memorable appearance, while the registered trademark symbol adds a touch of professionalism and authenticity."
          ]
        }
      ],
      "source": [
        "for chunk in response:\n",
        "    if chunk[\"choices\"]:\n",
        "        print(chunk[\"choices\"][0][\"delta\"].get(\"content\", \"\"), end=\"\", flush=True)"
      ]
    },
    {
      "cell_type": "markdown",
      "metadata": {},
      "source": [
        "<a id=\"deploy\"></a>\n",
        "## Deploy AI service"
      ]
    },
    {
      "cell_type": "markdown",
      "metadata": {},
      "source": [
        "Store AI service with previous created custom software specifications."
      ]
    },
    {
      "cell_type": "code",
      "execution_count": 17,
      "metadata": {},
      "outputs": [
        {
          "data": {
            "text/plain": [
              "'45f12dfe-aa78-5b8d-9f38-0ee223c47309'"
            ]
          },
          "execution_count": 17,
          "metadata": {},
          "output_type": "execute_result"
        }
      ],
      "source": [
        "sw_spec_id = api_client.software_specifications.get_id_by_name(\"runtime-24.1-py3.11\")\n",
        "sw_spec_id"
      ]
    },
    {
      "cell_type": "code",
      "execution_count": 18,
      "metadata": {},
      "outputs": [],
      "source": [
        "meta_props = {\n",
        "    api_client.repository.AIServiceMetaNames.NAME: \"AI service with SDK\",\n",
        "    api_client.repository.AIServiceMetaNames.SOFTWARE_SPEC_ID: sw_spec_id\n",
        "}\n",
        "stored_ai_service_details = api_client.repository.store_ai_service(deployable_ai_service, meta_props)"
      ]
    },
    {
      "cell_type": "code",
      "execution_count": 19,
      "metadata": {},
      "outputs": [
        {
          "data": {
            "text/plain": [
              "'8a37cd0e-42f1-4f31-9680-c498fdeda39d'"
            ]
          },
          "execution_count": 19,
          "metadata": {},
          "output_type": "execute_result"
        }
      ],
      "source": [
        "ai_service_id = api_client.repository.get_ai_service_id(stored_ai_service_details)\n",
        "ai_service_id"
      ]
    },
    {
      "cell_type": "markdown",
      "metadata": {},
      "source": [
        "Create online deployment of AI service."
      ]
    },
    {
      "cell_type": "code",
      "execution_count": 20,
      "metadata": {},
      "outputs": [
        {
          "name": "stdout",
          "output_type": "stream",
          "text": [
            "\n",
            "\n",
            "######################################################################################\n",
            "\n",
            "Synchronous deployment creation for id: '8a37cd0e-42f1-4f31-9680-c498fdeda39d' started\n",
            "\n",
            "######################################################################################\n",
            "\n",
            "\n",
            "initializing\n",
            "Note: online_url and serving_urls are deprecated and will be removed in a future release. Use inference instead.\n",
            "...\n",
            "ready\n",
            "\n",
            "\n",
            "-----------------------------------------------------------------------------------------------\n",
            "Successfully finished deployment creation, deployment_id='7aacf0e9-111b-42f9-899b-8b88405cf7bf'\n",
            "-----------------------------------------------------------------------------------------------\n",
            "\n",
            "\n"
          ]
        }
      ],
      "source": [
        "meta_props = {\n",
        "    api_client.deployments.ConfigurationMetaNames.NAME: \"AI service with SDK\",\n",
        "    api_client.deployments.ConfigurationMetaNames.ONLINE: {},\n",
        "}\n",
        "\n",
        "deployment_details = api_client.deployments.create(ai_service_id, meta_props)"
      ]
    },
    {
      "cell_type": "markdown",
      "metadata": {},
      "source": [
        "Obtain the `deployment_id` of the previously created deployment."
      ]
    },
    {
      "cell_type": "code",
      "execution_count": 21,
      "metadata": {},
      "outputs": [],
      "source": [
        "deployment_id = api_client.deployments.get_id(deployment_details)"
      ]
    },
    {
      "cell_type": "markdown",
      "metadata": {},
      "source": [
        "<a id=\"example\"></a>\n",
        "## Example of Executing an AI service.\n",
        "\n",
        "Execute `generate` method."
      ]
    },
    {
      "cell_type": "code",
      "execution_count": 22,
      "metadata": {},
      "outputs": [],
      "source": [
        "question = \"Describe the image\"\n",
        "\n",
        "deployments_results = api_client.deployments.run_ai_service(\n",
        "    deployment_id, {\"question\": question, \"image_url\": image_url}\n",
        ")"
      ]
    },
    {
      "cell_type": "code",
      "execution_count": 23,
      "metadata": {},
      "outputs": [
        {
          "name": "stdout",
          "output_type": "stream",
          "text": [
            "{\n",
            "  \"choices\": [\n",
            "    {\n",
            "      \"finish_reason\": \"stop\",\n",
            "      \"index\": 0,\n",
            "      \"message\": {\n",
            "        \"content\": \"The image is a mockup of the IBM logo, comprising horizontal blue bars of varying lengths arranged in a design resembling stacked letters J and I, respectively. A smaller circle bearing the text \\\"\\u00ae,\\\" likely to represent a \\\"Registered Graphic,\\\" to the right of the outstretched \\\"M\\\" signifies that the logo consists of a Registered Graphic. \\n\\nThe logo evokes a connection between detailing and the mechanical or computational aspects of language represented in a computer program. The blocks of letters J and I being in a digital format indicate how machine-process and letters stay connected; it has captured the roots of the an illiterate language spoken through machine-like and mathematical language. This symbol stretches far further as to romance of a digital culture in the spirit of story-telling. Hence, Barings closes reinforces IBM as one of the top digital cultures out there, made a part of user\\u2019s life during the darker years of digital start-up businesses with romance of a strong culture and bullish economy. In a nutshell, it's IBM: \\\" Inspiring Business Machines\\\".\\n\\nAnswer: IBM logo mockup.\",\n",
            "        \"role\": \"assistant\"\n",
            "      }\n",
            "    }\n",
            "  ],\n",
            "  \"created\": 1733128221,\n",
            "  \"created_at\": \"2024-12-02T08:30:25.247Z\",\n",
            "  \"id\": \"chat-9c81ef1cd32443bbb99444d2d1176163\",\n",
            "  \"model\": \"meta-llama/llama-3-2-11b-vision-instruct\",\n",
            "  \"model_id\": \"meta-llama/llama-3-2-11b-vision-instruct\",\n",
            "  \"model_version\": \"3.2.0\",\n",
            "  \"system\": {\n",
            "    \"warnings\": [\n",
            "      {\n",
            "        \"id\": \"disclaimer_warning\",\n",
            "        \"message\": \"This model is a Non-IBM Product governed by a third-party license that may impose use restrictions and other obligations. By using this model you agree to its terms as identified in the following URL.\",\n",
            "        \"more_info\": \"https://dataplatform.cloud.ibm.com/docs/content/wsj/analyze-data/fm-models.html?context=wx\"\n",
            "      },\n",
            "      {\n",
            "        \"additional_properties\": {\n",
            "          \"limit\": 0,\n",
            "          \"new_value\": 1024,\n",
            "          \"parameter\": \"max_tokens\",\n",
            "          \"value\": 0\n",
            "        },\n",
            "        \"id\": \"unspecified_max_token\",\n",
            "        \"message\": \"The value of 'max_tokens' for this model was set to value 1024\"\n",
            "      }\n",
            "    ]\n",
            "  },\n",
            "  \"usage\": {\n",
            "    \"completion_tokens\": 217,\n",
            "    \"prompt_tokens\": 6418,\n",
            "    \"total_tokens\": 6635\n",
            "  }\n",
            "}\n"
          ]
        }
      ],
      "source": [
        "import json\n",
        "\n",
        "print(json.dumps(deployments_results, indent=2))"
      ]
    },
    {
      "cell_type": "markdown",
      "metadata": {},
      "source": [
        "Execute `generate_stream` method."
      ]
    },
    {
      "cell_type": "code",
      "execution_count": 24,
      "metadata": {},
      "outputs": [],
      "source": [
        "question = \"Describe the image\"\n",
        "\n",
        "deployments_results = api_client.deployments.run_ai_service_stream(\n",
        "    deployment_id, {\"question\": question, \"image_url\": image_url}\n",
        ")"
      ]
    },
    {
      "cell_type": "code",
      "execution_count": 25,
      "metadata": {},
      "outputs": [
        {
          "name": "stdout",
          "output_type": "stream",
          "text": [
            "The image displays the IBM logo, which is a blue graphic of the letters \"IBM\" in a stylized font. The logo is set against a white background and features a registered trademark symbol (R) to the right of the letters.\n",
            "\n",
            "*   **Logo:**\n",
            "    *   The logo is centered in the image and consists of the letters \"IBM\" in a stylized font.\n",
            "    *   The letters are blue and have a series of horizontal lines extending from the top and bottom of each letter.\n",
            "    *   The lines are evenly spaced and create a sense of depth and dimensionality.\n",
            "*   **Background:**\n",
            "    *   The background of the image is white, which provides a clean and neutral contrast to the blue logo.\n",
            "*   **Registered Trademark Symbol:**\n",
            "    *   To the right of the logo, there is a registered trademark symbol (R) in blue.\n",
            "    *   The symbol is small and unobtrusive, but it serves as a reminder that the logo is a registered trademark.\n",
            "\n",
            "Overall, the image effectively communicates the IBM brand identity through its use of a distinctive logo and a clean, professional design."
          ]
        }
      ],
      "source": [
        "import json\n",
        "\n",
        "for chunk in deployments_results:\n",
        "    chunk_json = json.loads(chunk)\n",
        "    if chunk_json[\"choices\"]:\n",
        "        print(chunk_json[\"choices\"][0][\"delta\"].get(\"content\", \"\"), end=\"\", flush=True)"
      ]
    },
    {
      "cell_type": "markdown",
      "metadata": {
        "pycharm": {
          "name": "#%% md\n"
        }
      },
      "source": [
        "<a id=\"summary\"></a>\n",
        "## Summary and next steps\n",
        "\n",
        "You successfully completed this notebook!\n",
        "\n",
        "You learned how to create and deploy AI service using `ibm_watsonx_ai` SDK.\n",
        "\n",
        "Check out our _<a href=\"https://ibm.github.io/watsonx-ai-python-sdk/samples.html\" target=\"_blank\" rel=\"noopener no referrer\">Online Documentation</a>_ for more samples, tutorials, documentation, how-tos, and blog posts. "
      ]
    },
    {
      "cell_type": "markdown",
      "metadata": {
        "pycharm": {
          "name": "#%% md\n"
        }
      },
      "source": [
        "### Author\n",
        "\n",
        "**Mateusz Szewczyk**, Software Engineer at watsonx.ai."
      ]
    },
    {
      "cell_type": "markdown",
      "metadata": {},
      "source": [
        "Copyright © 2024-2025 IBM. This notebook and its source code are released under the terms of the MIT License."
      ]
    }
  ],
  "metadata": {
    "kernelspec": {
      "display_name": "watsonx-ai-rt23.1-py310-osx64",
      "language": "python",
      "name": "python3"
    },
    "language_info": {
      "codemirror_mode": {
        "name": "ipython",
        "version": 3
      },
      "file_extension": ".py",
      "mimetype": "text/x-python",
      "name": "python",
      "nbconvert_exporter": "python",
      "pygments_lexer": "ipython3",
      "version": "3.10.13"
    }
  },
  "nbformat": 4,
  "nbformat_minor": 4
}
