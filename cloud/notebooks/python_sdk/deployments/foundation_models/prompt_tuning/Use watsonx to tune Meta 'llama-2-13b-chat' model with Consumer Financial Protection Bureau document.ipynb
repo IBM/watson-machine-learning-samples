{
 "cells": [
  {
   "cell_type": "markdown",
   "metadata": {
    "pycharm": {
     "name": "#%% md\n"
    }
   },
   "source": [
    "![image](https://raw.githubusercontent.com/IBM/watson-machine-learning-samples/master/cloud/notebooks/headers/watsonx-Prompt_Lab-Notebook.png)\n",
    "# Use watsonx to tune Meta `llama-2-13b-chat` model with Consumer Financial Protection Bureau document"
   ]
  },
  {
   "cell_type": "markdown",
   "metadata": {
    "pycharm": {
     "name": "#%% md\n"
    }
   },
   "source": [
    "#### Disclaimers\n",
    "\n",
    "- Use only Projects and Spaces that are available in watsonx context.\n",
    "\n",
    "\n",
    "## Notebook content\n",
    "\n",
    "This notebook contains the steps and code to demonstrate support of prompt tuning in watsonx.\n",
    "\n",
    "Some familiarity with Python is helpful. This notebook uses Python 3.11.\n",
    "\n",
    "\n",
    "## Learning goal\n",
    "\n",
    "The goal of this notebook is to demonstrate how to:\n",
    "- upload of dataset with prompts to container (project)\n",
    "- finding best tuning parameters (hyper-parameters optimization)\n",
    "- trigger prompt tuning process\n",
    "- review of prompt tuning process details/results\n",
    "- deploy prompt-tuned model/asset\n",
    "- evaluation (via inference) of prompt-tuned model/asset\n",
    "\n",
    "\n",
    "## Contents\n",
    "\n",
    "This notebook contains the following parts:\n",
    "\n",
    "- [Setup](#setup)\n",
    "- [Data loading](#data_loading)\n",
    "- [Initialize experiment](#initialize)\n",
    "- [Hyper-parameters optimization](#hpo)\n",
    "- [Run Prompt Tuning](#run_tuning)\n",
    "- [Prompt Tuning details](#run_details)\n",
    "- [Deploy](#deploy)\n",
    "- [Foundation Models Inference](#models_inference)\n",
    "- [Analyze the satisfaction](#predict)\n",
    "- [Summary and next steps](#summary)"
   ]
  },
  {
   "cell_type": "markdown",
   "metadata": {
    "pycharm": {
     "name": "#%% md\n"
    }
   },
   "source": [
    "<a id=\"setup\"></a>\n",
    "## Set up the environment\n",
    "\n",
    "Before you use the sample code in this notebook, you must perform the following setup tasks:\n",
    "\n",
    "-  Create a <a href=\"https://cloud.ibm.com/catalog/services/watson-machine-learning\" target=\"_blank\" rel=\"noopener no referrer\">Watson Machine Learning (WML) Service</a> instance (a free plan is offered and information about how to create the instance can be found <a href=\"https://dataplatform.cloud.ibm.com/docs/content/wsj/getting-started/wml-plans.html?context=wx&audience=wdp\" target=\"_blank\" rel=\"noopener no referrer\">here</a>)."
   ]
  },
  {
   "cell_type": "markdown",
   "metadata": {
    "pycharm": {
     "name": "#%% md\n"
    }
   },
   "source": [
    "### Install and import the `datasets` and dependencies"
   ]
  },
  {
   "cell_type": "code",
   "execution_count": null,
   "metadata": {
    "pycharm": {
     "name": "#%%\n"
    }
   },
   "outputs": [],
   "source": [
    "!pip install -U ibm-watsonx-ai | tail -n 1\n",
    "!pip install \"scikit-learn==1.3.2\" | tail -n 1\n",
    "!pip install matplotlib | tail -n 1\n",
    "!pip install wget | tail -n 1"
   ]
  },
  {
   "cell_type": "markdown",
   "metadata": {
    "pycharm": {
     "name": "#%% md\n"
    }
   },
   "source": [
    "### Watsonx API connection\n",
    "This cell defines the credentials required to work with watsonx API for Foundation\n",
    "Model inferencing.\n",
    "\n",
    "**Action:** Provide the IBM Cloud user API key. For details, see <a href=\"https://cloud.ibm.com/docs/account?topic=account-userapikey&interface=ui\" target=\"_blank\" rel=\"noopener no referrer\">documentation</a>."
   ]
  },
  {
   "cell_type": "code",
   "execution_count": 2,
   "metadata": {
    "pycharm": {
     "name": "#%%\n"
    }
   },
   "outputs": [],
   "source": [
    "import getpass\n",
    "from ibm_watsonx_ai import Credentials\n",
    "\n",
    "credentials = Credentials(\n",
    "    url=\"https://us-south.ml.cloud.ibm.com\",\n",
    "    api_key=getpass.getpass(\"Please enter your WML api key (hit enter): \"),\n",
    ")"
   ]
  },
  {
   "cell_type": "markdown",
   "metadata": {
    "pycharm": {
     "name": "#%% md\n"
    }
   },
   "source": [
    "### Defining the project id\n",
    "The Foundation Model requires project id that provides the context for the call. We will obtain the id from the project in which this notebook runs. Otherwise, please provide the project id."
   ]
  },
  {
   "cell_type": "code",
   "execution_count": 4,
   "metadata": {
    "pycharm": {
     "name": "#%%\n"
    }
   },
   "outputs": [],
   "source": [
    "import os\n",
    "\n",
    "try:\n",
    "    project_id = os.environ[\"PROJECT_ID\"]\n",
    "except KeyError:\n",
    "    project_id = input(\"Please enter your project_id (hit enter): \")"
   ]
  },
  {
   "cell_type": "markdown",
   "metadata": {
    "pycharm": {
     "name": "#%% md\n"
    }
   },
   "source": [
    "Create an instance of APIClient with authentication details."
   ]
  },
  {
   "cell_type": "code",
   "execution_count": 7,
   "metadata": {
    "pycharm": {
     "name": "#%%\n"
    }
   },
   "outputs": [],
   "source": [
    "from ibm_watsonx_ai import APIClient\n",
    "\n",
    "client = APIClient(credentials)"
   ]
  },
  {
   "cell_type": "markdown",
   "metadata": {
    "pycharm": {
     "name": "#%% md\n"
    }
   },
   "source": [
    "To be able to interact with all resources available in Watson Machine Learning, you need to set **project_id** which you will be using."
   ]
  },
  {
   "cell_type": "code",
   "execution_count": 8,
   "metadata": {
    "pycharm": {
     "name": "#%%\n"
    }
   },
   "outputs": [
    {
     "data": {
      "text/plain": [
       "'SUCCESS'"
      ]
     },
     "execution_count": 8,
     "metadata": {},
     "output_type": "execute_result"
    }
   ],
   "source": [
    "client.set.default_project(project_id)"
   ]
  },
  {
   "cell_type": "markdown",
   "metadata": {
    "pycharm": {
     "name": "#%% md\n"
    }
   },
   "source": [
    "<a id=\"data_loading\"></a>\n",
    "## Data loading"
   ]
  },
  {
   "cell_type": "markdown",
   "metadata": {
    "pycharm": {
     "name": "#%% md\n"
    }
   },
   "source": [
    "This example uses the Consumer Financial Protection Bureau training dataset. "
   ]
  },
  {
   "cell_type": "code",
   "execution_count": 9,
   "metadata": {
    "pycharm": {
     "name": "#%%\n"
    }
   },
   "outputs": [],
   "source": [
    "filename = 'cfpb_train.json'"
   ]
  },
  {
   "cell_type": "markdown",
   "metadata": {
    "pycharm": {
     "name": "#%% md\n"
    }
   },
   "source": [
    "Download training data from git repository and create data assets."
   ]
  },
  {
   "cell_type": "code",
   "execution_count": null,
   "metadata": {
    "pycharm": {
     "is_executing": true,
     "name": "#%%\n"
    }
   },
   "outputs": [],
   "source": [
    "import wget\n",
    "import os\n",
    "\n",
    "url = \"https://raw.github.com/IBM/watson-machine-learning-samples/master/cloud/data/prompt_tuning/cfpb_train.json\"\n",
    "if not os.path.isfile(filename): \n",
    "    wget.download(url)\n",
    "    \n",
    "asset_details = client.data_assets.create(name=filename, file_path=filename)\n",
    "asset_id = client.data_assets.get_id(asset_details)"
   ]
  },
  {
   "cell_type": "markdown",
   "metadata": {
    "pycharm": {
     "name": "#%% md\n"
    }
   },
   "source": [
    "Define connection information to training data."
   ]
  },
  {
   "cell_type": "code",
   "execution_count": 12,
   "metadata": {
    "pycharm": {
     "name": "#%%\n"
    }
   },
   "outputs": [],
   "source": [
    "from ibm_watsonx_ai.helpers import DataConnection\n",
    "\n",
    "data_conn = DataConnection(data_asset_id=asset_id)"
   ]
  },
  {
   "cell_type": "markdown",
   "metadata": {
    "pycharm": {
     "name": "#%% md\n"
    }
   },
   "source": [
    "<a id=\"initialize\"></a>\n",
    "## Initialize experiment"
   ]
  },
  {
   "cell_type": "code",
   "execution_count": 21,
   "metadata": {
    "collapsed": false,
    "pycharm": {
     "name": "#%%\n"
    }
   },
   "outputs": [],
   "source": [
    "from ibm_watsonx_ai.experiment import TuneExperiment\n",
    "\n",
    "experiment = TuneExperiment(credentials, project_id=project_id)"
   ]
  },
  {
   "cell_type": "markdown",
   "metadata": {
    "collapsed": false,
    "pycharm": {
     "name": "#%% md\n"
    }
   },
   "source": [
    "All avaliable tasks are presented under `Tasks` Enum"
   ]
  },
  {
   "cell_type": "code",
   "execution_count": 22,
   "metadata": {
    "collapsed": false,
    "pycharm": {
     "name": "#%%\n"
    }
   },
   "outputs": [
    {
     "data": {
      "text/plain": [
       "{'QUESTION_ANSWERING': 'question_answering',\n",
       " 'SUMMARIZATION': 'summarization',\n",
       " 'RETRIEVAL_AUGMENTED_GENERATION': 'retrieval_augmented_generation',\n",
       " 'CLASSIFICATION': 'classification',\n",
       " 'GENERATION': 'generation',\n",
       " 'CODE_GENERATION_AND_CONVERSION': 'code',\n",
       " 'EXTRACTION': 'extraction',\n",
       " 'TRANSLATION': 'translation'}"
      ]
     },
     "execution_count": 22,
     "metadata": {},
     "output_type": "execute_result"
    }
   ],
   "source": [
    "{task.name: task.value for task in experiment.Tasks}"
   ]
  },
  {
   "cell_type": "markdown",
   "metadata": {
    "collapsed": false,
    "pycharm": {
     "name": "#%% md\n"
    }
   },
   "source": [
    "<a id=\"hpo\"></a>\n",
    "## Hyper-parameters optimization\n",
    "\n",
    "The goal of hyper-parameters optimization is to find the best `learning_rate` value yielding the lowest loss. The search space can be extended to other parameters like `num_epochs` or `batch_size`.\n",
    "**Hint:** To execute the code change the cell type to Code and remove markdown marks. Note that HPO takes significant time and resources.\n"
   ]
  },
  {
   "cell_type": "markdown",
   "metadata": {
    "collapsed": false,
    "pycharm": {
     "name": "#%% md\n"
    }
   },
   "source": [
    "```python\n",
    "!pip install scikit-optimize | tail -n 1\n",
    "```"
   ]
  },
  {
   "cell_type": "markdown",
   "metadata": {
    "collapsed": false,
    "pycharm": {
     "name": "#%% md\n"
    }
   },
   "source": [
    "### Train function\n",
    "Let's define the `train_evaluate` function that will accepts set of parameters from SEARCH dict and return the loss value.\n",
    "In addition, we will measure the elapsed time. To speed up the HPO time we will use only 3 epochs."
   ]
  },
  {
   "cell_type": "markdown",
   "metadata": {
    "collapsed": false,
    "pycharm": {
     "name": "#%% md\n"
    }
   },
   "source": [
    "```python\n",
    "import time\n",
    "\n",
    "def train_evaluate(search_params):\n",
    "    prompt_tuner = experiment.prompt_tuner(name=\"Prompt tuning with HPO - \" + str(search_params),\n",
    "                                           base_model='meta-llama/llama-2-13b-chat',\n",
    "                                           task_id=experiment.Tasks.CLASSIFICATION,\n",
    "                                           tuning_type=experiment.PromptTuningTypes.PT,\n",
    "                                           num_epochs=3,\n",
    "                                           batch_size=8,\n",
    "                                           max_input_tokens=256,\n",
    "                                           max_output_tokens=20,\n",
    "                                           verbalizer=\"Including narratives choice the best match product with the items from the list: 'credit_card', 'debt_collection', 'mortgages_and_loans', 'credit_reporting', 'retail_banking'. Input: {{input}} Output: \",\n",
    "                                           auto_update_model=False,\n",
    "                                           **search_params\n",
    "                                           )\n",
    "\n",
    "    tuning_details = prompt_tuner.run(training_data_references=[data_conn], background_mode=True)\n",
    "    print(f\"Starting the tune...\")\n",
    "    print(f\"hyper-parameters\", str(search_params))\n",
    "    start = time.time()\n",
    "\n",
    "    while prompt_tuner.get_run_status() not in ['failed', 'canceled', 'completed']:\n",
    "        tuning_details = prompt_tuner.get_run_details()\n",
    "        time.sleep(10)\n",
    "    end = time.time() - start\n",
    "\n",
    "    if prompt_tuner.get_run_status() in ['failed', 'canceled']:\n",
    "        print(\"Model tuning failed or halted\")\n",
    "        return 10\n",
    "\n",
    "    try:\n",
    "       loss = prompt_tuner.summary().loss.values[0]\n",
    "    except:\n",
    "        loss = 10\n",
    "\n",
    "    print(prompt_tuner.get_run_status(), 'loss: ',  loss, ' | run time', end)\n",
    "    return loss\n",
    "```"
   ]
  },
  {
   "cell_type": "markdown",
   "metadata": {
    "collapsed": false,
    "pycharm": {
     "name": "#%% md\n"
    }
   },
   "source": [
    "### Search space and optimization\n",
    "In next step let's define the search space for `learning_rate` and objective function."
   ]
  },
  {
   "cell_type": "markdown",
   "metadata": {
    "collapsed": false,
    "pycharm": {
     "name": "#%% md\n"
    }
   },
   "source": [
    "```python\n",
    "import skopt\n",
    "\n",
    "SPACE = [\n",
    "    skopt.space.Real(0.001, 0.09, name='learning_rate', prior='log-uniform')\n",
    "]\n",
    "\n",
    "@skopt.utils.use_named_args(SPACE)\n",
    "def objective(**params):\n",
    "    return train_evaluate(params)\n",
    "\n",
    "results = skopt.forest_minimize(objective, SPACE, n_calls=10)\n",
    "best_loss = results.fun\n",
    "best_params = results.x\n",
    "\n",
    "print('best result: ', best_loss)\n",
    "print('best parameters: ', best_params)\n",
    "```"
   ]
  },
  {
   "cell_type": "markdown",
   "metadata": {
    "collapsed": false,
    "pycharm": {
     "name": "#%% md\n"
    }
   },
   "source": [
    "<a id=\"run_tuning\"></a>\n",
    "## Run Prompt Tuning"
   ]
  },
  {
   "cell_type": "markdown",
   "metadata": {
    "collapsed": false,
    "pycharm": {
     "name": "#%% md\n"
    }
   },
   "source": [
    "Run a prompt tuning process of foundation model on top of the training data referenced by DataConnection (tuning may take some time)."
   ]
  },
  {
   "cell_type": "markdown",
   "metadata": {
    "collapsed": false,
    "pycharm": {
     "name": "#%% md\n"
    }
   },
   "source": [
    "Define `prompt_tuner` parameters. In the example below the `learning_rate` value was established using the HPO runs described above.\n",
    "\n",
    "**Action:** For parameters details, see <a href=\"https://ibm.github.io/watsonx-ai-python-sdk/tune_experiment.html#ibm_watsonx_ai.experiment.fm_tune.TuneExperiment.prompt_tuner\" target=\"_blank\" rel=\"noopener no referrer\">documentation</a>."
   ]
  },
  {
   "cell_type": "code",
   "execution_count": 186,
   "metadata": {
    "collapsed": false,
    "pycharm": {
     "name": "#%%\n"
    }
   },
   "outputs": [],
   "source": [
    "prompt_tuner = experiment.prompt_tuner(name=\"Llama-2-13b-chat prompt tuning - python SDK\",\n",
    "                                       task_id=experiment.Tasks.CLASSIFICATION,\n",
    "                                       base_model='meta-llama/llama-2-13b-chat',\n",
    "                                       accumulate_steps=32,\n",
    "                                       batch_size=8,\n",
    "                                       learning_rate=0.05881198993298603,\n",
    "                                       max_input_tokens=256,\n",
    "                                       max_output_tokens=10,\n",
    "                                       num_epochs=12,\n",
    "                                       tuning_type=experiment.PromptTuningTypes.PT,\n",
    "                                       verbalizer=\"Including narratives choice the best match product with the items from the list: 'credit_card', 'debt_collection', 'mortgages_and_loans', 'credit_reporting', 'retail_banking'. Input: {{input}} Output: \",\n",
    "                                       auto_update_model=True\n",
    "                                       )"
   ]
  },
  {
   "cell_type": "markdown",
   "metadata": {
    "collapsed": false,
    "pycharm": {
     "name": "#%% md\n"
    }
   },
   "source": [
    "You can review previous set parameters"
   ]
  },
  {
   "cell_type": "code",
   "execution_count": 187,
   "metadata": {
    "collapsed": false,
    "pycharm": {
     "name": "#%%\n"
    }
   },
   "outputs": [
    {
     "data": {
      "text/plain": [
       "{'base_model': {'model_id': 'meta-llama/llama-2-13b-chat'},\n",
       " 'accumulate_steps': 32,\n",
       " 'batch_size': 8,\n",
       " 'learning_rate': 0.05881198993298603,\n",
       " 'max_input_tokens': 256,\n",
       " 'max_output_tokens': 10,\n",
       " 'num_epochs': 12,\n",
       " 'task_id': 'classification',\n",
       " 'tuning_type': 'prompt_tuning',\n",
       " 'verbalizer': \"Including narratives choice the best match product with the items from the list: 'credit_card', 'debt_collection', 'mortgages_and_loans', 'credit_reporting', 'retail_banking'. Input: {{input}} Output: \",\n",
       " 'name': 'Llama-2-13b-chat prompt tuning - python SDK',\n",
       " 'description': 'Prompt tuning with SDK',\n",
       " 'auto_update_model': True,\n",
       " 'group_by_name': False}"
      ]
     },
     "execution_count": 187,
     "metadata": {},
     "output_type": "execute_result"
    }
   ],
   "source": [
    "prompt_tuner.get_params()"
   ]
  },
  {
   "cell_type": "markdown",
   "metadata": {
    "collapsed": false,
    "pycharm": {
     "name": "#%% md\n"
    }
   },
   "source": [
    "By changing the `background_mode` parameter to `True`, the prompt tuning process will run in the background."
   ]
  },
  {
   "cell_type": "code",
   "execution_count": 188,
   "metadata": {
    "collapsed": false,
    "pycharm": {
     "name": "#%%\n"
    }
   },
   "outputs": [
    {
     "name": "stdout",
     "output_type": "stream",
     "text": [
      "\n",
      "\n",
      "##############################################\n",
      "\n",
      "Running '347b4fbd-6edb-4a88-b4c6-c74829e7695a'\n",
      "\n",
      "##############################################\n",
      "\n",
      "\n",
      "pending.................\n",
      "running..................................................................................................................................................................................................................................................................................................\n",
      "completed\n",
      "Training of '347b4fbd-6edb-4a88-b4c6-c74829e7695a' finished successfully.\n"
     ]
    }
   ],
   "source": [
    "tuning_details = prompt_tuner.run(training_data_references=[data_conn], background_mode=False)"
   ]
  },
  {
   "cell_type": "markdown",
   "metadata": {
    "collapsed": false,
    "pycharm": {
     "name": "#%% md\n"
    }
   },
   "source": [
    "<a id=\"run_details\"></a>\n",
    "## Prompt Tuning details"
   ]
  },
  {
   "cell_type": "markdown",
   "metadata": {
    "collapsed": false,
    "pycharm": {
     "name": "#%% md\n"
    }
   },
   "source": [
    "Check status/state of initialized Prompt Tuning run if ran in background mode or when process finish if background mode is off."
   ]
  },
  {
   "cell_type": "code",
   "execution_count": 189,
   "metadata": {
    "collapsed": false,
    "pycharm": {
     "name": "#%%\n"
    }
   },
   "outputs": [
    {
     "data": {
      "text/plain": [
       "'completed'"
      ]
     },
     "execution_count": 189,
     "metadata": {},
     "output_type": "execute_result"
    }
   ],
   "source": [
    "prompt_tuner.get_run_status()"
   ]
  },
  {
   "cell_type": "markdown",
   "metadata": {
    "collapsed": false,
    "pycharm": {
     "name": "#%% md\n"
    }
   },
   "source": [
    "Let's summarize the run."
   ]
  },
  {
   "cell_type": "code",
   "execution_count": 191,
   "metadata": {
    "collapsed": false,
    "pycharm": {
     "name": "#%%\n"
    }
   },
   "outputs": [
    {
     "data": {
      "text/html": [
       "<div>\n",
       "<style scoped>\n",
       "    .dataframe tbody tr th:only-of-type {\n",
       "        vertical-align: middle;\n",
       "    }\n",
       "\n",
       "    .dataframe tbody tr th {\n",
       "        vertical-align: top;\n",
       "    }\n",
       "\n",
       "    .dataframe thead th {\n",
       "        text-align: right;\n",
       "    }\n",
       "</style>\n",
       "<table border=\"1\" class=\"dataframe\">\n",
       "  <thead>\n",
       "    <tr style=\"text-align: right;\">\n",
       "      <th></th>\n",
       "      <th>Enhancements</th>\n",
       "      <th>Base model</th>\n",
       "      <th>Auto store</th>\n",
       "      <th>Epochs</th>\n",
       "      <th>loss</th>\n",
       "    </tr>\n",
       "    <tr>\n",
       "      <th>Model Name</th>\n",
       "      <th></th>\n",
       "      <th></th>\n",
       "      <th></th>\n",
       "      <th></th>\n",
       "      <th></th>\n",
       "    </tr>\n",
       "  </thead>\n",
       "  <tbody>\n",
       "    <tr>\n",
       "      <th>model_347b4fbd-6edb-4a88-b4c6-c74829e7695a</th>\n",
       "      <td>[prompt_tuning]</td>\n",
       "      <td>meta-llama/llama-2-13b-chat</td>\n",
       "      <td>True</td>\n",
       "      <td>12</td>\n",
       "      <td>0.184218</td>\n",
       "    </tr>\n",
       "  </tbody>\n",
       "</table>\n",
       "</div>"
      ],
      "text/plain": [
       "                                               Enhancements  \\\n",
       "Model Name                                                    \n",
       "model_347b4fbd-6edb-4a88-b4c6-c74829e7695a  [prompt_tuning]   \n",
       "\n",
       "                                                             Base model  \\\n",
       "Model Name                                                                \n",
       "model_347b4fbd-6edb-4a88-b4c6-c74829e7695a  meta-llama/llama-2-13b-chat   \n",
       "\n",
       "                                            Auto store  Epochs      loss  \n",
       "Model Name                                                                \n",
       "model_347b4fbd-6edb-4a88-b4c6-c74829e7695a        True      12  0.184218  "
      ]
     },
     "execution_count": 191,
     "metadata": {},
     "output_type": "execute_result"
    }
   ],
   "source": [
    "prompt_tuner.summary()"
   ]
  },
  {
   "cell_type": "markdown",
   "metadata": {
    "collapsed": false,
    "pycharm": {
     "name": "#%% md\n"
    }
   },
   "source": [
    "Plot learning curves."
   ]
  },
  {
   "cell_type": "code",
   "execution_count": 192,
   "metadata": {
    "collapsed": false,
    "pycharm": {
     "name": "#%%\n"
    }
   },
   "outputs": [
    {
     "data": {
      "image/png": "[encoded data removed]",
      "text/plain": [
       "<Figure size 1800x400 with 3 Axes>"
      ]
     },
     "metadata": {},
     "output_type": "display_data"
    }
   ],
   "source": [
    "prompt_tuner.plot_learning_curve()"
   ]
  },
  {
   "cell_type": "markdown",
   "metadata": {
    "pycharm": {
     "name": "#%% md\n"
    }
   },
   "source": [
    "<a id=\"deploy\"></a>\n",
    "## Deploy"
   ]
  },
  {
   "cell_type": "markdown",
   "metadata": {
    "pycharm": {
     "name": "#%% md\n"
    }
   },
   "source": [
    "You can specify `model_id` from tuning details."
   ]
  },
  {
   "cell_type": "code",
   "execution_count": 193,
   "metadata": {
    "pycharm": {
     "name": "#%%\n"
    }
   },
   "outputs": [
    {
     "data": {
      "text/plain": [
       "'49c53b26-fc66-4a52-af45-dcf294509b02'"
      ]
     },
     "execution_count": 193,
     "metadata": {},
     "output_type": "execute_result"
    }
   ],
   "source": [
    "model_id = None\n",
    "\n",
    "if 'model_id' in tuning_details.get('entity', {}):\n",
    "    model_id = tuning_details['entity']['model_id']\n",
    "model_id"
   ]
  },
  {
   "cell_type": "markdown",
   "metadata": {
    "pycharm": {
     "name": "#%% md\n"
    }
   },
   "source": [
    "Create online deployment for published model."
   ]
  },
  {
   "cell_type": "code",
   "execution_count": 194,
   "metadata": {
    "pycharm": {
     "name": "#%%\n"
    }
   },
   "outputs": [
    {
     "name": "stdout",
     "output_type": "stream",
     "text": [
      "\n",
      "\n",
      "#######################################################################################\n",
      "\n",
      "Synchronous deployment creation for uid: '49c53b26-fc66-4a52-af45-dcf294509b02' started\n",
      "\n",
      "#######################################################################################\n",
      "\n",
      "\n",
      "initializing\n",
      "ready\n",
      "\n",
      "\n",
      "------------------------------------------------------------------------------------------------\n",
      "Successfully finished deployment creation, deployment_uid='4593c426-3e54-4e73-9191-a79b97ab8575'\n",
      "------------------------------------------------------------------------------------------------\n",
      "\n",
      "\n"
     ]
    }
   ],
   "source": [
    "from datetime import datetime\n",
    "meta_props = {\n",
    "    client.deployments.ConfigurationMetaNames.NAME: \"PT DEPLOYMENT SDK - project\",\n",
    "    client.deployments.ConfigurationMetaNames.ONLINE: {},\n",
    "    client.deployments.ConfigurationMetaNames.SERVING_NAME : f\"pt_sdk_deployment_{datetime.utcnow().strftime('%Y_%m_%d_%H%M%S')}\"\n",
    "}\n",
    "deployment_details = client.deployments.create(model_id, meta_props)"
   ]
  },
  {
   "cell_type": "markdown",
   "metadata": {
    "pycharm": {
     "name": "#%% md\n"
    }
   },
   "source": [
    "Additionally you can get deployment details by printing `deployment_details`"
   ]
  },
  {
   "cell_type": "code",
   "execution_count": null,
   "metadata": {
    "pycharm": {
     "name": "#%%\n"
    }
   },
   "outputs": [],
   "source": [
    "deployment_details"
   ]
  },
  {
   "cell_type": "markdown",
   "metadata": {
    "pycharm": {
     "name": "#%% md\n"
    }
   },
   "source": [
    "You can specify `deployment_id` from deployment details."
   ]
  },
  {
   "cell_type": "code",
   "execution_count": 196,
   "metadata": {
    "pycharm": {
     "name": "#%%\n"
    }
   },
   "outputs": [
    {
     "data": {
      "text/plain": [
       "'4593c426-3e54-4e73-9191-a79b97ab8575'"
      ]
     },
     "execution_count": 196,
     "metadata": {},
     "output_type": "execute_result"
    }
   ],
   "source": [
    "deployment_id = deployment_details['metadata']['id']\n",
    "deployment_id"
   ]
  },
  {
   "cell_type": "markdown",
   "metadata": {
    "pycharm": {
     "name": "#%% md\n"
    }
   },
   "source": [
    "<a id=\"models_inference\"></a>\n",
    "## Foundation Models Inference on `watsonx.ai`"
   ]
  },
  {
   "cell_type": "markdown",
   "metadata": {
    "pycharm": {
     "name": "#%% md\n"
    }
   },
   "source": [
    "Provide a set of model parameters."
   ]
  },
  {
   "cell_type": "code",
   "execution_count": 198,
   "metadata": {
    "pycharm": {
     "name": "#%%\n"
    }
   },
   "outputs": [],
   "source": [
    "from ibm_watsonx_ai.metanames import GenTextParamsMetaNames as GenParams\n",
    "\n",
    "generate_params = {\n",
    "    GenParams.MAX_NEW_TOKENS: 20,\n",
    "    GenParams.STOP_SEQUENCES: [\"\\n\\n\"]\n",
    "}"
   ]
  },
  {
   "cell_type": "markdown",
   "metadata": {
    "pycharm": {
     "name": "#%% md\n"
    }
   },
   "source": [
    "Initialize the `ModelInference` class."
   ]
  },
  {
   "cell_type": "code",
   "execution_count": 199,
   "metadata": {
    "pycharm": {
     "name": "#%%\n"
    }
   },
   "outputs": [],
   "source": [
    "from ibm_watsonx_ai.foundation_models import ModelInference\n",
    "\n",
    "tuned_model = ModelInference(\n",
    "    deployment_id=deployment_id,\n",
    "    params=generate_params,\n",
    "    api_client=client\n",
    ")"
   ]
  },
  {
   "cell_type": "markdown",
   "metadata": {
    "pycharm": {
     "name": "#%% md\n"
    }
   },
   "source": [
    "Alternatively you can use `credentials` and `project_id` to initialize the `ModelInference` class.\n",
    "\n",
    "```\n",
    "tuned_model = ModelInference(\n",
    "    deployment_id=deployment_id,\n",
    "    params=generate_params,\n",
    "    credentials=credentials,\n",
    "    project_id=project_id\n",
    ")\n",
    "\n",
    "```"
   ]
  },
  {
   "cell_type": "markdown",
   "metadata": {
    "pycharm": {
     "name": "#%% md\n"
    }
   },
   "source": [
    "Get deployment model inference details."
   ]
  },
  {
   "cell_type": "code",
   "execution_count": null,
   "metadata": {
    "pycharm": {
     "name": "#%%\n"
    }
   },
   "outputs": [],
   "source": [
    "tuned_model.get_details()"
   ]
  },
  {
   "cell_type": "markdown",
   "metadata": {
    "pycharm": {
     "name": "#%% md\n"
    }
   },
   "source": [
    "Analyze the product class for a sample prompt."
   ]
  },
  {
   "cell_type": "code",
   "execution_count": 201,
   "metadata": {
    "pycharm": {
     "name": "#%%\n"
    }
   },
   "outputs": [
    {
     "data": {
      "text/plain": [
       "' credit_reporting'"
      ]
     },
     "execution_count": 201,
     "metadata": {},
     "output_type": "execute_result"
    }
   ],
   "source": [
    "response = tuned_model.generate_text(prompt=\"Including narratives choice the best match product with the items from the list: 'credit_card', 'debt_collection', 'mortgages_and_loans', 'credit_reporting', 'retail_banking'.\\nComment: hi landed job reside ca needed room rent found place rent paid deposit dollar however position going didnt work longer needed rent place bay asked landlord refund security deposit refused told called back wellsfargo disputed transaction recently noticed card reversal checking account got charged amount dollar called bank werent able refund money also emailed landlord asking refund money ten day passed still response hope cfpb take action successfully resolve issue thank\\nProduct:\\n\")\n",
    "response"
   ]
  },
  {
   "cell_type": "markdown",
   "metadata": {
    "pycharm": {
     "name": "#%% md\n"
    }
   },
   "source": [
    "<a id=\"predict\"></a>\n",
    "## Analyze the product classes."
   ]
  },
  {
   "cell_type": "markdown",
   "metadata": {
    "pycharm": {
     "name": "#%% md\n"
    }
   },
   "source": [
    "Download and prepare the `cfpb_test` dataset."
   ]
  },
  {
   "cell_type": "code",
   "execution_count": 202,
   "metadata": {
    "pycharm": {
     "name": "#%%\n"
    }
   },
   "outputs": [],
   "source": [
    "import pandas as pd\n",
    "\n",
    "filename = 'cfpb_test.json'\n",
    "url = \"https://raw.github.com/IBM/watson-machine-learning-samples/master/cloud/data/prompt_tuning/cfpb_test.json\"\n",
    "if not os.path.isfile(filename):\n",
    "    wget.download(url)\n",
    "    \n",
    "data = pd.read_json(filename)"
   ]
  },
  {
   "cell_type": "code",
   "execution_count": 203,
   "metadata": {
    "pycharm": {
     "name": "#%%\n"
    }
   },
   "outputs": [],
   "source": [
    "prompts = list(data.input)\n",
    "products = list(data.output)"
   ]
  },
  {
   "cell_type": "code",
   "execution_count": 204,
   "metadata": {
    "pycharm": {
     "name": "#%%\n"
    }
   },
   "outputs": [],
   "source": [
    "prompts_batch = [\"\\n\".join([prompt]) for prompt in prompts]"
   ]
  },
  {
   "cell_type": "markdown",
   "metadata": {
    "pycharm": {
     "name": "#%% md\n"
    }
   },
   "source": [
    "### Calculate the accuracy of tuned model"
   ]
  },
  {
   "cell_type": "code",
   "execution_count": 205,
   "metadata": {
    "pycharm": {
     "name": "#%%\n"
    }
   },
   "outputs": [],
   "source": [
    "tuned_model_results = tuned_model.generate_text(prompt=prompts_batch)"
   ]
  },
  {
   "cell_type": "markdown",
   "metadata": {
    "collapsed": false,
    "pycharm": {
     "name": "#%% md\n"
    }
   },
   "source": [
    "Let's strip whitespaces from the generated text to have reliable accuracy calculated."
   ]
  },
  {
   "cell_type": "code",
   "execution_count": 206,
   "metadata": {
    "collapsed": false,
    "pycharm": {
     "name": "#%%\n"
    }
   },
   "outputs": [],
   "source": [
    "tuned_model_results = [x.strip() for x in tuned_model_results]"
   ]
  },
  {
   "cell_type": "code",
   "execution_count": 208,
   "metadata": {
    "pycharm": {
     "name": "#%%\n"
    }
   },
   "outputs": [
    {
     "name": "stdout",
     "output_type": "stream",
     "text": [
      "accuracy_score: 0.4533333333333333\n"
     ]
    }
   ],
   "source": [
    "from sklearn.metrics import accuracy_score\n",
    "\n",
    "print(f'accuracy_score: {accuracy_score(products, tuned_model_results)}')"
   ]
  },
  {
   "cell_type": "markdown",
   "metadata": {
    "pycharm": {
     "name": "#%% md\n"
    }
   },
   "source": [
    "### Calculate the accuracy of base model"
   ]
  },
  {
   "cell_type": "markdown",
   "metadata": {
    "pycharm": {
     "name": "#%% md\n"
    }
   },
   "source": [
    "Initialize the `ModelInference` class with base model."
   ]
  },
  {
   "cell_type": "code",
   "execution_count": 209,
   "metadata": {
    "pycharm": {
     "name": "#%%\n"
    }
   },
   "outputs": [],
   "source": [
    "base_model = ModelInference(\n",
    "    model_id='meta-llama/llama-2-13b-chat',\n",
    "    params=generate_params,\n",
    "    api_client=client\n",
    ")"
   ]
  },
  {
   "cell_type": "code",
   "execution_count": 210,
   "metadata": {
    "pycharm": {
     "name": "#%%\n"
    }
   },
   "outputs": [],
   "source": [
    "base_model_results = base_model.generate_text(prompt=prompts_batch)"
   ]
  },
  {
   "cell_type": "markdown",
   "metadata": {},
   "source": [
    "Let's strip whitespaces from the generated text to have reliable accuracy calculated."
   ]
  },
  {
   "cell_type": "code",
   "execution_count": null,
   "metadata": {},
   "outputs": [],
   "source": [
    "base_model_results = [x.strip() for x in base_model_results]"
   ]
  },
  {
   "cell_type": "code",
   "execution_count": 73,
   "metadata": {
    "pycharm": {
     "name": "#%%\n"
    }
   },
   "outputs": [
    {
     "name": "stdout",
     "output_type": "stream",
     "text": [
      "base model accuracy_score: 0.0033333333333333335\n"
     ]
    }
   ],
   "source": [
    "from sklearn.metrics import accuracy_score\n",
    "\n",
    "print(f'base model accuracy_score: {accuracy_score(products, base_model_results)}')"
   ]
  },
  {
   "cell_type": "markdown",
   "metadata": {
    "pycharm": {
     "name": "#%% md\n"
    }
   },
   "source": [
    "<a id=\"summary\"></a>\n",
    "## Summary and next steps\n",
    "\n",
    " You successfully completed this notebook!.\n",
    " \n",
    " You learned how to use prompt tuning in watsonx for analyze the product classes for a sample prompts.\n",
    " \n",
    "Check out our _<a href=\"https://ibm.github.io/watson-machine-learning-sdk/samples.html\" target=\"_blank\" rel=\"noopener no referrer\">Online Documentation</a>_ for more samples, tutorials, documentation, how-tos, and blog posts. "
   ]
  },
  {
   "cell_type": "markdown",
   "metadata": {
    "pycharm": {
     "name": "#%% md\n"
    }
   },
   "source": [
    "### Authors: \n",
    "\n",
    "**Lukasz Cmielowski**, Senior Technical Staff Member at Watson Machine Learning,\n",
    "\n",
    "**Mateusz Szewczyk**, Software Engineer at Watson Machine Learning."
   ]
  },
  {
   "cell_type": "markdown",
   "metadata": {
    "pycharm": {
     "name": "#%% md\n"
    }
   },
   "source": [
    "Copyright © 2024 IBM. This notebook and its source code are released under the terms of the MIT License."
   ]
  }
 ],
 "metadata": {
  "kernelspec": {
   "display_name": "notebook-samples",
   "language": "python",
   "name": "python3"
  },
  "language_info": {
   "codemirror_mode": {
    "name": "ipython",
    "version": 3
   },
   "file_extension": ".py",
   "mimetype": "text/x-python",
   "name": "python",
   "nbconvert_exporter": "python",
   "pygments_lexer": "ipython3",
   "version": "3.10.12"
  },
  "orig_nbformat": 4
 },
 "nbformat": 4,
 "nbformat_minor": 2
}
