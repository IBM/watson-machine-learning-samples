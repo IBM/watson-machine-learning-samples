{
 "cells": [
  {
   "cell_type": "markdown",
   "metadata": {
    "pycharm": {
     "name": "#%% md\n"
    }
   },
   "source": [
    "![image](https://raw.githubusercontent.com/IBM/watson-machine-learning-samples/master/cloud/notebooks/headers/watsonx-Prompt_Lab-Notebook.png)\n",
    "# Use watsonx.ai Text Extraction service to extract text from file"
   ]
  },
  {
   "cell_type": "markdown",
   "metadata": {
    "pycharm": {
     "name": "#%% md\n"
    }
   },
   "source": [
    "#### Disclaimers\n",
    "\n",
    "- Use only Projects and Spaces that are available in watsonx context.\n",
    "\n",
    "\n",
    "## Notebook content\n",
    "\n",
    "This notebook contains the steps and code demonstrating how to run a Text Extraction job using python SDK and then retrieve the results in the form of JSON file.\n",
    "\n",
    "Some familiarity with Python is helpful. This notebook uses Python 3.11.\n",
    "\n",
    "\n",
    "## Learning goal\n",
    "\n",
    "The purpose of this notebook is to demonstrate the usage a Text Extraction service and `ibm-watsonx-ai` Python SDK to retrieve a text from file that is located at IBM Cloud Object Storage.\n",
    "\n",
    "\n",
    "## Contents\n",
    "\n",
    "This notebook contains the following parts:\n",
    "\n",
    "- [Setup](#setup)\n",
    "- [COS connection](#cos_connection)\n",
    "- [Text Extraction request](#text_extraction)\n",
    "- [Results examination](#results)\n",
    "- [Summary](#summary)"
   ]
  },
  {
   "cell_type": "markdown",
   "metadata": {
    "pycharm": {
     "name": "#%% md\n"
    }
   },
   "source": [
    "<a id=\"setup\"></a>\n",
    "## Set up the environment\n",
    "\n",
    "Before you use the sample code in this notebook, you must perform the following setup tasks:\n",
    "\n",
    "-  Create a <a href=\"https://cloud.ibm.com/catalog/services/watson-machine-learning\" target=\"_blank\" rel=\"noopener no referrer\">Watson Machine Learning (WML) Service</a> instance (a free plan is offered and information about how to create the instance can be found <a href=\"https://dataplatform.cloud.ibm.com/docs/content/wsj/getting-started/wml-plans.html?context=wx&audience=wdp\" target=\"_blank\" rel=\"noopener no referrer\">here</a>)."
   ]
  },
  {
   "cell_type": "markdown",
   "metadata": {
    "pycharm": {
     "name": "#%% md\n"
    }
   },
   "source": [
    "### Install required packages"
   ]
  },
  {
   "cell_type": "code",
   "execution_count": null,
   "metadata": {
    "pycharm": {
     "name": "#%%\n"
    }
   },
   "outputs": [],
   "source": [
    "!pip install \"ibm-watsonx-ai>=1.1.5\" | tail -n 1"
   ]
  },
  {
   "cell_type": "markdown",
   "metadata": {
    "pycharm": {
     "name": "#%% md\n"
    }
   },
   "source": [
    "### Defining the WML credentials\n",
    "This cell defines the WML credentials required to work with watsonx Foundation Model inferencing.\n",
    "\n",
    "**Action:** Provide the IBM Cloud user API key. For details, see <a href=\"https://cloud.ibm.com/docs/account?topic=account-userapikey&interface=ui\" target=\"_blank\" rel=\"noopener no referrer\">documentation</a>."
   ]
  },
  {
   "cell_type": "code",
   "execution_count": 1,
   "metadata": {
    "pycharm": {
     "name": "#%%\n"
    }
   },
   "outputs": [],
   "source": [
    "import getpass\n",
    "\n",
    "from ibm_watsonx_ai import Credentials\n",
    "\n",
    "credentials = Credentials(url=\"https://us-south.ml.cloud.ibm.com\",\n",
    "                          api_key=getpass.getpass(\"Please enter your WML api key (hit enter): \"))"
   ]
  },
  {
   "cell_type": "markdown",
   "metadata": {
    "pycharm": {
     "name": "#%% md\n"
    }
   },
   "source": [
    "### Defining the project id\n",
    "The Text Extraction service requires project id that provides the context for the call. We will obtain the id from the project in which this notebook runs. Otherwise, please provide the project id."
   ]
  },
  {
   "cell_type": "code",
   "execution_count": 2,
   "metadata": {
    "pycharm": {
     "name": "#%%\n"
    }
   },
   "outputs": [],
   "source": [
    "import os\n",
    "\n",
    "try:\n",
    "    project_id = os.environ[\"PROJECT_ID\"]\n",
    "except KeyError:\n",
    "    project_id = input(\"Please enter your project_id (hit enter): \")"
   ]
  },
  {
   "cell_type": "markdown",
   "metadata": {},
   "source": [
    "### API Client initialization"
   ]
  },
  {
   "cell_type": "code",
   "execution_count": 3,
   "metadata": {},
   "outputs": [],
   "source": [
    "from ibm_watsonx_ai import APIClient\n",
    "\n",
    "client = APIClient(credentials=credentials, project_id=project_id)"
   ]
  },
  {
   "cell_type": "markdown",
   "metadata": {
    "pycharm": {
     "name": "#%% md\n"
    }
   },
   "source": [
    "<a id=\"cos_connection\"></a>\n",
    "## Create data connections with source document and results reference"
   ]
  },
  {
   "cell_type": "markdown",
   "metadata": {
    "pycharm": {
     "name": "#%% md\n"
    }
   },
   "source": [
    "The document, from which we are going to extract text, is located at IBM Cloud Object Storage (COS). In the following example we are going to use [Granite Code Models paper](https://arxiv.org/pdf/2405.04324) as a source text document. Also, the final results file, which will contain extracted text and necessary metadata, will be placed in COS. Therefore, we use `ibm_watsonx_ai.helpers.DataConnection` and `ibm_watsonx_ai.helpers.S3Location` class to create a Python objects that will represent the references to the processed files. Please note that you have to create connection asset with your COS details (for detailed explanation how to do this see [IBM Cloud Object Storage connection](https://dataplatform.cloud.ibm.com/docs/content/wsj/manage-data/conn-cos.html?context=wx) or check below cells)."
   ]
  },
  {
   "cell_type": "markdown",
   "metadata": {},
   "source": [
    "### Create connection to COS\n",
    "You can skip this section if you already have connection asset with **IBM Cloud Object Storage**."
   ]
  },
  {
   "cell_type": "code",
   "execution_count": 4,
   "metadata": {},
   "outputs": [],
   "source": [
    "datasource_name = 'bluemixcloudobjectstorage'\n",
    "bucketname = \"textextractionms\""
   ]
  },
  {
   "cell_type": "code",
   "execution_count": 5,
   "metadata": {},
   "outputs": [],
   "source": [
    "cos_credentials = {\n",
    "                  \"endpoint_url\": \"<endpoint url>\",\n",
    "                  \"apikey\": \"<apikey>\",\n",
    "                  \"access_key_id\": \"<access_key_id>\",\n",
    "                  \"secret_access_key\": \"<secret_access_key>\"\n",
    "              }"
   ]
  },
  {
   "cell_type": "code",
   "execution_count": 7,
   "metadata": {},
   "outputs": [
    {
     "name": "stdout",
     "output_type": "stream",
     "text": [
      "Creating connections...\n",
      "SUCCESS\n"
     ]
    }
   ],
   "source": [
    "conn_meta_props= {\n",
    "    client.connections.ConfigurationMetaNames.NAME: f\"Connection to Database - {datasource_name} \",\n",
    "    client.connections.ConfigurationMetaNames.DATASOURCE_TYPE: client.connections.get_datasource_type_id_by_name(datasource_name),\n",
    "    client.connections.ConfigurationMetaNames.DESCRIPTION: \"Connection to external Database\",\n",
    "    client.connections.ConfigurationMetaNames.PROPERTIES: {\n",
    "        'bucket': bucketname,\n",
    "        'access_key': cos_credentials['access_key_id'],\n",
    "        'secret_key': cos_credentials['secret_access_key'],\n",
    "        'iam_url': 'https://iam.cloud.ibm.com/identity/token',\n",
    "        'url': cos_credentials['endpoint_url']\n",
    "    }\n",
    "}\n",
    "\n",
    "conn_details = client.connections.create(meta_props=conn_meta_props)\n",
    "connection_asset_id = client.connections.get_id(conn_details)"
   ]
  },
  {
   "cell_type": "markdown",
   "metadata": {},
   "source": [
    "### Upload file and create document and results reference"
   ]
  },
  {
   "cell_type": "code",
   "execution_count": 8,
   "metadata": {},
   "outputs": [],
   "source": [
    "from ibm_watsonx_ai.helpers import DataConnection, S3Location\n",
    "\n",
    "local_source_file_name = \"granite_code_models_paper.pdf\"\n",
    "source_file_name = \"./files/granite_code_models_paper.pdf\"\n",
    "results_file_name = \"./files/text_extraction_granite_code_models_paper.json\""
   ]
  },
  {
   "cell_type": "code",
   "execution_count": 9,
   "metadata": {},
   "outputs": [],
   "source": [
    "remote_document_reference = DataConnection(connection_asset_id=connection_asset_id,\n",
    "                                           location=S3Location(bucket = bucketname, path = \".\"))\n",
    "remote_document_reference.set_client(client)\n",
    "\n",
    "remote_document_reference.write(local_source_file_name, remote_name=source_file_name)"
   ]
  },
  {
   "cell_type": "markdown",
   "metadata": {},
   "source": [
    "Finally, we can create Data Connection that represents document and results reference."
   ]
  },
  {
   "cell_type": "code",
   "execution_count": 10,
   "metadata": {},
   "outputs": [],
   "source": [
    "document_reference = DataConnection(connection_asset_id=connection_asset_id,\n",
    "                                    location=S3Location(bucket=bucketname,\n",
    "                                                        path=source_file_name))\n",
    "\n",
    "results_reference = DataConnection(connection_asset_id=connection_asset_id,\n",
    "                                   location=S3Location(bucket=bucketname,\n",
    "                                                       path=results_file_name))\n"
   ]
  },
  {
   "cell_type": "markdown",
   "metadata": {},
   "source": [
    "<a id=\"text_extraction\"></a>\n",
    "## Text Extraction request"
   ]
  },
  {
   "cell_type": "markdown",
   "metadata": {},
   "source": [
    "Since data connection for source and results files are ready, we can proceed to the text extraction run job step. To initialize Text Extraction manager we use `TextExtractions` class."
   ]
  },
  {
   "cell_type": "code",
   "execution_count": 11,
   "metadata": {},
   "outputs": [],
   "source": [
    "from ibm_watsonx_ai.foundation_models.extractions import TextExtractions\n",
    "from ibm_watsonx_ai.metanames import TextExtractionsMetaNames"
   ]
  },
  {
   "cell_type": "code",
   "execution_count": 12,
   "metadata": {},
   "outputs": [],
   "source": [
    "extraction = TextExtractions(api_client=client,\n",
    "                             project_id=project_id)"
   ]
  },
  {
   "cell_type": "markdown",
   "metadata": {},
   "source": [
    "When running job the steps for the text extraction pipeline can be specified. For more details about available steps see [documentation](https://cloud.ibm.com/apidocs/watsonx-ai#text-extraction). The list of steps available in sdk can be found below."
   ]
  },
  {
   "cell_type": "code",
   "execution_count": 13,
   "metadata": {},
   "outputs": [
    {
     "name": "stdout",
     "output_type": "stream",
     "text": [
      "----------------  ----  --------\n",
      "META_PROP NAME    TYPE  REQUIRED\n",
      "OCR               dict  N\n",
      "TABLE_PROCESSING  dict  N\n",
      "----------------  ----  --------\n"
     ]
    }
   ],
   "source": [
    "TextExtractionsMetaNames().show()"
   ]
  },
  {
   "cell_type": "markdown",
   "metadata": {},
   "source": [
    "To view sample parameter values for the text extraction steps run `get_example_values()`."
   ]
  },
  {
   "cell_type": "code",
   "execution_count": 14,
   "metadata": {},
   "outputs": [
    {
     "data": {
      "text/plain": [
       "{'ocr': {'process_images': True, 'language_list': ['en']},\n",
       " 'tables_processing': {'enabled': True}}"
      ]
     },
     "execution_count": 14,
     "metadata": {},
     "output_type": "execute_result"
    }
   ],
   "source": [
    "TextExtractionsMetaNames().get_example_values()"
   ]
  },
  {
   "cell_type": "markdown",
   "metadata": {},
   "source": [
    "In our example we are going to use the following steps"
   ]
  },
  {
   "cell_type": "code",
   "execution_count": 15,
   "metadata": {},
   "outputs": [],
   "source": [
    "steps = {TextExtractionsMetaNames.OCR: {'language_list': ['en']},\n",
    "        TextExtractionsMetaNames.TABLE_PROCESSING: {'enabled': True}}"
   ]
  },
  {
   "cell_type": "markdown",
   "metadata": {},
   "source": [
    "Now, we can run Text Extraction job."
   ]
  },
  {
   "cell_type": "code",
   "execution_count": 16,
   "metadata": {},
   "outputs": [
    {
     "data": {
      "text/plain": [
       "{'metadata': {'id': 'c23ee637-37c0-4d48-87a2-ebe6bdf0f38a',\n",
       "  'created_at': '2024-08-01T08:38:01.738Z',\n",
       "  'project_id': '18665143-ab93-434e-8805-2061fd58df40'},\n",
       " 'entity': {'document_reference': {'type': 'connection_asset',\n",
       "   'connection': {'id': '1ff26f06-a47c-4e9a-966d-c5c1409cc9a9'},\n",
       "   'location': {'file_name': './files/granite_code_models_paper.pdf',\n",
       "    'bucket': 'textextractionms'}},\n",
       "  'results_reference': {'type': 'connection_asset',\n",
       "   'connection': {'id': '1ff26f06-a47c-4e9a-966d-c5c1409cc9a9'},\n",
       "   'location': {'bucket': 'textextractionms',\n",
       "    'file_name': './files/text_extraction_granite_code_models_paper.json'}},\n",
       "  'steps': {'ocr': {'languages_list': ['en']},\n",
       "   'tables_processing': {'enabled': True}},\n",
       "  'results': {'status': 'submitted',\n",
       "   'running_at': '2024-08-01T08:38:01.738Z',\n",
       "   'number_pages_processed': 0}}}"
      ]
     },
     "execution_count": 16,
     "metadata": {},
     "output_type": "execute_result"
    }
   ],
   "source": [
    "details = extraction.run_job(document_reference=document_reference, \n",
    "                             results_reference=results_reference, \n",
    "                             steps=steps)\n",
    "details"
   ]
  },
  {
   "cell_type": "code",
   "execution_count": 17,
   "metadata": {},
   "outputs": [],
   "source": [
    "extraction_job_id = extraction.get_id(extraction_details=details)"
   ]
  },
  {
   "cell_type": "markdown",
   "metadata": {},
   "source": [
    "We can list text extraction jobs using a proper list method."
   ]
  },
  {
   "cell_type": "code",
   "execution_count": 19,
   "metadata": {},
   "outputs": [
    {
     "data": {
      "text/html": [
       "<div>\n",
       "<style scoped>\n",
       "    .dataframe tbody tr th:only-of-type {\n",
       "        vertical-align: middle;\n",
       "    }\n",
       "\n",
       "    .dataframe tbody tr th {\n",
       "        vertical-align: top;\n",
       "    }\n",
       "\n",
       "    .dataframe thead th {\n",
       "        text-align: right;\n",
       "    }\n",
       "</style>\n",
       "<table border=\"1\" class=\"dataframe\">\n",
       "  <thead>\n",
       "    <tr style=\"text-align: right;\">\n",
       "      <th></th>\n",
       "      <th>EXTRACTION_ID</th>\n",
       "      <th>CREATED</th>\n",
       "      <th>STATUS</th>\n",
       "    </tr>\n",
       "  </thead>\n",
       "  <tbody>\n",
       "    <tr>\n",
       "      <th>0</th>\n",
       "      <td>c23ee637-37c0-4d48-87a2-ebe6bdf0f38a</td>\n",
       "      <td>2024-08-01T08:38:01.738Z</td>\n",
       "      <td>completed</td>\n",
       "    </tr>\n",
       "  </tbody>\n",
       "</table>\n",
       "</div>"
      ],
      "text/plain": [
       "                          EXTRACTION_ID                   CREATED     STATUS\n",
       "0  c23ee637-37c0-4d48-87a2-ebe6bdf0f38a  2024-08-01T08:38:01.738Z  completed"
      ]
     },
     "execution_count": 19,
     "metadata": {},
     "output_type": "execute_result"
    }
   ],
   "source": [
    "extraction.list_jobs()"
   ]
  },
  {
   "cell_type": "markdown",
   "metadata": {},
   "source": [
    "Moreover, to get details of a particular text extraction request run following"
   ]
  },
  {
   "cell_type": "code",
   "execution_count": 20,
   "metadata": {},
   "outputs": [
    {
     "data": {
      "text/plain": [
       "{'entity': {'document_reference': {'connection': {'id': '1ff26f06-a47c-4e9a-966d-c5c1409cc9a9'},\n",
       "   'location': {'bucket': 'textextractionms',\n",
       "    'file_name': './files/granite_code_models_paper.pdf'},\n",
       "   'type': 'connection_asset'},\n",
       "  'results': {'completed_at': '2024-08-01T08:39:25.94612684Z',\n",
       "   'number_pages_processed': 28,\n",
       "   'running_at': '2024-08-01T08:38:01.738Z',\n",
       "   'status': 'completed'},\n",
       "  'results_reference': {'connection': {'id': '1ff26f06-a47c-4e9a-966d-c5c1409cc9a9'},\n",
       "   'location': {'bucket': 'textextractionms',\n",
       "    'file_name': './files/text_extraction_granite_code_models_paper.json'},\n",
       "   'type': 'connection_asset'},\n",
       "  'steps': {'ocr': {'languages_list': ['en']},\n",
       "   'tables_processing': {'enabled': True}}},\n",
       " 'metadata': {'created_at': '2024-08-01T08:38:01.738Z',\n",
       "  'id': 'c23ee637-37c0-4d48-87a2-ebe6bdf0f38a',\n",
       "  'project_id': '18665143-ab93-434e-8805-2061fd58df40'}}"
      ]
     },
     "execution_count": 20,
     "metadata": {},
     "output_type": "execute_result"
    }
   ],
   "source": [
    "extraction.get_job_details(extraction_id=extraction_job_id)"
   ]
  },
  {
   "cell_type": "markdown",
   "metadata": {},
   "source": [
    "Furthermore, to delete text extraction jub run use `delete_job()` method."
   ]
  },
  {
   "cell_type": "markdown",
   "metadata": {},
   "source": [
    "<a id=\"results\"></a>\n",
    "## Results examination"
   ]
  },
  {
   "cell_type": "markdown",
   "metadata": {},
   "source": [
    "Once the job extraction is completed we can download the results file and process it further."
   ]
  },
  {
   "cell_type": "code",
   "execution_count": 21,
   "metadata": {},
   "outputs": [],
   "source": [
    "results_reference = extraction.get_results_reference(extraction_id=extraction_job_id)"
   ]
  },
  {
   "cell_type": "code",
   "execution_count": 22,
   "metadata": {},
   "outputs": [],
   "source": [
    "filename = \"text_extraction_results_granite_code_models_paper.json\"\n",
    "\n",
    "results_reference.download(filename=filename)"
   ]
  },
  {
   "cell_type": "code",
   "execution_count": 23,
   "metadata": {},
   "outputs": [
    {
     "data": {
      "text/plain": [
       "dict_keys(['metadata', 'styles', 'top_level_structures', 'all_structures'])"
      ]
     },
     "execution_count": 23,
     "metadata": {},
     "output_type": "execute_result"
    }
   ],
   "source": [
    "import json\n",
    "\n",
    "metadata = json.load(open(filename, 'r'))\n",
    "metadata.keys()"
   ]
  },
  {
   "cell_type": "code",
   "execution_count": 24,
   "metadata": {},
   "outputs": [
    {
     "data": {
      "text/plain": [
       "{'num_pages': 28,\n",
       " 'title': '',\n",
       " 'keywords': '',\n",
       " 'author': '',\n",
       " 'publication_date': '',\n",
       " 'subject': '',\n",
       " 'charset': 'UTF-8'}"
      ]
     },
     "execution_count": 24,
     "metadata": {},
     "output_type": "execute_result"
    }
   ],
   "source": [
    "metadata.get('metadata')"
   ]
  },
  {
   "cell_type": "markdown",
   "metadata": {},
   "source": [
    "The following tokens were extracted from the source file. Note that we decided to print only 10 of them to keep the output clear and concise."
   ]
  },
  {
   "cell_type": "code",
   "execution_count": 25,
   "metadata": {},
   "outputs": [
    {
     "data": {
      "text/plain": [
       "[{'id': 'TOKEN_8f9c63',\n",
       "  'parent_id': 'PARA_b29579',\n",
       "  'style_id': 'URWPalladioL_Roma_Black_9_0',\n",
       "  'text': 'IBM',\n",
       "  'bbox': {'page_number': 1,\n",
       "   'x': 108.0,\n",
       "   'y': 29.261946,\n",
       "   'width': 18.869171,\n",
       "   'height': 6.1070733}},\n",
       " {'id': 'TOKEN_8f124a',\n",
       "  'parent_id': 'PARA_b29579',\n",
       "  'style_id': 'URWPalladioL_Roma_Black_9_0',\n",
       "  'text': 'Granite',\n",
       "  'bbox': {'page_number': 1,\n",
       "   'x': 409.57788,\n",
       "   'y': 29.261946,\n",
       "   'width': 33.23523,\n",
       "   'height': 6.1070733}},\n",
       " {'id': 'TOKEN_c6c33e',\n",
       "  'parent_id': 'PARA_b29579',\n",
       "  'style_id': 'URWPalladioL_Roma_Black_9_0',\n",
       "  'text': 'Code',\n",
       "  'bbox': {'page_number': 1,\n",
       "   'x': 445.30377,\n",
       "   'y': 29.261946,\n",
       "   'width': 23.362305,\n",
       "   'height': 6.1070733}},\n",
       " {'id': 'TOKEN_7e8f6b',\n",
       "  'parent_id': 'PARA_b29579',\n",
       "  'style_id': 'URWPalladioL_Roma_Black_9_0',\n",
       "  'text': 'Models',\n",
       "  'bbox': {'page_number': 1,\n",
       "   'x': 471.15674,\n",
       "   'y': 29.261946,\n",
       "   'width': 32.84671,\n",
       "   'height': 6.1070733}},\n",
       " {'id': 'TOKEN_adaa70',\n",
       "  'parent_id': 'SECTION_TITLE_a2d2a9',\n",
       "  'style_id': 'URWPalladioL_Bold_Black_17_0_bold',\n",
       "  'text': 'Granite',\n",
       "  'bbox': {'page_number': 1,\n",
       "   'x': 146.009,\n",
       "   'y': 83.5919,\n",
       "   'width': 60.23668,\n",
       "   'height': 10.639117}},\n",
       " {'id': 'TOKEN_7c9ee7',\n",
       "  'parent_id': 'SECTION_TITLE_a2d2a9',\n",
       "  'style_id': 'URWPalladioL_Bold_Black_17_0_bold',\n",
       "  'text': 'Code',\n",
       "  'bbox': {'page_number': 1,\n",
       "   'x': 210.54953,\n",
       "   'y': 83.5919,\n",
       "   'width': 41.127594,\n",
       "   'height': 10.639117}},\n",
       " {'id': 'TOKEN_9bed2d',\n",
       "  'parent_id': 'SECTION_TITLE_a2d2a9',\n",
       "  'style_id': 'URWPalladioL_Bold_Black_17_0_bold',\n",
       "  'text': 'Models:',\n",
       "  'bbox': {'page_number': 1,\n",
       "   'x': 255.98097,\n",
       "   'y': 83.5919,\n",
       "   'width': 63.593735,\n",
       "   'height': 10.639117}},\n",
       " {'id': 'TOKEN_8ab1c0',\n",
       "  'parent_id': 'SECTION_TITLE_a2d2a9',\n",
       "  'style_id': 'URWPalladioL_Bold_Black_17_0_bold',\n",
       "  'text': 'A',\n",
       "  'bbox': {'page_number': 1,\n",
       "   'x': 324.91147,\n",
       "   'y': 83.5919,\n",
       "   'width': 13.393585,\n",
       "   'height': 10.639117}},\n",
       " {'id': 'TOKEN_02827d',\n",
       "  'parent_id': 'SECTION_TITLE_a2d2a9',\n",
       "  'style_id': 'URWPalladioL_Bold_Black_17_0_bold',\n",
       "  'text': 'Family',\n",
       "  'bbox': {'page_number': 1,\n",
       "   'x': 342.60892,\n",
       "   'y': 83.5919,\n",
       "   'width': 54.52121,\n",
       "   'height': 10.639117}},\n",
       " {'id': 'TOKEN_205649',\n",
       "  'parent_id': 'SECTION_TITLE_a2d2a9',\n",
       "  'style_id': 'URWPalladioL_Bold_Black_17_0_bold',\n",
       "  'text': 'of',\n",
       "  'bbox': {'page_number': 1,\n",
       "   'x': 401.434,\n",
       "   'y': 83.5919,\n",
       "   'width': 16.268555,\n",
       "   'height': 10.639117}}]"
      ]
     },
     "execution_count": 25,
     "metadata": {},
     "output_type": "execute_result"
    }
   ],
   "source": [
    "metadata.get('all_structures').get('tokens')[:10]"
   ]
  },
  {
   "cell_type": "markdown",
   "metadata": {
    "pycharm": {
     "name": "#%% md\n"
    }
   },
   "source": [
    "<a id=\"summary\"></a>\n",
    "## Summary and next steps\n",
    "\n",
    " You successfully completed this notebook!\n",
    " \n",
    " You learned how to use `TextExtractions` manager to run text extraction requests, check status of the submitted job and download a results file.\n",
    " \n",
    "Check out our _<a href=\"https://ibm.github.io/watson-machine-learning-sdk/samples.html\" target=\"_blank\" rel=\"noopener no referrer\">Online Documentation</a>_ for more samples, tutorials, documentation, how-tos, and blog posts. "
   ]
  },
  {
   "cell_type": "markdown",
   "metadata": {
    "pycharm": {
     "name": "#%% md\n"
    }
   },
   "source": [
    "### Authors:\n",
    " **Mateusz Świtała**, Software Engineer at Watson Machine Learning."
   ]
  },
  {
   "cell_type": "markdown",
   "metadata": {
    "pycharm": {
     "name": "#%% md\n"
    }
   },
   "source": [
    "Copyright © 2024 IBM. This notebook and its source code are released under the terms of the MIT License."
   ]
  }
 ],
 "metadata": {
  "kernelspec": {
   "display_name": "notebook-samples",
   "language": "python",
   "name": "python3"
  },
  "language_info": {
   "codemirror_mode": {
    "name": "ipython",
    "version": 3
   },
   "file_extension": ".py",
   "mimetype": "text/x-python",
   "name": "python",
   "nbconvert_exporter": "python",
   "pygments_lexer": "ipython3",
   "version": "3.10.14"
  },
  "orig_nbformat": 4
 },
 "nbformat": 4,
 "nbformat_minor": 2
}
