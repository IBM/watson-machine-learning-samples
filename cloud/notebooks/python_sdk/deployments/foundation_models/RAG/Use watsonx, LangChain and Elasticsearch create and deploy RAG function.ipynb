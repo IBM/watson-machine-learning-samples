{
  "cells": [
    {
      "cell_type": "markdown",
      "metadata": {},
      "source": [
        "![image](https://raw.githubusercontent.com/IBM/watson-machine-learning-samples/master/cloud/notebooks/headers/watsonx-Prompt_Lab-Notebook.png)\n",
        "# Use watsonx, LangChain and Elasticsearch to create and deploy RAG function"
      ]
    },
    {
      "cell_type": "markdown",
      "metadata": {},
      "source": [
        "#### Disclaimers\n",
        "\n",
        "- Use only Projects and Spaces that are available in watsonx context.\n",
        "\n",
        "## Notebook content\n",
        "\n",
        "This notebook contains the steps and code to demonstrate support of creating and deploying Retrieval Augumented Generation in watsonx.ai. It introduces commands for data retrieval, knowledge base building & querying, model testing, deploying a RAG solution for general use.\n",
        "\n",
        "Some familiarity with Python is helpful. This notebook uses Python 3.10.\n",
        "\n",
        "#### About Retrieval Augmented Generation\n",
        "Retrieval Augmented Generation (RAG) is a versatile pattern that can unlock a number of use cases requiring factual recall of information, such as querying a knowledge base in natural language.\n",
        "\n",
        "In its simplest form, RAG requires 3 steps:\n",
        "\n",
        "- Index knowledge base passages (once)\n",
        "- Retrieve relevant passage(s) from knowledge base (for every user query)\n",
        "- Generate a response by feeding retrieved passage into a large language model (for every user query)\n",
        "\n",
        "## Contents\n",
        "\n",
        "This notebook contains the following parts:\n",
        "\n",
        "- [Setup](#setup)\n",
        "- [Data (test) loading](#data)\n",
        "- [Set up connectivity information to Elasticsearch](#elastic_conn)\n",
        "- [Set up VectorStore with Elasticsearch credentials](#vectorstore)\n",
        "- [Create and deploy RAG solution](#deploy)\n",
        "- [Calculate rougeL metric ](#evaluate)"
      ]
    },
    {
      "cell_type": "markdown",
      "metadata": {},
      "source": [
        "<a id=\"setup\"></a>\n",
        "## Set up the environment\n",
        "\n",
        "Before you use the sample code in this notebook, you must perform the following setup tasks:\n",
        "\n",
        "-  Contact with your Cloud Pack for Data administrator and ask him for your account credentials\n"
      ]
    },
    {
      "cell_type": "markdown",
      "metadata": {},
      "source": [
        "### Install and import dependecies"
      ]
    },
    {
      "cell_type": "code",
      "execution_count": 1,
      "metadata": {},
      "outputs": [],
      "source": [
        "%%capture\n",
        "!pip install wget | tail -n 1\n",
        "!pip install rouge-score | tail -n 1\n",
        "!pip install -U \"ibm_watsonx_ai>=1.1.22\" | tail -n 1\n",
        "!pip install -U \"langchain>=0.3,<0.4\" | tail -n 1\n",
        "!pip install -U \"langchain-elasticsearch>=0.3,<0.4\" | tail -n 1"
      ]
    },
    {
      "cell_type": "code",
      "execution_count": 2,
      "metadata": {},
      "outputs": [],
      "source": [
        "import os, getpass, wget\n",
        "\n",
        "from IPython.display import display, Markdown\n",
        "from langchain_core.documents import Document\n",
        "from langchain_text_splitters import RecursiveCharacterTextSplitter\n",
        "from rouge_score import rouge_scorer\n",
        "\n",
        "from ibm_watsonx_ai import APIClient, Credentials\n",
        "from ibm_watsonx_ai.foundation_models import Embeddings, ModelInference\n",
        "from ibm_watsonx_ai.foundation_models.extensions.rag import RAGPattern, VectorStore\n",
        "from ibm_watsonx_ai.foundation_models.extensions.rag.utils import verbose_search\n",
        "from ibm_watsonx_ai.foundation_models.utils.enums import EmbeddingTypes, ModelTypes\n",
        "from ibm_watsonx_ai.foundation_models.prompts import PromptTemplate, PromptTemplateManager\n",
        "from ibm_watsonx_ai.helpers import DataConnection\n",
        "from ibm_watsonx_ai.metanames import GenTextParamsMetaNames as GenParams"
      ]
    },
    {
      "cell_type": "markdown",
      "metadata": {},
      "source": [
        "### Connection to watsonx.ai Runtime\n",
        "\n",
        "Authenticate the watsonx.ai Runtime service on IBM Cloud Pack for Data. You need to provide platform `url`, your `username` and `api_key`."
      ]
    },
    {
      "cell_type": "code",
      "execution_count": 3,
      "metadata": {},
      "outputs": [],
      "source": [
        "credentials_dict = {\n",
        "    \"url\": \"https://us-south.ml.cloud.ibm.com\",\n",
        "    \"apikey\": getpass.getpass(\"Please enter your api key and hit enter: \")\n",
        "}"
      ]
    },
    {
      "cell_type": "code",
      "execution_count": 5,
      "metadata": {},
      "outputs": [],
      "source": [
        "credentials = Credentials.from_dict(credentials_dict)"
      ]
    },
    {
      "cell_type": "markdown",
      "metadata": {},
      "source": [
        "### Defining the project id\n",
        "The Foundation Model requires project id that provides the context for the call. We will obtain the id from the project in which this notebook runs. Otherwise, please provide the project id.\n"
      ]
    },
    {
      "cell_type": "code",
      "execution_count": 5,
      "metadata": {},
      "outputs": [],
      "source": [
        "try:\n",
        "    project_id = os.environ[\"PROJECT_ID\"]\n",
        "except KeyError:\n",
        "    project_id = input(\"Please enter your project_id and hit enter: \")"
      ]
    },
    {
      "cell_type": "markdown",
      "metadata": {},
      "source": [
        "### Defining the space id\n",
        "Deployed functions are available on deployment spaces. RAG we will create, will be a deployed function. You need to provide space id."
      ]
    },
    {
      "cell_type": "code",
      "execution_count": 6,
      "metadata": {},
      "outputs": [],
      "source": [
        "space_id = input(\"Please enter your space_id and hit enter: \")"
      ]
    },
    {
      "cell_type": "markdown",
      "metadata": {},
      "source": [
        "### Initialize client\n",
        "Create an instance of `APIClient` and set the default project."
      ]
    },
    {
      "cell_type": "code",
      "execution_count": 6,
      "metadata": {},
      "outputs": [],
      "source": [
        "client = APIClient(credentials, project_id=project_id)"
      ]
    },
    {
      "cell_type": "markdown",
      "metadata": {},
      "source": [
        "### Defining the prompt id\n",
        "\n",
        "We will use PromptTemplate to create a template for our RAG LLM query. If you don't have the PromptTemplate created in your project, this code will create an example one."
      ]
    },
    {
      "cell_type": "code",
      "execution_count": 7,
      "metadata": {},
      "outputs": [],
      "source": [
        "prompt_id = input(\"Please enter your prompt template asset id and hit enter, if not provided, a new one would be created: \") or None\n",
        "\n",
        "if prompt_id is None:\n",
        "    PROMPT_INSTRUCTION = \\\n",
        "    \"\"\"\n",
        "    Use the following pieces of documents to answer the question\n",
        "    at the end. If you don't know the answer, just say that you\n",
        "    don't know, don't try to make up an answer. Use three sentences\n",
        "    maximum. Keep the answer as concise as possible. do not include\n",
        "    question in your response.Your answers should not include any\n",
        "    harmful, unethical, racist, sexist, toxic, dangerous, or illegal\n",
        "    content. Please ensure that your responses are socially unbiased\n",
        "    and positive in nature.\\nPlease provide a concise professional\n",
        "    response.\n",
        "    \"\"\"\n",
        "    prompt_mgr = PromptTemplateManager(credentials=credentials, project_id=project_id)\n",
        "    prompt_template = PromptTemplate(name=\"RAG_prompt_template\",\n",
        "                                     model_id=ModelTypes.LLAMA_2_13B_CHAT,\n",
        "                                     input_variables=[\"question\", \"reference_documents\"],\n",
        "                                     instruction=PROMPT_INSTRUCTION,\n",
        "                                     input_text=\"{reference_documents}\\nQuestion:{question}\\nAnswer:\")\n",
        "    stored_prompt_template = prompt_mgr.store_prompt(prompt_template=prompt_template)\n",
        "    prompt_id = stored_prompt_template.prompt_id"
      ]
    },
    {
      "cell_type": "markdown",
      "metadata": {},
      "source": [
        "### Build up knowledge base\n",
        "\n",
        "The current state-of-the-art in RAG is to create dense vector representations of the knowledge base in order to calculate the semantic similarity to a given user query.\n",
        "\n",
        "We can generate dense vector representations using embedding models. In this notebook, we use IBM's <a href=\"https://www.ibm.com/products/watsonx-ai/foundation-models#Embedding+model+library\">IBM_SLATE_30M_ENG</a> model to embed both the knowledge base passages and user queries.\n",
        "\n",
        "A vector database is optimized for dense vector indexing and retrieval. This notebook uses <a href=\"https://python.langchain.com/docs/integrations/vectorstores/elasticsearch#basic-example\" target=\"_blank\" rel=\"noopener no referrer\">Elasticsearch</a>, a distributed, RESTful search and analytics engine, capable of performing both vector and lexical search."
      ]
    },
    {
      "cell_type": "markdown",
      "metadata": {},
      "source": [
        "The dataset we are using is already split into self-contained passages that can be ingested by Elasticsearch. \n",
        "\n",
        "The size of each passage is limited by the embedding model's context window (which is 512 tokens for `IBM Slate 30M`)."
      ]
    },
    {
      "cell_type": "markdown",
      "metadata": {},
      "source": [
        "### Load knowledge base documents\n",
        "\n",
        "Load set of documents used further to build knowledge base and store them as a project asset."
      ]
    },
    {
      "cell_type": "code",
      "execution_count": 8,
      "metadata": {},
      "outputs": [
        {
          "name": "stdout",
          "output_type": "stream",
          "text": [
            "Creating data asset...\n",
            "SUCCESS\n"
          ]
        }
      ],
      "source": [
        "filename = 'psgs.tsv'\n",
        "url = f'https://raw.github.com/IBM/watson-machine-learning-samples/master/cloud/data/RAG/{filename}'\n",
        "if not os.path.isfile(filename):\n",
        "    wget.download(url)\n",
        "\n",
        "asset_details = client.data_assets.create(name=filename, file_path=filename)"
      ]
    },
    {
      "cell_type": "markdown",
      "metadata": {},
      "source": [
        "### Read and prepare documents\n",
        "Read documents using `DataConnection` and prepare them for vector database ingestion by combining title and text."
      ]
    },
    {
      "cell_type": "code",
      "execution_count": 9,
      "metadata": {},
      "outputs": [],
      "source": [
        "data_connection = DataConnection(data_asset_id=client.data_assets.get_id(asset_details))\n",
        "data_connection.set_client(client)\n",
        "documents = data_connection.read(csv_separator='\\t')"
      ]
    },
    {
      "cell_type": "code",
      "execution_count": 10,
      "metadata": {},
      "outputs": [
        {
          "data": {
            "text/html": [
              "<div>\n",
              "<style scoped>\n",
              "    .dataframe tbody tr th:only-of-type {\n",
              "        vertical-align: middle;\n",
              "    }\n",
              "\n",
              "    .dataframe tbody tr th {\n",
              "        vertical-align: top;\n",
              "    }\n",
              "\n",
              "    .dataframe thead th {\n",
              "        text-align: right;\n",
              "    }\n",
              "</style>\n",
              "<table border=\"1\" class=\"dataframe\">\n",
              "  <thead>\n",
              "    <tr style=\"text-align: right;\">\n",
              "      <th></th>\n",
              "      <th>id</th>\n",
              "      <th>text</th>\n",
              "      <th>title</th>\n",
              "      <th>indextext</th>\n",
              "    </tr>\n",
              "  </thead>\n",
              "  <tbody>\n",
              "    <tr>\n",
              "      <th>0</th>\n",
              "      <td>1.0</td>\n",
              "      <td>History of Idaho - wikipedia History of Idaho ...</td>\n",
              "      <td>History of Idaho</td>\n",
              "      <td>History of Idaho\\nHistory of Idaho - wikipedia...</td>\n",
              "    </tr>\n",
              "    <tr>\n",
              "      <th>1</th>\n",
              "      <td>2.0</td>\n",
              "      <td>1957 . Location Cataldo , Idaho Built 1848 Arc...</td>\n",
              "      <td>History of Idaho</td>\n",
              "      <td>History of Idaho\\n1957 . Location Cataldo , Id...</td>\n",
              "    </tr>\n",
              "    <tr>\n",
              "      <th>2</th>\n",
              "      <td>3.0</td>\n",
              "      <td>of the Columbia was created in June 1816 , and...</td>\n",
              "      <td>History of Idaho</td>\n",
              "      <td>History of Idaho\\nof the Columbia was created ...</td>\n",
              "    </tr>\n",
              "    <tr>\n",
              "      <th>3</th>\n",
              "      <td>4.0</td>\n",
              "      <td>Canyon , he concluded that water transport was...</td>\n",
              "      <td>History of Idaho</td>\n",
              "      <td>History of Idaho\\nCanyon , he concluded that w...</td>\n",
              "    </tr>\n",
              "    <tr>\n",
              "      <th>4</th>\n",
              "      <td>5.0</td>\n",
              "      <td>1842 , Father Pierre - Jean De Smet , with Fr....</td>\n",
              "      <td>History of Idaho</td>\n",
              "      <td>History of Idaho\\n1842 , Father Pierre - Jean ...</td>\n",
              "    </tr>\n",
              "  </tbody>\n",
              "</table>\n",
              "</div>"
            ],
            "text/plain": [
              "    id                                               text             title  \\\n",
              "0  1.0  History of Idaho - wikipedia History of Idaho ...  History of Idaho   \n",
              "1  2.0  1957 . Location Cataldo , Idaho Built 1848 Arc...  History of Idaho   \n",
              "2  3.0  of the Columbia was created in June 1816 , and...  History of Idaho   \n",
              "3  4.0  Canyon , he concluded that water transport was...  History of Idaho   \n",
              "4  5.0  1842 , Father Pierre - Jean De Smet , with Fr....  History of Idaho   \n",
              "\n",
              "                                           indextext  \n",
              "0  History of Idaho\\nHistory of Idaho - wikipedia...  \n",
              "1  History of Idaho\\n1957 . Location Cataldo , Id...  \n",
              "2  History of Idaho\\nof the Columbia was created ...  \n",
              "3  History of Idaho\\nCanyon , he concluded that w...  \n",
              "4  History of Idaho\\n1842 , Father Pierre - Jean ...  "
            ]
          },
          "execution_count": 10,
          "metadata": {},
          "output_type": "execute_result"
        }
      ],
      "source": [
        "documents['indextext'] = documents['title'].astype(str) + \"\\n\" + documents['text']\n",
        "documents = documents[:1000]\n",
        "documents.head()"
      ]
    },
    {
      "cell_type": "markdown",
      "metadata": {},
      "source": [
        "### Create an embedding function for VectorStore\n",
        "\n",
        "Note that you can feed a custom embedding function to be used by Elasticsearch. The performance of Elasticsearch may differ depending on the embedding model used. "
      ]
    },
    {
      "cell_type": "code",
      "execution_count": 11,
      "metadata": {},
      "outputs": [],
      "source": [
        "embeddings = Embeddings(\n",
        "    model_id=EmbeddingTypes.IBM_SLATE_30M_ENG,\n",
        "    credentials=credentials,\n",
        "    project_id=project_id\n",
        ")"
      ]
    },
    {
      "cell_type": "markdown",
      "metadata": {},
      "source": [
        "<a id=\"elastic_conn\"></a>\n",
        "## Set up connectivity information to Elasticsearch\n",
        "\n",
        "**This notebook focuses on self-managed cluster using <a href=\"https://cloud.ibm.com/docs/databases-for-elasticsearch?topic=databases-for-elasticsearch-getting-started\" target=\"_blank\" rel=\"noopener no referrer\">IBM Cloud® Databases for Elasticsearch.</a>**\n",
        "\n",
        "The following cell retrieves the Elasticsearch users, password, host and port from the environment if available and prompts you otherwise.\n",
        "\n",
        "You can provide a connection asset ID to read all required connection data from it. Before doing so, make sure that connection asset was created in your project."
      ]
    },
    {
      "cell_type": "code",
      "execution_count": 13,
      "metadata": {},
      "outputs": [
        {
          "name": "stdout",
          "output_type": "stream",
          "text": [
            "Creating connections...\n",
            "SUCCESS\n"
          ]
        }
      ],
      "source": [
        "es_connection_id = input(\"Provide connection asset ID in your project. Skip this, if you wish to type credentials by hand and hit enter: \") or None\n",
        "es_connection_params = {}\n",
        "\n",
        "if es_connection_id is None:\n",
        "    try:\n",
        "        esuser = os.environ[\"ESUSER\"]\n",
        "    except KeyError:\n",
        "        esuser = input(\"Please enter your Elasticsearch user name and hit enter: \")\n",
        "    try:\n",
        "        espassword = os.environ[\"ESPASSWORD\"]\n",
        "    except KeyError:\n",
        "        espassword = getpass.getpass(\"Please enter your Elasticsearch password and hit enter: \")\n",
        "    try:\n",
        "        eshost = os.environ[\"ESHOST\"]\n",
        "    except KeyError:\n",
        "        eshost = input(\"Please enter your Elasticsearch hostname and hit enter: \")\n",
        "    try:\n",
        "        esport = os.environ[\"ESPORT\"]\n",
        "    except KeyError:\n",
        "        esport = input(\"Please enter your Elasticsearch port number and hit enter: \")\n",
        "    try:\n",
        "        esca = os.environ[\"ESCA\"]\n",
        "    except KeyError:\n",
        "        esca = input(\"Please enter your Elasticsearch certificate contents (base64 encoded) and hit enter: \")\n",
        "\n",
        "    elasticsearch_data_source_type_id = (\n",
        "        client.connections.get_datasource_type_id_by_name(\"elasticsearch\")\n",
        "    )\n",
        "    details = client.connections.create(\n",
        "        {\n",
        "            client.connections.ConfigurationMetaNames.NAME: \"ES Connection\",\n",
        "            client.connections.ConfigurationMetaNames.DESCRIPTION: \"connection description\",\n",
        "            client.connections.ConfigurationMetaNames.DATASOURCE_TYPE: elasticsearch_data_source_type_id,\n",
        "            client.connections.ConfigurationMetaNames.PROPERTIES: {\n",
        "                \"url\": f\"{eshost}:{esport}\",\n",
        "                \"username\": esuser,\n",
        "                \"password\": espassword,\n",
        "                \"use_anonymous_access\": \"false\",\n",
        "                \"ssl_certificate\": esca,\n",
        "            },\n",
        "        }\n",
        "    )\n",
        "\n",
        "    es_connection_id = client.connections.get_id(details)"
      ]
    },
    {
      "cell_type": "markdown",
      "metadata": {},
      "source": [
        "### Promote assets from project to space\n",
        "\n",
        "Some of the assets need to be promoted from project to space. Since RAGPattern, and eventually our RAG function, will be using deployed space, those resources are required for it to work correctly."
      ]
    },
    {
      "cell_type": "code",
      "execution_count": 18,
      "metadata": {},
      "outputs": [],
      "source": [
        "assets_to_promote = [es_connection_id, prompt_id]\n",
        "promoted_connection_id, promoted_prompt_id = [\n",
        "    client.spaces.promote(id, project_id, space_id) for id in assets_to_promote\n",
        "]"
      ]
    },
    {
      "cell_type": "code",
      "execution_count": 19,
      "metadata": {},
      "outputs": [
        {
          "name": "stdout",
          "output_type": "stream",
          "text": [
            "Unsetting the project_id ...\n"
          ]
        },
        {
          "data": {
            "text/plain": [
              "'SUCCESS'"
            ]
          },
          "execution_count": 19,
          "metadata": {},
          "output_type": "execute_result"
        }
      ],
      "source": [
        "client.set.default_space(space_id)"
      ]
    },
    {
      "cell_type": "markdown",
      "metadata": {},
      "source": [
        "<a id=\"vectorstore\"></a>\n",
        "## Set up VectorStore with Elasticsearch credentials \n",
        "\n",
        "Create a VectorStore class that automatically detects the database type (in our case it will be Elasticsearch) and allows us to add, search and delete documents.\n",
        "\n",
        "It works as a wrapper for LangChain VectorStore classes. You can customize the settings as long as it is supported. Consult the LangChain documentation for more information about <a href=\"https://api.python.langchain.com/en/latest/vectorstores/langchain_community.vectorstores.elasticsearch.ElasticsearchStore.html\" target=\"_blank\" rel=\"noopener no referrer\">ElasticsearchStore</a> connector."
      ]
    },
    {
      "cell_type": "markdown",
      "metadata": {},
      "source": [
        "Provide the name of your Elasticsearch index for subsequent operations:"
      ]
    },
    {
      "cell_type": "code",
      "execution_count": 20,
      "metadata": {},
      "outputs": [],
      "source": [
        "index_name = input(\"Please enter Elasticsearch index name and hit enter: \")"
      ]
    },
    {
      "cell_type": "code",
      "execution_count": 21,
      "metadata": {},
      "outputs": [],
      "source": [
        "vector_store = VectorStore(\n",
        "    client=client,\n",
        "    embeddings=embeddings,\n",
        "    connection_id=promoted_connection_id,\n",
        "    index_name=index_name,\n",
        ")"
      ]
    },
    {
      "cell_type": "markdown",
      "metadata": {},
      "source": [
        "<a id=\"elasticsearchstore_index\"></a>\n",
        "### Embed and index documents with Elasticsearch\n",
        "\n",
        "**Note: Could take several minutes if you don't have pre-built indices**"
      ]
    },
    {
      "cell_type": "code",
      "execution_count": 22,
      "metadata": {},
      "outputs": [],
      "source": [
        "texts = documents.indextext.tolist()\n",
        "metadatas = [{'title': title, 'id': doc_id} for (title, doc_id) in zip(documents.title, documents.id)]\n",
        "docs_to_add = [Document(page_content=text, metadata=metadata) for text, metadata in zip(texts, metadatas)]\n",
        "\n",
        "text_splitter = RecursiveCharacterTextSplitter(chunk_size=500, chunk_overlap=10)\n",
        "docs_to_add_split = text_splitter.split_documents(docs_to_add)\n",
        "\n",
        "ids = vector_store.add_documents(docs_to_add_split)"
      ]
    },
    {
      "cell_type": "markdown",
      "metadata": {},
      "source": [
        "Verify the number of documents loaded into the Elasticsearch index."
      ]
    },
    {
      "cell_type": "code",
      "execution_count": 23,
      "metadata": {},
      "outputs": [
        {
          "data": {
            "text/plain": [
              "4051"
            ]
          },
          "execution_count": 23,
          "metadata": {},
          "output_type": "execute_result"
        }
      ],
      "source": [
        "doc_count = vector_store.count()\n",
        "doc_count"
      ]
    },
    {
      "cell_type": "markdown",
      "metadata": {},
      "source": [
        "Let's search for an example document as a sample. Note the embedding in the vector field, that was generated with the sentence transformer."
      ]
    },
    {
      "cell_type": "code",
      "execution_count": 24,
      "metadata": {},
      "outputs": [
        {
          "data": {
            "text/markdown": [
              "**Question:** United States of America"
            ],
            "text/plain": [
              "<IPython.core.display.Markdown object>"
            ]
          },
          "metadata": {},
          "output_type": "display_data"
        },
        {
          "data": {
            "text/html": [
              "<div>\n",
              "<style scoped>\n",
              "    .dataframe tbody tr th:only-of-type {\n",
              "        vertical-align: middle;\n",
              "    }\n",
              "\n",
              "    .dataframe tbody tr th {\n",
              "        vertical-align: top;\n",
              "    }\n",
              "\n",
              "    .dataframe thead th {\n",
              "        text-align: right;\n",
              "    }\n",
              "</style>\n",
              "<table border=\"1\" class=\"dataframe\">\n",
              "  <thead>\n",
              "    <tr style=\"text-align: right;\">\n",
              "      <th></th>\n",
              "      <th>page_content</th>\n",
              "      <th>id</th>\n",
              "      <th>title</th>\n",
              "    </tr>\n",
              "  </thead>\n",
              "  <tbody>\n",
              "    <tr>\n",
              "      <th>0</th>\n",
              "      <td>, D.C. States / Territories Alabama Alaska Ame...</td>\n",
              "      <td>639.0</td>\n",
              "      <td>United States Senate elections, 2018</td>\n",
              "    </tr>\n",
              "    <tr>\n",
              "      <th>1</th>\n",
              "      <td>United States , 1797 -- 1801 1st Vice Presiden...</td>\n",
              "      <td>918.0</td>\n",
              "      <td>Founding Fathers of the United States</td>\n",
              "    </tr>\n",
              "    <tr>\n",
              "      <th>2</th>\n",
              "      <td>who led the American Revolution against the au...</td>\n",
              "      <td>878.0</td>\n",
              "      <td>Founding Fathers of the United States</td>\n",
              "    </tr>\n",
              "    <tr>\n",
              "      <th>3</th>\n",
              "      <td>-- 1793 ) U.S. Minister to France ( 1785 -- 17...</td>\n",
              "      <td>927.0</td>\n",
              "      <td>Founding Fathers of the United States</td>\n",
              "    </tr>\n",
              "    <tr>\n",
              "      <th>4</th>\n",
              "      <td>the United States of America , which was recog...</td>\n",
              "      <td>521.0</td>\n",
              "      <td>British colonization of the Americas</td>\n",
              "    </tr>\n",
              "  </tbody>\n",
              "</table>\n",
              "</div>"
            ],
            "text/plain": [
              "                                        page_content     id  \\\n",
              "0  , D.C. States / Territories Alabama Alaska Ame...  639.0   \n",
              "1  United States , 1797 -- 1801 1st Vice Presiden...  918.0   \n",
              "2  who led the American Revolution against the au...  878.0   \n",
              "3  -- 1793 ) U.S. Minister to France ( 1785 -- 17...  927.0   \n",
              "4  the United States of America , which was recog...  521.0   \n",
              "\n",
              "                                   title  \n",
              "0   United States Senate elections, 2018  \n",
              "1  Founding Fathers of the United States  \n",
              "2  Founding Fathers of the United States  \n",
              "3  Founding Fathers of the United States  \n",
              "4   British colonization of the Americas  "
            ]
          },
          "metadata": {},
          "output_type": "display_data"
        },
        {
          "data": {
            "text/plain": [
              "[Document(metadata={'title': 'United States Senate elections, 2018', 'id': 639.0}, page_content=', D.C. States / Territories Alabama Alaska American Samoa Arizona Arkansas California Colorado Connecticut Delaware Florida Georgia Guam Hawaii Idaho Illinois Indiana Iowa Kansas Kentucky Louisiana Maine Maryland Massachusetts Michigan Minnesota Mississippi Missouri Montana Nebraska Nevada New Hampshire New Jersey New Mexico New York North Carolina North Dakota Ohio Oklahoma Oregon Pennsylvania Puerto Rico'),\n",
              " Document(metadata={'title': 'Founding Fathers of the United States', 'id': 918.0}, page_content='United States , 1797 -- 1801 1st Vice President of the United States , 1789 -- 1797 U.S. Ambassador to the United Kingdom , 1785 -- 1788 U.S. Ambassador to the Netherlands , 1782 -- 1788 Delegate , Second Continental Congress , 1775 -- 1778 Delegate , First Continental Congress , 1774 Founding of the United States Braintree Instructions ( 1765 ) Boston Massacre defense Continental Association Novanglus ; A History of the Dispute with America , From Its Origin in 1754 to the Present Time ( 1775'),\n",
              " Document(metadata={'title': 'Founding Fathers of the United States', 'id': 878.0}, page_content='who led the American Revolution against the authority of the British Crown in word and deed and contributed to the establishment of the United States of America . Historian Richard B. Morris in 1973 identified the following seven figures as the key Founding Fathers : John Adams , Benjamin Franklin , Alexander Hamilton , John Jay , Thomas Jefferson , James Madison , and George Washington . Adams , Jefferson , and Franklin were members of the Committee of Five that drafted the Declaration of'),\n",
              " Document(metadata={'title': 'Founding Fathers of the United States', 'id': 927.0}, page_content='-- 1793 ) U.S. Minister to France ( 1785 -- 1789 ) 2nd Governor of Virginia ( 1779 -- 1781 ) Delegate , Second Continental Congress ( 1775 -- 1776 ) Founding documents of the United States A Summary View of the Rights of British America ( 1774 ) Initial draft , Olive Branch Petition ( 1775 ) Declaration of the Causes and Necessity of Taking Up Arms ( 1775 ) 1776 Declaration of Independence Committee of Five authored physical history `` All men are'),\n",
              " Document(metadata={'title': 'British colonization of the Americas', 'id': 521.0}, page_content=\"the United States of America , which was recognised internationally with the signing of the Treaty of Paris on 3 September 1783 . Great Britain also colonised the west coast of North America , indirectly via the Hudson 's Bay Company licenses west of the Rocky Mountains : the Columbia District and New Caledonia fur district . Most of these were jointly claimed as the Oregon Country by the United\")]"
            ]
          },
          "execution_count": 24,
          "metadata": {},
          "output_type": "execute_result"
        }
      ],
      "source": [
        "vector_store.search(\"United States of America\", k=5, verbose=True)"
      ]
    },
    {
      "cell_type": "markdown",
      "metadata": {},
      "source": [
        "<a id=\"deploy\"></a>\n",
        "## Create and deploy RAG solution"
      ]
    },
    {
      "cell_type": "markdown",
      "metadata": {},
      "source": [
        "`RAGPattern` class from Watsonx SDK allows us to deploy a RAG function on a deployment space."
      ]
    },
    {
      "cell_type": "markdown",
      "metadata": {},
      "source": [
        "### Initialize ModelInference object\n",
        "\n",
        "Model will use the defined prompt and retrieved documents from vector store to generate answers."
      ]
    },
    {
      "cell_type": "code",
      "execution_count": 25,
      "metadata": {},
      "outputs": [],
      "source": [
        "generate_params = {\n",
        "    GenParams.DECODING_METHOD: \"greedy\",\n",
        "    GenParams.MIN_NEW_TOKENS: 1,\n",
        "    GenParams.MAX_NEW_TOKENS: 200\n",
        "}\n",
        "\n",
        "model = ModelInference(\n",
        "    model_id=ModelTypes.LLAMA_2_13B_CHAT,\n",
        "    params=generate_params,\n",
        "    credentials=credentials,\n",
        "    space_id=space_id\n",
        ")"
      ]
    },
    {
      "cell_type": "markdown",
      "metadata": {},
      "source": [
        "### Initialize RAGPattern class"
      ]
    },
    {
      "cell_type": "code",
      "execution_count": 26,
      "metadata": {},
      "outputs": [],
      "source": [
        "pattern = RAGPattern(\n",
        "    space_id=space_id,\n",
        "    prompt_id=promoted_prompt_id,\n",
        "    vector_store=vector_store,\n",
        "    model=model,\n",
        "    api_client=client\n",
        ")"
      ]
    },
    {
      "cell_type": "markdown",
      "metadata": {},
      "source": [
        "### Preview function code\n",
        "\n",
        "Deployed function can be displayed using ``pretty_print`` method.  \n",
        "Set `insert_to_cell` to `True` to insert function code into next notebook cell."
      ]
    },
    {
      "cell_type": "code",
      "execution_count": 30,
      "metadata": {},
      "outputs": [
        {
          "name": "stdout",
          "output_type": "stream",
          "text": [
            "def default_inference_function(params={'space_id': '93ee84d1-b7dd-42b4-b2ca-121bc0c86315', 'project_id': None, 'retriever': {'method': 'simple', 'number_of_chunks': 5}, 'vector_store': {'connection_id': '580ca8f2-caea-4239-b3f0-691312b2c428', 'embeddings': {'__class__': 'Embeddings', '__module__': 'ibm_watsonx_ai.foundation_models.embeddings.embeddings', 'model_id': 'ibm/slate-30m-english-rtrvr', 'params': None, 'project_id': 'd2436d2e-5814-4370-bd06-1754670e7d46', 'space_id': None, 'verify': None}, 'index_name': 'elastic_index_name', 'datasource_type': 'elasticsearch', 'distance_metric': None}, 'prompt_template_text': \"\\n    Use the following pieces of documents to answer the question\\n    at the end. If you don't know the answer, just say that you\\n    don't know, don't try to make up an answer. Use three sentences\\n    maximum. Keep the answer as concise as possible. do not include\\n    question in your response.Your answers should not include any\\n    harmful, unethical, racist, sexist, toxic, dangerous, or illegal\\n    content. Please ensure that your responses are socially unbiased\\n    and positive in nature.\\nPlease provide a concise professional\\n    response.\\n    \\n\\n{reference_documents}\\nQuestion:{question}\\nAnswer:\", 'context_template_text': None, 'model': {'model_id': 'meta-llama/llama-2-13b-chat', 'params': {'decoding_method': 'greedy', 'min_new_tokens': 1, 'max_new_tokens': 200}, 'project_id': None, 'space_id': '93ee84d1-b7dd-42b4-b2ca-121bc0c86315'}, 'inference_function_params': {}, 'default_max_sequence_length': None}):\n",
            "    \"\"\"\n",
            "    Default function used in RAGPattern when no ``inference_function`` is provided.\n",
            "\n",
            "    Input schema:\n",
            "    payload = {\n",
            "        client.deployments.ScoringMetaNames.INPUT_DATA: [\n",
            "            {\n",
            "                \"values\": [\"question 1\", \"question 2\"],\n",
            "                \"access_token\": \"<bearer_token>\"\n",
            "            }\n",
            "        ]\n",
            "    }\n",
            "\n",
            "    Output schema:\n",
            "    result = {\n",
            "        'predictions': [\n",
            "            {\n",
            "                'fields': ['answer', 'reference_documents'],\n",
            "                'values': [\n",
            "                    ['answer 1', [ {'page_content': 'page content 1',\n",
            "                                    'metadata':     'metadata 1'} ]],\n",
            "                    ['answer 2', [ {'page_content': 'page content 2',\n",
            "                                    'metadata':     'metadata 2'} ]]\n",
            "                ]\n",
            "            }\n",
            "        ]\n",
            "    }\n",
            "    \"\"\"\n",
            "    from ibm_watsonx_ai import APIClient, Credentials\n",
            "    from ibm_watsonx_ai.foundation_models import ModelInference\n",
            "    from ibm_watsonx_ai.foundation_models.extensions.rag import Retriever, VectorStore\n",
            "    from ibm_watsonx_ai.foundation_models.extensions.rag.pattern.prompt_builder import (\n",
            "        build_prompt,\n",
            "    )\n",
            "    from ibm_watsonx_ai.foundation_models.extensions.rag.utils import (\n",
            "        get_max_input_tokens,\n",
            "    )\n",
            "    from ibm_watsonx_ai.wml_client_error import MissingValue\n",
            "\n",
            "    client = APIClient(\n",
            "        Credentials.from_dict(params[\"credentials\"]),\n",
            "        space_id=params[\"space_id\"],\n",
            "        project_id=params[\"project_id\"],\n",
            "    )\n",
            "    vector_store = VectorStore.from_dict(client=client, data=params[\"vector_store\"])\n",
            "    retriever = Retriever.from_vector_store(\n",
            "        vector_store=vector_store, init_parameters=params[\"retriever\"]\n",
            "    )\n",
            "    model = ModelInference(api_client=client, **params[\"model\"])\n",
            "    model_max_input_tokens = get_max_input_tokens(model=model, params=params)\n",
            "    prompt_template_text = params[\"prompt_template_text\"]\n",
            "    context_template_text = params[\"context_template_text\"]\n",
            "\n",
            "    def score(payload):\n",
            "        input_data = payload[client.deployments.ScoringMetaNames.INPUT_DATA]\n",
            "        access_token = input_data[0].get(\"access_token\")\n",
            "        questions = input_data[0].get(\"values\")\n",
            "\n",
            "        if access_token is None:\n",
            "            raise MissingValue(\n",
            "                value_name=\"access_token\",\n",
            "                reason=\"Access token is required in scoring payload.\",\n",
            "            )\n",
            "\n",
            "        if isinstance(questions, str):\n",
            "            questions = [questions]\n",
            "\n",
            "        client.set_token(access_token)\n",
            "\n",
            "        result = {\"predictions\": [{\"fields\": [\"answer\", \"reference_documents\"]}]}\n",
            "        all_prompts = []\n",
            "        all_retrieved_docs = []\n",
            "\n",
            "        for question in questions:\n",
            "            retrieved_docs = retriever.retrieve(query=question)\n",
            "            all_retrieved_docs.append(retrieved_docs)\n",
            "            reference_documents = [doc.page_content for doc in retrieved_docs]\n",
            "\n",
            "            prompt_input_text = build_prompt(\n",
            "                prompt_template_text=prompt_template_text,\n",
            "                context_template_text=context_template_text,\n",
            "                question=question,\n",
            "                reference_documents=reference_documents,\n",
            "                model_max_input_tokens=model_max_input_tokens,\n",
            "            )\n",
            "            all_prompts.append(prompt_input_text)\n",
            "\n",
            "        answers = model.generate_text(prompt=all_prompts)\n",
            "\n",
            "        predictions = [\n",
            "            [\n",
            "                answer,\n",
            "                [\n",
            "                    {\"page_content\": doc.page_content, \"metadata\": doc.metadata}\n",
            "                    for doc in retrieved_docs\n",
            "                ],\n",
            "            ]\n",
            "            for answer, retrieved_docs in zip(answers, all_retrieved_docs)\n",
            "        ]\n",
            "\n",
            "        result[\"predictions\"][0][\"values\"] = predictions\n",
            "\n",
            "        return result\n",
            "\n",
            "    return score\n",
            "\n"
          ]
        }
      ],
      "source": [
        "pattern.inference_function.pretty_print(insert_to_cell=False)"
      ]
    },
    {
      "cell_type": "markdown",
      "metadata": {},
      "source": [
        "### Test the function locally\n",
        "\n",
        "To test our solution we can query the function locally without deploying."
      ]
    },
    {
      "cell_type": "code",
      "execution_count": 31,
      "metadata": {},
      "outputs": [],
      "source": [
        "questions_and_answers = {\n",
        "    'what are the names of founding fathers of the united states?': \"Thomas Jefferson::James Madison::John Jay::George Washington::John Adams::Benjamin Franklin::Alexander Hamilton\",\n",
        "    'who played in the super bowl in 2013?': 'Baltimore Ravens::San Francisco 49ers',\n",
        "    'when did bucharest become the capital of romania?': '1862'\n",
        "}"
      ]
    },
    {
      "cell_type": "markdown",
      "metadata": {},
      "source": [
        "Define a helper function for formatting the response:"
      ]
    },
    {
      "cell_type": "code",
      "execution_count": 32,
      "metadata": {},
      "outputs": [],
      "source": [
        "def print_rag_response(response):\n",
        "    for question, (answer, reference_docs) in zip(questions_and_answers.keys(), response['predictions'][0]['values']):\n",
        "        verbose_search(question, [Document(**d) for d in reference_docs])\n",
        "        display(Markdown(f'**Answer:** {answer}'))"
      ]
    },
    {
      "cell_type": "markdown",
      "metadata": {},
      "source": [
        "Questions have to be provided in the payload that have format provided below."
      ]
    },
    {
      "cell_type": "code",
      "execution_count": 33,
      "metadata": {},
      "outputs": [],
      "source": [
        "payload = {\n",
        "    client.deployments.ScoringMetaNames.INPUT_DATA: [{\n",
        "        \"values\": list(questions_and_answers.keys())\n",
        "    }]\n",
        "}"
      ]
    },
    {
      "cell_type": "code",
      "execution_count": 34,
      "metadata": {},
      "outputs": [
        {
          "data": {
            "text/markdown": [
              "**Question:** what are the names of founding fathers of the united states?"
            ],
            "text/plain": [
              "<IPython.core.display.Markdown object>"
            ]
          },
          "metadata": {},
          "output_type": "display_data"
        },
        {
          "data": {
            "text/html": [
              "<div>\n",
              "<style scoped>\n",
              "    .dataframe tbody tr th:only-of-type {\n",
              "        vertical-align: middle;\n",
              "    }\n",
              "\n",
              "    .dataframe tbody tr th {\n",
              "        vertical-align: top;\n",
              "    }\n",
              "\n",
              "    .dataframe thead th {\n",
              "        text-align: right;\n",
              "    }\n",
              "</style>\n",
              "<table border=\"1\" class=\"dataframe\">\n",
              "  <thead>\n",
              "    <tr style=\"text-align: right;\">\n",
              "      <th></th>\n",
              "      <th>page_content</th>\n",
              "      <th>id</th>\n",
              "      <th>title</th>\n",
              "    </tr>\n",
              "  </thead>\n",
              "  <tbody>\n",
              "    <tr>\n",
              "      <th>0</th>\n",
              "      <td>Founding Fathers of the United States</td>\n",
              "      <td>878.0</td>\n",
              "      <td>Founding Fathers of the United States</td>\n",
              "    </tr>\n",
              "    <tr>\n",
              "      <th>1</th>\n",
              "      <td>Founding Fathers of the United States</td>\n",
              "      <td>879.0</td>\n",
              "      <td>Founding Fathers of the United States</td>\n",
              "    </tr>\n",
              "    <tr>\n",
              "      <th>2</th>\n",
              "      <td>Founding Fathers of the United States</td>\n",
              "      <td>880.0</td>\n",
              "      <td>Founding Fathers of the United States</td>\n",
              "    </tr>\n",
              "    <tr>\n",
              "      <th>3</th>\n",
              "      <td>Founding Fathers of the United States</td>\n",
              "      <td>881.0</td>\n",
              "      <td>Founding Fathers of the United States</td>\n",
              "    </tr>\n",
              "    <tr>\n",
              "      <th>4</th>\n",
              "      <td>Founding Fathers of the United States</td>\n",
              "      <td>882.0</td>\n",
              "      <td>Founding Fathers of the United States</td>\n",
              "    </tr>\n",
              "  </tbody>\n",
              "</table>\n",
              "</div>"
            ],
            "text/plain": [
              "                            page_content     id  \\\n",
              "0  Founding Fathers of the United States  878.0   \n",
              "1  Founding Fathers of the United States  879.0   \n",
              "2  Founding Fathers of the United States  880.0   \n",
              "3  Founding Fathers of the United States  881.0   \n",
              "4  Founding Fathers of the United States  882.0   \n",
              "\n",
              "                                   title  \n",
              "0  Founding Fathers of the United States  \n",
              "1  Founding Fathers of the United States  \n",
              "2  Founding Fathers of the United States  \n",
              "3  Founding Fathers of the United States  \n",
              "4  Founding Fathers of the United States  "
            ]
          },
          "metadata": {},
          "output_type": "display_data"
        },
        {
          "data": {
            "text/markdown": [
              "**Answer:** The names of the founding fathers of the united states are george washington, john adams, thomas jefferson, benjamin franklin, james madison, alexander hamilton, john jay, and james monroe.\n",
              "\n",
              "\n",
              "\n",
              "\n",
              "\n",
              "\n",
              "\n",
              "\n",
              "\n",
              "\n",
              "\n",
              "\n",
              "\n",
              "\n",
              "\n",
              "\n",
              "\n",
              "\n",
              "\n",
              "\n",
              "\n",
              "\n",
              "\n",
              "\n",
              "\n",
              "\n",
              "\n",
              "\n",
              "\n",
              "\n",
              "\n",
              "\n",
              "\n",
              "\n",
              "\n",
              "\n",
              "\n",
              "\n",
              "\n",
              "\n",
              "\n",
              "\n",
              "\n",
              "\n",
              "\n",
              "\n",
              "\n",
              "\n",
              "\n",
              "\n",
              "\n",
              "\n",
              "\n",
              "\n",
              "\n",
              "\n",
              "\n",
              "\n",
              "\n",
              "\n",
              "\n",
              "\n",
              "\n",
              "\n",
              "\n",
              "\n",
              "\n",
              "\n",
              "\n",
              "\n",
              "\n",
              "\n",
              "\n",
              "\n",
              "\n",
              "\n",
              "\n",
              "\n",
              "\n",
              "\n",
              "\n",
              "\n",
              "\n",
              "\n",
              "\n",
              "\n",
              "\n",
              "\n",
              "\n",
              "\n",
              "\n",
              "\n",
              "\n",
              "\n",
              "\n",
              "\n",
              "\n",
              "\n",
              "\n",
              "\n",
              "\n",
              "\n",
              "\n",
              "\n",
              "\n",
              "\n",
              "\n",
              "\n",
              "\n",
              "\n",
              "\n",
              "\n",
              "\n",
              "\n",
              "\n",
              "\n",
              "\n",
              "\n",
              "\n",
              "\n",
              "\n",
              "\n",
              "\n",
              "\n",
              "\n",
              "\n",
              "\n",
              "\n",
              "\n",
              "\n",
              "\n",
              "\n",
              "\n",
              "\n",
              "\n",
              "\n",
              "\n",
              "\n",
              "\n",
              "\n"
            ],
            "text/plain": [
              "<IPython.core.display.Markdown object>"
            ]
          },
          "metadata": {},
          "output_type": "display_data"
        },
        {
          "data": {
            "text/markdown": [
              "**Question:** who played in the super bowl in 2013?"
            ],
            "text/plain": [
              "<IPython.core.display.Markdown object>"
            ]
          },
          "metadata": {},
          "output_type": "display_data"
        },
        {
          "data": {
            "text/html": [
              "<div>\n",
              "<style scoped>\n",
              "    .dataframe tbody tr th:only-of-type {\n",
              "        vertical-align: middle;\n",
              "    }\n",
              "\n",
              "    .dataframe tbody tr th {\n",
              "        vertical-align: top;\n",
              "    }\n",
              "\n",
              "    .dataframe thead th {\n",
              "        text-align: right;\n",
              "    }\n",
              "</style>\n",
              "<table border=\"1\" class=\"dataframe\">\n",
              "  <thead>\n",
              "    <tr style=\"text-align: right;\">\n",
              "      <th></th>\n",
              "      <th>page_content</th>\n",
              "      <th>id</th>\n",
              "      <th>title</th>\n",
              "    </tr>\n",
              "  </thead>\n",
              "  <tbody>\n",
              "    <tr>\n",
              "      <th>0</th>\n",
              "      <td>Super Bowl XLVII - wikipedia Super Bowl XLVII ...</td>\n",
              "      <td>818.0</td>\n",
              "      <td>Super Bowl XLVII</td>\n",
              "    </tr>\n",
              "    <tr>\n",
              "      <th>1</th>\n",
              "      <td>Opponents Announced '' . NewOrleansSaints.com ...</td>\n",
              "      <td>856.0</td>\n",
              "      <td>Super Bowl XLVII</td>\n",
              "    </tr>\n",
              "    <tr>\n",
              "      <th>2</th>\n",
              "      <td>responded to the claim on Twitter in jest , tw...</td>\n",
              "      <td>848.0</td>\n",
              "      <td>Super Bowl XLVII</td>\n",
              "    </tr>\n",
              "    <tr>\n",
              "      <th>3</th>\n",
              "      <td>: Super Bowl 2012 National Football League sea...</td>\n",
              "      <td>876.0</td>\n",
              "      <td>Super Bowl XLVII</td>\n",
              "    </tr>\n",
              "    <tr>\n",
              "      <th>4</th>\n",
              "      <td>February 4 , 2013 . Jump up ^ `` Lights go out...</td>\n",
              "      <td>866.0</td>\n",
              "      <td>Super Bowl XLVII</td>\n",
              "    </tr>\n",
              "  </tbody>\n",
              "</table>\n",
              "</div>"
            ],
            "text/plain": [
              "                                        page_content     id             title\n",
              "0  Super Bowl XLVII - wikipedia Super Bowl XLVII ...  818.0  Super Bowl XLVII\n",
              "1  Opponents Announced '' . NewOrleansSaints.com ...  856.0  Super Bowl XLVII\n",
              "2  responded to the claim on Twitter in jest , tw...  848.0  Super Bowl XLVII\n",
              "3  : Super Bowl 2012 National Football League sea...  876.0  Super Bowl XLVII\n",
              "4  February 4 , 2013 . Jump up ^ `` Lights go out...  866.0  Super Bowl XLVII"
            ]
          },
          "metadata": {},
          "output_type": "display_data"
        },
        {
          "data": {
            "text/markdown": [
              "**Answer:**  The Baltimore Ravens played against the San Francisco 49ers in Super Bowl XLVII in 2013."
            ],
            "text/plain": [
              "<IPython.core.display.Markdown object>"
            ]
          },
          "metadata": {},
          "output_type": "display_data"
        },
        {
          "data": {
            "text/markdown": [
              "**Question:** when did bucharest become the capital of romania?"
            ],
            "text/plain": [
              "<IPython.core.display.Markdown object>"
            ]
          },
          "metadata": {},
          "output_type": "display_data"
        },
        {
          "data": {
            "text/html": [
              "<div>\n",
              "<style scoped>\n",
              "    .dataframe tbody tr th:only-of-type {\n",
              "        vertical-align: middle;\n",
              "    }\n",
              "\n",
              "    .dataframe tbody tr th {\n",
              "        vertical-align: top;\n",
              "    }\n",
              "\n",
              "    .dataframe thead th {\n",
              "        text-align: right;\n",
              "    }\n",
              "</style>\n",
              "<table border=\"1\" class=\"dataframe\">\n",
              "  <thead>\n",
              "    <tr style=\"text-align: right;\">\n",
              "      <th></th>\n",
              "      <th>page_content</th>\n",
              "      <th>id</th>\n",
              "      <th>title</th>\n",
              "    </tr>\n",
              "  </thead>\n",
              "  <tbody>\n",
              "    <tr>\n",
              "      <th>0</th>\n",
              "      <td>destroying a third of the city . Ottoman massa...</td>\n",
              "      <td>948.0</td>\n",
              "      <td>Bucharest</td>\n",
              "    </tr>\n",
              "    <tr>\n",
              "      <th>1</th>\n",
              "      <td>to become joyful ) , while an early 19th - cen...</td>\n",
              "      <td>946.0</td>\n",
              "      <td>Bucharest</td>\n",
              "    </tr>\n",
              "    <tr>\n",
              "      <th>2</th>\n",
              "      <td>route to the Eastern Front , Bucharest suffere...</td>\n",
              "      <td>949.0</td>\n",
              "      <td>Bucharest</td>\n",
              "    </tr>\n",
              "    <tr>\n",
              "      <th>3</th>\n",
              "      <td>Bucharest</td>\n",
              "      <td>942.0</td>\n",
              "      <td>Bucharest</td>\n",
              "    </tr>\n",
              "    <tr>\n",
              "      <th>4</th>\n",
              "      <td>Bucharest</td>\n",
              "      <td>943.0</td>\n",
              "      <td>Bucharest</td>\n",
              "    </tr>\n",
              "  </tbody>\n",
              "</table>\n",
              "</div>"
            ],
            "text/plain": [
              "                                        page_content     id      title\n",
              "0  destroying a third of the city . Ottoman massa...  948.0  Bucharest\n",
              "1  to become joyful ) , while an early 19th - cen...  946.0  Bucharest\n",
              "2  route to the Eastern Front , Bucharest suffere...  949.0  Bucharest\n",
              "3                                          Bucharest  942.0  Bucharest\n",
              "4                                          Bucharest  943.0  Bucharest"
            ]
          },
          "metadata": {},
          "output_type": "display_data"
        },
        {
          "data": {
            "text/markdown": [
              "**Answer:**  Bucharest became the capital of Romania in 1862, after Wallachia and Moldavia were united to form the Principality of Romania."
            ],
            "text/plain": [
              "<IPython.core.display.Markdown object>"
            ]
          },
          "metadata": {},
          "output_type": "display_data"
        }
      ],
      "source": [
        "response = pattern.query(payload)\n",
        "print_rag_response(response)"
      ]
    },
    {
      "cell_type": "markdown",
      "metadata": {},
      "source": [
        "### Deploy RAGPattern\n",
        "\n",
        "Deployment can be done by using `deploy` method of our created RAGPattern object. In order to do so, provide additional meta props, just like those required for deployed function. Check `client._functions.ConfigurationMetaNames.show()` and `client.deployments.ConfigurationMetaNames.show()` for more info."
      ]
    },
    {
      "cell_type": "code",
      "execution_count": 35,
      "metadata": {},
      "outputs": [
        {
          "name": "stdout",
          "output_type": "stream",
          "text": [
            "\n",
            "\n",
            "######################################################################################\n",
            "\n",
            "Synchronous deployment creation for id: '9d129ea3-03e6-4a23-b4c8-cba91170c9b6' started\n",
            "\n",
            "######################################################################################\n",
            "\n",
            "\n",
            "initializing\n",
            "Note: online_url and serving_urls are deprecated and will be removed in a future release. Use inference instead.\n",
            "...\n",
            "ready\n",
            "\n",
            "\n",
            "-----------------------------------------------------------------------------------------------\n",
            "Successfully finished deployment creation, deployment_id='4589383a-7739-4768-9af8-9e2a7d564903'\n",
            "-----------------------------------------------------------------------------------------------\n",
            "\n",
            "\n"
          ]
        }
      ],
      "source": [
        "pattern_deployment_details = pattern.deploy(\"RAG_deployment\")\n",
        "pattern_deployment_id = client.deployments.get_id(pattern_deployment_details)"
      ]
    },
    {
      "cell_type": "markdown",
      "metadata": {},
      "source": [
        "### Test the deployed function\n",
        "\n",
        "RAG service is now deployed on our space. To test our solution we can run the cell below. Questions have to be provided in the payload that have format provided below."
      ]
    },
    {
      "cell_type": "code",
      "execution_count": 36,
      "metadata": {},
      "outputs": [
        {
          "data": {
            "text/markdown": [
              "**Question:** what are the names of founding fathers of the united states?"
            ],
            "text/plain": [
              "<IPython.core.display.Markdown object>"
            ]
          },
          "metadata": {},
          "output_type": "display_data"
        },
        {
          "data": {
            "text/html": [
              "<div>\n",
              "<style scoped>\n",
              "    .dataframe tbody tr th:only-of-type {\n",
              "        vertical-align: middle;\n",
              "    }\n",
              "\n",
              "    .dataframe tbody tr th {\n",
              "        vertical-align: top;\n",
              "    }\n",
              "\n",
              "    .dataframe thead th {\n",
              "        text-align: right;\n",
              "    }\n",
              "</style>\n",
              "<table border=\"1\" class=\"dataframe\">\n",
              "  <thead>\n",
              "    <tr style=\"text-align: right;\">\n",
              "      <th></th>\n",
              "      <th>page_content</th>\n",
              "      <th>id</th>\n",
              "      <th>title</th>\n",
              "    </tr>\n",
              "  </thead>\n",
              "  <tbody>\n",
              "    <tr>\n",
              "      <th>0</th>\n",
              "      <td>Founding Fathers of the United States</td>\n",
              "      <td>878.0</td>\n",
              "      <td>Founding Fathers of the United States</td>\n",
              "    </tr>\n",
              "    <tr>\n",
              "      <th>1</th>\n",
              "      <td>Founding Fathers of the United States</td>\n",
              "      <td>879.0</td>\n",
              "      <td>Founding Fathers of the United States</td>\n",
              "    </tr>\n",
              "    <tr>\n",
              "      <th>2</th>\n",
              "      <td>Founding Fathers of the United States</td>\n",
              "      <td>880.0</td>\n",
              "      <td>Founding Fathers of the United States</td>\n",
              "    </tr>\n",
              "    <tr>\n",
              "      <th>3</th>\n",
              "      <td>Founding Fathers of the United States</td>\n",
              "      <td>881.0</td>\n",
              "      <td>Founding Fathers of the United States</td>\n",
              "    </tr>\n",
              "    <tr>\n",
              "      <th>4</th>\n",
              "      <td>Founding Fathers of the United States</td>\n",
              "      <td>882.0</td>\n",
              "      <td>Founding Fathers of the United States</td>\n",
              "    </tr>\n",
              "  </tbody>\n",
              "</table>\n",
              "</div>"
            ],
            "text/plain": [
              "                            page_content     id  \\\n",
              "0  Founding Fathers of the United States  878.0   \n",
              "1  Founding Fathers of the United States  879.0   \n",
              "2  Founding Fathers of the United States  880.0   \n",
              "3  Founding Fathers of the United States  881.0   \n",
              "4  Founding Fathers of the United States  882.0   \n",
              "\n",
              "                                   title  \n",
              "0  Founding Fathers of the United States  \n",
              "1  Founding Fathers of the United States  \n",
              "2  Founding Fathers of the United States  \n",
              "3  Founding Fathers of the United States  \n",
              "4  Founding Fathers of the United States  "
            ]
          },
          "metadata": {},
          "output_type": "display_data"
        },
        {
          "data": {
            "text/markdown": [
              "**Answer:** The names of the founding fathers of the united states are george washington, john adams, thomas jefferson, benjamin franklin, james madison, alexander hamilton, john jay, and james monroe.\n",
              "\n",
              "\n",
              "\n",
              "\n",
              "\n",
              "\n",
              "\n",
              "\n",
              "\n",
              "\n",
              "\n",
              "\n",
              "\n",
              "\n",
              "\n",
              "\n",
              "\n",
              "\n",
              "\n",
              "\n",
              "\n",
              "\n",
              "\n",
              "\n",
              "\n",
              "\n",
              "\n",
              "\n",
              "\n",
              "\n",
              "\n",
              "\n",
              "\n",
              "\n",
              "\n",
              "\n",
              "\n",
              "\n",
              "\n",
              "\n",
              "\n",
              "\n",
              "\n",
              "\n",
              "\n",
              "\n",
              "\n",
              "\n",
              "\n",
              "\n",
              "\n",
              "\n",
              "\n",
              "\n",
              "\n",
              "\n",
              "\n",
              "\n",
              "\n",
              "\n",
              "\n",
              "\n",
              "\n",
              "\n",
              "\n",
              "\n",
              "\n",
              "\n",
              "\n",
              "\n",
              "\n",
              "\n",
              "\n",
              "\n",
              "\n",
              "\n",
              "\n",
              "\n",
              "\n",
              "\n",
              "\n",
              "\n",
              "\n",
              "\n",
              "\n",
              "\n",
              "\n",
              "\n",
              "\n",
              "\n",
              "\n",
              "\n",
              "\n",
              "\n",
              "\n",
              "\n",
              "\n",
              "\n",
              "\n",
              "\n",
              "\n",
              "\n",
              "\n",
              "\n",
              "\n",
              "\n",
              "\n",
              "\n",
              "\n",
              "\n",
              "\n",
              "\n",
              "\n",
              "\n",
              "\n",
              "\n",
              "\n",
              "\n",
              "\n",
              "\n",
              "\n",
              "\n",
              "\n",
              "\n",
              "\n",
              "\n",
              "\n",
              "\n",
              "\n",
              "\n",
              "\n",
              "\n",
              "\n",
              "\n",
              "\n",
              "\n",
              "\n",
              "\n",
              "\n",
              "\n"
            ],
            "text/plain": [
              "<IPython.core.display.Markdown object>"
            ]
          },
          "metadata": {},
          "output_type": "display_data"
        },
        {
          "data": {
            "text/markdown": [
              "**Question:** who played in the super bowl in 2013?"
            ],
            "text/plain": [
              "<IPython.core.display.Markdown object>"
            ]
          },
          "metadata": {},
          "output_type": "display_data"
        },
        {
          "data": {
            "text/html": [
              "<div>\n",
              "<style scoped>\n",
              "    .dataframe tbody tr th:only-of-type {\n",
              "        vertical-align: middle;\n",
              "    }\n",
              "\n",
              "    .dataframe tbody tr th {\n",
              "        vertical-align: top;\n",
              "    }\n",
              "\n",
              "    .dataframe thead th {\n",
              "        text-align: right;\n",
              "    }\n",
              "</style>\n",
              "<table border=\"1\" class=\"dataframe\">\n",
              "  <thead>\n",
              "    <tr style=\"text-align: right;\">\n",
              "      <th></th>\n",
              "      <th>page_content</th>\n",
              "      <th>id</th>\n",
              "      <th>title</th>\n",
              "    </tr>\n",
              "  </thead>\n",
              "  <tbody>\n",
              "    <tr>\n",
              "      <th>0</th>\n",
              "      <td>Super Bowl XLVII - wikipedia Super Bowl XLVII ...</td>\n",
              "      <td>818.0</td>\n",
              "      <td>Super Bowl XLVII</td>\n",
              "    </tr>\n",
              "    <tr>\n",
              "      <th>1</th>\n",
              "      <td>Opponents Announced '' . NewOrleansSaints.com ...</td>\n",
              "      <td>856.0</td>\n",
              "      <td>Super Bowl XLVII</td>\n",
              "    </tr>\n",
              "    <tr>\n",
              "      <th>2</th>\n",
              "      <td>responded to the claim on Twitter in jest , tw...</td>\n",
              "      <td>848.0</td>\n",
              "      <td>Super Bowl XLVII</td>\n",
              "    </tr>\n",
              "    <tr>\n",
              "      <th>3</th>\n",
              "      <td>: Super Bowl 2012 National Football League sea...</td>\n",
              "      <td>876.0</td>\n",
              "      <td>Super Bowl XLVII</td>\n",
              "    </tr>\n",
              "    <tr>\n",
              "      <th>4</th>\n",
              "      <td>February 4 , 2013 . Jump up ^ `` Lights go out...</td>\n",
              "      <td>866.0</td>\n",
              "      <td>Super Bowl XLVII</td>\n",
              "    </tr>\n",
              "  </tbody>\n",
              "</table>\n",
              "</div>"
            ],
            "text/plain": [
              "                                        page_content     id             title\n",
              "0  Super Bowl XLVII - wikipedia Super Bowl XLVII ...  818.0  Super Bowl XLVII\n",
              "1  Opponents Announced '' . NewOrleansSaints.com ...  856.0  Super Bowl XLVII\n",
              "2  responded to the claim on Twitter in jest , tw...  848.0  Super Bowl XLVII\n",
              "3  : Super Bowl 2012 National Football League sea...  876.0  Super Bowl XLVII\n",
              "4  February 4 , 2013 . Jump up ^ `` Lights go out...  866.0  Super Bowl XLVII"
            ]
          },
          "metadata": {},
          "output_type": "display_data"
        },
        {
          "data": {
            "text/markdown": [
              "**Answer:**  The Baltimore Ravens played against the San Francisco 49ers in Super Bowl XLVII in 2013."
            ],
            "text/plain": [
              "<IPython.core.display.Markdown object>"
            ]
          },
          "metadata": {},
          "output_type": "display_data"
        },
        {
          "data": {
            "text/markdown": [
              "**Question:** when did bucharest become the capital of romania?"
            ],
            "text/plain": [
              "<IPython.core.display.Markdown object>"
            ]
          },
          "metadata": {},
          "output_type": "display_data"
        },
        {
          "data": {
            "text/html": [
              "<div>\n",
              "<style scoped>\n",
              "    .dataframe tbody tr th:only-of-type {\n",
              "        vertical-align: middle;\n",
              "    }\n",
              "\n",
              "    .dataframe tbody tr th {\n",
              "        vertical-align: top;\n",
              "    }\n",
              "\n",
              "    .dataframe thead th {\n",
              "        text-align: right;\n",
              "    }\n",
              "</style>\n",
              "<table border=\"1\" class=\"dataframe\">\n",
              "  <thead>\n",
              "    <tr style=\"text-align: right;\">\n",
              "      <th></th>\n",
              "      <th>page_content</th>\n",
              "      <th>id</th>\n",
              "      <th>title</th>\n",
              "    </tr>\n",
              "  </thead>\n",
              "  <tbody>\n",
              "    <tr>\n",
              "      <th>0</th>\n",
              "      <td>destroying a third of the city . Ottoman massa...</td>\n",
              "      <td>948.0</td>\n",
              "      <td>Bucharest</td>\n",
              "    </tr>\n",
              "    <tr>\n",
              "      <th>1</th>\n",
              "      <td>to become joyful ) , while an early 19th - cen...</td>\n",
              "      <td>946.0</td>\n",
              "      <td>Bucharest</td>\n",
              "    </tr>\n",
              "    <tr>\n",
              "      <th>2</th>\n",
              "      <td>route to the Eastern Front , Bucharest suffere...</td>\n",
              "      <td>949.0</td>\n",
              "      <td>Bucharest</td>\n",
              "    </tr>\n",
              "    <tr>\n",
              "      <th>3</th>\n",
              "      <td>Bucharest</td>\n",
              "      <td>942.0</td>\n",
              "      <td>Bucharest</td>\n",
              "    </tr>\n",
              "    <tr>\n",
              "      <th>4</th>\n",
              "      <td>Bucharest</td>\n",
              "      <td>943.0</td>\n",
              "      <td>Bucharest</td>\n",
              "    </tr>\n",
              "  </tbody>\n",
              "</table>\n",
              "</div>"
            ],
            "text/plain": [
              "                                        page_content     id      title\n",
              "0  destroying a third of the city . Ottoman massa...  948.0  Bucharest\n",
              "1  to become joyful ) , while an early 19th - cen...  946.0  Bucharest\n",
              "2  route to the Eastern Front , Bucharest suffere...  949.0  Bucharest\n",
              "3                                          Bucharest  942.0  Bucharest\n",
              "4                                          Bucharest  943.0  Bucharest"
            ]
          },
          "metadata": {},
          "output_type": "display_data"
        },
        {
          "data": {
            "text/markdown": [
              "**Answer:**  Bucharest became the capital of Romania in 1862, after Wallachia and Moldavia were united to form the Principality of Romania."
            ],
            "text/plain": [
              "<IPython.core.display.Markdown object>"
            ]
          },
          "metadata": {},
          "output_type": "display_data"
        }
      ],
      "source": [
        "response = client.deployments.score(pattern_deployment_id, meta_props=payload)\n",
        "print_rag_response(response)"
      ]
    },
    {
      "cell_type": "markdown",
      "metadata": {},
      "source": [
        "<a id=\"evaluate\"></a>\n",
        "## Calculate rougeL metric \n",
        "Calculate rougeL recall score to verify expected answer presence in generated response."
      ]
    },
    {
      "cell_type": "code",
      "execution_count": 37,
      "metadata": {},
      "outputs": [],
      "source": [
        "text_responses = [v[0] for v in response['predictions'][0]['values']]\n",
        "targets = [answer for answer in questions_and_answers.values()]"
      ]
    },
    {
      "cell_type": "code",
      "execution_count": 38,
      "metadata": {},
      "outputs": [
        {
          "name": "stdout",
          "output_type": "stream",
          "text": [
            "Mean rougeL recall score: 0.8571428571428571\n"
          ]
        }
      ],
      "source": [
        "scorer = rouge_scorer.RougeScorer(['rougeL'], use_stemmer=True)\n",
        "scores = [scorer.score(target, prediction) for target, prediction in zip(targets, text_responses)]\n",
        "mean_rougeL = sum([s['rougeL'].recall for s in scores]) / len(questions_and_answers)\n",
        "\n",
        "print(f\"Mean rougeL recall score: {mean_rougeL}\")"
      ]
    },
    {
      "cell_type": "markdown",
      "metadata": {},
      "source": [
        "<a id=\"summary\"></a>\n",
        "## Summary and next steps\n",
        "\n",
        "You successfully completed this notebook!\n",
        "\n",
        "Check out our _<a href=\"https://ibm.github.io/watsonx-ai-python-sdk/samples.html\" target=\"_blank\" rel=\"noopener no referrer\">Online Documentation</a>_ for more samples, tutorials, documentation, how-tos, and blog posts. "
      ]
    },
    {
      "cell_type": "markdown",
      "metadata": {},
      "source": [
        "### Authors:\n",
        "**Dominik Zimny**, Software Engineer at watsonx.ai\n",
        "\n",
        "**Mateusz Szewczyk**, Software Engineer at watsonx.ai"
      ]
    },
    {
      "cell_type": "markdown",
      "metadata": {},
      "source": [
        "Copyright © 2024-2025 IBM. This notebook and its source code are released under the terms of the MIT License."
      ]
    }
  ],
  "metadata": {
    "kernelspec": {
      "display_name": "test2",
      "language": "python",
      "name": "python3"
    },
    "language_info": {
      "codemirror_mode": {
        "name": "ipython",
        "version": 3
      },
      "file_extension": ".py",
      "mimetype": "text/x-python",
      "name": "python",
      "nbconvert_exporter": "python",
      "pygments_lexer": "ipython3",
      "version": "3.10.13"
    }
  },
  "nbformat": 4,
  "nbformat_minor": 4
}
