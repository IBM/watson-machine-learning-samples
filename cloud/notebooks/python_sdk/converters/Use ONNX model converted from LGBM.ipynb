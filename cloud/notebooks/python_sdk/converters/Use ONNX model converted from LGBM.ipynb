{
 "cells": [
  {
   "cell_type": "markdown",
   "metadata": {},
   "source": [
    "# Use ONNX model converted from LightGBM with `ibm-watsonx-ai`\n",
    "\n",
    "This notebook facilitates `ONNX`, `LightGBM`, and `watsonx.ai Runtime` service. It contains steps and code to work with [ibm-watsonx-ai](https://pypi.python.org/pypi/ibm-watsonx-ai) library available in PyPI repository in order to convert the model to ONNX format. It also introduces commands for getting model and training data, persisting model, deploying model, and scoring it.\n",
    "\n",
    "Some familiarity with Python is helpful. This notebook uses Python 3.11."
   ]
  },
  {
   "cell_type": "markdown",
   "metadata": {},
   "source": [
    "## Learning goals\n",
    "\n",
    "The learning goals of this notebook are:\n",
    "\n",
    "-  Train a LightGBM model\n",
    "-  Convert the LightGBM model to ONNX format\n",
    "-  Persist the converted model in the watsonx.ai Runtime repository\n",
    "-  Deploy the model for online scoring using client library\n",
    "-  Score sample records using the client library\n",
    "\n",
    "\n",
    "## Contents\n",
    "\n",
    "This notebook contains the following parts:\n",
    "\n",
    "1.\t[Setting up the environment](#setup)\n",
    "2.\t[Creating a LightGBM model](#create)\n",
    "3.\t[Converting the LightGBM model to ONNX format](#convert)\n",
    "4.\t[Persisting the converted ONNX model](#upload)\n",
    "5.\t[Deploying and scoring the ONNX model](#deploy)\n",
    "6.  [Cleaning up](#cleanup)\n",
    "7.\t[Summary and next steps](#summary)"
   ]
  },
  {
   "cell_type": "markdown",
   "metadata": {},
   "source": [
    "<a id=\"setup\"></a>\n",
    "## 1. Setting up the environment\n",
    "\n",
    "Before you use the sample code in this notebook, you must perform the following setup tasks:\n",
    "\n",
    "-  Create a [watsonx.ai Runtime](https://cloud.ibm.com/catalog/services/watsonxai-runtime) instance (information on service plans and further reading can be found [here](https://dataplatform.cloud.ibm.com/docs/content/wsj/getting-started/wml-plans.html?context=wx&audience=wdp))."
   ]
  },
  {
   "cell_type": "markdown",
   "metadata": {},
   "source": [
    "### 1.1. Installing and importing the `ibm-watsonx-ai` and dependencies\n",
    "**Note:** `ibm-watsonx-ai` documentation can be found <a href=\"https://ibm.github.io/watsonx-ai-python-sdk/index.html\" target=\"_blank\" rel=\"noopener no referrer\">here</a>."
   ]
  },
  {
   "cell_type": "code",
   "execution_count": null,
   "metadata": {
    "id": "61aa50cc-b94f-4fbb-97a5-fab50d3cd1be"
   },
   "outputs": [],
   "source": [
    "!pip install -U ibm-watsonx-ai | tail -n 1\n",
    "!pip install scikit-learn==1.3.0 | tail -n 1\n",
    "!pip install lightgbm==4.2.0 | tail -n 1\n",
    "!pip install onnxruntime==1.16.3 | tail -n 1\n",
    "!pip install onnx==1.16.2 | tail -n 1\n",
    "!pip install scikit-learn==1.3 | tail -n 1\n",
    "!pip install skl2onnx | tail -n 1\n",
    "!pip install onnxmltools"
   ]
  },
  {
   "cell_type": "code",
   "execution_count": 1,
   "metadata": {
    "id": "3c2b951f-7b15-45cb-8330-e2051de541cc"
   },
   "outputs": [],
   "source": [
    "import json\n",
    "import getpass\n",
    "import onnx\n",
    "import onnxruntime as ort\n",
    "from ibm_watsonx_ai import APIClient, Credentials\n",
    "from lightgbm import LGBMClassifier\n",
    "from onnxmltools import convert_lightgbm\n",
    "from onnxmltools.utils import save_model\n",
    "from skl2onnx.common.data_types import FloatTensorType\n",
    "from sklearn import datasets\n",
    "from sklearn.model_selection import train_test_split"
   ]
  },
  {
   "cell_type": "markdown",
   "metadata": {},
   "source": [
    "### 1.2. Connecting to watsonx.ai Runtime\n",
    "\n",
    "Authenticate with the watsonx.ai Runtime service on IBM Cloud. You need to provide platform `api_key` and instance `location`.\n",
    "\n",
    "You can use [IBM Cloud CLI](https://cloud.ibm.com/docs/cli/index.html) to retrieve platform API Key and instance location.\n",
    "\n",
    "API Key can be generated in the following way:\n",
    "```\n",
    "ibmcloud login\n",
    "ibmcloud iam api-key-create API_KEY_NAME\n",
    "```\n",
    "\n",
    "Get the value of `api_key` from the output.\n",
    "\n",
    "\n",
    "Location of your watsonx.ai Runtime instance can be retrieved in the following way:\n",
    "```\n",
    "ibmcloud login --apikey API_KEY -a https://cloud.ibm.com\n",
    "ibmcloud resource service-instance INSTANCE_NAME\n",
    "```\n",
    "\n",
    "Get the value of `location` from the output."
   ]
  },
  {
   "cell_type": "markdown",
   "metadata": {},
   "source": [
    "**Tip**: You can generate your `Cloud API key` by going to the [**Users** section of the Cloud console](https://cloud.ibm.com/iam#/users). From that page, click your name, scroll down to the **API Keys** section, and click **Create an IBM Cloud API key**. Give your key a name and click **Create**, then copy the created key and paste it below. You can also get a service-specific url by going to the [**Endpoint URLs** section of the watsonx.ai Runtime docs](https://cloud.ibm.com/apidocs/machine-learning).  You can check your instance location in your  <a href=\"https://cloud.ibm.com/catalog/services/watson-machine-learning\" target=\"_blank\" rel=\"noopener no referrer\">watsonx.ai Runtime Service</a> instance details.\n",
    "\n",
    "You can also get the service specific apikey by going to the [**Service IDs** section of the Cloud Console](https://cloud.ibm.com/iam/serviceids).  From that page, click **Create**, then copy the created key, and paste it below.\n",
    "\n",
    "**Action**: Enter your `api_key` and `location` in the following cells."
   ]
  },
  {
   "cell_type": "code",
   "execution_count": 6,
   "metadata": {
    "id": "4389b29f-483d-4561-8a03-4a4b83c4f86b"
   },
   "outputs": [
    {
     "name": "stdin",
     "output_type": "stream",
     "text": [
      "Please enter your api key (hit enter):  ········\n"
     ]
    }
   ],
   "source": [
    "api_key = getpass.getpass(\"Please enter your api key (hit enter): \")"
   ]
  },
  {
   "cell_type": "code",
   "execution_count": 7,
   "metadata": {},
   "outputs": [],
   "source": [
    "location = \"ENTER YOUR LOCATION HERE\""
   ]
  },
  {
   "cell_type": "markdown",
   "metadata": {
    "id": "cfad29b9-a817-45e6-af68-5b09be826e11"
   },
   "source": [
    "If you are running this notebook on Cloud, you can access the `location` via:"
   ]
  },
  {
   "cell_type": "markdown",
   "metadata": {
    "id": "ada96e3f-e296-42b6-b7ec-ef088037e525"
   },
   "source": [
    "```\n",
    "location = os.environ.get(\"RUNTIME_ENV_REGION\")\n",
    "```"
   ]
  },
  {
   "cell_type": "code",
   "execution_count": 8,
   "metadata": {
    "id": "dfe224f9-7e3d-467d-bec7-dbb4e542dcbe"
   },
   "outputs": [],
   "source": [
    "credentials = Credentials(\n",
    "    api_key=api_key,\n",
    "    url=f'https://{location}.ml.cloud.ibm.com'\n",
    ")"
   ]
  },
  {
   "cell_type": "code",
   "execution_count": 9,
   "metadata": {
    "id": "a4084ce9-ac06-44d1-bcf2-d10c83378b09"
   },
   "outputs": [],
   "source": [
    "client = APIClient(credentials=credentials)"
   ]
  },
  {
   "cell_type": "markdown",
   "metadata": {},
   "source": [
    "### 1.3. Working with spaces\n",
    "\n",
    "First of all, you need to create a space that will be used for your work. If you do not have a space, you can use [Deployment Spaces Dashboard](https://dataplatform.cloud.ibm.com/ml-runtime/spaces?context=cpdaas) to create one.\n",
    "\n",
    "- Click New Deployment Space\n",
    "- Create an empty space\n",
    "- Select Cloud Object Storage\n",
    "- Select watsonx.ai Runtime instance and press Create\n",
    "- Copy `space_id` and paste it below\n",
    "\n",
    "**Tip**: You can also use the `ibm_watsonx_ai` SDK to prepare the space for your work. More information can be found [here](https://github.com/IBM/watson-machine-learning-samples/blob/master/cloud/notebooks/python_sdk/instance-management/Space%20management.ipynb).\n",
    "\n",
    "**Action**: Assign space ID below"
   ]
  },
  {
   "cell_type": "code",
   "execution_count": 10,
   "metadata": {
    "id": "bddecdd1-397b-4383-830f-9b43dd055aec"
   },
   "outputs": [],
   "source": [
    "space_id = \"ENTER YOUR SPACE ID HERE\""
   ]
  },
  {
   "cell_type": "markdown",
   "metadata": {},
   "source": [
    "You can use the `list` method to print all existing spaces."
   ]
  },
  {
   "cell_type": "code",
   "execution_count": null,
   "metadata": {
    "id": "346f19fd-da9f-475e-87f9-41d1bbf6c5f9",
    "pycharm": {
     "is_executing": true
    }
   },
   "outputs": [],
   "source": [
    "client.spaces.list(limit=10)"
   ]
  },
  {
   "cell_type": "markdown",
   "metadata": {},
   "source": [
    "To be able to interact with all resources available in watsonx.ai Runtime, you need to set **space** which you will be using."
   ]
  },
  {
   "cell_type": "code",
   "execution_count": 12,
   "metadata": {
    "id": "620dd414-7f00-47e2-95f7-3f7bed68f72d"
   },
   "outputs": [
    {
     "data": {
      "text/plain": [
       "'SUCCESS'"
      ]
     },
     "execution_count": 12,
     "metadata": {},
     "output_type": "execute_result"
    }
   ],
   "source": [
    "client.set.default_space(space_id)"
   ]
  },
  {
   "cell_type": "markdown",
   "metadata": {
    "collapsed": false,
    "jupyter": {
     "outputs_hidden": false
    }
   },
   "source": [
    "<a id=\"create\"></a>\n",
    "## 2. Creating a LightGBM model\n",
    "In this section, you will train a sample LightGBM model."
   ]
  },
  {
   "cell_type": "markdown",
   "metadata": {
    "collapsed": false,
    "jupyter": {
     "outputs_hidden": false
    }
   },
   "source": [
    "### 2.1. Creating and training the model\n",
    "Load the iris data first."
   ]
  },
  {
   "cell_type": "code",
   "execution_count": 13,
   "metadata": {
    "id": "3a9d927d-9e7c-47f9-85a7-92d3e53b72dc"
   },
   "outputs": [],
   "source": [
    "iris = datasets.load_iris()\n",
    "x, y = iris.data, iris.target\n",
    "x_train, x_test, y_train, y_test = train_test_split(x, y, test_size=0.20, random_state=42)"
   ]
  },
  {
   "cell_type": "markdown",
   "metadata": {
    "collapsed": false,
    "jupyter": {
     "outputs_hidden": false
    }
   },
   "source": [
    "Train the model."
   ]
  },
  {
   "cell_type": "code",
   "execution_count": null,
   "metadata": {
    "collapsed": false,
    "id": "d2d7b1a9-2da8-4aff-9520-e634d1fc14a5",
    "jupyter": {
     "outputs_hidden": false
    },
    "pycharm": {
     "is_executing": true
    },
    "scrolled": true
   },
   "outputs": [],
   "source": [
    "model = LGBMClassifier(objective='multiclass')\n",
    "model.fit(x_train, y_train)"
   ]
  },
  {
   "cell_type": "markdown",
   "metadata": {
    "collapsed": false,
    "jupyter": {
     "outputs_hidden": false
    }
   },
   "source": [
    "<a id=\"evaluation\"></a>\n",
    "### 2.2. Evaluating the model"
   ]
  },
  {
   "cell_type": "code",
   "execution_count": 15,
   "metadata": {
    "collapsed": false,
    "id": "663766e0-519a-4b71-812a-2862c252f466",
    "jupyter": {
     "outputs_hidden": false
    }
   },
   "outputs": [
    {
     "data": {
      "text/plain": [
       "array([1, 0, 2])"
      ]
     },
     "execution_count": 15,
     "metadata": {},
     "output_type": "execute_result"
    }
   ],
   "source": [
    "eval_data = x_test[:3]\n",
    "model.predict(eval_data)"
   ]
  },
  {
   "cell_type": "markdown",
   "metadata": {
    "collapsed": false,
    "jupyter": {
     "outputs_hidden": false
    }
   },
   "source": [
    "<a id=\"convert\"></a>\n",
    "## 3. Converting the LightGBM model to ONNX format\n",
    "In this section, you will convert the model to the ONNX format."
   ]
  },
  {
   "cell_type": "markdown",
   "metadata": {
    "collapsed": false,
    "jupyter": {
     "outputs_hidden": false
    }
   },
   "source": [
    "### 3.1. Converting the model"
   ]
  },
  {
   "cell_type": "markdown",
   "metadata": {},
   "source": [
    "The maximum opset required by LGBM is 9, otherwise it generates warnings."
   ]
  },
  {
   "cell_type": "code",
   "execution_count": 16,
   "metadata": {
    "collapsed": false,
    "id": "86511d60-ca7a-4734-877f-b7f368cd09e1",
    "jupyter": {
     "outputs_hidden": false
    }
   },
   "outputs": [],
   "source": [
    "initial_types = [(\"float_input\", FloatTensorType([None, model.n_features_]))]\n",
    "onnx_model = convert_lightgbm(model=model, initial_types=initial_types, zipmap=False, target_opset=9)\n",
    "onnx_model_filename = \"lgbm_model.onnx\"\n",
    "save_model(onnx_model, onnx_model_filename)"
   ]
  },
  {
   "cell_type": "markdown",
   "metadata": {},
   "source": [
    "**Note:** To convert a pipeline with a LightGBM model refer to the [documentation](https://onnx.ai/sklearn-onnx/auto_examples/plot_pipeline_lightgbm.html)."
   ]
  },
  {
   "cell_type": "markdown",
   "metadata": {},
   "source": [
    "<a id=\"evaluation-onnx\"></a>\n",
    "### 3.2. Evaluating the ONNX Model\n",
    "\n",
    "After exporting the model, you should verify its integrity and ensure that it functions as expected. We will use `onnxruntime` to load the model and perform inference on the test data. Additionally, we’ll use `onnx`'s `checker` module to validate the exported ONNX model.\n"
   ]
  },
  {
   "cell_type": "code",
   "execution_count": 17,
   "metadata": {
    "id": "1581db72-cd37-4409-a3be-9b30a50b1a11"
   },
   "outputs": [],
   "source": [
    "onnx.checker.check_model(onnx_model)"
   ]
  },
  {
   "cell_type": "code",
   "execution_count": 31,
   "metadata": {
    "id": "6ff29d00-1983-4b02-9725-85efed4aa44c"
   },
   "outputs": [
    {
     "name": "stderr",
     "output_type": "stream",
     "text": [
      "2025-02-04 22:06:16.202750 [W:onnxruntime:, execution_frame.cc:857 VerifyOutputSizes] Expected shape from model of {1} does not match actual shape of {3} for output label\n"
     ]
    },
    {
     "data": {
      "text/plain": [
       "[array([1, 0, 2], dtype=int64),\n",
       " array([[3.7685684e-05, 9.9497014e-01, 4.9921712e-03],\n",
       "        [9.9995875e-01, 4.0516734e-05, 6.8472832e-07],\n",
       "        [1.0628057e-05, 2.6658066e-03, 9.9732357e-01]], dtype=float32)]"
      ]
     },
     "execution_count": 31,
     "metadata": {},
     "output_type": "execute_result"
    }
   ],
   "source": [
    "session = ort.InferenceSession(onnx_model_filename)\n",
    "\n",
    "input_data = {session.get_inputs()[0].name: eval_data.tolist()}\n",
    "session.run([], input_data)"
   ]
  },
  {
   "cell_type": "markdown",
   "metadata": {},
   "source": [
    "**Note:** If you encounter a warning about mismatched output shapes, there's no need to worry, it does not affect inference in any way."
   ]
  },
  {
   "cell_type": "markdown",
   "metadata": {},
   "source": [
    "Every classifier, by design, produces two outputs: the predicted label and the probability distribution across all possible labels. As you can see, the predicted values are consistent with those calculated in the [evaluation](#evaluation) section."
   ]
  },
  {
   "cell_type": "markdown",
   "metadata": {},
   "source": [
    "<a id=\"upload\"></a>\n",
    "## 4. Persisting the converted ONNX model"
   ]
  },
  {
   "cell_type": "markdown",
   "metadata": {},
   "source": [
    "In this section, you will learn how to store your converted ONNX model in watsonx.ai Runtime."
   ]
  },
  {
   "cell_type": "markdown",
   "metadata": {},
   "source": [
    "### 4.1. Publishing the model in watsonx.ai Runtime repository"
   ]
  },
  {
   "cell_type": "markdown",
   "metadata": {},
   "source": [
    "Define model name, type and software spec."
   ]
  },
  {
   "cell_type": "code",
   "execution_count": 19,
   "metadata": {
    "id": "579bfba6-fac7-4fc8-a6d6-8ce754857371"
   },
   "outputs": [],
   "source": [
    "sofware_spec_id = client.software_specifications.get_id_by_name(\"onnxruntime_opset_19\")\n",
    "onnx_model_zip = \"lgbm_onnx.zip\""
   ]
  },
  {
   "cell_type": "code",
   "execution_count": 20,
   "metadata": {
    "id": "676bd18f-fffe-42ea-9627-d524eb7b0e55"
   },
   "outputs": [
    {
     "name": "stdout",
     "output_type": "stream",
     "text": [
      "  adding: lgbm_model.onnx (deflated 87%)\n"
     ]
    }
   ],
   "source": [
    "!zip {onnx_model_zip} {onnx_model_filename}"
   ]
  },
  {
   "cell_type": "code",
   "execution_count": 21,
   "metadata": {
    "id": "e4bb9929-b66f-44db-b93e-ff936ad83c21"
   },
   "outputs": [],
   "source": [
    "metadata = {\n",
    "    client.repository.ModelMetaNames.NAME: 'LGBM to ONNX converted model',\n",
    "    client.repository.ModelMetaNames.TYPE: 'onnxruntime_1.16',\n",
    "    client.repository.ModelMetaNames.SOFTWARE_SPEC_ID: sofware_spec_id\n",
    "}\n",
    "\n",
    "published_model = client.repository.store_model(\n",
    "    model=onnx_model_zip,\n",
    "    meta_props=metadata\n",
    ")"
   ]
  },
  {
   "cell_type": "markdown",
   "metadata": {},
   "source": [
    "### 4.2. Getting model details"
   ]
  },
  {
   "cell_type": "code",
   "execution_count": null,
   "metadata": {
    "id": "d5b4ed2a-e680-43b1-a01e-dec2e6879c3b"
   },
   "outputs": [],
   "source": [
    "published_model_id = client.repository.get_model_id(published_model)\n",
    "model_details = client.repository.get_details(published_model_id)\n",
    "print(json.dumps(model_details, indent=2))"
   ]
  },
  {
   "cell_type": "markdown",
   "metadata": {},
   "source": [
    "<a id=\"deploy\"></a>\n",
    "## 5. Deploying and scoring the ONNX model"
   ]
  },
  {
   "cell_type": "markdown",
   "metadata": {},
   "source": [
    "In this section you'll learn how to create an online scoring service and predict on unseen data."
   ]
  },
  {
   "cell_type": "markdown",
   "metadata": {},
   "source": [
    "### 5.1. Creating online deployment for published model"
   ]
  },
  {
   "cell_type": "code",
   "execution_count": 23,
   "metadata": {
    "id": "ee09eb0e-e74e-4461-9dcf-dccc30c4453b"
   },
   "outputs": [
    {
     "name": "stdout",
     "output_type": "stream",
     "text": [
      "\n",
      "\n",
      "######################################################################################\n",
      "\n",
      "Synchronous deployment creation for id: 'ff268887-e670-4578-931c-bc4582382566' started\n",
      "\n",
      "######################################################################################\n",
      "\n",
      "\n",
      "initializing\n",
      "Note: online_url and serving_urls are deprecated and will be removed in a future release. Use inference instead.\n",
      ".\n",
      "ready\n",
      "\n",
      "\n",
      "-----------------------------------------------------------------------------------------------\n",
      "Successfully finished deployment creation, deployment_id='8957d0a1-ae20-4894-b4eb-b4a62e9659d4'\n",
      "-----------------------------------------------------------------------------------------------\n",
      "\n",
      "\n"
     ]
    }
   ],
   "source": [
    "metadata = {\n",
    "    client.deployments.ConfigurationMetaNames.NAME: \"Deployment of LGBM to ONNX converted model\",\n",
    "    client.deployments.ConfigurationMetaNames.ONLINE: {}\n",
    "}\n",
    "\n",
    "created_deployment = client.deployments.create(published_model_id, meta_props=metadata)"
   ]
  },
  {
   "cell_type": "code",
   "execution_count": 24,
   "metadata": {
    "id": "96817036-668e-42ab-b198-6159b4903f79"
   },
   "outputs": [],
   "source": [
    "deployment_id = client.deployments.get_id(created_deployment)"
   ]
  },
  {
   "cell_type": "markdown",
   "metadata": {},
   "source": [
    "Now you can print an online scoring endpoint. "
   ]
  },
  {
   "cell_type": "code",
   "execution_count": null,
   "metadata": {
    "id": "1c1505dd-b9d9-411a-a35c-e7005e8b92cf"
   },
   "outputs": [],
   "source": [
    "client.deployments.get_scoring_href(created_deployment)"
   ]
  },
  {
   "cell_type": "markdown",
   "metadata": {},
   "source": [
    "### 5.2. Getting deployment details"
   ]
  },
  {
   "cell_type": "code",
   "execution_count": null,
   "metadata": {
    "id": "6d1175c0-f678-4b5b-8bba-ca0147af0ec0"
   },
   "outputs": [],
   "source": [
    "client.deployments.get_details(deployment_id)"
   ]
  },
  {
   "cell_type": "markdown",
   "metadata": {},
   "source": [
    "<a id=\"score\"></a>\n",
    "### 5.3. Scoring"
   ]
  },
  {
   "cell_type": "markdown",
   "metadata": {},
   "source": [
    "You can use the method shown below to perform a test scoring request against the deployed model."
   ]
  },
  {
   "cell_type": "markdown",
   "metadata": {},
   "source": [
    "Prepare scoring payload with records to score."
   ]
  },
  {
   "cell_type": "code",
   "execution_count": 27,
   "metadata": {
    "id": "1cb7f0ac-1451-44dc-be3b-854c476cbeb0"
   },
   "outputs": [],
   "source": [
    "scoring_payload = {\n",
    "    \"input_data\": [\n",
    "        {\n",
    "            \"values\": eval_data\n",
    "        }\n",
    "    ]\n",
    "}"
   ]
  },
  {
   "cell_type": "markdown",
   "metadata": {},
   "source": [
    "Use ``client.deployments.score()`` method to run scoring."
   ]
  },
  {
   "cell_type": "code",
   "execution_count": 28,
   "metadata": {
    "id": "7ee1bdcb-a173-4e26-9b09-38657b94ecb7"
   },
   "outputs": [],
   "source": [
    "predictions = client.deployments.score(deployment_id, scoring_payload)"
   ]
  },
  {
   "cell_type": "markdown",
   "metadata": {},
   "source": [
    "Let's print the result of predictions."
   ]
  },
  {
   "cell_type": "code",
   "execution_count": 29,
   "metadata": {
    "id": "15bc9f5f-ac0d-4249-8662-850a0bd2679d"
   },
   "outputs": [
    {
     "name": "stdout",
     "output_type": "stream",
     "text": [
      "{\n",
      "  \"predictions\": [\n",
      "    {\n",
      "      \"id\": \"label\",\n",
      "      \"values\": [\n",
      "        1,\n",
      "        0,\n",
      "        2\n",
      "      ]\n",
      "    },\n",
      "    {\n",
      "      \"id\": \"probabilities\",\n",
      "      \"values\": [\n",
      "        [\n",
      "          3.7685684219468385e-05,\n",
      "          0.9949701428413391,\n",
      "          0.004992171190679073\n",
      "        ],\n",
      "        [\n",
      "          0.9999587535858154,\n",
      "          4.0516733861295506e-05,\n",
      "          6.847283202660037e-07\n",
      "        ],\n",
      "        [\n",
      "          1.0628056770656258e-05,\n",
      "          0.0026658065617084503,\n",
      "          0.9973235726356506\n",
      "        ]\n",
      "      ]\n",
      "    }\n",
      "  ]\n",
      "}\n"
     ]
    }
   ],
   "source": [
    "print(json.dumps(predictions, indent=2))"
   ]
  },
  {
   "cell_type": "markdown",
   "metadata": {},
   "source": [
    "As you can see, the predicted values are consistent with those calculated in the [evaluation](#evaluation-onnx) section."
   ]
  },
  {
   "cell_type": "markdown",
   "metadata": {},
   "source": [
    "<a id=\"cleanup\"></a>\n",
    "## 6. Cleanup"
   ]
  },
  {
   "cell_type": "markdown",
   "metadata": {},
   "source": [
    "If you want to clean up after the notebook execution, i.e. remove any created assets like:\n",
    "- experiments\n",
    "- trainings\n",
    "- pipelines\n",
    "- model definitions\n",
    "- models\n",
    "- functions\n",
    "- deployments\n",
    "\n",
    "please follow up this sample [notebook](https://github.com/IBM/watson-machine-learning-samples/blob/master/cloud/notebooks/python_sdk/instance-management/Machine%20Learning%20artifacts%20management.ipynb)."
   ]
  },
  {
   "cell_type": "markdown",
   "metadata": {},
   "source": [
    "<a id=\"summary\"></a>\n",
    "## 7. Summary and next steps"
   ]
  },
  {
   "cell_type": "markdown",
   "metadata": {},
   "source": [
    " You successfully completed this notebook! You learned how to use ONNX, LightGBM machine learning library as well as watsonx.ai Runtime for model creation and deployment. Check out our _[Online Documentation](https://dataplatform.cloud.ibm.com/docs/content/wsj/getting-started/welcome-main.html?context=wx)_ for more samples, tutorials, documentation, how-tos, and blog posts."
   ]
  },
  {
   "cell_type": "markdown",
   "metadata": {},
   "source": [
    "Copyright © 2025 IBM. This notebook and its source code are released under the terms of the MIT License."
   ]
  }
 ],
 "metadata": {
  "kernelspec": {
   "display_name": "Python 3 (ipykernel)",
   "language": "python",
   "name": "python3"
  },
  "language_info": {
   "codemirror_mode": {
    "name": "ipython",
    "version": 3
   },
   "file_extension": ".py",
   "mimetype": "text/x-python",
   "name": "python",
   "nbconvert_exporter": "python",
   "pygments_lexer": "ipython3",
   "version": "3.11.11"
  }
 },
 "nbformat": 4,
 "nbformat_minor": 4
}
