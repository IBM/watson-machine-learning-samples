{
 "cells": [
  {
   "cell_type": "markdown",
   "metadata": {},
   "source": [
    "<a id=\"use-onnx-model-converted-from-lightgbm\"></a>\n",
    "# Use ONNX model converted from scikit-learn with `ibm-watsonx-ai`\n",
    "\n",
    "This notebook facilitates `ONNX`, `scikit-learn`, and `watsonx.ai Runtime` service. It contains steps and code to work with [ibm-watsonx-ai](https://pypi.python.org/pypi/ibm-watsonx-ai) library available in PyPI repository in order to convert the model to ONNX format. It also introduces commands for persisting model, deploying model, and scoring it.\n",
    "\n",
    "Some familiarity with Python is helpful. This notebook uses Python 3.11."
   ]
  },
  {
   "cell_type": "markdown",
   "metadata": {},
   "source": [
    "## Learning goals\n",
    "\n",
    "The learning goals of this notebook are:\n",
    "\n",
    "-  Train a scikit-learn model\n",
    "-  Convert the native scikit-learn model to ONNX format\n",
    "- [Optional] perform conversion for a custom scikit-learn model wrapped in a sklearn pipeline\n",
    "-  Persist the converted model in the watsonx.ai Runtime repository\n",
    "-  Deploy the model for online scoring using client library\n",
    "-  Score sample records using the client library\n",
    "\n",
    "## Contents\n",
    "\n",
    "This notebook contains the following parts:\n",
    "\n",
    "1.\t[Setting up the environment](#setup)\n",
    "2.\t[Creating a scikit-learn model](#create)\n",
    "3.\t[Creating and converting the scikit-learn model to ONNX format](#convert)\n",
    "4.\t[Persisting the converted ONNX model](#upload)\n",
    "5.\t[Deploying and scoring the ONNX model](#deploy)\n",
    "6.  [Cleaning up](#cleanup)\n",
    "7.\t[Summary and next steps](#summary)"
   ]
  },
  {
   "cell_type": "markdown",
   "metadata": {},
   "source": [
    "<a id=\"setup\"></a>\n",
    "<a id=\"1-setting-up-the-environment\"></a>\n",
    "## 1. Setting up the environment\n",
    "\n",
    "Before you use the sample code in this notebook, you must perform the following setup tasks:\n",
    "\n",
    "-  Create a [watsonx.ai Runtime](https://cloud.ibm.com/catalog/services/watsonxai-runtime) instance (information on service plans and further reading can be found [here](https://dataplatform.cloud.ibm.com/docs/content/wsj/getting-started/wml-plans.html?context=wx&audience=wdp))."
   ]
  },
  {
   "cell_type": "markdown",
   "metadata": {},
   "source": [
    "### 1.1. Installing and importing the `ibm-watsonx-ai` and dependencies\n",
    "**Note:** `ibm-watsonx-ai` documentation can be found <a href=\"https://ibm.github.io/watsonx-ai-python-sdk/index.html\" target=\"_blank\" rel=\"noopener no referrer\">here</a>."
   ]
  },
  {
   "cell_type": "code",
   "execution_count": null,
   "metadata": {
    "id": "61aa50cc-b94f-4fbb-97a5-fab50d3cd1be"
   },
   "outputs": [],
   "source": [
    "!pip install -U ibm-watsonx-ai | tail -n 1\n",
    "!pip install scikit-learn==1.3.0 | tail -n 1\n",
    "!pip install onnxruntime==1.16.3 | tail -n 1\n",
    "!pip install onnx==1.16.2 | tail -n 1\n",
    "!pip install skl2onnx | tail -n 1"
   ]
  },
  {
   "cell_type": "code",
   "execution_count": 1,
   "metadata": {
    "id": "3c2b951f-7b15-45cb-8330-e2051de541cc"
   },
   "outputs": [],
   "source": [
    "import getpass\n",
    "import json\n",
    "import numpy as np\n",
    "import onnx\n",
    "import onnxruntime as ort\n",
    "from ibm_watsonx_ai import APIClient, Credentials\n",
    "from skl2onnx import to_onnx, update_registered_converter\n",
    "from skl2onnx.algebra.onnx_ops import OnnxDiv, OnnxSub\n",
    "from skl2onnx.common.data_types import guess_numpy_type\n",
    "from sklearn import datasets\n",
    "from sklearn.base import BaseEstimator, TransformerMixin\n",
    "from sklearn.ensemble import RandomForestClassifier\n",
    "from sklearn.model_selection import train_test_split\n",
    "from sklearn.pipeline import Pipeline"
   ]
  },
  {
   "cell_type": "markdown",
   "metadata": {},
   "source": [
    "### 1.2. Connecting to watsonx.ai Runtime\n",
    "\n",
    "Authenticate with the watsonx.ai Runtime service on IBM Cloud. You need to provide platform `api_key` and instance `location`.\n",
    "\n",
    "You can use [IBM Cloud CLI](https://cloud.ibm.com/docs/cli/index.html) to retrieve platform API Key and instance location.\n",
    "\n",
    "API Key can be generated in the following way:\n",
    "```\n",
    "ibmcloud login\n",
    "ibmcloud iam api-key-create API_KEY_NAME\n",
    "```\n",
    "\n",
    "Get the value of `api_key` from the output.\n",
    "\n",
    "\n",
    "Location of your watsonx.ai Runtime instance can be retrieved in the following way:\n",
    "```\n",
    "ibmcloud login --apikey API_KEY -a https://cloud.ibm.com\n",
    "ibmcloud resource service-instance INSTANCE_NAME\n",
    "```\n",
    "\n",
    "Get the value of `location` from the output."
   ]
  },
  {
   "cell_type": "markdown",
   "metadata": {},
   "source": [
    "**Tip**: You can generate your `Cloud API key` by going to the [**Users** section of the Cloud console](https://cloud.ibm.com/iam#/users). From that page, click your name, scroll down to the **API Keys** section, and click **Create an IBM Cloud API key**. Give your key a name and click **Create**, then copy the created key and paste it below. You can also get a service-specific url by going to the [**Endpoint URLs** section of the watsonx.ai Runtime docs](https://cloud.ibm.com/apidocs/machine-learning).  You can check your instance location in your  <a href=\"https://cloud.ibm.com/catalog/services/watson-machine-learning\" target=\"_blank\" rel=\"noopener no referrer\">watsonx.ai Runtime Service</a> instance details.\n",
    "\n",
    "You can also get the service specific apikey by going to the [**Service IDs** section of the Cloud Console](https://cloud.ibm.com/iam/serviceids).  From that page, click **Create**, then copy the created key, and paste it below.\n",
    "\n",
    "**Action**: Enter your `api_key` and `location` in the following cells."
   ]
  },
  {
   "cell_type": "code",
   "execution_count": 2,
   "metadata": {
    "id": "4389b29f-483d-4561-8a03-4a4b83c4f86b"
   },
   "outputs": [
    {
     "name": "stdout",
     "output_type": "stream",
     "text": [
      "Please enter your api key (hit enter):  ········\n"
     ]
    }
   ],
   "source": [
    "api_key = getpass.getpass(\"Please enter your api key (hit enter): \")"
   ]
  },
  {
   "cell_type": "code",
   "execution_count": 3,
   "metadata": {},
   "outputs": [],
   "source": [
    "location = \"ENTER YOUR LOCATION HERE\""
   ]
  },
  {
   "cell_type": "markdown",
   "metadata": {
    "id": "cfad29b9-a817-45e6-af68-5b09be826e11"
   },
   "source": [
    "If you are running this notebook on Cloud, you can access the `location` via:"
   ]
  },
  {
   "cell_type": "markdown",
   "metadata": {
    "id": "ada96e3f-e296-42b6-b7ec-ef088037e525"
   },
   "source": [
    "```\n",
    "location = os.environ.get(\"RUNTIME_ENV_REGION\")\n",
    "```"
   ]
  },
  {
   "cell_type": "code",
   "execution_count": 4,
   "metadata": {
    "id": "dfe224f9-7e3d-467d-bec7-dbb4e542dcbe"
   },
   "outputs": [],
   "source": [
    "credentials = Credentials(\n",
    "    api_key=api_key,\n",
    "    url=f'https://{location}.ml.cloud.ibm.com'\n",
    ")"
   ]
  },
  {
   "cell_type": "code",
   "execution_count": 5,
   "metadata": {
    "id": "a4084ce9-ac06-44d1-bcf2-d10c83378b09"
   },
   "outputs": [],
   "source": [
    "client = APIClient(credentials=credentials)"
   ]
  },
  {
   "cell_type": "markdown",
   "metadata": {},
   "source": [
    "### 1.3. Working with spaces\n",
    "\n",
    "First of all, you need to create a space that will be used for your work. If you do not have a space, you can use [Deployment Spaces Dashboard](https://dataplatform.cloud.ibm.com/ml-runtime/spaces?context=cpdaas) to create one.\n",
    "\n",
    "- Click New Deployment Space\n",
    "- Create an empty space\n",
    "- Select Cloud Object Storage\n",
    "- Select watsonx.ai Runtime instance and press Create\n",
    "- Copy `space_id` and paste it below\n",
    "\n",
    "**Tip**: You can also use the `ibm_watsonx_ai` SDK to prepare the space for your work. More information can be found [here](https://github.com/IBM/watson-machine-learning-samples/blob/master/cloud/notebooks/python_sdk/instance-management/Space%20management.ipynb).\n",
    "\n",
    "**Action**: Assign space ID below"
   ]
  },
  {
   "cell_type": "code",
   "execution_count": 6,
   "metadata": {
    "id": "bddecdd1-397b-4383-830f-9b43dd055aec"
   },
   "outputs": [],
   "source": [
    "space_id = \"ENTER YOUR SPACE ID HERE\""
   ]
  },
  {
   "cell_type": "markdown",
   "metadata": {},
   "source": [
    "You can use the `list` method to print all existing spaces."
   ]
  },
  {
   "cell_type": "code",
   "execution_count": null,
   "metadata": {
    "id": "346f19fd-da9f-475e-87f9-41d1bbf6c5f9",
    "pycharm": {
     "is_executing": true
    }
   },
   "outputs": [],
   "source": [
    "client.spaces.list(limit=10)"
   ]
  },
  {
   "cell_type": "markdown",
   "metadata": {},
   "source": [
    "To be able to interact with all resources available in watsonx.ai Runtime, you need to set **space** which you will be using."
   ]
  },
  {
   "cell_type": "code",
   "execution_count": 8,
   "metadata": {
    "id": "620dd414-7f00-47e2-95f7-3f7bed68f72d"
   },
   "outputs": [
    {
     "data": {
      "text/plain": [
       "'SUCCESS'"
      ]
     },
     "execution_count": 8,
     "metadata": {},
     "output_type": "execute_result"
    }
   ],
   "source": [
    "client.set.default_space(space_id)"
   ]
  },
  {
   "cell_type": "markdown",
   "metadata": {
    "collapsed": false,
    "jupyter": {
     "outputs_hidden": false
    }
   },
   "source": [
    "<a id=\"create\"></a>\n",
    "## 2. Creating a scikit-learn model\n",
    "In this section, you will train and sample a scikit-learn model."
   ]
  },
  {
   "cell_type": "markdown",
   "metadata": {
    "collapsed": false,
    "jupyter": {
     "outputs_hidden": false
    }
   },
   "source": [
    "Load the iris data first."
   ]
  },
  {
   "cell_type": "code",
   "execution_count": 9,
   "metadata": {
    "id": "3a9d927d-9e7c-47f9-85a7-92d3e53b72dc"
   },
   "outputs": [],
   "source": [
    "iris = datasets.load_iris()\n",
    "x, y = iris.data, iris.target\n",
    "x_train, x_test, y_train, y_test = train_test_split(x, y, test_size=0.20, random_state=42)"
   ]
  },
  {
   "cell_type": "markdown",
   "metadata": {},
   "source": [
    "### 2.1. Creating an estimator"
   ]
  },
  {
   "cell_type": "code",
   "execution_count": 10,
   "metadata": {
    "collapsed": false,
    "id": "d2d7b1a9-2da8-4aff-9520-e634d1fc14a5",
    "jupyter": {
     "outputs_hidden": false
    },
    "pycharm": {
     "is_executing": true
    },
    "scrolled": true
   },
   "outputs": [],
   "source": [
    "model = RandomForestClassifier()"
   ]
  },
  {
   "cell_type": "markdown",
   "metadata": {},
   "source": [
    "### 2.2. (OPTIONAL) Creating a pipeline with custom Transformer\n",
    "To create a scikit-learn pipeline consisting of e.g. a custom standard scaler followed by an estimator, change the `Markdown` cell below to a `Code` cell and remove the triple backticks (` ``` `)."
   ]
  },
  {
   "cell_type": "markdown",
   "metadata": {},
   "source": [
    "```\n",
    "class CustomStandardScaler(BaseEstimator, TransformerMixin):\n",
    "    def __init__(self):\n",
    "        self.mean_ = None\n",
    "        self.scale_ = None\n",
    "\n",
    "    def fit(self, X, y=None):\n",
    "        self.mean_ = np.mean(X, axis=0)\n",
    "        self.scale_ = np.std(X, axis=0)\n",
    "        self.scale_[self.scale_ == 0] = 1.0\n",
    "        return self\n",
    "\n",
    "    def transform(self, X):\n",
    "        return (X - self.mean_) / self.scale_\n",
    "\n",
    "model = Pipeline([(\"transformer\", CustomStandardScaler()), (\"estimator\", model)])\n",
    "```"
   ]
  },
  {
   "cell_type": "markdown",
   "metadata": {
    "collapsed": false,
    "jupyter": {
     "outputs_hidden": false
    }
   },
   "source": [
    "### 2.3. Training the model"
   ]
  },
  {
   "cell_type": "code",
   "execution_count": 11,
   "metadata": {},
   "outputs": [
    {
     "data": {
      "text/html": [
       "<style>#sk-container-id-1 {color: black;}#sk-container-id-1 pre{padding: 0;}#sk-container-id-1 div.sk-toggleable {background-color: white;}#sk-container-id-1 label.sk-toggleable__label {cursor: pointer;display: block;width: 100%;margin-bottom: 0;padding: 0.3em;box-sizing: border-box;text-align: center;}#sk-container-id-1 label.sk-toggleable__label-arrow:before {content: \"▸\";float: left;margin-right: 0.25em;color: #696969;}#sk-container-id-1 label.sk-toggleable__label-arrow:hover:before {color: black;}#sk-container-id-1 div.sk-estimator:hover label.sk-toggleable__label-arrow:before {color: black;}#sk-container-id-1 div.sk-toggleable__content {max-height: 0;max-width: 0;overflow: hidden;text-align: left;background-color: #f0f8ff;}#sk-container-id-1 div.sk-toggleable__content pre {margin: 0.2em;color: black;border-radius: 0.25em;background-color: #f0f8ff;}#sk-container-id-1 input.sk-toggleable__control:checked~div.sk-toggleable__content {max-height: 200px;max-width: 100%;overflow: auto;}#sk-container-id-1 input.sk-toggleable__control:checked~label.sk-toggleable__label-arrow:before {content: \"▾\";}#sk-container-id-1 div.sk-estimator input.sk-toggleable__control:checked~label.sk-toggleable__label {background-color: #d4ebff;}#sk-container-id-1 div.sk-label input.sk-toggleable__control:checked~label.sk-toggleable__label {background-color: #d4ebff;}#sk-container-id-1 input.sk-hidden--visually {border: 0;clip: rect(1px 1px 1px 1px);clip: rect(1px, 1px, 1px, 1px);height: 1px;margin: -1px;overflow: hidden;padding: 0;position: absolute;width: 1px;}#sk-container-id-1 div.sk-estimator {font-family: monospace;background-color: #f0f8ff;border: 1px dotted black;border-radius: 0.25em;box-sizing: border-box;margin-bottom: 0.5em;}#sk-container-id-1 div.sk-estimator:hover {background-color: #d4ebff;}#sk-container-id-1 div.sk-parallel-item::after {content: \"\";width: 100%;border-bottom: 1px solid gray;flex-grow: 1;}#sk-container-id-1 div.sk-label:hover label.sk-toggleable__label {background-color: #d4ebff;}#sk-container-id-1 div.sk-serial::before {content: \"\";position: absolute;border-left: 1px solid gray;box-sizing: border-box;top: 0;bottom: 0;left: 50%;z-index: 0;}#sk-container-id-1 div.sk-serial {display: flex;flex-direction: column;align-items: center;background-color: white;padding-right: 0.2em;padding-left: 0.2em;position: relative;}#sk-container-id-1 div.sk-item {position: relative;z-index: 1;}#sk-container-id-1 div.sk-parallel {display: flex;align-items: stretch;justify-content: center;background-color: white;position: relative;}#sk-container-id-1 div.sk-item::before, #sk-container-id-1 div.sk-parallel-item::before {content: \"\";position: absolute;border-left: 1px solid gray;box-sizing: border-box;top: 0;bottom: 0;left: 50%;z-index: -1;}#sk-container-id-1 div.sk-parallel-item {display: flex;flex-direction: column;z-index: 1;position: relative;background-color: white;}#sk-container-id-1 div.sk-parallel-item:first-child::after {align-self: flex-end;width: 50%;}#sk-container-id-1 div.sk-parallel-item:last-child::after {align-self: flex-start;width: 50%;}#sk-container-id-1 div.sk-parallel-item:only-child::after {width: 0;}#sk-container-id-1 div.sk-dashed-wrapped {border: 1px dashed gray;margin: 0 0.4em 0.5em 0.4em;box-sizing: border-box;padding-bottom: 0.4em;background-color: white;}#sk-container-id-1 div.sk-label label {font-family: monospace;font-weight: bold;display: inline-block;line-height: 1.2em;}#sk-container-id-1 div.sk-label-container {text-align: center;}#sk-container-id-1 div.sk-container {/* jupyter's `normalize.less` sets `[hidden] { display: none; }` but bootstrap.min.css set `[hidden] { display: none !important; }` so we also need the `!important` here to be able to override the default hidden behavior on the sphinx rendered scikit-learn.org. See: https://github.com/scikit-learn/scikit-learn/issues/21755 */display: inline-block !important;position: relative;}#sk-container-id-1 div.sk-text-repr-fallback {display: none;}</style><div id=\"sk-container-id-1\" class=\"sk-top-container\"><div class=\"sk-text-repr-fallback\"><pre>RandomForestClassifier()</pre><b>In a Jupyter environment, please rerun this cell to show the HTML representation or trust the notebook. <br />On GitHub, the HTML representation is unable to render, please try loading this page with nbviewer.org.</b></div><div class=\"sk-container\" hidden><div class=\"sk-item\"><div class=\"sk-estimator sk-toggleable\"><input class=\"sk-toggleable__control sk-hidden--visually\" id=\"sk-estimator-id-1\" type=\"checkbox\" checked><label for=\"sk-estimator-id-1\" class=\"sk-toggleable__label sk-toggleable__label-arrow\">RandomForestClassifier</label><div class=\"sk-toggleable__content\"><pre>RandomForestClassifier()</pre></div></div></div></div></div>"
      ],
      "text/plain": [
       "RandomForestClassifier()"
      ]
     },
     "execution_count": 11,
     "metadata": {},
     "output_type": "execute_result"
    }
   ],
   "source": [
    "model.fit(x_train, y_train)"
   ]
  },
  {
   "cell_type": "markdown",
   "metadata": {},
   "source": [
    "<a id=\"evaluation\"></a>\n",
    "### 2.4. Evaluating the model"
   ]
  },
  {
   "cell_type": "code",
   "execution_count": 12,
   "metadata": {
    "collapsed": false,
    "id": "663766e0-519a-4b71-812a-2862c252f466",
    "jupyter": {
     "outputs_hidden": false
    }
   },
   "outputs": [
    {
     "data": {
      "text/plain": [
       "array([1, 0, 2])"
      ]
     },
     "execution_count": 12,
     "metadata": {},
     "output_type": "execute_result"
    }
   ],
   "source": [
    "model.predict(x_test[:3])"
   ]
  },
  {
   "cell_type": "markdown",
   "metadata": {
    "collapsed": false,
    "jupyter": {
     "outputs_hidden": false
    }
   },
   "source": [
    "<a id=\"convert\"></a>\n",
    "## 3. Converting the scikit-learn model to ONNX format\n",
    "In this section, you will convert the model to the ONNX format."
   ]
  },
  {
   "cell_type": "markdown",
   "metadata": {
    "collapsed": false,
    "jupyter": {
     "outputs_hidden": false
    }
   },
   "source": [
    "### 3.1. (OPTIONAL) Register custom converter\n",
    "To convert a CUSTOM scikit learn model to an ONNX format you need to register a custom onnx converter. In order to do so for previously, optionally, defined custom standard scaler, change the `Markdown` cell below to a `Code` cell and remove the triple backticks (```). The example demonstrates an sklearn pipeline with custom transformer, but the steps would remain the same for a standalone custom model.\n",
    "For more information refer to the [documentation](https://onnx.ai/sklearn-onnx/auto_tutorial/plot_icustom_converter.html)."
   ]
  },
  {
   "cell_type": "markdown",
   "metadata": {},
   "source": [
    "```\n",
    "def custom_standard_scaler_shape_calculator(operator):\n",
    "    operator.outputs[0].type = operator.inputs[0].type\n",
    "\n",
    "def custom_standard_scaler_converter(scope, operator, container):\n",
    "    op = operator.raw_operator\n",
    "    opv = container.target_opset\n",
    "    out = operator.outputs\n",
    "\n",
    "    X = operator.inputs[0]\n",
    "\n",
    "    dtype = guess_numpy_type(X.type)\n",
    "    Y = OnnxDiv(\n",
    "        OnnxSub(X, op.mean_.astype(dtype), op_version=opv),\n",
    "        op.scale_.astype(dtype),\n",
    "        op_version=opv,\n",
    "        output_names=out[:1],\n",
    "    )\n",
    "    Y.add_to(scope, container)\n",
    "\n",
    "\n",
    "update_registered_converter(\n",
    "    CustomStandardScaler,\n",
    "    \"CustomStandardScaler\",\n",
    "    custom_standard_scaler_shape_calculator,\n",
    "    custom_standard_scaler_converter,\n",
    ")\n",
    "```"
   ]
  },
  {
   "cell_type": "markdown",
   "metadata": {},
   "source": [
    "### 3.2. Converting the model"
   ]
  },
  {
   "cell_type": "code",
   "execution_count": 13,
   "metadata": {},
   "outputs": [],
   "source": [
    "onnx_model = to_onnx(model, x_train, target_opset=19)\n",
    "\n",
    "onnx_model_filename = \"sklearn_model.onnx\"\n",
    "\n",
    "with open(onnx_model_filename, \"wb\") as f:\n",
    "    f.write(onnx_model.SerializeToString())"
   ]
  },
  {
   "cell_type": "markdown",
   "metadata": {},
   "source": [
    "<a id=\"evaluation-onnx\"></a>\n",
    "### 3.3. Evaluating the ONNX Model\n",
    "\n",
    "After exporting the model, you should verify its integrity and ensure that it functions as expected. We will use `onnxruntime` to load the model and perform inference on the test data. Additionally, we’ll use `onnx`'s `checker` module to validate the exported ONNX model."
   ]
  },
  {
   "cell_type": "code",
   "execution_count": 14,
   "metadata": {
    "id": "1581db72-cd37-4409-a3be-9b30a50b1a11"
   },
   "outputs": [],
   "source": [
    "onnx.checker.check_model(onnx_model)"
   ]
  },
  {
   "cell_type": "code",
   "execution_count": 15,
   "metadata": {
    "id": "6ff29d00-1983-4b02-9725-85efed4aa44c"
   },
   "outputs": [
    {
     "data": {
      "text/plain": [
       "[array([1, 0, 2], dtype=int64),\n",
       " [{0: 0.0, 1: 0.9899999499320984, 2: 0.009999999776482582},\n",
       "  {0: 0.9899999499320984, 1: 0.009999999776482582, 2: 0.0},\n",
       "  {0: 0.0, 1: 0.0, 2: 1.0}]]"
      ]
     },
     "execution_count": 15,
     "metadata": {},
     "output_type": "execute_result"
    }
   ],
   "source": [
    "session = ort.InferenceSession(onnx_model_filename)\n",
    "\n",
    "input_data = {session.get_inputs()[0].name: x_test[:3].tolist()}\n",
    "session.run([], input_data)"
   ]
  },
  {
   "cell_type": "markdown",
   "metadata": {},
   "source": [
    "Every classifier, by design, produces two outputs: the predicted label and the probability distribution across all possible labels.\n",
    "As you can see, the predicted values are consistent with those calculated in the [evaluation](#evaluation) section."
   ]
  },
  {
   "cell_type": "markdown",
   "metadata": {},
   "source": [
    "<a id=\"upload\"></a>\n",
    "## 4. Persisting the converted ONNX model"
   ]
  },
  {
   "cell_type": "markdown",
   "metadata": {},
   "source": [
    "In this section, you will learn how to store your converted ONNX model in watsonx.ai Runtime."
   ]
  },
  {
   "cell_type": "markdown",
   "metadata": {},
   "source": [
    "### 4.1. Publishing the model in watsonx.ai Runtime repository"
   ]
  },
  {
   "cell_type": "markdown",
   "metadata": {},
   "source": [
    "Define model name, type and software spec."
   ]
  },
  {
   "cell_type": "code",
   "execution_count": 16,
   "metadata": {
    "id": "579bfba6-fac7-4fc8-a6d6-8ce754857371"
   },
   "outputs": [],
   "source": [
    "sofware_spec_id = client.software_specifications.get_id_by_name(\"onnxruntime_opset_19\")\n",
    "onnx_model_zip = \"sklearn_onnx.zip\""
   ]
  },
  {
   "cell_type": "code",
   "execution_count": 17,
   "metadata": {
    "id": "676bd18f-fffe-42ea-9627-d524eb7b0e55"
   },
   "outputs": [
    {
     "name": "stdout",
     "output_type": "stream",
     "text": [
      "updating: sklearn_model.onnx (deflated 92%)\n"
     ]
    }
   ],
   "source": [
    "!zip {onnx_model_zip} {onnx_model_filename}"
   ]
  },
  {
   "cell_type": "code",
   "execution_count": 18,
   "metadata": {
    "id": "e4bb9929-b66f-44db-b93e-ff936ad83c21"
   },
   "outputs": [],
   "source": [
    "metadata = {\n",
    "    client.repository.ModelMetaNames.NAME: 'scikit-learn to ONNX converted model',\n",
    "    client.repository.ModelMetaNames.TYPE: 'onnxruntime_1.16',\n",
    "    client.repository.ModelMetaNames.SOFTWARE_SPEC_ID: sofware_spec_id\n",
    "}\n",
    "\n",
    "published_model = client.repository.store_model(\n",
    "    model=onnx_model_zip,\n",
    "    meta_props=metadata\n",
    ")"
   ]
  },
  {
   "cell_type": "markdown",
   "metadata": {},
   "source": [
    "### 4.2. Getting model details"
   ]
  },
  {
   "cell_type": "code",
   "execution_count": null,
   "metadata": {
    "id": "d5b4ed2a-e680-43b1-a01e-dec2e6879c3b"
   },
   "outputs": [],
   "source": [
    "published_model_id = client.repository.get_model_id(published_model)\n",
    "model_details = client.repository.get_details(published_model_id)\n",
    "print(json.dumps(model_details, indent=2))"
   ]
  },
  {
   "cell_type": "markdown",
   "metadata": {},
   "source": [
    "<a id=\"deploy\"></a>\n",
    "## 5. Deploying and scoring the ONNX model"
   ]
  },
  {
   "cell_type": "markdown",
   "metadata": {},
   "source": [
    "In this section you'll learn how to create an online scoring service and predict on unseen data."
   ]
  },
  {
   "cell_type": "markdown",
   "metadata": {},
   "source": [
    "### 5.1. Creating online deployment for published model"
   ]
  },
  {
   "cell_type": "code",
   "execution_count": 20,
   "metadata": {
    "id": "ee09eb0e-e74e-4461-9dcf-dccc30c4453b"
   },
   "outputs": [
    {
     "name": "stdout",
     "output_type": "stream",
     "text": [
      "\n",
      "\n",
      "######################################################################################\n",
      "\n",
      "Synchronous deployment creation for id: '41f34250-e6f0-4f19-933d-da60ccf3dd6e' started\n",
      "\n",
      "######################################################################################\n",
      "\n",
      "\n",
      "initializing\n",
      "Note: online_url and serving_urls are deprecated and will be removed in a future release. Use inference instead.\n",
      ".\n",
      "ready\n",
      "\n",
      "\n",
      "-----------------------------------------------------------------------------------------------\n",
      "Successfully finished deployment creation, deployment_id='7629ed62-cdfa-4607-9b29-e0d93d2a7f4f'\n",
      "-----------------------------------------------------------------------------------------------\n",
      "\n",
      "\n"
     ]
    }
   ],
   "source": [
    "metadata = {\n",
    "    client.deployments.ConfigurationMetaNames.NAME: \"Deployment of scikit-learn to ONNX converted model\",\n",
    "    client.deployments.ConfigurationMetaNames.ONLINE: {}\n",
    "}\n",
    "\n",
    "created_deployment = client.deployments.create(published_model_id, meta_props=metadata)"
   ]
  },
  {
   "cell_type": "code",
   "execution_count": 21,
   "metadata": {
    "id": "96817036-668e-42ab-b198-6159b4903f79"
   },
   "outputs": [],
   "source": [
    "deployment_id = client.deployments.get_id(created_deployment)"
   ]
  },
  {
   "cell_type": "markdown",
   "metadata": {},
   "source": [
    "Now you can print an online scoring endpoint. "
   ]
  },
  {
   "cell_type": "code",
   "execution_count": null,
   "metadata": {
    "id": "1c1505dd-b9d9-411a-a35c-e7005e8b92cf"
   },
   "outputs": [],
   "source": [
    "client.deployments.get_scoring_href(created_deployment)"
   ]
  },
  {
   "cell_type": "markdown",
   "metadata": {},
   "source": [
    "### 5.2. Getting deployment details"
   ]
  },
  {
   "cell_type": "code",
   "execution_count": null,
   "metadata": {
    "id": "6d1175c0-f678-4b5b-8bba-ca0147af0ec0"
   },
   "outputs": [],
   "source": [
    "client.deployments.get_details(deployment_id)"
   ]
  },
  {
   "cell_type": "markdown",
   "metadata": {},
   "source": [
    "### 5.3. Scoring"
   ]
  },
  {
   "cell_type": "markdown",
   "metadata": {},
   "source": [
    "You can use the method shown below to perform a test scoring request against the deployed model."
   ]
  },
  {
   "cell_type": "markdown",
   "metadata": {},
   "source": [
    "Prepare scoring payload with records to score."
   ]
  },
  {
   "cell_type": "code",
   "execution_count": 24,
   "metadata": {
    "id": "1cb7f0ac-1451-44dc-be3b-854c476cbeb0"
   },
   "outputs": [],
   "source": [
    "scoring_payload = {\n",
    "    \"input_data\": [\n",
    "        {\n",
    "            \"values\": x_test[:3]\n",
    "        }\n",
    "    ]\n",
    "}"
   ]
  },
  {
   "cell_type": "markdown",
   "metadata": {},
   "source": [
    "Use ``client.deployments.score()`` method to run scoring."
   ]
  },
  {
   "cell_type": "code",
   "execution_count": 25,
   "metadata": {
    "id": "7ee1bdcb-a173-4e26-9b09-38657b94ecb7"
   },
   "outputs": [],
   "source": [
    "predictions = client.deployments.score(deployment_id, scoring_payload)"
   ]
  },
  {
   "cell_type": "markdown",
   "metadata": {},
   "source": [
    "Let's print the result of predictions."
   ]
  },
  {
   "cell_type": "code",
   "execution_count": 26,
   "metadata": {
    "id": "15bc9f5f-ac0d-4249-8662-850a0bd2679d"
   },
   "outputs": [
    {
     "name": "stdout",
     "output_type": "stream",
     "text": [
      "{\n",
      "  \"predictions\": [\n",
      "    {\n",
      "      \"id\": \"output_label\",\n",
      "      \"values\": [\n",
      "        1,\n",
      "        0,\n",
      "        2\n",
      "      ]\n",
      "    },\n",
      "    {\n",
      "      \"id\": \"output_probability\",\n",
      "      \"values\": [\n",
      "        {\n",
      "          \"0\": 0.0,\n",
      "          \"1\": 0.9899999499320984,\n",
      "          \"2\": 0.009999999776482582\n",
      "        },\n",
      "        {\n",
      "          \"0\": 0.9899999499320984,\n",
      "          \"1\": 0.009999999776482582,\n",
      "          \"2\": 0.0\n",
      "        },\n",
      "        {\n",
      "          \"0\": 0.0,\n",
      "          \"1\": 0.0,\n",
      "          \"2\": 1.0\n",
      "        }\n",
      "      ]\n",
      "    }\n",
      "  ]\n",
      "}\n"
     ]
    }
   ],
   "source": [
    "print(json.dumps(predictions, indent=2))"
   ]
  },
  {
   "cell_type": "markdown",
   "metadata": {},
   "source": [
    "As you can see, the predicted values are consistent with those calculated in the [evaluation](#evaluation-onnx) section."
   ]
  },
  {
   "cell_type": "markdown",
   "metadata": {},
   "source": [
    "<a id=\"cleanup\"></a>\n",
    "## 6. Cleaning up"
   ]
  },
  {
   "cell_type": "markdown",
   "metadata": {},
   "source": [
    "If you want to clean up after the notebook execution, i.e. remove any created assets like:\n",
    "- experiments\n",
    "- trainings\n",
    "- pipelines\n",
    "- model definitions\n",
    "- models\n",
    "- functions\n",
    "- deployments\n",
    "\n",
    "please follow up this sample [notebook](https://github.com/IBM/watson-machine-learning-samples/blob/master/cloud/notebooks/python_sdk/instance-management/Machine%20Learning%20artifacts%20management.ipynb)."
   ]
  },
  {
   "cell_type": "markdown",
   "metadata": {},
   "source": [
    "<a id=\"summary\"></a>\n",
    "<a id=\"7-summary-and-next-steps\"></a>\n",
    "## 7. Summary and next steps"
   ]
  },
  {
   "cell_type": "markdown",
   "metadata": {},
   "source": [
    " You successfully completed this notebook! You learned how to use ONNX, scikit-learn machine learning library as well as watsonx.ai Runtime for model creation and deployment. Check out our _[Online Documentation](https://dataplatform.cloud.ibm.com/docs/content/wsj/getting-started/welcome-main.html?context=wx)_ for more samples, tutorials, documentation, how-tos, and blog posts."
   ]
  },
  {
   "cell_type": "markdown",
   "metadata": {},
   "source": [
    "Copyright © 2025 IBM. This notebook and its source code are released under the terms of the MIT License."
   ]
  }
 ],
 "metadata": {
  "kernelspec": {
   "display_name": "Python 3 (ipykernel)",
   "language": "python",
   "name": "python3"
  },
  "language_info": {
   "codemirror_mode": {
    "name": "ipython",
    "version": 3
   },
   "file_extension": ".py",
   "mimetype": "text/x-python",
   "name": "python",
   "nbconvert_exporter": "python",
   "pygments_lexer": "ipython3",
   "version": "3.11.11"
  }
 },
 "nbformat": 4,
 "nbformat_minor": 4
}
