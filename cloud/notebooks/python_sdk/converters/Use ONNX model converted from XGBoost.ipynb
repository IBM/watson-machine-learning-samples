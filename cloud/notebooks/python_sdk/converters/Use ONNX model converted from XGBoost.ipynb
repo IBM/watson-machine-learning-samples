{
 "cells": [
  {
   "cell_type": "markdown",
   "metadata": {
    "id": "4d160513-a98e-456c-969e-8a46f11f8afc"
   },
   "source": [
    "# Use ONNX model converted from XGBoost with `ibm-watsonx-ai`\n",
    "This notebook facilitates the `ONNX` format, the `XGBoost` library and the `watsonx.ai Runtime` service. It contains steps and code to work with [ibm-watsonx-ai](https://pypi.org/project/ibm-watsonx-ai/) library in order to convert the model to ONNX format. It also introduces commands necessary for trainining data, persisting and deploying the model and finally scoring it.\n",
    "\n",
    "Some familiarity with Python is helpful. This notebook uses Python 3.11."
   ]
  },
  {
   "cell_type": "markdown",
   "metadata": {
    "id": "d2efd2b4-8cd9-43b4-93ae-e03e53d27de1"
   },
   "source": [
    "## Learning goals\n",
    "\n",
    "The learning goals of this notebook are:\n",
    "- Train an XGBoost model.\n",
    "- Convert the XGBoost model to the ONNX format.\n",
    "- Persist the converted model in the watsonx.ai repository.\n",
    "- Deploy model for online scoring using the APIClient instance.\n",
    "- Score sample records using the APIClient instance.\n",
    "\n",
    "\n",
    "## Contents\n",
    "\n",
    "This notebook contains the following parts:\n",
    "\n",
    "1.\t[Setting up the environment](#setup)<br>\n",
    "2.\t[Training an XGBoost model](#train-model)<br>\n",
    "3.\t[Converting the XGBoost model to the ONNX format](#convert)<br>\n",
    "4.\t[Persisting the converted ONNX model](#onnx-persist)<br>\n",
    "5.\t[Deploying and scoring the ONNX model](#deploy)<br>\n",
    "6.  [Cleaning up](#cleanup)<br>\n",
    "7.\t[Summary and next steps](#summary)<br>\n"
   ]
  },
  {
   "cell_type": "markdown",
   "metadata": {
    "id": "0b08b134-1ce5-4de5-b62a-2bcaaf03c6d6"
   },
   "source": [
    "## 1. Setting up the environment <a id=\"setup\"></a>\n",
    "Before you use the sample code in this notebook, you must perform the following setup tasks:\n",
    "- Create a [watsonx.ai Runtime](https://cloud.ibm.com/catalog/services/watsonxai-runtime) instance (information on service plans and further reading can be found [here](https://dataplatform.cloud.ibm.com/docs/content/wsj/getting-started/wml-plans.html?context=wx&audience=wdp))"
   ]
  },
  {
   "cell_type": "markdown",
   "metadata": {
    "id": "6998fba0-8e83-4ce7-9f36-c8e55ea9e484"
   },
   "source": [
    "<a id=\"ml-packages\"></a>\n",
    "### 1.1. Installing and importing the `ibm-watsonx-ai` and dependencies \n",
    "\n",
    "Before you use the sample code in this notebook, install the following packages:\n",
    "\n",
    "- ibm-watsonx-ai\n",
    "- scikit-learn\n",
    "- xgboost\n",
    "- ONNX-related packages\n",
    "\n",
    "**Note:** `ibm-watsonx-ai` documentation can be found [here](https://ibm.github.io/watsonx-ai-python-sdk/index.html)."
   ]
  },
  {
   "cell_type": "code",
   "execution_count": null,
   "metadata": {
    "id": "5dc2ae47-30fd-494a-bcfe-ddaf43ff99cc"
   },
   "outputs": [],
   "source": [
    "!pip install -U ibm-watsonx-ai | tail -n 1\n",
    "!pip install scikit-learn==1.3.0 | tail -n 1\n",
    "!pip install xgboost | tail -n 1\n",
    "\n",
    "!pip install onnxruntime==1.16.3 | tail -n 1\n",
    "!pip install onnx==1.16.2 | tail -n 1\n",
    "!pip install onnxmltools | tail -n 1"
   ]
  },
  {
   "cell_type": "code",
   "execution_count": 90,
   "metadata": {
    "id": "64cc48d6-542d-467a-ba83-cb0b6cf6ff45"
   },
   "outputs": [],
   "source": [
    "import os\n",
    "import json\n",
    "import onnx\n",
    "import onnxruntime\n",
    "import getpass \n",
    "\n",
    "import pandas as pd \n",
    "\n",
    "from sklearn import datasets\n",
    "from sklearn.model_selection import train_test_split\n",
    "from xgboost import XGBClassifier\n",
    "from ibm_watsonx_ai import Credentials, APIClient\n",
    "\n",
    "from onnxconverter_common.data_types import FloatTensorType\n",
    "from onnxmltools.convert import convert_xgboost\n",
    "from onnxmltools.utils import save_model"
   ]
  },
  {
   "cell_type": "markdown",
   "metadata": {
    "id": "0bb34244-c92c-4a7f-8f67-cd76cca67296"
   },
   "source": [
    "### 1.2. Connecting to the watsonx.ai Runtime <a id=\"connect\"></a>\n",
    "\n",
    "Authenticate with the watsonx.ai Runtime service on IBM Cloud. You need to provide platform `api_key` and instance `location`.\n",
    "\n",
    "You can use [IBM Cloud CLI](https://cloud.ibm.com/docs/cli/index.html) to retrieve platform API Key and instance location.\n",
    "\n",
    "API Key can be generated in the following way:\n",
    "```bash\n",
    "    ibmcloud login\n",
    "    ibmcloud iam api-key-create API_KEY_NAME\n",
    "```\n",
    "\n",
    "Get the value of `api_key` from the output.\n",
    "\n",
    "\n",
    "Location of your watsonx.ai Runtime instance can be retrieved in the following way:\n",
    "```bash\n",
    "    ibmcloud login --apikey API_KEY -a https://cloud.ibm.com\n",
    "    ibmcloud resource service-instance INSTANCE_NAME\n",
    "```\n",
    "\n",
    "Get the value of `location` from the output.\n",
    "\n",
    "**Tip**: You can generate your `Cloud API key` by going to the [**Users** section of the Cloud console](https://cloud.ibm.com/iam#/users). From that page, click your name, scroll down to the **API Keys** section, and click **Create an IBM Cloud API key**. Give your key a name and click **Create**, then copy the created key and paste it below. You can also get a service-specific url by going to the [**Endpoint URLs** section of the watsonx.ai Runtime docs](https://cloud.ibm.com/apidocs/machine-learning).  You can check your instance location in your  <a href=\"https://cloud.ibm.com/catalog/services/watson-machine-learning\" target=\"_blank\" rel=\"noopener no referrer\">watsonx.ai Runtime Service</a> instance details.\n",
    "\n",
    "You can also get the service specific apikey by going to the [**Service IDs** section of the Cloud Console](https://cloud.ibm.com/iam/serviceids).  From that page, click **Create**, then copy the created key, and paste it below.\n",
    "\n",
    "**Action**: Enter your `api_key` and `location` in the following cells."
   ]
  },
  {
   "cell_type": "code",
   "execution_count": 91,
   "metadata": {
    "id": "5f13bd73-522f-4b4c-a064-6effaadde77f"
   },
   "outputs": [
    {
     "name": "stdout",
     "output_type": "stream",
     "text": [
      "Please enter your api key (hit enter):  ········\n"
     ]
    }
   ],
   "source": [
    "api_key = getpass.getpass(\"Please enter your api key (hit enter): \")"
   ]
  },
  {
   "cell_type": "code",
   "execution_count": 127,
   "metadata": {
    "id": "a40c8af3-d501-4342-a74b-a61e5a6ca711"
   },
   "outputs": [],
   "source": [
    "location = \"ENTER YOUR LOCATION HERE\""
   ]
  },
  {
   "cell_type": "markdown",
   "metadata": {
    "id": "cfad29b9-a817-45e6-af68-5b09be826e11"
   },
   "source": [
    "If you are running this notebook on Cloud, you can access the `location` via:\n",
    "\n",
    "```python\n",
    "    location = os.environ.get(\"RUNTIME_ENV_REGION\")\n",
    "```"
   ]
  },
  {
   "cell_type": "code",
   "execution_count": 96,
   "metadata": {
    "id": "668b90a2-5ec9-441f-8f89-2921c4f54db9"
   },
   "outputs": [],
   "source": [
    "url = f\"https://{location}.ml.cloud.ibm.com\""
   ]
  },
  {
   "cell_type": "code",
   "execution_count": 97,
   "metadata": {
    "id": "e56c089a-0035-480c-8a00-2f14d6ea92d0"
   },
   "outputs": [],
   "source": [
    "credentials = Credentials(api_key=api_key, url=url)\n",
    "client = APIClient(credentials=credentials)"
   ]
  },
  {
   "cell_type": "markdown",
   "metadata": {
    "id": "f2e9e782-29f1-4b7e-b821-da2915ac926a"
   },
   "source": [
    "### 1.3. Working with spaces <a id=\"spaces\"></a>\n",
    "\n",
    "First of all, you need to create a space that will be used for your work. If you do not have space already created, you can use [Deployment Spaces Dashboard](https://dataplatform.cloud.ibm.com/ml-runtime/spaces?context=cpdaas) to create one.\n",
    "\n",
    "- Click New Deployment Space\n",
    "- Create an empty space\n",
    "- Select Cloud Object Storage\n",
    "- Select Watson Machine Learning instance and press Create\n",
    "- Copy `space_id` and paste it below\n",
    "\n",
    "**Tip**: You can also use the `ibm_watsonx_ai` SDK to prepare the space for your work. More information can be found [here](https://github.com/IBM/watson-machine-learning-samples/blob/master/cloud/notebooks/python_sdk/instance-management/Space%20management.ipynb).\n",
    "\n",
    "**Action**: Assign space ID below"
   ]
  },
  {
   "cell_type": "code",
   "execution_count": 128,
   "metadata": {
    "id": "d580cb24-fe61-4989-ae29-7f478c5f33b8"
   },
   "outputs": [],
   "source": [
    "space_id = \"ENTER YOUR SPACE ID HERE\""
   ]
  },
  {
   "cell_type": "markdown",
   "metadata": {
    "id": "d08e85b3-c36f-4d28-a295-39bdb5bf0b7c"
   },
   "source": [
    "You can use the `list` method to print all existing spaces."
   ]
  },
  {
   "cell_type": "code",
   "execution_count": null,
   "metadata": {
    "id": "79acbd49-6f90-4af5-873c-2e03438ee8af",
    "scrolled": true
   },
   "outputs": [],
   "source": [
    "client.spaces.list(limit=10)"
   ]
  },
  {
   "cell_type": "markdown",
   "metadata": {
    "id": "adb5aa2c-e448-4e58-acd6-5ad881866b97"
   },
   "source": [
    "To be able to interact with all resources available in watsonx.ai Runtime, you need to set space which you will be using."
   ]
  },
  {
   "cell_type": "code",
   "execution_count": 101,
   "metadata": {
    "id": "87825f6d-515a-401c-b921-ad5baa668047"
   },
   "outputs": [
    {
     "data": {
      "text/plain": [
       "'SUCCESS'"
      ]
     },
     "execution_count": 101,
     "metadata": {},
     "output_type": "execute_result"
    }
   ],
   "source": [
    "client.set.default_space(space_id)"
   ]
  },
  {
   "cell_type": "markdown",
   "metadata": {
    "id": "8e7ced81-a435-4885-b318-9db94769785c"
   },
   "source": [
    "## 2. Training the XGBoost model <a id=\"train-model\"></a>"
   ]
  },
  {
   "cell_type": "markdown",
   "metadata": {
    "id": "5ba52001-4018-42ff-bcbd-28e3c6731858"
   },
   "source": [
    "In this section, you will train a simple `XGBoost` model."
   ]
  },
  {
   "cell_type": "markdown",
   "metadata": {
    "id": "60fd9f97-30e3-4eb3-858d-cc3084fca50c"
   },
   "source": [
    "### 2.1 Loading the [iris](https://scikit-learn.org/1.3/auto_examples/datasets/plot_iris_dataset.html) data <a id=\"iris-load\"></a>"
   ]
  },
  {
   "cell_type": "code",
   "execution_count": 102,
   "metadata": {
    "id": "6a206070-5cfe-49b1-83dd-a860078f8957"
   },
   "outputs": [],
   "source": [
    "iris = datasets.load_iris()\n",
    "X, y = iris.data, iris.target\n",
    "X_train, X_test, y_train, y_test = train_test_split(X, y)"
   ]
  },
  {
   "cell_type": "markdown",
   "metadata": {
    "id": "7bd39582-0a0d-4881-9882-feb4aab0358d"
   },
   "source": [
    "### 2.2. Training the XGBoost model <a id=\"xgboost-train\">"
   ]
  },
  {
   "cell_type": "code",
   "execution_count": 103,
   "metadata": {
    "id": "c14255fb-ebef-4d0d-a676-6e14e7331641",
    "scrolled": true
   },
   "outputs": [
    {
     "data": {
      "text/html": [
       "<style>#sk-container-id-3 {color: black;}#sk-container-id-3 pre{padding: 0;}#sk-container-id-3 div.sk-toggleable {background-color: white;}#sk-container-id-3 label.sk-toggleable__label {cursor: pointer;display: block;width: 100%;margin-bottom: 0;padding: 0.3em;box-sizing: border-box;text-align: center;}#sk-container-id-3 label.sk-toggleable__label-arrow:before {content: \"▸\";float: left;margin-right: 0.25em;color: #696969;}#sk-container-id-3 label.sk-toggleable__label-arrow:hover:before {color: black;}#sk-container-id-3 div.sk-estimator:hover label.sk-toggleable__label-arrow:before {color: black;}#sk-container-id-3 div.sk-toggleable__content {max-height: 0;max-width: 0;overflow: hidden;text-align: left;background-color: #f0f8ff;}#sk-container-id-3 div.sk-toggleable__content pre {margin: 0.2em;color: black;border-radius: 0.25em;background-color: #f0f8ff;}#sk-container-id-3 input.sk-toggleable__control:checked~div.sk-toggleable__content {max-height: 200px;max-width: 100%;overflow: auto;}#sk-container-id-3 input.sk-toggleable__control:checked~label.sk-toggleable__label-arrow:before {content: \"▾\";}#sk-container-id-3 div.sk-estimator input.sk-toggleable__control:checked~label.sk-toggleable__label {background-color: #d4ebff;}#sk-container-id-3 div.sk-label input.sk-toggleable__control:checked~label.sk-toggleable__label {background-color: #d4ebff;}#sk-container-id-3 input.sk-hidden--visually {border: 0;clip: rect(1px 1px 1px 1px);clip: rect(1px, 1px, 1px, 1px);height: 1px;margin: -1px;overflow: hidden;padding: 0;position: absolute;width: 1px;}#sk-container-id-3 div.sk-estimator {font-family: monospace;background-color: #f0f8ff;border: 1px dotted black;border-radius: 0.25em;box-sizing: border-box;margin-bottom: 0.5em;}#sk-container-id-3 div.sk-estimator:hover {background-color: #d4ebff;}#sk-container-id-3 div.sk-parallel-item::after {content: \"\";width: 100%;border-bottom: 1px solid gray;flex-grow: 1;}#sk-container-id-3 div.sk-label:hover label.sk-toggleable__label {background-color: #d4ebff;}#sk-container-id-3 div.sk-serial::before {content: \"\";position: absolute;border-left: 1px solid gray;box-sizing: border-box;top: 0;bottom: 0;left: 50%;z-index: 0;}#sk-container-id-3 div.sk-serial {display: flex;flex-direction: column;align-items: center;background-color: white;padding-right: 0.2em;padding-left: 0.2em;position: relative;}#sk-container-id-3 div.sk-item {position: relative;z-index: 1;}#sk-container-id-3 div.sk-parallel {display: flex;align-items: stretch;justify-content: center;background-color: white;position: relative;}#sk-container-id-3 div.sk-item::before, #sk-container-id-3 div.sk-parallel-item::before {content: \"\";position: absolute;border-left: 1px solid gray;box-sizing: border-box;top: 0;bottom: 0;left: 50%;z-index: -1;}#sk-container-id-3 div.sk-parallel-item {display: flex;flex-direction: column;z-index: 1;position: relative;background-color: white;}#sk-container-id-3 div.sk-parallel-item:first-child::after {align-self: flex-end;width: 50%;}#sk-container-id-3 div.sk-parallel-item:last-child::after {align-self: flex-start;width: 50%;}#sk-container-id-3 div.sk-parallel-item:only-child::after {width: 0;}#sk-container-id-3 div.sk-dashed-wrapped {border: 1px dashed gray;margin: 0 0.4em 0.5em 0.4em;box-sizing: border-box;padding-bottom: 0.4em;background-color: white;}#sk-container-id-3 div.sk-label label {font-family: monospace;font-weight: bold;display: inline-block;line-height: 1.2em;}#sk-container-id-3 div.sk-label-container {text-align: center;}#sk-container-id-3 div.sk-container {/* jupyter's `normalize.less` sets `[hidden] { display: none; }` but bootstrap.min.css set `[hidden] { display: none !important; }` so we also need the `!important` here to be able to override the default hidden behavior on the sphinx rendered scikit-learn.org. See: https://github.com/scikit-learn/scikit-learn/issues/21755 */display: inline-block !important;position: relative;}#sk-container-id-3 div.sk-text-repr-fallback {display: none;}</style><div id=\"sk-container-id-3\" class=\"sk-top-container\"><div class=\"sk-text-repr-fallback\"><pre>XGBClassifier(base_score=None, booster=None, callbacks=None,\n",
       "              colsample_bylevel=None, colsample_bynode=None,\n",
       "              colsample_bytree=None, device=None, early_stopping_rounds=None,\n",
       "              enable_categorical=False, eval_metric=None, feature_types=None,\n",
       "              gamma=None, grow_policy=None, importance_type=None,\n",
       "              interaction_constraints=None, learning_rate=None, max_bin=None,\n",
       "              max_cat_threshold=None, max_cat_to_onehot=None,\n",
       "              max_delta_step=None, max_depth=None, max_leaves=None,\n",
       "              min_child_weight=None, missing=nan, monotone_constraints=None,\n",
       "              multi_strategy=None, n_estimators=None, n_jobs=None,\n",
       "              num_parallel_tree=None, objective=&#x27;multi:softprob&#x27;, ...)</pre><b>In a Jupyter environment, please rerun this cell to show the HTML representation or trust the notebook. <br />On GitHub, the HTML representation is unable to render, please try loading this page with nbviewer.org.</b></div><div class=\"sk-container\" hidden><div class=\"sk-item\"><div class=\"sk-estimator sk-toggleable\"><input class=\"sk-toggleable__control sk-hidden--visually\" id=\"sk-estimator-id-3\" type=\"checkbox\" checked><label for=\"sk-estimator-id-3\" class=\"sk-toggleable__label sk-toggleable__label-arrow\">XGBClassifier</label><div class=\"sk-toggleable__content\"><pre>XGBClassifier(base_score=None, booster=None, callbacks=None,\n",
       "              colsample_bylevel=None, colsample_bynode=None,\n",
       "              colsample_bytree=None, device=None, early_stopping_rounds=None,\n",
       "              enable_categorical=False, eval_metric=None, feature_types=None,\n",
       "              gamma=None, grow_policy=None, importance_type=None,\n",
       "              interaction_constraints=None, learning_rate=None, max_bin=None,\n",
       "              max_cat_threshold=None, max_cat_to_onehot=None,\n",
       "              max_delta_step=None, max_depth=None, max_leaves=None,\n",
       "              min_child_weight=None, missing=nan, monotone_constraints=None,\n",
       "              multi_strategy=None, n_estimators=None, n_jobs=None,\n",
       "              num_parallel_tree=None, objective=&#x27;multi:softprob&#x27;, ...)</pre></div></div></div></div></div>"
      ],
      "text/plain": [
       "XGBClassifier(base_score=None, booster=None, callbacks=None,\n",
       "              colsample_bylevel=None, colsample_bynode=None,\n",
       "              colsample_bytree=None, device=None, early_stopping_rounds=None,\n",
       "              enable_categorical=False, eval_metric=None, feature_types=None,\n",
       "              gamma=None, grow_policy=None, importance_type=None,\n",
       "              interaction_constraints=None, learning_rate=None, max_bin=None,\n",
       "              max_cat_threshold=None, max_cat_to_onehot=None,\n",
       "              max_delta_step=None, max_depth=None, max_leaves=None,\n",
       "              min_child_weight=None, missing=nan, monotone_constraints=None,\n",
       "              multi_strategy=None, n_estimators=None, n_jobs=None,\n",
       "              num_parallel_tree=None, objective='multi:softprob', ...)"
      ]
     },
     "execution_count": 103,
     "metadata": {},
     "output_type": "execute_result"
    }
   ],
   "source": [
    "xgb_classifier = XGBClassifier(objective=\"objective='multiclass'\")\n",
    "xgb_classifier.fit(X_train, y_train)"
   ]
  },
  {
   "cell_type": "markdown",
   "metadata": {
    "id": "8401abaa-f836-425e-bf83-7d504aff8b73"
   },
   "source": [
    "### 2.3. Evaluating the model <a id=\"xgboost-test\"></a>"
   ]
  },
  {
   "cell_type": "code",
   "execution_count": 118,
   "metadata": {
    "id": "3e693785-cf89-48fb-874d-95a73e950a72"
   },
   "outputs": [
    {
     "name": "stdout",
     "output_type": "stream",
     "text": [
      "[0 0 2]\n"
     ]
    }
   ],
   "source": [
    "xgb_classifier.predict(X_test[:3])"
   ]
  },
  {
   "cell_type": "markdown",
   "metadata": {
    "id": "e6136884-13cd-4c9f-a624-cd350d67a0e7"
   },
   "source": [
    "## 3. Converting the XGBoost model to the ONNX format <a id=\"convert\"></a>\n",
    "\n",
    "In this section, you will convert the model to the ONNX format."
   ]
  },
  {
   "cell_type": "markdown",
   "metadata": {},
   "source": [
    "### 3.1. Converting the model"
   ]
  },
  {
   "cell_type": "code",
   "execution_count": 105,
   "metadata": {
    "id": "996092a3-0874-4545-b599-d121212a7617"
   },
   "outputs": [],
   "source": [
    "initial_type = [(\"float_input\", FloatTensorType([None, 4]))]\n",
    "onnx_model = convert_xgboost(xgb_classifier, initial_types=initial_type)\n",
    "onnx_model_filename = \"xgboost_onnx_model.onnx\"\n",
    "save_model(onnx_model, onnx_model_filename)"
   ]
  },
  {
   "cell_type": "markdown",
   "metadata": {},
   "source": [
    "**Note:** To convert a scikit-learn pipeline with an XGBoost model refer to the [documentation](https://onnx.ai/sklearn-onnx/auto_tutorial/plot_gexternal_xgboost.html)."
   ]
  },
  {
   "cell_type": "markdown",
   "metadata": {
    "id": "229a2cd0-4cea-466d-88d1-ff6f1615341f"
   },
   "source": [
    "<a id=\"onnx-check\"></a>\n",
    "### 3.2. Evaluating the ONNX model\n",
    "\n",
    "After exporting the model, you should verify its integrity and ensure that it functions as expected. We will use `onnxruntime` to load the model and perform inference on the test data. Additionally, we’ll use `onnx`'s `checker` module to validate the exported ONNX model."
   ]
  },
  {
   "cell_type": "code",
   "execution_count": 106,
   "metadata": {
    "id": "8cb408dc-a4d7-464f-bb4d-6ff2bbc77004"
   },
   "outputs": [],
   "source": [
    "onnx.checker.check_model(onnx_model)"
   ]
  },
  {
   "cell_type": "code",
   "execution_count": 113,
   "metadata": {
    "id": "6de4c9c4-e962-46b4-b5bc-2ae16d53e5a1"
   },
   "outputs": [
    {
     "data": {
      "text/plain": [
       "[array([0, 0, 2], dtype=int64),\n",
       " array([[0.9935389 , 0.00468294, 0.00177807],\n",
       "        [0.9935389 , 0.00468294, 0.00177807],\n",
       "        [0.00128965, 0.00460506, 0.9941052 ]], dtype=float32)]"
      ]
     },
     "execution_count": 113,
     "metadata": {},
     "output_type": "execute_result"
    }
   ],
   "source": [
    "session = onnxruntime.InferenceSession(onnx_model_filename)\n",
    "\n",
    "input_data = {session.get_inputs()[0].name: X_test[:3].tolist()}\n",
    "session.run([], input_data)"
   ]
  },
  {
   "cell_type": "markdown",
   "metadata": {},
   "source": [
    "Every classifier, by design, produces two outputs: the predicted label and the probability distribution across all possible labels.\n",
    "\n",
    "As you can see, the predicted values are consistent with those calculated in the [evaluation section](#xgboost-test)."
   ]
  },
  {
   "cell_type": "markdown",
   "metadata": {
    "id": "ac4d6243-6ef1-4eef-8505-e84ba73ac5f5"
   },
   "source": [
    "<a id=\"onnx-persist\"></a>\n",
    "## 4. Persisting the converted ONNX model \n",
    "\n",
    "In this section, you will learn how to store your converted ONNX model in watsonx.ai Runtime."
   ]
  },
  {
   "cell_type": "markdown",
   "metadata": {
    "id": "85aff863-da14-46f6-af39-3543b88f386e"
   },
   "source": [
    "Define model name, type and software spec."
   ]
  },
  {
   "cell_type": "code",
   "execution_count": 108,
   "metadata": {
    "id": "b3ad86f9-10b8-4e88-b508-cfceb306be2b"
   },
   "outputs": [],
   "source": [
    "sw_spec_id = client.software_specifications.get_id_by_name(\"onnxruntime_opset_19\")\n",
    "onnx_model_zip = \"xgboost_onnx_model.zip\""
   ]
  },
  {
   "cell_type": "markdown",
   "metadata": {
    "id": "0543e622-046c-484c-9691-e5eac5581f26"
   },
   "source": [
    "Save the info to an archive."
   ]
  },
  {
   "cell_type": "code",
   "execution_count": 109,
   "metadata": {
    "id": "67e008d1-9218-4bf9-9393-d7c46e149d70"
   },
   "outputs": [
    {
     "name": "stdout",
     "output_type": "stream",
     "text": [
      "  adding: xgboost_onnx_model.onnx (deflated 82%)\n"
     ]
    }
   ],
   "source": [
    "!zip {onnx_model_zip} {onnx_model_filename}"
   ]
  },
  {
   "cell_type": "markdown",
   "metadata": {
    "id": "819eb121-bcaa-4643-9232-7debfb96da32"
   },
   "source": [
    "<a id=\"onnx-publish\"></a>\n",
    "### 4.1. Publishing the ONNX model to the watsonx.ai Runtime repository"
   ]
  },
  {
   "cell_type": "code",
   "execution_count": 110,
   "metadata": {
    "id": "b5fb211f-f645-4348-b882-59b66f34adb9"
   },
   "outputs": [],
   "source": [
    "metadata = {\n",
    "    client.repository.ModelMetaNames.NAME: 'XGBoost to ONNX converted model',\n",
    "    client.repository.ModelMetaNames.TYPE: 'onnxruntime_1.16',\n",
    "    client.repository.ModelMetaNames.SOFTWARE_SPEC_ID: sw_spec_id\n",
    "}\n",
    "\n",
    "published_model = client.repository.store_model(\n",
    "    model=onnx_model_zip,\n",
    "    meta_props=metadata\n",
    ")"
   ]
  },
  {
   "cell_type": "markdown",
   "metadata": {
    "id": "6f858ac7-fd66-4a47-854c-08b71ec54ad6"
   },
   "source": [
    "<a id=\"onnx-details\"></a>\n",
    "### 4.2. Getting model details"
   ]
  },
  {
   "cell_type": "code",
   "execution_count": null,
   "metadata": {
    "id": "a706917c-9ff0-4044-9442-fdb03a29e1bc"
   },
   "outputs": [],
   "source": [
    "published_model_id = client.repository.get_model_id(published_model)\n",
    "model_details = client.repository.get_details(published_model_id)\n",
    "print(json.dumps(model_details, indent=2))"
   ]
  },
  {
   "cell_type": "markdown",
   "metadata": {
    "id": "523fb076-86e3-453d-b9e8-07d8ecd9fe88"
   },
   "source": [
    "<a id=\"deploy\"></a>\n",
    "## 5. Deploying and scoring the ONNX model\n",
    "In this section you'll learn how to create an online scoring service and predict on unseen data."
   ]
  },
  {
   "cell_type": "markdown",
   "metadata": {
    "id": "8f6c86f6-d53d-42fc-ae0f-65489f0c8891"
   },
   "source": [
    "<a id=\"onnx-create\"></a>\n",
    "### 5.1. Creating an online deployment for published model"
   ]
  },
  {
   "cell_type": "code",
   "execution_count": 112,
   "metadata": {
    "id": "d5d301f3-c363-4dee-9658-6dfcc5798dcc"
   },
   "outputs": [
    {
     "name": "stdout",
     "output_type": "stream",
     "text": [
      "\n",
      "\n",
      "######################################################################################\n",
      "\n",
      "Synchronous deployment creation for id: '7713bfd1-1b89-49bf-ab4b-1c709a420a0a' started\n",
      "\n",
      "######################################################################################\n",
      "\n",
      "\n",
      "initializing\n",
      "Note: online_url and serving_urls are deprecated and will be removed in a future release. Use inference instead.\n",
      "...\n",
      "ready\n",
      "\n",
      "\n",
      "-----------------------------------------------------------------------------------------------\n",
      "Successfully finished deployment creation, deployment_id='8795cc48-d9c7-466f-8295-8fc7462e8780'\n",
      "-----------------------------------------------------------------------------------------------\n",
      "\n",
      "\n"
     ]
    }
   ],
   "source": [
    "metadata = {\n",
    "    client.deployments.ConfigurationMetaNames.NAME: \"Deployment of XGBoost to ONNX converted model\",\n",
    "    client.deployments.ConfigurationMetaNames.ONLINE: {}\n",
    "}\n",
    "\n",
    "created_deployment = client.deployments.create(published_model_id, meta_props=metadata)"
   ]
  },
  {
   "cell_type": "code",
   "execution_count": 114,
   "metadata": {
    "id": "85dbe51b-7ab2-40cf-b175-cffa1a980c5f"
   },
   "outputs": [],
   "source": [
    "deployment_id = client.deployments.get_id(created_deployment)"
   ]
  },
  {
   "cell_type": "markdown",
   "metadata": {
    "id": "477256c2-0b1a-4b6f-9d0d-61d494f755ba"
   },
   "source": [
    "Now you can print an online scoring endpoint. "
   ]
  },
  {
   "cell_type": "code",
   "execution_count": null,
   "metadata": {
    "id": "b1a841a6-1bde-4e62-a98e-9128b2930eef"
   },
   "outputs": [],
   "source": [
    "client.deployments.get_scoring_href(created_deployment)"
   ]
  },
  {
   "cell_type": "markdown",
   "metadata": {
    "id": "a7b064fe-f899-4477-8f56-11e6410ea539"
   },
   "source": [
    "<a id=\"deployment-details\"> </a>\n",
    "### 5.2. Getting deployment details"
   ]
  },
  {
   "cell_type": "code",
   "execution_count": null,
   "metadata": {
    "id": "6d699652-4155-4fae-8667-7b79c3101672"
   },
   "outputs": [],
   "source": [
    "client.deployments.get_details(deployment_id)"
   ]
  },
  {
   "cell_type": "markdown",
   "metadata": {
    "id": "b5213d0f-c711-4054-8441-065ea2ca2a1b"
   },
   "source": [
    "<a id=\"deployment-score\"></a>\n",
    "### 5.3. Scoring\n",
    "You can use below method to do test scoring request against deployed model.\n",
    "Prepare scoring payload with records to score."
   ]
  },
  {
   "cell_type": "code",
   "execution_count": 115,
   "metadata": {
    "id": "6df9e905-38a5-4733-9e1e-49f72674d529"
   },
   "outputs": [],
   "source": [
    "scoring_payload = {\n",
    "    \"input_data\": [\n",
    "        {\n",
    "            \"values\": X_test[:3]\n",
    "\n",
    "        }\n",
    "    ]\n",
    "}"
   ]
  },
  {
   "cell_type": "markdown",
   "metadata": {
    "id": "101845ed-5eab-4196-a48a-071300611d49"
   },
   "source": [
    "Use ``client.deployments.score()`` method to run scoring."
   ]
  },
  {
   "cell_type": "code",
   "execution_count": 116,
   "metadata": {
    "id": "37852217-7b99-4f91-8f9a-aa663b7c93d9"
   },
   "outputs": [],
   "source": [
    "predictions = client.deployments.score(deployment_id, scoring_payload)"
   ]
  },
  {
   "cell_type": "markdown",
   "metadata": {
    "id": "e1c4a521-dc6f-42b7-977c-0b92a5835d48"
   },
   "source": [
    "Let's see the predictions result"
   ]
  },
  {
   "cell_type": "code",
   "execution_count": 124,
   "metadata": {
    "id": "9d35daae-c761-4cda-b7c8-1761103165f4"
   },
   "outputs": [
    {
     "name": "stdout",
     "output_type": "stream",
     "text": [
      "{\n",
      "  \"predictions\": [\n",
      "    {\n",
      "      \"id\": \"label\",\n",
      "      \"values\": [\n",
      "        0,\n",
      "        0,\n",
      "        2\n",
      "      ]\n",
      "    },\n",
      "    {\n",
      "      \"id\": \"probabilities\",\n",
      "      \"values\": [\n",
      "        [\n",
      "          0.9935389161109924,\n",
      "          0.004682942759245634,\n",
      "          0.0017780718626454473\n",
      "        ],\n",
      "        [\n",
      "          0.9935389161109924,\n",
      "          0.004682942759245634,\n",
      "          0.0017780718626454473\n",
      "        ],\n",
      "        [\n",
      "          0.0012896523112431169,\n",
      "          0.004605060908943415,\n",
      "          0.9941052198410034\n",
      "        ]\n",
      "      ]\n",
      "    }\n",
      "  ]\n",
      "}\n"
     ]
    }
   ],
   "source": [
    "print(json.dumps(predictions, indent=2))"
   ]
  },
  {
   "cell_type": "markdown",
   "metadata": {},
   "source": [
    "As you can see, the predicted values are consistent with those calculated in the [evaluation section](#onnx-check)."
   ]
  },
  {
   "cell_type": "markdown",
   "metadata": {
    "id": "8ae8e695-5f0d-480e-94fb-c46411bde67b"
   },
   "source": [
    "<a id=\"cleanup\"></a>\n",
    "## 6. Cleaning up \n",
    "If you want to clean up after the notebook execution, i.e. remove any created assets like: \n",
    "- experiments<br>\n",
    "- trainings<br>\n",
    "- pipelines<br>\n",
    "- model definitions<br>\n",
    "- models<br>\n",
    "- functions<br>\n",
    "- deployments<br>\n",
    "\n",
    "please follow up this sample [notebook](https://github.com/IBM/watson-machine-learning-samples/blob/8e3a3ece6aa7d872eeb072d0705bc5a0cf90ff60/cloud/notebooks/python_sdk/instance-management/Machine%20Learning%20artifacts%20management.ipynb).<br>"
   ]
  },
  {
   "cell_type": "markdown",
   "metadata": {
    "id": "30e48dfb-912c-4deb-a9c0-526921c14c3e"
   },
   "source": [
    "<a id=\"summary\"></a>\n",
    "## 7. Summary and next steps\n",
    "\n",
    "You successfully completed this notebook! You learned how to use ONNX, XGBoost package as well as watsonx.ai Runtime for model creation and deployment. Check out our _[Online Documentation](https://dataplatform.cloud.ibm.com/docs/content/wsj/getting-started/welcome-main.html?context=wx)_ for more samples, tutorials, documentation, how-tos, and blog posts.<br>"
   ]
  },
  {
   "cell_type": "markdown",
   "metadata": {
    "id": "b9820cac-1cfd-4dca-9161-ddae81922739"
   },
   "source": [
    "Copyright © 2025 IBM. This notebook and its source code are released under the terms of the MIT License."
   ]
  }
 ],
 "metadata": {
  "kernelspec": {
   "display_name": "Python 3 (ipykernel)",
   "language": "python",
   "name": "python3"
  },
  "language_info": {
   "codemirror_mode": {
    "name": "ipython",
    "version": 3
   },
   "file_extension": ".py",
   "mimetype": "text/x-python",
   "name": "python",
   "nbconvert_exporter": "python",
   "pygments_lexer": "ipython3",
   "version": "3.11.11"
  }
 },
 "nbformat": 4,
 "nbformat_minor": 4
}
