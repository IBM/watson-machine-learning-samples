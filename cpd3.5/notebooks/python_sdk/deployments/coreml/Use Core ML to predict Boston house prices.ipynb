{
  "cells": [
    {
      "cell_type": "markdown",
      "metadata": {},
      "source": [
        "This notebook demonstrates how to perform regression analysis using scikit-learn and the watson-machine-learning-client package.\n",
        "\n",
        "Some familiarity with Python is helpful. This notebook is compatible with Python 3.7.\n",
        "\n",
        "You will use the sample data set, **sklearn.datasets.load_boston** which is available in scikit-learn, to predict house prices.\n",
        "\n",
        "## Learning goals\n",
        "\n",
        "In this notebook, you will learn how to:\n",
        "\n",
        "-  Load a sample data set from ``scikit-learn``\n",
        "-  Explore data\n",
        "-  Prepare data for training and evaluation\n",
        "-  Create a scikit-learn pipeline\n",
        "-  Train and evaluate a model\n",
        "-  Store a model in the Watson Machine Learning (WML) repository\n",
        "-  Deploy a model as Core ML\n",
        "\n",
        "\n",
        "## Contents\n",
        "\n",
        "1.\t[Set up the environment](#setup)\n",
        "2.\t[Load and explore data](#load)\n",
        "3.\t[Build a scikit-learn linear regression model](#model)\n",
        "4.\t[Set up the WML instance and save the model in the WML repository](#upload)\n",
        "5.\t[Deploy the model via Core ML](#deploy)\n",
        "6.  [Clean up](#cleanup)\n",
        "7.\t[Summary and next steps](#summary)"
      ]
    },
    {
      "cell_type": "markdown",
      "metadata": {},
      "source": [
        "<a id=\"setup\"></a>\n",
        "## 1. Set up the environment\n",
        "\n",
        "Before you use the sample code in this notebook, you must perform the following setup tasks:\n",
        "\n",
        "-  Contact with your Cloud Pack for Data administrator and ask him for your account credentials"
      ]
    },
    {
      "cell_type": "markdown",
      "metadata": {},
      "source": [
        "### Connection to WML\n",
        "\n",
        "Authenticate the Watson Machine Learning service on IBM Cloud Pack for Data. You need to provide platform `url`, your `username` and `password`."
      ]
    },
    {
      "cell_type": "code",
      "execution_count": null,
      "metadata": {},
      "outputs": [],
      "source": [
        "username = 'PASTE YOUR USERNAME HERE'\n",
        "password = 'PASTE YOUR PASSWORD HERE'\n",
        "url = 'PASTE THE PLATFORM URL HERE'"
      ]
    },
    {
      "cell_type": "code",
      "execution_count": 2,
      "metadata": {},
      "outputs": [],
      "source": [
        "wml_credentials = {\n",
        "    \"username\": username,\n",
        "    \"password\": password,\n",
        "    \"url\": url,\n",
        "    \"instance_id\": 'openshift',\n",
        "    \"version\": '3.5'\n",
        "}"
      ]
    },
    {
      "cell_type": "markdown",
      "metadata": {},
      "source": [
        "### Install and import the `ibm-watson-machine-learning` package\n",
        "**Note:** `ibm-watson-machine-learning` documentation can be found <a href=\"http://ibm-wml-api-pyclient.mybluemix.net/\" target=\"_blank\" rel=\"noopener no referrer\">here</a>."
      ]
    },
    {
      "cell_type": "code",
      "execution_count": null,
      "metadata": {},
      "outputs": [],
      "source": [
        "!pip install -U ibm-watson-machine-learning"
      ]
    },
    {
      "cell_type": "code",
      "execution_count": 3,
      "metadata": {},
      "outputs": [
        {
          "name": "stderr",
          "output_type": "stream",
          "text": [
            "2020-12-08 12:44:04,591 - root - WARNING - scikit-learn version 0.23.2 is not supported. Minimum required version: 0.17. Maximum required version: 0.19.2. Disabling scikit-learn conversion API.\n",
            "2020-12-08 12:44:04,653 - root - WARNING - Keras version 2.2.5 detected. Last version known to be fully compatible of Keras is 2.2.4 .\n"
          ]
        }
      ],
      "source": [
        "from ibm_watson_machine_learning import APIClient\n",
        "\n",
        "client = APIClient(wml_credentials)"
      ]
    },
    {
      "cell_type": "markdown",
      "metadata": {},
      "source": [
        "### Working with spaces\n",
        "\n",
        "First of all, you need to create a space that will be used for your work. If you do not have space already created, you can use `{PLATFORM_URL}/ml-runtime/spaces?context=icp4data` to create one.\n",
        "\n",
        "- Click New Deployment Space\n",
        "- Create an empty space\n",
        "- Go to space `Settings` tab\n",
        "- Copy `space_id` and paste it below\n",
        "\n",
        "**Tip**: You can also use SDK to prepare the space for your work. More information can be found [here](https://github.com/IBM/watson-machine-learning-samples/blob/master/cpd3.5/notebooks/python_sdk/instance-management/Space%20management.ipynb).\n",
        "\n",
        "**Action**: Assign space ID below"
      ]
    },
    {
      "cell_type": "code",
      "execution_count": null,
      "metadata": {},
      "outputs": [],
      "source": [
        "space_id = 'PASTE YOUR SPACE ID HERE'"
      ]
    },
    {
      "cell_type": "markdown",
      "metadata": {},
      "source": [
        "You can use `list` method to print all existing spaces."
      ]
    },
    {
      "cell_type": "code",
      "execution_count": null,
      "metadata": {},
      "outputs": [],
      "source": [
        "client.spaces.list(limit=10)"
      ]
    },
    {
      "cell_type": "markdown",
      "metadata": {},
      "source": [
        "To be able to interact with all resources available in Watson Machine Learning, you need to set **space** which you will be using."
      ]
    },
    {
      "cell_type": "code",
      "execution_count": 4,
      "metadata": {},
      "outputs": [
        {
          "data": {
            "text/plain": [
              "'SUCCESS'"
            ]
          },
          "execution_count": 4,
          "metadata": {},
          "output_type": "execute_result"
        }
      ],
      "source": [
        "client.set.default_space(space_id)"
      ]
    },
    {
      "cell_type": "markdown",
      "metadata": {},
      "source": [
        "<a id=\"load\"></a>\n",
        "## 2. Load and explore data"
      ]
    },
    {
      "cell_type": "markdown",
      "metadata": {},
      "source": [
        "The sample data set contains boston house prices. The data set can be found <a href=\"https://archive.ics.uci.edu/ml/machine-learning-databases/housing/\" target=\"_blank\" rel=\"noopener no referrer\">here</a>.\n",
        "\n",
        "In this section, you will learn how to:\n",
        "- [2.1 Explore Data](#dataset)  \n",
        "- [2.2 Check the correlations between predictors and the target](#corr)"
      ]
    },
    {
      "cell_type": "markdown",
      "metadata": {},
      "source": [
        "### 2.1 Explore data<a id=\"dataset\"></a>\n",
        "\n",
        "In this subsection, you will perform exploratory data analysis of the boston house prices data set."
      ]
    },
    {
      "cell_type": "code",
      "execution_count": null,
      "metadata": {},
      "outputs": [],
      "source": [
        "!pip install --upgrade scikit-learn==0.23.1 seaborn"
      ]
    },
    {
      "cell_type": "code",
      "execution_count": 5,
      "metadata": {},
      "outputs": [],
      "source": [
        "import sklearn\n",
        "from sklearn import datasets\n",
        "import pandas as pd\n",
        "\n",
        "boston_data = datasets.load_boston()"
      ]
    },
    {
      "cell_type": "markdown",
      "metadata": {},
      "source": [
        "Let's check the names of the predictors."
      ]
    },
    {
      "cell_type": "code",
      "execution_count": 6,
      "metadata": {},
      "outputs": [
        {
          "name": "stdout",
          "output_type": "stream",
          "text": [
            "['CRIM' 'ZN' 'INDUS' 'CHAS' 'NOX' 'RM' 'AGE' 'DIS' 'RAD' 'TAX' 'PTRATIO'\n",
            " 'B' 'LSTAT']\n"
          ]
        }
      ],
      "source": [
        "print(boston_data.feature_names)"
      ]
    },
    {
      "cell_type": "markdown",
      "metadata": {},
      "source": [
        "**Tip:** Run `print(boston_data.DESCR)` to view a detailed description of the data set."
      ]
    },
    {
      "cell_type": "code",
      "execution_count": 7,
      "metadata": {},
      "outputs": [
        {
          "name": "stdout",
          "output_type": "stream",
          "text": [
            ".. _boston_dataset:\n",
            "\n",
            "Boston house prices dataset\n",
            "---------------------------\n",
            "\n",
            "**Data Set Characteristics:**  \n",
            "\n",
            "    :Number of Instances: 506 \n",
            "\n",
            "    :Number of Attributes: 13 numeric/categorical predictive. Median Value (attribute 14) is usually the target.\n",
            "\n",
            "    :Attribute Information (in order):\n",
            "        - CRIM     per capita crime rate by town\n",
            "        - ZN       proportion of residential land zoned for lots over 25,000 sq.ft.\n",
            "        - INDUS    proportion of non-retail business acres per town\n",
            "        - CHAS     Charles River dummy variable (= 1 if tract bounds river; 0 otherwise)\n",
            "        - NOX      nitric oxides concentration (parts per 10 million)\n",
            "        - RM       average number of rooms per dwelling\n",
            "        - AGE      proportion of owner-occupied units built prior to 1940\n",
            "        - DIS      weighted distances to five Boston employment centres\n",
            "        - RAD      index of accessibility to radial highways\n",
            "        - TAX      full-value property-tax rate per $10,000\n",
            "        - PTRATIO  pupil-teacher ratio by town\n",
            "        - B        1000(Bk - 0.63)^2 where Bk is the proportion of blacks by town\n",
            "        - LSTAT    % lower status of the population\n",
            "        - MEDV     Median value of owner-occupied homes in $1000's\n",
            "\n",
            "    :Missing Attribute Values: None\n",
            "\n",
            "    :Creator: Harrison, D. and Rubinfeld, D.L.\n",
            "\n",
            "This is a copy of UCI ML housing dataset.\n",
            "https://archive.ics.uci.edu/ml/machine-learning-databases/housing/\n",
            "\n",
            "\n",
            "This dataset was taken from the StatLib library which is maintained at Carnegie Mellon University.\n",
            "\n",
            "The Boston house-price data of Harrison, D. and Rubinfeld, D.L. 'Hedonic\n",
            "prices and the demand for clean air', J. Environ. Economics & Management,\n",
            "vol.5, 81-102, 1978.   Used in Belsley, Kuh & Welsch, 'Regression diagnostics\n",
            "...', Wiley, 1980.   N.B. Various transformations are used in the table on\n",
            "pages 244-261 of the latter.\n",
            "\n",
            "The Boston house-price data has been used in many machine learning papers that address regression\n",
            "problems.   \n",
            "     \n",
            ".. topic:: References\n",
            "\n",
            "   - Belsley, Kuh & Welsch, 'Regression diagnostics: Identifying Influential Data and Sources of Collinearity', Wiley, 1980. 244-261.\n",
            "   - Quinlan,R. (1993). Combining Instance-Based and Model-Based Learning. In Proceedings on the Tenth International Conference of Machine Learning, 236-243, University of Massachusetts, Amherst. Morgan Kaufmann.\n",
            "\n"
          ]
        }
      ],
      "source": [
        "print(boston_data.DESCR)"
      ]
    },
    {
      "cell_type": "markdown",
      "metadata": {},
      "source": [
        "Create a pandas DataFrame and display some descriptive statistics."
      ]
    },
    {
      "cell_type": "code",
      "execution_count": 8,
      "metadata": {},
      "outputs": [],
      "source": [
        "boston_pd = pd.DataFrame(boston_data.data)\n",
        "boston_pd.columns = boston_data.feature_names\n",
        "boston_pd['PRICE'] = boston_data.target"
      ]
    },
    {
      "cell_type": "markdown",
      "metadata": {},
      "source": [
        "The describe method generates summary statistics of numerical predictors."
      ]
    },
    {
      "cell_type": "code",
      "execution_count": 9,
      "metadata": {},
      "outputs": [
        {
          "data": {
            "text/html": [
              "<div>\n",
              "<style scoped>\n",
              "    .dataframe tbody tr th:only-of-type {\n",
              "        vertical-align: middle;\n",
              "    }\n",
              "\n",
              "    .dataframe tbody tr th {\n",
              "        vertical-align: top;\n",
              "    }\n",
              "\n",
              "    .dataframe thead th {\n",
              "        text-align: right;\n",
              "    }\n",
              "</style>\n",
              "<table border=\"1\" class=\"dataframe\">\n",
              "  <thead>\n",
              "    <tr style=\"text-align: right;\">\n",
              "      <th></th>\n",
              "      <th>CRIM</th>\n",
              "      <th>ZN</th>\n",
              "      <th>INDUS</th>\n",
              "      <th>CHAS</th>\n",
              "      <th>NOX</th>\n",
              "      <th>RM</th>\n",
              "      <th>AGE</th>\n",
              "      <th>DIS</th>\n",
              "      <th>RAD</th>\n",
              "      <th>TAX</th>\n",
              "      <th>PTRATIO</th>\n",
              "      <th>B</th>\n",
              "      <th>LSTAT</th>\n",
              "      <th>PRICE</th>\n",
              "    </tr>\n",
              "  </thead>\n",
              "  <tbody>\n",
              "    <tr>\n",
              "      <th>count</th>\n",
              "      <td>506.000000</td>\n",
              "      <td>506.000000</td>\n",
              "      <td>506.000000</td>\n",
              "      <td>506.000000</td>\n",
              "      <td>506.000000</td>\n",
              "      <td>506.000000</td>\n",
              "      <td>506.000000</td>\n",
              "      <td>506.000000</td>\n",
              "      <td>506.000000</td>\n",
              "      <td>506.000000</td>\n",
              "      <td>506.000000</td>\n",
              "      <td>506.000000</td>\n",
              "      <td>506.000000</td>\n",
              "      <td>506.000000</td>\n",
              "    </tr>\n",
              "    <tr>\n",
              "      <th>mean</th>\n",
              "      <td>3.613524</td>\n",
              "      <td>11.363636</td>\n",
              "      <td>11.136779</td>\n",
              "      <td>0.069170</td>\n",
              "      <td>0.554695</td>\n",
              "      <td>6.284634</td>\n",
              "      <td>68.574901</td>\n",
              "      <td>3.795043</td>\n",
              "      <td>9.549407</td>\n",
              "      <td>408.237154</td>\n",
              "      <td>18.455534</td>\n",
              "      <td>356.674032</td>\n",
              "      <td>12.653063</td>\n",
              "      <td>22.532806</td>\n",
              "    </tr>\n",
              "    <tr>\n",
              "      <th>std</th>\n",
              "      <td>8.601545</td>\n",
              "      <td>23.322453</td>\n",
              "      <td>6.860353</td>\n",
              "      <td>0.253994</td>\n",
              "      <td>0.115878</td>\n",
              "      <td>0.702617</td>\n",
              "      <td>28.148861</td>\n",
              "      <td>2.105710</td>\n",
              "      <td>8.707259</td>\n",
              "      <td>168.537116</td>\n",
              "      <td>2.164946</td>\n",
              "      <td>91.294864</td>\n",
              "      <td>7.141062</td>\n",
              "      <td>9.197104</td>\n",
              "    </tr>\n",
              "    <tr>\n",
              "      <th>min</th>\n",
              "      <td>0.006320</td>\n",
              "      <td>0.000000</td>\n",
              "      <td>0.460000</td>\n",
              "      <td>0.000000</td>\n",
              "      <td>0.385000</td>\n",
              "      <td>3.561000</td>\n",
              "      <td>2.900000</td>\n",
              "      <td>1.129600</td>\n",
              "      <td>1.000000</td>\n",
              "      <td>187.000000</td>\n",
              "      <td>12.600000</td>\n",
              "      <td>0.320000</td>\n",
              "      <td>1.730000</td>\n",
              "      <td>5.000000</td>\n",
              "    </tr>\n",
              "    <tr>\n",
              "      <th>25%</th>\n",
              "      <td>0.082045</td>\n",
              "      <td>0.000000</td>\n",
              "      <td>5.190000</td>\n",
              "      <td>0.000000</td>\n",
              "      <td>0.449000</td>\n",
              "      <td>5.885500</td>\n",
              "      <td>45.025000</td>\n",
              "      <td>2.100175</td>\n",
              "      <td>4.000000</td>\n",
              "      <td>279.000000</td>\n",
              "      <td>17.400000</td>\n",
              "      <td>375.377500</td>\n",
              "      <td>6.950000</td>\n",
              "      <td>17.025000</td>\n",
              "    </tr>\n",
              "    <tr>\n",
              "      <th>50%</th>\n",
              "      <td>0.256510</td>\n",
              "      <td>0.000000</td>\n",
              "      <td>9.690000</td>\n",
              "      <td>0.000000</td>\n",
              "      <td>0.538000</td>\n",
              "      <td>6.208500</td>\n",
              "      <td>77.500000</td>\n",
              "      <td>3.207450</td>\n",
              "      <td>5.000000</td>\n",
              "      <td>330.000000</td>\n",
              "      <td>19.050000</td>\n",
              "      <td>391.440000</td>\n",
              "      <td>11.360000</td>\n",
              "      <td>21.200000</td>\n",
              "    </tr>\n",
              "    <tr>\n",
              "      <th>75%</th>\n",
              "      <td>3.677083</td>\n",
              "      <td>12.500000</td>\n",
              "      <td>18.100000</td>\n",
              "      <td>0.000000</td>\n",
              "      <td>0.624000</td>\n",
              "      <td>6.623500</td>\n",
              "      <td>94.075000</td>\n",
              "      <td>5.188425</td>\n",
              "      <td>24.000000</td>\n",
              "      <td>666.000000</td>\n",
              "      <td>20.200000</td>\n",
              "      <td>396.225000</td>\n",
              "      <td>16.955000</td>\n",
              "      <td>25.000000</td>\n",
              "    </tr>\n",
              "    <tr>\n",
              "      <th>max</th>\n",
              "      <td>88.976200</td>\n",
              "      <td>100.000000</td>\n",
              "      <td>27.740000</td>\n",
              "      <td>1.000000</td>\n",
              "      <td>0.871000</td>\n",
              "      <td>8.780000</td>\n",
              "      <td>100.000000</td>\n",
              "      <td>12.126500</td>\n",
              "      <td>24.000000</td>\n",
              "      <td>711.000000</td>\n",
              "      <td>22.000000</td>\n",
              "      <td>396.900000</td>\n",
              "      <td>37.970000</td>\n",
              "      <td>50.000000</td>\n",
              "    </tr>\n",
              "  </tbody>\n",
              "</table>\n",
              "</div>"
            ],
            "text/plain": [
              "             CRIM          ZN       INDUS        CHAS         NOX          RM  \\\n",
              "count  506.000000  506.000000  506.000000  506.000000  506.000000  506.000000   \n",
              "mean     3.613524   11.363636   11.136779    0.069170    0.554695    6.284634   \n",
              "std      8.601545   23.322453    6.860353    0.253994    0.115878    0.702617   \n",
              "min      0.006320    0.000000    0.460000    0.000000    0.385000    3.561000   \n",
              "25%      0.082045    0.000000    5.190000    0.000000    0.449000    5.885500   \n",
              "50%      0.256510    0.000000    9.690000    0.000000    0.538000    6.208500   \n",
              "75%      3.677083   12.500000   18.100000    0.000000    0.624000    6.623500   \n",
              "max     88.976200  100.000000   27.740000    1.000000    0.871000    8.780000   \n",
              "\n",
              "              AGE         DIS         RAD         TAX     PTRATIO           B  \\\n",
              "count  506.000000  506.000000  506.000000  506.000000  506.000000  506.000000   \n",
              "mean    68.574901    3.795043    9.549407  408.237154   18.455534  356.674032   \n",
              "std     28.148861    2.105710    8.707259  168.537116    2.164946   91.294864   \n",
              "min      2.900000    1.129600    1.000000  187.000000   12.600000    0.320000   \n",
              "25%     45.025000    2.100175    4.000000  279.000000   17.400000  375.377500   \n",
              "50%     77.500000    3.207450    5.000000  330.000000   19.050000  391.440000   \n",
              "75%     94.075000    5.188425   24.000000  666.000000   20.200000  396.225000   \n",
              "max    100.000000   12.126500   24.000000  711.000000   22.000000  396.900000   \n",
              "\n",
              "            LSTAT       PRICE  \n",
              "count  506.000000  506.000000  \n",
              "mean    12.653063   22.532806  \n",
              "std      7.141062    9.197104  \n",
              "min      1.730000    5.000000  \n",
              "25%      6.950000   17.025000  \n",
              "50%     11.360000   21.200000  \n",
              "75%     16.955000   25.000000  \n",
              "max     37.970000   50.000000  "
            ]
          },
          "execution_count": 9,
          "metadata": {},
          "output_type": "execute_result"
        }
      ],
      "source": [
        "boston_pd.describe()"
      ]
    },
    {
      "cell_type": "markdown",
      "metadata": {},
      "source": [
        "### 2.2 Check the correlations between predictors and the target<a id=\"corr\"></a>"
      ]
    },
    {
      "cell_type": "code",
      "execution_count": 10,
      "metadata": {},
      "outputs": [
        {
          "data": {
            "image/png": "[encoded data removed]",
            "text/plain": [
              "<Figure size 432x288 with 2 Axes>"
            ]
          },
          "metadata": {
            "needs_background": "light"
          },
          "output_type": "display_data"
        }
      ],
      "source": [
        "import seaborn as sns\n",
        "%matplotlib inline\n",
        "\n",
        "corr_coeffs = boston_pd.corr()\n",
        "sns.heatmap(corr_coeffs, xticklabels=corr_coeffs.columns, yticklabels=corr_coeffs.columns);"
      ]
    },
    {
      "cell_type": "markdown",
      "metadata": {},
      "source": [
        "<a id=\"model\"></a>\n",
        "## 3. Build a scikit-learn linear regression model\n",
        "\n",
        "In this section, you will learn how to:\n",
        "- [3.1 Split data](#prep)\n",
        "- [3.2 Create a scikit-learn pipeline](#pipe)\n",
        "- [3.3 Train the model](#train)"
      ]
    },
    {
      "cell_type": "markdown",
      "metadata": {},
      "source": [
        "### 3.1 Split data<a id=\"prep\"></a>\n",
        "\n",
        "In this subsection, you will split the data set into: \n",
        "- Train data set\n",
        "- Test data set"
      ]
    },
    {
      "cell_type": "code",
      "execution_count": 12,
      "metadata": {},
      "outputs": [
        {
          "name": "stdout",
          "output_type": "stream",
          "text": [
            "Number of training records: 339\n",
            "Number of test records: 167\n"
          ]
        }
      ],
      "source": [
        "from sklearn.model_selection import train_test_split\n",
        "\n",
        "X = boston_pd.drop('PRICE', axis = 1)\n",
        "y = boston_pd['PRICE']\n",
        "X_train, X_test, y_train, y_test = train_test_split(X, y, test_size = 0.33, random_state = 5)\n",
        "\n",
        "print('Number of training records: ' + str(X_train.shape[0]))\n",
        "print('Number of test records: ' + str(X_test.shape[0]))"
      ]
    },
    {
      "cell_type": "markdown",
      "metadata": {},
      "source": [
        "Your data has been successfully split into two data sets: \n",
        "\n",
        "-  The train data set, which is the largest group, is used for training.\n",
        "-  The test data set will be used for model evaluation and is used to test the model."
      ]
    },
    {
      "cell_type": "markdown",
      "metadata": {},
      "source": [
        "### 3.2 Create a scikit-learn pipeline<a id=\"pipe\"></a>"
      ]
    },
    {
      "cell_type": "markdown",
      "metadata": {},
      "source": [
        "In this subsection, you will create a scikit-learn pipeline."
      ]
    },
    {
      "cell_type": "markdown",
      "metadata": {},
      "source": [
        "First, import the scikit-learn machine learning packages that are needed in the subsequent steps."
      ]
    },
    {
      "cell_type": "code",
      "execution_count": 13,
      "metadata": {},
      "outputs": [],
      "source": [
        "from sklearn.pipeline import Pipeline\n",
        "from sklearn import preprocessing\n",
        "from sklearn.linear_model import LinearRegression\n",
        "from sklearn.metrics import mean_squared_error"
      ]
    },
    {
      "cell_type": "markdown",
      "metadata": {},
      "source": [
        "Standardize the features by removing the mean and by scaling to unit variance."
      ]
    },
    {
      "cell_type": "code",
      "execution_count": 14,
      "metadata": {},
      "outputs": [],
      "source": [
        "scaler = preprocessing.StandardScaler()"
      ]
    },
    {
      "cell_type": "markdown",
      "metadata": {},
      "source": [
        "Next, define the regressor you want to use. This notebook uses the Linear Regression model."
      ]
    },
    {
      "cell_type": "code",
      "execution_count": 15,
      "metadata": {},
      "outputs": [],
      "source": [
        "lr = LinearRegression()"
      ]
    },
    {
      "cell_type": "markdown",
      "metadata": {},
      "source": [
        "Build the pipeline. A pipeline consists of a transformer (Standard Scaler) and an estimator (Linear Regression model)."
      ]
    },
    {
      "cell_type": "code",
      "execution_count": 16,
      "metadata": {},
      "outputs": [],
      "source": [
        "pipeline = Pipeline([('scaler', scaler), ('lr', lr)])"
      ]
    },
    {
      "cell_type": "markdown",
      "metadata": {},
      "source": [
        "### 3.3 Train the model<a id=\"train\"></a>"
      ]
    },
    {
      "cell_type": "markdown",
      "metadata": {},
      "source": [
        "Now, you can use the **pipeline** and **train data** you defined previously to train your SVM model."
      ]
    },
    {
      "cell_type": "code",
      "execution_count": 17,
      "metadata": {},
      "outputs": [],
      "source": [
        "model = pipeline.fit(X_train, y_train)"
      ]
    },
    {
      "cell_type": "markdown",
      "metadata": {},
      "source": [
        "Check the model quality."
      ]
    },
    {
      "cell_type": "code",
      "execution_count": 18,
      "metadata": {},
      "outputs": [
        {
          "name": "stdout",
          "output_type": "stream",
          "text": [
            "MSE: 28.530458765974625\n"
          ]
        }
      ],
      "source": [
        "y_pred = model.predict(X_test)\n",
        "mse = sklearn.metrics.mean_squared_error(y_test, y_pred)\n",
        "\n",
        "print('MSE: ' + str(mse))"
      ]
    },
    {
      "cell_type": "markdown",
      "metadata": {},
      "source": [
        "Plot the scatter plot of prices vs. predicted prices."
      ]
    },
    {
      "cell_type": "code",
      "execution_count": 19,
      "metadata": {},
      "outputs": [
        {
          "data": {
            "image/png": "[encoded data removed]",
            "text/plain": [
              "<Figure size 432x288 with 1 Axes>"
            ]
          },
          "metadata": {},
          "output_type": "display_data"
        }
      ],
      "source": [
        "import matplotlib.pyplot as plt\n",
        "\n",
        "plt.style.use('ggplot')\n",
        "plt.title('Predicted prices vs prices')\n",
        "plt.ylabel('Prices')\n",
        "plt.xlabel('Predicted prices')\n",
        "plot = plt.scatter(y_pred, y_test)"
      ]
    },
    {
      "cell_type": "markdown",
      "metadata": {},
      "source": [
        "**Note:** You can tune your model to achieve better accuracy. To keep this example simple, the tuning section is omitted."
      ]
    },
    {
      "cell_type": "markdown",
      "metadata": {},
      "source": [
        "<a id=\"upload\"></a>\n",
        "## 4. Save the model in the WML repository"
      ]
    },
    {
      "cell_type": "markdown",
      "metadata": {},
      "source": [
        "In this section, you will learn how to use the common Python client to manage your model in the WML repository."
      ]
    },
    {
      "cell_type": "code",
      "execution_count": 20,
      "metadata": {},
      "outputs": [],
      "source": [
        "sofware_spec_uid = client.software_specifications.get_id_by_name(\"default_py3.7\")\n",
        "\n",
        "metadata = {\n",
        "            client.repository.ModelMetaNames.NAME: 'Boston house price',\n",
        "            client.repository.ModelMetaNames.TYPE: 'scikit-learn_0.23',\n",
        "            client.repository.ModelMetaNames.SOFTWARE_SPEC_UID: sofware_spec_uid\n",
        "}\n",
        "\n",
        "published_model = client.repository.store_model(\n",
        "    model=model,\n",
        "    meta_props=metadata,\n",
        "    training_data=X_train, training_target=y_train)\n"
      ]
    },
    {
      "cell_type": "code",
      "execution_count": 21,
      "metadata": {},
      "outputs": [],
      "source": [
        "model_uid = client.repository.get_model_uid(published_model)"
      ]
    },
    {
      "cell_type": "markdown",
      "metadata": {},
      "source": [
        "#### Get information about all of the models in the WML repository."
      ]
    },
    {
      "cell_type": "code",
      "execution_count": null,
      "metadata": {},
      "outputs": [],
      "source": [
        "models_details = client.repository.list_models()"
      ]
    },
    {
      "cell_type": "markdown",
      "metadata": {},
      "source": [
        "<a id=\"deploy\"></a>\n",
        "## 5. Deploy the model via Core ML"
      ]
    },
    {
      "cell_type": "markdown",
      "metadata": {},
      "source": [
        "In this section, you will learn how to use the WML client to create a **virtual** deployment via the `Core ML`. You will also learn how to use `download_url` to download a Core ML model for your <a href=\"https://developer.apple.com/xcode/\" target=\"_blank\" rel=\"noopener no referrer\">Xcode</a> project.\n",
        "\n",
        "- [5.1 Create a virtual deployment for the model](#create)\n",
        "- [5.2 Download the Core ML file from the deployment](#getdeploy)\n",
        "- [5.3 Test the CoreML model](#testcoreML)"
      ]
    },
    {
      "cell_type": "markdown",
      "metadata": {},
      "source": [
        "### 5.1 Create a virtual deployment for the model<a id=\"create\"></a>"
      ]
    },
    {
      "cell_type": "code",
      "execution_count": 22,
      "metadata": {},
      "outputs": [
        {
          "name": "stdout",
          "output_type": "stream",
          "text": [
            "\n",
            "\n",
            "#######################################################################################\n",
            "\n",
            "Synchronous deployment creation for uid: '9b319604-4b55-4a86-8728-51572eeeb761' started\n",
            "\n",
            "#######################################################################################\n",
            "\n",
            "\n",
            "initializing.........................\n",
            "ready\n",
            "\n",
            "\n",
            "------------------------------------------------------------------------------------------------\n",
            "Successfully finished deployment creation, deployment_uid='29ebee31-849b-4ef1-b201-259dbddeb158'\n",
            "------------------------------------------------------------------------------------------------\n",
            "\n",
            "\n"
          ]
        }
      ],
      "source": [
        "metadata = {\n",
        "    client.deployments.ConfigurationMetaNames.NAME: \"Virtual deployment of Boston model\",\n",
        "    client.deployments.ConfigurationMetaNames.VIRTUAL: {\"export_format\": \"coreml\"}\n",
        "}\n",
        "\n",
        "created_deployment = client.deployments.create(model_uid, meta_props=metadata)"
      ]
    },
    {
      "cell_type": "markdown",
      "metadata": {},
      "source": [
        "Now, you can define and print the download endpoint. You can use this endpoint to download the Core ML model."
      ]
    },
    {
      "cell_type": "markdown",
      "metadata": {},
      "source": [
        "### 5.2 Download the `Core ML` file from the deployment<a id=\"getdeploy\"></a>"
      ]
    },
    {
      "cell_type": "code",
      "execution_count": null,
      "metadata": {},
      "outputs": [],
      "source": [
        "client.deployments.list()"
      ]
    },
    {
      "cell_type": "markdown",
      "metadata": {},
      "source": [
        "<a id=\"score\"></a>\n",
        "#### Download the virtual deployment content: Core ML model."
      ]
    },
    {
      "cell_type": "code",
      "execution_count": 23,
      "metadata": {
        "scrolled": true
      },
      "outputs": [
        {
          "name": "stdout",
          "output_type": "stream",
          "text": [
            "\n",
            "\n",
            "----------------------------------------------------------\n",
            "Successfully downloaded deployment file: mlartifact.tar.gz\n",
            "----------------------------------------------------------\n",
            "\n",
            "\n"
          ]
        }
      ],
      "source": [
        "deployment_uid = client.deployments.get_uid(created_deployment)\n",
        "\n",
        "deployment_content = client.deployments.download(deployment_uid)"
      ]
    },
    {
      "cell_type": "markdown",
      "metadata": {},
      "source": [
        "Use the code in the cell below to create the download link."
      ]
    },
    {
      "cell_type": "code",
      "execution_count": 24,
      "metadata": {},
      "outputs": [
        {
          "data": {
            "text/html": [
              "<a download=\"mlartifact.tar.gz\" href=\"data:binary;base64,H4sICPtmz18C/21vZGVsLnRhcgDLzU9JzdHLzckF0Qy0AQZAYGZiwtAAZFvPX/8cyDU0NzUEi4PYhuYmDIbG5mbGZmbGxubGDAaGZobGxgwKBgx0AKXFJYlFCgoM5bk5aaXFqUW41BGSh3oGTg8RwMEolMAlxMWamVdQWiLFqcXOxcgrcKCBJUiAi6ugKDUlM7kkMz9PikmIIQqJv4hNm4tXPSW1OLkoswAkoL6ITZJLKDm/KDU3pyQ/P6c4LLWoGCguxGysZ3KKZwoL10QWrg1MQNtCsNomzyUUH5+WmlhSWpQaX5aaXJJfFB+PpGARmww+Gx6pXmHkyjDaM/fjG1GeA7yl6WcDytUOXPTeJr73ieoBoYrfio3b1+8/lFizumPtw/27vp2wZNWUPBC2xz7t6O2AA1sVDpTwR/AdeHCi6EevjvKB33+yV5/3rzyg6xt//VKJ0YECD7YJCmVlB+JfKR8s4tY8IJSRtdrt+83mffbsDA1xhc+W2cc5z+4RNjhsf7Pw04XX0wUcJO+uvi2WreggcWqW9pSP3+w/3PnIZ626yJ69ffJCw+n37VlVM3svpe2155mU8jMkusL+oH651q8Vd+3j+m1/uIW22z84cMuCTeWQPddtRmCQxXERCh5CsYU/8ITKuLK4MiKfBi1Z9ffL/hqRhUwNU17b/7ryN3Ny2tH9qnVnNKRdTtjPf9ZnzXfy+34HZV2fuSFsDrMWu5/d9/nK/pXKemeUddkOJC9e+lnvHLtD0q3VcrP0mA683+gh/EGQ8UDbax7LkPcf7CMS36T9Wct1QIjDfsaHm82dZg4Mo2AUjIJRMApGwSgYBaNgFIyCUTAKRsEoGAWjYBSMglEwCkbBKBgFo2AUjIJRMApGwSgYBaNgFIwCigAAV6VXdwAoAAA=\" target=\"_blank\">Download file.</a>"
            ],
            "text/plain": [
              "<IPython.core.display.HTML object>"
            ]
          },
          "execution_count": 24,
          "metadata": {},
          "output_type": "execute_result"
        }
      ],
      "source": [
        "from ibm_watson_machine_learning.utils import create_download_link\n",
        "\n",
        "create_download_link(deployment_content)"
      ]
    },
    {
      "cell_type": "markdown",
      "metadata": {},
      "source": [
        "**Note:** You can use <a href=\"https://developer.apple.com/xcode/\" target=\"_blank\" rel=\"noopener no referrer\">Xcode</a> to preview the model's metadata (after unzipping). "
      ]
    },
    {
      "cell_type": "markdown",
      "metadata": {},
      "source": [
        "### 5.3 Test the `Core ML` model<a id=\"testcoreML\"></a>"
      ]
    },
    {
      "cell_type": "markdown",
      "metadata": {},
      "source": [
        "Use the following steps to run a test against the downloaded Core ML model."
      ]
    },
    {
      "cell_type": "code",
      "execution_count": null,
      "metadata": {
        "scrolled": true
      },
      "outputs": [],
      "source": [
        "!pip install --upgrade coremltools"
      ]
    },
    {
      "cell_type": "markdown",
      "metadata": {},
      "source": [
        "Use the ``coremltools`` to load the model and check some basic metadata."
      ]
    },
    {
      "cell_type": "markdown",
      "metadata": {},
      "source": [
        "First, extract the model."
      ]
    },
    {
      "cell_type": "code",
      "execution_count": 25,
      "metadata": {},
      "outputs": [],
      "source": [
        "from ibm_watson_machine_learning.utils import extract_mlmodel_from_archive\n",
        "\n",
        "extracted_model_path = extract_mlmodel_from_archive('mlartifact.tar.gz', model_uid)"
      ]
    },
    {
      "cell_type": "markdown",
      "metadata": {},
      "source": [
        "Load the model and check the description."
      ]
    },
    {
      "cell_type": "code",
      "execution_count": 26,
      "metadata": {},
      "outputs": [
        {
          "name": "stdout",
          "output_type": "stream",
          "text": [
            "specificationVersion: 1\n",
            "description {\n",
            "  input {\n",
            "    name: \"input\"\n",
            "    type {\n",
            "      multiArrayType {\n",
            "        shape: 13\n",
            "        dataType: DOUBLE\n",
            "      }\n",
            "    }\n",
            "  }\n",
            "  output {\n",
            "    name: \"prediction\"\n",
            "    type {\n",
            "      doubleType {\n",
            "      }\n",
            "    }\n",
            "  }\n",
            "  predictedFeatureName: \"prediction\"\n",
            "  metadata {\n",
            "    shortDescription: \"\\'description\\'\"\n",
            "    userDefined {\n",
            "      key: \"coremltoolsVersion\"\n",
            "      value: \"3.4\"\n",
            "    }\n",
            "  }\n",
            "}\n",
            "pipelineRegressor {\n",
            "  pipeline {\n",
            "    models {\n",
            "      specificationVersion: 1\n",
            "      description {\n",
            "        input {\n",
            "          name: \"input\"\n",
            "          type {\n",
            "            multiArrayType {\n",
            "              shape: 13\n",
            "              dataType: DOUBLE\n",
            "            }\n",
            "          }\n",
            "        }\n",
            "        output {\n",
            "          name: \"__feature_vector__\"\n",
            "          type {\n",
            "            multiArrayType {\n",
            "              shape: 13\n",
            "              dataType: DOUBLE\n",
            "            }\n",
            "          }\n",
            "        }\n",
            "        metadata {\n",
            "          userDefined {\n",
            "            key: \"coremltoolsVersion\"\n",
            "            value: \"3.4\"\n",
            "          }\n",
            "        }\n",
            "      }\n",
            "      scaler {\n",
            "        shiftValue: -3.5107058407079643\n",
            "        shiftValue: -11.233038348082596\n",
            "        shiftValue: -10.946755162241887\n",
            "        shiftValue: -0.061946902654867256\n",
            "        shiftValue: -0.5524333333333333\n",
            "        shiftValue: -6.2900589970501475\n",
            "        shiftValue: -67.4339233038348\n",
            "        shiftValue: -3.7929982300884952\n",
            "        shiftValue: -9.587020648967552\n",
            "        shiftValue: -404.9882005899705\n",
            "        shiftValue: -18.456342182890854\n",
            "        shiftValue: -359.3829498525074\n",
            "        shiftValue: -12.5223598820059\n",
            "        scaleValue: 0.11919939314854636\n",
            "        scaleValue: 0.04472688940586527\n",
            "        scaleValue: 0.14990467420150372\n",
            "        scaleValue: 4.14836050491109\n",
            "        scaleValue: 8.709158768395854\n",
            "        scaleValue: 1.4339791968637936\n",
            "        scaleValue: 0.035440297674478205\n",
            "        scaleValue: 0.49360314158376223\n",
            "        scaleValue: 0.11485019638452705\n",
            "        scaleValue: 0.005946475916321702\n",
            "        scaleValue: 0.4634385504439216\n",
            "        scaleValue: 0.011393122149179365\n",
            "        scaleValue: 0.14172437454317954\n",
            "      }\n",
            "    }\n",
            "    models {\n",
            "      specificationVersion: 1\n",
            "      description {\n",
            "        input {\n",
            "          name: \"__feature_vector__\"\n",
            "          type {\n",
            "            multiArrayType {\n",
            "              shape: 13\n",
            "              dataType: DOUBLE\n",
            "            }\n",
            "          }\n",
            "        }\n",
            "        output {\n",
            "          name: \"prediction\"\n",
            "          type {\n",
            "            doubleType {\n",
            "            }\n",
            "          }\n",
            "        }\n",
            "        predictedFeatureName: \"prediction\"\n",
            "        metadata {\n",
            "          userDefined {\n",
            "            key: \"coremltoolsVersion\"\n",
            "            value: \"3.4\"\n",
            "          }\n",
            "        }\n",
            "      }\n",
            "      glmRegressor {\n",
            "        weights {\n",
            "          value: -1.311930314912692\n",
            "          value: 0.8618774463035517\n",
            "          value: -0.16719286609046674\n",
            "          value: 0.1895784329617395\n",
            "          value: -1.4865858389370386\n",
            "          value: 2.7913156462931568\n",
            "          value: -0.3273770336805285\n",
            "          value: -2.7720409347134205\n",
            "          value: 2.9756754908489014\n",
            "          value: -2.2727548977084533\n",
            "          value: -2.133758688598611\n",
            "          value: 1.058429930547136\n",
            "          value: -3.3349540749442603\n",
            "        }\n",
            "        offset: 22.537168141592925\n",
            "      }\n",
            "    }\n",
            "  }\n",
            "}\n",
            "\n"
          ]
        }
      ],
      "source": [
        "import coremltools\n",
        "\n",
        "loaded_model = coremltools.models.MLModel(extracted_model_path)\n",
        "print(loaded_model.get_spec())"
      ]
    },
    {
      "cell_type": "markdown",
      "metadata": {},
      "source": [
        "The model looks good and can be used on your iPhone now."
      ]
    },
    {
      "cell_type": "markdown",
      "metadata": {},
      "source": [
        "<a id=\"cleanup\"></a>\n",
        "## 6. Clean up "
      ]
    },
    {
      "cell_type": "markdown",
      "metadata": {},
      "source": [
        "If you want to clean up all created assets:\n",
        "- experiments\n",
        "- trainings\n",
        "- pipelines\n",
        "- model definitions\n",
        "- models\n",
        "- functions\n",
        "- deployments\n",
        "\n",
        "please follow up this sample [notebook](https://github.com/IBM/watson-machine-learning-samples/blob/master/cpd3.5/notebooks/python_sdk/instance-management/Machine%20Learning%20artifacts%20management.ipynb)."
      ]
    },
    {
      "cell_type": "markdown",
      "metadata": {},
      "source": [
        "<a id=\"summary\"></a>\n",
        "## 7. Summary and next steps     "
      ]
    },
    {
      "cell_type": "markdown",
      "metadata": {},
      "source": [
        "You successfully completed this notebook! \n",
        " \n",
        "You learned how to use scikit-learn to create a Core ML model.\n",
        "\n",
        "If you are interested in sample swift application (for iOS), please visit <a href=\"https://github.com/IBM/watson-machine-learning-samples/tree/master/cloud/applications/go-digits\" target=\"_blank\" rel=\"noopener no referrer\">here</a>. \n",
        "\n",
        "Check out our <a href=\"https://dataplatform.cloud.ibm.com/docs/content/analyze-data/wml-setup.html\" target=\"_blank\" rel=\"noopener noreferrer\">Online Documentation</a> for more samples, tutorials, documentation, how-tos, and blog posts. "
      ]
    },
    {
      "cell_type": "markdown",
      "metadata": {},
      "source": [
        "### Author\n",
        "\n",
        "**Lukasz Cmielowski**, Ph.D., is a Lead Data Scientist at IBM developing enterprise-level applications that substantially increases clients' ability to turn data into actionable knowledge.  \n",
        "**Jihyoung Kim**, Ph.D., is a Data Scientist at IBM who strives to make data science easy for everyone through Watson Studio."
      ]
    },
    {
      "cell_type": "markdown",
      "metadata": {},
      "source": [
        "Copyright © 2020-2025 IBM. This notebook and its source code are released under the terms of the MIT License."
      ]
    }
  ],
  "metadata": {
    "kernelspec": {
      "display_name": "Python 3",
      "language": "python",
      "name": "python3"
    },
    "language_info": {
      "codemirror_mode": {
        "name": "ipython",
        "version": 3
      },
      "file_extension": ".py",
      "mimetype": "text/x-python",
      "name": "python",
      "nbconvert_exporter": "python",
      "pygments_lexer": "ipython3",
      "version": "3.7.9"
    },
    "pycharm": {
      "stem_cell": {
        "cell_type": "raw",
        "source": [
          "#o%% md\n",
          "\n",
          "# Use Core ML to predict Boston house prices with `ibm-watson-machine-learning`\n"
        ],
        "metadata": {
          "collapsed": false
        }
      }
    }
  },
  "nbformat": 4,
  "nbformat_minor": 4
}
