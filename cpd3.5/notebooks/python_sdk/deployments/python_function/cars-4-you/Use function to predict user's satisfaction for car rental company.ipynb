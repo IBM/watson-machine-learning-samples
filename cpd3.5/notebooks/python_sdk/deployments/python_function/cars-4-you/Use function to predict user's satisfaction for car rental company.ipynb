{
  "cells": [
    {
      "cell_type": "markdown",
      "metadata": {},
      "source": [
        "# Use Python function to predict user's satisfaction for car rental company with `ibm-watson-machine-learning`"
      ]
    },
    {
      "cell_type": "markdown",
      "metadata": {},
      "source": [
        "This notebook trains a **Keras** (TensorFlow) model to predict customer satisfaction based on the feedback that has been provided. The notebook also demonstrates how you can use the **python function** for the deep learning model data preprocessing required before you start model scoring.\n",
        "\n",
        "Some familiarity with Python is helpful. This notebook uses Python 3.7 and the watson-machine-learning-client package.\n"
      ]
    },
    {
      "cell_type": "markdown",
      "metadata": {},
      "source": [
        "Contents:\n",
        "1. [Setup](#setup)\n",
        "2. [Load and explore data](#load)\n",
        "3. [Create Keras model using TensorFlow backend](#model)\n",
        "4. [Store the model in the repository](#upload)\n",
        "5. [Deploy the model](#deployment)\n",
        "6. [Score the model](#score)\n",
        "7. [Define, store and deploy Python function](#ai_function)\n",
        "8. [Clean up](#cleanup)\n",
        "9. [Summary and next steps](#summary)"
      ]
    },
    {
      "cell_type": "markdown",
      "metadata": {},
      "source": [
        "<a id=\"setup\"></a>\n",
        "## 1. Set up the environment\n",
        "\n",
        "Before you use the sample code in this notebook, you must perform the following setup tasks:\n",
        "\n",
        "-  Contact with your Cloud Pack for Data administrator and ask him for your account credentials"
      ]
    },
    {
      "cell_type": "markdown",
      "metadata": {},
      "source": [
        "### Connection to WML\n",
        "\n",
        "Authenticate the Watson Machine Learning service on IBM Cloud Pack for Data. You need to provide platform `url`, your `username` and `password`."
      ]
    },
    {
      "cell_type": "code",
      "execution_count": null,
      "metadata": {},
      "outputs": [],
      "source": [
        "username = 'PASTE YOUR USERNAME HERE'\n",
        "password = 'PASTE YOUR PASSWORD HERE'\n",
        "url = 'PASTE THE PLATFORM URL HERE'"
      ]
    },
    {
      "cell_type": "code",
      "execution_count": 2,
      "metadata": {},
      "outputs": [],
      "source": [
        "wml_credentials = {\n",
        "    \"username\": username,\n",
        "    \"password\": password,\n",
        "    \"url\": url,\n",
        "    \"instance_id\": 'openshift',\n",
        "    \"version\": '3.5'\n",
        "}"
      ]
    },
    {
      "cell_type": "markdown",
      "metadata": {},
      "source": [
        "### Install and import the `ibm-watson-machine-learning` package\n",
        "**Note:** `ibm-watson-machine-learning` documentation can be found <a href=\"http://ibm-wml-api-pyclient.mybluemix.net/\" target=\"_blank\" rel=\"noopener no referrer\">here</a>."
      ]
    },
    {
      "cell_type": "code",
      "execution_count": null,
      "metadata": {},
      "outputs": [],
      "source": [
        "!pip install -U ibm-watson-machine-learning"
      ]
    },
    {
      "cell_type": "code",
      "execution_count": 3,
      "metadata": {},
      "outputs": [],
      "source": [
        "from ibm_watson_machine_learning import APIClient\n",
        "\n",
        "client = APIClient(wml_credentials)"
      ]
    },
    {
      "cell_type": "markdown",
      "metadata": {},
      "source": [
        "### Working with spaces\n",
        "\n",
        "First of all, you need to create a space that will be used for your work. If you do not have space already created, you can use `{PLATFORM_URL}/ml-runtime/spaces?context=icp4data` to create one.\n",
        "\n",
        "- Click New Deployment Space\n",
        "- Create an empty space\n",
        "- Go to space `Settings` tab\n",
        "- Copy `space_id` and paste it below\n",
        "\n",
        "**Tip**: You can also use SDK to prepare the space for your work. More information can be found [here](https://github.com/IBM/watson-machine-learning-samples/blob/master/cpd3.5/notebooks/python_sdk/instance-management/Space%20management.ipynb).\n",
        "\n",
        "**Action**: Assign space ID below"
      ]
    },
    {
      "cell_type": "code",
      "execution_count": null,
      "metadata": {},
      "outputs": [],
      "source": [
        "space_id = 'PASTE YOUR SPACE ID HERE'"
      ]
    },
    {
      "cell_type": "markdown",
      "metadata": {},
      "source": [
        "You can use `list` method to print all existing spaces."
      ]
    },
    {
      "cell_type": "code",
      "execution_count": null,
      "metadata": {},
      "outputs": [],
      "source": [
        "client.spaces.list(limit=10)"
      ]
    },
    {
      "cell_type": "markdown",
      "metadata": {},
      "source": [
        "To be able to interact with all resources available in Watson Machine Learning, you need to set **space** which you will be using."
      ]
    },
    {
      "cell_type": "code",
      "execution_count": 4,
      "metadata": {},
      "outputs": [
        {
          "data": {
            "text/plain": [
              "'SUCCESS'"
            ]
          },
          "execution_count": 4,
          "metadata": {},
          "output_type": "execute_result"
        }
      ],
      "source": [
        "client.set.default_space(space_id)"
      ]
    },
    {
      "cell_type": "markdown",
      "metadata": {},
      "source": [
        "### Install TensorFlow\n"
      ]
    },
    {
      "cell_type": "code",
      "execution_count": null,
      "metadata": {},
      "outputs": [],
      "source": [
        "!pip install --upgrade tensorflow==2.1 | tail -n 1"
      ]
    },
    {
      "cell_type": "markdown",
      "metadata": {},
      "source": [
        "**Tip:** Restart the kernel (**Kernel** -> **Restart**)"
      ]
    },
    {
      "cell_type": "markdown",
      "metadata": {
        "pycharm": {
          "name": "#%% md\n"
        }
      },
      "source": [
        "<a id=\"load\"></a>\n",
        "## 2. Load and explore data\n",
        "\n",
        "In this section you read in the `car_rental_training_data.csv` file, load it as a pandas dataFrame and then perform a basic exploration. \n"
      ]
    },
    {
      "cell_type": "code",
      "execution_count": null,
      "metadata": {
        "pycharm": {
          "name": "#%%\n"
        }
      },
      "outputs": [],
      "source": [
        "!pip install wget  | tail -n 1"
      ]
    },
    {
      "cell_type": "code",
      "execution_count": 5,
      "metadata": {},
      "outputs": [
        {
          "data": {
            "text/plain": [
              "'car_rental_training_data.csv'"
            ]
          },
          "execution_count": 5,
          "metadata": {},
          "output_type": "execute_result"
        }
      ],
      "source": [
        "import wget\n",
        "\n",
        "link_to_data = 'https://github.com/IBM/watson-machine-learning-samples/raw/master/cpd3.5/data/cars-4-you/car_rental_training_data.csv'\n",
        "filename = wget.download(link_to_data)\n",
        "\n",
        "filename"
      ]
    },
    {
      "cell_type": "markdown",
      "metadata": {},
      "source": [
        "Load the data as a pandas dataFrame.\n"
      ]
    },
    {
      "cell_type": "code",
      "execution_count": 6,
      "metadata": {
        "pycharm": {
          "name": "#%%\n"
        }
      },
      "outputs": [
        {
          "data": {
            "text/html": [
              "<div>\n",
              "<style scoped>\n",
              "    .dataframe tbody tr th:only-of-type {\n",
              "        vertical-align: middle;\n",
              "    }\n",
              "\n",
              "    .dataframe tbody tr th {\n",
              "        vertical-align: top;\n",
              "    }\n",
              "\n",
              "    .dataframe thead th {\n",
              "        text-align: right;\n",
              "    }\n",
              "</style>\n",
              "<table border=\"1\" class=\"dataframe\">\n",
              "  <thead>\n",
              "    <tr style=\"text-align: right;\">\n",
              "      <th></th>\n",
              "      <th>ID</th>\n",
              "      <th>Gender</th>\n",
              "      <th>Status</th>\n",
              "      <th>Children</th>\n",
              "      <th>Age</th>\n",
              "      <th>Customer_Status</th>\n",
              "      <th>Car_Owner</th>\n",
              "      <th>Customer_Service</th>\n",
              "      <th>Satisfaction</th>\n",
              "      <th>Business_Area</th>\n",
              "      <th>Action</th>\n",
              "    </tr>\n",
              "  </thead>\n",
              "  <tbody>\n",
              "    <tr>\n",
              "      <th>0</th>\n",
              "      <td>83</td>\n",
              "      <td>Female</td>\n",
              "      <td>M</td>\n",
              "      <td>2</td>\n",
              "      <td>48.85</td>\n",
              "      <td>Inactive</td>\n",
              "      <td>Yes</td>\n",
              "      <td>I thought the representative handled the initi...</td>\n",
              "      <td>0</td>\n",
              "      <td>Product: Availability/Variety/Size</td>\n",
              "      <td>Free Upgrade</td>\n",
              "    </tr>\n",
              "    <tr>\n",
              "      <th>1</th>\n",
              "      <td>1307</td>\n",
              "      <td>Female</td>\n",
              "      <td>M</td>\n",
              "      <td>0</td>\n",
              "      <td>55.00</td>\n",
              "      <td>Inactive</td>\n",
              "      <td>No</td>\n",
              "      <td>I have had a few recent rentals that have take...</td>\n",
              "      <td>0</td>\n",
              "      <td>Product: Availability/Variety/Size</td>\n",
              "      <td>Voucher</td>\n",
              "    </tr>\n",
              "    <tr>\n",
              "      <th>2</th>\n",
              "      <td>1737</td>\n",
              "      <td>Male</td>\n",
              "      <td>M</td>\n",
              "      <td>0</td>\n",
              "      <td>42.35</td>\n",
              "      <td>Inactive</td>\n",
              "      <td>Yes</td>\n",
              "      <td>car cost more because I didn't pay when I rese...</td>\n",
              "      <td>0</td>\n",
              "      <td>Product: Availability/Variety/Size</td>\n",
              "      <td>Free Upgrade</td>\n",
              "    </tr>\n",
              "    <tr>\n",
              "      <th>3</th>\n",
              "      <td>3721</td>\n",
              "      <td>Male</td>\n",
              "      <td>M</td>\n",
              "      <td>2</td>\n",
              "      <td>61.71</td>\n",
              "      <td>Inactive</td>\n",
              "      <td>Yes</td>\n",
              "      <td>I didn't get the car I was told would be avail...</td>\n",
              "      <td>0</td>\n",
              "      <td>Product: Availability/Variety/Size</td>\n",
              "      <td>Free Upgrade</td>\n",
              "    </tr>\n",
              "    <tr>\n",
              "      <th>4</th>\n",
              "      <td>11</td>\n",
              "      <td>Male</td>\n",
              "      <td>S</td>\n",
              "      <td>2</td>\n",
              "      <td>56.47</td>\n",
              "      <td>Active</td>\n",
              "      <td>No</td>\n",
              "      <td>If there was not a desired vehicle available t...</td>\n",
              "      <td>1</td>\n",
              "      <td>Product: Availability/Variety/Size</td>\n",
              "      <td>NaN</td>\n",
              "    </tr>\n",
              "  </tbody>\n",
              "</table>\n",
              "</div>"
            ],
            "text/plain": [
              "     ID  Gender Status  Children    Age Customer_Status Car_Owner  \\\n",
              "0    83  Female      M         2  48.85        Inactive       Yes   \n",
              "1  1307  Female      M         0  55.00        Inactive        No   \n",
              "2  1737    Male      M         0  42.35        Inactive       Yes   \n",
              "3  3721    Male      M         2  61.71        Inactive       Yes   \n",
              "4    11    Male      S         2  56.47          Active        No   \n",
              "\n",
              "                                    Customer_Service  Satisfaction  \\\n",
              "0  I thought the representative handled the initi...             0   \n",
              "1  I have had a few recent rentals that have take...             0   \n",
              "2  car cost more because I didn't pay when I rese...             0   \n",
              "3  I didn't get the car I was told would be avail...             0   \n",
              "4  If there was not a desired vehicle available t...             1   \n",
              "\n",
              "                        Business_Area        Action  \n",
              "0  Product: Availability/Variety/Size  Free Upgrade  \n",
              "1  Product: Availability/Variety/Size       Voucher  \n",
              "2  Product: Availability/Variety/Size  Free Upgrade  \n",
              "3  Product: Availability/Variety/Size  Free Upgrade  \n",
              "4  Product: Availability/Variety/Size           NaN  "
            ]
          },
          "execution_count": 6,
          "metadata": {},
          "output_type": "execute_result"
        }
      ],
      "source": [
        "import pandas as pd\n",
        "\n",
        "data = pd.read_csv(filename, sep=';') \n",
        "data.head()\n"
      ]
    },
    {
      "cell_type": "markdown",
      "metadata": {
        "pycharm": {
          "name": "#%% md\n"
        }
      },
      "source": [
        "\n",
        "\n",
        "**Note:** 0 - not satisfied, 1 - satisfied\n"
      ]
    },
    {
      "cell_type": "markdown",
      "metadata": {
        "pycharm": {
          "name": "#%% md\n"
        }
      },
      "source": [
        "Extract the required columns and count the number of records.\n"
      ]
    },
    {
      "cell_type": "code",
      "execution_count": 7,
      "metadata": {
        "pycharm": {
          "name": "#%%\n"
        }
      },
      "outputs": [],
      "source": [
        "complain_data = data[['Customer_Service', 'Satisfaction']]"
      ]
    },
    {
      "cell_type": "code",
      "execution_count": 8,
      "metadata": {},
      "outputs": [
        {
          "data": {
            "text/plain": [
              "Customer_Service    486\n",
              "Satisfaction        486\n",
              "dtype: int64"
            ]
          },
          "execution_count": 8,
          "metadata": {},
          "output_type": "execute_result"
        }
      ],
      "source": [
        "complain_data.count()"
      ]
    },
    {
      "cell_type": "markdown",
      "metadata": {},
      "source": [
        "<a id=\"model\"></a>\n",
        "## 3. Create a Keras model using the TensorFlow backend"
      ]
    },
    {
      "cell_type": "code",
      "execution_count": 9,
      "metadata": {},
      "outputs": [],
      "source": [
        "from tensorflow.keras.preprocessing.text import Tokenizer\n",
        "from tensorflow.keras.preprocessing.sequence import pad_sequences\n",
        "from tensorflow.keras.models import Sequential\n",
        "from tensorflow.keras.layers import Dense, Embedding, LSTM, SpatialDropout1D\n",
        "from sklearn.model_selection import train_test_split\n",
        "import os\n",
        "import numpy\n",
        "from tensorflow.keras.models import Sequential\n",
        "from tensorflow.keras.layers import Conv1D, MaxPooling1D\n",
        "from tensorflow.keras.layers import Embedding\n",
        "from tensorflow.keras.preprocessing import sequence"
      ]
    },
    {
      "cell_type": "markdown",
      "metadata": {},
      "source": [
        "### 3.1 Prepare the data\n"
      ]
    },
    {
      "cell_type": "code",
      "execution_count": 10,
      "metadata": {},
      "outputs": [
        {
          "data": {
            "text/plain": [
              "(486, 50)"
            ]
          },
          "execution_count": 10,
          "metadata": {},
          "output_type": "execute_result"
        }
      ],
      "source": [
        "max_fatures = 500\n",
        "\n",
        "for idx,row in complain_data.iterrows():\n",
        "    row[0] = row[0].replace('rt',' ')\n",
        "\n",
        "tokenizer = Tokenizer(num_words=max_fatures, split=' ')\n",
        "tokenizer.fit_on_texts(complain_data['Customer_Service'].values)\n",
        "X = tokenizer.texts_to_sequences(complain_data['Customer_Service'].values)\n",
        "\n",
        "maxlen = 50\n",
        "\n",
        "X = pad_sequences(X, maxlen=maxlen)\n",
        "X.shape"
      ]
    },
    {
      "cell_type": "markdown",
      "metadata": {},
      "source": [
        "### Split the data into train and test data sets.\n"
      ]
    },
    {
      "cell_type": "code",
      "execution_count": 11,
      "metadata": {},
      "outputs": [
        {
          "data": {
            "text/plain": [
              "((161, 50), (161,))"
            ]
          },
          "execution_count": 11,
          "metadata": {},
          "output_type": "execute_result"
        }
      ],
      "source": [
        "Y = complain_data['Satisfaction'].values\n",
        "X_train, X_test, Y_train, Y_test = train_test_split(X,Y, test_size = 0.33, random_state = 42)\n",
        "\n",
        "X_train.shape,Y_train.shape\n",
        "X_test.shape,Y_test.shape"
      ]
    },
    {
      "cell_type": "markdown",
      "metadata": {
        "pycharm": {
          "name": "#%% md\n"
        }
      },
      "source": [
        "### 3.2 Design and train the model\n",
        "Create the network definition based on the Gated Recurrent Unit (Cho et al. 2014).\n"
      ]
    },
    {
      "cell_type": "code",
      "execution_count": 12,
      "metadata": {
        "pycharm": {
          "name": "#%%\n"
        }
      },
      "outputs": [],
      "source": [
        "embedding_vector_length = 32\n",
        "\n",
        "model = Sequential()\n",
        "model.add(Embedding(max_fatures, embedding_vector_length, input_length=maxlen))\n",
        "model.add(Conv1D(filters=32, kernel_size=3, padding='same', activation='relu'))\n",
        "model.add(MaxPooling1D(pool_size=2))\n",
        "model.add(LSTM(100))\n",
        "model.add(Dense(1, activation='sigmoid'))\n",
        "model.compile(loss='binary_crossentropy', optimizer='adam', metrics=['accuracy'])"
      ]
    },
    {
      "cell_type": "code",
      "execution_count": 13,
      "metadata": {},
      "outputs": [
        {
          "name": "stdout",
          "output_type": "stream",
          "text": [
            "Model: \"sequential\"\n",
            "_________________________________________________________________\n",
            "Layer (type)                 Output Shape              Param #   \n",
            "=================================================================\n",
            "embedding (Embedding)        (None, 50, 32)            16000     \n",
            "_________________________________________________________________\n",
            "conv1d (Conv1D)              (None, 50, 32)            3104      \n",
            "_________________________________________________________________\n",
            "max_pooling1d (MaxPooling1D) (None, 25, 32)            0         \n",
            "_________________________________________________________________\n",
            "lstm (LSTM)                  (None, 100)               53200     \n",
            "_________________________________________________________________\n",
            "dense (Dense)                (None, 1)                 101       \n",
            "=================================================================\n",
            "Total params: 72,405\n",
            "Trainable params: 72,405\n",
            "Non-trainable params: 0\n",
            "_________________________________________________________________\n"
          ]
        }
      ],
      "source": [
        "model.summary()"
      ]
    },
    {
      "cell_type": "markdown",
      "metadata": {
        "pycharm": {
          "name": "#%% md\n"
        }
      },
      "source": [
        "### Train the model.\n"
      ]
    },
    {
      "cell_type": "code",
      "execution_count": 14,
      "metadata": {
        "pycharm": {
          "name": "#%%\n"
        },
        "scrolled": true
      },
      "outputs": [
        {
          "name": "stdout",
          "output_type": "stream",
          "text": [
            "Train on 325 samples, validate on 161 samples\n",
            "Epoch 1/20\n",
            "325/325 [==============================] - 2s 6ms/sample - loss: 0.6900 - accuracy: 0.5354 - val_loss: 0.6869 - val_accuracy: 0.5342\n",
            "Epoch 2/20\n",
            "325/325 [==============================] - 0s 392us/sample - loss: 0.6758 - accuracy: 0.5785 - val_loss: 0.6885 - val_accuracy: 0.5342\n",
            "Epoch 3/20\n",
            "325/325 [==============================] - 0s 437us/sample - loss: 0.6680 - accuracy: 0.5785 - val_loss: 0.6829 - val_accuracy: 0.5342\n",
            "Epoch 4/20\n",
            "325/325 [==============================] - 0s 474us/sample - loss: 0.6463 - accuracy: 0.5785 - val_loss: 0.6630 - val_accuracy: 0.5342\n",
            "Epoch 5/20\n",
            "325/325 [==============================] - 0s 434us/sample - loss: 0.6221 - accuracy: 0.5785 - val_loss: 0.6450 - val_accuracy: 0.6149\n",
            "Epoch 6/20\n",
            "325/325 [==============================] - 0s 455us/sample - loss: 0.5862 - accuracy: 0.7169 - val_loss: 0.6063 - val_accuracy: 0.6957\n",
            "Epoch 7/20\n",
            "325/325 [==============================] - 0s 516us/sample - loss: 0.5365 - accuracy: 0.7785 - val_loss: 0.5459 - val_accuracy: 0.7081\n",
            "Epoch 8/20\n",
            "325/325 [==============================] - 0s 454us/sample - loss: 0.4681 - accuracy: 0.8185 - val_loss: 0.4838 - val_accuracy: 0.7516\n",
            "Epoch 9/20\n",
            "325/325 [==============================] - 0s 462us/sample - loss: 0.3800 - accuracy: 0.8369 - val_loss: 0.3911 - val_accuracy: 0.8447\n",
            "Epoch 10/20\n",
            "325/325 [==============================] - 0s 452us/sample - loss: 0.2672 - accuracy: 0.9077 - val_loss: 0.2999 - val_accuracy: 0.8820\n",
            "Epoch 11/20\n",
            "325/325 [==============================] - 0s 451us/sample - loss: 0.1639 - accuracy: 0.9662 - val_loss: 0.3969 - val_accuracy: 0.7950\n",
            "Epoch 12/20\n",
            "325/325 [==============================] - 0s 483us/sample - loss: 0.1675 - accuracy: 0.9323 - val_loss: 0.3208 - val_accuracy: 0.9255\n",
            "Epoch 13/20\n",
            "325/325 [==============================] - 0s 468us/sample - loss: 0.1273 - accuracy: 0.9662 - val_loss: 0.2308 - val_accuracy: 0.9193\n",
            "Epoch 14/20\n",
            "325/325 [==============================] - 0s 479us/sample - loss: 0.0996 - accuracy: 0.9754 - val_loss: 0.2155 - val_accuracy: 0.9255\n",
            "Epoch 15/20\n",
            "325/325 [==============================] - 0s 474us/sample - loss: 0.0904 - accuracy: 0.9692 - val_loss: 0.2123 - val_accuracy: 0.9379\n",
            "Epoch 16/20\n",
            "325/325 [==============================] - 0s 502us/sample - loss: 0.0760 - accuracy: 0.9754 - val_loss: 0.1979 - val_accuracy: 0.9503\n",
            "Epoch 17/20\n",
            "325/325 [==============================] - 0s 511us/sample - loss: 0.0654 - accuracy: 0.9877 - val_loss: 0.1881 - val_accuracy: 0.9503\n",
            "Epoch 18/20\n",
            "325/325 [==============================] - 0s 399us/sample - loss: 0.0594 - accuracy: 0.9846 - val_loss: 0.1856 - val_accuracy: 0.9503\n",
            "Epoch 19/20\n",
            "325/325 [==============================] - 0s 420us/sample - loss: 0.0467 - accuracy: 0.9877 - val_loss: 0.2334 - val_accuracy: 0.9565\n",
            "Epoch 20/20\n",
            "325/325 [==============================] - 0s 497us/sample - loss: 0.0437 - accuracy: 0.9877 - val_loss: 0.1978 - val_accuracy: 0.9565\n"
          ]
        }
      ],
      "source": [
        "history = model.fit(X_train, Y_train, validation_data=(X_test, Y_test), epochs=20, batch_size=64)"
      ]
    },
    {
      "cell_type": "code",
      "execution_count": 15,
      "metadata": {
        "pycharm": {
          "name": "#%%\n"
        }
      },
      "outputs": [
        {
          "data": {
            "text/plain": [
              "'Best accuracy on test: 0.957'"
            ]
          },
          "execution_count": 15,
          "metadata": {},
          "output_type": "execute_result"
        }
      ],
      "source": [
        "(\"Best accuracy on test: %3.3f\" % numpy.array(history.history['val_accuracy']).max())"
      ]
    },
    {
      "cell_type": "markdown",
      "metadata": {
        "pycharm": {
          "name": "#%% md\n"
        }
      },
      "source": [
        "**Note:** For purpose of this demo, model tuning has been skipped.\n",
        "\n",
        "Store and archive the model in the notebook filesystem.\n",
        "\n"
      ]
    },
    {
      "cell_type": "markdown",
      "metadata": {
        "pycharm": {
          "name": "#%% md\n"
        }
      },
      "source": [
        "### Evaluate the model"
      ]
    },
    {
      "cell_type": "code",
      "execution_count": 16,
      "metadata": {
        "pycharm": {
          "name": "#%%\n"
        }
      },
      "outputs": [
        {
          "data": {
            "text/plain": [
              "'Evaluation Accuracy: 95.65%'"
            ]
          },
          "execution_count": 16,
          "metadata": {},
          "output_type": "execute_result"
        }
      ],
      "source": [
        "scores = model.evaluate(X_test, Y_test, verbose=0)\n",
        "(\"Evaluation Accuracy: %.2f%%\" % (scores[1]*100))"
      ]
    },
    {
      "cell_type": "code",
      "execution_count": 17,
      "metadata": {
        "pycharm": {
          "name": "#%%\n"
        }
      },
      "outputs": [],
      "source": [
        "filename = 'complain_model.h5'\n",
        "model.save(filename)\n",
        "\n",
        "# Compress Keras model\n",
        "tar_filename = filename + \".tgz\"\n",
        "cmdstring = \"tar -zcvf \" + tar_filename + \" \" + filename\n",
        "score = tar_filename\n",
        "os.system(cmdstring);"
      ]
    },
    {
      "cell_type": "markdown",
      "metadata": {},
      "source": [
        "<a id=\"upload\"></a>\n",
        "## 4. Store the model in the repository\n",
        "\n",
        "In this section, you will learn how to store your model in Watson Machine Learning repository by using the Watson Machine Learning Client."
      ]
    },
    {
      "cell_type": "markdown",
      "metadata": {
        "pycharm": {
          "name": "#%% md\n"
        }
      },
      "source": [
        "### 4.1: Publish model\n",
        "#### Publish model in Watson Machine Learning repository on Cloud.\n"
      ]
    },
    {
      "cell_type": "markdown",
      "metadata": {
        "pycharm": {
          "name": "#%% md\n"
        }
      },
      "source": [
        "Get software specification for tensorflow model."
      ]
    },
    {
      "cell_type": "code",
      "execution_count": 18,
      "metadata": {},
      "outputs": [
        {
          "name": "stdout",
          "output_type": "stream",
          "text": [
            "c4032338-2a40-500a-beef-b01ab2667e27\n"
          ]
        }
      ],
      "source": [
        "software_spec_id = client.software_specifications.get_id_by_name('tensorflow_2.1-py3.7')\n",
        "print(software_spec_id)"
      ]
    },
    {
      "cell_type": "markdown",
      "metadata": {},
      "source": [
        "Store model"
      ]
    },
    {
      "cell_type": "code",
      "execution_count": null,
      "metadata": {},
      "outputs": [],
      "source": [
        "\n",
        "metadata = {\n",
        "    client.repository.ModelMetaNames.NAME: \"CARS4U - Satisfaction Prediction Model\",\n",
        "    client.repository.ModelMetaNames.TYPE: 'tensorflow_2.1',\n",
        "    client.repository.ModelMetaNames.SOFTWARE_SPEC_UID : software_spec_id\n",
        "}\n",
        "print(metadata)    \n",
        "stored_model_details = client.repository.store_model(tar_filename, meta_props=metadata)"
      ]
    },
    {
      "cell_type": "markdown",
      "metadata": {
        "pycharm": {
          "name": "#%% md\n"
        }
      },
      "source": [
        "### 4.2: Get model details"
      ]
    },
    {
      "cell_type": "code",
      "execution_count": null,
      "metadata": {},
      "outputs": [],
      "source": [
        "import json\n",
        "\n",
        "model_uid = client.repository.get_model_uid(stored_model_details)\n",
        "\n",
        "model_details = client.repository.get_details(model_uid)\n",
        "print(json.dumps(model_details, indent=2))"
      ]
    },
    {
      "cell_type": "markdown",
      "metadata": {},
      "source": [
        "<a id=\"deploy\"></a>\n",
        "## 5. Deploy the model\n",
        "In this section you will learn how to create batch deployment to create job using the Watson Machine Learning Client.\n",
        "\n",
        "You can use commands below to create batch deployment for stored model (web service).\n",
        "\n",
        "### 5.1: Create model deployment\n"
      ]
    },
    {
      "cell_type": "code",
      "execution_count": 21,
      "metadata": {},
      "outputs": [],
      "source": [
        "meta_props = {\n",
        "    client.deployments.ConfigurationMetaNames.NAME: \"CARS4U - Satisfaction Prediction Model Deployment\",\n",
        "    client.deployments.ConfigurationMetaNames.ONLINE: {}\n",
        "}"
      ]
    },
    {
      "cell_type": "code",
      "execution_count": 22,
      "metadata": {},
      "outputs": [
        {
          "name": "stdout",
          "output_type": "stream",
          "text": [
            "\n",
            "\n",
            "#######################################################################################\n",
            "\n",
            "Synchronous deployment creation for uid: '839f757e-a9a0-4da4-901a-61a17ad9db76' started\n",
            "\n",
            "#######################################################################################\n",
            "\n",
            "\n",
            "initializing.\n",
            "ready\n",
            "\n",
            "\n",
            "------------------------------------------------------------------------------------------------\n",
            "Successfully finished deployment creation, deployment_uid='7445e109-6b0f-4877-8043-adb22aaddd7f'\n",
            "------------------------------------------------------------------------------------------------\n",
            "\n",
            "\n"
          ]
        }
      ],
      "source": [
        "deployment_details = client.deployments.create(model_uid, meta_props, background_mode=False)\n"
      ]
    },
    {
      "cell_type": "markdown",
      "metadata": {
        "pycharm": {
          "name": "#%% md\n"
        }
      },
      "source": [
        "**Note**: Here we use deployment url saved in published_model object. In next section, we show how to retrieve deployment url from Watson Machine Learning instance.\n",
        "\n"
      ]
    },
    {
      "cell_type": "code",
      "execution_count": 23,
      "metadata": {},
      "outputs": [],
      "source": [
        "deployment_uid = client.deployments.get_uid(deployment_details)"
      ]
    },
    {
      "cell_type": "markdown",
      "metadata": {
        "pycharm": {
          "name": "#%% md\n"
        }
      },
      "source": [
        "Now, You can list all deployments."
      ]
    },
    {
      "cell_type": "code",
      "execution_count": null,
      "metadata": {},
      "outputs": [],
      "source": [
        "client.deployments.list()"
      ]
    },
    {
      "cell_type": "markdown",
      "metadata": {
        "pycharm": {
          "name": "#%% md\n"
        }
      },
      "source": [
        "### 5.2 Get deployment details"
      ]
    },
    {
      "cell_type": "code",
      "execution_count": 24,
      "metadata": {
        "pycharm": {
          "name": "#%%\n"
        }
      },
      "outputs": [
        {
          "data": {
            "text/plain": [
              "{'entity': {'asset': {'id': '839f757e-a9a0-4da4-901a-61a17ad9db76'},\n",
              "  'custom': {},\n",
              "  'deployed_asset_type': 'model',\n",
              "  'hardware_spec': {'id': 'Not_Applicable', 'name': 'XXS', 'num_nodes': 1},\n",
              "  'name': 'CARS4U - Satisfaction Prediction Model Deployment',\n",
              "  'online': {},\n",
              "  'space_id': '83b00166-9047-4159-b777-83dcb498e7ab',\n",
              "  'status': {'online_url': {'url': 'https://wmlgmc-cpd-wmlgmc.apps.wmlautoai.cp.fyre.ibm.com/ml/v4/deployments/7445e109-6b0f-4877-8043-adb22aaddd7f/predictions'},\n",
              "   'state': 'ready'}},\n",
              " 'metadata': {'created_at': '2020-12-08T12:36:40.361Z',\n",
              "  'id': '7445e109-6b0f-4877-8043-adb22aaddd7f',\n",
              "  'modified_at': '2020-12-08T12:36:40.361Z',\n",
              "  'name': 'CARS4U - Satisfaction Prediction Model Deployment',\n",
              "  'owner': '1000330999',\n",
              "  'space_id': '83b00166-9047-4159-b777-83dcb498e7ab'}}"
            ]
          },
          "execution_count": 24,
          "metadata": {},
          "output_type": "execute_result"
        }
      ],
      "source": [
        "client.deployments.get_details(deployment_uid)"
      ]
    },
    {
      "cell_type": "markdown",
      "metadata": {
        "pycharm": {
          "name": "#%% md\n"
        }
      },
      "source": [
        "<a id=\"score\"></a>\n",
        "## 6. Score the model\n",
        "Let's see if our deployment works.\n"
      ]
    },
    {
      "cell_type": "markdown",
      "metadata": {},
      "source": [
        "You can use below method to do test scoring request against deployed model.\n",
        "\n"
      ]
    },
    {
      "cell_type": "code",
      "execution_count": 25,
      "metadata": {
        "pycharm": {
          "name": "#%%\n"
        }
      },
      "outputs": [],
      "source": [
        "deployment_id = client.deployments.get_id(deployment_details)"
      ]
    },
    {
      "cell_type": "code",
      "execution_count": 26,
      "metadata": {
        "pycharm": {
          "name": "#%%\n"
        }
      },
      "outputs": [
        {
          "data": {
            "text/plain": [
              "'7445e109-6b0f-4877-8043-adb22aaddd7f'"
            ]
          },
          "execution_count": 26,
          "metadata": {},
          "output_type": "execute_result"
        }
      ],
      "source": [
        "deployment_id"
      ]
    },
    {
      "cell_type": "markdown",
      "metadata": {
        "pycharm": {
          "name": "#%% md\n"
        }
      },
      "source": [
        "**Action**: Prepare scoring payload with records to score."
      ]
    },
    {
      "cell_type": "code",
      "execution_count": 27,
      "metadata": {},
      "outputs": [
        {
          "name": "stdout",
          "output_type": "stream",
          "text": [
            "[  0   0   0   0   0   0   0   0   0   0   0   0   0   0   0   0   0   0\n",
            "   0   0   0   0   0   0   0   0   0   0   0   0   4  43  19   3 242  25\n",
            " 235   6  22 353   1 237  12  10   8 107  14  34   5  56]\n",
            "1\n"
          ]
        }
      ],
      "source": [
        "index = 5\n",
        "\n",
        "scoring_data = X[index].tolist()\n",
        "print(X_test[index])\n",
        "print(Y_test[index])"
      ]
    },
    {
      "cell_type": "code",
      "execution_count": 28,
      "metadata": {},
      "outputs": [],
      "source": [
        "scoring_payload = {client.deployments.ScoringMetaNames.INPUT_DATA:\n",
        "    [\n",
        "        {\n",
        "        'values': [scoring_data]\n",
        "        }\n",
        "   ]\n",
        "}"
      ]
    },
    {
      "cell_type": "code",
      "execution_count": 29,
      "metadata": {},
      "outputs": [],
      "source": [
        "scores = client.deployments.score(deployment_id, scoring_payload)"
      ]
    },
    {
      "cell_type": "markdown",
      "metadata": {
        "pycharm": {
          "name": "#%% md\n"
        }
      },
      "source": [
        "Let's print the scoring results."
      ]
    },
    {
      "cell_type": "code",
      "execution_count": 30,
      "metadata": {
        "pycharm": {
          "name": "#%%\n"
        }
      },
      "outputs": [
        {
          "name": "stdout",
          "output_type": "stream",
          "text": [
            "{'predictions': [{'id': 'dense', 'fields': ['prediction', 'prediction_classes', 'probability'], 'values': [[[0.0005826586857438087], [0], [0.0005826586857438087]]]}]}\n"
          ]
        }
      ],
      "source": [
        "print(str(scores))"
      ]
    },
    {
      "cell_type": "markdown",
      "metadata": {},
      "source": [
        "<a id=\"ai_function\"></a>\n",
        "## 7. Define, store and deploy Python function\n",
        "Let's define a function that does data preprocessing and model scoring. As we saw in the previous cells, the model expects numerical input, so the text comment needs to be preprocessed."
      ]
    },
    {
      "cell_type": "markdown",
      "metadata": {
        "pycharm": {
          "name": "#%% md\n"
        }
      },
      "source": [
        "### 7.1 Define generic parameters"
      ]
    },
    {
      "cell_type": "code",
      "execution_count": 31,
      "metadata": {},
      "outputs": [],
      "source": [
        "ai_params = {\n",
        "    'deployment_id': deployment_id,\n",
        "    'wml_credentials': wml_credentials,\n",
        "    'word_index': tokenizer.word_index,\n",
        "    'space_id': space_id\n",
        "}"
      ]
    },
    {
      "cell_type": "code",
      "execution_count": 32,
      "metadata": {},
      "outputs": [],
      "source": [
        "def score_generator(params=ai_params):\n",
        "    import re\n",
        "    from ibm_watson_machine_learning import APIClient\n",
        "    client = APIClient(params['wml_credentials'])\n",
        "    client.set.default_space(params['space_id'])\n",
        "    def score(payload):\n",
        "        max_fatures = 500\n",
        "        maxlen = 50\n",
        "        preprocessed_records = []\n",
        "        complain_data = payload['input_data'][0]['values']\n",
        "        word_index = params['word_index']\n",
        "        for data in complain_data:\n",
        "            comment = data[0]\n",
        "            cleanString = re.sub(r\"[!\\\"#$%&()*+,-./:;<=>?@[\\]^_`{|}~]\", \"\", comment)\n",
        "            splitted_comment = cleanString.split()[:maxlen]\n",
        "            hashed_tokens = []\n",
        "            for token in splitted_comment:\n",
        "                index = word_index.get(token, 0)\n",
        "                if index < 501 and index > 0:\n",
        "                    hashed_tokens.append(index)\n",
        "            hashed_tokens_size = len(hashed_tokens)\n",
        "            padded_tokens = [0]*(maxlen-hashed_tokens_size) + hashed_tokens\n",
        "            preprocessed_records.append(padded_tokens)\n",
        "        scoring_payload = {'values': preprocessed_records}\n",
        "        scoring_payload = {client.deployments.ScoringMetaNames.INPUT_DATA: [scoring_payload]}\n",
        "        return client.deployments.score(params['deployment_id'], scoring_payload)\n",
        "    return score\n"
      ]
    },
    {
      "cell_type": "markdown",
      "metadata": {
        "pycharm": {
          "name": "#%% md\n"
        }
      },
      "source": [
        "#### Test the function locally\n"
      ]
    },
    {
      "cell_type": "code",
      "execution_count": 33,
      "metadata": {
        "pycharm": {
          "name": "#%%\n"
        }
      },
      "outputs": [],
      "source": [
        "sample_payload = {\n",
        "    \"input_data\": [\n",
        "        {\n",
        "            \"fields\": [\"feedback\"],\n",
        "            \"values\": [['delayed shuttle, almost missed flight, bad customer service'],['The car was great and they were able to provide all features I wanted with limited time they had.']]\n",
        "        }       \n",
        "    ]\n",
        "}"
      ]
    },
    {
      "cell_type": "code",
      "execution_count": 34,
      "metadata": {},
      "outputs": [
        {
          "name": "stdout",
          "output_type": "stream",
          "text": [
            "{'input_data': [{'fields': ['feedback'], 'values': [['delayed shuttle, almost missed flight, bad customer service'], ['The car was great and they were able to provide all features I wanted with limited time they had.']]}]}\n"
          ]
        }
      ],
      "source": [
        "print(sample_payload)"
      ]
    },
    {
      "cell_type": "code",
      "execution_count": 35,
      "metadata": {},
      "outputs": [
        {
          "name": "stdout",
          "output_type": "stream",
          "text": [
            "{'predictions': [{'id': 'dense', 'fields': ['prediction', 'prediction_classes', 'probability'], 'values': [[[0.005412891041487455], [0], [0.005412891041487455]], [[0.9990930557250977], [1], [0.9990930557250977]]]}]}\n"
          ]
        }
      ],
      "source": [
        "score = score_generator()\n",
        "score_ai = score(sample_payload)\n",
        "print(score_ai)"
      ]
    },
    {
      "cell_type": "markdown",
      "metadata": {
        "pycharm": {
          "name": "#%% md\n"
        }
      },
      "source": [
        "**Note:** 0 - not satisfied. 1 - satisfied"
      ]
    },
    {
      "cell_type": "markdown",
      "metadata": {},
      "source": [
        "### 7.2 Store the function"
      ]
    },
    {
      "cell_type": "code",
      "execution_count": 36,
      "metadata": {},
      "outputs": [
        {
          "data": {
            "text/plain": [
              "'e4429883-c883-42b6-87a8-f419d64088cd'"
            ]
          },
          "execution_count": 36,
          "metadata": {},
          "output_type": "execute_result"
        }
      ],
      "source": [
        "software_spec_id = client.software_specifications.get_id_by_name(\"default_py3.7\")\n",
        "software_spec_id "
      ]
    },
    {
      "cell_type": "code",
      "execution_count": 37,
      "metadata": {
        "pycharm": {
          "name": "#%%\n"
        }
      },
      "outputs": [],
      "source": [
        "meta_data = {\n",
        "    client.repository.FunctionMetaNames.NAME: 'CARS4U - Satisfaction Prediction - AI Function',\n",
        "    client.repository.FunctionMetaNames.SOFTWARE_SPEC_UID: software_spec_id,\n",
        "}\n",
        "\n",
        "function_details = client.repository.store_function(score_generator, meta_data)"
      ]
    },
    {
      "cell_type": "code",
      "execution_count": null,
      "metadata": {
        "pycharm": {
          "name": "#%%\n"
        }
      },
      "outputs": [],
      "source": [
        "client.repository.list_functions()"
      ]
    },
    {
      "cell_type": "markdown",
      "metadata": {},
      "source": [
        "### 7.3 Deploy the function"
      ]
    },
    {
      "cell_type": "code",
      "execution_count": 39,
      "metadata": {},
      "outputs": [
        {
          "data": {
            "text/plain": [
              "{'entity': {'software_spec': {'id': 'e4429883-c883-42b6-87a8-f419d64088cd',\n",
              "   'name': 'default_py3.7'},\n",
              "  'type': 'python'},\n",
              " 'metadata': {'created_at': '2020-12-08T12:37:11.870Z',\n",
              "  'id': '89a291fa-3268-498d-a034-d9f6379b80ea',\n",
              "  'modified_at': '2020-12-08T12:37:14.569Z',\n",
              "  'name': 'CARS4U - Satisfaction Prediction - AI Function',\n",
              "  'owner': '1000330999',\n",
              "  'space_id': '83b00166-9047-4159-b777-83dcb498e7ab'},\n",
              " 'system': {'warnings': []}}"
            ]
          },
          "execution_count": 39,
          "metadata": {},
          "output_type": "execute_result"
        }
      ],
      "source": [
        "function_uid = client.repository.get_function_uid(function_details)\n",
        "published_function_id = client.repository.get_function_id(function_details)\n",
        "client.repository.get_function_details(function_uid)"
      ]
    },
    {
      "cell_type": "code",
      "execution_count": 40,
      "metadata": {
        "pycharm": {
          "name": "#%%\n"
        }
      },
      "outputs": [],
      "source": [
        "meta_data = {\n",
        "    client.deployments.ConfigurationMetaNames.NAME: 'CARS4U - Satisfaction Prediction - AI Function Deployment',\n",
        "    client.deployments.ConfigurationMetaNames.ONLINE: {}\n",
        "}"
      ]
    },
    {
      "cell_type": "code",
      "execution_count": 41,
      "metadata": {
        "pycharm": {
          "name": "#%%\n"
        }
      },
      "outputs": [
        {
          "name": "stdout",
          "output_type": "stream",
          "text": [
            "\n",
            "\n",
            "#######################################################################################\n",
            "\n",
            "Synchronous deployment creation for uid: '89a291fa-3268-498d-a034-d9f6379b80ea' started\n",
            "\n",
            "#######################################################################################\n",
            "\n",
            "\n",
            "initializing...\n",
            "ready\n",
            "\n",
            "\n",
            "------------------------------------------------------------------------------------------------\n",
            "Successfully finished deployment creation, deployment_uid='913d9d94-339c-4b31-95e1-d527d6edcae7'\n",
            "------------------------------------------------------------------------------------------------\n",
            "\n",
            "\n"
          ]
        }
      ],
      "source": [
        "function_deployment_details = client.deployments.create(published_function_id,meta_data)"
      ]
    },
    {
      "cell_type": "markdown",
      "metadata": {},
      "source": [
        "### 7.4 Score function"
      ]
    },
    {
      "cell_type": "code",
      "execution_count": 42,
      "metadata": {
        "pycharm": {
          "name": "#%%\n"
        }
      },
      "outputs": [
        {
          "name": "stdout",
          "output_type": "stream",
          "text": [
            "913d9d94-339c-4b31-95e1-d527d6edcae7\n",
            "{\n",
            "   \"predictions\": [\n",
            "      {\n",
            "         \"id\": \"dense\",\n",
            "         \"fields\": [\n",
            "            \"prediction\",\n",
            "            \"prediction_classes\",\n",
            "            \"probability\"\n",
            "         ],\n",
            "         \"values\": [\n",
            "            [\n",
            "               [\n",
            "                  0.005412891041487455\n",
            "               ],\n",
            "               [\n",
            "                  0\n",
            "               ],\n",
            "               [\n",
            "                  0.005412891041487455\n",
            "               ]\n",
            "            ],\n",
            "            [\n",
            "               [\n",
            "                  0.9990930557250977\n",
            "               ],\n",
            "               [\n",
            "                  1\n",
            "               ],\n",
            "               [\n",
            "                  0.9990930557250977\n",
            "               ]\n",
            "            ]\n",
            "         ]\n",
            "      }\n",
            "   ]\n",
            "}\n"
          ]
        }
      ],
      "source": [
        "import json\n",
        "print(function_deployment_details['metadata']['id'])\n",
        "scoring_response = client.deployments.score(function_deployment_details['metadata']['id'], sample_payload)\n",
        "\n",
        "print(json.dumps(scoring_response, indent=3))"
      ]
    },
    {
      "cell_type": "markdown",
      "metadata": {},
      "source": [
        "<a id=\"cleanup\"></a>\n",
        "## 8. Clean up "
      ]
    },
    {
      "cell_type": "markdown",
      "metadata": {},
      "source": [
        "If you want to clean up all created assets:\n",
        "- experiments\n",
        "- trainings\n",
        "- pipelines\n",
        "- model definitions\n",
        "- models\n",
        "- functions\n",
        "- deployments\n",
        "\n",
        "please follow up this sample [notebook](https://github.com/IBM/watson-machine-learning-samples/blob/master/cpd3.5/notebooks/python_sdk/instance-management/Machine%20Learning%20artifacts%20management.ipynb)."
      ]
    },
    {
      "cell_type": "markdown",
      "metadata": {
        "pycharm": {
          "name": "#%% md\n"
        }
      },
      "source": [
        "<a id=\"summary\"></a>\n",
        "## 9. Summary and next steps\n",
        "\n",
        "You successfully completed this notebook! You learned how to use Keras machine learning library as well as Watson Machine Learning for model creation and deployment.\n",
        "\n",
        "Check out our [Online Documentation](https://dataplatform.cloud.ibm.com/docs/content/analyze-data/wml-setup.html) for more samples, tutorials, documentation, how-tos, and blog posts. \n",
        "\n",
        "### Authors\n",
        "\n",
        "**Wojciech Jargielo**, Software Engineer\n",
        "\n",
        "Copyright © 2020-2025 IBM. This notebook and its source code are released under the terms of the MIT License.\n",
        "\n"
      ]
    }
  ],
  "metadata": {
    "kernelspec": {
      "display_name": "Python 3",
      "language": "python",
      "name": "python3"
    },
    "language_info": {
      "codemirror_mode": {
        "name": "ipython",
        "version": 3
      },
      "file_extension": ".py",
      "mimetype": "text/x-python",
      "name": "python",
      "nbconvert_exporter": "python",
      "pygments_lexer": "ipython3",
      "version": "3.7.10"
    }
  },
  "nbformat": 4,
  "nbformat_minor": 4
}
