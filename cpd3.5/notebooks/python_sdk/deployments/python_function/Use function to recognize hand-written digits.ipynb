{
 "cells": [
  {
   "cell_type": "markdown",
   "metadata": {},
   "source": [
    "# Use Python function to recognize hand-written digits with `ibm-watson-machine-learning`\n",
    "\n",
    "Create and deploy a function that receives HTML canvas image data from a web app and then processes and sends that data to a model trained to recognize handwritten digits.  \n",
    "See: <a href=\"https://dataplatform.cloud.ibm.com/docs/content/analyze-data/ml-deployed-func-mnist-tutorial.html\" target=\"_blank\">MNIST function deployment tutorial</a>  \n",
    "\n",
    "This notebook runs on Python 3.7.\n",
    "\n",
    "## Learning goals\n",
    "\n",
    "The learning goals of this notebook are:\n",
    "\n",
    "-  AI function definition\n",
    "-  Store AI function\n",
    "-  Deployment creation\n",
    "\n",
    "## Contents\n",
    "\n",
    "This notebook contains the following parts:\n",
    "1. [Setup](#setup)\n",
    "2. [Get an ID for a model deployment](#step4)\n",
    "3. [Get sample canvas data](#step5)\n",
    "4. [Create a deployable function](#upload)\n",
    "5. [Store and deploy the function](#deploy)\n",
    "6. [Test the deployed function](#score)\n",
    "7. [Clean up](#cleanup)\n",
    "8. [Summary](#summary)"
   ]
  },
  {
   "cell_type": "markdown",
   "metadata": {},
   "source": [
    "<a id=\"setup\"></a>\n",
    "## 1. Set up the environment\n",
    "\n",
    "Before you use the sample code in this notebook, you must perform the following setup tasks:\n",
    "\n",
    "-  Contact with your Cloud Pack for Data administrator and ask him for your account credentials"
   ]
  },
  {
   "cell_type": "markdown",
   "metadata": {},
   "source": [
    "### Connection to WML\n",
    "\n",
    "Authenticate the Watson Machine Learning service on IBM Cloud Pack for Data. You need to provide platform `url`, your `username` and `password`."
   ]
  },
  {
   "cell_type": "code",
   "execution_count": 2,
   "metadata": {},
   "outputs": [],
   "source": [
    "username = 'PASTE YOUR USERNAME HERE'\n",
    "password = 'PASTE YOUR PASSWORD HERE'\n",
    "url = 'PASTE THE PLATFORM URL HERE'"
   ]
  },
  {
   "cell_type": "code",
   "execution_count": 2,
   "metadata": {},
   "outputs": [],
   "source": [
    "wml_credentials = {\n",
    "    \"username\": username,\n",
    "    \"password\": password,\n",
    "    \"url\": url,\n",
    "    \"instance_id\": 'openshift',\n",
    "    \"version\": '3.5'\n",
    "}"
   ]
  },
  {
   "cell_type": "markdown",
   "metadata": {},
   "source": [
    "### Install and import the `ibm-watson-machine-learning` package\n",
    "**Note:** `ibm-watson-machine-learning` documentation can be found <a href=\"http://ibm-wml-api-pyclient.mybluemix.net/\" target=\"_blank\" rel=\"noopener no referrer\">here</a>."
   ]
  },
  {
   "cell_type": "code",
   "execution_count": 1,
   "metadata": {},
   "outputs": [],
   "source": [
    "!pip install -U ibm-watson-machine-learning"
   ]
  },
  {
   "cell_type": "code",
   "execution_count": 3,
   "metadata": {},
   "outputs": [],
   "source": [
    "from ibm_watson_machine_learning import APIClient\n",
    "\n",
    "client = APIClient(wml_credentials)"
   ]
  },
  {
   "cell_type": "markdown",
   "metadata": {},
   "source": [
    "### Working with spaces\n",
    "\n",
    "First of all, you need to create a space that will be used for your work. If you do not have space already created, you can use `{PLATFORM_URL}/ml-runtime/spaces?context=icp4data` to create one.\n",
    "\n",
    "- Click New Deployment Space\n",
    "- Create an empty space\n",
    "- Go to space `Settings` tab\n",
    "- Copy `space_id` and paste it below\n",
    "\n",
    "**Tip**: You can also use SDK to prepare the space for your work. More information can be found [here](https://github.com/IBM/watson-machine-learning-samples/blob/master/cpd3.5/notebooks/python_sdk/instance-management/Space%20management.ipynb).\n",
    "\n",
    "**Action**: Assign space ID below"
   ]
  },
  {
   "cell_type": "code",
   "execution_count": 5,
   "metadata": {},
   "outputs": [],
   "source": [
    "space_id = 'PASTE YOUR SPACE ID HERE'"
   ]
  },
  {
   "cell_type": "markdown",
   "metadata": {},
   "source": [
    "You can use `list` method to print all existing spaces."
   ]
  },
  {
   "cell_type": "code",
   "execution_count": null,
   "metadata": {},
   "outputs": [],
   "source": [
    "client.spaces.list(limit=10)"
   ]
  },
  {
   "cell_type": "markdown",
   "metadata": {},
   "source": [
    "To be able to interact with all resources available in Watson Machine Learning, you need to set **space** which you will be using."
   ]
  },
  {
   "cell_type": "code",
   "execution_count": 4,
   "metadata": {},
   "outputs": [
    {
     "data": {
      "text/plain": [
       "'SUCCESS'"
      ]
     },
     "execution_count": 4,
     "metadata": {},
     "output_type": "execute_result"
    }
   ],
   "source": [
    "client.set.default_space(space_id)"
   ]
  },
  {
   "cell_type": "markdown",
   "metadata": {},
   "source": [
    "## 2. <a id=\"step4\"></a> Get an ID for a model deployment\n",
    "\n",
    "The deployed function created in this notebook is designed to send payload data to a TensorFlow model created in the <a href=\"https://dataplatform.cloud.ibm.com/docs/content/analyze-data/ml-mnist-tutorials.html\" target=\"_blank\" rel=\"noopener noreferrer\">MNIST tutorials</a>."
   ]
  },
  {
   "cell_type": "code",
   "execution_count": 5,
   "metadata": {},
   "outputs": [],
   "source": [
    "import os, wget, json\n",
    "import numpy as np\n",
    "import matplotlib.pyplot as plt\n",
    "import requests"
   ]
  },
  {
   "cell_type": "markdown",
   "metadata": {},
   "source": [
    "### Option 1: Use your own, existing model deployment\n",
    "\n",
    "If you already deployed a model while working through one of the following MNIST tutorials, you can use that model deployment:\n",
    "- <a href=\"https://dataplatform.cloud.ibm.com/docs/content/analyze-data/ml_dlaas_tutorial_tensorflow_experiment-builder.html\" target=\"_blank\" rel=\"noopener noreferrer\">Experiment builder MNIST tutorial</a>\n",
    "- <a href=\"https://dataplatform.cloud.ibm.com/docs/content/analyze-data/ml_dlaas_tutorial_tensorflow_experiment-builder_hpo.html\" target=\"_blank\" rel=\"noopener noreferrer\">Experiment builder (HPO) MNIST tutorial</a>\n",
    "- <a href=\"https://dataplatform.cloud.ibm.com/docs/content/analyze-data/ml-python-mnist-tutorial.html\" target=\"_blank\" rel=\"noopener noreferrer\">Python client (notebook) MNIST tutorial</a>\n",
    "- <a href=\"https://dataplatform.cloud.ibm.com/docs/content/analyze-data/ml_dlaas_tutorial_tensorflow_cli.html\" target=\"_blank\" rel=\"noopener noreferrer\">CLI MNIST tutorial</a>\n",
    "- <a href=\"https://dataplatform.cloud.ibm.com/docs/content/analyze-data/ml_dlaas_cli_with_hpo.html\" target=\"_blank\" rel=\"noopener noreferrer\">CLI (HPO) MNIST tutorial</a>\n",
    "\n",
    "Paste the model deployment ID in the following cell.\n",
    "\n",
    "See: <a href=\"https://dataplatform.cloud.ibm.com/docs/content/analyze-data/ml-get-endpoint-url.html\" target=\"_blank\" rel=\"noopener noreferrer\">Looking up an online deployment ID</a>\n"
   ]
  },
  {
   "cell_type": "code",
   "execution_count": null,
   "metadata": {},
   "outputs": [],
   "source": [
    "for x in client.deployments.get_details()['resources']:\n",
    "    if (x['entity']['name'] == 'Scikit German Risk Deployment WML V4'):\n",
    "        deployment_uid = x['metadata']['id']"
   ]
  },
  {
   "cell_type": "code",
   "execution_count": 9,
   "metadata": {},
   "outputs": [],
   "source": [
    "model_deployment_id = \"\""
   ]
  },
  {
   "cell_type": "markdown",
   "metadata": {},
   "source": [
    "### Option 2: Download, store, and deploy a sample model\n",
    "You can deployed a sample model and get its deployment ID by running the code in the following four cells."
   ]
  },
  {
   "cell_type": "code",
   "execution_count": 6,
   "metadata": {},
   "outputs": [],
   "source": [
    "# Download a sample model to the notebook working directory\n",
    "\n",
    "sample_saved_model_filename = 'mnist-tf-hpo-saved-model.tar.gz'\n",
    "url = 'https://github.com/IBM/watson-machine-learning-samples/raw/master/cpd3.5/models/tensorflow/mnist/' + sample_saved_model_filename\n",
    "if not os.path.isfile(sample_saved_model_filename):\n",
    "    wget.download(url)"
   ]
  },
  {
   "cell_type": "code",
   "execution_count": 7,
   "metadata": {},
   "outputs": [],
   "source": [
    "# Look up software specification for the MNIST model\n",
    "\n",
    "sofware_spec_uid = client.software_specifications.get_id_by_name(\"tensorflow_2.1-py3.7\")"
   ]
  },
  {
   "cell_type": "code",
   "execution_count": 8,
   "metadata": {},
   "outputs": [],
   "source": [
    "# Store the sample model in your Watson Machine Learning repository\n",
    "\n",
    "metadata = {\n",
    "            client.repository.ModelMetaNames.NAME: 'Saved MNIST model',\n",
    "            client.repository.ModelMetaNames.TYPE: 'tensorflow_2.1',\n",
    "            client.repository.ModelMetaNames.SOFTWARE_SPEC_UID: sofware_spec_uid\n",
    "}\n",
    "model_details = client.repository.store_model(\n",
    "    model=sample_saved_model_filename,\n",
    "    meta_props=metadata\n",
    ")"
   ]
  },
  {
   "cell_type": "code",
   "execution_count": 9,
   "metadata": {},
   "outputs": [
    {
     "data": {
      "text/plain": [
       "{'entity': {'software_spec': {'id': 'c4032338-2a40-500a-beef-b01ab2667e27',\n",
       "   'name': 'tensorflow_2.1-py3.7'},\n",
       "  'type': 'tensorflow_2.1'},\n",
       " 'metadata': {'created_at': '2020-12-08T12:26:04.048Z',\n",
       "  'id': '064313fd-5f74-4273-9f87-045c55e7c36c',\n",
       "  'modified_at': '2020-12-08T12:28:26.448Z',\n",
       "  'name': 'Saved MNIST model',\n",
       "  'owner': '1000330999',\n",
       "  'space_id': '83b00166-9047-4159-b777-83dcb498e7ab'},\n",
       " 'system': {'warnings': []}}"
      ]
     },
     "execution_count": 9,
     "metadata": {},
     "output_type": "execute_result"
    }
   ],
   "source": [
    "model_details"
   ]
  },
  {
   "cell_type": "code",
   "execution_count": 10,
   "metadata": {},
   "outputs": [],
   "source": [
    "# Get published model ID\n",
    "\n",
    "published_model_uid = client.repository.get_model_uid(model_details)"
   ]
  },
  {
   "cell_type": "code",
   "execution_count": 11,
   "metadata": {},
   "outputs": [
    {
     "name": "stdout",
     "output_type": "stream",
     "text": [
      "\n",
      "\n",
      "#######################################################################################\n",
      "\n",
      "Synchronous deployment creation for uid: '064313fd-5f74-4273-9f87-045c55e7c36c' started\n",
      "\n",
      "#######################################################################################\n",
      "\n",
      "\n",
      "initializing.\n",
      "ready\n",
      "\n",
      "\n",
      "------------------------------------------------------------------------------------------------\n",
      "Successfully finished deployment creation, deployment_uid='2cc063bc-5dae-46a1-b219-a327ea016478'\n",
      "------------------------------------------------------------------------------------------------\n",
      "\n",
      "\n"
     ]
    }
   ],
   "source": [
    "# Deploy the stored model\n",
    "metadata = {\n",
    "    client.deployments.ConfigurationMetaNames.NAME: \"MNIST saved model deployment\",\n",
    "    client.deployments.ConfigurationMetaNames.ONLINE: {}\n",
    "}\n",
    "\n",
    "model_deployment_details = client.deployments.create(published_model_uid, meta_props=metadata)"
   ]
  },
  {
   "cell_type": "code",
   "execution_count": 12,
   "metadata": {},
   "outputs": [
    {
     "name": "stdout",
     "output_type": "stream",
     "text": [
      "2cc063bc-5dae-46a1-b219-a327ea016478\n"
     ]
    }
   ],
   "source": [
    "# Get the ID of the model deployment just created\n",
    "\n",
    "model_deployment_id = client.deployments.get_uid(model_deployment_details)\n",
    "print(model_deployment_id)"
   ]
  },
  {
   "cell_type": "markdown",
   "metadata": {},
   "source": [
    "## <a id=\"step5\"></a> 3. Get sample canvas data\n",
    "\n",
    "The deployed function created in this notebook is designed to accept RGBA image data from an HTML canvas object in one of these sample apps:\n",
    "\n",
    "- <a href=\"https://dataplatform.cloud.ibm.com/docs/content/analyze-data/ml-nodejs-mnist-tutorial.html\" target=\"_blank\" rel=\"noopener noreferrer\">Node.js MNIST sample app</a>\n",
    "- <a href=\"https://dataplatform.cloud.ibm.com/docs/content/analyze-data/ml-python-flask-mnist-tutorial.html\" target=\"_blank\" rel=\"noopener noreferrer\">Python Flask MNIST sample app</a>\n",
    "\n",
    "Run the following cells to download and view sample canvas data for testing the deployed function."
   ]
  },
  {
   "cell_type": "markdown",
   "metadata": {},
   "source": [
    "### 3.1 Download sample data file"
   ]
  },
  {
   "cell_type": "code",
   "execution_count": 13,
   "metadata": {},
   "outputs": [],
   "source": [
    "# Download the file containing the sample data\n",
    "\n",
    "sample_canvas_data_filename = 'mnist-html-canvas-image-data.json'\n",
    "url = 'https://github.com/IBM/watson-machine-learning-samples/raw/master/cpd3.5/data/mnist/' + sample_canvas_data_filename\n",
    "if not os.path.isfile(sample_canvas_data_filename):\n",
    "    wget.download(url)"
   ]
  },
  {
   "cell_type": "code",
   "execution_count": 14,
   "metadata": {},
   "outputs": [],
   "source": [
    "# Load the sample data from the file into a variable\n",
    "\n",
    "with open(sample_canvas_data_filename) as data_file:\n",
    "    sample_cavas_data = json.load(data_file)"
   ]
  },
  {
   "cell_type": "markdown",
   "metadata": {},
   "source": [
    "### 3.2 View sample data"
   ]
  },
  {
   "cell_type": "code",
   "execution_count": 15,
   "metadata": {},
   "outputs": [
    {
     "name": "stdout",
     "output_type": "stream",
     "text": [
      "Height (n): 187 pixels\n",
      "\n",
      "Num image data entries: 139876 - (n * n * 4) elements - RGBA values\n",
      "\n",
      "{\n",
      "   \"data\": [\n",
      "      0,\n",
      "      0,\n",
      "      0,\n",
      "      0,\n",
      "      0,\n",
      "      0,\n",
      "      ...\n",
      "      0,\n",
      "      0,\n",
      "      0\n",
      "   ],\n",
      "   \"height\": 187\n",
      "}\n"
     ]
    }
   ],
   "source": [
    "# View the raw contents of the sample data\n",
    "\n",
    "print(\"Height (n): \" + str(sample_cavas_data[\"height\"]) + \" pixels\\n\")\n",
    "print(\"Num image data entries: \" + str(len( sample_cavas_data[\"data\"])) + \" - (n * n * 4) elements - RGBA values\\n\")\n",
    "print(json.dumps(sample_cavas_data, indent=3)[:75] + \"...\\n\" + json.dumps(sample_cavas_data, indent=3)[-50:])"
   ]
  },
  {
   "cell_type": "code",
   "execution_count": 16,
   "metadata": {},
   "outputs": [
    {
     "data": {
      "image/png": "[encoded data removed]",
      "text/plain": [
       "<Figure size 432x288 with 1 Axes>"
      ]
     },
     "metadata": {},
     "output_type": "display_data"
    }
   ],
   "source": [
    "# See what hand-drawn digit the sample data represents\n",
    "\n",
    "rgba_arr = np.asarray(sample_cavas_data[\"data\"]).astype('uint8')\n",
    "n = sample_cavas_data[\"height\"]\n",
    "plt.figure()\n",
    "plt.imshow( rgba_arr.reshape(n, n, 4))\n",
    "plt.xticks([])\n",
    "plt.yticks([])\n",
    "plt.show()"
   ]
  },
  {
   "cell_type": "markdown",
   "metadata": {},
   "source": [
    "## <a id=\"upload\"></a> 4. Create a deployable function\n",
    "\n",
    "The basics of creating and deploying functions in Watson Machine Learning are given here:\n",
    "- <a href=\"https://dataplatform.cloud.ibm.com/docs/content/analyze-data/ml-deploy-functions.html\" target=\"_blank\" rel=\"noopener noreferrer\">Creating and deploying functions</a>\n",
    "- <a href=\"https://dataplatform.cloud.ibm.com/docs/content/analyze-data/ml-functions.html\" target=\"_blank\" rel=\"noopener noreferrer\">Implementation details of deployable functions</a>\n"
   ]
  },
  {
   "cell_type": "markdown",
   "metadata": {},
   "source": [
    "### 4.1 Define the function\n",
    "1. Define a Python closure with an inner function named \"score\".\n",
    "2. Use default parameters to save your Watson Machine Learning credentials and the model deployment ID with the deployed function.\n",
    "3. Process the canvas data (reshape and normalize) and then send the processed data to the model deployment.\n",
    "4. Process the results from the model deployment so the deployed function returns simpler results.\n",
    "5. Implement error handling so the function will behave gracefully if there is an error."
   ]
  },
  {
   "cell_type": "code",
   "execution_count": 17,
   "metadata": {},
   "outputs": [],
   "source": [
    "ai_parms = {\"wml_credentials\": wml_credentials, \"space_id\": space_id, \"model_deployment_id\": model_deployment_id}\n",
    "\n",
    "def my_deployable_function( parms=ai_parms ):\n",
    "    def getRGBAArr(canvas_data):\n",
    "        import numpy as np\n",
    "        dimension = canvas_data[\"height\"]\n",
    "        rgba_data = canvas_data[\"data\"]\n",
    "        rgba_arr  = np.asarray(rgba_data).astype('uint8')\n",
    "        return rgba_arr.reshape(dimension, dimension, 4)\n",
    "        \n",
    "    def getNormAlphaList(img):\n",
    "        import numpy as np\n",
    "        alpha_arr       = np.array(img.split()[-1])\n",
    "        norm_alpha_arr  = alpha_arr / 255\n",
    "        norm_alpha_list = norm_alpha_arr.reshape(1, 784).tolist()\n",
    "        return norm_alpha_list\n",
    "        \n",
    "    def score(function_payload):\n",
    "            \n",
    "        try:\n",
    "            \n",
    "            from PIL import Image\n",
    "            canvas_data   = function_payload[\"input_data\"][0][\"values\"][0]           # Read the payload received by the function\n",
    "            rgba_arr      = getRGBAArr(canvas_data)               # Create an array object with the required shape\n",
    "            img           = Image.fromarray(rgba_arr, 'RGBA')     # Create an image object that can be resized\n",
    "            sm_img        = img.resize((28, 28), Image.LANCZOS) # Resize the image to 28 x 28 pixels\n",
    "            alpha_list    = getNormAlphaList(sm_img)              # Create a 1 x 784 array of values between 0 and 1\n",
    "            model_payload = {\"input_data\": [{\"values\" : alpha_list}]}               # Create a payload to be sent to the model\n",
    "                    \n",
    "            #print( \"Payload for model:\" ) # For debugging purposes\n",
    "            #print( model_payload )        # For debugging purposes\n",
    "                    \n",
    "            from ibm_watson_machine_learning import APIClient\n",
    "            client       = APIClient(parms[\"wml_credentials\"])\n",
    "            client.set.default_space(parms[\"space_id\"])\n",
    "            model_result = client.deployments.score(parms[\"model_deployment_id\"], model_payload)\n",
    "            digit_class  = model_result[\"predictions\"][0][\"values\"][0]\n",
    "                    \n",
    "            return model_result\n",
    "        \n",
    "        except Exception as e:\n",
    "            \n",
    "            return {'predictions': [{'values': [repr(e)]}]}\n",
    "            #return {\"error\" : repr(e)}\n",
    "\n",
    "\n",
    "    return score"
   ]
  },
  {
   "cell_type": "markdown",
   "metadata": {},
   "source": [
    "### 4.2 Test locally\n",
    "You can test your function in the notebook before deploying the function.\n",
    "\n",
    "To see debugging info:\n",
    "1. Uncomment the print statements inside the score function\n",
    "2. Rerun the cell defining the function\n",
    "3. When you rerun the this cell, you will see the debugging info"
   ]
  },
  {
   "cell_type": "code",
   "execution_count": 18,
   "metadata": {},
   "outputs": [
    {
     "name": "stdout",
     "output_type": "stream",
     "text": [
      "{'predictions': [{'id': 'classes', 'values': [4]}]}\n"
     ]
    }
   ],
   "source": [
    "# Pass the sample canvas data to the function as a test\n",
    "\n",
    "func_result = my_deployable_function()({\"input_data\": [{\"values\": [sample_cavas_data]}]})\n",
    "print(func_result)"
   ]
  },
  {
   "cell_type": "markdown",
   "metadata": {},
   "source": [
    "## <a id=\"deploy\"></a> 5. Store and deploy the function\n",
    "Before you can deploy the function, you must store the function in your Watson Machine Learning repository."
   ]
  },
  {
   "cell_type": "code",
   "execution_count": 19,
   "metadata": {},
   "outputs": [],
   "source": [
    "# Look up software specification for the deployable function\n",
    "\n",
    "sofware_spec_uid = client.software_specifications.get_id_by_name(\"default_py3.7\")"
   ]
  },
  {
   "cell_type": "code",
   "execution_count": 20,
   "metadata": {},
   "outputs": [],
   "source": [
    "# Store the deployable function in your Watson Machine Learning repository\n",
    "\n",
    "meta_data = {\n",
    "    client.repository.FunctionMetaNames.NAME: 'MNIST deployable function',\n",
    "    client.repository.FunctionMetaNames.SOFTWARE_SPEC_UID: sofware_spec_uid\n",
    "}\n",
    "\n",
    "function_details = client.repository.store_function(meta_props=meta_data, function=my_deployable_function)"
   ]
  },
  {
   "cell_type": "code",
   "execution_count": 21,
   "metadata": {},
   "outputs": [],
   "source": [
    "# Get published function ID\n",
    "\n",
    "function_uid = client.repository.get_function_uid(function_details)"
   ]
  },
  {
   "cell_type": "code",
   "execution_count": 22,
   "metadata": {},
   "outputs": [
    {
     "name": "stdout",
     "output_type": "stream",
     "text": [
      "\n",
      "\n",
      "#######################################################################################\n",
      "\n",
      "Synchronous deployment creation for uid: 'cf738c56-0214-4f8c-9d38-1941bbdea977' started\n",
      "\n",
      "#######################################################################################\n",
      "\n",
      "\n",
      "initializing.\n",
      "ready\n",
      "\n",
      "\n",
      "------------------------------------------------------------------------------------------------\n",
      "Successfully finished deployment creation, deployment_uid='f709a93b-c9d8-46b2-900d-79a9849c9f9c'\n",
      "------------------------------------------------------------------------------------------------\n",
      "\n",
      "\n"
     ]
    }
   ],
   "source": [
    "# Deploy the stored function\n",
    "\n",
    "metadata = {\n",
    "    client.deployments.ConfigurationMetaNames.NAME: \"MNIST function deployment\",\n",
    "    client.deployments.ConfigurationMetaNames.ONLINE: {}\n",
    "}\n",
    "\n",
    "function_deployment_details = client.deployments.create(function_uid, meta_props=metadata)"
   ]
  },
  {
   "cell_type": "markdown",
   "metadata": {},
   "source": [
    "## <a id=\"score\"></a> 6. Test the deployed function\n",
    "\n",
    "You can use the Watson Machine Learning Python client or REST API to send data to your function deployment for processing in exactly the same way you send data to model deployments for processing."
   ]
  },
  {
   "cell_type": "code",
   "execution_count": 23,
   "metadata": {},
   "outputs": [
    {
     "name": "stdout",
     "output_type": "stream",
     "text": [
      "f709a93b-c9d8-46b2-900d-79a9849c9f9c\n",
      "https://wmlgmc-cpd-wmlgmc.apps.wmlautoai.cp.fyre.ibm.com/ml/v4/deployments/f709a93b-c9d8-46b2-900d-79a9849c9f9c/predictions\n"
     ]
    }
   ],
   "source": [
    "# Get the endpoint URL of the function deployment just created\n",
    "\n",
    "function_deployment_id = client.deployments.get_uid(function_deployment_details)\n",
    "function_deployment_endpoint_url = client.deployments.get_scoring_href(function_deployment_details)\n",
    "print(function_deployment_id)\n",
    "print(function_deployment_endpoint_url)"
   ]
  },
  {
   "cell_type": "code",
   "execution_count": 24,
   "metadata": {},
   "outputs": [],
   "source": [
    "payload = {\"input_data\": [{\"values\": [sample_cavas_data]}]}"
   ]
  },
  {
   "cell_type": "markdown",
   "metadata": {},
   "source": [
    "### 6.1 Watson Machine Learning Python client"
   ]
  },
  {
   "cell_type": "code",
   "execution_count": 25,
   "metadata": {},
   "outputs": [
    {
     "name": "stdout",
     "output_type": "stream",
     "text": [
      "{'predictions': [{'id': 'classes', 'values': [4]}]}\n"
     ]
    }
   ],
   "source": [
    "result = client.deployments.score(function_deployment_id, payload)\n",
    "if \"error\" in result:\n",
    "    print(result[\"error\"])\n",
    "else:\n",
    "    print(result)"
   ]
  },
  {
   "cell_type": "markdown",
   "metadata": {},
   "source": [
    "## <a id=\"cleanup\"></a> 7. Clean up"
   ]
  },
  {
   "cell_type": "markdown",
   "metadata": {},
   "source": [
    "If you want to clean up all created assets:\n",
    "- experiments\n",
    "- trainings\n",
    "- pipelines\n",
    "- model definitions\n",
    "- models\n",
    "- functions\n",
    "- deployments\n",
    "\n",
    "please follow up this sample [notebook](https://github.com/IBM/watson-machine-learning-samples/blob/master/notebooks/python_sdk/instance-management/Machine%20Learning%20artifacts%20management.ipynb)."
   ]
  },
  {
   "cell_type": "markdown",
   "metadata": {},
   "source": [
    "<a id=\"summary\"></a>\n",
    "## 8. Summary and next steps\n",
    "In this notebook, you created a Python function that receives HTML canvas image data and then processes and sends that data to a model trained to recognize handwritten digits.\n",
    "\n",
    "To learn how you can use this deployed function in a web app, see:\n",
    "- <a href=\"https://dataplatform.cloud.ibm.com/docs/content/analyze-data/ml-nodejs-mnist-tutorial.html\" target=\"_blank\" rel=\"noopener noreferrer\">Sample Node.js app that recognizes hand-drawn digits</a>\n",
    "- <a href=\"https://dataplatform.cloud.ibm.com/docs/content/analyze-data/ml-python-flask-mnist-tutorial.html\" target=\"_blank\" rel=\"noopener noreferrer\">Sample Python Flask app that recognizes hand-drawn digits</a>"
   ]
  },
  {
   "cell_type": "markdown",
   "metadata": {},
   "source": [
    "### <a id=\"authors\"></a>Authors\n",
    "\n",
    "**Sarah Packowski** is a member of the IBM Watson Studio Content Design team in Canada."
   ]
  },
  {
   "cell_type": "markdown",
   "metadata": {},
   "source": [
    "\n",
    "<hr>\n",
    "Copyright © 2018-2025 IBM. This notebook and its source code are released under the terms of the MIT License."
   ]
  }
 ],
 "metadata": {
  "kernelspec": {
   "display_name": "Python 3",
   "language": "python",
   "name": "python3"
  },
  "language_info": {
   "codemirror_mode": {
    "name": "ipython",
    "version": 3
   },
   "file_extension": ".py",
   "mimetype": "text/x-python",
   "name": "python",
   "nbconvert_exporter": "python",
   "pygments_lexer": "ipython3",
   "version": "3.7.10"
  }
 },
 "nbformat": 4,
 "nbformat_minor": 4
}
