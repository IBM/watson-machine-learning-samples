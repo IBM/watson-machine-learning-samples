{
  "cells": [
    {
      "cell_type": "markdown",
      "metadata": {
        "pycharm": {
          "name": "#%% md\n"
        }
      },
      "source": [
        "# Use Spark to predict credit risk with `ibm-watson-machine-learning`"
      ]
    },
    {
      "cell_type": "markdown",
      "metadata": {},
      "source": [
        "This notebook introduces commands for model persistance to Watson Machine Learning repository, model deployment, and scoring.\n",
        "\n",
        "Some familiarity with Python is helpful. This notebook uses Python 3.6 and Apache® Spark 2.4.\n",
        "\n",
        "You will use **German Credit Risk** dataset.\n",
        "\n",
        "\n",
        "## Learning goals\n",
        "\n",
        "The learning goals of this notebook are:\n",
        "\n",
        "-  Load a CSV file into an Apache® Spark DataFrame.\n",
        "-  Explore data.\n",
        "-  Prepare data for training and evaluation.\n",
        "-  Persist a pipeline and model in Watson Machine Learning repository from tar.gz files.\n",
        "-  Deploy a model for online scoring using Wastson Machine Learning API.\n",
        "-  Score sample scoring data using the Watson Machine Learning API.\n",
        "-  Explore and visualize prediction result using the plotly package.\n",
        "\n",
        "\n",
        "## Contents\n",
        "\n",
        "This notebook contains the following parts:\n",
        "\n",
        "1.\t[Set up](#setup)\n",
        "2.\t[Load and explore data](#load)\n",
        "3.\t[Persist model](#upload)\n",
        "4.\t[Predict locally](#visualization)\n",
        "5.\t[Deploy and score](#deploy)\n",
        "6.\t[Clean up](#cleanup)\n",
        "7.\t[Summary and next steps](#summary)"
      ]
    },
    {
      "cell_type": "markdown",
      "metadata": {},
      "source": [
        "<a id=\"setup\"></a>\n",
        "## 1. Set up the environment\n",
        "\n",
        "Before you use the sample code in this notebook, you must perform the following setup tasks:\n",
        "\n",
        "-  Contact with your Cloud Pack for Data administrator and ask him for your account credentials"
      ]
    },
    {
      "cell_type": "markdown",
      "metadata": {},
      "source": [
        "### Connection to WML\n",
        "\n",
        "Authenticate the Watson Machine Learning service on IBM Cloud Pack for Data. You need to provide platform `url`, your `username` and `password`."
      ]
    },
    {
      "cell_type": "code",
      "execution_count": null,
      "metadata": {},
      "outputs": [],
      "source": [
        "username = 'PASTE YOUR USERNAME HERE'\n",
        "password = 'PASTE YOUR PASSWORD HERE'\n",
        "url = 'PASTE THE PLATFORM URL HERE'"
      ]
    },
    {
      "cell_type": "code",
      "execution_count": 2,
      "metadata": {},
      "outputs": [],
      "source": [
        "wml_credentials = {\n",
        "    \"username\": username,\n",
        "    \"password\": password,\n",
        "    \"url\": url,\n",
        "    \"instance_id\": 'openshift',\n",
        "    \"version\": '3.5'\n",
        "}"
      ]
    },
    {
      "cell_type": "markdown",
      "metadata": {},
      "source": [
        "### Install and import the `ibm-watson-machine-learning` package\n",
        "**Note:** `ibm-watson-machine-learning` documentation can be found <a href=\"http://ibm-wml-api-pyclient.mybluemix.net/\" target=\"_blank\" rel=\"noopener no referrer\">here</a>."
      ]
    },
    {
      "cell_type": "code",
      "execution_count": null,
      "metadata": {},
      "outputs": [],
      "source": [
        "!pip install -U ibm-watson-machine-learning"
      ]
    },
    {
      "cell_type": "code",
      "execution_count": 3,
      "metadata": {},
      "outputs": [],
      "source": [
        "from ibm_watson_machine_learning import APIClient\n",
        "\n",
        "client = APIClient(wml_credentials)"
      ]
    },
    {
      "cell_type": "markdown",
      "metadata": {},
      "source": [
        "### Working with spaces\n",
        "\n",
        "First of all, you need to create a space that will be used for your work. If you do not have space already created, you can use `{PLATFORM_URL}/ml-runtime/spaces?context=icp4data` to create one.\n",
        "\n",
        "- Click New Deployment Space\n",
        "- Create an empty space\n",
        "- Go to space `Settings` tab\n",
        "- Copy `space_id` and paste it below\n",
        "\n",
        "**Tip**: You can also use SDK to prepare the space for your work. More information can be found [here](https://github.com/IBM/watson-machine-learning-samples/blob/master/cpd3.5/notebooks/python_sdk/instance-management/Space%20management.ipynb).\n",
        "\n",
        "**Action**: Assign space ID below"
      ]
    },
    {
      "cell_type": "code",
      "execution_count": null,
      "metadata": {},
      "outputs": [],
      "source": [
        "space_id = 'PASTE YOUR SPACE ID HERE'"
      ]
    },
    {
      "cell_type": "markdown",
      "metadata": {},
      "source": [
        "You can use `list` method to print all existing spaces."
      ]
    },
    {
      "cell_type": "code",
      "execution_count": null,
      "metadata": {},
      "outputs": [],
      "source": [
        "client.spaces.list(limit=10)"
      ]
    },
    {
      "cell_type": "markdown",
      "metadata": {},
      "source": [
        "To be able to interact with all resources available in Watson Machine Learning, you need to set **space** which you will be using."
      ]
    },
    {
      "cell_type": "code",
      "execution_count": 4,
      "metadata": {},
      "outputs": [
        {
          "data": {
            "text/plain": [
              "'SUCCESS'"
            ]
          },
          "execution_count": 4,
          "metadata": {},
          "output_type": "execute_result"
        }
      ],
      "source": [
        "client.set.default_space(space_id)"
      ]
    },
    {
      "cell_type": "markdown",
      "metadata": {},
      "source": [
        "### Test Spark"
      ]
    },
    {
      "cell_type": "code",
      "execution_count": 5,
      "metadata": {},
      "outputs": [],
      "source": [
        "try:\n",
        "    from pyspark.sql import SparkSession\n",
        "except:\n",
        "    print('Error: Spark runtime is missing. If you are using Watson Studio change the notebook runtime to Spark.')\n",
        "    raise"
      ]
    },
    {
      "cell_type": "markdown",
      "metadata": {},
      "source": [
        "<a id=\"load\"></a>\n",
        "## 2. Load and explore data"
      ]
    },
    {
      "cell_type": "markdown",
      "metadata": {},
      "source": [
        "In this section you will load the data as an Apache® Spark DataFrame and perform a basic exploration.\n",
        " "
      ]
    },
    {
      "cell_type": "markdown",
      "metadata": {},
      "source": [
        "The csv file for German Credit Risk is available on the same repository as this notebook. Load the file to Apache® Spark DataFrame using code below."
      ]
    },
    {
      "cell_type": "code",
      "execution_count": 6,
      "metadata": {},
      "outputs": [],
      "source": [
        "import os\n",
        "from wget import download\n",
        "\n",
        "sample_dir = 'spark_sample_model'\n",
        "if not os.path.isdir(sample_dir):\n",
        "    os.mkdir(sample_dir)\n",
        "    \n",
        "filename = os.path.join(sample_dir, 'credit_risk_training.csv')\n",
        "if not os.path.isfile(filename):\n",
        "    filename = download('https://github.com/IBM/watson-machine-learning-samples/raw/master/cpd3.5/data/credit_risk/credit_risk_training.csv', out=sample_dir)"
      ]
    },
    {
      "cell_type": "code",
      "execution_count": 7,
      "metadata": {},
      "outputs": [],
      "source": [
        "spark = SparkSession.builder.getOrCreate()\n",
        "\n",
        "df_data = spark.read\\\n",
        "  .format('org.apache.spark.sql.execution.datasources.csv.CSVFileFormat')\\\n",
        "  .option('header', 'true')\\\n",
        "  .option('inferSchema', 'true')\\\n",
        "  .load(filename)"
      ]
    },
    {
      "cell_type": "markdown",
      "metadata": {},
      "source": [
        "Explore the loaded data by using the following Apache® Spark DataFrame methods:\n",
        "-  print schema\n",
        "-  print top ten records\n",
        "-  count all records"
      ]
    },
    {
      "cell_type": "code",
      "execution_count": 8,
      "metadata": {},
      "outputs": [
        {
          "name": "stdout",
          "output_type": "stream",
          "text": [
            "root\n",
            " |-- CheckingStatus: string (nullable = true)\n",
            " |-- LoanDuration: integer (nullable = true)\n",
            " |-- CreditHistory: string (nullable = true)\n",
            " |-- LoanPurpose: string (nullable = true)\n",
            " |-- LoanAmount: integer (nullable = true)\n",
            " |-- ExistingSavings: string (nullable = true)\n",
            " |-- EmploymentDuration: string (nullable = true)\n",
            " |-- InstallmentPercent: integer (nullable = true)\n",
            " |-- Sex: string (nullable = true)\n",
            " |-- OthersOnLoan: string (nullable = true)\n",
            " |-- CurrentResidenceDuration: integer (nullable = true)\n",
            " |-- OwnsProperty: string (nullable = true)\n",
            " |-- Age: integer (nullable = true)\n",
            " |-- InstallmentPlans: string (nullable = true)\n",
            " |-- Housing: string (nullable = true)\n",
            " |-- ExistingCreditsCount: integer (nullable = true)\n",
            " |-- Job: string (nullable = true)\n",
            " |-- Dependents: integer (nullable = true)\n",
            " |-- Telephone: string (nullable = true)\n",
            " |-- ForeignWorker: string (nullable = true)\n",
            " |-- Risk: string (nullable = true)\n",
            "\n"
          ]
        }
      ],
      "source": [
        "df_data.printSchema()"
      ]
    },
    {
      "cell_type": "markdown",
      "metadata": {},
      "source": [
        "As you can see, the data contains 21 fields. Risk field is the one we would like to predict (label)."
      ]
    },
    {
      "cell_type": "code",
      "execution_count": 9,
      "metadata": {},
      "outputs": [
        {
          "name": "stdout",
          "output_type": "stream",
          "text": [
            "-RECORD 0------------------------------------------\n",
            " CheckingStatus           | 0_to_200               \n",
            " LoanDuration             | 31                     \n",
            " CreditHistory            | credits_paid_to_date   \n",
            " LoanPurpose              | other                  \n",
            " LoanAmount               | 1889                   \n",
            " ExistingSavings          | 100_to_500             \n",
            " EmploymentDuration       | less_1                 \n",
            " InstallmentPercent       | 3                      \n",
            " Sex                      | female                 \n",
            " OthersOnLoan             | none                   \n",
            " CurrentResidenceDuration | 3                      \n",
            " OwnsProperty             | savings_insurance      \n",
            " Age                      | 32                     \n",
            " InstallmentPlans         | none                   \n",
            " Housing                  | own                    \n",
            " ExistingCreditsCount     | 1                      \n",
            " Job                      | skilled                \n",
            " Dependents               | 1                      \n",
            " Telephone                | none                   \n",
            " ForeignWorker            | yes                    \n",
            " Risk                     | No Risk                \n",
            "-RECORD 1------------------------------------------\n",
            " CheckingStatus           | less_0                 \n",
            " LoanDuration             | 18                     \n",
            " CreditHistory            | credits_paid_to_date   \n",
            " LoanPurpose              | car_new                \n",
            " LoanAmount               | 462                    \n",
            " ExistingSavings          | less_100               \n",
            " EmploymentDuration       | 1_to_4                 \n",
            " InstallmentPercent       | 2                      \n",
            " Sex                      | female                 \n",
            " OthersOnLoan             | none                   \n",
            " CurrentResidenceDuration | 2                      \n",
            " OwnsProperty             | savings_insurance      \n",
            " Age                      | 37                     \n",
            " InstallmentPlans         | stores                 \n",
            " Housing                  | own                    \n",
            " ExistingCreditsCount     | 2                      \n",
            " Job                      | skilled                \n",
            " Dependents               | 1                      \n",
            " Telephone                | none                   \n",
            " ForeignWorker            | yes                    \n",
            " Risk                     | No Risk                \n",
            "-RECORD 2------------------------------------------\n",
            " CheckingStatus           | less_0                 \n",
            " LoanDuration             | 15                     \n",
            " CreditHistory            | prior_payments_delayed \n",
            " LoanPurpose              | furniture              \n",
            " LoanAmount               | 250                    \n",
            " ExistingSavings          | less_100               \n",
            " EmploymentDuration       | 1_to_4                 \n",
            " InstallmentPercent       | 2                      \n",
            " Sex                      | male                   \n",
            " OthersOnLoan             | none                   \n",
            " CurrentResidenceDuration | 3                      \n",
            " OwnsProperty             | real_estate            \n",
            " Age                      | 28                     \n",
            " InstallmentPlans         | none                   \n",
            " Housing                  | own                    \n",
            " ExistingCreditsCount     | 2                      \n",
            " Job                      | skilled                \n",
            " Dependents               | 1                      \n",
            " Telephone                | yes                    \n",
            " ForeignWorker            | no                     \n",
            " Risk                     | No Risk                \n",
            "-RECORD 3------------------------------------------\n",
            " CheckingStatus           | 0_to_200               \n",
            " LoanDuration             | 28                     \n",
            " CreditHistory            | credits_paid_to_date   \n",
            " LoanPurpose              | retraining             \n",
            " LoanAmount               | 3693                   \n",
            " ExistingSavings          | less_100               \n",
            " EmploymentDuration       | greater_7              \n",
            " InstallmentPercent       | 3                      \n",
            " Sex                      | male                   \n",
            " OthersOnLoan             | none                   \n",
            " CurrentResidenceDuration | 2                      \n",
            " OwnsProperty             | savings_insurance      \n",
            " Age                      | 32                     \n",
            " InstallmentPlans         | none                   \n",
            " Housing                  | own                    \n",
            " ExistingCreditsCount     | 1                      \n",
            " Job                      | skilled                \n",
            " Dependents               | 1                      \n",
            " Telephone                | none                   \n",
            " ForeignWorker            | yes                    \n",
            " Risk                     | No Risk                \n",
            "-RECORD 4------------------------------------------\n",
            " CheckingStatus           | no_checking            \n",
            " LoanDuration             | 28                     \n",
            " CreditHistory            | prior_payments_delayed \n",
            " LoanPurpose              | education              \n",
            " LoanAmount               | 6235                   \n",
            " ExistingSavings          | 500_to_1000            \n",
            " EmploymentDuration       | greater_7              \n",
            " InstallmentPercent       | 3                      \n",
            " Sex                      | male                   \n",
            " OthersOnLoan             | none                   \n",
            " CurrentResidenceDuration | 3                      \n",
            " OwnsProperty             | unknown                \n",
            " Age                      | 57                     \n",
            " InstallmentPlans         | none                   \n",
            " Housing                  | own                    \n",
            " ExistingCreditsCount     | 2                      \n",
            " Job                      | skilled                \n",
            " Dependents               | 1                      \n",
            " Telephone                | none                   \n",
            " ForeignWorker            | yes                    \n",
            " Risk                     | Risk                   \n",
            "only showing top 5 rows\n",
            "\n"
          ]
        }
      ],
      "source": [
        "df_data.show(n=5, truncate=False, vertical=True)"
      ]
    },
    {
      "cell_type": "code",
      "execution_count": 10,
      "metadata": {},
      "outputs": [
        {
          "name": "stdout",
          "output_type": "stream",
          "text": [
            "Number of records: 5000\n"
          ]
        }
      ],
      "source": [
        "print(\"Number of records: \" + str(df_data.count()))"
      ]
    },
    {
      "cell_type": "markdown",
      "metadata": {},
      "source": [
        "As you can see, the data set contains 5000 records."
      ]
    },
    {
      "cell_type": "markdown",
      "metadata": {},
      "source": [
        "### 2.1 Prepare data\n",
        "\n",
        "In this subsection you will split your data into: train, test and predict datasets."
      ]
    },
    {
      "cell_type": "code",
      "execution_count": 11,
      "metadata": {},
      "outputs": [
        {
          "name": "stdout",
          "output_type": "stream",
          "text": [
            "Number of training records: 4016\n",
            "Number of testing records : 881\n",
            "Number of prediction records : 103\n"
          ]
        }
      ],
      "source": [
        "splitted_data = df_data.randomSplit([0.8, 0.18, 0.02], 24)\n",
        "train_data = splitted_data[0]\n",
        "test_data = splitted_data[1]\n",
        "predict_data = splitted_data[2]\n",
        "\n",
        "print(\"Number of training records: \" + str(train_data.count()))\n",
        "print(\"Number of testing records : \" + str(test_data.count()))\n",
        "print(\"Number of prediction records : \" + str(predict_data.count()))"
      ]
    },
    {
      "cell_type": "markdown",
      "metadata": {},
      "source": [
        "As you can see our data has been successfully split into three datasets: \n",
        "\n",
        "-  The train data set, which is the largest group, is used for training.\n",
        "-  The test data set will be used for model evaluation and is used to test the assumptions of the model.\n",
        "-  The predict data set will be used for prediction."
      ]
    },
    {
      "cell_type": "markdown",
      "metadata": {},
      "source": [
        "<a id=\"upload\"></a>\n",
        "## 3. Persist model"
      ]
    },
    {
      "cell_type": "markdown",
      "metadata": {},
      "source": [
        "In this section you will learn how to store your pipeline and model in Watson Machine Learning repository by using python client libraries."
      ]
    },
    {
      "cell_type": "markdown",
      "metadata": {},
      "source": [
        "**Note**: Apache® Spark 2.4 is required."
      ]
    },
    {
      "cell_type": "markdown",
      "metadata": {},
      "source": [
        "### 3.1: Save pipeline and model"
      ]
    },
    {
      "cell_type": "markdown",
      "metadata": {},
      "source": [
        "In this subsection you will learn how to save pipeline and model artifacts to your Watson Machine Learning instance."
      ]
    },
    {
      "cell_type": "markdown",
      "metadata": {},
      "source": [
        "**Download pipeline and model archives**"
      ]
    },
    {
      "cell_type": "code",
      "execution_count": 12,
      "metadata": {},
      "outputs": [],
      "source": [
        "import os\n",
        "from wget import download\n",
        "\n",
        "sample_dir = 'spark_sample_model'\n",
        "if not os.path.isdir(sample_dir):\n",
        "    os.mkdir(sample_dir)\n",
        "    \n",
        "pipeline_filename = os.path.join(sample_dir, 'credit_risk_spark_pipeline.tar.gz')\n",
        "if not os.path.isfile(pipeline_filename):\n",
        "    pipeline_filename = download('https://github.com/IBM/watson-machine-learning-samples/raw/master/cpd3.5/models/spark/credit-risk/model/credit_risk_spark_pipeline.tar.gz', out=sample_dir)\n",
        "model_filename = os.path.join(sample_dir, 'credit_risk_spark_model.gz')\n",
        "if not os.path.isfile(model_filename):\n",
        "    model_filename = download('https://github.com/IBM/watson-machine-learning-samples/raw/master/cpd3.5/models/spark/credit-risk/model/credit_risk_spark_model.gz', out=sample_dir)"
      ]
    },
    {
      "cell_type": "markdown",
      "metadata": {
        "pycharm": {
          "name": "#%% md\n"
        }
      },
      "source": [
        "**Store piepline and model**"
      ]
    },
    {
      "cell_type": "markdown",
      "metadata": {},
      "source": [
        "To be able to store your Spark model, you need to provide a training data reference, this will allow to read the model schema automatically."
      ]
    },
    {
      "cell_type": "code",
      "execution_count": 13,
      "metadata": {},
      "outputs": [],
      "source": [
        "training_data_references = [\n",
        "                {\n",
        "                    \"type\": \"fs\",\n",
        "                    \"connection\": {},\n",
        "                    \"location\": {},\n",
        "                    \"schema\": {\n",
        "                    \"id\": \"training_schema\",\n",
        "                    \"fields\": [\n",
        "                      {\n",
        "                        \"metadata\": {},\n",
        "                        \"name\": \"CheckingStatus\",\n",
        "                        \"nullable\": True,\n",
        "                        \"type\": \"string\"\n",
        "                      },\n",
        "                      {\n",
        "                        \"metadata\": {},\n",
        "                        \"name\": \"LoanDuration\",\n",
        "                        \"nullable\": True,\n",
        "                        \"type\": \"integer\"\n",
        "                      },\n",
        "                      {\n",
        "                        \"metadata\": {},\n",
        "                        \"name\": \"CreditHistory\",\n",
        "                        \"nullable\": True,\n",
        "                        \"type\": \"string\"\n",
        "                      },\n",
        "                      {\n",
        "                        \"metadata\": {},\n",
        "                        \"name\": \"LoanPurpose\",\n",
        "                        \"nullable\": True,\n",
        "                        \"type\": \"string\"\n",
        "                      },\n",
        "                      {\n",
        "                        \"metadata\": {},\n",
        "                        \"name\": \"LoanAmount\",\n",
        "                        \"nullable\": True,\n",
        "                        \"type\": \"integer\"\n",
        "                      },\n",
        "                      {\n",
        "                        \"metadata\": {},\n",
        "                        \"name\": \"ExistingSavings\",\n",
        "                        \"nullable\": True,\n",
        "                        \"type\": \"string\"\n",
        "                      },\n",
        "                      {\n",
        "                        \"metadata\": {},\n",
        "                        \"name\": \"EmploymentDuration\",\n",
        "                        \"nullable\": True,\n",
        "                        \"type\": \"string\"\n",
        "                      },\n",
        "                      {\n",
        "                        \"metadata\": {},\n",
        "                        \"name\": \"InstallmentPercent\",\n",
        "                        \"nullable\": True,\n",
        "                        \"type\": \"integer\"\n",
        "                      },\n",
        "                      {\n",
        "                        \"metadata\": {},\n",
        "                        \"name\": \"Sex\",\n",
        "                        \"nullable\": True,\n",
        "                        \"type\": \"string\"\n",
        "                      },\n",
        "                      {\n",
        "                        \"metadata\": {},\n",
        "                        \"name\": \"OthersOnLoan\",\n",
        "                        \"nullable\": True,\n",
        "                        \"type\": \"string\"\n",
        "                      },\n",
        "                      {\n",
        "                        \"metadata\": {},\n",
        "                        \"name\": \"CurrentResidenceDuration\",\n",
        "                        \"nullable\": True,\n",
        "                        \"type\": \"integer\"\n",
        "                      },\n",
        "                      {\n",
        "                        \"metadata\": {},\n",
        "                        \"name\": \"OwnsProperty\",\n",
        "                        \"nullable\": True,\n",
        "                        \"type\": \"string\"\n",
        "                      },\n",
        "                      {\n",
        "                        \"metadata\": {},\n",
        "                        \"name\": \"Age\",\n",
        "                        \"nullable\": True,\n",
        "                        \"type\": \"integer\"\n",
        "                      },\n",
        "                      {\n",
        "                        \"metadata\": {},\n",
        "                        \"name\": \"InstallmentPlans\",\n",
        "                        \"nullable\": True,\n",
        "                        \"type\": \"string\"\n",
        "                      },\n",
        "                      {\n",
        "                        \"metadata\": {},\n",
        "                        \"name\": \"Housing\",\n",
        "                        \"nullable\": True,\n",
        "                        \"type\": \"string\"\n",
        "                      },\n",
        "                      {\n",
        "                        \"metadata\": {},\n",
        "                        \"name\": \"ExistingCreditsCount\",\n",
        "                        \"nullable\": True,\n",
        "                        \"type\": \"integer\"\n",
        "                      },\n",
        "                      {\n",
        "                        \"metadata\": {},\n",
        "                        \"name\": \"Job\",\n",
        "                        \"nullable\": True,\n",
        "                        \"type\": \"string\"\n",
        "                      },\n",
        "                      {\n",
        "                        \"metadata\": {},\n",
        "                        \"name\": \"Dependents\",\n",
        "                        \"nullable\": True,\n",
        "                        \"type\": \"integer\"\n",
        "                      },\n",
        "                      {\n",
        "                        \"metadata\": {},\n",
        "                        \"name\": \"Telephone\",\n",
        "                        \"nullable\": True,\n",
        "                        \"type\": \"string\"\n",
        "                      },\n",
        "                      {\n",
        "                        \"metadata\": {},\n",
        "                        \"name\": \"ForeignWorker\",\n",
        "                        \"nullable\": True,\n",
        "                        \"type\": \"string\"\n",
        "                      },\n",
        "                      {\n",
        "                        \"metadata\": {\n",
        "                          \"modeling_role\": \"target\"\n",
        "                        },\n",
        "                        \"name\": \"Risk\",\n",
        "                        \"nullable\": True,\n",
        "                        \"type\": \"string\"\n",
        "                      }\n",
        "                    ]\n",
        "                  }\n",
        "                }\n",
        "]"
      ]
    },
    {
      "cell_type": "code",
      "execution_count": 14,
      "metadata": {
        "pycharm": {
          "name": "#%%\n"
        }
      },
      "outputs": [],
      "source": [
        "published_model_details = client.repository.store_model(\n",
        "    model=model_filename, \n",
        "    meta_props={\n",
        "        client.repository.ModelMetaNames.NAME:'Credit Risk model',\n",
        "        client.repository.ModelMetaNames.TYPE: \"mllib_2.4\",\n",
        "        client.repository.ModelMetaNames.SOFTWARE_SPEC_UID: client.software_specifications.get_id_by_name('spark-mllib_2.4'),\n",
        "        client.repository.ModelMetaNames.TRAINING_DATA_REFERENCES: training_data_references,\n",
        "        client.repository.ModelMetaNames.LABEL_FIELD: \"Risk\",\n",
        "    }, \n",
        "    training_data=train_data, \n",
        "    pipeline=pipeline_filename)"
      ]
    },
    {
      "cell_type": "code",
      "execution_count": 15,
      "metadata": {},
      "outputs": [
        {
          "name": "stdout",
          "output_type": "stream",
          "text": [
            "e96692a9-cc64-408d-9b1c-05da622c508a\n"
          ]
        }
      ],
      "source": [
        "model_uid = client.repository.get_model_uid(published_model_details)\n",
        "print(model_uid)"
      ]
    },
    {
      "cell_type": "code",
      "execution_count": null,
      "metadata": {},
      "outputs": [],
      "source": [
        "client.repository.get_model_details(model_uid)"
      ]
    },
    {
      "cell_type": "markdown",
      "metadata": {},
      "source": [
        "Get saved model metadata from Watson Machine Learning."
      ]
    },
    {
      "cell_type": "markdown",
      "metadata": {},
      "source": [
        "**Tip**: Use `client.repository.ModelMetaNames.show()` to get the list of available props."
      ]
    },
    {
      "cell_type": "code",
      "execution_count": 16,
      "metadata": {},
      "outputs": [
        {
          "name": "stdout",
          "output_type": "stream",
          "text": [
            "------------------------  ----  --------  ------------------------------------------------------------------------------------------------------------------------------------------------------------------------------------------------------------------------------------------------------------------------------------------------------------------------------------------------------------------------------------------------------------------------------------\n",
            "META_PROP NAME            TYPE  REQUIRED  SCHEMA\n",
            "NAME                      str   Y\n",
            "DESCRIPTION               str   N\n",
            "INPUT_DATA_SCHEMA         list  N         {'id(required)': 'string', 'fields(required)': [{'name(required)': 'string', 'type(required)': 'string', 'nullable(optional)': 'string'}]}\n",
            "TRAINING_DATA_REFERENCES  list  N         [{'name(optional)': 'string', 'type(required)': 'string', 'connection(required)': {'endpoint_url(required)': 'string', 'access_key_id(required)': 'string', 'secret_access_key(required)': 'string'}, 'location(required)': {'bucket': 'string', 'path': 'string'}, 'schema(optional)': {'id(required)': 'string', 'fields(required)': [{'name(required)': 'string', 'type(required)': 'string', 'nullable(optional)': 'string'}]}}]\n",
            "OUTPUT_DATA_SCHEMA        dict  N         {'id(required)': 'string', 'fields(required)': [{'name(required)': 'string', 'type(required)': 'string', 'nullable(optional)': 'string'}]}\n",
            "LABEL_FIELD               str   N\n",
            "TRANSFORMED_LABEL_FIELD   str   N\n",
            "TAGS                      list  N         ['string', 'string']\n",
            "SIZE                      dict  N         {'in_memory(optional)': 'string', 'content(optional)': 'string'}\n",
            "SPACE_UID                 str   N\n",
            "PIPELINE_UID              str   N\n",
            "RUNTIME_UID               str   N\n",
            "TYPE                      str   Y\n",
            "CUSTOM                    dict  N\n",
            "DOMAIN                    str   N\n",
            "HYPER_PARAMETERS          dict  N\n",
            "METRICS                   list  N\n",
            "IMPORT                    dict  N         {'name(optional)': 'string', 'type(required)': 'string', 'connection(required)': {'endpoint_url(required)': 'string', 'access_key_id(required)': 'string', 'secret_access_key(required)': 'string'}, 'location(required)': {'bucket': 'string', 'path': 'string'}}\n",
            "TRAINING_LIB_UID          str   N\n",
            "MODEL_DEFINITION_UID      str   N\n",
            "SOFTWARE_SPEC_UID         str   N\n",
            "TF_MODEL_PARAMS           dict  N\n",
            "------------------------  ----  --------  ------------------------------------------------------------------------------------------------------------------------------------------------------------------------------------------------------------------------------------------------------------------------------------------------------------------------------------------------------------------------------------------------------------------------------------\n"
          ]
        }
      ],
      "source": [
        "client.repository.ModelMetaNames.show()"
      ]
    },
    {
      "cell_type": "markdown",
      "metadata": {},
      "source": [
        "### 3.2: Load model"
      ]
    },
    {
      "cell_type": "markdown",
      "metadata": {},
      "source": [
        "In this subsection you will learn how to load back saved model from specified instance of Watson Machine Learning."
      ]
    },
    {
      "cell_type": "code",
      "execution_count": 17,
      "metadata": {},
      "outputs": [],
      "source": [
        "loaded_model = client.repository.load(model_uid)"
      ]
    },
    {
      "cell_type": "markdown",
      "metadata": {},
      "source": [
        "You can print for example model name to make sure that model has been loaded correctly."
      ]
    },
    {
      "cell_type": "code",
      "execution_count": 18,
      "metadata": {},
      "outputs": [
        {
          "name": "stdout",
          "output_type": "stream",
          "text": [
            "<class 'pyspark.ml.pipeline.PipelineModel'>\n"
          ]
        }
      ],
      "source": [
        "print(type(loaded_model))"
      ]
    },
    {
      "cell_type": "markdown",
      "metadata": {},
      "source": [
        "<a id=\"visualization\"></a>\n",
        "## 4. Predict locally"
      ]
    },
    {
      "cell_type": "markdown",
      "metadata": {},
      "source": [
        "In this section you will learn how to score test data using loaded model."
      ]
    },
    {
      "cell_type": "markdown",
      "metadata": {},
      "source": [
        "### 4.1: Make local prediction using previously loaded model and test data"
      ]
    },
    {
      "cell_type": "markdown",
      "metadata": {},
      "source": [
        "In this subsection you will score *predict_data* data set."
      ]
    },
    {
      "cell_type": "code",
      "execution_count": 19,
      "metadata": {},
      "outputs": [],
      "source": [
        "predictions = loaded_model.transform(predict_data)"
      ]
    },
    {
      "cell_type": "markdown",
      "metadata": {},
      "source": [
        "Preview the results by calling the *show()* method on the predictions DataFrame."
      ]
    },
    {
      "cell_type": "code",
      "execution_count": 20,
      "metadata": {},
      "outputs": [
        {
          "name": "stdout",
          "output_type": "stream",
          "text": [
            "+--------------+------------+--------------------+-----------+----------+---------------+------------------+------------------+------+------------+------------------------+------------+---+----------------+-------+--------------------+----------+----------+---------+-------------+-------+-----------------+----------------+--------------+------------------+---------------------+------+---------------+---------------+-------------------+----------+------+------------+----------------+-----+--------------------+--------------------+--------------------+----------+--------------+\n",
            "|CheckingStatus|LoanDuration|       CreditHistory|LoanPurpose|LoanAmount|ExistingSavings|EmploymentDuration|InstallmentPercent|   Sex|OthersOnLoan|CurrentResidenceDuration|OwnsProperty|Age|InstallmentPlans|Housing|ExistingCreditsCount|       Job|Dependents|Telephone|ForeignWorker|   Risk|CheckingStatus_IX|CreditHistory_IX|LoanPurpose_IX|ExistingSavings_IX|EmploymentDuration_IX|Sex_IX|OthersOnLoan_IX|OwnsProperty_IX|InstallmentPlans_IX|Housing_IX|Job_IX|Telephone_IX|ForeignWorker_IX|label|            features|       rawPrediction|         probability|prediction|predictedLabel|\n",
            "+--------------+------------+--------------------+-----------+----------+---------------+------------------+------------------+------+------------+------------------------+------------+---+----------------+-------+--------------------+----------+----------+---------+-------------+-------+-----------------+----------------+--------------+------------------+---------------------+------+---------------+---------------+-------------------+----------+------+------------+----------------+-----+--------------------+--------------------+--------------------+----------+--------------+\n",
            "|      0_to_200|          10|credits_paid_to_date|    repairs|      2224|       less_100|            4_to_7|                 3|  male|        none|                       3|   car_other| 29|            none|    own|                   1|   skilled|         1|     none|          yes|   Risk|              2.0|             1.0|           5.0|               0.0|                  1.0|   0.0|            0.0|            1.0|                0.0|       0.0|   0.0|         0.0|             0.0|  1.0|(20,[0,1,2,4,7,13...|[16.7095445704993...|[0.83547722852496...|       0.0|       No Risk|\n",
            "|      0_to_200|          10|          no_credits|    car_new|       250|       less_100|            less_1|                 2|female|        none|                       2| real_estate| 22|            none|    own|                   1|   skilled|         1|     none|          yes|No Risk|              2.0|             4.0|           0.0|               0.0|                  3.0|   1.0|            0.0|            2.0|                0.0|       0.0|   0.0|         0.0|             0.0|  0.0|(20,[0,1,4,5,7,13...|[18.7487477403696...|[0.93743738701848...|       0.0|       No Risk|\n",
            "|      0_to_200|          12|credits_paid_to_date|   car_used|       250|   greater_1000|            1_to_4|                 2|female|        none|                       2| real_estate| 24|            bank|   rent|                   1|unemployed|         1|     none|          yes|No Risk|              2.0|             1.0|           2.0|               3.0|                  0.0|   1.0|            0.0|            2.0|                2.0|       1.0|   3.0|         0.0|             0.0|  0.0|[2.0,1.0,2.0,3.0,...|[17.8941841848564...|[0.89470920924282...|       0.0|       No Risk|\n",
            "|      0_to_200|          13|all_credits_paid_...|    car_new|       250|       less_100|            less_1|                 1|  male|        none|                       2| real_estate| 25|          stores|   rent|                   1|   skilled|         1|     none|          yes|No Risk|              2.0|             3.0|           0.0|               0.0|                  3.0|   0.0|            0.0|            2.0|                1.0|       1.0|   0.0|         0.0|             0.0|  0.0|[2.0,3.0,0.0,0.0,...|[18.7487477403696...|[0.93743738701848...|       0.0|       No Risk|\n",
            "|      0_to_200|          13|prior_payments_de...|   radio_tv|      2453|       less_100|            4_to_7|                 3|  male|        none|                       2|   car_other| 39|            none|    own|                   2|   skilled|         1|     none|          yes|No Risk|              2.0|             0.0|           3.0|               0.0|                  1.0|   0.0|            0.0|            1.0|                0.0|       0.0|   0.0|         0.0|             0.0|  0.0|(20,[0,2,4,7,13,1...|[16.1402858904161...|[0.80701429452080...|       0.0|       No Risk|\n",
            "+--------------+------------+--------------------+-----------+----------+---------------+------------------+------------------+------+------------+------------------------+------------+---+----------------+-------+--------------------+----------+----------+---------+-------------+-------+-----------------+----------------+--------------+------------------+---------------------+------+---------------+---------------+-------------------+----------+------+------------+----------------+-----+--------------------+--------------------+--------------------+----------+--------------+\n",
            "only showing top 5 rows\n",
            "\n"
          ]
        }
      ],
      "source": [
        "predictions.show(5)"
      ]
    },
    {
      "cell_type": "markdown",
      "metadata": {},
      "source": [
        "By tabulating a count, you can see which product line is the most popular."
      ]
    },
    {
      "cell_type": "code",
      "execution_count": 21,
      "metadata": {},
      "outputs": [
        {
          "name": "stdout",
          "output_type": "stream",
          "text": [
            "+--------------+-----+\n",
            "|predictedLabel|count|\n",
            "+--------------+-----+\n",
            "|No Risk       |82   |\n",
            "|Risk          |21   |\n",
            "+--------------+-----+\n",
            "\n"
          ]
        }
      ],
      "source": [
        "predictions.select(\"predictedLabel\").groupBy(\"predictedLabel\").count().show(truncate=False)"
      ]
    },
    {
      "cell_type": "markdown",
      "metadata": {},
      "source": [
        "<a id=\"deploy\"></a>\n",
        "## 5. Deploy and score"
      ]
    },
    {
      "cell_type": "markdown",
      "metadata": {},
      "source": [
        "In this section you will learn how to create online scoring and to score a new data record using `ibm-watson-machine-learning`."
      ]
    },
    {
      "cell_type": "markdown",
      "metadata": {},
      "source": [
        "**Note:** You can also use REST API to deploy and score.\n",
        "For more information about REST APIs, see the [Swagger Documentation](https://watson-ml-v4-api.mybluemix.net/wml-restapi-cloud.html#/Deployments/deployments_create)."
      ]
    },
    {
      "cell_type": "markdown",
      "metadata": {},
      "source": [
        "### 5.1: Create online scoring endpoint"
      ]
    },
    {
      "cell_type": "markdown",
      "metadata": {},
      "source": [
        "Now you can create an online scoring endpoint. "
      ]
    },
    {
      "cell_type": "markdown",
      "metadata": {},
      "source": [
        "#### Create online deployment for published model"
      ]
    },
    {
      "cell_type": "code",
      "execution_count": 22,
      "metadata": {},
      "outputs": [
        {
          "name": "stdout",
          "output_type": "stream",
          "text": [
            "\n",
            "\n",
            "#######################################################################################\n",
            "\n",
            "Synchronous deployment creation for uid: 'e96692a9-cc64-408d-9b1c-05da622c508a' started\n",
            "\n",
            "#######################################################################################\n",
            "\n",
            "\n",
            "initializing.\n",
            "ready\n",
            "\n",
            "\n",
            "------------------------------------------------------------------------------------------------\n",
            "Successfully finished deployment creation, deployment_uid='3f22f536-f395-4d03-a08f-6311765a0e42'\n",
            "------------------------------------------------------------------------------------------------\n",
            "\n",
            "\n"
          ]
        }
      ],
      "source": [
        "deployment_details = client.deployments.create(\n",
        "    model_uid, \n",
        "    meta_props={\n",
        "        client.deployments.ConfigurationMetaNames.NAME: \"Credit Risk model deployment\",\n",
        "        client.deployments.ConfigurationMetaNames.ONLINE: {}\n",
        "    }\n",
        ")"
      ]
    },
    {
      "cell_type": "code",
      "execution_count": 23,
      "metadata": {},
      "outputs": [
        {
          "data": {
            "text/plain": [
              "{'entity': {'asset': {'id': 'e96692a9-cc64-408d-9b1c-05da622c508a'},\n",
              "  'custom': {},\n",
              "  'deployed_asset_type': 'model',\n",
              "  'hardware_spec': {'id': 'Not_Applicable', 'name': 'S', 'num_nodes': 1},\n",
              "  'name': 'Credit Risk model deployment',\n",
              "  'online': {},\n",
              "  'space_id': '83b00166-9047-4159-b777-83dcb498e7ab',\n",
              "  'status': {'online_url': {'url': 'https://wmlgmc-cpd-wmlgmc.apps.wmlautoai.cp.fyre.ibm.com/ml/v4/deployments/3f22f536-f395-4d03-a08f-6311765a0e42/predictions'},\n",
              "   'state': 'ready'}},\n",
              " 'metadata': {'created_at': '2020-12-08T12:12:57.722Z',\n",
              "  'id': '3f22f536-f395-4d03-a08f-6311765a0e42',\n",
              "  'modified_at': '2020-12-08T12:12:57.722Z',\n",
              "  'name': 'Credit Risk model deployment',\n",
              "  'owner': '1000330999',\n",
              "  'space_id': '83b00166-9047-4159-b777-83dcb498e7ab'}}"
            ]
          },
          "execution_count": 23,
          "metadata": {},
          "output_type": "execute_result"
        }
      ],
      "source": [
        "deployment_details"
      ]
    },
    {
      "cell_type": "markdown",
      "metadata": {},
      "source": [
        "<a id=\"score\"></a>\n",
        "Now, you can send new scoring records (new data) for which you would like to get predictions. To do that, execute the following sample code:"
      ]
    },
    {
      "cell_type": "code",
      "execution_count": 24,
      "metadata": {
        "scrolled": true
      },
      "outputs": [
        {
          "data": {
            "text/plain": [
              "{'predictions': [{'fields': ['CheckingStatus',\n",
              "    'LoanDuration',\n",
              "    'CreditHistory',\n",
              "    'LoanPurpose',\n",
              "    'LoanAmount',\n",
              "    'ExistingSavings',\n",
              "    'EmploymentDuration',\n",
              "    'InstallmentPercent',\n",
              "    'Sex',\n",
              "    'OthersOnLoan',\n",
              "    'CurrentResidenceDuration',\n",
              "    'OwnsProperty',\n",
              "    'Age',\n",
              "    'InstallmentPlans',\n",
              "    'Housing',\n",
              "    'ExistingCreditsCount',\n",
              "    'Job',\n",
              "    'Dependents',\n",
              "    'Telephone',\n",
              "    'ForeignWorker',\n",
              "    'CheckingStatus_IX',\n",
              "    'CreditHistory_IX',\n",
              "    'LoanPurpose_IX',\n",
              "    'ExistingSavings_IX',\n",
              "    'EmploymentDuration_IX',\n",
              "    'Sex_IX',\n",
              "    'OthersOnLoan_IX',\n",
              "    'OwnsProperty_IX',\n",
              "    'InstallmentPlans_IX',\n",
              "    'Housing_IX',\n",
              "    'Job_IX',\n",
              "    'Telephone_IX',\n",
              "    'ForeignWorker_IX',\n",
              "    'features',\n",
              "    'rawPrediction',\n",
              "    'probability',\n",
              "    'prediction',\n",
              "    'predictedLabel'],\n",
              "   'values': [['no_checking',\n",
              "     13,\n",
              "     'credits_paid_to_date',\n",
              "     'car_new',\n",
              "     1343,\n",
              "     '100_to_500',\n",
              "     '1_to_4',\n",
              "     2,\n",
              "     'female',\n",
              "     'none',\n",
              "     3,\n",
              "     'savings_insurance',\n",
              "     46,\n",
              "     'none',\n",
              "     'own',\n",
              "     2,\n",
              "     'skilled',\n",
              "     1,\n",
              "     'none',\n",
              "     'yes',\n",
              "     0.0,\n",
              "     1.0,\n",
              "     0.0,\n",
              "     1.0,\n",
              "     0.0,\n",
              "     1.0,\n",
              "     0.0,\n",
              "     0.0,\n",
              "     0.0,\n",
              "     0.0,\n",
              "     0.0,\n",
              "     0.0,\n",
              "     0.0,\n",
              "     [20,\n",
              "      [1, 3, 5, 13, 14, 15, 16, 17, 18, 19],\n",
              "      [1.0, 1.0, 1.0, 13.0, 1343.0, 2.0, 3.0, 46.0, 2.0, 1.0]],\n",
              "     [13.539659419607977, 6.46034058039202],\n",
              "     [0.676982970980399, 0.32301702901960105],\n",
              "     0.0,\n",
              "     'No Risk'],\n",
              "    ['no_checking',\n",
              "     24,\n",
              "     'prior_payments_delayed',\n",
              "     'furniture',\n",
              "     4567,\n",
              "     '500_to_1000',\n",
              "     '1_to_4',\n",
              "     4,\n",
              "     'male',\n",
              "     'none',\n",
              "     4,\n",
              "     'savings_insurance',\n",
              "     36,\n",
              "     'none',\n",
              "     'free',\n",
              "     2,\n",
              "     'management_self-employed',\n",
              "     1,\n",
              "     'none',\n",
              "     'yes',\n",
              "     0.0,\n",
              "     0.0,\n",
              "     1.0,\n",
              "     2.0,\n",
              "     0.0,\n",
              "     0.0,\n",
              "     0.0,\n",
              "     0.0,\n",
              "     0.0,\n",
              "     2.0,\n",
              "     2.0,\n",
              "     0.0,\n",
              "     0.0,\n",
              "     [20,\n",
              "      [2, 3, 9, 10, 13, 14, 15, 16, 17, 18, 19],\n",
              "      [1.0, 2.0, 2.0, 2.0, 24.0, 4567.0, 4.0, 4.0, 36.0, 2.0, 1.0]],\n",
              "     [12.785167512823998, 7.214832487176002],\n",
              "     [0.6392583756411999, 0.3607416243588001],\n",
              "     0.0,\n",
              "     'No Risk'],\n",
              "    ['0_to_200',\n",
              "     26,\n",
              "     'all_credits_paid_back',\n",
              "     'car_new',\n",
              "     863,\n",
              "     'less_100',\n",
              "     'less_1',\n",
              "     2,\n",
              "     'female',\n",
              "     'co-applicant',\n",
              "     2,\n",
              "     'real_estate',\n",
              "     38,\n",
              "     'none',\n",
              "     'own',\n",
              "     1,\n",
              "     'skilled',\n",
              "     1,\n",
              "     'none',\n",
              "     'yes',\n",
              "     2.0,\n",
              "     3.0,\n",
              "     0.0,\n",
              "     0.0,\n",
              "     3.0,\n",
              "     1.0,\n",
              "     1.0,\n",
              "     2.0,\n",
              "     0.0,\n",
              "     0.0,\n",
              "     0.0,\n",
              "     0.0,\n",
              "     0.0,\n",
              "     [2.0,\n",
              "      3.0,\n",
              "      0.0,\n",
              "      0.0,\n",
              "      3.0,\n",
              "      1.0,\n",
              "      1.0,\n",
              "      2.0,\n",
              "      0.0,\n",
              "      0.0,\n",
              "      0.0,\n",
              "      0.0,\n",
              "      0.0,\n",
              "      26.0,\n",
              "      863.0,\n",
              "      2.0,\n",
              "      2.0,\n",
              "      38.0,\n",
              "      1.0,\n",
              "      1.0],\n",
              "     [17.542315254085228, 2.457684745914773],\n",
              "     [0.8771157627042614, 0.12288423729573865],\n",
              "     0.0,\n",
              "     'No Risk'],\n",
              "    ['0_to_200',\n",
              "     14,\n",
              "     'no_credits',\n",
              "     'car_new',\n",
              "     2368,\n",
              "     'less_100',\n",
              "     '1_to_4',\n",
              "     3,\n",
              "     'female',\n",
              "     'none',\n",
              "     3,\n",
              "     'real_estate',\n",
              "     29,\n",
              "     'none',\n",
              "     'own',\n",
              "     1,\n",
              "     'skilled',\n",
              "     1,\n",
              "     'none',\n",
              "     'yes',\n",
              "     2.0,\n",
              "     4.0,\n",
              "     0.0,\n",
              "     0.0,\n",
              "     0.0,\n",
              "     1.0,\n",
              "     0.0,\n",
              "     2.0,\n",
              "     0.0,\n",
              "     0.0,\n",
              "     0.0,\n",
              "     0.0,\n",
              "     0.0,\n",
              "     [20,\n",
              "      [0, 1, 5, 7, 13, 14, 15, 16, 17, 18, 19],\n",
              "      [2.0, 4.0, 1.0, 2.0, 14.0, 2368.0, 3.0, 3.0, 29.0, 1.0, 1.0]],\n",
              "     [16.74917151322493, 3.2508284867750716],\n",
              "     [0.8374585756612465, 0.16254142433875357],\n",
              "     0.0,\n",
              "     'No Risk'],\n",
              "    ['0_to_200',\n",
              "     4,\n",
              "     'no_credits',\n",
              "     'car_new',\n",
              "     250,\n",
              "     'less_100',\n",
              "     'unemployed',\n",
              "     2,\n",
              "     'female',\n",
              "     'none',\n",
              "     3,\n",
              "     'real_estate',\n",
              "     23,\n",
              "     'none',\n",
              "     'rent',\n",
              "     1,\n",
              "     'management_self-employed',\n",
              "     1,\n",
              "     'none',\n",
              "     'yes',\n",
              "     2.0,\n",
              "     4.0,\n",
              "     0.0,\n",
              "     0.0,\n",
              "     4.0,\n",
              "     1.0,\n",
              "     0.0,\n",
              "     2.0,\n",
              "     0.0,\n",
              "     1.0,\n",
              "     2.0,\n",
              "     0.0,\n",
              "     0.0,\n",
              "     [2.0,\n",
              "      4.0,\n",
              "      0.0,\n",
              "      0.0,\n",
              "      4.0,\n",
              "      1.0,\n",
              "      0.0,\n",
              "      2.0,\n",
              "      0.0,\n",
              "      1.0,\n",
              "      2.0,\n",
              "      0.0,\n",
              "      0.0,\n",
              "      4.0,\n",
              "      250.0,\n",
              "      2.0,\n",
              "      3.0,\n",
              "      23.0,\n",
              "      1.0,\n",
              "      1.0],\n",
              "     [18.519458793482613, 1.4805412065173857],\n",
              "     [0.9259729396741306, 0.07402706032586928],\n",
              "     0.0,\n",
              "     'No Risk'],\n",
              "    ['no_checking',\n",
              "     17,\n",
              "     'credits_paid_to_date',\n",
              "     'car_new',\n",
              "     832,\n",
              "     '100_to_500',\n",
              "     '1_to_4',\n",
              "     2,\n",
              "     'male',\n",
              "     'none',\n",
              "     2,\n",
              "     'real_estate',\n",
              "     42,\n",
              "     'none',\n",
              "     'own',\n",
              "     1,\n",
              "     'skilled',\n",
              "     1,\n",
              "     'none',\n",
              "     'yes',\n",
              "     0.0,\n",
              "     1.0,\n",
              "     0.0,\n",
              "     1.0,\n",
              "     0.0,\n",
              "     0.0,\n",
              "     0.0,\n",
              "     2.0,\n",
              "     0.0,\n",
              "     0.0,\n",
              "     0.0,\n",
              "     0.0,\n",
              "     0.0,\n",
              "     [20,\n",
              "      [1, 3, 7, 13, 14, 15, 16, 17, 18, 19],\n",
              "      [1.0, 1.0, 2.0, 17.0, 832.0, 2.0, 2.0, 42.0, 1.0, 1.0]],\n",
              "     [15.520847400508805, 4.4791525994911945],\n",
              "     [0.7760423700254402, 0.22395762997455973],\n",
              "     0.0,\n",
              "     'No Risk'],\n",
              "    ['no_checking',\n",
              "     33,\n",
              "     'outstanding_credit',\n",
              "     'appliances',\n",
              "     5696,\n",
              "     'unknown',\n",
              "     'greater_7',\n",
              "     4,\n",
              "     'male',\n",
              "     'co-applicant',\n",
              "     4,\n",
              "     'unknown',\n",
              "     54,\n",
              "     'none',\n",
              "     'free',\n",
              "     2,\n",
              "     'skilled',\n",
              "     1,\n",
              "     'yes',\n",
              "     'yes',\n",
              "     0.0,\n",
              "     2.0,\n",
              "     4.0,\n",
              "     4.0,\n",
              "     2.0,\n",
              "     0.0,\n",
              "     1.0,\n",
              "     3.0,\n",
              "     0.0,\n",
              "     2.0,\n",
              "     0.0,\n",
              "     1.0,\n",
              "     0.0,\n",
              "     [0.0,\n",
              "      2.0,\n",
              "      4.0,\n",
              "      4.0,\n",
              "      2.0,\n",
              "      0.0,\n",
              "      1.0,\n",
              "      3.0,\n",
              "      0.0,\n",
              "      2.0,\n",
              "      0.0,\n",
              "      1.0,\n",
              "      0.0,\n",
              "      33.0,\n",
              "      5696.0,\n",
              "      4.0,\n",
              "      4.0,\n",
              "      54.0,\n",
              "      2.0,\n",
              "      1.0],\n",
              "     [1.8811314591199693, 18.11886854088003],\n",
              "     [0.09405657295599847, 0.9059434270440014],\n",
              "     1.0,\n",
              "     'Risk'],\n",
              "    ['0_to_200',\n",
              "     13,\n",
              "     'prior_payments_delayed',\n",
              "     'retraining',\n",
              "     1375,\n",
              "     '100_to_500',\n",
              "     '4_to_7',\n",
              "     3,\n",
              "     'male',\n",
              "     'none',\n",
              "     3,\n",
              "     'real_estate',\n",
              "     37,\n",
              "     'none',\n",
              "     'own',\n",
              "     2,\n",
              "     'management_self-employed',\n",
              "     1,\n",
              "     'none',\n",
              "     'yes',\n",
              "     2.0,\n",
              "     0.0,\n",
              "     8.0,\n",
              "     1.0,\n",
              "     1.0,\n",
              "     0.0,\n",
              "     0.0,\n",
              "     2.0,\n",
              "     0.0,\n",
              "     0.0,\n",
              "     2.0,\n",
              "     0.0,\n",
              "     0.0,\n",
              "     [2.0,\n",
              "      0.0,\n",
              "      8.0,\n",
              "      1.0,\n",
              "      1.0,\n",
              "      0.0,\n",
              "      0.0,\n",
              "      2.0,\n",
              "      0.0,\n",
              "      0.0,\n",
              "      2.0,\n",
              "      0.0,\n",
              "      0.0,\n",
              "      13.0,\n",
              "      1375.0,\n",
              "      3.0,\n",
              "      3.0,\n",
              "      37.0,\n",
              "      2.0,\n",
              "      1.0],\n",
              "     [16.185863861771526, 3.8141361382284735],\n",
              "     [0.8092931930885763, 0.19070680691142367],\n",
              "     0.0,\n",
              "     'No Risk']]}]}"
            ]
          },
          "execution_count": 24,
          "metadata": {},
          "output_type": "execute_result"
        }
      ],
      "source": [
        "fields = [\"CheckingStatus\", \"LoanDuration\", \"CreditHistory\", \"LoanPurpose\", \"LoanAmount\", \"ExistingSavings\",\n",
        "                  \"EmploymentDuration\", \"InstallmentPercent\", \"Sex\", \"OthersOnLoan\", \"CurrentResidenceDuration\",\n",
        "                  \"OwnsProperty\", \"Age\", \"InstallmentPlans\", \"Housing\", \"ExistingCreditsCount\", \"Job\", \"Dependents\",\n",
        "                  \"Telephone\", \"ForeignWorker\"]\n",
        "values = [\n",
        "    [\"no_checking\", 13, \"credits_paid_to_date\", \"car_new\", 1343, \"100_to_500\", \"1_to_4\", 2, \"female\", \"none\", 3,\n",
        "     \"savings_insurance\", 46, \"none\", \"own\", 2, \"skilled\", 1, \"none\", \"yes\"],\n",
        "    [\"no_checking\", 24, \"prior_payments_delayed\", \"furniture\", 4567, \"500_to_1000\", \"1_to_4\", 4, \"male\", \"none\",\n",
        "     4, \"savings_insurance\", 36, \"none\", \"free\", 2, \"management_self-employed\", 1, \"none\", \"yes\"],\n",
        "    [\"0_to_200\", 26, \"all_credits_paid_back\", \"car_new\", 863, \"less_100\", \"less_1\", 2, \"female\", \"co-applicant\",\n",
        "     2, \"real_estate\", 38, \"none\", \"own\", 1, \"skilled\", 1, \"none\", \"yes\"],\n",
        "    [\"0_to_200\", 14, \"no_credits\", \"car_new\", 2368, \"less_100\", \"1_to_4\", 3, \"female\", \"none\", 3, \"real_estate\",\n",
        "     29, \"none\", \"own\", 1, \"skilled\", 1, \"none\", \"yes\"],\n",
        "    [\"0_to_200\", 4, \"no_credits\", \"car_new\", 250, \"less_100\", \"unemployed\", 2, \"female\", \"none\", 3,\n",
        "     \"real_estate\", 23, \"none\", \"rent\", 1, \"management_self-employed\", 1, \"none\", \"yes\"],\n",
        "    [\"no_checking\", 17, \"credits_paid_to_date\", \"car_new\", 832, \"100_to_500\", \"1_to_4\", 2, \"male\", \"none\", 2,\n",
        "     \"real_estate\", 42, \"none\", \"own\", 1, \"skilled\", 1, \"none\", \"yes\"],\n",
        "    [\"no_checking\", 33, \"outstanding_credit\", \"appliances\", 5696, \"unknown\", \"greater_7\", 4, \"male\",\n",
        "     \"co-applicant\", 4, \"unknown\", 54, \"none\", \"free\", 2, \"skilled\", 1, \"yes\", \"yes\"],\n",
        "    [\"0_to_200\", 13, \"prior_payments_delayed\", \"retraining\", 1375, \"100_to_500\", \"4_to_7\", 3, \"male\", \"none\", 3,\n",
        "     \"real_estate\", 37, \"none\", \"own\", 2, \"management_self-employed\", 1, \"none\", \"yes\"]\n",
        "]\n",
        "\n",
        "payload_scoring = {\"input_data\": [{\"fields\": fields, \"values\": values}]}\n",
        "deployment_id = client.deployments.get_id(deployment_details)\n",
        "\n",
        "client.deployments.score(deployment_id, payload_scoring)"
      ]
    },
    {
      "cell_type": "markdown",
      "metadata": {},
      "source": [
        "<a id=\"cleanup\"></a>\n",
        "## 6. Clean up "
      ]
    },
    {
      "cell_type": "markdown",
      "metadata": {},
      "source": [
        "If you want to clean up all created assets:\n",
        "- experiments\n",
        "- trainings\n",
        "- pipelines\n",
        "- model definitions\n",
        "- models\n",
        "- functions\n",
        "- deployments\n",
        "\n",
        "please follow up this sample [notebook](https://github.com/IBM/watson-machine-learning-samples/blob/master/cpd3.5/notebooks/python_sdk/instance-management/Machine%20Learning%20artifacts%20management.ipynb)."
      ]
    },
    {
      "cell_type": "markdown",
      "metadata": {},
      "source": [
        "<a id=\"summary\"></a>\n",
        "## 7. Summary and next steps     "
      ]
    },
    {
      "cell_type": "markdown",
      "metadata": {},
      "source": [
        " You successfully completed this notebook! You learned how to use Apache Spark machine learning as well as Watson Machine Learning for model creation and deployment. \n",
        " \n",
        " Check out our [Online Documentation](https://dataplatform.cloud.ibm.com/docs/content/analyze-data/wml-setup.html) for more samples, tutorials, documentation, how-tos, and blog posts. "
      ]
    },
    {
      "cell_type": "markdown",
      "metadata": {},
      "source": [
        "### Authors\n",
        "\n",
        "**Amadeusz Masny**, Python Software Developer in Watson Machine Learning at IBM"
      ]
    },
    {
      "cell_type": "markdown",
      "metadata": {},
      "source": [
        "Copyright © 2020-2025 IBM. This notebook and its source code are released under the terms of the MIT License."
      ]
    }
  ],
  "metadata": {
    "kernelspec": {
      "display_name": "Python 3",
      "language": "python",
      "name": "python3"
    },
    "language_info": {
      "codemirror_mode": {
        "name": "ipython",
        "version": 3
      },
      "file_extension": ".py",
      "mimetype": "text/x-python",
      "name": "python",
      "nbconvert_exporter": "python",
      "pygments_lexer": "ipython3",
      "version": "3.7.9"
    }
  },
  "nbformat": 4,
  "nbformat_minor": 4
}
