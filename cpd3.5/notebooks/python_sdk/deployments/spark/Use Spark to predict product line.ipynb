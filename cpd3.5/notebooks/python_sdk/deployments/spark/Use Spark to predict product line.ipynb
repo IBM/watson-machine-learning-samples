{
  "cells": [
    {
      "cell_type": "markdown",
      "metadata": {},
      "source": [
        "# Use Spark to predict product line with `ibm-watson-machine-learning`"
      ]
    },
    {
      "cell_type": "markdown",
      "metadata": {},
      "source": [
        "This notebook contains steps and code to get data from the IBM Data Science Experience Community, create a predictive model, and start scoring new data. It introduces commands for getting data and for basic data cleaning and exploration, pipeline creation, model training, model persistance to Watson Machine Learning repository, model deployment, and scoring.\n",
        "\n",
        "Some familiarity with Python is helpful. This notebook uses Python 3.6 and Apache® Spark 2.4.\n",
        "\n",
        "You will use a publicly available data set, **GoSales Transactions**, which details anonymous outdoor equipment purchases. Use the details of this data set to predict clients' interests in terms of product line, such as golf accessories, camping equipment, and others.\n",
        "\n",
        "## Learning goals\n",
        "\n",
        "The learning goals of this notebook are:\n",
        "\n",
        "-  Load a CSV file into an Apache® Spark DataFrame.\n",
        "-  Explore data.\n",
        "-  Prepare data for training and evaluation.\n",
        "-  Create an Apache® Spark machine learning pipeline.\n",
        "-  Train and evaluate a model.\n",
        "-  Persist a pipeline and model in Watson Machine Learning repository.\n",
        "-  Deploy a model for online scoring using Wastson Machine Learning API.\n",
        "-  Score sample scoring data using the Watson Machine Learning API.\n",
        "-  Explore and visualize prediction result using the plotly package.\n",
        "\n",
        "\n",
        "## Contents\n",
        "\n",
        "This notebook contains the following parts:\n",
        "\n",
        "1.\t[Setup](#setup)\n",
        "2.\t[Load and explore data](#load)\n",
        "3.\t[Create spark ml model](#model)\n",
        "4.\t[Persist model](#upload)\n",
        "5.\t[Predict locally](#visualization)\n",
        "6.\t[Deploy and score](#deploy)\n",
        "7.  [Clean up](#cleanup)\n",
        "8.\t[Summary and next steps](#summary)"
      ]
    },
    {
      "cell_type": "markdown",
      "metadata": {},
      "source": [
        "<a id=\"setup\"></a>\n",
        "## 1. Set up the environment\n",
        "\n",
        "Before you use the sample code in this notebook, you must perform the following setup tasks:\n",
        "\n",
        "-  Contact with your Cloud Pack for Data administrator and ask him for your account credentials"
      ]
    },
    {
      "cell_type": "markdown",
      "metadata": {},
      "source": [
        "### Connection to WML\n",
        "\n",
        "Authenticate the Watson Machine Learning service on IBM Cloud Pack for Data. You need to provide platform `url`, your `username` and `password`."
      ]
    },
    {
      "cell_type": "code",
      "execution_count": null,
      "metadata": {},
      "outputs": [],
      "source": [
        "username = 'PASTE YOUR USERNAME HERE'\n",
        "password = 'PASTE YOUR PASSWORD HERE'\n",
        "url = 'PASTE THE PLATFORM URL HERE'"
      ]
    },
    {
      "cell_type": "code",
      "execution_count": 2,
      "metadata": {},
      "outputs": [],
      "source": [
        "wml_credentials = {\n",
        "    \"username\": username,\n",
        "    \"password\": password,\n",
        "    \"url\": url,\n",
        "    \"instance_id\": 'openshift',\n",
        "    \"version\": '3.5'\n",
        "}"
      ]
    },
    {
      "cell_type": "markdown",
      "metadata": {},
      "source": [
        "### Install and import the `ibm-watson-machine-learning` package\n",
        "**Note:** `ibm-watson-machine-learning` documentation can be found <a href=\"http://ibm-wml-api-pyclient.mybluemix.net/\" target=\"_blank\" rel=\"noopener no referrer\">here</a>."
      ]
    },
    {
      "cell_type": "code",
      "execution_count": null,
      "metadata": {},
      "outputs": [],
      "source": [
        "!pip install -U ibm-watson-machine-learning"
      ]
    },
    {
      "cell_type": "code",
      "execution_count": 3,
      "metadata": {},
      "outputs": [],
      "source": [
        "from ibm_watson_machine_learning import APIClient\n",
        "\n",
        "client = APIClient(wml_credentials)"
      ]
    },
    {
      "cell_type": "markdown",
      "metadata": {},
      "source": [
        "### Working with spaces\n",
        "\n",
        "First of all, you need to create a space that will be used for your work. If you do not have space already created, you can use `{PLATFORM_URL}/ml-runtime/spaces?context=icp4data` to create one.\n",
        "\n",
        "- Click New Deployment Space\n",
        "- Create an empty space\n",
        "- Go to space `Settings` tab\n",
        "- Copy `space_id` and paste it below\n",
        "\n",
        "**Tip**: You can also use SDK to prepare the space for your work. More information can be found [here](https://github.com/IBM/watson-machine-learning-samples/blob/master/cpd3.5/notebooks/python_sdk/instance-management/Space%20management.ipynb).\n",
        "\n",
        "**Action**: Assign space ID below"
      ]
    },
    {
      "cell_type": "code",
      "execution_count": null,
      "metadata": {},
      "outputs": [],
      "source": [
        "space_id = 'PASTE YOUR SPACE ID HERE'"
      ]
    },
    {
      "cell_type": "markdown",
      "metadata": {},
      "source": [
        "You can use `list` method to print all existing spaces."
      ]
    },
    {
      "cell_type": "code",
      "execution_count": null,
      "metadata": {},
      "outputs": [],
      "source": [
        "client.spaces.list(limit=10)"
      ]
    },
    {
      "cell_type": "markdown",
      "metadata": {},
      "source": [
        "To be able to interact with all resources available in Watson Machine Learning, you need to set **space** which you will be using."
      ]
    },
    {
      "cell_type": "code",
      "execution_count": 4,
      "metadata": {},
      "outputs": [
        {
          "data": {
            "text/plain": [
              "'SUCCESS'"
            ]
          },
          "execution_count": 4,
          "metadata": {},
          "output_type": "execute_result"
        }
      ],
      "source": [
        "client.set.default_space(space_id)"
      ]
    },
    {
      "cell_type": "markdown",
      "metadata": {},
      "source": [
        "<a id=\"load\"></a>\n",
        "## 2. Load and explore data"
      ]
    },
    {
      "cell_type": "markdown",
      "metadata": {},
      "source": [
        "In this section you will load the data as an Apache® Spark DataFrame and perform a basic exploration.\n",
        "\n",
        "Load the data to the Spark DataFrame by using *wget* to upload the data to gpfs and then *read* method. "
      ]
    },
    {
      "cell_type": "markdown",
      "metadata": {},
      "source": [
        "### Test Spark"
      ]
    },
    {
      "cell_type": "code",
      "execution_count": 5,
      "metadata": {},
      "outputs": [],
      "source": [
        "try:\n",
        "    from pyspark.sql import SparkSession\n",
        "except:\n",
        "    print('Error: Spark runtime is missing. If you are using Watson Studio change the notebook runtime to Spark.')\n",
        "    raise"
      ]
    },
    {
      "cell_type": "markdown",
      "metadata": {},
      "source": [
        "The csv file GoSales_Tx.csv is availble on the same repository where this notebook is located. Load the file to Apache® Spark DataFrame using code below."
      ]
    },
    {
      "cell_type": "code",
      "execution_count": 6,
      "metadata": {},
      "outputs": [],
      "source": [
        "import os\n",
        "from wget import download\n",
        "\n",
        "sample_dir = 'spark_sample_model'\n",
        "if not os.path.isdir(sample_dir):\n",
        "    os.mkdir(sample_dir)\n",
        "    \n",
        "filename = os.path.join(sample_dir, 'GoSales_Tx.csv')\n",
        "if not os.path.isfile(filename):\n",
        "    filename = download('https://github.com/IBM/watson-machine-learning-samples/raw/master/cpd3.5/data/product-line-prediction/GoSales_Tx.csv', out=sample_dir)"
      ]
    },
    {
      "cell_type": "code",
      "execution_count": 7,
      "metadata": {},
      "outputs": [
        {
          "data": {
            "text/plain": [
              "[Row(GENDER='M', AGE=27, MARITAL_STATUS='Single', PROFESSION='Professional', PRODUCT_LINE='Personal Accessories'),\n",
              " Row(GENDER='F', AGE=39, MARITAL_STATUS='Single', PROFESSION='Executive', PRODUCT_LINE='Personal Accessories'),\n",
              " Row(GENDER='M', AGE=39, MARITAL_STATUS='Married', PROFESSION='Student', PRODUCT_LINE='Mountaineering Equipment')]"
            ]
          },
          "execution_count": 7,
          "metadata": {},
          "output_type": "execute_result"
        }
      ],
      "source": [
        "spark = SparkSession.builder.getOrCreate()\n",
        "\n",
        "df_data = spark.read\\\n",
        "  .format('org.apache.spark.sql.execution.datasources.csv.CSVFileFormat')\\\n",
        "  .option('header', 'true')\\\n",
        "  .option('inferSchema', 'true')\\\n",
        "  .load(filename)\n",
        "df_data.take(3)"
      ]
    },
    {
      "cell_type": "markdown",
      "metadata": {},
      "source": [
        "Explore the loaded data by using the following Apache® Spark DataFrame methods:\n",
        "-  print schema\n",
        "-  print top ten records\n",
        "-  count all records"
      ]
    },
    {
      "cell_type": "code",
      "execution_count": 8,
      "metadata": {},
      "outputs": [
        {
          "name": "stdout",
          "output_type": "stream",
          "text": [
            "root\n",
            " |-- GENDER: string (nullable = true)\n",
            " |-- AGE: integer (nullable = true)\n",
            " |-- MARITAL_STATUS: string (nullable = true)\n",
            " |-- PROFESSION: string (nullable = true)\n",
            " |-- PRODUCT_LINE: string (nullable = true)\n",
            "\n"
          ]
        }
      ],
      "source": [
        "df_data.printSchema()"
      ]
    },
    {
      "cell_type": "markdown",
      "metadata": {},
      "source": [
        "As you can see, the data contains five fields. PRODUCT_LINE field is the one we would like to predict (label)."
      ]
    },
    {
      "cell_type": "code",
      "execution_count": 9,
      "metadata": {},
      "outputs": [
        {
          "name": "stdout",
          "output_type": "stream",
          "text": [
            "+------+---+--------------+------------+--------------------+\n",
            "|GENDER|AGE|MARITAL_STATUS|  PROFESSION|        PRODUCT_LINE|\n",
            "+------+---+--------------+------------+--------------------+\n",
            "|     M| 27|        Single|Professional|Personal Accessories|\n",
            "|     F| 39|        Single|   Executive|Personal Accessories|\n",
            "|     M| 39|       Married|     Student|Mountaineering Eq...|\n",
            "|     F| 56|        Single| Hospitality|Personal Accessories|\n",
            "|     M| 45|       Married|     Retired|      Golf Equipment|\n",
            "|     M| 45|       Married|     Retired|      Golf Equipment|\n",
            "|     M| 39|       Married|     Student|   Camping Equipment|\n",
            "|     M| 49|       Married|     Student|   Camping Equipment|\n",
            "|     F| 49|       Married|     Retired|  Outdoor Protection|\n",
            "|     M| 47|       Married|     Retired|      Golf Equipment|\n",
            "|     M| 47|       Married|     Retired|      Golf Equipment|\n",
            "|     M| 21|        Single|      Retail|Mountaineering Eq...|\n",
            "|     F| 66|        Single|   Executive|Personal Accessories|\n",
            "|     M| 35|       Married|Professional|   Camping Equipment|\n",
            "|     M| 20|        Single|       Sales|Mountaineering Eq...|\n",
            "|     M| 20|        Single|       Sales|Mountaineering Eq...|\n",
            "|     M| 20|        Single|       Sales|Mountaineering Eq...|\n",
            "|     F| 37|        Single|   Executive|Personal Accessories|\n",
            "|     M| 42|       Married|     Student|   Camping Equipment|\n",
            "|     M| 24|       Married|      Retail|   Camping Equipment|\n",
            "+------+---+--------------+------------+--------------------+\n",
            "only showing top 20 rows\n",
            "\n"
          ]
        }
      ],
      "source": [
        "df_data.show()"
      ]
    },
    {
      "cell_type": "code",
      "execution_count": 10,
      "metadata": {},
      "outputs": [
        {
          "data": {
            "text/plain": [
              "60252"
            ]
          },
          "execution_count": 10,
          "metadata": {},
          "output_type": "execute_result"
        }
      ],
      "source": [
        "df_data.count()"
      ]
    },
    {
      "cell_type": "markdown",
      "metadata": {},
      "source": [
        "As you can see, the data set contains 60252 records."
      ]
    },
    {
      "cell_type": "markdown",
      "metadata": {},
      "source": [
        "<a id=\"model\"></a>\n",
        "## 3. Create an Apache® Spark machine learning model\n",
        "\n",
        "In this section you will learn how to prepare data, create an Apache® Spark machine learning pipeline, and train a model."
      ]
    },
    {
      "cell_type": "markdown",
      "metadata": {},
      "source": [
        "### 3.1: Prepare data\n",
        "\n",
        "In this subsection you will split your data into: train, test and predict datasets."
      ]
    },
    {
      "cell_type": "code",
      "execution_count": 11,
      "metadata": {},
      "outputs": [
        {
          "name": "stdout",
          "output_type": "stream",
          "text": [
            "Number of training records: 48176\n",
            "Number of testing records : 10860\n",
            "Number of prediction records : 1216\n"
          ]
        }
      ],
      "source": [
        "splitted_data = df_data.randomSplit([0.8, 0.18, 0.02], 24)\n",
        "train_data = splitted_data[0]\n",
        "test_data = splitted_data[1]\n",
        "predict_data = splitted_data[2]\n",
        "\n",
        "print(\"Number of training records: \" + str(train_data.count()))\n",
        "print(\"Number of testing records : \" + str(test_data.count()))\n",
        "print(\"Number of prediction records : \" + str(predict_data.count()))"
      ]
    },
    {
      "cell_type": "markdown",
      "metadata": {},
      "source": [
        "As you can see our data has been successfully split into three datasets: \n",
        "\n",
        "-  The train data set, which is the largest group, is used for training.\n",
        "-  The test data set will be used for model evaluation and is used to test the assumptions of the model.\n",
        "-  The predict data set will be used for prediction."
      ]
    },
    {
      "cell_type": "markdown",
      "metadata": {},
      "source": [
        "### 3.2: Create pipeline and train a model"
      ]
    },
    {
      "cell_type": "markdown",
      "metadata": {},
      "source": [
        "In this section you will create an Apache® Spark machine learning pipeline and then train the model."
      ]
    },
    {
      "cell_type": "markdown",
      "metadata": {},
      "source": [
        "In the first step you need to import the Apache® Spark machine learning packages that will be needed in the subsequent steps."
      ]
    },
    {
      "cell_type": "code",
      "execution_count": 12,
      "metadata": {},
      "outputs": [],
      "source": [
        "from pyspark.ml.feature import OneHotEncoder, StringIndexer, IndexToString, VectorAssembler\n",
        "from pyspark.ml.classification import RandomForestClassifier\n",
        "from pyspark.ml.evaluation import MulticlassClassificationEvaluator\n",
        "from pyspark.ml import Pipeline, Model"
      ]
    },
    {
      "cell_type": "markdown",
      "metadata": {},
      "source": [
        "In the following step, convert all the string fields to numeric ones by using the StringIndexer transformer."
      ]
    },
    {
      "cell_type": "code",
      "execution_count": 13,
      "metadata": {},
      "outputs": [],
      "source": [
        "stringIndexer_label = StringIndexer(inputCol=\"PRODUCT_LINE\", outputCol=\"label\").fit(df_data)\n",
        "stringIndexer_prof = StringIndexer(inputCol=\"PROFESSION\", outputCol=\"PROFESSION_IX\")\n",
        "stringIndexer_gend = StringIndexer(inputCol=\"GENDER\", outputCol=\"GENDER_IX\")\n",
        "stringIndexer_mar = StringIndexer(inputCol=\"MARITAL_STATUS\", outputCol=\"MARITAL_STATUS_IX\")"
      ]
    },
    {
      "cell_type": "markdown",
      "metadata": {},
      "source": [
        "In the following step, create a feature vector by combining all features together."
      ]
    },
    {
      "cell_type": "code",
      "execution_count": 14,
      "metadata": {},
      "outputs": [],
      "source": [
        "vectorAssembler_features = VectorAssembler(inputCols=[\"GENDER_IX\", \"AGE\", \"MARITAL_STATUS_IX\", \"PROFESSION_IX\"], outputCol=\"features\")"
      ]
    },
    {
      "cell_type": "markdown",
      "metadata": {},
      "source": [
        "Next, define estimators you want to use for classification. Random Forest is used in the following example."
      ]
    },
    {
      "cell_type": "code",
      "execution_count": 15,
      "metadata": {},
      "outputs": [],
      "source": [
        "rf = RandomForestClassifier(labelCol=\"label\", featuresCol=\"features\")"
      ]
    },
    {
      "cell_type": "markdown",
      "metadata": {},
      "source": [
        "Finally, indexed labels back to original labels."
      ]
    },
    {
      "cell_type": "code",
      "execution_count": 16,
      "metadata": {},
      "outputs": [],
      "source": [
        "labelConverter = IndexToString(inputCol=\"prediction\", outputCol=\"predictedLabel\", labels=stringIndexer_label.labels)"
      ]
    },
    {
      "cell_type": "markdown",
      "metadata": {},
      "source": [
        "Let's build the pipeline now. A pipeline consists of transformers and an estimator."
      ]
    },
    {
      "cell_type": "code",
      "execution_count": 17,
      "metadata": {},
      "outputs": [],
      "source": [
        "pipeline_rf = Pipeline(stages=[stringIndexer_label, stringIndexer_prof, stringIndexer_gend, stringIndexer_mar, vectorAssembler_features, rf, labelConverter])"
      ]
    },
    {
      "cell_type": "markdown",
      "metadata": {},
      "source": [
        "Now, you can train your Random Forest model by using the previously defined **pipeline** and **train data**."
      ]
    },
    {
      "cell_type": "code",
      "execution_count": 18,
      "metadata": {},
      "outputs": [
        {
          "name": "stdout",
          "output_type": "stream",
          "text": [
            "root\n",
            " |-- GENDER: string (nullable = true)\n",
            " |-- AGE: integer (nullable = true)\n",
            " |-- MARITAL_STATUS: string (nullable = true)\n",
            " |-- PROFESSION: string (nullable = true)\n",
            " |-- PRODUCT_LINE: string (nullable = true)\n",
            "\n"
          ]
        }
      ],
      "source": [
        "train_data.printSchema()"
      ]
    },
    {
      "cell_type": "code",
      "execution_count": 19,
      "metadata": {},
      "outputs": [],
      "source": [
        "model_rf = pipeline_rf.fit(train_data)"
      ]
    },
    {
      "cell_type": "markdown",
      "metadata": {},
      "source": [
        "You can check your **model accuracy** now. To evaluate the model, use **test data**."
      ]
    },
    {
      "cell_type": "code",
      "execution_count": 20,
      "metadata": {},
      "outputs": [
        {
          "name": "stdout",
          "output_type": "stream",
          "text": [
            "Accuracy = 0.672376\n",
            "Test Error = 0.327624\n"
          ]
        }
      ],
      "source": [
        "predictions = model_rf.transform(test_data)\n",
        "evaluatorRF = MulticlassClassificationEvaluator(labelCol=\"label\", predictionCol=\"prediction\", metricName=\"accuracy\")\n",
        "accuracy = evaluatorRF.evaluate(predictions)\n",
        "print(\"Accuracy = %g\" % accuracy)\n",
        "print(\"Test Error = %g\" % (1.0 - accuracy))"
      ]
    },
    {
      "cell_type": "markdown",
      "metadata": {},
      "source": [
        "You can tune your model now to achieve better accuracy. For simplicity of this example tuning section is omitted."
      ]
    },
    {
      "cell_type": "markdown",
      "metadata": {},
      "source": [
        "<a id=\"upload\"></a>\n",
        "## 4. Persist model"
      ]
    },
    {
      "cell_type": "markdown",
      "metadata": {},
      "source": [
        "In this section you will learn how to store your pipeline and model in Watson Machine Learning repository by using python client libraries."
      ]
    },
    {
      "cell_type": "markdown",
      "metadata": {},
      "source": [
        "**Note**: Apache® Spark 2.4 is required."
      ]
    },
    {
      "cell_type": "markdown",
      "metadata": {},
      "source": [
        "### 4.1: Save pipeline and model"
      ]
    },
    {
      "cell_type": "markdown",
      "metadata": {},
      "source": [
        "In this subsection you will learn how to save pipeline and model artifacts to your Watson Machine Learning instance."
      ]
    },
    {
      "cell_type": "code",
      "execution_count": 21,
      "metadata": {},
      "outputs": [],
      "source": [
        "saved_model = client.repository.store_model(\n",
        "    model=model_rf, \n",
        "    meta_props={\n",
        "        client.repository.ModelMetaNames.NAME:'Product Line model',\n",
        "        client.repository.ModelMetaNames.TYPE: \"mllib_2.4\",\n",
        "        client.repository.ModelMetaNames.SOFTWARE_SPEC_UID: client.software_specifications.get_id_by_name('spark-mllib_2.4'),\n",
        "        client.repository.ModelMetaNames.LABEL_FIELD: \"PRODUCT_LINE\",\n",
        "    },  \n",
        "    training_data=train_data, \n",
        "    pipeline=pipeline_rf)"
      ]
    },
    {
      "cell_type": "markdown",
      "metadata": {},
      "source": [
        "Get saved model metadata from Watson Machine Learning."
      ]
    },
    {
      "cell_type": "code",
      "execution_count": 22,
      "metadata": {},
      "outputs": [
        {
          "name": "stdout",
          "output_type": "stream",
          "text": [
            "Model Id: 04cff12b-ff02-43a8-ac79-1a800fe3b9cb\n"
          ]
        }
      ],
      "source": [
        "published_model_id = client.repository.get_model_uid(saved_model)\n",
        "\n",
        "print(\"Model Id: \" + str(published_model_id))"
      ]
    },
    {
      "cell_type": "markdown",
      "metadata": {},
      "source": [
        "**Model Id** can be used to retrive latest model version from Watson Machine Learning instance."
      ]
    },
    {
      "cell_type": "markdown",
      "metadata": {},
      "source": [
        "Below you can see stored model details."
      ]
    },
    {
      "cell_type": "code",
      "execution_count": 24,
      "metadata": {},
      "outputs": [
        {
          "data": {
            "text/plain": [
              "{'entity': {'label_column': 'PRODUCT_LINE',\n",
              "  'pipeline': {'id': 'f2cb6ba3-b1d8-4722-9062-774dc6f7ea65'},\n",
              "  'software_spec': {'id': '390d21f8-e58b-4fac-9c55-d7ceda621326',\n",
              "   'name': 'spark-mllib_2.4'},\n",
              "  'training_data_references': [{'connection': {'access_key_id': 'not_applicable',\n",
              "     'endpoint_url': 'not_applicable',\n",
              "     'secret_access_key': 'not_applicable'},\n",
              "    'id': '1',\n",
              "    'location': {},\n",
              "    'schema': {'fields': [{'metadata': {},\n",
              "       'name': 'GENDER',\n",
              "       'nullable': True,\n",
              "       'type': 'string'},\n",
              "      {'metadata': {}, 'name': 'AGE', 'nullable': True, 'type': 'integer'},\n",
              "      {'metadata': {},\n",
              "       'name': 'MARITAL_STATUS',\n",
              "       'nullable': True,\n",
              "       'type': 'string'},\n",
              "      {'metadata': {},\n",
              "       'name': 'PROFESSION',\n",
              "       'nullable': True,\n",
              "       'type': 'string'},\n",
              "      {'metadata': {'modeling_role': 'target'},\n",
              "       'name': 'PRODUCT_LINE',\n",
              "       'nullable': True,\n",
              "       'type': 'string'}],\n",
              "     'id': '1',\n",
              "     'type': 'struct'},\n",
              "    'type': 'fs'}],\n",
              "  'type': 'mllib_2.4'},\n",
              " 'metadata': {'created_at': '2020-12-08T12:17:43.469Z',\n",
              "  'id': '04cff12b-ff02-43a8-ac79-1a800fe3b9cb',\n",
              "  'modified_at': '2020-12-08T12:17:47.419Z',\n",
              "  'name': 'Product Line model',\n",
              "  'owner': '1000330999',\n",
              "  'space_id': '83b00166-9047-4159-b777-83dcb498e7ab'},\n",
              " 'system': {'warnings': []}}"
            ]
          },
          "execution_count": 24,
          "metadata": {},
          "output_type": "execute_result"
        }
      ],
      "source": [
        "client.repository.get_model_details(published_model_id)"
      ]
    },
    {
      "cell_type": "markdown",
      "metadata": {},
      "source": [
        "### 4.2: Load model"
      ]
    },
    {
      "cell_type": "markdown",
      "metadata": {},
      "source": [
        "In this subsection you will learn how to load back saved model from specified instance of Watson Machine Learning."
      ]
    },
    {
      "cell_type": "code",
      "execution_count": 25,
      "metadata": {},
      "outputs": [],
      "source": [
        "loaded_model = client.repository.load(published_model_id)"
      ]
    },
    {
      "cell_type": "code",
      "execution_count": 26,
      "metadata": {},
      "outputs": [
        {
          "name": "stdout",
          "output_type": "stream",
          "text": [
            "<class 'pyspark.ml.pipeline.PipelineModel'>\n"
          ]
        }
      ],
      "source": [
        "print(type(loaded_model))"
      ]
    },
    {
      "cell_type": "markdown",
      "metadata": {},
      "source": [
        "As you can see the name is correct. You have already learned how save and load the model from Watson Machine Learning repository."
      ]
    },
    {
      "cell_type": "markdown",
      "metadata": {},
      "source": [
        "<a id=\"visualization\"></a>\n",
        "## 5. Predict locally"
      ]
    },
    {
      "cell_type": "markdown",
      "metadata": {},
      "source": [
        "In this section you will learn how to score test data using loaded model and visualize the prediction results with plotly package."
      ]
    },
    {
      "cell_type": "markdown",
      "metadata": {},
      "source": [
        "### 5.1: Make local prediction using previously loaded model and test data"
      ]
    },
    {
      "cell_type": "markdown",
      "metadata": {},
      "source": [
        "In this subsection you will score *predict_data* data set."
      ]
    },
    {
      "cell_type": "code",
      "execution_count": 27,
      "metadata": {},
      "outputs": [],
      "source": [
        "predictions = loaded_model.transform(predict_data)"
      ]
    },
    {
      "cell_type": "markdown",
      "metadata": {},
      "source": [
        "Preview the results by calling the *show()* method on the predictions DataFrame."
      ]
    },
    {
      "cell_type": "code",
      "execution_count": 28,
      "metadata": {},
      "outputs": [
        {
          "name": "stdout",
          "output_type": "stream",
          "text": [
            "+------+---+--------------+------------+--------------------+-----+-------------+---------+-----------------+------------------+--------------------+--------------------+----------+--------------------+\n",
            "|GENDER|AGE|MARITAL_STATUS|  PROFESSION|        PRODUCT_LINE|label|PROFESSION_IX|GENDER_IX|MARITAL_STATUS_IX|          features|       rawPrediction|         probability|prediction|      predictedLabel|\n",
            "+------+---+--------------+------------+--------------------+-----+-------------+---------+-----------------+------------------+--------------------+--------------------+----------+--------------------+\n",
            "|     F| 19|        Single|   Executive|Personal Accessories|  1.0|          2.0|      1.0|              1.0|[1.0,19.0,1.0,2.0]|[0.81953057650034...|[0.04097652882501...|       1.0|Personal Accessories|\n",
            "|     F| 19|        Single|   Executive|Personal Accessories|  1.0|          2.0|      1.0|              1.0|[1.0,19.0,1.0,2.0]|[0.81953057650034...|[0.04097652882501...|       1.0|Personal Accessories|\n",
            "|     F| 19|        Single|       Other|   Camping Equipment|  0.0|          4.0|      1.0|              1.0|[1.0,19.0,1.0,4.0]|[6.04431668221309...|[0.30221583411065...|       1.0|Personal Accessories|\n",
            "|     F| 19|        Single|       Other|   Camping Equipment|  0.0|          4.0|      1.0|              1.0|[1.0,19.0,1.0,4.0]|[6.04431668221309...|[0.30221583411065...|       1.0|Personal Accessories|\n",
            "|     F| 19|        Single|Professional|Mountaineering Eq...|  2.0|          3.0|      1.0|              1.0|[1.0,19.0,1.0,3.0]|[0.86936919012730...|[0.04346845950636...|       1.0|Personal Accessories|\n",
            "+------+---+--------------+------------+--------------------+-----+-------------+---------+-----------------+------------------+--------------------+--------------------+----------+--------------------+\n",
            "only showing top 5 rows\n",
            "\n"
          ]
        }
      ],
      "source": [
        "predictions.show(5)"
      ]
    },
    {
      "cell_type": "markdown",
      "metadata": {},
      "source": [
        "By tabulating a count, you can see which product line is the most popular."
      ]
    },
    {
      "cell_type": "code",
      "execution_count": 29,
      "metadata": {},
      "outputs": [
        {
          "name": "stdout",
          "output_type": "stream",
          "text": [
            "+--------------------+-----+\n",
            "|      predictedLabel|count|\n",
            "+--------------------+-----+\n",
            "|   Camping Equipment|  511|\n",
            "|      Golf Equipment|  152|\n",
            "|  Outdoor Protection|   39|\n",
            "|Mountaineering Eq...|  229|\n",
            "|Personal Accessories|  285|\n",
            "+--------------------+-----+\n",
            "\n"
          ]
        }
      ],
      "source": [
        "predictions.select(\"predictedLabel\").groupBy(\"predictedLabel\").count().show()"
      ]
    },
    {
      "cell_type": "markdown",
      "metadata": {},
      "source": [
        "<a id=\"deploy\"></a>\n",
        "## 6. Deploy and score"
      ]
    },
    {
      "cell_type": "markdown",
      "metadata": {},
      "source": [
        "In this section you will learn how to create online scoring and to score a new data record using `ibm-watson-machine-learning`."
      ]
    },
    {
      "cell_type": "markdown",
      "metadata": {},
      "source": [
        "**Note:** You can also use REST API to deploy and score.\n",
        "For more information about REST APIs, see the [Swagger Documentation](https://watson-ml-v4-api.mybluemix.net/wml-restapi-cloud.html#/Deployments/deployments_create)."
      ]
    },
    {
      "cell_type": "markdown",
      "metadata": {},
      "source": [
        "### 6.1: Create online scoring endpoint"
      ]
    },
    {
      "cell_type": "markdown",
      "metadata": {},
      "source": [
        "Now you can create an online scoring endpoint. "
      ]
    },
    {
      "cell_type": "markdown",
      "metadata": {},
      "source": [
        "#### Create online deployment for published model"
      ]
    },
    {
      "cell_type": "code",
      "execution_count": 30,
      "metadata": {},
      "outputs": [
        {
          "name": "stdout",
          "output_type": "stream",
          "text": [
            "\n",
            "\n",
            "#######################################################################################\n",
            "\n",
            "Synchronous deployment creation for uid: '04cff12b-ff02-43a8-ac79-1a800fe3b9cb' started\n",
            "\n",
            "#######################################################################################\n",
            "\n",
            "\n",
            "initializing\n",
            "ready\n",
            "\n",
            "\n",
            "------------------------------------------------------------------------------------------------\n",
            "Successfully finished deployment creation, deployment_uid='dfe9314f-cac8-443a-95b3-1d9242c20a86'\n",
            "------------------------------------------------------------------------------------------------\n",
            "\n",
            "\n"
          ]
        }
      ],
      "source": [
        "deployment_details = client.deployments.create(\n",
        "    published_model_id, \n",
        "    meta_props={\n",
        "        client.deployments.ConfigurationMetaNames.NAME: \"Product Line model deployment\",\n",
        "        client.deployments.ConfigurationMetaNames.ONLINE: {}\n",
        "    }\n",
        ")"
      ]
    },
    {
      "cell_type": "code",
      "execution_count": 31,
      "metadata": {},
      "outputs": [
        {
          "data": {
            "text/plain": [
              "{'entity': {'asset': {'id': '04cff12b-ff02-43a8-ac79-1a800fe3b9cb'},\n",
              "  'custom': {},\n",
              "  'deployed_asset_type': 'model',\n",
              "  'hardware_spec': {'id': 'Not_Applicable', 'name': 'S', 'num_nodes': 1},\n",
              "  'name': 'Product Line model deployment',\n",
              "  'online': {},\n",
              "  'space_id': '83b00166-9047-4159-b777-83dcb498e7ab',\n",
              "  'status': {'online_url': {'url': 'https://wmlgmc-cpd-wmlgmc.apps.wmlautoai.cp.fyre.ibm.com/ml/v4/deployments/dfe9314f-cac8-443a-95b3-1d9242c20a86/predictions'},\n",
              "   'state': 'ready'}},\n",
              " 'metadata': {'created_at': '2020-12-08T12:18:04.959Z',\n",
              "  'id': 'dfe9314f-cac8-443a-95b3-1d9242c20a86',\n",
              "  'modified_at': '2020-12-08T12:18:04.959Z',\n",
              "  'name': 'Product Line model deployment',\n",
              "  'owner': '1000330999',\n",
              "  'space_id': '83b00166-9047-4159-b777-83dcb498e7ab'}}"
            ]
          },
          "execution_count": 31,
          "metadata": {},
          "output_type": "execute_result"
        }
      ],
      "source": [
        "deployment_details"
      ]
    },
    {
      "cell_type": "markdown",
      "metadata": {},
      "source": [
        "<a id=\"score\"></a>\n",
        "Now, you can use above scoring url to make requests from your external application."
      ]
    },
    {
      "cell_type": "markdown",
      "metadata": {},
      "source": [
        "<a id=\"cleanup\"></a>\n",
        "## 7. Clean up "
      ]
    },
    {
      "cell_type": "markdown",
      "metadata": {},
      "source": [
        "If you want to clean up all created assets:\n",
        "- experiments\n",
        "- trainings\n",
        "- pipelines\n",
        "- model definitions\n",
        "- models\n",
        "- functions\n",
        "- deployments\n",
        "\n",
        "please follow up this sample [notebook](https://github.com/IBM/watson-machine-learning-samples/blob/master/cpd3.5/notebooks/python_sdk/instance-management/Machine%20Learning%20artifacts%20management.ipynb)."
      ]
    },
    {
      "cell_type": "markdown",
      "metadata": {},
      "source": [
        "<a id=\"summary\"></a>\n",
        "## 8. Summary and next steps     "
      ]
    },
    {
      "cell_type": "markdown",
      "metadata": {},
      "source": [
        " You successfully completed this notebook! You learned how to use Apache Spark machine learning as well as Watson Machine Learning for model creation and deployment. \n",
        " \n",
        " Check out our [Online Documentation](https://dataplatform.cloudibm.com/docs/content/analyze-data/wml-setup.html) for more samples, tutorials, documentation, how-tos, and blog posts. "
      ]
    },
    {
      "cell_type": "markdown",
      "metadata": {},
      "source": [
        "### Authors\n",
        "\n",
        "**Amadeusz Masny**, Python Software Developer in Watson Machine Learning at IBM"
      ]
    },
    {
      "cell_type": "markdown",
      "metadata": {},
      "source": [
        "Copyright © 2020-2025 IBM. This notebook and its source code are released under the terms of the MIT License."
      ]
    }
  ],
  "metadata": {
    "kernelspec": {
      "display_name": "Python 3",
      "language": "python",
      "name": "python3"
    },
    "language_info": {
      "codemirror_mode": {
        "name": "ipython",
        "version": 3
      },
      "file_extension": ".py",
      "mimetype": "text/x-python",
      "name": "python",
      "nbconvert_exporter": "python",
      "pygments_lexer": "ipython3",
      "version": "3.7.9"
    }
  },
  "nbformat": 4,
  "nbformat_minor": 4
}
