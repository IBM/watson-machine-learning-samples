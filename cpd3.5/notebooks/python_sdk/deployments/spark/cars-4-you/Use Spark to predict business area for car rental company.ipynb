{
  "cells": [
    {
      "cell_type": "markdown",
      "metadata": {},
      "source": [
        "# Use Spark to predict business area for car rental company with `ibm-watson-machine-learning`"
      ]
    },
    {
      "cell_type": "markdown",
      "metadata": {},
      "source": [
        "This notebook contains steps and code to create a predictive model, and deploy it on WML. This notebook introduces commands for pipeline creation, model training, model persistance to Watson Machine Learning repository, model deployment, and scoring.\n",
        "\n",
        "Some familiarity with Python is helpful. This notebook uses Python 3.6 and Apache® Spark 2.4.\n",
        "\n",
        "You will use **car_rental_training** dataset.\n",
        "\n",
        "\n",
        "## Learning goals\n",
        "\n",
        "The learning goals of this notebook are:\n",
        "\n",
        "-  Load a CSV file into an Apache® Spark DataFrame.\n",
        "-  Explore data.\n",
        "-  Prepare data for training and evaluation.\n",
        "-  Create an Apache® Spark machine learning pipeline.\n",
        "-  Train and evaluate a model.\n",
        "-  Persist a pipeline and model in Watson Machine Learning repository.\n",
        "-  Deploy a model for online scoring using Wastson Machine Learning API.\n",
        "-  Score sample scoring data using the Watson Machine Learning API.\n",
        "\n",
        "\n",
        "## Contents\n",
        "\n",
        "This notebook contains the following parts:\n",
        "1. [Setup](#setup)\n",
        "2. [Load and explore data](#load)\n",
        "3. [Create an Apache Spark machine learning model](#model)\n",
        "4. [Store the model in the Watson Machine Learning repository](#upload)\n",
        "5. [Deploy the model](#deploy)\n",
        "6. [Score](#score)\n",
        "7. [Clean up](#cleanup)\n",
        "8. [Summary and next steps](#summary)"
      ]
    },
    {
      "cell_type": "markdown",
      "metadata": {},
      "source": [
        "**Note:** This notebook works correctly with kernel `Python 3.6 with Spark 2.4`, please **do not change kernel**."
      ]
    },
    {
      "cell_type": "markdown",
      "metadata": {},
      "source": [
        "<a id=\"setup\"></a>\n",
        "## 1. Set up the environment\n",
        "\n",
        "Before you use the sample code in this notebook, you must perform the following setup tasks:\n",
        "\n",
        "-  Contact with your Cloud Pack for Data administrator and ask him for your account credentials"
      ]
    },
    {
      "cell_type": "markdown",
      "metadata": {},
      "source": [
        "### Connection to WML\n",
        "\n",
        "Authenticate the Watson Machine Learning service on IBM Cloud Pack for Data. You need to provide platform `url`, your `username` and `password`."
      ]
    },
    {
      "cell_type": "code",
      "execution_count": null,
      "metadata": {},
      "outputs": [],
      "source": [
        "username = 'PASTE YOUR USERNAME HERE'\n",
        "password = 'PASTE YOUR PASSWORD HERE'\n",
        "url = 'PASTE THE PLATFORM URL HERE'"
      ]
    },
    {
      "cell_type": "code",
      "execution_count": 2,
      "metadata": {},
      "outputs": [],
      "source": [
        "wml_credentials = {\n",
        "    \"username\": username,\n",
        "    \"password\": password,\n",
        "    \"url\": url,\n",
        "    \"instance_id\": 'openshift',\n",
        "    \"version\": '3.5'\n",
        "}"
      ]
    },
    {
      "cell_type": "markdown",
      "metadata": {},
      "source": [
        "### Install and import the `ibm-watson-machine-learning` package\n",
        "**Note:** `ibm-watson-machine-learning` documentation can be found <a href=\"http://ibm-wml-api-pyclient.mybluemix.net/\" target=\"_blank\" rel=\"noopener no referrer\">here</a>."
      ]
    },
    {
      "cell_type": "code",
      "execution_count": null,
      "metadata": {},
      "outputs": [],
      "source": [
        "!pip install -U ibm-watson-machine-learning"
      ]
    },
    {
      "cell_type": "code",
      "execution_count": 3,
      "metadata": {},
      "outputs": [],
      "source": [
        "from ibm_watson_machine_learning import APIClient\n",
        "\n",
        "client = APIClient(wml_credentials)"
      ]
    },
    {
      "cell_type": "markdown",
      "metadata": {},
      "source": [
        "### Working with spaces\n",
        "\n",
        "First of all, you need to create a space that will be used for your work. If you do not have space already created, you can use `{PLATFORM_URL}/ml-runtime/spaces?context=icp4data` to create one.\n",
        "\n",
        "- Click New Deployment Space\n",
        "- Create an empty space\n",
        "- Go to space `Settings` tab\n",
        "- Copy `space_id` and paste it below\n",
        "\n",
        "**Tip**: You can also use SDK to prepare the space for your work. More information can be found [here](https://github.com/IBM/watson-machine-learning-samples/blob/master/cpd3.5/notebooks/python_sdk/instance-management/Space%20management.ipynb).\n",
        "\n",
        "**Action**: Assign space ID below"
      ]
    },
    {
      "cell_type": "code",
      "execution_count": null,
      "metadata": {},
      "outputs": [],
      "source": [
        "space_id = 'PASTE YOUR SPACE ID HERE'"
      ]
    },
    {
      "cell_type": "markdown",
      "metadata": {},
      "source": [
        "You can use `list` method to print all existing spaces."
      ]
    },
    {
      "cell_type": "code",
      "execution_count": null,
      "metadata": {},
      "outputs": [],
      "source": [
        "client.spaces.list(limit=10)"
      ]
    },
    {
      "cell_type": "markdown",
      "metadata": {},
      "source": [
        "To be able to interact with all resources available in Watson Machine Learning, you need to set **space** which you will be using."
      ]
    },
    {
      "cell_type": "code",
      "execution_count": 4,
      "metadata": {},
      "outputs": [
        {
          "data": {
            "text/plain": [
              "'SUCCESS'"
            ]
          },
          "execution_count": 4,
          "metadata": {},
          "output_type": "execute_result"
        }
      ],
      "source": [
        "client.set.default_space(space_id)"
      ]
    },
    {
      "cell_type": "markdown",
      "metadata": {},
      "source": [
        "### Test Spark"
      ]
    },
    {
      "cell_type": "code",
      "execution_count": 5,
      "metadata": {},
      "outputs": [],
      "source": [
        "try:\n",
        "    from pyspark.sql import SparkSession\n",
        "except:\n",
        "    print('Error: Spark runtime is missing. If you are using Watson Studio change the notebook runtime to Spark.')\n",
        "    raise"
      ]
    },
    {
      "cell_type": "markdown",
      "metadata": {},
      "source": [
        "<a id=\"load\"></a>\n",
        "## 2. Load and explore data"
      ]
    },
    {
      "cell_type": "markdown",
      "metadata": {},
      "source": [
        "In this section you will load the data as an Apache Spark DataFrame and perform a basic exploration."
      ]
    },
    {
      "cell_type": "markdown",
      "metadata": {},
      "source": [
        "Read data into Spark DataFrame from file."
      ]
    },
    {
      "cell_type": "code",
      "execution_count": 6,
      "metadata": {},
      "outputs": [],
      "source": [
        "import os\n",
        "from wget import download\n",
        "\n",
        "sample_dir = 'spark_sample_model'\n",
        "if not os.path.isdir(sample_dir):\n",
        "    os.mkdir(sample_dir)\n",
        "    \n",
        "filename = os.path.join(sample_dir, 'car_rental_training_data.csv')\n",
        "if not os.path.isfile(filename):\n",
        "    filename = download('https://github.com/IBM/watson-machine-learning-samples/raw/master/cpd3.5/data/cars-4-you/car_rental_training_data.csv', out=sample_dir)"
      ]
    },
    {
      "cell_type": "code",
      "execution_count": 7,
      "metadata": {},
      "outputs": [
        {
          "data": {
            "text/plain": [
              "[Row(ID=83, Gender='Female', Status='M', Children=2, Age=48.85, Customer_Status='Inactive', Car_Owner='Yes', Customer_Service='I thought the representative handled the initial situation badly.  The company was out of cars, with none coming in that day.  Then the representative tried to find us a car at another franchise.  There they were successful.', Satisfaction=0, Business_Area='Product: Availability/Variety/Size', Action='Free Upgrade'),\n",
              " Row(ID=1307, Gender='Female', Status='M', Children=0, Age=55.0, Customer_Status='Inactive', Car_Owner='No', Customer_Service='I have had a few recent rentals that have taken a very very long time, with no offer of apology.  In the most recent case, the agent subsequently offered me a car type on an upgrade coupon and then told me it was no longer available because it had just be', Satisfaction=0, Business_Area='Product: Availability/Variety/Size', Action='Voucher'),\n",
              " Row(ID=1737, Gender='Male', Status='M', Children=0, Age=42.35, Customer_Status='Inactive', Car_Owner='Yes', Customer_Service=\"car cost more because I didn't pay when I reserved it\", Satisfaction=0, Business_Area='Product: Availability/Variety/Size', Action='Free Upgrade')]"
            ]
          },
          "execution_count": 7,
          "metadata": {},
          "output_type": "execute_result"
        }
      ],
      "source": [
        "spark = SparkSession.builder.getOrCreate()\n",
        "\n",
        "df_data = spark.read\\\n",
        "  .format('org.apache.spark.sql.execution.datasources.csv.CSVFileFormat')\\\n",
        "  .option('header', 'true')\\\n",
        "  .option('inferSchema', 'true')\\\n",
        "  .option(\"delimiter\", \";\")\\\n",
        "  .load(filename)\n",
        "df_data.take(3)"
      ]
    },
    {
      "cell_type": "markdown",
      "metadata": {},
      "source": [
        "### Explore data"
      ]
    },
    {
      "cell_type": "code",
      "execution_count": 8,
      "metadata": {},
      "outputs": [
        {
          "name": "stdout",
          "output_type": "stream",
          "text": [
            "root\n",
            " |-- ID: integer (nullable = true)\n",
            " |-- Gender: string (nullable = true)\n",
            " |-- Status: string (nullable = true)\n",
            " |-- Children: integer (nullable = true)\n",
            " |-- Age: double (nullable = true)\n",
            " |-- Customer_Status: string (nullable = true)\n",
            " |-- Car_Owner: string (nullable = true)\n",
            " |-- Customer_Service: string (nullable = true)\n",
            " |-- Satisfaction: integer (nullable = true)\n",
            " |-- Business_Area: string (nullable = true)\n",
            " |-- Action: string (nullable = true)\n",
            "\n"
          ]
        }
      ],
      "source": [
        "df_data.printSchema()"
      ]
    },
    {
      "cell_type": "markdown",
      "metadata": {},
      "source": [
        "As you can see, the data contains eleven fields. `Business_Area` field is the one you would like to predict using feedback data in `Customer_Service` field."
      ]
    },
    {
      "cell_type": "code",
      "execution_count": 9,
      "metadata": {},
      "outputs": [
        {
          "name": "stdout",
          "output_type": "stream",
          "text": [
            "Number of records: 486\n"
          ]
        }
      ],
      "source": [
        "print(\"Number of records: \" + str(df_data.count()))"
      ]
    },
    {
      "cell_type": "markdown",
      "metadata": {},
      "source": [
        "Let's see distribution of target field."
      ]
    },
    {
      "cell_type": "code",
      "execution_count": 10,
      "metadata": {},
      "outputs": [
        {
          "name": "stdout",
          "output_type": "stream",
          "text": [
            "+----------------------------------+-----+\n",
            "|Business_Area                     |count|\n",
            "+----------------------------------+-----+\n",
            "|Service: Accessibility            |26   |\n",
            "|Product: Functioning              |150  |\n",
            "|Service: Attitude                 |24   |\n",
            "|Service: Orders/Contracts         |32   |\n",
            "|Product: Availability/Variety/Size|42   |\n",
            "|Product: Pricing and Billing      |24   |\n",
            "|Product: Information              |8    |\n",
            "|Service: Knowledge                |180  |\n",
            "+----------------------------------+-----+\n",
            "\n"
          ]
        }
      ],
      "source": [
        "df_data.select('Business_Area').groupBy('Business_Area').count().show(truncate=False)"
      ]
    },
    {
      "cell_type": "markdown",
      "metadata": {},
      "source": [
        "<a id=\"model\"></a>\n",
        "## 3. Create an Apache Spark machine learning model\n",
        "\n",
        "In this section you will learn how to:\n",
        "\n",
        "- [3.1 Prepare data for model training and evaluation](#prep)\n",
        "- [3.2 Create an Apache Spark machine learning pipeline](#pipe)\n",
        "- [3.3 Train a model](#train)"
      ]
    },
    {
      "cell_type": "markdown",
      "metadata": {},
      "source": [
        "<a id=\"prep\"></a>\n",
        "### 3.1 Prepare data for model training and evaluation\n",
        "\n",
        "In this subsection you will split your data into: train and test data set."
      ]
    },
    {
      "cell_type": "code",
      "execution_count": 11,
      "metadata": {},
      "outputs": [
        {
          "name": "stdout",
          "output_type": "stream",
          "text": [
            "Number of training records: 391\n",
            "Number of testing records : 95\n"
          ]
        }
      ],
      "source": [
        "train_data, test_data = df_data.select(\"ID\", \"Customer_Service\", \"Business_Area\").randomSplit([0.8, 0.2], 24)\n",
        "\n",
        "print(\"Number of training records: \" + str(train_data.count()))\n",
        "print(\"Number of testing records : \" + str(test_data.count()))"
      ]
    },
    {
      "cell_type": "markdown",
      "metadata": {},
      "source": [
        "### 3.2 Create the pipeline<a id=\"pipe\"></a>"
      ]
    },
    {
      "cell_type": "markdown",
      "metadata": {},
      "source": [
        "In this section you will create an Apache Spark machine learning pipeline and then train the model."
      ]
    },
    {
      "cell_type": "code",
      "execution_count": 12,
      "metadata": {},
      "outputs": [],
      "source": [
        "from pyspark.ml.feature import StringIndexer, IndexToString, HashingTF, IDF, Tokenizer\n",
        "from pyspark.ml.classification import DecisionTreeClassifier\n",
        "from pyspark.ml.evaluation import MulticlassClassificationEvaluator\n",
        "from pyspark.ml import Pipeline, Model\n",
        "from pyspark.sql.types import *"
      ]
    },
    {
      "cell_type": "markdown",
      "metadata": {},
      "source": [
        "In the first data preprocessing step, create features from `Customer_Service` field."
      ]
    },
    {
      "cell_type": "code",
      "execution_count": 13,
      "metadata": {},
      "outputs": [],
      "source": [
        "tokenizer = Tokenizer(inputCol=\"Customer_Service\", outputCol=\"words\")\n",
        "hashing_tf = HashingTF(inputCol=tokenizer.getOutputCol(), outputCol='hash')\n",
        "idf = IDF(inputCol=hashing_tf.getOutputCol(), outputCol=\"features\", minDocFreq=5)"
      ]
    },
    {
      "cell_type": "markdown",
      "metadata": {},
      "source": [
        "In the following step, use the StringIndexer transformer to convert `Business_Area` to numeric."
      ]
    },
    {
      "cell_type": "code",
      "execution_count": 14,
      "metadata": {},
      "outputs": [],
      "source": [
        "string_indexer_label = StringIndexer(inputCol=\"Business_Area\", outputCol=\"label\").fit(train_data)"
      ]
    },
    {
      "cell_type": "markdown",
      "metadata": {},
      "source": [
        "Add decision tree model to predict `Business_Area`."
      ]
    },
    {
      "cell_type": "code",
      "execution_count": 15,
      "metadata": {},
      "outputs": [],
      "source": [
        "dt_area = DecisionTreeClassifier(labelCol=\"label\", featuresCol=idf.getOutputCol())"
      ]
    },
    {
      "cell_type": "markdown",
      "metadata": {},
      "source": [
        "Finally, setup transformer to convert the indexed labels back to original labels."
      ]
    },
    {
      "cell_type": "code",
      "execution_count": 16,
      "metadata": {},
      "outputs": [],
      "source": [
        "label_converter = IndexToString(inputCol=\"prediction\", outputCol=\"predictedLabel\", labels=string_indexer_label.labels)"
      ]
    },
    {
      "cell_type": "code",
      "execution_count": 17,
      "metadata": {},
      "outputs": [],
      "source": [
        "pipeline = Pipeline(stages=[tokenizer, hashing_tf, idf, string_indexer_label, dt_area, label_converter])"
      ]
    },
    {
      "cell_type": "markdown",
      "metadata": {},
      "source": [
        "### 3.3 Train the model<a id=\"train\"></a>"
      ]
    },
    {
      "cell_type": "markdown",
      "metadata": {},
      "source": [
        "In this subsection you will train model and evaluate its accuracy."
      ]
    },
    {
      "cell_type": "code",
      "execution_count": 18,
      "metadata": {},
      "outputs": [],
      "source": [
        "model = pipeline.fit(train_data)"
      ]
    },
    {
      "cell_type": "code",
      "execution_count": 19,
      "metadata": {},
      "outputs": [
        {
          "name": "stdout",
          "output_type": "stream",
          "text": [
            "+--------------------+--------------------+------------------+\n",
            "|    Customer_Service|       Business_Area|    predictedLabel|\n",
            "+--------------------+--------------------+------------------+\n",
            "|Agents always wan...|   Service: Attitude|Service: Knowledge|\n",
            "|Did not have some...|Service: Accessib...|Service: Knowledge|\n",
            "|I was penalty cha...|Product: Pricing ...|Service: Knowledge|\n",
            "+--------------------+--------------------+------------------+\n",
            "only showing top 3 rows\n",
            "\n"
          ]
        }
      ],
      "source": [
        "predictions = model.transform(test_data)\n",
        "predictions.select('Customer_Service','Business_Area','predictedLabel').show(3)"
      ]
    },
    {
      "cell_type": "code",
      "execution_count": 20,
      "metadata": {},
      "outputs": [
        {
          "name": "stdout",
          "output_type": "stream",
          "text": [
            "root\n",
            " |-- ID: integer (nullable = true)\n",
            " |-- Customer_Service: string (nullable = true)\n",
            " |-- Business_Area: string (nullable = true)\n",
            " |-- words: array (nullable = true)\n",
            " |    |-- element: string (containsNull = true)\n",
            " |-- hash: vector (nullable = true)\n",
            " |-- features: vector (nullable = true)\n",
            " |-- label: double (nullable = false)\n",
            " |-- rawPrediction: vector (nullable = true)\n",
            " |-- probability: vector (nullable = true)\n",
            " |-- prediction: double (nullable = false)\n",
            " |-- predictedLabel: string (nullable = true)\n",
            "\n"
          ]
        }
      ],
      "source": [
        "predictions.printSchema()"
      ]
    },
    {
      "cell_type": "code",
      "execution_count": 21,
      "metadata": {},
      "outputs": [
        {
          "name": "stdout",
          "output_type": "stream",
          "text": [
            "Accuracy = 0.52\n"
          ]
        }
      ],
      "source": [
        "evaluator = MulticlassClassificationEvaluator(labelCol=\"label\", predictionCol=\"prediction\", metricName=\"accuracy\")\n",
        "accuracy = evaluator.evaluate(predictions)\n",
        "\n",
        "print(\"Accuracy = %3.2f\" % accuracy)"
      ]
    },
    {
      "cell_type": "markdown",
      "metadata": {},
      "source": [
        "**Note:** Accuracy of the model is low, however based on customer comment more than one Business Area could be selected. In such cases top k (for example k=3) would be more suited for model evaluation."
      ]
    },
    {
      "cell_type": "markdown",
      "metadata": {},
      "source": [
        "<a id=\"upload\"></a>\n",
        "## 4. Persist model"
      ]
    },
    {
      "cell_type": "markdown",
      "metadata": {},
      "source": [
        "In this section you will learn how to store your pipeline and model in Watson Machine Learning repository by using python client libraries."
      ]
    },
    {
      "cell_type": "markdown",
      "metadata": {},
      "source": [
        "**Note**: Apache® Spark 2.4 is required."
      ]
    },
    {
      "cell_type": "markdown",
      "metadata": {},
      "source": [
        "### 4.2 Save the pipeline and model<a id=\"save\"></a>"
      ]
    },
    {
      "cell_type": "code",
      "execution_count": 22,
      "metadata": {},
      "outputs": [],
      "source": [
        "saved_model = client.repository.store_model(\n",
        "    model=model, \n",
        "    meta_props={\n",
        "        client.repository.ModelMetaNames.NAME:\"CARS4U - Business Area Prediction Modeljj\",\n",
        "        client.repository.ModelMetaNames.TYPE: \"mllib_2.4\",\n",
        "        client.repository.ModelMetaNames.SOFTWARE_SPEC_UID: client.software_specifications.get_id_by_name('spark-mllib_2.4'),\n",
        "        client.repository.ModelMetaNames.LABEL_FIELD: \"Business_Area\",\n",
        "    },  \n",
        "    training_data=train_data, \n",
        "    pipeline=pipeline)"
      ]
    },
    {
      "cell_type": "markdown",
      "metadata": {},
      "source": [
        "Get saved model metadata from Watson Machine Learning."
      ]
    },
    {
      "cell_type": "code",
      "execution_count": 23,
      "metadata": {},
      "outputs": [
        {
          "name": "stdout",
          "output_type": "stream",
          "text": [
            "Model Id: 148a067b-4433-4d18-9db9-836469cdef98\n"
          ]
        }
      ],
      "source": [
        "published_model_id = client.repository.get_model_uid(saved_model)\n",
        "\n",
        "print(\"Model Id: \" + str(published_model_id))"
      ]
    },
    {
      "cell_type": "markdown",
      "metadata": {},
      "source": [
        "**Model Id** can be used to retrive latest model version from Watson Machine Learning instance."
      ]
    },
    {
      "cell_type": "markdown",
      "metadata": {},
      "source": [
        "Below you can see stored model details."
      ]
    },
    {
      "cell_type": "code",
      "execution_count": 24,
      "metadata": {
        "scrolled": true
      },
      "outputs": [
        {
          "data": {
            "text/plain": [
              "{'entity': {'label_column': 'Business_Area',\n",
              "  'pipeline': {'id': 'ed76a0be-4ebc-4467-a639-64dcadd58ab4'},\n",
              "  'software_spec': {'id': '390d21f8-e58b-4fac-9c55-d7ceda621326',\n",
              "   'name': 'spark-mllib_2.4'},\n",
              "  'training_data_references': [{'connection': {'access_key_id': 'not_applicable',\n",
              "     'endpoint_url': 'not_applicable',\n",
              "     'secret_access_key': 'not_applicable'},\n",
              "    'id': '1',\n",
              "    'location': {},\n",
              "    'schema': {'fields': [{'metadata': {},\n",
              "       'name': 'ID',\n",
              "       'nullable': True,\n",
              "       'type': 'integer'},\n",
              "      {'metadata': {},\n",
              "       'name': 'Customer_Service',\n",
              "       'nullable': True,\n",
              "       'type': 'string'},\n",
              "      {'metadata': {'modeling_role': 'target'},\n",
              "       'name': 'Business_Area',\n",
              "       'nullable': True,\n",
              "       'type': 'string'}],\n",
              "     'id': '1',\n",
              "     'type': 'struct'},\n",
              "    'type': 'fs'}],\n",
              "  'type': 'mllib_2.4'},\n",
              " 'metadata': {'created_at': '2020-12-08T12:18:54.736Z',\n",
              "  'id': '148a067b-4433-4d18-9db9-836469cdef98',\n",
              "  'modified_at': '2020-12-08T12:18:57.352Z',\n",
              "  'name': 'CARS4U - Business Area Prediction Modeljj',\n",
              "  'owner': '1000330999',\n",
              "  'space_id': '83b00166-9047-4159-b777-83dcb498e7ab'},\n",
              " 'system': {'warnings': []}}"
            ]
          },
          "execution_count": 24,
          "metadata": {},
          "output_type": "execute_result"
        }
      ],
      "source": [
        "client.repository.get_model_details(published_model_id)"
      ]
    },
    {
      "cell_type": "markdown",
      "metadata": {},
      "source": [
        "<a id=\"deploy\"></a>\n",
        "## 5. Deploy model in the IBM Cloud"
      ]
    },
    {
      "cell_type": "markdown",
      "metadata": {},
      "source": [
        "In this section you will learn how to create model deployment in the IBM Cloud and retreive information about scoring endpoint."
      ]
    },
    {
      "cell_type": "code",
      "execution_count": 25,
      "metadata": {},
      "outputs": [
        {
          "name": "stdout",
          "output_type": "stream",
          "text": [
            "\n",
            "\n",
            "#######################################################################################\n",
            "\n",
            "Synchronous deployment creation for uid: '148a067b-4433-4d18-9db9-836469cdef98' started\n",
            "\n",
            "#######################################################################################\n",
            "\n",
            "\n",
            "initializing\n",
            "ready\n",
            "\n",
            "\n",
            "------------------------------------------------------------------------------------------------\n",
            "Successfully finished deployment creation, deployment_uid='dcb4d6d3-4165-49ad-bca6-9c6d27d9ae71'\n",
            "------------------------------------------------------------------------------------------------\n",
            "\n",
            "\n"
          ]
        }
      ],
      "source": [
        "deployment_details = client.deployments.create(\n",
        "    published_model_id, \n",
        "    meta_props={\n",
        "        client.deployments.ConfigurationMetaNames.NAME: \"CARS4U - Business Area Prediction Model deployment\",\n",
        "        client.deployments.ConfigurationMetaNames.ONLINE: {}\n",
        "    }\n",
        ")"
      ]
    },
    {
      "cell_type": "code",
      "execution_count": 26,
      "metadata": {},
      "outputs": [
        {
          "data": {
            "text/plain": [
              "{'entity': {'asset': {'id': '148a067b-4433-4d18-9db9-836469cdef98'},\n",
              "  'custom': {},\n",
              "  'deployed_asset_type': 'model',\n",
              "  'hardware_spec': {'id': 'Not_Applicable', 'name': 'S', 'num_nodes': 1},\n",
              "  'name': 'CARS4U - Business Area Prediction Model deployment',\n",
              "  'online': {},\n",
              "  'space_id': '83b00166-9047-4159-b777-83dcb498e7ab',\n",
              "  'status': {'online_url': {'url': 'https://wmlgmc-cpd-wmlgmc.apps.wmlautoai.cp.fyre.ibm.com/ml/v4/deployments/dcb4d6d3-4165-49ad-bca6-9c6d27d9ae71/predictions'},\n",
              "   'state': 'ready'}},\n",
              " 'metadata': {'created_at': '2020-12-08T12:19:26.660Z',\n",
              "  'id': 'dcb4d6d3-4165-49ad-bca6-9c6d27d9ae71',\n",
              "  'modified_at': '2020-12-08T12:19:26.660Z',\n",
              "  'name': 'CARS4U - Business Area Prediction Model deployment',\n",
              "  'owner': '1000330999',\n",
              "  'space_id': '83b00166-9047-4159-b777-83dcb498e7ab'}}"
            ]
          },
          "execution_count": 26,
          "metadata": {},
          "output_type": "execute_result"
        }
      ],
      "source": [
        "deployment_details"
      ]
    },
    {
      "cell_type": "markdown",
      "metadata": {},
      "source": [
        "<a id=\"score\"></a>\n",
        "## 6. Score"
      ]
    },
    {
      "cell_type": "code",
      "execution_count": 27,
      "metadata": {},
      "outputs": [],
      "source": [
        "fields = ['ID', 'Gender', 'Status', 'Children', 'Age', 'Customer_Status','Car_Owner', 'Customer_Service', 'Business_Area', 'Satisfaction']\n",
        "values = [3785, 'Male', 'S', 1, 17, 'Inactive', 'Yes', 'The car should have been brought to us instead of us trying to find it in the lot.', 'Product: Information', 0]"
      ]
    },
    {
      "cell_type": "code",
      "execution_count": 28,
      "metadata": {
        "scrolled": true
      },
      "outputs": [
        {
          "name": "stdout",
          "output_type": "stream",
          "text": [
            "{\n",
            "   \"predictions\": [\n",
            "      {\n",
            "         \"fields\": [\n",
            "            \"ID\",\n",
            "            \"Gender\",\n",
            "            \"Status\",\n",
            "            \"Children\",\n",
            "            \"Age\",\n",
            "            \"Customer_Status\",\n",
            "            \"Car_Owner\",\n",
            "            \"Customer_Service\",\n",
            "            \"Business_Area\",\n",
            "            \"Satisfaction\",\n",
            "            \"words\",\n",
            "            \"hash\",\n",
            "            \"features\",\n",
            "            \"label\",\n",
            "            \"rawPrediction\",\n",
            "            \"probability\",\n",
            "            \"prediction\",\n",
            "            \"predictedLabel\"\n",
            "         ],\n",
            "         \"values\": [\n",
            "            [\n",
            "               3785,\n",
            "               \"Male\",\n",
            "               \"S\",\n",
            "               1.0,\n",
            "               17.0,\n",
            "               \"Inactive\",\n",
            "               \"Yes\",\n",
            "               \"The car should have been brought to us instead of us trying to find it in the lot.\",\n",
            "               \"Product: Information\",\n",
            "               0.0,\n",
            "               [\n",
            "                  \"the\",\n",
            "                  \"car\",\n",
            "                  \"should\",\n",
            "                  \"have\",\n",
            "                  \"been\",\n",
            "                  \"brought\",\n",
            "                  \"to\",\n",
            "                  \"us\",\n",
            "                  \"instead\",\n",
            "                  \"of\",\n",
            "                  \"us\",\n",
            "                  \"trying\",\n",
            "                  \"to\",\n",
            "                  \"find\",\n",
            "                  \"it\",\n",
            "                  \"in\",\n",
            "                  \"the\",\n",
            "                  \"lot.\"\n",
            "               ],\n",
            "               [\n",
            "                  262144,\n",
            "                  [\n",
            "                     9639,\n",
            "                     21872,\n",
            "                     74079,\n",
            "                     86175,\n",
            "                     91878,\n",
            "                     99585,\n",
            "                     103838,\n",
            "                     175817,\n",
            "                     205044,\n",
            "                     218965,\n",
            "                     222453,\n",
            "                     227152,\n",
            "                     227431,\n",
            "                     229772,\n",
            "                     253475\n",
            "                  ],\n",
            "                  [\n",
            "                     1.0,\n",
            "                     2.0,\n",
            "                     1.0,\n",
            "                     1.0,\n",
            "                     1.0,\n",
            "                     1.0,\n",
            "                     2.0,\n",
            "                     1.0,\n",
            "                     2.0,\n",
            "                     1.0,\n",
            "                     1.0,\n",
            "                     1.0,\n",
            "                     1.0,\n",
            "                     1.0,\n",
            "                     1.0\n",
            "                  ]\n",
            "               ],\n",
            "               [\n",
            "                  262144,\n",
            "                  [\n",
            "                     9639,\n",
            "                     21872,\n",
            "                     74079,\n",
            "                     86175,\n",
            "                     91878,\n",
            "                     99585,\n",
            "                     103838,\n",
            "                     175817,\n",
            "                     205044,\n",
            "                     218965,\n",
            "                     222453,\n",
            "                     227152,\n",
            "                     227431,\n",
            "                     229772,\n",
            "                     253475\n",
            "                  ],\n",
            "                  [\n",
            "                     1.7371553351932032,\n",
            "                     5.586416018885034,\n",
            "                     0.0,\n",
            "                     1.589235205116581,\n",
            "                     3.332204510175204,\n",
            "                     3.406312482328926,\n",
            "                     1.3359138634627736,\n",
            "                     3.8918202981106265,\n",
            "                     1.5789565789967548,\n",
            "                     4.179502370562408,\n",
            "                     1.8603879756171513,\n",
            "                     0.0,\n",
            "                     3.573366566992092,\n",
            "                     1.1270747533318712,\n",
            "                     1.8281271133989299\n",
            "                  ]\n",
            "               ],\n",
            "               7.0,\n",
            "               [\n",
            "                  139.0,\n",
            "                  81.0,\n",
            "                  12.0,\n",
            "                  16.0,\n",
            "                  13.0,\n",
            "                  14.0,\n",
            "                  13.0,\n",
            "                  7.0\n",
            "               ],\n",
            "               [\n",
            "                  0.4711864406779661,\n",
            "                  0.2745762711864407,\n",
            "                  0.04067796610169491,\n",
            "                  0.05423728813559322,\n",
            "                  0.04406779661016949,\n",
            "                  0.04745762711864407,\n",
            "                  0.04406779661016949,\n",
            "                  0.023728813559322035\n",
            "               ],\n",
            "               0.0,\n",
            "               \"Service: Knowledge\"\n",
            "            ]\n",
            "         ]\n",
            "      }\n",
            "   ]\n",
            "}\n"
          ]
        }
      ],
      "source": [
        "import json\n",
        "\n",
        "payload_scoring = {\"input_data\": [{\"fields\": fields,\"values\": [values]}]}\n",
        "scoring_response = client.deployments.score(client.deployments.get_id(deployment_details), payload_scoring)\n",
        "\n",
        "print(json.dumps(scoring_response, indent=3))"
      ]
    },
    {
      "cell_type": "markdown",
      "metadata": {},
      "source": [
        "<a id=\"cleanup\"></a>\n",
        "## 7. Clean up "
      ]
    },
    {
      "cell_type": "markdown",
      "metadata": {},
      "source": [
        "If you want to clean up all created assets:\n",
        "- experiments\n",
        "- trainings\n",
        "- pipelines\n",
        "- model definitions\n",
        "- models\n",
        "- functions\n",
        "- deployments\n",
        "\n",
        "please follow up this sample [notebook](https://github.com/IBM/watson-machine-learning-samples/blob/master/cpd3.5/notebooks/python_sdk/instance-management/Machine%20Learning%20artifacts%20management.ipynb)."
      ]
    },
    {
      "cell_type": "markdown",
      "metadata": {},
      "source": [
        "<a id=\"summary\"></a>\n",
        "## 8. Summary and next steps     "
      ]
    },
    {
      "cell_type": "markdown",
      "metadata": {},
      "source": [
        " You successfully completed this notebook! You learned how to use Apache Spark machine learning as well as Watson Machine Learning for model creation and deployment.\n",
        " \n",
        " Check out our [Online Documentation](https://dataplatform.cloud.ibm.com/docs/content/analyze-data/wml-setup.html) for more samples, tutorials, documentation, how-tos, and blog posts. "
      ]
    },
    {
      "cell_type": "markdown",
      "metadata": {},
      "source": [
        "### Authors\n",
        "\n",
        "**Amadeusz Masny**, Python Software Developer in Watson Machine Learning at IBM"
      ]
    },
    {
      "cell_type": "markdown",
      "metadata": {},
      "source": [
        "Copyright © 2020-2025 IBM. This notebook and its source code are released under the terms of the MIT License."
      ]
    }
  ],
  "metadata": {
    "kernelspec": {
      "display_name": "Python 3",
      "language": "python",
      "name": "python3"
    },
    "language_info": {
      "codemirror_mode": {
        "name": "ipython",
        "version": 3
      },
      "file_extension": ".py",
      "mimetype": "text/x-python",
      "name": "python",
      "nbconvert_exporter": "python",
      "pygments_lexer": "ipython3",
      "version": "3.7.9"
    }
  },
  "nbformat": 4,
  "nbformat_minor": 4
}
