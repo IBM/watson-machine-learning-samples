{
 "cells": [
  {
   "cell_type": "markdown",
   "metadata": {
    "id": "55e3956c-ee03-456b-b7a4-ce5cbb14e6d0"
   },
   "source": [
    "# Use XGBoost to classify tumors with `ibm-watson-machine-learning`"
   ]
  },
  {
   "cell_type": "markdown",
   "metadata": {
    "id": "08dc052c-885a-41e1-a074-f579bb755ede"
   },
   "source": [
    "This notebook contains steps and code to get data from the IBM Watson Studio Community, create a predictive model, and start scoring new data. It introduces commands for getting data and for basic data cleaning and exploration, model training, model persistance to Watson Machine Learning repository, model deployment, and scoring.\n",
    "\n",
    "Some familiarity with Python is helpful. This notebook uses Python 3.7, XGBoost, and scikit-learn 0.23.1.\n",
    "\n",
    "You will use a publicly available data set, the Breast Cancer Wisconsin (Diagnostic) Data Set, to train an XGBoost Model to classify breast cancer tumors (as benign or malignant) from 569 diagnostic images based on measurements such as radius, texture, perimeter and area. XGBoost is short for “E**x**treme **G**radient **Boost**ing”.\n",
    "\n",
    "The XGBoost classifier makes its predictions based on the majority vote from collection of models which are a set of classification trees. It uses the combination of weak learners to create a single strong learner. It’s a sequential training process, whereby new learners focus on the misclassified examples of previous learners.\n",
    "\n",
    "\n",
    "## Learning goals\n",
    "\n",
    "You will learn how to:\n",
    "\n",
    "-  Load a CSV file into numpy array\n",
    "-  Explore data\n",
    "-  Prepare data for training and evaluation\n",
    "-  Create an XGBoost machine learning model\n",
    "-  Train and evaluate a model\n",
    "-  Use cross-validation to optimize model's hyperparameters\n",
    "-  Persist a model in Watson Machine Learning repository\n",
    "-  Deploy a model for online scoring\n",
    "-  Score sample data\n",
    "\n",
    "\n",
    "## Contents\n",
    "\n",
    "This notebook contains the following parts:\n",
    "\n",
    "1.\t[Setup](#setup)\n",
    "2.\t[Load and explore the data](#load)\n",
    "3.\t[Create the XGBoost model](#model)\n",
    "4.\t[Persist model](#upload)\n",
    "5.\t[Deployment](#deploy)\n",
    "6.  [Score the model](#score)\n",
    "7.  [Clean up](#cleanup)\n",
    "8.\t[Summary and next steps](#summary)"
   ]
  },
  {
   "cell_type": "markdown",
   "metadata": {
    "id": "82ecf722-2417-4c4e-806a-e44dbeb2060e"
   },
   "source": [
    "<a id=\"setup\"></a>\n",
    "## 1. Set up the environment\n",
    "\n",
    "Before you use the sample code in this notebook, you must perform the following setup tasks:\n",
    "\n",
    "-  Contact with your Cloud Pack for Data administrator and ask him for your account credentials"
   ]
  },
  {
   "cell_type": "markdown",
   "metadata": {
    "id": "e2629d1a-c762-4e47-ade5-4dca5cbee2ec"
   },
   "source": [
    "### Connection to WML\n",
    "\n",
    "Authenticate the Watson Machine Learning service on IBM Cloud Pack for Data. You need to provide platform `url`, your `username` and `password`."
   ]
  },
  {
   "cell_type": "code",
   "execution_count": 4,
   "metadata": {
    "id": "17cfcd8c60324b758583965e793d5c24"
   },
   "outputs": [],
   "source": [
    "import os\n",
    "from getpass import getpass"
   ]
  },
  {
   "cell_type": "code",
   "execution_count": 5,
   "metadata": {
    "id": "f55ac7d3-2603-4438-8054-14d02db11b74"
   },
   "outputs": [],
   "source": [
    "username = getpass(\"Username: \")\n",
    "password = getpass(\"Password: \")\n",
    "url = os.environ[\"RUNTIME_ENV_APSX_URL\"]"
   ]
  },
  {
   "cell_type": "code",
   "execution_count": 6,
   "metadata": {
    "id": "91863b5c-f672-4877-8bf6-f48dee75f3e4"
   },
   "outputs": [],
   "source": [
    "wml_credentials = {\n",
    "    \"username\": username,\n",
    "    \"password\": password,\n",
    "    \"url\": url,\n",
    "    \"instance_id\": 'openshift',\n",
    "    \"version\": '3.5'\n",
    "}"
   ]
  },
  {
   "cell_type": "markdown",
   "metadata": {
    "id": "c62a6581-0d4a-4915-b82a-fb7bc7d8ff08"
   },
   "source": [
    "### Install and import the `ibm-watson-machine-learning` package\n",
    "**Note:** `ibm-watson-machine-learning` documentation can be found <a href=\"http://ibm-wml-api-pyclient.mybluemix.net/\" target=\"_blank\" rel=\"noopener no referrer\">here</a>."
   ]
  },
  {
   "cell_type": "code",
   "execution_count": 7,
   "metadata": {
    "id": "60215bfdd26449aea91cf28f508db1c9"
   },
   "outputs": [
    {
     "name": "stdout",
     "output_type": "stream",
     "text": [
      "Name: ibm-watson-machine-learning\r\n",
      "Version: 1.0.44\r\n",
      "Summary: IBM Watson Machine Learning API Client\r\n",
      "Home-page: http://ibm-wml-api-pyclient.mybluemix.net\r\n",
      "Author: IBM\r\n",
      "Author-email: svagaral@in.ibm.com, kaganesa@in.ibm.com, vbmithun@in.ibm.com, amadeusz.masny1@ibm.com\r\n",
      "License: BSD\r\n",
      "Location: /opt/conda/envs/Python-3.7-main/lib/python3.7/site-packages\r\n",
      "Requires: tabulate, urllib3, lomond, pandas, ibm-cos-sdk, certifi, requests\r\n",
      "Required-by: \r\n"
     ]
    }
   ],
   "source": [
    "!pip show ibm-watson-machine-learning"
   ]
  },
  {
   "cell_type": "code",
   "execution_count": null,
   "metadata": {
    "id": "258d4a7a-2ca5-48fb-bef4-c1ae441ff65f"
   },
   "outputs": [],
   "source": [
    "#!pip install -U ibm-watson-machine-learning"
   ]
  },
  {
   "cell_type": "code",
   "execution_count": 8,
   "metadata": {
    "id": "47d44d47-4e76-4258-8329-979507e63840"
   },
   "outputs": [],
   "source": [
    "from ibm_watson_machine_learning import APIClient\n",
    "\n",
    "client = APIClient(wml_credentials)"
   ]
  },
  {
   "cell_type": "markdown",
   "metadata": {
    "id": "eb30082a-d8a1-4317-a56d-09af8f406e6e"
   },
   "source": [
    "### Working with spaces\n",
    "\n",
    "First of all, you need to create a space that will be used for your work. If you do not have space already created, you can use `{PLATFORM_URL}/ml-runtime/spaces?context=icp4data` to create one.\n",
    "\n",
    "- Click New Deployment Space\n",
    "- Create an empty space\n",
    "- Go to space `Settings` tab\n",
    "- Copy `space_id` and paste it below\n",
    "\n",
    "**Tip**: You can also use SDK to prepare the space for your work. More information can be found [here](https://github.com/IBM/watson-machine-learning-samples/blob/master/cpd3.5/notebooks/python_sdk/instance-management/Space%20management.ipynb).\n",
    "\n",
    "**Action**: Assign space ID below"
   ]
  },
  {
   "cell_type": "markdown",
   "metadata": {
    "id": "7f097c14-8414-4346-bf9d-2b8256b23495"
   },
   "source": [
    "You can use `list` method to print all existing spaces."
   ]
  },
  {
   "cell_type": "code",
   "execution_count": 9,
   "metadata": {
    "id": "30105ed8-04f1-4e84-9ab6-e0030ebab679"
   },
   "outputs": [
    {
     "name": "stdout",
     "output_type": "stream",
     "text": [
      "------------------------------------  ----------------  ------------------------\n",
      "ID                                    NAME              CREATED\n",
      "f95fff81-5115-49c9-88b4-4c7c56867b64  EgeAIDeploySpace  2021-11-24T12:08:29.283Z\n",
      "9fa24cd3-741f-4319-9c36-42e95be1a72a  WSpace            2021-11-19T13:17:01.905Z\n",
      "bcfa7cc6-9f40-4081-8984-b991cb502030  curl1             2021-11-09T15:40:12.308Z\n",
      "1fcc1046-d24e-421a-8ea5-f524425a9c9c  asdasd            2021-07-26T14:46:53.454Z\n",
      "47e89a3a-5d2a-4b5a-8bdf-2d340b5b1e8b  WW deploy         2021-07-26T09:35:26.463Z\n",
      "c6ffe694-9dbc-4f91-b10c-39a53a72c21f  egeDeploy         2021-02-11T10:29:38.305Z\n",
      "------------------------------------  ----------------  ------------------------\n"
     ]
    }
   ],
   "source": [
    "client.spaces.list(limit=10)"
   ]
  },
  {
   "cell_type": "code",
   "execution_count": 10,
   "metadata": {
    "id": "d5c84e8ff76847bb8a381529081a02ec"
   },
   "outputs": [],
   "source": [
    "space_id = \"9fa24cd3-741f-4319-9c36-42e95be1a72a\""
   ]
  },
  {
   "cell_type": "markdown",
   "metadata": {
    "id": "dba501a7-5bbb-4408-89d0-09d1976bda78"
   },
   "source": [
    "To be able to interact with all resources available in Watson Machine Learning, you need to set **space** which you will be using."
   ]
  },
  {
   "cell_type": "code",
   "execution_count": 11,
   "metadata": {
    "id": "a08b04ca-7419-4324-a614-c988451d0034"
   },
   "outputs": [
    {
     "data": {
      "text/plain": [
       "'SUCCESS'"
      ]
     },
     "execution_count": 11,
     "metadata": {},
     "output_type": "execute_result"
    }
   ],
   "source": [
    "client.set.default_space(space_id)"
   ]
  },
  {
   "cell_type": "markdown",
   "metadata": {
    "id": "a9bd05c7-e7e7-463d-ad24-0a69a81fc18b"
   },
   "source": [
    "<a id=\"load\"></a>\n",
    "## 2. Load and explore the data"
   ]
  },
  {
   "cell_type": "markdown",
   "metadata": {
    "id": "a72ca421-e5f9-4b60-8c1d-01392ac1571c"
   },
   "source": [
    "In this section you will load the data as a numpy array and perform a basic exploration.\n",
    "\n",
    "To load the data as a numpy array, user `wget` to download the data, then use the `genfromtxt` method to read the data."
   ]
  },
  {
   "cell_type": "markdown",
   "metadata": {
    "id": "ddbd4b2a-7c77-4d3d-b591-2d950ab55db0"
   },
   "source": [
    "**Example**: First, you need to install the required packages. You can do this by running the following code. Run it only one time.<BR><BR>"
   ]
  },
  {
   "cell_type": "code",
   "execution_count": 12,
   "metadata": {
    "id": "9b2e0ba391854cc1868e37f37767b06c"
   },
   "outputs": [
    {
     "name": "stdout",
     "output_type": "stream",
     "text": [
      "Name: wget\r\n",
      "Version: 3.2\r\n",
      "Summary: pure python download utility\r\n",
      "Home-page: http://bitbucket.org/techtonik/python-wget/\r\n",
      "Author: anatoly techtonik <techtonik@gmail.com>\r\n",
      "Author-email: UNKNOWN\r\n",
      "License: Public Domain\r\n",
      "Location: /user-home/_global_/python-3\r\n",
      "Requires: \r\n",
      "Required-by: streamsx.toolkits\r\n"
     ]
    }
   ],
   "source": [
    "!pip show wget"
   ]
  },
  {
   "cell_type": "code",
   "execution_count": 13,
   "metadata": {
    "id": "8eac38dd-66be-47e0-b91e-95fd386e82ab"
   },
   "outputs": [],
   "source": [
    "#!pip install wget --upgrade"
   ]
  },
  {
   "cell_type": "code",
   "execution_count": 14,
   "metadata": {
    "id": "1b9d4b18-39c6-41f1-83cb-83c784642a40",
    "scrolled": true
   },
   "outputs": [
    {
     "name": "stdout",
     "output_type": "stream",
     "text": [
      "https://raw.githubusercontent.com/IBM/watson-machine-learning-samples/master/cpd3.5/data/cancer/BreastCancerWisconsinDataSet.csv\n",
      "BreastCancerWisconsinDataSet.csv\n"
     ]
    }
   ],
   "source": [
    "import wget, os\n",
    "\n",
    "WisconsinDataSet = 'BreastCancerWisconsinDataSet.csv' \n",
    "if not os.path.isfile(WisconsinDataSet):\n",
    "    link_to_data = 'https://raw.githubusercontent.com/IBM/watson-machine-learning-samples/master/cpd3.5/data/cancer/' + WisconsinDataSet\n",
    "    print(link_to_data)\n",
    "    WisconsinDataSet = wget.download(link_to_data)\n",
    "\n",
    "print(WisconsinDataSet)"
   ]
  },
  {
   "cell_type": "markdown",
   "metadata": {
    "id": "3c654d99-dad7-47ed-bf9f-009305fc3c01"
   },
   "source": [
    "The csv file **BreastCancerWisconsinDataSet.csv** is downloaded. Run the code in the next cells to load the file to the numpy array."
   ]
  },
  {
   "cell_type": "code",
   "execution_count": 15,
   "metadata": {
    "id": "02227f07-e59c-4779-a30e-f5c940a95768"
   },
   "outputs": [
    {
     "name": "stdout",
     "output_type": "stream",
     "text": [
      "(842302, 'M', 17.99, 10.38, 122.8, 1001., 0.1184, 0.2776, 0.3001, 0.1471, 0.2419, 0.07871, 1.095, 0.9053, 8.589, 153.4, 0.006399, 0.04904, 0.05373, 0.01587, 0.03003, 0.006193, 25.38, 17.33, 184.6, 2019., 0.1622, 0.6656, 0.7119, 0.2654, 0.4601, 0.1189)\n"
     ]
    }
   ],
   "source": [
    "import numpy as np\n",
    "\n",
    "np_data = np.genfromtxt(WisconsinDataSet, delimiter=',', names=True, dtype=None, encoding='utf-8')\n",
    "print(np_data[0])"
   ]
  },
  {
   "cell_type": "markdown",
   "metadata": {
    "id": "4c970a14-6906-42a2-8f5e-5a9750866b4b"
   },
   "source": [
    "Run the code in the next cell to view the feature names and data storage types."
   ]
  },
  {
   "cell_type": "code",
   "execution_count": 16,
   "metadata": {
    "id": "5769aa4e-9259-4f0a-83a5-16b4fbc8ed45"
   },
   "outputs": [
    {
     "name": "stdout",
     "output_type": "stream",
     "text": [
      "[('id', '<i8'), ('diagnosis', '<U1'), ('radius_mean', '<f8'), ('texture_mean', '<f8'), ('perimeter_mean', '<f8'), ('area_mean', '<f8'), ('smoothness_mean', '<f8'), ('compactness_mean', '<f8'), ('concavity_mean', '<f8'), ('concave_points_mean', '<f8'), ('symmetry_mean', '<f8'), ('fractal_dimension_mean', '<f8'), ('radius_se', '<f8'), ('texture_se', '<f8'), ('perimeter_se', '<f8'), ('area_se', '<f8'), ('smoothness_se', '<f8'), ('compactness_se', '<f8'), ('concavity_se', '<f8'), ('concave_points_se', '<f8'), ('symmetry_se', '<f8'), ('fractal_dimension_se', '<f8'), ('radius_worst', '<f8'), ('texture_worst', '<f8'), ('perimeter_worst', '<f8'), ('area_worst', '<f8'), ('smoothness_worst', '<f8'), ('compactness_worst', '<f8'), ('concavity_worst', '<f8'), ('concave_points_worst', '<f8'), ('symmetry_worst', '<f8'), ('fractal_dimension_worst', '<f8')]\n"
     ]
    }
   ],
   "source": [
    "# Display the feature names and data storage types.\n",
    "print(np_data.dtype)"
   ]
  },
  {
   "cell_type": "code",
   "execution_count": 17,
   "metadata": {
    "id": "70740697-e6b2-4a36-ae54-d9a83e55e5f2"
   },
   "outputs": [
    {
     "name": "stdout",
     "output_type": "stream",
     "text": [
      "Number of rows: 569\n",
      "Number of columns: 32\n"
     ]
    }
   ],
   "source": [
    "# Display the number of records and features.\n",
    "print('Number of rows: {}'.format(np_data.size))\n",
    "print('Number of columns: {}'.format(len(np_data[0])))"
   ]
  },
  {
   "cell_type": "markdown",
   "metadata": {
    "id": "1c59fde7-ca36-4161-95ee-e811868f1bcd"
   },
   "source": [
    "You can see that the data set has 569 records and 32 features."
   ]
  },
  {
   "cell_type": "markdown",
   "metadata": {
    "id": "287ef43e-bdea-4f1e-a26d-17337ae2e887"
   },
   "source": [
    "<a id=\"model\"></a>\n",
    "## 3. Create an XGBoost model\n",
    "\n",
    "In this section you will learn how to train and test an XGBoost model.\n",
    "\n",
    "- [3.1. Prepare the data](#prepare)\n",
    "- [3.2. Create the XGBoost model](#create)"
   ]
  },
  {
   "cell_type": "markdown",
   "metadata": {
    "id": "91cc30c6-79e2-4815-8285-2f2a92a34961"
   },
   "source": [
    "**Note:** Update `xgboost` to ensure you have `1.3.3` version."
   ]
  },
  {
   "cell_type": "code",
   "execution_count": 18,
   "metadata": {
    "id": "97a42230bc704fa1a7bc6dd95ebd06d7"
   },
   "outputs": [
    {
     "name": "stdout",
     "output_type": "stream",
     "text": [
      "Name: xgboost\r\n",
      "Version: 0.90\r\n",
      "Summary: XGBoost Python Package\r\n",
      "Home-page: https://github.com/dmlc/xgboost\r\n",
      "Author: None\r\n",
      "Author-email: None\r\n",
      "License: Apache-2.0\r\n",
      "Location: /opt/conda/envs/Python-3.7-main/lib/python3.7/site-packages\r\n",
      "Requires: numpy, scipy\r\n",
      "Required-by: \r\n"
     ]
    }
   ],
   "source": [
    "!pip show xgboost"
   ]
  },
  {
   "cell_type": "code",
   "execution_count": 19,
   "metadata": {
    "id": "f4ff4bb7-7613-4cf9-807c-fdb237aaed0c"
   },
   "outputs": [],
   "source": [
    "#!pip install -U xgboost==1.3.3"
   ]
  },
  {
   "cell_type": "markdown",
   "metadata": {
    "id": "318edc00-0f0b-4f0a-a0a0-bdadf6397804"
   },
   "source": [
    "### 3.1. Prepare data<a id=\"prepare\"></a>"
   ]
  },
  {
   "cell_type": "markdown",
   "metadata": {
    "id": "7114eeeb-bd4d-48ad-b0f6-e77f0c9aaa43"
   },
   "source": [
    "Now, you can prepare your data for model building. You will use the `diagnosis` column as your target variable so you must remove it from the set of predictors. You must also remove the `id` variable."
   ]
  },
  {
   "cell_type": "code",
   "execution_count": 20,
   "metadata": {
    "id": "18fca251-629c-46d4-9239-73bec8a7b1fd"
   },
   "outputs": [],
   "source": [
    "y = 1 * (np_data['diagnosis'] == 'M')\n",
    "X = np.array([list(r)[2:] for r in np_data])"
   ]
  },
  {
   "cell_type": "markdown",
   "metadata": {
    "id": "51af9f4d-9602-404d-adce-addf9df8dd3b"
   },
   "source": [
    "Split the data set into: \n",
    "- Train data set\n",
    "- Test data set"
   ]
  },
  {
   "cell_type": "code",
   "execution_count": 21,
   "metadata": {
    "id": "be64854b-3bf1-4146-9028-26c475095200"
   },
   "outputs": [],
   "source": [
    "# Split the data set and create two data sets.\n",
    "# from sklearn.cross_validation import train_test_split \n",
    "\n",
    "from sklearn.model_selection import train_test_split\n",
    "\n",
    "X_train, X_test, y_train, y_test = train_test_split(X, y, test_size=0.35, random_state=143)"
   ]
  },
  {
   "cell_type": "code",
   "execution_count": 22,
   "metadata": {
    "id": "684fa90d-4a88-4192-8486-6b0ce608fcad"
   },
   "outputs": [
    {
     "name": "stdout",
     "output_type": "stream",
     "text": [
      "Number of training records: 369\n",
      "Number of testing records : 200\n"
     ]
    }
   ],
   "source": [
    "# List the number of records in each data set.\n",
    "print(\"Number of training records: \" + str(X_train.shape[0]))\n",
    "print(\"Number of testing records : \" + str(X_test.shape[0]))"
   ]
  },
  {
   "cell_type": "markdown",
   "metadata": {
    "id": "93c96914-4e1d-4f4b-bb8a-fde4f7dec4f3"
   },
   "source": [
    "The data has been successfully split into two data sets:\n",
    "- The train data set, which is the largest group, will be used for training\n",
    "- The test data set will be used for model evaluation and is used to test the assumptions of the model"
   ]
  },
  {
   "cell_type": "markdown",
   "metadata": {
    "id": "56a14c12-6302-4ff8-b58a-91adfe702120"
   },
   "source": [
    "### 3.2. Create the XGBoost model<a id=\"create\"></a>"
   ]
  },
  {
   "cell_type": "markdown",
   "metadata": {
    "id": "89b1b19a-ced7-4c18-96d1-23b51874ac3f"
   },
   "source": [
    "Start by importing the necessary libraries."
   ]
  },
  {
   "cell_type": "code",
   "execution_count": 23,
   "metadata": {
    "id": "8169a9b6-e294-407e-91e7-ea02b1afcc62"
   },
   "outputs": [],
   "source": [
    "# Import the libraries you need to create the XGBoost model.\n",
    "from xgboost.sklearn import XGBClassifier\n",
    "\n",
    "from sklearn.model_selection import GridSearchCV\n",
    "from sklearn.metrics import accuracy_score"
   ]
  },
  {
   "cell_type": "markdown",
   "metadata": {
    "id": "6983ffc2-33f9-45b9-8ab6-caf08d3c88fb"
   },
   "source": [
    "#### 3.2.1. Create an XGBoost classifier"
   ]
  },
  {
   "cell_type": "markdown",
   "metadata": {
    "id": "886db6c5-8f15-449f-8f36-d74e88f087b4"
   },
   "source": [
    "In this section you create an XGBoost classifier with default hyperparameter values and you will call it *xgb_model*. \n",
    "\n",
    "**Note** The next sections show you how to improve this base model."
   ]
  },
  {
   "cell_type": "markdown",
   "metadata": {
    "id": "6159d17a-c36e-4756-9c98-e3ca77a1190b"
   },
   "source": [
    "**Note**: Usage of default or `n_jobs=-1` parameter in XGBoost classifier is not recommended as underlying process often cannot correctly discover number of CPUs / threads allowed.  \n",
    "Other ways to controll the number of cores used is through environmental variables `OMP_NUM_THREADS` and `MKL_NUM_THREADS`, which should be set by default if this notebook is executed inside \n",
    "Watson Studio.\n"
   ]
  },
  {
   "cell_type": "code",
   "execution_count": 24,
   "metadata": {
    "id": "98fbc7b2-a8f3-4b87-bf42-2d851dff60d2"
   },
   "outputs": [],
   "source": [
    "# Create the XGB classifier, xgb_model.\n",
    "xgb_model = XGBClassifier(use_label_encoder=False, n_jobs=1)"
   ]
  },
  {
   "cell_type": "markdown",
   "metadata": {
    "id": "7f5083bc-e30f-415e-a3f4-d317ba1751e0"
   },
   "source": [
    "Display the default parameters for *xgb_model*."
   ]
  },
  {
   "cell_type": "code",
   "execution_count": 25,
   "metadata": {
    "id": "fce67184-af34-4b62-b8cb-e8a0c79e5152"
   },
   "outputs": [
    {
     "name": "stdout",
     "output_type": "stream",
     "text": [
      "{'base_score': 0.5, 'booster': 'gbtree', 'colsample_bylevel': 1, 'colsample_bynode': 1, 'colsample_bytree': 1, 'gamma': 0, 'learning_rate': 0.1, 'max_delta_step': 0, 'max_depth': 3, 'min_child_weight': 1, 'missing': None, 'n_estimators': 100, 'nthread': 1, 'objective': 'binary:logistic', 'reg_alpha': 0, 'reg_lambda': 1, 'scale_pos_weight': 1, 'seed': 0, 'subsample': 1, 'verbosity': 1, 'use_label_encoder': False}\n"
     ]
    }
   ],
   "source": [
    "# List the default parameters.\n",
    "print(xgb_model.get_xgb_params())"
   ]
  },
  {
   "cell_type": "markdown",
   "metadata": {
    "id": "94c874c3-256c-4bda-abc1-652bb9cb4648"
   },
   "source": [
    "Now that your XGBoost classifier, *xgb_model*, is set up, you can train it by invoking the fit method. You will also evaluate *xgb_model* while the train and test data are being trained."
   ]
  },
  {
   "cell_type": "code",
   "execution_count": 26,
   "metadata": {
    "id": "051c52b5-8b61-4774-be29-9c0b93c8a50e"
   },
   "outputs": [
    {
     "name": "stdout",
     "output_type": "stream",
     "text": [
      "[0]\tvalidation_0-error:0.02168\tvalidation_1-error:0.05\n",
      "[1]\tvalidation_0-error:0.01897\tvalidation_1-error:0.05\n",
      "[2]\tvalidation_0-error:0.01897\tvalidation_1-error:0.05\n",
      "[3]\tvalidation_0-error:0.01897\tvalidation_1-error:0.05\n",
      "[4]\tvalidation_0-error:0.01897\tvalidation_1-error:0.05\n",
      "[5]\tvalidation_0-error:0.01897\tvalidation_1-error:0.05\n",
      "[6]\tvalidation_0-error:0.01897\tvalidation_1-error:0.05\n",
      "[7]\tvalidation_0-error:0.01626\tvalidation_1-error:0.05\n",
      "[8]\tvalidation_0-error:0.01355\tvalidation_1-error:0.05\n",
      "[9]\tvalidation_0-error:0.01084\tvalidation_1-error:0.05\n",
      "[10]\tvalidation_0-error:0.01084\tvalidation_1-error:0.05\n",
      "[11]\tvalidation_0-error:0.01084\tvalidation_1-error:0.05\n",
      "[12]\tvalidation_0-error:0.01084\tvalidation_1-error:0.05\n",
      "[13]\tvalidation_0-error:0.01084\tvalidation_1-error:0.05\n",
      "[14]\tvalidation_0-error:0.01084\tvalidation_1-error:0.05\n",
      "[15]\tvalidation_0-error:0.00813\tvalidation_1-error:0.05\n",
      "[16]\tvalidation_0-error:0.01084\tvalidation_1-error:0.05\n",
      "[17]\tvalidation_0-error:0.01084\tvalidation_1-error:0.04\n",
      "[18]\tvalidation_0-error:0.00813\tvalidation_1-error:0.04\n",
      "[19]\tvalidation_0-error:0.00813\tvalidation_1-error:0.04\n",
      "[20]\tvalidation_0-error:0.00813\tvalidation_1-error:0.04\n",
      "[21]\tvalidation_0-error:0.00813\tvalidation_1-error:0.04\n",
      "[22]\tvalidation_0-error:0.00813\tvalidation_1-error:0.04\n",
      "[23]\tvalidation_0-error:0.00813\tvalidation_1-error:0.04\n",
      "[24]\tvalidation_0-error:0.00542\tvalidation_1-error:0.04\n",
      "[25]\tvalidation_0-error:0.00542\tvalidation_1-error:0.04\n",
      "[26]\tvalidation_0-error:0.00542\tvalidation_1-error:0.04\n",
      "[27]\tvalidation_0-error:0.00813\tvalidation_1-error:0.04\n",
      "[28]\tvalidation_0-error:0.00542\tvalidation_1-error:0.04\n",
      "[29]\tvalidation_0-error:0.00542\tvalidation_1-error:0.04\n",
      "[30]\tvalidation_0-error:0.00542\tvalidation_1-error:0.04\n",
      "[31]\tvalidation_0-error:0.00542\tvalidation_1-error:0.04\n",
      "[32]\tvalidation_0-error:0.00542\tvalidation_1-error:0.04\n",
      "[33]\tvalidation_0-error:0.00542\tvalidation_1-error:0.04\n",
      "[34]\tvalidation_0-error:0.00542\tvalidation_1-error:0.04\n",
      "[35]\tvalidation_0-error:0.00542\tvalidation_1-error:0.045\n",
      "[36]\tvalidation_0-error:0.00542\tvalidation_1-error:0.045\n",
      "[37]\tvalidation_0-error:0.00542\tvalidation_1-error:0.045\n",
      "[38]\tvalidation_0-error:0.00542\tvalidation_1-error:0.045\n",
      "[39]\tvalidation_0-error:0.00542\tvalidation_1-error:0.045\n",
      "[40]\tvalidation_0-error:0.00542\tvalidation_1-error:0.04\n",
      "[41]\tvalidation_0-error:0.00542\tvalidation_1-error:0.045\n",
      "[42]\tvalidation_0-error:0.00542\tvalidation_1-error:0.04\n",
      "[43]\tvalidation_0-error:0.00542\tvalidation_1-error:0.04\n",
      "[44]\tvalidation_0-error:0.00542\tvalidation_1-error:0.04\n",
      "[45]\tvalidation_0-error:0.00542\tvalidation_1-error:0.04\n",
      "[46]\tvalidation_0-error:0.00542\tvalidation_1-error:0.04\n",
      "[47]\tvalidation_0-error:0.00542\tvalidation_1-error:0.04\n",
      "[48]\tvalidation_0-error:0.00542\tvalidation_1-error:0.04\n",
      "[49]\tvalidation_0-error:0.00542\tvalidation_1-error:0.04\n",
      "[50]\tvalidation_0-error:0.00542\tvalidation_1-error:0.04\n",
      "[51]\tvalidation_0-error:0.00542\tvalidation_1-error:0.04\n",
      "[52]\tvalidation_0-error:0.00542\tvalidation_1-error:0.04\n",
      "[53]\tvalidation_0-error:0.00542\tvalidation_1-error:0.04\n",
      "[54]\tvalidation_0-error:0.00542\tvalidation_1-error:0.04\n",
      "[55]\tvalidation_0-error:0.00542\tvalidation_1-error:0.045\n",
      "[56]\tvalidation_0-error:0.00271\tvalidation_1-error:0.04\n",
      "[57]\tvalidation_0-error:0.00271\tvalidation_1-error:0.04\n",
      "[58]\tvalidation_0-error:0.00271\tvalidation_1-error:0.045\n",
      "[59]\tvalidation_0-error:0.00271\tvalidation_1-error:0.045\n",
      "[60]\tvalidation_0-error:0.00271\tvalidation_1-error:0.05\n",
      "[61]\tvalidation_0-error:0.00271\tvalidation_1-error:0.045\n",
      "[62]\tvalidation_0-error:0.00271\tvalidation_1-error:0.045\n",
      "[63]\tvalidation_0-error:0.00271\tvalidation_1-error:0.05\n",
      "[64]\tvalidation_0-error:0\tvalidation_1-error:0.05\n",
      "[65]\tvalidation_0-error:0\tvalidation_1-error:0.05\n",
      "[66]\tvalidation_0-error:0\tvalidation_1-error:0.05\n",
      "[67]\tvalidation_0-error:0\tvalidation_1-error:0.05\n",
      "[68]\tvalidation_0-error:0\tvalidation_1-error:0.05\n",
      "[69]\tvalidation_0-error:0\tvalidation_1-error:0.05\n",
      "[70]\tvalidation_0-error:0\tvalidation_1-error:0.05\n",
      "[71]\tvalidation_0-error:0\tvalidation_1-error:0.05\n",
      "[72]\tvalidation_0-error:0\tvalidation_1-error:0.05\n",
      "[73]\tvalidation_0-error:0\tvalidation_1-error:0.05\n",
      "[74]\tvalidation_0-error:0\tvalidation_1-error:0.05\n",
      "[75]\tvalidation_0-error:0\tvalidation_1-error:0.05\n",
      "[76]\tvalidation_0-error:0\tvalidation_1-error:0.05\n",
      "[77]\tvalidation_0-error:0\tvalidation_1-error:0.05\n",
      "[78]\tvalidation_0-error:0\tvalidation_1-error:0.05\n",
      "[79]\tvalidation_0-error:0\tvalidation_1-error:0.05\n",
      "[80]\tvalidation_0-error:0\tvalidation_1-error:0.05\n",
      "[81]\tvalidation_0-error:0\tvalidation_1-error:0.05\n",
      "[82]\tvalidation_0-error:0\tvalidation_1-error:0.05\n",
      "[83]\tvalidation_0-error:0\tvalidation_1-error:0.05\n",
      "[84]\tvalidation_0-error:0\tvalidation_1-error:0.05\n",
      "[85]\tvalidation_0-error:0\tvalidation_1-error:0.05\n",
      "[86]\tvalidation_0-error:0\tvalidation_1-error:0.05\n",
      "[87]\tvalidation_0-error:0\tvalidation_1-error:0.05\n",
      "[88]\tvalidation_0-error:0\tvalidation_1-error:0.055\n",
      "[89]\tvalidation_0-error:0\tvalidation_1-error:0.055\n",
      "[90]\tvalidation_0-error:0\tvalidation_1-error:0.05\n",
      "[91]\tvalidation_0-error:0\tvalidation_1-error:0.055\n",
      "[92]\tvalidation_0-error:0\tvalidation_1-error:0.055\n",
      "[93]\tvalidation_0-error:0\tvalidation_1-error:0.055\n",
      "[94]\tvalidation_0-error:0\tvalidation_1-error:0.055\n",
      "[95]\tvalidation_0-error:0\tvalidation_1-error:0.055\n",
      "[96]\tvalidation_0-error:0\tvalidation_1-error:0.055\n",
      "[97]\tvalidation_0-error:0\tvalidation_1-error:0.055\n",
      "[98]\tvalidation_0-error:0\tvalidation_1-error:0.055\n",
      "[99]\tvalidation_0-error:0\tvalidation_1-error:0.055\n"
     ]
    },
    {
     "data": {
      "text/plain": [
       "XGBClassifier(use_label_encoder=False)"
      ]
     },
     "execution_count": 26,
     "metadata": {},
     "output_type": "execute_result"
    }
   ],
   "source": [
    "# Train and evaluate.\n",
    "xgb_model.fit(X_train, y_train, eval_metric=['error'], eval_set=[((X_train, y_train)),(X_test, y_test)])"
   ]
  },
  {
   "cell_type": "markdown",
   "metadata": {
    "id": "6c2d0136-0dbc-4e8f-89f8-35cdb400c1c2"
   },
   "source": [
    "**Note:** You can also use a pandas dataFrame instead of the numpy array."
   ]
  },
  {
   "cell_type": "markdown",
   "metadata": {
    "id": "1834911e-85b8-42d4-ae1d-31a1ca11cda2"
   },
   "source": [
    "Plot the model performance evaluated during the training process to assess model overfitting."
   ]
  },
  {
   "cell_type": "code",
   "execution_count": 27,
   "metadata": {
    "id": "eab4cc31-3f4f-4e2d-ba06-376ee5775cae"
   },
   "outputs": [],
   "source": [
    "# Import the library\n",
    "from matplotlib import pyplot\n",
    "\n",
    "%matplotlib inline"
   ]
  },
  {
   "cell_type": "code",
   "execution_count": 28,
   "metadata": {
    "id": "00b13150-bec7-41ee-9543-20988c5b9700"
   },
   "outputs": [
    {
     "data": {
      "image/png": "[encoded data removed]",
      "text/plain": [
       "<Figure size 576x432 with 1 Axes>"
      ]
     },
     "metadata": {
      "needs_background": "light"
     },
     "output_type": "display_data"
    }
   ],
   "source": [
    "# Plot and display the performance evaluation\n",
    "xgb_eval = xgb_model.evals_result()\n",
    "eval_steps = range(len(xgb_eval['validation_0']['error']))\n",
    "\n",
    "fig, ax = pyplot.subplots(1, 1, sharex=True, figsize=(8, 6))\n",
    "\n",
    "ax.plot(eval_steps, [1-x for x in xgb_eval['validation_0']['error']], label='Train')\n",
    "ax.plot(eval_steps, [1-x for x in xgb_eval['validation_1']['error']], label='Test')\n",
    "ax.legend()\n",
    "ax.set_title('Accuracy')\n",
    "ax.set_xlabel('Number of iterations');"
   ]
  },
  {
   "cell_type": "markdown",
   "metadata": {
    "id": "583dffbe-4611-4854-a86e-8d174c05df03"
   },
   "source": [
    "You can see that there is model overfitting, and there is a decrease in model accuracy after about 60 iterations \n",
    "\n",
    "Select the trained model obtained after 30 iterations."
   ]
  },
  {
   "cell_type": "code",
   "execution_count": 29,
   "metadata": {
    "id": "65296cad-c4c0-4846-a754-c2ed93aa2329"
   },
   "outputs": [],
   "source": [
    "# Select trained model.\n",
    "n_trees = 30\n",
    "y_pred = xgb_model.predict(X_test, ntree_limit= n_trees)"
   ]
  },
  {
   "cell_type": "code",
   "execution_count": 30,
   "metadata": {
    "id": "c9cb6421-9535-41d1-b1f9-19d7d9f588c0"
   },
   "outputs": [
    {
     "name": "stdout",
     "output_type": "stream",
     "text": [
      "Accuracy: 96.0%\n"
     ]
    }
   ],
   "source": [
    "# Check the accuracy of the trained model.\n",
    "accuracy = accuracy_score(y_test, y_pred)\n",
    "\n",
    "print(\"Accuracy: %.1f%%\" % (accuracy * 100.0))"
   ]
  },
  {
   "cell_type": "markdown",
   "metadata": {
    "id": "2a426361-5cad-4bd1-868d-2994a23eff25"
   },
   "source": [
    "**Note:** You will use the accuracy value obtained on the test data to compare the accuracy of the model with default parameters to the accuracy of the model with tuned parameters."
   ]
  },
  {
   "cell_type": "markdown",
   "metadata": {
    "id": "fb9fb630-08f1-4af3-88ae-9873e91e7b2d"
   },
   "source": [
    "#### 3.2.2. Use grid search and cross-validation to tune the model "
   ]
  },
  {
   "cell_type": "markdown",
   "metadata": {
    "id": "effef47a-9dde-4e41-911c-61b17aa84966"
   },
   "source": [
    "You can use grid search and cross-validation to tune your model to achieve better accuracy.\n",
    "\n",
    "XGBoost has an extensive catalog of hyperparameters which provides great flexibility to shape an algorithm’s desired behavior. Here you will the optimize the model tuning which adds an L1 penalty (`reg_alpha`).\n",
    "\n",
    "Use a 5-fold cross-validation because your training data set is small."
   ]
  },
  {
   "cell_type": "markdown",
   "metadata": {
    "id": "a7c6b307-4af7-4891-a851-ee44538cb6b3"
   },
   "source": [
    "In the cell below, create the XGBoost pipeline and set up the parameter grid for the search."
   ]
  },
  {
   "cell_type": "code",
   "execution_count": 31,
   "metadata": {
    "id": "4db732bd-17d4-4dff-ad58-6a644d00676b"
   },
   "outputs": [],
   "source": [
    "# Create XGBoost pipeline, set up parameter grid.\n",
    "xgb_model_gs = XGBClassifier(eval_metric=['error'], use_label_encoder=False, n_jobs=1)"
   ]
  },
  {
   "cell_type": "code",
   "execution_count": 36,
   "metadata": {
    "id": "bd54b29b33014c7b884c9b00e2de71e1"
   },
   "outputs": [
    {
     "data": {
      "text/plain": [
       "{'base_score': 0.5,\n",
       " 'booster': 'gbtree',\n",
       " 'colsample_bylevel': 1,\n",
       " 'colsample_bynode': 1,\n",
       " 'colsample_bytree': 1,\n",
       " 'gamma': 0,\n",
       " 'learning_rate': 0.1,\n",
       " 'max_delta_step': 0,\n",
       " 'max_depth': 3,\n",
       " 'min_child_weight': 1,\n",
       " 'missing': None,\n",
       " 'n_estimators': 100,\n",
       " 'nthread': 1,\n",
       " 'objective': 'binary:logistic',\n",
       " 'reg_alpha': 0,\n",
       " 'reg_lambda': 1,\n",
       " 'scale_pos_weight': 1,\n",
       " 'seed': 0,\n",
       " 'subsample': 1,\n",
       " 'verbosity': 1,\n",
       " 'eval_metric': ['error'],\n",
       " 'use_label_encoder': False}"
      ]
     },
     "execution_count": 36,
     "metadata": {},
     "output_type": "execute_result"
    }
   ],
   "source": [
    "xgb_model_gs.get_xgb_params()"
   ]
  },
  {
   "cell_type": "code",
   "execution_count": 38,
   "metadata": {
    "id": "d928e404731a4908929765bae173e97a"
   },
   "outputs": [],
   "source": [
    "parameters = {'reg_alpha': [0.0, 1.0], 'reg_lambda': [0.0, 1.0], 'n_estimators': [n_trees], 'seed': [1337]}"
   ]
  },
  {
   "cell_type": "markdown",
   "metadata": {
    "id": "e88edada-9c94-4e35-bea7-542a4742a4c1"
   },
   "source": [
    "Use ``GridSearchCV`` to search for the best parameters over the parameters values that were specified in the previous section."
   ]
  },
  {
   "cell_type": "code",
   "execution_count": 39,
   "metadata": {
    "id": "7175b90a-a92b-4e52-96fb-ef494be35306"
   },
   "outputs": [
    {
     "data": {
      "text/plain": [
       "GridSearchCV(cv=5,\n",
       "             estimator=XGBClassifier(eval_metric=['error'],\n",
       "                                     use_label_encoder=False),\n",
       "             n_jobs=1,\n",
       "             param_grid={'n_estimators': [30], 'reg_alpha': [0.0, 1.0],\n",
       "                         'reg_lambda': [0.0, 1.0], 'seed': [1337]},\n",
       "             scoring='accuracy')"
      ]
     },
     "execution_count": 39,
     "metadata": {},
     "output_type": "execute_result"
    }
   ],
   "source": [
    "# Search for the best parameters.\n",
    "clf = GridSearchCV(xgb_model_gs, parameters, scoring='accuracy', cv=5, verbose=0, n_jobs=1, refit=True)\n",
    "clf.fit(X_train, y_train)"
   ]
  },
  {
   "cell_type": "markdown",
   "metadata": {
    "id": "1334cb54-9ca9-4c8c-9544-46627051c1d4"
   },
   "source": [
    "From the grid scores, you can see the performance result of all parameter combinations including the best parameter combination based on model performance."
   ]
  },
  {
   "cell_type": "markdown",
   "metadata": {
    "id": "e4da5eec-0903-4e8c-9192-6c71bd015b18"
   },
   "source": [
    "Display the accuracy estimated using cross-validation and the hyperparameter values for the best model."
   ]
  },
  {
   "cell_type": "code",
   "execution_count": 40,
   "metadata": {
    "id": "e8aad322-5c3a-4fdf-a6fd-87814411203a",
    "scrolled": true
   },
   "outputs": [
    {
     "name": "stdout",
     "output_type": "stream",
     "text": [
      "Best score: 95.4%\n",
      "Best parameter set: {'n_estimators': 30, 'reg_alpha': 0.0, 'reg_lambda': 1.0, 'seed': 1337}\n"
     ]
    }
   ],
   "source": [
    "print(\"Best score: %.1f%%\" % (clf.best_score_*100))\n",
    "print(\"Best parameter set: %s\" % (clf.best_params_))"
   ]
  },
  {
   "cell_type": "markdown",
   "metadata": {
    "id": "e06724ac-8703-4d2e-b6d1-2d5773072c0a"
   },
   "source": [
    "Display the accuracy of best parameter combination on the test set."
   ]
  },
  {
   "cell_type": "code",
   "execution_count": 41,
   "metadata": {
    "id": "fa7ca299-023c-4628-b62f-44adc7a0f0ce"
   },
   "outputs": [
    {
     "name": "stdout",
     "output_type": "stream",
     "text": [
      "Accuracy: 96.0%\n"
     ]
    }
   ],
   "source": [
    "y_pred = clf.best_estimator_.predict(X_test, ntree_limit= n_trees)\n",
    "\n",
    "accuracy = accuracy_score(y_test, y_pred)\n",
    "print(\"Accuracy: %.1f%%\" % (accuracy * 100.0))"
   ]
  },
  {
   "cell_type": "markdown",
   "metadata": {
    "id": "c99d7097-2f55-4de4-9b85-48f432a0bd5f"
   },
   "source": [
    "The accuracy on test set is about the same for tuned model as it is for the trained model that has default hyperparameters values, even though the selected hyperparameters are different to the default parameters."
   ]
  },
  {
   "cell_type": "markdown",
   "metadata": {
    "id": "f5919a30-8cb4-4605-8f10-77e8d3536763"
   },
   "source": [
    "#### 3.2.3. Model with pipeline data preprocessing"
   ]
  },
  {
   "cell_type": "markdown",
   "metadata": {
    "id": "54a755b4-c785-47c5-95c9-c44d55c213f7"
   },
   "source": [
    "Here you learn how to use the XGBoost model within the scikit-learn pipeline. \n",
    "\n",
    "Let's start by importing the required objects."
   ]
  },
  {
   "cell_type": "code",
   "execution_count": 42,
   "metadata": {
    "id": "a8614891-a5d5-411a-b269-485d513bfa3a"
   },
   "outputs": [],
   "source": [
    "from sklearn.pipeline import Pipeline\n",
    "from sklearn.decomposition import PCA"
   ]
  },
  {
   "cell_type": "code",
   "execution_count": 43,
   "metadata": {
    "id": "2b52366f-4a56-48b1-ac00-ca09197c121c"
   },
   "outputs": [],
   "source": [
    "pca = PCA(n_components=10)\n",
    "xgb_model_pca = XGBClassifier(n_estimators=n_trees, verbosity=1, eval_metric=['error'], use_label_encoder=False, n_jobs=1)\n",
    "pipeline = Pipeline(steps=[('pca', pca), ('xgb', xgb_model_pca)])"
   ]
  },
  {
   "cell_type": "code",
   "execution_count": 44,
   "metadata": {
    "id": "60cb97e9-3dea-4f14-ae82-16fd9a7b8c9d"
   },
   "outputs": [
    {
     "data": {
      "text/plain": [
       "Pipeline(steps=[('pca', PCA(n_components=10)),\n",
       "                ('xgb',\n",
       "                 XGBClassifier(eval_metric=['error'], n_estimators=30,\n",
       "                               use_label_encoder=False))])"
      ]
     },
     "execution_count": 44,
     "metadata": {},
     "output_type": "execute_result"
    }
   ],
   "source": [
    "pipeline.fit(X_train, y_train)"
   ]
  },
  {
   "cell_type": "markdown",
   "metadata": {
    "id": "92a51c41-78c4-41da-9579-e08b561b28c8"
   },
   "source": [
    "Now you are ready to evaluate accuracy of the model trained on the reduced set of features."
   ]
  },
  {
   "cell_type": "code",
   "execution_count": 45,
   "metadata": {
    "id": "f06429b8-c776-4222-ab59-a0a604b24469"
   },
   "outputs": [
    {
     "name": "stdout",
     "output_type": "stream",
     "text": [
      "Accuracy: 95.5%\n"
     ]
    },
    {
     "data": {
      "text/plain": [
       "Pipeline(steps=[('pca', PCA(n_components=10)),\n",
       "                ('xgb',\n",
       "                 XGBClassifier(eval_metric=['error'], n_estimators=30,\n",
       "                               use_label_encoder=False))])"
      ]
     },
     "execution_count": 45,
     "metadata": {},
     "output_type": "execute_result"
    }
   ],
   "source": [
    "y_pred = pipeline.predict(X_test)\n",
    "accuracy = accuracy_score(y_test, y_pred)\n",
    "print(\"Accuracy: %.1f%%\" % (accuracy * 100.0))\n",
    "pipeline"
   ]
  },
  {
   "cell_type": "markdown",
   "metadata": {
    "id": "67c48bd1-635a-4991-a11d-300d9d0fb8ce"
   },
   "source": [
    "You can see that this model has a similar accuracy to the model trained using default hyperparameter values."
   ]
  },
  {
   "cell_type": "markdown",
   "metadata": {
    "id": "36db65ee-40bf-4c2c-8bdb-d877fff6da5c"
   },
   "source": [
    "Let's see how you can save your XGBoost pipeline using the WML service instance and deploy it for online scoring."
   ]
  },
  {
   "cell_type": "markdown",
   "metadata": {
    "id": "d623bc26-22e6-406a-8312-1b5ec2eec125"
   },
   "source": [
    "<a id=\"upload\"></a>\n",
    "## 4. Persist model"
   ]
  },
  {
   "cell_type": "markdown",
   "metadata": {
    "id": "9a7cd787-1a24-4ab9-a17b-767c7b1e2080"
   },
   "source": [
    "In this section you learn how to use the Python client libraries to store your XGBoost model in the WML repository."
   ]
  },
  {
   "cell_type": "markdown",
   "metadata": {
    "id": "ebd40337-480b-4a82-a401-7d339a44ce86"
   },
   "source": [
    "### Save the XGBoost model to the WML Repository\n",
    "\n",
    "Save the model artifact as *XGBoost model for breast cancer* to your WML instance.\n",
    "\n",
    "Get software specification for XGBoost."
   ]
  },
  {
   "cell_type": "code",
   "execution_count": 47,
   "metadata": {
    "id": "1404588dc00e46378201c5b315df6133"
   },
   "outputs": [
    {
     "name": "stdout",
     "output_type": "stream",
     "text": [
      "-----------------------------  ------------------------------------  ----\n",
      "NAME                           ASSET_ID                              TYPE\n",
      "default_py3.6                  0062b8c9-8b7d-44a0-a9b9-46c416adcbd9  base\n",
      "pytorch-onnx_1.3-py3.7-edt     069ea134-3346-5748-b513-49120e15d288  base\n",
      "scikit-learn_0.20-py3.6        09c5a1d0-9c1e-4473-a344-eb7b665ff687  base\n",
      "spark-mllib_3.0-scala_2.12     09f4cff0-90a7-5899-b9ed-1ef348aebdee  base\n",
      "ai-function_0.1-py3.6          0cdb0f1e-5376-4f4d-92dd-da3b69aa9bda  base\n",
      "shiny-r3.6                     0e6e79df-875e-4f24-8ae9-62dcc2148306  base\n",
      "pytorch_1.1-py3.6              10ac12d6-6b30-4ccd-8392-3e922c096a92  base\n",
      "scikit-learn_0.22-py3.6        154010fa-5b3b-4ac1-82af-4d5ee5abbc85  base\n",
      "default_r3.6                   1b70aec3-ab34-4b87-8aa0-a4a3c8296a36  base\n",
      "tensorflow_1.15-py3.6          2b73a275-7cbf-420b-a912-eae7f436e0bc  base\n",
      "pytorch_1.2-py3.6              2c8ef57d-2687-4b7d-acce-01f94976dac1  base\n",
      "spark-mllib_2.3                2e51f700-bca0-4b0d-88dc-5c6791338875  base\n",
      "pytorch-onnx_1.1-py3.6-edt     32983cea-3f32-4400-8965-dde874a8d67e  base\n",
      "spark-mllib_3.0-py37           36507ebe-8770-55ba-ab2a-eafe787600e9  base\n",
      "spark-mllib_2.4                390d21f8-e58b-4fac-9c55-d7ceda621326  base\n",
      "xgboost_0.82-py3.6             39e31acd-5f30-41dc-ae44-60233c80306e  base\n",
      "pytorch-onnx_1.2-py3.6-edt     40589d0e-7019-4e28-8daa-fb03b6f4fe12  base\n",
      "ai-function_0.2-py3.6          435bfa8f-ddae-549a-826a-894368887231  base\n",
      "spark-mllib_2.4-r_3.6          49403dff-92e9-4c87-a3d7-a42d0021c095  base\n",
      "xgboost_0.90-py3.6             4ff8d6c2-1343-4c18-85e1-689c965304d3  base\n",
      "pytorch-onnx_1.1-py3.6         50f95b2a-bc16-43bb-bc94-b0bed208c60b  base\n",
      "spark-mllib_2.4-scala_2.11     55a70f99-7320-4be5-9fb9-9edb5a443af5  base\n",
      "autoai-obm_2.0                 5c2e37fa-80b8-5e77-840f-d912469614ee  base\n",
      "spss-modeler_18.1              5c3cad7e-507f-4b2a-a9a3-ab53a21dee8b  base\n",
      "autoai-kb_3.1-py3.7            632d4b22-10aa-5180-88f0-f52dfb6444d7  base\n",
      "spss-modeler_18.2              687eddc9-028a-4117-b9dd-e57b36f1efa5  base\n",
      "pytorch-onnx_1.2-py3.6         692a6a4d-2c4d-45ff-a1ed-b167ee55469a  base\n",
      "do_12.9                        75a3a4b0-6aa0-41b3-a618-48b1f56332a6  base\n",
      "spark-mllib_2.4-py37           7abc992b-b685-532b-a122-a396a3cdbaab  base\n",
      "caffe_1.0-py3.6                7bb3dbe2-da6e-4145-918d-b6d84aa93b6b  base\n",
      "cuda-py3.6                     82c79ece-4d12-40e6-8787-a7b9e0f62770  base\n",
      "hybrid_0.1                     8c1a58c6-62b5-4dc4-987a-df751c2756b6  base\n",
      "pytorch-onnx_1.3-py3.7         8d5d8a87-a912-54cf-81ec-3914adaa988d  base\n",
      "caffe-ibm_1.0-py3.6            8d863266-7927-4d1e-97d7-56a7f4c0a19b  base\n",
      "spss-modeler_17.1              902d0051-84bd-4af6-ab6b-8f6aa6fdeabb  base\n",
      "do_12.10                       9100fd72-8159-4eb9-8a0b-a87e12eefa36  base\n",
      "do_py3.7                       9447fa8b-2051-4d24-9eef-5acb0e3c59f8  base\n",
      "spark-mllib_3.0-r_3.6          94bb6052-c837-589d-83f1-f4142f219e32  base\n",
      "cuda-py3.7                     9a44990c-1aa1-4c7d-baf8-c4099011741c  base\n",
      "hybrid_0.2                     9b3f9040-9cee-4ead-8d7a-780600f542f7  base\n",
      "autoai-obm_2.0 with Spark 3.0  af10f35f-69fa-5d66-9bf5-acb58434263a  base\n",
      "tensorflow_2.1-py3.7           c4032338-2a40-500a-beef-b01ab2667e27  base\n",
      "autoai-kb_3.0-py3.6            d139f196-e04b-5d8b-9140-9a10ca1fa91a  base\n",
      "spark-mllib_3.0-py36           d82546d5-dd78-5fbb-9131-2ec309bc56ed  base\n",
      "default_py3.7                  e4429883-c883-42b6-87a8-f419d64088cd  base\n",
      "-----------------------------  ------------------------------------  ----\n"
     ]
    }
   ],
   "source": [
    "client.software_specifications.list()"
   ]
  },
  {
   "cell_type": "code",
   "execution_count": 48,
   "metadata": {
    "id": "dae51b33-c307-4f39-8a8e-c9a7616ca70a"
   },
   "outputs": [
    {
     "data": {
      "text/plain": [
       "'e4429883-c883-42b6-87a8-f419d64088cd'"
      ]
     },
     "execution_count": 48,
     "metadata": {},
     "output_type": "execute_result"
    }
   ],
   "source": [
    "software_spec_uid = client.software_specifications.get_uid_by_name('default_py3.7')\n",
    "software_spec_uid"
   ]
  },
  {
   "cell_type": "code",
   "execution_count": 49,
   "metadata": {
    "id": "df325529-4a17-4f46-b7ff-825b9c8e4fca"
   },
   "outputs": [],
   "source": [
    "metadata = {\n",
    "    client.repository.ModelMetaNames.NAME: \"XGBoost model for breast cancer\",\n",
    "    client.repository.ModelMetaNames.TYPE: \"scikit-learn_0.23\",\n",
    "    client.repository.ModelMetaNames.SOFTWARE_SPEC_UID : software_spec_uid,\n",
    "}"
   ]
  },
  {
   "cell_type": "code",
   "execution_count": 50,
   "metadata": {
    "id": "6104b43a-bcd1-4e69-8531-3a5d6e68ccab"
   },
   "outputs": [],
   "source": [
    "model_details = client.repository.store_model(pipeline, metadata)"
   ]
  },
  {
   "cell_type": "markdown",
   "metadata": {
    "id": "9f15ff12-36cb-4cc4-a4aa-5410520e2389"
   },
   "source": [
    "Get the saved model metadata from WML."
   ]
  },
  {
   "cell_type": "markdown",
   "metadata": {
    "id": "3de4122e-a110-4ce4-81cd-6ce8e794cd2f"
   },
   "source": [
    "<a id=\"deploy\"></a>\n",
    "## 5. Deployment\n",
    "In this section you will learn how to create batch deployment to create job using the Watson Machine Learning Client.\n",
    "\n",
    "You can use commands bellow to create batch deployment for stored model (web service).\n",
    "\n",
    "### 5.1: Create model deployment"
   ]
  },
  {
   "cell_type": "markdown",
   "metadata": {
    "id": "c81e39c3-e072-4ca9-b8ff-21dd86e43762"
   },
   "source": [
    "You need the model uid to create the deployment. You can extract the model uid from the saved model details."
   ]
  },
  {
   "cell_type": "code",
   "execution_count": 51,
   "metadata": {
    "id": "a214e88d-3416-4091-8fb5-258054cbfc24"
   },
   "outputs": [
    {
     "name": "stdout",
     "output_type": "stream",
     "text": [
      "a211d0bc-06b2-487b-80fd-9715da4fe625\n"
     ]
    }
   ],
   "source": [
    "# Extract the uid.\n",
    "model_uid = client.repository.get_model_uid(model_details)\n",
    "print(model_uid)"
   ]
  },
  {
   "cell_type": "markdown",
   "metadata": {
    "id": "85459615-613d-4a30-bad4-7960ce1a621e"
   },
   "source": [
    "Use this modul_uid in the next section to create the deployment."
   ]
  },
  {
   "cell_type": "markdown",
   "metadata": {
    "id": "b132feff-4167-4c07-bb6b-b0d9f4a6dce8"
   },
   "source": [
    "Now you can create a deployment, *Predict breast cancer*."
   ]
  },
  {
   "cell_type": "code",
   "execution_count": 52,
   "metadata": {
    "id": "5038f449-8ed7-4537-8905-c21faeff017f"
   },
   "outputs": [
    {
     "name": "stdout",
     "output_type": "stream",
     "text": [
      "\n",
      "\n",
      "#######################################################################################\n",
      "\n",
      "Synchronous deployment creation for uid: 'a211d0bc-06b2-487b-80fd-9715da4fe625' started\n",
      "\n",
      "#######################################################################################\n",
      "\n",
      "\n",
      "initializing........................................\n",
      "ready\n",
      "\n",
      "\n",
      "------------------------------------------------------------------------------------------------\n",
      "Successfully finished deployment creation, deployment_uid='fa0fedc8-1aec-4215-ac95-2d5d5800dd06'\n",
      "------------------------------------------------------------------------------------------------\n",
      "\n",
      "\n"
     ]
    }
   ],
   "source": [
    "# Create the deployment.\n",
    "meta_props = {\n",
    "    client.deployments.ConfigurationMetaNames.NAME: \"Predict breast cancer'\",\n",
    "    client.deployments.ConfigurationMetaNames.ONLINE: {}\n",
    "}\n",
    "\n",
    "deployment_details = client.deployments.create(model_uid,meta_props)"
   ]
  },
  {
   "cell_type": "markdown",
   "metadata": {
    "id": "ba60d60a-c0c0-4ef3-b7f9-b65e2d255e92"
   },
   "source": [
    "Get a list of all deployments."
   ]
  },
  {
   "cell_type": "code",
   "execution_count": 53,
   "metadata": {
    "id": "60460fd7-98d5-4703-abf3-7e40f44398eb"
   },
   "outputs": [
    {
     "name": "stdout",
     "output_type": "stream",
     "text": [
      "------------------------------------  ----------------------  -----  ------------------------\n",
      "GUID                                  NAME                    STATE  CREATED\n",
      "fa0fedc8-1aec-4215-ac95-2d5d5800dd06  Predict breast cancer'  ready  2022-02-02T10:18:23.543Z\n",
      "------------------------------------  ----------------------  -----  ------------------------\n"
     ]
    }
   ],
   "source": [
    "# List the deployments.\n",
    "client.deployments.list()"
   ]
  },
  {
   "cell_type": "markdown",
   "metadata": {
    "id": "201f2276-13ce-44d6-a82c-6f3e6660fb52"
   },
   "source": [
    "The *Predict breast cancer model* has been successfully deployed."
   ]
  },
  {
   "cell_type": "markdown",
   "metadata": {
    "id": "5bd50358-597d-46d6-ad4c-7c7aab8b00da"
   },
   "source": [
    "### 5.2 Get deployment details\n"
   ]
  },
  {
   "cell_type": "markdown",
   "metadata": {
    "id": "5f9f4aa7-e0e4-4bdf-92b0-4d83250bb4ec"
   },
   "source": [
    "To show deployments details, you need get deployment_uid."
   ]
  },
  {
   "cell_type": "code",
   "execution_count": 54,
   "metadata": {
    "id": "c698cf0d-96f0-4de4-bc32-9c0afe12725b"
   },
   "outputs": [
    {
     "data": {
      "text/plain": [
       "{'entity': {'asset': {'id': 'a211d0bc-06b2-487b-80fd-9715da4fe625'},\n",
       "  'custom': {},\n",
       "  'deployed_asset_type': 'model',\n",
       "  'hardware_spec': {'id': 'Not_Applicable', 'name': 'S', 'num_nodes': 1},\n",
       "  'name': \"Predict breast cancer'\",\n",
       "  'online': {},\n",
       "  'space_id': '9fa24cd3-741f-4319-9c36-42e95be1a72a',\n",
       "  'status': {'online_url': {'url': 'https://internal-nginx-svc:12443/ml/v4/deployments/fa0fedc8-1aec-4215-ac95-2d5d5800dd06/predictions'},\n",
       "   'state': 'ready'}},\n",
       " 'metadata': {'created_at': '2022-02-02T10:18:23.543Z',\n",
       "  'id': 'fa0fedc8-1aec-4215-ac95-2d5d5800dd06',\n",
       "  'modified_at': '2022-02-02T10:18:23.543Z',\n",
       "  'name': \"Predict breast cancer'\",\n",
       "  'owner': '1000330999',\n",
       "  'space_id': '9fa24cd3-741f-4319-9c36-42e95be1a72a'}}"
      ]
     },
     "execution_count": 54,
     "metadata": {},
     "output_type": "execute_result"
    }
   ],
   "source": [
    "deployment_uid = client.deployments.get_uid(deployment_details)\n",
    "client.deployments.get_details(deployment_uid)"
   ]
  },
  {
   "cell_type": "markdown",
   "metadata": {
    "id": "e5b3beca-8b3e-4a7a-8063-9c85f182b6d4"
   },
   "source": [
    "<a id=\"score\"></a>\n",
    "## 6. Score the model\n",
    "Let's see if our deployment works.\n"
   ]
  },
  {
   "cell_type": "markdown",
   "metadata": {
    "id": "a01a2a54-b231-4043-9bbb-498c3c2dba98"
   },
   "source": [
    "Now, extract the url endpoint, *scoring_url*, which will be used to send scoring requests."
   ]
  },
  {
   "cell_type": "code",
   "execution_count": 55,
   "metadata": {
    "id": "15d87ee0-4cdc-4343-8682-471a33fd1b28"
   },
   "outputs": [],
   "source": [
    "deployment_id = client.deployments.get_id(deployment_details)"
   ]
  },
  {
   "cell_type": "markdown",
   "metadata": {
    "id": "92aca530-b212-4190-99d8-ea16fab8d59e"
   },
   "source": [
    "Prepare the scoring payload with the values to score."
   ]
  },
  {
   "cell_type": "code",
   "execution_count": 56,
   "metadata": {
    "id": "a741a585-bc91-4bc7-b91a-1ae429ce15bb"
   },
   "outputs": [
    {
     "name": "stdout",
     "output_type": "stream",
     "text": [
      "{'input_data': [{'values': [[12.23, 19.56, 78.54, 461.0, 0.09586, 0.08087, 0.04187, 0.04107, 0.1979, 0.06013, 0.3534, 1.326, 2.308, 27.24, 0.007514, 0.01779, 0.01401, 0.0114, 0.01503, 0.003338, 14.44, 28.36, 92.15, 638.4, 0.1429, 0.2042, 0.1377, 0.108, 0.2668, 0.08174]]}]}\n"
     ]
    }
   ],
   "source": [
    "# Prepare scoring payload.\n",
    "payload_scoring = {client.deployments.ScoringMetaNames.INPUT_DATA:\n",
    "    [\n",
    "        {\n",
    "        'values': [X_test[0].tolist()]\n",
    "        }\n",
    "   ]\n",
    "}\n",
    "print(payload_scoring)"
   ]
  },
  {
   "cell_type": "code",
   "execution_count": 57,
   "metadata": {
    "id": "994441c8-be25-460e-856e-46d2bb632fde"
   },
   "outputs": [
    {
     "name": "stdout",
     "output_type": "stream",
     "text": [
      "{'predictions': [{'fields': ['prediction', 'probability'], 'values': [[0, [0.9505169987678528, 0.04948299005627632]]]}]}\n"
     ]
    }
   ],
   "source": [
    "# Perform prediction and display the result.\n",
    "response_scoring = client.deployments.score(deployment_id, payload_scoring)\n",
    "print(response_scoring)"
   ]
  },
  {
   "cell_type": "markdown",
   "metadata": {
    "id": "7f3238fc-2720-4027-ae3d-0a5cd96c5caa"
   },
   "source": [
    "**Result**: The patient record is classified as a benign tumor."
   ]
  },
  {
   "cell_type": "markdown",
   "metadata": {
    "id": "1999a24d-62b0-4626-993e-6c3d2be7025e"
   },
   "source": [
    "<a id=\"cleanup\"></a>\n",
    "## 7. Clean up "
   ]
  },
  {
   "cell_type": "markdown",
   "metadata": {
    "id": "e474743f-0b77-4e63-9c39-27bcc1c9f820"
   },
   "source": [
    "If you want to clean up all created assets:\n",
    "- experiments\n",
    "- trainings\n",
    "- pipelines\n",
    "- model definitions\n",
    "- models\n",
    "- functions\n",
    "- deployments\n",
    "\n",
    "please follow up this sample [notebook](https://github.com/IBM/watson-machine-learning-samples/blob/master/cpd3.5/notebooks/python_sdk/instance-management/Machine%20Learning%20artifacts%20management.ipynb)."
   ]
  },
  {
   "cell_type": "markdown",
   "metadata": {
    "id": "39f56bbd-450d-4017-ab6c-d5043468b1bb"
   },
   "source": [
    "<a id=\"summary\"></a>\n",
    "## 8. Summary and next steps\n",
    "\n",
    "You successfully completed this notebook! You learned how to use Keras machine learning library as well as Watson Machine Learning for model creation and deployment. \n",
    "\n",
    "Check out our [Online Documentation](https://dataplatform.cloud.ibm.com/docs/content/analyze-data/wml-setup.html) for more samples, tutorials, documentation, how-tos, and blog posts. \n",
    "\n",
    "### Authors\n",
    "\n",
    "**Wojciech Sobala**\n",
    "\n",
    "Copyright © 2020, 2021 IBM. This notebook and its source code are released under the terms of the MIT License."
   ]
  }
 ],
 "metadata": {
  "kernelspec": {
   "display_name": "Python 3.7",
   "language": "python",
   "name": "python3"
  },
  "language_info": {
   "codemirror_mode": {
    "name": "ipython",
    "version": 3
   },
   "file_extension": ".py",
   "mimetype": "text/x-python",
   "name": "python",
   "nbconvert_exporter": "python",
   "pygments_lexer": "ipython3",
   "version": "3.7.9"
  }
 },
 "nbformat": 4,
 "nbformat_minor": 4
}
