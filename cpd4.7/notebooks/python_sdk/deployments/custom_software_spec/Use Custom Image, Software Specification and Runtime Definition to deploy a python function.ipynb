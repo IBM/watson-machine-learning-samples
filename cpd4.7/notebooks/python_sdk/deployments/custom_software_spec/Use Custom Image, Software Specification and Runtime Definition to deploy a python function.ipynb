{
  "cells": [
    {
      "cell_type": "markdown",
      "id": "cc540768-254b-4e2d-8d14-0b0b49e70636",
      "metadata": {},
      "source": [
        "# Use Custom Image, Software Specification and Runtime Definition to deploy a python function with `ibm-watson-machine-learning`"
      ]
    },
    {
      "cell_type": "markdown",
      "id": "4dab2669-410f-4ddd-8054-aa6e10ca5b34",
      "metadata": {},
      "source": [
        "This notebook demonstrates how to deploy in Watson Machine Learning service a python function which requires to create custom software specification and runtime definition.  \n",
        "Familiarity with oc and python is helpful. This notebook uses Python 3.10.\n",
        "\n",
        "\n",
        "## Learning goals\n",
        "\n",
        "The learning goals of this notebook are:\n",
        "\n",
        "-  Creating a Custom Image\n",
        "-  Creating custom software specification and runtime definition\n",
        "-  Online deployment of python function\n",
        "-  Scoring data using deployed function\n",
        "\n",
        "## Contents\n",
        "\n",
        "This notebook contains the following parts:\n",
        "\n",
        "1.\t[Setup](#setup)\n",
        "2.  [Create custom image](#image)\n",
        "4.\t[Create software specification](#soft)\n",
        "3.\t[Create runtime definition](#runtime) \n",
        "4.\t[Web service creation and scoring](#deploy)\n",
        "5.  [Clean up](#cleanup)\n",
        "6.\t[Summary and next steps](#summary)"
      ]
    },
    {
      "cell_type": "markdown",
      "id": "99f733fa-ca89-445a-9925-58042136194f",
      "metadata": {},
      "source": [
        "<a id=\"setup\"></a>\n",
        "## 1. Set up the environment\n",
        "\n",
        "Before you use the sample code in this notebook, you must perform the following setup tasks:\n",
        "\n",
        "-  Contact with your Cloud Pack for Data administrator and ask him for your account credentials"
      ]
    },
    {
      "cell_type": "markdown",
      "id": "150a3a65-891c-438a-9dc3-b94e104aeb30",
      "metadata": {},
      "source": [
        "### Connection to WML\n",
        "\n",
        "Authenticate the Watson Machine Learning service on IBM Cloud Pack for Data. You need to provide platform `url`, your `username` and `api_key`."
      ]
    },
    {
      "cell_type": "code",
      "execution_count": 2,
      "id": "8dec0141-54ca-4b80-b507-9af98111f392",
      "metadata": {},
      "outputs": [],
      "source": [
        "username = 'PASTE YOUR USERNAME HERE'\n",
        "api_key = 'PASTE YOUR API_KEY HERE'\n",
        "password = 'PASTE YOUR PASSWORD HERE'\n",
        "url = 'PASTE THE PLATFORM URL HERE'\n",
        "bedrock_url = 'PASTE THE PLATFORM BEDROCK URL HERE'"
      ]
    },
    {
      "cell_type": "code",
      "execution_count": 6,
      "id": "b1090f61-f1f7-4939-8e35-c5e4f5478f51",
      "metadata": {},
      "outputs": [],
      "source": [
        "wml_credentials = {\n",
        "    \"username\": username,\n",
        "    \"password\": password,\n",
        "    \"url\": url,\n",
        "    \"instance_id\": 'openshift',\n",
        "    \"version\": '4.7'\n",
        "}"
      ]
    },
    {
      "cell_type": "code",
      "execution_count": 7,
      "id": "df881967",
      "metadata": {},
      "outputs": [],
      "source": [
        "CPDHOST = url"
      ]
    },
    {
      "cell_type": "markdown",
      "id": "f7cf306f-77e9-4dbc-b405-4e0d6df49ec8",
      "metadata": {},
      "source": [
        "### Install and import the `ibm-watson-machine-learning` package\n",
        "**Note:** `ibm-watson-machine-learning` documentation can be found <a href=\"http://ibm-wml-api-pyclient.mybluemix.net/\" target=\"_blank\" rel=\"noopener no referrer\">here</a>."
      ]
    },
    {
      "cell_type": "code",
      "execution_count": null,
      "id": "a03df277-2127-462b-97fa-635b6aae7bfb",
      "metadata": {},
      "outputs": [],
      "source": [
        "!pip install -U ibm-watson-machine-learning"
      ]
    },
    {
      "cell_type": "code",
      "execution_count": 8,
      "id": "1f5910ca-1350-4b44-8454-8479270dae1b",
      "metadata": {},
      "outputs": [],
      "source": [
        "from ibm_watson_machine_learning import APIClient\n",
        "\n",
        "client = APIClient(wml_credentials)"
      ]
    },
    {
      "cell_type": "markdown",
      "id": "209af801-4917-4c46-acfb-05d369e1a1d6",
      "metadata": {},
      "source": [
        "### Working with spaces\n",
        "\n",
        "First of all, you need to create a space that will be used for your work. If you do not have space already created, you can use `{PLATFORM_URL}/ml-runtime/spaces?context=icp4data` to create one.\n",
        "\n",
        "- Click New Deployment Space\n",
        "- Create an empty space\n",
        "- Go to space `Settings` tab\n",
        "- Copy `space_id` and paste it below\n",
        "\n",
        "**Tip**: You can also use SDK to prepare the space for your work. More information can be found [here](https://github.com/IBM/watson-machine-learning-samples/blob/master/cpd4.0/notebooks/python_sdk/instance-management/Space%20management.ipynb).\n",
        "\n",
        "**Action**: Assign space ID below"
      ]
    },
    {
      "cell_type": "code",
      "execution_count": null,
      "id": "b85d6745-1a39-496f-8228-70a366480b74",
      "metadata": {},
      "outputs": [],
      "source": [
        "space_id = 'PASTE YOUR SPACE ID HERE'"
      ]
    },
    {
      "cell_type": "markdown",
      "id": "3353e6af-29ed-4acb-a8ca-343dc9fb2490",
      "metadata": {},
      "source": [
        "You can use `list` method to print all existing spaces."
      ]
    },
    {
      "cell_type": "code",
      "execution_count": null,
      "id": "c2f2d945",
      "metadata": {},
      "outputs": [],
      "source": [
        "client.spaces.list(limit=10)"
      ]
    },
    {
      "cell_type": "markdown",
      "id": "9ad7cac3-69c2-4040-bf38-9ec660417d2f",
      "metadata": {},
      "source": [
        "To be able to interact with all resources available in Watson Machine Learning, you need to set **space** which you will be using."
      ]
    },
    {
      "cell_type": "code",
      "execution_count": 12,
      "id": "0601ea77-ea6e-433a-98dc-27b7df094d19",
      "metadata": {},
      "outputs": [
        {
          "data": {
            "text/plain": [
              "'SUCCESS'"
            ]
          },
          "execution_count": 12,
          "metadata": {},
          "output_type": "execute_result"
        }
      ],
      "source": [
        "client.set.default_space(space_id)"
      ]
    },
    {
      "cell_type": "markdown",
      "id": "3b7281c5-58f4-48c1-ab14-8110a7424a56",
      "metadata": {},
      "source": [
        "<a id=\"image\"></a>\n",
        "## 2. Create a Custom Image"
      ]
    },
    {
      "cell_type": "markdown",
      "id": "90799481-8e15-444e-be23-5216b8c9d8dc",
      "metadata": {},
      "source": [
        "After the creation of a Custom image as described in https://www.ibm.com/docs/en/cloud-paks/cp-data/4.8?topic=deployments-deploying-using-custom-image. We need to create a new base software specification for the custom image and the runtime definition for it. This notebook shows how to perform these steps and use the custom image in a WML deployment:\n",
        "1. Create a new base software specification for the custom image\n",
        "2. Create the new runtime definition file for the custom image\n",
        "3. Create and Deploy a WML `python function` model with the custom image\n",
        "\n"
      ]
    },
    {
      "cell_type": "markdown",
      "id": "d8532a94",
      "metadata": {},
      "source": [
        "_Required Role: You must be a Cloud Pak for Data cluster administrator_ \n",
        "\n",
        "\n",
        "The Creation of the custom image involves the following steps, which cannot be done from a notebook. It involves pulling building pushing docker images and can be performed in the cluster. https://www.ibm.com/docs/en/cloud-paks/cp-data/4.7.x?topic=runtimes-customizing-deployment-runtime-images\n",
        "\n",
        "\n",
        "#### 1. Downloading the base image\n",
        "\n",
        "\n",
        "Identify from https://www.ibm.com/docs/en/cloud-paks/cp-data/4.7.x?topic=image-downloading-runtime-definition the runtime definition you want to use as base. e.g. `wml-deployment-runtime-py310-2`\n"
      ]
    },
    {
      "cell_type": "markdown",
      "id": "8f2aa98a",
      "metadata": {},
      "source": [
        "### Credentials and generating tokens"
      ]
    },
    {
      "cell_type": "code",
      "execution_count": 13,
      "id": "fdb75724",
      "metadata": {},
      "outputs": [],
      "source": [
        "import requests, json\n",
        "import urllib3\n",
        "urllib3.disable_warnings(urllib3.exceptions.InsecureRequestWarning)"
      ]
    },
    {
      "cell_type": "code",
      "execution_count": 14,
      "id": "082634bd",
      "metadata": {},
      "outputs": [],
      "source": [
        "headers={'Authorization': f'Bearer {client._get_icptoken()}',\n",
        "         'Content-Type': 'application/json'}\n",
        "VERSION = '2022-02-01'"
      ]
    },
    {
      "cell_type": "code",
      "execution_count": 20,
      "id": "036ad1c7",
      "metadata": {},
      "outputs": [],
      "source": [
        "runtime_definition_name = \"wml-deployment-runtime-py310-2\""
      ]
    },
    {
      "cell_type": "markdown",
      "id": "73a92c22",
      "metadata": {},
      "source": [
        "Write the chosen runtime definition to the file `<runtime-definition-name>-server.json`; `wml-deployment-runtime-py310-2-server.json` in this example"
      ]
    },
    {
      "cell_type": "code",
      "execution_count": 21,
      "id": "b9fec096",
      "metadata": {},
      "outputs": [
        {
          "name": "stdout",
          "output_type": "stream",
          "text": [
            "successfully saved to file: wml-deployment-runtime-py310-2-server.json\n"
          ]
        }
      ],
      "source": [
        "import json\n",
        "\n",
        "response = requests.get(\n",
        "    f\"{url}/v2/runtime_definitions?include=launch_configuration\",\n",
        "    headers=headers,\n",
        "    verify=False\n",
        ")\n",
        "\n",
        "for r in response.json()[\"resources\"]:\n",
        "    if r[\"entity\"][\"name\"] != runtime_definition_name:\n",
        "        continue\n",
        "    with open(f\"{runtime_definition_name}-server.json\", \"w\") as f:\n",
        "        f.write(json.dumps(r[\"entity\"], indent=4))\n",
        "        template_runtime_definition = r[\"entity\"]\n",
        "        print(f\"successfully saved to file: {runtime_definition_name}-server.json\")"
      ]
    },
    {
      "cell_type": "markdown",
      "id": "f891fbe7",
      "metadata": {},
      "source": [
        "We will now use the downloaded `<runtime-definition-name>-server.json` as the template"
      ]
    },
    {
      "cell_type": "markdown",
      "id": "c1580385",
      "metadata": {},
      "source": [
        "The required base image will be in the key `.launch_configuration.image`"
      ]
    },
    {
      "cell_type": "code",
      "execution_count": 22,
      "id": "59988de9",
      "metadata": {},
      "outputs": [
        {
          "name": "stdout",
          "output_type": "stream",
          "text": [
            "required base image:\n",
            "\tcp.icr.io/cp/cpd/wml-deployment-runtime-py310-2@sha256:ad9266ec411e25cb39100de5af47558868dbcd4ddf2a723e4e2a5583828edc14\n"
          ]
        }
      ],
      "source": [
        "print(f\"required base image:\\n\\t{template_runtime_definition['launch_configuration']['image']}\")"
      ]
    },
    {
      "cell_type": "markdown",
      "id": "060c7e1c",
      "metadata": {},
      "source": [
        "If you have access to the IBM Entitled registry URL, you can download the base image directly from the above, else you need to download from private container registry used at the time of installation.\n",
        "\n",
        "Pull the base image: Here `cp.stg.icr.io/cp/cpd/` is my private container registry used at the time of installation\n",
        "```\n",
        "    podman login -u <user> -p <password> cp.stg.icr.io/cp/cpd/\n",
        "    podman pull cp.stg.icr.io/cp/cpd/wml-deployment-runtime-py310-2@sha256:ad9266ec411e25cb39100de5af47558868dbcd4ddf2a723e4e2a5583828edc14\n",
        "```\n",
        "\n",
        "\n",
        "#### 2. Creating and uploading a custom image\n",
        "\n",
        "##### 2.1 Building the custom image\n",
        "Dockerfile sample for this example is as below. We are going to install the program `jq` as well as the python package `pendulum` here.\n",
        "\n",
        "```\n",
        "ARG  base_image_tag\n",
        "FROM ${base_image_tag}\n",
        "\n",
        "# For installing OS packages, use root:root\n",
        "# e.g.\n",
        "USER root:root\n",
        "RUN yum install -y jq\n",
        "\n",
        "# For installing to conda site-packages,\n",
        "# use wmlfuser:condausers\n",
        "# e.g.\n",
        "USER wmlfuser:condausers\n",
        "RUN umask 002 && \\\n",
        "   pip install pendulum\n",
        "\n",
        "```\n",
        "\n",
        "Build the custom image `wml-demo-image-310-2:test-1`:\n",
        "```\n",
        "    podman build -t wml-demo-image-310-2:test-1 \\\n",
        "        --build-arg base_image_tag=cp.stg.icr.io/cp/cpd/wml-deployment-runtime-py310-2@sha256:ad9266ec411e25cb39100de5af47558868dbcd4ddf2a723e4e2a5583828edc14 \\\n",
        "        -f Dockerfile\n",
        "```\n",
        "\n",
        "Some sanity checks on image for this example.\n",
        "```\n",
        "    podman run -it wml-demo-image-310-2:test-1 bash\n",
        "    $ jq --version\n",
        "    $ pip list | grep pendulum\n",
        "    $ uwsgi --version\n",
        "    $ exit\n",
        "```\n",
        "\n",
        "##### 2.2 Uploading the custom image\n",
        "\n",
        "Push the custom image to the private container registry\n",
        "```\n",
        "    e.g\n",
        "    podman login -u <user> -p <password> cp.stg.icr.io/cp/cpd/\n",
        "    podman tag wml-demo-image-310-2:test-1 cp.stg.icr.io/cp/cpd/wml-demo-image-310-2:test-1\n",
        "    podman push cp.stg.icr.io/cp/cpd/wml-demo-image-310-2:test-1\n",
        "    \n",
        "    Required custom image:\n",
        "    cp.stg.icr.io/cp/cpd/wml-demo-image-310-2:test-1\n",
        "```\n",
        "\n"
      ]
    },
    {
      "cell_type": "markdown",
      "id": "79e9e8a9",
      "metadata": {},
      "source": [
        "## Create a Volume in an existing PVC - \"cc-home-pvc\""
      ]
    },
    {
      "cell_type": "markdown",
      "id": "5abc677f",
      "metadata": {},
      "source": [
        "Creation of Base software specification and Runtime definition require uploading of the metadata json files to certain PVC path. We will use Volume Service APIs to access the PVC `cc-home-pvc`"
      ]
    },
    {
      "cell_type": "markdown",
      "id": "f9a7623a",
      "metadata": {},
      "source": [
        "`namespace` here is where cc-home-pvc lives\n",
        "`oc get pvc -A | grep cc-home-pvc`"
      ]
    },
    {
      "cell_type": "code",
      "execution_count": 23,
      "id": "6ba803c2",
      "metadata": {},
      "outputs": [],
      "source": [
        "# name for this Vol Service instance\n",
        "display_name='CCHome'\n",
        "namespace=\"zen\""
      ]
    },
    {
      "cell_type": "code",
      "execution_count": 24,
      "id": "28b535b9",
      "metadata": {},
      "outputs": [
        {
          "data": {
            "text/plain": [
              "(200, {'id': '1701705324204752'})"
            ]
          },
          "execution_count": 24,
          "metadata": {},
          "output_type": "execute_result"
        }
      ],
      "source": [
        "response = requests.post(\n",
        "    CPDHOST + '/zen-data/v3/service_instances',\n",
        "    headers=headers,\n",
        "    json={\n",
        "        \"addon_type\": \"volumes\",\n",
        "        \"addon_version\": \"-\",\n",
        "        \"create_arguments\": {\n",
        "            \"metadata\": {\n",
        "                \"existing_pvc_name\": \"cc-home-pvc\"\n",
        "            }\n",
        "        },\n",
        "        \"namespace\": namespace,\n",
        "        \"display_name\": display_name\n",
        "    },\n",
        "    verify=False)\n",
        "response.status_code, response.json()"
      ]
    },
    {
      "cell_type": "markdown",
      "id": "27596772",
      "metadata": {},
      "source": [
        "### Check Volume Instances - if it is already created"
      ]
    },
    {
      "cell_type": "code",
      "execution_count": 25,
      "id": "0b11dc0b",
      "metadata": {},
      "outputs": [
        {
          "name": "stdout",
          "output_type": "stream",
          "text": [
            "zen::CCHome 1701705324204752 cc-home-pvc\n",
            "\n",
            "vol_svc_id: 1701705324204752\n"
          ]
        }
      ],
      "source": [
        "response = requests.get(CPDHOST + '/zen-data/v3/service_instances',\n",
        "                        headers=headers,\n",
        "                        verify=False)\n",
        "response.status_code\n",
        "vol_svc_id = None\n",
        "for svc_inst in response.json()['service_instances']:\n",
        "    print(svc_inst['display_name'], svc_inst['id'], svc_inst['metadata'].get('existing_pvc_name'))\n",
        "    if svc_inst['display_name'] == f\"{namespace}::{display_name}\":\n",
        "        vol_svc_id = svc_inst['id']\n",
        "\n",
        "assert vol_svc_id is not None\n",
        "print('\\nvol_svc_id:', vol_svc_id)"
      ]
    },
    {
      "cell_type": "markdown",
      "id": "8729b179",
      "metadata": {},
      "source": [
        "### Check the new volume instance"
      ]
    },
    {
      "cell_type": "code",
      "execution_count": 26,
      "id": "c31e1506",
      "metadata": {},
      "outputs": [
        {
          "name": "stdout",
          "output_type": "stream",
          "text": [
            "{\n",
            "  \"service_instance\": {\n",
            "    \"addon_type\": \"volumes\",\n",
            "    \"addon_version\": \"-\",\n",
            "    \"created_at\": \"2023-12-04T15:55:24.209659Z\",\n",
            "    \"display_name\": \"zen::CCHome\",\n",
            "    \"id\": \"1701705324204752\",\n",
            "    \"instance_identifiers\": null,\n",
            "    \"metadata\": {\n",
            "      \"existing_pvc_name\": \"cc-home-pvc\"\n",
            "    },\n",
            "    \"misc_data\": {},\n",
            "    \"namespace\": \"zen\",\n",
            "    \"owner_uid\": \"1000331001\",\n",
            "    \"owner_username\": \"cpadmin\",\n",
            "    \"parameters\": {},\n",
            "    \"provision_status\": \"PROVISIONED\",\n",
            "    \"resources\": {},\n",
            "    \"roles\": [\n",
            "      \"Admin\"\n",
            "    ],\n",
            "    \"updated_at\": \"2023-12-04T15:55:24.238686Z\",\n",
            "    \"zen_service_instance_info\": {\n",
            "      \"docker_registry_prefix\": \"icr.io/cpopen/cpfs\"\n",
            "    }\n",
            "  }\n",
            "}\n"
          ]
        }
      ],
      "source": [
        "response = requests.get(CPDHOST + f'/zen-data/v3/service_instances/{vol_svc_id}',\n",
        "                        headers=headers,\n",
        "                        verify=False)\n",
        "print(json.dumps(response.json(), indent=2))"
      ]
    },
    {
      "cell_type": "markdown",
      "id": "8a900c40",
      "metadata": {},
      "source": [
        "### Start file server on volume"
      ]
    },
    {
      "cell_type": "code",
      "execution_count": 27,
      "id": "6ffa1c8a",
      "metadata": {},
      "outputs": [
        {
          "name": "stdout",
          "output_type": "stream",
          "text": [
            "{\n",
            "  \"_messageCode_\": \"200\",\n",
            "  \"message\": \"Successfully started volume service\"\n",
            "}\n"
          ]
        }
      ],
      "source": [
        "response = requests.post(\n",
        "    CPDHOST + f'/zen-data/v1/volumes/volume_services/{namespace}::{display_name}',\n",
        "    headers=headers,\n",
        "    json={},\n",
        "    verify=False)\n",
        "print(json.dumps(response.json(), indent=2))"
      ]
    },
    {
      "cell_type": "code",
      "execution_count": 47,
      "id": "84db9e06",
      "metadata": {},
      "outputs": [
        {
          "name": "stdout",
          "output_type": "stream",
          "text": [
            "{\n",
            "  \"_messageCode_\": \"200\",\n",
            "  \"message\": \"Successfully started volume service\"\n",
            "}\n"
          ]
        }
      ],
      "source": [
        "# In case you want to restart\n",
        "response = requests.delete(\n",
        "    CPDHOST + f'/zen-data/v1/volumes/volume_services/{namespace}::{display_name}',\n",
        "    headers=headers,\n",
        "    json={},\n",
        "    verify=False)\n",
        "# print(json.dumps(response.json(), indent=2))\n",
        "response = requests.post(\n",
        "    CPDHOST + f'/zen-data/v1/volumes/volume_services/{namespace}::{display_name}',\n",
        "    headers=headers,\n",
        "    json={},\n",
        "    verify=False)\n",
        "print(json.dumps(response.json(), indent=2))"
      ]
    },
    {
      "cell_type": "markdown",
      "id": "eabf99a6",
      "metadata": {},
      "source": [
        "<a id='soft'></a>\n",
        "# 3. Create a new base software specification for the custom image"
      ]
    },
    {
      "cell_type": "markdown",
      "id": "130d4ed0",
      "metadata": {},
      "source": [
        "We will create the base software specification `cspec-py310-2-test` for this demo"
      ]
    },
    {
      "cell_type": "code",
      "execution_count": 28,
      "id": "383db769",
      "metadata": {},
      "outputs": [
        {
          "name": "stdout",
          "output_type": "stream",
          "text": [
            "software spec name     : cspec-py310-2-test\n",
            "software spec filename : cspec-py310-2-test.json\n"
          ]
        }
      ],
      "source": [
        "sw_spec_name='cspec-py310-2-test'\n",
        "sw_spec_filename=f'{sw_spec_name}.json'\n",
        "print('software spec name     :', sw_spec_name)\n",
        "print('software spec filename :', sw_spec_filename)"
      ]
    },
    {
      "cell_type": "markdown",
      "id": "64b752d1",
      "metadata": {},
      "source": [
        "####  Custom Image software specification:\n",
        "- `entity.software_specification.type` have to be set to \"base\" to indicate custom image.\n",
        "- `entity.software_specification.built_in` have to be set boolean `False` to indicate custom image.\n",
        "- `entity.software_configuration.included_packages` array is informational, it can be empty list `[]` . \n",
        "- `entity.software_configuration.platform.name` should be set to `python` ."
      ]
    },
    {
      "cell_type": "code",
      "execution_count": 29,
      "id": "1242fd4d",
      "metadata": {},
      "outputs": [],
      "source": [
        "sw_spec = {\n",
        "  \"metadata\": {\n",
        "    \"name\": sw_spec_name,\n",
        "    \"description\": \"Test custom image base software specification\"\n",
        "  },\n",
        "  \"entity\": {\n",
        "    \"software_specification\": {\n",
        "      \"type\": \"base\",\n",
        "      \"built_in\": False,\n",
        "      \"package_extensions\": [],\n",
        "      \"display_name\": f\"Test {sw_spec_name}\",\n",
        "      \"software_configuration\": {\n",
        "        \"included_packages\": [\n",
        "          {\n",
        "            \"name\": \"pendulum\",\n",
        "            \"version\": \"1.0.0\"\n",
        "          },\n",
        "          {\n",
        "            \"name\": \"dummy-b\",\n",
        "            \"version\": \"1.0.0\"\n",
        "          }         \n",
        "        ],\n",
        "        \"platform\": {\n",
        "          \"name\": \"python\",\n",
        "          \"version\": \"3.10\"\n",
        "        }\n",
        "      }\n",
        "    }\n",
        "  }\n",
        "}"
      ]
    },
    {
      "cell_type": "markdown",
      "id": "ee4962f9",
      "metadata": {},
      "source": [
        "### Upload file to the specified path on the volume"
      ]
    },
    {
      "cell_type": "code",
      "execution_count": 30,
      "id": "81e9547b",
      "metadata": {},
      "outputs": [
        {
          "data": {
            "text/plain": [
              "'%2F_global_%2Fconfig%2Fenvironments%2Fsoftware-specifications%2Fcspec-py310-2-test.json'"
            ]
          },
          "execution_count": 30,
          "metadata": {},
          "output_type": "execute_result"
        }
      ],
      "source": [
        "target_file=f'%2F_global_%2Fconfig%2Fenvironments%2Fsoftware-specifications%2F{sw_spec_filename}'\n",
        "target_file"
      ]
    },
    {
      "cell_type": "code",
      "execution_count": 31,
      "id": "88a40efa",
      "metadata": {},
      "outputs": [
        {
          "data": {
            "text/plain": [
              "(200,\n",
              " {'_messageCode_': 'Success',\n",
              "  'message': 'Successfully uploaded file and created the directory structure'})"
            ]
          },
          "execution_count": 31,
          "metadata": {},
          "output_type": "execute_result"
        }
      ],
      "source": [
        "# multipart/form-data\n",
        "# Do not set the Content-type header yourself, leave that to pyrequests to generate\n",
        "\n",
        "response = requests.put(\n",
        "    CPDHOST + f'/zen-volumes/{display_name}/v1/volumes/files/{target_file}',\n",
        "    headers={\n",
        "        \"Authorization\": f\"Bearer {client._get_icptoken()}\",\n",
        "    },\n",
        "    files={\n",
        "        'upFile': (sw_spec_filename, json.dumps(sw_spec), 'application/json')\n",
        "    },\n",
        "    verify=False)\n",
        "response.status_code, response.json()"
      ]
    },
    {
      "cell_type": "markdown",
      "id": "00c27d48",
      "metadata": {},
      "source": [
        "### We can check if the file was successfully upload"
      ]
    },
    {
      "cell_type": "code",
      "execution_count": 32,
      "id": "10311796",
      "metadata": {},
      "outputs": [
        {
          "name": "stdout",
          "output_type": "stream",
          "text": [
            "200 \n",
            " {\n",
            "  \"metadata\": {\n",
            "    \"name\": \"cspec-py310-2-test\",\n",
            "    \"description\": \"Test custom image base software specification\"\n",
            "  },\n",
            "  \"entity\": {\n",
            "    \"software_specification\": {\n",
            "      \"type\": \"base\",\n",
            "      \"built_in\": false,\n",
            "      \"package_extensions\": [],\n",
            "      \"display_name\": \"Test cspec-py310-2-test\",\n",
            "      \"software_configuration\": {\n",
            "        \"included_packages\": [\n",
            "          {\n",
            "            \"name\": \"pendulum\",\n",
            "            \"version\": \"1.0.0\"\n",
            "          },\n",
            "          {\n",
            "            \"name\": \"dummy-b\",\n",
            "            \"version\": \"1.0.0\"\n",
            "          }\n",
            "        ],\n",
            "        \"platform\": {\n",
            "          \"name\": \"python\",\n",
            "          \"version\": \"3.10\"\n",
            "        }\n",
            "      }\n",
            "    }\n",
            "  }\n",
            "}\n"
          ]
        }
      ],
      "source": [
        "response = requests.get(CPDHOST + f'/zen-volumes/{display_name}/v1/volumes/files/{target_file}',\n",
        "                        headers=headers,\n",
        "                        verify=False)\n",
        "print(response.status_code, '\\n', json.dumps(response.json(), indent=2))"
      ]
    },
    {
      "cell_type": "markdown",
      "id": "d642ad7e",
      "metadata": {},
      "source": [
        "### Wait for about 5 mins\n",
        "Refresh intervel is handled by `env-spec-sync-job` cronjob\n",
        "```\n",
        "e.g.\n",
        "oc get cronjobs env-spec-sync-job\n",
        "\n",
        "NAME                SCHEDULE      SUSPEND   ACTIVE   LAST SCHEDULE   AGE\n",
        "env-spec-sync-job   */5 * * * *   False     0        82s             23d\n",
        "```"
      ]
    },
    {
      "cell_type": "markdown",
      "id": "5348f62c",
      "metadata": {},
      "source": [
        "### Check if the new Software Specification is activated"
      ]
    },
    {
      "cell_type": "code",
      "execution_count": 33,
      "id": "376a7948",
      "metadata": {},
      "outputs": [
        {
          "name": "stdout",
          "output_type": "stream",
          "text": [
            "{\n",
            "  \"total_results\": 0,\n",
            "  \"resources\": []\n",
            "}\n"
          ]
        }
      ],
      "source": [
        "response = requests.get(\n",
        "    CPDHOST + f'/v2/software_specifications?name={sw_spec_name}',\n",
        "    headers=headers,\n",
        "    verify=False)\n",
        "print(json.dumps(response.json(), indent=2))"
      ]
    },
    {
      "cell_type": "markdown",
      "id": "d4a7696f",
      "metadata": {},
      "source": [
        "### **Warning**: Do not proceed unless the new software specification is activated!"
      ]
    },
    {
      "cell_type": "code",
      "execution_count": 34,
      "id": "b5b809ed",
      "metadata": {},
      "outputs": [
        {
          "name": "stdout",
          "output_type": "stream",
          "text": [
            "{\n",
            "  \"total_results\": 1,\n",
            "  \"resources\": [\n",
            "    {\n",
            "      \"metadata\": {\n",
            "        \"created_at\": \"2023-12-04T16:00:03.923Z\",\n",
            "        \"updated_at\": \"2023-12-04T16:00:03.923Z\",\n",
            "        \"name\": \"cspec-py310-2-test\",\n",
            "        \"description\": \"Test custom image base software specification\",\n",
            "        \"asset_type\": \"software_specification\",\n",
            "        \"href\": \"/v2/software_specifications/ed51517a-6c0f-5b97-bfab-209420cccc3a\",\n",
            "        \"asset_id\": \"ed51517a-6c0f-5b97-bfab-209420cccc3a\"\n",
            "      },\n",
            "      \"entity\": {\n",
            "        \"software_specification\": {\n",
            "          \"type\": \"base\",\n",
            "          \"built_in\": false,\n",
            "          \"package_extensions\": [],\n",
            "          \"display_name\": \"Test cspec-py310-2-test\",\n",
            "          \"software_configuration\": {\n",
            "            \"included_packages\": [\n",
            "              {\n",
            "                \"name\": \"pendulum\",\n",
            "                \"version\": \"1.0.0\"\n",
            "              },\n",
            "              {\n",
            "                \"name\": \"dummy-b\",\n",
            "                \"version\": \"1.0.0\"\n",
            "              }\n",
            "            ],\n",
            "            \"platform\": {\n",
            "              \"name\": \"python\",\n",
            "              \"version\": \"3.10\"\n",
            "            }\n",
            "          }\n",
            "        }\n",
            "      }\n",
            "    }\n",
            "  ]\n",
            "}\n"
          ]
        }
      ],
      "source": [
        "response = requests.get(\n",
        "    CPDHOST + f'/v2/software_specifications?name={sw_spec_name}',\n",
        "    headers=headers,\n",
        "    verify=False)\n",
        "print(json.dumps(response.json(), indent=2))"
      ]
    },
    {
      "cell_type": "markdown",
      "id": "e4b009d5",
      "metadata": {},
      "source": [
        "<a id=\"runtime\"></a>\n",
        "# 4. Create the new runtime definition file for the custom image"
      ]
    },
    {
      "cell_type": "markdown",
      "id": "c3e8ed18",
      "metadata": {},
      "source": [
        "We will create the Runtime definition file, which connects the software specification `cspec-py310-2-test` to the custom image name `cp.stg.icr.io/cp/cpd/wml-demo-image-310-2:test-1`"
      ]
    },
    {
      "cell_type": "code",
      "execution_count": 35,
      "id": "acb47d53",
      "metadata": {},
      "outputs": [
        {
          "data": {
            "text/plain": [
              "'cp.stg.icr.io/cp/cpd/wml-demo-image-310-2:test-1'"
            ]
          },
          "execution_count": 35,
          "metadata": {},
          "output_type": "execute_result"
        }
      ],
      "source": [
        "# fully qualified name for the Internal Registry image of custom image\n",
        "custom_image_fqn='cp.stg.icr.io/cp/cpd/wml-demo-image-310-2:test-1'\n",
        "custom_image_fqn"
      ]
    },
    {
      "cell_type": "markdown",
      "id": "9072ebb6",
      "metadata": {},
      "source": [
        "## Create a new runtime definition for the custom image"
      ]
    },
    {
      "cell_type": "markdown",
      "id": "89d19f9e",
      "metadata": {},
      "source": [
        "#### Runtime Definition file for Custom image:\n",
        "- We no longer upload files for the volument service. We create runtime definitions via API `/v2/runtime_definitions`\n",
        "- This runtime definition is the link between the software specification and the image name for custom image\n",
        "- If the custom image had been uploaded to the private container registry, then the value for `custom_image_fqn` would be `cp.stg.icr.io/cp/cpd/wml-demo-image-310-2:test-1`"
      ]
    },
    {
      "cell_type": "markdown",
      "id": "9b9ce7f3",
      "metadata": {},
      "source": [
        "We need to use the `<runtime-definition>-server.json` as a template which we used earlier to get the base image from. Update the follow fields in the template"
      ]
    },
    {
      "cell_type": "markdown",
      "id": "81eb27ab",
      "metadata": {},
      "source": [
        "It is good practice to keep the software specification name same as runtime definition name even though they can be kept different."
      ]
    },
    {
      "cell_type": "code",
      "execution_count": 38,
      "id": "94da19f8",
      "metadata": {},
      "outputs": [],
      "source": [
        "template_runtime_definition[\"name\"] = sw_spec_name\n",
        "template_runtime_definition[\"display_name\"] = sw_spec_name\n",
        "template_runtime_definition[\"description\"] = f\"Runtime definition for custom image {sw_spec_name}\"\n",
        "template_runtime_definition[\"runtime_type\"] = \"wml\"\n",
        "template_runtime_definition[\"launch_configuration\"][\"software_specification_name\"] = sw_spec_name\n",
        "template_runtime_definition[\"launch_configuration\"][\"image\"] = custom_image_fqn\n",
        "\n",
        "custom_image_runtime_definition = template_runtime_definition"
      ]
    },
    {
      "cell_type": "code",
      "execution_count": 39,
      "id": "8ad3e96b",
      "metadata": {},
      "outputs": [
        {
          "data": {
            "text/plain": [
              "201"
            ]
          },
          "execution_count": 39,
          "metadata": {},
          "output_type": "execute_result"
        }
      ],
      "source": [
        "response = requests.post(\n",
        "    CPDHOST + f'/v2/runtime_definitions', \n",
        "    headers=headers,\n",
        "    json=custom_image_runtime_definition,\n",
        "    verify=False)\n",
        "response.status_code"
      ]
    },
    {
      "cell_type": "code",
      "execution_count": 40,
      "id": "0456bab7",
      "metadata": {
        "scrolled": true
      },
      "outputs": [
        {
          "data": {
            "text/plain": [
              "{'metadata': {'guid': '9e102f38-335b-5283-a352-87049f1244d7',\n",
              "  'created_at': '2023-12-04T16:16:31.221Z'},\n",
              " 'entity': {'name': 'cspec-py310-2-test',\n",
              "  'display_name': 'cspec-py310-2-test',\n",
              "  'description': 'Runtime definition for custom image cspec-py310-2-test',\n",
              "  'author': 'IBM',\n",
              "  'tested': True,\n",
              "  'is_service': True,\n",
              "  'built_in': False,\n",
              "  'features': ['wml'],\n",
              "  'runtime_type': 'wml',\n",
              "  'software_configuration': {}}}"
            ]
          },
          "execution_count": 40,
          "metadata": {},
          "output_type": "execute_result"
        }
      ],
      "source": [
        "response.json()"
      ]
    },
    {
      "cell_type": "markdown",
      "id": "8bac0641",
      "metadata": {},
      "source": [
        "### Check if the new Runtime Definition is activated"
      ]
    },
    {
      "cell_type": "code",
      "execution_count": 42,
      "id": "6109328e",
      "metadata": {},
      "outputs": [
        {
          "name": "stdout",
          "output_type": "stream",
          "text": [
            "Found: {\n",
            "  \"metadata\": {\n",
            "    \"guid\": \"9e102f38-335b-5283-a352-87049f1244d7\",\n",
            "    \"created_at\": \"2023-12-04T16:16:31.221Z\"\n",
            "  },\n",
            "  \"entity\": {\n",
            "    \"name\": \"cspec-py310-2-test\",\n",
            "    \"display_name\": \"cspec-py310-2-test\",\n",
            "    \"description\": \"Runtime definition for custom image cspec-py310-2-test\",\n",
            "    \"author\": \"IBM\",\n",
            "    \"tested\": true,\n",
            "    \"is_service\": true,\n",
            "    \"built_in\": false,\n",
            "    \"features\": [\n",
            "      \"wml\"\n",
            "    ],\n",
            "    \"runtime_type\": \"wml\",\n",
            "    \"software_configuration\": {}\n",
            "  }\n",
            "}\n"
          ]
        }
      ],
      "source": [
        "response = requests.get(\n",
        "    CPDHOST + f'/v2/runtime_definitions', \n",
        "    headers=headers,\n",
        "    verify=False)\n",
        "for r in response.json()['resources']:\n",
        "    if r['entity']['runtime_type'] == 'wml' and r['entity']['name'] == sw_spec_name:\n",
        "        print(\"Found:\",json.dumps(r, indent=2))"
      ]
    },
    {
      "cell_type": "code",
      "execution_count": 43,
      "id": "0f41d164",
      "metadata": {},
      "outputs": [
        {
          "name": "stdout",
          "output_type": "stream",
          "text": [
            "The required software specification name: cspec-py310-2-test\n",
            "\t cp.stg.icr.io/cp/cpd/wml-demo-image-310-2:test-1\n"
          ]
        }
      ],
      "source": [
        "print('The required software specification name:', sw_spec_name)\n",
        "print('\\t', custom_image_fqn)"
      ]
    },
    {
      "cell_type": "markdown",
      "id": "78ad059f",
      "metadata": {},
      "source": [
        "### Stop File server on the Volume"
      ]
    },
    {
      "cell_type": "code",
      "execution_count": 45,
      "id": "8bc1fd70",
      "metadata": {},
      "outputs": [
        {
          "name": "stdout",
          "output_type": "stream",
          "text": [
            "{\n",
            "  \"_messageCode_\": \"200\",\n",
            "  \"message\": \"Successfully stopped volume service\"\n",
            "}\n"
          ]
        }
      ],
      "source": [
        "response = requests.delete(\n",
        "    CPDHOST + f'/zen-data/v1/volumes/volume_services/{namespace}::{display_name}',\n",
        "    headers=headers,\n",
        "    json={},\n",
        "    verify=False)\n",
        "print(json.dumps(response.json(), indent=2))"
      ]
    },
    {
      "cell_type": "markdown",
      "id": "2b4d7223",
      "metadata": {},
      "source": [
        "### Cleanup - delete the Volume instance"
      ]
    },
    {
      "cell_type": "code",
      "execution_count": 46,
      "id": "ee30df48",
      "metadata": {},
      "outputs": [
        {
          "name": "stdout",
          "output_type": "stream",
          "text": [
            "{\n",
            "  \"id\": \"1701705324204752\"\n",
            "}\n"
          ]
        }
      ],
      "source": [
        "response = requests.delete(CPDHOST + f'/zen-data/v3/service_instances/{vol_svc_id}',\n",
        "                           headers=headers,\n",
        "                           verify=False)\n",
        "print(json.dumps(response.json(), indent=2))"
      ]
    },
    {
      "cell_type": "markdown",
      "id": "357f075f",
      "metadata": {},
      "source": [
        "<a id=\"deploy\"></a>\n",
        "\n",
        "## 5. Create and Deploy a WML `python function` model with the custom image"
      ]
    },
    {
      "cell_type": "markdown",
      "id": "54933faf",
      "metadata": {},
      "source": [
        "The demo `python function` below showcase the package `simplejson` which was installed for this custom image is now usable by returning the `version`, and does nothing else useful beyond that."
      ]
    },
    {
      "cell_type": "code",
      "execution_count": 47,
      "id": "c6de6366",
      "metadata": {},
      "outputs": [
        {
          "name": "stdout",
          "output_type": "stream",
          "text": [
            "Writing aifun_cspec-py310-2-test.py\n"
          ]
        }
      ],
      "source": [
        "%%writefile aifun_{sw_spec_name}.py\n",
        "\n",
        "def score_generator():\n",
        "        \n",
        "    # Define scoring function\n",
        "    def callModel(payload_scoring):\n",
        "        import pendulum\n",
        "\n",
        "        v4_scoring_response = {\n",
        "            'predictions': [{'values': [pendulum.__version__]}]\n",
        "        }\n",
        "    \n",
        "        return v4_scoring_response\n",
        "\n",
        "    def score(input):\n",
        "\n",
        "        # Score using the pre-defined model\n",
        "        prediction = callModel(input);\n",
        "        return prediction\n",
        "    \n",
        "    return score\n",
        "\n",
        "\n",
        "score = score_generator()"
      ]
    },
    {
      "cell_type": "markdown",
      "id": "b5408ea4",
      "metadata": {},
      "source": [
        "`python function` needs to be gzipped for storing in WML repository"
      ]
    },
    {
      "cell_type": "code",
      "execution_count": 48,
      "id": "c658b6c0",
      "metadata": {},
      "outputs": [],
      "source": [
        "!gzip -fk aifun_{sw_spec_name}.py"
      ]
    },
    {
      "cell_type": "code",
      "execution_count": 49,
      "id": "aebb5696",
      "metadata": {},
      "outputs": [
        {
          "name": "stdout",
          "output_type": "stream",
          "text": [
            "aifun_cspec-py310-2-test.py    aifun_cspec-py310-2-test.py.gz\r\n"
          ]
        }
      ],
      "source": [
        "!ls aifun_{sw_spec_name}*"
      ]
    },
    {
      "cell_type": "markdown",
      "id": "a483602c",
      "metadata": {},
      "source": [
        "**We need use the Base software specification that was created earlier `cspec-38-1-t1`**"
      ]
    },
    {
      "cell_type": "code",
      "execution_count": 50,
      "id": "6cce89b0",
      "metadata": {},
      "outputs": [
        {
          "data": {
            "text/plain": [
              "('cspec-py310-2-test', 'ed51517a-6c0f-5b97-bfab-209420cccc3a')"
            ]
          },
          "execution_count": 50,
          "metadata": {},
          "output_type": "execute_result"
        }
      ],
      "source": [
        "sw_spec_name, client.software_specifications.get_id_by_name(sw_spec_name)"
      ]
    },
    {
      "cell_type": "code",
      "execution_count": 51,
      "id": "6d525322",
      "metadata": {},
      "outputs": [
        {
          "data": {
            "text/plain": [
              "{'entity': {'software_spec': {'id': 'ed51517a-6c0f-5b97-bfab-209420cccc3a',\n",
              "   'name': 'cspec-py310-2-test'},\n",
              "  'type': 'python'},\n",
              " 'metadata': {'created_at': '2023-12-04T16:19:24.910Z',\n",
              "  'description': 'Test Custom Image',\n",
              "  'id': '9613dc80-4bd0-4d6f-bb82-dbdc1ae6539b',\n",
              "  'modified_at': '2023-12-04T16:19:24.910Z',\n",
              "  'name': 'py-function for custom image test',\n",
              "  'owner': '1000331001',\n",
              "  'space_id': '50b09cbc-b45d-4dab-b0c7-fdf5cf4dfb4a'},\n",
              " 'system': {'warnings': []}}"
            ]
          },
          "execution_count": 51,
          "metadata": {},
          "output_type": "execute_result"
        }
      ],
      "source": [
        "meta_props = {\n",
        "   client.repository.FunctionMetaNames.NAME: \"py-function for custom image test\",\n",
        "   client.repository.FunctionMetaNames.DESCRIPTION: \"Test Custom Image\",\n",
        "   client.repository.FunctionMetaNames.SOFTWARE_SPEC_UID:\n",
        "        client.software_specifications.get_id_by_name(sw_spec_name)\n",
        "}\n",
        "stored_function_details = client.repository.store_function(f'aifun_{sw_spec_name}.py.gz', meta_props)\n",
        "stored_function_details"
      ]
    },
    {
      "cell_type": "code",
      "execution_count": 52,
      "id": "13a9b59a",
      "metadata": {},
      "outputs": [
        {
          "data": {
            "text/plain": [
              "'9613dc80-4bd0-4d6f-bb82-dbdc1ae6539b'"
            ]
          },
          "execution_count": 52,
          "metadata": {},
          "output_type": "execute_result"
        }
      ],
      "source": [
        "function_id=client.repository.get_function_id(stored_function_details)\n",
        "function_id"
      ]
    },
    {
      "cell_type": "markdown",
      "id": "37c0ae9d",
      "metadata": {},
      "source": [
        "### Create an online deployment"
      ]
    },
    {
      "cell_type": "code",
      "execution_count": 53,
      "id": "7d4c931f",
      "metadata": {},
      "outputs": [
        {
          "name": "stdout",
          "output_type": "stream",
          "text": [
            "\n",
            "\n",
            "#######################################################################################\n",
            "\n",
            "Synchronous deployment creation for uid: '9613dc80-4bd0-4d6f-bb82-dbdc1ae6539b' started\n",
            "\n",
            "#######################################################################################\n",
            "\n",
            "\n",
            "initializing\n",
            "Note: online_url is deprecated and will be removed in a future release. Use serving_urls instead.\n",
            ".......................................\n",
            "ready\n",
            "\n",
            "\n",
            "------------------------------------------------------------------------------------------------\n",
            "Successfully finished deployment creation, deployment_uid='a49b70cf-36a3-4a30-accd-1196ea08a3aa'\n",
            "------------------------------------------------------------------------------------------------\n",
            "\n",
            "\n"
          ]
        }
      ],
      "source": [
        "meta_props = {\n",
        "    client.deployments.ConfigurationMetaNames.NAME: \"function dep Online custom image test\",\n",
        "    client.deployments.ConfigurationMetaNames.ONLINE: {},\n",
        "    client.deployments.ConfigurationMetaNames.HARDWARE_SPEC : {\n",
        "        \"id\":  client.hardware_specifications.get_id_by_name('S')}\n",
        "}\n",
        "deployment_details = client.deployments.create(function_id, meta_props)"
      ]
    },
    {
      "cell_type": "markdown",
      "id": "fda287de-1ada-4b8e-9160-f27e3fd95688",
      "metadata": {},
      "source": [
        "You can monitor the cluster for pods with `oc get pods -l WML_DEPLOYMENT_ID=<deployment_id>`\n",
        "\n",
        "\n",
        "example:\n",
        "```\n",
        "$ oc get pods -l WML_DEPLOYMENT_ID=a49b70cf-36a3-4a30-accd-1196ea08a3aa\n",
        "NAME                                                        READY   STATUS    RESTARTS   AGE\n",
        "wml-bd1f23c4-24a8-4fc3-85e3-96c12d8ac0df-764f4f677f-fzllq   2/2     Running   0          4m32s\n",
        "\n",
        "$ oc describe pod wml-bd1f23c4-24a8-4fc3-85e3-96c12d8ac0df-764f4f677f-fzllq | grep Image: | grep wml-demo-image\n",
        "    Image:         cp.stg.icr.io/cp/cpd/wml-demo-image-310-2:test-1\n",
        "```"
      ]
    },
    {
      "cell_type": "code",
      "execution_count": 54,
      "id": "f6bf8f37",
      "metadata": {},
      "outputs": [
        {
          "data": {
            "text/plain": [
              "'a49b70cf-36a3-4a30-accd-1196ea08a3aa'"
            ]
          },
          "execution_count": 54,
          "metadata": {},
          "output_type": "execute_result"
        }
      ],
      "source": [
        "deployment_id=client.deployments.get_uid(deployment_details)\n",
        "deployment_id"
      ]
    },
    {
      "cell_type": "markdown",
      "id": "b42d1e76-8d4c-47c5-a0c8-17dc7b3171c4",
      "metadata": {},
      "source": [
        "### Predict using created deployment"
      ]
    },
    {
      "cell_type": "code",
      "execution_count": 55,
      "id": "fbce0a4a",
      "metadata": {},
      "outputs": [],
      "source": [
        "scoring_payload = {\n",
        "    'input_data': [\n",
        "        { 'id': 'id1', 'fields': ['dummy', 'dummy_c2'], 'values': [[1, 1]]}\n",
        "    ]\n",
        "}"
      ]
    },
    {
      "cell_type": "code",
      "execution_count": 56,
      "id": "97718315",
      "metadata": {},
      "outputs": [
        {
          "data": {
            "text/plain": [
              "{'predictions': [{'values': ['2.1.2']}]}"
            ]
          },
          "execution_count": 56,
          "metadata": {},
          "output_type": "execute_result"
        }
      ],
      "source": [
        "predictions = client.deployments.score(deployment_id, scoring_payload)\n",
        "predictions"
      ]
    },
    {
      "cell_type": "markdown",
      "id": "18dc51d2-244e-4188-ac96-d477f81f1358",
      "metadata": {},
      "source": [
        "<a id=\"cleanup\"></a>\n",
        "## 6. Clean up   "
      ]
    },
    {
      "cell_type": "code",
      "execution_count": 57,
      "id": "497f13dd",
      "metadata": {},
      "outputs": [
        {
          "data": {
            "text/plain": [
              "'SUCCESS'"
            ]
          },
          "execution_count": 57,
          "metadata": {},
          "output_type": "execute_result"
        }
      ],
      "source": [
        "client.deployments.delete(deployment_id)"
      ]
    },
    {
      "cell_type": "markdown",
      "id": "15bdb6d9-c433-4b9b-bc22-710d976abf40",
      "metadata": {},
      "source": [
        "If you want to clean up all created assets:\n",
        "- experiments\n",
        "- trainings\n",
        "- pipelines\n",
        "- model definitions\n",
        "- models\n",
        "- functions\n",
        "- deployments\n",
        "\n",
        "please follow up this sample [notebook](https://github.com/IBM/watson-machine-learning-samples/blob/master/cpd4.0/notebooks/python_sdk/instance-management/Machine%20Learning%20artifacts%20management.ipynb)."
      ]
    },
    {
      "cell_type": "markdown",
      "id": "d319ae7e-3dd0-448a-8eb6-2c1dcdec4b3d",
      "metadata": {},
      "source": [
        "<a id=\"summary\"></a>\n",
        "## 7. Summary and next steps     "
      ]
    },
    {
      "cell_type": "markdown",
      "id": "a3ad8bdf-f08b-400c-bcca-a4f92b81faab",
      "metadata": {},
      "source": [
        " You successfully completed this notebook! You learned how to use Watson Machine Learning for function deployment and scoring with custom custom_image, software_spec and runtime definition.  \n",
        " Check out our [Online Documentation](https://dataplatform.cloud.ibm.com/docs/content/wsj/getting-started/welcome-main.html?context=analytics) for more samples, tutorials, documentation, how-tos, and blog posts. "
      ]
    },
    {
      "cell_type": "markdown",
      "id": "4217d447-5b17-42fe-9c78-3c1e546eb02f",
      "metadata": {},
      "source": [
        "#### References:\n",
        "- https://www.ibm.com/docs/en/cloud-paks/cp-data/4.7.x?topic=runtimes-customizing-deployment-runtime-images\n",
        "- https://www.ibm.com/docs/en/cloud-paks/cp-data/4.7.x?topic=resources-volumes-api"
      ]
    },
    {
      "cell_type": "markdown",
      "id": "e8abb1ab-eba8-45e2-b1ed-f0818682ace0",
      "metadata": {},
      "source": [
        "### Author\n",
        "\n",
        "**Ginbiaksang Naulak** Software Engineer at IBM."
      ]
    },
    {
      "cell_type": "markdown",
      "id": "37a682f2-5f6f-4c7e-9b20-2c6807f6ff54",
      "metadata": {},
      "source": [
        "Copyright © 2020-2025 IBM. This notebook and its source code are released under the terms of the MIT License."
      ]
    },
    {
      "cell_type": "code",
      "execution_count": null,
      "id": "ca536617",
      "metadata": {},
      "outputs": [],
      "source": []
    }
  ],
  "metadata": {
    "kernelspec": {
      "display_name": "py310",
      "language": "python",
      "name": "py310"
    },
    "language_info": {
      "codemirror_mode": {
        "name": "ipython",
        "version": 3
      },
      "file_extension": ".py",
      "mimetype": "text/x-python",
      "name": "python",
      "nbconvert_exporter": "python",
      "pygments_lexer": "ipython3",
      "version": "3.10.12"
    }
  },
  "nbformat": 4,
  "nbformat_minor": 5
}
