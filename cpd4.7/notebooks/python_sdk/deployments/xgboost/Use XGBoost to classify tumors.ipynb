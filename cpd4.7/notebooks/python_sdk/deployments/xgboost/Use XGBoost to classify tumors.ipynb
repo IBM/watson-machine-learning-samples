{
  "cells": [
    {
      "cell_type": "markdown",
      "metadata": {
        "pycharm": {
          "name": "#%% md\n"
        }
      },
      "source": [
        "# Use XGBoost to classify tumors with `ibm-watson-machine-learning`"
      ]
    },
    {
      "cell_type": "markdown",
      "metadata": {
        "pycharm": {
          "name": "#%% md\n"
        }
      },
      "source": [
        "This notebook contains steps and code to get data from the IBM Watson Studio Community, create a predictive model, and start scoring new data. It introduces commands for getting data and for basic data cleaning and exploration, model training, model persistance to Watson Machine Learning repository, model deployment, and scoring.\n",
        "\n",
        "Some familiarity with Python is helpful. This notebook uses Python 3.10, XGBoost, and scikit-learn.\n",
        "\n",
        "You will use a publicly available data set, the Breast Cancer Wisconsin (Diagnostic) Data Set, to train an XGBoost Model to classify breast cancer tumors (as benign or malignant) from 569 diagnostic images based on measurements such as radius, texture, perimeter and area. XGBoost is short for “E**x**treme **G**radient **Boost**ing”.\n",
        "\n",
        "The XGBoost classifier makes its predictions based on the majority vote from collection of models which are a set of classification trees. It uses the combination of weak learners to create a single strong learner. It’s a sequential training process, whereby new learners focus on the misclassified examples of previous learners.\n",
        "\n",
        "\n",
        "## Learning goals\n",
        "\n",
        "You will learn how to:\n",
        "\n",
        "-  Load a CSV file into numpy array\n",
        "-  Explore data\n",
        "-  Prepare data for training and evaluation\n",
        "-  Create an XGBoost machine learning model\n",
        "-  Train and evaluate a model\n",
        "-  Use cross-validation to optimize model's hyperparameters\n",
        "-  Persist a model in Watson Machine Learning repository\n",
        "-  Deploy a model for online scoring\n",
        "-  Score sample data\n",
        "\n",
        "\n",
        "## Contents\n",
        "\n",
        "This notebook contains the following parts:\n",
        "\n",
        "1. [Setup](#setup)\n",
        "2. [Load and explore the data](#load)\n",
        "3. [Create the XGBoost model](#model)\n",
        "4. [Persist model](#upload)\n",
        "5. [Deployment](#deploy)\n",
        "6. [Score the model](#score)\n",
        "7. [Clean up](#cleanup)\n",
        "8. [Summary and next steps](#summary)"
      ]
    },
    {
      "cell_type": "markdown",
      "metadata": {
        "pycharm": {
          "name": "#%% md\n"
        }
      },
      "source": [
        "<a id=\"setup\"></a>\n",
        "## 1. Set up the environment\n",
        "\n",
        "Before you use the sample code in this notebook, you must perform the following setup tasks:\n",
        "\n",
        "-  Contact with your Cloud Pack for Data administrator and ask him for your account credentials"
      ]
    },
    {
      "cell_type": "markdown",
      "metadata": {
        "pycharm": {
          "name": "#%% md\n"
        }
      },
      "source": [
        "### Connection to WML\n",
        "\n",
        "Authenticate the Watson Machine Learning service on IBM Cloud Pack for Data. You need to provide platform `url`, your `username` and `api_key`."
      ]
    },
    {
      "cell_type": "code",
      "execution_count": null,
      "metadata": {
        "pycharm": {
          "name": "#%%\n"
        }
      },
      "outputs": [],
      "source": [
        "username = 'PASTE YOUR USERNAME HERE'\n",
        "api_key = 'PASTE YOUR API_KEY HERE'\n",
        "url = 'PASTE THE PLATFORM URL HERE'"
      ]
    },
    {
      "cell_type": "code",
      "execution_count": 2,
      "metadata": {
        "pycharm": {
          "name": "#%%\n"
        }
      },
      "outputs": [],
      "source": [
        "wml_credentials = {\n",
        "    \"username\": username,\n",
        "    \"apikey\": api_key,\n",
        "    \"url\": url,\n",
        "    \"instance_id\": 'openshift',\n",
        "    \"version\": '4.6'\n",
        "}"
      ]
    },
    {
      "cell_type": "markdown",
      "metadata": {
        "pycharm": {
          "name": "#%% md\n"
        }
      },
      "source": [
        "Alternatively you can use `username` and `password` to authenticate WML services.\n",
        "\n",
        "```\n",
        "wml_credentials = {\n",
        "    \"username\": ***,\n",
        "    \"password\": ***,\n",
        "    \"url\": ***,\n",
        "    \"instance_id\": 'openshift',\n",
        "    \"version\": '4.6'\n",
        "}\n",
        "\n",
        "```"
      ]
    },
    {
      "cell_type": "markdown",
      "metadata": {
        "pycharm": {
          "name": "#%% md\n"
        }
      },
      "source": [
        "### Install and import the `ibm-watson-machine-learning` package\n",
        "**Note:** `ibm-watson-machine-learning` documentation can be found <a href=\"http://ibm-wml-api-pyclient.mybluemix.net/\" target=\"_blank\" rel=\"noopener no referrer\">here</a>."
      ]
    },
    {
      "cell_type": "code",
      "execution_count": null,
      "metadata": {
        "pycharm": {
          "name": "#%%\n"
        }
      },
      "outputs": [],
      "source": [
        "!pip install -U ibm-watson-machine-learning"
      ]
    },
    {
      "cell_type": "code",
      "execution_count": 2,
      "metadata": {
        "pycharm": {
          "name": "#%%\n"
        }
      },
      "outputs": [],
      "source": [
        "from ibm_watson_machine_learning import APIClient\n",
        "\n",
        "client = APIClient(wml_credentials)"
      ]
    },
    {
      "cell_type": "markdown",
      "metadata": {
        "pycharm": {
          "name": "#%% md\n"
        }
      },
      "source": [
        "### Working with spaces\n",
        "\n",
        "First of all, you need to create a space that will be used for your work. If you do not have space already created, you can use `{PLATFORM_URL}/ml-runtime/spaces?context=icp4data` to create one.\n",
        "\n",
        "- Click New Deployment Space\n",
        "- Create an empty space\n",
        "- Go to space `Settings` tab\n",
        "- Copy `space_id` and paste it below\n",
        "\n",
        "**Tip**: You can also use SDK to prepare the space for your work. More information can be found [here](https://github.com/IBM/watson-machine-learning-samples/blob/master/cpd4.6/notebooks/python_sdk/instance-management/Space%20management.ipynb).\n",
        "\n",
        "**Action**: Assign space ID below"
      ]
    },
    {
      "cell_type": "code",
      "execution_count": null,
      "metadata": {
        "pycharm": {
          "name": "#%%\n"
        }
      },
      "outputs": [],
      "source": [
        "space_id = 'PASTE YOUR SPACE ID HERE'"
      ]
    },
    {
      "cell_type": "markdown",
      "metadata": {
        "pycharm": {
          "name": "#%% md\n"
        }
      },
      "source": [
        "You can use `list` method to print all existing spaces."
      ]
    },
    {
      "cell_type": "code",
      "execution_count": null,
      "metadata": {
        "pycharm": {
          "name": "#%%\n"
        }
      },
      "outputs": [],
      "source": [
        "client.spaces.list(limit=10)"
      ]
    },
    {
      "cell_type": "markdown",
      "metadata": {
        "pycharm": {
          "name": "#%% md\n"
        }
      },
      "source": [
        "To be able to interact with all resources available in Watson Machine Learning, you need to set **space** which you will be using."
      ]
    },
    {
      "cell_type": "code",
      "execution_count": 4,
      "metadata": {
        "pycharm": {
          "name": "#%%\n"
        }
      },
      "outputs": [
        {
          "data": {
            "text/plain": [
              "'SUCCESS'"
            ]
          },
          "execution_count": 4,
          "metadata": {},
          "output_type": "execute_result"
        }
      ],
      "source": [
        "client.set.default_space(space_id)"
      ]
    },
    {
      "cell_type": "markdown",
      "metadata": {
        "pycharm": {
          "name": "#%% md\n"
        }
      },
      "source": [
        "<a id=\"load\"></a>\n",
        "## 2. Load and explore the data"
      ]
    },
    {
      "cell_type": "markdown",
      "metadata": {
        "pycharm": {
          "name": "#%% md\n"
        }
      },
      "source": [
        "In this section you will load the data as a numpy array and perform a basic exploration.\n",
        "\n",
        "To load the data as a numpy array, user `wget` to download the data, then use the `genfromtxt` method to read the data."
      ]
    },
    {
      "cell_type": "markdown",
      "metadata": {
        "pycharm": {
          "name": "#%% md\n"
        }
      },
      "source": [
        "**Example**: First, you need to install the required packages. You can do this by running the following code. Run it only one time.<BR><BR>"
      ]
    },
    {
      "cell_type": "code",
      "execution_count": null,
      "metadata": {
        "pycharm": {
          "name": "#%%\n"
        }
      },
      "outputs": [],
      "source": [
        "!pip install wget --upgrade"
      ]
    },
    {
      "cell_type": "code",
      "execution_count": 5,
      "metadata": {
        "pycharm": {
          "name": "#%%\n"
        },
        "scrolled": true
      },
      "outputs": [
        {
          "name": "stdout",
          "output_type": "stream",
          "text": [
            "BreastCancerWisconsinDataSet.csv\n"
          ]
        }
      ],
      "source": [
        "import wget, os\n",
        "\n",
        "WisconsinDataSet = 'BreastCancerWisconsinDataSet.csv' \n",
        "if not os.path.isfile(WisconsinDataSet):\n",
        "    link_to_data = 'https://raw.githubusercontent.com/IBM/watson-machine-learning-samples/master/cpd4.6/data/cancer/' + WisconsinDataSet\n",
        "    print(link_to_data)\n",
        "    WisconsinDataSet = wget.download(link_to_data)\n",
        "\n",
        "print(WisconsinDataSet)"
      ]
    },
    {
      "cell_type": "markdown",
      "metadata": {
        "pycharm": {
          "name": "#%% md\n"
        }
      },
      "source": [
        "The csv file **BreastCancerWisconsinDataSet.csv** is downloaded. Run the code in the next cells to load the file to the numpy array."
      ]
    },
    {
      "cell_type": "code",
      "execution_count": 6,
      "metadata": {
        "pycharm": {
          "name": "#%%\n"
        }
      },
      "outputs": [
        {
          "name": "stdout",
          "output_type": "stream",
          "text": [
            "(842302, 'M', 17.99, 10.38, 122.8, 1001., 0.1184, 0.2776, 0.3001, 0.1471, 0.2419, 0.07871, 1.095, 0.9053, 8.589, 153.4, 0.006399, 0.04904, 0.05373, 0.01587, 0.03003, 0.006193, 25.38, 17.33, 184.6, 2019., 0.1622, 0.6656, 0.7119, 0.2654, 0.4601, 0.1189)\n"
          ]
        }
      ],
      "source": [
        "import numpy as np\n",
        "\n",
        "np_data = np.genfromtxt(WisconsinDataSet, delimiter=',', names=True, dtype=None, encoding='utf-8')\n",
        "print(np_data[0])"
      ]
    },
    {
      "cell_type": "markdown",
      "metadata": {
        "pycharm": {
          "name": "#%% md\n"
        }
      },
      "source": [
        "Run the code in the next cell to view the feature names and data storage types."
      ]
    },
    {
      "cell_type": "code",
      "execution_count": 7,
      "metadata": {
        "pycharm": {
          "name": "#%%\n"
        }
      },
      "outputs": [
        {
          "name": "stdout",
          "output_type": "stream",
          "text": [
            "[('id', '<i8'), ('diagnosis', '<U1'), ('radius_mean', '<f8'), ('texture_mean', '<f8'), ('perimeter_mean', '<f8'), ('area_mean', '<f8'), ('smoothness_mean', '<f8'), ('compactness_mean', '<f8'), ('concavity_mean', '<f8'), ('concave_points_mean', '<f8'), ('symmetry_mean', '<f8'), ('fractal_dimension_mean', '<f8'), ('radius_se', '<f8'), ('texture_se', '<f8'), ('perimeter_se', '<f8'), ('area_se', '<f8'), ('smoothness_se', '<f8'), ('compactness_se', '<f8'), ('concavity_se', '<f8'), ('concave_points_se', '<f8'), ('symmetry_se', '<f8'), ('fractal_dimension_se', '<f8'), ('radius_worst', '<f8'), ('texture_worst', '<f8'), ('perimeter_worst', '<f8'), ('area_worst', '<f8'), ('smoothness_worst', '<f8'), ('compactness_worst', '<f8'), ('concavity_worst', '<f8'), ('concave_points_worst', '<f8'), ('symmetry_worst', '<f8'), ('fractal_dimension_worst', '<f8')]\n"
          ]
        }
      ],
      "source": [
        "# Display the feature names and data storage types.\n",
        "print(np_data.dtype)"
      ]
    },
    {
      "cell_type": "code",
      "execution_count": 8,
      "metadata": {
        "pycharm": {
          "name": "#%%\n"
        }
      },
      "outputs": [
        {
          "name": "stdout",
          "output_type": "stream",
          "text": [
            "Number of rows: 569\n",
            "Number of columns: 32\n"
          ]
        }
      ],
      "source": [
        "# Display the number of records and features.\n",
        "print('Number of rows: {}'.format(np_data.size))\n",
        "print('Number of columns: {}'.format(len(np_data[0])))"
      ]
    },
    {
      "cell_type": "markdown",
      "metadata": {
        "pycharm": {
          "name": "#%% md\n"
        }
      },
      "source": [
        "You can see that the data set has 569 records and 32 features."
      ]
    },
    {
      "cell_type": "markdown",
      "metadata": {
        "pycharm": {
          "name": "#%% md\n"
        }
      },
      "source": [
        "<a id=\"model\"></a>\n",
        "## 3. Create an XGBoost model\n",
        "\n",
        "In this section you will learn how to train and test an XGBoost model.\n",
        "\n",
        "- [3.1. Prepare the data](#prepare)\n",
        "- [3.2. Create the XGBoost model](#create)"
      ]
    },
    {
      "cell_type": "markdown",
      "metadata": {
        "pycharm": {
          "name": "#%% md\n"
        }
      },
      "source": [
        "**Note:** Update `xgboost` to ensure you have `1.6.2` version."
      ]
    },
    {
      "cell_type": "code",
      "execution_count": null,
      "metadata": {
        "pycharm": {
          "name": "#%%\n"
        }
      },
      "outputs": [],
      "source": [
        "!pip install -U xgboost==1.6.2"
      ]
    },
    {
      "cell_type": "markdown",
      "metadata": {
        "pycharm": {
          "name": "#%% md\n"
        }
      },
      "source": [
        "### 3.1. Prepare data<a id=\"prepare\"></a>"
      ]
    },
    {
      "cell_type": "markdown",
      "metadata": {
        "pycharm": {
          "name": "#%% md\n"
        }
      },
      "source": [
        "Now, you can prepare your data for model building. You will use the `diagnosis` column as your target variable so you must remove it from the set of predictors. You must also remove the `id` variable."
      ]
    },
    {
      "cell_type": "code",
      "execution_count": 9,
      "metadata": {
        "pycharm": {
          "name": "#%%\n"
        }
      },
      "outputs": [],
      "source": [
        "y = 1 * (np_data['diagnosis'] == 'M')\n",
        "X = np.array([list(r)[2:] for r in np_data])"
      ]
    },
    {
      "cell_type": "markdown",
      "metadata": {
        "pycharm": {
          "name": "#%% md\n"
        }
      },
      "source": [
        "Split the data set into: \n",
        "- Train data set\n",
        "- Test data set"
      ]
    },
    {
      "cell_type": "code",
      "execution_count": 10,
      "metadata": {
        "pycharm": {
          "name": "#%%\n"
        }
      },
      "outputs": [],
      "source": [
        "# Split the data set and create two data sets.\n",
        "# from sklearn.cross_validation import train_test_split \n",
        "\n",
        "from sklearn.model_selection import train_test_split\n",
        "\n",
        "X_train, X_test, y_train, y_test = train_test_split(X, y, test_size=0.35, random_state=143)"
      ]
    },
    {
      "cell_type": "code",
      "execution_count": 11,
      "metadata": {
        "pycharm": {
          "name": "#%%\n"
        }
      },
      "outputs": [
        {
          "name": "stdout",
          "output_type": "stream",
          "text": [
            "Number of training records: 369\n",
            "Number of testing records : 200\n"
          ]
        }
      ],
      "source": [
        "# List the number of records in each data set.\n",
        "print(\"Number of training records: \" + str(X_train.shape[0]))\n",
        "print(\"Number of testing records : \" + str(X_test.shape[0]))"
      ]
    },
    {
      "cell_type": "markdown",
      "metadata": {
        "pycharm": {
          "name": "#%% md\n"
        }
      },
      "source": [
        "The data has been successfully split into two data sets:\n",
        "- The train data set, which is the largest group, will be used for training\n",
        "- The test data set will be used for model evaluation and is used to test the assumptions of the model"
      ]
    },
    {
      "cell_type": "markdown",
      "metadata": {
        "pycharm": {
          "name": "#%% md\n"
        }
      },
      "source": [
        "### 3.2. Create the XGBoost model<a id=\"create\"></a>"
      ]
    },
    {
      "cell_type": "markdown",
      "metadata": {
        "pycharm": {
          "name": "#%% md\n"
        }
      },
      "source": [
        "Start by importing the necessary libraries."
      ]
    },
    {
      "cell_type": "code",
      "execution_count": 12,
      "metadata": {
        "pycharm": {
          "name": "#%%\n"
        }
      },
      "outputs": [],
      "source": [
        "# Import the libraries you need to create the XGBoost model.\n",
        "from xgboost.sklearn import XGBClassifier\n",
        "\n",
        "from sklearn.model_selection import GridSearchCV\n",
        "from sklearn.metrics import accuracy_score"
      ]
    },
    {
      "cell_type": "markdown",
      "metadata": {
        "pycharm": {
          "name": "#%% md\n"
        }
      },
      "source": [
        "#### 3.2.1. Create an XGBoost classifier"
      ]
    },
    {
      "cell_type": "markdown",
      "metadata": {
        "pycharm": {
          "name": "#%% md\n"
        }
      },
      "source": [
        "In this section you create an XGBoost classifier with default hyperparameter values and you will call it *xgb_model*. \n",
        "\n",
        "**Note** The next sections show you how to improve this base model."
      ]
    },
    {
      "cell_type": "markdown",
      "metadata": {
        "pycharm": {
          "name": "#%% md\n"
        }
      },
      "source": [
        "**Note**: Usage of default or `n_jobs=-1` parameter in XGBoost classifier is not recommended as underlying process often cannot correctly discover number of CPUs / threads allowed.  \n",
        "Other ways to controll the number of cores used is through environmental variables `OMP_NUM_THREADS` and `MKL_NUM_THREADS`, which should be set by default if this notebook is executed inside \n",
        "Watson Studio.\n"
      ]
    },
    {
      "cell_type": "code",
      "execution_count": 13,
      "metadata": {
        "pycharm": {
          "name": "#%%\n"
        }
      },
      "outputs": [],
      "source": [
        "# Create the XGB classifier, xgb_model.\n",
        "xgb_model = XGBClassifier(use_label_encoder=False, n_jobs=1)"
      ]
    },
    {
      "cell_type": "markdown",
      "metadata": {
        "pycharm": {
          "name": "#%% md\n"
        }
      },
      "source": [
        "Display the default parameters for *xgb_model*."
      ]
    },
    {
      "cell_type": "code",
      "execution_count": 14,
      "metadata": {
        "pycharm": {
          "name": "#%%\n"
        }
      },
      "outputs": [
        {
          "name": "stdout",
          "output_type": "stream",
          "text": [
            "{'objective': 'binary:logistic', 'base_score': None, 'booster': None, 'colsample_bylevel': None, 'colsample_bynode': None, 'colsample_bytree': None, 'gamma': None, 'gpu_id': None, 'interaction_constraints': None, 'learning_rate': None, 'max_delta_step': None, 'max_depth': None, 'min_child_weight': None, 'monotone_constraints': None, 'n_jobs': None, 'num_parallel_tree': None, 'random_state': None, 'reg_alpha': None, 'reg_lambda': None, 'scale_pos_weight': None, 'subsample': None, 'tree_method': None, 'validate_parameters': None, 'verbosity': None}\n"
          ]
        }
      ],
      "source": [
        "# List the default parameters.\n",
        "print(xgb_model.get_xgb_params())"
      ]
    },
    {
      "cell_type": "markdown",
      "metadata": {
        "pycharm": {
          "name": "#%% md\n"
        }
      },
      "source": [
        "Now that your XGBoost classifier, *xgb_model*, is set up, you can train it by invoking the fit method. You will also evaluate *xgb_model* while the train and test data are being trained."
      ]
    },
    {
      "cell_type": "code",
      "execution_count": 15,
      "metadata": {
        "pycharm": {
          "name": "#%%\n"
        }
      },
      "outputs": [
        {
          "name": "stdout",
          "output_type": "stream",
          "text": [
            "[0]\tvalidation_0-error:0.01626\tvalidation_1-error:0.06000\n",
            "[1]\tvalidation_0-error:0.00813\tvalidation_1-error:0.06000\n",
            "[2]\tvalidation_0-error:0.00813\tvalidation_1-error:0.05500\n",
            "[3]\tvalidation_0-error:0.00542\tvalidation_1-error:0.05000\n",
            "[4]\tvalidation_0-error:0.00542\tvalidation_1-error:0.05000\n",
            "[5]\tvalidation_0-error:0.00271\tvalidation_1-error:0.04500\n",
            "[6]\tvalidation_0-error:0.00271\tvalidation_1-error:0.05500\n",
            "[7]\tvalidation_0-error:0.00271\tvalidation_1-error:0.05000\n",
            "[8]\tvalidation_0-error:0.00271\tvalidation_1-error:0.05000\n",
            "[9]\tvalidation_0-error:0.00271\tvalidation_1-error:0.05000\n",
            "[10]\tvalidation_0-error:0.00271\tvalidation_1-error:0.05500\n",
            "[11]\tvalidation_0-error:0.00271\tvalidation_1-error:0.05000\n",
            "[12]\tvalidation_0-error:0.00271\tvalidation_1-error:0.04500\n",
            "[13]\tvalidation_0-error:0.00271\tvalidation_1-error:0.04000\n",
            "[14]\tvalidation_0-error:0.00271\tvalidation_1-error:0.04000\n",
            "[15]\tvalidation_0-error:0.00271\tvalidation_1-error:0.03000\n",
            "[16]\tvalidation_0-error:0.00271\tvalidation_1-error:0.03500\n",
            "[17]\tvalidation_0-error:0.00271\tvalidation_1-error:0.03000\n",
            "[18]\tvalidation_0-error:0.00000\tvalidation_1-error:0.04000\n",
            "[19]\tvalidation_0-error:0.00000\tvalidation_1-error:0.03500\n",
            "[20]\tvalidation_0-error:0.00000\tvalidation_1-error:0.03500\n",
            "[21]\tvalidation_0-error:0.00000\tvalidation_1-error:0.03500\n",
            "[22]\tvalidation_0-error:0.00000\tvalidation_1-error:0.04000\n",
            "[23]\tvalidation_0-error:0.00000\tvalidation_1-error:0.04500\n",
            "[24]\tvalidation_0-error:0.00000\tvalidation_1-error:0.03500\n",
            "[25]\tvalidation_0-error:0.00000\tvalidation_1-error:0.04500\n",
            "[26]\tvalidation_0-error:0.00000\tvalidation_1-error:0.04000\n",
            "[27]\tvalidation_0-error:0.00000\tvalidation_1-error:0.05000\n",
            "[28]\tvalidation_0-error:0.00000\tvalidation_1-error:0.04500\n",
            "[29]\tvalidation_0-error:0.00000\tvalidation_1-error:0.05000\n",
            "[30]\tvalidation_0-error:0.00000\tvalidation_1-error:0.05000\n",
            "[31]\tvalidation_0-error:0.00000\tvalidation_1-error:0.04500\n",
            "[32]\tvalidation_0-error:0.00000\tvalidation_1-error:0.04500\n",
            "[33]\tvalidation_0-error:0.00000\tvalidation_1-error:0.04500\n",
            "[34]\tvalidation_0-error:0.00000\tvalidation_1-error:0.04500\n",
            "[35]\tvalidation_0-error:0.00000\tvalidation_1-error:0.05000\n",
            "[36]\tvalidation_0-error:0.00000\tvalidation_1-error:0.05000\n",
            "[37]\tvalidation_0-error:0.00000\tvalidation_1-error:0.05000\n",
            "[38]\tvalidation_0-error:0.00000\tvalidation_1-error:0.05000\n",
            "[39]\tvalidation_0-error:0.00000\tvalidation_1-error:0.05000\n",
            "[40]\tvalidation_0-error:0.00000\tvalidation_1-error:0.05000\n",
            "[41]\tvalidation_0-error:0.00000\tvalidation_1-error:0.05000\n",
            "[42]\tvalidation_0-error:0.00000\tvalidation_1-error:0.05000\n",
            "[43]\tvalidation_0-error:0.00000\tvalidation_1-error:0.05000\n",
            "[44]\tvalidation_0-error:0.00000\tvalidation_1-error:0.05000\n",
            "[45]\tvalidation_0-error:0.00000\tvalidation_1-error:0.05000\n",
            "[46]\tvalidation_0-error:0.00000\tvalidation_1-error:0.05000\n",
            "[47]\tvalidation_0-error:0.00000\tvalidation_1-error:0.05000\n",
            "[48]\tvalidation_0-error:0.00000\tvalidation_1-error:0.05000\n",
            "[49]\tvalidation_0-error:0.00000\tvalidation_1-error:0.05000\n",
            "[50]\tvalidation_0-error:0.00000\tvalidation_1-error:0.05000\n",
            "[51]\tvalidation_0-error:0.00000\tvalidation_1-error:0.05000\n",
            "[52]\tvalidation_0-error:0.00000\tvalidation_1-error:0.05500\n",
            "[53]\tvalidation_0-error:0.00000\tvalidation_1-error:0.05500\n",
            "[54]\tvalidation_0-error:0.00000\tvalidation_1-error:0.05500\n",
            "[55]\tvalidation_0-error:0.00000\tvalidation_1-error:0.05500\n",
            "[56]\tvalidation_0-error:0.00000\tvalidation_1-error:0.05500\n",
            "[57]\tvalidation_0-error:0.00000\tvalidation_1-error:0.05500\n",
            "[58]\tvalidation_0-error:0.00000\tvalidation_1-error:0.05500\n",
            "[59]\tvalidation_0-error:0.00000\tvalidation_1-error:0.05500\n",
            "[60]\tvalidation_0-error:0.00000\tvalidation_1-error:0.05500\n",
            "[61]\tvalidation_0-error:0.00000\tvalidation_1-error:0.06000\n",
            "[62]\tvalidation_0-error:0.00000\tvalidation_1-error:0.06000\n",
            "[63]\tvalidation_0-error:0.00000\tvalidation_1-error:0.06000\n",
            "[64]\tvalidation_0-error:0.00000\tvalidation_1-error:0.06000\n",
            "[65]\tvalidation_0-error:0.00000\tvalidation_1-error:0.06000\n",
            "[66]\tvalidation_0-error:0.00000\tvalidation_1-error:0.06000\n",
            "[67]\tvalidation_0-error:0.00000\tvalidation_1-error:0.06000\n",
            "[68]\tvalidation_0-error:0.00000\tvalidation_1-error:0.06000\n",
            "[69]\tvalidation_0-error:0.00000\tvalidation_1-error:0.06000\n",
            "[70]\tvalidation_0-error:0.00000\tvalidation_1-error:0.06000\n",
            "[71]\tvalidation_0-error:0.00000\tvalidation_1-error:0.06000\n",
            "[72]\tvalidation_0-error:0.00000\tvalidation_1-error:0.06000\n",
            "[73]\tvalidation_0-error:0.00000\tvalidation_1-error:0.06000\n",
            "[74]\tvalidation_0-error:0.00000\tvalidation_1-error:0.06000\n",
            "[75]\tvalidation_0-error:0.00000\tvalidation_1-error:0.06000\n",
            "[76]\tvalidation_0-error:0.00000\tvalidation_1-error:0.06000\n",
            "[77]\tvalidation_0-error:0.00000\tvalidation_1-error:0.06000\n",
            "[78]\tvalidation_0-error:0.00000\tvalidation_1-error:0.06000\n",
            "[79]\tvalidation_0-error:0.00000\tvalidation_1-error:0.06000\n",
            "[80]\tvalidation_0-error:0.00000\tvalidation_1-error:0.06000\n",
            "[81]\tvalidation_0-error:0.00000\tvalidation_1-error:0.06000\n",
            "[82]\tvalidation_0-error:0.00000\tvalidation_1-error:0.06000\n",
            "[83]\tvalidation_0-error:0.00000\tvalidation_1-error:0.06000\n",
            "[84]\tvalidation_0-error:0.00000\tvalidation_1-error:0.06000\n",
            "[85]\tvalidation_0-error:0.00000\tvalidation_1-error:0.06000\n",
            "[86]\tvalidation_0-error:0.00000\tvalidation_1-error:0.06000\n",
            "[87]\tvalidation_0-error:0.00000\tvalidation_1-error:0.06000\n",
            "[88]\tvalidation_0-error:0.00000\tvalidation_1-error:0.06000\n",
            "[89]\tvalidation_0-error:0.00000\tvalidation_1-error:0.06000\n",
            "[90]\tvalidation_0-error:0.00000\tvalidation_1-error:0.06000\n",
            "[91]\tvalidation_0-error:0.00000\tvalidation_1-error:0.06000\n",
            "[92]\tvalidation_0-error:0.00000\tvalidation_1-error:0.06000\n",
            "[93]\tvalidation_0-error:0.00000\tvalidation_1-error:0.06000\n",
            "[94]\tvalidation_0-error:0.00000\tvalidation_1-error:0.06000\n",
            "[95]\tvalidation_0-error:0.00000\tvalidation_1-error:0.06000\n",
            "[96]\tvalidation_0-error:0.00000\tvalidation_1-error:0.06000\n",
            "[97]\tvalidation_0-error:0.00000\tvalidation_1-error:0.06000\n",
            "[98]\tvalidation_0-error:0.00000\tvalidation_1-error:0.06000\n",
            "[99]\tvalidation_0-error:0.00000\tvalidation_1-error:0.06000\n"
          ]
        },
        {
          "data": {
            "text/plain": [
              "XGBClassifier(base_score=0.5, booster='gbtree', colsample_bylevel=1,\n",
              "              colsample_bynode=1, colsample_bytree=1, gamma=0, gpu_id=-1,\n",
              "              importance_type='gain', interaction_constraints='',\n",
              "              learning_rate=0.300000012, max_delta_step=0, max_depth=6,\n",
              "              min_child_weight=1, missing=nan, monotone_constraints='()',\n",
              "              n_estimators=100, n_jobs=12, num_parallel_tree=1, random_state=0,\n",
              "              reg_alpha=0, reg_lambda=1, scale_pos_weight=1, subsample=1,\n",
              "              tree_method='exact', use_label_encoder=False,\n",
              "              validate_parameters=1, verbosity=None)"
            ]
          },
          "execution_count": 15,
          "metadata": {},
          "output_type": "execute_result"
        }
      ],
      "source": [
        "# Train and evaluate.\n",
        "xgb_model.fit(X_train, y_train, eval_metric=['error'], eval_set=[((X_train, y_train)),(X_test, y_test)])"
      ]
    },
    {
      "cell_type": "markdown",
      "metadata": {
        "pycharm": {
          "name": "#%% md\n"
        }
      },
      "source": [
        "**Note:** You can also use a pandas dataFrame instead of the numpy array."
      ]
    },
    {
      "cell_type": "markdown",
      "metadata": {
        "pycharm": {
          "name": "#%% md\n"
        }
      },
      "source": [
        "Plot the model performance evaluated during the training process to assess model overfitting."
      ]
    },
    {
      "cell_type": "code",
      "execution_count": 16,
      "metadata": {
        "pycharm": {
          "name": "#%%\n"
        }
      },
      "outputs": [],
      "source": [
        "# Import the library\n",
        "from matplotlib import pyplot\n",
        "\n",
        "%matplotlib inline"
      ]
    },
    {
      "cell_type": "code",
      "execution_count": 18,
      "metadata": {
        "pycharm": {
          "name": "#%%\n"
        }
      },
      "outputs": [
        {
          "data": {
            "image/png": "[encoded data removed]",
            "text/plain": [
              "<Figure size 576x432 with 1 Axes>"
            ]
          },
          "metadata": {
            "needs_background": "light"
          },
          "output_type": "display_data"
        }
      ],
      "source": [
        "# Plot and display the performance evaluation\n",
        "xgb_eval = xgb_model.evals_result()\n",
        "eval_steps = range(len(xgb_eval['validation_0']['error']))\n",
        "\n",
        "fig, ax = pyplot.subplots(1, 1, sharex=True, figsize=(8, 6))\n",
        "\n",
        "ax.plot(eval_steps, [1-x for x in xgb_eval['validation_0']['error']], label='Train')\n",
        "ax.plot(eval_steps, [1-x for x in xgb_eval['validation_1']['error']], label='Test')\n",
        "ax.legend()\n",
        "ax.set_title('Accuracy')\n",
        "ax.set_xlabel('Number of iterations');"
      ]
    },
    {
      "cell_type": "markdown",
      "metadata": {
        "pycharm": {
          "name": "#%% md\n"
        }
      },
      "source": [
        "You can see that there is model overfitting, and there is a decrease in model accuracy after about 60 iterations \n",
        "\n",
        "Select the trained model obtained after 30 iterations."
      ]
    },
    {
      "cell_type": "code",
      "execution_count": 19,
      "metadata": {
        "pycharm": {
          "name": "#%%\n"
        }
      },
      "outputs": [],
      "source": [
        "# Select trained model.\n",
        "n_trees = 30\n",
        "y_pred = xgb_model.predict(X_test, ntree_limit= n_trees)"
      ]
    },
    {
      "cell_type": "code",
      "execution_count": 20,
      "metadata": {
        "pycharm": {
          "name": "#%%\n"
        }
      },
      "outputs": [
        {
          "name": "stdout",
          "output_type": "stream",
          "text": [
            "Accuracy: 95.0%\n"
          ]
        }
      ],
      "source": [
        "# Check the accuracy of the trained model.\n",
        "accuracy = accuracy_score(y_test, y_pred)\n",
        "\n",
        "print(\"Accuracy: %.1f%%\" % (accuracy * 100.0))"
      ]
    },
    {
      "cell_type": "markdown",
      "metadata": {
        "pycharm": {
          "name": "#%% md\n"
        }
      },
      "source": [
        "**Note:** You will use the accuracy value obtained on the test data to compare the accuracy of the model with default parameters to the accuracy of the model with tuned parameters."
      ]
    },
    {
      "cell_type": "markdown",
      "metadata": {
        "pycharm": {
          "name": "#%% md\n"
        }
      },
      "source": [
        "#### 3.2.2. Use grid search and cross-validation to tune the model "
      ]
    },
    {
      "cell_type": "markdown",
      "metadata": {
        "pycharm": {
          "name": "#%% md\n"
        }
      },
      "source": [
        "You can use grid search and cross-validation to tune your model to achieve better accuracy.\n",
        "\n",
        "XGBoost has an extensive catalog of hyperparameters which provides great flexibility to shape an algorithm’s desired behavior. Here you will the optimize the model tuning which adds an L1 penalty (`reg_alpha`).\n",
        "\n",
        "Use a 5-fold cross-validation because your training data set is small."
      ]
    },
    {
      "cell_type": "markdown",
      "metadata": {
        "pycharm": {
          "name": "#%% md\n"
        }
      },
      "source": [
        "In the cell below, create the XGBoost pipeline and set up the parameter grid for the search."
      ]
    },
    {
      "cell_type": "code",
      "execution_count": 21,
      "metadata": {
        "pycharm": {
          "name": "#%%\n"
        }
      },
      "outputs": [],
      "source": [
        "# Create XGBoost pipeline, set up parameter grid.\n",
        "xgb_model_gs = XGBClassifier(eval_metric=['error'], use_label_encoder=False, n_jobs=1)\n",
        "parameters = {'reg_alpha': [0.0, 1.0], 'reg_lambda': [0.0, 1.0], 'n_estimators': [n_trees], 'seed': [1337]}"
      ]
    },
    {
      "cell_type": "markdown",
      "metadata": {
        "pycharm": {
          "name": "#%% md\n"
        }
      },
      "source": [
        "Use ``GridSearchCV`` to search for the best parameters over the parameters values that were specified in the previous section."
      ]
    },
    {
      "cell_type": "code",
      "execution_count": 22,
      "metadata": {
        "pycharm": {
          "name": "#%%\n"
        }
      },
      "outputs": [
        {
          "name": "stderr",
          "output_type": "stream",
          "text": [
            "[Parallel(n_jobs=-1)]: Using backend LokyBackend with 12 concurrent workers.\n",
            "[Parallel(n_jobs=-1)]: Done  16 out of  20 | elapsed:    3.3s remaining:    0.8s\n",
            "[Parallel(n_jobs=-1)]: Done  20 out of  20 | elapsed:    3.4s finished\n"
          ]
        },
        {
          "data": {
            "text/plain": [
              "GridSearchCV(cv=5,\n",
              "             estimator=XGBClassifier(base_score=None, booster=None,\n",
              "                                     colsample_bylevel=None,\n",
              "                                     colsample_bynode=None,\n",
              "                                     colsample_bytree=None,\n",
              "                                     eval_metric=['error'], gamma=None,\n",
              "                                     gpu_id=None, importance_type='gain',\n",
              "                                     interaction_constraints=None,\n",
              "                                     learning_rate=None, max_delta_step=None,\n",
              "                                     max_depth=None, min_child_weight=None,\n",
              "                                     missing=nan, monotone_constraints=None,\n",
              "                                     n_estimators=100, n_jobs=None,\n",
              "                                     num_parallel_tree=None, random_state=None,\n",
              "                                     reg_alpha=None, reg_lambda=None,\n",
              "                                     scale_pos_weight=None, subsample=None,\n",
              "                                     tree_method=None, use_label_encoder=False,\n",
              "                                     validate_parameters=None, verbosity=None),\n",
              "             n_jobs=-1,\n",
              "             param_grid={'n_estimators': [30], 'reg_alpha': [0.0, 1.0],\n",
              "                         'reg_lambda': [0.0, 1.0], 'seed': [1337]},\n",
              "             scoring='accuracy', verbose=-1)"
            ]
          },
          "execution_count": 22,
          "metadata": {},
          "output_type": "execute_result"
        }
      ],
      "source": [
        "# Search for the best parameters.\n",
        "clf = GridSearchCV(xgb_model_gs, parameters, scoring='accuracy', cv=5, verbose=-1, n_jobs=1, refit=True)\n",
        "clf.fit(X_train, y_train)"
      ]
    },
    {
      "cell_type": "markdown",
      "metadata": {
        "pycharm": {
          "name": "#%% md\n"
        }
      },
      "source": [
        "From the grid scores, you can see the performance result of all parameter combinations including the best parameter combination based on model performance."
      ]
    },
    {
      "cell_type": "markdown",
      "metadata": {
        "pycharm": {
          "name": "#%% md\n"
        }
      },
      "source": [
        "Display the accuracy estimated using cross-validation and the hyperparameter values for the best model."
      ]
    },
    {
      "cell_type": "code",
      "execution_count": 23,
      "metadata": {
        "pycharm": {
          "name": "#%%\n"
        },
        "scrolled": true
      },
      "outputs": [
        {
          "name": "stdout",
          "output_type": "stream",
          "text": [
            "Best score: 95.9%\n",
            "Best parameter set: {'n_estimators': 30, 'reg_alpha': 1.0, 'reg_lambda': 1.0, 'seed': 1337}\n"
          ]
        }
      ],
      "source": [
        "print(\"Best score: %.1f%%\" % (clf.best_score_*100))\n",
        "print(\"Best parameter set: %s\" % (clf.best_params_))"
      ]
    },
    {
      "cell_type": "markdown",
      "metadata": {
        "pycharm": {
          "name": "#%% md\n"
        }
      },
      "source": [
        "Display the accuracy of best parameter combination on the test set."
      ]
    },
    {
      "cell_type": "code",
      "execution_count": 24,
      "metadata": {
        "pycharm": {
          "name": "#%%\n"
        }
      },
      "outputs": [
        {
          "name": "stdout",
          "output_type": "stream",
          "text": [
            "Accuracy: 96.5%\n"
          ]
        }
      ],
      "source": [
        "y_pred = clf.best_estimator_.predict(X_test, ntree_limit= n_trees)\n",
        "\n",
        "accuracy = accuracy_score(y_test, y_pred)\n",
        "print(\"Accuracy: %.1f%%\" % (accuracy * 100.0))"
      ]
    },
    {
      "cell_type": "markdown",
      "metadata": {
        "pycharm": {
          "name": "#%% md\n"
        }
      },
      "source": [
        "The accuracy on test set is about the same for tuned model as it is for the trained model that has default hyperparameters values, even though the selected hyperparameters are different to the default parameters."
      ]
    },
    {
      "cell_type": "markdown",
      "metadata": {
        "pycharm": {
          "name": "#%% md\n"
        }
      },
      "source": [
        "#### 3.2.3. Model with pipeline data preprocessing"
      ]
    },
    {
      "cell_type": "markdown",
      "metadata": {
        "pycharm": {
          "name": "#%% md\n"
        }
      },
      "source": [
        "Here you learn how to use the XGBoost model within the scikit-learn pipeline. \n",
        "\n",
        "Let's start by importing the required objects."
      ]
    },
    {
      "cell_type": "code",
      "execution_count": 25,
      "metadata": {
        "pycharm": {
          "name": "#%%\n"
        }
      },
      "outputs": [],
      "source": [
        "from sklearn.pipeline import Pipeline\n",
        "from sklearn.decomposition import PCA"
      ]
    },
    {
      "cell_type": "code",
      "execution_count": 26,
      "metadata": {
        "pycharm": {
          "name": "#%%\n"
        }
      },
      "outputs": [],
      "source": [
        "pca = PCA(n_components=10)\n",
        "xgb_model_pca = XGBClassifier(n_estimators=n_trees, verbosity=1, eval_metric=['error'], use_label_encoder=False, n_jobs=1)\n",
        "pipeline = Pipeline(steps=[('pca', pca), ('xgb', xgb_model_pca)])"
      ]
    },
    {
      "cell_type": "code",
      "execution_count": 27,
      "metadata": {
        "pycharm": {
          "name": "#%%\n"
        }
      },
      "outputs": [
        {
          "data": {
            "text/plain": [
              "Pipeline(steps=[('pca', PCA(n_components=10)),\n",
              "                ('xgb',\n",
              "                 XGBClassifier(base_score=0.5, booster='gbtree',\n",
              "                               colsample_bylevel=1, colsample_bynode=1,\n",
              "                               colsample_bytree=1, eval_metric=['error'],\n",
              "                               gamma=0, gpu_id=-1, importance_type='gain',\n",
              "                               interaction_constraints='',\n",
              "                               learning_rate=0.300000012, max_delta_step=0,\n",
              "                               max_depth=6, min_child_weight=1, missing=nan,\n",
              "                               monotone_constraints='()', n_estimators=30,\n",
              "                               n_jobs=12, num_parallel_tree=1, random_state=0,\n",
              "                               reg_alpha=0, reg_lambda=1, scale_pos_weight=1,\n",
              "                               subsample=1, tree_method='exact',\n",
              "                               use_label_encoder=False, validate_parameters=1,\n",
              "                               verbosity=1))])"
            ]
          },
          "execution_count": 27,
          "metadata": {},
          "output_type": "execute_result"
        }
      ],
      "source": [
        "pipeline.fit(X_train, y_train)"
      ]
    },
    {
      "cell_type": "markdown",
      "metadata": {
        "pycharm": {
          "name": "#%% md\n"
        }
      },
      "source": [
        "Now you are ready to evaluate accuracy of the model trained on the reduced set of features."
      ]
    },
    {
      "cell_type": "code",
      "execution_count": 28,
      "metadata": {
        "pycharm": {
          "name": "#%%\n"
        }
      },
      "outputs": [
        {
          "name": "stdout",
          "output_type": "stream",
          "text": [
            "Accuracy: 94.5%\n"
          ]
        },
        {
          "data": {
            "text/plain": [
              "Pipeline(steps=[('pca', PCA(n_components=10)),\n",
              "                ('xgb',\n",
              "                 XGBClassifier(base_score=0.5, booster='gbtree',\n",
              "                               colsample_bylevel=1, colsample_bynode=1,\n",
              "                               colsample_bytree=1, eval_metric=['error'],\n",
              "                               gamma=0, gpu_id=-1, importance_type='gain',\n",
              "                               interaction_constraints='',\n",
              "                               learning_rate=0.300000012, max_delta_step=0,\n",
              "                               max_depth=6, min_child_weight=1, missing=nan,\n",
              "                               monotone_constraints='()', n_estimators=30,\n",
              "                               n_jobs=12, num_parallel_tree=1, random_state=0,\n",
              "                               reg_alpha=0, reg_lambda=1, scale_pos_weight=1,\n",
              "                               subsample=1, tree_method='exact',\n",
              "                               use_label_encoder=False, validate_parameters=1,\n",
              "                               verbosity=1))])"
            ]
          },
          "execution_count": 28,
          "metadata": {},
          "output_type": "execute_result"
        }
      ],
      "source": [
        "y_pred = pipeline.predict(X_test)\n",
        "accuracy = accuracy_score(y_test, y_pred)\n",
        "print(\"Accuracy: %.1f%%\" % (accuracy * 100.0))\n",
        "pipeline"
      ]
    },
    {
      "cell_type": "markdown",
      "metadata": {
        "pycharm": {
          "name": "#%% md\n"
        }
      },
      "source": [
        "You can see that this model has a similar accuracy to the model trained using default hyperparameter values."
      ]
    },
    {
      "cell_type": "markdown",
      "metadata": {
        "pycharm": {
          "name": "#%% md\n"
        }
      },
      "source": [
        "Let's see how you can save your XGBoost pipeline using the WML service instance and deploy it for online scoring."
      ]
    },
    {
      "cell_type": "markdown",
      "metadata": {
        "pycharm": {
          "name": "#%% md\n"
        }
      },
      "source": [
        "<a id=\"upload\"></a>\n",
        "## 4. Persist model"
      ]
    },
    {
      "cell_type": "markdown",
      "metadata": {
        "pycharm": {
          "name": "#%% md\n"
        }
      },
      "source": [
        "In this section you learn how to use the Python client libraries to store your XGBoost model in the WML repository."
      ]
    },
    {
      "cell_type": "markdown",
      "metadata": {
        "pycharm": {
          "name": "#%% md\n"
        }
      },
      "source": [
        "### Save the XGBoost model to the WML Repository\n",
        "\n",
        "Save the model artifact as *XGBoost model for breast cancer* to your WML instance.\n",
        "\n",
        "Get software specification for XGBoost."
      ]
    },
    {
      "cell_type": "code",
      "execution_count": 29,
      "metadata": {
        "pycharm": {
          "name": "#%%\n"
        }
      },
      "outputs": [
        {
          "data": {
            "text/plain": [
              "'ab9e1b80-f2ce-592c-a7d2-4f2344f77194'"
            ]
          },
          "execution_count": 29,
          "metadata": {},
          "output_type": "execute_result"
        }
      ],
      "source": [
        "software_spec_uid = client.software_specifications.get_uid_by_name('runtime-23.1-py3.10')\n",
        "software_spec_uid"
      ]
    },
    {
      "cell_type": "code",
      "execution_count": 30,
      "metadata": {
        "pycharm": {
          "name": "#%%\n"
        }
      },
      "outputs": [],
      "source": [
        "metadata = {\n",
        "    client.repository.ModelMetaNames.NAME: \"XGBoost model for breast cancer\",\n",
        "    client.repository.ModelMetaNames.TYPE: \"scikit-learn_1.1\",\n",
        "    client.repository.ModelMetaNames.SOFTWARE_SPEC_UID : software_spec_uid,\n",
        "}"
      ]
    },
    {
      "cell_type": "code",
      "execution_count": 31,
      "metadata": {
        "pycharm": {
          "name": "#%%\n"
        }
      },
      "outputs": [],
      "source": [
        "model_details = client.repository.store_model(pipeline, metadata)"
      ]
    },
    {
      "cell_type": "markdown",
      "metadata": {
        "pycharm": {
          "name": "#%% md\n"
        }
      },
      "source": [
        "Get the saved model metadata from WML."
      ]
    },
    {
      "cell_type": "markdown",
      "metadata": {
        "pycharm": {
          "name": "#%% md\n"
        }
      },
      "source": [
        "<a id=\"deploy\"></a>\n",
        "## 5. Deployment\n",
        "In this section you will learn how to create online deployment using the Watson Machine Learning Client.\n",
        "\n",
        "You can use commands bellow to create online deployment for stored model (web service).\n",
        "\n",
        "### 5.1: Create model deployment"
      ]
    },
    {
      "cell_type": "markdown",
      "metadata": {
        "pycharm": {
          "name": "#%% md\n"
        }
      },
      "source": [
        "You need the model uid to create the deployment. You can extract the model uid from the saved model details."
      ]
    },
    {
      "cell_type": "code",
      "execution_count": 32,
      "metadata": {
        "pycharm": {
          "name": "#%%\n"
        }
      },
      "outputs": [
        {
          "name": "stdout",
          "output_type": "stream",
          "text": [
            "572df224-e590-4c21-a474-bbb0c4cd3b77\n"
          ]
        }
      ],
      "source": [
        "# Extract the uid.\n",
        "model_uid = client.repository.get_model_uid(model_details)\n",
        "print(model_uid)"
      ]
    },
    {
      "cell_type": "markdown",
      "metadata": {
        "pycharm": {
          "name": "#%% md\n"
        }
      },
      "source": [
        "Use this modul_uid in the next section to create the deployment."
      ]
    },
    {
      "cell_type": "markdown",
      "metadata": {
        "pycharm": {
          "name": "#%% md\n"
        }
      },
      "source": [
        "Now you can create a deployment, *Predict breast cancer*."
      ]
    },
    {
      "cell_type": "code",
      "execution_count": 33,
      "metadata": {
        "pycharm": {
          "name": "#%%\n"
        }
      },
      "outputs": [
        {
          "name": "stdout",
          "output_type": "stream",
          "text": [
            "\n",
            "\n",
            "#######################################################################################\n",
            "\n",
            "Synchronous deployment creation for uid: '572df224-e590-4c21-a474-bbb0c4cd3b77' started\n",
            "\n",
            "#######################################################################################\n",
            "\n",
            "\n",
            "initializing\n",
            "Note: online_url is deprecated and will be removed in a future release. Use serving_urls instead.\n",
            "\n",
            "ready\n",
            "\n",
            "\n",
            "------------------------------------------------------------------------------------------------\n",
            "Successfully finished deployment creation, deployment_uid='4e8e9303-b9f3-4ff6-b183-ec273c16b032'\n",
            "------------------------------------------------------------------------------------------------\n",
            "\n",
            "\n"
          ]
        }
      ],
      "source": [
        "# Create the deployment.\n",
        "meta_props = {\n",
        "    client.deployments.ConfigurationMetaNames.NAME: \"Predict breast cancer'\",\n",
        "    client.deployments.ConfigurationMetaNames.ONLINE: {}\n",
        "}\n",
        "\n",
        "deployment_details = client.deployments.create(model_uid,meta_props)"
      ]
    },
    {
      "cell_type": "markdown",
      "metadata": {
        "pycharm": {
          "name": "#%% md\n"
        }
      },
      "source": [
        "Get a list of all deployments."
      ]
    },
    {
      "cell_type": "code",
      "execution_count": null,
      "metadata": {
        "pycharm": {
          "name": "#%%\n"
        }
      },
      "outputs": [],
      "source": [
        "# List the deployments.\n",
        "client.deployments.list()"
      ]
    },
    {
      "cell_type": "markdown",
      "metadata": {
        "pycharm": {
          "name": "#%% md\n"
        }
      },
      "source": [
        "The *Predict breast cancer model* has been successfully deployed."
      ]
    },
    {
      "cell_type": "markdown",
      "metadata": {
        "pycharm": {
          "name": "#%% md\n"
        }
      },
      "source": [
        "### 5.2 Get deployment details\n"
      ]
    },
    {
      "cell_type": "markdown",
      "metadata": {
        "pycharm": {
          "name": "#%% md\n"
        }
      },
      "source": [
        "To show deployments details, you need get deployment_uid."
      ]
    },
    {
      "cell_type": "code",
      "execution_count": null,
      "metadata": {
        "pycharm": {
          "name": "#%%\n"
        }
      },
      "outputs": [],
      "source": [
        "deployment_uid = client.deployments.get_uid(deployment_details)\n",
        "client.deployments.get_details(deployment_uid)"
      ]
    },
    {
      "cell_type": "markdown",
      "metadata": {
        "pycharm": {
          "name": "#%% md\n"
        }
      },
      "source": [
        "\n",
        "<a id=\"score\"></a>\n",
        "## 6. Score the model\n",
        "Let's see if our deployment works.\n"
      ]
    },
    {
      "cell_type": "markdown",
      "metadata": {
        "pycharm": {
          "name": "#%% md\n"
        }
      },
      "source": [
        "Now, extract the url endpoint, *scoring_url*, which will be used to send scoring requests."
      ]
    },
    {
      "cell_type": "code",
      "execution_count": 35,
      "metadata": {
        "pycharm": {
          "name": "#%%\n"
        }
      },
      "outputs": [],
      "source": [
        "deployment_id = client.deployments.get_id(deployment_details)"
      ]
    },
    {
      "cell_type": "markdown",
      "metadata": {
        "pycharm": {
          "name": "#%% md\n"
        }
      },
      "source": [
        "Prepare the scoring payload with the values to score."
      ]
    },
    {
      "cell_type": "code",
      "execution_count": 36,
      "metadata": {
        "pycharm": {
          "name": "#%%\n"
        }
      },
      "outputs": [
        {
          "name": "stdout",
          "output_type": "stream",
          "text": [
            "{'input_data': [{'values': [[12.23, 19.56, 78.54, 461.0, 0.09586, 0.08087, 0.04187, 0.04107, 0.1979, 0.06013, 0.3534, 1.326, 2.308, 27.24, 0.007514, 0.01779, 0.01401, 0.0114, 0.01503, 0.003338, 14.44, 28.36, 92.15, 638.4, 0.1429, 0.2042, 0.1377, 0.108, 0.2668, 0.08174]]}]}\n"
          ]
        }
      ],
      "source": [
        "# Prepare scoring payload.\n",
        "payload_scoring = {client.deployments.ScoringMetaNames.INPUT_DATA:\n",
        "    [\n",
        "        {\n",
        "        'values': [X_test[0].tolist()]\n",
        "        }\n",
        "   ]\n",
        "}\n",
        "print(payload_scoring)"
      ]
    },
    {
      "cell_type": "code",
      "execution_count": 37,
      "metadata": {
        "pycharm": {
          "name": "#%%\n"
        }
      },
      "outputs": [
        {
          "name": "stdout",
          "output_type": "stream",
          "text": [
            "{'predictions': [{'fields': ['prediction', 'probability'], 'values': [[0, [0.9749674201011658, 0.02503260038793087]]]}]}\n"
          ]
        }
      ],
      "source": [
        "# Perform prediction and display the result.\n",
        "response_scoring = client.deployments.score(deployment_id, payload_scoring)\n",
        "print(response_scoring)"
      ]
    },
    {
      "cell_type": "markdown",
      "metadata": {
        "pycharm": {
          "name": "#%% md\n"
        }
      },
      "source": [
        "**Result**: The patient record is classified as a benign tumor."
      ]
    },
    {
      "cell_type": "markdown",
      "metadata": {
        "pycharm": {
          "name": "#%% md\n"
        }
      },
      "source": [
        "<a id=\"cleanup\"></a>\n",
        "## 7. Clean up "
      ]
    },
    {
      "cell_type": "markdown",
      "metadata": {
        "pycharm": {
          "name": "#%% md\n"
        }
      },
      "source": [
        "If you want to clean up all created assets:\n",
        "- experiments\n",
        "- trainings\n",
        "- pipelines\n",
        "- model definitions\n",
        "- models\n",
        "- functions\n",
        "- deployments\n",
        "\n",
        "please follow up this sample [notebook](https://github.com/IBM/watson-machine-learning-samples/blob/master/cpd4.6/notebooks/python_sdk/instance-management/Machine%20Learning%20artifacts%20management.ipynb)."
      ]
    },
    {
      "cell_type": "markdown",
      "metadata": {
        "pycharm": {
          "name": "#%% md\n"
        }
      },
      "source": [
        "<a id=\"summary\"></a>\n",
        "## 8. Summary and next steps\n",
        "\n",
        "You successfully completed this notebook! You learned how to use Keras machine learning library as well as Watson Machine Learning for model creation and deployment. \n",
        "\n",
        "Check out our [Online Documentation](https://www.ibm.com/docs/en/cloud-paks/cp-data/4.5.x?topic=deploying-managing-models-functions) for more samples, tutorials, documentation, how-tos, and blog posts. \n",
        "\n",
        "### Authors\n",
        "\n",
        "**Wojciech Jargielo**, Software Engineer\n",
        "\n",
        "Copyright © 2020-2025 IBM. This notebook and its source code are released under the terms of the MIT License."
      ]
    }
  ],
  "metadata": {
    "kernelspec": {
      "display_name": "Python 3 (ipykernel)",
      "language": "python",
      "name": "python3"
    },
    "language_info": {
      "codemirror_mode": {
        "name": "ipython",
        "version": 3
      },
      "file_extension": ".py",
      "mimetype": "text/x-python",
      "name": "python",
      "nbconvert_exporter": "python",
      "pygments_lexer": "ipython3",
      "version": "3.10.8"
    }
  },
  "nbformat": 4,
  "nbformat_minor": 4
}
