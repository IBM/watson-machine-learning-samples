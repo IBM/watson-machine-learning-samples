{
  "cells": [
    {
      "cell_type": "markdown",
      "metadata": {},
      "source": [
        "# Use Python function to predict business area and action for car rental company with `ibm-watson-machine-learning`"
      ]
    },
    {
      "cell_type": "markdown",
      "metadata": {},
      "source": [
        "AI function with logic to sequentially call two models: BUSINESS_AREA and ACTION.\n",
        "\n",
        "You will use **car_rental_training** dataset.\n",
        "\n",
        "\n",
        "## Learning goals\n",
        "\n",
        "The learning goals of this notebook are:\n",
        "\n",
        "-  AI function definition\n",
        "-  Store AI function\n",
        "-  Deployment creation\n",
        "\n",
        "\n",
        "## Contents\n",
        "\n",
        "This notebook contains the following parts:\n",
        "1. [Setup](#setup)\n",
        "2. [Define AI function](#ai_function)\n",
        "3. [Store the AI function in the repository](#upload)\n",
        "4. [Deploy AI function](#deploy)\n",
        "5. [Clean up](#cleanup)\n",
        "6. [Summary](#summary)"
      ]
    },
    {
      "cell_type": "markdown",
      "metadata": {},
      "source": [
        "<a id=\"setup\"></a>\n",
        "## 1. Set up the environment\n",
        "\n",
        "Before you use the sample code in this notebook, you must perform the following setup tasks:\n",
        "\n",
        "-  Contact with your Cloud Pack for Data administrator and ask him for your account credentials"
      ]
    },
    {
      "cell_type": "markdown",
      "metadata": {},
      "source": [
        "### Connection to WML\n",
        "\n",
        "Authenticate the Watson Machine Learning service on IBM Cloud Pack for Data. You need to provide platform `url`, your `username` and `api_key`."
      ]
    },
    {
      "cell_type": "code",
      "execution_count": null,
      "metadata": {},
      "outputs": [],
      "source": [
        "username = 'PASTE YOUR USERNAME HERE'\n",
        "api_key = 'PASTE YOUR API_KEY HERE'\n",
        "url = 'PASTE THE PLATFORM URL HERE'"
      ]
    },
    {
      "cell_type": "code",
      "execution_count": 2,
      "metadata": {},
      "outputs": [],
      "source": [
        "wml_credentials = {\n",
        "    \"username\": username,\n",
        "    \"apikey\": api_key,\n",
        "    \"url\": url,\n",
        "    \"instance_id\": 'openshift',\n",
        "    \"version\": '4.6'\n",
        "}"
      ]
    },
    {
      "cell_type": "markdown",
      "metadata": {},
      "source": [
        "Alternatively you can use `username` and `password` to authenticate WML services.\n",
        "\n",
        "```\n",
        "wml_credentials = {\n",
        "    \"username\": ***,\n",
        "    \"password\": ***,\n",
        "    \"url\": ***,\n",
        "    \"instance_id\": 'openshift',\n",
        "    \"version\": '4.6'\n",
        "}\n",
        "\n",
        "```"
      ]
    },
    {
      "cell_type": "markdown",
      "metadata": {},
      "source": [
        "### Install and import the `ibm-watson-machine-learning` package\n",
        "**Note:** `ibm-watson-machine-learning` documentation can be found <a href=\"http://ibm-wml-api-pyclient.mybluemix.net/\" target=\"_blank\" rel=\"noopener no referrer\">here</a>."
      ]
    },
    {
      "cell_type": "code",
      "execution_count": null,
      "metadata": {},
      "outputs": [],
      "source": [
        "!pip install -U ibm-watson-machine-learning"
      ]
    },
    {
      "cell_type": "code",
      "execution_count": 3,
      "metadata": {},
      "outputs": [],
      "source": [
        "from ibm_watson_machine_learning import APIClient\n",
        "\n",
        "client = APIClient(wml_credentials)"
      ]
    },
    {
      "cell_type": "markdown",
      "metadata": {},
      "source": [
        "### Working with spaces\n",
        "\n",
        "First of all, you need to create a space that will be used for your work. If you do not have space already created, you can use `{PLATFORM_URL}/ml-runtime/spaces?context=icp4data` to create one.\n",
        "\n",
        "- Click New Deployment Space\n",
        "- Create an empty space\n",
        "- Go to space `Settings` tab\n",
        "- Copy `space_id` and paste it below\n",
        "\n",
        "**Tip**: You can also use SDK to prepare the space for your work. More information can be found [here](https://github.com/IBM/watson-machine-learning-samples/blob/master/cpd4.6/notebooks/python_sdk/instance-management/Space%20management.ipynb).\n",
        "\n",
        "**Action**: Assign space ID below"
      ]
    },
    {
      "cell_type": "code",
      "execution_count": null,
      "metadata": {},
      "outputs": [],
      "source": [
        "space_id = 'PASTE YOUR SPACE ID HERE'"
      ]
    },
    {
      "cell_type": "markdown",
      "metadata": {},
      "source": [
        "You can use `list` method to print all existing spaces."
      ]
    },
    {
      "cell_type": "code",
      "execution_count": null,
      "metadata": {},
      "outputs": [],
      "source": [
        "client.spaces.list(limit=10)"
      ]
    },
    {
      "cell_type": "markdown",
      "metadata": {},
      "source": [
        "To be able to interact with all resources available in Watson Machine Learning, you need to set **space** which you will be using."
      ]
    },
    {
      "cell_type": "code",
      "execution_count": 4,
      "metadata": {},
      "outputs": [
        {
          "data": {
            "text/plain": [
              "'SUCCESS'"
            ]
          },
          "execution_count": 4,
          "metadata": {},
          "output_type": "execute_result"
        }
      ],
      "source": [
        "client.set.default_space(space_id)"
      ]
    },
    {
      "cell_type": "markdown",
      "metadata": {},
      "source": [
        "<a id=\"ai_function\"></a>\n",
        "## 2. Define AI function"
      ]
    },
    {
      "cell_type": "markdown",
      "metadata": {},
      "source": [
        "In this section we define AI function and test it locally."
      ]
    },
    {
      "cell_type": "markdown",
      "metadata": {},
      "source": [
        "### Template\n",
        "\n",
        "We start with template version of AI function to present its structure in simplest case."
      ]
    },
    {
      "cell_type": "markdown",
      "metadata": {},
      "source": [
        "    # Template version\n",
        "\n",
        "    def score_template(payload):\n",
        "        \"\"\"AI function example.\n",
        "\n",
        "        # Here we present data schema to be used by function:\n",
        "        Example:\n",
        "        {\n",
        "          \"input_data\":\n",
        "              [{\n",
        "                \"fields\": [\"Gender\", \"Status\", \"Children\", \"Age\", \"Customer_Status\"],\n",
        "                \"values\": [\n",
        "                  [\"Male\", \"M\", 2, 48, \"Inactive\"],\n",
        "                  [\"Female\", \"S\", 0, 23, \"Inactive\"]\n",
        "                ]\n",
        "              }]\n",
        "        }\n",
        "        \"\"\"\n",
        "        fields = payload['input_data'][0]['fields'] + ['Prediction', 'Probability']\n",
        "        values = [record + [int(record[0] == 'Male'), 0.9] for record in payload['input_data'][0]['values']]\n",
        "        return { 'fields': fields, 'values': values }\n",
        "\n",
        "    template_payload = {'input_data': [{\"fields\": [],\n",
        "                        \"values\": [[\"Male\", \"M\", 2, 48, \"Inactive\"], [\"Female\", \"S\", 0, 23, \"Inactive\"]]}]}\n",
        "\n",
        "    print(score_template(template_payload))"
      ]
    },
    {
      "cell_type": "markdown",
      "metadata": {},
      "source": [
        "### Deployed models metadata extraction\n",
        "\n",
        "We have to identify model deployments to be used before we define AI function. We extract scoring url and information about model version."
      ]
    },
    {
      "cell_type": "markdown",
      "metadata": {},
      "source": [
        "We list all deployed models predicting `Action` and `Business Area` to select one to be used in the AI function."
      ]
    },
    {
      "cell_type": "code",
      "execution_count": null,
      "metadata": {},
      "outputs": [],
      "source": [
        "client.deployments.list()"
      ]
    },
    {
      "cell_type": "markdown",
      "metadata": {},
      "source": [
        "We select deployed model to predict `Business Area` and model to recommend `Action`. We have to extract deployments IDs.\n",
        "\n",
        "**Tip**: If you don't have required deployments ready yet, please refer to the following notebooks to prepare them:\n",
        "- [Bisnes area](https://github.com/IBM/watson-machine-learning-samples/blob/master/cpd4.6/notebooks/python_sdk/deployments/spark/cars-4-you/Use%20Spark%20to%20predict%20business%20area%20for%20car%20rental%20company.ipynb)\n",
        "- [Action Recommendation](https://github.com/IBM/watson-machine-learning-samples/blob/master/cpd4.6/notebooks/python_sdk/deployments/spark/cars-4-you/Use%20Spark%20to%20recommend%20mitigation%20for%20car%20rental%20company.ipynb)"
      ]
    },
    {
      "cell_type": "code",
      "execution_count": 5,
      "metadata": {},
      "outputs": [
        {
          "name": "stdout",
          "output_type": "stream",
          "text": [
            "Action deployment id: 87a4973b-7b66-49c5-bd51-d1493c2681a9\n",
            "Business area deployment id: dcb4d6d3-4165-49ad-bca6-9c6d27d9ae71\n"
          ]
        }
      ],
      "source": [
        "deployments = client.deployments.get_details()['resources']\n",
        "\n",
        "for x in deployments:\n",
        "    if (x['entity']['name'] == 'CARS4U - Action Recommendation model deployment'):\n",
        "        action_deployment_id = x['metadata']['id']\n",
        "    if (x['entity']['name'] == 'CARS4U - Business Area Prediction Model deployment'):\n",
        "        business_area_deployment_id = x['metadata']['id']\n",
        "        \n",
        "print(f\"Action deployment id: {action_deployment_id}\")\n",
        "print(f\"Business area deployment id: {business_area_deployment_id}\")"
      ]
    },
    {
      "cell_type": "markdown",
      "metadata": {},
      "source": [
        "### AI function definition\n",
        "\n",
        "We define AI function to be deployed in the IBM Cloud."
      ]
    },
    {
      "cell_type": "markdown",
      "metadata": {},
      "source": [
        "Put all parameters required to define AI function in dictionary."
      ]
    },
    {
      "cell_type": "code",
      "execution_count": 6,
      "metadata": {},
      "outputs": [],
      "source": [
        "ai_params = {\"wml_credentials\": wml_credentials, \n",
        "             \"space_id\": space_id,\n",
        "             \"action_deployment_id\": action_deployment_id, \n",
        "             \"business_area_deployment_id\": business_area_deployment_id}"
      ]
    },
    {
      "cell_type": "code",
      "execution_count": 7,
      "metadata": {},
      "outputs": [],
      "source": [
        "def score_generator(params=ai_params):\n",
        "    \n",
        "    from ibm_watson_machine_learning import APIClient\n",
        "\n",
        "    wml_credentials = params[\"wml_credentials\"]\n",
        "    space_id = params['space_id']\n",
        "    action_deployment_id = params[\"action_deployment_id\"]\n",
        "    business_area_deployment_id = params[\"business_area_deployment_id\"]\n",
        "\n",
        "    client = APIClient(wml_credentials)\n",
        "    client.set.default_space(space_id)\n",
        "\n",
        "    def score(payload):\n",
        "        \"\"\"AI function with model version.\n",
        "\n",
        "        Example:\n",
        "          {\"fields\": [\"ID\", \"Gender\", \"Status\", \"Children\", \"Age\", \"Customer_Status\", \"Car_Owner\", \"Customer_Service\", \"Satisfaction\"],\n",
        "           \"values\": [[2624, 'Male', 'S', 0, 49.27, 'Active', 'No', \"Good experience with all the rental co.'s I contacted. I Just called with rental dates and received pricing and selected rental co.\", 1]]}\n",
        "        \"\"\"\n",
        "        \n",
        "        fields = payload[\"input_data\"][0]['fields']\n",
        "        \n",
        "        scores_area = client.deployments.score(business_area_deployment_id, payload).get('predictions', [])\n",
        "        idx_area = [i for i, x in enumerate(scores_area[0][\"fields\"]) if (x == 'probability') or (x == 'predictedLabel')]\n",
        "\n",
        "        fields_from_action = fields + [\"predictedLabel\"]\n",
        "        \n",
        "        idx_from_action = set([i for i, x in enumerate(scores_area[0][\"fields\"]) if x in fields_from_action])\n",
        "        values_action = [[v for i, v in enumerate(rec) if i in idx_from_action] for rec in scores_area[0][\"values\"]]\n",
        "        \n",
        "        payload_action = {\n",
        "            \"input_data\": [\n",
        "                {\n",
        "                    \"fields\": fields + [\"Business_Area\"], \n",
        "                    \"values\": values_action\n",
        "                }\n",
        "            ]\n",
        "        }\n",
        "        \n",
        "        scores_action = client.deployments.score(action_deployment_id, payload_action).get('predictions', [])\n",
        "        idx_action = [i for i, x in enumerate(scores_action[0][\"fields\"]) if (x == 'probability') or (x == 'predictedLabel')]\n",
        "\n",
        "        values = [rec + [scores_area[0]['values'][i][idx_area[0]], scores_area[0]['values'][i][idx_area[1]], scores_action[0]['values'][i][idx_action[0]], scores_action[0]['values'][i][idx_action[1]]] for i, rec in enumerate(payload[\"input_data\"][0]['values'])]\n",
        "\n",
        "        fields = fields + ['Probability_Area', 'Prediction_Area'] + ['Probability_Action', 'Prediction_Action']\n",
        "\n",
        "        return {'predictions': [{'fields': fields, 'values': values}]}\n",
        "\n",
        "    return score"
      ]
    },
    {
      "cell_type": "markdown",
      "metadata": {},
      "source": [
        "### AI function local test\n",
        "\n",
        "Let's test defined AI function in notebook before we deploy it in the IBM Cloud. We start with preparing sample payload for `score` function."
      ]
    },
    {
      "cell_type": "code",
      "execution_count": 8,
      "metadata": {},
      "outputs": [],
      "source": [
        "sample_payload = {\n",
        "    \"input_data\": [\n",
        "        {\n",
        "            \"fields\": [\"ID\", \"Gender\", \"Status\", \"Children\", \"Age\", \"Customer_Status\", \"Car_Owner\", \"Customer_Service\", \"Satisfaction\"],\n",
        "            \"values\": [[2624, 'Male', 'S', 0, 49.27, 'Active', 'No', \"Good experience with all the rental co.'s I contacted. I Just called with rental dates and received pricing and selected rental co.\", 1]]\n",
        "        }       \n",
        "    ]\n",
        "}"
      ]
    },
    {
      "cell_type": "markdown",
      "metadata": {},
      "source": [
        "Let's test AI function locally before we deploy it to the IBM Cloud."
      ]
    },
    {
      "cell_type": "code",
      "execution_count": 9,
      "metadata": {},
      "outputs": [
        {
          "name": "stdout",
          "output_type": "stream",
          "text": [
            "{'predictions': [{'fields': ['ID', 'Gender', 'Status', 'Children', 'Age', 'Customer_Status', 'Car_Owner', 'Customer_Service', 'Satisfaction', 'Probability_Area', 'Prediction_Area', 'Probability_Action', 'Prediction_Action'], 'values': [[2624, 'Male', 'S', 0, 49.27, 'Active', 'No', \"Good experience with all the rental co.'s I contacted. I Just called with rental dates and received pricing and selected rental co.\", 1, [0.4711864406779661, 0.2745762711864407, 0.04067796610169491, 0.05423728813559322, 0.04406779661016949, 0.04745762711864407, 0.04406779661016949, 0.023728813559322035], 'Service: Knowledge', [1.0, 0.0, 0.0, 0.0, 0.0], 'NA']]}]}\n"
          ]
        }
      ],
      "source": [
        "score = score_generator()\n",
        "scores_ai = score(sample_payload)\n",
        "print(scores_ai)"
      ]
    },
    {
      "cell_type": "markdown",
      "metadata": {},
      "source": [
        "<a id=\"upload\"></a>\n",
        "## 3. Store the AI function in the repository"
      ]
    },
    {
      "cell_type": "markdown",
      "metadata": {},
      "source": [
        "In this section we store AI function to Watson machine Learning repository."
      ]
    },
    {
      "cell_type": "markdown",
      "metadata": {},
      "source": [
        "Required prerequisite to store AI function."
      ]
    },
    {
      "cell_type": "code",
      "execution_count": 10,
      "metadata": {},
      "outputs": [],
      "source": [
        "function_meta_props = {\n",
        "            client.repository.FunctionMetaNames.NAME: 'CARS4U - Business area and Action Prediction - AI Function',\n",
        "            client.repository.FunctionMetaNames.SOFTWARE_SPEC_ID: client.software_specifications.get_id_by_name(\"runtime-22.2-py3.10\")\n",
        "}"
      ]
    },
    {
      "cell_type": "code",
      "execution_count": 11,
      "metadata": {},
      "outputs": [],
      "source": [
        "function_details = client.repository.store_function(score_generator, function_meta_props)"
      ]
    },
    {
      "cell_type": "code",
      "execution_count": 12,
      "metadata": {},
      "outputs": [
        {
          "name": "stdout",
          "output_type": "stream",
          "text": [
            "Function Id: f81ac85b-2cc1-4301-a92c-951135c284f5\n"
          ]
        }
      ],
      "source": [
        "published_function_id = client.repository.get_function_id(function_details)\n",
        "\n",
        "print(\"Function Id: \" + str(published_function_id))"
      ]
    },
    {
      "cell_type": "code",
      "execution_count": null,
      "metadata": {},
      "outputs": [],
      "source": [
        "client.repository.get_function_details(published_function_id)"
      ]
    },
    {
      "cell_type": "markdown",
      "metadata": {},
      "source": [
        "<a id=\"deploy\"></a>\n",
        "## 4. Deploy AI function"
      ]
    },
    {
      "cell_type": "markdown",
      "metadata": {},
      "source": [
        "In this section we deploy AI function in the IBM Cloud and test created deployment using sample payload."
      ]
    },
    {
      "cell_type": "code",
      "execution_count": null,
      "metadata": {},
      "outputs": [],
      "source": [
        "client.deployments.list()"
      ]
    },
    {
      "cell_type": "code",
      "execution_count": 14,
      "metadata": {
        "scrolled": true
      },
      "outputs": [
        {
          "name": "stdout",
          "output_type": "stream",
          "text": [
            "\n",
            "\n",
            "#######################################################################################\n",
            "\n",
            "Synchronous deployment creation for uid: 'f81ac85b-2cc1-4301-a92c-951135c284f5' started\n",
            "\n",
            "#######################################################################################\n",
            "\n",
            "\n",
            "initializing...\n",
            "ready\n",
            "\n",
            "\n",
            "------------------------------------------------------------------------------------------------\n",
            "Successfully finished deployment creation, deployment_uid='07ff4ef1-5345-40eb-bae6-95cddbef4371'\n",
            "------------------------------------------------------------------------------------------------\n",
            "\n",
            "\n"
          ]
        }
      ],
      "source": [
        "deployment_details = client.deployments.create(\n",
        "    published_function_id, \n",
        "    meta_props={\n",
        "        client.deployments.ConfigurationMetaNames.NAME: \"CARS4U - Business area and Action Prediction - AI Function Deployment\",\n",
        "        client.deployments.ConfigurationMetaNames.ONLINE: {}\n",
        "    }\n",
        ")"
      ]
    },
    {
      "cell_type": "markdown",
      "metadata": {},
      "source": [
        "<a id=\"score\"></a>\n",
        "### AI function online deployment test\n",
        "\n",
        "Now we are ready to test created deployment."
      ]
    },
    {
      "cell_type": "code",
      "execution_count": 15,
      "metadata": {},
      "outputs": [],
      "source": [
        "fields = ['ID', 'Gender', 'Status', 'Children', 'Age', 'Customer_Status','Car_Owner', 'Customer_Service', 'Satisfaction']\n",
        "values = [3785, 'Male', 'S', 1, 17, 'Inactive', 'Yes', 'The car should have been brought to us instead of us trying to find it in the lot.', 0]"
      ]
    },
    {
      "cell_type": "code",
      "execution_count": 16,
      "metadata": {
        "scrolled": true
      },
      "outputs": [
        {
          "name": "stdout",
          "output_type": "stream",
          "text": [
            "{\n",
            "   \"predictions\": [\n",
            "      {\n",
            "         \"fields\": [\n",
            "            \"ID\",\n",
            "            \"Gender\",\n",
            "            \"Status\",\n",
            "            \"Children\",\n",
            "            \"Age\",\n",
            "            \"Customer_Status\",\n",
            "            \"Car_Owner\",\n",
            "            \"Customer_Service\",\n",
            "            \"Satisfaction\",\n",
            "            \"Probability_Area\",\n",
            "            \"Prediction_Area\",\n",
            "            \"Probability_Action\",\n",
            "            \"Prediction_Action\"\n",
            "         ],\n",
            "         \"values\": [\n",
            "            [\n",
            "               3785,\n",
            "               \"Male\",\n",
            "               \"S\",\n",
            "               1,\n",
            "               17,\n",
            "               \"Inactive\",\n",
            "               \"Yes\",\n",
            "               \"The car should have been brought to us instead of us trying to find it in the lot.\",\n",
            "               0,\n",
            "               [\n",
            "                  0.4711864406779661,\n",
            "                  0.2745762711864407,\n",
            "                  0.04067796610169491,\n",
            "                  0.05423728813559322,\n",
            "                  0.04406779661016949,\n",
            "                  0.04745762711864407,\n",
            "                  0.04406779661016949,\n",
            "                  0.023728813559322035\n",
            "               ],\n",
            "               \"Service: Knowledge\",\n",
            "               [\n",
            "                  0.0,\n",
            "                  0.0,\n",
            "                  1.0,\n",
            "                  0.0,\n",
            "                  0.0\n",
            "               ],\n",
            "               \"On-demand pickup location\"\n",
            "            ]\n",
            "         ]\n",
            "      }\n",
            "   ]\n",
            "}\n"
          ]
        }
      ],
      "source": [
        "import json\n",
        "\n",
        "payload_scoring = {\"input_data\": [{\"fields\": fields,\"values\": [values]}]}\n",
        "scoring_response = client.deployments.score(deployment_details['metadata']['id'], payload_scoring)\n",
        "\n",
        "print(json.dumps(scoring_response, indent=3))"
      ]
    },
    {
      "cell_type": "markdown",
      "metadata": {},
      "source": [
        "<a id=\"cleanup\"></a>\n",
        "## 5. Clean up "
      ]
    },
    {
      "cell_type": "markdown",
      "metadata": {},
      "source": [
        "If you want to clean up all created assets:\n",
        "- experiments\n",
        "- trainings\n",
        "- pipelines\n",
        "- model definitions\n",
        "- models\n",
        "- functions\n",
        "- deployments\n",
        "\n",
        "please follow up this sample [notebook](https://github.com/IBM/watson-machine-learning-samples/blob/master/cpd4.6/notebooks/python_sdk/instance-management/Machine%20Learning%20artifacts%20management.ipynb)."
      ]
    },
    {
      "cell_type": "markdown",
      "metadata": {},
      "source": [
        "<a id=\"summary\"></a>\n",
        "## 6. Summary and next steps     "
      ]
    },
    {
      "cell_type": "markdown",
      "metadata": {},
      "source": [
        " You successfully completed this notebook! You learned how to use Apache Spark machine learning as well as Watson Machine Learning for model creation and deployment. \n",
        " \n",
        "Check out our [Online Documentation](https://www.ibm.com/docs/en/cloud-paks/cp-data/4.5.x?topic=deploying-managing-models-functions) for more samples, tutorials, documentation, how-tos, and blog posts. "
      ]
    },
    {
      "cell_type": "markdown",
      "metadata": {},
      "source": [
        "### Authors\n",
        "\n",
        "**Amadeusz Masny**, Python Software Developer in Watson Machine Learning at IBM"
      ]
    },
    {
      "cell_type": "markdown",
      "metadata": {},
      "source": [
        "Copyright © 2020-2025 IBM. This notebook and its source code are released under the terms of the MIT License."
      ]
    }
  ],
  "metadata": {
    "kernelspec": {
      "display_name": "Python 3 (ipykernel)",
      "language": "python",
      "name": "python3"
    },
    "language_info": {
      "codemirror_mode": {
        "name": "ipython",
        "version": 3
      },
      "file_extension": ".py",
      "mimetype": "text/x-python",
      "name": "python",
      "nbconvert_exporter": "python",
      "pygments_lexer": "ipython3",
      "version": "3.9.11"
    }
  },
  "nbformat": 4,
  "nbformat_minor": 4
}
