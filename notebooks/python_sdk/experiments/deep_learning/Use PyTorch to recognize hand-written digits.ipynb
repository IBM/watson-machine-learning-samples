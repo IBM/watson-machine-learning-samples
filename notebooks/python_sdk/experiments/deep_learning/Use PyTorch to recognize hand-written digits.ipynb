{
 "cells": [
  {
   "cell_type": "markdown",
   "metadata": {},
   "source": [
    "# Use PyTorch to recognize hand-written digits with `ibm-watson-machine-learning`"
   ]
  },
  {
   "cell_type": "markdown",
   "metadata": {},
   "source": [
    "This notebook contains steps and code to demonstrate support of Deep Learning model training and scoring in Watson Machine Learning service. It introduces commands for getting data, training_definition persistance to Watson Machine Learning repository, model training, model persistance, model deployment and scoring.\n",
    "\n",
    "Some familiarity with Python is helpful. This notebook uses Python 3.\n",
    "\n",
    "\n",
    "## Learning goals\n",
    "\n",
    "The learning goals of this notebook are:\n",
    "\n",
    "-  Working with Watson Machine Learning service.\n",
    "-  Training Deep Learning models (TensorFlow).\n",
    "-  Saving trained models in Watson Machine Learning repository.\n",
    "-  Online deployment and scoring of trained model.\n",
    "\n",
    "\n",
    "## Contents\n",
    "\n",
    "This notebook contains the following parts:\n",
    "\n",
    "1.\t[Setup](#setup)\n",
    "2.\t[Create model definition](#model_def)\n",
    "3.\t[Train model](#training)\n",
    "4.  [Persist trained model](#persist)\n",
    "5.\t[Deploy and Score](#deploy)\n",
    "6.  [Clean up](#clean)\n",
    "7.\t[Summary and next steps](#summary)"
   ]
  },
  {
   "cell_type": "markdown",
   "metadata": {},
   "source": [
    "<a id=\"setup\"></a>\n",
    "## 1. Set up the environment\n",
    "\n",
    "Before you use the sample code in this notebook, you must perform the following setup tasks:\n",
    "\n",
    "-  Create a [Watson Machine Learning (WML) Service](https://console.ng.bluemix.net/catalog/services/ibm-watson-machine-learning/) instance (a free plan is offered and information about how to create the instance is [here](https://dataplatform.ibm.com/docs/content/analyze-data/wml-setup.html))\n",
    "-  Create a [Cloud Object Storage (COS)](https://console.bluemix.net/catalog/infrastructure/cloud-object-storage) instance (a lite plan is offered and information about how to order storage is [here](https://console.bluemix.net/docs/services/cloud-object-storage/basics/order-storage.html#order-storage)).\n",
    "    - After you create COS instance, go to your COS dashboard.\n",
    "    - In **Service credentials** tab, click **New Credential**.\n",
    "    - Add the inline configuration parameter: {[\"HMAC\"](https://console.bluemix.net/docs/services/cloud-object-storage/hmac/credentials.html#using-hmac-credentials):true}, click **Add**.\n",
    "\n",
    "    This configuration parameter adds the following section to the instance credentials, (for use later in this notebook):\n",
    "    ```\n",
    "      \"cos_hmac_keys\": {\n",
    "            \"access_key_id\": \"***\",\n",
    "            \"secret_access_key\": \"***\"\n",
    "       }\n",
    "    ```"
   ]
  },
  {
   "cell_type": "markdown",
   "metadata": {},
   "source": [
    "### 1.1 Working with Cloud Object Storage"
   ]
  },
  {
   "cell_type": "markdown",
   "metadata": {},
   "source": [
    "`ibm-cos-sdk` library allows Python developers to manage Cloud Object Storage (COS)."
   ]
  },
  {
   "cell_type": "code",
   "execution_count": 1,
   "metadata": {},
   "outputs": [],
   "source": [
    "import ibm_boto3\n",
    "import os\n",
    "import json\n",
    "from ibm_botocore.client import Config"
   ]
  },
  {
   "cell_type": "markdown",
   "metadata": {},
   "source": [
    "Enter your COS credentials in the following cell. \n",
    "You can find these credentials in your COS instance dashboard under the **Service credentials** tab.\n",
    "**Note** the HMAC key, described in [set up the environment](#setup) is included in these credentials."
   ]
  },
  {
   "cell_type": "code",
   "execution_count": 2,
   "metadata": {},
   "outputs": [],
   "source": [
    "cos_credentials = {\n",
    "  \"apikey\": \"***\",\n",
    "  \"cos_hmac_keys\": {\n",
    "    \"access_key_id\": \"***\",\n",
    "    \"secret_access_key\": \"***\"\n",
    "  },\n",
    "  \"endpoints\": \"***\",\n",
    "  \"iam_apikey_description\": \"***\",\n",
    "  \"iam_apikey_name\": \"***\",\n",
    "  \"iam_role_crn\": \"***\",\n",
    "  \"iam_serviceid_crn\": \"***\",\n",
    "  \"resource_instance_id\": \"***\"\n",
    "}\n",
    "\n",
    "api_key = cos_credentials['apikey']\n",
    "service_instance_id = cos_credentials['resource_instance_id']\n",
    "auth_endpoint = 'https://iam.bluemix.net/oidc/token'\n",
    "service_endpoint = 'https://s3.us-west.cloud-object-storage.test.appdomain.cloud'"
   ]
  },
  {
   "cell_type": "markdown",
   "metadata": {},
   "source": [
    "We create COS resource to be able to write data to Cloud Object Storage."
   ]
  },
  {
   "cell_type": "code",
   "execution_count": 3,
   "metadata": {},
   "outputs": [],
   "source": [
    "cos = ibm_boto3.resource('s3',\n",
    "                         ibm_api_key_id=api_key,\n",
    "                         ibm_service_instance_id=service_instance_id,\n",
    "                         ibm_auth_endpoint=auth_endpoint,\n",
    "                         config=Config(signature_version='oauth'),\n",
    "                         endpoint_url=service_endpoint)"
   ]
  },
  {
   "cell_type": "markdown",
   "metadata": {},
   "source": [
    "Let's create the buckets (they have to have unique names), we will use to store training data and training results."
   ]
  },
  {
   "cell_type": "code",
   "execution_count": 4,
   "metadata": {},
   "outputs": [],
   "source": [
    "from uuid import uuid4\n",
    "\n",
    "bucket_uid = str(uuid4())\n",
    "buckets = ['training-data-' + bucket_uid, 'training-results-' + bucket_uid]\n",
    "\n",
    "for bucket in buckets:\n",
    "    if not cos.Bucket(bucket) in cos.buckets.all():\n",
    "        print('Creating bucket \"{}\"...'.format(bucket))\n",
    "        try:\n",
    "            cos.create_bucket(Bucket=bucket)\n",
    "        except ibm_boto3.exceptions.ibm_botocore.client.ClientError as e:\n",
    "            print('Error: {}.'.format(e.response['Error']['Message']))"
   ]
  },
  {
   "cell_type": "markdown",
   "metadata": {},
   "source": [
    "Now we should have 2 buckets,"
   ]
  },
  {
   "cell_type": "markdown",
   "metadata": {},
   "source": [
    "### 1.2 Downloading training data and upload it to COS buckets."
   ]
  },
  {
   "cell_type": "markdown",
   "metadata": {},
   "source": [
    "Let's download our training data and upload them to 'training-data' bucket.\n",
    "We will create a list of links for training dataset"
   ]
  },
  {
   "cell_type": "code",
   "execution_count": 5,
   "metadata": {},
   "outputs": [],
   "source": [
    "data_links = ['http://yann.lecun.com/exdb/mnist/train-images-idx3-ubyte.gz',\n",
    "              'http://yann.lecun.com/exdb/mnist/train-labels-idx1-ubyte.gz',\n",
    "              'http://yann.lecun.com/exdb/mnist/t10k-images-idx3-ubyte.gz',\n",
    "              'http://yann.lecun.com/exdb/mnist/t10k-labels-idx1-ubyte.gz']"
   ]
  },
  {
   "cell_type": "markdown",
   "metadata": {},
   "source": [
    "Below snippet will upload files from links to your Cloud Object Storage."
   ]
  },
  {
   "cell_type": "code",
   "execution_count": 6,
   "metadata": {},
   "outputs": [
    {
     "name": "stdout",
     "output_type": "stream",
     "text": [
      "Uploading data train-images-idx3-ubyte.gz...\n",
      "train-images-idx3-ubyte.gz is uploaded.\n",
      "Uploading data train-labels-idx1-ubyte.gz...\n",
      "train-labels-idx1-ubyte.gz is uploaded.\n",
      "Uploading data t10k-images-idx3-ubyte.gz...\n",
      "t10k-images-idx3-ubyte.gz is uploaded.\n",
      "Uploading data t10k-labels-idx1-ubyte.gz...\n",
      "t10k-labels-idx1-ubyte.gz is uploaded.\n"
     ]
    }
   ],
   "source": [
    "from urllib.request import urlopen\n",
    "\n",
    "bucket_obj = cos.Bucket(buckets[0])\n",
    "\n",
    "for data_link in data_links:\n",
    "    filename=data_link.split('/')[-1]\n",
    "    print('Uploading data {}...'.format(filename))\n",
    "    with urlopen(data_link) as data:\n",
    "        bucket_obj.upload_fileobj(data, filename)\n",
    "        print('{} is uploaded.'.format(filename))"
   ]
  },
  {
   "cell_type": "markdown",
   "metadata": {},
   "source": [
    "Let's see the list of all created buckets and their contents."
   ]
  },
  {
   "cell_type": "code",
   "execution_count": null,
   "metadata": {},
   "outputs": [],
   "source": [
    "for bucket_name in buckets:\n",
    "    print(bucket_name)\n",
    "    bucket_obj = cos.Bucket(bucket_name)\n",
    "    for obj in bucket_obj.objects.all():\n",
    "        print(\"  File: {}, {:4.2f}kB\".format(obj.key, obj.size/1024))"
   ]
  },
  {
   "cell_type": "markdown",
   "metadata": {},
   "source": [
    "### 1.3 Connection to WML\n",
    "\n",
    "Authenticate the Watson Machine Learning service on IBM Cloud. You need to provide platform `api_key` and instance `location`.\n",
    "\n",
    "You can use [IBM Cloud CLI](https://cloud.ibm.com/docs/cli/index.html) to retrieve platform API Key and instance location.\n",
    "\n",
    "API Key can be generated in the following way:\n",
    "```\n",
    "ibmcloud login\n",
    "ibmcloud iam api-key-create API_KEY_NAME\n",
    "```\n",
    "\n",
    "In result, get the value of `api_key` from the output.\n",
    "\n",
    "\n",
    "Location of your WML instance can be retrieved in the following way:\n",
    "```\n",
    "ibmcloud login --apikey API_KEY -a https://cloud.ibm.com\n",
    "ibmcloud resource service-instance WML_INSTANCE_NAME\n",
    "```\n",
    "\n",
    "In result, get the value of `location` from the output."
   ]
  },
  {
   "cell_type": "markdown",
   "metadata": {},
   "source": [
    "**Tip**: Your `Cloud API key` can be generated by going to the [**Users** section of the Cloud console](https://cloud.ibm.com/iam#/users). From that page, click your name, scroll down to the **API Keys** section, and click **Create an IBM Cloud API key**. Give your key a name and click **Create**, then copy the created key and paste it below.\n",
    "\n",
    "You can also get service specific apikey by going to the [**Service IDs** section of the Cloud Console](https://cloud.ibm.com/iam/serviceids).  From that page, click **Create**, then copy the created key and paste it below.\n",
    "\n",
    "**Action**: Enter your `api_key` and `location` in the following cell."
   ]
  },
  {
   "cell_type": "code",
   "execution_count": 29,
   "metadata": {},
   "outputs": [],
   "source": [
    "api_key = 'PASTE YOUR PLATFORM API KEY HERE'\n",
    "location = 'PASTE YOUR INSTANCE LOCATION HERE'"
   ]
  },
  {
   "cell_type": "code",
   "execution_count": 2,
   "metadata": {},
   "outputs": [],
   "source": [
    "wml_credentials = {\n",
    "    \"apikey\": api_key,\n",
    "    \"url\": 'https://' + location + '.ml.cloud.ibm.com'\n",
    "}"
   ]
  },
  {
   "cell_type": "markdown",
   "metadata": {},
   "source": [
    "### Install and import the `ibm-watson-machine-learning` package\n",
    "**Note:** `ibm-watson-machine-learning` documentation can be found <a href=\"http://ibm-wml-api-pyclient.mybluemix.net/\" target=\"_blank\" rel=\"noopener no referrer\">here</a>."
   ]
  },
  {
   "cell_type": "code",
   "execution_count": null,
   "metadata": {},
   "outputs": [],
   "source": [
    "!pip install -U ibm-watson-machine-learning"
   ]
  },
  {
   "cell_type": "code",
   "execution_count": null,
   "metadata": {},
   "outputs": [],
   "source": [
    "from ibm_watson_machine_learning import APIClient\n",
    "\n",
    "client = APIClient(wml_credentials)"
   ]
  },
  {
   "cell_type": "markdown",
   "metadata": {},
   "source": [
    "### Working with spaces\n",
    "\n",
    "First of all, you need to create a space that will be used for your work. If you do not have space already created, you can use [Deployment Spaces Dashboard](https://dataplatform.cloud.ibm.com/ml-runtime/spaces?context=cpdaas) to create one.\n",
    "\n",
    "- Click New Deployment Space\n",
    "- Create an empty space\n",
    "- Select Cloud Object Storage\n",
    "- Select Watson Machine Learning instance and press Create\n",
    "- Copy `space_id` and paste it below\n",
    "\n",
    "**Tip**: You can also use SDK to prepare the space for your work. More information can be found [here](https://github.com/IBM/watson-machine-learning-samples/blob/master/notebooks/python_sdk/instance-management/Space%20management.ipynb).\n",
    "\n",
    "**Action**: Assign space ID below"
   ]
  },
  {
   "cell_type": "code",
   "execution_count": 3,
   "metadata": {},
   "outputs": [],
   "source": [
    "space_id = 'PASTE YOUR SPACE ID HERE'"
   ]
  },
  {
   "cell_type": "markdown",
   "metadata": {},
   "source": [
    "You can use `list` method to print all existing spaces."
   ]
  },
  {
   "cell_type": "code",
   "execution_count": null,
   "metadata": {},
   "outputs": [],
   "source": [
    "client.spaces.list(limit=10)"
   ]
  },
  {
   "cell_type": "markdown",
   "metadata": {},
   "source": [
    "To be able to interact with all resources available in Watson Machine Learning, you need to set **space** which you will be using."
   ]
  },
  {
   "cell_type": "code",
   "execution_count": 5,
   "metadata": {},
   "outputs": [
    {
     "data": {
      "text/plain": [
       "'SUCCESS'"
      ]
     },
     "execution_count": 5,
     "metadata": {},
     "output_type": "execute_result"
    }
   ],
   "source": [
    "client.set.default_space(space_id)"
   ]
  },
  {
   "cell_type": "markdown",
   "metadata": {},
   "source": [
    "We are done with Cloud Object Storage, we are ready to train our model!"
   ]
  },
  {
   "cell_type": "markdown",
   "metadata": {},
   "source": [
    "<a id=\"model_def\"></a>\n",
    "# 2. Create model definition"
   ]
  },
  {
   "cell_type": "markdown",
   "metadata": {},
   "source": [
    "### 2.1 Prepare model definition metadata"
   ]
  },
  {
   "cell_type": "code",
   "execution_count": 75,
   "metadata": {},
   "outputs": [],
   "source": [
    "model_definition_metadata = {\n",
    "    client.model_definitions.ConfigurationMetaNames.NAME: \"PyTorch Hand-written Digit Recognition\",\n",
    "    client.model_definitions.ConfigurationMetaNames.DESCRIPTION: \"PyTorch Hand-written Digit Recognition\",\n",
    "    client.model_definitions.ConfigurationMetaNames.COMMAND:  \"python3 torch_mnist.py --epochs 1\",\n",
    "    client.model_definitions.ConfigurationMetaNames.PLATFORM: {\"name\": \"python\", \"versions\": [\"3.6\"]},\n",
    "    client.model_definitions.ConfigurationMetaNames.VERSION: \"2.0\",\n",
    "    client.model_definitions.ConfigurationMetaNames.SPACE_UID: space_id\n",
    "}"
   ]
  },
  {
   "cell_type": "markdown",
   "metadata": {},
   "source": [
    "### 2.2  Get sample model definition content file from git"
   ]
  },
  {
   "cell_type": "code",
   "execution_count": null,
   "metadata": {},
   "outputs": [],
   "source": [
    "import wget\n",
    "\n",
    "filename='pytorch-model.zip'\n",
    "\n",
    "if not os.path.isfile(filename):\n",
    "    filename = wget.download('https://github.com/IBM/watson-machine-learning-samples/raw/master/definitions/pytorch/mnist/pytorch-model.zip')"
   ]
  },
  {
   "cell_type": "markdown",
   "metadata": {},
   "source": [
    "### 2.3  Publish model definition"
   ]
  },
  {
   "cell_type": "code",
   "execution_count": 121,
   "metadata": {},
   "outputs": [],
   "source": [
    "definition_details = client.model_definitions.store(filename, model_definition_metadata)"
   ]
  },
  {
   "cell_type": "code",
   "execution_count": 122,
   "metadata": {},
   "outputs": [
    {
     "name": "stdout",
     "output_type": "stream",
     "text": [
      "6ade5bb3-d158-4985-8737-8a2f485714a0\n"
     ]
    }
   ],
   "source": [
    "model_definition_id = client.model_definitions.get_id(definition_details)\n",
    "print(model_definition_id)"
   ]
  },
  {
   "cell_type": "markdown",
   "metadata": {},
   "source": [
    "#### List models definitions"
   ]
  },
  {
   "cell_type": "code",
   "execution_count": null,
   "metadata": {},
   "outputs": [],
   "source": [
    "client.model_definitions.list(limit=5)"
   ]
  },
  {
   "cell_type": "markdown",
   "metadata": {},
   "source": [
    "<a id=\"training\"></a>\n",
    "# 3. Train model"
   ]
  },
  {
   "cell_type": "markdown",
   "metadata": {},
   "source": [
    "### 3.1 Prepare training metadata"
   ]
  },
  {
   "cell_type": "code",
   "execution_count": 123,
   "metadata": {},
   "outputs": [],
   "source": [
    "training_metadata = training_metadata = {\n",
    "   client.training.ConfigurationMetaNames.NAME: \"PyTorch hand-written Digit Recognition\",\n",
    "    client.training.ConfigurationMetaNames.SPACE_UID: space_id,\n",
    "    client.training.ConfigurationMetaNames.DESCRIPTION: \"PyTorch hand-written Digit Recognition\",\n",
    "    client.training.ConfigurationMetaNames.TAGS :[{\n",
    "      \"value\": \"PyTorch_mnsit\",\n",
    "      \"description\": \"PyTorch mnist recognition\"\n",
    "    }],\n",
    "    client.training.ConfigurationMetaNames.TRAINING_RESULTS_REFERENCE:  {\n",
    "    \"name\": \"PyTorch MNIST results\",\n",
    "    \"connection\": {\n",
    "            \"endpoint_url\": service_endpoint,\n",
    "            \"access_key_id\": cos_credentials['cos_hmac_keys']['access_key_id'],\n",
    "            \"secret_access_key\": cos_credentials['cos_hmac_keys']['secret_access_key']\n",
    "      },\n",
    "      \"location\": {\n",
    "        \"bucket\": buckets[0]\n",
    "      },\n",
    "    \"type\": \"s3\"\n",
    "  },\n",
    "  client.training.ConfigurationMetaNames.MODEL_DEFINITION:{\n",
    "        \"id\": model_definition_id,\n",
    "        \"command\":  \"python3 torch_mnist.py --epochs 1\",\n",
    "        \"hardware_spec\": {\n",
    "          \"name\": \"K80\",\n",
    "          \"nodes\": 1\n",
    "        },\n",
    "        \"software_spec\": {\n",
    "          \"name\": \"pytorch-onnx_1.1-py3.6\"\n",
    "        },\n",
    "        \"parameters\": {\n",
    "          \"name\": \"PyTorch hand-written Digit Recognition\",\n",
    "          \"description\": \"PyTorch hand-written Digit Recognition\"\n",
    "        }\n",
    "  },\n",
    "  client.training.ConfigurationMetaNames.TRAINING_DATA_REFERENCES: [\n",
    "       {\n",
    "      \"name\": \"training_input_data\",\n",
    "      \"type\": \"s3\",\n",
    "      \"connection\": {\n",
    "        \"endpoint_url\": service_endpoint,\n",
    "        \"access_key_id\": cos_credentials['cos_hmac_keys']['access_key_id'],\n",
    "        \"secret_access_key\": cos_credentials['cos_hmac_keys']['secret_access_key']\n",
    "      },\n",
    "      \"location\": {\n",
    "        \"bucket\": buckets[1]\n",
    "      },\n",
    "      \"schema\": {\n",
    "        \"id\":\"idmlp_schema\",\n",
    "        \"fields\": [\n",
    "          {\n",
    "            \"name\": \"text\",\n",
    "            \"type\": \"string\"\n",
    "          }\n",
    "        ]\n",
    "      }\n",
    "    }\n",
    "  ]\n",
    "}"
   ]
  },
  {
   "cell_type": "markdown",
   "metadata": {},
   "source": [
    "### 3.2 Train the model in the background"
   ]
  },
  {
   "cell_type": "code",
   "execution_count": 124,
   "metadata": {},
   "outputs": [],
   "source": [
    "training = client.training.run(training_metadata)"
   ]
  },
  {
   "cell_type": "markdown",
   "metadata": {},
   "source": [
    "### 3.3 Get training id and status"
   ]
  },
  {
   "cell_type": "code",
   "execution_count": 125,
   "metadata": {},
   "outputs": [
    {
     "name": "stdout",
     "output_type": "stream",
     "text": [
      "4ee61056-bc71-4730-be2b-26b1bd3a37cc\n"
     ]
    }
   ],
   "source": [
    "training_id = client.training.get_uid(training)\n",
    "print(training_id)"
   ]
  },
  {
   "cell_type": "code",
   "execution_count": 159,
   "metadata": {
    "scrolled": true
   },
   "outputs": [
    {
     "data": {
      "text/plain": [
       "'completed'"
      ]
     },
     "execution_count": 159,
     "metadata": {},
     "output_type": "execute_result"
    }
   ],
   "source": [
    "client.training.get_status(training_id)['state']"
   ]
  },
  {
   "cell_type": "markdown",
   "metadata": {},
   "source": [
    "### 3.4 Get training details"
   ]
  },
  {
   "cell_type": "code",
   "execution_count": null,
   "metadata": {},
   "outputs": [],
   "source": [
    "training_details = client.training.get_details(training_id)\n",
    "print(json.dumps(training_details, indent=2))"
   ]
  },
  {
   "cell_type": "markdown",
   "metadata": {},
   "source": [
    "#### List trainings"
   ]
  },
  {
   "cell_type": "code",
   "execution_count": null,
   "metadata": {},
   "outputs": [],
   "source": [
    "client.training.list(limit=5)"
   ]
  },
  {
   "cell_type": "markdown",
   "metadata": {},
   "source": [
    "#### Cancel training"
   ]
  },
  {
   "cell_type": "markdown",
   "metadata": {},
   "source": [
    "You can cancel the training run by calling the method below.  \n",
    "**Tip**: If you want to  delete train runs and results add `hard_delete=True` as a parameter."
   ]
  },
  {
   "cell_type": "raw",
   "metadata": {},
   "source": [
    "client.training.cancel(training_id)"
   ]
  },
  {
   "cell_type": "markdown",
   "metadata": {},
   "source": [
    "<a id=\"persist\"></a>\n",
    "# 4. Persist trained model"
   ]
  },
  {
   "cell_type": "markdown",
   "metadata": {},
   "source": [
    "### 4.1 Download trained model from COS"
   ]
  },
  {
   "cell_type": "code",
   "execution_count": 160,
   "metadata": {},
   "outputs": [],
   "source": [
    "uid = client.training.get_details(training_id)['entity']['results_reference']['location']['logs']"
   ]
  },
  {
   "cell_type": "markdown",
   "metadata": {},
   "source": [
    "#### Download model from COS"
   ]
  },
  {
   "cell_type": "code",
   "execution_count": 161,
   "metadata": {},
   "outputs": [],
   "source": [
    "bucket_name = buckets[0]\n",
    "bucket_obj = cos.Bucket(bucket_name)\n",
    "\n",
    "model_path = \"\"\n",
    "for obj in bucket_obj.objects.iterator():\n",
    "    if uid in obj.key and obj.key.endswith(\".onnx\"):\n",
    "        model_path = obj.key\n",
    "        break\n",
    "\n",
    "model_name = model_path.split(\"/\")[-1]\n",
    "bucket_obj.download_file(model_path, model_name)"
   ]
  },
  {
   "cell_type": "markdown",
   "metadata": {},
   "source": [
    "#### Unpack model and compress it to tar.gz format"
   ]
  },
  {
   "cell_type": "code",
   "execution_count": 162,
   "metadata": {},
   "outputs": [
    {
     "name": "stdout",
     "output_type": "stream",
     "text": [
      "mnist_cnn.tar.gz\n"
     ]
    }
   ],
   "source": [
    "import tarfile\n",
    "    \n",
    "with tarfile.open(model_name.split('.')[0] + \".tar.gz\", \"w:gz\") as tar:\n",
    "    tar.add(model_name)\n",
    "    \n",
    "model_name = model_name.split('.')[0] + \".tar.gz\"\n",
    "print(model_name)"
   ]
  },
  {
   "cell_type": "markdown",
   "metadata": {},
   "source": [
    "### 4.2 Publish model"
   ]
  },
  {
   "cell_type": "code",
   "execution_count": 163,
   "metadata": {},
   "outputs": [],
   "source": [
    "software_spec_uid = client.software_specifications.get_uid_by_name('pytorch-onnx_1.2-py3.6')"
   ]
  },
  {
   "cell_type": "code",
   "execution_count": 167,
   "metadata": {},
   "outputs": [],
   "source": [
    "model_meta_props = {client.repository.ModelMetaNames.NAME: \"PyTorch Mnist Model\",\n",
    "                    client.repository.ModelMetaNames.TYPE: \"pytorch-onnx_1.2\",\n",
    "                    client.repository.ModelMetaNames.SOFTWARE_SPEC_UID: software_spec_uid\n",
    "                    }\n",
    "\n",
    "published_model_details = client.repository.store_model(model=model_name, meta_props=model_meta_props)\n",
    "model_uid = client.repository.get_model_uid(published_model_details)"
   ]
  },
  {
   "cell_type": "markdown",
   "metadata": {},
   "source": [
    "### 4.3 Get model details"
   ]
  },
  {
   "cell_type": "code",
   "execution_count": null,
   "metadata": {},
   "outputs": [],
   "source": [
    "model_details = client.repository.get_details(model_uid)\n",
    "print(json.dumps(model_details, indent=2))"
   ]
  },
  {
   "cell_type": "markdown",
   "metadata": {},
   "source": [
    "#### List stored models"
   ]
  },
  {
   "cell_type": "code",
   "execution_count": null,
   "metadata": {},
   "outputs": [],
   "source": [
    "client.repository.list_models(limit=5)"
   ]
  },
  {
   "cell_type": "markdown",
   "metadata": {},
   "source": [
    "<a id=\"deploy\"></a>\n",
    "# 5. Deploy and score"
   ]
  },
  {
   "cell_type": "markdown",
   "metadata": {},
   "source": [
    "### 5.1 Crate online deployment for published model"
   ]
  },
  {
   "cell_type": "markdown",
   "metadata": {},
   "source": [
    "You can deploy the stored model as a web service (online) by running code in the following cell."
   ]
  },
  {
   "cell_type": "code",
   "execution_count": 173,
   "metadata": {},
   "outputs": [
    {
     "name": "stdout",
     "output_type": "stream",
     "text": [
      "\n",
      "\n",
      "#######################################################################################\n",
      "\n",
      "Synchronous deployment creation for uid: '3e796458-a23e-49fe-bb3b-0a382ea0f510' started\n",
      "\n",
      "#######################################################################################\n",
      "\n",
      "\n",
      "initializing....\n",
      "ready\n",
      "\n",
      "\n",
      "------------------------------------------------------------------------------------------------\n",
      "Successfully finished deployment creation, deployment_uid='5a12c33d-cbf7-437e-a090-3d91a56e3f71'\n",
      "------------------------------------------------------------------------------------------------\n",
      "\n",
      "\n"
     ]
    }
   ],
   "source": [
    "deployment = client.deployments.create(model_uid, meta_props={\n",
    "                                            client.deployments.ConfigurationMetaNames.NAME:\"PyCharm Mnist deployment\",\n",
    "                                            client.deployments.ConfigurationMetaNames.ONLINE:{}})\n",
    "\n",
    "scoring_url = client.deployments.get_scoring_href(deployment)\n",
    "deployment_uid = client.deployments.get_uid(deployment)"
   ]
  },
  {
   "cell_type": "markdown",
   "metadata": {},
   "source": [
    "### 5.2 Get deployments details"
   ]
  },
  {
   "cell_type": "code",
   "execution_count": 175,
   "metadata": {},
   "outputs": [
    {
     "name": "stdout",
     "output_type": "stream",
     "text": [
      "{\n",
      "  \"entity\": {\n",
      "    \"asset\": {\n",
      "      \"id\": \"3e796458-a23e-49fe-bb3b-0a382ea0f510\"\n",
      "    },\n",
      "    \"custom\": {},\n",
      "    \"hardware_spec\": {\n",
      "      \"id\": \"Not_Applicable\",\n",
      "      \"name\": \"S\",\n",
      "      \"num_nodes\": 1\n",
      "    },\n",
      "    \"name\": \"PyCharm Mnist deployment\",\n",
      "    \"online\": {},\n",
      "    \"space_id\": \"74133c06-dce2-4dfc-b913-2e0dc8efc750\",\n",
      "    \"status\": {\n",
      "      \"online_url\": {\n",
      "        \"url\": \"https://wml-fvt.ml.test.cloud.ibm.com/ml/v4/deployments/5a12c33d-cbf7-437e-a090-3d91a56e3f71/predictions\"\n",
      "      },\n",
      "      \"state\": \"ready\"\n",
      "    }\n",
      "  },\n",
      "  \"metadata\": {\n",
      "    \"created_at\": \"2020-08-13T13:51:26.384Z\",\n",
      "    \"id\": \"5a12c33d-cbf7-437e-a090-3d91a56e3f71\",\n",
      "    \"modified_at\": \"2020-08-13T13:51:26.384Z\",\n",
      "    \"name\": \"PyCharm Mnist deployment\",\n",
      "    \"owner\": \"IBMid-5500067NJD\",\n",
      "    \"space_id\": \"74133c06-dce2-4dfc-b913-2e0dc8efc750\"\n",
      "  }\n",
      "}\n"
     ]
    }
   ],
   "source": [
    "deployments_details = client.deployments.get_details(deployment_uid)\n",
    "print(json.dumps(deployments_details, indent=2))"
   ]
  },
  {
   "cell_type": "markdown",
   "metadata": {},
   "source": [
    "### 5.3 Score deployed model"
   ]
  },
  {
   "cell_type": "markdown",
   "metadata": {},
   "source": [
    "Prepare sample scoring data to score deployed model."
   ]
  },
  {
   "cell_type": "code",
   "execution_count": null,
   "metadata": {},
   "outputs": [],
   "source": [
    "import wget\n",
    "\n",
    "dataset_filename='mnist.npz'\n",
    "\n",
    "if not os.path.isfile(dataset_filename):\n",
    "    dataset_filename = wget.download('https://github.com/IBM/watson-machine-learning-samples/raw/master/data/mnist/mnist.npz')"
   ]
  },
  {
   "cell_type": "code",
   "execution_count": 176,
   "metadata": {},
   "outputs": [],
   "source": [
    "import numpy as np\n",
    "\n",
    "mnist_dataset = np.load(dataset_filename)\n",
    "x_test = mnist_dataset['x_test']"
   ]
  },
  {
   "cell_type": "code",
   "execution_count": 177,
   "metadata": {},
   "outputs": [],
   "source": [
    "image_1 = [x_test[0].tolist()]\n",
    "image_2 = [x_test[1].tolist()]"
   ]
  },
  {
   "cell_type": "code",
   "execution_count": 178,
   "metadata": {},
   "outputs": [],
   "source": [
    "%matplotlib inline\n",
    "import matplotlib.pyplot as plt"
   ]
  },
  {
   "cell_type": "code",
   "execution_count": 179,
   "metadata": {},
   "outputs": [
    {
     "data": {
      "image/png": "[encoded data removed]",
      "text/plain": [
       "<Figure size 432x288 with 2 Axes>"
      ]
     },
     "metadata": {
      "needs_background": "light"
     },
     "output_type": "display_data"
    }
   ],
   "source": [
    "for i, image in enumerate([x_test[0], x_test[1]]):\n",
    "    plt.subplot(2, 2, i + 1)\n",
    "    plt.axis('off')\n",
    "    plt.imshow(image, cmap=plt.cm.gray_r, interpolation='nearest')"
   ]
  },
  {
   "cell_type": "markdown",
   "metadata": {},
   "source": [
    "Build scoring dictionary consisting of two digits and send it to deployed model to get predictions."
   ]
  },
  {
   "cell_type": "code",
   "execution_count": 180,
   "metadata": {},
   "outputs": [
    {
     "name": "stdout",
     "output_type": "stream",
     "text": [
      "Scoring result:\n",
      "{\n",
      "  \"predictions\": [\n",
      "    {\n",
      "      \"values\": [\n",
      "        [\n",
      "          0.0,\n",
      "          0.0,\n",
      "          0.0,\n",
      "          0.0,\n",
      "          0.0,\n",
      "          0.0,\n",
      "          0.0,\n",
      "          1.0,\n",
      "          0.0,\n",
      "          0.0\n",
      "        ],\n",
      "        [\n",
      "          0.0,\n",
      "          0.0,\n",
      "          1.0,\n",
      "          0.0,\n",
      "          0.0,\n",
      "          0.0,\n",
      "          0.0,\n",
      "          0.0,\n",
      "          0.0,\n",
      "          0.0\n",
      "        ]\n",
      "      ]\n",
      "    }\n",
      "  ]\n",
      "}\n"
     ]
    }
   ],
   "source": [
    "scoring_payload = {\n",
    "    client.deployments.ScoringMetaNames.INPUT_DATA : [\n",
    "        {'values': [image_1, image_2]}\n",
    "    ]\n",
    "}\n",
    "scores = client.deployments.score(deployment_uid, meta_props=scoring_payload)\n",
    "print(\"Scoring result:\\n\" + json.dumps(scores, indent=2))"
   ]
  },
  {
   "cell_type": "markdown",
   "metadata": {},
   "source": [
    "#### List deployments"
   ]
  },
  {
   "cell_type": "code",
   "execution_count": null,
   "metadata": {},
   "outputs": [],
   "source": [
    "client.deployments.list(limit=5)"
   ]
  },
  {
   "cell_type": "markdown",
   "metadata": {},
   "source": [
    "<a id=\"clean\"></a>\n",
    "# 6. Clean up"
   ]
  },
  {
   "cell_type": "markdown",
   "metadata": {},
   "source": [
    "If you want to clean up all created assets:\n",
    "- experiments\n",
    "- trainings\n",
    "- pipelines\n",
    "- model definitions\n",
    "- models\n",
    "- functions\n",
    "- deployments\n",
    "\n",
    "please follow up this sample [notebook](https://github.com/IBM/watson-machine-learning-samples/blob/master/notebooks/python_sdk/instance-management/Machine%20Learning%20artifacts%20management.ipynb)."
   ]
  },
  {
   "cell_type": "markdown",
   "metadata": {},
   "source": [
    "<a id=\"summary\"></a>\n",
    "# 7. Summary and next steps     "
   ]
  },
  {
   "cell_type": "markdown",
   "metadata": {},
   "source": [
    " You successfully completed this notebook! You learned how to use `ibm-watson-machine-learning-client` to train and score PyTorch models. Check out our [Online Documentation](https://dataplatform.ibm.com/docs/content/analyze-data/wml-setup.html) for more samples, tutorials, documentation, how-tos, and blog posts. "
   ]
  },
  {
   "cell_type": "markdown",
   "metadata": {},
   "source": [
    "### Author\n",
    "\n",
    "**Jan Sołtysik**, Intern in Watson Machine Learning."
   ]
  },
  {
   "cell_type": "markdown",
   "metadata": {},
   "source": [
    "Copyright © 2020 IBM. This notebook and its source code are released under the terms of the MIT License."
   ]
  }
 ],
 "metadata": {
  "kernelspec": {
   "display_name": "Python 3",
   "language": "python",
   "name": "python3"
  },
  "language_info": {
   "codemirror_mode": {
    "name": "ipython",
    "version": 3
   },
   "file_extension": ".py",
   "mimetype": "text/x-python",
   "name": "python",
   "nbconvert_exporter": "python",
   "pygments_lexer": "ipython3",
   "version": "3.6.10"
  }
 },
 "nbformat": 4,
 "nbformat_minor": 4
}
