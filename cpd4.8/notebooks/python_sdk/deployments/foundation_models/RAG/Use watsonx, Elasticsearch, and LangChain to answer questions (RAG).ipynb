{
  "cells": [
    {
      "attachments": {},
      "cell_type": "markdown",
      "metadata": {},
      "source": [
        "![image](https://raw.githubusercontent.com/IBM/watson-machine-learning-samples/master/cloud/notebooks/headers/watsonx-Prompt_Lab-Notebook.png)\n",
        "# Use watsonx, Elasticsearch, and LangChain to answer questions (RAG)"
      ]
    },
    {
      "attachments": {},
      "cell_type": "markdown",
      "metadata": {},
      "source": [
        "#### Disclaimers\n",
        "\n",
        "- Use only Projects and Spaces that are available in watsonx context.\n",
        "\n",
        "## Notebook content\n",
        "\n",
        "This notebook contains the steps and code to demonstrate support of Retrieval Augumented Generation in watsonx.ai. It introduces commands for data retrieval, knowledge base building & querying, and model testing.\n",
        "\n",
        "Some familiarity with Python is helpful. This notebook uses Python 3.10.\n",
        "\n",
        "#### About Retrieval Augmented Generation\n",
        "Retrieval Augmented Generation (RAG) is a versatile pattern that can unlock a number of use cases requiring factual recall of information, such as querying a knowledge base in natural language.\n",
        "\n",
        "In its simplest form, RAG requires 3 steps:\n",
        "\n",
        "- Index knowledge base passages (once)\n",
        "- Retrieve relevant passage(s) from knowledge base (for every user query)\n",
        "- Generate a response by feeding retrieved passage into a large language model (for every user query)\n",
        "\n",
        "## Contents\n",
        "\n",
        "This notebook contains the following parts:\n",
        "\n",
        "- [Setup](#setup)\n",
        "- [Data (test) loading](#data)\n",
        "- [Foundation Models on watsonx](#models)\n",
        "- [Basic information how to connect to Elasticsearch](#elastic_conn)\n",
        "- **[Set up ElasticsearchStore (Langchain)](#elasticsearchstore)**\n",
        "    - [Embed and index documents with Elasticsearch](#elasticsearchstore_index)\n",
        "    - [Generate a retrieval-augmented response to a question](#predict)\n",
        "\n"
      ]
    },
    {
      "attachments": {},
      "cell_type": "markdown",
      "metadata": {},
      "source": [
        "<a id=\"setup\"></a>\n",
        "## Set up the environment\n",
        "\n",
        "Before you use the sample code in this notebook, you must perform the following setup tasks:\n",
        "\n",
        "-  Contact with your Cloud Pack for Data administrator and ask him for your account credentials\n"
      ]
    },
    {
      "attachments": {},
      "cell_type": "markdown",
      "metadata": {},
      "source": [
        "### Install and import dependecies"
      ]
    },
    {
      "cell_type": "code",
      "execution_count": null,
      "metadata": {},
      "outputs": [],
      "source": [
        "!pip install \"langchain>=0.0.345\" | tail -n 1\n",
        "!pip install elasticsearch | tail -n 1\n",
        "!pip install sentence_transformers | tail -n 1\n",
        "!pip install humanize | tail -n 1\n",
        "!pip install pandas | tail -n 1\n",
        "!pip install rouge_score | tail -n 1\n",
        "!pip install nltk | tail -n 1\n",
        "!pip install wget | tail -n 1\n",
        "!pip install \"pydantic==1.10.0\" | tail -n 1\n",
        "!pip install \"ibm-watson-machine-learning>=1.0.327\" | tail -n 1"
      ]
    },
    {
      "cell_type": "code",
      "execution_count": 3,
      "metadata": {},
      "outputs": [],
      "source": [
        "import os, getpass\n",
        "import pandas as pd\n",
        "import humanize\n",
        "import random\n",
        "from typing import Optional, Any, Iterable, List"
      ]
    },
    {
      "attachments": {},
      "cell_type": "markdown",
      "metadata": {},
      "source": [
        "### Connection to WML\n",
        "\n",
        "Authenticate the Watson Machine Learning service on IBM Cloud Pack for Data. You need to provide platform `url`, your `username` and `api_key`."
      ]
    },
    {
      "cell_type": "code",
      "execution_count": 3,
      "metadata": {
        "scrolled": true
      },
      "outputs": [],
      "source": [
        "username = 'PASTE YOUR USERNAME HERE'\n",
        "api_key = 'PASTE YOUR API_KEY HERE'\n",
        "url = 'PASTE THE PLATFORM URL HERE'"
      ]
    },
    {
      "cell_type": "code",
      "execution_count": 5,
      "metadata": {},
      "outputs": [],
      "source": [
        "wml_credentials = {\n",
        "    \"username\": username,\n",
        "    \"apikey\": api_key,\n",
        "    \"url\": url,\n",
        "    \"instance_id\": 'openshift',\n",
        "    \"version\": '4.8'\n",
        "}"
      ]
    },
    {
      "cell_type": "markdown",
      "metadata": {},
      "source": [
        "Alternatively you can use `username` and `password` to authenticate WML services.\n",
        "\n",
        "```\n",
        "wml_credentials = {\n",
        "    \"username\": ***,\n",
        "    \"password\": ***,\n",
        "    \"url\": ***,\n",
        "    \"instance_id\": 'openshift',\n",
        "    \"version\": '4.8'\n",
        "}\n",
        "\n",
        "```"
      ]
    },
    {
      "attachments": {},
      "cell_type": "markdown",
      "metadata": {},
      "source": [
        "### Defining the project id\n",
        "The Foundation Model requires project id that provides the context for the call. We will obtain the id from the project in which this notebook runs. Otherwise, please provide the project id.\n"
      ]
    },
    {
      "cell_type": "code",
      "execution_count": 6,
      "metadata": {},
      "outputs": [],
      "source": [
        "try:\n",
        "    project_id = os.environ[\"PROJECT_ID\"]\n",
        "except KeyError:\n",
        "    project_id = input(\"Please enter your project_id (hit enter): \")"
      ]
    },
    {
      "attachments": {},
      "cell_type": "markdown",
      "metadata": {},
      "source": [
        "<a id=\"data\"></a>\n",
        "## Data (test) loading"
      ]
    },
    {
      "attachments": {},
      "cell_type": "markdown",
      "metadata": {},
      "source": [
        "Download the test dataset. This dataset is used to calculate the metrics score for selected model, defined prompts and parameters."
      ]
    },
    {
      "cell_type": "code",
      "execution_count": 7,
      "metadata": {},
      "outputs": [],
      "source": [
        "import wget\n",
        "\n",
        "questions_test_filename = 'questions_test.csv'\n",
        "questions_train_filename = 'questions_train.csv'\n",
        "questions_test_url = 'https://raw.github.com/IBM/watson-machine-learning-samples/master/cloud/data/RAG/questions_test.csv'\n",
        "questions_train_url = 'https://raw.github.com/IBM/watson-machine-learning-samples/master/cloud/data/RAG/questions_train.csv'\n",
        "\n",
        "\n",
        "if not os.path.isfile(questions_test_filename): \n",
        "    wget.download(questions_test_url, out=questions_test_filename)\n",
        "\n",
        "\n",
        "if not os.path.isfile(questions_train_filename): \n",
        "    wget.download(questions_train_url, out=questions_train_filename)"
      ]
    },
    {
      "cell_type": "code",
      "execution_count": 8,
      "metadata": {},
      "outputs": [],
      "source": [
        "filename_test = './questions_test.csv'\n",
        "filename_train =  './questions_train.csv'\n",
        "\n",
        "test_data = pd.read_csv(filename_test)\n",
        "train_data = pd.read_csv(filename_train)"
      ]
    },
    {
      "attachments": {},
      "cell_type": "markdown",
      "metadata": {},
      "source": [
        "Inspect data sample"
      ]
    },
    {
      "cell_type": "code",
      "execution_count": 9,
      "metadata": {},
      "outputs": [
        {
          "data": {
            "text/html": [
              "<div>\n",
              "<style scoped>\n",
              "    .dataframe tbody tr th:only-of-type {\n",
              "        vertical-align: middle;\n",
              "    }\n",
              "\n",
              "    .dataframe tbody tr th {\n",
              "        vertical-align: top;\n",
              "    }\n",
              "\n",
              "    .dataframe thead th {\n",
              "        text-align: right;\n",
              "    }\n",
              "</style>\n",
              "<table border=\"1\" class=\"dataframe\">\n",
              "  <thead>\n",
              "    <tr style=\"text-align: right;\">\n",
              "      <th></th>\n",
              "      <th>qid</th>\n",
              "      <th>question</th>\n",
              "      <th>answers</th>\n",
              "    </tr>\n",
              "  </thead>\n",
              "  <tbody>\n",
              "    <tr>\n",
              "      <th>0</th>\n",
              "      <td>1961</td>\n",
              "      <td>where does diffusion occur in the excretory sy...</td>\n",
              "      <td>diffusion</td>\n",
              "    </tr>\n",
              "    <tr>\n",
              "      <th>1</th>\n",
              "      <td>7528</td>\n",
              "      <td>when did the us join world war one</td>\n",
              "      <td>April 6 , 1917</td>\n",
              "    </tr>\n",
              "    <tr>\n",
              "      <th>2</th>\n",
              "      <td>8685</td>\n",
              "      <td>who played wilma in the movie the flintstones</td>\n",
              "      <td>Elizabeth Perkins</td>\n",
              "    </tr>\n",
              "    <tr>\n",
              "      <th>3</th>\n",
              "      <td>6716</td>\n",
              "      <td>when was the office of the vice president created</td>\n",
              "      <td>1787</td>\n",
              "    </tr>\n",
              "    <tr>\n",
              "      <th>4</th>\n",
              "      <td>2916</td>\n",
              "      <td>where does carbon fixation occur in c4 plants</td>\n",
              "      <td>in the mesophyll cells</td>\n",
              "    </tr>\n",
              "  </tbody>\n",
              "</table>\n",
              "</div>"
            ],
            "text/plain": [
              "    qid                                           question  \\\n",
              "0  1961  where does diffusion occur in the excretory sy...   \n",
              "1  7528                 when did the us join world war one   \n",
              "2  8685      who played wilma in the movie the flintstones   \n",
              "3  6716  when was the office of the vice president created   \n",
              "4  2916      where does carbon fixation occur in c4 plants   \n",
              "\n",
              "                  answers  \n",
              "0               diffusion  \n",
              "1          April 6 , 1917  \n",
              "2       Elizabeth Perkins  \n",
              "3                    1787  \n",
              "4  in the mesophyll cells  "
            ]
          },
          "execution_count": 9,
          "metadata": {},
          "output_type": "execute_result"
        }
      ],
      "source": [
        "train_data.head()"
      ]
    },
    {
      "attachments": {},
      "cell_type": "markdown",
      "metadata": {},
      "source": [
        "### Build up knowledge base\n",
        "\n",
        "The current state-of-the-art in RAG is to create dense vector representations of the knowledge base in order to calculate the semantic similarity to a given user query.\n",
        "\n",
        "We can generate dense vector representations using embedding models. In this notebook, we use <a href=\"https://www.sbert.net/\" target=\"_blank\" rel=\"noopener no referrer\">Sentence Transformers</a> <a href=\"https://huggingface.co/sentence-transformers/all-MiniLM-L6-v2\" target=\"_blank\" rel=\"noopener no referrer\">all-MiniLM-L6-v2</a> to embed both the knowledge base passages and user queries. `all-MiniLM-L6-v2` is a performant open-source model that is small enough to run locally.\n",
        "\n",
        "A vector database is optimized for dense vector indexing and retrieval. This notebook uses <a href=\"https://python.langchain.com/docs/integrations/vectorstores/elasticsearch#basic-example\" target=\"_blank\" rel=\"noopener no referrer\">Elasticsearch</a>, a distributed, RESTful search and analytics engine, capable of performing both vector and lexical search. It is built on top of the Apache Lucene library, which offers good speed and performance with all-MiniLM-L6-v2 embedding model."
      ]
    },
    {
      "attachments": {},
      "cell_type": "markdown",
      "metadata": {},
      "source": [
        "The dataset we are using is already split into self-contained passages that can be ingested by Elasticsearch. \n",
        "\n",
        "The size of each passage is limited by the embedding model's context window (which is 256 tokens for `all-MiniLM-L6-v2`)."
      ]
    },
    {
      "attachments": {},
      "cell_type": "markdown",
      "metadata": {},
      "source": [
        "### Load knowledge base documents\n",
        "\n",
        "Load set of documents used further to build knowledge base. "
      ]
    },
    {
      "cell_type": "code",
      "execution_count": 10,
      "metadata": {},
      "outputs": [],
      "source": [
        "knowledge_base_dir = \"./knowledge_base\""
      ]
    },
    {
      "cell_type": "code",
      "execution_count": 11,
      "metadata": {},
      "outputs": [],
      "source": [
        "my_path = f\"{os.getcwd()}/knowledge_base\"\n",
        "if not os.path.isdir(my_path):\n",
        "   os.makedirs(my_path)"
      ]
    },
    {
      "cell_type": "code",
      "execution_count": 12,
      "metadata": {},
      "outputs": [],
      "source": [
        "documents_filename = 'knowledge_base/psgs.tsv'\n",
        "documents_url = 'https://raw.github.com/IBM/watson-machine-learning-samples/master/cloud/data/RAG/psgs.tsv'\n",
        "\n",
        "\n",
        "if not os.path.isfile(documents_filename): \n",
        "    wget.download(documents_url, out=documents_filename)"
      ]
    },
    {
      "cell_type": "code",
      "execution_count": 13,
      "metadata": {},
      "outputs": [],
      "source": [
        "documents = pd.read_csv(f\"{knowledge_base_dir}/psgs.tsv\", sep='\\t', header=0)\n",
        "documents['indextext'] = documents['title'].astype(str) + \"\\n\" + documents['text']\n",
        "documents = documents[:1000]"
      ]
    },
    {
      "attachments": {},
      "cell_type": "markdown",
      "metadata": {},
      "source": [
        "### Create an embedding function\n",
        "\n",
        "Note that you can feed a custom embedding function to be used by Elasticsearch. The performance of Elasticsearch may differ depending on the embedding model used."
      ]
    },
    {
      "cell_type": "code",
      "execution_count": null,
      "metadata": {},
      "outputs": [],
      "source": [
        "from langchain.embeddings import SentenceTransformerEmbeddings\n",
        "from langchain.embeddings.base import Embeddings\n",
        "\n",
        "emb_func = SentenceTransformerEmbeddings(model_name=\"all-MiniLM-L6-v2\")"
      ]
    },
    {
      "attachments": {},
      "cell_type": "markdown",
      "metadata": {},
      "source": [
        "<a id=\"models\"></a>\n",
        "## Foundation Models on watsonx"
      ]
    },
    {
      "attachments": {},
      "cell_type": "markdown",
      "metadata": {},
      "source": [
        "### Defining model\n",
        "You need to specify `model_id` that will be used for inferencing:"
      ]
    },
    {
      "cell_type": "code",
      "execution_count": 14,
      "metadata": {},
      "outputs": [],
      "source": [
        "from ibm_watson_machine_learning.foundation_models.utils.enums import ModelTypes\n",
        "\n",
        "model_id = ModelTypes.FLAN_UL2"
      ]
    },
    {
      "cell_type": "markdown",
      "metadata": {},
      "source": [
        "### Defining the model parameters\n",
        "We need to provide a set of model parameters that will influence the result:"
      ]
    },
    {
      "cell_type": "code",
      "execution_count": 15,
      "metadata": {},
      "outputs": [],
      "source": [
        "from ibm_watson_machine_learning.metanames import GenTextParamsMetaNames as GenParams\n",
        "from ibm_watson_machine_learning.foundation_models.utils.enums import DecodingMethods\n",
        "\n",
        "parameters = {\n",
        "    GenParams.DECODING_METHOD: DecodingMethods.GREEDY,\n",
        "    GenParams.MIN_NEW_TOKENS: 1,\n",
        "    GenParams.MAX_NEW_TOKENS: 50\n",
        "}"
      ]
    },
    {
      "cell_type": "markdown",
      "metadata": {},
      "source": [
        "### Initialize the `Model` class."
      ]
    },
    {
      "cell_type": "code",
      "execution_count": 16,
      "metadata": {},
      "outputs": [],
      "source": [
        "from langchain.llms import WatsonxLLM\n",
        "\n",
        "watsonx_granite = WatsonxLLM(\n",
        "    model_id=model_id.value,\n",
        "    url=wml_credentials.get(\"url\"),\n",
        "    username=wml_credentials.get(\"username\"),\n",
        "    apikey=wml_credentials.get(\"apikey\"),\n",
        "    instance_id=wml_credentials.get(\"instance_id\"),\n",
        "    project_id=project_id,\n",
        "    params=parameters\n",
        ")"
      ]
    },
    {
      "attachments": {},
      "cell_type": "markdown",
      "metadata": {},
      "source": [
        "<a id=\"elastic_conn\"></a>\n",
        "## Set up connectivity information to Elasticsearch\n",
        "\n",
        "**This notebook focuses on self-managed cluster using <a href=\"https://cloud.ibm.com/docs/databases-for-elasticsearch?topic=databases-for-elasticsearch-getting-started\" target=\"_blank\" rel=\"noopener no referrer\">IBM Cloud® Databases for Elasticsearch.</a>**\n",
        "\n",
        "The following cell retrieves the Elasticsearch users, password, host and port from the environment if available and prompts you otherwise."
      ]
    },
    {
      "cell_type": "code",
      "execution_count": 17,
      "metadata": {},
      "outputs": [],
      "source": [
        "try:\n",
        "    esuser = os.environ[\"ESUSER\"]\n",
        "except KeyError:\n",
        "    esuser = input(\"Please enter your Elasticsearch user name (hit enter): \")\n",
        "try:\n",
        "    espassword = os.environ[\"ESPASSWORD\"]\n",
        "except KeyError:\n",
        "    espassword = getpass.getpass(\"Please enter your Elasticsearch password (hit enter): \")\n",
        "try:\n",
        "    eshost = os.environ[\"ESHOST\"]\n",
        "except KeyError:\n",
        "    eshost = input(\"Please enter your Elasticsearch hostname (hit enter): \")\n",
        "try:\n",
        "    esport = os.environ[\"ESPORT\"]\n",
        "except KeyError:\n",
        "    esport = input(\"Please enter your Elasticsearch port number (hit enter): \")"
      ]
    },
    {
      "cell_type": "markdown",
      "metadata": {},
      "source": [
        "By default Elasticsearch will start with security features like authentication and TLS enabled. To connect to the Elasticsearch cluster you’ll need to configure the Python Elasticsearch client to use HTTPS with the generated CA certificate in order to make requests successfully. Details can be found <a href=\"https://www.elastic.co/guide/en/elasticsearch/client/python-api/current/connecting.html#connect-self-managed-new\" target=\"_blank\" rel=\"noopener no referrer\">here</a>. In this notebook certificate fingerprints will be used for authentication. \n",
        "\n",
        "**Verifying HTTPS with certificate fingerprints (Python 3.10 or later)** If you don’t have access to the generated CA file from Elasticsearch you can use the following script to output the root CA fingerprint of the Elasticsearch instance with openssl s_client <a href=\"https://www.elastic.co/guide/en/elasticsearch/client/python-api/current/connecting.html#_verifying_https_with_certificate_fingerprints_python_3_10_or_later\" target=\"_blank\" rel=\"noopener no referrer\"> (docs)</a>:\n",
        "\n",
        "\n",
        "The following cell retrieves the fingerprint information using a shell command and stores it in variable `ssl_assert_fingerprint`."
      ]
    },
    {
      "cell_type": "code",
      "execution_count": null,
      "metadata": {},
      "outputs": [],
      "source": [
        "es_ssl_fingerprint = !openssl s_client -connect $eshost:$esport  -showcerts </dev/null 2>/dev/null | openssl x509 -fingerprint -sha256 -noout -in /dev/stdin\n",
        "es_ssl_fingerprint = es_ssl_fingerprint[0].split(\"=\")[1]\n",
        "es_ssl_fingerprint"
      ]
    },
    {
      "attachments": {},
      "cell_type": "markdown",
      "metadata": {},
      "source": [
        "<a id=\"elasticsearchstore\"></a>\n",
        "## Set up ElasticsearchStore connector from Langchain\n",
        "\n",
        "\n",
        "We first create a regular Elasticsearch Python client connection. Then we pass it into LangChain's ElasticsearchStore wrapper together with the WatsonX model based embedding function.\n",
        "\n",
        "Consult the LangChain documentation For more information about <a href=\"https://api.python.langchain.com/en/latest/vectorstores/langchain.vectorstores.elasticsearch.ElasticsearchStore.html\" target=\"_blank\" rel=\"noopener no referrer\">ElasticsearchStore</a> connector."
      ]
    },
    {
      "cell_type": "code",
      "execution_count": 19,
      "metadata": {},
      "outputs": [],
      "source": [
        "from langchain.vectorstores.elasticsearch import ElasticsearchStore\n",
        "from elasticsearch import Elasticsearch\n",
        "\n",
        "es_connection = Elasticsearch([f\"https://{esuser}:{espassword}@{eshost}:{esport}\"],\n",
        "                              basic_auth=(esuser, espassword),\n",
        "                              request_timeout=None,\n",
        "                              ssl_assert_fingerprint=es_ssl_fingerprint)\n",
        "\n",
        "knowledge_base = ElasticsearchStore(es_connection=es_connection,\n",
        "                                    index_name=\"test_index\",\n",
        "                                    embedding=emb_func,\n",
        "                                    strategy=ElasticsearchStore.ApproxRetrievalStrategy(),\n",
        "                                    distance_strategy=\"DOT_PRODUCT\")\n"
      ]
    },
    {
      "cell_type": "markdown",
      "metadata": {},
      "source": [
        "<a id=\"elasticsearchstore_index\"></a>\n",
        "### Embed and index documents with Elasticsearch\n",
        "\n",
        "**Note: Could take several minutes if you don't have pre-built indices**"
      ]
    },
    {
      "cell_type": "code",
      "execution_count": 20,
      "metadata": {},
      "outputs": [],
      "source": [
        "if es_connection.indices.exists(index=\"test_index\"):\n",
        "    es_connection.indices.delete(index=\"test_index\")\n",
        "_ = knowledge_base.add_texts(texts=documents.indextext.tolist(),\n",
        "                             metadatas=[{'title': title, 'id': doc_id}\n",
        "                                for (title, doc_id) in\n",
        "                                zip(documents.title, documents.id)],  # filter on these!\n",
        "                             index_name=\"test_index\",\n",
        "                             ids=[str(i) for i in documents.id]  # unique for each doc\n",
        "                            )"
      ]
    },
    {
      "cell_type": "markdown",
      "metadata": {},
      "source": [
        "Let's take a look in Elasticsearch what the LangChain wrapper has created. First we display the newly created index (\"tables\" in Elasticsearch are always called \"index\"). Note the field `vector` of type `dense_vector` with `dot_product` similarity."
      ]
    },
    {
      "cell_type": "code",
      "execution_count": 21,
      "metadata": {},
      "outputs": [
        {
          "data": {
            "text/plain": [
              "{'test_index': {'aliases': {},\n",
              "  'mappings': {'properties': {'metadata': {'properties': {'id': {'type': 'long'},\n",
              "      'title': {'type': 'text',\n",
              "       'fields': {'keyword': {'type': 'keyword', 'ignore_above': 256}}}}},\n",
              "    'text': {'type': 'text',\n",
              "     'fields': {'keyword': {'type': 'keyword', 'ignore_above': 256}}},\n",
              "    'vector': {'type': 'dense_vector',\n",
              "     'dims': 384,\n",
              "     'index': True,\n",
              "     'similarity': 'dot_product'}}},\n",
              "  'settings': {'index': {'routing': {'allocation': {'include': {'_tier_preference': 'data_content'}}},\n",
              "    'allocation': {'max_retries': '15'},\n",
              "    'number_of_shards': '1',\n",
              "    'provided_name': 'test_index',\n",
              "    'creation_date': '1698672197894',\n",
              "    'unassigned': {'node_left': {'delayed_timeout': '60m'}},\n",
              "    'number_of_replicas': '1',\n",
              "    'uuid': 'SAGRza9UQNml8naxqJ5pVg',\n",
              "    'version': {'created': '8070099'}}}}}"
            ]
          },
          "execution_count": 21,
          "metadata": {},
          "output_type": "execute_result"
        }
      ],
      "source": [
        "dict(es_connection.indices.get(index=\"test_index\"))"
      ]
    },
    {
      "cell_type": "markdown",
      "metadata": {},
      "source": [
        "Verify the number of documents loaded into the Elasticsearch index."
      ]
    },
    {
      "cell_type": "code",
      "execution_count": 22,
      "metadata": {},
      "outputs": [
        {
          "data": {
            "text/plain": [
              "1000"
            ]
          },
          "execution_count": 22,
          "metadata": {},
          "output_type": "execute_result"
        }
      ],
      "source": [
        "doc_count = es_connection.count(index='test_index')[\"count\"]\n",
        "doc_count"
      ]
    },
    {
      "cell_type": "markdown",
      "metadata": {},
      "source": [
        "Let's retrieve a random document as a sample. Note the embedding in the vector field, that was generated with the WatsonX embedding model."
      ]
    },
    {
      "cell_type": "code",
      "execution_count": 23,
      "metadata": {},
      "outputs": [
        {
          "data": {
            "text/plain": [
              "{'_index': 'test_index',\n",
              " '_id': '615',\n",
              " '_version': 1,\n",
              " '_seq_no': 614,\n",
              " '_primary_term': 1,\n",
              " 'found': True,\n",
              " '_source': {'text': \"United States Senate elections, 2018\\nU.S. Senate bid '' . The Arizona Republic . Retrieved April 10 , 2017 . ^ Jump up to : Roth , R ( September 25 , 2017 ) . `` Former `` Revenge Porn Website '' Mastermind Declares Run For Arizona Senate `` . Arizona Daily Independent . Retrieved October 7 , 2017 . ^ Jump up to : Kimbel - Sannit , Arren ( March 11 , 2017 ) . `` Flake likely to face challenges from all sides , vows to be ready '' . Arizona Daily Star . Retrieved March 12 , 2017 . Jump up ^ `` MARKS , DOUG - Candidate overview - FEC.gov '' . FEC.gov . ^ Jump up to : `` MOSS , JIM - Candidate overview - FEC.gov '' . FEC.gov . ^ Jump up to : `` RUSSELL , DALE CHRISTOPHER - Candidate overview - FEC.gov '' . FEC.gov . ^ Jump up to : Nowicki , Dan ( July 15 , 2017 ) . `` How much re-election trouble is Sen. Jeff Flake really in ? '' . The Arizona Republic . Retrieved July 21 , 2017 . ^ Jump up to : Hansen , Ronald ( Sep 28 , 2017 ) . `` Rep. Kyrsten Sinema enters Senate race , hoping to unseat Jeff Flake '' . Retrieved Oct 4 , 2017 . ^ Jump up to : `` TUTORA , NICHOLAS - Candidate overview - FEC.gov '' . FEC.gov . ^ Jump up to : Min\",\n",
              "  'vector': [0.011672593653202057,\n",
              "   -0.08311010152101517,\n",
              "   -0.0300058051943779,\n",
              "   0.05923059210181236,\n",
              "   0.05047305300831795,\n",
              "   0.019052475690841675,\n",
              "   0.0028061135672032833,\n",
              "   -0.039470791816711426,\n",
              "   -0.06367842108011246,\n",
              "   0.04752109572291374,\n",
              "   -0.04357371851801872,\n",
              "   0.029467914253473282,\n",
              "   0.02017405815422535,\n",
              "   0.00266315508633852,\n",
              "   -0.01736619509756565,\n",
              "   0.012121662497520447,\n",
              "   -0.02136443555355072,\n",
              "   0.032084912061691284,\n",
              "   -0.020980212837457657,\n",
              "   0.0704222172498703,\n",
              "   -0.007003962527960539,\n",
              "   -0.0004050382995046675,\n",
              "   0.044018104672431946,\n",
              "   -0.03331579640507698,\n",
              "   0.04041734337806702,\n",
              "   0.0029303759802132845,\n",
              "   -0.03457479923963547,\n",
              "   -0.02819635346531868,\n",
              "   -0.10672666132450104,\n",
              "   -0.06955017149448395,\n",
              "   -0.006151245441287756,\n",
              "   0.022726979106664658,\n",
              "   -0.035651542246341705,\n",
              "   -0.02068457193672657,\n",
              "   0.025596609339118004,\n",
              "   -0.05708992853760719,\n",
              "   -0.007516680285334587,\n",
              "   -0.01892315037548542,\n",
              "   0.05079915001988411,\n",
              "   0.0024915733374655247,\n",
              "   -0.018797414377331734,\n",
              "   -0.05020114406943321,\n",
              "   -0.020474378019571304,\n",
              "   0.040038686245679855,\n",
              "   -0.11225924640893936,\n",
              "   -0.003712239908054471,\n",
              "   0.01295772846788168,\n",
              "   -0.004112711176276207,\n",
              "   0.021978922188282013,\n",
              "   0.032533708959817886,\n",
              "   -0.10810385644435883,\n",
              "   0.059837277978658676,\n",
              "   0.03408186882734299,\n",
              "   0.03302491456270218,\n",
              "   0.06603306531906128,\n",
              "   -0.005452861078083515,\n",
              "   -0.02661038748919964,\n",
              "   -0.03903287649154663,\n",
              "   -0.033189546316862106,\n",
              "   -0.016648391261696815,\n",
              "   0.025635764002799988,\n",
              "   0.012491913512349129,\n",
              "   -0.035475511103868484,\n",
              "   0.01586294174194336,\n",
              "   -0.055506039410829544,\n",
              "   0.04691668227314949,\n",
              "   -0.032271407544612885,\n",
              "   -0.06772774457931519,\n",
              "   0.049291983246803284,\n",
              "   -0.032082777470350266,\n",
              "   0.0014007017016410828,\n",
              "   0.037586841732263565,\n",
              "   -0.04216602072119713,\n",
              "   -0.08925551176071167,\n",
              "   -0.008940939791500568,\n",
              "   -0.01762177236378193,\n",
              "   0.11041991412639618,\n",
              "   0.10634328424930573,\n",
              "   0.05726082623004913,\n",
              "   -0.0021239742636680603,\n",
              "   -0.01684931106865406,\n",
              "   -0.037956491112709045,\n",
              "   0.013972104527056217,\n",
              "   -0.11493484675884247,\n",
              "   0.0316365584731102,\n",
              "   -0.005406997632235289,\n",
              "   -0.04211030527949333,\n",
              "   -0.009229800663888454,\n",
              "   0.014585248194634914,\n",
              "   0.05130792409181595,\n",
              "   -0.02097577229142189,\n",
              "   0.08148571848869324,\n",
              "   0.06916141510009766,\n",
              "   0.014340013265609741,\n",
              "   0.04405598342418671,\n",
              "   -0.025519875809550285,\n",
              "   0.042633987963199615,\n",
              "   0.023778708651661873,\n",
              "   0.01302673202008009,\n",
              "   0.10162366926670074,\n",
              "   -0.0009340195101685822,\n",
              "   -0.0073986235074698925,\n",
              "   -0.04613190516829491,\n",
              "   -0.04940781369805336,\n",
              "   -0.028780190274119377,\n",
              "   0.013599339872598648,\n",
              "   -0.05441112071275711,\n",
              "   0.010736825875937939,\n",
              "   -0.059308215975761414,\n",
              "   0.0001441178610548377,\n",
              "   0.05967571586370468,\n",
              "   -0.0013378047151491046,\n",
              "   0.03878040984272957,\n",
              "   -0.043688394129276276,\n",
              "   0.012985702604055405,\n",
              "   0.03960477560758591,\n",
              "   -0.049373626708984375,\n",
              "   0.02621188387274742,\n",
              "   0.02718866616487503,\n",
              "   0.06372842192649841,\n",
              "   0.007025571074336767,\n",
              "   0.07068876922130585,\n",
              "   -0.07111699879169464,\n",
              "   0.07301093637943268,\n",
              "   0.12200796604156494,\n",
              "   -0.005986055359244347,\n",
              "   -0.08010918647050858,\n",
              "   2.8508994494134234e-33,\n",
              "   0.061323221772909164,\n",
              "   0.06160634383559227,\n",
              "   -0.03147850185632706,\n",
              "   0.004775861278176308,\n",
              "   -0.09620019048452377,\n",
              "   0.06274350732564926,\n",
              "   0.0908244326710701,\n",
              "   -0.027699029073119164,\n",
              "   -0.002377915196120739,\n",
              "   0.02281571365892887,\n",
              "   -0.022428331896662712,\n",
              "   0.03186873346567154,\n",
              "   -0.010168029926717281,\n",
              "   -0.03476802632212639,\n",
              "   -0.0372331440448761,\n",
              "   -0.028407389298081398,\n",
              "   -0.05010651424527168,\n",
              "   -0.04063289985060692,\n",
              "   -0.08465691655874252,\n",
              "   0.01532686036080122,\n",
              "   0.03466757759451866,\n",
              "   0.01760249026119709,\n",
              "   -0.020366456359624863,\n",
              "   0.029662616550922394,\n",
              "   0.007033067289739847,\n",
              "   0.04918760806322098,\n",
              "   -0.004826742224395275,\n",
              "   -0.02034773677587509,\n",
              "   -0.015690116211771965,\n",
              "   0.05052468180656433,\n",
              "   -0.022672586143016815,\n",
              "   -0.05690263584256172,\n",
              "   0.011496025137603283,\n",
              "   0.08419892191886902,\n",
              "   0.0016128828283399343,\n",
              "   -0.008411578834056854,\n",
              "   -0.02503112331032753,\n",
              "   -0.032294776290655136,\n",
              "   -0.08047834783792496,\n",
              "   -0.00012579988106153905,\n",
              "   -0.029263382777571678,\n",
              "   0.03382927551865578,\n",
              "   0.0034799259155988693,\n",
              "   0.06403842568397522,\n",
              "   -0.02596868760883808,\n",
              "   -0.060622088611125946,\n",
              "   0.02671644277870655,\n",
              "   0.07517881691455841,\n",
              "   0.09374933689832687,\n",
              "   -0.011867254972457886,\n",
              "   -0.0631340742111206,\n",
              "   0.07208534330129623,\n",
              "   0.02072741836309433,\n",
              "   0.04303598776459694,\n",
              "   -0.08938483148813248,\n",
              "   -0.054726749658584595,\n",
              "   -0.09682543575763702,\n",
              "   -0.015814580023288727,\n",
              "   -0.01478743739426136,\n",
              "   0.028889356181025505,\n",
              "   0.028216708451509476,\n",
              "   -0.014982029795646667,\n",
              "   -0.050596851855516434,\n",
              "   -0.019164102151989937,\n",
              "   -0.11542347818613052,\n",
              "   -0.010344048961997032,\n",
              "   -0.04964841902256012,\n",
              "   0.01686818152666092,\n",
              "   0.07952277362346649,\n",
              "   0.039088256657123566,\n",
              "   0.04149666428565979,\n",
              "   -0.021246369928121567,\n",
              "   0.06649632006883621,\n",
              "   0.017731966450810432,\n",
              "   -0.0011127041652798653,\n",
              "   0.010779771022498608,\n",
              "   0.09964060038328171,\n",
              "   -0.12953154742717743,\n",
              "   0.010821341536939144,\n",
              "   0.015186687931418419,\n",
              "   -0.020545415580272675,\n",
              "   -0.01219029538333416,\n",
              "   0.03498343005776405,\n",
              "   -0.04863424971699715,\n",
              "   -0.012489586137235165,\n",
              "   -0.027702143415808678,\n",
              "   -0.0356765016913414,\n",
              "   -0.02956056222319603,\n",
              "   0.06293116509914398,\n",
              "   0.06453566998243332,\n",
              "   0.005485817790031433,\n",
              "   -0.01233042124658823,\n",
              "   0.06889648735523224,\n",
              "   -0.00030523474561050534,\n",
              "   0.03526042401790619,\n",
              "   -4.376888563097492e-33,\n",
              "   -0.05223704129457474,\n",
              "   -0.04736633226275444,\n",
              "   -0.05977296456694603,\n",
              "   0.022206207737326622,\n",
              "   0.056136295199394226,\n",
              "   -0.029430167749524117,\n",
              "   0.002206074772402644,\n",
              "   -0.059703927487134933,\n",
              "   0.02208990603685379,\n",
              "   -0.12935329973697662,\n",
              "   -0.04410530626773834,\n",
              "   -0.032547615468502045,\n",
              "   0.011954614892601967,\n",
              "   -0.040241263806819916,\n",
              "   -0.008366040885448456,\n",
              "   -0.011667046695947647,\n",
              "   0.026810672134160995,\n",
              "   -0.05034521594643593,\n",
              "   0.04078614339232445,\n",
              "   0.059467267245054245,\n",
              "   -0.03098270483314991,\n",
              "   0.09225891530513763,\n",
              "   -0.06631369888782501,\n",
              "   0.05423519015312195,\n",
              "   0.0052040996961295605,\n",
              "   -0.03226717561483383,\n",
              "   0.07689807564020157,\n",
              "   -0.06994672119617462,\n",
              "   -0.01407395489513874,\n",
              "   0.06916415691375732,\n",
              "   -0.06763842701911926,\n",
              "   -0.0769820511341095,\n",
              "   -0.08458404242992401,\n",
              "   0.07209915667772293,\n",
              "   -0.02700398676097393,\n",
              "   0.013158398680388927,\n",
              "   -0.011274755001068115,\n",
              "   -0.08726799488067627,\n",
              "   -0.03557559475302696,\n",
              "   0.0718766301870346,\n",
              "   0.08737675845623016,\n",
              "   0.010474546812474728,\n",
              "   0.016001302748918533,\n",
              "   0.06266814470291138,\n",
              "   -0.0575619675219059,\n",
              "   0.023996764793992043,\n",
              "   -0.09941817820072174,\n",
              "   0.04763181880116463,\n",
              "   0.01777512952685356,\n",
              "   0.04778517037630081,\n",
              "   -0.0654226541519165,\n",
              "   0.02848169021308422,\n",
              "   -0.14275191724300385,\n",
              "   0.019582295790314674,\n",
              "   -0.009492804296314716,\n",
              "   -0.019401272758841515,\n",
              "   -0.003489466616883874,\n",
              "   0.05597394332289696,\n",
              "   -0.03583182394504547,\n",
              "   0.06590906530618668,\n",
              "   -0.05147998034954071,\n",
              "   0.07828928530216217,\n",
              "   0.07591968774795532,\n",
              "   -0.05820212885737419,\n",
              "   0.07704107463359833,\n",
              "   -0.030098944902420044,\n",
              "   0.0013547405833378434,\n",
              "   -0.014299996197223663,\n",
              "   0.05309375002980232,\n",
              "   0.07159849256277084,\n",
              "   -0.012420739978551865,\n",
              "   -0.08989740163087845,\n",
              "   -0.07163050770759583,\n",
              "   -0.006244448479264975,\n",
              "   0.03776463866233826,\n",
              "   0.10471023619174957,\n",
              "   -0.039505504071712494,\n",
              "   0.04902127757668495,\n",
              "   -0.037762101739645004,\n",
              "   0.024995768442749977,\n",
              "   0.05651051551103592,\n",
              "   0.0019082772778347135,\n",
              "   -0.02402587980031967,\n",
              "   -0.009003774262964725,\n",
              "   0.06263761222362518,\n",
              "   0.09549183398485184,\n",
              "   -0.008330834098160267,\n",
              "   -0.012349193915724754,\n",
              "   -0.0254029743373394,\n",
              "   0.03852831944823265,\n",
              "   -0.009243042208254337,\n",
              "   -0.07842516899108887,\n",
              "   -0.008370772004127502,\n",
              "   0.0376335047185421,\n",
              "   -0.03713380917906761,\n",
              "   -5.7777075568310465e-08,\n",
              "   0.09346184879541397,\n",
              "   -0.028511393815279007,\n",
              "   -0.12058062851428986,\n",
              "   0.015976179391145706,\n",
              "   0.06397620588541031,\n",
              "   0.04582516476511955,\n",
              "   0.008741065859794617,\n",
              "   0.01768464967608452,\n",
              "   -0.09518682956695557,\n",
              "   -0.008699236437678337,\n",
              "   0.18910346925258636,\n",
              "   0.010987560264766216,\n",
              "   0.019612792879343033,\n",
              "   -0.01846262626349926,\n",
              "   0.07433854788541794,\n",
              "   0.006976038217544556,\n",
              "   -0.03860800340771675,\n",
              "   0.09853050112724304,\n",
              "   -0.06386883556842804,\n",
              "   -0.09514223039150238,\n",
              "   -0.11481942981481552,\n",
              "   0.017568135634064674,\n",
              "   -0.06390228122472763,\n",
              "   0.06099995598196983,\n",
              "   -0.0627993643283844,\n",
              "   0.01614588312804699,\n",
              "   -0.07614544779062271,\n",
              "   0.09723487496376038,\n",
              "   0.006442470941692591,\n",
              "   0.01578906551003456,\n",
              "   -0.04826278239488602,\n",
              "   0.029767975211143494,\n",
              "   -0.023907657712697983,\n",
              "   -0.08057851344347,\n",
              "   -0.0012016909895464778,\n",
              "   0.015981443226337433,\n",
              "   -0.022943835705518723,\n",
              "   -0.03544038534164429,\n",
              "   -0.03233770653605461,\n",
              "   0.09729763120412827,\n",
              "   0.013490773737430573,\n",
              "   -0.0043381741270422935,\n",
              "   0.018816839903593063,\n",
              "   0.003191647119820118,\n",
              "   -0.048874348402023315,\n",
              "   -0.04978173226118088,\n",
              "   -0.015048821456730366,\n",
              "   -0.04648279771208763,\n",
              "   0.10549591481685638,\n",
              "   -0.05315108224749565,\n",
              "   -0.02252245880663395,\n",
              "   -0.040929120033979416,\n",
              "   -0.051986709237098694,\n",
              "   0.06917277723550797,\n",
              "   0.09963375329971313,\n",
              "   0.09412889182567596,\n",
              "   0.0036318914499133825,\n",
              "   -0.05946655943989754,\n",
              "   0.0022769917268306017,\n",
              "   0.006872373167425394,\n",
              "   0.0010536181507632136,\n",
              "   -0.010462277568876743,\n",
              "   0.006301924120634794,\n",
              "   -0.034170132130384445],\n",
              "  'metadata': {'title': 'United States Senate elections, 2018', 'id': 615}}}"
            ]
          },
          "execution_count": 23,
          "metadata": {},
          "output_type": "execute_result"
        }
      ],
      "source": [
        "dict(es_connection.get(index=\"test_index\", id=random.randint(0, len(documents)-1)))"
      ]
    },
    {
      "cell_type": "markdown",
      "metadata": {},
      "source": [
        "Display the total size and indexing time of the new index in Elasticsearch."
      ]
    },
    {
      "cell_type": "code",
      "execution_count": 24,
      "metadata": {},
      "outputs": [
        {
          "name": "stdout",
          "output_type": "stream",
          "text": [
            "Index size:    9.4 MB\n",
            "Indexing time: 0 minutes\n"
          ]
        }
      ],
      "source": [
        "index_stats = es_connection.indices.stats(index=\"test_index\").get('_all').get('primaries')\n",
        "print(\"Index size:    \" + humanize.naturalsize(index_stats.get('store').get('size_in_bytes')))\n",
        "print(\"Indexing time: \" + humanize.precisedelta(index_stats.get('indexing').get('index_time_in_millis')/1000, minimum_unit='minutes'))\n"
      ]
    },
    {
      "attachments": {},
      "cell_type": "markdown",
      "metadata": {},
      "source": [
        "<a id=\"predict\"></a>\n",
        "## Generate a retrieval-augmented response to a question"
      ]
    },
    {
      "cell_type": "markdown",
      "metadata": {},
      "source": [
        "`RetrievalQA` is a chain to do question answering.\n",
        "\n",
        "**Hint:** To use Chain interface from LangChain with watsonx.ai models you must call `model.to_langchain()` method. \n",
        "\n",
        "It returns `WatsonxLLM` wrapper compatible with LangChain CustomLLM specification."
      ]
    },
    {
      "attachments": {},
      "cell_type": "markdown",
      "metadata": {},
      "source": [
        "### Select questions\n",
        "\n",
        "The prompts we will use to test the RAG flow"
      ]
    },
    {
      "cell_type": "code",
      "execution_count": 25,
      "metadata": {},
      "outputs": [],
      "source": [
        "questions_and_answers = {\n",
        "            'names of founding fathers of the united states?': \"Thomas Jefferson::James Madison::John Jay::George Washington::John Adams::Benjamin Franklin::Alexander Hamilton\",\n",
        "            'who played in the super bowl in 2013?': 'Baltimore Ravens::San Francisco 49ers',\n",
        "            'when did bucharest become the capital of romania?': '1862'\n",
        "}"
      ]
    },
    {
      "attachments": {},
      "cell_type": "markdown",
      "metadata": {},
      "source": [
        "### Retrieve relevant context\n",
        "\n",
        "Fetch paragraphs similar to the question"
      ]
    },
    {
      "cell_type": "code",
      "execution_count": 26,
      "metadata": {},
      "outputs": [],
      "source": [
        "from langchain.chains import RetrievalQA\n",
        "\n",
        "qa = RetrievalQA.from_chain_type(llm=watsonx_granite, chain_type=\"stuff\", retriever=knowledge_base.as_retriever(), return_source_documents=True)"
      ]
    },
    {
      "cell_type": "code",
      "execution_count": 27,
      "metadata": {},
      "outputs": [],
      "source": [
        "results = []\n",
        "\n",
        "for question in questions_and_answers.keys():\n",
        "    result = qa({\"query\": question})\n",
        "    results.append(result)"
      ]
    },
    {
      "attachments": {},
      "cell_type": "markdown",
      "metadata": {},
      "source": [
        "Get the set of chunks for one of the questions."
      ]
    },
    {
      "cell_type": "code",
      "execution_count": 28,
      "metadata": {},
      "outputs": [
        {
          "name": "stdout",
          "output_type": "stream",
          "text": [
            "=========\n",
            "Question =  names of founding fathers of the united states?\n",
            "Answer =  John Adams , Benjamin Franklin , Alexander Hamilton , John Jay , Thomas Jefferson , James Madison , and George Washington\n",
            "Expected Answer(s) (may not be appear with exact wording in the dataset) =  Thomas Jefferson::James Madison::John Jay::George Washington::John Adams::Benjamin Franklin::Alexander Hamilton\n",
            "\n",
            "\n",
            "Source documents:\n",
            "Founding Fathers of the United States\n",
            "^ Burstein , Andrew . `` Politics and Personalities : Garry Wills takes a new look at a forgotten founder , slavery and the shaping of America '' , Chicago Tribune ( November 09 , 2003 ) : `` Forgotten founders such as Pickering and Morris made as many waves as those whose faces stare out from our currency . '' ^ Jump up to : Rafael , Ray . The Complete Idiot 's Guide to the Founding Fathers : And the Birth of Our Nation ( Penguin , 2011 ) . Jump up ^ `` Founding Fathers : Virginia '' . FindLaw Constitutional Law Center . 2008 . Retrieved 2008 - 11 - 14 . Jump up ^ Schwartz , Laurens R. Jews and the American Revolution : Haym Solomon and Others , Jefferson , North Carolina : McFarland & Co. , 1987 . Jump up ^ Kendall , Joshua . The Forgotten Founding Father : Noah Webster 's Obsession and the Creation of an American Culture ( Penguin 2011 ) . Jump up ^ Wright , R.E. ( 1996 ) . `` Thomas Willing ( 1731 - 1821 ) : Philadelphia Financier and Forgotten Founding Father '' . Pennsylvania History . 63 ( 4 ) : 525 -- 560 . doi : 10.2307 / 27773931 ( inactive 2017 - 01 - 15 ) . JSTOR 27773931 . Jump up ^ `` A Patriot of Early New England '' , New York Times ( December 20 , 1931 )\n",
            "Founding Fathers of the United States\n",
            "President of Congress Peyton Randolph New Hampshire John Sullivan Nathaniel Folsom Massachusetts Bay Thomas Cushing Samuel Adams John Adams Robert Treat Paine Rhode Island Stephen Hopkins Samuel Ward Connecticut Eliphalet Dyer Roger Sherman Silas Deane New York Isaac Low John Alsop John Jay James Duane Philip Livingston William Floyd Henry Wisner Simon Boerum New Jersey James Kinsey William Livingston Stephen Crane Richard Smith John De Hart Pennsylvania Joseph Galloway John Dickinson Charles Humphreys Thomas Mifflin Edward Biddle John Morton George Ross The Lower Counties Caesar Rodney Thomas McKean George Read Maryland Matthew Tilghman Thomas Johnson , Junr William Paca Samuel Chase Virginia Richard Henry Lee George Washington Patrick Henry , Junr Richard Bland Benjamin Harrison Edmund Pendleton North Carolina William Hooper Joseph Hewes Richard Caswell South Carolina Henry Middleton Thomas Lynch Christopher Gadsden John Rutledge Edward Rutledge See also Virginia Association First Continental Congress Carpenters ' Hall Declaration and Resolves of the First Continental Congress Retrieved from `` https://en.wikipedia.org/w/index.php?title=Founding_Fathers_of_the_United_States&oldid=815247535 '' Categories : Age of Enlightenment American Revolution Articles about multiple people Patriots in the American Revolution Political leaders of the American Revolution National founders Hidden categories : Webarchive template wayback links Pages with DOIs inactive since 2017 Use mdy dates from April 2011 Talk Read Contents About Wikipedia Wikiquote Bân - lâm - gú Башҡортса Bikol Central Български Brezhoneg Català Čeština Cymraeg Deutsch Ελληνικά Español Esperanto فارسی Français 한국어 Հայերեն हिन्दी Ido Bahasa Indonesia Interlingua Íslenska Italiano עברית Latina Lietuvių Magyar Bahasa Melayu Nederlands 日本 語 Norsk Polski Português Română\n",
            "Founding Fathers of the United States\n",
            "Founding Fathers of the United States - wikipedia Founding Fathers of the United States Jump to : navigation , search Declaration of Independence , a painting by John Trumbull depicting the Committee of Five presenting their draft to the Congress on June 28 , 1776 Signature page of Treaty of Paris ( 1783 ) ; the treaty was negotiated by John Adams , Benjamin Franklin and John Jay . The Founding Fathers of the United States were those individuals of the Thirteen Colonies in North America who led the American Revolution against the authority of the British Crown in word and deed and contributed to the establishment of the United States of America . Historian Richard B. Morris in 1973 identified the following seven figures as the key Founding Fathers : John Adams , Benjamin Franklin , Alexander Hamilton , John Jay , Thomas Jefferson , James Madison , and George Washington . Adams , Jefferson , and Franklin were members of the Committee of Five that drafted the Declaration of Independence . Hamilton , Madison , and Jay were authors of The Federalist Papers , advocating ratification of the Constitution . The constitutions drafted by Jay and Adams for their respective states of New York ( 1777 ) and Massachusetts ( 1780 ) were heavily relied upon when creating language for the US Constitution Jay , Adams and Franklin negotiated the Treaty of Paris ( 1783 ) that would end the American Revolutionary War . Washington was Commander -\n",
            "Founding Fathers of the United States\n",
            "Prior to , and during the 19th century , they were referred to as simply the `` Fathers '' . The term has been used to describe the founders and first settlers of the original royal colonies . Contents ( hide ) 1 Background 2 Interesting facts and commonalities 2.1 Education 2.1. 1 Colleges attended 2.1. 2 Advanced degrees and apprenticeships 2.1. 2.1 Doctors of medicine 2.1. 2.2 Theology 2.1. 2.3 Legal apprenticeships 2.1. 3 Self - taught or little formal education 2.2 Demographics 2.3 Political experience 2.4 Occupations and finances 2.5 Religion 2.6 Ownership of slaves and position on slavery 2.7 Attendance at conventions 2.8 Spouses and children 2.9 Charters of freedom and historical documents of the United States 2.10 Post-constitution life 2.11 Youth and longevity 2.12 Founders who were not signatories or delegates 3 Legacy 3.1 Institutions formed by Founders 3.2 Scholarship on the Founders 3.2. 1 Living historians whose focus is the Founding Fathers 3.2. 2 Noted collections of the Founding Fathers 3.3 In stage and film 3.4 Children 's books 4 See also 5 Notes 6 References 7 External links Background ( edit ) The Albany Congress of 1754 was a conference attended by seven colonies , which presaged later efforts at cooperation . The Stamp Act Congress of 1765 included representatives from nine colonies . The First Continental Congress met briefly in Philadelphia , Pennsylvania in 1774 , consisting of fifty - six delegates from twelve of the thirteen colonies ( excluding Georgia ) that\n",
            "\n",
            "\n",
            "=========\n",
            "Question =  who played in the super bowl in 2013?\n",
            "Answer =  Baltimore Ravens\n",
            "Expected Answer(s) (may not be appear with exact wording in the dataset) =  Baltimore Ravens::San Francisco 49ers\n",
            "\n",
            "\n",
            "Source documents:\n",
            "Super Bowl XLVII\n",
            "responded to the claim on Twitter in jest , tweeting `` There is no conspiracy . I pulled the plug . '' Box score ( edit ) Super Bowl XLVII : Baltimore Ravens 34 , San Francisco 49ers 31 Total Ravens ( AFC ) 7 14 7 6 34 49ers ( NFC ) 17 8 31 at Mercedes - Benz Superdome in New Orleans , Louisiana Date : February 3 , 2013 Game time : 5 : 31 p.m. CST Game weather : Played indoors ( dome stadium ) Game attendance : 71,024 Referee : Jerome Boger TV announcers ( CBS ) : Jim Nantz , Phil Simms , Steve Tasker , Solomon Wilcots Gamebook ( hide ) Scoring summary Quarter Time Drive Team Scoring information Score Plays Yards TOP BAL SF 10 : 36 6 51 2 : 29 BAL Anquan Boldin 13 - yard touchdown reception from Joe Flacco , Justin Tucker kick good 7 0 3 : 58 12 62 6 : 38 SF 36 - yard field goal by David Akers 7 7 : 10 10 75 4 : 43 BAL Dennis Pitta 1 - yard touchdown reception from Flacco , Tucker kick good 14 1 : 45 56 0 : 22 BAL Jacoby Jones 56 - yard touchdown reception from Flacco , Tucker kick good 21 0 : 00 8 71 1 : 45 SF 27 - yard field goal by Akers 21 6 14 : 49 -- -- -- BAL J. Jones 108 -\n",
            "Super Bowl XLVII\n",
            "for the 2012 season . The Ravens defeated the 49ers by the score of 34 -- 31 , handing the 49ers their first Super Bowl loss in franchise history . The game was played on February 3 , 2013 , at Mercedes - Benz Superdome in New Orleans , Louisiana . This was the tenth Super Bowl to be played in New Orleans , equaling Miami 's record of ten in an individual city . For the first time in Super Bowl history , the game featured two brothers coaching against each other -- Jim and John Harbaugh , head coaches of the San Francisco 49ers and Baltimore Ravens , respectively -- earning it the nickname Harbaugh Bowl . In addition , Super Bowl XLVII was the first to feature two teams that had undefeated records in previous Super Bowl games ( Baltimore , 1 -- 0 ; San Francisco , 5 -- 0 ) . The 49ers , who posted a regular - season record of 11 -- 4 -- 1 , entered the game seeking their sixth Super Bowl win in team history ( and first since Super Bowl XXIX at the end of the 1994 season ) , which would have tied the Pittsburgh Steelers for the most by a franchise . The Ravens , who posted a 10 -- 6 regular - season record , made their second Super Bowl appearance in 12 years , having previously won Super Bowl XXXV . Ray Lewis , the\n",
            "Super Bowl XLVII\n",
            "preview : A minute - by - minute breakdown '' . USA Today . Retrieved February 2 , 2013 . Jump up ^ `` Beyonce half time performance '' . NFL.Com . February 4 , 2013 . Retrieved February 5 , 2013 . Jump up ^ `` Beyonce wows at half - time show '' . BBC News . February 4 , 2013 . Retrieved February 5 , 2013 . Jump up ^ `` Beyonce Draws Estimated 104 Million to Super Bowl Halftime '' . ^ Jump up to : `` Play - by - Play '' . ESPN . February 3 , 2013 . Retrieved February 4 , 2013 . Jump up ^ Inman , Cam ( February 3 , 2013 ) . `` Super Bowl 2013 : San Francisco 49ers ' furious comeback falls short in 34 -- 31 loss to Baltimore Ravens -- San Jose Mercury News '' . San Jose Mercury News . Retrieved February 4 , 2013 . ^ Jump up to : `` Jacoby Jones returns kick 108 yards '' . ESPN.com . February 4 , 2013 . Retrieved April 24 , 2016 . Jump up ^ `` Watch Baltimore Ravens vs. Denver Broncos ( 01 / 12 / 2013 ) '' . NFL . Retrieved February 4 , 2013 . ^ Jump up to : Rosenthal , Gregg ( February 3 , 2013 ) . `` Jacoby Jones ' 108 - yard return TD a Super Bowl record '' . NFL . Retrieved\n",
            "Super Bowl XLVII\n",
            "MVP Award '' . Forbes.com . February 4 , 2013 . Retrieved February 6 , 2013 . Jump up ^ Heitner , Darren ( April 18 , 2013 ) . `` Is It Worth Spending $4 Million On A Super Bowl Commercial ? '' . Forbes . Retrieved February 4 , 2013 . Jump up ^ Collins , Scott ( February 5 , 2013 ) . `` Super Bowl ratings dip slightly from last year '' . Los Angeles Times . Retrieved February 5 , 2013 . ^ Jump up to : `` New Orleans to host 10th Super Bowl in 2013 '' . ESPN.com . Associated Press . May 19 , 2009 . Retrieved January 14 , 2011 . Jump up ^ Ally Burguieres Designs Official NFL Beads with Courtyard by Marriott for SuperBowl -- WGNO -- YouTube on YouTube Jump up ^ Wilner , Barry ( January 21 , 2013 ) . `` Ravens dominate Pats , set up ' Harbaugh Bowl ' '' . NBC Sports . Associated Press . Retrieved January 21 , 2013 . Jump up ^ Brinson , Will . `` Sorting the Sunday Pile , Divisional Round : Harbaugh Bowl still lives '' . CBSSports.com . CBS Interactive . Retrieved January 21 , 2013 . Jump up ^ Schwab , Frank . `` HarBowl ! Harbaugh brothers Jim and John to square off in Super Bowl '' . Yahoo ! Sports . Retrieved January 21 , 2003 . Jump up ^ `` The\n",
            "\n",
            "\n",
            "=========\n",
            "Question =  when did bucharest become the capital of romania?\n",
            "Answer =  1862\n",
            "Expected Answer(s) (may not be appear with exact wording in the dataset) =  1862\n",
            "\n",
            "\n",
            "Source documents:\n",
            "Bucharest\n",
            "EU ) Density 9,237 / km ( 23,920 / sq mi ) Metro 2,412,530 Demonym ( s ) Bucharester ( en ) bucureștean , bucureșteancă ( ro ) Time zone UTC + 2 ( EET ) Summer ( DST ) UTC + 3 ( EEST ) Postal code 0xxxxx Area code ( s ) + 40 x1 Car plate prefix GDP ( Nominal ) € 47 billion - Per capita PPP € 40,400 -- Per capita € 20,000 Website pmb.ro Romanian law stipulates that Bucharest has a special administrative status which is equal to that of a County ; Bucharest metropolitan area is a proposed project . Bucharest ( / ˈb ( j ) uː kərɛst / ; Romanian : București ( bukuˈreʃtj ) ( listen ) ) is the capital and largest city of Romania , as well as its cultural , industrial , and financial centre . It is located in the southeast of the country , at 44 ° 25 ′ 57 '' N 26 ° 06 ′ 14 '' E ﻿ / ﻿ 44.43250 ° N 26.10389 ° E ﻿ / 44.43250 ; 26.10389 Coordinates : 44 ° 25 ′ 57 '' N 26 ° 06 ′ 14 '' E ﻿ / ﻿ 44.43250 ° N 26.10389 ° E ﻿ / 44.43250 ; 26.10389 , on the banks of the Dâmbovița River , less than 60 km ( 37.3 mi ) north of the Danube River and the Bulgarian border . Bucharest was first mentioned in\n",
            "Bucharest\n",
            "Bucharest - wikipedia Bucharest This article contains too many pictures , charts or diagrams for its overall length . Please help to improve this article by removing or adjusting the sandwiching of text between two images and indiscriminate galleries in accordance with the Manual of Style on use of images . ( Learn how and when to remove this template message ) Capital city in None , Romania Bucharest București Capital city From top , left to right : Central University Library Palace of the Parliament Arcul de Triumf Romanian Athenaeum Modernist skyscrapers CEC Palace Royal Palace of Bucharest Flag Coat of arms Nickname ( s ) : Micul Paris ( The Little Paris ) , Paris of the East Motto ( s ) : Patria și dreptul meu ( The Homeland and my right ) Bucharest Location of Bucharest in Romania Show map of Romania Bucharest Bucharest ( Europe ) Show map of Europe Coordinates : 44 ° 25 ′ 57 '' N 26 ° 6 ′ 14 '' E ﻿ / ﻿ 44.43250 ° N 26.10389 ° E ﻿ / 44.43250 ; 26.10389 Country Romania County None First attested 1459 Government Mayor Gabriela Firea ( PSD ) Prefect Speranţa Cliseru Area Capital city 228 km ( 88 sq mi ) Urban 285 km ( 110 sq mi ) Elevation 55.8 -- 91.5 m ( 183.1 -- 300.2 ft ) Population ( 2011 ) Capital city 1,883,425 Estimate ( 2016 ) 2,106,144 Rank 1st in Romania ( 6th in\n",
            "Bucharest\n",
            "destroying a third of the city . Ottoman massacre of Greek irregulars in Bucharest ( August , 1821 ) In 1862 , after Wallachia and Moldavia were united to form the Principality of Romania , Bucharest became the new nation 's capital city . In 1881 , it became the political centre of the newly proclaimed Kingdom of Romania under King Carol I. During the second half of the 19th century , the city 's population increased dramatically , and a new period of urban development began . During this period , gas lighting , horse - drawn trams , and limited electrification were introduced . The Dâmbovița River was also massively channelled in 1883 , thus putting a stop to previously endemic floods like the 1865 flooding of Bucharest . The Fortifications of Bucharest were built . The extravagant architecture and cosmopolitan high culture of this period won Bucharest the nickname of `` Little Paris '' ( Micul Paris ) of the east , with Calea Victoriei as its Champs - Élysées . I.C. Brătianu Boulevard in the 1930s Between 6 December 1916 and November 1918 , the city was occupied by German forces as a result of the Battle of Bucharest , with the official capital temporarily moved to Iași , in the Moldavia region . After World War I , Bucharest became the capital of Greater Romania . In the interwar years , Bucharest 's urban development continued , with the city gaining an average of 30,000\n",
            "Bucharest\n",
            "documents in 1459 . It became the capital of Romania in 1862 and is the centre of Romanian media , culture , and art . Its architecture is a mix of historical ( neo-classical ) , interbellum ( Bauhaus and art deco ) , communist - era and modern . In the period between the two World Wars , the city 's elegant architecture and the sophistication of its elite earned Bucharest the nickname of `` Little Paris '' ( Micul Paris ) . Although buildings and districts in the historic city centre were heavily damaged or destroyed by war , earthquakes , and above all Nicolae Ceaușescu 's program of systematization , many survived . In recent years , the city has been experiencing an economic and cultural boom . In 2016 , the historical city centre was listed as `` endangered '' by the World Monuments Watch . According to the 2011 census , 1,883,425 inhabitants live within the city limits , a decrease from the 2002 census . Adding the satellite towns around the urban area , the proposed metropolitan area of Bucharest would have a population of 2.27 million people . According to Eurostat , Bucharest has a functional urban area of 2,412,530 residents ( as of 2015 ) . Bucharest is the sixth - largest city in the European Union by population within city limits , after London , Berlin , Madrid , Rome , and Paris . Economically , Bucharest is the most prosperous\n",
            "\n",
            "\n"
          ]
        }
      ],
      "source": [
        "for idx, result in enumerate(results):\n",
        "    print(\"=========\")\n",
        "    print(\"Question = \", result['query'])\n",
        "    print(\"Answer = \", result['result'])\n",
        "    print(\"Expected Answer(s) (may not be appear with exact wording in the dataset) = \", questions_and_answers[result['query']])\n",
        "    print(\"\\n\")\n",
        "    print(\"Source documents:\")\n",
        "    print(*(x.page_content for x in result['source_documents']), sep='\\n')\n",
        "    print(\"\\n\")\n",
        "    "
      ]
    },
    {
      "attachments": {},
      "cell_type": "markdown",
      "metadata": {},
      "source": [
        "---"
      ]
    },
    {
      "attachments": {},
      "cell_type": "markdown",
      "metadata": {},
      "source": [
        "Copyright © 2023-2025 IBM. This notebook and its source code are released under the terms of the MIT License."
      ]
    }
  ],
  "metadata": {
    "kernelspec": {
      "display_name": "BIG-bench",
      "language": "python",
      "name": "python3"
    },
    "language_info": {
      "codemirror_mode": {
        "name": "ipython",
        "version": 3
      },
      "file_extension": ".py",
      "mimetype": "text/x-python",
      "name": "python",
      "nbconvert_exporter": "python",
      "pygments_lexer": "ipython3",
      "version": "3.10.12"
    }
  },
  "nbformat": 4,
  "nbformat_minor": 4
}
