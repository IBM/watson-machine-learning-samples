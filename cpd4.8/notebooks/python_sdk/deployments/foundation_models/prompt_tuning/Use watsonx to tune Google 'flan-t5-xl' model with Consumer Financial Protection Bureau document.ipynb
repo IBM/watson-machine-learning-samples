{
  "cells": [
    {
      "cell_type": "markdown",
      "metadata": {
        "pycharm": {
          "name": "#%% md\n"
        }
      },
      "source": [
        "![image](https://raw.githubusercontent.com/IBM/watson-machine-learning-samples/master/cloud/notebooks/headers/watsonx-Prompt_Lab-Notebook.png)\n",
        "# Use watsonx to tune Google 'flan-t5-xl' model with Consumer Financial Protection Bureau document"
      ]
    },
    {
      "cell_type": "markdown",
      "metadata": {
        "pycharm": {
          "name": "#%% md\n"
        }
      },
      "source": [
        "#### Disclaimers\n",
        "\n",
        "- Use only Projects and Spaces that are available in watsonx context.\n",
        "\n",
        "\n",
        "## Notebook content\n",
        "\n",
        "This notebook contains the steps and code to demonstrate support of prompt tuning in watsonx.\n",
        "\n",
        "Some familiarity with Python is helpful. This notebook uses Python 3.10.\n",
        "\n",
        "\n",
        "## Learning goal\n",
        "\n",
        "The goal of this notebook is to demonstrate how to:\n",
        "- upload of dataset with prompts to container (project)\n",
        "- trigger prompt tuning process\n",
        "- review of prompt tuning process details/results\n",
        "- deploy prompt-tuned model/asset\n",
        "- inference of prompt-tuned model/asset\n",
        "\n",
        "\n",
        "## Contents\n",
        "\n",
        "This notebook contains the following parts:\n",
        "\n",
        "- [Setup](#setup)\n",
        "- [Data loading](#data_loading)\n",
        "- [Initialize experiment](#initialize)\n",
        "- [Run Prompt Tuning](#run_tuning)\n",
        "- [Prompt Tuning details](#run_details)\n",
        "- [Deploy](#deploy)\n",
        "- [Foundation Models Inference on `watsonx.ai`](#models_inference)\n",
        "- [Analyze the satisfaction](#predict)\n",
        "- [Summary and next steps](#summary)"
      ]
    },
    {
      "cell_type": "markdown",
      "metadata": {
        "pycharm": {
          "name": "#%% md\n"
        }
      },
      "source": [
        "<a id=\"setup\"></a>\n",
        "## Set up the environment\n",
        "\n",
        "Before you use the sample code in this notebook, you must perform the following setup tasks:\n",
        "\n",
        "-  Contact with your Cloud Pack for Data administrator and ask him for your account credentials"
      ]
    },
    {
      "cell_type": "markdown",
      "metadata": {
        "pycharm": {
          "name": "#%% md\n"
        }
      },
      "source": [
        "### Install and import the `datasets` and dependecies"
      ]
    },
    {
      "cell_type": "code",
      "execution_count": null,
      "metadata": {
        "pycharm": {
          "name": "#%%\n"
        }
      },
      "outputs": [],
      "source": [
        "!pip install \"ibm-watson-machine-learning>=1.0.348\" | tail -n 1\n",
        "!pip install scikit-learn | tail -n 1\n",
        "!pip install matplotlib | tail -n 1\n",
        "!pip install wget | tail -n 1"
      ]
    },
    {
      "cell_type": "markdown",
      "metadata": {
        "pycharm": {
          "name": "#%% md\n"
        }
      },
      "source": [
        "### Connection to WML\n",
        "\n",
        "Authenticate the Watson Machine Learning service on IBM Cloud Pack for Data. You need to provide platform `url`, your `username` and `api_key`."
      ]
    },
    {
      "cell_type": "code",
      "execution_count": null,
      "metadata": {},
      "outputs": [],
      "source": [
        "username = 'PASTE YOUR USERNAME HERE'\n",
        "api_key = 'PASTE YOUR API_KEY HERE'\n",
        "url = 'PASTE THE PLATFORM URL HERE'"
      ]
    },
    {
      "cell_type": "code",
      "execution_count": 2,
      "metadata": {
        "pycharm": {
          "name": "#%%\n"
        }
      },
      "outputs": [],
      "source": [
        "wml_credentials = {\n",
        "    \"username\": username,\n",
        "    \"apikey\": api_key,\n",
        "    \"url\": url,\n",
        "    \"instance_id\": 'openshift',\n",
        "    \"version\": '4.8'\n",
        "}"
      ]
    },
    {
      "cell_type": "markdown",
      "metadata": {},
      "source": [
        "Alternatively you can use `username` and `password` to authenticate WML services.\n",
        "\n",
        "```python\n",
        "wml_credentials = {\n",
        "    \"username\": ***,\n",
        "    \"password\": ***,\n",
        "    \"url\": ***,\n",
        "    \"instance_id\": 'openshift',\n",
        "    \"version\": '4.8'\n",
        "}\n",
        "\n",
        "```"
      ]
    },
    {
      "cell_type": "markdown",
      "metadata": {
        "pycharm": {
          "name": "#%% md\n"
        }
      },
      "source": [
        "### Defining the project id\n",
        "The Foundation Model requires project id that provides the context for the call. We will obtain the id from the project in which this notebook runs. Otherwise, please provide the project id."
      ]
    },
    {
      "cell_type": "code",
      "execution_count": 3,
      "metadata": {
        "pycharm": {
          "name": "#%%\n"
        }
      },
      "outputs": [],
      "source": [
        "import os\n",
        "\n",
        "try:\n",
        "    project_id = os.environ[\"PROJECT_ID\"]\n",
        "except KeyError:\n",
        "    project_id = input(\"Please enter your project_id (hit enter): \")"
      ]
    },
    {
      "cell_type": "markdown",
      "metadata": {
        "pycharm": {
          "name": "#%% md\n"
        }
      },
      "source": [
        "Create an instance of APIClient with authentication details."
      ]
    },
    {
      "cell_type": "code",
      "execution_count": 4,
      "metadata": {
        "pycharm": {
          "name": "#%%\n"
        }
      },
      "outputs": [],
      "source": [
        "from ibm_watson_machine_learning import APIClient\n",
        "\n",
        "client = APIClient(wml_credentials)"
      ]
    },
    {
      "cell_type": "markdown",
      "metadata": {
        "pycharm": {
          "name": "#%% md\n"
        }
      },
      "source": [
        "To be able to interact with all resources available in Watson Machine Learning, you need to set **project_id** which you will be using."
      ]
    },
    {
      "cell_type": "code",
      "execution_count": 5,
      "metadata": {
        "pycharm": {
          "name": "#%%\n"
        }
      },
      "outputs": [
        {
          "data": {
            "text/plain": [
              "'SUCCESS'"
            ]
          },
          "execution_count": 5,
          "metadata": {},
          "output_type": "execute_result"
        }
      ],
      "source": [
        "client.set.default_project(project_id)"
      ]
    },
    {
      "cell_type": "markdown",
      "metadata": {
        "pycharm": {
          "name": "#%% md\n"
        }
      },
      "source": [
        "<a id=\"data_loading\"></a>\n",
        "## Data loading"
      ]
    },
    {
      "cell_type": "markdown",
      "metadata": {
        "pycharm": {
          "name": "#%% md\n"
        }
      },
      "source": [
        "This example uses the Consumer Financial Protection Bureau training dataset. "
      ]
    },
    {
      "cell_type": "code",
      "execution_count": 6,
      "metadata": {},
      "outputs": [],
      "source": [
        "filename = 'cfpb_train.json'"
      ]
    },
    {
      "cell_type": "markdown",
      "metadata": {
        "pycharm": {
          "name": "#%% md\n"
        }
      },
      "source": [
        "Download training data from git repository and create data assets."
      ]
    },
    {
      "cell_type": "code",
      "execution_count": 7,
      "metadata": {
        "pycharm": {
          "name": "#%%\n"
        }
      },
      "outputs": [
        {
          "name": "stdout",
          "output_type": "stream",
          "text": [
            "Creating data asset...\n",
            "SUCCESS\n"
          ]
        }
      ],
      "source": [
        "import wget\n",
        "import os\n",
        "\n",
        "url = \"https://raw.github.com/IBM/watson-machine-learning-samples/master/cloud/data/prompt_tuning/cfpb_train.json\"\n",
        "if not os.path.isfile(filename): \n",
        "    wget.download(url)\n",
        "    \n",
        "asset_details = client.data_assets.create(name=filename, file_path=filename)"
      ]
    },
    {
      "cell_type": "code",
      "execution_count": 8,
      "metadata": {
        "pycharm": {
          "name": "#%%\n"
        }
      },
      "outputs": [],
      "source": [
        "asset_id = client.data_assets.get_id(asset_details)"
      ]
    },
    {
      "cell_type": "markdown",
      "metadata": {
        "pycharm": {
          "name": "#%% md\n"
        }
      },
      "source": [
        "Define connection information to training data."
      ]
    },
    {
      "cell_type": "code",
      "execution_count": 9,
      "metadata": {
        "pycharm": {
          "name": "#%%\n"
        }
      },
      "outputs": [],
      "source": [
        "from ibm_watson_machine_learning.helpers import DataConnection\n",
        "\n",
        "data_conn = DataConnection(data_asset_id=asset_id)"
      ]
    },
    {
      "cell_type": "markdown",
      "metadata": {
        "pycharm": {
          "name": "#%% md\n"
        }
      },
      "source": [
        "<a id=\"initialize\"></a>\n",
        "## Initialize experiment "
      ]
    },
    {
      "cell_type": "code",
      "execution_count": 10,
      "metadata": {
        "pycharm": {
          "name": "#%%\n"
        }
      },
      "outputs": [],
      "source": [
        "from ibm_watson_machine_learning.experiment import TuneExperiment\n",
        "\n",
        "experiment = TuneExperiment(wml_credentials, project_id=project_id)"
      ]
    },
    {
      "cell_type": "markdown",
      "metadata": {
        "pycharm": {
          "name": "#%% md\n"
        }
      },
      "source": [
        "All avaliable tasks are presented under `Tasks` Enum"
      ]
    },
    {
      "cell_type": "code",
      "execution_count": 11,
      "metadata": {
        "pycharm": {
          "name": "#%%\n"
        }
      },
      "outputs": [
        {
          "data": {
            "text/plain": [
              "{'QUESTION_ANSWERING': 'question_answering',\n",
              " 'SUMMARIZATION': 'summarization',\n",
              " 'RETRIEVAL_AUGMENTED_GENERATION': 'retrieval_augmented_generation',\n",
              " 'CLASSIFICATION': 'classification',\n",
              " 'GENERATION': 'generation',\n",
              " 'CODE_GENERATION_AND_CONVERSION': 'code',\n",
              " 'EXTRACTION': 'extraction',\n",
              " 'TRANSLATION': 'translation'}"
            ]
          },
          "execution_count": 11,
          "metadata": {},
          "output_type": "execute_result"
        }
      ],
      "source": [
        "{task.name: task.value for task in experiment.Tasks}"
      ]
    },
    {
      "cell_type": "markdown",
      "metadata": {
        "pycharm": {
          "name": "#%% md\n"
        }
      },
      "source": [
        "Define `prompt_tuner` parameters. \n",
        "\n",
        "**Action:** For parameters details, see <a href=\"https://ibm.github.io/watsonx-ai-python-sdk/tune_experiment.html#ibm_watsonx_ai.experiment.fm_tune.TuneExperiment.prompt_tuner\" target=\"_blank\" rel=\"noopener no referrer\">documentation</a>."
      ]
    },
    {
      "cell_type": "code",
      "execution_count": 12,
      "metadata": {
        "pycharm": {
          "name": "#%%\n"
        }
      },
      "outputs": [],
      "source": [
        "prompt_tuner = experiment.prompt_tuner(name=\"sample SDK run auto_update True\",\n",
        "                                       task_id=experiment.Tasks.CLASSIFICATION,\n",
        "                                       base_model='google/flan-t5-xl',\n",
        "                                       accumulate_steps=32,\n",
        "                                       batch_size=16,\n",
        "                                       learning_rate=0.2,\n",
        "                                       max_input_tokens=256,\n",
        "                                       max_output_tokens=20,\n",
        "                                       num_epochs=6,\n",
        "                                       tuning_type=experiment.PromptTuningTypes.PT,\n",
        "                                       verbalizer=\"Including narratives choice the best match product with the items from the list: 'credit_card', 'debt_collection', 'mortgages_and_loans', 'credit_reporting', 'retail_banking'. Input: {{input}} Output: \",\n",
        "                                       auto_update_model=True\n",
        "                                       )"
      ]
    },
    {
      "cell_type": "markdown",
      "metadata": {
        "pycharm": {
          "name": "#%% md\n"
        }
      },
      "source": [
        "You can review previous set parameters"
      ]
    },
    {
      "cell_type": "code",
      "execution_count": 13,
      "metadata": {
        "pycharm": {
          "name": "#%%\n"
        }
      },
      "outputs": [
        {
          "data": {
            "text/plain": [
              "{'base_model': {'model_id': 'google/flan-t5-xl'},\n",
              " 'accumulate_steps': 32,\n",
              " 'batch_size': 16,\n",
              " 'learning_rate': 0.2,\n",
              " 'max_input_tokens': 256,\n",
              " 'max_output_tokens': 20,\n",
              " 'num_epochs': 6,\n",
              " 'task_id': 'classification',\n",
              " 'tuning_type': 'prompt_tuning',\n",
              " 'verbalizer': \"Including narratives choice the best match product with the items from the list: 'credit_card', 'debt_collection', 'mortgages_and_loans', 'credit_reporting', 'retail_banking'. Input: {{input}} Output: \",\n",
              " 'name': 'sample SDK run auto_update True',\n",
              " 'description': 'Prompt tuning with SDK',\n",
              " 'auto_update_model': True,\n",
              " 'group_by_name': False}"
            ]
          },
          "execution_count": 13,
          "metadata": {},
          "output_type": "execute_result"
        }
      ],
      "source": [
        "prompt_tuner.get_params()"
      ]
    },
    {
      "cell_type": "markdown",
      "metadata": {
        "pycharm": {
          "name": "#%% md\n"
        }
      },
      "source": [
        "<a id=\"run_tuning\"></a>\n",
        "## Run Prompt Tuning"
      ]
    },
    {
      "cell_type": "markdown",
      "metadata": {
        "pycharm": {
          "name": "#%% md\n"
        }
      },
      "source": [
        "Run a prompt tuning process of foundation model on top of the training data referenced by DataConnection (tuning may take some time).\n",
        "\n",
        "\n",
        "By changing the `background_mode` parameter to `True`, the prompt tuning process will run in the background."
      ]
    },
    {
      "cell_type": "code",
      "execution_count": 14,
      "metadata": {
        "pycharm": {
          "name": "#%%\n"
        }
      },
      "outputs": [
        {
          "name": "stdout",
          "output_type": "stream",
          "text": [
            "\n",
            "\n",
            "##############################################\n",
            "\n",
            "Running 'cc71b571-e69e-4efb-b86f-b355be092be2'\n",
            "\n",
            "##############################################\n",
            "\n",
            "\n",
            "pending.....\n",
            "running..........................................\n",
            "completed\n",
            "Training of 'cc71b571-e69e-4efb-b86f-b355be092be2' finished successfully.\n"
          ]
        }
      ],
      "source": [
        "tuning_details = prompt_tuner.run(training_data_references=[data_conn], background_mode=False)"
      ]
    },
    {
      "cell_type": "markdown",
      "metadata": {
        "pycharm": {
          "name": "#%% md\n"
        }
      },
      "source": [
        "<a id=\"run_details\"></a>\n",
        "## Prompt Tuning details"
      ]
    },
    {
      "cell_type": "markdown",
      "metadata": {
        "pycharm": {
          "name": "#%% md\n"
        }
      },
      "source": [
        "Check status/state of initialized Prompt Tuning run if ran in background mode or when process finish if background mode is off."
      ]
    },
    {
      "cell_type": "code",
      "execution_count": 15,
      "metadata": {
        "pycharm": {
          "name": "#%%\n"
        }
      },
      "outputs": [
        {
          "data": {
            "text/plain": [
              "'completed'"
            ]
          },
          "execution_count": 15,
          "metadata": {},
          "output_type": "execute_result"
        }
      ],
      "source": [
        "prompt_tuner.get_run_status()"
      ]
    },
    {
      "cell_type": "markdown",
      "metadata": {
        "pycharm": {
          "name": "#%% md\n"
        }
      },
      "source": [
        "Get prompt tuning run details."
      ]
    },
    {
      "cell_type": "code",
      "execution_count": 16,
      "metadata": {
        "pycharm": {
          "name": "#%%\n"
        }
      },
      "outputs": [
        {
          "data": {
            "text/plain": [
              "{'metadata': {'created_at': '2024-02-26T13:25:12.097Z',\n",
              "  'description': 'Prompt tuning with SDK',\n",
              "  'id': 'cc71b571-e69e-4efb-b86f-b355be092be2',\n",
              "  'modified_at': '2024-02-26T13:29:39.207Z',\n",
              "  'name': 'sample SDK run auto_update True',\n",
              "  'project_id': 'b5883c9c-6cc7-42de-8f94-4af041b57d59',\n",
              "  'tags': ['prompt_tuning',\n",
              "   'wx_prompt_tune.fafa74bb-fcda-4a86-b7f2-d6bb44a7390d']},\n",
              " 'entity': {'auto_update_model': True,\n",
              "  'description': 'Prompt tuning with SDK',\n",
              "  'model_id': '5e84a3da-4460-4902-b610-0db784ffdaa9',\n",
              "  'name': 'sample SDK run auto_update True',\n",
              "  'project_id': 'b5883c9c-6cc7-42de-8f94-4af041b57d59',\n",
              "  'prompt_tuning': {'accumulate_steps': 32,\n",
              "   'base_model': {'model_id': 'google/flan-t5-xl'},\n",
              "   'batch_size': 16,\n",
              "   'init_method': 'random',\n",
              "   'learning_rate': 0.2,\n",
              "   'max_input_tokens': 256,\n",
              "   'max_output_tokens': 20,\n",
              "   'num_epochs': 6,\n",
              "   'num_virtual_tokens': 100,\n",
              "   'task_id': 'classification',\n",
              "   'tuning_type': 'prompt_tuning',\n",
              "   'verbalizer': \"Including narratives choice the best match product with the items from the list: 'credit_card', 'debt_collection', 'mortgages_and_loans', 'credit_reporting', 'retail_banking'. Input: {{input}} Output: \"},\n",
              "  'results_reference': {'connection': {},\n",
              "   'location': {'path': '/projects/b5883c9c-6cc7-42de-8f94-4af041b57d59/assets/wx_prompt_tune',\n",
              "    'training': '/projects/b5883c9c-6cc7-42de-8f94-4af041b57d59/assets/wx_prompt_tune/cc71b571-e69e-4efb-b86f-b355be092be2',\n",
              "    'training_status': '/projects/b5883c9c-6cc7-42de-8f94-4af041b57d59/assets/wx_prompt_tune/cc71b571-e69e-4efb-b86f-b355be092be2/training-status.json',\n",
              "    'model_request_path': '/projects/b5883c9c-6cc7-42de-8f94-4af041b57d59/assets/wx_prompt_tune/cc71b571-e69e-4efb-b86f-b355be092be2/assets/cc71b571-e69e-4efb-b86f-b355be092be2/resources/wml_model/request.json',\n",
              "    'assets_path': '/projects/b5883c9c-6cc7-42de-8f94-4af041b57d59/assets/wx_prompt_tune/cc71b571-e69e-4efb-b86f-b355be092be2/assets'},\n",
              "   'type': 'fs'},\n",
              "  'status': {'completed_at': '2024-02-26T13:29:39.197Z',\n",
              "   'running_at': '2024-02-26T13:25:42.950Z',\n",
              "   'state': 'completed'},\n",
              "  'tags': ['prompt_tuning',\n",
              "   'wx_prompt_tune.fafa74bb-fcda-4a86-b7f2-d6bb44a7390d'],\n",
              "  'training_data_references': [{'connection': {},\n",
              "    'location': {'href': '/v2/assets/de1bb418-5a7c-4b77-bf63-b94b3644e7ca',\n",
              "     'id': 'de1bb418-5a7c-4b77-bf63-b94b3644e7ca'},\n",
              "    'type': 'data_asset'}]}}"
            ]
          },
          "execution_count": 16,
          "metadata": {},
          "output_type": "execute_result"
        }
      ],
      "source": [
        "prompt_tuner.get_run_details()"
      ]
    },
    {
      "cell_type": "markdown",
      "metadata": {},
      "source": [
        "Let's summarize the run."
      ]
    },
    {
      "cell_type": "code",
      "execution_count": 17,
      "metadata": {},
      "outputs": [
        {
          "data": {
            "text/html": [
              "<div>\n",
              "<style scoped>\n",
              "    .dataframe tbody tr th:only-of-type {\n",
              "        vertical-align: middle;\n",
              "    }\n",
              "\n",
              "    .dataframe tbody tr th {\n",
              "        vertical-align: top;\n",
              "    }\n",
              "\n",
              "    .dataframe thead th {\n",
              "        text-align: right;\n",
              "    }\n",
              "</style>\n",
              "<table border=\"1\" class=\"dataframe\">\n",
              "  <thead>\n",
              "    <tr style=\"text-align: right;\">\n",
              "      <th></th>\n",
              "      <th>Enhancements</th>\n",
              "      <th>Base model</th>\n",
              "      <th>Auto store</th>\n",
              "      <th>Epochs</th>\n",
              "      <th>loss</th>\n",
              "    </tr>\n",
              "    <tr>\n",
              "      <th>Model Name</th>\n",
              "      <th></th>\n",
              "      <th></th>\n",
              "      <th></th>\n",
              "      <th></th>\n",
              "      <th></th>\n",
              "    </tr>\n",
              "  </thead>\n",
              "  <tbody>\n",
              "    <tr>\n",
              "      <th>model_cc71b571-e69e-4efb-b86f-b355be092be2</th>\n",
              "      <td>[prompt_tuning]</td>\n",
              "      <td>google/flan-t5-xl</td>\n",
              "      <td>True</td>\n",
              "      <td>6</td>\n",
              "      <td>0.349483</td>\n",
              "    </tr>\n",
              "  </tbody>\n",
              "</table>\n",
              "</div>"
            ],
            "text/plain": [
              "                                               Enhancements  \\\n",
              "Model Name                                                    \n",
              "model_cc71b571-e69e-4efb-b86f-b355be092be2  [prompt_tuning]   \n",
              "\n",
              "                                                   Base model  Auto store  \\\n",
              "Model Name                                                                  \n",
              "model_cc71b571-e69e-4efb-b86f-b355be092be2  google/flan-t5-xl        True   \n",
              "\n",
              "                                            Epochs      loss  \n",
              "Model Name                                                    \n",
              "model_cc71b571-e69e-4efb-b86f-b355be092be2       6  0.349483  "
            ]
          },
          "execution_count": 17,
          "metadata": {},
          "output_type": "execute_result"
        }
      ],
      "source": [
        "prompt_tuner.summary()"
      ]
    },
    {
      "cell_type": "markdown",
      "metadata": {
        "collapsed": false,
        "pycharm": {
          "name": "#%% md\n"
        }
      },
      "source": [
        "Plot learning curves."
      ]
    },
    {
      "cell_type": "code",
      "execution_count": 18,
      "metadata": {
        "collapsed": false,
        "pycharm": {
          "name": "#%%\n"
        }
      },
      "outputs": [
        {
          "data": {
            "image/png": "[encoded data removed]",
            "text/plain": [
              "<Figure size 1800x400 with 3 Axes>"
            ]
          },
          "metadata": {},
          "output_type": "display_data"
        }
      ],
      "source": [
        "prompt_tuner.plot_learning_curve()"
      ]
    },
    {
      "cell_type": "markdown",
      "metadata": {
        "pycharm": {
          "name": "#%% md\n"
        }
      },
      "source": [
        "<a id=\"deploy\"></a>\n",
        "## Deploy"
      ]
    },
    {
      "cell_type": "markdown",
      "metadata": {
        "pycharm": {
          "name": "#%% md\n"
        }
      },
      "source": [
        "You can specify `model_id` from tuning details."
      ]
    },
    {
      "cell_type": "code",
      "execution_count": 19,
      "metadata": {
        "pycharm": {
          "name": "#%%\n"
        }
      },
      "outputs": [
        {
          "data": {
            "text/plain": [
              "'5e84a3da-4460-4902-b610-0db784ffdaa9'"
            ]
          },
          "execution_count": 19,
          "metadata": {},
          "output_type": "execute_result"
        }
      ],
      "source": [
        "model_id = None\n",
        "\n",
        "if 'model_id' in tuning_details.get('entity', {}):\n",
        "    model_id = tuning_details['entity']['model_id']\n",
        "model_id"
      ]
    },
    {
      "cell_type": "markdown",
      "metadata": {
        "pycharm": {
          "name": "#%% md\n"
        }
      },
      "source": [
        "Create online deployment for published model."
      ]
    },
    {
      "cell_type": "code",
      "execution_count": 20,
      "metadata": {
        "pycharm": {
          "name": "#%%\n"
        }
      },
      "outputs": [
        {
          "name": "stdout",
          "output_type": "stream",
          "text": [
            "\n",
            "\n",
            "#######################################################################################\n",
            "\n",
            "Synchronous deployment creation for uid: '5e84a3da-4460-4902-b610-0db784ffdaa9' started\n",
            "\n",
            "#######################################################################################\n",
            "\n",
            "\n",
            "initializing\n",
            "ready\n",
            "\n",
            "\n",
            "------------------------------------------------------------------------------------------------\n",
            "Successfully finished deployment creation, deployment_uid='848b4d63-0f87-4f7d-97ba-322cf5875948'\n",
            "------------------------------------------------------------------------------------------------\n",
            "\n",
            "\n"
          ]
        }
      ],
      "source": [
        "from datetime import datetime\n",
        "meta_props = {\n",
        "    client.deployments.ConfigurationMetaNames.NAME: \"PT DEPLOYMENT SDK - project\",\n",
        "    client.deployments.ConfigurationMetaNames.ONLINE: {},\n",
        "    client.deployments.ConfigurationMetaNames.SERVING_NAME : f\"pt_sdk_deployment_{datetime.utcnow().strftime('%Y_%m_%d_%H%M%S')}\"\n",
        "}\n",
        "deployment_details = client.deployments.create(model_id, meta_props)"
      ]
    },
    {
      "cell_type": "markdown",
      "metadata": {
        "pycharm": {
          "name": "#%% md\n"
        }
      },
      "source": [
        "Additionally you can get deployment details by printing `deployment_details`"
      ]
    },
    {
      "cell_type": "code",
      "execution_count": null,
      "metadata": {},
      "outputs": [],
      "source": [
        "deployment_details"
      ]
    },
    {
      "cell_type": "markdown",
      "metadata": {
        "pycharm": {
          "name": "#%% md\n"
        }
      },
      "source": [
        "You can specify `deployment_id` from deployment details."
      ]
    },
    {
      "cell_type": "code",
      "execution_count": 22,
      "metadata": {
        "pycharm": {
          "name": "#%%\n"
        }
      },
      "outputs": [
        {
          "data": {
            "text/plain": [
              "'848b4d63-0f87-4f7d-97ba-322cf5875948'"
            ]
          },
          "execution_count": 22,
          "metadata": {},
          "output_type": "execute_result"
        }
      ],
      "source": [
        "deployment_id = deployment_details['metadata']['id']\n",
        "deployment_id"
      ]
    },
    {
      "cell_type": "markdown",
      "metadata": {
        "pycharm": {
          "name": "#%% md\n"
        }
      },
      "source": [
        "<a id=\"models_inference\"></a>\n",
        "## Foundation Models Inference on `watsonx.ai`"
      ]
    },
    {
      "cell_type": "markdown",
      "metadata": {
        "pycharm": {
          "name": "#%% md\n"
        }
      },
      "source": [
        "Provide a set of model parameters."
      ]
    },
    {
      "cell_type": "code",
      "execution_count": 23,
      "metadata": {
        "pycharm": {
          "name": "#%%\n"
        }
      },
      "outputs": [],
      "source": [
        "from ibm_watson_machine_learning.metanames import GenTextParamsMetaNames as GenParams\n",
        "\n",
        "generate_params = {\n",
        "    GenParams.MAX_NEW_TOKENS: 20,\n",
        "    GenParams.STOP_SEQUENCES: [\"\\n\"]\n",
        "}"
      ]
    },
    {
      "cell_type": "markdown",
      "metadata": {
        "pycharm": {
          "name": "#%% md\n"
        }
      },
      "source": [
        "Initialize the `ModelInference` class."
      ]
    },
    {
      "cell_type": "code",
      "execution_count": 24,
      "metadata": {
        "pycharm": {
          "name": "#%%\n"
        }
      },
      "outputs": [],
      "source": [
        "from ibm_watson_machine_learning.foundation_models import ModelInference\n",
        "\n",
        "tuned_model = ModelInference(\n",
        "    deployment_id=deployment_id,\n",
        "    params=generate_params,\n",
        "    api_client=client\n",
        ")"
      ]
    },
    {
      "cell_type": "markdown",
      "metadata": {
        "pycharm": {
          "name": "#%% md\n"
        }
      },
      "source": [
        "Alternatively you can use `credentials` and `project_id` to initialize the `ModelInference` class.\n",
        "\n",
        "```\n",
        "tuned_model = ModelInference(\n",
        "    deployment_id=deployment_id,\n",
        "    params=generate_params,\n",
        "    credentials=credentials,\n",
        "    project_id=project_id\n",
        ")\n",
        "```"
      ]
    },
    {
      "cell_type": "markdown",
      "metadata": {
        "pycharm": {
          "name": "#%% md\n"
        }
      },
      "source": [
        "Get deployment model inference details."
      ]
    },
    {
      "cell_type": "code",
      "execution_count": null,
      "metadata": {
        "pycharm": {
          "name": "#%%\n"
        }
      },
      "outputs": [],
      "source": [
        "tuned_model.get_details()"
      ]
    },
    {
      "cell_type": "markdown",
      "metadata": {},
      "source": [
        "Analyze the product class for a sample prompt."
      ]
    },
    {
      "cell_type": "code",
      "execution_count": 26,
      "metadata": {
        "pycharm": {
          "name": "#%%\n"
        }
      },
      "outputs": [
        {
          "data": {
            "text/plain": [
              "'credit_card'"
            ]
          },
          "execution_count": 26,
          "metadata": {},
          "output_type": "execute_result"
        }
      ],
      "source": [
        "response = tuned_model.generate_text(prompt=\"Including narratives choice the best match product with the items from the list: 'credit_card', 'debt_collection', 'mortgages_and_loans', 'credit_reporting', 'retail_banking'.\\nComment: hi landed job reside ca needed room rent found place rent paid deposit dollar however position going didnt work longer needed rent place bay asked landlord refund security deposit refused told called back wellsfargo disputed transaction recently noticed card reversal checking account got charged amount dollar called bank werent able refund money also emailed landlord asking refund money ten day passed still response hope cfpb take action successfully resolve issue thank\\nProduct:\\n\")\n",
        "response"
      ]
    },
    {
      "cell_type": "markdown",
      "metadata": {
        "pycharm": {
          "name": "#%% md\n"
        }
      },
      "source": [
        "<a id=\"predict\"></a>\n",
        "## Analyze the product classes."
      ]
    },
    {
      "cell_type": "markdown",
      "metadata": {
        "pycharm": {
          "name": "#%% md\n"
        }
      },
      "source": [
        "Download and prepare the `cfpb_test` dataset."
      ]
    },
    {
      "cell_type": "code",
      "execution_count": 27,
      "metadata": {
        "pycharm": {
          "name": "#%%\n"
        }
      },
      "outputs": [],
      "source": [
        "import pandas as pd\n",
        "\n",
        "filename = 'cfpb_test.json'\n",
        "\n",
        "url = \"https://raw.github.com/IBM/watson-machine-learning-samples/master/cloud/data/prompt_tuning/cfpb_test.json\"\n",
        "if not os.path.isfile(filename): \n",
        "    wget.download(url)\n",
        "    \n",
        "data = pd.read_json(filename)"
      ]
    },
    {
      "cell_type": "code",
      "execution_count": 28,
      "metadata": {
        "pycharm": {
          "name": "#%%\n"
        }
      },
      "outputs": [],
      "source": [
        "prompts = list(data.input)\n",
        "products = list(data.output)"
      ]
    },
    {
      "cell_type": "code",
      "execution_count": 29,
      "metadata": {
        "pycharm": {
          "name": "#%%\n"
        }
      },
      "outputs": [],
      "source": [
        "prompts_batch = [\"\\n\".join([prompt]) for prompt in prompts]"
      ]
    },
    {
      "cell_type": "markdown",
      "metadata": {
        "pycharm": {
          "name": "#%% md\n"
        }
      },
      "source": [
        "### Calculate the accuracy of tuned model"
      ]
    },
    {
      "cell_type": "code",
      "execution_count": 30,
      "metadata": {
        "pycharm": {
          "name": "#%%\n"
        }
      },
      "outputs": [],
      "source": [
        "tuned_model_results = tuned_model.generate_text(prompt=prompts_batch)"
      ]
    },
    {
      "cell_type": "code",
      "execution_count": 32,
      "metadata": {
        "pycharm": {
          "name": "#%%\n"
        }
      },
      "outputs": [
        {
          "name": "stdout",
          "output_type": "stream",
          "text": [
            "accuracy_score: 0.6066666666666667\n"
          ]
        }
      ],
      "source": [
        "from sklearn.metrics import accuracy_score\n",
        "\n",
        "print(f'accuracy_score: {accuracy_score(products, tuned_model_results)}')"
      ]
    },
    {
      "cell_type": "markdown",
      "metadata": {
        "pycharm": {
          "name": "#%% md\n"
        }
      },
      "source": [
        "### Calculate the accuracy of base model"
      ]
    },
    {
      "cell_type": "markdown",
      "metadata": {
        "pycharm": {
          "name": "#%% md\n"
        }
      },
      "source": [
        "Initialize the `ModelInference` class with base model."
      ]
    },
    {
      "cell_type": "code",
      "execution_count": 31,
      "metadata": {
        "pycharm": {
          "name": "#%%\n"
        }
      },
      "outputs": [],
      "source": [
        "base_model = ModelInference(\n",
        "    model_id='google/flan-t5-xl',\n",
        "    params=generate_params,\n",
        "    api_client=client\n",
        ")"
      ]
    },
    {
      "cell_type": "code",
      "execution_count": 32,
      "metadata": {
        "pycharm": {
          "name": "#%%\n"
        }
      },
      "outputs": [],
      "source": [
        "base_model_results = base_model.generate_text(prompt=prompts_batch)"
      ]
    },
    {
      "cell_type": "code",
      "execution_count": 33,
      "metadata": {
        "pycharm": {
          "name": "#%%\n"
        }
      },
      "outputs": [
        {
          "name": "stdout",
          "output_type": "stream",
          "text": [
            "base model accuracy_score: 0.53\n"
          ]
        }
      ],
      "source": [
        "from sklearn.metrics import accuracy_score\n",
        "\n",
        "print(f'base model accuracy_score: {accuracy_score(products, base_model_results)}')"
      ]
    },
    {
      "cell_type": "markdown",
      "metadata": {
        "pycharm": {
          "name": "#%% md\n"
        }
      },
      "source": [
        "<a id=\"summary\"></a>\n",
        "## Summary and next steps\n",
        "\n",
        " You successfully completed this notebook!.\n",
        " \n",
        " You learned how to use prompt tuning in watsonx for analyze the product classes for a sample prompts.\n",
        " \n",
        "Check out our _<a href=\"https://ibm.github.io/watsonx-ai-python-sdk/samples.html\" target=\"_blank\" rel=\"noopener no referrer\">Online Documentation</a>_ for more samples, tutorials, documentation, how-tos, and blog posts. "
      ]
    },
    {
      "cell_type": "markdown",
      "metadata": {
        "pycharm": {
          "name": "#%% md\n"
        }
      },
      "source": [
        "### Authors: \n",
        " **Mateusz Szewczyk**, Software Engineer at Watson Machine Learning."
      ]
    },
    {
      "cell_type": "markdown",
      "metadata": {
        "pycharm": {
          "name": "#%% md\n"
        }
      },
      "source": [
        "Copyright © 2024-2025 IBM. This notebook and its source code are released under the terms of the MIT License."
      ]
    }
  ],
  "metadata": {
    "kernelspec": {
      "display_name": "notebook-samples",
      "language": "python",
      "name": "python3"
    },
    "language_info": {
      "codemirror_mode": {
        "name": "ipython",
        "version": 3
      },
      "file_extension": ".py",
      "mimetype": "text/x-python",
      "name": "python",
      "nbconvert_exporter": "python",
      "pygments_lexer": "ipython3",
      "version": "3.10.13"
    },
    "orig_nbformat": 4
  },
  "nbformat": 4,
  "nbformat_minor": 2
}
