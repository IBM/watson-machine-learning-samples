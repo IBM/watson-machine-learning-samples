{
  "cells": [
    {
      "cell_type": "markdown",
      "metadata": {
        "pycharm": {
          "name": "#%% md\n"
        }
      },
      "source": [
        "![image](https://raw.githubusercontent.com/IBM/watson-machine-learning-samples/master/cloud/notebooks/headers/watsonx-Prompt_Lab-Notebook.png)\n",
        "# Use watsonx to tune IBM `granite-13b-instruct-v2` model with Car Rental Company customer satisfaction document"
      ]
    },
    {
      "cell_type": "markdown",
      "metadata": {
        "pycharm": {
          "name": "#%% md\n"
        }
      },
      "source": [
        "#### Disclaimers\n",
        "\n",
        "- Use only Projects and Spaces that are available in watsonx context.\n",
        "\n",
        "\n",
        "## Notebook content\n",
        "\n",
        "This notebook contains the steps and code to demonstrate support of prompt tuning in watsonx.\n",
        "\n",
        "Some familiarity with Python is helpful. This notebook uses Python 3.10.\n",
        "\n",
        "\n",
        "## Learning goal\n",
        "\n",
        "The goal of this notebook is to demonstrate how to:\n",
        "- upload of dataset with prompts to container (project)\n",
        "- trigger prompt tuning process\n",
        "- review of prompt tuning process details/results\n",
        "- deploy prompt-tuned model/asset\n",
        "- evaluation (via inference) of prompt-tuned model/asset\n",
        "\n",
        "\n",
        "## Contents\n",
        "\n",
        "This notebook contains the following parts:\n",
        "\n",
        "- [Setup](#setup)\n",
        "- [Data loading](#data_loading)\n",
        "- [Initialize experiment](#initialize)\n",
        "- [Run Prompt Tuning](#run_tuning)\n",
        "- [Prompt Tuning details](#run_details)\n",
        "- [Deploy](#deploy)\n",
        "- [Foundation Models Inference](#models_inference)\n",
        "- [Analyze the satisfaction](#predict)\n",
        "- [Summary and next steps](#summary)"
      ]
    },
    {
      "cell_type": "markdown",
      "metadata": {
        "pycharm": {
          "name": "#%% md\n"
        }
      },
      "source": [
        "<a id=\"setup\"></a>\n",
        "## Set up the environment\n",
        "\n",
        "Before you use the sample code in this notebook, you must perform the following setup tasks:\n",
        "\n",
        "-  Contact with your Cloud Pack for Data administrator and ask him for your account credentials"
      ]
    },
    {
      "cell_type": "markdown",
      "metadata": {
        "pycharm": {
          "name": "#%% md\n"
        }
      },
      "source": [
        "### Install and import the `datasets` and dependencies"
      ]
    },
    {
      "cell_type": "code",
      "execution_count": null,
      "metadata": {
        "pycharm": {
          "name": "#%%\n"
        }
      },
      "outputs": [],
      "source": [
        "!pip install ibm-watsonx-ai | tail -n 1\n",
        "!pip install scikit-learn | tail -n 1\n",
        "!pip install matplotlib | tail -n 1\n",
        "!pip install wget | tail -n 1"
      ]
    },
    {
      "cell_type": "markdown",
      "metadata": {
        "pycharm": {
          "name": "#%% md\n"
        }
      },
      "source": [
        "### Connection to WML\n",
        "\n",
        "Authenticate the Watson Machine Learning service on IBM Cloud Pack for Data. You need to provide platform `url`, your `username` and `api_key`."
      ]
    },
    {
      "cell_type": "code",
      "execution_count": 2,
      "metadata": {
        "pycharm": {
          "name": "#%%\n"
        }
      },
      "outputs": [],
      "source": [
        "username = 'PASTE YOUR USERNAME HERE'\n",
        "api_key = 'PASTE YOUR API_KEY HERE'\n",
        "url = 'PASTE THE PLATFORM URL HERE'"
      ]
    },
    {
      "cell_type": "code",
      "execution_count": 3,
      "metadata": {},
      "outputs": [],
      "source": [
        "credentials = {\n",
        "    \"username\": username,\n",
        "    \"apikey\": api_key,\n",
        "    \"url\": url,\n",
        "    \"instance_id\": 'openshift',\n",
        "    \"version\": '4.8'\n",
        "}"
      ]
    },
    {
      "cell_type": "markdown",
      "metadata": {},
      "source": [
        "Alternatively you can use `username` and `password` to authenticate WML services.\n",
        "\n",
        "```\n",
        "wml_credentials = {\n",
        "    \"username\": ***,\n",
        "    \"password\": ***,\n",
        "    \"url\": ***,\n",
        "    \"instance_id\": 'openshift',\n",
        "    \"version\": '4.8'\n",
        "}\n",
        "\n",
        "```"
      ]
    },
    {
      "cell_type": "markdown",
      "metadata": {
        "pycharm": {
          "name": "#%% md\n"
        }
      },
      "source": [
        "### Defining the project id\n",
        "The Foundation Model requires project id that provides the context for the call. We will obtain the id from the project in which this notebook runs. Otherwise, please provide the project id."
      ]
    },
    {
      "cell_type": "code",
      "execution_count": 4,
      "metadata": {
        "pycharm": {
          "name": "#%%\n"
        }
      },
      "outputs": [],
      "source": [
        "import os\n",
        "\n",
        "try:\n",
        "    project_id = os.environ[\"PROJECT_ID\"]\n",
        "except KeyError:\n",
        "    project_id = input(\"Please enter your project_id (hit enter): \")"
      ]
    },
    {
      "cell_type": "markdown",
      "metadata": {
        "pycharm": {
          "name": "#%% md\n"
        }
      },
      "source": [
        "Create an instance of APIClient with authentication details."
      ]
    },
    {
      "cell_type": "code",
      "execution_count": 5,
      "metadata": {
        "pycharm": {
          "name": "#%%\n"
        }
      },
      "outputs": [],
      "source": [
        "from ibm_watsonx_ai import APIClient\n",
        "\n",
        "client = APIClient(credentials)"
      ]
    },
    {
      "cell_type": "markdown",
      "metadata": {
        "pycharm": {
          "name": "#%% md\n"
        }
      },
      "source": [
        "To be able to interact with all resources available in Watson Machine Learning, you need to set **project_id** which you will be using."
      ]
    },
    {
      "cell_type": "code",
      "execution_count": 6,
      "metadata": {
        "pycharm": {
          "name": "#%%\n"
        }
      },
      "outputs": [
        {
          "data": {
            "text/plain": [
              "'SUCCESS'"
            ]
          },
          "execution_count": 6,
          "metadata": {},
          "output_type": "execute_result"
        }
      ],
      "source": [
        "client.set.default_project(project_id)"
      ]
    },
    {
      "cell_type": "markdown",
      "metadata": {
        "pycharm": {
          "name": "#%% md\n"
        }
      },
      "source": [
        "<a id=\"data_loading\"></a>\n",
        "## Data loading"
      ]
    },
    {
      "cell_type": "markdown",
      "metadata": {
        "pycharm": {
          "name": "#%% md\n"
        }
      },
      "source": [
        "This example uses the Consumer Financial Protection Bureau training dataset. "
      ]
    },
    {
      "cell_type": "code",
      "execution_count": 7,
      "metadata": {
        "pycharm": {
          "name": "#%%\n"
        }
      },
      "outputs": [],
      "source": [
        "filename = 'car_rental_prompt_tuning_training_data.json'"
      ]
    },
    {
      "cell_type": "markdown",
      "metadata": {
        "pycharm": {
          "name": "#%% md\n"
        }
      },
      "source": [
        "Download training data from git repository and create data assets."
      ]
    },
    {
      "cell_type": "code",
      "execution_count": 8,
      "metadata": {
        "pycharm": {
          "name": "#%%\n"
        }
      },
      "outputs": [
        {
          "name": "stdout",
          "output_type": "stream",
          "text": [
            "Creating data asset...\n",
            "SUCCESS\n"
          ]
        }
      ],
      "source": [
        "import wget\n",
        "import os\n",
        "\n",
        "url = \"https://raw.github.com/IBM/watson-machine-learning-samples/master/cloud/data/prompt_tuning/car_rental_prompt_tuning_training_data.json\"\n",
        "if not os.path.isfile(filename):\n",
        "    wget.download(url)\n",
        "\n",
        "asset_details = client.data_assets.create(name=filename, file_path=filename)\n",
        "asset_id = client.data_assets.get_id(asset_details)"
      ]
    },
    {
      "cell_type": "code",
      "execution_count": 9,
      "metadata": {
        "collapsed": false,
        "pycharm": {
          "name": "#%%\n"
        }
      },
      "outputs": [
        {
          "name": "stdout",
          "output_type": "stream",
          "text": [
            "a370d191-0027-42bc-956d-6afaac2ad6d1\n"
          ]
        }
      ],
      "source": [
        "print(asset_id)"
      ]
    },
    {
      "cell_type": "markdown",
      "metadata": {
        "pycharm": {
          "name": "#%% md\n"
        }
      },
      "source": [
        "Define connection information to training data."
      ]
    },
    {
      "cell_type": "code",
      "execution_count": 10,
      "metadata": {
        "pycharm": {
          "name": "#%%\n"
        }
      },
      "outputs": [],
      "source": [
        "from ibm_watsonx_ai.helpers import DataConnection\n",
        "\n",
        "data_conn = DataConnection(data_asset_id=asset_id)"
      ]
    },
    {
      "cell_type": "markdown",
      "metadata": {
        "pycharm": {
          "name": "#%% md\n"
        }
      },
      "source": [
        "<a id=\"initialize\"></a>\n",
        "## Initialize experiment "
      ]
    },
    {
      "cell_type": "code",
      "execution_count": 11,
      "metadata": {
        "pycharm": {
          "name": "#%%\n"
        }
      },
      "outputs": [],
      "source": [
        "from ibm_watsonx_ai.experiment import TuneExperiment\n",
        "\n",
        "experiment = TuneExperiment(credentials, project_id=project_id)"
      ]
    },
    {
      "cell_type": "markdown",
      "metadata": {
        "pycharm": {
          "name": "#%% md\n"
        }
      },
      "source": [
        "All avaliable tasks are presented under `Tasks` Enum"
      ]
    },
    {
      "cell_type": "code",
      "execution_count": 12,
      "metadata": {
        "pycharm": {
          "name": "#%%\n"
        }
      },
      "outputs": [
        {
          "data": {
            "text/plain": [
              "{'QUESTION_ANSWERING': 'question_answering',\n",
              " 'SUMMARIZATION': 'summarization',\n",
              " 'RETRIEVAL_AUGMENTED_GENERATION': 'retrieval_augmented_generation',\n",
              " 'CLASSIFICATION': 'classification',\n",
              " 'GENERATION': 'generation',\n",
              " 'CODE_GENERATION_AND_CONVERSION': 'code',\n",
              " 'EXTRACTION': 'extraction',\n",
              " 'TRANSLATION': 'translation'}"
            ]
          },
          "execution_count": 12,
          "metadata": {},
          "output_type": "execute_result"
        }
      ],
      "source": [
        "{task.name: task.value for task in experiment.Tasks}"
      ]
    },
    {
      "cell_type": "markdown",
      "metadata": {
        "pycharm": {
          "name": "#%% md\n"
        }
      },
      "source": [
        "Define `prompt_tuner` parameters. \n",
        "\n",
        "**Action:** For parameters details, see <a href=\"https://ibm.github.io/watsonx-ai-python-sdk/tune_experiment.html#ibm_watsonx_ai.experiment.fm_tune.TuneExperiment.prompt_tuner\" target=\"_blank\" rel=\"noopener no referrer\">documentation</a>."
      ]
    },
    {
      "cell_type": "code",
      "execution_count": 13,
      "metadata": {
        "pycharm": {
          "name": "#%%\n"
        }
      },
      "outputs": [],
      "source": [
        "prompt_tuner = experiment.prompt_tuner(name=\"granite-13b-instruct-v2 prompt tuning - python SDK\",\n",
        "                                       task_id=experiment.Tasks.CLASSIFICATION,\n",
        "                                       base_model='ibm/granite-13b-instruct-v2',\n",
        "                                       accumulate_steps=16,\n",
        "                                       batch_size=8,\n",
        "                                       learning_rate=0.0002,\n",
        "                                       max_input_tokens=128,\n",
        "                                       max_output_tokens=2,\n",
        "                                       num_epochs=6,\n",
        "                                       tuning_type=experiment.PromptTuningTypes.PT,\n",
        "                                       init_text = \"Extract the satisfaction from the comment. Return simple '1' for satisfied customer or '0' for unsatisfied. Comment:\",\n",
        "                                       init_method = \"text\",\n",
        "                                       verbalizer=\"{{input}}\",\n",
        "                                       auto_update_model=True\n",
        "                                       )"
      ]
    },
    {
      "cell_type": "markdown",
      "metadata": {
        "pycharm": {
          "name": "#%% md\n"
        }
      },
      "source": [
        "You can review previous set parameters"
      ]
    },
    {
      "cell_type": "code",
      "execution_count": 14,
      "metadata": {
        "pycharm": {
          "name": "#%%\n"
        }
      },
      "outputs": [
        {
          "data": {
            "text/plain": [
              "{'base_model': {'model_id': 'ibm/granite-13b-instruct-v2'},\n",
              " 'accumulate_steps': 16,\n",
              " 'batch_size': 8,\n",
              " 'init_method': 'text',\n",
              " 'init_text': \"Extract the satisfaction from the comment. Return simple '1' for satisfied customer or '0' for unsatisfied. Comment:\",\n",
              " 'learning_rate': 0.0002,\n",
              " 'max_input_tokens': 128,\n",
              " 'max_output_tokens': 2,\n",
              " 'num_epochs': 6,\n",
              " 'task_id': 'classification',\n",
              " 'tuning_type': 'prompt_tuning',\n",
              " 'verbalizer': '{{input}}',\n",
              " 'name': 'granite-13b-instruct-v2 prompt tuning - python SDK',\n",
              " 'description': 'Prompt tuning with SDK',\n",
              " 'auto_update_model': True,\n",
              " 'group_by_name': False}"
            ]
          },
          "execution_count": 14,
          "metadata": {},
          "output_type": "execute_result"
        }
      ],
      "source": [
        "prompt_tuner.get_params()"
      ]
    },
    {
      "cell_type": "markdown",
      "metadata": {
        "pycharm": {
          "name": "#%% md\n"
        }
      },
      "source": [
        "<a id=\"run_tuning\"></a>\n",
        "## Run Prompt Tuning"
      ]
    },
    {
      "cell_type": "markdown",
      "metadata": {
        "pycharm": {
          "name": "#%% md\n"
        }
      },
      "source": [
        "Run a prompt tuning process of foundation model on top of the training data referenced by DataConnection (tuning may take some time).\n",
        "\n",
        "\n",
        "By changing the `background_mode` parameter to `True`, the prompt tuning process will run in the background."
      ]
    },
    {
      "cell_type": "code",
      "execution_count": 15,
      "metadata": {
        "pycharm": {
          "name": "#%%\n"
        }
      },
      "outputs": [
        {
          "name": "stdout",
          "output_type": "stream",
          "text": [
            "\n",
            "\n",
            "##############################################\n",
            "\n",
            "Running 'd3258444-801f-4788-841f-1c02c1447597'\n",
            "\n",
            "##############################################\n",
            "\n",
            "\n",
            "pending..\n",
            "running......................................................................\n",
            "completed\n",
            "Training of 'd3258444-801f-4788-841f-1c02c1447597' finished successfully.\n"
          ]
        }
      ],
      "source": [
        "tuning_details = prompt_tuner.run(training_data_references=[data_conn], background_mode=False)"
      ]
    },
    {
      "cell_type": "markdown",
      "metadata": {
        "pycharm": {
          "name": "#%% md\n"
        }
      },
      "source": [
        "<a id=\"run_details\"></a>\n",
        "## Prompt Tuning details"
      ]
    },
    {
      "cell_type": "markdown",
      "metadata": {
        "pycharm": {
          "name": "#%% md\n"
        }
      },
      "source": [
        "Check status/state of initialized Prompt Tuning run if ran in background mode or when process finish if background mode is off."
      ]
    },
    {
      "cell_type": "code",
      "execution_count": 16,
      "metadata": {
        "pycharm": {
          "name": "#%%\n"
        }
      },
      "outputs": [
        {
          "data": {
            "text/plain": [
              "'completed'"
            ]
          },
          "execution_count": 16,
          "metadata": {},
          "output_type": "execute_result"
        }
      ],
      "source": [
        "prompt_tuner.get_run_status()"
      ]
    },
    {
      "cell_type": "markdown",
      "metadata": {
        "pycharm": {
          "name": "#%% md\n"
        }
      },
      "source": [
        "Get prompt tuning run details."
      ]
    },
    {
      "cell_type": "code",
      "execution_count": 17,
      "metadata": {
        "pycharm": {
          "name": "#%%\n"
        }
      },
      "outputs": [
        {
          "data": {
            "text/plain": [
              "{'metadata': {'created_at': '2024-04-10T09:56:19.775Z',\n",
              "  'description': 'Prompt tuning with SDK',\n",
              "  'id': 'd3258444-801f-4788-841f-1c02c1447597',\n",
              "  'modified_at': '2024-04-10T10:03:09.289Z',\n",
              "  'name': 'granite-13b-instruct-v2 prompt tuning - python SDK',\n",
              "  'project_id': '365da570-eb4a-4704-a834-e0bcb2470c1b',\n",
              "  'tags': ['prompt_tuning',\n",
              "   'wx_prompt_tune.fb4ab3bb-7f3a-49fa-b574-2ee9139e6ebc']},\n",
              " 'entity': {'auto_update_model': True,\n",
              "  'description': 'Prompt tuning with SDK',\n",
              "  'model_id': '56eca911-dc18-42ca-aec2-f5f43e0b0383',\n",
              "  'name': 'granite-13b-instruct-v2 prompt tuning - python SDK',\n",
              "  'project_id': '365da570-eb4a-4704-a834-e0bcb2470c1b',\n",
              "  'prompt_tuning': {'accumulate_steps': 16,\n",
              "   'base_model': {'model_id': 'ibm/granite-13b-instruct-v2'},\n",
              "   'batch_size': 8,\n",
              "   'init_method': 'text',\n",
              "   'init_text': \"Extract the satisfaction from the comment. Return simple '1' for satisfied customer or '0' for unsatisfied. Comment:\",\n",
              "   'learning_rate': 0.0002,\n",
              "   'max_input_tokens': 128,\n",
              "   'max_output_tokens': 2,\n",
              "   'num_epochs': 6,\n",
              "   'num_virtual_tokens': 100,\n",
              "   'task_id': 'classification',\n",
              "   'tuning_type': 'prompt_tuning',\n",
              "   'verbalizer': '{{input}}'},\n",
              "  'results_reference': {'connection': {},\n",
              "   'location': {'path': '/projects/365da570-eb4a-4704-a834-e0bcb2470c1b/assets/wx_prompt_tune',\n",
              "    'training': '/projects/365da570-eb4a-4704-a834-e0bcb2470c1b/assets/wx_prompt_tune/d3258444-801f-4788-841f-1c02c1447597',\n",
              "    'training_status': '/projects/365da570-eb4a-4704-a834-e0bcb2470c1b/assets/wx_prompt_tune/d3258444-801f-4788-841f-1c02c1447597/training-status.json',\n",
              "    'model_request_path': '/projects/365da570-eb4a-4704-a834-e0bcb2470c1b/assets/wx_prompt_tune/d3258444-801f-4788-841f-1c02c1447597/assets/d3258444-801f-4788-841f-1c02c1447597/resources/wml_model/request.json',\n",
              "    'assets_path': '/projects/365da570-eb4a-4704-a834-e0bcb2470c1b/assets/wx_prompt_tune/d3258444-801f-4788-841f-1c02c1447597/assets'},\n",
              "   'type': 'fs'},\n",
              "  'status': {'completed_at': '2024-04-10T10:03:09.278Z',\n",
              "   'running_at': '2024-04-10T09:56:36.136Z',\n",
              "   'state': 'completed'},\n",
              "  'tags': ['prompt_tuning',\n",
              "   'wx_prompt_tune.fb4ab3bb-7f3a-49fa-b574-2ee9139e6ebc'],\n",
              "  'training_data_references': [{'connection': {},\n",
              "    'location': {'href': '/v2/assets/a370d191-0027-42bc-956d-6afaac2ad6d1',\n",
              "     'id': 'a370d191-0027-42bc-956d-6afaac2ad6d1'},\n",
              "    'type': 'data_asset'}]}}"
            ]
          },
          "execution_count": 17,
          "metadata": {},
          "output_type": "execute_result"
        }
      ],
      "source": [
        "prompt_tuner.get_run_details()"
      ]
    },
    {
      "cell_type": "markdown",
      "metadata": {
        "pycharm": {
          "name": "#%% md\n"
        }
      },
      "source": [
        "Let's summarize the run."
      ]
    },
    {
      "cell_type": "code",
      "execution_count": 18,
      "metadata": {
        "pycharm": {
          "name": "#%%\n"
        }
      },
      "outputs": [
        {
          "data": {
            "text/html": [
              "<div>\n",
              "<style scoped>\n",
              "    .dataframe tbody tr th:only-of-type {\n",
              "        vertical-align: middle;\n",
              "    }\n",
              "\n",
              "    .dataframe tbody tr th {\n",
              "        vertical-align: top;\n",
              "    }\n",
              "\n",
              "    .dataframe thead th {\n",
              "        text-align: right;\n",
              "    }\n",
              "</style>\n",
              "<table border=\"1\" class=\"dataframe\">\n",
              "  <thead>\n",
              "    <tr style=\"text-align: right;\">\n",
              "      <th></th>\n",
              "      <th>Enhancements</th>\n",
              "      <th>Base model</th>\n",
              "      <th>Auto store</th>\n",
              "      <th>Epochs</th>\n",
              "      <th>loss</th>\n",
              "    </tr>\n",
              "    <tr>\n",
              "      <th>Model Name</th>\n",
              "      <th></th>\n",
              "      <th></th>\n",
              "      <th></th>\n",
              "      <th></th>\n",
              "      <th></th>\n",
              "    </tr>\n",
              "  </thead>\n",
              "  <tbody>\n",
              "    <tr>\n",
              "      <th>model_d3258444-801f-4788-841f-1c02c1447597</th>\n",
              "      <td>[prompt_tuning]</td>\n",
              "      <td>ibm/granite-13b-instruct-v2</td>\n",
              "      <td>True</td>\n",
              "      <td>6</td>\n",
              "      <td>0.1123</td>\n",
              "    </tr>\n",
              "  </tbody>\n",
              "</table>\n",
              "</div>"
            ],
            "text/plain": [
              "                                               Enhancements  \\\n",
              "Model Name                                                    \n",
              "model_d3258444-801f-4788-841f-1c02c1447597  [prompt_tuning]   \n",
              "\n",
              "                                                             Base model  \\\n",
              "Model Name                                                                \n",
              "model_d3258444-801f-4788-841f-1c02c1447597  ibm/granite-13b-instruct-v2   \n",
              "\n",
              "                                            Auto store  Epochs    loss  \n",
              "Model Name                                                              \n",
              "model_d3258444-801f-4788-841f-1c02c1447597        True       6  0.1123  "
            ]
          },
          "execution_count": 18,
          "metadata": {},
          "output_type": "execute_result"
        }
      ],
      "source": [
        "prompt_tuner.summary()"
      ]
    },
    {
      "cell_type": "markdown",
      "metadata": {
        "collapsed": false,
        "pycharm": {
          "name": "#%% md\n"
        }
      },
      "source": [
        "Plot learning curves."
      ]
    },
    {
      "cell_type": "code",
      "execution_count": 19,
      "metadata": {
        "collapsed": false,
        "pycharm": {
          "name": "#%%\n"
        }
      },
      "outputs": [
        {
          "data": {
            "image/png": "[encoded data removed]",
            "text/plain": [
              "<Figure size 1800x400 with 3 Axes>"
            ]
          },
          "metadata": {},
          "output_type": "display_data"
        }
      ],
      "source": [
        "prompt_tuner.plot_learning_curve()"
      ]
    },
    {
      "cell_type": "markdown",
      "metadata": {
        "pycharm": {
          "name": "#%% md\n"
        }
      },
      "source": [
        "<a id=\"deploy\"></a>\n",
        "## Deploy"
      ]
    },
    {
      "cell_type": "markdown",
      "metadata": {
        "pycharm": {
          "name": "#%% md\n"
        }
      },
      "source": [
        "You can specify `model_id` from tuning details."
      ]
    },
    {
      "cell_type": "code",
      "execution_count": 20,
      "metadata": {
        "pycharm": {
          "name": "#%%\n"
        }
      },
      "outputs": [
        {
          "data": {
            "text/plain": [
              "'56eca911-dc18-42ca-aec2-f5f43e0b0383'"
            ]
          },
          "execution_count": 20,
          "metadata": {},
          "output_type": "execute_result"
        }
      ],
      "source": [
        "model_id = None\n",
        "\n",
        "if 'model_id' in tuning_details.get('entity', {}):\n",
        "    model_id = tuning_details['entity']['model_id']\n",
        "model_id"
      ]
    },
    {
      "cell_type": "markdown",
      "metadata": {
        "pycharm": {
          "name": "#%% md\n"
        }
      },
      "source": [
        "Create online deployment for published model."
      ]
    },
    {
      "cell_type": "code",
      "execution_count": 21,
      "metadata": {
        "pycharm": {
          "name": "#%%\n"
        }
      },
      "outputs": [
        {
          "name": "stdout",
          "output_type": "stream",
          "text": [
            "\n",
            "\n",
            "#######################################################################################\n",
            "\n",
            "Synchronous deployment creation for uid: '56eca911-dc18-42ca-aec2-f5f43e0b0383' started\n",
            "\n",
            "#######################################################################################\n",
            "\n",
            "\n",
            "initializing.\n",
            "ready\n",
            "\n",
            "\n",
            "------------------------------------------------------------------------------------------------\n",
            "Successfully finished deployment creation, deployment_uid='a1311d99-b1cd-4040-8f6e-db544d44b4a5'\n",
            "------------------------------------------------------------------------------------------------\n",
            "\n",
            "\n"
          ]
        }
      ],
      "source": [
        "from datetime import datetime\n",
        "meta_props = {\n",
        "    client.deployments.ConfigurationMetaNames.NAME: \"PT DEPLOYMENT SDK - project\",\n",
        "    client.deployments.ConfigurationMetaNames.ONLINE: {},\n",
        "    client.deployments.ConfigurationMetaNames.SERVING_NAME : f\"pt_sdk_deployment_{datetime.utcnow().strftime('%Y_%m_%d_%H%M%S')}\"\n",
        "}\n",
        "deployment_details = client.deployments.create(model_id, meta_props)"
      ]
    },
    {
      "cell_type": "markdown",
      "metadata": {
        "pycharm": {
          "name": "#%% md\n"
        }
      },
      "source": [
        "Additionally you can get deployment details by printing `deployment_details`"
      ]
    },
    {
      "cell_type": "code",
      "execution_count": null,
      "metadata": {
        "pycharm": {
          "name": "#%%\n"
        }
      },
      "outputs": [],
      "source": [
        "deployment_details"
      ]
    },
    {
      "cell_type": "markdown",
      "metadata": {
        "pycharm": {
          "name": "#%% md\n"
        }
      },
      "source": [
        "You can specify `deployment_id` from deployment details."
      ]
    },
    {
      "cell_type": "code",
      "execution_count": 23,
      "metadata": {
        "pycharm": {
          "name": "#%%\n"
        }
      },
      "outputs": [
        {
          "data": {
            "text/plain": [
              "'a1311d99-b1cd-4040-8f6e-db544d44b4a5'"
            ]
          },
          "execution_count": 23,
          "metadata": {},
          "output_type": "execute_result"
        }
      ],
      "source": [
        "deployment_id = deployment_details['metadata']['id']\n",
        "deployment_id"
      ]
    },
    {
      "cell_type": "markdown",
      "metadata": {
        "pycharm": {
          "name": "#%% md\n"
        }
      },
      "source": [
        "<a id=\"models_inference\"></a>\n",
        "## Foundation Models Inference on `watsonx.ai`"
      ]
    },
    {
      "cell_type": "markdown",
      "metadata": {
        "pycharm": {
          "name": "#%% md\n"
        }
      },
      "source": [
        "Provide a set of model parameters."
      ]
    },
    {
      "cell_type": "code",
      "execution_count": 24,
      "metadata": {
        "pycharm": {
          "name": "#%%\n"
        }
      },
      "outputs": [],
      "source": [
        "from ibm_watsonx_ai.metanames import GenTextParamsMetaNames as GenParams\n",
        "\n",
        "generate_params = {\n",
        "    GenParams.MAX_NEW_TOKENS: 3,\n",
        "    GenParams.STOP_SEQUENCES: [\"\\n\\n\"]\n",
        "}"
      ]
    },
    {
      "cell_type": "markdown",
      "metadata": {
        "pycharm": {
          "name": "#%% md\n"
        }
      },
      "source": [
        "Initialize the `ModelInference` class."
      ]
    },
    {
      "cell_type": "code",
      "execution_count": 25,
      "metadata": {
        "pycharm": {
          "name": "#%%\n"
        }
      },
      "outputs": [],
      "source": [
        "from ibm_watsonx_ai.foundation_models import ModelInference\n",
        "\n",
        "tuned_model = ModelInference(\n",
        "    deployment_id=deployment_id,\n",
        "    params=generate_params,\n",
        "    api_client=client\n",
        ")"
      ]
    },
    {
      "cell_type": "markdown",
      "metadata": {
        "pycharm": {
          "name": "#%% md\n"
        }
      },
      "source": [
        "Alternatively you can use `credentials` and `project_id` to initialize the `ModelInference` class.\n",
        "\n",
        "```\n",
        "tuned_model = ModelInference(\n",
        "    deployment_id=deployment_id,\n",
        "    params=generate_params,\n",
        "    credentials=credentials,\n",
        "    project_id=project_id\n",
        ")\n",
        "\n",
        "```"
      ]
    },
    {
      "cell_type": "markdown",
      "metadata": {
        "pycharm": {
          "name": "#%% md\n"
        }
      },
      "source": [
        "Get deployment model inference details."
      ]
    },
    {
      "cell_type": "code",
      "execution_count": null,
      "metadata": {
        "pycharm": {
          "name": "#%%\n"
        }
      },
      "outputs": [],
      "source": [
        "tuned_model.get_details()"
      ]
    },
    {
      "cell_type": "markdown",
      "metadata": {
        "pycharm": {
          "name": "#%% md\n"
        }
      },
      "source": [
        "Analyze the product class for a sample prompt."
      ]
    },
    {
      "cell_type": "code",
      "execution_count": 27,
      "metadata": {
        "pycharm": {
          "name": "#%%\n"
        }
      },
      "outputs": [
        {
          "data": {
            "text/plain": [
              "'0'"
            ]
          },
          "execution_count": 27,
          "metadata": {},
          "output_type": "execute_result"
        }
      ],
      "source": [
        "response = tuned_model.generate_text(prompt=\"Extract the satisfaction from the comment. Return simple 1 for satisfied customer or 0 for unsatisfied.\\nComment: I was penalty charged because vehicle was not returned with full tank.\\nSatisfaction:\\n\")\n",
        "response"
      ]
    },
    {
      "cell_type": "markdown",
      "metadata": {
        "pycharm": {
          "name": "#%% md\n"
        }
      },
      "source": [
        "<a id=\"predict\"></a>\n",
        "## Analyze the product classes."
      ]
    },
    {
      "cell_type": "markdown",
      "metadata": {
        "pycharm": {
          "name": "#%% md\n"
        }
      },
      "source": [
        "Download and prepare the `cfpb_test` dataset."
      ]
    },
    {
      "cell_type": "code",
      "execution_count": 28,
      "metadata": {
        "pycharm": {
          "name": "#%%\n"
        }
      },
      "outputs": [],
      "source": [
        "import pandas as pd\n",
        "\n",
        "filename = 'car_rental_prompt_tuning_testing_data.json'\n",
        "\n",
        "url = \"https://raw.github.com/IBM/watson-machine-learning-samples/master/cloud/data/prompt_tuning/car_rental_prompt_tuning_testing_data.json\"\n",
        "if not os.path.isfile(filename):\n",
        "    wget.download(url)\n",
        "\n",
        "data = pd.read_json(filename)\n",
        "prompts = list(data.input)\n",
        "satisfaction = list(data.output)\n",
        "prompts_batch = [\"\\n\".join([prompt]) for prompt in prompts]"
      ]
    },
    {
      "cell_type": "markdown",
      "metadata": {
        "pycharm": {
          "name": "#%% md\n"
        }
      },
      "source": [
        "### Calculate the accuracy of tuned model"
      ]
    },
    {
      "cell_type": "code",
      "execution_count": 29,
      "metadata": {
        "pycharm": {
          "name": "#%%\n"
        }
      },
      "outputs": [],
      "source": [
        "tuned_model_results = tuned_model.generate_text(prompt=prompts_batch)"
      ]
    },
    {
      "cell_type": "code",
      "execution_count": 30,
      "metadata": {
        "collapsed": false,
        "pycharm": {
          "name": "#%%\n"
        }
      },
      "outputs": [],
      "source": [
        "tuned_model_results = [int(x) for x in tuned_model_results]"
      ]
    },
    {
      "cell_type": "code",
      "execution_count": 31,
      "metadata": {
        "pycharm": {
          "name": "#%%\n"
        }
      },
      "outputs": [
        {
          "name": "stdout",
          "output_type": "stream",
          "text": [
            "accuracy_score: 0.916083916083916\n"
          ]
        }
      ],
      "source": [
        "from sklearn.metrics import accuracy_score\n",
        "\n",
        "print(f'accuracy_score: {accuracy_score(satisfaction, tuned_model_results)}')"
      ]
    },
    {
      "cell_type": "markdown",
      "metadata": {
        "pycharm": {
          "name": "#%% md\n"
        }
      },
      "source": [
        "### Calculate the accuracy of base model"
      ]
    },
    {
      "cell_type": "markdown",
      "metadata": {
        "pycharm": {
          "name": "#%% md\n"
        }
      },
      "source": [
        "Initialize the `ModelInference` class with base model."
      ]
    },
    {
      "cell_type": "code",
      "execution_count": 32,
      "metadata": {
        "pycharm": {
          "name": "#%%\n"
        }
      },
      "outputs": [],
      "source": [
        "base_model = ModelInference(\n",
        "    model_id='ibm/granite-13b-instruct-v2',\n",
        "    params=generate_params,\n",
        "    api_client=client\n",
        ")"
      ]
    },
    {
      "cell_type": "code",
      "execution_count": 33,
      "metadata": {
        "pycharm": {
          "name": "#%%\n"
        }
      },
      "outputs": [],
      "source": [
        "base_model_results = base_model.generate_text(prompt=prompts_batch)"
      ]
    },
    {
      "cell_type": "code",
      "execution_count": 34,
      "metadata": {
        "collapsed": false,
        "pycharm": {
          "name": "#%%\n"
        }
      },
      "outputs": [],
      "source": [
        "base_model_results = [int(x) for x in base_model_results]"
      ]
    },
    {
      "cell_type": "code",
      "execution_count": 35,
      "metadata": {
        "pycharm": {
          "name": "#%%\n"
        }
      },
      "outputs": [
        {
          "name": "stdout",
          "output_type": "stream",
          "text": [
            "base model accuracy_score: 0.8181818181818182\n"
          ]
        }
      ],
      "source": [
        "from sklearn.metrics import accuracy_score\n",
        "\n",
        "print(f'base model accuracy_score: {accuracy_score(satisfaction, base_model_results)}')"
      ]
    },
    {
      "cell_type": "markdown",
      "metadata": {
        "pycharm": {
          "name": "#%% md\n"
        }
      },
      "source": [
        "<a id=\"summary\"></a>\n",
        "## Summary and next steps\n",
        "\n",
        " You successfully completed this notebook!\n",
        " \n",
        " You learned how to use prompt tuning in watsonx for analyze the product classes for a sample prompts.\n",
        " \n",
        "Check out our _<a href=\"https://ibm.github.io/watson-machine-learning-sdk/samples.html\" target=\"_blank\" rel=\"noopener no referrer\">Online Documentation</a>_ for more samples, tutorials, documentation, how-tos, and blog posts. "
      ]
    },
    {
      "cell_type": "markdown",
      "metadata": {
        "pycharm": {
          "name": "#%% md\n"
        }
      },
      "source": [
        "### Authors: \n",
        "\n",
        "**Lukasz Cmielowski, PhD**, Senior Technical Staff Member at Watson Machine Learning.\n",
        "\n",
        "**Mateusz Szewczyk**, Software Engineer at Watson Machine Learning."
      ]
    },
    {
      "cell_type": "markdown",
      "metadata": {
        "pycharm": {
          "name": "#%% md\n"
        }
      },
      "source": [
        "Copyright © 2024-2025 IBM. This notebook and its source code are released under the terms of the MIT License."
      ]
    }
  ],
  "metadata": {
    "kernelspec": {
      "display_name": "notebook-samples",
      "language": "python",
      "name": "python3"
    },
    "language_info": {
      "codemirror_mode": {
        "name": "ipython",
        "version": 3
      },
      "file_extension": ".py",
      "mimetype": "text/x-python",
      "name": "python",
      "nbconvert_exporter": "python",
      "pygments_lexer": "ipython3",
      "version": "3.10.12"
    },
    "orig_nbformat": 4
  },
  "nbformat": 4,
  "nbformat_minor": 2
}
