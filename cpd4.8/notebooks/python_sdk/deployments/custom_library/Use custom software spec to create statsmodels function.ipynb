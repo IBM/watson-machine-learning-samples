{
 "cells": [
  {
   "cell_type": "markdown",
   "metadata": {},
   "source": [
    "# Use custom software_spec to create statsmodels function describing data with `ibm-watson-machine-learning`"
   ]
  },
  {
   "cell_type": "markdown",
   "metadata": {},
   "source": [
    "This notebook demonstrates how to deploy in Watson Machine Learning service a python function with `statsmodel` which requires to create custom software specification using conda yaml file with all required libraries.  \n",
    "Some familiarity with bash is helpful. This notebook uses Python 3.10 with statsmodel.\n",
    "\n",
    "\n",
    "## Learning goals\n",
    "\n",
    "The learning goals of this notebook are:\n",
    "\n",
    "-  Working with the Watson Machine Learning instance\n",
    "-  Creating custom software specification\n",
    "-  Online deployment of python function\n",
    "-  Scoring data using deployed function\n",
    "\n",
    "## Contents\n",
    "\n",
    "This notebook contains the following parts:\n",
    "\n",
    "1. [Setup](#setup)\n",
    "2. [Function creation](#create)\n",
    "3. [Function upload](#upload) \n",
    "4. [Web service creation](#deploy)\n",
    "5. [Scoring](#score)\n",
    "6. [Clean up](#cleanup)\n",
    "7. [Summary and next steps](#summary)"
   ]
  },
  {
   "cell_type": "markdown",
   "metadata": {},
   "source": [
    "<a id=\"setup\"></a>\n",
    "## 1. Set up the environment\n",
    "\n",
    "Before you use the sample code in this notebook, you must perform the following setup tasks:\n",
    "\n",
    "-  Contact with your Cloud Pack for Data administrator and ask him for your account credentials"
   ]
  },
  {
   "cell_type": "markdown",
   "metadata": {},
   "source": [
    "### Connection to WML\n",
    "\n",
    "Authenticate the Watson Machine Learning service on IBM Cloud Pack for Data. You need to provide platform `url`, your `username` and `api_key`."
   ]
  },
  {
   "cell_type": "code",
   "execution_count": null,
   "metadata": {},
   "outputs": [],
   "source": [
    "username = 'PASTE YOUR USERNAME HERE'\n",
    "api_key = 'PASTE YOUR API_KEY HERE'\n",
    "url = 'PASTE THE PLATFORM URL HERE'"
   ]
  },
  {
   "cell_type": "code",
   "execution_count": 2,
   "metadata": {},
   "outputs": [],
   "source": [
    "wml_credentials = {\n",
    "    \"username\": username,\n",
    "    \"apikey\": api_key,\n",
    "    \"url\": url,\n",
    "    \"instance_id\": 'openshift',\n",
    "    \"version\": '4.8'\n",
    "}"
   ]
  },
  {
   "cell_type": "markdown",
   "metadata": {},
   "source": [
    "Alternatively you can use `username` and `password` to authenticate WML services.\n",
    "\n",
    "```\n",
    "wml_credentials = {\n",
    "    \"username\": ***,\n",
    "    \"password\": ***,\n",
    "    \"url\": ***,\n",
    "    \"instance_id\": 'openshift',\n",
    "    \"version\": '4.8'\n",
    "}\n",
    "\n",
    "```"
   ]
  },
  {
   "cell_type": "markdown",
   "metadata": {},
   "source": [
    "### Install and import the `ibm-watson-machine-learning` package\n",
    "**Note:** `ibm-watson-machine-learning` documentation can be found <a href=\"http://ibm-wml-api-pyclient.mybluemix.net/\" target=\"_blank\" rel=\"noopener no referrer\">here</a>."
   ]
  },
  {
   "cell_type": "code",
   "execution_count": null,
   "metadata": {},
   "outputs": [],
   "source": [
    "!pip install -U ibm-watson-machine-learning"
   ]
  },
  {
   "cell_type": "code",
   "execution_count": 3,
   "metadata": {},
   "outputs": [],
   "source": [
    "from ibm_watson_machine_learning import APIClient\n",
    "\n",
    "client = APIClient(wml_credentials)"
   ]
  },
  {
   "cell_type": "markdown",
   "metadata": {},
   "source": [
    "### Working with spaces\n",
    "\n",
    "First of all, you need to create a space that will be used for your work. If you do not have space already created, you can use `{PLATFORM_URL}/ml-runtime/spaces?context=icp4data` to create one.\n",
    "\n",
    "- Click New Deployment Space\n",
    "- Create an empty space\n",
    "- Go to space `Settings` tab\n",
    "- Copy `space_id` and paste it below\n",
    "\n",
    "**Tip**: You can also use SDK to prepare the space for your work. More information can be found [here](https://github.com/IBM/watson-machine-learning-samples/blob/master/cpd4.7/notebooks/python_sdk/instance-management/Space%20management.ipynb).\n",
    "\n",
    "**Action**: Assign space ID below"
   ]
  },
  {
   "cell_type": "code",
   "execution_count": null,
   "metadata": {},
   "outputs": [],
   "source": [
    "space_id = 'PASTE YOUR SPACE ID HERE'"
   ]
  },
  {
   "cell_type": "markdown",
   "metadata": {},
   "source": [
    "You can use `list` method to print all existing spaces."
   ]
  },
  {
   "cell_type": "code",
   "execution_count": null,
   "metadata": {},
   "outputs": [],
   "source": [
    "client.spaces.list(limit=10)"
   ]
  },
  {
   "cell_type": "markdown",
   "metadata": {},
   "source": [
    "To be able to interact with all resources available in Watson Machine Learning, you need to set **space** which you will be using."
   ]
  },
  {
   "cell_type": "code",
   "execution_count": 5,
   "metadata": {},
   "outputs": [
    {
     "data": {
      "text/plain": [
       "'SUCCESS'"
      ]
     },
     "execution_count": 5,
     "metadata": {},
     "output_type": "execute_result"
    }
   ],
   "source": [
    "client.set.default_space(space_id)"
   ]
  },
  {
   "cell_type": "markdown",
   "metadata": {},
   "source": [
    "<a id=\"create\"></a>\n",
    "## 2. Create function\n",
    "\n",
    "In this section you will learn how to create deployable function\n",
    "with statsmodels module calculating describition of a given data.  \n",
    "**Hint**: To install statsmodels execute `!pip install statsmodels`."
   ]
  },
  {
   "cell_type": "markdown",
   "metadata": {},
   "source": [
    "#### Create deploayable callable which uses stsmodels library"
   ]
  },
  {
   "cell_type": "code",
   "execution_count": 7,
   "metadata": {},
   "outputs": [],
   "source": [
    "def deployable_callable():\n",
    "    \"\"\"\n",
    "    Deployable python function with score\n",
    "    function implemented.\n",
    "    \"\"\"\n",
    "    try:\n",
    "        from statsmodels.stats.descriptivestats import describe\n",
    "    except ModuleNotFoundError as e:\n",
    "        print(f\"statsmodels not installed: {str(e)}\")\n",
    "        \n",
    "    def score(payload):\n",
    "        \"\"\"\n",
    "        Score method.\n",
    "        \"\"\"\n",
    "        try:\n",
    "            data = payload['input_data'][0]['values']\n",
    "            return {\n",
    "                'predictions': [\n",
    "                    {'values': str(describe(data))}\n",
    "                ]\n",
    "            }\n",
    "        except Exception as e:\n",
    "            return {'predictions': [{'values': [repr(e)]}]}\n",
    "        \n",
    "    return score"
   ]
  },
  {
   "cell_type": "markdown",
   "metadata": {},
   "source": [
    "####  Test callable locally\n",
    "\n",
    "**Hint**: To install numpy execute `!pip install numpy`."
   ]
  },
  {
   "cell_type": "code",
   "execution_count": 8,
   "metadata": {},
   "outputs": [
    {
     "name": "stdout",
     "output_type": "stream",
     "text": [
      "                          0          1          2          3          4  \\\n",
      "nobs              10.000000  10.000000  10.000000  10.000000  10.000000   \n",
      "missing            0.000000   0.000000   0.000000   0.000000   0.000000   \n",
      "mean              -0.087662  -0.162800   0.021847  -0.484764  -0.151347   \n",
      "std_err            0.086628   0.082336   0.088078   0.154758   0.060011   \n",
      "upper_ci           0.082126  -0.001424   0.194477  -0.181444  -0.033728   \n",
      "lower_ci          -0.257450  -0.324175  -0.150783  -0.788085  -0.268967   \n",
      "std                0.866281   0.823361   0.880783   1.547581   0.600109   \n",
      "iqr                1.220332   0.774040   1.173032   1.866595   0.455900   \n",
      "iqr_normal         0.904633   0.573797   0.869570   1.383709   0.337959   \n",
      "mad                0.696300   0.556041   0.700227   1.257709   0.403634   \n",
      "mad_normal         0.872682   0.696895   0.877605   1.576305   0.505881   \n",
      "coef_var          -9.882045  -5.057510  40.315579  -3.192440  -3.965111   \n",
      "range              2.514768   2.889136   2.903603   4.598605   2.228215   \n",
      "max                1.458946   0.788044   1.426277   1.386525   0.671509   \n",
      "min               -1.055823  -2.101093  -1.477326  -3.212081  -1.556706   \n",
      "skew               0.621923  -1.182308  -0.110031  -0.582020  -1.165771   \n",
      "kurtosis           2.083665   4.191979   2.178047   2.099710   4.236195   \n",
      "jarque_bera        0.994509   2.921762   0.301681   0.902296   2.901779   \n",
      "jarque_bera_pval   0.608198   0.232032   0.859985   0.636897   0.234362   \n",
      "mode              -1.055823  -2.101093  -1.477326  -3.212081  -1.556706   \n",
      "mode_freq          0.100000   0.100000   0.100000   0.100000   0.100000   \n",
      "median            -0.259626  -0.203613   0.127268  -0.060631  -0.028983   \n",
      "\n",
      "                          5          6          7          8          9  \n",
      "nobs              10.000000  10.000000  10.000000  10.000000  10.000000  \n",
      "missing            0.000000   0.000000   0.000000   0.000000   0.000000  \n",
      "mean               0.273284   0.205051   0.023256   0.102842  -0.209529  \n",
      "std_err            0.061042   0.087203   0.126508   0.103825   0.072225  \n",
      "upper_ci           0.392923   0.375966   0.271207   0.306335  -0.067971  \n",
      "lower_ci           0.153644   0.034137  -0.224696  -0.100650  -0.351088  \n",
      "std                0.610416   0.872028   1.265081   1.038247   0.722251  \n",
      "iqr                0.780093   1.144017   1.897466   1.087920   1.181144  \n",
      "iqr_normal         0.578284   0.848061   1.406594   0.806476   0.875583  \n",
      "mad                0.476876   0.702078   0.962314   0.802775   0.623214  \n",
      "mad_normal         0.597675   0.879924   1.206082   1.006129   0.781083  \n",
      "coef_var           2.233637   4.252729  54.398852  10.095509  -3.447017  \n",
      "range              2.012750   2.399845   3.639744   3.386568   1.965249  \n",
      "max                1.364230   1.624449   1.719675   1.524333   0.677055  \n",
      "min               -0.648519  -0.775396  -1.920069  -1.862235  -1.288194  \n",
      "skew               0.305785   0.606322  -0.150434  -0.368515  -0.382710  \n",
      "kurtosis           2.245390   1.963650   1.837083   2.477825   1.604283  \n",
      "jarque_bera        0.393106   1.060220   0.601208   0.339950   1.055789  \n",
      "jarque_bera_pval   0.821558   0.588540   0.740371   0.843686   0.589846  \n",
      "mode              -0.648519  -0.775396  -1.920069  -1.862235  -1.288194  \n",
      "mode_freq          0.100000   0.100000   0.100000   0.100000   0.100000  \n",
      "median             0.228023  -0.050927   0.073169   0.306686   0.022939  \n"
     ]
    }
   ],
   "source": [
    "import numpy as np\n",
    "\n",
    "data = np.random.randn(10, 10)\n",
    "data_description = deployable_callable()({\n",
    "    \"input_data\": [{\n",
    "        \"values\" : data\n",
    "    }]\n",
    "})\n",
    "\n",
    "print(data_description[\"predictions\"][0][\"values\"])"
   ]
  },
  {
   "cell_type": "markdown",
   "metadata": {},
   "source": [
    "<a id=\"upload\"></a>\n",
    "## 3. Upload python function\n",
    "\n",
    "In this section you will learn how to upload the python function to the Cloud."
   ]
  },
  {
   "cell_type": "markdown",
   "metadata": {},
   "source": [
    "#### Custom software_specification\n",
    "Create new software specification based on default Python 3.10 environment extended by autoai-libs package."
   ]
  },
  {
   "cell_type": "code",
   "execution_count": 9,
   "metadata": {},
   "outputs": [],
   "source": [
    "config_yml =\\\n",
    "\"\"\"name: python38\n",
    "channels:\n",
    "  - empty\n",
    "  - nodefaults\n",
    "dependencies:\n",
    "- pip:\n",
    "  - statsmodels\n",
    "\n",
    "prefix: /opt/anaconda3/envs/python38\n",
    "\"\"\"\n",
    "\n",
    "with open(\"config.yaml\", \"w\", encoding=\"utf-8\") as f:\n",
    "    f.write(config_yml)"
   ]
  },
  {
   "cell_type": "code",
   "execution_count": 10,
   "metadata": {},
   "outputs": [],
   "source": [
    "base_sw_spec_uid = client.software_specifications.get_uid_by_name(\"runtime-23.1-py3.10\")"
   ]
  },
  {
   "cell_type": "code",
   "execution_count": 11,
   "metadata": {},
   "outputs": [
    {
     "name": "stdout",
     "output_type": "stream",
     "text": [
      "name: python37\n",
      "channels:\n",
      "  - defaults\n",
      "dependencies:\n",
      "  - pip:\n",
      "    - statsmodels\n",
      "\n",
      "prefix: /opt/anaconda3/envs/python37\n"
     ]
    }
   ],
   "source": [
    "!cat config.yaml"
   ]
  },
  {
   "cell_type": "markdown",
   "metadata": {},
   "source": [
    "`config.yaml` file describes details of package extention. Now you need to store new package extention with APIClient."
   ]
  },
  {
   "cell_type": "code",
   "execution_count": 12,
   "metadata": {},
   "outputs": [
    {
     "name": "stdout",
     "output_type": "stream",
     "text": [
      "Creating package extensions\n",
      "SUCCESS\n"
     ]
    }
   ],
   "source": [
    "meta_prop_pkg_extn = {\n",
    "    client.package_extensions.ConfigurationMetaNames.NAME: \"statsmodels env\",\n",
    "    client.package_extensions.ConfigurationMetaNames.DESCRIPTION: \"Environment with statsmodels\",\n",
    "    client.package_extensions.ConfigurationMetaNames.TYPE: \"conda_yml\"\n",
    "}\n",
    "\n",
    "pkg_extn_details = client.package_extensions.store(meta_props=meta_prop_pkg_extn, file_path=\"config.yaml\")\n",
    "pkg_extn_uid = client.package_extensions.get_uid(pkg_extn_details)\n",
    "pkg_extn_url = client.package_extensions.get_href(pkg_extn_details)"
   ]
  },
  {
   "cell_type": "markdown",
   "metadata": {},
   "source": [
    "#### Create new software specification and add created package extention to it."
   ]
  },
  {
   "cell_type": "code",
   "execution_count": 13,
   "metadata": {},
   "outputs": [
    {
     "name": "stdout",
     "output_type": "stream",
     "text": [
      "SUCCESS\n"
     ]
    },
    {
     "data": {
      "text/plain": [
       "'SUCCESS'"
      ]
     },
     "execution_count": 13,
     "metadata": {},
     "output_type": "execute_result"
    }
   ],
   "source": [
    "meta_prop_sw_spec = {\n",
    "    client.software_specifications.ConfigurationMetaNames.NAME: \"statsmodels software_spec\",\n",
    "    client.software_specifications.ConfigurationMetaNames.DESCRIPTION: \"Software specification for statsmodels\",\n",
    "    client.software_specifications.ConfigurationMetaNames.BASE_SOFTWARE_SPECIFICATION: {\"guid\": base_sw_spec_uid}\n",
    "}\n",
    "\n",
    "sw_spec_details = client.software_specifications.store(meta_props=meta_prop_sw_spec)\n",
    "sw_spec_uid = client.software_specifications.get_uid(sw_spec_details)\n",
    "\n",
    "client.software_specifications.add_package_extension(sw_spec_uid, pkg_extn_uid)"
   ]
  },
  {
   "cell_type": "markdown",
   "metadata": {},
   "source": [
    "#### Get the details of created software specification"
   ]
  },
  {
   "cell_type": "code",
   "execution_count": null,
   "metadata": {
    "scrolled": true
   },
   "outputs": [],
   "source": [
    "client.software_specifications.get_details(sw_spec_uid)"
   ]
  },
  {
   "cell_type": "markdown",
   "metadata": {},
   "source": [
    "#### Store the function"
   ]
  },
  {
   "cell_type": "code",
   "execution_count": 14,
   "metadata": {},
   "outputs": [],
   "source": [
    "meta_props = {\n",
    "    client.repository.FunctionMetaNames.NAME: \"statsmodels function\",\n",
    "    client.repository.FunctionMetaNames.SOFTWARE_SPEC_UID: sw_spec_uid\n",
    "}\n",
    "\n",
    "function_details = client.repository.store_function(meta_props=meta_props, function=deployable_callable)\n",
    "function_uid = client.repository.get_function_uid(function_details)"
   ]
  },
  {
   "cell_type": "markdown",
   "metadata": {},
   "source": [
    "#### Get function details"
   ]
  },
  {
   "cell_type": "code",
   "execution_count": 15,
   "metadata": {},
   "outputs": [
    {
     "data": {
      "text/plain": [
       "{'entity': {'software_spec': {'id': '62123911-898c-49be-87ae-e056067645d8',\n",
       "   'name': 'statsmodels software_spec'},\n",
       "  'type': 'python'},\n",
       " 'metadata': {'created_at': '2021-02-03T13:02:50.513Z',\n",
       "  'id': '77cc037c-6aab-4eac-9e45-c3331e010132',\n",
       "  'modified_at': '2021-02-03T13:02:53.304Z',\n",
       "  'name': 'statsmodels function',\n",
       "  'owner': 'IBMid-55000091VC',\n",
       "  'space_id': 'd70a423e-bab5-4b24-943a-3b0b29ad7527'},\n",
       " 'system': {'warnings': []}}"
      ]
     },
     "execution_count": 15,
     "metadata": {},
     "output_type": "execute_result"
    }
   ],
   "source": [
    "client.repository.get_details(function_uid)"
   ]
  },
  {
   "cell_type": "markdown",
   "metadata": {},
   "source": [
    "**Note:** You can see that function is successfully stored in Watson Machine Learning Service."
   ]
  },
  {
   "cell_type": "code",
   "execution_count": null,
   "metadata": {},
   "outputs": [],
   "source": [
    "client.repository.list_functions()"
   ]
  },
  {
   "cell_type": "markdown",
   "metadata": {},
   "source": [
    "<a id=\"deploy\"></a>\n",
    "## 4. Create online deployment\n",
    "You can use commands bellow to create online deployment for stored function (web service)."
   ]
  },
  {
   "cell_type": "markdown",
   "metadata": {},
   "source": [
    "#### Create online deployment of a python function"
   ]
  },
  {
   "cell_type": "code",
   "execution_count": 16,
   "metadata": {},
   "outputs": [
    {
     "name": "stdout",
     "output_type": "stream",
     "text": [
      "\n",
      "\n",
      "#######################################################################################\n",
      "\n",
      "Synchronous deployment creation for uid: '77cc037c-6aab-4eac-9e45-c3331e010132' started\n",
      "\n",
      "#######################################################################################\n",
      "\n",
      "\n",
      "initializing....................................................................................................................................................\n",
      "ready\n",
      "\n",
      "\n",
      "------------------------------------------------------------------------------------------------\n",
      "Successfully finished deployment creation, deployment_uid='340eb7f7-4a08-4c9c-8371-f6cd907b7a3e'\n",
      "------------------------------------------------------------------------------------------------\n",
      "\n",
      "\n"
     ]
    }
   ],
   "source": [
    "metadata = {\n",
    "    client.deployments.ConfigurationMetaNames.NAME: \"Deployment of statsmodels function\",\n",
    "    client.deployments.ConfigurationMetaNames.ONLINE: {}\n",
    "}\n",
    "\n",
    "function_deployment = client.deployments.create(function_uid, meta_props=metadata)"
   ]
  },
  {
   "cell_type": "code",
   "execution_count": null,
   "metadata": {},
   "outputs": [],
   "source": [
    "client.deployments.list()"
   ]
  },
  {
   "cell_type": "markdown",
   "metadata": {},
   "source": [
    "Get deployment id."
   ]
  },
  {
   "cell_type": "code",
   "execution_count": 17,
   "metadata": {},
   "outputs": [
    {
     "name": "stdout",
     "output_type": "stream",
     "text": [
      "340eb7f7-4a08-4c9c-8371-f6cd907b7a3e\n"
     ]
    }
   ],
   "source": [
    "deployment_id = client.deployments.get_uid(function_deployment)\n",
    "print(deployment_id)"
   ]
  },
  {
   "cell_type": "markdown",
   "metadata": {},
   "source": [
    "<a id=\"score\"></a>\n",
    "## 5. Scoring\n",
    "\n",
    "You can send new scoring records to web-service deployment using `score` method."
   ]
  },
  {
   "cell_type": "code",
   "execution_count": 18,
   "metadata": {},
   "outputs": [],
   "source": [
    "scoring_payload = {\n",
    "    \"input_data\": [{\n",
    "        'values': data\n",
    "    }]\n",
    "}"
   ]
  },
  {
   "cell_type": "code",
   "execution_count": 19,
   "metadata": {},
   "outputs": [
    {
     "name": "stdout",
     "output_type": "stream",
     "text": [
      "                          0          1          2          3          4  \\\n",
      "nobs              10.000000  10.000000  10.000000  10.000000  10.000000   \n",
      "missing            0.000000   0.000000   0.000000   0.000000   0.000000   \n",
      "mean              -0.087662  -0.162800   0.021847  -0.484764  -0.151347   \n",
      "std_err            0.086628   0.082336   0.088078   0.154758   0.060011   \n",
      "upper_ci           0.082126  -0.001424   0.194477  -0.181444  -0.033728   \n",
      "lower_ci          -0.257450  -0.324175  -0.150783  -0.788085  -0.268967   \n",
      "std                0.866281   0.823361   0.880783   1.547581   0.600109   \n",
      "iqr                1.220332   0.774040   1.173032   1.866595   0.455900   \n",
      "iqr_normal         0.904633   0.573797   0.869570   1.383709   0.337959   \n",
      "mad                0.696300   0.556041   0.700227   1.257709   0.403634   \n",
      "mad_normal         0.872682   0.696895   0.877605   1.576305   0.505881   \n",
      "coef_var          -9.882045  -5.057510  40.315579  -3.192440  -3.965111   \n",
      "range              2.514768   2.889136   2.903603   4.598605   2.228215   \n",
      "max                1.458946   0.788044   1.426277   1.386525   0.671509   \n",
      "min               -1.055823  -2.101093  -1.477326  -3.212081  -1.556706   \n",
      "skew               0.621923  -1.182308  -0.110031  -0.582020  -1.165771   \n",
      "kurtosis           2.083665   4.191979   2.178047   2.099710   4.236195   \n",
      "jarque_bera        0.994509   2.921762   0.301681   0.902296   2.901779   \n",
      "jarque_bera_pval   0.608198   0.232032   0.859985   0.636897   0.234362   \n",
      "mode              -1.055823  -2.101093  -1.477326  -3.212081  -1.556706   \n",
      "mode_freq          0.100000   0.100000   0.100000   0.100000   0.100000   \n",
      "median            -0.259626  -0.203613   0.127268  -0.060631  -0.028983   \n",
      "\n",
      "                          5          6          7          8          9  \n",
      "nobs              10.000000  10.000000  10.000000  10.000000  10.000000  \n",
      "missing            0.000000   0.000000   0.000000   0.000000   0.000000  \n",
      "mean               0.273284   0.205051   0.023256   0.102842  -0.209529  \n",
      "std_err            0.061042   0.087203   0.126508   0.103825   0.072225  \n",
      "upper_ci           0.392923   0.375966   0.271207   0.306335  -0.067971  \n",
      "lower_ci           0.153644   0.034137  -0.224696  -0.100650  -0.351088  \n",
      "std                0.610416   0.872028   1.265081   1.038247   0.722251  \n",
      "iqr                0.780093   1.144017   1.897466   1.087920   1.181144  \n",
      "iqr_normal         0.578284   0.848061   1.406594   0.806476   0.875583  \n",
      "mad                0.476876   0.702078   0.962314   0.802775   0.623214  \n",
      "mad_normal         0.597675   0.879924   1.206082   1.006129   0.781083  \n",
      "coef_var           2.233637   4.252729  54.398852  10.095509  -3.447017  \n",
      "range              2.012750   2.399845   3.639744   3.386568   1.965249  \n",
      "max                1.364230   1.624449   1.719675   1.524333   0.677055  \n",
      "min               -0.648519  -0.775396  -1.920069  -1.862235  -1.288194  \n",
      "skew               0.305785   0.606322  -0.150434  -0.368515  -0.382710  \n",
      "kurtosis           2.245390   1.963650   1.837083   2.477825   1.604283  \n",
      "jarque_bera        0.393106   1.060220   0.601208   0.339950   1.055789  \n",
      "jarque_bera_pval   0.821558   0.588540   0.740371   0.843686   0.589846  \n",
      "mode              -0.648519  -0.775396  -1.920069  -1.862235  -1.288194  \n",
      "mode_freq          0.100000   0.100000   0.100000   0.100000   0.100000  \n",
      "median             0.228023  -0.050927   0.073169   0.306686   0.022939  \n"
     ]
    }
   ],
   "source": [
    "predictions = client.deployments.score(deployment_id, scoring_payload)\n",
    "print(data_description[\"predictions\"][0][\"values\"])"
   ]
  },
  {
   "cell_type": "markdown",
   "metadata": {},
   "source": [
    "<a id=\"cleanup\"></a>\n",
    "## 6. Clean up   "
   ]
  },
  {
   "cell_type": "markdown",
   "metadata": {},
   "source": [
    "If you want to clean up all created assets:\n",
    "- experiments\n",
    "- trainings\n",
    "- pipelines\n",
    "- model definitions\n",
    "- models\n",
    "- functions\n",
    "- deployments\n",
    "\n",
    "please follow up this sample [notebook](https://github.com/IBM/watson-machine-learning-samples/blob/master/cpd4.7/notebooks/python_sdk/instance-management/Machine%20Learning%20artifacts%20management.ipynb)."
   ]
  },
  {
   "cell_type": "markdown",
   "metadata": {},
   "source": [
    "<a id=\"summary\"></a>\n",
    "## 7. Summary and next steps     "
   ]
  },
  {
   "cell_type": "markdown",
   "metadata": {},
   "source": [
    " You successfully completed this notebook! You learned how to use Watson Machine Learning for function deployment and scoring with custom software_spec.  \n",
    " Check out our [Online Documentation](https://dataplatform.cloud.ibm.com/docs/content/wsj/getting-started/welcome-main.html?context=analytics) for more samples, tutorials, documentation, how-tos, and blog posts. "
   ]
  },
  {
   "cell_type": "markdown",
   "metadata": {},
   "source": [
    "### Author\n",
    "\n",
    "**Jan Sołtysik** Intern in Watson Machine Learning."
   ]
  },
  {
   "cell_type": "markdown",
   "metadata": {},
   "source": [
    "Copyright © 2020, 2021, 2022, 2023 IBM. This notebook and its source code are released under the terms of the MIT License."
   ]
  }
 ],
 "metadata": {
  "kernelspec": {
   "display_name": "Python 3 (ipykernel)",
   "language": "python",
   "name": "python3"
  },
  "language_info": {
   "codemirror_mode": {
    "name": "ipython",
    "version": 3
   },
   "file_extension": ".py",
   "mimetype": "text/x-python",
   "name": "python",
   "nbconvert_exporter": "python",
   "pygments_lexer": "ipython3",
   "version": "3.10.8"
  }
 },
 "nbformat": 4,
 "nbformat_minor": 4
}
